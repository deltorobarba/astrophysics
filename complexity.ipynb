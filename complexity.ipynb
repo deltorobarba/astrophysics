{
  "nbformat": 4,
  "nbformat_minor": 0,
  "metadata": {
    "colab": {
      "provenance": [],
      "collapsed_sections": [
        "GL1iMe8igraR",
        "UQgau4E3u8MF",
        "y7r0yPBYKf60",
        "iptu2LVks6If",
        "jBh1Tr-vn_4f",
        "cqdowsM5oHEP",
        "1fAAZcgWoiJB",
        "cyrUknMLo8bl",
        "M0kD-s4t82ez",
        "9GXuS8c94Iay",
        "gXZXzSSsrrUL",
        "VHiwFI7ovP7J",
        "dcFMdt_xthGK",
        "cPAo7HRV06Ol",
        "3hazOulegQat",
        "EBxdSfTogMN6",
        "RscthBMzOLUM",
        "7sf5tauFtttx",
        "jdJ5yNTZibYy",
        "AZ-w7Fv4O91T",
        "k5rk1UYyjFyF",
        "vLLaN6mPXKth",
        "efzpvSJocU3I",
        "Gj-d2EYc2e7s",
        "gNGVQC0OENoM",
        "hlzi59BP8aqU",
        "2rAAm4JiTDN3",
        "2Xmk4oUjXRHh",
        "ql8hl9HHzAOe",
        "-OrLJOuEP4GO",
        "qOXTdQWbu6wm",
        "GwAZXBb_beZP",
        "8fYo65BMPmqp",
        "P4NJL0kOLbfi",
        "Dgy31jigwHId",
        "DOOx_crf83HT",
        "I2xPw5u9vGWI",
        "y4YO0LQ4A4IX",
        "aZ3xS4t7CWRV",
        "gj5tJ7BnBLC0",
        "XW6H46KpBVW-",
        "nMRTXb5a56Aq",
        "AbTRWe0r27UX",
        "fP_EL_HY_Xew"
      ],
      "include_colab_link": true
    },
    "kernelspec": {
      "name": "python3",
      "display_name": "Python 3"
    },
    "gpuClass": "standard"
  },
  "cells": [
    {
      "cell_type": "markdown",
      "metadata": {
        "id": "view-in-github",
        "colab_type": "text"
      },
      "source": [
        "<a href=\"https://colab.research.google.com/github/deltorobarba/sciences/blob/master/complexity.ipynb\" target=\"_parent\"><img src=\"https://colab.research.google.com/assets/colab-badge.svg\" alt=\"Open In Colab\"/></a>"
      ]
    },
    {
      "cell_type": "markdown",
      "source": [
        "# <font color=\"blue\">**Computational Complexity 🦋**"
      ],
      "metadata": {
        "id": "2VU6BC9nYCGr"
      }
    },
    {
      "cell_type": "markdown",
      "source": [
        "![sciences](https://raw.githubusercontent.com/deltorobarba/repo/master/sciences_0000.png)"
      ],
      "metadata": {
        "id": "EChUkdiQsKjJ"
      }
    },
    {
      "cell_type": "markdown",
      "source": [
        "#### <font color=\"blue\">**Quantum Algorithms**"
      ],
      "metadata": {
        "id": "GL1iMe8igraR"
      }
    },
    {
      "cell_type": "markdown",
      "source": [
        "###### *Quantum Gates and Circuits*"
      ],
      "metadata": {
        "id": "UQgau4E3u8MF"
      }
    },
    {
      "cell_type": "markdown",
      "source": [
        "**Quantum Gates and Gradients (Weyl chamber of canonical non-local 2-qubit gates)**\n",
        "\n",
        "* Video: [Quantum Gates and Gradients](https://www.youtube.com/watch?v=cobp2Sf5f3o&t=880s)\n",
        "\n",
        "![sciences](https://raw.githubusercontent.com/deltorobarba/repo/master/sciences_1691.png)\n",
        "\n",
        "![sciences](https://raw.githubusercontent.com/deltorobarba/repo/master/sciences_1692.png)\n",
        "\n",
        "In quantum computing, the Weyl chamber of canonical non-local 2-qubit gates is a geometric representation of the space of all non-local two-qubit gates. It is a three-dimensional tetrahedron, with each vertex representing a particular type of gate. The Weyl chamber is useful for understanding the relationships between different gates, and for identifying important classes of gates.\n",
        "\n",
        "![sciences](https://raw.githubusercontent.com/deltorobarba/repo/master/sciences_1694.png)\n",
        "\n",
        "The Weyl chamber is constructed from the canonical decomposition of non-local two-qubit gates. This decomposition involves representing each gate as a linear combination of three Pauli matrices (X, Y, and Z) acting on the two qubits. The coefficients of these matrices are called the canonical coordinates of the gate. The Weyl chamber is then defined as the set of all vectors in three-dimensional space whose canonical coordinates satisfy certain constraints.\n",
        "\n",
        "The vertices of the Weyl chamber correspond to the following four types of gates:\n",
        "\n",
        "* **Identity:** The identity gate, which does not change the state of the two qubits.\n",
        "\n",
        "* **CNOT:** The controlled-NOT gate, which flips the state of the target qubit if and only if the control qubit is in the state 1.\n",
        "\n",
        "* **Swap:** The swap gate, which exchanges the states of the two qubits.\n",
        "\n",
        "* **√Swap:** The square root of the swap gate, which is a gate that is halfway between the identity and the swap gate.\n",
        "\n",
        "The interior of the Weyl chamber consists of a much larger number of gates, including all of the other possible two-qubit gates that can be constructed from the Pauli matrices. These gates can be classified by their entanglement properties, their ability to generate certain types of states, and their performance in quantum algorithms.\n",
        "\n",
        "The Weyl chamber is a useful tool for understanding the structure of two-qubit quantum gates. It allows us to visualize the relationships between different gates, and to identify important classes of gates. The Weyl chamber can also be used to design new gates and algorithms.\n",
        "\n",
        "![sciences](https://raw.githubusercontent.com/deltorobarba/repo/master/sciences_1693.png)"
      ],
      "metadata": {
        "id": "o0J_Y6zgSRNW"
      }
    },
    {
      "cell_type": "markdown",
      "source": [
        "**Stabilizer Circuits (Clifford Group & Pauli Gate)**"
      ],
      "metadata": {
        "id": "2wucAxpmEbW4"
      }
    },
    {
      "cell_type": "markdown",
      "source": [
        "https://en.m.wikipedia.org/wiki/Stabilizer_code\n",
        "\n",
        "https://en.m.wikipedia.org/wiki/Five-qubit_error_correcting_code"
      ],
      "metadata": {
        "id": "67c8czs0O86E"
      }
    },
    {
      "cell_type": "markdown",
      "source": [
        "Video: [Linear Growth of Quantum Circuit Complexity](https://www.youtube.com/watch?v=McfxzoMw1Ig)\n",
        "\n",
        "Video: [Estimating the Fault Tolerant Cost of Classically Intractable Quantum Computations](https://www.youtube.com/watch?v=H1UdcAdw5kg)\n",
        "\n",
        "Video: [Crypto and Privacy Village 2021 Day 1](https://www.youtube.com/watch?v=8dcl9GTPebU)"
      ],
      "metadata": {
        "id": "Dq_P0-YlMDkG"
      }
    },
    {
      "cell_type": "markdown",
      "source": [
        "**Why is the Pauli z operator a stabilizer for state |0>?**\n",
        "\n",
        "The Pauli-Z operator \\( Z \\) is given by:\n",
        "\n",
        "$\n",
        "Z = \\begin{pmatrix}\n",
        "1 & 0 \\\\\n",
        "0 & -1 \\\\\n",
        "\\end{pmatrix}\n",
        "$\n",
        "\n",
        "A stabilizer for a quantum state \\( $|\\psi\\rangle$ \\) is an operator \\( S \\) such that:\n",
        "\n",
        "$\n",
        "S |\\psi\\rangle = |\\psi\\rangle\n",
        "$\n",
        "\n",
        "That is, applying the stabilizer leaves the state unchanged.\n",
        "\n",
        "Now, let's see if the Pauli-Z operator is a stabilizer for the state \\( |0\\rangle \\). The state \\( |0\\rangle \\) is represented as:\n",
        "\n",
        "$\n",
        "|0\\rangle = \\begin{pmatrix}\n",
        "1 \\\\\n",
        "0 \\\\\n",
        "\\end{pmatrix}\n",
        "$\n",
        "\n",
        "Applying the Pauli-Z operator to this state:\n",
        "\n",
        "$\n",
        "Z |0\\rangle = \\begin{pmatrix}\n",
        "1 & 0 \\\\\n",
        "0 & -1 \\\\\n",
        "\\end{pmatrix}\n",
        "\\begin{pmatrix}\n",
        "1 \\\\\n",
        "0 \\\\\n",
        "\\end{pmatrix}\n",
        "= \\begin{pmatrix}\n",
        "1 \\\\\n",
        "0 \\\\\n",
        "\\end{pmatrix}\n",
        "= |0\\rangle\n",
        "$\n",
        "\n",
        "Indeed, $Z |0\\rangle = |0\\rangle$, so the Pauli-Z operator is a stabilizer for the state $|0\\rangle$.\n",
        "\n",
        "The identity operator $I$ is also a stabilizer!"
      ],
      "metadata": {
        "id": "CKvI_-fHHlhG"
      }
    },
    {
      "cell_type": "markdown",
      "source": [
        "**Stabilizer Circuits:**  *Generate stabilizer states (don't change eigenvalues of Pauli matrices), but can be efficienly simulated classically + are not universal. Sometimes are transversal (=automatically fault-tolerant).*\n",
        "\n",
        "  * **Group Generators and Stabilizer States**:\n",
        "\n",
        "    * [Clifford group](https://en.m.wikipedia.org/wiki/Clifford_gates) consists of a set of n-qubit operations generated by three gates: CNOT, H and S. [Construct a single qubit gate Pauli gates X, Y, Z from S, H and Pauli gates](https://quantumcomputing.stackexchange.com/questions/29035/constructing-a-single-qubit-gate-from-s-h-and-pauli-gates)\n",
        "\n",
        "    * **The Clifford Group is the group of operators which maps the Pauli Group {I, X, Y, Z} onto itself**\n",
        "\n",
        "      * The Pauli matrices are [involutory](https://en.m.wikipedia.org/wiki/Involutory_matrix) (a square matrix that is its own inverse): I^2 = X^2 = Y^2 = Z^2 = -i X Y Z = I\n",
        "\n",
        "      * The Pauli matrices also [anti-commute](https://en.m.wikipedia.org/wiki/Anticommutative_property), for example Z X = i Y = -X Z\n",
        "\n",
        "      * The [rotation operators](https://en.m.wikipedia.org/wiki/List_of_quantum_logic_gates#Rotation_operator_gates) Rx(θ), Ry(θ), Rz(θ), the [phase shift gate](https://en.m.wikipedia.org/wiki/Quantum_logic_gate#Phase_shift_gates) P(φ) and [CNOT](https://en.m.wikipedia.org/wiki/Quantum_logic_gate#CNOT) form a universal set of quantum gates [Source](https://en.m.wikipedia.org/wiki/Quantum_logic_gate) (due to phase shift it is universal)\n",
        "\n",
        "    * **Stabilizer states: Clifford gates \"preserve\" Pauli group: when you apply a Clifford gate to a Pauli operator, the result is another Pauli operator. Clifford group generates [stabilizer states](https://en.m.wikipedia.org/wiki/Stabilizer_code)** or stabilizer circuits = circuits that only consist of gates from the normalizer of the qubit Pauli group = CNOT, Hadamard, and phase gate.\n",
        "\n",
        "    * Clifford gates can be efficiently implemented in many physical systems = they are NOT expensive (like T gate) = based on surface code\n",
        "\n",
        "    * Clifford-group elements take stabilizer groups to stabilizer groups and thus stabilizer states to stabilizer states. A Clifford unitary can be multiplied by a phase without changing how it conjugates operators. http://info.phys.unm.edu/~caves/reports/stabilizer.pdf. https://arxiv.org/pdf/1603.03999.pdf. Paper: [On Clifford groups in quantum computing](https://arxiv.org/abs/1810.10259)\n",
        "  \n",
        "  * **Bad thing**: Stabilizer circuits can be efficiently and perfectly simulated classically according to the [Gottesman–Knill theorem](https://en.m.wikipedia.org/wiki/Gottesman%E2%80%93Knill_theorem) (in polynomial time on a probabilistic classical computer).\n",
        "\n",
        "    1. Preparation of qubits in computational basis states,\n",
        "    2. Clifford gates (Hadamard gates, controlled NOT gates, phase gate S ), and\n",
        "    3. Measurements in the computational basis.\n",
        "\n",
        "  * **Solution**: Because there are quantum operations that don't preserve the Pauli group, we need non-Clifford gates to achieve universal quantum computing like tha T-gate). [Magic States](https://en.m.wikipedia.org/wiki/Magic_state_distillation) can help to implement them efficiently. <font color=\"red\"> Note: why can't you simulate a T-gate in polynomial time?\n",
        "\n",
        "    * Universal Quantum Gates = Any quantum operation can be constructed to any desired level of precision.\n",
        "\n",
        "    * You need: Clifford gate (H, S, CNOT) +  Non Clifford gate (T). Alternatively: Toffoli gate + H. Alternatively: Single-qubit rotation gates (Pauli gates) + CNOT gate + Phase shift (incl. Z, S, T gate).\n",
        "\n",
        "    * Classically: One can show that the AND, NOT and OR gates form a universal set which means that any logical operation on a arbitrary number of qubits can be expressed in terms of these gates. Thus, classically, we only need 1-bit and 2-bit gates to perform any operation. https://young.physics.ucsc.edu/150/gates.pdf"
      ],
      "metadata": {
        "id": "KXLuIdIBcD7Z"
      }
    },
    {
      "cell_type": "markdown",
      "source": [
        "**Synthesizing**\n",
        "* a rotation (with a T gate): find interatively a sequence of T gates that can be used to implement a desired rotation with minimum number of T gates for a given rotation.\n",
        "* With T-count algorithm in polynomial-time to optimize circuit and make it mofe efficient + fault-tolerant. Example, the rotation that takes the state |0⟩ to the state |+⟩ can be synthesized with a single T gate.\n",
        "* https://www.nature.com/articles/s41534-022-00651-y\n"
      ],
      "metadata": {
        "id": "zm-zEdmqu2oo"
      }
    },
    {
      "cell_type": "markdown",
      "source": [
        "*Pauli Gates*"
      ],
      "metadata": {
        "id": "0LWkHsu1_r51"
      }
    },
    {
      "cell_type": "markdown",
      "source": [
        "https://medium.com/quantum-untangled/visualizing-quantum-logic-gates-part-1-515bb7b58916\n",
        "\n",
        "Nice visualisations: https://medium.com/analytics-vidhya/quantum-gates-7fe83817b684\n",
        "\n",
        "https://pme.uchicago.edu/awschalom-group/all-optical-holonomic-single-qubit-gates\n"
      ],
      "metadata": {
        "id": "PGcrDhdstYmq"
      }
    },
    {
      "cell_type": "markdown",
      "source": [
        "**Pauli-X Gate (Flip Computational States)**\n",
        "\n",
        "> $X=\\left[\\begin{array}{ll}0 & 1 \\\\ 1 & 0\\end{array}\\right]=\\sigma_{x}=\\mathrm{NOT}$\n",
        "\n",
        "* The Pauli- $X$ gate is the quantum equivalent of the [NOT gate](https://en.m.wikipedia.org/wiki/Inverter_(logic_gate)) for classical computers (its main function is to invert the input signal applied) with respect to the standard basis $|0\\rangle,|1\\rangle$, which distinguishes the $z$ axis on the Bloch sphere. It is sometimes called a bit-flip as it maps $|0\\rangle$ to $|1\\rangle$ and $|1\\rangle$ to $|0\\rangle .$\n",
        "\n",
        "* The Pauli gates $(X, Y, Z)$ are the three Pauli matrices $\\left(\\sigma_{x}, \\sigma_{y}, \\sigma_{z}\\right)$ and act on a single qubit. The Pauli $X_{1} Y$ and $Z$ equate, respectively, to a rotation around the $x, y$ and $z$ axes of the Bloch sphere by $\\pi$ radians.\n",
        "\n",
        "* Nice visualisations: https://medium.com/analytics-vidhya/quantum-gates-7fe83817b684\n",
        "\n"
      ],
      "metadata": {
        "id": "zDXxSuLakwyP"
      }
    },
    {
      "cell_type": "markdown",
      "source": [
        "**Square Root of Pauli-X Gate**\n",
        "\n",
        "The square root of NOT gate (or square root of Pauli- $X, \\sqrt{X}$ ) acts on a single qubit. It maps the basis state $|0\\rangle$ to $\\frac{(1+i)|0\\rangle+(1-i)|1\\rangle}{2}$ and $|1\\rangle$ to $\\frac{(1-i)|0\\rangle+(1+i)|1\\rangle}{2} .$\n",
        "\n",
        "In matrix form it is given by\n",
        "\n",
        ">$\n",
        "\\sqrt{X}=\\sqrt{\\mathrm{NOT}}=\\frac{1}{2}\\left[\\begin{array}{cc}\n",
        "1+i & 1-i \\\\\n",
        "1-i & 1+i\n",
        "\\end{array}\\right]=\\frac{1}{\\sqrt{2}}\\left[\\begin{array}{cc}\n",
        "e^{i \\pi / 4} & e^{-i \\pi / 4} \\\\\n",
        "e^{-i \\pi / 4} & e^{i \\pi / 4}\n",
        "\\end{array}\\right]$\n",
        "\n",
        "such that\n",
        "\n",
        ">$\n",
        "(\\sqrt{X})^{2}=(\\sqrt{\\mathrm{NOT}})^{2}=\\left[\\begin{array}{ll}\n",
        "0 & 1 \\\\\n",
        "1 & 0\n",
        "\\end{array}\\right]=X\n",
        "$\n",
        "\n",
        "> *This operation represents a rotation of $\\pi / 2$ about $x$ -axis at the Bloch sphere*."
      ],
      "metadata": {
        "id": "PeMSkgSzlzsj"
      }
    },
    {
      "cell_type": "markdown",
      "source": [
        "**Pauli-Y Gate (Phase Flip between i and -i)**\n",
        "\n",
        "> $Y=\\sigma_{y}=\\left[\\begin{array}{cc}0 & -i \\\\ i & 0\\end{array}\\right]$\n",
        "\n",
        "* Similarly, the Pauli- $Y$ maps $|0\\rangle$ to $i|1\\rangle$ and $|1\\rangle$ to $-i|0\\rangle$ (NOT gate with i-multiple):\n"
      ],
      "metadata": {
        "id": "htDSfNdzJulw"
      }
    },
    {
      "cell_type": "markdown",
      "source": [
        "**Pauli-Z Gate ($\\pi$ Flip Phase between +1 and -1)**\n",
        "\n",
        "> $Z=\\left[\\begin{array}{cc}1 & 0 \\\\ 0 & -1\\end{array}\\right]=\\sigma_{z}\\quad Z=|0\\rangle\\langle 0|-| 1\\rangle\\langle 1|$\n",
        "\n",
        "* Pauli Z gate is a phase flip gate that causes rotation around the z-axis by π radians. Z flippt zwischen den Polen der X Achse (+ und -).\n",
        "\n",
        "* *Z Gate flippt zwischen den Hadamard gegenüberliegenden Richtungen auf der X-Achse. We change the phase (or sign) on a Qubit*:\n",
        "\n",
        "> $\\mathbf{Z}|0\\rangle=|0\\rangle$\n",
        "\n",
        "> $\\mathbf{Z}|1\\rangle=-|1\\rangle$\n",
        "\n",
        "* Since |0⟩ and |1⟩ lie on the z-axis, the Z-gate will not affect these states. To put it in other terms *|0⟩ and |1⟩ are the two eigenstates of the Z-gate*. On the other hand, it flips |+⟩ to |-⟩ and |-⟩ to |+⟩.\n",
        "\n",
        "* Pauli $Z$ leaves the basis state $|0\\rangle$ unchanged and maps $|1\\rangle$ to $-|1\\rangle$. Due to this nature, it is sometimes called *phase-flip* (flips sign of second entangled state)\n",
        "\n",
        "* *The Z gate is like the X gate but in the hadamard basis, flipping states*"
      ],
      "metadata": {
        "id": "qj2bMNDwLoDE"
      }
    },
    {
      "cell_type": "markdown",
      "source": [
        "**Pauli-S Gate: $\\frac{\\pi}{2}$ Flip Phase between Z and Y (with $\\mu$=i and $\\nu$=-i)**\n",
        "\n",
        "> ${S}=\\left[\\begin{array}{cc}1 & 0 \\\\ 0 & i\\end{array}\\right]=\\left[\\begin{array}{cc}1 & 0 \\\\ 0 & \\sqrt{-1}\\end{array}\\right]=\\sqrt{\\mathbf{Z}}$\n",
        "\n",
        "* The phase gate $\\mathbf{Z}$ transforms $|+\\rangle$ to $|-\\rangle$, and we can find the gate that does \"half of\" this transformation by finding the square root of the matrix $\\mathbf{Z}$\n",
        "\n",
        "* fintuning Z gate in der Hadamard basis: S-gate is die Hälfte vom Z-Gate, und R-Gate ein viertel vom Z-Gate\n",
        "\n",
        "* Use the matrix $\\mathbf{S}$ to find the state $|\\mu\\rangle$ which is \"halfway\" between $|+\\rangle$ and $|-\\rangle$ :\n",
        "\n",
        "> $\\mathbf{S}|+\\rangle=|\\mu\\rangle =\\frac{1}{\\sqrt{2}}(|0\\rangle+i|1\\rangle)$\n",
        "\n",
        "If you begin with $|+\\rangle$ and apply the $\\mathbf{S}$ gate three times in a row, you find a new state, $|\\nu\\rangle$ which appears to mirror the complex state $|\\mu\\rangle$ :\n",
        "\n",
        "> $|\\mu\\rangle=\\frac{1}{\\sqrt{2}}(|0\\rangle+i|1\\rangle)$\n",
        "\n",
        "> $|\\nu\\rangle=\\frac{1}{\\sqrt{2}}(|0\\rangle-i|1\\rangle) .$"
      ],
      "metadata": {
        "id": "Frcfbnlgr6d-"
      }
    },
    {
      "cell_type": "markdown",
      "source": [
        "We've already uncovered the gates we need to perform any rotations around the $x$ - and $z$-axes, which can bring us from an initialized qubit to any other quantum state.\n",
        "\n",
        "Unfortunately, this result comes with a pretty serious caveat: all of the gates we have used so far are discrete. They perform rotations around the Bloch sphere, but since they rotate in discrete hops (of $\\pi / 2$ or $\\pi$ ), they are unable to reach most of the intermediate states on the surface of the sphere.\n",
        "\n",
        "One solution to this problem is to define smaller and smaller rotations around these axes. The gate $\\mathbf{S}$ is equal to $\\sqrt{\\mathbf{Z}}$ and halves its rotation angle from $\\pi$ to $\\pi / 2$. Even greater division of these gates is possible, and some of them have\n",
        "common names:\n",
        "\n",
        "$\\mathbf{Z}=\\mathbf{Z}=\\left[\\begin{array}{cc}1 & 0 \\\\ 0 & -1\\end{array}\\right]$ Rotation: $\\pi$\n",
        "\n",
        "$\\mathbf{S}=\\sqrt[2]{\\mathbf{Z}}=\\left[\\begin{array}{cc}1 & 0 \\\\ 0 & i\\end{array}\\right]$ Rotation: $\\pi / 2$\n",
        "\n",
        "\n",
        "$\\mathbf{T}=\\sqrt[4]{\\mathbf{Z}}=\\left[\\begin{array}{cc}1 & 0 \\\\ 0 & e^{i \\pi / 4}\\end{array}\\right] \\quad$ Rotation: $\\pi / 4$ not clifford\n",
        "\n",
        "$\\mathbf{R 8}=\\sqrt[8]{\\mathbf{Z}}=\\left[\\begin{array}{cc}1 & 0 \\\\ 0 & e^{i \\pi / 8}\\end{array}\\right] \\quad$ Rotation: $\\pi / 8 .$ not clifford"
      ],
      "metadata": {
        "id": "6jspQ2kndBZg"
      }
    },
    {
      "cell_type": "markdown",
      "metadata": {
        "id": "Xjqz8Hkol68T"
      },
      "source": [
        "**Swap Gate**\n",
        "\n",
        "*2 Qubits - Swap Gate (& Swap Square root): Swap two Qubits (like in Quantum Fourier Transform)*\n",
        "\n",
        "The swap gate **swaps two qubits**.\n",
        "\n",
        "With respect to the basis $|00\\rangle,|01\\rangle,|10\\rangle,|11\\rangle$, it is represented by the matrix:\n",
        "\n",
        ">$\n",
        "\\text { SWAP }=\\left[\\begin{array}{llll}\n",
        "1 & 0 & 0 & 0 \\\\\n",
        "0 & 0 & 1 & 0 \\\\\n",
        "0 & 1 & 0 & 0 \\\\\n",
        "0 & 0 & 0 & 1\n",
        "\\end{array}\\right]\n",
        "$"
      ]
    },
    {
      "cell_type": "markdown",
      "metadata": {
        "id": "OzlOABhWmMms"
      },
      "source": [
        "**Square root of swap gate**\n",
        "\n",
        "The $\\sqrt{\\text { SWAP }}$ gate performs half-way of a two-qubit swap.\n",
        "\n",
        "It is universal such that any many-qubit gate can be constructed from only $\\sqrt{\\text { SWAP }}$ and single qubit gates.\n",
        "\n",
        "The $\\sqrt{\\text { SWAP }}$ gate is not, however maximally entangling; more than one application of it is required to produce a Bell state from product states.\n",
        "\n",
        "With respect to the basis $|00\\rangle,|01\\rangle,|10\\rangle,|11\\rangle$, it is represented by the matrix:\n",
        "\n",
        ">$\n",
        "\\sqrt{\\mathrm{SWAP}}=\\left[\\begin{array}{cccc}\n",
        "1 & 0 & 0 & 0 \\\\\n",
        "0 & \\frac{1}{2}(1+i) & \\frac{1}{2}(1-i) & 0 \\\\\n",
        "0 & \\frac{1}{2}(1-i) & \\frac{1}{2}(1+i) & 0 \\\\\n",
        "0 & 0 & 0 & 1\n",
        "\\end{array}\\right]\n",
        "$\n",
        "\n",
        "This gate arises naturally in systems that exploit exchange interaction."
      ]
    },
    {
      "cell_type": "markdown",
      "source": [
        "**Transversal Gate (Eastin–Knill theorem)**"
      ],
      "metadata": {
        "id": "Z5VmP1XnIHWa"
      }
    },
    {
      "cell_type": "markdown",
      "source": [
        "https://arthurpesah.me/blog/2023-12-25-transversal-gates/"
      ],
      "metadata": {
        "id": "vzCwuL1sZypU"
      }
    },
    {
      "cell_type": "markdown",
      "source": [
        "**Transversality**\n",
        "\n",
        "* **Transversal gates**: transversal is \"the logical operation is achieved by broadcasting the same operation over the physical qubits\" [Source](https://quantumcomputing.stackexchange.com/questions/24269/what-is-formally-a-transversal-operator). Are automatically fault-tolerant.\n",
        "\n",
        "* Non-Clifford gates (like T-gate) can NOT be implemented transversally in a fault-tolerant manner in any quantum error-correcting code, see [Eastin-Knill theorem](https://en.m.wikipedia.org/wiki/Eastin%E2%80%93Knill_theorem). Because Set of transversal gates is finite group. **A finite group - unlike a finite set - cannot approximate an infinite set of all unitaries arbitrarily well**. [Source](https://quantumcomputing.stackexchange.com/questions/28057/how-to-intuitively-understand-why-t-gate-cant-be-implemented-transversally). So you need at least one non transversal / non-Clifford gate for universality.\n",
        "  \n",
        "* non-transversal gates have higher depth (dominant contributer to fault-tolerant threshold).  Goal: Simplify these implementations. [Source](https://quantumcomputing.stackexchange.com/questions/21580/why-do-we-care-about-the-number-of-t-gates-in-a-quantum-circuit) with magic state distillation.\n",
        "\n",
        "* [Transversal logical gate for Stabilizer (or at least Steane code)](https://quantumcomputing.stackexchange.com/questions/15301/transversal-logical-gate-for-stabilizer-or-at-least-steane-code) and [errorcorrectionzoo](https://errorcorrectionzoo.org/list/quantum_transversal)"
      ],
      "metadata": {
        "id": "IWKsUajQyA1n"
      }
    },
    {
      "cell_type": "markdown",
      "source": [
        "![geometry](https://raw.githubusercontent.com/deltorobarba/repo/master/sciences_1639.png)"
      ],
      "metadata": {
        "id": "i6wGbXqJJ1aX"
      }
    },
    {
      "cell_type": "markdown",
      "source": [
        "https://arxiv.org/abs/0811.4262\n",
        "\n",
        "https://en.m.wikipedia.org/wiki/Eastin%E2%80%93Knill_theorem"
      ],
      "metadata": {
        "id": "OhGA2GT2IKkO"
      }
    },
    {
      "cell_type": "markdown",
      "source": [
        "**Magic State Distillation**"
      ],
      "metadata": {
        "id": "gq1Pg2IZkUmQ"
      }
    },
    {
      "cell_type": "markdown",
      "source": [
        "**Distillation & Magic States** *Some non-Clifford gates are magic states, allow for universal quantum computing*\n",
        "  \n",
        "  * Magic states are specific quantum states that can be used to implement non-Clifford gates (like T-gate) in a fault-tolerant way. A non-Clifford gate, such as the T-gate. All magic states are non-Clifford gates, but not all non-Clifford gates are magic states.\n",
        "\n",
        "  * [Magic States](https://en.m.wikipedia.org/wiki/Magic_state_distillation) are non-Clifford gates that can be used to efficiently implement Clifford gates and perform any quantum algorithm. They are not stabilizer states (not invariant under the action of the Pauli matrices = resulting state will have different eigenvalues) and have very nice properties with respect to fault-tolerant quantum computation. <font color=\"red\"> Note: what are these properties?</font>  [what-are-magic-states](https://quantumcomputing.stackexchange.com/questions/13629/what-are-magic-states)\n",
        "  \n",
        "  * Magic States are a key component of the [\"magic state **distillation**\"](https://en.m.wikipedia.org/wiki/Magic_state_distillation) protocol, a technique used in quantum error correction. Then, using a procedure called **gate injection or state injection**, these magic states can be used to effectively implement non-Clifford gates in a fault-tolerant manner. This is done by preparing the magic state, performing some Clifford operations and measurements (which can be done fault-tolerantly), and using the outcomes to adaptively apply further Clifford operations.\n",
        "    \n",
        "  * **Distillation**: This protocol involves preparing many noisy copies of a magic state, then performing a series of operations to \"distill\" these into fewer, higher-fidelity magic states. Distillation: purifying a quantum state by combining multiple copies of the state. Goal is to produce a state with high fidelity (close to desired state, e.g. closer to ideal T gate than the input states). T gate can be distilled efficiently (relative to alternatives) because it is a **magic state** = there are a number of different distillation protocols that have high yields (high efficiency).\n",
        "      \n",
        "  * https://en.m.wikipedia.org/wiki/Five-qubit_error_correcting_code\n",
        "\n",
        "  * https://www.nature.com/articles/s41534-022-00666-5\n",
        "\n",
        "**quantum gate injection or magic state injection**\n",
        "\n",
        "https://quantumcomputing.stackexchange.com/questions/28481/is-this-kind-of-t-injection-correct\n",
        "\n",
        "**lattice surgery**: Lattice surgery is a method to perform quantum computation fault-tolerantly by using operations on boundary qubits between different patches of the planar code.\n"
      ],
      "metadata": {
        "id": "VnRYxkP9diSK"
      }
    },
    {
      "cell_type": "markdown",
      "source": [
        "**It's a kind of magic.**\n",
        "\n",
        "Quantum states can be much less magical than they computationally appear to be.\n",
        "\n",
        "*A little magic means a lot*\n",
        "\n",
        "https://arxiv.org/abs/2308.16228\n",
        "\n",
        "Notions of so-called #magic quantify how non-classical #quantumstates are in a precise sense: high values of magic are necessary to demonstrate a quantum advantage in #quantumcomputing; they also play a key role in #quantumerrorcorrection.\n",
        "\n",
        "In this work, we introduce the phenomenon of `#pseudomagic' - wherein certain ensembles of quantum states with low magic are computationally indistinguishable from quantum states with high magic. Previously, such computational indistinguishability has been studied with respect to entanglement, by introducing the notion of #pseudoentanglement. However, we show that pseudomagic neither follows from pseudoentanglement, nor implies it.\n",
        "\n",
        "In terms of applications, pseudomagic sheds new light on the theory of #quantumchaos: it reveals the existence of states that, although built from non-chaotic unitaries, cannot be distinguished from #randomchaoticstates by any physical observer. Further applications include new lower bounds on #statesynthesis problems, #propertytesting protocols, as well as implications for #quantumcryptography.\n",
        "\n",
        "Our results have the conceptual implication that magic is a `hide-able' property of quantum states: some states have a lot more magic than meets the (computationally-bounded) eye. From the physics perspective, it advocates the mindset that the only physical properties that can be measured in a laboratory are those that are efficiently computationally detectable."
      ],
      "metadata": {
        "id": "Q4RHws1hTcz8"
      }
    },
    {
      "cell_type": "markdown",
      "source": [
        "**can you give me an example of magic state distillation in quantum computing?**\n",
        "\n",
        "Certainly! Magic state distillation is a protocol used to produce fault-tolerant, high-fidelity \"magic states\" from noisy versions of those states. These magic states can be used to perform non-Clifford gates, which are essential for universal quantum computation but are generally not directly implementable in a fault-tolerant manner.\n",
        "\n",
        "The core idea is to take multiple copies of a noisy magic state, process them together using quantum operations, and produce a smaller number of less-noisy magic states.\n",
        "\n",
        "Here's a simplified outline of the process using the $|T\\rangle$ state, a commonly used magic state:\n",
        "\n",
        "1. **Preparation**: Prepare multiple copies of the noisy $|T\\rangle$ state:\n",
        "$|T\\rangle = \\cos(\\frac{\\pi}{8})|0\\rangle + e^{i \\frac{\\pi}{4}}\\sin(\\frac{\\pi}{8})|1\\rangle$ - (Stimmt das?)\n",
        "\n",
        "2. **Encoding**: Encode these states using a specially designed quantum error-correcting code. For our purposes, think of this as a way to \"spread out\" the errors.\n",
        "\n",
        "3. **Verification**: Perform a quantum error-detection procedure on the encoded states. If the procedure detects an error, the states are discarded, and the process starts over.\n",
        "\n",
        "4. **Decoding**: If no error is detected, decode the protected information to produce a fewer number of $|T\\rangle$ states that have a higher fidelity than the initial states.\n",
        "\n",
        "The process can be iteratively repeated, using the distilled states as the input for another round of distillation until the desired fidelity is achieved.\n",
        "\n",
        "While this is a conceptual overview, the real magic state distillation involves a deeper dive into the specifics of the error-correcting codes and quantum circuits used for encoding, verification, and decoding. Researchers have proposed various protocols to optimize the trade-offs in terms of the number of initial states needed, the final fidelity achieved, and the overhead of the quantum operations."
      ],
      "metadata": {
        "id": "Ns9hFthVJwa6"
      }
    },
    {
      "cell_type": "markdown",
      "source": [
        "*(2004) Fault-Tolerant Postselected Quantum Computation: Schemes (**Magic State Distillation**)*"
      ],
      "metadata": {
        "id": "AGZAnbN8AI5n"
      }
    },
    {
      "cell_type": "markdown",
      "source": [
        "https://arxiv.org/abs/quant-ph/0402171\n",
        "\n",
        "https://arxiv.org/abs/quant-ph/0403025\n",
        "\n",
        "https://en.m.wikipedia.org/wiki/Magic_state_distillation#:~:text=Magic%20state%20distillation%20is%20a,contribute%20to%20quantum%20computers'%20power."
      ],
      "metadata": {
        "id": "y4KmoFxr5d-U"
      }
    },
    {
      "cell_type": "markdown",
      "source": [
        "https://arxiv.org/abs/1209.2426"
      ],
      "metadata": {
        "id": "zh2Dim8aNpBH"
      }
    },
    {
      "cell_type": "markdown",
      "source": [
        "Magic state distillation is a process in quantum computing which aims to produce high-quality, or \"magic\", quantum states from imperfect ones, thus helping to correct errors that arise due to the imperfections of physical qubits and quantum gates. This method is used to implement non-Clifford gates, which are a crucial building block for universal quantum computation, but are particularly prone to noise and errors.\n",
        "\n",
        "The term \"distillation\" is used to evoke the idea of refining or purifying a substance, just like in chemistry. In this context, multiple imperfect copies of a quantum state are combined and processed to produce fewer copies with higher fidelity.\n",
        "\n",
        "Magic state distillation is an important part of some quantum error correction schemes, such as the surface code. These schemes are key to creating reliable and scalable quantum computers. However, as of my knowledge cutoff in 2021, practical, large-scale implementations of magic state distillation were yet to be realized, as the process is quite resource-intensive.\n"
      ],
      "metadata": {
        "id": "pcd2jrpe5oWs"
      }
    },
    {
      "cell_type": "markdown",
      "source": [
        "**Magic States**\n",
        "\n",
        "* if we have access to certain specific quantum states, known as magic states, then even with only Clifford gates, we can perform universal quantum computation. This is done by using these magic states as resources in a specific type of quantum protocol called magic state distillation.\n",
        "\n",
        "* These magic states are especially important in quantum error correction because they are resistant to certain types of quantum noise and can be \"distilled\" to produce high-fidelity magic states even when we start with imperfect copies. This makes them very useful in designing fault-tolerant quantum computers, as they can help us overcome the errors that inevitably occur in any real-world quantum system.\n",
        "\n",
        "Magic states are purified from n copies of a mixed state $\\rho$ . These states are typically provided via an ancilla to the circuit. A magic state for the $T$ gate is ${\\displaystyle |M\\rangle =\\cos(\\beta /2)|0\\rangle +e^{i{\\frac {\\pi }{4}}}\\sin(\\beta /2)|1\\rangle }$ where ${\\displaystyle \\beta =\\arccos \\left({\\frac {1}{\\sqrt {3}}}\\right)}$. By combining (copies of) magic states with Clifford gates, can be used to make a non-Clifford gate\n",
        "\n",
        "*The first magic state distillation algorithm, invented by Sergey Bravyi and Alexei Kitaev, is a follows.*\n",
        "\n",
        "* Input: Prepare 5 imperfect states.\n",
        "* Output: An almost pure state having a small error probability.\n",
        "* repeat\n",
        "  * Apply the decoding operation of the five-qubit error correcting code and measure the syndrome.\n",
        "  * If the measured syndrome is ${\\displaystyle |00000\\rangle }$, the distillation attempt is successful.\n",
        "  * else Get rid of the resulting state and restart the algorithm.\n",
        "* until The states have been distilled to the desired purity."
      ],
      "metadata": {
        "id": "9_FS5V9hlPyE"
      }
    },
    {
      "cell_type": "markdown",
      "source": [
        "[**Magic state distillation**](https://en.m.wikipedia.org/wiki/Magic_state_distillation) is a procedure in quantum computation that is used to create high-fidelity quantum states, starting from several copies of a \"noisy\" state. The name \"distillation\" is used because it's similar to the idea of distilling a liquid to increase its purity.\n",
        "\n",
        "The technique was first proposed by Emanuel Knill in 2004, and further analyzed by Sergey Bravyi and Alexei Kitaev the same year.\n",
        "\n",
        "Here's a high-level overview of how it works:\n",
        "\n",
        "1. **Preparation**: Prepare several copies of a quantum state. These states are typically \"noisy\" copies of a desired magic state, meaning they have some errors or deviations from the perfect magic state.\n",
        "\n",
        "2. **Error Detection**: Apply a quantum error-detecting code to these copies. This code is a series of quantum operations that can identify (but not correct) certain errors in the quantum states.\n",
        "\n",
        "3. **Measurement**: Measure the error-detecting code. This does not directly measure the quantum states themselves but measures whether an error has been detected.\n",
        "\n",
        "4. **Post-selection**: If the measurement indicates that no errors were detected, then (due to the properties of quantum mechanics) the quantum states are projected into a state that is closer to the perfect magic state than the original states were. If an error was detected, discard the states and start over.\n",
        "\n",
        "5. **Repeat**: Repeat this process several times. Each time, the states get closer to the perfect magic state.\n",
        "\n",
        "By repeating this process, one can \"distill\" a set of noisy magic states into a smaller number of higher-fidelity magic states. This is a crucial part of many fault-tolerant quantum computing schemes, as it allows one to perform universal quantum computation even in the presence of noise."
      ],
      "metadata": {
        "id": "iFeGkcT-lTDW"
      }
    },
    {
      "cell_type": "markdown",
      "source": [
        "**T-Gate and Toffoli Gate**"
      ],
      "metadata": {
        "id": "gLYqKHKB_yS7"
      }
    },
    {
      "cell_type": "markdown",
      "source": [
        "Video: [Jens Eisert | September 27, 2022 | A Single T-Gate Makes Quantum Distribution Learning Hard](https://www.youtube.com/watch?v=HAKPulM08hs)"
      ],
      "metadata": {
        "id": "K6ehfiAJL4v9"
      }
    },
    {
      "cell_type": "markdown",
      "source": [
        "**What is so special about the T-gate?**\n",
        "\n",
        "* non-Clifford gate, majority of non-Clifford gates used, most expensive gate (based on surface code), for universal quantum gate, controls phase / rotation (phase shift) by $\\frac{i \\pi}{4}$ around Z-axis\n",
        "* [Craig Gidney of why T-gates are best option](https://quantumcomputing.stackexchange.com/questions/33357/universal-gate-set-magic-states-and-costliness-of-the-t-gate/33358#33358)\n",
        "* [Can someone explain to me what is T gate and tdg like im five?](https://quantumcomputing.stackexchange.com/questions/26666/can-someone-explain-to-me-what-is-t-gate-and-tdg-like-im-five)\n",
        "* [Why do we care about the number of 𝑇 gates in a quantum circuit?](https://quantumcomputing.stackexchange.com/questions/21580/why-do-we-care-about-the-number-of-t-gates-in-a-quantum-circuit)\n",
        "\n",
        "> $\\mathbf{T}=\\sqrt[4]{\\mathbf{Z}}=\\left[\\begin{array}{cc}1 & 0 \\\\ 0 & e^{\\frac{i \\pi}{4}}\\end{array}\\right]$\n",
        "\n",
        "> Applying it: $\n",
        "T|1\\rangle=\\left[\\begin{array}{ll}\n",
        "1 & 0 \\\\\n",
        "0 & e^{\\frac{i \\pi}{4}}\n",
        "\\end{array}\\right]\\left[\\begin{array}{l}\n",
        "0 \\\\\n",
        "1\n",
        "\\end{array}\\right]=e^{\\frac{i \\pi}{4}}|1\\rangle\n",
        "$ Since QPE will give us $\\theta$ where: $\n",
        "T|1\\rangle=e^{2 i \\pi \\theta}|1\\rangle\n",
        "$ we expect to find theta: $\n",
        "\\theta=\\frac{1}{8}\n",
        "$\n",
        "\n",
        "*Paper [Universal Quantum Computation with ideal Clifford gates and noisy  ancillas](https://arxiv.org/abs/quant-ph/0403025): check out figure 1 that provides a nice visualization of two types of magic states and also definition 1 on page 3. confusingly, T state is the \"H-type state\" and not the \"T-type state\" in their lingo (since the density matrix of the T state is (I+1/sqrt2(X+Y))/2) - Yes, it seems to me that in the old days folks named these states by the operators of which the states were the eigenvectors (rather than by the gate you could realize using the states as we do today). the caption of figure 1 undersells its significance. the octahedron consists of states which don't boost computational power of the Clifford gateset (see Theorem 1 on the same page). it's the high-purity states outside the octahedron that are useful. I mean isn't the eigenstate the more sensible naming scheme?  Old man shakes cane. T |T> = t |T>. +1 to naming things for what they are instead of for what you can do with them (as that is subject to change)*"
      ],
      "metadata": {
        "id": "lYtm8-hjDwuB"
      }
    },
    {
      "cell_type": "markdown",
      "source": [
        "**What is so special about the Toffoli-gate?**\n",
        "\n",
        "![ggg](https://upload.wikimedia.org/wikipedia/commons/thumb/e/ef/Qcircuit_ToffolifromCNOT.svg/799px-Qcircuit_ToffolifromCNOT.svg.png)\n",
        "\n",
        "* construct a quantum mechanical Toffoli gate out of 1-qubit and 2-qubit gates.\n",
        "* [Toffoli gate](https://en.m.wikipedia.org/wiki/Toffoli_gate#), a reversible gate, and is universal in classical computing - can simulate classical computation (https://youtu.be/qs0D9sdbKPU?t=6520) - essential tool for building big classical operations like multipliers and [multiplexers](https://en.m.wikipedia.org/wiki/Multiplexer)\n",
        "* It is used in the Shor algorithm, quantum error correction, fault-tolerant computation and quantum arithmetic operations (https://www.nature.com/articles/npjqi201619)\n",
        "* In many of Google's papers talk about directly distilling Toffoli rather T = Toffoli has many clear connections to classical logic and is a more natural gate when your algorithm is bottlenecked by classical logic rather than single qubit rotations\n",
        "* [Are Toffoli gates actually used in designing quantum circuits?](https://quantumcomputing.stackexchange.com/questions/11915/are-toffoli-gates-actually-used-in-designing-quantum-circuits)\n",
        "* [A Simple Proof that Toffoli and Hadamard are Quantum Universal](https://arxiv.org/abs/quant-ph/0301040)"
      ],
      "metadata": {
        "id": "XPdY_aRRVpZY"
      }
    },
    {
      "cell_type": "markdown",
      "source": [
        "**Hadamard Gate**"
      ],
      "metadata": {
        "id": "Ca3fvYOc_oY9"
      }
    },
    {
      "cell_type": "markdown",
      "source": [
        "Video: [Logic Gates Rotate Qubits](https://www.youtube.com/watch?v=ZBaXPY_0TNI)\n",
        "\n",
        "Video: [Qubits vs Bits: The Kickback Effect](https://www.youtube.com/watch?v=EjdngeGXWEg)"
      ],
      "metadata": {
        "id": "d6OTWQs8Lcu0"
      }
    },
    {
      "cell_type": "markdown",
      "source": [
        "*Hadamard Gate (Superposition)*\n",
        "\n",
        "> $H=\\frac{1}{\\sqrt{2}}\\left(\\begin{array}{cc}1 & 1 \\\\ 1 & -1\\end{array}\\right)$\n",
        "\n",
        "**The Hadamard states ∣+⟩ and ∣−⟩ are considered superposition states**\n",
        "\n",
        "because they are a combination of the two computational states:\n",
        "\n",
        "> $|\\pm\\rangle=\\frac{1}{\\sqrt{2}}|0\\rangle \\pm \\frac{1}{\\sqrt{2}}|1\\rangle$\n",
        "\n",
        "**Apply Hadamard gate on a qubit that is in the |0> state**:\n",
        "\n",
        "> <font color=\"blue\">$\\frac{1}{\\sqrt{2}}\\left(\\begin{array}{cc}1 & 1 \\\\ 1 & -1\\end{array}\\right)\\left[\\begin{array}{l}1 \\\\ 0\\end{array}\\right]=\\frac{1}{\\sqrt{2}}\\left[\\begin{array}{l}1 \\\\ 1\\end{array}\\right]$\n",
        "\n",
        "The qubit enters a new state where the probability of measuring 0 is:\n",
        "\n",
        "* $\\left(\\frac{1}{\\sqrt{2}}\\right)^{2}=\\frac{1}{2}$\n",
        "\n",
        "And the probability of measuring 1 is also:\n",
        "\n",
        "* $\\left(\\frac{1}{\\sqrt{2}}\\right)^{2}=\\frac{1}{2}$\n",
        "\n",
        "**Now apply Hadamard gate on a qubit that is in the |1> state**:\n",
        "\n",
        "> <font color=\"blue\">$\\frac{1}{\\sqrt{2}}\\left(\\begin{array}{cc}1 & 1 \\\\ 1 & -1\\end{array}\\right)\\left[\\begin{array}{l}0 \\\\ 1\\end{array}\\right]=\\frac{1}{\\sqrt{2}}\\left[\\begin{array}{l}1 \\\\ -1\\end{array}\\right]$\n",
        "\n",
        "The qubit enters a new state where the probability of measuring 0 is:\n",
        "\n",
        "* $\\left(\\frac{1}{\\sqrt{2}}\\right)^{2}=\\frac{1}{2}$\n",
        "\n",
        "And the probability of measuring 1 is also:\n",
        "\n",
        "* $\\left(\\frac{-1}{\\sqrt{2}}\\right)^{2}=\\frac{1}{2}$\n",
        "\n",
        "Hence, in both cases (qubit |0> or qubit |1>) applying a Hadamard Gate gives an equal chance for the qubit to be 0 or 1' when measured.\n",
        "\n",
        "Source: https://freecontent.manning.com/all-about-hadamard-gates/\n",
        "\n",
        "**Herleitung Hadamard (Wichtig!)**\n",
        "\n",
        "For an equal (or uniform) superposition of the two computational states, we can set the two coefficients equal to each other:\n",
        "\n",
        "$a_{1}=a_{2}=a$\n",
        "\n",
        "The normalization condition for a well-behaved quantum state requires that the sum of the squared magnitudes of the coefficients be equal to one; this is sufficient to find\n",
        "a\n",
        "a for a uniform superposition:\n",
        "\n",
        "$|a|^{2}+|a|^{2}=1$\n",
        "\n",
        "$2|a|^{2}=1$\n",
        "\n",
        "$|a|^{2}=\\frac{1}{2}$\n",
        "\n",
        "$a=\\frac{1}{\\sqrt{2}}$\n",
        "\n",
        "In vector form, this state can represented as\n",
        "\n",
        "> $\\left[\\begin{array}{l}\\frac{1}{\\sqrt{2}} \\\\ \\frac{1}{\\sqrt{2}}\\end{array}\\right]$ = $\\frac{1}{\\sqrt{2}}$ $\\left[\\begin{array}{c} 1 \\\\ 0 \\end{array}\\right]$ + $\\frac{1}{\\sqrt{2}}$ $\\left[\\begin{array}{c} 0 \\\\ 1 \\end{array}\\right]$\n",
        "\n",
        "This is what we can use now to understand Hadamard, where you want \"halfway\" a 50/50 chance of basis states 0 and 1 (Bloch sphere representation of superposition state):\n",
        "\n",
        "![ggg](https://raw.githubusercontent.com/deltorobarba/repo/master/quantum_025.jpg)\n",
        "\n",
        "*Hadamard gate operations:*\n",
        "\n",
        "> $\\begin{aligned} H(|0\\rangle) &=\\frac{1}{\\sqrt{2}}|0\\rangle+\\frac{1}{\\sqrt{2}}|1\\rangle=:|+\\rangle \\\\ H(|1\\rangle) &=\\frac{1}{\\sqrt{2}}|0\\rangle-\\frac{1}{\\sqrt{2}}|1\\rangle=:|-\\rangle \\\\ H\\left(\\frac{1}{\\sqrt{2}}|0\\rangle+\\frac{1}{\\sqrt{2}}|1\\rangle\\right) &=\\frac{1}{2}(|0\\rangle+|1\\rangle)+\\frac{1}{2}(|0\\rangle-|1\\rangle)=|0\\rangle \\\\ H\\left(\\frac{1}{\\sqrt{2}}|0\\rangle-\\frac{1}{\\sqrt{2}}|1\\rangle\\right) &=\\frac{1}{2}(|0\\rangle+|1\\rangle)-\\frac{1}{2}(|0\\rangle-|1\\rangle)=|1\\rangle \\end{aligned}$\n",
        "\n",
        "One application of the Hadamard gate to either a 0 or 1 qubit will produce a quantum state that, if observed, **will be a 0 or 1 with equal probability** (as seen in the first two operations). This is exactly like flipping a fair coin in the standard probabilistic model of computation. However, if the Hadamard gate is applied twice in succession (as is effectively being done in the last two operations), then the final state is always the same as the initial state (because quantum operations are reversable, unlike operations on classical computers)."
      ],
      "metadata": {
        "id": "_T8yeOt7mKxA"
      }
    },
    {
      "cell_type": "markdown",
      "source": [
        "**Circuit Noise**"
      ],
      "metadata": {
        "id": "xMyCxxxgo5T2"
      }
    },
    {
      "cell_type": "markdown",
      "source": [
        "**what is Laplacian noise in the context of quantum computing and quantum machine learning?**\n",
        "\n",
        "Laplacian noise is a type of noise that is often used to model the effects of decoherence in quantum computing. Decoherence is the loss of quantum coherence due to interactions with the environment.\n",
        "\n",
        "Laplacian noise is a non-Gaussian noise, which means that it does not follow a normal distribution. Instead, it follows a Laplace distribution, which is a bell-shaped curve with heavier tails than a normal distribution.\n",
        "\n",
        "The Laplace noise is characterized by a parameter called the scale parameter, which controls the amount of noise. The larger the scale parameter, the more noise there is.\n",
        "\n",
        "Laplacian noise can be added to quantum states to simulate the effects of decoherence. This can be done by adding a random variable to each qubit in the state, where the random variable is drawn from a Laplace distribution.\n",
        "\n",
        "Laplacian noise can also be used to design quantum machine learning algorithms that are robust to noise. For example, Laplacian noise can be used to regularize quantum neural networks, which can help to improve their performance.\n",
        "\n",
        "Here are some of the key properties of Laplacian noise:\n",
        "\n",
        "* It is a non-Gaussian noise.\n",
        "* It follows a Laplace distribution.\n",
        "* It is characterized by a scale parameter.\n",
        "* It can be used to simulate the effects of decoherence in quantum computing.\n",
        "* It can be used to design quantum machine learning algorithms that are robust to noise.\n",
        "\n",
        "Laplacian noise is a versatile tool that can be used to study the effects of noise in quantum computing and quantum machine learning. It is a promising area of research with the potential to improve the performance of quantum computers and quantum machine learning algorithms."
      ],
      "metadata": {
        "id": "mgs7G5vRo-ph"
      }
    },
    {
      "cell_type": "markdown",
      "source": [
        "**What kinds of noise can you add to a quantum computing circuit?**\n",
        "\n",
        "There are many different kinds of noise that can be added to a quantum computing circuit. Some of the most common types of noise include:\n",
        "\n",
        "* **Bit flip noise:** This is the most common type of noise. It occurs when a qubit is flipped from the |0⟩ state to the |1⟩ state or vice versa.\n",
        "* **Phase flip noise:** This type of noise occurs when the phase of a qubit is flipped. This means that the probability of measuring the qubit in the |0⟩ state or the |1⟩ state is flipped.\n",
        "* **Amplitude damping:** This type of noise occurs when the amplitude of a qubit is reduced. This means that the probability of measuring the qubit in the |0⟩ state is decreased, and the probability of measuring it in the |1⟩ state is increased.\n",
        "* **Depolarizing noise:** This is the most general type of noise. It can cause any combination of bit flip, phase flip, and amplitude damping noise.\n",
        "\n",
        "These are just a few of the many different types of noise that can be added to a quantum computing circuit. The specific type of noise that is added depends on the source of the noise.\n",
        "\n",
        "Noise is a major obstacle to the development of practical quantum computers. It can cause errors in quantum computations, which can lead to incorrect results. There are a number of techniques that can be used to reduce the effects of noise, such as quantum error correction.\n",
        "\n",
        "I hope this helps! Let me know if you have any other questions.\n",
        "\n",
        "Here are some additional details about the different types of noise mentioned above:\n",
        "\n",
        "* **Bit flip noise:** Bit flip noise can be modeled by a Pauli X gate, which flips the state of the qubit. The probability of a bit flip error occurring is determined by the strength of the noise.\n",
        "* **Phase flip noise:** Phase flip noise can be modeled by a Pauli Z gate, which flips the phase of the qubit. The probability of a phase flip error occurring is determined by the strength of the noise.\n",
        "* **Amplitude damping:** Amplitude damping can be modeled by a beam splitter, which mixes the |0⟩ and |1⟩ states of the qubit. The probability of an amplitude damping error occurring is determined by the strength of the noise.\n",
        "* **Depolarizing noise:** Depolarizing noise can be modeled by a depolarizing channel, which randomly changes the state of the qubit. The probability of a depolarizing error occurring is determined by the strength of the noise.\n",
        "\n",
        "The effects of noise can be mitigated by using quantum error correction. Quantum error correction is a technique that can be used to detect and correct errors in quantum computations. Quantum error correction can be used to make quantum computers more resistant to noise.\n",
        "\n",
        "I hope this helps! Let me know if you have any other questions."
      ],
      "metadata": {
        "id": "-O53JXv_pEJC"
      }
    },
    {
      "cell_type": "markdown",
      "source": [
        "**Do you have more examples? Like Laplacian noise and more?**\n",
        "\n",
        "Sure. Here are some other examples of noise that can be added to a quantum computing circuit:\n",
        "\n",
        "* **Gaussian noise:** Gaussian noise is a type of noise that is characterized by a Gaussian distribution. This means that the probability of a certain error occurring is given by a Gaussian function. Gaussian noise can be caused by thermal fluctuations in the environment.\n",
        "* **Readout noise:** Readout noise is the noise that occurs when a qubit is measured. This noise can cause errors in the measurement results. Readout noise can be caused by a number of factors, including the environment and the measurement device.\n",
        "* **Crosstalk noise:** Crosstalk noise is the noise that occurs when one qubit affects the state of another qubit. This noise can be caused by the interaction between the qubits.\n",
        "* **Qubit loss:** Qubit loss is the loss of a qubit from the system. This can occur due to a number of factors, such as environmental noise or errors in the control system.\n",
        "\n",
        "These are just a few of the many different types of noise that can be added to a quantum computing circuit. The specific type of noise that is added depends on the source of the noise and the specific application.\n",
        "\n",
        "I hope this helps! Let me know if you have any other questions."
      ],
      "metadata": {
        "id": "603erkTepKMT"
      }
    },
    {
      "cell_type": "markdown",
      "source": [
        "**And laplacian noise?**\n",
        "\n",
        "Yes, Laplacian noise is another type of noise that can be added to a quantum computing circuit. It is a non-Gaussian noise, which means that it does not follow a Gaussian distribution. Instead, it follows a Laplace distribution, which is a bell-shaped curve with heavier tails than a Gaussian distribution.\n",
        "\n",
        "Laplacian noise can be added to a quantum state by adding a random variable to each qubit in the state, where the random variable is drawn from a Laplace distribution. The Laplace noise is characterized by a parameter called the scale parameter, which controls the amount of noise. The larger the scale parameter, the more noise there is.\n",
        "\n",
        "Laplacian noise is often used to model the effects of decoherence in quantum computing. Decoherence is the loss of quantum coherence due to interactions with the environment. Laplacian noise is more robust to noise than Gaussian noise, which makes it a good choice for applications where noise is a major concern.\n",
        "\n",
        "Laplacian noise can also be used to design quantum machine learning algorithms that are robust to noise. For example, Laplacian noise can be used to regularize quantum neural networks, which can help to improve their performance.\n",
        "\n",
        "Here are some of the key properties of Laplacian noise:\n",
        "\n",
        "* It is a non-Gaussian noise.\n",
        "* It follows a Laplace distribution.\n",
        "* It is characterized by a scale parameter.\n",
        "* It can be added to quantum states to simulate the effects of decoherence in quantum computing.\n",
        "* It can be used to design quantum machine learning algorithms that are robust to noise.\n",
        "\n",
        "Laplacian noise is a versatile tool that can be used to study the effects of noise in quantum computing and quantum machine learning. It is a promising area of research with the potential to improve the performance of quantum computers and quantum machine learning algorithms."
      ],
      "metadata": {
        "id": "qCnnUEPHpOQ9"
      }
    },
    {
      "cell_type": "markdown",
      "source": [
        "**what is Laplacian noise in the context of quantum computing and quantum machine learning?**\n",
        "\n",
        "Laplacian noise is a type of noise that is often used to model the effects of decoherence in quantum computing. Decoherence is the loss of quantum coherence due to interactions with the environment.\n",
        "\n",
        "Laplacian noise is a non-Gaussian noise, which means that it does not follow a normal distribution. Instead, it follows a Laplace distribution, which is a bell-shaped curve with heavier tails than a normal distribution.\n",
        "\n",
        "The Laplace noise is characterized by a parameter called the scale parameter, which controls the amount of noise. The larger the scale parameter, the more noise there is.\n",
        "\n",
        "Laplacian noise can be added to quantum states to simulate the effects of decoherence. This can be done by adding a random variable to each qubit in the state, where the random variable is drawn from a Laplace distribution.\n",
        "\n",
        "Laplacian noise can also be used to design quantum machine learning algorithms that are robust to noise. For example, Laplacian noise can be used to regularize quantum neural networks, which can help to improve their performance.\n",
        "\n",
        "Here are some of the key properties of Laplacian noise:\n",
        "\n",
        "* It is a non-Gaussian noise.\n",
        "* It follows a Laplace distribution.\n",
        "* It is characterized by a scale parameter.\n",
        "* It can be used to simulate the effects of decoherence in quantum computing.\n",
        "* It can be used to design quantum machine learning algorithms that are robust to noise.\n",
        "\n",
        "Laplacian noise is a versatile tool that can be used to study the effects of noise in quantum computing and quantum machine learning. It is a promising area of research with the potential to improve the performance of quantum computers and quantum machine learning algorithms."
      ],
      "metadata": {
        "id": "C6pxre-a4HnW"
      }
    },
    {
      "cell_type": "markdown",
      "source": [
        "[Jens Eisert: What do we do with Quantum Computers?](https://youtu.be/70MD0pe6HGs) and [(2023) Disentangling Hype from Practicality](https://www.researchgate.net/publication/372075046_Disentangling_Hype_from_Practicality_On_Realistically_Achieving_Quantum_Advantage)"
      ],
      "metadata": {
        "id": "Ntf_T5a8waQ7"
      }
    },
    {
      "cell_type": "markdown",
      "source": [
        "**Where does a quantum computer has an (exponential) advantage over a classical computer in machine learning tasks?**\n",
        "\n",
        "* Classical Data (learn classical Boolean circuits):\n",
        "  * average error: no\n",
        "  * worse error: no\n",
        "\n",
        "* Quantum Data (learn unknown cptp maps over known observables):\n",
        "  * average error: no - classical ML can learn unknown state p or observable O very well\n",
        "  * worse error: yes (predicting ex-\n",
        "pectation values of Pauli operators in an unknown n-\n",
        "qubit quantum state ρ)"
      ],
      "metadata": {
        "id": "xdH07JFx1Szq"
      }
    },
    {
      "cell_type": "markdown",
      "source": [
        "*Pending questions*\n",
        "\n",
        "what is the chernoff bound\n",
        "\n",
        "how can you learn the phase of a heisenberg-weyl operator?\n",
        "\n",
        "what is the phase of a heisenberg-weyl operator?\n",
        "\n",
        "what is a simplectic inner product?\n"
      ],
      "metadata": {
        "id": "DH8extyZD-oU"
      }
    },
    {
      "cell_type": "markdown",
      "source": [
        "**what is meant by the parity of the two qubits?**\n",
        "\n",
        "The \"parity\" of two qubits refers to whether the number of qubits in the state |1⟩ is even or odd.\n",
        "\n",
        "The parity operator for two qubits, which could be denoted as Z ⊗ Z in terms of Pauli matrices, acts on a two-qubit state |ψ⟩ = α|00⟩ + β|01⟩ + γ|10⟩ + δ|11⟩ as follows:\n",
        "\n",
        "(Z ⊗ Z)|ψ⟩ = α|00⟩ - β|01⟩ - γ|10⟩ + δ|11⟩\n",
        "\n",
        "In this case, the eigenvalues of the parity operator are +1 and -1. States |00⟩ and |11⟩ have even parity (0 and 2 qubits are in the state |1⟩, respectively, both of which are even numbers), so the parity operator gives them a factor of +1. States |01⟩ and |10⟩ have odd parity (1 qubit is in the state |1⟩), so the parity operator gives them a factor of -1.\n",
        "\n",
        "Measuring the expectation value of the parity operator tells you about the relative likelihood of being in an even parity state versus an odd parity state. For example, if a two-qubit system is in the state |ψ⟩ = 1/√2(|00⟩ + |11⟩), then the expectation value of the parity operator would be +1, indicating that measurements of both qubits will always yield the same result, either both 0 or both 1. On the other hand, if the system is in the state |ψ⟩ = 1/√2(|01⟩ + |10⟩), then the expectation value of the parity operator would be -1, indicating that measurements of both qubits will always yield opposite results."
      ],
      "metadata": {
        "id": "n-lA7hp1t_Gp"
      }
    },
    {
      "cell_type": "markdown",
      "source": [
        "John Preskyll - Quantum Computation\n",
        "\n",
        "https://youtu.be/w08pSFsAZvE"
      ],
      "metadata": {
        "id": "eG1F6mn_fsDb"
      }
    },
    {
      "cell_type": "markdown",
      "source": [
        "**what means \"bounded fan-in (a general form of locality restriction)\" in the context of quantum computing?**\n",
        "\n",
        "In the context of quantum computing, the concept of \"fan-in\" relates to the number of input bits that a quantum gate or operation can accept.\n",
        "\n",
        "When we say a system or a circuit has \"bounded fan-in,\" it means that there's a limit to the number of input bits any single gate or operation can accept.\n",
        "\n",
        "\"Bounded fan-in\" is a kind of \"locality restriction.\" In a locality restriction, we limit how our quantum operations can act. In physical systems, this is often motivated by the fact that most physical interactions are local -- for instance, each qubit in a quantum computer might only interact directly with a small number of nearby qubits.\n",
        "\n",
        "A gate or operation with bounded fan-in can only act on a fixed number of qubits. For example, if we're working with a two-qubit bounded fan-in, our gates can only act on one or two qubits at a time -- we can't have a single gate that acts on three or more qubits simultaneously. This is a general form of locality restriction because it restricts how 'far' each operation can 'reach' in the space of qubits.\n",
        "\n",
        "This is important in quantum computing because it affects the kinds of circuits and algorithms we can use. It's also important when thinking about how to physically implement a quantum computer, as real-world quantum systems often have natural locality restrictions due to physical constraints."
      ],
      "metadata": {
        "id": "L3scapHoAYEe"
      }
    },
    {
      "cell_type": "markdown",
      "source": [
        "**what means strings over n bits?**\n",
        "\n",
        "In the context of computer science and mathematics, a \"string over n bits\" usually refers to a sequence or set of binary digits (bits) of length n. Each bit can either be a 0 or a 1.\n",
        "\n",
        "For instance, if n = 3, then the possible strings over 3 bits are: 000, 001, 010, 011, 100, 101, 110, 111. These are all the possible combinations of 3 bits.\n",
        "\n",
        "The total number of possible strings over n bits is 2^n, because each bit has 2 possible states (0 or 1), and there are n such bits. This principle is widely used in areas such as digital computing, information theory, cryptography, etc."
      ],
      "metadata": {
        "id": "qRrlJTQgAfHw"
      }
    },
    {
      "cell_type": "markdown",
      "source": [
        "**what means \"covering number bounds\" in quantum computing?**\n",
        "\n",
        "Covering number bounds in quantum computing (and more generally in the field of mathematics) refer to a metric related to how many of a certain-sized object are needed to \"cover\" or contain another object.\n",
        "\n",
        "The concept of a covering number is used in various mathematical contexts, but the general idea remains the same. The covering number of a set (in a metric space) is the smallest number of \"balls\" of a given radius that can cover the entire set.\n",
        "\n",
        "In quantum computing, this might be used in the context of quantum states or operations. For instance, if you're talking about quantum states in a Hilbert space, you might be asking: how many quantum states (treated as \"balls\" in the Hilbert space) of a certain \"size\" (or distance from each other) do you need to cover the entire space of possible quantum states?\n",
        "\n",
        "Covering numbers are important in quantum computing because they can help us understand the complexity of various tasks, including the complexity of approximating a given quantum state or operation.\n",
        "\n",
        "Bounding the covering number, or providing covering number bounds, is important because it gives us a measure of the \"size\" or complexity of the space we're dealing with. These bounds can help us understand the resources required for tasks such as quantum state preparation, quantum channel simulation, and so on."
      ],
      "metadata": {
        "id": "MOIwu35QAkuV"
      }
    },
    {
      "cell_type": "markdown",
      "source": [
        "**Qubitization**\n",
        "\n",
        "\"Qubitization\" is a term related to quantum computing. It is a procedure to convert a certain operation into a quantum operation that can be performed on a quantum computer. Qubitization offers an approach for performing certain computational tasks with a significant reduction in resource requirements compared to other quantum algorithms.\n",
        "\n",
        "A primary example of the use of qubitization is in simulating Hamiltonians, a fundamental problem in quantum physics, with an algorithm known as the \"qubitization of Hamiltonian.\" This algorithm allows the efficient estimation of quantities such as ground state energy, which are of significant interest in quantum chemistry and condensed matter physics.\n",
        "\n",
        "The key advantage of qubitization over other quantum simulation algorithms is that it allows a more efficient use of quantum resources. However, the technique typically requires a more complex set of quantum gates and, as of my knowledge cut-off in September 2021, is a subject of active research and development in the field of quantum computing.\n",
        "\n",
        "Please note that the understanding and implementation of qubitization may have evolved beyond my last update. For the most accurate information, it's recommended to refer to the latest literature in the field of quantum computing.\n",
        "\n",
        "https://arxiv.org/abs/1610.06546"
      ],
      "metadata": {
        "id": "Ph9a0fu1y9Es"
      }
    },
    {
      "cell_type": "markdown",
      "source": [
        "**Trotterization**\n",
        "\n",
        "https://vtomole.com/blog/2019/04/07/trotter\n",
        "\n",
        "**Trotterization** is a technique used in quantum computing to simulate the evolution of a quantum system under a Hamiltonian that is a sum of many terms. The idea is to break down the evolution into a sequence of smaller evolutions, each of which is under a single term of the Hamiltonian. This can be done because the exponential of a sum of matrices is approximately equal to the product of the exponentials of the individual matrices, up to a small error.\n",
        "\n",
        "The Trotterization formula is:\n",
        "\n",
        "> $e^{-iHt} \\approx \\left( e^{-iH_0t/r} \\cdot e^{-iH_1t/r} \\cdots e^{-iH_{d-1}t/r} \\right)^r$\n",
        "\n",
        "where $H$ is the Hamiltonian, $t$ is the time, $r$ is the number of Trotter steps, and $H_i$ are the individual terms of the Hamiltonian.\n",
        "\n",
        "The error in the Trotterization approximation can be controlled by increasing the number of Trotter steps. However, this also increases the complexity of the quantum circuit that is needed to implement the Trotterized evolution.\n",
        "\n",
        "Trotterization is a powerful technique that can be used to simulate a wide variety of quantum systems. However, it is important to note that the error in the Trotterization approximation can be significant, especially for long times or for Hamiltonians with terms that do not commute.\n",
        "\n",
        "Here are some additional details about Trotterization:\n",
        "\n",
        "* The Trotterization formula was first introduced by Harold Trotter in 1958.\n",
        "* The error in the Trotterization approximation is of the order of $O(t^2/r^2)$.\n",
        "* The number of Trotter steps needed to achieve a given accuracy depends on the Hamiltonian and the desired accuracy.\n",
        "* Trotterization can be used to simulate the evolution of both closed and open quantum systems.\n",
        "* Trotterization is a key technique in many quantum algorithms, such as quantum simulation, quantum chemistry, and quantum machine learning."
      ],
      "metadata": {
        "id": "5tnibSuZLcPW"
      }
    },
    {
      "cell_type": "markdown",
      "source": [
        "**Shadow Tomography**"
      ],
      "metadata": {
        "id": "i_mzlg6WUapR"
      }
    },
    {
      "cell_type": "markdown",
      "source": [
        "https://www.quantamagazine.org/machine-learning-aids-classical-modeling-of-quantum-systems-20230914/"
      ],
      "metadata": {
        "id": "0RlEe49PJsfg"
      }
    },
    {
      "cell_type": "markdown",
      "source": [
        "State Tomography, Shadow Tomography and Process Tomography (Choi matrix)"
      ],
      "metadata": {
        "id": "edw279abUZ6W"
      }
    },
    {
      "cell_type": "markdown",
      "source": [
        "> State tomography is an alternative to boolean functions in quantum computational learning"
      ],
      "metadata": {
        "id": "6ZVr_tksjzSN"
      }
    },
    {
      "cell_type": "markdown",
      "source": [
        "> To solve shadow tomography, the goal is to find a quantum state σ that satisfies Tr(σEi) ≈ Tr(ρEi) for all i (the trace distance is almost zero, the states are identical). Further, one would like to minimize the number of copies of ρ, suggesting that σ should be no more informative than matching the above expectations."
      ],
      "metadata": {
        "id": "I42TFae9nf2p"
      }
    },
    {
      "cell_type": "markdown",
      "source": [
        "**What is the difference between state tomography and shadow tomorgraphy?**\n",
        "\n",
        "The main difference between state tomography and shadow tomography is the number of copies of the quantum state that are needed to reconstruct the state.\n",
        "\n",
        "In state tomography, the complete state vector or density matrix of the quantum state is reconstructed. This requires measuring the state in a complete set of bases, which can be exponentially many bases for a large quantum state.\n",
        "\n",
        "In shadow tomography, only a subset of the bases is measured. This allows the state to be reconstructed with fewer copies of the state, but the reconstructed state may not be as accurate as the state reconstructed using state tomography.\n",
        "\n",
        "Shadow tomography can be useful when the number of copies of the state is limited, or when it is only necessary to reconstruct a specific aspect of the state.\n",
        "\n",
        "Here is a table summarizing the key differences between state tomography and shadow tomography:\n",
        "\n",
        "| Feature | State tomography | Shadow tomography |\n",
        "|---|---|---|\n",
        "| Number of copies of state needed | Exponentially many | Polynomially many |\n",
        "| Accuracy | High | Low |\n",
        "| Applications | Reconstructing the complete state vector or density matrix | Reconstructing a specific aspect of the state |\n",
        "\n",
        "Here are some examples of when shadow tomography can be used:\n",
        "\n",
        "* To reconstruct the behavior of a quantum state on a specific set of operations.\n",
        "* To reconstruct the entanglement of a quantum state.\n",
        "* To reconstruct the purity of a quantum state.\n",
        "\n",
        "***Shadow tomography is a promising new technique for reconstructing quantum states with fewer copies of the state. As quantum technologies develop, shadow tomography is likely to become an increasingly important tool for understanding and manipulating quantum states.***\n"
      ],
      "metadata": {
        "id": "5SNoHHqcj0-f"
      }
    },
    {
      "cell_type": "markdown",
      "source": [
        "**What is the difference of shadow tomography and state tomography to process tomography?**\n",
        "\n",
        "\n",
        "The main difference between shadow tomography, state tomography, and process tomography is the object that is being reconstructed.\n",
        "\n",
        "* **State tomography** reconstructs the state of a quantum system. This can be done by measuring the system in a complete set of bases and using the results to reconstruct the state vector or density matrix of the system.\n",
        "* **Shadow tomography** reconstructs a classical shadow of a quantum state. A classical shadow is a lower-dimensional representation of the quantum state that still retains some of its key properties.\n",
        "* **Process tomography** reconstructs the quantum process that transforms one quantum state into another. This can be done by preparing an ensemble of quantum states and sending them through the process, then using state tomography to identify the resultant states.\n",
        "\n",
        "In terms of the number of copies of the quantum system needed, shadow tomography and process tomography are both more efficient than state tomography. Shadow tomography can reconstruct a classical shadow of a quantum state with only polynomially many copies of the state, while process tomography can reconstruct a quantum process with only exponentially many copies of the state.\n",
        "\n",
        "However, shadow tomography and process tomography are less accurate than state tomography. The classical shadow of a quantum state may not be able to perfectly represent the quantum state, and the reconstructed quantum process may not be perfectly accurate.\n",
        "\n",
        "Here is a table summarizing the key differences between shadow tomography, state tomography, and process tomography:\n",
        "\n",
        "| Feature | Shadow tomography | State tomography | Process tomography |\n",
        "|---|---|---|---|\n",
        "| Object being reconstructed | Classical shadow of a quantum state | State vector or density matrix of a quantum state | Quantum process that transforms one quantum state into another |\n",
        "| Number of copies of quantum system needed | Polynomially many | Exponentially many | Exponentially many |\n",
        "| Accuracy | Low | High | Low |\n",
        "| Applications | Reconstructing specific aspects of a quantum state | Reconstructing the complete state of a quantum state | Reconstructing the behavior of a quantum process |\n",
        "\n",
        "I hope this helps! Let me know if you have any other questions."
      ],
      "metadata": {
        "id": "752lwZmzkuel"
      }
    },
    {
      "cell_type": "markdown",
      "source": [
        "*What is shadow tomography and how is it used in this context?*\n",
        "\n",
        "* Shadow tomography is a technique that assumes access to multiple copies of a quantum state and uses a hypothesis state model, often stored classically, to require a minimal number of destructive measurements.\n",
        "\n",
        "* In the context of quantum neural network training, recent developments in shadow tomography have challenged the notion that quantum measurement collapse entirely rules out the reuse of quantum information as in backpropagation.\n",
        "\n",
        "* By assuming access to multiple copies of a quantum state, a modification of existing shadow tomography routines enables backpropagation scaling if one restricts costs to the quantum overhead and ignores the classical cost incurred to implement known shadow tomography schemes.\n",
        "\n",
        "*What is shadow tomography and how is it used in the context of quantum computing?*\n",
        "\n",
        "* Shadow tomography, in the context of quantum computing, is a technique used to characterize an unknown quantum state by gathering statistical information about its measurement outcomes. It is an approach that aims to reconstruct the quantum state without directly accessing it.\n",
        "\n",
        "* In quantum computing, qubits represent the fundamental units of information and are typically manipulated in superposition states. However, obtaining complete knowledge about the quantum state of a qubit is challenging due to limitations such as noise, decoherence, and the no-cloning theorem. Shadow tomography offers a way to infer information about the state without requiring full access to it.\n",
        "\n",
        "* The technique involves performing a series of measurements on a large number of identically prepared quantum systems in the same unknown state. Each measurement provides partial information about the state, revealing statistical probabilities for the different measurement outcomes. By gathering a sufficiently large set of measurement statistics, it becomes possible to infer the likely quantum state.\n",
        "\n",
        "* The reconstruction of the quantum state from the collected statistics is achieved through mathematical techniques, such as maximum likelihood estimation or compressed sensing algorithms. These methods leverage the statistical patterns observed in the measurement outcomes to estimate the underlying quantum state that generated them.\n",
        "\n",
        "* Shadow tomography provides a means to characterize unknown quantum states in a non-invasive manner, making it particularly useful for quantum systems that are difficult or impossible to access directly. It plays a crucial role in quantum information processing tasks such as quantum error correction, state verification, and characterizing the performance of quantum devices.\n",
        "\n",
        "\n",
        "*What is gentle measurement in the context of quantum computing?*\n",
        "\n",
        "* Gentle measurement techniques often employ strategies such as weak measurements, quantum non-demolition measurements, or adaptive measurements.\n",
        "\n",
        "* Weak measurements involve extracting partial information about the system while causing minimal disturbance.\n",
        "\n",
        "* Quantum non-demolition measurements are designed to measure one property of the system without affecting other compatible observables.\n",
        "\n",
        "* Adaptive measurements dynamically adjust the measurement strategy based on the intermediate measurement results to minimize disturbance.\n",
        "\n",
        "* By using gentle measurement techniques, researchers can gather information about quantum states while preserving their fragile nature. This is particularly important in quantum computing, where maintaining the coherence of quantum bits (qubits) is crucial for performing reliable computations and preventing errors."
      ],
      "metadata": {
        "id": "BkjNfD00kURa"
      }
    },
    {
      "cell_type": "markdown",
      "source": [
        "**quantum state tomography**, and it is already an important task in experimental physics. To give some examples, tomography has been used to obtain a detailed picture of a chemical reaction (namely, the dissociation of I2 molecules) [29]; to confirm the preparation of three-photon [28] and eight-ion [20] entangled states; to test controlled-NOT gates [26]; and to characterize optical devices [15].\n",
        "Physicists would like to scale up tomography to larger systems, in order to study the many-particle entangled states that arise (for example) in chemistry, condensed-matter physics, and quantum information. But there is a fundamental obstacle in doing so. This is that, to reconstruct an n-qubit state, one needs to measure a number of observables that grows exponentially in n: in particular like 4^n, the number of parameters in a 2^n × 2^n density matrix. This exponentiality is certainly a practical problem—Ha ̈ffner et al. [20] report that, to reconstruct an entangled state of eight calcium ions, they needed to perform 656, 100 experiments! But to us it is a theoretical problem as well. For it suggests that learning an arbitrary state of (say) a thousand particles would take longer than the age of the universe, even for a being with unlimited computational power.\n",
        "Source: The Learnability of Quantum States"
      ],
      "metadata": {
        "id": "XfBOiHzuNSrx"
      }
    },
    {
      "cell_type": "markdown",
      "source": [
        "quantum shadow tomography, which gives a way of predicting the values of most quantum observables using a small number of samples from a quantum system.\n",
        "\n",
        "Aaronson S 2018 Shadow tomography of quantum states Proc. of the 50th Annual ACM SIGACT Symp. on Theory of Computing\n",
        "pp 325–38"
      ],
      "metadata": {
        "id": "Aq23Xx1H2aaj"
      }
    },
    {
      "cell_type": "markdown",
      "source": [
        "https://arxiv.org/abs/1711.01053"
      ],
      "metadata": {
        "id": "-AzCvKg-59TN"
      }
    },
    {
      "cell_type": "markdown",
      "source": [
        "> ***Sample complexity of quantum state tomography (e.g. shadow tomography) important for difference between coherent and incoherent measurements***\n"
      ],
      "metadata": {
        "id": "2tcJVkBR9ZB0"
      }
    },
    {
      "cell_type": "markdown",
      "source": [
        "**what is the shadow tomography problem in quantum information theory?**\n",
        "\n",
        "In quantum information theory, the shadow tomography problem refers to the task of characterizing an unknown quantum state by gathering statistical information about its measurement outcomes. It addresses the challenge of reconstructing a quantum state without directly accessing it.\n",
        "\n",
        "The shadow tomography problem arises due to the limitations of directly measuring quantum states. In quantum systems, the act of measurement can disturb the system and potentially cause the collapse of its quantum state. Additionally, some quantum states may be inaccessible or difficult to measure directly due to experimental constraints or limitations.\n",
        "\n",
        "To overcome these challenges, shadow tomography offers a non-invasive approach to infer information about the unknown quantum state. Instead of directly measuring the state, it focuses on collecting statistical data by repeatedly measuring identically prepared copies of the state and recording the outcomes.\n",
        "\n",
        "The goal of the shadow tomography problem is to use the collected statistical data to reconstruct an estimate of the quantum state that is consistent with the observed measurement outcomes. This estimation process involves mathematical techniques such as maximum likelihood estimation, compressed sensing, or machine learning algorithms.\n",
        "\n",
        "Solving the shadow tomography problem is important in various quantum information tasks, including quantum state verification, characterization of quantum devices, and quantum error correction. By obtaining accurate reconstructions of unknown quantum states, researchers can gain insights into the properties of quantum systems and develop techniques to mitigate errors and improve quantum information processing tasks.\n",
        "\n",
        "**what is the exponential classical cost within the shadow tomography problem?**\n",
        "\n",
        "The term \"exponential classical cost\" in the context of the shadow tomography problem refers to the computational complexity associated with classical methods of characterizing or reconstructing an unknown quantum state. It signifies that the amount of computational resources required grows exponentially with the size of the quantum system.\n",
        "\n",
        "In shadow tomography, the goal is to estimate the quantum state by collecting measurement statistics. The challenge lies in finding an efficient algorithm to reconstruct the state from this statistical data. Classical methods typically involve searching through a large space of possible quantum states and optimizing a likelihood function or another measure of agreement with the observed statistics.\n",
        "\n",
        "However, for large quantum systems, the number of possible quantum states grows exponentially with the number of qubits. As a result, exhaustive classical methods that explore the entire state space become computationally infeasible as the system size increases. This exponential growth in the number of possible states leads to an exponential increase in the computational cost required for reconstruction.\n",
        "\n",
        "The exponential classical cost in shadow tomography highlights the need for alternative approaches, such as leveraging quantum computers or developing more efficient reconstruction algorithms. Quantum computers can potentially provide speedup by harnessing the principles of quantum mechanics, allowing for more efficient exploration of the state space or utilizing specialized quantum algorithms tailored for state reconstruction.\n",
        "\n",
        "Reducing the classical cost of shadow tomography is an active area of research, and various techniques, including compressed sensing, machine learning, and adaptive measurement strategies, have been explored to mitigate the computational challenges associated with large-scale quantum systems."
      ],
      "metadata": {
        "id": "8QKE7d8OvYR8"
      }
    },
    {
      "cell_type": "markdown",
      "source": [
        "**what is meant by incoherent and coherent measurements in sample complexity (for shadow tomography)?**\n",
        "\n",
        "In the context of quantum computing and quantum information theory, coherent and incoherent measurements refer to two different types of quantum measurements.\n",
        "\n",
        "1. **Coherent measurements**: These are the idealized measurements usually described in basic quantum mechanics where measuring a quantum state immediately collapses it into one of the eigenstates of the measured observable. Coherent measurements are unitary and reversible.\n",
        "\n",
        "2. **Incoherent measurements**: These measurements, on the other hand, correspond to a more generalized form of measurement, described by a set of positive-operator valued measures (POVMs). POVMs need not be unitary or reversible, and they can model a broader range of real-world measurement processes, including those where the quantum system interacts with an environment and decoheres.\n",
        "\n",
        "> The difference between coherent and incoherent measurements can become ***important when we consider the sample complexity of quantum state tomography, or in your specific case, shadow tomography.***\n",
        "\n",
        "Quantum state tomography is the process of determining the unknown state of a quantum system from the outcomes of measurements made on the system. The sample complexity of this process refers to the number of measurements needed to accurately reconstruct the quantum state.\n",
        "\n",
        "When performing quantum state tomography, incoherent measurements can sometimes offer advantages in terms of reduced sample complexity, since they can provide more information per measurement about the state of the system. However, they may also be more technically challenging to implement than coherent measurements, and they may introduce additional sources of error.\n",
        "\n",
        "The concept of \"shadow tomography\" you're referring to might involve using a small number of random measurements (or \"shadows\") to estimate properties of the quantum state, and it might have different sample complexity depending on whether coherent or incoherent measurements are used. The detailed analysis of this would depend on the specific shadow tomography protocol and the properties of the quantum state and the measurement process.\n"
      ],
      "metadata": {
        "id": "5923WPqg8sS4"
      }
    },
    {
      "cell_type": "markdown",
      "source": [
        "https://en.wikipedia.org/wiki/Quantum_tomography\n",
        "\n",
        "https://en.wikipedia.org/wiki/Classical_shadow\n",
        "\n",
        "Scott Aaronson: Shadow Tomography https://arxiv.org/abs/1711.01053\n",
        "\n",
        "https://www.spektrum.de/news/quantennetzwerke-zeigen-schwarmintelligenz/2116689"
      ],
      "metadata": {
        "id": "ZstkVSpb2UOg"
      }
    },
    {
      "cell_type": "markdown",
      "source": [
        "Shadow tomography, also known as X-ray phase-contrast imaging or phase tomography, is a technique used to create detailed three-dimensional images of an object's internal structure. It is primarily employed in the field of medical imaging but also finds applications in materials science and other areas.\n",
        "\n",
        "Traditional X-ray imaging relies on the attenuation of X-rays as they pass through different tissues or materials, resulting in a two-dimensional projection image that shows variations in X-ray absorption. However, some tissues or materials have similar absorption properties, making it challenging to distinguish between them based solely on their attenuation.\n",
        "\n",
        "Shadow tomography overcomes this limitation by exploiting the phase shift of X-rays as they pass through an object. When X-rays encounter a boundary between two materials with different refractive indices, they undergo a phase shift. This phase shift contains valuable information about the object's internal structure.\n",
        "\n",
        "To perform shadow tomography, a coherent X-ray source, such as a synchrotron or an X-ray tube, is used. The X-rays pass through the object and are collected by a detector placed behind it. The collected X-rays contain both intensity and phase information.\n",
        "\n",
        "The key to shadow tomography lies in extracting the phase information from the intensity measurements. This is typically achieved by using specialized techniques such as interferometry or grating-based methods. These methods create interference patterns that encode the phase information, which can then be computationally reconstructed into a three-dimensional image.\n",
        "\n",
        "The resulting shadow tomography image provides not only information about the X-ray absorption but also about the object's refractive index distribution and other structural features. This enables visualization of fine details, such as boundaries between tissues or subtle density variations, which may not be easily distinguishable in traditional X-ray images.\n",
        "\n",
        "Shadow tomography has the potential to improve diagnostic accuracy and enhance our understanding of complex biological and materials systems. However, it currently requires advanced X-ray sources and specialized techniques, limiting its widespread availability in clinical settings. Nevertheless, ongoing research and technological advancements aim to make shadow tomography more accessible and applicable in various fields."
      ],
      "metadata": {
        "id": "iMNjAZqA5-s_"
      }
    },
    {
      "cell_type": "markdown",
      "source": [
        "Apologies for the confusion in my previous response. Shadow tomography can indeed be related to the characterization of quantum states, often referred to as \"quantum state tomography.\"\n",
        "\n",
        "In quantum mechanics, the state of a quantum system is described by a mathematical object known as a quantum state. Quantum state tomography aims to reconstruct or characterize the complete quantum state of a system by performing measurements on the system in different bases or using various observables.\n",
        "\n",
        "Shadow tomography of quantum states is a specific technique used for quantum state reconstruction. It involves measuring the shadows or projections of the quantum state onto a set of measurement operators or observables. These measurements provide partial information about the quantum state, similar to the way shadows reveal information about the object casting them.\n",
        "\n",
        "The procedure for shadow tomography of quantum states typically involves preparing the system in different known initial states, applying a set of measurements or observables to the system, and then collecting the measurement outcomes. By repeating this process for a sufficiently large number of initial states and measurements, it becomes possible to reconstruct the complete quantum state of the system through computational methods.\n",
        "\n",
        "The reconstructed quantum state provides valuable information about the system's properties, such as its purity, entanglement, coherence, and other relevant characteristics. This information is crucial for understanding and characterizing quantum systems, as well as for verifying the performance of quantum devices and protocols.\n",
        "\n",
        "Quantum state tomography, including shadow tomography, plays a vital role in the development, verification, and optimization of quantum algorithms, quantum error correction, quantum communication, and other applications of quantum information science.\n",
        "\n",
        "It's important to note that quantum state tomography can be a challenging task due to various factors, such as noise, imperfections in measurements, and the exponential growth of the state space with the number of quantum bits (qubits). Researchers continually work on improving the efficiency and accuracy of quantum state tomography techniques to overcome these challenges."
      ],
      "metadata": {
        "id": "bI5xQd9s6Atw"
      }
    },
    {
      "cell_type": "markdown",
      "source": [
        "*Quantum Process Tomography*"
      ],
      "metadata": {
        "id": "dgxniphi11W3"
      }
    },
    {
      "cell_type": "markdown",
      "source": [
        "https://arxiv.org/abs/quant-ph/0702131"
      ],
      "metadata": {
        "id": "vrfRDNCp18Bt"
      }
    },
    {
      "cell_type": "markdown",
      "source": [
        "**Quantum Tomography?**\n",
        "\n",
        "Quantum tomography is an experimental procedure to reconstruct a description of part of quantum system from the measurement outcomes of a specific set of experiments. In Qiskit we implement the following types of tomography:\n",
        "\n",
        "**Quantum state tomography**: Given a state-preparation circuit that prepares a system in a state, reconstruct a description of the density matrix 𝜌\n",
        " of the actual state obtained in the system.\n",
        "\n",
        "**Quantum process tomography**: Given a circuit, reconstruct a description of the quantum channel \n",
        " that describes the circuit’s operator when running on the system.\n",
        "\n",
        "**Quantum gate set tomography**: Performs process tomography on a set of gates in a self-consistent manner, meaning quantum noises on gates used by the tomography process itself is also taken into account.\n",
        "\n",
        "This notebook gives examples for how to use the ignis.verification.tomography modules.\n",
        "\n",
        "Quantum tomography refers to a suite of techniques used in quantum computing and quantum information theory to reconstruct a description of a part of a quantum system based on measurement data. The word \"tomography\" comes from medical imaging, where it's used to denote techniques that build a 3D image of an object from 2D slices.\n",
        "\n",
        "In quantum mechanics, there are two main types of tomography: state tomography and process tomography.\n",
        "\n",
        "1. **Quantum State Tomography**: This is a method used to determine the quantum state of a system. The goal is to construct the density matrix that represents the state of the system. This is done by making a series of measurements on identically prepared quantum systems and using the statistical results of these measurements to reconstruct the state. State tomography is a challenging problem in general, as the number of parameters to be estimated grows exponentially with the number of qubits.\n",
        "\n",
        "2. **Quantum Process Tomography**: This extends the concept of state tomography to quantum operations or processes. The goal here is to determine the quantum operation that a particular quantum system implements. In other words, given access to a quantum process (which could be a quantum gate, a sequence of quantum gates, or a quantum channel), the task is to identify the corresponding quantum map. This is done by preparing a set of input states, applying the process, and performing state tomography on the outputs. The data are then used to reconstruct the process matrix or Choi matrix, which fully describes the quantum operation. Again, process tomography is also a challenging problem, as the number of parameters to be estimated grows rapidly with the number of qubits.\n",
        "\n",
        "Quantum tomography is a fundamental tool for quantum characterization, verification, and validation, which are crucial tasks in quantum computing and quantum information processing. However, due to the complexity of these tasks, research is being conducted into more efficient methods, such as compressed sensing and other methods based on assumptions about the structure of the states or processes being measured.\n",
        "\n",
        "Qiskit:\n",
        "\n",
        "https://qiskit.org/documentation/stable/0.26/tutorials/noise/8_tomography.html\n",
        "\n",
        "https://qiskit.org/documentation/tutorials/simulators/2_device_noise_simulation.html\n",
        "\n",
        "[How do I change the fitter algorithm in a state tomography experiment? - 1 Minute Qiskit](https://www.youtube.com/watch?v=MsENB0n4Ac8)"
      ],
      "metadata": {
        "id": "OaOjrY5x5Cfk"
      }
    },
    {
      "cell_type": "markdown",
      "source": [
        "**Choi matrix = Process Matrix, which fully describes the quantum operation**\n",
        "\n",
        "The data are then used to reconstruct the process matrix or Choi matrix, which fully describes the quantum operation\n",
        "\n",
        "https://en.m.wikipedia.org/wiki/Choi%27s_theorem_on_completely_positive_maps\n",
        "\n",
        "Quantum tomography refers to a suite of techniques used in quantum computing and quantum information theory to reconstruct a description of a part of a quantum system based on measurement data. The word \"tomography\" comes from medical imaging, where it's used to denote techniques that build a 3D image of an object from 2D slices.\n",
        "\n",
        "In quantum mechanics, there are two main types of tomography: state tomography and process tomography.\n",
        "\n",
        "1. **Quantum State Tomography**: This is a method used to determine the quantum state of a system. The goal is to construct the density matrix that represents the state of the system. This is done by making a series of measurements on identically prepared quantum systems and using the statistical results of these measurements to reconstruct the state. State tomography is a challenging problem in general, as the number of parameters to be estimated grows exponentially with the number of qubits.\n",
        "\n",
        "2. **Quantum Process Tomography**: This extends the concept of state tomography to quantum operations or processes. The goal here is to determine the quantum operation that a particular quantum system implements. In other words, given access to a quantum process (which could be a quantum gate, a sequence of quantum gates, or a quantum channel), the task is to identify the corresponding quantum map. This is done by preparing a set of input states, applying the process, and performing state tomography on the outputs. The data are then used to reconstruct the process matrix or Choi matrix, which fully describes the quantum operation. Again, process tomography is also a challenging problem, as the number of parameters to be estimated grows rapidly with the number of qubits.\n",
        "\n",
        "Quantum tomography is a fundamental tool for quantum characterization, verification, and validation, which are crucial tasks in quantum computing and quantum information processing. However, due to the complexity of these tasks, research is being conducted into more efficient methods, such as compressed sensing and other methods based on assumptions about the structure of the states or processes being measured."
      ],
      "metadata": {
        "id": "fVcxQqimzDiG"
      }
    },
    {
      "cell_type": "markdown",
      "source": [
        "**what is a quantum state tomography?**\n",
        "\n",
        "Quantum state tomography is the process of determining the state of a quantum system based on the results of measurements. In essence, it's a method used to figure out the unknown quantum state of a system. It's called \"tomography\" because, like a CT scan in medicine, it combines many different measurements to construct a full picture of something you can't directly observe in one shot.\n",
        "\n",
        "For a quantum system, the state is typically represented by a density matrix. In the simplest case, for a single qubit, the density matrix is a 2x2 Hermitian matrix that is positive semi-definite and has trace 1. The generalization to multiple qubits is a matrix that is 2^n x 2^n (where n is the number of qubits), but with the same properties.\n",
        "\n",
        "Quantum state tomography involves making various measurements on many identically-prepared copies of the quantum system and then using the results to reconstruct the density matrix. The measurements you make are usually in different bases. For a single qubit, measurements are often made in the X, Y, and Z bases, which correspond to the Pauli matrices.\n",
        "\n",
        "However, as the number of qubits increases, the number of measurements you need to make grows exponentially, which makes full quantum state tomography unfeasible for large systems. For a system of n qubits, the density matrix contains 4^n - 1 independent real parameters, which is why the number of measurements needed increases so rapidly.\n",
        "\n",
        "Therefore, in practice, people use other methods to get partial information about the state or use assumptions to reduce the number of necessary measurements. There are also methods that attempt to directly estimate quantities of interest, like the expectation value of an observable, without fully reconstructing the state."
      ],
      "metadata": {
        "id": "-Bv3caiQuGsn"
      }
    },
    {
      "cell_type": "markdown",
      "source": [
        "**what are these alternative methods to quantum state tomography?**\n",
        "\n",
        "Indeed, full quantum state tomography is often impractical due to the exponential number of measurements required as the number of qubits increases. Here are some alternative methods that are commonly used in practice:\n",
        "\n",
        "1. **Quantum Process Tomography**: Instead of trying to determine the state of a quantum system, quantum process tomography aims to determine the quantum operation or quantum channel that describes a quantum process. This can be more practical in many experimental scenarios where you're more interested in characterizing a quantum gate or a quantum circuit.\n",
        "\n",
        "2. **Direct Estimation of Expectation Values**: Rather than attempting to reconstruct the full quantum state, you can directly estimate the expectation value of a specific observable by making many measurements in the basis corresponding to that observable and averaging the results.\n",
        "\n",
        "3. **Quantum State Estimation**: Quantum state estimation techniques use a set of projective measurements to estimate the state of a quantum system. This is similar to quantum state tomography, but instead of trying to reconstruct the full state, it only attempts to estimate it based on the results of projective measurements.\n",
        "\n",
        "4. **Quantum Compressed Sensing**: Compressed sensing is a method that uses the sparsity of a state in a certain basis to reduce the number of measurements required. It has been applied in the context of quantum state tomography, especially for states that are known to be sparse in a certain basis.\n",
        "\n",
        "5. **Machine Learning Techniques**: Machine learning methods, including neural networks and other techniques, have been increasingly used for quantum state tomography and characterization. These methods can often handle higher-dimensional data and can help reduce the number of measurements required.\n",
        "\n",
        "6. **Randomized Benchmarking**: This is a method for characterizing the performance of quantum gates by applying sequences of random gates followed by their inverse and seeing how often the system returns to the initial state.\n",
        "\n",
        "Remember, the choice of method depends on the specific task, the number of qubits, and the resources available. Each method has its strengths and limitations and might be suited to different experimental setups or goals.\n",
        "\n"
      ],
      "metadata": {
        "id": "AcHLAsw4uvoF"
      }
    },
    {
      "cell_type": "markdown",
      "source": [
        "**Block Encoding**\n",
        "\n",
        "Block encoding is the framework or tool for developing a variety of quantum algorithms by encoding a matrix as a block of a unitary.There are various ways to implement the same as per requirement,one of the ways is by decomposing the matrices into linear combinations of displacement matrices.\n",
        "\n",
        "\n",
        "block encodings (unitary, signal proicesing, transformation)\n",
        "\n",
        "https://quantumcomputing.stackexchange.com/questions/18236/block-encoding-technique-what-is-it-and-what-is-it-used-for"
      ],
      "metadata": {
        "id": "v1ou698c0kn1"
      }
    },
    {
      "cell_type": "markdown",
      "source": [
        "Block Encoding (Gibbs-Sampling)"
      ],
      "metadata": {
        "id": "A5mYvARiUf-7"
      }
    },
    {
      "cell_type": "markdown",
      "source": [
        "https://arxiv.org/abs/1806.01838\n",
        "\n",
        "Quantum singular value transformation and beyond"
      ],
      "metadata": {
        "id": "GYNleGbzLh_p"
      }
    },
    {
      "cell_type": "markdown",
      "source": [
        "aaronson"
      ],
      "metadata": {
        "id": "Y86Jw3gfSQg2"
      }
    },
    {
      "cell_type": "markdown",
      "source": [
        "https://arxiv.org/abs/2203.10236"
      ],
      "metadata": {
        "id": "fA9_AEsAIPhm"
      }
    },
    {
      "cell_type": "markdown",
      "source": [
        "https://de.wikipedia.org/wiki/Gibbs-Sampling"
      ],
      "metadata": {
        "id": "Sd2SdVyZPSrS"
      }
    },
    {
      "cell_type": "markdown",
      "source": [
        "Block encoding is the framework or tool for developing a variety of quantum algorithms by encoding a matrix as a block of a unitary.There are various ways to implement the same as per requirement,one of the ways is by decomposing the matrices into linear combinations of displacement matrices.\n",
        "\n",
        "Arxiv: [Quantum singular value transformation and beyond: exponential improvements for quantum matrix arithmetics](https://arxiv.org/abs/1806.01838)\n",
        "\n",
        "In HHL f(x) = 1/x. Use Singular Value Transformation to approximate it! https://www.youtube.com/watch?v=L40UUDxPEbE&list=WL&index=3&t=215s\n",
        "\n",
        "https://quantumcomputing.stackexchange.com/questions/18197/in-the-context-of-block-encoding-what-does-0-rangle-otimes-i-represent\n",
        "\n",
        "https://quantumcomputing.stackexchange.com/questions/18236/block-encoding-technique-what-is-it-and-what-is-it-used-for"
      ],
      "metadata": {
        "id": "7XFH8tKPLEJ1"
      }
    },
    {
      "cell_type": "markdown",
      "source": [
        "*(2021) Quantum **Krylov subspace** algorithms for ground and excited state energy estimation*"
      ],
      "metadata": {
        "id": "Drnam8uix3L6"
      }
    },
    {
      "cell_type": "markdown",
      "source": [
        "https://arxiv.org/abs/2109.06868"
      ],
      "metadata": {
        "id": "AE6k5L9fRiXB"
      }
    },
    {
      "cell_type": "markdown",
      "source": [
        "https://en.m.wikipedia.org/wiki/Krylov_subspace\n",
        "\n",
        "\n",
        "https://quantum-journal.org/papers/q-2023-05-23-1018/\n",
        "\n",
        "We present an algorithm that uses block encoding on a quantum computer to exactly construct a Krylov space, which can be used as the basis for the Lanczos method to estimate extremal eigenvalues of Hamiltonians. While the classical Lanczos method has exponential cost in the system size to represent the Krylov states for quantum systems, our efficient quantum algorithm achieves this in polynomial time and memory. The construction presented is exact in the sense that the resulting Krylov space is identical to that of the Lanczos method, so the only approximation with respect to the exact method is due to finite sample noise. This is possible because, unlike previous quantum Krylov methods, our algorithm does not require simulating real or imaginary time evolution. We provide an explicit error bound for the resulting ground state energy estimate in the presence of noise.\n",
        "\n",
        "https://medium.com/qiskit/a-mainstay-of-classical-ground-state-algorithms-gets-a-quantum-speedup-8003687dbb0d"
      ],
      "metadata": {
        "id": "z_W9d3IIx7NI"
      }
    },
    {
      "cell_type": "markdown",
      "source": [
        "###### *Resource Estimation for Quantum Algorithms*"
      ],
      "metadata": {
        "id": "y7r0yPBYKf60"
      }
    },
    {
      "cell_type": "markdown",
      "source": [
        "Video: [Roy J. Garcia | Nov. 15, 2022 | Resource theory of quantum scrambling](https://www.youtube.com/watch?v=pikuMFTDEbI&list=PLBn8lN0DcvpmcGQ1H_9YMFPew1ZsP_8Sj&index=11&t=25s)\n",
        "\n",
        "Video: [Quantum computing use cases for the pharma industry [QCT21/22, Seminar #5]](https://www.youtube.com/watch?v=CkzazWRCdWw&list=WL&index=37&t=2074s)"
      ],
      "metadata": {
        "id": "Q6eTdz4sX4Ul"
      }
    },
    {
      "cell_type": "markdown",
      "source": [
        "\n",
        "https://www.handelsblatt.com/audio/disrupt-podcast/drei-experten-drei-perspektiven-wann-werden-quantencomputer-endlich-realitaet/29571162.html\n",
        "\n",
        "https://spectrum.ieee.org/quantum-computing-skeptics\n",
        "\n",
        "https://ap-verlag.de/welchen-entwicklungsstand-hat-das-quantencomputing-erreicht/85623/\n",
        "\n",
        "https://www.riskcompliance.de/news/wie-veraendert-quantencomputing-das-banking/"
      ],
      "metadata": {
        "id": "ys8hKh3l2Va_"
      }
    },
    {
      "cell_type": "markdown",
      "source": [
        "https://quantumcomputing.stackexchange.com/questions/21518/review-paper-on-depth-qubits-and-t-gates-number-on-cliffordt-decomposition-f"
      ],
      "metadata": {
        "id": "2UOmCkkoKjJ4"
      }
    },
    {
      "cell_type": "markdown",
      "source": [
        "from Table 1 in arxiv.org/abs/2012.03819, pricing commonly used non-trivial options (autocallables and TARFs) using Monte Carlo simulations on a quantum computer takes ~10 billion gates\n",
        "\n",
        "https://arxiv.org/abs/2012.03819: A Threshold for Quantum Advantage in Derivative Pricing\n",
        "\n"
      ],
      "metadata": {
        "id": "M_o9NPECNoQb"
      }
    },
    {
      "cell_type": "markdown",
      "source": [
        "*Classical Emulation of Quantum Algorithms*"
      ],
      "metadata": {
        "id": "5LYWuYGRUVyH"
      }
    },
    {
      "cell_type": "markdown",
      "source": [
        "Physicists 'entangle' individual molecules for the first time, hastening possibilities for quantum computing\n",
        "\n",
        "https://phys-org.cdn.ampproject.org/c/s/phys.org/news/2023-12-physicists-entangle-individual-molecules-hastening.amp"
      ],
      "metadata": {
        "id": "9c4M19VFLhKl"
      }
    },
    {
      "cell_type": "markdown",
      "source": [
        "What if quantum computers were not about getting faster results, but better results?\n",
        "\n",
        "This could be the case in optimization problems.\n",
        "\n",
        "Because when optimization problems become big enough, finding THE best answer is usually not practically achievable.\n",
        "\n",
        "The goal of optimization algorithms is therefore to get as close as possible to the best answer, but they usually only output a \"local optimum\", not the \"global optimum\".\n",
        "\n",
        "👉 So, if a quantum computer takes longer but finds a better optimum, this is a new form of quantum advantage, right?\n",
        "\n",
        "Well... yes and no.\n",
        "\n",
        "The thing is that you can emulate the behavior of a quantum computer with a classical computer. Even better, unlike real quantum computers, emulators running on classical computers aren't bothered by noise, so they tend to produce better results.\n",
        "\n",
        "This means that if you have a quantum algorithm whose main benefit is \"it finds better solutions\", then you also have a classical algorithm which does that.\n",
        "\n",
        "Just use your classical computer to run your quantum algorithm on an emulator and you're good!\n",
        "\n",
        "👉 So, why bother with real quantum computers?\n",
        "\n",
        "The problem of emulation is that the memory requirements grow exponentially with the number of qubits you want to emulate.\n",
        "\n",
        "Emulating a handful of qubits can be done on a sheet of paper.\n",
        "\n",
        "Emulating 40 qubits requires terabytes of memory.\n",
        "\n",
        "Emulating 100 qubits requires more than the combined storage capacity of all devices on Earth.\n",
        "\n",
        "This memory problem can be easily converted into a computing time problem. Need the coefficient of a given state? Don't get it from the memory, just recompute it.\n",
        "\n",
        "But then your computing time is the one that grows exponentially out of hand.\n",
        "\n",
        "At the end of the day, a classical computer is theoretically able to find results just as good as those found by a quantum computer. Possibly even better, if you consider that classical computers are not bothered by noise.\n",
        "\n",
        "But it would just take too much time.\n",
        "\n",
        "So, is it \"better results\" or \"faster results\"? To me, this really looks like two faces of the same coin!"
      ],
      "metadata": {
        "id": "HhE6VY_TUde-"
      }
    },
    {
      "cell_type": "markdown",
      "source": [
        "**Fourier is all you need**: positional and number encoding using periodic signals\n",
        "\n",
        "I just realized during a conversation with Vanio Markov the similarity between the sinusoidal position encoding in the transformer architecture and what we’ve been calling “value encoding” in quantum computing. This concept was the main idea in encoding a (polynomial) function in a quantum state (inspired by phase estimation), used for optimization purposes (and contributed to Qiskit): https://lnkd.in/ea7QU77\n",
        "\n",
        "The “Attention is all you neeed” paper (https://lnkd.in/gP-y4xUE ) explains the positional encoding, but other references, like the one below, may be more accessible.\n",
        "\n",
        "https://sair.synerise.com/fourier-feature-encoding/\n",
        "\n",
        "This is a video showing frequency/value encoding for various frequencies: https://github.com/QuState/cqc_code/blob/master/videos/three_qubit_frequency_encoding.mp4 . The interactive tool also shows both the complex sinusoid (geometric sequence)  for a frequency and its  Fourier transform."
      ],
      "metadata": {
        "id": "PB2uSkU6JIZ6"
      }
    },
    {
      "cell_type": "markdown",
      "source": [
        "Data Encoding (Embedding)\n",
        "\n",
        "**Quantum computers are Kernel methods** of a very specific kind: https://www.youtube.com/watch?v=pe1d0RyCNxY&t=2655s\n",
        "\n",
        "![geometry](https://raw.githubusercontent.com/deltorobarba/repo/master/sciences_1406.png)\n",
        "\n",
        "https://arxiv.org/abs/2001.03622 - Quantum embeddings for machine learning\n",
        "\n",
        "\n",
        "**Data Encoding is the most important!**\n",
        "\n",
        "https://youtu.be/pe1d0RyCNxY?t=3008\n",
        "\n",
        "![geometry](https://raw.githubusercontent.com/deltorobarba/repo/master/sciences_1407.png)\n",
        "\n",
        "The Helstrom measurement is the measurement that has the minimum error probability when trying to distinguish between two states.05.09.2018\n",
        "\n",
        "https://en.m.wikipedia.org/wiki/Quantum_state_discrimination\n",
        "\n",
        "After we embedded / encoded our data, and if we encode it in a way that it separates one data type from another in the hilbert space, we already know which measurement is the best one to do. We know quite a bit about the measurements to distinguish data. **Maybe after encoding the data, we are already done**. We could even train the encoding!\n",
        "\n",
        "![geometry](https://raw.githubusercontent.com/deltorobarba/repo/master/sciences_1410.png)\n",
        "\n",
        "\n",
        "https://arxiv.org/abs/2001.03622 - Quantum embeddings for machine learning\n",
        "\n"
      ],
      "metadata": {
        "id": "reC2GT6fUkEk"
      }
    },
    {
      "cell_type": "markdown",
      "source": [
        "> **The easiest way for a parameter to enter a circuit is through a rotation of a single qubit, in proportion to the value of a single datapoint, so a single scalar value:**\n",
        "\n",
        "![ggg](https://raw.githubusercontent.com/deltorobarba/repo/master/quantum_190.png)\n",
        "\n",
        "> **You can also use a sequence of rotations to embedd data (reuploding).** And maybe there is free parameters in between as well. Can make a more complex function available than if you upload only once in a single rotation.\n",
        "\n",
        "> **Learnable embeddings**: The other idea is to actually have a trainable embedding layer. Not to worry about training the unitary of the circuit, but worry about training the embedding and then use standard quantum information metrics to classify the data.\n",
        "\n",
        "![ggg](https://raw.githubusercontent.com/deltorobarba/repo/master/quantum_191.png)"
      ],
      "metadata": {
        "id": "xYRmG4v9vwCv"
      }
    },
    {
      "cell_type": "markdown",
      "source": [
        "**Basis (State) Encoding**\n",
        "\n",
        "* We gave data points x12 and x2\n",
        "\n",
        "* We first need to represent data in binary form, like 00 and 10\n",
        "\n",
        "* Then we encode it into a QC in a way, such that we have basis states that represents them like |00> and |10>\n",
        "\n",
        "* with all other basis states having probability zero - represented in the amplitude vector\n",
        "\n",
        "* So we encode data in quantum state that is aligned with basis states\n",
        "\n",
        "![ggg](https://raw.githubusercontent.com/deltorobarba/repo/master/sciences_856.png)"
      ],
      "metadata": {
        "id": "Fxjw-h8ox4Kx"
      }
    },
    {
      "cell_type": "markdown",
      "source": [
        "**Amplitude Encoding**\n",
        "\n",
        "* we want to encode our classical information into an amplitude vector\n",
        "\n",
        "* you have a classical data vector with 4 entries (features) x1\n",
        "\n",
        "* now construct a circuit, so that we have an amplitude vector that corresponds to the values in the classical data vector:\n",
        "\n",
        "\t* we have 2 qubits initialized in the ground state\n",
        "\n",
        "\t* then we apply some operations U (x1) on these qubits\n",
        "\n",
        "\t* and then we get a quantum state that corresponds to an amplitude vector that exactly represents our classical data points\n",
        "\n",
        "![ggg](https://raw.githubusercontent.com/deltorobarba/repo/master/sciences_857.png)"
      ],
      "metadata": {
        "id": "F2UqpWiN0Dv7"
      }
    },
    {
      "cell_type": "markdown",
      "source": [
        "**Angle Encoding**\n",
        "\n",
        "* we have 2 dimension data that we can write in a two dimensional vector\n",
        "\n",
        "* then I take the number of qubits equal to the number of features (rows / entries in a classical vector)\n",
        "\n",
        "* then I apply rotations to each of these qubits that are equal to the value of the features\n",
        "\n",
        "\t* for example I rotate the first qubit about some axis Z. The rotation value / rotation angle is equal to the first classical feature value\n",
        "\n",
        "\t* the I take my second qubit and rotate it, for example again by the Z axis, and the angle of the rotation is equal to the second feature value of my data point\n",
        "\n",
        "* for higher dimensional data, for example a third dimension classical vector, then I simply add more qubits to my system to encode this information\n",
        "\n",
        "* For example:  [z feature map (Qiskit)](https://qiskit.org/documentation/stubs/qiskit.circuit.library.ZFeatureMap.html#qiskit.circuit.library.ZFeatureMap):\n",
        "\t* apply Hadamard operator first to each of the qubits, and then encode data values in rotations\n",
        "\t* and then repeat this as many times as you want (stacking operations sequentially like in the image) to encode data multpiple times in a row\n",
        "\n",
        "![ggg](https://raw.githubusercontent.com/deltorobarba/repo/master/sciences_858.png)"
      ],
      "metadata": {
        "id": "GbtZMigG2mij"
      }
    },
    {
      "cell_type": "markdown",
      "source": [
        "**Higher Order Encoding**\n",
        "\n",
        "* there is no theoretical reason why doing this or if it's better or not\n",
        "\n",
        "* the idea comes from the paper [Supervised learning with quantum enhanced feature spaces](https://arxiv.org/abs/1804.11326)\n",
        "\n",
        "* Basic idea: let's do an encoding that is hard to reproduce classically and simulate, and then maybe we get some quantum advantage in doing this\n",
        "\n",
        "* we have some two dimensional data with a vector with 2 entries\n",
        "\n",
        "\t* choose number of qubits = number of feature values\n",
        "\n",
        "\t* then apply an hadarmard on each qubit\n",
        "\n",
        "\t* and then do rotations about some axis Z, and the first angle is the first feature value, and the same with the second qubit\n",
        "\n",
        "\t* and then we apply some entanglement gates between these qubits\n",
        "\n",
        "\t* then we do another rotation (for example again Z axis), but this rotation angle depends on some function of the product of the feature values R(x^1 * x^2)\n",
        "\n",
        "\t* this is where the name comes from: we encode in a higher order product space\n",
        "\n",
        "\t* and this whole block of this encoding can be repeated, which is called the depth of the feature maps\n",
        "\n",
        "![ggg](https://raw.githubusercontent.com/deltorobarba/repo/master/sciences_860.png)\n",
        "\n",
        "![ggg](https://raw.githubusercontent.com/deltorobarba/repo/master/sciences_861.png)"
      ],
      "metadata": {
        "id": "T8NOeUKI5dOf"
      }
    },
    {
      "cell_type": "markdown",
      "source": [
        "**Other Encodings**\n",
        "\n",
        "* Hamiltonian evolution ansatz encoding\n",
        "\n",
        "* Displacement Encoding\n",
        "\n",
        "* IQP Encoding (Instantaneous quantum polynomial)\n",
        "\n",
        "* Squeezing Encoding\n",
        "\n",
        "* QAOA Encoding"
      ],
      "metadata": {
        "id": "BtmFtmBU6JFh"
      }
    },
    {
      "cell_type": "markdown",
      "source": [
        "###### ***Mathematical Formulation & Postulates of Quantum Mechanics***"
      ],
      "metadata": {
        "id": "iptu2LVks6If"
      }
    },
    {
      "cell_type": "markdown",
      "source": [
        "![sciences](https://raw.githubusercontent.com/deltorobarba/repo/master/sciences_1698.jpg)"
      ],
      "metadata": {
        "id": "Hbmeml_TU5Bj"
      }
    },
    {
      "cell_type": "markdown",
      "source": [
        "https://en.m.wikipedia.org/wiki/Bra–ket_notation\n",
        "\n",
        "https://en.m.wikipedia.org/wiki/Quantum_state\n",
        "\n",
        "https://en.m.wikipedia.org/wiki/Measurement_in_quantum_mechanics\n",
        "\n",
        "https://en.m.wikipedia.org/wiki/Wave_function"
      ],
      "metadata": {
        "id": "g5_S-_U6lMXY"
      }
    },
    {
      "cell_type": "markdown",
      "source": [
        "https://www.linkedin.com/pulse/math-quantum-computing-hard-concept-simple-terms-teddy-porfiris/"
      ],
      "metadata": {
        "id": "VyXbQKw2Ktpw"
      }
    },
    {
      "cell_type": "markdown",
      "source": [
        "\"There are (at least) two possible ways to formulate precisely (i.e. mathematically) elementary\n",
        "QM. The eldest one, historically speaking, is due to von Neumann in essence, and is formulated using the language of Hilbert spaces and the spectral theory of unbounded operators. A more recent and mature formulation was developed by several authors in the attempt to solve quantum field theory problems in mathematical physics. It relies on the theory of abstract algebras (*-algebras and C* -algebras) that are built mimicking the operator algebras defined and studied, again, by von Neumann (nowadays known as W* -algebras or von Neumann algebras), but freed from the Hilbert-space structure. The core result is the celebrated GNS theorem (after Gelfand, Najmark and Segal), that we will prove in Chap. 14. The newer formulation can be considered an extension of the former one, in a very precise sense that we shall not go into here, also by virtue of the novel physical context it introduces and by the possibility of treating physical systems with infinitely many degrees of freedom, i.e. quantum fields. In particular, this second formulation makes precise sense of the demand for locality and covariance of relativistic quantum field theories, and allows to extend quantum field theories to a curved spacetime.\"\n",
        "-Valter Moretti"
      ],
      "metadata": {
        "id": "VNk-lacMqzQJ"
      }
    },
    {
      "cell_type": "markdown",
      "source": [
        "https://www.cs.cmu.edu/~odonnell/quantum15/lecture17.pdf\n",
        "\n",
        "https://quantum.phys.cmu.edu/QCQI/qitd463.pdf\n",
        "\n",
        "https://quantum.phys.cmu.edu/QCQI/qitd412.pdf"
      ],
      "metadata": {
        "id": "oQDonJmr5Q6o"
      }
    },
    {
      "cell_type": "markdown",
      "source": [
        "*Ehrenfest and the Liouville correspondence*\n",
        "\n",
        "* The Ehrenfest theorem and the Liouville's theorem provide important connections between the microscopic (quantum) and the macroscopic (classical) descriptions of physical systems.\n",
        "\n",
        "* **Ehrenfest Theorem**: In quantum mechanics, the Ehrenfest theorem provides a link between the quantum mechanical description of the motion of particles and the classical motion as described by Newton's laws. Named after Paul Ehrenfest, who proved it in 1927, it demonstrates how the expectation values (average values) of quantum observables (like position and momentum) evolve with time. **Under some circumstances, when quantum effects are small, these expectation values follow trajectories similar to classical mechanics.**\n",
        "\n",
        "* Mathematically, the Ehrenfest theorem states that the time derivative of the expectation value of an operator equals the expectation value of the time derivative of the operator. For position (x) and momentum (p), it can be written as:\n",
        "\n",
        "* d〈x〉/dt = 〈p〉/m  (Ehrenfest's first theorem, analogous to velocity = momentum/mass)\n",
        "d〈p〉/dt = -〈dV/dx〉  (Ehrenfest's second theorem, analogous to Newton's second law)\n",
        "\n",
        "* where V is the potential energy and m is the mass of the particle.\n",
        "\n",
        "* **Liouville's Theorem**: In classical statistical mechanics, Liouville's theorem describes the time evolution of phase space distribution function (a function that gives the probability of the system to be in a certain state with given position and momentum) in a Hamiltonian system (a system governed by Hamilton's equations). The theorem states that the distribution function is constant along the trajectories of the system. That is, the total phase space volume is conserved.\n",
        "\n",
        "* This provides a bridge between microscopic (individual particle trajectories) and macroscopic (bulk or average behavior) properties of the system. The Liouville's theorem is a cornerstone in the development of statistical mechanics and the concept of entropy.\n",
        "\n",
        "* Both of these theorems provide important links between classical and quantum descriptions of physics. They show that in certain limits, classical and quantum mechanical descriptions become similar, providing a physical intuition for the correspondence principle, which states that quantum mechanics must reproduce classical physics in the limit of large quantum numbers."
      ],
      "metadata": {
        "id": "PN6ALFTxu9-0"
      }
    },
    {
      "cell_type": "markdown",
      "source": [
        "https://phys.org/news/2023-01-scientists-quantum-harmonic-oscillator-room.html"
      ],
      "metadata": {
        "id": "6VMJ5J0fVOgM"
      }
    },
    {
      "cell_type": "markdown",
      "source": [
        "> Video: [Map of Quantum Physics](https://youtu.be/gAFAj3pzvAA)"
      ],
      "metadata": {
        "id": "OEoP77S6dgsE"
      }
    },
    {
      "cell_type": "markdown",
      "source": [
        "https://phys.org/news/2022-11-common-misconceptions-quantum-physics.html\n",
        "\n",
        "https://www.derstandard.de/story/2000140294674/wie-die-quantenphysik-mit-unserer-vorstellung-von-realitaet-aufraeumt\n",
        "\n",
        "https://physicsworld.com/a/how-the-stern-gerlach-experiment-made-physicists-believe-in-quantum-mechanics/"
      ],
      "metadata": {
        "id": "eT_D-OhRlWtg"
      }
    },
    {
      "cell_type": "markdown",
      "source": [
        "[Korrespondenzprinzip](https://de.m.wikipedia.org/wiki/Korrespondenzprinzip): Klassische Größen werden durch Operatoren ersetzt. Die quantenmechanische Aufenthaltswahrscheinlichkeitsdichte eines Teilchens ist proportional zum Quadrat der Wellenfunktion der Materiewelle an jener Stelle. Für große Quantenzahlen geht die quantenmechanische Wahrscheinlichkeitsdichte asymptotisch in die klassische über.\n",
        "\n",
        "![ggg](https://upload.wikimedia.org/wikipedia/commons/thumb/0/05/Korrespondenzprinzip.svg/640px-Korrespondenzprinzip.svg.png)\n"
      ],
      "metadata": {
        "id": "MSQgI9GjQAv7"
      }
    },
    {
      "cell_type": "markdown",
      "metadata": {
        "id": "MKKG0DSv8FhZ"
      },
      "source": [
        "*Postulate der Quantenmechanik (Kopenhagener Interpretation)*\n",
        "\n",
        "1. **Zustand**: Der Zustand eines physikalischen Systems zu einem Zeitpunkt $t_{0}$ wird durch die Angabe eines zum Zustandsraum $\\mathcal{H}$ gehörenden komplexen Zustandsvektors $\\left|\\psi\\left(t_{0}\\right)\\right\\rangle$ definiert. Vektoren, die sich nur um einen von 0 verschiedenen Faktor $c \\in \\mathbb{C}$ unterscheiden, beschreiben denselben Zustand. Der Zustandsraum des Systems ist ein Hilbertraum.\n",
        "\n",
        "2. **Observable**: Jede Größe $A$, die physikalisch , gemessen\" werden kann, ist durch einen im Zustandsraum wirkenden hermiteschen Operator $\\hat{A}$ beschrieben. Dieser Operator wird als Observable bezeichnet und hat ein reelles Spektrum mit einer vollständigen sogenannten Spektralschar, bestehend aus einem , diskreten\" Anteil mit Eigenvektoren und Eigenwerten (Punktspektrum) und aus einem Kontinuum.\n",
        "\n",
        "3. **Messresultat**: Resultat der Messung einer physikalischen Größe $A$ kann nur einer der Eigenwerte der entsprechenden Observablen $\\hat{A}$ sein oder bei kontinuierlichem Spektrum des Operators eine messbare Menge aus dem Kontinuum.\n",
        "\n",
        "4. **Messwahrscheinlichkeit im Fall eines diskreten nichtentarteten Spektrums**: Wenn die physikalische Größe $A$ an einem System im Zustand $|\\psi\\rangle$ gemessen wird, ist die Wahrscheinlichkeit $P\\left(a_{n}\\right)$, den nichtentarteten Eigenwert $a_{n}$ der entsprechenden Observable $\\hat{A}$ zu erhalten (mit dem zugehörigen Eigenvektor $\\left|u_{n}\\right\\rangle$ ) $P\\left(a_{n}\\right)=\\left|\\left\\langle u_{n} \\mid \\psi\\right\\rangle\\right|^{2}$. Dabei seien $\\psi$ und $u_{n}$ normiert.\n",
        "\n",
        "5. **Die Zeitentwicklung des Zustandsvektors** $|\\psi(t)\\rangle$ ist gegeben durch die folgende Schrödingergleichung, wobei $\\hat{H}(t)$ die der totalen Energie des Systems zugeordnete Observable ist:\n",
        "\n",
        ">$\\mathrm{i} \\hbar \\frac{\\partial}{\\partial t}|\\psi(t)\\rangle=\\hat{H}(t)|\\psi(t)\\rangle$\n",
        "\n",
        "http://vergil.chemistry.gatech.edu/notes/quantrev/node20.html"
      ]
    },
    {
      "cell_type": "markdown",
      "source": [
        "* [Mathematical_formulation_of_quantum_mechanics](https://en.m.wikipedia.org/wiki/Mathematical_formulation_of_quantum_mechanics)\n",
        "* [C*-algebra](https://en.m.wikipedia.org/wiki/C*-algebra)\n",
        "* [Quantum_geometry](https://en.m.wikipedia.org/wiki/Quantum_geometry)\n",
        "* [Noncommutative_geometry](https://en.m.wikipedia.org/wiki/Noncommutative_geometry)\n",
        "* [Geometric_quantization](https://en.m.wikipedia.org/wiki/Geometric_quantization)"
      ],
      "metadata": {
        "id": "wGmG22vunC0E"
      }
    },
    {
      "cell_type": "markdown",
      "source": [
        "![ggg](https://raw.githubusercontent.com/deltorobarba/repo/master/quantum_209.png)\n"
      ],
      "metadata": {
        "id": "q8MuXUSiqRrJ"
      }
    },
    {
      "cell_type": "markdown",
      "metadata": {
        "id": "cE--P8idzoP-"
      },
      "source": [
        "**Video: [Crash course in density matrices](https://www.youtube.com/watch?v=1tserF6VGqI)**"
      ]
    },
    {
      "cell_type": "markdown",
      "metadata": {
        "id": "xWlXYxSBzPS3"
      },
      "source": [
        "**Single spin one half particle, focus on spin degrees of freedom & Pauli-matrices**\n",
        "\n",
        "* when the spin degrees of freedom interact with an electromagnetic field, the Pauli matrices come into play:\n",
        "\n",
        "> $\\sigma^{Z}=\\left(\\begin{array}{cc}1 & 0 \\\\ 0 & -1\\end{array}\\right) \\quad \\sigma^{X}=\\left(\\begin{array}{ll}0 & 1 \\\\ 1 & 0\\end{array}\\right) \\quad \\sigma^{Y}=\\left(\\begin{array}{cc}0 & -i \\\\ i & 0\\end{array}\\right)$\n",
        "\n",
        "* we have chosen a basis in such a way that the Pauli Z matrix is diagonal. Here are its basis vectors, the spin up in the z direction and the spin down direction, written as column vectors:\n",
        "\n",
        "> $|\\uparrow\\rangle=\\left(\\begin{array}{l}1 \\\\ 0\\end{array}\\right) \\quad |\\downarrow\\rangle=\\left(\\begin{array}{l}0 \\\\ 1\\end{array}\\right)$\n",
        "\n",
        "* we can re-express the basis vectors for the Pauli X matrix in either direction in terms of these vectors, but in the positive direction we can write it in the following way:\n",
        "\n",
        "> $|\\rightarrow\\rangle=\\frac{1}{\\sqrt{2}}(|\\uparrow\\rangle+|\\downarrow\\rangle)$"
      ]
    },
    {
      "cell_type": "markdown",
      "metadata": {
        "id": "yvOyiyJtzRtd"
      },
      "source": [
        "**States we are used to use in quantum mechanics are called 'pure states'.**\n",
        "\n",
        "* Any state can be written as the linear combination of the up and down vectors in the z-direction\n",
        "\n",
        "> $|\\psi\\rangle=a|\\uparrow\\rangle+b|\\downarrow\\rangle$\n",
        "\n",
        "* a and b are complex numbers whose modulus squared sum to 1\n",
        "\n",
        "> $\\langle\\psi \\mid \\psi\\rangle=|a|^{2}+|b|^{2}$\n",
        "\n",
        "* a and b can be referred to as the probability amplitudes, where their modulus squared are the probabilities that the system is in a particular configuration.\n",
        "\n",
        "* If we perform an ensemble of measurements on the system, we will find that the mean or expected value, for example of the Pauli-Z matrix, will be given by:\n",
        "\n",
        "> $\\left\\langle\\sigma^{Z}\\right\\rangle=\\left\\langle\\psi\\left|\\sigma^{Z}\\right| \\psi\\right\\rangle$"
      ]
    },
    {
      "cell_type": "markdown",
      "metadata": {
        "id": "uZoOoevVzUPa"
      },
      "source": [
        "**Dynamics: if we want to study how a quantum system changes in time, we usually refer to the Schroedinger equation.**\n",
        "\n",
        "> $i \\frac{d}{d t}|\\psi(t)\\rangle=\\hat{H}|\\psi\\rangle$\n",
        "\n",
        "* the operator $\\hat{H}$ is called the Hamiltonian and it tells us about the total energy in a system, and how things in a system interact with each other.\n",
        "\n",
        "* the easiest way to solve this problem is to first solve the Eigenvalue problem, which involves finding the Eigenvectors and the Eigenvalues of the hamiltonian. We are able the different values of the Eigenvalues and Eigenvectors with the label k:\n",
        "\n",
        "> $\\hat{H}\\left|E_{k}\\right\\rangle=E_{k}\\left|E_{k}\\right\\rangle$\n",
        "\n",
        "* This allows us to know that the Eigenvectors, when plugged into the Schroedinger equation ...\n",
        "\n",
        "> $i \\frac{d}{d t}\\left|E_{k}\\right\\rangle=\\hat{H}\\left|E_{k}\\right\\rangle=E_{k}\\left|E_{k}\\right\\rangle$\n",
        "\n",
        "* ... just pick up a phase in time depending on the energy they correspond to:\n",
        "\n",
        "> $\\left|E_{k}(t)\\right\\rangle=e^{-i E_{k} t}\\left|E_{k}\\right\\rangle$"
      ]
    },
    {
      "cell_type": "markdown",
      "metadata": {
        "id": "jitINkMkzWk-"
      },
      "source": [
        "**Now to sum more general situation with some generic state $\\psi$**\n",
        "\n",
        "* we can decompose $\\psi$ in terms of energy Eigenbasis:\n",
        "\n",
        "> $|\\psi\\rangle=\\sum_{m} c_{m}\\left|E_{m}\\right\\rangle$\n",
        "\n",
        "* where $c_{m}$ is given by the inner product of the energy Eigenvector labelled by m and $\\psi$ itself:\n",
        "\n",
        "> $c_{m}=\\left\\langle E_{m} \\mid \\psi\\right\\rangle$\n",
        "\n",
        "* We can then time-evolve the state by simply time-evolving the energy Eigen-Kets:\n",
        "\n",
        "> $|\\psi(t)\\rangle=\\sum_{m} c_{m} e^{-i E_{m} t}\\left|E_{m}\\right\\rangle$\n",
        "\n",
        "* Tracking the expectation value of an observable is quite easy: Simply applying the state vector in time to both sides of the matrix gives the following equation:\n",
        "\n",
        "> $\\langle A(t)\\rangle=\\sum_{m, n} \\bar{c}_{n} c_{m} A_{n, m} e^{i\\left(E_{n}-E_{m}\\right) t}$\n",
        "\n",
        "* Where we have labelled the matrix entries of a by the energy Eigenbasis in the following way:\n",
        "\n",
        "> $A_{n, m}=\\left\\langle E_{n}|A| E_{m}\\right\\rangle$"
      ]
    },
    {
      "cell_type": "markdown",
      "metadata": {
        "id": "utZdbq6QzZD9"
      },
      "source": [
        "**Propeties of the trace of a matrix**\n",
        "\n",
        "* We have a basis of states labeled by j $|j\\rangle, j=1,2$.. N that form a complete orthonormal basis. Then I write the trace of a matrix in the following way:\n",
        "\n",
        "> $\\operatorname{Tr}(A)=\\sum_{j}\\langle j|A| j\\rangle$\n",
        "\n",
        "* the trace is a linear mapping which tells us that we can separate the trace of the sum of two matrices apart like this, and we can also pull scalar multiples outside of the trace:\n",
        "\n",
        "> $\\operatorname{Tr}(A+B)=\\operatorname{Tr} A+\\operatorname{Tr} B$ with $\\operatorname{Tr}(c A)=c \\operatorname{Tr} A$\n",
        "\n",
        "* When we take the trace of two matrices multiplied by each other, the trace is invariant under swapping the two matrices inside of the trace.\n",
        "\n",
        "> $\\operatorname{Tr}(A B)=\\operatorname{Tr}(B A)$"
      ]
    },
    {
      "cell_type": "markdown",
      "metadata": {
        "id": "9Om09eqlza4O"
      },
      "source": [
        "**Density Matrices**\n",
        "\n",
        "* Going from a pure state represented by a Ket we can introduce the density matrix which is a completely equivalent way to represent the state of a quantum system\n",
        "\n",
        "* the density matrix in this context is just the outer product of the state with itself:\n",
        "\n",
        "> $\\rho=|\\psi\\rangle\\langle\\psi|$\n",
        "\n",
        "* the expectation value is rewritten in terms of a trace, but it is mathematically equivalent to the earlier expression:\n",
        "\n",
        "> $\\left\\langle\\sigma^{Z}\\right\\rangle=\\operatorname{Tr}\\left(\\rho \\sigma^{2}\\right)=\\left\\langle\\psi\\left|\\sigma^{Z}\\right| \\psi\\right\\rangle$\n",
        "\n",
        "* the density matrix has two fundamental properties: it's trace is 1 in the context of a pure state:\n",
        "\n",
        "> $\\operatorname{Tr} \\rho=1$\n",
        "\n",
        "> $\\operatorname{Tr}|\\psi\\rangle\\left\\langle\\left.\\psi|=|\\langle\\psi \\mid \\psi\\rangle\\right|^{2}=1\\right.$\n",
        "\n",
        "* and it's a positive operator:\n",
        "\n",
        "> $\\rho \\geq 0$\n",
        "\n",
        "* If I take any state vector our state space and perform the following operation, then the result is always greater than or equal to zero:\n",
        "\n",
        "> $\\langle\\phi|\\rho| \\phi\\rangle=|\\langle\\phi \\mid \\psi\\rangle|^{2} \\geq 0$"
      ]
    },
    {
      "cell_type": "markdown",
      "metadata": {
        "id": "wuLO_P1u6FBJ"
      },
      "source": [
        "**Dynamics: von Neumann equation of time evolution**\n",
        "\n",
        "* show from the Schroedinger equation we can derive the von Neumann equation of time evolution:\n",
        "\n",
        "> $i \\frac{\\partial \\rho}{\\partial t}=[\\hat{H}, \\rho]$\n",
        "\n",
        "* It features the commutation relationship between the Hamiltonian and the density matrix itself\n",
        "\n",
        "* then the expectation value for an observable in time can be rewritten in the following way:\n",
        "\n",
        "> $\\langle A(t)\\rangle=\\operatorname{Tr}(\\rho(t) A)$\n",
        "\n",
        "* where the density matrix $\\rho$ evolves with the Hamiltonian being applied to it in time:\n",
        "\n",
        "> $\\rho(t)=e^{-i \\hat{H} t} \\rho e^{i \\hat{H} t}$\n",
        "\n",
        "*  similarly re-expressed in the basis of the energy Eigenvalues\n",
        "\n",
        "> $\\rho(t)=\\sum_{m, n} \\rho_{m, n} e^{-i\\left(E_{m}-E_{n}\\right) t}\\left|E_{m}\\right\\rangle\\left\\langle E_{n}\\right|$\n",
        "\n",
        "* where $\\rho_{m,n}$ can be written in the following way, where we have re-expressed its entries in terms of the energy Eigenbasis:\n",
        "\n",
        "> $\\rho_{m, n}=\\left\\langle E_{m}|\\rho| E_{n}\\right\\rangle$\n"
      ]
    },
    {
      "cell_type": "markdown",
      "metadata": {
        "id": "Xmo42wRj8v6C"
      },
      "source": [
        "**Mixed States**\n",
        "\n",
        "* what if we are unsure of what pure state our system is in? (We are somehow ignorant / unwissend to what pure state we are in)\n",
        "\n",
        "* then we can describe a statistical ensemble of pure states which we call a mixed states\n",
        "\n",
        "> $\\rho=\\sum_{j} p_{j}\\left|\\psi_{j}\\right\\rangle\\left\\langle\\psi_{j}\\right|$\n",
        "\n",
        "* the ensemble is written as a sum of pure states with probabilities $p_j$ and the probabilities are greater than zero and sum up to one:\n",
        "\n",
        "> $p_{j} \\geq 0 \\quad \\sum_{j} p_{j}=1$\n",
        "\n",
        "* Mixed states are also trace 1 and are positive operators:\n",
        "\n",
        "> $\\operatorname{Tr} \\rho=1, \\quad \\rho \\geq 0$\n",
        "\n",
        "* Dynamics and the expectation values work in an identical way"
      ]
    },
    {
      "cell_type": "markdown",
      "metadata": {
        "id": "NUFROLA7BPGU"
      },
      "source": [
        "**Non-uniqueness of mixed states decomposition**\n",
        "\n",
        "* Interestingly it's not completely correct to interpret $p_j$ as the probability of being in a particular state labeled by j.\n",
        "\n",
        "* To see this consider the following example let $\\rho$ be a mixed state written in the following way:\n",
        "\n",
        "> $\\rho=\\frac{4}{5}|\\downarrow\\rangle\\left\\langle\\downarrow\\left|+\\frac{1}{5}\\right| \\uparrow\\right\\rangle\\langle\\uparrow|$\n",
        "\n",
        "* we say the system is in state down with probability 4/5 and in state up with 1/5.\n",
        "\n",
        "* What if I prepared two other states with the following new state vectors a and b with the following probability amplitudes of being in down or up state:\n",
        "\n",
        "> $|a\\rangle=\\sqrt{\\frac{4}{5}}|\\downarrow\\rangle+\\frac{1}{\\sqrt{5}}|\\uparrow\\rangle$\n",
        "\n",
        "> $|b\\rangle=\\sqrt{\\frac{4}{5}}|\\downarrow\\rangle-\\frac{1}{\\sqrt{5}}|\\uparrow\\rangle$\n",
        "\n",
        "* Then if we prepare these states with probability one-half:\n",
        "\n",
        "> $\\rho=\\frac{1}{2}|a\\rangle\\left\\langle a\\left|+\\frac{1}{2}\\right| b\\right\\rangle\\langle b|$\n",
        "\n",
        "* We see that we get the same density matrix as before working this out expanding the definitions of a and b allows us to arrive at our original density matrix:\n",
        "\n",
        "> $\\rho=\\frac{4}{5}|\\downarrow\\rangle\\left\\langle\\downarrow\\left|+\\frac{1}{5}\\right| \\uparrow\\right\\rangle\\langle\\uparrow|$\n",
        "\n",
        "* Therefore two different ensembles of pure states can give rise to the same mixed state and we must be careful when we interpret $p_j$ as strictly probabilities of a particular system being strictly in its associated pure state in the sum.\n",
        "\n",
        "* Finally, if you get a matrix how could you tell if it's pure or mixed? Mathematically quite simple way to check: square the matrix and take its trace. If the trace is still 1, we say that the density matrix is pure if it is less than one then we say it's mixed. This is actually independent of the time evolution.\n",
        "\n",
        "> $\\operatorname{Tr}\\left(\\rho^{2}\\right) \\leq 1$"
      ]
    },
    {
      "cell_type": "markdown",
      "source": [
        "###### ***Ket $|\\psi\\rangle$ - State Space $V$(Vector)*** *- also: Wave Function (Pure State, Postulate I)*"
      ],
      "metadata": {
        "id": "jBh1Tr-vn_4f"
      }
    },
    {
      "cell_type": "markdown",
      "metadata": {
        "id": "XtcIVsSgCSld"
      },
      "source": [
        "> <font color=\"blue\">**<u>Postulate I of Quantum Mechanics</u>: The state of a physical system is characterized by a state vector that belongs to a complex vector space $\\mathcal{V}$, called the state space of the system**\n",
        "\n",
        "* State Space Formalism: unification of Schrodinger wave mechanics and matrix mechanics (Heisenberg, Born, Jordan), both are equivalent.\n",
        "\n",
        "* **Matrix mechanics ('matrix formulation'): Most useful when we deal with finite, discrete bases (like spin). Then it reduces to the rules of simple matrix multiplication**. Kronecker delta\n",
        "\n",
        "* **Schrodinger wave mechanics: for continuous basis (like position)** Dirac delta function\n",
        "\n",
        "* State Space: the vector space in which quantum systems live\n",
        "\n",
        "  * Euclidean space: classical physics, 3D, real, inner product (Hilbert Space)\n",
        "\n",
        "  * State space: quantum physics, infinite dimensions, complex numbers, inner product (Hilbert Space)\n",
        "\n",
        "Video: [Dirac notation: state space and dual space](https://www.youtube.com/watch?v=hJoWM9jf0gU)"
      ]
    },
    {
      "cell_type": "markdown",
      "metadata": {
        "id": "WlC5y6Hpsj_E"
      },
      "source": [
        "<font color=\"blue\">*Ket Algebra - Quantum State Vector*\n",
        "\n",
        "**A Ket $|\\psi\\rangle$ $\\doteq$ $\\left[\\begin{array}{l}a_{0} \\\\ a_{1}\\end{array}\\right]$, also called 'quantum state', <u>represents</u> the wave function of a quantum system (\"Psi\")**, consisting of **probability amplitudes**. This Quantum state is a **stochastic vector**, written as a column vector.\n",
        "\n",
        "> **A Ket is technically a pure quantum state**.\n",
        "\n",
        "* Wave function notation to describe superposition of Pure States.\n",
        "\n",
        "So, you have an (orthonormal) basis with 3 vectors and coefficients, to describe a vector in space (in Hilbert space):\n",
        "\n",
        "> $\\vec{v}=$<font color='blue'>$2$</font>$\\left(\\begin{array}{l}1 \\\\ 0 \\\\ 0\\end{array}\\right)$<font color='blue'>$+3$</font>$\\left(\\begin{array}{l}0 \\\\ 1 \\\\ 0\\end{array}\\right)$<font color='blue'>$+0$</font>$\\left(\\begin{array}{l}0 \\\\ 0 \\\\ 1\\end{array}\\right)$\n",
        "\n",
        "The basis vectors will all entries in 0 and only one with 1 correspond to possibe measurement outcomes (spin up or down).\n",
        "\n",
        "The coefficients can be collected in one vector and are complex numbers:\n",
        "\n",
        "> $\\vec{v}=$<font color='blue'>$\\left(\\begin{array}{l}2 \\\\ 3 \\\\ 0\\end{array}\\right)$</font>\n",
        "\n",
        "An arbitrary state for a qubit can be written as a linear combination of the Pauli matrices, which provide a basis for $2 \\times 2$ self-adjoint matrices:\n",
        "\n",
        "> $\n",
        "\\rho=\\frac{1}{2}\\left(I+r_{x} \\sigma_{x}+r_{y} \\sigma_{y}+r_{z} \\sigma_{z}\\right)\n",
        "$\n",
        "\n",
        "* where the real numbers $\\left(r_{x}, r_{y}, r_{z}\\right)$ are the coordinates of a point within the unit ball and\n",
        "\n",
        "> $\n",
        "\\sigma_{x}=\\left(\\begin{array}{ll}\n",
        "0 & 1 \\\\\n",
        "1 & 0\n",
        "\\end{array}\\right), \\quad \\sigma_{y}=\\left(\\begin{array}{cc}\n",
        "0 & -i \\\\\n",
        "i & 0\n",
        "\\end{array}\\right), \\quad \\sigma_{z}=\\left(\\begin{array}{cc}\n",
        "1 & 0 \\\\\n",
        "0 & -1\n",
        "\\end{array}\\right)\n",
        "$\n"
      ]
    },
    {
      "cell_type": "markdown",
      "source": [
        "Siehe auch: [Projective Hilbert Space](https://en.m.wikipedia.org/wiki/Projective_Hilbert_space) with rays or projective rays"
      ],
      "metadata": {
        "id": "_sFD45vxEg5a"
      }
    },
    {
      "cell_type": "markdown",
      "metadata": {
        "id": "GgSzA4IwURCu"
      },
      "source": [
        "<font color=\"blue\">*Multiply Ket with a Scalar: Vector-Scalar-Multiplication*\n",
        "\n",
        "Vector-Scalar:\n",
        "\n",
        "$\\left[\\begin{array}{l}x_{0} \\\\ x_{1}\\end{array}\\right] \\otimes\\left[y_{0}\\right]=\\left[\\begin{array}{l}x_{0}\\left[y_{0}\\right] \\\\ x_{1}\\left[y_{0}\\right]\\end{array}\\right]=\\left[\\begin{array}{l}x_{0} y_{0} \\\\ x_{1} y_{0}\\end{array}\\right]$\n",
        "\n",
        "\n",
        "<font color=\"blue\">*Multiply Ket with another Ket: Ket - Tensor Product (Vector-Vector-Multiplication, Kronecker Product)*\n",
        "\n",
        "> $\\mathbf{uv}$ = $\\left[\\begin{array}{c}u_{1} \\\\ u_{2}\\end{array}\\right]$ $\\otimes$ $\\left[\\begin{array}{c}v_{1} \\\\ v_{2} \\end{array}\\right]$ = $\\left[\\begin{array}{l}u_{1}\\left[\\begin{array}{l}v_{1} \\\\ v_{2}\\end{array}\\right] \\\\ u_{2}\\left[\\begin{array}{l}v_{1} \\\\ v_{2}\\end{array}\\right]\\end{array}\\right]$=  $\\left[\\begin{array}{c}u_{1} v_{1} \\\\ u_{1} v_{2}\\\\ u_{2} v_{1} \\\\ u_{2} v_{2}\\end{array}\\right]$\n",
        "\n",
        "*Zur Kombination von Quantum States:*\n",
        "\n",
        "> $\\left[\\begin{array}{l}1 \\\\ 0\\end{array}\\right]=|0\\rangle, \\quad\\left[\\begin{array}{l}0 \\\\ 1\\end{array}\\right]=|1\\rangle$.\n",
        "\n",
        "We choose two qubits in state $|0\\rangle$:\n",
        "\n",
        "> $|0\\rangle \\otimes|0\\rangle = \\left[\\begin{array}{l}1 \\\\ 0\\end{array}\\right] \\otimes\\left[\\begin{array}{l}1 \\\\ 0\\end{array}\\right]=$</font> $\\left[\\begin{array}{l}1\\left[\\begin{array}{l}1 \\\\ 0\\end{array}\\right] \\\\ 0\\left[\\begin{array}{l}1 \\\\ 0\\end{array}\\right]\\end{array}\\right]=$ $\\left [\\begin{array}{l}11 \\\\ 10 \\\\ 01 \\\\ 00\\end{array}\\right]$ = <font color=\"gray\">$\\left [\\begin{array}{l}3 \\\\ 2 \\\\ 1 \\\\ 0\\end{array}\\right]$</font> = <font color=\"blue\">$\\left [\\begin{array}{l}1 \\\\ 0 \\\\ 0 \\\\ 0\\end{array}\\right]$\n",
        "\n",
        "Quits in two different states:\n",
        "\n",
        "> $|0\\rangle \\otimes|1\\rangle = \\left[\\begin{array}{l}1 \\\\ 0\\end{array}\\right] \\otimes\\left[\\begin{array}{l}0 \\\\ 1\\end{array}\\right]=\\left[\\begin{array}{l}1\\left[\\begin{array}{l}0 \\\\ 1\\end{array}\\right] \\\\ 0\\left[\\begin{array}{l}0 \\\\ 1\\end{array}\\right]\\end{array}\\right]=\\left[\\begin{array}{l}0 \\\\ 1 \\\\ 0 \\\\ 0\\end{array}\\right]$"
      ]
    },
    {
      "cell_type": "markdown",
      "metadata": {
        "id": "LH8JeO4mW4q6"
      },
      "source": [
        "**How do we represent Ket's in a particular basis?**\n",
        "\n",
        "> <font color=\"blue\">$|\\psi\\rangle=\\sum_{i} c_{i}\\left|u_{i}\\right\\rangle \\quad$ where: $c_{i}=\\left\\langle u_{i} \\mid \\psi\\right\\rangle$\n",
        "\n",
        "Video: [Representations in quantum mechanics](https://www.youtube.com/watch?v=rp2k2oR5ZQ8)\n",
        "\n",
        "\n",
        "> $\\left\\{c_{i}\\right\\}$ are the representation of $|\\psi\\rangle$ in the $\\left\\{\\left|u_{i}\\right\\rangle\\right\\}$ basis\n",
        "\n",
        "![ggg](https://raw.githubusercontent.com/deltorobarba/repo/master/quantum_210.png)\n",
        "\n",
        "![ggg](https://raw.githubusercontent.com/deltorobarba/repo/master/quantum_211.png)\n",
        "\n",
        "* a und b coefficients in euclidean space sind wie $u_i$ coefficients in quantum state space. (difference is bra-ket, wo bra das conjugate complex ist als dot product mit ket: es ist im erstem argument antilinear!).\n",
        "\n",
        "* expansion coefficients c are given by projection of the Ket onto the basis states u:\n",
        "\n",
        "![ggg](https://raw.githubusercontent.com/deltorobarba/repo/master/quantum_212.png)\n",
        "\n",
        "* Here we can take out $|\\Psi\\rangle$ because it doesnt explicitely depend on $_i$:\n",
        "\n",
        "![ggg](https://raw.githubusercontent.com/deltorobarba/repo/master/quantum_213.png)"
      ]
    },
    {
      "cell_type": "markdown",
      "metadata": {
        "id": "P0xfgmufRt0W"
      },
      "source": [
        "**Additional Ket-Algebra**\n",
        "\n",
        "![ggg](https://raw.githubusercontent.com/deltorobarba/repo/master/quantum_202.png)\n",
        "\n",
        "![ggg](https://raw.githubusercontent.com/deltorobarba/repo/master/quantum_203.png)\n",
        "\n",
        "For euclidean space: the scalar product is linear both in first and second argument:\n",
        "\n",
        "![ggg](https://raw.githubusercontent.com/deltorobarba/repo/master/quantum_204.png)\n",
        "\n",
        "For state space: the scalar product is only linear in the second argument (and antilinear in the first argument):\n",
        "\n",
        "![ggg](https://raw.githubusercontent.com/deltorobarba/repo/master/quantum_205.png)"
      ]
    },
    {
      "cell_type": "markdown",
      "source": [
        "###### ***Bra $\\langle \\psi |$ - Dual Space $V^{*}$ (Covector)***"
      ],
      "metadata": {
        "id": "cqdowsM5oHEP"
      }
    },
    {
      "cell_type": "markdown",
      "source": [
        "1. **$|\\psi\\rangle$**: This is a quantum state, often called a 'ket' in the Dirac notation. It represents the state of a quantum system, which could be a single qubit or a system of multiple qubits.\n",
        "* **|ψ⟩:** This is the quantum state of the system. The state represents the configuration of the system's components, and it can be represented by a complex vector in a Hilbert space.\n",
        "\n",
        "2. **$\\langle\\psi|$**: This is the bra corresponding to the ket $|\\psi\\rangle $. In Dirac notation, $\\langle\\psi|$) represents the conjugate transpose of $|\\psi\\rangle$.\n",
        "\n",
        "* **⟨ψ|:** This denotes the inner product of the quantum state |ψ⟩ with itself. This inner product represents the overlap between the two states |ψ⟩ and |ψ⟩, which is a measure of their similarity.\n"
      ],
      "metadata": {
        "id": "_g5-XOuYVQ1X"
      }
    },
    {
      "cell_type": "markdown",
      "metadata": {
        "id": "8NOxv3yFtjD1"
      },
      "source": [
        "**How do we represent Bra's in a particular basis?**\n",
        "\n",
        "* Bra $\\langle \\Psi|$ is an element of the dual vector space $V^*$\n",
        "\n",
        "* Bra Psi times the identity operator ($\\langle \\Psi| * \\mathbb{I}$), and then write the identity operator out (its resolution in the u basis)\n",
        "\n",
        "* psi doesnt explicitylt depend on i, so we can write it into the summation, which brings us to this expression\n",
        "\n",
        "> $\\sum_{i}\\left\\langle\\psi \\mid u_{i}\\right\\rangle\\left\\langle u_{i}\\right|$\n",
        "\n",
        "* This is an expression for the bra psi in terms of the basis bra's u, and then the expansion coefficients are the brackets between psi and u $\\left\\langle\\psi \\mid u_{i}\\right\\rangle$\n",
        "\n",
        "\n",
        "If we look at these expansion coefficients $\\left\\langle\\psi \\mid u_{i}\\right\\rangle$, we can use the conjugation property of the scalar product to rewrite them like this:\n",
        "\n",
        "> $\\left\\langle\\psi \\mid u_{i}\\right\\rangle$ = $\\left\\langle u_{i} \\mid \\psi \\right\\rangle^*$ = $c_i^*$\n",
        "\n",
        "**The expansion coefficients are the complex conjugates of the expansion coefficients of the Ket**\n",
        "\n",
        "![ggg](https://raw.githubusercontent.com/deltorobarba/repo/master/quantum_214.png)"
      ]
    },
    {
      "cell_type": "markdown",
      "source": [
        "###### ***Bra-Ket $\\langle \\psi |\\psi\\rangle = c$ - Linear Form (Covector-Vector)*** *- also: Projective Measurement*"
      ],
      "metadata": {
        "id": "1fAAZcgWoiJB"
      }
    },
    {
      "cell_type": "markdown",
      "metadata": {
        "id": "0A6siRC6YyVY"
      },
      "source": [
        "> **Bra-Ket - Projective Measurement (Kovector-Vector-Multiplication, Born Rule)**\n",
        "\n",
        "* Dirac delta function (a distribution!) = quantum measurement\n",
        "\n",
        "* See also [wiki: Bra–ket notation](https://en.m.wikipedia.org/wiki/Bra–ket_notation)\n",
        "\n",
        "* From 'Exterior algebra' $\\rightarrow$ 'Multilinear Forms':\n",
        "\n",
        "  * **A row vector can be thought of as a function (as a form), rather than a row vector, that acts on another vector.**\n",
        "\n",
        "  * In Quantum mechanics: Linear functionals are particularly important in quantum mechanics. Quantum mechanical systems are represented by Hilbert spaces, which are [anti–isomorphic](https://en.m.wikipedia.org/wiki/Antiisomorphism) to their own dual spaces. A state of a quantum mechanical system can be identified with a linear functional. For more information see bra–ket notation.\n",
        "\n",
        "  * Bra-Ket $\\langle\\psi \\mid \\psi\\rangle$: **Kovector-Vector-Multiplication**, Born Rule (Projective Measurement)\n",
        "\n",
        "  * ⟨0∣1⟩ und ⟨1∣0⟩ ergeben inner product 0 (orthogonal zueinander), zB $\\langle 0 \\mid 1\\rangle=[1,0]\\left[\\begin{array}{l}0 \\\\ 1\\end{array}\\right] = 0$. Und ⟨0∣0⟩ und ⟨1∣1⟩ = 1.\n",
        "\n",
        "*See also: [dot product between a covector and a vector is a scalar, after all!](https://cafephysics35698708.wordpress.com/2017/12/23/moving-away-from-ortho-land-vectors-covectors-and-all-that/) but read also why [There are a couple ways to view a dot product as a linear map by changing your view slightly](https://math.stackexchange.com/questions/2856198/is-dot-product-a-kind-of-linear-transformation)*\n",
        "\n",
        "* Inner Product / Bra-Ket, conjugate transpose of Ket.\n",
        "You get a scalar as output.\n",
        "\n",
        "* The Bra-Ket $\\langle\\psi \\mid \\psi\\rangle$  represents the inner product in the Hilbert space\n",
        "\n",
        "* Zur Messung von Zustaenden in einer Basis (zB ich will die Probability wissen, mit der man den State=1 erhält)\n",
        "\n",
        "* Quantum mechanical systems are represented by Hilbert spaces, which are anti–isomorphic to their own dual spaces.\n",
        "\n",
        "* **A state of a quantum mechanical system can be identified with a linear functional**.\n",
        "\n",
        "> $\\mathbf{u}^{\\top} \\mathbf{v}=\\left[\\begin{array}{llll}u_{1} & u_{2} & \\cdots & u_{n}\\end{array}\\right]\\left[\\begin{array}{c}v_{1} \\\\ v_{2} \\\\ \\vdots \\\\ v_{n}\\end{array}\\right]=\\left[u_{1} v_{1}+u_{2} v_{2}+\\cdots+u_{n} v_{n}\\right]$ = scalar\n",
        "\n",
        "![ggg](https://raw.githubusercontent.com/deltorobarba/repo/master/quantum_248.png)\n",
        "\n",
        "\n",
        "\n"
      ]
    },
    {
      "cell_type": "markdown",
      "source": [
        "\n",
        "**Case 1: Inner product of two basis vectors**:\n",
        "\n",
        "\n",
        "* ⟨0∣1⟩ und ⟨1∣0⟩ ergeben inner product 0 (orthogonal zueinander), im Detail fur $\\langle 0 \\mid 1\\rangle=[1,0]\\left[\\begin{array}{l}0 \\\\ 1\\end{array}\\right] = 0$\n",
        "\n",
        "* ⟨0∣0⟩ und ⟨1∣1⟩ ergeben inner product 1 (mit sich selbst multipliziert / die beiden Berechnungsbasisvektoren sind orthonormal)\n",
        "\n",
        "**Case 2: Berechne Wahrscheinlichkeit fur Messung eines Eigenstates (Born's Rule)**\n",
        "\n",
        "* Die orthonormalen Eigenschaften sind im folgenden Beispiel nützlich\n",
        "\n",
        "* Es gibt einen Zustand mit der Wave Function / Wahrscheinlichkeit fur beide Zustaende $|\\psi\\rangle=\\frac{3}{5}|1\\rangle+\\frac{4}{5}|0\\rangle$\n",
        "\n",
        "* die Wahrscheinlichkeit des Messens 1 ist dann (1 ist hierbei die basis, weil ich es messen will) [Source](https://docs.microsoft.com/de-de/azure/quantum/concepts-dirac-notation):\n",
        "\n",
        ">$\n",
        "|\\langle 1 \\mid \\psi\\rangle|^{2}=\\left|\\frac{3}{5}\\langle 1 \\mid 1\\rangle+\\frac{4}{5}\\langle 1 \\mid 0\\rangle\\right|^{2}=\\frac{9}{25}\n",
        "$\n",
        "\n",
        "* weil $\\langle 1 \\mid 0\\rangle=0$ faellt der zweite Term weg: $\\frac{4}{5}\\langle 1 \\mid 0\\rangle$ = $\\frac{4}{5} * 0$\n",
        "\n",
        "* Another example: $\\left[\\begin{array}{ll}2 & 1\\end{array}\\right]\\left(\\left[\\begin{array}{l}x \\\\ y\\end{array}\\right]\\right)=2 x+1 y$. **The covector [2, 1] can be thought of as a function, rather than a row vector, that acts on another vector.**\n",
        "\n",
        "> <font color=\"red\">*The probability of a particular measurement is then the absolute square of the scalar product with the basis vector that corresponds to the outcome (probability of measuring $X$ is). This is <u>Born's Rule</u>. This scalar product of the wave function with a basis vector is also sometimes called a <u>projection</u> on that basis vector:*\n",
        "\n",
        "> $|\\langle X \\mid \\Psi\\rangle|^{2}=a_{1} a_{1}^{*}$\n",
        "\n",
        "* where $\\mid \\Psi\\rangle$ is the wavefunction of the probability superposition and $\\langle X \\mid$ is the basis vector of one outcome.\n",
        "\n",
        "**Case 3: Sum over all basis vectors**\n",
        "\n",
        "> $\\langle\\Psi^* |\\Psi\\rangle$ = $ (a{_1}^*, a{_2}^*, a{_3}^*) \\left(\\begin{array}{l}a_{1} \\\\ a_{2} \\\\ a_{3}\\end{array}\\right)$ = $(a{_1}^*a_1 + a{_2}^*a_2 + a{_2}^*a_2)$\n",
        "\n",
        "**The probability to get ANY measurement outcome is equal to one, which means that the sum over the squared scalar products with all basis vectors has to be one. Which is just the length of the vector (all wave functions have length 1)**:\n",
        "\n",
        "> $1=a_{1} a_{1}^{*}+a_{2} a_{2}^{*}+a_{3} a_{3}^{*}=|\\langle \\Psi \\mid \\Psi\\rangle|^{2}$\n",
        "\n",
        "* With this bra-ket notation it's now very easy to write dot products = the **inner product between Bra and Ket which is $\\langle\\psi \\mid \\psi\\rangle$ = 1**, and it is normalized the result is 1(it's a particular way of writing the 2-norm when using complex inputs).\n",
        "\n",
        "* With the dot product of bra and ket you will get a **scalar as a result**, like total probability is 1, here for the coefficients (probability amplitudes):\n",
        "\n",
        "> $\\langle\\psi^* \\mid \\psi\\rangle = \\left|a_{0}\\right|^{2}+\\left|a_{1}\\right|^{2}= 1$\n",
        "\n",
        "* **We expand the Ket $\\psi$ in the basis u**, where the expansion coefficients c are given by the Braket between u and psi:\n",
        "\n",
        "> $|\\psi\\rangle=\\sum_{i} c_{i}\\left|u_{i}\\right\\rangle = c_{1} * u_{1} + c_{2} * u_{2} .. + c_{i}* u_{i} = c_{1}\\left(\\begin{array}{l}1 \\\\ 0 \\\\ 0\\end{array}\\right)+{c_{2}}\\left(\\begin{array}{l}0 \\\\ 1 \\\\ 0\\end{array}\\right)+.. c_{i}\\left(\\begin{array}{l}0 \\\\ 0 \\\\ i\\end{array}\\right) \\quad =\\left\\langle u_{i} \\mid \\psi\\right\\rangle$\n",
        "\n",
        "* <font color=\"red\">This c cofficients are what we call **representation of the Ket psi in the u basis**.\n",
        "\n",
        "> $\\left(\\begin{array}{c}\\langle u_{1} \\mid \\psi\\rangle \\\\ \\left\\langle u_{2} \\mid \\psi\\right\\rangle \\\\ \\vdots \\\\ \\left\\langle u_{i} \\mid \\psi\\right\\rangle \\\\ \\vdots\\end{array}\\right)=\\left(\\begin{array}{c}c_{1} \\\\ c_{2} \\\\ \\vdots \\\\ c_{i} \\\\ \\vdots \\\\ \\end{array}\\right)$"
      ],
      "metadata": {
        "id": "JhSZ3kxevCQv"
      }
    },
    {
      "cell_type": "markdown",
      "source": [
        "> **Quantum Measurements from an Observable (via its Operator) - Use Case: What is the most likely Eigenvalue of an Observable like Momentum or Position?**\n",
        "\n",
        "Video: [Measurements in quantum mechanics || Concepts](https://www.youtube.com/watch?v=u1R3kRWh1ek)\n",
        "\n",
        "> **$\\hat{A}\\left|u_{n}\\right\\rangle=\\lambda_{n}\\left|u_{n}\\right\\rangle \\longrightarrow P\\left(\\lambda_{n}\\right)=\\left|\\left\\langle u_{n} \\mid \\psi\\right\\rangle\\right|^{2}=\\left|c_{n}\\right|^{2}$**\n",
        "\n",
        "> <font color=\"blue\">**<u>Postulate II of quantum mechanics</u>: a physical quantity $\\mathcal{A}$ is associated with a hermitian operator $\\hat{A}$, that is called an observable.**\n",
        "\n",
        "* Physical quantity $\\mathcal{A} \\longrightarrow$ Observable $\\hat{A}$\n",
        "\n",
        "* To understand what it means to measure $\\hat{A}$ in quantum mechanics, the key equation to consider is the Eigenvalue equation of the operator $\\hat{A}$ here:\n",
        "\n",
        "> $\n",
        "\\hat{A}\\left|u_{n}\\right\\rangle=\\lambda_{n}\\left|u_{n}\\right\\rangle\n",
        "$\n",
        "\n",
        "<font color =\"blue\">*$\\rightarrow$ When you apply a measurement operator in an Eigenstate, you will measure /get the Eigenvalue of this Eigenstate (postulate III of quantum mechanics). Challenge: we just dont know in which Eigenstate our system $|\\Psi\\rangle$ is.*</font>\n",
        "\n",
        "* with $\\lambda_{n}$ Eigenvalues and $u_{n}$ Eigenstates\n",
        "\n",
        "> <font color=\"blue\">**<u>Postulate III of quantum mechanics</u>: The result of a measurement of a physical quantity is one of the Eigenvalues of the associated observable.**\n",
        "\n",
        "\n",
        "* This means: when we want to measure property $\\hat{A}$ we first need to solve the corresponding Eigenvalue equation, which allows us to find all Eigenvalues $\\lambda_{1}$, $\\lambda_{2}$, .. $\\lambda_{n}$\n",
        "\n",
        "* So the operator $\\hat{A}$ encodes all the possible outcomes of the measurement, irrespective of what the state of the system is.\n",
        "\n",
        "* **So the question is: if we measure $\\hat{A}$ in state $|\\Psi\\rangle$: which Eigenvalue will we get?** (Postulate III will tell us we will get one of the Eigenvalues $\\lambda_{n}$, but not which one)\n",
        "\n",
        "> <font color=\"blue\">**<u>Postulate VI of quantum mechanics</u>: The measurement of $\\mathcal{A}$ in a system in normalized state $|\\psi\\rangle$ gives eigenvalue $\\lambda_{n}$ with probability:**\n",
        "\n",
        "\n",
        "> $\n",
        "P\\left(\\lambda_{n}\\right)=\\left|\\left\\langle u_{n} \\mid \\psi\\right\\rangle\\right|^{2}\n",
        "$ $\\quad (= \\left|c_{n}\\right|^{2})$\n",
        "\n",
        "<font color =\"blue\">*$\\rightarrow$ $u_n$ are the possible Eigenstates to which we project our actual system state $|\\Psi\\rangle$. We square its norm and then see which one has the highest value = highest probability that the state is in this Eigenstate (with a givne Eigenvalue $\\lambda_{n}$). For example we will get $\\lambda_{1}$ with probability $\\left|\\left\\langle u_{1} \\mid \\psi\\right\\rangle\\right|^{2}$*</font>\n",
        "\n",
        "\n",
        "* This means: for an operator $\\hat{A}$ we have a list of Eigenvalues, where each of them corresponds to an Eigenstate:\n",
        "\n",
        "  * $\\lambda_{1}$ for $|u_1\\rangle$,\n",
        "\n",
        "  * $\\lambda_{2}$ for $|u_2\\rangle$,\n",
        "\n",
        "  * ...\n",
        "\n",
        "  * $\\lambda_{n}$ for $|u_n\\rangle$\n",
        "\n",
        "* these relations and values come from the Eigenvalue equation of the specific operator $\\mathcal{A}$ and are independent of the state of our system.\n",
        "\n",
        "* **But when we measure $\\mathcal{A}$, we measure it in a specific state $|\\Psi\\rangle$**. We will get $\\lambda_{1}$ with $\\left|\\left\\langle u_{1} \\mid \\psi\\right\\rangle\\right|^{2}$\n",
        "\n",
        "* So what we get as result depends (1) on the intrinsic properties $\\mathcal{A}$ with its Eigenvalues and Eigenstates,  and (b) on the specific state $|\\Psi\\rangle$ in which our system is.\n",
        "\n",
        "* So with postulate 4: rather then telling us the precise outcome of a measurement it tells us the probability associated with any given outcome\n",
        "\n",
        "> $\\begin{array}{cccccc} \\hat{A}: \\quad  & \\lambda_{1} & \\lambda_2 & \\lambda_3 & \\lambda_{n} \\\\ & \\left|u_{1}\\right\\rangle & \\left|u_{2}\\right\\rangle & \\left|u_{3}\\right\\rangle & \\left|u_{n}\\right\\rangle \\\\ |\\psi\\rangle: & \\left|\\left\\langle u_{1} \\mid \\psi\\right\\rangle\\right|^{2} & \\left|\\left\\langle u_{2} \\mid \\psi\\right\\rangle\\right|^{2} & \\left|\\left\\langle u_{3} \\mid \\psi\\right\\rangle\\right|^{2} & \\left|\\left\\langle u_{n} \\mid \\psi\\right\\rangle\\right|^{2}\\end{array}$\n",
        "\n",
        "\n",
        "**How does the state $|\\Psi\\rangle$ of a system encodes the possible outcomes of a measurement?**\n",
        "\n",
        "> <font color =\"blue\">$\\hat{A}\\left|u_{n}\\right\\rangle=\\lambda_{n}\\left|u_{n}\\right\\rangle \\longrightarrow P\\left(\\lambda_{n}\\right)=\\left|\\left\\langle u_{n} \\mid \\psi\\right\\rangle\\right|^{2}$</font>\n",
        "\n",
        "* We can write the state $|\\Psi\\rangle$ in a complete basis of our state space and the Eigenstates $u_n$ over Hermitian operator like $\\hat{A}$ provide such a basis\n",
        "\n",
        "* this means we can write $|\\Psi\\rangle$ in the u-Basis (Eigenstates) like this:\n",
        "\n",
        "> $|\\psi\\rangle=\\sum_{n} c_{n}\\left|u_{n}\\right\\rangle$\n",
        "\n",
        "<font color =\"blue\">$\\rightarrow$ $\\left|c_{m}\\right|^{2}$ is the probability and hence $c_n$ the squared root of the probability of a given Eigenvalue for each Eigenstate $\\left|u_{n}\\right\\rangle$ from this part here above:\n",
        "\n",
        "> $\\begin{array}{cccccc} \\hat{A}: \\quad  & \\lambda_{1} & \\lambda_2 & \\lambda_3 & \\lambda_{n} \\\\ & \\left|u_{1}\\right\\rangle & \\left|u_{2}\\right\\rangle & \\left|u_{3}\\right\\rangle & \\left|u_{n}\\right\\rangle \\\\ |\\psi\\rangle: & \\left|\\left\\langle u_{1} \\mid \\psi\\right\\rangle\\right|^{2} & \\left|\\left\\langle u_{2} \\mid \\psi\\right\\rangle\\right|^{2} & \\left|\\left\\langle u_{3} \\mid \\psi\\right\\rangle\\right|^{2} & \\left|\\left\\langle u_{n} \\mid \\psi\\right\\rangle\\right|^{2}\\end{array}$\n",
        "\n",
        "* and these expansion coefficients c which we call **the representation of $|\\Psi\\rangle$ in the u-Basis**, are given by the projection of $|\\Psi\\rangle$ onto the u-Basis states:\n",
        "\n",
        "> $c_{n}=\\left\\langle u_{n} \\mid \\psi\\right\\rangle$\n",
        "\n",
        "* This means we can rewrite the probability p of measuring Eigenvalue $\\lambda_n$ as also equal to absolute value of $c_n$ squared:\n",
        "\n",
        "> $P\\left(\\lambda_{m}\\right)=\\left|\\left\\langle u_{m} \\mid \\psi\\right\\rangle\\right|^{2}=\\left|c_{m}\\right|^{2}$\n",
        "\n",
        "<font color =\"blue\">$\\rightarrow$ For example we will get $\\lambda_{1}$ with probability $\\left|\\left\\langle u_{1} \\mid \\psi\\right\\rangle\\right|^{2}$\n",
        "\n",
        "**What does this mean?**\n",
        "\n",
        "* imagine our system is in state $\\Psi\\rangle$ and we want to measure a property $|\\Psi\\rangle$\n",
        "\n",
        "> $|\\psi\\rangle \\longrightarrow \\hat{A} \\longrightarrow ?$\n",
        "\n",
        "* Then what we do is to write the state $|\\Psi\\rangle$ in the basis of Eigenstates of $\\hat{A}$, and <font color =\"blue\">the expansion coefficient $c_n$ tell us the relative contribution of Eigenstate $|u_n\\rangle$ to state $|\\Psi\\rangle$, which in turn tell us how likely it is to measure the associated Eigenvalue $\\lambda_n$</font>\n",
        "\n",
        "> $|\\psi\\rangle=\\sum_{m} c_{m}\\left|u_{m}\\right\\rangle$\n",
        "\n",
        "* mit $c_{m}=\\left\\langle u_{m} \\mid \\psi\\right\\rangle$\n",
        "\n",
        "> $|\\psi\\rangle=\\sum_{m} \\left\\langle u_{m} \\mid \\psi\\right\\rangle\\left|u_{m}\\right\\rangle$\n",
        "\n",
        "* <font color=\"red\">here you can re-arrange and get an outer product (is this true???)\n",
        "\n",
        "> $|\\psi\\rangle=\\sum_{m} |u_{m}\\rangle \\langle u_{m}| \\psi\\rangle$\n",
        "\n",
        "= create outer product of a certain eigenvector to take a measurement of it\n",
        "\n",
        "Passt zu weiter unten (video prof m mit projection operators):\n",
        "\n",
        "> $(|\\varphi\\rangle\\langle\\psi|)|x\\rangle=|\\varphi\\rangle(\\langle\\psi \\mid x\\rangle)=a|\\varphi\\rangle$\n",
        "\n",
        "![ggg](https://raw.githubusercontent.com/deltorobarba/repo/master/quantum_199.png)\n",
        "\n",
        "Imagine we have n copies of the state $|\\Psi\\rangle$ and measure each. We get an Eigenvalue from the Eigenvalue equation, but with different probabilities. As p approaches $\\infty$ with N copies (= $p_n$), we will reach the most probable Eigenvalue P($\\lambda_m$) (postulates 4):\n",
        "\n",
        "![ggg](https://raw.githubusercontent.com/deltorobarba/repo/master/quantum_200.png)\n",
        "\n",
        "**A special case if our system with state $|\\Psi\\rangle$ is in an Eigenstate of the property that we are measuring (the operator $\\hat{A}$, for example momentum, positon etc), say $|u_m\\rangle$**:\n",
        "\n",
        "> $|\\psi\\rangle=\\left|u_{m}\\right\\rangle$\n",
        "\n",
        "* This corresponds to the expansion coefficient $c_m$ = 1, while all other coefficients vanish.\n",
        "\n",
        "* In this particular case we do know with absolute certainty what the outcome of the measurement will be. Probability = 1:\n",
        "\n",
        "> $P\\left(\\lambda_{m}\\right)=\\left|c_{m}\\right|^{2}=1$\n",
        "\n",
        "**This means: If the system is in an Eigenstate of the property that we are measuring (=momentum, position etc, measured by an operator), then the outcome of the measurement is the associated Eigenvalue with probability 1.**\n",
        "\n",
        "![ggg](https://raw.githubusercontent.com/deltorobarba/repo/master/quantum_287.png)"
      ],
      "metadata": {
        "id": "nKVQn725YOeT"
      }
    },
    {
      "cell_type": "markdown",
      "source": [
        "###### ***Ket-Bra $|\\psi\\rangle \\langle \\psi | = P$ - Linear Map (Vector-Covector) - Projection Operator***"
      ],
      "metadata": {
        "id": "cyrUknMLo8bl"
      }
    },
    {
      "cell_type": "markdown",
      "source": [
        "**Use Case 1: Projection Operator (Outer Product)**"
      ],
      "metadata": {
        "id": "vmUk0nAHzPCb"
      }
    },
    {
      "cell_type": "markdown",
      "source": [
        "**A measurement outcome is actually a projection (to the first basis vector)**\n",
        "\n",
        "* So if we want to model that we get the outcome 0, then we take the corresponding projection | 0 X 0 | and we apply it on the quantum state: | 0 X 0 | $\\Phi$> bzw. | 0 > < 0 | $\\Phi$ >\n",
        "\n",
        "* this is how you pull out samples from a quantum state and how you apply measurement to this particular probability distribution\n",
        "\n",
        "> The probability of measuring a value with probability amplitude $\\phi$ is $1 \\geq|\\phi|^{2} \\geq 0$, where $|\\cdot|$ is the [modulus](https://en.m.wikipedia.org/wiki/Absolute_value#Complex_numbers).\n",
        "\n",
        "**Ket-Bra (also: Projection Operator, Outer Product or Density Matrix)**\n",
        "\n",
        "* Use Case 1: used for mixed states\n",
        "\n",
        "* Use Case 2: used when I want to measure a specific Eigenstate / Eigenvector to get its probability.\n",
        "\n",
        "* Is a pair: Vector-Covector\n",
        "\n",
        "> $\\mathbf{u v}^{T}=\\left[\\begin{array}{c}u_{1} \\\\ u_{2} \\\\ \\vdots \\\\ u_{n}\\end{array}\\right]\\left[\\begin{array}{llll}v_{1} & v_{2} & \\cdots & v_{n}\\end{array}\\right]$= $\\left[\\left[\\begin{array}{c}u_{1} \\\\ u_{2} \\\\ \\vdots \\\\ u_{n}\\end{array}\\right] v_{1}\\left[\\begin{array}{c}u_{1} \\\\ u_{2} \\\\ \\vdots \\\\ u_{n}\\end{array}\\right] v_{2} \\ldots \\left[\\begin{array}{c}u_{1} \\\\ u_{2} \\\\ \\vdots \\\\ u_{n}\\end{array}\\right] v_{2} \\right]$ = $\\left[\\begin{array}{cccc}u_{1} v_{1} & u_{1} v_{2} & \\cdots & u_{1} v_{n} \\\\ u_{2} v_{1} & u_{2} v_{2} & \\cdots & u_{2} v_{n} \\\\ \\vdots & \\vdots & & \\vdots \\\\ u_{n} v_{1} & u_{n} v_{2} & \\cdots & u_{n} v_{n}\\end{array}\\right]$\n",
        "\n",
        "> $|0\\rangle\\langle 0| =$ $\\left[\\begin{array}{l}1 \\\\ 0\\end{array}\\right]\\left[\\begin{array}{ll}1 & 0\\end{array}\\right]=\\left[\\begin{array}{ll}1 & 0 \\\\ 0 & 0\\end{array}\\right]$\n",
        "\n",
        "* A measurement outcome is actually a projection (to the first basis vector)\n",
        "\n",
        "* If we want to model that we get the outcome 0, then we take the corresponding projection | 0 X 0 | and we apply it on the quantum state: | 0 X 0 | $\\Phi$>. This is how you pull out samples from a quantum state and how you apply measurement to this particular probability distribution\n",
        "\n",
        "![ggg](https://raw.githubusercontent.com/deltorobarba/repo/master/quantum_307.jpg)\n",
        "\n",
        "From this video: https://youtu.be/U6fn5LvevEE\n",
        "\n",
        "**Example: if you want to measure with which probability the quantum system is in state 0, you apply $|0\\rangle \\langle0|$ operator which is $\\hat{P}=\\left(\\begin{array}{ll}1 & 0 \\\\ 0 & 0\\end{array}\\right)$, because: $|0\\rangle\\langle 0|=\\left[\\begin{array}{l}1 \\\\ 0\\end{array}\\right]\\left[\\begin{array}{ll}1 & 0\\end{array}\\right]=\\left[\\begin{array}{ll}1 & 0 \\\\ 0 & 0\\end{array}\\right]$**\n",
        "\n",
        "* \"Projector\", \"projection\" and \"projection operator\" are the same thing. In quantum mechanics, one usually defines a projection operator as\n",
        "\n",
        "> $\n",
        "\\hat{P}=|\\psi\\rangle\\langle\\psi|\n",
        "$\n",
        "\n",
        "This operator then acts on quantum states (vectors) $|\\Psi\\rangle$ as\n",
        "\n",
        "> $\n",
        "\\hat{P}|\\Psi\\rangle=|\\psi\\rangle\\langle\\psi \\mid \\Psi\\rangle=\\langle\\psi \\mid \\Psi\\rangle|\\psi\\rangle\n",
        "$\n",
        "\n",
        "This is exactly the same as the projector you defined in matrix form, since we can think of $|\\psi\\rangle\\langle\\psi|$ as the diagonal components of a matrix. For example, if $|\\Psi\\rangle=\\alpha|0\\rangle+\\beta|1\\rangle$ and $|\\psi\\rangle=|0\\rangle$, we would find that the projector projects out a particular state\n",
        "\n",
        "> $\n",
        "\\hat{P}|\\Psi\\rangle=\\alpha|0\\rangle\n",
        "$\n",
        "\n",
        "In matrix form this would be exactly the same as what you defined, since now\n",
        "\n",
        "> $\n",
        "\\hat{P}=\\left(\\begin{array}{ll}\n",
        "1 & 0 \\\\\n",
        "0 & 0\n",
        "\\end{array}\\right), \\quad|\\Psi\\rangle=\\left(\\begin{array}{l}\n",
        "\\alpha \\\\\n",
        "\\beta\n",
        "\\end{array}\\right)\n",
        "$\n",
        "\n",
        "And now\n",
        "\n",
        "> $\n",
        "\\hat{P}|\\Psi\\rangle=\\left(\\begin{array}{ll}\n",
        "1 & 0 \\\\\n",
        "0 & 0\n",
        "\\end{array}\\right)\\left(\\begin{array}{l}\n",
        "\\alpha \\\\\n",
        "\\beta\n",
        "\\end{array}\\right)=\\left(\\begin{array}{l}\n",
        "\\alpha \\\\\n",
        "0\n",
        "\\end{array}\\right)\n",
        "$\n",
        "\n",
        "\"Projector\", \"projection\" and \"projection operator\" are the same thing. In quantum mechanics, one usually defines a projection operator as\n",
        "\n",
        "> $\n",
        "\\hat{P}=|\\psi\\rangle\\langle\\psi|\n",
        "$\n",
        "\n",
        "This operator then acts on quantum states (vectors) $|\\Psi\\rangle$ as\n",
        "\n",
        "> $\n",
        "\\hat{P}|\\Psi\\rangle=|\\psi\\rangle\\langle\\psi \\mid \\Psi\\rangle=\\langle\\psi \\mid \\Psi\\rangle|\\psi\\rangle\n",
        "$\n",
        "\n",
        "This is exactly the same as the projector you defined in matrix form, since **we can think of $|\\psi\\rangle\\langle\\psi|$ as the diagonal components of a matrix**. For example, if $|\\Psi\\rangle=\\alpha|0\\rangle+\\beta|1\\rangle$ and $|\\psi\\rangle=|0\\rangle$, we would find that the projector projects out a particular state\n",
        "\n",
        "> $\n",
        "\\hat{P}|\\Psi\\rangle=\\alpha|0\\rangle\n",
        "$\n",
        "\n",
        "In matrix form this would be exactly the same as what you defined, since now\n",
        "\n",
        "> $\n",
        "\\hat{P}=\\left(\\begin{array}{ll}\n",
        "1 & 0 \\\\\n",
        "0 & 0\n",
        "\\end{array}\\right), \\quad|\\Psi\\rangle=\\left(\\begin{array}{l}\n",
        "\\alpha \\\\\n",
        "\\beta\n",
        "\\end{array}\\right)\n",
        "$\n",
        "\n",
        "And now\n",
        "\n",
        "> $\n",
        "\\hat{P}|\\Psi\\rangle=\\left(\\begin{array}{ll}\n",
        "1 & 0 \\\\\n",
        "0 & 0\n",
        "\\end{array}\\right)\\left(\\begin{array}{l}\n",
        "\\alpha \\\\\n",
        "\\beta\n",
        "\\end{array}\\right)=\\left(\\begin{array}{l}\n",
        "\\alpha \\\\\n",
        "0\n",
        "\\end{array}\\right)\n",
        "$\n",
        "\n",
        "https://physics.stackexchange.com/questions/394258/what-is-the-standard-definition-of-projector-projection-and-projection-ope\n",
        "\n",
        "The density matrix is a representation of a linear operator called the density operator. The density matrix is obtained from the density operator by choice of basis in the underlying space. In practice, the terms density matrix and density operator are often used interchangeably.\n",
        "\n",
        "In operator language, a density operator for a system is a positive semidefinite, Hermitian operator of trace one acting on the Hilbert space of the system. This definition can be motivated by considering a situation where a pure state $\\left|\\psi_{j}\\right\\rangle$ is prepared with probability $p_{j}$, known as an ensemble. The probability of obtaining projective measurement result $m$ when using projectors $\\Pi_{m}$ is given by\n",
        "\n",
        "> $\n",
        "p(m)=\\sum_{j} p_{j}\\left\\langle\\psi_{j}\\left|\\Pi_{m}\\right| \\psi_{j}\\right\\rangle=\\operatorname{tr}\\left[\\Pi_{m}\\left(\\sum_{j} p_{j}\\left|\\psi_{j}\\right\\rangle\\left\\langle\\psi_{j}\\right|\\right)\\right]\n",
        "$\n",
        "\n",
        "which makes the density operator, defined as\n",
        "\n",
        "> <font color=\"red\">$\n",
        "\\rho=\\sum_{j} p_{j}\\left|\\psi_{j}\\right\\rangle\\left\\langle\\psi_{j}\\right|\n",
        "$\n",
        "\n",
        "= probability of getting a state |0> for example with outer product / density matrix $\\hat{P}=\\left(\\begin{array}{ll}1 & 0 \\\\ 0 & 0\\end{array}\\right)$ PLUS probability of getting state |1> etc."
      ],
      "metadata": {
        "id": "5bWbx2kRFnsl"
      }
    },
    {
      "cell_type": "markdown",
      "source": [
        "<font color=\"red\">*Projection Operator (Outer Product) & Eigenvalues in Systems of Linear Equations (HHL)*\n",
        "\n",
        "Problem Statement:\n",
        "\n",
        "> $A|x\\rangle=|b\\rangle \\quad$ (System of linear equations in a quantum state)\n",
        "\n",
        "And we want to find this:\n",
        "\n",
        ">$\n",
        "|x\\rangle=A^{-1}|b\\rangle \\quad \\text { (the solution is: }|x\\rangle=\\sum_{j=0}^{N-1} \\lambda_{j}^{-1} b_{j}\\left|u_{j}\\right\\rangle \\text { ) }\n",
        "$\n",
        "\n",
        "We need to find the inverse matrix $A^{-1}$. We can get the matrix inverse via eigendecomposition. Since $A$ is Hermitian (normal!), it has a spectral decomposition:\n",
        "\n",
        "> <font color=\"blue\">$\n",
        "A=\\sum_{j=0}^{N-1} \\lambda_{j}\\left|u_{j}\\right\\rangle\\left\\langle u_{j}\\right|, \\quad \\lambda_{j} \\in \\mathbb{R}\n",
        "$\n",
        "\n",
        "(if I want to know get the Eigenvector from a measurement, I create the outer product / density matrix of the Eigenvector like above. this is like a measurement)\n",
        "\n",
        "where $\\left|u_{j}\\right\\rangle$ is the $j^{t h}$ eigenvector of $A$ with respective eigenvalue $\\lambda_{j}$. Then,\n",
        "\n",
        "> $\n",
        "A^{-1}=\\sum_{j=0}^{N-1} \\lambda_{j}^{-1}\\left|u_{j}\\right\\rangle\\left\\langle u_{j}\\right|\n",
        "$"
      ],
      "metadata": {
        "id": "MXGA0EYlF9iP"
      }
    },
    {
      "cell_type": "markdown",
      "source": [
        "<font color=\"blue\">**Case 1 - Bra-Ket (Inner Product)**: *I want to know the Eigenvalue of an observable (but I don't know which is the most probable Eigenvector)? Then I apply an operator to the quantum state (position operator, momentum operator etc). I will get the most probable Eigenvector / Eigenstate with an according Eigenvalue*\n",
        "\n",
        "> $\\hat{A}\\left|u_{n}\\right\\rangle=\\lambda_{n}\\left|u_{n}\\right\\rangle \\longrightarrow P\\left(\\lambda_{n}\\right)=\\left|\\left\\langle u_{n} \\mid \\psi\\right\\rangle\\right|^{2}=\\left|c_{n}\\right|^{2}$\n",
        "\n",
        "= apply a certain operator (=observable) on a quantum state and you get the Eigenvalue of this state (here u can also be considered the eigenstate / eigenvector)\n",
        "\n",
        "<font color=\"blue\">**Case 2 - Ket-Bra (Outer Product)**: *I want to measure a specific Eigenstate / Eigenvector to get its probability? Then I take the outer product / density matrix of the desired outcome and make a measurement on the quantum state / system (=project it onto the desired Eigenvector)*\n",
        "\n",
        "> $|\\psi\\rangle=\\sum_{m} c_{m}\\left|u_{m}\\right\\rangle$\n",
        "\n",
        "*  mit $c_{m}=\\left\\langle u_{m} \\mid \\psi\\right\\rangle$\n",
        "\n",
        "> $|\\psi\\rangle=\\sum_{m}\\left\\langle u_{m} \\mid \\psi\\right\\rangle\\left|u_{m}\\right\\rangle$\n",
        "\n",
        "* here you can re-arrange and get an outer product (true?):\n",
        "\n",
        "> $\n",
        "|\\psi\\rangle=\\sum_{m}\\left|u_{m}\\right\\rangle\\left\\langle u_{m} \\mid \\psi\\right\\rangle$\n",
        "\n",
        "= create outer product of a certain eigenvector to take a measurement of it\n",
        "\n",
        "\n",
        "* Passt zu weiter unten (video prof $m$ mit projection operators):\n",
        "\n",
        "> $\n",
        "(|\\varphi\\rangle\\langle\\psi|)|x\\rangle=|\\varphi\\rangle(\\langle\\psi \\mid x\\rangle)=a|\\varphi\\rangle\n",
        "$\n",
        "\n",
        "![ggg](https://raw.githubusercontent.com/deltorobarba/repo/master/quantum_250.png)\n",
        "\n",
        "Video: [Projection operators in quantum mechanics](https://www.youtube.com/watch?v=M9V4hhqyrKQ)\n",
        "\n",
        "> **Projection Operators project one quantum state on another or onto a subspace of the state space**\n",
        "\n",
        "* for example: when we measure a property of a quantum particle, then the state of the particle collapses onto a different state\n",
        "\n",
        "* the projection operator mathematically describes this collapse\n",
        "\n",
        "> **projection operator associated with a Ket Psi: $| \\Psi \\rangle$ is the outer product of psi with itself: $|\\Psi\\rangle \\langle \\Psi|$**\n",
        "\n",
        "* then we check what it does on an arbirary state phi\n",
        "\n",
        "* the projection operator projects an arbitrary state (here Phi) onto the reference state (here Psi).\n",
        "\n",
        "* the proportionality constant C is given by the overlap between the initial state phi and the state psi that defines the projection operator\n",
        "\n",
        "![ggg](https://raw.githubusercontent.com/deltorobarba/repo/master/quantum_264.png)\n",
        "\n",
        "Properties of the projection operator:\n",
        "\n",
        "![ggg](https://raw.githubusercontent.com/deltorobarba/repo/master/quantum_265.png)\n",
        "\n",
        "Eigenvalues and Eigenstates of Projection operator:\n",
        "\n",
        "![ggg](https://raw.githubusercontent.com/deltorobarba/repo/master/quantum_266.png)\n",
        "\n",
        "The Projection operator allows us to write any Ket as a sum of two other Kets:\n",
        "\n",
        "![ggg](https://raw.githubusercontent.com/deltorobarba/repo/master/quantum_267.png)\n",
        "\n",
        "![ggg](https://raw.githubusercontent.com/deltorobarba/repo/master/quantum_268.png)\n",
        "\n",
        "One common way in which the projection operator is used in quantum mechanics is to project onto a subspace of the whole state space.\n",
        "\n",
        "* Most convenient way to write this down is in terms of basis states of our state space.\n",
        "\n",
        "* For a basis u we consider a subset of basis states u1, to un which soon an n-dimensional subspace of the full state space.\n",
        "\n",
        "* We then write the projection operator onto this n-dimensional subspace as pn\n",
        "\n",
        "![ggg](https://raw.githubusercontent.com/deltorobarba/repo/master/quantum_269.png)\n",
        "\n",
        "Summary:\n",
        "\n",
        "![ggg](https://raw.githubusercontent.com/deltorobarba/repo/master/quantum_270.png)\n",
        "\n",
        "**Projective measurement (PVM - Projection-valued measure)**\n",
        "\n",
        "* See [this article](https://en.m.wikipedia.org/wiki/Measurement_in_quantum_mechanics#Projective_measurement) and longer article on [PVM](https://en.m.wikipedia.org/wiki/Projection-valued_measure)\n",
        "\n",
        "* The eigenvectors of a von Neumann observable form an orthonormal basis for the Hilbert space, and each possible outcome of that measurement corresponds to one of the vectors comprising the basis. A density operator is a positive-semidefinite operator on the Hilbert space whose trace is equal to 1.\n",
        "\n",
        "> <font color =\"red\">**For each measurement that can be defined, the probability distribution over the outcomes of that measurement can be computed from the density operator. The procedure for doing so is the Born rule, which states that**</font>\n",
        "\n",
        "> $\n",
        "P\\left(x_{i}\\right)=\\operatorname{tr}\\left(\\Pi_{i} \\rho\\right)\n",
        "$\n",
        "\n",
        "* where $\\rho$ is the density operator, and $\\Pi_{i}$ is the [projection operator](https://en.m.wikipedia.org/wiki/Projection_(linear_algebra)) onto the basis vector corresponding to the measurement outcome $x_{i}$.\n",
        "\n",
        "* The average of the eigenvalues of a von Neumann observable, weighted by the Born-rule probabilities, is the [expectation value](https://en.m.wikipedia.org/wiki/Expectation_value_(quantum_mechanics)) of that observable. For an observable $A$, the expectation value given a quantum state $\\rho$ is\n",
        "\n",
        ">$\n",
        "\\langle A\\rangle=\\operatorname{tr}(A \\rho)\n",
        "$\n",
        "\n",
        "* A density operator that is a rank-1 projection is known as a pure quantum state, and all quantum states that are not pure are designated mixed. Pure states are also known as wavefunctions."
      ],
      "metadata": {
        "id": "qy0sjtMGU9XY"
      }
    },
    {
      "cell_type": "markdown",
      "metadata": {
        "id": "M0kD-s4t82ez"
      },
      "source": [
        "###### ***Ket-Bra $|\\psi\\rangle \\langle \\psi |$ - Mixed States (Density Matrix)***"
      ]
    },
    {
      "cell_type": "markdown",
      "source": [
        "***Use Case 2: Mixed States (Density Matrix)***\n",
        "\n",
        "Die [Quantenstatistik](https://de.m.wikipedia.org/wiki/Quantenstatistik) wendet zur Untersuchung makroskopischer Systeme die Methoden und Begriffe der klassischen statistischen Physik an und berücksichtigt zusätzlich die quantenmechanischen Besonderheiten im Verhalten der Teilchen.\n",
        "\n",
        "Wie die Quantenmechanik berücksichtigt auch die Quantenstatistik die folgende doppelte Unkenntnis:\n",
        "\n",
        "> 1. Kennt man den Zustand eines Systems genau – liegt also ein **reiner Zustand (pure state)** vor – und ist dieser kein Eigenzustand der Observablen, so kann man den Messwert einer Einzelmessung dennoch nicht exakt vorhersagen.\n",
        "\n",
        "* A pure state can be written in terms of a Ket state $|\\psi\\rangle$ $\\doteq$ $\\left[\\begin{array}{l}a_{0} \\\\ a_{1}\\end{array}\\right]$\n",
        "\n",
        "  * <font color =\"blue\">$|\\psi\\rangle$</font> $=\\sum_{i} c_{i}\\left|\\varphi_{i}\\right\\rangle$\n",
        "\n",
        "  * Spin up or spin down = **pure states**, can be written as a single wave function $\\mid \\psi\\rangle$.\n",
        "\n",
        "> 2. Kennt man den Zustand des Systems nicht genau, so muss von einem **gemischten Zustand (mixed state)** ausgegangen werden. Ebenso: when one wants to describe a physical system which is entangled with another, as its state can not be described by a pure state. For mixed states with noise in qubits.\n",
        "\n",
        "* A mixed state can be described with a density matrix:\n",
        "\n",
        "  * <font color =\"blue\">$\\rho$ </font>$=\\sum_{i} p_{i}\\left|\\varphi_{i} \\times \\varphi_{i}\\right|$\n",
        "  * Sum over probabilities times the corresponding projection operators onto certain basis states $\\varphi_{i}$\n",
        "\n",
        "  * It allows for the calculation of the probabilities of the outcomes of any measurement performed upon this system, using the Born rule.\n",
        "\n",
        "**There are two more ways to distinguish a pure state from a mixed state:**\n",
        "\n",
        "1. Take the trace of the square of the density matrix:\n",
        "\n",
        "  * $\\operatorname{Tr}\\left[\\rho^{2}\\right]=1 \\rightarrow$ Pure state (like Summe der Eigenwerte entlang der Spur: 1-0-0-0..)\n",
        "\n",
        "  * $\\operatorname{Tr}\\left[\\rho^{2}\\right]< 1 \\rightarrow$ Mixed state. <font color=\"red\">But in the examples below the trace is always = 1? (and some off-diagonal elements)</font>\n",
        "\n",
        "2. Geometricaly, pure states lie on the surface of the Blochsphere. Mixed states are confined within the Bloch sphere.\n",
        "\n",
        "> $\n",
        "\\begin{array}{c|c|c}\n",
        "& \\begin{array}{c}\n",
        "\\text { Pure } \\\\\n",
        "\\text { State }\n",
        "\\end{array} & \\begin{array}{c}\n",
        "\\text { Mixed } \\\\\n",
        "\\text { State }\n",
        "\\end{array} \\\\\n",
        "\\hline \\begin{array}{c}\n",
        "\\text { Density } \\\\\n",
        "\\text { Matrix } \\\\\n",
        "|\\psi\\rangle\\langle\\psi|\n",
        "\\end{array} & \\color{green} ✔ & \\color{green}✔ \\\\\n",
        "\\hline \\begin{array}{c}\n",
        "\\text { Wave } \\\\\n",
        "\\text { Function } \\\\\n",
        "|\\Psi\\rangle\n",
        "\\end{array} & \\color{green}✔ & \\color{red} ❌\n",
        "\\end{array}\n",
        "$\n",
        "\n",
        "**Why do we need this alternative formalism, these density matrices?**\n",
        "\n",
        "* To illustrate the difference, think about this Ket $|\\psi\\rangle$, which is the equal superposition of 0 and 1. We can write out the vector form $\\left[\\begin{array}{l}1 / \\sqrt{2} \\\\ 1 / \\sqrt{2}\\end{array}\\right]$. And if we write the corresponding $\\rho$, it will have 0.5 for every element in the matrix.\n",
        "\n",
        "> $|\\psi\\rangle=\\frac{1}{\\sqrt{2}}(|0\\rangle+(1\\rangle)=\\left[\\begin{array}{l}1 / \\sqrt{2} \\\\ 1 / \\sqrt{2}\\end{array}\\right] \\rightarrow $$\\rho=\\left[\\begin{array}{ll}0.5 & 0.5 \\\\ 0.5 & 0.5\\end{array}\\right]$\n",
        "\n",
        "* On the other hand if we create the uniform distribution over the density matrix corresponding to the 0-Ket and the density matrix corresponding to the 1-Ket, then this density matrix will be different:\n",
        "\n",
        "> $\\rho^{\\prime}=\\frac{1}{2}(|0 \\times 0|+|1 \\times 1|)=\\left[\\begin{array}{ll}0.5 & 0 \\\\ 0 & 0.5\\end{array}\\right]$\n",
        "\n",
        "* It doesn't have off-diagonal elements. These off-diagonal elements are critical for many quantum operations, sometimes also called 'coherences'. This is then called a maximally mixed state = equivalent of a uniform distribution in classical probability theory. This means we have absolutely no predictive power of what's going to happen next. Entropy of the state is maximal.\n",
        "\n",
        "* Ideally we want quantum states with a high coherence, but in reality noise affects, and these coherences disappear.\n",
        "\n",
        "https://www.youtube.com/watch?v=BE8RxAESx5I&list=PLBn8lN0Dcvpla6a6omBni1rjyQJ4CssTP&index=47\n"
      ],
      "metadata": {
        "id": "XKh8o95dlsKS"
      }
    },
    {
      "cell_type": "markdown",
      "metadata": {
        "id": "oiVIYzwp82e1"
      },
      "source": [
        "**Explanation 1: Density Matrix for Mixed States**\n",
        "\n",
        "*Source here point 2.1: https://qiskit.org/textbook/ch-quantum-hardware/density-matrix.html*\n",
        "\n",
        "* Let's consider the case where we initialize a qubit in the |0⟩ state, and then apply a Hadamard gate.\n",
        "\n",
        "* **Now, unlike the scenario we described for pure states, this Hadamard gate is not ideal: Due to errors in the quantum-computer hardware, only 80% of the times the state is prepared**, this Hadamard gate produces the desired state:\n",
        "\n",
        "> $\\left|\\psi_{1}\\right\\rangle=\\frac{1}{\\sqrt{2}}(|0\\rangle+|1\\rangle)$\n",
        "\n",
        "* The remaining $20 \\%$ of the times, the pulse applied to rotate the state is either too short or too long by $\\frac{\\pi}{6}$ radians about the $x$-axis. This means that when we use this Hadamard gate, we could end up with following two undesired outcome states:\n",
        "\n",
        ">$\n",
        "\\left|\\psi_{2}\\right\\rangle=\\frac{\\sqrt{3}}{2}|0\\rangle+\\frac{1}{2}|1\\rangle, \\quad\\left|\\psi_{3}\\right\\rangle=\\frac{1}{2}|0\\rangle+\\frac{\\sqrt{3}}{2}|1\\rangle\n",
        "$\n",
        "\n",
        "* The figure below shows the Bloch representation for the three possible states our qubit could take if the short pulse happens 10% of the time, and the long pulse the remaining 10% of the time:\n",
        "\n",
        "\n",
        "![ggg](https://raw.githubusercontent.com/deltorobarba/repo/master/quantum_198.png)\n",
        "\n",
        "* Since we do not know the outcome of our qubit everytime we prepare it, we can represent it as a mixed state of the form:\n",
        "\n",
        "**Step 1: how do we get the density matrix? - Take the column vector, turn it into a row vector, and then multiply them both:**\n",
        "\n",
        "> $(\\hat{\\rho})$ $=\\left(\\begin{array}{l}1 \\\\ 0\\end{array}\\right) \\times\\left(\\begin{array}{ll}1 & 0\\end{array}\\right)$ = $\\left(\\begin{array}{ll}1 & 0 \\\\ 0 & 0\\end{array}\\right)$\n",
        "\n",
        "in this case:\n",
        "\n",
        "> $\n",
        "\\rho_{H}=\\frac{4}{5}\\left|\\psi_{1}\\right\\rangle\\left\\langle\\psi_{1}\\left|+\\frac{1}{10}\\right| \\psi_{2}\\right\\rangle\\left\\langle\\psi_{2}\\left|+\\frac{1}{10}\\right| \\psi_{3}\\right\\rangle\\left\\langle\\psi_{3}\\right|$\n",
        "\n",
        "* Here, the factors $\\frac{4}{5}, \\frac{1}{10}$ and $\\frac{1}{10}$ correspond to the classical probabilities of obtaining the states $\\left|\\psi_{1}\\right\\rangle,\\left|\\psi_{2}\\right\\rangle$ and $\\left|\\psi_{3}\\right\\rangle$, respectively.\n",
        "\n",
        "**Step 2: Add the matrices together**: By replacing each of these three possible state vectors into  $\\rho$ , we can find the density matrix that represents this mixture:\n",
        "\n",
        "> $\\rho_{H}=\\frac{4}{5}\\left[\\begin{array}{ll}\\frac{1}{2} & \\frac{1}{2} \\\\ \\frac{1}{2} & \\frac{1}{2}\\end{array}\\right]+\\frac{1}{10}\\left[\\begin{array}{cc}\\frac{3}{4} & \\frac{\\sqrt{3}}{4} \\\\ \\frac{\\sqrt{3}}{4} & \\frac{1}{4}\\end{array}\\right]+\\frac{1}{10}\\left[\\begin{array}{cc}\\frac{1}{4} & \\frac{\\sqrt{3}}{4} \\\\ \\frac{\\sqrt{3}}{4} & \\frac{3}{4}\\end{array}\\right]$\n",
        "$\\rho_{H}=\\left[\\begin{array}{cc}\\frac{1}{2} & \\frac{\\sqrt{3}}{20}+\\frac{2}{5} \\\\ \\frac{\\sqrt{3}}{20}+\\frac{2}{5} & \\frac{1}{2}\\end{array}\\right]$"
      ]
    },
    {
      "cell_type": "markdown",
      "metadata": {
        "id": "2wWPEnYF82e2"
      },
      "source": [
        "**Explanation 2: Density Matrix for Mixed States**\n",
        "\n",
        "*Source: Parth G: https://www.youtube.com/watch?v=ZAOc4eMTQiw*\n",
        "\n",
        "* **Pain Point**:  when we see this notation for two states spin up and spin down: $|\\psi\\rangle=\\frac{1}{\\sqrt{2}}|\\uparrow\\rangle+\\frac{1}{\\sqrt{2}}|\\downarrow\\rangle$ we think of it as being in a superposition of both states. But sometimes we don't know if the system is actually in this superposition, or not already collapsed to one.\n",
        "\n",
        "* So, in practice before we measure a system, it can be in following three states, because we lack information about it. This is a mixed state:\n",
        "\n",
        "  * 33% probability: $|\\psi\\rangle=\\mid \\uparrow>$\n",
        "\n",
        "  * 33% probability: $|\\psi\\rangle=\\mid \\downarrow>$\n",
        "\n",
        "  * 33% probability: $|\\psi\\rangle=\\frac{1}{\\sqrt{2}}|\\uparrow\\rangle+\\frac{1}{\\sqrt{2}}|\\downarrow\\rangle$\n",
        "\n",
        "* **Mixed state**: lack of information about the system, hence for example giving equal probability to each possible outcome.\n",
        "\n",
        "* **When dealing with a mixed state we need to represent it with what's known as a density operator or density matrix**.\n",
        "\n",
        "* Wave function notation $|\\psi\\rangle$ can only be used to describe pure states. But density matrices $|\\psi\\rangle\\langle\\psi|$ can be used to describe mixed and pure states.\n",
        "\n",
        "* and how do we get the density matrix? - Take the column vector, turn it into a row vector, and then multiply them both:\n",
        "\n",
        "> $(\\hat{\\rho})$ $=\\left(\\begin{array}{l}1 \\\\ 0\\end{array}\\right) \\times\\left(\\begin{array}{ll}1 & 0\\end{array}\\right)$ = $\\left(\\begin{array}{ll}1 & 0 \\\\ 0 & 0\\end{array}\\right)$\n",
        "\n",
        "On top of that you can even add several mixed states to get one final mixed states. Mixed state: our knowledge of the system is limited. It could be either one of multiple psi states.\n",
        "\n",
        "* Image 1: We have to add up the density matrices of each possible spin state whilst making sure that we weight it with the probability of it being in that psi state\n",
        "\n",
        "* Image 2: That would give us the final density matrix, which is the mixture in the mixed state.\n",
        "\n",
        "* Image 3: it is for this reason that there is no way to write a mixed state as a single wave function or a single vector. We have to deal with matrices that represent the different pure states in which our system could be. And each of these density matrices has to be weighted by how likely it is that our system is on that pure that.\n",
        "\n",
        "![geometry](https://raw.githubusercontent.com/deltorobarba/repo/master/quantum_006a.png)"
      ]
    },
    {
      "cell_type": "markdown",
      "metadata": {
        "id": "9GXuS8c94Iay"
      },
      "source": [
        "###### ***Ket-Bra $|\\psi\\rangle \\langle \\psi |$ - Expectation Values***"
      ]
    },
    {
      "cell_type": "markdown",
      "source": [
        "An observable in quantum mechanics is represented by a Hermitian operator. The spectral norm (or operator norm) of a Hermitian operator is equal to its largest eigenvalue in absolute value."
      ],
      "metadata": {
        "id": "5cVUHgYvHoiG"
      }
    },
    {
      "cell_type": "markdown",
      "source": [
        "<font color=\"blue\">**<u>Density matrix formalism</u> to calculate Expectation Values**\n",
        "\n",
        "\n",
        "* [Expectation value](https://en.m.wikipedia.org/wiki/Expectation_value_(quantum_mechanics)): The average of the eigenvalues of a von Neumann observable, weighted by the Born-rule probabilities, is the expectation value of that observable. What is the average value of quantum measurement outcomes?\n",
        "\n",
        "* Large number of particle interactions when we are trying to measure a total effect from an aggregation of subatomic particles: run an experiment involving the observation of energy levels in a type of atom N times under fixed conditions. The expectation value e of the experiment turns out to be an illegitimate energy level for that atom, but E = Ne will give the correct total energy assuming N is large enough.\n",
        "\n",
        "* Expectation value of an observable $Q$ (like the momentum of a particle) in a (normalized) state $|\\Psi\\rangle$ gives the average of all possible values (weighted by their corresponding probabilities) that one may expect to observe in an experiment designed to measure $Q$ in state $|\\Psi\\rangle$ over many experiments where the average of all values of $Q$ will approach the expectation value $\\langle\\Psi|Q| \\Psi\\rangle$ (one set of measurement perturbs the system)"
      ],
      "metadata": {
        "id": "NWbNfdo0aS0a"
      }
    },
    {
      "cell_type": "markdown",
      "source": [
        "<font color=\"blue\">**First: The expectation value of an operator $Q$ is given by $\\langle Q\\rangle=\\langle\\psi|Q| \\psi\\rangle$ = $\\sum_{n} \\lambda_{n}\\left|\\left\\langle u_{n} \\mid \\psi\\right\\rangle\\right|^{2}$(spectral decomposition)**</font>\n",
        "\n",
        "* Given a state vector for a pure state $|s\\rangle$, with its complex-conjugate transpose is $\\langle s|$, the operator whose expectation value you are evaluating could be written $|A|$ and $|s\\rangle$ has a component which is a $\\lambda$-eigenstate for $A$.\n",
        "\n",
        "\n",
        "* A mixture of states is a weighted average of such operators, and its expectation value is the weighted average of the expectation values of the pure states.\n",
        "\n",
        "* Suppose, $\\left|\\psi_{1}\\right\\rangle,\\left|\\psi_{2}\\right\\rangle, \\ldots$ be the orthonormal basis of eigenstates of observable $Q$ with corresponding eigenvalues $\\lambda_{1}, \\lambda_{2}, \\ldots$ respectively. One can expand the given (normalized) state $|\\Psi\\rangle$ in the above basis as\n",
        "\n",
        "> $\n",
        "|\\Psi\\rangle=\\alpha_{1}\\left|\\psi_{1}\\right\\rangle+\\alpha_{2}\\left|\\psi_{2}\\right\\rangle+\\cdots+\\alpha_{n}\\left|\\psi_{n}\\right\\rangle+\\ldots\n",
        "$\n",
        "\n",
        "* According to a basic postulate of Quantum mechanics the above expansion implies that upon measuring $Q$ in state $|\\Psi\\rangle$ the outcome of the experiment will be eigenvalue $\\lambda_{1}$ with probability $\\left|\\alpha_{1}\\right|^{2}$, eigenvalue $\\lambda_{2}$ with probability $\\left|\\alpha_{2}\\right|^{2}$ and so on. The (weighted) average of all possible values of $Q$ that can be observed in state $|\\Psi\\rangle$ will be the expectation value of $Q$ in state $|\\Psi\\rangle$:\n",
        "\n",
        "> <font color=\"blue\">$\\sum_{n} \\lambda_{n}\\left|\\left\\langle u_{n} \\mid \\psi\\right\\rangle\\right|^{2}$ = $\\left|\\alpha_{1}\\right|^{2} \\lambda_{1}+\\left|\\alpha_{2}\\right|^{2} \\lambda_{2}+\\ldots =\\left\\langle\\alpha_{1} \\psi_{1}+\\alpha_{2} \\psi_{2}+\\ldots| \\, | \\lambda_{1} \\alpha_{1} \\psi_{1}+\\lambda_{2} \\alpha_{2} \\psi_{2}+\\ldots\\right\\rangle =\\left\\langle\\alpha_{1} \\psi_{1}+\\alpha_{2} \\psi_{2}+\\ldots|Q| \\alpha_{1} \\psi_{1}+\\alpha_{2} \\psi_{2}+\\ldots\\right\\rangle =\\langle\\Psi|Q| \\Psi\\rangle$\n",
        "\n",
        "* This is because operator $Q$ can be written as a sum over its Eigenvalues $a_i$ times projection operators onto its Eigenstates.\n",
        "\n",
        "> $Q=\\sum_{i} \\lambda_{n} \\left| u_{n} \\rangle \\langle \\ u_{n}\\right|$ $\\quad$ with $Q\\left| u_{n}\\right\\rangle= \\lambda_{n}\\left| u_{n}\\right\\rangle$\n",
        "\n",
        "* By using decomposition in the definition of the expectation value, we get this result:\n",
        "\n",
        "> $\\langle Q\\rangle_{\\psi}=\\langle\\psi|Q| \\psi\\rangle=$ $\\sum_{i} \\lambda_{n}\\langle\\psi| u_{n} \\rangle $ <font color =\"orange\">$\\langle u_{u}| \\psi \\rangle$</font> $=\\sum_{i} \\lambda_{n}$ <font color =\"blue\">$\\left|\\left\\langle u_{n} \\mid \\psi\\right\\rangle\\right|^{2}$</font>\n",
        "\n",
        "* We sum over all Eigenvalues, which are the possible outcomes of a measurement, weighted by the probabilities that this particular Eigenvalue occurs if we start in the state $\\Psi$.\n",
        "\n",
        "  * <font color =\"orange\">$\\langle u_{n} | \\psi\\rangle$</font> - this is called the **transition amplitude**\n",
        "\n",
        "  * <font color =\"blue\">$|\\langle u_{n} | \\psi\\rangle|^{2}$</font> - this is called the **transition probability** (absolute square of the transition amplitude)\n",
        "\n",
        "> $\\langle\\hat{A}\\rangle$ $=\\sum_{n} \\lambda_{n} P\\left(\\lambda_{n}\\right)$ and since: $P\\left(\\lambda_{n}\\right)=\\left|\\left\\langle u_{n} \\mid \\psi\\right\\rangle\\right|^{2}=\\left|c_{n}\\right|^{2}$:\n",
        "\n",
        "> $\\langle\\hat{A}\\rangle$ $=\\sum_{n} \\lambda_{n} \\left|c_{n}\\right|^{2}$</font>\n",
        "\n",
        "> $\\langle\\hat{A}\\rangle$ $=\\sum_{n} \\lambda_{n} \\left|\\left\\langle u_{n} \\mid \\psi\\right\\rangle\\right|^{2}$</font>\n",
        "\n",
        "\n",
        "> $|\\psi\\rangle \\longrightarrow\\langle\\hat{A}\\rangle_{\\psi}=\\langle\\hat{A}\\rangle=\\sum_{n} \\lambda_{n} P\\left(\\lambda_{n}\\right)$ <font color =\"blue\">$=\\sum_{n} \\lambda_{n}\\left|\\left\\langle u_{n} \\mid \\psi\\right\\rangle\\right|^{2}$\n",
        "\n",
        "* <font color =\"blue\">$\\rightarrow$ die Summe der Eigenwerte $\\lambda_{n}$ jeweils multipliziert mit der Wahrscheinlichkeit $P\\left(\\lambda_{n}\\right) = \\left|\\left\\langle u_{n} \\mid \\psi\\right\\rangle\\right|^{2}$, den jeweiligen Eigenwert zu erhalten = Expectation Value</font>\n",
        "\n",
        "* Beispielrechnung mit interessantem Ergebnis: Eigenwert -1 mit Amplitude 0.25 und Eigenwert +1 mit Amplitude 0.25\n",
        "\n",
        "  * = $(-1) * (0.25)^2$ + $(+1) * (0.25)^2$\n",
        "\n",
        "  * = $(-1) * (0,5)$ + $(+1) * (0.5)$ = -0.5 + 0.5\n",
        "\n",
        "  * = 0 $\\rightarrow$ Expectation value, aber kein erlaubtes physikalisches Ergebnis.\n",
        "\n",
        "\n",
        "\n"
      ],
      "metadata": {
        "id": "Im0HXIwpZSfq"
      }
    },
    {
      "cell_type": "markdown",
      "source": [
        "<font color=\"blue\">**Second: The expectation value $\\langle \\psi|A| \\psi\\rangle$ can be evaluated as the trace of $|\\psi\\rangle\\langle \\psi| A$.**</font>\n",
        "\n",
        "* The operator $|\\psi\\rangle\\langle \\psi|$ is an operator of trace 1, and the operator $|\\psi\\rangle\\langle \\psi|$ is an operator of trace 1.\n",
        "\n",
        "* $\\rho = |\\psi\\rangle \\langle \\psi|$ is an operator of trace=1. We can calculate the expectation value of $A$ by taking the trace over $\\rho$ times $A$:\n",
        "\n",
        "> **$\\langle A\\rangle_{\\rho}:= \\langle \\psi|A| \\psi\\rangle = \\operatorname{Tr}[\\rho A] =\\operatorname{Tr}[\\, |\\psi\\rangle \\langle \\psi| \\, A]$**</font>\n",
        "\n",
        "* Taking the trace over an operator means to sum over the matrix elements of that operator between states of a complete basis $\\operatorname{Tr}[B]=\\sum_{i}\\left\\langle\\eta_{i}|B| \\eta_{i}\\right\\rangle$. We are adding $\\rho = |\\psi\\rangle \\langle \\psi|$ and move the two complex numbers $\\eta$, since they are not operators:\n",
        "\n",
        "> $\\langle A\\rangle_{\\rho}:=\\operatorname{Tr}[\\rho A]$ = $\\sum_{i} {\\left\\langle\\eta_{i}\\right| \\psi \\rangle}{\\left\\langle\\psi|A| \\eta_{i}\\right\\rangle}$\n",
        "\n",
        "* We sum over the basis states. Since $| \\eta_{i} \\rangle \\langle \\eta_{i} |$ = 1, we get $\\langle\\psi|A| \\psi\\rangle$, which is the same result from working with density matrices:\n",
        "\n",
        "> $\\sum_{i}\\left\\langle\\psi|A| \\eta_{i} \\rangle \\langle \\eta_{i} | \\psi\\right\\rangle$ = $\\langle\\psi|A| \\psi\\rangle=\\langle A\\rangle_{\\psi}$\n"
      ],
      "metadata": {
        "id": "taewaWhtaMqW"
      }
    },
    {
      "cell_type": "markdown",
      "source": [
        "![ggg](https://raw.githubusercontent.com/deltorobarba/repo/master/quantum_195.png)"
      ],
      "metadata": {
        "id": "lX-bFe39aNwf"
      }
    },
    {
      "cell_type": "markdown",
      "source": [
        "![ggg](https://raw.githubusercontent.com/deltorobarba/repo/master/quantum_201.png)"
      ],
      "metadata": {
        "id": "RyU5akyieNvl"
      }
    },
    {
      "cell_type": "markdown",
      "source": [
        "###### *Eigenvalues, Observables & Operators*"
      ],
      "metadata": {
        "id": "gXZXzSSsrrUL"
      }
    },
    {
      "cell_type": "markdown",
      "metadata": {
        "id": "dpO0HLIBkdmU"
      },
      "source": [
        "> <font color=\"blue\">**<u>Postulate II of quantum mechanics</u>: a physical quantity $\\mathcal{A}$ is associated with a hermitian operator $\\hat{A}$, that is called an observable.**\n",
        "\n",
        "> <font color=\"blue\">**<u>Postulate III of quantum mechanics</u>: The result of a measurement of a physical quantity is one of the Eigenvalues of the associated observable.**\n",
        "\n",
        "Video: [Eigenvalues and eigenstates in quantum mechanics](https://www.youtube.com/watch?v=p1zg-c1nvwQ)\n",
        "\n",
        "> We consider the action of $\\hat{A}$ on a special Ket $|\\Psi\\rangle$ such that the only way in which $\\hat{A}$ changes $|\\Psi\\rangle$ is by scaling it by a constant and we obtain $\\lambda |\\Psi\\rangle$\n",
        "\n",
        "The Eigenvector of an operator are those special directions in the vector space which the operator doesn't change.\n",
        "\n",
        "The probability of each eigenvalue is related to the projection of the physical state on the subspace related to that eigenvalue.\n",
        "\n",
        "https://en.m.wikipedia.org/wiki/Operator_(physics)#Operators_in_quantum_mechanics\n",
        "\n",
        "![ggg](https://raw.githubusercontent.com/deltorobarba/repo/master/quantum_257.png)\n",
        "\n",
        "> [C$*$-algebras](https://en.m.wikipedia.org/wiki/C*-algebra) were first considered primarily for their use in quantum mechanics **to model algebras of physical observables**. This line of research began with Werner Heisenberg's matrix mechanics and in a more mathematically developed form with Pascual Jordan around 1933. See also [Quantum Group](https://en.m.wikipedia.org/wiki/Quantum_group).\n",
        "\n",
        "\n",
        "![ggg](https://raw.githubusercontent.com/deltorobarba/repo/master/quantum_251.png)\n"
      ]
    },
    {
      "cell_type": "markdown",
      "source": [
        "**(Anti-)Commutators, Quantum Numbers und \"Vollständiger Satz kommutierender Observablen\"**\n",
        "\n",
        "Um einen quantenmechanischen Zustand eindeutig zu charakterisieren, sind oft mehrere Observablen notwendig. Beispielsweise ist es beim Wasserstoffatom nicht ausreichend, nur die Energie anzugeben (mittels der Hauptquantenzahl n), sondern es sind zwei weitere Observablen notwendig: der Betrag des Drehimpulses (Quantenzahl l) und die z-Komponente des Drehimpuls (Quantenzahl m). Diese drei Größen bilden dann einen vollständigen Satz kommutierender Observablen.\n",
        "Eine Menge von Observablen A, B, C,... bildet einen v.S.k.O., wenn eine orthonormale Basis des Zustandsraums aus gemeinsamen Eigenvektoren der Observablen existiert, und diese Basis (bis auf einen Phasenfaktor) eindeutig ist.\n",
        "\n",
        "Solch ein Verhalten ist in der Quantenmechanik allerdings eher die Ausnahme. Die meisten Paare von Observablen lassen sich nicht gleichzeitig beliebig genau messen, was eine Konsequenz aus der heisenbergschen Unschärferelation ist. Man spricht dann auch von komplementären Observablen.\n",
        "\n",
        "https://de.m.wikipedia.org/wiki/Vollständiger_Satz_kommutierender_Observablen"
      ],
      "metadata": {
        "id": "rRJWyBvzCSAs"
      }
    },
    {
      "cell_type": "markdown",
      "metadata": {
        "id": "Wc9HeAnZvFPv"
      },
      "source": [
        "**Solving: How to find Eigenvalues and Eigenvectors?**\n",
        "\n",
        "* For an arbitrary operator (except the identity operator) it is generally not possible to figure out the eigenvalues and eigenstates simply by inspection of how the operator acts\n",
        "\n",
        "* More general approach needed:\n",
        "\n",
        "\t* consider basis u that is orthonormal.\n",
        "\n",
        "\t* Then we write the Eigenvalue equation in the u basis (just project both sides of the equation onto the basis states u).\n",
        "\n",
        "\t* next we insert the identity operator after the A operator on left and side\n",
        "\n",
        "\t* then write the resolution of the identity in the u basis\n",
        "\n",
        "\t* then take sum on the beginning\n",
        "\n",
        "![ggg](https://raw.githubusercontent.com/deltorobarba/repo/master/quantum_260.png)\n",
        "\n",
        "* the equation $\\sum_{j}\\left(A_{i j}-\\lambda \\delta_{i j}\\right) c_{j}=0$ is equivalent to the original Eigenvalue equation $\\hat{A}|\\psi\\rangle=\\lambda|\\psi\\rangle$, but now written in the u representation\n",
        "\n",
        "* finding the eigenvalues and eigenvectors now becomes finding the lambda and c in the new equation = \"matrix diagonalization\"\n",
        "\n",
        "![ggg](https://raw.githubusercontent.com/deltorobarba/repo/master/quantum_261.png)\n",
        "\n",
        "> **All we really need to do quantum mechanics is to get enough practice in diagonalizing matrices**\n",
        "\n",
        "* we have following operator A and state Psi\n",
        "\n",
        "* we want to find the eigenvalues and eigenvectors of the operator A\n",
        "\n",
        "![ggg](https://raw.githubusercontent.com/deltorobarba/repo/master/quantum_263.png)"
      ]
    },
    {
      "cell_type": "markdown",
      "metadata": {
        "id": "rYnM169ZFHeZ"
      },
      "source": [
        "<font color=\"blue\">**Operators acting on Quantum State Vectors: Matrix-Vector-Multiplication (Single Qubit)**\n",
        "\n",
        "*Applying a Hadamard gate to a single qubit (matrix-vector multiplication) - Simple dot product! You get a vector out.*\n",
        "\n",
        "$H |0\\rangle = \\frac{1}{\\sqrt{2}}\\left(\\begin{array}{cc}1 & 1 \\\\ 1 & -1\\end{array}\\right)\\left[\\begin{array}{l}1 \\\\ 0\\end{array}\\right]= \\frac{1}{\\sqrt{2}}\\left[\\begin{array}{ll}1 + 0 \\\\ 1 + 0\\end{array}\\right]=\\frac{1}{\\sqrt{2}}\\left[\\begin{array}{c}1 \\\\ 1\\end{array}\\right] = |+\\rangle$\n",
        "\n",
        "$H |1\\rangle = \\frac{1}{\\sqrt{2}}\\left(\\begin{array}{cc}1 & 1 \\\\ 1 & -1\\end{array}\\right)\\left[\\begin{array}{l}0 \\\\ 1\\end{array}\\right]= \\frac{1}{\\sqrt{2}}\\left[\\begin{array}{ll}0 + 1 \\\\ 0 -1\\end{array}\\right]=\\frac{1}{\\sqrt{2}}\\left[\\begin{array}{c}1 \\\\ -1\\end{array}\\right] = |-\\rangle$\n",
        "\n",
        "*Diese Zustände können auch mithilfe der Dirac-Notation als Summen von |0⟩ und |1⟩ erweitert werden:*\n",
        "\n",
        "$|+\\rangle=\\frac{1}{\\sqrt{2}}(|0\\rangle+|1\\rangle)$ weil <font color=\"gray\">wegen $|0\\rangle=\\left[\\begin{array}{l}1 \\\\ 0\\end{array}\\right]$ und $|1\\rangle=\\left[\\begin{array}{l}0 \\\\ 1\\end{array}\\right]$ daher:</font> $\\frac{1}{\\sqrt{2}}\\left[\\begin{array}{ll}1 + 0 \\\\ 0 + 1\\end{array}\\right]=\\frac{1}{\\sqrt{2}}\\left[\\begin{array}{c}1 \\\\ 1\\end{array}\\right]$\n",
        "\n",
        "$|-\\rangle=\\frac{1}{\\sqrt{2}}(|0\\rangle-|1\\rangle)$ weil: $\\frac{1}{\\sqrt{2}}\\left[\\begin{array}{ll}1 - 0 \\\\ 0 - 1\\end{array}\\right]=\\frac{1}{\\sqrt{2}}\\left[\\begin{array}{c}1 \\\\ -1\\end{array}\\right]$\n",
        "\n",
        "*Zusammenfassend, das ist alles das gleiche, sieht aber komplett anders aus:*\n",
        "\n",
        "<font color=\"blue\">$H |0\\rangle$</font> $ = \\frac{1}{\\sqrt{2}}\\left(\\begin{array}{cc}1 & 1 \\\\ 1 & -1\\end{array}\\right)\\left[\\begin{array}{l}1 \\\\ 0\\end{array}\\right] =\\frac{1}{\\sqrt{2}}\\left[\\begin{array}{c}1 \\\\ 1\\end{array}\\right]$ <font color=\"blue\">$ \\,\\,= |+\\rangle$ = $\\frac{1}{\\sqrt{2}}(|0\\rangle+|1\\rangle)$\n",
        "\n",
        "<font color=\"blue\">$H |1\\rangle$</font>$ = \\frac{1}{\\sqrt{2}}\\left(\\begin{array}{cc}1 & 1 \\\\ 1 & -1\\end{array}\\right)\\left[\\begin{array}{l}0 \\\\ 1\\end{array}\\right]=\\frac{1}{\\sqrt{2}}\\left[\\begin{array}{c}1 \\\\ -1\\end{array}\\right]$ <font color=\"blue\">$ = |-\\rangle$ = $\\frac{1}{\\sqrt{2}}(|0\\rangle-|1\\rangle)$\n",
        "\n",
        "*$|0\\rangle$ und $|1\\rangle$ stellen hier die Basis dar, in der die Quantenzustaende berechnet werden.* ***Man kann allerdings auch eine andere Basis waehlen, zB $|+\\rangle$ und $|-\\rangle$:***\n",
        "\n",
        "$|0\\rangle=\\frac{1}{\\sqrt{2}}(|+\\rangle+|-\\rangle)$ vergleiche: <font color=\"blue\">$|+\\rangle$ = $\\frac{1}{\\sqrt{2}}(|0\\rangle+|1\\rangle)$\n",
        "\n",
        "$|1\\rangle=\\frac{1}{\\sqrt{2}}(|+\\rangle-|-\\rangle)$ vergleiche: <font color=\"blue\">$|-\\rangle$ = $\\frac{1}{\\sqrt{2}}(|0\\rangle-|1\\rangle)$\n",
        "\n",
        "*Applying an Identity Operator:*\n",
        "\n",
        "$I |0\\rangle = \\left(\\begin{array}{cc}1 & 0 \\\\ 0 & 1\\end{array}\\right)\\left[\\begin{array}{l}1 \\\\ 0\\end{array}\\right]= \\left[\\begin{array}{ll}1 + 0 \\\\ 0 + 0\\end{array}\\right]=\\left[\\begin{array}{c}1 \\\\ 0\\end{array}\\right]$\n",
        "\n",
        "$I |1\\rangle = \\left(\\begin{array}{cc}1 & 0 \\\\ 0 & 1\\end{array}\\right)\\left[\\begin{array}{l}0 \\\\ 1\\end{array}\\right]= \\left[\\begin{array}{ll}0 + 0 \\\\ 0 + 1\\end{array}\\right]=\\left[\\begin{array}{c}0 \\\\ 1\\end{array}\\right]$\n",
        "\n",
        "*Applying a Pauli-X Operator:*\n",
        "\n",
        "$X|0\\rangle=\\left[\\begin{array}{ll}0 & 1 \\\\ 1 & 0\\end{array}\\right]\\left[\\begin{array}{l}1 \\\\ 0\\end{array}\\right]=\\left[\\begin{array}{ll}0 + 0 \\\\ 1 + 0\\end{array}\\right]=\\left[\\begin{array}{l}0 \\\\ 1\\end{array}\\right]$\n"
      ]
    },
    {
      "cell_type": "markdown",
      "metadata": {
        "id": "NTK-u1Q4nrGv"
      },
      "source": [
        "<font color=\"blue\">**Matrix-Vector-Multiplication (Multi Qubit)**\n",
        "\n",
        "> $A \\mathbf{x}=\\left[\\begin{array}{cccc}a_{11} & a_{12} & \\ldots & a_{1 n} \\\\ a_{21} & a_{22} & \\ldots & a_{2 n} \\\\ \\vdots & \\vdots & \\ddots & \\vdots \\\\ a_{m 1} & a_{m 2} & \\ldots & a_{m n}\\end{array}\\right]\\left[\\begin{array}{c}x_{1} \\\\ x_{2} \\\\ \\vdots \\\\ x_{n}\\end{array}\\right]=\\left[\\begin{array}{c}a_{11} x_{1}+a_{12} x_{2}+\\cdots+a_{1 n} x_{n} \\\\ a_{21} x_{1}+a_{22} x_{2}+\\cdots+a_{2 n} x_{n} \\\\ \\vdots \\\\ a_{m 1} x_{1}+a_{m 2} x_{2}+\\cdots+a_{m n} x_{n}\\end{array}\\right]$\n",
        "\n",
        "**First create the tensor product of two operators**: For construction of the desired two-qubit gate, you need the same tensor product operation as you used for the vectors. Here where $H_1$ is a one-qubit Hadamard gate in the two-qubit space $(\\hat{H} \\otimes \\mathbf{I})$, where Hadamard is applied only to one Qubit:\n",
        "\n",
        "> $H_{1} \\equiv H_{0} \\otimes I=\\frac{1}{\\sqrt{2}}\\left(\\begin{array}{ll}1\\left(\\begin{array}{ll}1 & 0 \\\\ 0 & 1\\end{array}\\right) & 1\\left(\\begin{array}{ll}1 & 0 \\\\ 0 & 1\\end{array}\\right) \\\\ 1\\left(\\begin{array}{ll}1 & 0 \\\\ 0 & 1\\end{array}\\right) & -1\\left(\\begin{array}{ll}1 & 0 \\\\ 0 & 1\\end{array}\\right)\\end{array}\\right)=\\frac{1}{\\sqrt{2}}\\left(\\begin{array}{cccc}1 & 0 & 1 & 0 \\\\ 0 & 1 & 0 & 1 \\\\ 1 & 0 & -1 & 0 \\\\ 0 & 1 & 0 & -1\\end{array}\\right)$\n",
        "\n",
        "**Second, apply the new 'tensored' operator on the tensor product of two state vectors**:\n",
        "\n",
        "See the tensor product of two vectors in state $|0\\rangle$:\n",
        "\n",
        "> $|0\\rangle \\otimes|0\\rangle = \\left[\\begin{array}{l}1 \\\\ 0\\end{array}\\right] \\otimes\\left[\\begin{array}{l}1 \\\\ 0\\end{array}\\right]=$</font> $\\left[\\begin{array}{l}1\\left[\\begin{array}{l}1 \\\\ 0\\end{array}\\right] \\\\ 0\\left[\\begin{array}{l}1 \\\\ 0\\end{array}\\right]\\end{array}\\right]=$ <font color=\"blue\">$\\left [\\begin{array}{l}1 \\\\ 0 \\\\ 0 \\\\ 0\\end{array}\\right]$\n",
        "\n",
        "Now applying $H_1$ you mix up the first qubit states and keep the second qubit state unchanged:\n",
        "\n",
        "> $H_{1}(|0\\rangle \\otimes|0\\rangle)=H_{1}\\left(\\begin{array}{l}1 \\\\ 0 \\\\ 0 \\\\ 0\\end{array}\\right)$= <font color=\"blue\">$\\frac{1}{\\sqrt{2}}\\left(\\begin{array}{cccc}1 & 0 & 1 & 0 \\\\ 0 & 1 & 0 & 1 \\\\ 1 & 0 & -1 & 0 \\\\ 0 & 1 & 0 & -1\\end{array}\\right) \\left(\\begin{array}{l}1 \\\\ 0 \\\\ 0 \\\\ 0\\end{array}\\right)$ = $\\frac{1}{\\sqrt{2}}\\left(\\begin{array}{l}1 \\\\ 0 \\\\ 1 \\\\ 0\\end{array}\\right)$</font>= $\\frac{1}{\\sqrt{2}}(|0\\rangle \\otimes|0\\rangle+|1\\rangle \\otimes|0\\rangle)$\n",
        "\n",
        "**Another way of writing this (=apply H to one qubit only in a 1 qubit in a 2 qubit system) for a joint state of two initialized qubits $\n",
        "|0\\rangle \\otimes|0\\rangle\n",
        "$ is:**\n",
        "\n",
        "> <font color=\"orange\">$\\hat{H}\\left|q_{0}\\right\\rangle \\otimes\\left|q_{1}\\right\\rangle$</font> = $\n",
        "\\mathbf{H}|0\\rangle \\otimes|0\\rangle=\\left(\\frac{1}{\\sqrt{2}}|0\\rangle+\\frac{1}{\\sqrt{2}}|1\\rangle\\right) \\otimes|0\\rangle\n",
        "$\n",
        "\n",
        "The tensor product is distributive, which in this case means it acts much like multiplication:\n",
        "\n",
        ">$\n",
        "\\mathbf{H}|0\\rangle \\otimes|0\\rangle=\\frac{1}{\\sqrt{2}}|0\\rangle \\otimes|0\\rangle+\\frac{1}{\\sqrt{2}}|1\\rangle \\otimes|0\\rangle\n",
        "$\n",
        "\n",
        "See [Tensor_product](https://en.wikipedia.org/wiki/Tensor_product)\n"
      ]
    },
    {
      "cell_type": "markdown",
      "metadata": {
        "id": "0z7cDFlh_eL1"
      },
      "source": [
        "<font color=\"blue\">**Matrix-Matrix-Multiplication (Kronecker / Tensor)**\n",
        "\n",
        "Zur Kombination von Operators in einem Timestep (zB H bei qubit 1 und I bei Qubit 2). Two systems being described as a joint system.\n",
        "\n",
        "> $\\left[\\begin{array}{ll}a & b \\\\ c & d\\end{array}\\right] \\otimes\\left[\\begin{array}{ll}e & f \\\\ g & h\\end{array}\\right]=\\left[\\begin{array}{lll}a\\left[\\begin{array}{ll}e & f \\\\ g & h\\end{array}\\right] & b\\left[\\begin{array}{ll}e & f \\\\ g & h\\end{array}\\right] \\\\ c\\left[\\begin{array}{ll}e & f \\\\ g & h\\end{array}\\right] & d\\left[\\begin{array}{llll}e & f \\\\ g & h\\end{array}\\right]\\end{array}\\right]=\\left[\\begin{array}{llll}a e & a f & \\text { be } & b f \\\\ a g & a h & b g & b h \\\\ c e & c f & d e & d f \\\\ c g & c h & d g & d h\\end{array}\\right]$\n",
        "\n",
        "$H \\otimes I=\\frac{1}{\\sqrt{2}}\\left(\\begin{array}{cc}1 & 1 \\\\ 1 & -1\\end{array}\\right) \\otimes\\left(\\begin{array}{ll}1 & 0 \\\\ 0 & 1\\end{array}\\right)=\\frac{1}{\\sqrt{2}}\\left(\\begin{array}{ll}1\\left(\\begin{array}{ll}1 & 0 \\\\ 0 & 1\\end{array}\\right) & 1\\left(\\begin{array}{ll}1 & 0 \\\\ 0 & 1\\end{array}\\right) \\\\ 1\\left(\\begin{array}{ll}1 & 0 \\\\ 0 & 1\\end{array}\\right) & -1\\left(\\begin{array}{ll}1 & 0 \\\\ 0 & 1\\end{array}\\right)\\end{array}\\right)=\\frac{1}{\\sqrt{2}}\\left(\\begin{array}{rrrr}1 & 0 & 1 & 0 \\\\ 0 & 1 & 0 & 1 \\\\ 1 & 0 & -1 & 0 \\\\ 0 & 1 & 0 & -1\\end{array}\\right)$\n",
        "\n",
        "$I \\otimes H=\\left(\\begin{array}{ll}1 & 0 \\\\ 0 & 1\\end{array}\\right) \\otimes \\frac{1}{\\sqrt{2}}\\left(\\begin{array}{cc}1 & 1 \\\\ 1 & -1\\end{array}\\right) = \\frac{1}{\\sqrt{2}}\\left(\\begin{array}{cc}1\\left(\\begin{array}{cc}1 & 1 \\\\ 1 & -1\\end{array}\\right) & 0\\left(\\begin{array}{cc}1 & 1 \\\\ 1 & -1\\end{array}\\right) \\\\ 0\\left(\\begin{array}{cc}1 & 1 \\\\ 1 & -1\\end{array}\\right) & 1\\left(\\begin{array}{cc}1 & 1 \\\\ 1 & -1\\end{array}\\right)\\end{array}\\right)=\\frac{1}{\\sqrt{2}}\\left(\\begin{array}{cccc}1 & 1 & 0 & 0 \\\\ 1 & -1 & 0 & 0 \\\\ 0 & 0 & 1 & 1 \\\\ 0 & 0 & 1 & -1\\end{array}\\right)$\n",
        "\n",
        "$Y \\otimes X=\\left[\\begin{array}{cc}0 & -i \\\\ i & 0\\end{array}\\right] \\otimes\\left[\\begin{array}{ll}0 & 1 \\\\ 1 & 0\\end{array}\\right]=\\left[\\begin{array}{ll}0\\left[\\begin{array}{ll}0 & 1 \\\\ 1 & 0\\end{array}\\right] & -i\\left[\\begin{array}{ll}0 & 1 \\\\ 1 & 0\\end{array}\\right] \\\\ i\\left[\\begin{array}{ll}0 & 1 \\\\ 1 & 0\\end{array}\\right] & 0\\left[\\begin{array}{ll}0 & 1 \\\\ 1 & 0\\end{array}\\right]\\end{array}\\right]=\\left[\\begin{array}{cccc}0 & 0 & 0 & -i \\\\ 0 & 0 & -i & 0 \\\\ 0 & i & 0 & 0 \\\\ i & 0 & 0 & 0\\end{array}\\right]$\n",
        "\n",
        "$X \\otimes H=\\left[\\begin{array}{ll}0 & 1 \\\\ 1 & 0\\end{array}\\right] \\otimes \\frac{1}{\\sqrt{2}}\\left[\\begin{array}{cc}1 & 1 \\\\ 1 & -1\\end{array}\\right]=\\frac{1}{\\sqrt{2}}\\left[\\begin{array}{cc}0 \\times\\left[\\begin{array}{cc}1 & 1 \\\\ 1 & -1\\end{array}\\right] & 1 \\times\\left[\\begin{array}{cc}1 & 1 \\\\ 1 & -1\\end{array}\\right] \\\\ 1 \\times\\left[\\begin{array}{cc}1 & 1 \\\\ 1 & -1\\end{array}\\right] & 0 \\times\\left[\\begin{array}{cc}1 & 1 \\\\ 1 & -1\\end{array}\\right]\\end{array}\\right]=\\frac{1}{\\sqrt{2}}\\left[\\begin{array}{cccc}0 & 0 & 1 & 1 \\\\ 0 & 0 & 1 & -1 \\\\ 1 & 1 & 0 & 0 \\\\ 1 & -1 & 0 & 0\\end{array}\\right] =\\left[\\begin{array}{cc}\n",
        "0 & H \\\\\n",
        "H & 0\n",
        "\\end{array}\\right]$\n"
      ]
    },
    {
      "cell_type": "markdown",
      "metadata": {
        "id": "ZnohitquaGyf"
      },
      "source": [
        "**<font color=\"blue\">Matrix-Matrix-Multiplication (Usual)**\n",
        "\n",
        "> Used in serially wired gates (so NOT gates in one time step - here we use tensor product to combine them, but serial gates!)\n",
        "\n",
        "A line in the circuit is considered as a quantum wire and basically represents a single qubit. The product of operators keeps the same dimension.\n",
        "\n",
        "\n",
        "![ggg](https://upload.wikimedia.org/wikipedia/commons/thumb/0/0a/Serially_wired_quantum_logic_gates.png/500px-Serially_wired_quantum_logic_gates.png)\n",
        "\n",
        "For example, putting the Pauli X gate after the Pauli Y gate, both of which act on a single qubit, can be described as a single combined gate C:\n",
        "\n",
        ">$\n",
        "C=X \\cdot Y=\\left[\\begin{array}{ll}\n",
        "0 & 1 \\\\\n",
        "1 & 0\n",
        "\\end{array}\\right] \\cdot\\left[\\begin{array}{cc}\n",
        "0 & -i \\\\\n",
        "i & 0\n",
        "\\end{array}\\right]=\\left[\\begin{array}{cc}\n",
        "i & 0 \\\\\n",
        "0 & -i\n",
        "\\end{array}\\right]\n",
        "$\n",
        "\n",
        ">$\n",
        "X \\cdot X=\\left(\\begin{array}{ll}\n",
        "0 & 1 \\\\\n",
        "1 & 0\n",
        "\\end{array}\\right)\\left(\\begin{array}{ll}\n",
        "0 & 1 \\\\\n",
        "1 & 0\n",
        "\\end{array}\\right)=\\left(\\begin{array}{ll}\n",
        "1 & 0 \\\\\n",
        "0 & 1\n",
        "\\end{array}\\right)=I\n",
        "$"
      ]
    },
    {
      "cell_type": "markdown",
      "metadata": {
        "id": "M89sYf-N0_6u"
      },
      "source": [
        "<font color=\"blue\">**Hamiltonian Operator $\\mathcal{H}$**\n",
        "\n",
        "> <font color=\"red\">**The sum of the possible outcomes of kinetic and potential energy of this entire system in quantum mechanics is referred to the Hamiltonian $\\mathcal{H}$ (to calculate the lowest total energy of a two atom system)**\n",
        "\n",
        "* der [Hamiltonoperator](https://de.m.wikipedia.org/wiki/Hamiltonoperator) (Energieoperator) ist in der Quantenmechanik ein Operator, **der (mögliche) Energiemesswerte und die Zeitentwicklung angibt = describes the total energy of a system or particle**. <font color=\"red\">Er liefert beispielsweise die Energieniveaus des Elektrons im Wasserstoffatom.</font>\n",
        "\n",
        "* In der Quantenmechanik wird jeder Zustand des betrachteten physikalischen Systems durch einen zugehörigen Vektor $\\psi$ im Hilbertraum angegeben. Seine Zeitentwicklung wird nach der Schrödingergleichung durch den Hamiltonoperator $\\hat{H}$ bestimmt:\n",
        "\n",
        ">$\n",
        "\\mathrm{i} \\hbar \\frac{\\partial}{\\partial t} \\psi(t)=\\hat{H} \\psi(t)\n",
        "$\n",
        "\n",
        "* **For every problem there is a different Hamiltonian and a different corresponding Eigenspectrum**. Spektrum: Bereich der möglichen Messwerte. Eigenvalues = stabile Energielevel = Zustande, die die Elektronen in den Orbitalen beschreiben. Siehe auch [Hamilton-Funktion](https://de.m.wikipedia.org/wiki/Hamilton-Funktion).\n",
        "\n"
      ]
    },
    {
      "cell_type": "markdown",
      "metadata": {
        "id": "7MwSGedvzNov"
      },
      "source": [
        "<font color=\"blue\">**Time Evolution Operator $\\mathcal{U}$ bzw. $\\mathcal{T}$**\n",
        "\n",
        "* Der [Zeitentwicklungsoperator](https://de.m.wikipedia.org/wiki/Zeitentwicklungsoperator) $\\mathcal{U}$ bzw. $\\mathcal{T}$ ist ein quantenmechanischer Operator, mit dem sich die zeitliche Entwicklung eines physikalischen Systems berechnen lässt. Siehe auch [Time evolution](https://en.m.wikipedia.org/wiki/Time_evolution)\n",
        "\n",
        "* Der quantenmechanische Operator ist eng verwandt mit dem [Propagator](https://de.m.wikipedia.org/wiki/Propagator) in der Quantenfeld- oder Vielteilchentheorie. Üblicherweise wird er als $U\\left(t, t_{0}\\right)$ geschrieben und bezeichnet die Entwicklung des Systems vom Zeitpunkt $t_{0}$ zum Zeitpunkt $t$.\n",
        "\n",
        "Der Zeitentwicklungsoperator $U\\left(t, t_{0}\\right)$ wird definiert über die Zeitentwicklung eines beliebigen Zustandes $|\\psi\\rangle$ zu einem Zeitpunkt $t_{0}$ bis zum Zeitpunkt $t$ :\n",
        "\n",
        ">$\n",
        "|\\psi(t)\\rangle=U\\left(t, t_{0}\\right)\\left|\\psi\\left(t_{0}\\right)\\right\\rangle \\quad \\forall|\\psi\\rangle\n",
        "$\n",
        "\n",
        "Einsetzen in die Schrödingergleichung liefert einen Satz gewöhnlicher Differentialgleichungen 1. Ordnung:\n",
        "\n",
        ">$\\mathrm{i} \\hbar \\frac{\\partial}{\\partial t} U\\left(t, t_{0}\\right)=H(t) U\\left(t, t_{0}\\right)$\n",
        "\n",
        "Diese Gleichungen sind zur Schrödingergleichung insofern äquivalent, als sie die Erweiterung des Zeitentwicklungsoperators um einen infinitesimalen Zeitschritt $\\delta t$ beschreiben:\n",
        "\n",
        ">$\n",
        "U\\left(t+\\delta t, t_{0}\\right)=\\left(1-\\frac{i}{\\hbar} H(t) \\delta t\\right) U\\left(t, t_{0}\\right)+O\\left(\\delta t^{2}\\right)\n",
        "$\n",
        "\n",
        "mit dem Hamiltonoperator $H$, der den Erzeuger der Zeitentwicklungen darstellt."
      ]
    },
    {
      "cell_type": "markdown",
      "metadata": {
        "id": "jOBWmyGiyVUq"
      },
      "source": [
        "<font color=\"blue\">**Position Operator $\\hat{x}$**\n",
        "\n",
        "Der [Ortsoperator](https://de.m.wikipedia.org/wiki/Ortsoperator) gehört in der Quantenmechanik zur Ortsmessung von Teilchen.\n",
        "\n",
        "* Der physikalische Zustand $\\Psi$ eines Teilchens ist in der Quantenmechanik mathematisch gegeben durch den zugehörigen Vektor eines Hilbertraumes $\\mathrm{H}$.\n",
        "\n",
        "* Dieser Zustand wird folglich in der Bra-Ket-Notation durch den Vektor $|\\Psi\\rangle$ beschrieben.\n",
        "\n",
        "* Die Observablen werden durch selbstadjungierte Operatoren auf $\\mathrm{H}$ dargestellt.\n",
        "\n",
        "Speziell ist der Ortsoperator die Zusammenfassung der drei Observablen $\\hat{\\mathbf{x}}=\\left(\\hat{x}_{1}, \\hat{x}_{2}, \\hat{x}_{3}\\right)$, so dass\n",
        "\n",
        ">$\n",
        "E\\left(\\hat{x}_{j}\\right)=\\left\\langle\\hat{x}_{j} \\Psi, \\Psi\\right\\rangle_{\\mathrm{H}}, \\quad j=1,2,3\n",
        "$\n",
        "\n",
        "der Mittelwert (Erwartungswert) der Messergebnisse der j-ten Ortskoordinate des Teilchens im Zustand $\\Psi$ ist."
      ]
    },
    {
      "cell_type": "markdown",
      "metadata": {
        "id": "A_j3K_Pef4GA"
      },
      "source": [
        "<font color=\"blue\">**Momentum Operator $\\hat{p}$**\n",
        "\n",
        "Video: [Why Momentum in Quantum Physics is Complex](https://www.youtube.com/watch?v=kG-iihrYCG4&list=WL&index=22)\n",
        "\n",
        "Classical Momentum\n",
        "\n",
        "> p = m * v\n",
        "\n",
        "Quantum Mechanics: apply a measurement operator on wave function (eigenvalue equation:)\n",
        "\n",
        "> $\\hat{p}|\\Psi\\rangle=\\lambda|\\Psi\\rangle$\n",
        "\n",
        "Momentum measurement operator\n",
        "\n",
        "> $\\hat{p}=-i \\hbar \\frac{\\partial}{\\partial x}$ $\\quad$ with: $\\, i=\\sqrt{-1}$\n",
        "\n",
        "Der [Impulsoperator](https://de.m.wikipedia.org/wiki/Impulsoperator) $\\hat{p}$ ist in der Quantenmechanik der Operator zur Impulsmessung von Teilchen. In der Ortsdarstellung ist der Impulsoperator in einer Dimension gegeben durch (mit $\\frac{\\partial}{\\partial x}$ die partielle Ableitung in Richtung der Ortskoordinate $x$):\n",
        "\n",
        ">$\n",
        "\\hat{p}_{x}=-\\mathrm{i} \\hbar \\frac{\\partial}{\\partial x}=\\frac{\\hbar}{i} \\frac{\\partial}{\\partial x}\n",
        "$\n",
        "\n",
        "Mit dem Nabla-Operator $\\nabla$ erhält man in drei Dimensionen den Vektor:\n",
        "\n",
        ">$\n",
        "\\hat{\\mathbf{p}}=-\\mathrm{i} \\hbar \\nabla\n",
        "$\n",
        "\n",
        "* Der physikalische Zustand $\\Psi$ eines Teilchens ist in der Quantenmechanik mathematisch durch einen zugehörigen Vektor eines Hilbertraumes $\\mathcal{H}$ gegeben. Dieser Zustand wird folglich in der Bra-Ket-Notation durch den Vektor $|\\Psi\\rangle$ beschrieben.\n",
        "\n",
        "* Die Observablen werden durch selbstadjungierte Operatoren auf $\\mathcal{H}$ dargestellt. Speziell ist der Impuls-Operator die Zusammenfassung der drei Observablen $\\hat{\\mathbf{p}}=\\left(\\hat{p}_{1}, \\hat{p}_{2}, \\hat{p}_{3}\\right)$, so dass\n",
        "\n",
        ">$\n",
        "E\\left(\\hat{p}_{j}\\right)=\\left\\langle\\Psi\\left|\\hat{p}_{j}\\right| \\Psi\\right\\rangle \\quad j=1,2,3\n",
        "$\n",
        "\n",
        "der Mittelwert (Erwartungswert) der Messergebnisse der $j$ -ten Komponente des Impulses des Teilchens im Zustand $\\Psi$ ist."
      ]
    },
    {
      "cell_type": "markdown",
      "source": [
        "<font color=\"blue\">**Translation Operator $\\hat{T}$**\n",
        "\n",
        "* the translation operator is the operator that allows us to move quantum states from one point to another\n",
        "\n",
        "* it allows us to understand many properties of wave functions:\n",
        "\n",
        "> **the wave function in real space is related to the wave function in momentum space by a Fourier transform**\n",
        "\n",
        "> $[\\hat{x}, \\hat{p}]=i \\hbar$\n",
        "\n",
        "* position $\\hat{x}$ and momentum $\\hat{p}$ operators. Their most important property is their commutator which is equal to $i \\hbar$\n",
        "\n",
        "* **Translation operator**:\n",
        "\n",
        "> $\\hat{T}(\\alpha)=e^{-i \\alpha \\hat{p} / \\hbar} \\quad \\alpha \\in \\mathbb{R}$\n",
        "\n",
        "* this is an operator that translates by an amount $\\alpha$\n",
        "\n",
        "* What does it mean to have a **function of an operator**, like the exponential function here: the function of an operator is defined by its Taylor expansion\n",
        "\n",
        "* adjoint of an operator: tells us about what the operator looks like in the dual space (NOT hermitian as you can see):\n",
        "\n",
        "> $\\begin{aligned} \\hat{T}^{t}(\\alpha)=& e^{i \\alpha \\hat{r}^{\\dagger} / \\hbar}=e^{i \\alpha \\hat{p} / \\hbar}=e^{-i(-\\alpha) \\hat{p} / \\hbar}=\\hat{T}(-\\alpha) \\\\ & \\hat{p}^{+}=\\hat{p} \\end{aligned}$\n",
        "\n",
        "* Let's look at the action of T dagger alpha on T alpha:\n",
        "\n",
        "> $\\hat{T}^{\\dagger}(\\alpha) \\hat{T}(\\alpha)=e^{i \\alpha \\hat{p} / \\hbar} e^{-i \\alpha \\hat{p} / \\hbar}=\\mathbb{1}$\n",
        "\n",
        "> $[\\hat{p}, \\hat{p}]=0$\n",
        "\n",
        "* remember: in general we cannot combine exponents of operators like if they were numbers, but here we can because the two exponents commute because the P operator commutes with itself\n",
        "\n",
        "* An operator whose adjoint is equal to its inverse is called a unitary operator\n",
        "\n",
        "> $\\left.\\begin{array}{l}\\hat{T}^{\\dagger}(\\alpha) \\hat{T}(\\alpha)=e^{i \\alpha \\hat{p} / \\hbar} e^{-i \\alpha \\hat{p} / \\hbar}=I \\\\ {[\\hat{p}, \\hat{p}]=0} \\\\ \\hat{T}(\\alpha) \\hat{T}^{\\dagger}(\\alpha)=e^{-i \\alpha \\hat{p} / \\hbar} e^{i \\alpha \\hat{p} / \\hbar}=I\\end{array}\\right\\} \\hat{T}^{\\dagger}(\\alpha)=\\hat{T}^{-1}(\\alpha)$\n",
        "\n",
        "* Overall:\n",
        "\n",
        "> $\\hat{T}^{\\dagger}(\\alpha)=\\hat{T}^{-1}(\\alpha)=\\hat{T}(-\\alpha)$"
      ],
      "metadata": {
        "id": "kHsMw4tA4gRv"
      }
    },
    {
      "cell_type": "markdown",
      "source": [
        "###### *$\\hookrightarrow$ States*"
      ],
      "metadata": {
        "id": "VHiwFI7ovP7J"
      }
    },
    {
      "cell_type": "markdown",
      "source": [
        "* phase states\n",
        "* Gibbs quantum states\n",
        "* Matrix product states\n",
        "* pure state, mixed state\n",
        "* Dicke state\n",
        "* Set of non-orthogonal quantum states"
      ],
      "metadata": {
        "id": "0zax9nK6B4zz"
      }
    },
    {
      "cell_type": "markdown",
      "source": [
        "**What are the eigenvalues of density matrix of quantum state?**\n",
        "\n",
        "The eigenvalues of the density matrix of a quantum state represent the probabilities of finding the system in the corresponding eigenstates. The sum of all the eigenvalues must be equal to 1, which reflects the fact that the system must be in one of the eigenstates.\n",
        "\n",
        "For a pure state, the density matrix is a projector onto the state vector, and therefore has only one eigenvalue of 1, with the rest being 0. This means that the system is certain to be in the corresponding eigenstate.\n",
        "\n",
        "For a mixed state, the density matrix has at least two non-zero eigenvalues, indicating that the system has a non-zero probability of being in either of the corresponding eigenstates.\n",
        "\n",
        "The eigenvalues of the density matrix can also be used to characterize the degree of mixedness of the state. A state with only one non-zero eigenvalue is a pure state, while a state with many non-zero eigenvalues is a highly mixed state.\n",
        "\n",
        "Here are some examples of the eigenvalues of the density matrix for different quantum states:\n",
        "\n",
        "* **Pure state:**\n",
        "    * Spin-up state of a qubit: $\\lambda_1 = 1, \\lambda_2 = 0$\n",
        "    * Ground state of a harmonic oscillator: $\\lambda_0 = 1, \\lambda_1 = 0, \\lambda_2 = 0, ...$\n",
        "* **Mixed state:**\n",
        "    * Equal mixture of spin-up and spin-down states of a qubit: $\\lambda_1 = \\lambda_2 = 1/2$\n",
        "    * Thermal state of a harmonic oscillator: $\\lambda_0 > \\lambda_1 > \\lambda_2 > ... > 0$\n",
        "\n",
        "The eigenvalues of the density matrix can be used to calculate the expectation values of observables, as well as the probabilities of different measurement outcomes. For example, the probability of measuring the outcome $a$ when measuring the observable $A$ is given by:\n",
        "\n",
        "> $P(a) = \\sum_i \\lambda_i |\\langle a | \\psi_i \\rangle|^2$\n",
        "\n",
        "where $\\lambda_i$ and $\\psi_i$ are the eigenvalues and eigenstates of the density matrix, respectively.\n",
        "\n",
        "The eigenvalues of the density matrix are an important tool for understanding and characterizing quantum states. They are used in a wide variety of quantum applications, including quantum information theory, quantum computation, and quantum statistical mechanics."
      ],
      "metadata": {
        "id": "xxcXDJqv7Ctb"
      }
    },
    {
      "cell_type": "markdown",
      "source": [
        "An $n$-dimensional **pure state** is $|\\psi\\rangle=\\sum_{i=1}^n \\alpha_i|i\\rangle$, where $|i\\rangle$ is the $n$-dimensional unit vector that has a 1 only at position $i$, the $\\alpha_i$ 's are complex numbers called the amplitudes, and $\\sum_{i \\in \\mid n]}\\left|\\alpha_i\\right|^2=1$.\n",
        "\n",
        "An $n$-dimensional **mixed state** (or density matrix) $\\rho=\\sum_{i=1}^n p_i\\left|\\psi_i\\right\\rangle \\psi_i \\mid$ is a mixture of pure states $\\left|\\psi_1\\right\\rangle, \\ldots,\\left|\\psi_n\\right\\rangle$ prepared with probabilities $p_1, \\ldots, p_n$, respectively. The eigenvalues $\\lambda_1, \\ldots, \\lambda_n$ of $\\rho$ are non-negative reals and satisfy $\\sum_{i \\in[n]} \\lambda_i=1$.\n",
        "\n",
        "If $\\rho$ is pure (i.e., $\\rho=|\\psi\\rangle \\psi \\mid$ for some $|\\psi\\rangle)$, then one of the eigenvalues is 1 and the others are 0 .\n",
        "\n",
        "To obtain classical information from $\\rho$, one could apply a **POVM (positive-operator-valued measure)** to the state $\\rho$. An $m$-outcome POVM is specified by a set of positive semidefinite matrices $\\left\\{M_i\\right\\}_{i \\in[m]}$ with the property $\\sum_i M_i=I d$. When this POVM is applied to the mixed state $\\rho$, the probability of the $j$-th outcome is given by $\\operatorname{Tr}\\left(M_j \\rho\\right)$."
      ],
      "metadata": {
        "id": "ce-HCRxhCNZK"
      }
    },
    {
      "cell_type": "markdown",
      "source": [
        "**Set of non-orthogonal quantum states**\n",
        "\n",
        "Sure, here is an example of a set of non-orthogonal quantum states:\n",
        "\n",
        "```\n",
        "|ψ⟩ = |0⟩ + |1⟩\n",
        "|ϕ⟩ = |0⟩ - |1⟩\n",
        "```\n",
        "\n",
        "These two states are non-orthogonal because their inner product is not zero:\n",
        "\n",
        "```\n",
        "⟨ψ|ϕ⟩ = (|0⟩ + |1⟩) ⟨0| - |1⟩) = 0 + 0 = 0\n",
        "```\n",
        "\n",
        "In other words, it is not possible to distinguish between these two states with certainty.\n",
        "\n",
        "Another example of a set of non-orthogonal quantum states is the set of all qubit states that lie on the Bloch sphere. The Bloch sphere is a unit sphere in three dimensions, and each point on the sphere represents a possible state of a qubit. Any two points on the Bloch sphere that are not diametrically opposite are non-orthogonal.\n",
        "\n",
        "Non-orthogonal quantum states are a fundamental part of quantum mechanics. They play a role in many quantum phenomena, such as quantum entanglement and quantum computing.\n",
        "\n",
        "\n",
        "*When do they occur?*\n",
        "\n",
        "Non-orthogonal quantum states occur whenever two or more quantum states are not perfectly aligned. This can happen in a variety of ways, such as:\n",
        "\n",
        "* When a quantum state is prepared in a superposition of two or more states.\n",
        "* When a quantum state is subjected to a measurement that does not perfectly distinguish between the different states.\n",
        "* When a quantum state is passed through a noisy channel.\n",
        "\n",
        "Non-orthogonal quantum states can be difficult to distinguish, but there are a number of techniques that can be used to do so.\n",
        "\n",
        "* One common technique is to use a projective measurement, which is a measurement that projects the quantum state onto one of a set of mutually orthogonal states. Another technique is to use a quantum algorithm, such as the Shor algorithm, which can be used to distinguish between non-orthogonal states with a high degree of accuracy.\n",
        "\n",
        "* Non-orthogonal quantum states play an important role in many quantum phenomena, such as quantum entanglement and quantum computing. In quantum entanglement, two or more quantum systems are linked together in such a way that they cannot be described independently. This is possible because the quantum states of the entangled systems are non-orthogonal.\n",
        "\n",
        "* In quantum computing, non-orthogonal quantum states are used to store information and to perform calculations. For example, a quantum computer can use non-orthogonal quantum states to represent the solutions to a problem. By performing measurements on these states, the quantum computer can then find the solution to the problem.\n",
        "\n",
        "The study of non-orthogonal quantum states is a rapidly developing field. As our understanding of quantum mechanics grows, we are finding new and exciting ways to use non-orthogonal quantum states to solve problems and to create new technologies."
      ],
      "metadata": {
        "id": "qSrKoh9rBnHf"
      }
    },
    {
      "cell_type": "markdown",
      "source": [
        "**what is the difference between mixed state and product state?**\n",
        "\n",
        "A mixed state and a product state are two different types of quantum states that arise in quantum mechanics and quantum information theory, each with its own distinct properties and interpretations.\n",
        "\n",
        "1. **Mixed State**: A mixed state describes a statistical mixture of different quantum states, each with a certain probability. Mathematically, a mixed state is represented by a density matrix, which is a positive-semidefinite Hermitian operator with trace 1. If a system is in a mixed state, it means we have some classical uncertainty about which specific quantum state it's in. For example, a system might be in state |0⟩ with probability 1/2 and in state |1⟩ with probability 1/2. This would correspond to the mixed state represented by the density matrix ρ = 1/2|0⟩⟨0| + 1/2|1⟩⟨1|.\n",
        "\n",
        "2. **Product State**: A product state refers to a state of a composite system that can be written as the tensor product of states of its subsystems. For example, if you have a two-qubit system and the first qubit is in state |0⟩ and the second qubit is in state |1⟩, the overall state of the system is the product state |0⟩⊗|1⟩, often written as |01⟩. A product state implies that there are no correlations between the subsystems, i.e., the subsystems are not entangled. If a state of a composite system cannot be written as a tensor product of states of its subsystems, it's called an entangled state.\n",
        "\n",
        "So, in summary, the difference lies in what each state represents: a mixed state represents classical uncertainty about which pure state a system is in, while a product state represents a separable (i.e., non-entangled) state of a composite system. Notably, these are not mutually exclusive: you can have a mixed state of product states, for example."
      ],
      "metadata": {
        "id": "Yyjr8c5B6SuC"
      }
    },
    {
      "cell_type": "markdown",
      "source": [
        "**What is a product state in quantum mechanics and quantum computing?**\n",
        "\n",
        "A product state in quantum mechanics is a state of a multi-qubit system that can be written as a product of individual qubit states. In other words, the state of each qubit is independent of the state of the other qubits. For example, the following is a product state of a two-qubit system:\n",
        "\n",
        "```\n",
        "|Ψ⟩ = |0⟩ |1⟩\n",
        "```\n",
        "\n",
        "This state represents a system in which the first qubit is in the |0⟩ state and the second qubit is in the |1⟩ state.\n",
        "\n",
        "Product states are typically less entangled than other types of quantum states, such as entangled states. Entanglement is a phenomenon in which the states of two or more qubits are linked together in such a way that they cannot be described independently.\n",
        "\n",
        "Product states are important in quantum computing because they are relatively easy to simulate and manipulate. Many quantum algorithms are designed to operate on product states.\n",
        "\n",
        "Here are some examples of product states in quantum computing:\n",
        "\n",
        "* The state of a quantum register that has been initialized to all zeros:\n",
        "\n",
        "```\n",
        "|Ψ⟩ = |0⟩⊗n\n",
        "```\n",
        "\n",
        "where n is the number of qubits in the register.\n",
        "\n",
        "* The state of a quantum register that has been used to store a classical bitstring:\n",
        "\n",
        "```\n",
        "|Ψ⟩ = |b1⟩⊗|b2⟩⊗...⊗|bn⟩\n",
        "```\n",
        "\n",
        "where bi is either 0 or 1, depending on the ith bit in the classical bitstring.\n",
        "\n",
        "* The state of a two-qubit system that is used to represent a Bell state:\n",
        "\n",
        "```\n",
        "|Ψ⟩ = (|00⟩ + |11⟩)/√2\n",
        "```\n",
        "\n",
        "This state is a product state, but it is also entangled. This is because the two qubits are correlated in such a way that measuring one qubit will instantly reveal the state of the other qubit.\n",
        "\n",
        "Product states are an essential concept in quantum mechanics and quantum computing. They are used in a wide variety of quantum algorithms and applications."
      ],
      "metadata": {
        "id": "9I8HNzzl61pU"
      }
    },
    {
      "cell_type": "markdown",
      "source": [
        "**Matrix product state (MPS)**\n",
        "\n",
        "No, a product state is not the same as a matrix product state (MPS). A product state is a state of a multi-qubit system in which the state of each qubit is independent of the state of the other qubits. An MPS is a more general type of quantum state that can be used to represent a wide variety of entangled and non-entangled states.\n",
        "\n",
        "An MPS is represented by a tensor network, which is a graph of tensors that are connected to each other. The tensors in the network represent the local states of the qubits, and the connections between the tensors represent the interactions between the qubits.\n",
        "\n",
        "MPSs are useful for representing quantum states because they are efficient to simulate and manipulate. This is because the tensor network representation of an MPS can be truncated to a finite size without losing too much accuracy.\n",
        "\n",
        "Here is an example of an MPS for a two-qubit system:\n",
        "\n",
        "```\n",
        "|Ψ⟩ = T_1⊗T_2\n",
        "```\n",
        "\n",
        "where T_1 and T_2 are tensors of dimension d. This MPS represents a state in which the two qubits are entangled.\n",
        "\n",
        "MPSs are used in a variety of quantum algorithms and applications, including:\n",
        "\n",
        "* Quantum simulation\n",
        "* Quantum machine learning\n",
        "* Quantum error correction\n",
        "* Quantum cryptography\n",
        "\n",
        "MPSs are a powerful tool for representing and manipulating quantum states. They are particularly useful for simulating and manipulating large quantum systems, such as those used in quantum computing.\n",
        "\n",
        "To summarize, the key difference between a product state and an MPS is that a product state is a state in which the qubits are independent, while an MPS is a state in which the qubits can be entangled. MPSs are more general than product states, and they are used in a variety of quantum algorithms and applications."
      ],
      "metadata": {
        "id": "bxiVJbIb7KN1"
      }
    },
    {
      "cell_type": "markdown",
      "source": [
        "**quantum k-uniform state**\n",
        "  * multipartite quantum state whose reduced state on any k parties is maximally mixed = the state is completely uncorrelated between the k parties, and each party has equal probability of being in any of its possible states.\n",
        "  * Quantum k-uniform states are a special class of entangled states that are particularly useful for certain quantum information processing tasks. For example, they can be used to create quantum secret sharing schemes, which allow a group of parties to share a secret without revealing it to any individual party.\n",
        "  * One way to construct quantum k-uniform states is from quantum orthogonal arrays (QOAs). A QOA is a collection of quantum states that are orthogonal to each other when any k of them are considered together. Quantum k-uniform states can be obtained by taking the partial trace of a QOA over any k parties.\n",
        "  * have a number of interesting properties. For example, they are known to be distillable, which means that they can be used to create more entangled states. They are also known to be useful for quantum communication tasks such as teleportation and superdense coding.\n",
        "  Here are some additional things to know about quantum k-uniform states:\n",
        "    * They are a generalization of the well-known Bell states, which are 2-qubit quantum states that are maximally entangled.\n",
        "    * They can be used to create quantum error-correcting codes, which can be used to protect quantum information from errors.\n",
        "    * They can be used to create quantum cryptography protocols, which can be used to securely transmit information over long distances.\n",
        "    * They are still a relatively new area of research, and there is much that is still unknown about them. However, they have the potential to revolutionize the field of quantum information processing."
      ],
      "metadata": {
        "id": "LJQauktmIZFA"
      }
    },
    {
      "cell_type": "markdown",
      "source": [
        "**what is a Gibbs state?**\n",
        "\n",
        "Learning an unknown Hamiltonian from its Gibbs state has been studied in statistical physics and machine learning [CL68, HS+86, Tan98, AS14] for many decades, known as the “**inverse Ising problem**”.\n",
        "\n",
        "A survey on the complexity of learning quantum states, page 8\n",
        "\n",
        "A Gibbs state is a probability distribution over the states of a system that is consistent with the system's energy and the constraints that are imposed on it. It is named after Josiah Willard Gibbs, who introduced it in his work on statistical mechanics.\n",
        "\n",
        "A Gibbs state can be defined as follows:\n",
        "\n",
        "```\n",
        "P(x) = \\frac{e^{-H(x)/kT}}{\\sum_y e^{-H(y)/kT}}\n",
        "```\n",
        "\n",
        "where $x$ is a state of the system, $H(x)$ is the energy of the system in state $x$, $T$ is the temperature of the system, and $k$ is Boltzmann's constant.\n",
        "\n",
        "The Gibbs state is the equilibrium distribution of the system if the system is allowed to evolve over time according to the laws of statistical mechanics. This means that if the system is initially in any state, it will eventually converge to the Gibbs state as time goes on.\n",
        "\n",
        "Gibbs states are used in many different areas of physics, chemistry, and biology. They are used to describe the equilibrium distribution of molecules in a gas, the distribution of atoms in a crystal, and the distribution of genes in a population.\n",
        "\n",
        "Here are some of the applications of Gibbs states:\n",
        "\n",
        "* In statistical mechanics, Gibbs states are used to calculate the equilibrium properties of systems such as the pressure, temperature, and entropy.\n",
        "* In chemistry, Gibbs states are used to calculate the equilibrium constant for a chemical reaction.\n",
        "* In biology, Gibbs states are used to calculate the equilibrium distribution of genes in a population.\n",
        "* In machine learning, Gibbs states are used to train probabilistic models such as hidden Markov models and Bayesian networks.\n",
        "\n",
        "**can quantum systems also be in states that are not Gibbs states?**\n",
        "\n",
        "\n",
        "Yes, quantum systems can also be in states that are not Gibbs states. This is because quantum systems can exist in superpositions of states, which means that they can be in more than one state at the same time. A Gibbs state is a state where all the possible states of the system are equally likely, but a quantum system can be in a superposition of states where some states are more likely than others.\n",
        "\n",
        "For example, a quantum system with two possible states, $A$ and $B$, can be in a superposition of the two states, such that the system is equally likely to be in state $A$ or state $B$. This is called a coherent state. A Gibbs state for this system would be a state where the system is equally likely to be in state $A$ or state $B$, but a coherent state is not a Gibbs state because it is more likely to be in one state than the other.\n",
        "\n",
        "Another example is a quantum system with three possible states, $A$, $B$, and $C$. The Gibbs state for this system would be a state where the system is equally likely to be in state $A$, state $B$, or state $C$. However, a quantum system can be in a superposition of the three states, such that the system is more likely to be in state $A$ than state $B$ or state $C$. This is called an entangled state. An entangled state is not a Gibbs state because it is not possible to describe the state of the system in terms of the probabilities of the individual states.\n",
        "\n",
        "In general, quantum systems can be in any state that is consistent with the laws of quantum mechanics. This means that they can be in states that are not Gibbs states. Gibbs states are a special type of state that is often used in statistical mechanics, but they are not the only possible state for a quantum system."
      ],
      "metadata": {
        "id": "JcYlKISGf_ki"
      }
    },
    {
      "cell_type": "markdown",
      "source": [
        "**what is a Gibbs state?**\n",
        "\n",
        "A Gibbs state is a probability distribution over the states of a system that is consistent with the system's energy and the constraints that are imposed on it. It is named after Josiah Willard Gibbs, who introduced it in his work on statistical mechanics.\n",
        "\n",
        "A Gibbs state can be defined as follows:\n",
        "\n",
        "```\n",
        "P(x) = \\frac{e^{-H(x)/kT}}{\\sum_y e^{-H(y)/kT}}\n",
        "```\n",
        "\n",
        "where $x$ is a state of the system, $H(x)$ is the energy of the system in state $x$, $T$ is the temperature of the system, and $k$ is Boltzmann's constant.\n",
        "\n",
        "The Gibbs state is the equilibrium distribution of the system if the system is allowed to evolve over time according to the laws of statistical mechanics. This means that if the system is initially in any state, it will eventually converge to the Gibbs state as time goes on.\n",
        "\n",
        "Gibbs states are used in many different areas of physics, chemistry, and biology. They are used to describe the equilibrium distribution of molecules in a gas, the distribution of atoms in a crystal, and the distribution of genes in a population.\n",
        "\n",
        "Here are some of the applications of Gibbs states:\n",
        "\n",
        "* In statistical mechanics, Gibbs states are used to calculate the equilibrium properties of systems such as the pressure, temperature, and entropy.\n",
        "* In chemistry, Gibbs states are used to calculate the equilibrium constant for a chemical reaction.\n",
        "* In biology, Gibbs states are used to calculate the equilibrium distribution of genes in a population.\n",
        "* In machine learning, Gibbs states are used to train probabilistic models such as hidden Markov models and Bayesian networks.\n"
      ],
      "metadata": {
        "id": "EbBba3xBtVPH"
      }
    },
    {
      "cell_type": "markdown",
      "source": [
        "**can quantum systems also be in states that are not Gibbs states?**\n",
        "\n",
        "Yes, quantum systems can also be in states that are not Gibbs states. This is because quantum systems can exist in superpositions of states, which means that they can be in more than one state at the same time. A Gibbs state is a state where all the possible states of the system are equally likely, but a quantum system can be in a superposition of states where some states are more likely than others.\n",
        "\n",
        "For example, a quantum system with two possible states, $A$ and $B$, can be in a superposition of the two states, such that the system is equally likely to be in state $A$ or state $B$. This is called a coherent state. A Gibbs state for this system would be a state where the system is equally likely to be in state $A$ or state $B$, but a coherent state is not a Gibbs state because it is more likely to be in one state than the other.\n",
        "\n",
        "Another example is a quantum system with three possible states, $A$, $B$, and $C$. The Gibbs state for this system would be a state where the system is equally likely to be in state $A$, state $B$, or state $C$. However, a quantum system can be in a superposition of the three states, such that the system is more likely to be in state $A$ than state $B$ or state $C$. This is called an entangled state. An entangled state is not a Gibbs state because it is not possible to describe the state of the system in terms of the probabilities of the individual states.\n",
        "\n",
        "In general, quantum systems can be in any state that is consistent with the laws of quantum mechanics. This means that they can be in states that are not Gibbs states. Gibbs states are a special type of state that is often used in statistical mechanics, but they are not the only possible state for a quantum system."
      ],
      "metadata": {
        "id": "TIdqE2X1tZgC"
      }
    },
    {
      "cell_type": "markdown",
      "source": [
        "*Dicke States (with Garbage)*\n",
        "\n",
        "Dicke states are a class of quantum states that are defined as the equal-amplitude superposition of all n-qubit computational basis states with Hamming weight k. In other words, a Dicke state |D_n^k⟩ is a quantum state of n qubits where exactly k of the qubits are in the |1⟩ state and the remaining (n-k) qubits are in the |0⟩ state.\n",
        "\n",
        "Dicke states are important for quantum computing for a number of reasons. First, they are a type of entangled state, which means that the qubits in a Dicke state are correlated with each other in a way that cannot be explained by classical physics. This entanglement can be exploited to perform quantum algorithms that are much faster than any possible classical algorithm.\n",
        "\n",
        "Second, Dicke states are relatively easy to prepare on a quantum computer. This is because there are a number of efficient quantum circuits that can be used to create Dicke states. This makes them a good candidate for use in practical quantum computing applications.\n",
        "\n",
        "Third, Dicke states have a number of other applications in quantum information science. For example, they can be used to create quantum memories, quantum communication channels, and quantum simulators.\n",
        "\n",
        "Here are some specific examples of the applications of Dicke states in quantum computing:\n",
        "\n",
        "* **Quantum algorithms:** Dicke states can be used to speed up a variety of quantum algorithms, such as the Shor's algorithm for factoring large numbers and the Grover's algorithm for searching an unsorted database.\n",
        "* **Quantum communication:** Dicke states can be used to create quantum communication channels that are more secure than classical communication channels.\n",
        "* **Quantum simulation:** Dicke states can be used to simulate the behavior of physical systems, such as molecules and materials.\n",
        "\n",
        "Overall, Dicke states are an important class of quantum states with a wide range of applications in quantum computing. They are relatively easy to prepare on a quantum computer and can be used to speed up a variety of quantum algorithms and create secure quantum communication channels."
      ],
      "metadata": {
        "id": "SgkG11YTdwAX"
      }
    },
    {
      "cell_type": "markdown",
      "source": [
        "Dicke states with garbage are a type of quantum state that is used in quantum computing to protect against noise and errors. They are created by adding a number of \"garbage\" qubits to a Dicke state. The garbage qubits are initialized in a random state, and they do not contribute to the computation. However, they help to protect the useful qubits from noise and errors.\n",
        "\n",
        "Here is an example of how Dicke states with garbage can be used to protect against noise and errors. Suppose we want to create a Dicke state of n qubits with k qubits in the |1⟩ state. We can do this by first initializing n qubits in the |0⟩ state. Then, we can add m garbage qubits to the system, where m is much larger than k. We can then initialize the garbage qubits in a random state. Finally, we can apply a Hadamard gate to each of the qubits.\n",
        "\n",
        "The resulting state will be a Dicke state with garbage. The useful qubits will be in the |1⟩ state with high probability, even if the noise and errors are very high. This is because the garbage qubits will absorb the noise and errors, and they will not affect the useful qubits.\n",
        "\n",
        "Dicke states with garbage are a powerful tool for protecting against noise and errors in quantum computing. They are relatively easy to implement, and they can be used to protect a wide range of quantum algorithms."
      ],
      "metadata": {
        "id": "ZLxTRNxIdy3j"
      }
    },
    {
      "cell_type": "markdown",
      "source": [
        "###### *$\\hookrightarrow$ Measurements*"
      ],
      "metadata": {
        "id": "dcFMdt_xthGK"
      }
    },
    {
      "cell_type": "markdown",
      "source": [
        "* Square root measurement\n",
        "* Separable measurement\n",
        "* Random Clifford measurement (classical shadows based on random Clifford measurements)\n",
        "* POVM measurement\n",
        "* projective measurements\n",
        "* two-copy Bell basis measurement"
      ],
      "metadata": {
        "id": "i-e0Kydw0ZCS"
      }
    },
    {
      "cell_type": "markdown",
      "source": [
        "**Square root measurement (pretty good measurement)**\n",
        "\n",
        "The square root measurement (SRM), also known as the pretty good measurement (PGM), is a measurement introduced by Paul Hausladen and William Wootters in 1994. It is a quantum measurement that can be **used to distinguish between a set of non-orthogonal quantum states**.\n",
        "\n",
        "* The SRM is constructed by first finding the square roots of the inner products between the different states. These square roots are then normalized to form the measurement operators.\n",
        "\n",
        "* The SRM has several desirable properties. It is simple to construct, and it is asymptotically optimal for distinguishing between a large number of non-orthogonal states. It is also \"pretty good\" in the sense that it can distinguish between almost orthogonal states with a low probability of error.\n",
        "\n",
        "* The SRM has been used in a variety of applications in quantum computing, including quantum cryptography, quantum communication, and quantum machine learning.\n",
        "\n",
        "Here are some of the key properties of the square root measurement:\n",
        "\n",
        "* It is a projective measurement, which means that it always gives a definite result.\n",
        "* It is unbiased, which means that the probability of each outcome is equal.\n",
        "* It minimizes the probability of error for distinguishing between a set of non-orthogonal states.\n",
        "* It is asymptotically optimal, which means that its performance approaches the optimal as the number of states increases.\n",
        "\n",
        "The square root measurement is a powerful tool that can be used to perform a variety of tasks in quantum computing. It is simple to construct and efficient to implement, and it has been shown to be effective in a variety of applications.\n",
        "\n",
        "**Yes, there is a difference between the square root measurement and the positive-operator-valued measure (POVM).**\n",
        "\n",
        "A square root measurement is a special type of POVM. It is a projective measurement, which means that it always gives a definite result. The square root measurement is constructed by first finding the square roots of the inner products between the different states. These square roots are then normalized to form the measurement operators.\n",
        "\n",
        "A POVM is a more general type of measurement. It is not required to be projective, and it can give a range of possible results. The POVM is defined by a set of operators, called effect operators, that satisfy certain conditions.\n",
        "\n",
        "The main difference between the square root measurement and the POVM is that the square root measurement is always projective, while the POVM is not. This means that the square root measurement always gives a definite result, while the POVM can give a range of possible results.\n",
        "\n",
        "The square root measurement is a more powerful tool than the POVM, but it is also more restrictive. The square root measurement can only be used to distinguish between non-orthogonal states, while the POVM can be used to distinguish between any set of states.\n",
        "\n",
        "In general, the POVM is a more versatile tool than the square root measurement. However, the square root measurement is often a better choice when it is important to obtain a definite result.\n",
        "\n",
        "Here is a table summarizing the key differences between the square root measurement and the POVM:\n",
        "\n",
        "| Feature | Square root measurement | POVM |\n",
        "|---|---|---|\n",
        "| Projective | Yes | No |\n",
        "| Definite result | Always | Not always |\n",
        "| Generality | Less | More |\n",
        "| Versatility | Less | More |\n",
        "| Usefulness | When it is important to obtain a definite result | When it is not important to obtain a definite result or when the states to be distinguished are not non-orthogonal |"
      ],
      "metadata": {
        "id": "c0aVdWf8BlYf"
      }
    },
    {
      "cell_type": "markdown",
      "source": [
        "https://en.m.wikipedia.org/wiki/Weyl%27s_inequality"
      ],
      "metadata": {
        "id": "Z2gY8WGxdr3S"
      }
    },
    {
      "cell_type": "markdown",
      "source": [
        "**What is a separable measurement?**\n",
        "\n",
        "In quantum mechanics, a separable measurement is a measurement that can be performed on a multipartite quantum state without affecting the entanglement of the state.\n",
        "\n",
        "A multipartite quantum state is a state that describes the joint state of two or more quantum systems. Entanglement is a property of quantum states that allows them to be correlated in ways that are not possible in classical physics.\n",
        "\n",
        "A separable measurement is a measurement that can be performed on each subsystem of a multipartite quantum state independently of the other subsystems. This means that the measurement does not affect the entanglement between the subsystems.\n",
        "\n",
        "For example, consider a system of two qubits, which are quantum systems with two possible states. The state of the system can be described by a density matrix, which is a matrix that contains all the information about the state.\n",
        "\n",
        "A separable measurement on this system would be a measurement that could be performed on each qubit independently. This would mean that the measurement would not affect the entanglement between the qubits.\n",
        "\n",
        "Separable measurements are important in quantum information theory. They can be used to create protocols for quantum communication and computation that are robust to noise and decoherence.\n",
        "\n",
        "Here are some of the key properties of separable measurements:\n",
        "\n",
        "* They can be performed on each subsystem of a multipartite quantum state independently of the other subsystems.\n",
        "* They do not affect the entanglement between the subsystems.\n",
        "* They can be used to create protocols for quantum communication and computation that are robust to noise and decoherence.\n",
        "\n",
        "Separable measurements are a fundamental concept in quantum mechanics. They play an important role in quantum information theory and quantum computing."
      ],
      "metadata": {
        "id": "sr4dD1xctKnL"
      }
    },
    {
      "cell_type": "markdown",
      "source": [
        "**what is a random Clifford measurement?**\n",
        "\n",
        "In the field of quantum computing, a Clifford measurement involves measuring a quantum state in a basis given by a Clifford operation.\n",
        "\n",
        "The Clifford group is a specific set of operations in quantum mechanics that map Pauli operators to other Pauli operators under conjugation. It includes operations like the Hadamard gate, phase gate, CNOT gate, and others. The Clifford group has important applications in quantum error correction and quantum cryptography.\n",
        "\n",
        "A random Clifford measurement is a measurement process where the measurement basis is chosen randomly from the set of all possible Clifford operations. Random Clifford operations can be used to create a form of \"scrambling\" that can be used to probe the properties of quantum systems, and they also find use in protocols for testing quantum computers, like the so-called randomized benchmarking procedure.\n",
        "\n",
        "When applied to quantum state tomography, random Clifford measurements can be used to extract information about the quantum state in a way that can be more efficient or robust against certain types of errors. For example, they might be used in a protocol for \"shadow tomography\", where a small number of random measurements are used to estimate properties of the quantum state. The specifics of how these measurements are used and their performance characteristics can depend on the details of the quantum system and the tomography protocol."
      ],
      "metadata": {
        "id": "EM6MX6sk-qUF"
      }
    },
    {
      "cell_type": "markdown",
      "source": [
        "**what is a POVM measurement? (vs projective measurements)**\n",
        "\n",
        "A Positive Operator-Valued Measure (POVM) is a mathematical formalism used in quantum mechanics to describe the process of making a measurement on a quantum system. **Unlike projective measurements (also called von Neumann measurements), which are limited to a specific set of states (the eigenstates of an observable), POVMs can represent more general kinds of measurements.**\n",
        "\n",
        "A POVM is a collection of positive semi-definite operators {E_i} acting on the state space of a quantum system, which sum up to the identity operator, that is, ∑i E_i = I. These operators E_i are also called \"effects\".\n",
        "\n",
        "When you perform a measurement described by a POVM on a quantum system in a state represented by a density matrix ρ, the probability of obtaining outcome i (associated with operator E_i) is given by tr(E_i ρ), where tr() denotes the trace operation.\n",
        "\n",
        "The ***key aspect of POVMs is that they allow for the description of measurements that do not have a complete set of orthogonal eigenstates, which are typical in situations like indirect or incomplete measurements***, measurements involving ancillary systems, and measurements involving quantum entanglement. This makes POVMs an essential tool in quantum information theory and quantum computing.\n",
        "\n",
        "* <font color=\"red\">mathematical examples?\n",
        "\n",
        "* <font color=\"red\">code examples?"
      ],
      "metadata": {
        "id": "E8ZcEaFmtmWX"
      }
    },
    {
      "cell_type": "markdown",
      "source": [
        "**what is a POVM measurement on the state E(|xi⟩⟨xi|)?**\n",
        "\n",
        "*Von Neumann Measurement vs POVM*\n",
        "\n",
        "A Positive Operator-Valued Measure (POVM) is a type of generalized measurement used in quantum mechanics. When we want to make a measurement in quantum mechanics, we typically talk about observables, which are represented by Hermitian operators, and the associated eigenstates and eigenvalues. The eigenvalues are the possible outcomes of the measurement, and the state collapses into the corresponding eigenstate upon measurement.\n",
        "\n",
        "However, there are situations where a standard von Neumann measurement (which directly associates observables with Hermitian operators) is not sufficient. For example, if we want to consider more general types of measurements or if we're working with a subset of a larger system, we might need to use a POVM.\n",
        "\n",
        "A POVM is a set of positive semi-definite operators {E_i} that sum to the identity operator. Each E_i corresponds to a potential outcome of the measurement. The probability of each outcome i when measuring a state ρ is given by tr(E_i ρ).\n",
        "\n",
        "So if you have a state represented by E(|xi⟩⟨xi|) and a POVM {E_i}, the probability of getting the outcome corresponding to E_i would be tr(E_i E(|xi⟩⟨xi|)).\n",
        "\n",
        "The states E_i themselves don't necessarily need to be orthogonal or even pure states, which makes POVMs a very powerful and general measurement framework in quantum mechanics. They are often used in quantum information theory and quantum computation where complex measurement schemes are more common.\n"
      ],
      "metadata": {
        "id": "f70p5CAjtsMJ"
      }
    },
    {
      "cell_type": "markdown",
      "source": [
        "**what is a two-copy Bell basis measurement?**\n",
        "\n",
        "A two-copy Bell basis measurement is a measurement in the Bell basis on two copies of a quantum state. This is an important concept in quantum information theory and quantum computing, especially in the context of entanglement and quantum teleportation.\n",
        "\n",
        "The Bell basis consists of four maximally entangled two-qubit states, known as Bell states. These states are:\n",
        "\n",
        "1. |Φ+⟩ = 1/√2 (|00⟩ + |11⟩)\n",
        "2. |Φ-⟩ = 1/√2 (|00⟩ - |11⟩)\n",
        "3. |Ψ+⟩ = 1/√2 (|01⟩ + |10⟩)\n",
        "4. |Ψ-⟩ = 1/√2 (|01⟩ - |10⟩)\n",
        "\n",
        "When we talk about a \"two-copy Bell basis measurement\", we are referring to performing a Bell basis measurement on two copies of a quantum state. Let's consider a state ρ. We have two copies of ρ, let's say ρ1 and ρ2. The two-copy Bell basis measurement would involve performing a Bell basis measurement on the combined system of ρ1 and ρ2.\n",
        "\n",
        "This kind of measurement could be used to assess properties such as the fidelity of the state ρ, or in protocols like entanglement distillation. It is also a key part of certain quantum error correction codes, where it's used to detect and correct errors without destroying the quantum information."
      ],
      "metadata": {
        "id": "LPat9lHG-_HI"
      }
    },
    {
      "cell_type": "markdown",
      "source": [
        "**what are quantum states using the fixed POVM?**\n",
        "\n",
        "In quantum mechanics, a Positive Operator-Valued Measure (POVM) is a set of measurement operators that act on quantum states. These operators are designed such that they satisfy certain mathematical properties that make them correspond to physical measurements. Specifically, each operator in the set is positive (its eigenvalues are nonnegative), and the sum of all the operators is the identity operator.\n",
        "\n",
        "A POVM provides a generalization of the concept of a quantum measurement. In the simplest case, quantum measurements are described by a set of projection operators that project onto different states in a quantum system. However, in more complex situations, such as when dealing with noise or imperfect detection, a more general type of measurement is needed, which is where POVMs come in.\n",
        "\n",
        "A \"fixed\" POVM would refer to a specific, predetermined set of measurement operators. For instance, in a quantum computing experiment, a researcher might choose a fixed POVM to measure the output states of a quantum circuit.\n",
        "\n",
        "As for \"quantum states using the fixed POVM,\" it is a bit unclear without more context. However, it could mean the process of applying this predetermined set of measurement operators to certain quantum states. The result of such a measurement would be a set of probabilities (one for each operator in the POVM), indicating the likelihood of each possible measurement outcome. These probabilities would then be used to infer properties of the quantum state or the quantum system.\n"
      ],
      "metadata": {
        "id": "ZPd_qh2D3AeV"
      }
    },
    {
      "cell_type": "code",
      "source": [],
      "metadata": {
        "id": "RYVZpfsfPmTd"
      },
      "execution_count": null,
      "outputs": []
    },
    {
      "cell_type": "markdown",
      "source": [
        "###### *$\\hookrightarrow$ Eigenvalues*"
      ],
      "metadata": {
        "id": "cPAo7HRV06Ol"
      }
    },
    {
      "cell_type": "markdown",
      "source": [
        "**What is meant by an observable with constant spectral norm?**\n",
        "\n",
        "An observable in quantum mechanics is represented by a Hermitian operator. **The spectral norm (or operator norm) of a Hermitian operator is equal to its largest eigenvalue in absolute value**.\n",
        "\n",
        "So, if an observable is described as having a \"constant spectral norm,\" it means that the maximum absolute value of its possible measurement outcomes (eigenvalues) is a constant.\n",
        "\n",
        "For example, the Pauli matrices that represent observables in a two-level quantum system (like a qubit) have a spectral norm of 1, because their eigenvalues are +1 and -1. So, these could be described as observables with constant spectral norm.\n",
        "\n",
        "In practice, this property could be useful because it gives a bound on the possible outcomes of measurements, which can simplify calculations or analyses. It also ensures that the observable is a bounded operator, which is an important property in functional analysis and quantum mechanics."
      ],
      "metadata": {
        "id": "_l8OqycaFhln"
      }
    },
    {
      "cell_type": "markdown",
      "source": [
        "**what is meant by trace distance of the state prior to any measurements?**\n",
        "\n",
        "In the context of quantum mechanics and quantum information theory, the trace distance is a measure of the distinguishability of two quantum states. In a practical sense, it gives you the maximum probability over all possible measurements that you can correctly tell the two states apart.\n",
        "\n",
        "The trace distance between two quantum states ρ and σ is defined as:\n",
        "\n",
        "D(ρ, σ) = 1/2 * Tr[|ρ - σ|]\n",
        "\n",
        "where Tr denotes the trace, and |A| refers to the absolute value of the matrix A (which is defined as the square root of the product of A with its adjoint, or A*A†).\n",
        "\n",
        "The trace distance has a value between 0 and 1, where 0 indicates that the two states are identical, and 1 means the states are completely distinguishable.\n",
        "\n",
        "When the trace distance is mentioned in relation to \"the state prior to any measurements\", it generally refers to assessing how different two quantum states are before any action is taken to measure or otherwise alter these states. This can be important when considering the evolution of quantum systems, or assessing the impact of quantum noise or errors on a quantum state."
      ],
      "metadata": {
        "id": "2g56bk2w8b_Z"
      }
    },
    {
      "cell_type": "markdown",
      "source": [
        "* Page 9: \"**the final states of our algorithm on inputs v and w are Ω(1) apart in trace norm**\"\n",
        "  * The statement means that the trace distance between the final states of the algorithm on inputs v and w **is at least a constant**. **The trace distance is a measure of how different two quantum states are**.\n",
        "  * In other words, the **statement is saying that the final states of the algorithm on inputs v and w are not the same, and they are not even close to being the same**. The constant Ω(1) is a lower bound on the trace distance, and it means that the trace distance is at least some constant value, no matter how small that value is.\n",
        "  * **This statement is important in quantum learning theory because it shows that quantum algorithms can be used to distinguish between different inputs**. If the final states of the algorithm on different inputs were always the same, then quantum algorithms would not be able to learn anything about the inputs.\n",
        "  * The statement \"the final states of our algorithm on inputs v and w are Ω(1) apart in trace norm\" is a more formal way of saying that the final states of the algorithm on different inputs are distinguishable."
      ],
      "metadata": {
        "id": "5O2i38FthBHx"
      }
    },
    {
      "cell_type": "code",
      "source": [
        "import numpy as np\n",
        "\n",
        "def trace_distance(state1, state2):\n",
        "  \"\"\"Calculates the trace distance between two quantum states.\n",
        "\n",
        "  Args:\n",
        "    state1: A numpy array representing the first quantum state.\n",
        "    state2: A numpy array representing the second quantum state.\n",
        "\n",
        "  Returns:\n",
        "    The trace distance between the two quantum states.\n",
        "  \"\"\"\n",
        "\n",
        "  # Calculate the difference between the two quantum states.\n",
        "  difference = state1 - state2\n",
        "\n",
        "  # Calculate the trace of the absolute value of the difference.\n",
        "  trace = np.trace(np.abs(difference))\n",
        "\n",
        "  # Return the square root of the trace.\n",
        "  return 0.5 * np.sqrt(trace)\n",
        "\n",
        "if __name__ == \"__main__\":\n",
        "  # Create two quantum states.\n",
        "  state1 = np.array([[1, 0], [0, 0]])\n",
        "  state2 = np.array([[0, 0], [0, 1]])\n",
        "\n",
        "  # Calculate the trace distance between the two quantum states.\n",
        "  trace_distance = trace_distance(state1, state2)\n",
        "\n",
        "  # Print the trace distance.\n",
        "  print(\"The trace distance is:\", trace_distance)\n"
      ],
      "metadata": {
        "colab": {
          "base_uri": "https://localhost:8080/"
        },
        "id": "pNBVKC-xlyKE",
        "outputId": "7a3f9505-360e-4db2-e20e-de9fc30315d9"
      },
      "execution_count": null,
      "outputs": [
        {
          "output_type": "stream",
          "name": "stdout",
          "text": [
            "The trace distance is: 0.7071067811865476\n"
          ]
        }
      ]
    },
    {
      "cell_type": "code",
      "source": [
        "trace_distance = 0.5 * np.sqrt(np.trace(np.abs(state1 - state2)))"
      ],
      "metadata": {
        "id": "jsMwtjDjmYyJ"
      },
      "execution_count": null,
      "outputs": []
    },
    {
      "cell_type": "markdown",
      "source": [
        "Measuring a quantum state in the computational basis is a Clifford measurement. A Clifford measurement is a measurement that can be performed by a circuit consisting only of Clifford gates. The computational basis measurements are the Pauli Z and Pauli X measurements, which are both Clifford gates. Therefore, measuring a quantum state in the computational basis is a Clifford measurement. The computational basis measurements are equivalent to the Pauli Z and Pauli X measurements"
      ],
      "metadata": {
        "id": "-KUhgNi_tMGt"
      }
    },
    {
      "cell_type": "markdown",
      "source": [
        "**Expectation Value and Backpropagation**\n",
        "\n",
        "The average value (expectation value) of the measurement result is given by the\n",
        "Born rule: **bold text**\n",
        "\n",
        "> $\\langle B\\rangle=\\left\\langle\\psi\\left|U^{\\dagger}(\\theta) B U(\\theta)\\right| \\psi\\right\\rangle$\n",
        "\n",
        "Just linear algebra! Every step is a matrix-vector or matrix-matrix multiplication\n",
        "\n",
        "Expectation values depend continuously on the gate parameters\n",
        "\n",
        "**Backpropagating Through Quantum Circuits**\n",
        "\n",
        "However, as long as we don't \"zoom in\" to what is happening in the quantum circuit, backpropagation can treat the quantum circuit as a single indivisible function\n",
        "\n",
        "The expectation value of a quantum circuit is a differentiable function\n",
        "\n",
        "> $\n",
        "f(\\theta)=\\left\\langle\\psi\\left|U^{\\dagger}(\\theta) B U(\\theta)\\right| \\psi\\right\\rangle=\\langle B\\rangle$\n",
        "\n",
        "Running on hardware and using the parameter-shift rule, we can provide both ingredients needed by backpropagation\n",
        "\n",
        "> $\n",
        "\\left(\\langle B\\rangle, \\frac{\\partial}{\\partial \\theta}\\langle B\\rangle\\right)\n",
        "$"
      ],
      "metadata": {
        "id": "NOFPaQ7LDw1E"
      }
    },
    {
      "cell_type": "markdown",
      "source": [
        "**Spectral Gap**\n",
        "\n",
        "Minimum eigenvalue gap of my hamiltonian (spectral gap decrease polynomial or exponentially as a function of the number of particles?). Eigenvalue gap can become exponentially small.\n",
        "\n",
        "The spectral gap, in the context of quantum mechanics or graph theory, is the difference between the lowest two eigenvalues of a system’s Hamiltonian or the adjacency matrix of a graph. It provides crucial information about the system’s dynamics or the graph’s connectivity.\n",
        "\n",
        "In the context of Hamiltonian mechanics, the eigenvalues represent the possible energy levels of the system. The \"minimum eigenvalue gap\" of a Hamiltonian refers to the smallest difference between any two of these energy levels.\n",
        "\n",
        "The importance of this spectral gap is deeply connected to the behavior of quantum systems. If there is a non-zero gap between the lowest energy state (the ground state) and the rest of the spectrum, the system is said to be gapped. If the gap is zero, the system is gapless.\n",
        "\n",
        "In a gapped system, at low temperatures, thermal fluctuations aren't typically strong enough to push the system out of its ground state. This makes the system's behavior at low temperatures easier to predict.\n",
        "\n",
        "On the other hand, in a gapless system, even small fluctuations can cause the system to change its state, resulting in complex behavior.\n",
        "\n",
        "In the field of quantum computation, the spectral gap plays a crucial role in the speed and feasibility of quantum algorithms. For example, in adiabatic quantum computing, the algorithm's running time is inversely proportional to the square of the spectral gap. A smaller spectral gap implies a slower-running algorithm, which is not desirable."
      ],
      "metadata": {
        "id": "ZLCKV2c6c6b0"
      }
    },
    {
      "cell_type": "markdown",
      "source": [
        "**Getting back to 𝑓(𝜌,𝑂) = tr(𝑂E(𝜌)) : why do I need to calculate the eigenvalues (trace)?**\n",
        "\n",
        "*From paper: Information-theoretic bounds on quantum advantage in machine learning*\n",
        "\n",
        "* Trace = sum of Eigenvalues (in this context the trace gives a weighted sum of all outcomes – in other words, the average or expected value.)\n",
        "* Eigenvalues = each eigenvalue of an observable represents a possible outcome of a measurement\n",
        "\n",
        "In the expression 𝑓(𝜌,𝑂) = tr(𝑂E(𝜌)), the function tr denotes the trace of a matrix, not its eigenvalues. The trace of a matrix is defined as the sum of the elements on its main diagonal (from the top left to the bottom right). This is true for any square matrix, not just for those representing quantum states or operations.\n",
        "\n",
        "Now, **for the specific case of this expression, the trace is used to calculate the expected value of an observable for a quantum state that has undergone some operation E.** Here's why:\n",
        "\n",
        "In quantum mechanics, the expected (or average) value of an observable O for a state ρ is given by the formula tr(𝑂𝜌). This comes from the Born rule, one of the key postulates of quantum mechanics, which relates the probabilities of measurement outcomes to the state of the system. <font color=\"red\">The observable O is represented by a Hermitian operator, and the state ρ is represented by a density operator.</font>\n",
        "\n",
        "In your expression, E(𝜌) represents the state after some operation E has been applied. So tr(𝑂E(𝜌)) is the expected value of the observable O for the state resulting from E(𝜌).\n",
        "\n",
        "The trace is crucial here because it ensures that we're summing up the probabilities of all possible outcomes. In a physical sense, it is analogous to summing over all possible states that the system might be in. **Because each eigenvalue of an observable represents a possible outcome of a measurement, and the corresponding element of the density matrix gives the probability of that outcome**, taking the trace in this context gives a weighted sum of all outcomes – in other words, the average or expected value."
      ],
      "metadata": {
        "id": "bwYUoViG5BQp"
      }
    },
    {
      "cell_type": "markdown",
      "source": [
        "**How can you accurately predict expectation values of Pauli observables in an unknown n-qubit quantum state ρ?**\n",
        "\n",
        "In quantum mechanics, the expectation value of an observable represented by an operator A on a state ρ can be calculated using the formula tr(Aρ), where \"tr\" denotes the trace operation.\n",
        "\n",
        "The Pauli matrices (or Pauli operators), named after Wolfgang Pauli, are a set of 2 × 2 matrices which are fundamental in quantum mechanics. They are defined as:\n",
        "\n",
        "- Pauli-X: σ_x = [[0, 1], [1, 0]]\n",
        "- Pauli-Y: σ_y = [[0, -i], [i, 0]]\n",
        "- Pauli-Z: σ_z = [[1, 0], [0, -1]]\n",
        "\n",
        "These operators can be extended to n-qubit systems to form a complete basis for Hermitian operators on that system. A Pauli observable on an n-qubit system is a tensor product of Pauli matrices, one for each qubit. For example, Z ⊗ Z is a Pauli observable for a 2-qubit system that measures the parity of the two qubits.\n",
        "\n",
        "***In order to predict the expectation value of a Pauli observable in an unknown state ρ, you would generally need to perform quantum state tomography***, which involves making many measurements on many identically-prepared quantum systems, and using the results to reconstruct the state ρ. Once you have ρ, you can use the formula tr(Aρ) to calculate the expectation value of any observable A.\n",
        "\n",
        "However, ***full quantum state tomography is not always practical, especially for large systems, due to the number of measurements required***. There are other techniques like direct estimation of the expectation value via sampling, adaptive methods, or compressed sensing techniques which can estimate the expectation value with fewer measurements.\n",
        "\n",
        "In a practical quantum computing scenario, the expectation value of a Pauli observable would often be estimated by preparing many copies of the state, measuring each in the basis corresponding to the observable, and taking the average of the results. These measurements can be implemented with the appropriate rotations and then a computational basis measurement.\n",
        "\n",
        "Remember, this is all assuming you have physical access to the quantum state or quantum system. If you only have classical access to information about the system, you can't accurately predict the expectation values without additional assumptions or information. Quantum mechanics fundamentally limits what you can know about a quantum system without direct quantum access to the system."
      ],
      "metadata": {
        "id": "q345WRdUtkcS"
      }
    },
    {
      "cell_type": "markdown",
      "source": [
        "**what are 𝑘-body reduced density matrices?**\n",
        "\n",
        "In quantum mechanics, the state of a system of particles can be represented by a density matrix, which is a complex, positive semi-definite matrix with a trace equal to 1.\n",
        "\n",
        "For a system of N particles, the full density matrix lives in a high-dimensional Hilbert space (the tensor product of the individual particle's Hilbert spaces), and contains complete information about the state of the system. However, it can often be difficult to work with such high-dimensional objects.\n",
        "\n",
        "A k-body reduced density matrix is a lower-dimensional object that contains information about only a subset of the particles in the system.\n",
        "\n",
        "Formally, the k-body reduced density matrix is obtained by taking the partial trace over N-k of the particles in the system. This process \"averages out\" the information about these N-k particles, leaving behind a density matrix that describes the remaining k particles.\n",
        "\n",
        "The k-body reduced density matrix is a useful tool in many areas of quantum physics, including quantum chemistry and quantum information theory. It allows us to study the behavior of small subsystems within a larger quantum system, even when we can't (or don't want to) keep track of the full state of all the particles. For example, the 1-body reduced density matrix (also known as the one-particle density matrix) is often used in quantum chemistry to describe electron behavior in molecular systems."
      ],
      "metadata": {
        "id": "780q8PXoJZja"
      }
    },
    {
      "cell_type": "markdown",
      "source": [
        "###### *$\\hookrightarrow$ Maps*"
      ],
      "metadata": {
        "id": "3hazOulegQat"
      }
    },
    {
      "cell_type": "markdown",
      "metadata": {
        "id": "FB17Qq-GLGBT"
      },
      "source": [
        "**Changing Basis (Map: Overlap Matrix)**\n",
        "\n",
        "* <font color=\"blue\">**For example: A particles position can be expressed as the superposition of momentum states**</font>\n",
        "\n",
        "* Goal: choose a 'good' basis that makes the maths as simple as possible\n",
        "\n",
        "Video: [Changing basis in quantum mechanics](https://www.youtube.com/watch?v=CDmXvPDMIFs)\n",
        "\n",
        "![ggg](https://raw.githubusercontent.com/deltorobarba/repo/master/quantum_252.png)\n",
        "\n",
        "If we go from one representation to another: we need to calculate the overlaps between the corresponding basis states, with the [overlap matrix](https://www.chemeurope.com/en/encyclopedia/Overlap_matrix.html):\n",
        "\n",
        "* The Overlap matrix is used to calculate the overlap integral, which is a measure of the similarity between two basis functions. The overlap integral is important in quantum chemistry because it is used to construct the Hamiltonian matrix, which is used to solve the Schrödinger equation.\n",
        "* The overlap matrix is a square matrix, used in quantum chemistry to describe the inter-relationship of a set of basis vectors of a quantum system.\n",
        "* **If the vectors are orthogonal to one another, the overlap matrix will be diagonal.**\n",
        "* In addition, if the basis vectors form an orthonormal set, the overlap matrix will be the identity matrix.\n",
        "* The overlap matrix is always n×n, where n is the number of basis functions used. It is a kind of Gramian matrix.\n",
        "\n",
        "![ggg](https://raw.githubusercontent.com/deltorobarba/repo/master/quantum_253.png)\n",
        "\n",
        "How do we get back from the new to the old basis?\n",
        "\n",
        "![ggg](https://raw.githubusercontent.com/deltorobarba/repo/master/quantum_254.png)\n",
        "\n",
        "How we do transform the representation of operators between basis? (resolve identities in the u basis)\n",
        "\n",
        "![ggg](https://raw.githubusercontent.com/deltorobarba/repo/master/quantum_255.png)\n",
        "\n",
        "Summary:\n",
        "\n",
        "![ggg](https://raw.githubusercontent.com/deltorobarba/repo/master/quantum_256.png)"
      ]
    },
    {
      "cell_type": "markdown",
      "source": [
        "**CPTP Maps in Quantum Machine Learning**\n",
        "\n",
        "*A quantum channel is a completely positive, trace-preserving (CPTP) map. A CPTP map is mapping one density matrix (input) to another (Output)*\n",
        "\n",
        "*Source: Information-theoretic bounds on quantum advantage in machine learning*\n",
        "\n",
        "*tldr: in ML experiments for an on average error quantum ML  (which operates on quantum data) cannot outperform classical ML (which operaties on classical data. qQuantum ML can outperform only for worst-case prediction error (rather than a small average prediction error), where an exponential separation becomes possible.*\n",
        "\n",
        "We are interested in predicting functions of the form\n",
        "\n",
        "$f(x)=\\operatorname{tr}(O \\mathcal{E}(|x\\rangle\\langle x|))$\n",
        "\n",
        "* where $x$ is a classical input, e.g., chemicals involved in the reaction, a description of the molecule, or the intensity of lasers that con- trol the neutral atoms\n",
        "* $\\mathcal{E}$ is an arbitrary (possibly unknown) completely positive and trace preserving (CPTP) map - it characterizes a quantum evolution happening in the lab. Depending on the parameter x, it produces the quantum state $\\mathcal{E}$(|x⟩⟨x|)\n",
        "* $O$ is a ceratin known observable (what the experimentalist measures at the end of the experiment.)\n",
        "\n",
        "This equation  encompasses any physical process that takes a classical input and produces a real number as output. The goal is to construct a function h(x) that accurately approximates f(x) after accessing the physical process $\\mathcal{E}$ as few times as possible.\n",
        "\n",
        "The goal is to predict the measurement outcome for new physical experiments, with new values of x that have not been encountered during the training process.\n",
        "\n",
        "1. all problems that are approximately learnable by a quantum ML model are also approximately learnable by some restricted clas- sical ML model which executes the quantum process $\\mathcal{E}$ a comparable number of times. This applies in particular, to predicting outputs of quantum- mechanical processes.\n",
        "\n",
        "  * For the task of learning classical Boolean circuits, fundamental limits on quantum advantage have been established in previous work [11–13, 31, 80, 94]. Theorem 1 generalizes these existing results to the task of learning outcomes of quantum processes.\n",
        "\n",
        "  * Therefore finding that classical and quantum ML have comparable power (for average-case prediction) boosts our hopes that the combination of classical ML and near-term quan- tum algorithms [47, 52, 53, 76, 79] may fruitfully ad- dress challenging quantum problems in physics, chem- istry, and materials science.\n",
        "\n",
        "2. quantum ML can have an exponential ad- vantage over classical ML for certain problems where the objective is achieving a specified worst-case prediction error.\n",
        "\n",
        "\n",
        "\n"
      ],
      "metadata": {
        "id": "OgKDwE8CoMNV"
      }
    },
    {
      "cell_type": "markdown",
      "source": [
        "**What is the cptp map 𝑓(𝜌,𝑂) = tr(𝑂E(𝜌))?**\n",
        "\n",
        "*Source: Learning to predict arbitrary quantum processes*\n",
        "\n",
        "The expression you've given, 𝑓(𝜌,𝑂) = tr(𝑂E(𝜌)), doesn't directly represent a completely positive trace-preserving (CPTP) map. Rather, it looks like the representation of an expectation value in the context of quantum mechanics or quantum information theory.\n",
        "\n",
        "In the given equation:\n",
        "- 𝜌 is a density operator representing the state of a quantum system.\n",
        "- 𝑂 is an observable, which is a Hermitian operator corresponding to a physical quantity that can be measured.\n",
        "- E(𝜌) is some operation being performed on the state 𝜌; this could potentially represent a quantum channel or some other operation. The nature of this operation isn't specified by your question.\n",
        "- tr( ) denotes the trace, which for an operator is the sum of its eigenvalues.\n",
        "\n",
        "So, tr(𝑂E(𝜌)) is the expected value (or mean value) of the measurement of the observable 𝑂 in the state resulting from the operation E(𝜌).\n",
        "\n",
        "A CPTP map, on the other hand, describes the evolution of quantum states when they interact with an environment. It is a map that takes a density operator to another density operator, and it has two properties:\n",
        "1. It's completely positive, meaning that it preserves the positive semi-definiteness of the quantum state (ensuring that the state remains a valid physical state).\n",
        "2. It's trace-preserving, which ensures that the total probability of all possible outcomes remains equal to 1.\n",
        "\n",
        "Given this, if E were to represent a CPTP map, then tr(𝑂E(𝜌)) still wouldn't itself be a CPTP map, but instead the expectation value of an observable given a quantum state evolved by a CPTP map."
      ],
      "metadata": {
        "id": "bxF65qHK441R"
      }
    },
    {
      "cell_type": "markdown",
      "source": [
        "**calculate the density matrices and quantum channels of those classical operations that are represented as a quantum operation?**\n",
        "\n",
        "Yes, you can. A classical operation represented as a quantum operation can indeed have a density matrix and a quantum channel that describes it. Let's take the classical NOT operation as an example, which can be represented as a quantum operation using the Pauli-X (or NOT) gate.\n",
        "\n",
        "1. **Density Matrix**: The density matrix represents the state of a quantum system. If we start with a single qubit in the state |0⟩ (which can represent a classical bit in the state 0), the density matrix is given by |0⟩⟨0|, which is:\n",
        "\n",
        "    ```\n",
        "    ρ_0 = |0⟩⟨0| = [1, 0]\n",
        "                      [0, 0]\n",
        "    ```\n",
        "\n",
        "    If we apply the X gate (the quantum equivalent of the classical NOT operation), the qubit goes to the state |1⟩, and its density matrix is given by |1⟩⟨1|:\n",
        "\n",
        "    ```\n",
        "    ρ_1 = Xρ_0X† = |1⟩⟨1| = [0, 0]\n",
        "                                [0, 1]\n",
        "    ```\n",
        "\n",
        "    where X† is the conjugate transpose (also known as the Hermitian adjoint) of X, and it's equal to X because X is a Hermitian operator.\n",
        "\n",
        "2. **Quantum Channel**: The quantum channel describes a quantum operation. It is a map that takes the density matrix of the input state to the density matrix of the output state. For the X gate, the map is given by:\n",
        "\n",
        "    ```\n",
        "    Λ_X(ρ) = XρX†\n",
        "    ```\n",
        "\n",
        "    where ρ is the density matrix of the input state. This map tells us how the X gate transforms any given input state.\n",
        "\n",
        "In the above examples, we have treated a classical bit as a qubit in a definite state (either |0⟩ or |1⟩), and we have treated a classical NOT operation as a quantum X operation. This shows how classical operations and states can be embedded in the quantum framework. However, remember that this doesn't capture many of the unique features of quantum states and operations, such as superposition and entanglement."
      ],
      "metadata": {
        "id": "mNZHZ4RQ4wC3"
      }
    },
    {
      "cell_type": "markdown",
      "source": [
        "**what is the function space in a quantum computing operation (cptp map)?**\n",
        "\n",
        "In quantum computing, operations (also known as quantum gates or quantum channels) are often represented as Completely Positive Trace-Preserving (CPTP) maps. These maps represent the evolution of a quantum state in a quantum computation.\n",
        "\n",
        "**A quantum state is typically described as a density matrix**, which is a positive semidefinite operator with trace 1 on a Hilbert space. A Hilbert space is a complex vector space equipped with an inner product operation, and it is a key structure in quantum mechanics as it provides the stage on which quantum states exist and evolve.\n",
        "\n",
        "> **The \"function space\" in this context is the set of all possible quantum states, i.e., the set of all density matrices on the Hilbert space.**\n",
        "\n",
        "A CPTP map is a linear, completely positive, and trace-preserving transformation on this function space. It takes an initial quantum state (a point in the function space) and produces a final quantum state (another point in the same function space), describing the evolution of the state due to the quantum operation.\n",
        "\n",
        "In other words, **a CPTP map is a function that maps the function space of initial quantum states to the function space of final quantum states. Therefore, it is said to act on the \"function space\" of quantum states**.\n",
        "\n",
        "To make this a bit more concrete, consider a single qubit. Its Hilbert space is a two-dimensional complex vector space, and the set of density matrices on this space is the set of all 2x2 positive semidefinite matrices with trace 1. A single-qubit quantum operation is a CPTP map on this set of density matrices.\n",
        "\n",
        "CPTP maps are crucial in quantum information theory because they can represent not only idealized quantum gates but also realistic quantum operations that include effects such as decoherence and noise.\n"
      ],
      "metadata": {
        "id": "ztGyMd0ZfllE"
      }
    },
    {
      "cell_type": "markdown",
      "source": [
        "**Not all physical errors can be linear CPTP maps in a correlation space (quantum channels)**\n",
        "\n",
        "https://www.nature.com/articles/srep00508\n",
        "\n",
        "In the framework of quantum computational tensor network, which is a general framework of measurement-based quantum computation, the resource many-body state is represented in a tensor-network form (or a matrix-product form) and universal quantum computation is performed in a virtual linear space, which is called a correlation space, where tensors live. Since any unitary operation, state preparation and the projection measurement in the computational basis can be simulated in a correlation space, it is natural to expect that fault-tolerant quantum circuits can also be simulated in a correlation space. However, we point out that not all physical errors on physical qudits appear as linear completely-positive trace-preserving errors in a correlation space. Since the theories of fault-tolerant quantum circuits known so far assume such noises, this means that the simulation of fault-tolerant quantum circuits in a correlation space is not so straightforward for general resource states.\n",
        "\n"
      ],
      "metadata": {
        "id": "hvypLz1NhWFE"
      }
    },
    {
      "cell_type": "markdown",
      "source": [
        "**What are quantum channel and Kraus operators?**\n",
        "\n",
        "In quantum mechanics, a quantum channel is a mathematical model used to describe the evolution of quantum states due to physical processes, which could be the deterministic dynamics of an isolated quantum system, or could include the effects of noise, dissipation, and decoherence that result from interactions with an environment. Quantum channels are crucial in quantum information theory and quantum computing, where they are used to model realistic, noisy quantum operations.\n",
        "\n",
        "A quantum channel is a completely positive, trace-preserving (CPTP) map. These properties reflect the basic requirements that any physical process must satisfy:\n",
        "\n",
        "- **Complete positivity** ensures that the evolution is physically valid not only for individual quantum states, but also for quantum states that are part of larger systems. This is essential because quantum systems can be entangled, meaning that the state of one system can't be described independently of the state of another system.\n",
        "- **Trace preservation** ensures that the total probability remains 1, reflecting the probabilistic interpretation of quantum mechanics.\n",
        "\n",
        "One common way to represent a quantum channel is by using Kraus operators. Given a quantum channel Λ, we can find a set of operators {K_i} such that the action of the channel on any state ρ is given by\n",
        "\n",
        "Λ(ρ) = Σ_i K_i ρ K_i†\n",
        "\n",
        "where † denotes the conjugate transpose, and the sum is over all i. The operators K_i are called the Kraus operators, or Kraus representation, of the channel.\n",
        "\n",
        "The Kraus operators must satisfy the completeness condition Σ_i K_i† K_i = I, where I is the identity operator, to ensure that the channel is trace-preserving.\n",
        "\n",
        "The Kraus representation is not unique; there can be many different sets of Kraus operators that represent the same quantum channel. The specific form of the Kraus operators can depend on the physical interpretation of the channel. For example, in a quantum system subject to dissipative processes or measurement, each Kraus operator might represent a different possible outcome or error process.\n"
      ],
      "metadata": {
        "id": "8XKy0JpymlW3"
      }
    },
    {
      "cell_type": "markdown",
      "source": [
        "**what is a quantum channel?**\n",
        "\n",
        "A quantum channel is a mathematical construct used in quantum information theory to describe the process of transmitting quantum information from one location to another, or more generally, the evolution of quantum states in a system over time. This evolution can be due to the natural dynamics of the system or because of an interaction with an environment, which might cause phenomena like decoherence or noise.\n",
        "\n",
        "Mathematically, a quantum channel is a completely positive, trace-preserving (CPTP) map. It takes a density matrix (which represents a quantum state) as input and returns another density matrix as output.\n",
        "\n",
        "The \"completely positive\" part means that the map preserves the positive semi-definiteness of the density matrix, which is a requirement for it to represent a valid physical state. The \"trace-preserving\" part means that the total probability of all possible outcomes (which is represented by the trace of the density matrix) remains equal to 1.\n",
        "\n",
        "One common example of a quantum channel is the depolarizing channel, which introduces a certain probability of error into each qubit of information transmitted through it. There are many other types of quantum channels that model different kinds of physical processes, including lossy channels, dephasing channels, amplitude damping channels, and more. Each channel has a different impact on the quantum states that pass through it, often reflecting the effects of different types of environmental noise or decoherence."
      ],
      "metadata": {
        "id": "u6AwpEdL1zvQ"
      }
    },
    {
      "cell_type": "markdown",
      "source": [
        "**Can you give me an example of a quantum channel?**\n",
        "\n",
        "Certainly, a straightforward example of a quantum channel is the \"bit-flip channel.\" This channel models the possible flipping of a qubit due to errors in a quantum computing environment.\n",
        "\n",
        "Let's denote the basis states of our qubit as |0⟩ and |1⟩. Suppose we have a single qubit quantum state ρ which we send through the bit-flip channel. After going through the channel, each qubit can either stay the same or be flipped, i.e., |0⟩ goes to |1⟩ and |1⟩ goes to |0⟩.\n",
        "\n",
        "Let's also say that the probability of a flip occurring is p. Then the probability that nothing happens is (1-p).\n",
        "\n",
        "The behavior of the bit-flip channel Λ can be described as:\n",
        "\n",
        "Λ(ρ) = (1-p)ρ + p XρX\n",
        "\n",
        "where X is the Pauli-X gate, which flips the state of a qubit.\n",
        "\n",
        "This description of the channel is essentially a probabilistic mixture of the identity operation (which leaves the state ρ unchanged) with weight (1-p), and the bit-flip operation (XρX) with weight p.\n",
        "\n",
        "This is a completely positive, trace-preserving (CPTP) map: it's \"completely positive\" because it preserves the positive semi-definiteness of the density matrix, and it's \"trace-preserving\" because the sum of the probabilities of all outcomes is 1 ((1-p) + p = 1), ensuring that the total quantum state remains normalized.\n",
        "\n",
        "As a consequence of going through this channel, quantum information can be lost or corrupted, which is a significant consideration in the design of quantum computing systems and quantum error correction codes."
      ],
      "metadata": {
        "id": "qANEZaHQ2g4P"
      }
    },
    {
      "cell_type": "markdown",
      "source": [
        "**Quantum Channels and How could you formalize stochastic maps between basis changes into quantum circuits?**\n",
        "\n",
        "Basis changes in quantum circuits are usually modeled with unitary transformations. A unitary transformation is a linear transformation that preserves the inner product in the space, and in quantum mechanics, it corresponds to a deterministic evolution of the quantum state.\n",
        "\n",
        "However, if we're looking to introduce stochastic elements into quantum circuits, there are ways to do so, primarily through the use of quantum channels.\n",
        "\n",
        "A quantum channel is a completely positive, trace-preserving (CPTP) map that represents a physical process in quantum mechanics. While unitary transformations correspond to ideal, noiseless operations, quantum channels can represent realistic, noisy operations. This includes both coherent operations, represented by unitary transformations, and incoherent or stochastic operations, represented by non-unitary transformations.\n",
        "\n",
        "To introduce stochasticity, you can consider the notion of a mixed state, represented by a density matrix, which can be understood as a statistical mixture of different pure states. A quantum channel can take a pure state and produce a mixed state, representing a stochastic process.\n",
        "\n",
        "More precisely, a quantum channel Λ can be represented by a set of Kraus operators {K_i}. These Kraus operators act on a state ρ as follows:\n",
        "\n",
        "Λ(ρ) = Σ_i K_i ρ K_i†\n",
        "\n",
        "where the sum is over all i, and † denotes the Hermitian adjoint (conjugate transpose). The Kraus operators are required to satisfy the completeness condition Σ_i K_i† K_i = I, where I is the identity operator.\n",
        "\n",
        "To encode a stochastic map into a quantum circuit, you'd need to find a suitable set of Kraus operators representing the stochastic process, and incorporate them into your circuit model.\n",
        "\n",
        "Keep in mind, however, that not all stochastic maps can be physically realized as quantum channels. The map must satisfy the conditions for a CPTP map, i.e., it must be completely positive and preserve the trace of the density matrix.\n",
        "\n",
        "Also note that while quantum channels provide a way to model stochastic processes, they are not usually implemented directly in quantum circuits on current quantum computers, which typically only perform unitary transformations directly. However, they can be used to model the effects of noise and errors in these circuits, and can be implemented indirectly using techniques like quantum error correction and quantum teleportation.\n",
        "\n"
      ],
      "metadata": {
        "id": "hOo54ImZma0v"
      }
    },
    {
      "cell_type": "markdown",
      "source": [
        "###### *$\\hookrightarrow$ Operators*"
      ],
      "metadata": {
        "id": "EBxdSfTogMN6"
      }
    },
    {
      "cell_type": "markdown",
      "source": [
        "**Classical: what is a signal-processing operator?**\n",
        "\n",
        "In signal processing, an operator is a mathematical function that acts on a signal to transform it in some way. Signal processing operators are used to perform a wide variety of tasks, such as filtering, modulation, and compression.\n",
        "\n",
        "**Types of Signal Processing Operators**\n",
        "\n",
        "There are many different types of signal processing operators, but they can be broadly categorized into two groups: linear and nonlinear.\n",
        "\n",
        "* **Linear operators** satisfy the principle of superposition, which means that if the operator is applied to the sum of two signals, the result is the sum of the operator's outputs on the two individual signals. Linear operators are also characterized by the fact that they preserve the magnitude and phase of the signal's frequency components. Examples of linear operators include filters, amplifiers, and delay lines.\n",
        "\n",
        "* **Nonlinear operators** do not satisfy the principle of superposition. Nonlinear operators can change the shape of the signal's waveform, introduce distortion, and even create new signal components. Examples of nonlinear operators include squaring, clipping, and thresholding.\n",
        "\n",
        "**Applications of Signal Processing Operators**\n",
        "\n",
        "Signal processing operators are used in a wide variety of applications, including:\n",
        "\n",
        "* **Audio signal processing:** Filtering, equalization, noise reduction, compression, and enhancement\n",
        "* **Speech processing:** Speech recognition, speaker identification, and speech synthesis\n",
        "* **Image processing:** Noise reduction, sharpening, compression, and enhancement\n",
        "* **Radar and sonar processing:** Target detection, tracking, and classification\n",
        "* **Telecommunications:** Signal modulation, demodulation, and error correction\n",
        "\n",
        "**Examples of Signal Processing Operators**\n",
        "\n",
        "Here are some examples of common signal processing operators:\n",
        "\n",
        "* **Convolution:** Combines two signals by summing their overlapping segments.\n",
        "* **Correlation:** Measures the similarity between two signals by calculating the sum of their product over time or frequency.\n",
        "* **Fourier transform:** Converts a signal from the time domain to the frequency domain, or vice versa.\n",
        "* **Discrete Fourier transform (DFT):** A specific implementation of the Fourier transform for discrete-time signals.\n",
        "* **Fast Fourier transform (FFT):** A more efficient algorithm for computing the DFT.\n",
        "* **Laplace transform:** Converts a signal from the time domain to the frequency-domain, or vice versa, using the Laplace transform function.\n",
        "* **Z-transform:** Converts a discrete-time signal from the time domain to the frequency-domain using the Z-transform function.\n",
        "\n",
        "These are just a few examples of the many signal processing operators that are used in a variety of applications."
      ],
      "metadata": {
        "id": "emRVcbLzqs98"
      }
    },
    {
      "cell_type": "markdown",
      "source": [
        "**what is the rank of an operator?**\n",
        "\n",
        "* The term \"rank\" in the context of matrices refers to the dimension of the column space (or equivalently, the row space) of the matrix. Specifically, the rank of a matrix is the maximum number of linearly independent column vectors (or equivalently, row vectors) in the matrix. It gives a measure of the \"information content\" of the matrix, in the sense of how many independent directions it spans.\n",
        "\n",
        "* However, when discussing quantum mechanics and, more broadly, linear operators in a Hilbert space, the term \"rank\" is less commonly used in the same way as for matrices. Nonetheless, for operators that can be represented as matrices (as is the case in finite-dimensional Hilbert spaces), the rank of the operator is equivalent to the rank of its matrix representation.\n",
        "\n",
        "* For a given operator \\( \\hat{O} \\) with a matrix representation \\( O \\), the rank of \\( \\hat{O} \\) is the rank of \\( O \\). In this context, the rank of the operator essentially tells you the number of non-zero eigenvalues (counted with multiplicity) or, equivalently, the dimension of the subspace onto which the operator has non-trivial action.\n",
        "\n",
        "* In summary, when talking about operators in quantum mechanics or other areas of functional analysis, the rank of an operator (when it's represented as a matrix) is the dimension of the subspace in which the operator acts non-trivially.\n",
        "\n",
        "The rank of an operator is the maximum number of linearly independent rows or columns of the matrix that represents the operator. In other words, it is the dimension of the subspace of the Hilbert space that the operator maps to itself.\n",
        "\n",
        "* **Rank 1 operators:** Rank 1 operators are also known as dyads. They are operators that can only project onto a one-dimensional subspace of the Hilbert space. For example, the Pauli X operator is a rank 1 operator. (->questionable)\n",
        "\n",
        "* **Rank 2 operators:** Rank 2 operators are operators that can project onto a two-dimensional subspace of the Hilbert space. For example, the Pauli Z operator is a rank 2 operator. (->questionable)\n",
        "\n",
        "* **Rank 3 operators:** Rank 3 operators are operators that can project onto a three-dimensional subspace of the Hilbert space. For example, the Pauli Y operator is a rank 3 operator. (->questionable)\n",
        "\n",
        "Higher-rank operators can also exist, but they are less common.\n",
        "\n",
        "Rank 1, 2, and 3 operators are important in quantum computing because they can be used to implement a variety of quantum algorithms and protocols. For example, the Hadamard gate is a rank 3 operator, and it is used in many quantum algorithms, such as Shor's algorithm.\n",
        "\n",
        "Here are some examples of rank 1, 2, and 3 operators in quantum computing:\n",
        "\n",
        "* **Rank 1:** Pauli X, Pauli Y, Pauli Z\n",
        "* **Rank 2:** Hadamard gate, Controlled-NOT gate\n",
        "* **Rank 3:** Toffoli gate, Swap gate\n",
        "\n",
        "I hope this helps!\n"
      ],
      "metadata": {
        "id": "OZ5QxG31fR3-"
      }
    },
    {
      "cell_type": "markdown",
      "source": [
        "**super-operator**\n",
        "\n",
        "In the field of quantum mechanics and quantum information theory, a superoperator is a type of operator that acts on other operators, rather than on states. In the context of quantum mechanics, these \"other operators\" are usually the density matrices that represent quantum states.\n",
        "\n",
        "This concept is needed because in quantum mechanics, the evolution of a system can often be represented as an operator acting on the state of the system. However, when we consider more complicated situations, like a quantum system interacting with an environment (leading to phenomena such as decoherence), the evolution of the system can involve operations that change the nature of the operator that represents the state itself. This kind of operation is represented by a superoperator.\n",
        "\n",
        "Formally, a superoperator Φ acting on an operator A would be written as Φ(A), and this results in another operator.\n",
        "\n",
        "One common example of a superoperator is the Liouville superoperator, which appears in the Liouville-von Neumann equation describing the time evolution of a quantum system. If H is the Hamiltonian of the system and ρ is the density operator, the Liouville superoperator L acting on ρ is defined as:\n",
        "\n",
        "L(ρ) = -i[H, ρ]\n",
        "\n",
        "where [ , ] denotes the commutator.\n",
        "\n",
        "***Another important class of superoperators are the completely positive trace preserving (CPTP) maps***, which are used to describe the evolution of quantum systems in the presence of decoherence. A quantum operation (also called a quantum channel) is a CPTP map and can be represented as a superoperator acting on the density matrix of a quantum state."
      ],
      "metadata": {
        "id": "1-daOZv2mFJh"
      }
    },
    {
      "cell_type": "markdown",
      "source": [
        "**For what do you need a kraus operator?**\n",
        "\n",
        "Kraus operators are a useful tool for representing and working with quantum channels, which are mathematical models that describe the evolution of quantum states due to physical processes. These processes can include both the deterministic dynamics of an isolated quantum system, and the effects of noise, dissipation, and decoherence due to interactions with an environment.\n",
        "\n",
        "Here are some specific uses for Kraus operators:\n",
        "\n",
        "1. **Modeling realistic quantum operations**: In quantum computing and quantum information theory, we often need to model not just ideal, noiseless operations (which are represented by unitary transformations), but also realistic, noisy operations. Kraus operators provide a way to do this. Each Kraus operator can represent a different possible outcome or error process that can occur during the operation.\n",
        "\n",
        "2. **Calculating the effect of a quantum channel**: Given the Kraus operators for a quantum channel, we can calculate how the channel will transform any quantum state. This is useful for predicting the results of quantum computations or quantum communications in the presence of noise.\n",
        "\n",
        "3. **Studying quantum decoherence**: Kraus operators provide a mathematical framework for studying decoherence, which is the process by which a quantum system loses its quantum properties due to interactions with its environment. Each Kraus operator can represent a different type of interaction with the environment.\n",
        "\n",
        "4. **Quantum error correction**: Kraus operators can represent different types of errors that can occur in a quantum system. This is crucial for designing quantum error correction codes, which are schemes for detecting and correcting errors in quantum computations or communications.\n",
        "\n",
        "5. **Quantum process tomography**: This is a technique for experimentally determining the Kraus operators of a quantum channel, which can provide insights into the physical processes occurring in a quantum system.\n",
        "\n",
        "Overall, Kraus operators provide a flexible and powerful mathematical tool for describing and analyzing the dynamics of quantum systems, especially in the presence of noise and other non-ideal effects.\n"
      ],
      "metadata": {
        "id": "n4Impp-7m0bj"
      }
    },
    {
      "cell_type": "markdown",
      "source": [
        "**What are Lindblad operators?**\n",
        "\n",
        "Lindblad operators (also sometimes referred to as \"jump\" operators) are a fundamental component of Lindblad equations, which are used in the field of quantum mechanics to describe the evolution of quantum systems that interact with an environment. This interaction leads to effects such as decoherence and dissipation, which are not captured by the basic Schrödinger equation.\n",
        "\n",
        "The general form of a Lindblad equation is:\n",
        "\n",
        "dρ/dt = -i[H, ρ] + Σ_k γ_k (L_k ρ L_k† - 1/2 {L_k† L_k, ρ})\n",
        "\n",
        "Here:\n",
        "\n",
        "- H is the Hamiltonian of the system, which describes its energy and governs its unitary (non-dissipative) evolution.\n",
        "- ρ is the density matrix of the system, which encapsulates the state of the system.\n",
        "- The brackets [ , ] and { , } denote the commutator and anticommutator respectively.\n",
        "- The L_k are the Lindblad operators, which describe how the system interacts with its environment.\n",
        "- The γ_k are positive decay rates associated with each Lindblad operator.\n",
        "\n",
        "Each Lindblad operator L_k represents a certain type of interaction between the quantum system and its environment. The precise form of these operators depends on the specifics of the system and its environment. For example, in a system of quantum harmonic oscillators, the Lindblad operators might be the creation and annihilation operators for each oscillator.\n",
        "\n",
        "The non-unitary part of the Lindblad equation (the second term on the right-hand side) describes how these interactions cause the system to decay towards a steady state, and is responsible for phenomena such as relaxation and decoherence. The Lindblad equation is the most general form for the time evolution of a quantum system that ensures complete positivity and trace preservation of the density matrix, two crucial physical requirements."
      ],
      "metadata": {
        "id": "2TfI0tinl43W"
      }
    },
    {
      "cell_type": "markdown",
      "source": [
        "**What‘s the difference between kraus operator and lindblatt operator?**\n",
        "\n",
        "Kraus operators and Lindblad operators are both tools used to represent and study the evolution of quantum systems, especially when these systems are interacting with an environment. However, they are used in slightly different contexts and represent different types of processes.\n",
        "\n",
        "1. **Kraus Operators**: Kraus operators are used to represent quantum channels, which are completely positive, trace-preserving (CPTP) maps that describe the evolution of quantum states. The Kraus representation is a way to express a quantum channel as a sum of terms, each of which consists of a Kraus operator acting on the quantum state. The Kraus operators can represent different types of interactions with the environment or different possible outcomes of a quantum process.\n",
        "\n",
        "2. **Lindblad Operators**: Lindblad operators are used specifically to represent the generators of Markovian, open quantum systems in the Lindblad equation (also called the Gorini–Kossakowski–Sudarshan–Lindblad equation). The Lindblad equation describes the time evolution of a quantum system that is undergoing continuous, irreversible dynamics due to its interaction with a large, uncontrolled environment (a process called \"decoherence\"). Each Lindblad operator represents a different type of interaction with the environment.\n",
        "\n",
        "So, in brief: Kraus operators are used to represent discrete transformations of quantum states in general quantum channels, while Lindblad operators are used to represent continuous, Markovian dynamics in open quantum systems.\n",
        "\n",
        "It's also worth noting that the Lindblad equation is one way to derive Kraus operators for a quantum channel, specifically when the channel represents the evolution of a system over a small time interval under continuous, Markovian dynamics. In this case, the Lindblad operators determine the form of the Kraus operators."
      ],
      "metadata": {
        "id": "hFbdLJLMm4re"
      }
    },
    {
      "cell_type": "markdown",
      "source": [
        "**Can one say that Kraus operators are bounded, and Lindblad operators unbounded? Or is that wrong?**\n",
        "\n",
        "In quantum mechanics, both Kraus and Lindblad operators act on a finite-dimensional Hilbert space (when we're considering finite quantum systems such as qubits, which are the building blocks of quantum computers), and hence they are indeed bounded operators. A bounded operator is an operator that doesn't amplify any vector in the Hilbert space by more than a certain factor, the operator norm.\n",
        "\n",
        "When the quantum system is finite-dimensional, the concepts of \"bounded\" and \"unbounded\" don't really come into play, because all operators on a finite-dimensional Hilbert space are automatically bounded.\n",
        "\n",
        "However, if you are considering infinite-dimensional systems, such as quantum fields or harmonic oscillators, then it becomes meaningful to talk about bounded and unbounded operators. In this case, Lindblad operators (the ones appearing in the Lindblad equation, governing the dynamics of open quantum systems) are typically unbounded.\n",
        "\n",
        "This difference arises because the Lindblad equation is a differential equation, and the Lindblad operators often represent physical quantities such as position and momentum, which are unbounded operators on infinite-dimensional Hilbert spaces. On the other hand, a Kraus representation of a quantum channel represents the action of the channel on the quantum state at a specific point in time, and this action can usually be expressed in terms of bounded operators.\n",
        "\n",
        "But to summarize, in the finite-dimensional case (which is the relevant case for most quantum computing applications), both Kraus and Lindblad operators are bounded. In the infinite-dimensional case, Kraus operators are generally still bounded, while Lindblad operators can be unbounded.\n"
      ],
      "metadata": {
        "id": "0SJBdUtqnADp"
      }
    },
    {
      "cell_type": "markdown",
      "source": [
        "**Do you have an example of a Kraus operator and a Lindblad operator in the context of quantum computing?**\n",
        "\n",
        "Sure, I can provide some simple examples of both Kraus and Lindblad operators in the context of quantum computing.\n",
        "\n",
        "1. **Kraus Operators**: Kraus operators are used to describe the evolution of quantum states in the presence of noise or decoherence. They form a set of matrices {K_i} such that the sum of the Hermitian conjugates of each K_i times K_i is the identity matrix.\n",
        "\n",
        "    For instance, let's consider a single qubit undergoing bit flip error with a certain probability p. The error can be described by two Kraus operators:\n",
        "\n",
        "    K_0 = sqrt(1-p) * I,\n",
        "    K_1 = sqrt(p) * X,\n",
        "\n",
        "    where I is the identity operator and X is the Pauli-X operator. These operators satisfy the condition K_0†K_0 + K_1†K_1 = I, which ensures the resulting quantum state is still a valid density matrix.\n",
        "\n",
        "2. **Lindblad Operators**: Lindblad operators (also known as jump operators) are used in the Lindblad equation, which describes the time evolution of an open quantum system.\n",
        "\n",
        "    For instance, a common Lindblad operator for a single qubit undergoing amplitude damping (energy relaxation) is:\n",
        "\n",
        "    L = sqrt(γ) * |0><1|,\n",
        "\n",
        "    where |0> and |1> are the computational basis states of the qubit, and γ is the damping rate. This Lindblad operator represents the process of the qubit transitioning from the excited state |1> to the ground state |0>.\n",
        "\n",
        "    In the context of a Lindbladian superoperator (describing the complete evolution), you might see this operator appearing in a term like L ρ L† in the master equation.\n",
        "\n",
        "These are quite simplified examples. In practice, the Kraus and Lindblad operators for a realistic quantum system could be more complex and might depend on the specific physical details of the system.\n",
        "\n"
      ],
      "metadata": {
        "id": "Zyvxk6BPnnh8"
      }
    },
    {
      "cell_type": "markdown",
      "source": [
        "**What is an example of unbounded operators that lead to pathological behavior in the study of infinite-dimensional spaces in functional analysis?**\n",
        "\n",
        "Unbounded operators in infinite-dimensional spaces often require careful treatment because they can lead to \"pathological\" behavior, i.e., behavior that violates our usual intuitions or expectations based on finite-dimensional spaces.\n",
        "\n",
        "One classical example is the momentum operator in quantum mechanics, which is defined on the space of square-integrable functions over the real numbers (which is an infinite-dimensional space). The momentum operator is given by -iħd/dx, where i is the imaginary unit, ħ is the reduced Planck constant, and d/dx is the derivative operator.\n",
        "\n",
        "This operator is unbounded, meaning there's no finite number B such that the norm of the momentum operator acting on any state is less than or equal to B times the norm of the state. As a result, the momentum operator can't be defined on the entire Hilbert space, but only on a dense subset (the set of differentiable functions, in this case).\n",
        "\n",
        "One \"pathological\" behavior of the momentum operator is that it doesn't have any eigenstates that belong to the Hilbert space. In quantum mechanics, we often want to find eigenstates of operators because these correspond to \"observable\" states of the system with definite values of the associated physical quantity. For the momentum operator, the eigenstates are plane waves, which are not square-integrable and hence do not belong to the Hilbert space.\n",
        "\n",
        "This behavior is quite different from what we see with bounded operators, where the eigenstates always belong to the same space as the operator. In order to deal with this kind of issue, physicists often have to introduce additional mathematical structures, such as rigged Hilbert spaces, or use indirect methods, such as the spectral theorem for unbounded self-adjoint operators, to make sense of the physical meaning of unbounded operators like the momentum operator."
      ],
      "metadata": {
        "id": "0ZubXnvmnE2b"
      }
    },
    {
      "cell_type": "markdown",
      "source": [
        "**sign structure in quantum operators**\n",
        "\n",
        "The term \"sign structure\" is not standard terminology in quantum mechanics, so it may be interpreted in different ways depending on the context. In general, the mathematical operators used in quantum mechanics can have complex values and can act on complex-valued wavefunctions or on operators themselves, so they don't have a \"sign\" in the way that real numbers do.\n",
        "\n",
        "However, there are a few contexts where the notion of sign can be important in quantum mechanics:\n",
        "\n",
        "1. **Parity**: The parity operator is a specific quantum mechanical operator that represents spatial inversion (flipping the sign of the spatial coordinates). Eigenstates of the parity operator can have positive or negative eigenvalues, often interpreted as \"even\" or \"odd\" parity.\n",
        "\n",
        "2. **Spin**: In quantum mechanics, particles like electrons have a property called spin, which can take on positive or negative values (typically +1/2 or -1/2 for electrons).\n",
        "\n",
        "3. **Commutation relations**: Certain pairs of quantum operators have commutation relations that involve the imaginary unit \"i\", which could be interpreted as a kind of \"sign\" structure. For example, the position operator x and momentum operator p have the commutation relation [x, p] = iħ, where ħ is the reduced Planck's constant.\n",
        "\n",
        "4. **Phase factors**: In quantum mechanics, the overall sign (or more generally, phase factor) of a wavefunction is not observable, which leads to the principle of quantum superposition and interference effects.\n",
        "\n",
        "If you're asking about a specific aspect of quantum mechanics or a specific type of quantum operator, I'd be happy to provide more information!"
      ],
      "metadata": {
        "id": "fgSc_9VsmNdN"
      }
    },
    {
      "cell_type": "markdown",
      "source": [
        "**what is meant by the sign of a trace?**\n",
        "\n",
        "The \"sign\" of a trace simply refers to whether the trace of a matrix (or operator in the context of quantum mechanics) is positive, negative, or zero.\n",
        "\n",
        "The trace of a matrix is the sum of its diagonal elements. If this sum is greater than zero, we say that the trace (and hence the matrix or operator) is positive. If the sum is less than zero, the trace is negative. If the sum is exactly zero, the trace is zero.\n",
        "\n",
        "This concept is often used in the context of quantum mechanics, where the trace of an operator can provide important physical information. For example, in the context of quantum density matrices, a trace of one is associated with a valid physical state.\n",
        "\n",
        "Please note that the sign of the trace of a matrix does not necessarily indicate that all elements, or even all eigenvalues, of the matrix are of the same sign. It's possible for a matrix to have both positive and negative eigenvalues but for their sum (i.e., the trace) to be positive, negative, or zero. Similarly, it's possible for a matrix to have positive and negative elements but for their diagonal sum (i.e., the trace) to be positive, negative, or zero."
      ],
      "metadata": {
        "id": "2LjS8JA23j-T"
      }
    },
    {
      "cell_type": "markdown",
      "metadata": {
        "id": "RscthBMzOLUM"
      },
      "source": [
        "###### *Schrödinger Equation*"
      ]
    },
    {
      "cell_type": "markdown",
      "source": [
        "Video: [Hamiltonian Time Evolution](https://youtu.be/1zrtUmXR7Ew?si=bL-UX6NIPzbu1zV2)"
      ],
      "metadata": {
        "id": "IcfleABCelIy"
      }
    },
    {
      "cell_type": "markdown",
      "source": [
        "**Understand effects of environment (noise)**\n",
        "\n",
        "A spin does not indefinitely precess around the magnetic field (according to the Schrödinger equation), because it interacts with the environment (electrons, photons, nuclear spins from outside), which makes it stop. (Lots of noise = degrees of freedom that interact)\n",
        "\n",
        "[Universal Lindblad equation for open quantum systems - Frederik Nathan](https://www.youtube.com/watch?v=j5yW2MtOwwA&list=WL&index=10&t=294s)\n",
        "\n",
        "Impossible to track evolution of entire universe: If the universe is 10^26 degrees of freedom then we need 2^10^26 numbers to just keep track of the wave function.\n",
        "\n",
        "Impossible to solve the Schrodinger equation for an open quantum system\n",
        "\n",
        "> $\\begin{gathered}H=H_{\\mathrm{S}}+H_{\\mathrm{B}}+\\sqrt{\\gamma} X B \\\\ \\left|\\psi_0\\right\\rangle=\\left|\\psi_S\\right\\rangle \\times\\left|\\psi_B\\right\\rangle \\quad \\partial_t|\\psi(t)\\rangle=-i H|\\psi(t)\\rangle\\end{gathered}$\n",
        "\n",
        "instead: use reduced density matrix that encodes all information of the system:\n",
        "\n",
        "> $\\rho(t)=\\operatorname{Tr}_{\\mathrm{B}}|\\psi(t)\\rangle(\\psi(t) \\mid, \\quad\\langle(t))=\\operatorname{Tr}[O \\rho(t)]$"
      ],
      "metadata": {
        "id": "8FPtRRg90PbB"
      }
    },
    {
      "cell_type": "markdown",
      "metadata": {
        "id": "MIrMWsUSPKj2"
      },
      "source": [
        "> for fast moving electrons or electrons in electro-magnetic fields, the Schroedinger equation gives the wrong answers (see quantum field theory, spinor field)\n",
        "\n",
        "<font color=\"blue\">**From Newton's 2nd Law of Motion to the Schrödinger Equation**\n",
        "\n",
        "**Step 1: Starting with Newton's 2nd law of motion**\n",
        "\n",
        "* let's assume a particle is moving along an x-axis and we apply several forces on it $\\overrightarrow{F}_1$, $\\overrightarrow{F}_2$, .. $\\overrightarrow{F}_n$\n",
        "\n",
        "* these forces depend on the position $x$ of the particle and the time elapsed $t$\n",
        "\n",
        "Then we can find the particle's position $x$ as a function of time using **Newton's 2nd law**:\n",
        "\n",
        "> $\\vec{F}_{net}=\\sum \\vec{F}_{i}(x, t)=m \\vec{a}  \\quad(\\text { Newton's 2nd law })$\n",
        "\n",
        "But the law of acceleration $\\vec{a}$ can be also written as the second time derivative of position, so we end up with a [governing equation](https://en.wikipedia.org/wiki/Governing_equation) like this, the **Equation of Motion**:\n",
        "\n",
        "> $m \\frac{d^{2} x}{d t^{2}}=\\sum_{i=1}^{n} F_{i}(x, t) \\quad(\\text { Equation of Motion })$\n",
        "\n",
        "* (another way of writing it is: $m \\ddot x = -kx$, see Colab 'Variationsrechnung')\n",
        "\n",
        "* Once we solve this equation for the particle's position, we could infer many things about the particle's state, such as its velocity, kinetic energy etc.\n",
        "\n",
        "* *Exkurs: The governing equations of a mathematical model describe how the values of the unknown variables (i.e. the dependent variables) change when one or more of the known (i.e. independent) variables change*\n",
        "\n",
        "**Step 2: Schrödinger Equation & Operator /Functionals**\n",
        "* The goal of quantum mechanics is to solve the Schrödinger Equation, which is very similar conceptually\n",
        "\n",
        "> $i \\hbar \\frac{\\partial \\Psi}{\\partial t}=\\frac{-\\hbar^{2}}{2 m} \\frac{\\partial^{2} \\psi}{\\partial x^{2}}+V \\psi$\n",
        "\n",
        "\n",
        "* in contrast to classical equation of motion, where we solve for position and then get velocity, kinetic energy etc about particle's state, **in the Schrodinger equation we solve for wavefunction** $\\psi$! (because that is kind of it's position :)\n",
        "\n",
        "  * $\\frac{-\\hbar^{2}}{2 m} \\frac{\\partial^{2}}{\\partial x^{2}}$ this is the Kinetic energy operator $L$ on the wavefunction $\\psi$\n",
        "\n",
        "  * $V$ represents the potential energy operator\n",
        "\n",
        "<font color=\"red\">**In quantum mechanics we use the term operator because you generally don't get fixed numerical values for kinetic and potential energy.**</font>\n",
        "\n",
        "* Instead you need to perform operations on the wavefunction to extract those kinetic and potential energy values. That's what these operators do.\n",
        "\n",
        "* You can think of Schrodinger equation as a statement of energy conservation: kinetic energy + potential energy = total energy (which is on the left side of the v)\n",
        "\n",
        "**Step 3: Wavefunction & (Dirac) Delta Function**\n",
        "\n",
        "* the wavefunction represents the state of a system - related to the probability of finding a particle at a particular region in the domain which it occupies\n",
        "\n",
        "* the square of the norm of the wavefunction gives the probability density function of a particle.\n",
        "\n",
        "* if you integrate this norm squared over the entire domain you will get 1\n",
        "\n",
        "> $\\int_{-\\infty}^{\\infty}|\\Psi|^{2} d x=1$\n",
        "\n",
        "* you can't tell exactly where the position of a particle is before measurement, just a probability, same for velocity, momentum, kinetic energy etc.\n",
        "\n",
        "* But if you **apply the measurement operator, you change the wavefunction**! after one measurement, or further measurements will always get you the same result\n",
        "\n",
        "**So instead of being a probability distribution that covers multiple values, <font color=\"red\">by taking a measurement I change the wavefunction to a [delta function](https://de.wikipedia.org/wiki/Delta-Distribution) with one spike at what my measurement gave me. If I take more measurement on the same system, the delta function doesnt change.</font> This is called the wavefunction collapse.**\n",
        "\n",
        "![ggg](https://raw.githubusercontent.com/deltorobarba/repo/master/quantum_174.png)\n",
        "\n",
        "* However, if I let the system settle so that it eventually occupies its original wavefunction it had and then if I take my measurement, I might get something different according to the probability distribution corresponding to my original wavefunction\n",
        "\n",
        "![ggg](https://raw.githubusercontent.com/deltorobarba/repo/master/quantum_175.png)\n",
        "\n",
        "**Step 4: Partial Differential Equation**\n",
        "\n",
        "> $i \\hbar \\frac{\\partial \\Psi}{\\partial t}=\\frac{-\\hbar^{2}}{2 m} \\frac{\\partial^{2} \\psi}{\\partial x^{2}}+V \\psi$\n",
        "\n",
        "* when solving a partial differential equation we also need auxiliary conditions in order to determine the unknown constants that you get from the integration process that's inherent in solving a differential equation\n",
        "\n",
        "* auxiliary conditions = initial conditions and boundary conditions\n",
        "\n",
        "* however the Schrodinger equation doesn't come with your typical boundary conditions that you might be used to seeing\n",
        "\n",
        "**Instead,the auxiliary condition we have on our solution is the normalization constraint: $\\int_{-\\infty}^{\\infty}|\\Psi|^{2} d x=1$**\n",
        "\n",
        "* Solutions to the Schrodinger equation have two be normalizable because they are wavefunctions, and in a way they represent probability density functions\n",
        "\n",
        "\t* if the solutions to Schrodinger's equation are not normalizable, we can't use them to represent a physical system\n",
        "\n",
        "\t* the trivial solution $\\psi$ (x,t) = 0 is not normalizable, because its integral from negative infinity to infinity will always be 0, it can never be 1, which is why $\\psi$ (x,t) = 0 is an unphysical solution, because the particle has to be somewhere\n",
        "\n",
        "**Step 5: Solving Schrodinger's Equation under the normalization condition**\n",
        "\n",
        "Let's say we solve Schrodinger's equation and we get following solution:\n",
        "\n",
        "> $\\Psi (x,t) = A f(x,t)$ with $A$ being an arbitrary constant\n",
        "\n",
        "* The process of normalization is to find the value of the constant $A$ so that the solution obeys the normalization condition:\n",
        "\n",
        "> $\\int_{-\\infty}^{\\infty}|\\psi|^{2} d x=\\int_{-\\infty}^{\\infty}|A f|^{2} d x = 1$\n",
        "\n",
        "* we might end up with a difficult task if the wavefunction is dependent on time, which means it has a different shape for different times, then wouldn't the normalization constant change with time as well?\n",
        "\n",
        "* the answer is NO!\n",
        "\n",
        "**Theorem**: If you normalize the wavefunction once then you don't need to normalize for other times = the normalization stays preserved !\n",
        "\n",
        "**Proof**:\n",
        "\n",
        "* the norm squared of a wavefunction is just the complex conjugate of that wavefunction time the wavefunction: $|\\psi|^{2}=(\\psi)^{*} \\psi$\n",
        "\n",
        "* if we go back to the Schrodinger equation we would see that the complex conjugate of the equation would be something like this with all they size turned into their conjugates and all the imaginary terms with their signs switched:\n",
        "\n",
        "> $i \\hbar \\frac{\\partial \\Psi}{\\partial t}=\\frac{-\\hbar^{2}}{2 m} \\frac{\\partial^{2} \\psi}{\\partial x^{2}}+V \\psi$\n",
        "\n",
        "> $-i \\hbar \\frac{\\partial \\psi^{*}}{\\partial t}=\\frac{-\\hbar^{2}}{2 m} \\frac{\\partial^{2} \\psi^{*}}{\\partial x^{2}}+V \\psi^{*}$\n",
        "\n",
        "* the goal of the proof is to show that this normalization integral $\\int_{-\\infty}^{\\infty}|\\psi|^{2} d x=$ const doesn't change with time, it stays the same:\n",
        "\n",
        "* the way to do this is to take the time derivate: if we can show that the time derivative of the normalization integral is 0 then our proof is complete $\\frac{d}{a t}\\left[\\int_{-\\infty}^{\\infty}|\\varphi|^{2} d x\\right]=0$\n",
        "\n",
        "* see complete proof in [video](https://www.youtube.com/watch?v=kUm4q0UIpio&list=WL&index=72&t=651s)"
      ]
    },
    {
      "cell_type": "markdown",
      "metadata": {
        "id": "6HCh0gYIJv8x"
      },
      "source": [
        "<font color=\"blue\">**Schrödinger Equation (Time Independent / Eigenvalue Equation)**</font>\n",
        "\n",
        "Time independent = Total energy of a system does NOT change with time\n",
        "\n",
        "**The Schroedinger equation can be written as a type of Eigenvalue equation**\n",
        "\n",
        "> $\\hat{H}|\\psi\\rangle= -i \\hbar \\frac{d}{d t}|\\psi\\rangle =\\frac{\\hbar}{i} \\frac{d}{d t}|\\psi\\rangle$\n",
        "\n",
        "**Simplified (when system is not changing over time: time-independent Schroedinger equation):**\n",
        "\n",
        "> $\\hat{H}|\\psi\\rangle=E |\\psi\\rangle$\n",
        "\n",
        "![ggg](https://raw.githubusercontent.com/deltorobarba/repo/master/quantum_151.png)\n",
        "\n",
        "> $E \\Psi(x)=\\frac{-\\hbar^{2}}{2 m} \\frac{d^{2} \\Psi(x)}{d x^{2}}+V \\Psi(x)$\n",
        "\n",
        "* E = **Energy the electron** is allowed to have\n",
        "\n",
        "* $\\Psi$ = **Wavefunction** (most likely position of an electron)\n",
        "\n",
        "* **Kinetic energy**: $\\frac{-\\hbar^{2}}{2 m} \\frac{d^{2} \\Psi(x)}{d x^{2}}$ (klassische Form: $K E=\\frac{1}{2} m v^{2}$)\n",
        "\n",
        "* **Potential energy**: $V \\Psi(x)$\n"
      ]
    },
    {
      "cell_type": "markdown",
      "metadata": {
        "id": "9ELVzEm879_7"
      },
      "source": [
        "*What would a typical Schroedinger solution look like? - All the solutions to the wave function take these two forms:*\n",
        "\n",
        "> $\\Psi(x)=\\sqrt{\\frac{2}{L}} \\cos \\left(\\frac{\\pi n x}{L}\\right)$ when $n=1,3,5 \\ldots$ (is odd $)$\n",
        "\n",
        "> $\\Psi(x)=\\sqrt{\\frac{2}{L}} \\sin \\left(\\frac{\\pi n x}{L}\\right)$ when $n=2,4,6 \\ldots$ (is even)\n",
        "\n",
        "*Now looking at $\\psi$, the probable position of an electron:*\n",
        "\n",
        "* central question: where is the electron?\n",
        "\n",
        "* n is the energy state / level of an electron (look above at quantum numbers)\n",
        "\n",
        "* When an electron is state n=1 (its first energy state) we apply the first formula: $\\Psi(x)=\\sqrt{\\frac{2}{L}} \\cos \\left(\\frac{\\pi n x}{L}\\right)$\n",
        "\n",
        "* then we get wave function for the electron that is in a given box in this case:\n",
        "\n",
        "![ggg](https://raw.githubusercontent.com/deltorobarba/repo/master/quantum_147.png)\n",
        "\n",
        "* And if we square it, we get the probability distribution (the probable position of an electron):\n",
        "\n",
        "![ggg](https://raw.githubusercontent.com/deltorobarba/repo/master/quantum_148.png)\n",
        "\n",
        "\n",
        "* And here some wave functions and probability densities for other energy states:\n",
        "\n",
        "![ggg](https://raw.githubusercontent.com/deltorobarba/repo/master/quantum_149.png)\n",
        "\n",
        "*And the solution that popped out was this:*\n",
        "\n",
        "> $E=\\frac{\\hbar^{2} n^{2} \\pi^{2}}{2 m L^{2}}$\n",
        "\n",
        "* Everything is a constant ($\\hbar$, $\\pi$, 2, m, L) or a whole number (here: n, which stands for the different states of an electron)\n",
        "\n",
        "* which means that energy E can ony have certain discrete (=quantum) values\n",
        "\n"
      ]
    },
    {
      "cell_type": "markdown",
      "metadata": {
        "id": "iIv5tk_B7h9Q"
      },
      "source": [
        "<font color=\"blue\">**How to solve the Schrödinger Equation (Time Independent)**\n",
        "\n",
        "Assumption: particle is moving on one line between 0 and a and limited by infinite blocks left and right, where its probability is 0 and the potential energy infinite = this means that the particle can only be found on the line between 0 and a.\n",
        "\n",
        "[SOLVING the SCHRODINGER EQUATION | Quantum Physics by Parth G](https://www.youtube.com/watch?v=sPZWtZ8vt1w)\n",
        "\n",
        "**Step 1: Take Schrodinger Equation, remove $V$ and focus on differential equation of kinetic energy term**\n",
        "\n",
        "* now we want to compute the wavefunction of this particle with the (Time Independent) Schrödinger Equation\n",
        "\n",
        "> $\\frac{-\\hbar^{2}}{2 m} \\frac{d^{2} \\Psi}{d x^{2}}+V \\Psi=E \\Psi$\n",
        "\n",
        "* the potential energy V is zero between 0 and a because nothing influences the particle, so it becomes this **differential equation** that we need to solve:\n",
        "\n",
        "> $\\frac{-\\hbar^{2}}{2 m} \\frac{d^{2} \\Psi}{d x^{2}}=E \\Psi$\n",
        "\n",
        "* $\\frac{d^{2} \\Psi}{d x^{2}}$ is second derivative of $\\Psi$ with respect to x\n",
        "\n",
        "We want to solve this equation:\n",
        "\n",
        "> $\\frac{-\\hbar^{2}}{2 m}$ <font color=\"red\">$ \\frac{d^{2} \\Psi}{d x^{2}}$</font> $=E \\Psi$\n",
        "\n",
        "* Normally try to solve <font color=\"red\">$ \\frac{d^{2} \\Psi}{d x^{2}}$</font> which is second derivative of $\\Psi$ with respect to x, when you know what $\\Psi$ is,\n",
        "\n",
        "* but we don't. We want to go the other way around, which is trickier.\n",
        "\n",
        "**Step 2: Rearrange the constants**\n",
        "\n",
        "Luckily we have two constants in our equation (blue):\n",
        "\n",
        "> <font color=\"blue\">$\\frac{-\\hbar^{2}}{2 m}$</font> $ \\frac{d^{2} \\Psi}{d x^{2}}$ = <font color=\"blue\">$E$</font> $\\Psi$\n",
        "\n",
        "Which means we can rearrange the equation to this:\n",
        "\n",
        "> $ \\frac{d^{2} \\Psi}{d x^{2}}$ = <font color=\"blue\">$\\frac{-2m E}{\\hbar^{2}}$</font>  $\\Psi$\n",
        "\n",
        "Now we can combine all constants in one constant $-k^2$ = $\\frac{-2m E}{\\hbar^{2}}$\n",
        "\n",
        "> $ \\frac{d^{2} \\Psi}{d x^{2}}$ = <font color=\"blue\">$-k^2$</font>  $\\Psi$\n",
        "\n",
        "**Step 3: Identify suitable function for this equation**\n",
        "\n",
        "* So which type of function obeys this relation $ \\frac{d^{2} \\Psi}{d x^{2}}$ = <font color=\"blue\">$-k^2$</font>  $\\Psi$? - Would be a [sinusoid](https://de.wikipedia.org/wiki/Sinusoid)!\n",
        "\n",
        "* $\\frac{d^2 y}{d x^{2}}=-y$ - when you start with a sine and differentiate it twice you still end up with a sinusoidal term\n",
        "\n",
        "* so if we carefully account for the constants in our equation, our solution is going to look like a sinusoid:\n",
        "\n",
        "> $\\Psi$ = $\\sin \\left(\\frac{\\sqrt{2 m E}}{\\hbar} x\\right)$ and replacing <font color=\"blue\">$\\frac{\\sqrt{2 m E}}{\\hbar}$</font> with $k$ $\\rightarrow$ $\\Psi$ = $\\sin ($ <font color=\"blue\">$k$</font> $x)$\n",
        "\n",
        "*Compare this with before (above is no minus and root taken is first term):*\n",
        "\n",
        "> $ \\frac{d^{2} \\Psi}{d x^{2}}$ = <font color=\"blue\">$\\frac{-2m E}{\\hbar^{2}}$</font>  $\\Psi$ =  <font color=\"blue\">$-k^2$</font>  $\\Psi$\n",
        "\n",
        "![ggg](https://raw.githubusercontent.com/deltorobarba/repo/master/quantum_176.png)\n",
        "\n",
        "**Step 4: Work our the boundaries to solve the differential equation, which means to get wavefunction**\n",
        "\n",
        "\n",
        "**When x = 0 $\\rightarrow$ $\\Psi$ = 0**\n",
        "\n",
        "* so at the wall at point a $\\Psi$ = 0, so that we first derivative is not getting infinite!\n",
        "\n",
        "* this works quite nice with sinusoidal, since $\\Psi = sin(kx)$ $\\rightarrow$ 0 = sin(k(0)) = 0\n",
        "\n",
        "**When x = a $\\rightarrow$ $\\Psi$ = 0**\n",
        "\n",
        "* 0 = sin(k(a)) since $\\Psi$ = sin(kx) $\\rightarrow$ 0 = sin(k(a)) = 0\n",
        "\n",
        "* we essentially find a restriction on the kind of sine wave that we can have as a solution\n",
        "\n",
        "* for example half a sine wave is a possible solution\n",
        "\n",
        "  * it's y=0 at point x=0 and x=a (at the walls), so $sin(ka) = 0$\n",
        "\n",
        "  * so we went through half a sine wave which means that this part in brackets (ka) must be equal to 180 degrees (because that's half a sine wave) $y = \\frac{1}{2}sin(x)$\n",
        "\n",
        "  * and if we use radians instead of degrees, which is the other unit of measuring angles, and a much more natural unit of measuring angles, then 180 degrees is actually equal to <font color=\"blue\">$\\pi$ radians = (ka)</font>\n",
        "\n",
        "  * So: $y = \\frac{1}{2}sin(x) = \\pi$\n",
        "\n",
        "* this means that this equation holds true if our wavefunction is half a sine wave <font color=\"blue\">$(ka)$ = $\\pi$ = $\\frac{\\sqrt{2m E}}{\\hbar}a$</font> , recall: k = $\\frac{\\sqrt{2m E}}{\\hbar}$\n",
        "\n",
        "* from earlier: $\\Psi$ = $\\sin \\left(\\frac{\\sqrt{2 m E}}{\\hbar} x\\right)$ =  $\\sin ($ <font color=\"blue\">$k$</font> $x)$\n",
        "\n",
        "**Step 5: Rearrange that equation to get the energy value**\n",
        "\n",
        "\n",
        "* and if we rearrange that <font color=\"blue\">$(ka)$ = $\\frac{\\sqrt{2m E}}{\\hbar}a$ = $\\pi$ </font> we have something that tells us the value of the energy $E$:\n",
        "\n",
        "> $E=\\frac{h^{2} \\pi^{2}}{2 m a^{2}}$\n",
        "\n",
        "* (with reduced Planck constant: $\\hbar=\\frac{h}{2 \\pi} =1.054571817 \\ldots \\times 10^{-34} \\mathrm{~J} \\cdot \\mathrm{s}$)\n",
        "\n",
        "![ggg](https://raw.githubusercontent.com/deltorobarba/repo/master/quantum_178.png)\n",
        "\n",
        "* in other words: if our wavefunction looks like this (half a sine function), then the energy of our particle is this $E=\\frac{h^{2} \\pi^{2}}{2 m a^{2}}$\n",
        "\n",
        "* another possibe solution is a full sine wave fitting into this region, just that the value at the end of the wall is 360 degrees, because we went through the whole sine wave = 2*$\\pi$ radians\n",
        "\n",
        "  * if the wavefunction looks like a whole sine wave <font color=\"blue\">$\\frac{\\sqrt{2m E}}{\\hbar}a$</font> = 2*$\\pi$\n",
        "\n",
        "  * then the  energy of the particle is $E=\\frac{4h^{2} \\pi^{2}}{2 m a^{2}}$\n",
        "\n",
        "* We can continue doing this for lots of half sine waves, so we could have three or four half fine waves in our region - and in each case we can calculate the energy of a particle when its wavefunction looks like those sine waves.\n",
        "\n",
        "![ggg](https://raw.githubusercontent.com/deltorobarba/repo/master/quantum_177.png)\n",
        "\n",
        "* This phenomenom is called \"Quantization\".\n",
        "\n",
        "  * because we can only have specific wave functions, and they correspond to specific energies, a particle can therefore only have specific energies\n",
        "\n",
        "  * so it cannot be anyhting in between and it cannot be less than the minimum of half a sine wave $E_{1}=\\frac{h^{2} \\pi^{2}}{2 m a^{2}}$\n",
        "\n",
        "  * this is also why for this particular setup cosine doesnt work (normally it does though) $\\Psi=\\cos \\left(\\frac{\\sqrt{2 m E}}{\\hbar} x\\right)$\n",
        "\n",
        "**Step 6: Normalization to get probabilities**\n",
        "\n",
        "*Normalization of the wavefunction*\n",
        "\n",
        "* there is one more thing to consider when finding a solution to the Schrodinger equation: Normalization\n",
        "\n",
        "> $\\Psi = \\sqrt{\\frac{2}{a}} \\sin \\left(\\frac{\\sqrt{2 m E}}{\\hbar} x\\right)$\n",
        "\n",
        "* it adds a factor of $\\sqrt{\\frac{2}{a}}$ to our solution\n",
        "\n",
        "* physical meaning: if our particle is in the lowest energy level $E_1$. Then in our specific setup with the two walls the wavefunction looks like half a sine wave. And remember the wavefunction corresponds directly to the probability of us finding that particle at a particular point in space. And this relationshipn is if we square our wavefunction $|\\Psi|^2$ (we take the square modulus), then we get the probability"
      ]
    },
    {
      "cell_type": "markdown",
      "metadata": {
        "id": "LnCYfCNzqmG9"
      },
      "source": [
        "<font color=\"blue\">**Schrödinger Equation (Time Dependent)**\n",
        "\n",
        "**Consider: Difference of probability in the position basis (changes over time) and the energy basis (doesn't change):**\n",
        "\n",
        "> <font color=\"red\">**The electron is still in the same shell, represented by the principal quantum number for example, because if the electron changes the shell, energy needs to be added or removed from the overall system. however if energy stays the same, it means the electron is still in the same shell, but \"moving\" around = probability distribution of finding it somewhere in this shell changes over time which is represented by the rotation $e^{i \\frac{\\hat{H} * t}{\\hbar}}$**</font>\\\n",
        "\n",
        ">$\n",
        "\\left[-\\frac{\\hbar^{2}}{2 m} \\nabla^{2}+V(\\vec{r})\\right] \\psi(\\vec{r})=E \\psi(\\vec{r})\n",
        "$\n",
        "\n",
        "The object on the left that acts on $\\psi(x)$ is an example of an operator.\n",
        "\n",
        ">$\n",
        "\\left[-\\frac{\\hbar^{2}}{2 m} \\nabla^{2}+V(\\vec{r})\\right]\n",
        "$ = Operator\n",
        "\n",
        "In effect, what is says to do is \"take the second derivative of $\\psi(x)$, multiply the result by $-\\left(\\hbar^{2} / 2 m\\right)$ and then add $V(x) \\psi(x)$ to the result of that.\"\n",
        "\n",
        "Quantum mechanics involves many different types of operators. This one, however, plays a special role because it appears on the left side of the Schrödinger equation. **It is called the Hamiltonian operator and is denoted as**\n",
        "\n",
        "> $\n",
        "\\hat{H}=-\\frac{\\hbar^{2}}{2 m} \\nabla^{2}+V(\\vec{r})\n",
        "$\n",
        "\n",
        "**Therefore the time-dependent Schrödinger equation can be written as**:\n",
        "\n",
        "> $\n",
        "\\hat{H} \\psi(x, t)=i \\hbar \\frac{\\partial}{\\partial t} \\psi(x, t)\n",
        "$\n",
        "\n",
        "with $\\hat{H}$ = $(-\\frac{\\hbar^{2}}{2 m} \\nabla^{2}+V(\\vec{r}))$ will be:\n",
        "\n",
        "> $\n",
        "(-\\frac{\\hbar^{2}}{2 m} \\nabla^{2}+V(\\vec{r})) \\; \\psi(x, t)=i \\hbar \\frac{\\partial}{\\partial t} \\psi(x, t)\n",
        "$\n",
        "\n",
        "bzw. rewritten:\n",
        "\n",
        "> $\\left[-\\frac{\\hbar^{2}}{2 m} \\frac{\\partial^{2}}{\\partial x^{2}}+V(x, t)\\right] \\Psi(x, t) = i \\hbar \\frac{\\partial}{\\partial t} \\Psi(x, t)$\n",
        "\n",
        "bzw written in another way (single particle variant):\n",
        "\n",
        "> <font color=\"red\">$[-\\frac{\\hbar^{2}}{2 m} \\nabla^{2} $</font> + <font color=\"green\">$V(x, t)$</font> ]\n",
        " <font color=\"blue\">$|\\psi\\rangle$</font> = $i \\hbar \\frac{\\partial}{\\partial t}$ <font color=\"blue\">$|\\psi\\rangle$</font>\n",
        "\n",
        "* <font color=\"red\">$[-\\frac{\\hbar^{2}}{2 m} \\nabla^{2} $</font> Kinetic energy\n",
        "\n",
        "* <font color=\"green\">$V(x, t)$</font> Potential energy\n",
        "\n",
        "* <font color=\"blue\">$|\\psi\\rangle$</font>  the wave function\n",
        "\n",
        "<font color=\"blue\">*Schrodinger equation: Derivation and how to use it (in Time Evolution)*\n",
        "\n",
        "Important rules of physics:\n",
        "\n",
        "* Conservation of energy -> deeply integrated into Schrodinger equation\n",
        "* total energy doesn't change\n",
        "* you can't make of destroy energy\n",
        "\n",
        "**Since we can write a quantum state $|\\Psi \\rangle$ in whatever basis we want, we can choose the energy Eigenbasis**. <font color=\"red\">what is meant by that? is that the principle quantum number for example</font>\n",
        "\n",
        "* We can write a state as the superposition of different energies.\n",
        "\n",
        "* And if we measure the energy of the particle it will be one of these with their probability\n",
        "\n",
        "> $|\\Psi \\rangle$ = $\\alpha |\\Psi \\rangle + \\beta |\\Psi \\rangle + \\gamma |\\Psi \\rangle$\n",
        "\n",
        "* with probability for example $|\\beta|^2$ for measuring second state\n",
        "\n",
        "**Say the state evolves in time, in other words we apply the time evolution $U$ (or $T$) to $|\\Psi \\rangle$, so $T |\\Psi \\rangle$**\n",
        "\n",
        "* what condition do we want to impose on the new energies of the state?\n",
        "\n",
        "* In other words: how we want conservation of energy to look in quantum mechanics?\n",
        "\n",
        "**Let's start where a particle just has one energy $E$ when we start**\n",
        "\n",
        "* means: it is an energy Eigenstart !!\n",
        "\n",
        "* we evolve it forward in time and look at the energy of the new state. That energy should be also $E$, otherwise energy wouldn't be conserved (Like in classical mechanics).\n",
        "\n",
        "> $|\\Psi \\rangle$ = $|1 \\rangle$ $\\rightarrow$ $T|\\Psi \\rangle$\n",
        "\n",
        "* Now also the average energy shouldn't change after some time, otherwise the energy wouldn't be conserved either.\n",
        "\n",
        "> $|\\Psi \\rangle$ = $\\alpha |\\Psi \\rangle + \\beta |\\Psi \\rangle + \\gamma |\\Psi \\rangle$\n",
        "\n",
        "* if you measured athe particle's energy initially with a certain probability $|\\beta|^2$, and then after time evolution again, it should be the same probability to measure that energy!\n",
        "\n",
        "* this is so strong, it gives us the schroedinger equation\n",
        "\n",
        "\n",
        "**We need to how the coefficients have changed in the new equation after time evolution**:\n",
        "\n",
        "> $|\\Psi \\rangle$ = $\\alpha |\\Psi \\rangle + \\beta |\\Psi \\rangle + \\gamma |\\Psi \\rangle$ (before)\n",
        "\n",
        "> $T |\\Psi \\rangle$ = $\\alpha' |\\Psi \\rangle + \\beta' |\\Psi \\rangle + \\gamma' |\\Psi \\rangle$ (after)\n",
        "\n",
        "* We want the probability to be the same, but that probability is just the lenght of this compex number squared $|\\gamma|^2 = |\\gamma'|^2 = 1$\n",
        "\n",
        "> <font color=\"red\">**So each coefficient can be represented as an arrow with equal length $|\\gamma|^2$ and $|\\gamma'|^2$ (hence the probability of measuring that energy this state is still the same!!), BUT $|\\gamma'|^2$ may be rotated by an angle $\\phi$**. This angle is new vector = rotation * old vector:</font>\n",
        "\n",
        "> <font color=\"red\">$\\gamma' = e^{i\\phi}\\gamma$</font>\n",
        "\n",
        "Let's plug that rotation $e^{i\\phi}$ in to our previous equation:\n",
        "\n",
        "> <font color=\"red\">$T |\\Psi \\rangle$ = $e^{i\\phi_1}\\alpha |\\Psi \\rangle + e^{i\\phi_2}\\beta |\\Psi \\rangle + e^{i\\phi_3}\\gamma |\\Psi \\rangle$</font>\n",
        "\n",
        "* where the angles / rotations $e^{i\\phi}$ are different for every energy = they are all rotated by a different amount !! Otherwise the rotation can be brought out and present and future state would be the essentially same:\n",
        "\n",
        "> $T |\\Psi \\rangle$ = $e^{i\\phi}\\alpha |\\Psi \\rangle + e^{i\\phi}\\beta |\\Psi \\rangle + e^{i\\phi}\\gamma |\\Psi \\rangle$ = $e^{i\\phi} (\\alpha |\\Psi \\rangle + \\beta |\\Psi \\rangle + \\gamma |\\Psi \\rangle)$ (this is showing that it's wrong!)\n",
        "\n",
        "The overall rotation wouldn't affect any measurement outcomes. Means no matter in which crazy situation you brought the particle in, it does nothing, which can't be right.\n",
        "\n",
        "> $T |\\Psi \\rangle$ = $e^{i\\phi}|\\Psi \\rangle$ (this is showing that it's wrong!\n",
        "\n",
        "\n",
        "* also the amount of rotation depends on time (little going forwardf = little rotation). That suggests the right amount of angle to rotate is Energy x Time. Plus some constants to deal with units and scaling etc.\n",
        "\n",
        "> <font color=\"red\">$\\phi = \\frac{E * t}{\\hbar}$</font>\n",
        "\n",
        "* And that's what the Schroedinger equation will tell you will happen to the state:\n",
        "\n",
        "> $T |\\Psi \\rangle$ = $e^{i \\frac{E * t}{\\hbar}}\\alpha |\\Psi \\rangle + e^{i \\frac{E * t}{\\hbar}}\\beta |\\Psi \\rangle + e^{i \\frac{E * t}{\\hbar}}\\gamma |\\Psi \\rangle$\n",
        "\n",
        "* And that's the same: (with $\\hat{H}$ for energy measurement operator, Hamiltonian):\n",
        "\n",
        "> <font color=\"red\">$T(t) |\\Psi \\rangle = e^{i \\frac{\\hat{H} * t}{\\hbar}}|\\Psi \\rangle$</font>\n",
        "\n",
        "*Common result for 2 observations:*\n",
        "\n",
        "Time Evolution per each step, observer 1:\n",
        "\n",
        "> $| \\Psi \\rangle$ $\\rightarrow$ at $t_1$ = $e^{\\frac{i \\mathcal{H} t_1}{\\hbar}} | \\Psi \\rangle$ $\\rightarrow$ at $t_2$ = <font color=\"blue\">$e^{\\frac{i \\mathcal{H} t_2}{\\hbar}} (e^{\\frac{i \\mathcal{H} t_1}{\\hbar}} | \\Psi \\rangle)$</font>\n",
        "\n",
        "Time Evolution at the end for observer 2 (not seeing time step 1):\n",
        "\n",
        "\n",
        "> $| \\Psi \\rangle$ $\\rightarrow$ at $t_2$ = <font color=\"orange\">$e^{\\frac{i \\mathcal{H} (t_1 + t_2)}{\\hbar}} | \\Psi \\rangle$</font>\n",
        "\n",
        "Where:\n",
        "\n",
        "> <font color=\"orange\">$e^{\\frac{i \\mathcal{H} (t_1 + t_2)}{\\hbar}} | \\Psi \\rangle$</font> = <font color=\"blue\">$e^{\\frac{i \\mathcal{H} t_2}{\\hbar}} (e^{\\frac{i \\mathcal{H} t_1}{\\hbar}} | \\Psi \\rangle)$\n",
        "\n",
        "Why? - because our angle of rotation depends on $t$ (and not $t^2$ or anything): $T\\left(t_{1}+t_{2}\\right)=T\\left(t_{2}\\right) T\\left(t_{1}\\right)$\n",
        "\n",
        "Taken from [Schrodinger equation comment response and homework answers video](https://www.youtube.com/watch?v=M_2h5uQ0SIc)"
      ]
    },
    {
      "cell_type": "markdown",
      "source": [
        "**Harmonic Oscillator (Hamiltonians / Solution of Schrodinger equation)**\n",
        "\n",
        "* The nuclear motion Schrödinger equation can be solved in a space-fixed (laboratory) frame, **but then the translational and rotational (external) energies are not accounted for**. Only the (internal) atomic vibrations enter the problem.\n",
        "\n",
        "* Further, for molecules larger than triatomic ones, it is quite common to introduce the **harmonic approximation, which approximates the potential energy surface** as a [quadratic function](https://en.m.wikipedia.org/wiki/Quadratic_function) of the atomic displacements. **This gives the harmonic nuclear motion Hamiltonian**.\n",
        "\n",
        "* Making the harmonic approximation, we can **convert the Hamiltonian into a sum of uncoupled one-dimensional [harmonic oscillator](https://en.m.wikipedia.org/wiki/Harmonic_oscillator) Hamiltonians**.\n",
        "\n",
        "> **The one-dimensional harmonic oscillator is one of the few systems that allows an exact solution of the Schrödinger equation.**\n",
        "\n",
        "https://de.m.wikipedia.org/wiki/Nullpunktsenergie#Harmonischer_Oszillator\n",
        "\n",
        "https://de.m.wikipedia.org/wiki/Harmonischer_Oszillator_(Quantenmechanik)"
      ],
      "metadata": {
        "id": "EKeKuaJkf4Pw"
      }
    },
    {
      "cell_type": "markdown",
      "metadata": {
        "id": "7sf5tauFtttx"
      },
      "source": [
        "###### ***Matrix Mechanics*** *(Heisenberg, discrete basis, spin representation, Kronecker delta function)*"
      ]
    },
    {
      "cell_type": "markdown",
      "source": [
        "**Matrix Mechanics (spin representation - discrete basis) - (Heisenberg)**\n",
        "\n",
        "* Matrix Mechanics (spin representation - discrete basis)\n",
        "\n",
        "* Video: [Matrix formulation of quantum mechanics](https://www.youtube.com/watch?v=wIwnb1ldYTI)\n",
        "\n",
        "* **Matrix mechanics ('matrix formulation'): Most useful when we deal with finite, discrete bases (like spin representation).**\n",
        "\n",
        "* **Matrix formulation of quantum mechanics reduces to the rules of simple matrix multiplication.**\n",
        "\n",
        "> $\\hat{A}=\\sum_{i j} A_{i j}\\left|u_{i}\\right\\rangle\\left\\langle u_{j}\\right| \\quad A_{i j}=\\left\\langle u_{i}|\\hat{A}| u_{j}\\right\\rangle$\n",
        "\n",
        "* An operator A can be written in the u basis as the sum over the outer products of the basis states\n",
        "* And the expansion coefficients Aij are given by the matrix elements of A with respect to the basis states\n",
        "* The expansion coefficients for an operator are labeled by 2 indices, so we will arrange them in a form of a square matrix, with the first index denoting the row of the matrix and the second index the column of the matrix\n",
        "* There operators are written as matrices\n",
        "\n",
        "> $\\left(\\begin{array}{ccccc}A_{11} & A_{12} & \\cdots & A_{1 j} & \\cdots \\\\ A_{21} & A_{22} & \\cdots & A_{2 j} & \\cdots \\\\ \\vdots & \\vdots & & \\vdots & \\\\ A_{i 1} & A_{i 2} & \\cdots & A_{i j} & \\cdots \\\\ \\vdots & \\vdots & & \\vdots & \\end{array}\\right)$\n",
        "\n",
        "Kets are written as column vectors:\n",
        "\n",
        "![ggg](https://raw.githubusercontent.com/deltorobarba/repo/master/quantum_218.png)\n",
        "\n",
        "Matrix formulation of Bra's: re-arrange complex, conjugate coefficient as a row vector:\n",
        "\n",
        "![ggg](https://raw.githubusercontent.com/deltorobarba/repo/master/quantum_219.png)\n",
        "\n",
        "An operator A can be written in the u basis as the sum over the outer products of the basis states. An Aij are the expansion coefficient in this case. Operators are written as matrices:\n",
        "\n",
        "![ggg](https://raw.githubusercontent.com/deltorobarba/repo/master/quantum_220.png)\n",
        "\n",
        "Summary of the matrix formulation of quantum mechanics for kets, bras and operators:\n",
        "\n",
        "![ggg](https://raw.githubusercontent.com/deltorobarba/repo/master/quantum_221.png)\n",
        "\n",
        "We will see how simple matrix multiplication rules work for the following 4 operations:\n",
        "\n",
        "![ggg](https://raw.githubusercontent.com/deltorobarba/repo/master/quantum_222.png)\n",
        "\n",
        "First, in the matrix formulation of quantum mechanics, a bracket is the matrix product of a row vector with a column vector, and gives a scalar:\n",
        "\n",
        "![ggg](https://raw.githubusercontent.com/deltorobarba/repo/master/quantum_223.png)\n",
        "\n",
        "![ggg](https://raw.githubusercontent.com/deltorobarba/repo/master/quantum_224.png)\n",
        "\n",
        "Adjoint operator: describe the action of an operator in the dual space:\n",
        "\n",
        "![ggg](https://raw.githubusercontent.com/deltorobarba/repo/master/quantum_225.png)\n",
        "\n",
        "Write an operator as an outer product of two states:\n",
        "\n",
        "![ggg](https://raw.githubusercontent.com/deltorobarba/repo/master/quantum_226.png)\n",
        "\n",
        "Summary:\n",
        "\n",
        "![ggg](https://raw.githubusercontent.com/deltorobarba/repo/master/quantum_227.png)"
      ],
      "metadata": {
        "id": "FdyLdYgFeqFK"
      }
    },
    {
      "cell_type": "markdown",
      "metadata": {
        "id": "jdJ5yNTZibYy"
      },
      "source": [
        "###### ***Wave Mechanics*** *(Schrödinger, continuous basis, position representation, Dirac delta function)*"
      ]
    },
    {
      "cell_type": "markdown",
      "metadata": {
        "id": "kYIaQDNv0C1c"
      },
      "source": [
        "**First: let's go from discrete basis $u_i$ to continuous basis $v_{\\alpha}$**\n",
        "\n",
        "* Much used **discrete basis**: Spin of quantum particles\n",
        "\n",
        "* Much used **continuous basis**: position of quantum particles (this one leads to the idea of wave function)\n",
        "\n",
        "> **The generalization is straightforward: it amounts to replacing Kronecker delta functions $\\delta_{i j}$ of two discrete variables with the Dirac delta function $\\delta (\\alpha - \\beta)$ of two continuous variables and sum over these indices by integrals over continuous indices**.\n",
        "\n",
        "* first concept: we work with an orthonormal basis $\\left\\langle u_{i} \\mid u_{j}\\right\\rangle=\\delta_{i j}$. replacing Kronecker delta functions $\\delta_{i j}$ of two discrete variables with the Dirac delta function $\\delta (\\alpha - \\beta)$\n",
        "\n",
        "* then we look at the expansion of Ket in a particular basis: replacing a sum over i with an integral over alpha\n",
        "\n",
        "* in yellow: just a proof why we would write a Dirac delta function only under an integral sign\n",
        "\n",
        "* last part: representation of an operator in a particular basis (for continuous basis)\n",
        "\n",
        "![ggg](https://raw.githubusercontent.com/deltorobarba/repo/master/quantum_217.png)"
      ]
    },
    {
      "cell_type": "markdown",
      "metadata": {
        "id": "bWBTMFaxI7Ie"
      },
      "source": [
        "**Wave Mechanics (Schrödinger)**\n",
        "\n",
        "* Wave Mechanics: Wave Function (position representation - continuous basis)\n",
        "\n",
        "* Check also part under Operator: Translation Operators (**Wave Mechanics: Translation Operator**)\n",
        "\n",
        "* Video: [Wave functions in quantum mechanics](https://www.youtube.com/watch?v=2lr3aA4vaBs)\n",
        "\n",
        "* https://en.m.wikipedia.org/wiki/Wave_function\n",
        "\n",
        "* wave functions is one possible way looking at a quantum system\n",
        "\n",
        "* is the so called position representation of quantum mechanics\n",
        "\n",
        "* leads to wave mechanics (for continuous basis)\n",
        "\n",
        "![ggg](https://raw.githubusercontent.com/deltorobarba/repo/master/quantum_232.png)\n",
        "\n",
        "Computing scalar between two states and the normalization:\n",
        "\n",
        "![ggg](https://raw.githubusercontent.com/deltorobarba/repo/master/quantum_233.png)\n",
        "\n",
        "How to get from the position representation to the momentum representation (via a first order differential equation):\n",
        "\n",
        "![ggg](https://raw.githubusercontent.com/deltorobarba/repo/master/quantum_234.png)\n",
        "\n",
        "**Transformation matrix $\\langle x|p\\rangle$ to go from the position representation to the momentum representation**:\n",
        "\n",
        "![ggg](https://raw.githubusercontent.com/deltorobarba/repo/master/quantum_235.png)\n",
        "\n",
        "To change between both representations we use Fourier transform:\n",
        "\n",
        "![ggg](https://raw.githubusercontent.com/deltorobarba/repo/master/quantum_236.png)\n",
        "\n",
        "If we go to 3 dimensions:\n",
        "\n",
        "![ggg](https://raw.githubusercontent.com/deltorobarba/repo/master/quantum_237.png)\n",
        "\n",
        "Summary:\n",
        "\n",
        "![ggg](https://raw.githubusercontent.com/deltorobarba/repo/master/quantum_238.png)"
      ]
    },
    {
      "cell_type": "markdown",
      "metadata": {
        "id": "9XCE4EGuJJij"
      },
      "source": [
        "**Wave Mechanics: Position and momentum operators acting on wave functions**\n",
        "\n",
        "* Video: [Position and momentum operators acting on wave functions](https://www.youtube.com/watch?v=Yw2YrTLSq5U)\n",
        "\n",
        "* Action of position and momentum operators on wave functions\n",
        "\n",
        "* The action of the position operator: it multiplies a wave function by x:\n",
        "\n",
        "> $x \\psi(x)$\n",
        "\n",
        "* the action of a momentum operator: it acts by calculating the derivative of a wave function\n",
        "\n",
        "> $-i \\hbar \\frac{d \\psi(x)}{d x}$\n",
        "\n",
        "* First: describe the act of a position operator in the position basis, and the act of a momentum operator in the momentum basis:\n",
        "\n",
        "![ggg](https://raw.githubusercontent.com/deltorobarba/repo/master/quantum_239.png)\n",
        "\n",
        "Second: describe the act of the momentum operator on a state Psi when written in the position representation (=basis) is such that the momentum operator calculates the derivative of the wavefunction and then multiplies the result by minus i h-bar (we need the translation operator):\n",
        "\n",
        "![ggg](https://raw.githubusercontent.com/deltorobarba/repo/master/quantum_240.png)\n",
        "\n",
        "Third: what happens when we act with the position operator in the momentum basis (proof: the momentum space wavefunction is related to the real space wavefcunction by a Fourier transform):\n",
        "\n",
        "![ggg](https://raw.githubusercontent.com/deltorobarba/repo/master/quantum_241.png)\n",
        "\n",
        "Generalize this to 3 dimensions:\n",
        "\n",
        "![ggg](https://raw.githubusercontent.com/deltorobarba/repo/master/quantum_242.png)\n",
        "\n",
        "Summary: as you can see there are different representations for the same thing, but the maths is differently difficult. So the task is to find a representation that is easy for a certain problem:\n",
        "\n",
        "![ggg](https://raw.githubusercontent.com/deltorobarba/repo/master/quantum_243.png)"
      ]
    },
    {
      "cell_type": "markdown",
      "metadata": {
        "id": "AZ-w7Fv4O91T"
      },
      "source": [
        "###### *Wavefunction & Global Phase Difference (Why we factor it out and leave phase difference only)*"
      ]
    },
    {
      "cell_type": "markdown",
      "source": [
        "Maybe you have, but from where I stand it was the first time to see the global phase represented in a Bloch Sphere. Thanks Professor Ioannis G. Karafyllidis for this insight. ⬇\n",
        "\n",
        "☸ The global phase is actually an inclination of the Bloch Sphere.\n",
        "\n",
        "⚛ In quantum field theory, the concept of global phase in a one-qubit system can be understood in the context of symmetries, particularly the global U(1) phase symmetry. U(1) is a mathematical group that represents a continuous symmetry associated with global phase transformations. We can outline how quantum field theory incorporates this symmetry to explain the concept:\n",
        "\n",
        "✅ Global U(1) Phase Symmetry:\n",
        "In quantum field theory, we work with fields and operators that are often complex-valued. The global U(1) phase symmetry refers to the ability to multiply the entire quantum state by a complex phase factor without affecting the physical observables. Mathematically, for a one-qubit system, the global U(1) phase transformation can be represented as follows:\n",
        "|ψ⟩ → e^(iθ)|ψ⟩ where, θ is a real number representing the phase transformation.\n",
        "\n",
        "✅ No Observable Impact: The key feature of this global phase transformation is that it does not change the probabilities of measurement outcomes or any other physically observable quantities. The global phase is, in a sense, \"gauged out\" because it affects both the quantum state and its complex conjugate, so it cancels out in terms of probabilities.\n",
        "\n",
        "✅ Conservation of Probability: The conservation of probability is ensured by the U(1) phase symmetry. The probabilities of measuring a qubit in any state remain constant under global phase transformations. This property is closely related to the conservation of probability in quantum systems.\n",
        "\n",
        "✅ Interference and Relative Phases: While the global phase itself is not physically meaningful, relative phases between different quantum states are significant. Quantum field theory allows for interference effects, which arise from relative phases between states. This interference is crucial in understanding phenomena like quantum entanglement and quantum superposition.\n",
        "\n",
        "✴ In summary, quantum field theory incorporates the global U(1) phase symmetry to explain the concept of global phase in a one-qubit system. This symmetry allows for phase transformations that do not affect the probabilities of measurement outcomes, highlighting the importance of relative phases in quantum interference effects and quantum phenomena.\n"
      ],
      "metadata": {
        "id": "163At1BtkCqb"
      }
    },
    {
      "cell_type": "markdown",
      "metadata": {
        "id": "UIwU3Qnjifn-"
      },
      "source": [
        "**How does the Wavefunction (one type) look like?**\n",
        "\n",
        "> $\\psi=e^{\\frac{1}{\\hbar}(px - Et)}$\n",
        "\n",
        "* p = momentum in direction x, x = position along x direction, E = energy, t = time\n",
        "\n",
        "* e is the exponential function, normally it doesn't look like a wave, like $e^{-x}$ or $e^{x}$\n",
        "\n",
        "* but the imaginary number $i=\\sqrt{-1}$ turns an exponential function into a wave\n",
        "\n",
        "* sinoisdal functions (sine and cosine) can be written in terms of the exponential function with $i$ in the exponent\n",
        "\n",
        "![ggg](https://raw.githubusercontent.com/deltorobarba/repo/master/quantum_244.png)\n",
        "\n",
        "* we could take one complex wave function and break it down into simpler waves, then we apply same maths on the simpler waves:\n",
        "\n",
        "![ggg](https://raw.githubusercontent.com/deltorobarba/repo/master/quantum_245.png)"
      ]
    },
    {
      "cell_type": "markdown",
      "metadata": {
        "id": "HVcEGLc6rS9p"
      },
      "source": [
        "Global phase factor $e^{i\\theta}$:\n",
        "\n",
        "* Eigenvalues and Eigenvectors exist also in other vector spaces than state spaces, but because state space is a complex vector space there is one important extra subtlety compared to real vector spaces which has to do with the global phase factor $e^{i\\theta}$\n",
        "\n",
        "* after choosing alpha to make the length of an Eigenstate equal to 1, we still have some extra freedom in the Eigenstate\n",
        "\n",
        "* multiplying $|\\Psi\\rangle$ with a Global phase factor $e^{i\\theta}$ makes the length of the resulting $|\\Psi'\\rangle$ still = 1\n",
        "\n",
        "![ggg](https://raw.githubusercontent.com/deltorobarba/repo/master/quantum_258.png)"
      ]
    },
    {
      "cell_type": "markdown",
      "source": [
        "Let's see what happens when we square the wave function:\n",
        "* the function is an oscillation in quantum possibilities moving through space and time\n",
        "* but it's a complex wave with one real and one imaginary component\n",
        "* **the components oscillate in sync with each other - but they are offset, shifted in phase by a constant amount**\n",
        "> phase is just the wave's current state in its up-down oscillation\n",
        "\n",
        "![geometry](https://raw.githubusercontent.com/deltorobarba/repo/master/sciences_0964.png)"
      ],
      "metadata": {
        "id": "KiDe4HzbgNh5"
      }
    },
    {
      "cell_type": "markdown",
      "source": [
        "When we apply the Born rule we are squaring these two waves and adding them together\n",
        "* but it turns out that this value doesn't depend on phase. The magnitude squared of the real and imaginary components stays the same, even as those components move up and down\n",
        "* It is that magnitude squared that we can observe, it determines the particles position\n",
        "* the phase itself is fundamentally unobservable. You can shift phase by any amount and you wouldnt change the resulting position of the particle, as long as you do the same shift to both the real and the imaginary components.\n",
        "\n",
        "![geometry](https://raw.githubusercontent.com/deltorobarba/repo/master/sciences_0965.png)\n"
      ],
      "metadata": {
        "id": "T6Kn28ZZgUsT"
      }
    },
    {
      "cell_type": "markdown",
      "source": [
        "In fact as long as you make the same shift across the entire wave function, all the observables are unchanged.\n",
        "* We call this form of transformation a global phase shift, and it's analogous to transforming our altitude zero point up or down by the same amount everywhere.\n",
        "* the equations of quantum mechanics have what we call **global phase invariance**\n",
        "* **Global phase is a Gauge symmetry of the system**\n",
        "\n",
        "![geometry](https://raw.githubusercontent.com/deltorobarba/repo/master/sciences_0966.png)\n",
        "\n"
      ],
      "metadata": {
        "id": "70R04sWsgbFd"
      }
    },
    {
      "cell_type": "markdown",
      "source": [
        "Reminder: Trigonometrie:\n",
        "\n",
        "> $\\begin{aligned} \\mathrm{e}^{\\mathrm{i} x} &=\\sum_{k=0}^{\\infty} \\frac{(\\mathrm{i} x)^{k}}{k !}=\\sum_{l=0}^{\\infty} \\frac{(\\mathrm{i} x)^{2 l}}{(2 l) !}+\\sum_{l=0}^{\\infty} \\frac{(\\mathrm{i} x)^{2 l+1}}{(2 l+1) !} \\\\ &=\\underbrace{\\sum_{l=0}^{\\infty}(-1)^{l} \\frac{x^{2 l}}{(2 l) !}}_{\\cos x}+\\underbrace{\\mathrm{i} \\sum_{l=0}^{\\infty}(-1)^{l} \\frac{x^{2 l+1}}{(2 l+1) !}}_{\\sin x} \\\\  \\mathrm{e}^{\\mathrm{i} x}&=\\cos x+\\mathrm{i} \\sin x \\\\  \\mathrm{e}^{\\mathrm{i} x}&=\\cos \\varphi+\\mathrm{i} \\sin \\varphi \\\\ \\mathrm{e}^{\\mathrm{i} x}&=x+\\mathrm{i} y \\end{aligned}$ Das ist die sogenannte [Eulerformel](https://de.m.wikipedia.org/wiki/Eulersche_Formel)!\n",
        "\n",
        "\n",
        "![ggg](https://upload.wikimedia.org/wikipedia/commons/thumb/7/71/Sine_cosine_one_period.svg/600px-Sine_cosine_one_period.svg.png)\n",
        "\n",
        "![ggg](https://raw.githubusercontent.com/deltorobarba/repo/master/quantum_040.jpg)\n",
        "\n",
        "![ggg](https://upload.wikimedia.org/wikipedia/commons/3/3b/Circle_cos_sin.gif)"
      ],
      "metadata": {
        "id": "QX7SeO65gi0O"
      }
    },
    {
      "cell_type": "markdown",
      "metadata": {
        "id": "aBGbzlHLPGlp"
      },
      "source": [
        "* The only reason phase is important is because it brings about interference effects. And interference effects are only dependent on the difference in phase between the two waves (we will abstract basis states to waves for now).\n",
        "\n",
        "> **Therefore, we can say that it’s the difference that counts, and not the absolute value.**\n",
        "\n",
        "* For example, if the phase difference is π radians then the waves would cancel each other out.\n"
      ]
    },
    {
      "cell_type": "markdown",
      "metadata": {
        "id": "9Sd8WkT9PbZX"
      },
      "source": [
        "![ggg](https://raw.githubusercontent.com/deltorobarba/repo/master/quantum_179.jpg)"
      ]
    },
    {
      "cell_type": "markdown",
      "metadata": {
        "id": "j8WPjzqBPfSd"
      },
      "source": [
        "We can conclude that the absolute value of the phase shift for both waves is meaningless to the interference. For as long as they both retain the phase difference, then the interference effect will be constant, and that’s what matters!\n"
      ]
    },
    {
      "cell_type": "markdown",
      "metadata": {
        "id": "kOiHZhJKPkMX"
      },
      "source": [
        "**Why the global phase doesn’t matter**\n",
        "\n",
        "As observed above, what matters is the phase difference. So think about it, if you’re describing the phase of two waves, it’s redundant to state both phases. **The better approach is to just state the phase difference**."
      ]
    },
    {
      "cell_type": "markdown",
      "metadata": {
        "id": "AjLdM9G6PojT"
      },
      "source": [
        "* The global phase is the absolute value of the phase shift for both waves.\n",
        "\n",
        "* For example, wave one and two each have a phase of (π/2) radians and (3π/2) radians, respectively. In this case, the phase (π/2) is a global phase since the phase difference (what actually counts) is π radians → (3π/2 - π/2 ).\n",
        "\n",
        "* Using the same example, we can define the relative phase (also known as the local phase) as the phase difference (π rad)."
      ]
    },
    {
      "cell_type": "markdown",
      "metadata": {
        "id": "MCUI_HZzP43M"
      },
      "source": [
        "We’ve found a method to **bypass the need for a fourth dimension by factoring out the global phase** and replacing the second phase with the relative phase. We can represent this mathematically.\n",
        "\n",
        "A general qubit state can be written\n",
        "\n",
        "> $|\\psi\\rangle=\\alpha|0\\rangle+\\beta|1\\rangle$\n",
        "\n",
        "with complex numbers, α and β, and the normalization constraint require that:\n",
        "\n",
        "\n",
        "> $|\\alpha|^{2}+|\\beta|^{2}=1$\n",
        "\n",
        "As previously stated, we can express the amplitudes in polar coordinates as (General equation for a qubit state):\n",
        "\n",
        "> $|\\psi\\rangle=r_{\\alpha} e^{i \\phi_{\\alpha}}|0\\rangle+r_{\\beta} e^{i \\phi_{\\beta}}|1\\rangle$\n",
        "\n",
        "with four real parameters:\n",
        "\n",
        "> $r_{\\alpha}, \\phi_{\\alpha}, r_{\\beta}$ and $\\phi_{\\beta}$\n",
        "\n",
        "**However, the only measurable quantities are the probabilities |α|² and |β|², so multiplying the state by an arbitrary factor $e^{iγ}$ (global phase) has no observable consequences, because**:\n",
        "\n",
        "> $\\left|e^{i \\gamma} \\alpha\\right|^{2}=\\left(e^{i \\gamma} \\alpha\\right)^{*}\\left(e^{i \\gamma} \\alpha\\right)=\\left(e^{-i \\gamma} \\alpha^{*}\\right)\\left(e^{i \\gamma} \\alpha\\right)=\\alpha^{*} \\alpha=|\\alpha|^{2}$\n",
        "\n",
        "Therefore, we can factor out $e^{iΦ}$ from the general equation:\n",
        "\n",
        "> $|\\psi\\rangle=e^{i \\phi_{\\alpha}}\\left(r_{\\alpha}|0\\rangle+r_{\\beta} e^{i\\left(\\phi_{\\beta}-\\phi_{\\alpha}\\right)}|1\\rangle\\right)$\n",
        "\n",
        "Now, if you calculate the amplitude |ψ|², the factor ($e^{iΦ_α}$) in front will vanish by the argument above. This is why we called it the global phase. However, the relative phase is the phase difference noted as (Φ_α - Φ_β). This is an observable-ish quantity which manifests through interference effects.\n",
        "\n",
        "Let’s consolidate the above equation into:\n",
        "\n",
        "> $|\\psi\\rangle=r_{\\alpha}|0\\rangle+r_{\\beta} e^{i\\left(\\phi_{\\beta}-\\phi_{\\alpha}\\right)}|1\\rangle=r_{\\alpha}|0\\rangle+r_{\\beta} e^{i \\phi}|1\\rangle$\n",
        "\n",
        "> $r_{\\alpha} \\in \\mathbb{R}, r_{\\beta} \\in \\mathbb{R}, \\phi \\in \\mathbb{R} \\mid \\phi=\\phi_{\\beta}-\\phi_{\\alpha}$\n",
        "\n",
        "where r_α, r_β and Φ all real parameters.\n",
        "\n",
        "**Notice that this equation can be represented in 3-D, as the global phase is gone.**\n",
        "\n"
      ]
    },
    {
      "cell_type": "markdown",
      "metadata": {
        "id": "odWaJ8hJPDMa"
      },
      "source": [
        "https://pavanjayasinha.medium.com/but-what-is-a-quantum-phase-factor-d05c15c321fe"
      ]
    },
    {
      "cell_type": "markdown",
      "metadata": {
        "id": "P8P-evW3U0Vx"
      },
      "source": [
        "**Physical Meaning of Phase**"
      ]
    },
    {
      "cell_type": "markdown",
      "source": [
        "> Remember: $e^{2 \\pi i}$ = 1 (Identity)"
      ],
      "metadata": {
        "id": "lQpy1dj0iHji"
      }
    },
    {
      "cell_type": "markdown",
      "metadata": {
        "id": "xhNcqwo6R4lV"
      },
      "source": [
        "* In quantum mechanics, a phase factor is a complex coefficient $e^{i \\theta}$ that multiplies a ket $|\\psi\\rangle$ or bra $\\langle\\phi|$.\n",
        "\n",
        "* <font color=\"blue\">**It does not, in itself, have any physical meaning**, since the introduction of a phase factor does not change the expectation values of a Hermitian operator.\n",
        "\n",
        "> That is, the values of $\\langle\\phi|A| \\phi\\rangle$ and $\\left\\langle\\phi\\left|e^{-i \\theta} A e^{i \\theta}\\right| \\phi\\right\\rangle$ are the same.\n",
        "\n",
        "* <font color=\"red\">However, differences in phase factors between two interacting quantum states can sometimes be measurable (such as in the Berry phase) and this can have important consequences."
      ]
    },
    {
      "cell_type": "markdown",
      "metadata": {
        "id": "syr76IkvRoPD"
      },
      "source": [
        "https://en.wikipedia.org/wiki/Phase_factor"
      ]
    },
    {
      "cell_type": "markdown",
      "metadata": {
        "id": "T9T3nptBTPNo"
      },
      "source": [
        "* When people say that the phase doesn't matter, they mean the overall, \"global\" phase. In other words, the state $|0\\rangle$ is equivalent to $e^{i \\theta}|0\\rangle$, the state $|1\\rangle$ is equivalent to $e^{i \\theta^{\\prime}}|1\\rangle$, and the state $|0\\rangle+|1\\rangle$ is equivalent to $e^{i \\theta^{\\prime \\prime}}(|0\\rangle+|1\\rangle)$.\n",
        "\n",
        "> Siehe auch Eulersche Formel: $e^{i \\phi}$ https://mathepedia.de/Eulersche_Formel.html\n",
        "\n",
        "> Note that \"equivalence\" is not preserved under addition, since $e^{i \\theta}|0\\rangle+e^{i \\theta^{\\prime}}|1\\rangle$ is not equivalent to $|0\\rangle+|1\\rangle$, because there can be a relative phase $e^{i\\left(\\theta-\\theta^{\\prime}\\right)}$.\n",
        "\n",
        "* If we wanted to describe this very simple fact with unnecessarily big words, we could say something like \"the complex projective Hilbert space of rays, the set of equivalence classes of nonzero vectors in the Hilbert space under multiplication by complex phase, cannot be endowed with the structure of a vector space\".\n",
        "\n",
        "* Because the equivalence doesn't play nicely with addition, **it's best to just ignore the global phase ambiguity whenever you're doing real calculations**. Finally, when you're done with the entire calculation, and arrive at a state, you are free to multiply that final result by an overall phase."
      ]
    },
    {
      "cell_type": "markdown",
      "metadata": {
        "id": "BBLDuK4vRpXR"
      },
      "source": [
        "https://physics.stackexchange.com/questions/552796/the-importance-of-the-phase-in-quantum-mechanics"
      ]
    },
    {
      "cell_type": "markdown",
      "metadata": {
        "id": "9Hew4HucSHKJ"
      },
      "source": [
        "* Phase: Any one point or portion in a recurring series of changes, as in the changes of motion of one of the particles constituting a wave or vibration; one portion of a series of such changes, in distinction from a contrasted portion, as the portion on one side of a position of equilibrium, in contrast with that on the opposite side.\n"
      ]
    },
    {
      "cell_type": "markdown",
      "metadata": {
        "id": "nxiSY8ddRqi1"
      },
      "source": [
        "https://courses.lumenlearning.com/boundless-chemistry/chapter/orbital-shapes/"
      ]
    },
    {
      "cell_type": "markdown",
      "metadata": {
        "id": "CThWPZdFEXlO"
      },
      "source": [
        "In principle, we need four real numbers to describe a qubit, two for $\\alpha$ and two for $\\beta$. The constraint $|\\alpha|^{2}+|\\beta|^{2}=1$ reduces to three numbers.\n",
        "\n",
        "In quantum mechanics, two vectors that differ from a global phase factor are considered equivalent. A global phase factor is a complex number of unit modulus multiplying the state. By eliminating this factor, a qubit can be described by two real numbers $\\theta$ and $\\phi$ as follows:\n",
        "\n",
        ">$\n",
        "|\\psi\\rangle=\\cos \\frac{\\theta}{2}|0\\rangle+\\mathrm{e}^{\\mathrm{i} \\phi} \\sin \\frac{\\theta}{2}|1\\rangle\n",
        "$\n",
        "\n",
        "where $0 \\leq \\theta \\leq \\pi$ and $0 \\leq \\phi<2 \\pi .$ In the above notation, state $|\\psi\\rangle$ can be represented by a point on the surface of a sphere of unit radius, called Bloch sphere. Numbers $\\theta$ and $\\phi$ are spherical angles that locate the point that describes $|\\psi\\rangle$, as shown in Fig. A.1. The vector showed there is given by\n",
        "\n",
        "> $\\left[\\begin{array}{c}\\sin \\theta \\cos \\phi \\\\ \\sin \\theta \\sin \\phi \\\\ \\cos \\theta\\end{array}\\right]$\n",
        "\n",
        "When we disregard global phase factors, there is a one-to-one correspondence between the quantum states of a qubit and the points on the Bloch sphere. State $|0\\rangle$ is in the north pole of the sphere, because it is obtained by taking $\\theta=0 .$ State $|1\\rangle$ is in the south pole. States\n",
        "\n",
        "> $\n",
        "|\\pm\\rangle=\\frac{|0\\rangle \\pm|1\\rangle}{\\sqrt{2}}\n",
        "$\n",
        "\n",
        "are the intersection points of the $x$-axis and the sphere, and states $(|0\\rangle \\pm \\mathrm{i}|1\\rangle) / \\sqrt{2}$ are the intersection points of the $y$-axis with the sphere.\n",
        "\n",
        "The representation of classical bits in this context is given by the poles of the Bloch sphere and the representation of the probabilistic classical bit, that is, 0 with probability $p$ and 1 with probability $1-p$, is given by the point in $z$-axis with coordinate $2 p-1$. The interior of the Bloch sphere is used to describe the states of a qubit in the presence of decoherence."
      ]
    },
    {
      "cell_type": "markdown",
      "source": [
        "###### *Macroscopic Quantum Superpositions*"
      ],
      "metadata": {
        "id": "k5rk1UYyjFyF"
      }
    },
    {
      "cell_type": "markdown",
      "source": [
        "https://pro-physik.de/nachrichten/dunkelheit-macht-makro-quanteneffekte-sichtbar\n",
        "\n",
        "M. Roda-Llordes et al.: Macroscopic Quantum Superpositions via Dynamics in a Wide Double-Well Potential, Phys. Rev. Lett. 132, 023601 (2024); DOI: 10.1103/PhysRevLett.132.023601\n",
        "\n",
        "https://journals.aps.org/prl/abstract/10.1103/PhysRevLett.132.023601"
      ],
      "metadata": {
        "id": "JHMu1wg7jKWR"
      }
    },
    {
      "cell_type": "markdown",
      "source": [
        "Cramer rao bound amd Cauchy–Schwarz inequality, Frobeniusnorm:\n",
        "variance ideal for quantum Hilbert space?\n",
        "\n",
        "How much is a loss function concentrated around its mean (not partial derivative concentration)?\n",
        "\n",
        "\n",
        "**Currently: how to study Parametrized Quantum Circuits (PQCs)?**\n",
        "\n",
        "* Expressivity / Capacity\n",
        "* Trainability\n",
        "  * subset of computational complexity and circuit complexity?\n",
        "* Generalization > which model or algorithm to choose best?\n",
        "* Sample complexity\n",
        "\n",
        "**Generalization in Machine Learning:**\n",
        "\n",
        "* Generalization refers to the ability of an algorithm to **perform accurately on new, unseen data after being trained on a sample dataset**. The goal is to learn patterns that are not just specific to the training data but also applicable to new data.\n",
        "\n",
        "* Uniform Generalization Bounds: These bounds provide a measure of how well the learned model will generalize across all possible data distributions, not just the one it was trained on. They are called 'uniform' because they provide a guarantee that holds uniformly over a class of functions or models.\n",
        "\n",
        "* Role of Sample Size: One key aspect of these bounds is that they typically improve with an increase in the size of the training sample. As more data is used to train the model, we can be more confident that the model will generalize well.\n",
        "\n",
        "* Complexity of the Hypothesis Class: **The bounds are also influenced by the complexity of the hypothesis class** (the set of models being considered). More complex classes, such as those with a large number of parameters, typically have **looser bounds, meaning they need more data to ensure good generalization**.\n",
        "\n",
        "* Mathematical Formulation: **The bounds are often derived using tools from probability and statistics, such as concentration inequalities (like Hoeffding’s inequality or McDiarmid's inequality)**. These tools help quantify the likelihood that the observed performance of a model on a sample is close to its true performance on the entire population.\n",
        "\n",
        "* Practical Implication: In practical terms, **uniform generalization bounds help in understanding and choosing models and algorithms**. They provide a theoretical foundation for preferring certain models over others based on their generalization capabilities, given a finite amount of data."
      ],
      "metadata": {
        "id": "lWl0TKgLrsJI"
      }
    },
    {
      "cell_type": "markdown",
      "source": [
        "**Besides model complexity, sample complexity and computational complexity, are there more dimension that need to be considered on computational learning theory?**\n",
        "\n",
        "Yes, besides model complexity, sample complexity, and computational complexity, there are several other dimensions and factors that are important in computational learning theory:\n",
        "\n",
        "1. **Algorithmic Stability**:\n",
        "    - This refers to how sensitive a learning algorithm is to small changes in the training set. Algorithms that are more stable are generally better at generalizing, as they don't overfit to the noise or specific details in the training data.\n",
        "\n",
        "2. **Noise Tolerance**:\n",
        "    - The ability of a learning algorithm to perform well in the presence of noise (errors or randomness in the training data) is crucial. This includes dealing with mislabeled data or data with measurement errors.\n",
        "\n",
        "3. **Robustness**:\n",
        "    - Robustness is the ability of the model to maintain performance when faced with input data that differs from the training data. This includes handling adversarial examples, where small, intentional changes to input data can mislead the model.\n",
        "\n",
        "4. **Learning Rate and Convergence**:\n",
        "    - This pertains to how quickly a learning algorithm converges to a good solution. Fast convergence is desirable for efficiency, but it's also important that the convergence leads to a solution that generalizes well.\n",
        "\n",
        "5. **Bias-Variance Tradeoff**:\n",
        "    - A fundamental concept in statistical learning, the bias-variance tradeoff involves balancing underfitting (bias) and overfitting (variance). It's about finding the right level of model complexity that neither oversimplifies (high bias) nor overcomplicates (high variance) the problem.\n",
        "\n",
        "6. **Data Distribution**:\n",
        "    - The nature of the data distribution, including how representative the training data is of the real-world scenarios the model will encounter, plays a crucial role in the effectiveness of learning.\n",
        "\n",
        "7. **Feature Representation**:\n",
        "    - The way data is represented or pre-processed can significantly impact the performance of a learning algorithm. Good feature representation can ease the learning process and improve generalization.\n",
        "\n",
        "8. **Scalability**:\n",
        "    - Scalability refers to how well a learning algorithm or model can handle increasing amounts of data or more complex problems. This is particularly important in big data applications.\n",
        "\n",
        "9. **Ethical and Social Considerations**:\n",
        "    - This includes considerations of fairness, privacy, and transparency. It's essential to ensure that learning algorithms do not perpetuate or exacerbate biases and are respectful of privacy and ethical norms.\n",
        "\n",
        "10. **Transferability and Adaptability**:\n",
        "    - This refers to the ability of a model to adapt to new tasks or transfer learned knowledge to different but related problems. It's a key aspect of research in areas like transfer learning and domain adaptation.\n",
        "\n",
        "11. **Interpretability and Explainability**:\n",
        "    - The ability to understand and interpret the decisions made by a model is increasingly important, especially for applications in sensitive areas like healthcare or finance.\n",
        "\n",
        "Each of these dimensions adds complexity to the design and evaluation of learning algorithms, and they are often interrelated. Balancing these factors is a key challenge in developing effective and responsible machine learning systems."
      ],
      "metadata": {
        "id": "3dgYVzt0a8lq"
      }
    },
    {
      "cell_type": "markdown",
      "source": [
        "**What are standard scientific methods to measure model complexity, sample complexity and computational complexity?**\n",
        "\n",
        "Measuring model complexity, sample complexity, and computational complexity in machine learning involves a blend of theoretical analysis and empirical evaluation. Each type of complexity has standard scientific methods associated with it:\n",
        "\n",
        "*1. Model Complexity*\n",
        "Model complexity refers to the ability of a model to fit a wide range of functions. It's often associated with the flexibility of the model to adapt to the underlying data structure.\n",
        "\n",
        "**Standard Methods to Measure:**\n",
        "- **VC Dimension**: For classification models, the Vapnik-Chervonenkis (VC) dimension is a theoretical measure of model capacity. It's the size of the largest set of points that the model can shatter.\n",
        "- **Number of Parameters**: In many models, such as neural networks, the number of trainable parameters is a direct measure of complexity.\n",
        "- **Model Depth and Architecture**: For neural networks, depth (number of layers) and architecture details (like types of layers and connections) indicate complexity.\n",
        "- **Information Criteria**: Metrics like AIC (Akaike Information Criterion) and BIC (Bayesian Information Criterion) are used in statistical modeling to balance model fit and complexity.\n",
        "\n",
        "- Number of Parameters: One of the most common measures of model complexity is the number of parameters. This is a simple and intuitive measure, as it directly reflects the number of degrees of freedom in the model. However, it is not always the most informative measure, as it does not take into account the structure of the model or the relationships between its parameters.\n",
        "\n",
        "- Effective Number of Parameters: A more sophisticated measure of model complexity is the effective number of parameters. This measure takes into account the fact that some parameters may be more important than others, and it can be used to compare models with different numbers of parameters.\n",
        "\n",
        "- VC Dimension: The VC dimension is a theoretical measure of model complexity that is based on the concept of shattering. A shattered set of points is a set of points that can be perfectly classified by a hypothesis class in all possible ways. The VC dimension of a hypothesis class is the maximum size of a shattered set. A higher VC dimension indicates a more complex hypothesis class.\n",
        "\n",
        "- Kolmogorov Complexity: Kolmogorov complexity is a measure of the information content of an object. It is based on the idea that the complexity of an object is the shortest possible program that can generate it. Kolmogorov complexity can be used to measure the complexity of models, as well as the complexity of data.\n",
        "\n",
        "*2. Sample Complexity*\n",
        "Sample complexity relates to the amount of data required for a model to achieve a certain level of performance.\n",
        "\n",
        "**Standard Methods to Measure:**\n",
        "- **Empirical Evaluation**: Experimentally determining how model performance varies with different training set sizes. This often involves plotting learning curves.\n",
        "- **PAC Learning Framework**: Probably Approximately Correct (PAC) learning provides theoretical bounds on the number of samples needed for a model to learn a concept within a certain error margin and confidence level.\n",
        "- **Cross-validation**: Techniques like k-fold cross-validation can help assess how well a model with certain complexity performs with the available data.\n",
        "\n",
        "- Learning Curves: Learning curves are a simple and effective way to measure sample complexity. A learning curve is a plot of the training and generalization error of a model as a function of the number of training examples. A steeper learning curve indicates that the model is more sensitive to the number of training examples and therefore has higher sample complexity.\n",
        "\n",
        "- Error Bounds: Error bounds are a more theoretical way to measure sample complexity. Error bounds provide an upper bound on the generalization error of a model with a given level of confidence. A smaller error bound indicates lower sample complexity.\n",
        "\n",
        "- Rademacher Complexity: Rademacher complexity is a measure of the generalization error of a model that is based on the concept of Rademacher averages. Rademacher averages are a type of random average that is used to control for the randomness of the training data. A smaller Rademacher complexity indicates lower sample complexity.\n",
        "\n",
        "*3. Computational Complexity*\n",
        "Computational complexity is about the resources (time, memory) required to train or use a model.\n",
        "\n",
        "**Standard Methods to Measure:**\n",
        "- **Big O Notation**: Theoretical analysis of algorithms in terms of time and space complexity (e.g., O(n), O(n^2)) is standard.\n",
        "- **Time Profiling**: Empirically measuring the actual time taken to train models on datasets of varying sizes.\n",
        "- **Space Profiling**: Measuring the memory requirements of a model during training and inference.\n",
        "- **Algorithm Analysis**: Analyzing the specific steps of an algorithm to determine their computational requirements.\n",
        "\n",
        "- Time Complexity: Time complexity is a measure of the amount of time that an algorithm takes to run as a function of the input size. Time complexity is typically expressed using Big O notation, which provides an upper bound on the worst-case performance of the algorithm.\n",
        "\n",
        "- Space Complexity: Space complexity is a measure of the amount of memory that an algorithm requires to run as a function of the input size. Space complexity is also typically expressed using Big O notation.\n",
        "\n",
        "- Scalability: Scalability is a measure of how well an algorithm can handle increasing input sizes. An algorithm is said to be scalable if its time and space complexity grow sublinearly with the input size.\n",
        "\n",
        "*Integrating Theoretical and Empirical Approaches*\n",
        "In practice, a combination of these methods is often used. Theoretical measures provide a guideline or a framework, while empirical methods offer practical insights based on real-world data and computing environments. The choice of method depends on the specific model, the nature of the task, and the available resources. For example, in deep learning, empirical evaluation is heavily relied upon due to the complexity and non-linearity of the models, while in more traditional machine learning or statistical models, theoretical measures might be more prominently used."
      ],
      "metadata": {
        "id": "7FbmpALiSvmt"
      }
    },
    {
      "cell_type": "markdown",
      "source": [
        "**Dimensions**\n",
        "\n",
        "[Dimension](https://en.m.wikipedia.org/wiki/Dimension).Dimensionality measures are used to quantify the complexity of a set of points or a function class. They are often used in machine learning to bound the sample complexity of learning algorithms.\n",
        "* in mathematics, is a particular way of describing the size of an object (contrasting with measure and other, different, notions of size). Dimensionality measures are also used to study the relationships between different complexity classes. For example, it is known that the complexity class PSPACE is contained in the complexity class EXPTIME. This can be shown using the following theorem: Theorem: The metric entropy of any hypothesis class with VC dimension d is at most d. This theorem tells us that the complexity class PSPACE, which contains all problems that can be solved by a polynomial space Turing machine, is contained in the complexity class EXPTIME, which contains all problems that can be solved by an exponential time Turing machine. Dimensionality measures are a powerful tool for studying the complexity of computational problems. They can be used to bound the resource requirements of algorithms, and to study the relationships between different complexity classes.\n",
        "\n",
        "*Examples:*\n",
        "\n",
        "* [Effective dimension](https://en.m.wikipedia.org/wiki/Effective_dimension) is a modification of Hausdorff dimension and other fractal dimensions that places it in a computability theory setting. There are several variations (various notions of effective dimension) of which the most common is effective Hausdorff dimension.\n",
        "\n",
        "  * effective dimension is a modification of Hausdorff dimension and other fractal dimensions that places it in a computability theory setting\n",
        "\n",
        "  * to measure power / capacity of a model [Source](https://www.youtube.com/watch?v=fDIGmkq9xNE&t=2067s)\n",
        "\n",
        "  ![geometry](https://raw.githubusercontent.com/deltorobarba/repo/master/sciences_1398.png)\n",
        "\n",
        "* [Hausdorff dimension](https://en.m.wikipedia.org/wiki/Hausdorff_dimension) generalizes the well-known integer dimensions assigned to points, lines, planes, etc. by allowing one to distinguish between objects of intermediate size between these integer-dimensional objects.\n",
        "\n",
        "* [Intrinsic dimension](https://en.m.wikipedia.org/wiki/Intrinsic_dimension): The intrinsic dimension of a set of points is the smallest number of parameters needed to represent the points accurately.\n",
        "\n",
        "* [Fractal dimension](https://en.m.wikipedia.org/wiki/Fractal_dimension) provides a rational statistical index of complexity detail in a pattern. A fractal pattern changes with the scale at which it is measured. It is also a measure of the space-filling capacity of a pattern, and it tells how a fractal scales differently, in a fractal (non-integer) dimension.\n",
        "\n",
        "* [Lebesgue covering dimension](https://en.m.wikipedia.org/wiki/Lebesgue_covering_dimension) or topological dimension of a topological space is one of several different ways of defining the dimension of the space in a topologically invariant way\n",
        "\n",
        "* [Krull dimension](https://en.m.wikipedia.org/wiki/Krull_dimension)\n",
        "\n",
        "* [Inductive dimension](https://en.m.wikipedia.org/wiki/Inductive_dimension)\n",
        "\n",
        "* [Minkowski–Bouligand dimension](https://en.m.wikipedia.org/wiki/Minkowski–Bouligand_dimension) also known as Minkowski dimension or box-counting dimension, is a way of determining the fractal dimension of a set S in a Euclidean space $\\mathbb {R} ^{n}$, or more generally in a metric space (X,d).\n",
        "\n",
        "* [Information dimension](https://en.m.wikipedia.org/wiki/Information_dimension) is a measure of the fractal dimension of a probability distribution. It characterizes the growth rate of the Shannon entropy given by successively finer discretizations of the space.\n",
        "\n",
        "  * In 2010, Wu and Verdú gave an operational characterization of [Rényi information dimension = Rényi entropy](https://en.m.wikipedia.org/wiki/Rényi_entropy) as the fundamental limit of almost lossless data compression for analog sources under various regularity constraints of the encoder/decoder.\n",
        "\n",
        "  * Enge Verbindung zwischen Entropy und Dimension measures.\n",
        "\n",
        "* [Correlation dimension](https://en.m.wikipedia.org/wiki/Correlation_dimension) is a measure of the dimensionality of the space occupied by a set of random points, often referred to as a type of fractal dimension.\n",
        "\n",
        "* [Packing dimension](https://en.m.wikipedia.org/wiki/Packing_dimension)\n",
        "\n",
        "* [Equilateral dimension](https://en.m.wikipedia.org/wiki/Equilateral_dimension)\n",
        "\n",
        "* [Dimensions of commutative algebra](https://en.m.wikipedia.org/wiki/Glossary_of_commutative_algebra#dimension), like Embedding dimension"
      ],
      "metadata": {
        "id": "DFFd1liCm28M"
      }
    },
    {
      "cell_type": "markdown",
      "source": [
        "*Vapnik-Chervonenkis, Pseudo- and Fat-Shattering Dimensions are three distinct notions of “dimension”. The phrase “dimension” is rather unfortunate, as the three “dimensions” have nothing to do with the dimension of a vector space, except in very special situations. Rather, these “dimensions” are combinatorial parameters that measure the “richness” of concept classes or function classes.*\n",
        "\n",
        "* [Vapnik–Chervonenkis dimension](https://en.m.wikipedia.org/wiki/Vapnik–Chervonenkis_dimension)\n",
        "  * It quantifies the expressive power or complexity of a hypothesis class in terms of its ability to \"shatter\" sets of points. It's a scalar value that provides insight into the capacity of a class of functions or models.\n",
        "  * A hypothesis class is said to \"shatter\" a set of points if, for every possible labeling of the points, there exists a hypothesis in the class that can perfectly classify those points according to that labeling. VC dimension is defined in terms of shattering.\n",
        "  * It is the most widely used complexity metric in PAC learning, and it has been used to prove a number of important theoretical results.\n",
        "  * However, the VC dimension is not a perfect metric for the complexity of a hypothesis class. For example, the VC dimension of the class of all linear classifiers is infinite, even though linear classifiers can be learned efficiently from a small number of training examples.\n",
        "  * In PAC learning: Let H be a hypothesis class with VC dimension d. Then, the sample complexity of PAC learning H is given by: $n >= O(d / ε^2 * ln(1/δ))$, where ε is the desired error tolerance and δ is the desired confidence level.\n",
        "  \n",
        "  * [*Bias-Variance Tradeoff*](https://en.m.wikipedia.org/wiki/Bias–variance_tradeoff): This is a key principle in statistical learning that helps to understand the tradeoff between model complexity and the risk of overfitting, which impacts the number of samples needed for learning.\n",
        "\n",
        "  * Higher VC-dimension of a class = more samples are required to learn that class. Bounds on sample complexity using VC-dimension are often given in the form, where d is the VC-dimension:\n",
        "\n",
        "  * $m \\geq \\frac{8}{\\epsilon} \\ln \\left(\\frac{4}{\\delta}\\right)+\\frac{4}{\\epsilon} d \\ln \\left(\\frac{2 e m}{d}\\right)$\n",
        "\n",
        "  * measure of the capacity: The more complex the hypothesis space, the more likely it is that the learning algorithm will overfit the training data and make errors on new data (-that was assumed for neural nets).\n",
        "\n",
        "  * The VC dimension can be used to choose a hypothesis space that is not too complex, so that the learning algorithm can generalize well to new data. sample complexity of C is tightly determined by a combinatorial parameter called the VC dimension of C. measure of the capacity of a hypothesis space, which is the set of all possible hypotheses that can be learned by a machine learning algorithm.\n",
        "\n",
        "  * A hypothesis space with a higher VC dimension can learn more complex functions, but it will also be more likely to overfit the training data. The VC Dimension can provide an **upper bound on the sample complexity in terms of the size of the hypothesis class**, the desired error rate, and the confidence level.\n",
        "\n",
        "  ![geometry](https://raw.githubusercontent.com/deltorobarba/repo/master/sciences_1397.png)\n",
        "\n",
        "  * *Shatter points = separate points: how these functions can separate or \"shatter\" sets of points. If you can find large sets of points that can be arbitrarily labeled (i.e., \"shattered\") by functions in your class, then the class has high complexity. - Shattered:  A set of points is shattered by H if for every possible labeling of the points, there exists a hypothesis in H that agrees with that labeling.*\n",
        "\n",
        "  * One of the most fundamental results in learning theory is that the sample complexity of C is tightly determined by a combinatorial parameter called the VC dimension of C (Source: Optimal Quantum Sample Complexity of Learning Algorithms)\n",
        "\n",
        "  ![geometry](https://raw.githubusercontent.com/deltorobarba/repo/master/sciences_1643.png)\n",
        "\n",
        "  * VC dimension is still a useful concept in machine learning. It can be used to understand the complexity of a neural network and to choose a neural network that is not too complex, so that it can generalize well to new data.\n",
        "\n",
        "  * Limitations of the VC dimension (VC dimension theorem would seem to imply that large neural networks would overfit very badly and never generalize well):\n",
        "    * The VC dimension is only a theoretical bound, and it is not always accurate in practice. The VC dimension theorem assumes that the training data is drawn from an i.i.d. (independent and identically distributed) distribution. However, in practice, the training data is often not i.i.d., and this can make the VC dimension theorem less accurate.\n",
        "    * The VC dimension does not take into account the complexity of the target function. The VC dimension is only a bound on the generalization error. It is possible for a neural network to have a large VC dimension and still generalize well, if the training data is large enough.\n",
        "    * The VC dimension does not take into account the optimization algorithm used to train the neural network. There are a number of techniques that can be used to prevent neural networks from overfitting, such as regularization and dropout. These techniques can help to reduce the complexity of the neural network and make it more likely to generalize well.\n",
        "\n",
        "  * https://www.bogotobogo.com/python/scikit-learn/scikit_machine_learning_VC_Dimension_Shatter.php\n",
        "\n",
        "  * Code example: https://www.geeksforgeeks.org/vapnik-chervonenkis-dimension/\n",
        "\n",
        "  * Video: https://youtu.be/puDzy2XmR5c?si=FTPneApRNiWQkJey\n",
        "\n",
        "  * VC dimension is a method to measure model complexity. It is a measure of the capacity of a hypothesis space, which is the set of all possible hypotheses that can be learned by a machine learning algorithm. A hypothesis space with a higher VC dimension can learn more complex functions, but it will also be more likely to overfit the training data.\n",
        "\n",
        "  * The VC Dimension can provide an upper bound on the sample complexity in terms of the size of the hypothesis class, the desired error rate, and the confidence level.\n",
        "\n",
        "  * In [Vapnik–Chervonenkis theory](https://en.m.wikipedia.org/wiki/Vapnik%E2%80%93Chervonenkis_theory), the [Vapnik–Chervonenkis (VC) dimension](v) is a **measure of the capacity (complexity, expressive power, richness, or flexibility)** of a set of functions that can be learned by a statistical binary classification algorithm.\n",
        "\n",
        "  * It is defined as the cardinality of the largest set of points that the algorithm can [shatter](https://en.m.wikipedia.org/wiki/Shattered_set), which means the algorithm can always learn a perfect classifier for any labeling of at least one configuration of those data points.\n",
        "\n",
        "  * Relationship:\tThe VC dimension can be used to derive bounds on the sample complexity.\tThe sample complexity can be used to estimate the VC dimension.\n",
        "\n",
        "  * The VC dimension of a set of functions can be used to bound the generalization error of a learning algorithm. The generalization error is the error that a learning algorithm makes on new data that it has not seen before. The VC dimension theorem states that the generalization error of a learning algorithm is bounded by the VC dimension of the hypothesis space divided by the number of training examples. In other words, **the more complex the hypothesis space, the more likely it is that the learning algorithm will overfit the training data and make errors on new data** (-that was assumed for neural nets). The VC dimension can be used to choose a hypothesis space that is not too complex, so that the learning algorithm can generalize well to new data.\n",
        "\n",
        "* [Sauer's Lemma (or Sauer–Shelah Lemma)](https://en.wikipedia.org/wiki/Sauer%E2%80%93Shelah_lemma): A combinatorial bound that relates the growth function to the VC dimension and the number of data points. It says that if a hypothesis class has a VC dimension \\( d \\) and does not shatter any set of \\( d+1 \\) points, then the number of dichotomies it can produce on any set of \\( n \\) points is bounded by the sum of binomial coefficients from \\( i = 0 \\) to \\( d \\).\n",
        "\n",
        "* [Natarajan dimension](https://en.m.wikipedia.org/wiki/Natarajan_dimension): An extension of VC dimension to multiclass classification problems.\n",
        "\n",
        "* **Fat-shattering dimension**:\n",
        "\n",
        "  * An extension of the VC dimension that considers the ability of a hypothesis class to shatter sets of points with margins. It's useful for analyzing algorithms that make use of margins, like Support Vector Machines. / [Fat-shattering dimension](https://mlweb.loria.fr/book/en/fatshattering.html) at a certain scale of a function class is defined as the maximal number of points that can be fat-shattered by this function class at that scale. It can be bounded for popular function classes such as for the set of linear functions.\n",
        "\n",
        "  * https://mathoverflow.net/questions/307201/vc-dimension-fat-shattering-dimension-and-other-complexity-measures-of-a-clas\n",
        "\n",
        "  * Covering Numbers and Fat-Shattering Dimension: measures of complexity of function classes that can be used to **derive upper bounds on sample complexity** (bounds on expressivity of class of CPTP maps (or unitaries) that a quantum machine learning model (QMLM) can implement in terms of number of trainable elements)\n",
        "\n",
        "  * **fat-shattering dimension and VC dimension (Vapnik-Chervonenkis dimension)** fat-shattering dimension is not an example of an inequality. It is a measure of the complexity of a function class. A function class with a small fat-shattering dimension is said to be easy to learn, while a function class with a large fat-shattering dimension is said to be difficult to learn.\n",
        "\n",
        "  * The fat-shattering dimension is a complexity measure used in statistical learning theory. It's one way of quantifying the **complexity or expressive power of a class of functions, and it's used to derive bounds on the generalization error** of a learning algorithm.\n",
        "\n",
        "  * The formal definition of the fat-shattering dimension is a bit technical, but here's the general idea: suppose you have a class of functions, and you want to understand how complex this class is. One way of doing this is to look at how these functions can separate or \"shatter\" sets of points. If you can find large sets of points that can be arbitrarily labeled (i.e., \"shattered\") by functions in your class, then the class has high complexity.\n",
        "\n",
        "  * **Now, for the fat-shattering dimension, you add an additional constraint: you require a certain margin (the \"fatness\") between points that are labeled differently**. The largest set of points that can be shattered with a given margin is used to define the fat-shattering dimension of the function class.\n",
        "\n",
        "  * The fat-shattering dimension is related to the VC dimension (Vapnik-Chervonenkis dimension), another complexity measure that is widely used in statistical learning theory. However, **while the VC dimension only considers exact separation of points, the fat-shattering dimension takes into account this idea of a margin, which makes it more suitable for dealing with \"noisy\" or non-separable data.**\n",
        "\n",
        "  * the concept of the fat-shattering dimension is often used in the analysis of machine learning algorithms, particularly those based on empirical risk minimization. It can help to understand the trade-off between the expressive power of a function class (which often corresponds to the complexity of a learning algorithm) and the ability of the algorithm to generalize well to unseen data.\n",
        "\n",
        "* **Pseudo-Dimension**: Similar in spirit to the VC dimension but adapted for real-valued function classes rather than binary classifiers. / [Pseudo-dimension](https://link.springer.com/chapter/10.1007/978-1-4471-3748-1_4), also Pollard dimension, is a generalization of the VC-dimension to real-valued functions. The fat-shattering dimension, unlike the Pseudo-dimension, is a “scale-sensitive” measure of richness.\n"
      ],
      "metadata": {
        "id": "yKc3PDS6bXwM"
      }
    },
    {
      "cell_type": "markdown",
      "source": [
        "[**Concentration inequalities**](https://en.m.wikipedia.org/wiki/Concentration_inequality) = bounds probability of estimator deviating from its expected value by a certain amount = provide guarantees on accuracy of estimator. Inequalities above just bound magnitude of deviation, bound probability. Will a learning algorithm converge to correct hypothesis with high probability, even if data is noisy or incomplete? Concentration inequalities can be used to bound VC dimension of hypothesis space to design ML algorithms that are guaranteed to generalize well to new data. And in regularization (to control complexity of ML models): analyze effects of regularization on generalization performance of ML models. Concentration inequalities don't guarantee learning a function with small error, but provide high degree of confidence that algorithm is likely to learn a good function, given a sufficient number of training samples and a suitable regularization scheme.\n",
        "\n",
        "* Matrix concentration inequalities: use by Ewin tang for dequantization, see also: https://arxiv.org/abs/1501.01571 - An Introduction to Matrix Concentration Inequalities. Some common matrix concentration inequalities that might appear in Tang's work include:\n",
        "\n",
        "  * Matrix Bernstein Inequality: Provides bounds on the deviation of the sum of random matrices from its expectation. It has variants tailored to handling sums of matrices that aren't independent.\n",
        "  * Matrix Hoeffding Inequality: Generalizes Hoeffding's inequality (which is for sums of random variables) to the matrix setting.\n",
        "  * Matrix Chernoff Bound: Gives tail bounds on how much a random matrix might deviate from its mean.\n",
        "\n",
        "\n",
        "* [Markov's inequality](https://en.m.wikipedia.org/wiki/Markov%27s_inequality): simplest concentration inequality. Bounds probability that random variable deviates from its expected value by a certain amount = bounds probability of errors in statistical estimators, proves convergence of learning algorithms, analyzes performance of randomized algorithms.\n",
        "\n",
        "* [Hoeffding's inequality](https://en.m.wikipedia.org/wiki/Hoeffding%27s_inequality):\n",
        "  * We want to guarantee that a hypothesis with a small training error will have good accuracy on unseen examples, and one way to do so is with Hoeffding bounds. This characterizes the deviation between the true probability of some event and its observed frequency over m independent trails. [Source](https://www.cis.upenn.edu/~danroth/Teaching/CS446-17/LectureNotesNew/colt/main.pdf)\n",
        "  * states that probability that average of a number of independent and identically distributed random variables deviates from its expected value by more than a certain amount is exponentially small in number of random variables.\n",
        "  * average of n independent random variables deviates from its expected value by more than ε at most $2e^{(-2nε^2)}$ probability and decays exponentially with number of random variables -> Probability of deviation becomes very small as number of random variables increases. **This inequality bounds generalization error of a learning algorithm, regardless of the model complexity or the sample complexity. Can show that sample complexity of learning a linear regression model with a certain level of accuracy is proportional to logarithm of number of features.**  \n",
        "  * Hoeffding's inequality is a **special case of the Azuma–Hoeffding inequality and McDiarmid's inequality**. It is **similar to the Chernoff bound**, but tends to be less sharp, in particular when the variance of the random variables is small. It is **similar to, but incomparable with, one of Bernstein's inequalities**.\n",
        "  * Example: bound sample complexity of online learning algorithm (with perceptron):\n",
        "    * $X_1, X_2, ..., X_n$ be independent random variables with mean $\\mu$ and variance $\\sigma^2$.\n",
        "    * For any $\\delta > 0$, $P(\\bar{X} - \\mu > \\delta) \\leq \\exp(-\\delta^2 n / 2 \\sigma^2)$ where $\\bar{X}$ is average of $X_i$.\n",
        "    * $L_i$ be loss of Perceptron on $i$th training sample. Average loss of Perceptron on training data is: $\\bar{L} = \\frac{1}{n} \\sum_{i=1}^n L_i$.\n",
        "    * Objective: Use concentration inequality to show that average loss of Perceptron on training data is close to its expected value with high probability, given a sufficient number of training samples: $P(\\bar{L} - \\mu > \\delta) \\leq \\exp(-\\delta^2 n / 2 \\sigma^2)$ where $\\mu$ is expected loss of Perceptron on training data.\n",
        "    * With probability at least $1 - \\exp(-\\delta^2 n / 2 \\sigma^2)$, average loss of Perceptron on training data is within $\\delta$ of its expected value.\n",
        "    * Set $\\delta$ to be a small value, such as $0.01$, to ensure that average loss of Perceptron on training data is very close to its expected value with high probability.\n",
        "    * Hoeffdings inequality bounds sample complexity: $n \\geq \\frac{2 \\sigma^2 \\ln(1 / \\delta)}{\\delta^2}$ tells us that if we have $n$ training samples, then average loss of Perceptron on training data is within $\\delta$ of its expected value with probability at least $1 - \\exp(-\\delta^2 n / 2 \\sigma^2)$.\n",
        "\n",
        "* [Azuma's inequality](https://en.m.wikipedia.org/wiki/Azuma%27s_inequality)\n",
        "\n",
        "* [Chernoff bounds](https://en.m.wikipedia.org/wiki/Chernoff_bound): Bound probability of sum of independent random variables deviating from its expected value by more than a certain amount, even if the random variables are not identically distributed. Generalization of Hoeffding's inequality, used to bound tails of probability distributions.\n",
        "\n",
        "* [Bernstein's inequality](https://en.m.wikipedia.org/wiki/Bernstein_inequalities_(probability_theory)): generalization of Chernoff bounds. Bounds probability, even if the random variables are not identically distributed and have non-identical variances (used to bound tails of sub-Gaussian distributions).\n",
        "\n",
        "* [McDiarmid's inequality](https://en.m.wikipedia.org/wiki/McDiarmid%27s_inequality): bounds deviation between sampled value and expected value of certain functions (= functions that satisfy a bounded differences property, meaning that replacing a single argument to the function while leaving all other arguments unchanged cannot cause too large of a change in the value of the function) when they are evaluated on independent random variables.\n",
        "\n",
        "* [Bennett's inequality](https://en.m.wikipedia.org/wiki/Bennett%27s_inequality): provides an upper bound on the probability that the sum of independent random variables deviates from its expected value by more than any specified amount. **Can be used to: Bound the generalization error of learning algorithms.**\n",
        "\n",
        "* [(Bienaymé–) Chebyshev's inequality](https://en.m.wikipedia.org/wiki/Chebyshev%27s_inequality): provide upper bounds on the probability that a random variable deviates from its expected value by more than a certain amount. Chebyshev's inequality is particularly useful for bounding the deviations of random variables with finite mean and variance. One way to think about Chebyshev's inequality is that it provides a measure of how concentrated the probability distribution of a random variable is around its expected value. The more concentrated the probability distribution is, the lower the probability is that the random variable will deviate from its expected value by more than a certain amount. **Can be used to: Bound the probability of rare events**. Design confidence intervals for population parameters. Develop efficient algorithms for statistical testing.\n",
        "\n",
        "* [Vysochanskij–Petunin inequality](https://en.m.wikipedia.org/wiki/Vysochanskij%E2%80%93Petunin_inequality):  It is a refinement of Chebyshev's inequality that provides tighter bounds on the probability that a random variable deviates from its expected value by more than a certain amount, especially for random variables with unimodal distributions."
      ],
      "metadata": {
        "id": "2WMz6oFrnTD3"
      }
    },
    {
      "cell_type": "markdown",
      "source": [
        "**[Inequality (complexities)](https://en.m.wikipedia.org/wiki/Inequality_(mathematics)): bound probability of random variable deviating from its expected value. Analyze reliability and stability of algorithm. Computational complexity: analysis of randomized algorithms to bound error probabilities.** See [Inequalities in information theory](https://en.m.wikipedia.org/wiki/Inequalities_in_information_theory), [Information geometry](https://en.m.wikipedia.org/wiki/Information_geometry), [Information projection](https://en.m.wikipedia.org/wiki/Information_projection), and [Confidence Interval](https://en.m.wikipedia.org/wiki/Confidence_interval).\n",
        "\n",
        "Evaluate performance of estimators: bounds on Prediction Errors, Sample Complexity, Model complexity, and Deviation of Estimators. By bounding error: ensure that model is not too far from optimal solution (Regularize models by bounding complexity of model: L1 norm to bound number of parameters, L2 norm to bound sum of squared parameters).\n",
        "\n",
        "* [Triangle inequality](https://en.m.wikipedia.org/wiki/Triangle_inequality). K-means clustering: cost function is sum of squared distances between data points and cluster centroids. Squared distances can be bounded by triangle inequality.\n",
        "\n",
        "* [Cramér–Rao bound](https://en.m.wikipedia.org/wiki/Cram%C3%A9r%E2%80%93Rao_bound): lower bound (min value) on variance of an unbiased estimator (but cannot tell about probability of deviation) - this value is inverse of [Fisher information](https://de.m.wikipedia.org/wiki/Fisher-Information#Verwendung)(how much information data provides about parameters being estimated). Used to design estimators that are as efficient as possible.\n",
        "\n",
        "  * [*Quantum Cramér-Rao Bound*](https://en.m.wikipedia.org/wiki/Quantum_Cramér–Rao_bound)\n",
        "\n",
        "  * QFIM and Quantum Cramér-Rao Bound used in quantum metrology to **quantify ultimate limit to precision** that can be achieved in estimating parameters (CRB (derived from FIM) tells us smallest possible variance (or covariance in the multivariate case) that we can expect from an unbiased estimator. Fisher Information is a measure of how much information a random variable provides about an unknown parameter).\n",
        "\n",
        "  * Is an inequality: bound probability of random variable deviating from its expected value. Analyze reliability and stability of algorithm. Computational complexity: analysis of randomized algorithms to bound error probabilities.\n",
        "\n",
        "  * The Cramér-Rao bound (CRB) belongs to **model complexity** = Bounds on Precision of Estimator. It gives a measure of the best possible precision that can be achieved when estimating that parameter from a given set of data. The **quantum Cramér-Rao bound provides a limit on the precision with which these properties can be estimated, given the inherent uncertainties of quantum mechanics**.\n",
        "\n",
        "  * It provides a lower bound on the covariance matrix of any unbiased quantum estimator (The covariance matrix determines the uncertainty or precision of the estimated parameter). It characterizes the best possible precision that can be achieved in estimating a parameter of interest from quantum measurements.\n",
        "\n",
        "  * The quantum Cramér-Rao bound serves as a powerful tool for understanding the fundamental limits of precision in quantum state estimation (without consoidering noise, imperfections etc).\n",
        "\n",
        "  * The quantum Cramér-Rao bound is given by the inverse of the **Fisher information matrix**, which in the quantum case is calculated using the quantum state and the POVM (Positive Operator-Valued Measure) elements describing the measurements. It can provide insights into the optimal measurement strategies for estimating the parameters of a quantum state, and can help guide the design of quantum sensors and other quantum technologies.\n",
        "\n",
        "  * The basic formula for calculating the quantum Cramér-Rao bound (QCRB) for parameter estimation:\n",
        "\n",
        "  * $QCRB = Tr(F^{-1} M)$\n",
        "\n",
        "  * where:\n",
        "\n",
        "    - QCRB is the quantum Cramér-Rao bound, which provides a lower bound on the covariance matrix of any unbiased estimator.\n",
        "    - $F$ is the Fisher information matrix, which quantifies the amount of information provided by the measurements about the parameter of interest.\n",
        "    - $M$ is the symmetric, positive semidefinite matrix representing the measurement operators' influence on the parameter estimation.\n",
        "\n",
        "  * To calculate the QCRB, you'll need to obtain the Fisher information matrix (F) and the measurement matrix (M) for the chosen estimation strategy. The Fisher information matrix can be computed based on the measurement operators and the quantum state being measured.\n",
        "\n",
        "  * Cramér-Rao is a lower bound on the variance of any unbiased estimator of a parameter, given a fixed model. The CRB depends on the Fisher information, which is a measure of how much information the data provides about the parameter. A higher Fisher information means that the data is more informative about the parameter, and therefore the CRB is lower.\n",
        "\n",
        "  * In general, the CRB is a more fundamental concept than the sample complexity. It is used to understand the fundamental limits of parameter estimation, regardless of the amount of data available. The sample complexity, on the other hand, is more practical, as it tells us how much data we need to achieve a certain level of accuracy.\n",
        "\n",
        "  * In machine learning, the Cramér-Rao Bound (CRB) is often used as a tool for **understanding the fundamental limits of learning algorithms, particularly in the field of parameter estimation and model selection**. Here are some specific applications:\n",
        "\n",
        "    1. Variance Estimation: Similar to financial economics, the CRB provides a theoretical lower limit for the variance of an unbiased estimator. This can help understand how well a learning algorithm might perform in terms of parameter estimation, given a certain amount of data.\n",
        "\n",
        "    2. Model Complexity: The CRB can provide insights into how model complexity affects estimation accuracy. A model with too many parameters may have a higher CRB (i.e., higher variance for the best possible estimator), indicating that it could be more prone to overfitting.\n",
        "\n",
        "    3. Algorithm Evaluation: Researchers might use the CRB to evaluate and compare the performance of different learning algorithms. If an algorithm's performance is close to the CRB, it might be deemed near-optimal.\n",
        "\n",
        "    4. Designing Neural Networks: In the design of neural networks, the CRB can be used to understand the limit of what the network can learn from the data, which can help in making decisions about network architecture and training strategies.\n",
        "\n",
        "* [Trace_inequality](https://en.m.wikipedia.org/wiki/Trace_inequality) bounds the trace of a matrix by the sum of the traces of its eigenvalues. Trace inequality, also known as the triangle inequality for the trace distance, states that for any three quantum states ρ, σ, and τ, the following inequality holds:\n",
        "  * $δ(ρ, σ) + δ(σ, τ) ≥ δ(ρ, τ)$\n",
        "  * where δ(ρ, σ) is the trace distance between ρ and σ.\n",
        "  * Bounding the error of quantum learning algorithms: The trace inequality can be used to derive upper bounds on the error of quantum learning algorithms. This is useful for understanding the performance of quantum learning algorithms and for comparing them to classical learning algorithms.\n",
        "  *  The trace inequality can be used to derive bounds on the error of a wide variety of quantum learning algorithms, including algorithms for learning linear classifiers, support vector machines, and neural networks.\n",
        "  * It is important to note that the bounds derived using the trace inequality are often loose. This is because the trace inequality is a very general tool, and it does not take into account the specific structure of the quantum learning algorithm or the training data. However, the trace inequality can still be used to get a rough estimate of the error of a quantum learning algorithm.\n",
        "\n",
        "* [Bohnenblust-Hille inequality](https://en.m.wikipedia.org/wiki/Littlewood%27s_4/3_inequality):\n",
        "\n",
        "  * The Bohnenblust-Hille inequality says that the $\\ell^{\\frac{2 m}{m+1}}$-norm of the coefficients of an $m$-homogeneous polynomial $P$ on $\\mathbb{C}^n$ is bounded by $\\|P\\|_{\\infty}$ times a constant independent of $n$, where $\\|\\cdot\\|_{\\infty}$ denotes the supremum norm on the polydisc $\\mathbb{D}^n$. [Source](https://annals.math.princeton.edu/wp-content/uploads/annals-v174-n1-p13-s.pdf)\n",
        "\n",
        "\n",
        "* [Littlewood's 4/3 inequality](https://en.m.wikipedia.org/wiki/Littlewood%27s_4/3_inequality)\n",
        "\n",
        "  * is a norm inequality for multilinear forms and polynomials. It is used to study the behavior of random variables and multilinear forms. Can be used to derive concentration inequalities in some cases. For example, it can be used to prove that the coefficients of a random homogeneous polynomial are concentrated around their expected values. This can then be used to prove concentration inequalities for other random variables, such as the output of a neural network. Used in \"Learning to predict arbitrary quantum processes\".\n",
        "\n",
        "\n",
        "* [Golden–Thompson inequality](https://en.m.wikipedia.org/wiki/Golden%E2%80%93Thompson_inequality) bounds difference between logarithm of trace of a matrix and sum of logarithms of its eigenvalues. Used in 'A survey on the complexity of learning quantum states' page 17 - difference between real state and shadow tomography state)\n",
        "\n",
        "* [Cauchy–Schwarz inequality](https://en.m.wikipedia.org/wiki/Cauchy%E2%80%93Schwarz_inequality). Cauchy-Schwarz inequality used to bound sum of squared residuals (cost function for linear regression) by the sum of the squared predicted values and the sum of the squared actual values. Used in *A Survey of Quantum Learning Theory* page 11 to compute upper bounds of learning algorithm.\n",
        "\n",
        "* [Chebyshev's inequality](https://en.m.wikipedia.org/wiki/Chebyshev%27s_inequality) bounds probability that a random variable deviates from its expected value by more than a certain amount (k standard deviations at most 1/k^2).\n",
        "\n",
        "* [Rademacher Complexity](https://en.m.wikipedia.org/wiki/Rademacher_complexity):\n",
        "  * upper bound on sample complexity = on learnability of function classes (deriving generalization bounds). Measures ability of functions in class to fit to random noise. [Rademacher Complexity PDF](https://www.cs.cmu.edu/~ninamf/ML11/lect1117.pdf).\n",
        "  * When the Rademacher complexity is small, it is possible to learn the hypothesis class H using [empirical risk minimization](https://en.m.wikipedia.org/wiki/Empirical_risk_minimization).\n",
        "\n",
        "* [Gaussian complexity](https://en.m.wikipedia.org/wiki/Rademacher_complexity#Gaussian_complexity):  similar complexity to Rademacher. Can be obtained from Rademacher using random variables $g_i$ instead of $\\sigma_i$, where $g_i$ are Gaussian i.i.d. random variables with zero-mean and variance 1, i.e. $g_i \\sim \\mathcal{N}(0,1)$. Gaussian and Rademacher are equivalent up to logarithmic factors.\n",
        "\n",
        "* [Fano's inequality](https://en.m.wikipedia.org/wiki/Fano%27s_inequality): is a lower bound on the average probability of error in a multiple hypothesis testing problem. It states that the average probability of error in a multiple hypothesis testing problem is at least as high as the entropy of the hypothesis distribution divided by the natural logarithm of two. It can be used to: Design efficient multiple hypothesis testing algorithms. Lower bound the generalization error of learning algorithms. Develop new algorithms for information compression and transmission. Fano's inequality is a powerful tool for analyzing the performance of multiple hypothesis testing algorithms and other machine learning algorithms.\n",
        "\n",
        "* [Data processing inequality](https://en.m.wikipedia.org/wiki/Data_processing_inequality): is a concept that states that the information content of a signal cannot be increased via a local physical operation. This can be expressed concisely as 'post-processing cannot increase information'. It is an inequality that relates the mutual information between two random variables before and after a data processing channel. It states that the mutual information between two random variables after a data processing channel cannot be greater than the mutual information between the two random variables before the channel. It can be used to: prove that certain learning problems are impossible to solve perfectly.\n",
        "Design efficient algorithms for information compression and transmission. It is a powerful tool for analyzing the flow of information through systems."
      ],
      "metadata": {
        "id": "r6LqFuIXrNmL"
      }
    },
    {
      "cell_type": "markdown",
      "source": [
        "A norm inequality (like Bohnenblust-Hille inequalities) is an inequality that involves the norms of vectors and matrices. Norms are functions that measure the size of vectors and matrices. There are many different types of norms, but some of the most common include the Euclidean norm, the $p$-norm, and the Frobenius norm.\n",
        "\n",
        "Norm inequalities are useful in many different areas of mathematics, including functional analysis, numerical linear algebra, and machine learning. For example, norm inequalities can be used to prove bounds on the error of numerical algorithms, to design efficient machine learning algorithms, and to analyze the stability of differential equations.\n",
        "\n",
        "Here are some examples of norm inequalities:\n",
        "\n",
        "* **Triangle inequality:** $\\|x + y\\| \\leq \\|x\\| + \\|y\\|$ for all vectors $x$ and $y$.\n",
        "* **Cauchy-Schwarz inequality:** $\\|⟨x, y⟩\\| \\leq \\|x\\| \\|y\\|$ for all vectors $x$ and $y$.\n",
        "* **Hölder's inequality:** $\\left\\| \\sum_{i=1}^n a_i b_i \\right\\| \\leq \\left\\| \\sum_{i=1}^n |a_i|^p \\right\\|^{1/p} \\left\\| \\sum_{i=1}^n |b_i|^q \\right\\|^{1/q}$, where $p$ and $q$ are conjugate exponents (i.e., $1/p + 1/q = 1$).\n",
        "* **Submultiplicativity of the Frobenius norm:** $\\|AB\\|_F \\leq \\|A\\|_F \\|B\\|_F$ for all matrices $A$ and $B$.\n",
        "\n",
        "Norm inequalities can be used to prove many other important results in mathematics. For example, the triangle inequality can be used to prove the existence and uniqueness of solutions to differential equations. The Cauchy-Schwarz inequality can be used to prove the Bessel inequality, which is a fundamental result in Fourier analysis. Hölder's inequality can be used to prove the Minkowski inequality, which is another important result in functional analysis.\n",
        "\n",
        "Norm inequalities are a powerful tool in mathematics, and they have many applications in science and engineering.\n",
        "\n",
        "*Yes, the triangle inequality is a norm inequality. The triangle inequality states that the norm of the sum of two vectors is less than or equal to the sum of the norms of the two vectors. In other words, for any two vectors $x$ and $y$, we have:*\n",
        "\n",
        "```\n",
        "||x + y|| <= ||x|| + ||y||\n",
        "```\n",
        "\n",
        "This inequality holds for any norm, including the Euclidean norm, the $p$-norm, and the Frobenius norm.\n",
        "\n",
        "The triangle inequality is a fundamental property of norms, and it has many important consequences. For example, the triangle inequality can be used to prove the existence and uniqueness of solutions to differential equations, and it can also be used to design efficient machine learning algorithms.\n",
        "\n",
        "The triangle inequality is also related to the triangle inequality in Euclidean geometry. The triangle inequality in Euclidean geometry states that the sum of the lengths of any two sides of a triangle must be greater than or equal to the length of the third side. This inequality can be proven using the triangle inequality for norms.\n",
        "\n",
        "In conclusion, the triangle inequality is a norm inequality that has many important applications in mathematics, science, and engineering."
      ],
      "metadata": {
        "id": "6eeeLVg3nFxf"
      }
    },
    {
      "cell_type": "markdown",
      "source": [
        "**what means that a generalization bound is uniform?**\n",
        "\n",
        "A generalization bound is said to be uniform if it holds for all hypotheses in a given hypothesis class, rather than just for a specific hypothesis. This is important because it allows us to make guarantees about the performance of our learning algorithm on any new data, regardless of the specific hypothesis that it learns.\n",
        "\n",
        "Uniform generalization bounds are typically derived using a technique called **Rademacher complexity**. Rademacher complexity is a measure of the complexity of a hypothesis class, and it can be used to bound the generalization error of any learning algorithm that uses that hypothesis class.\n",
        "\n",
        "Uniform generalization bounds are particularly useful for complex hypothesis classes, such as the class of all neural networks. These hypothesis classes have infinite VC-dimension, which makes it difficult to derive generalization bounds using traditional methods. However, uniform generalization bounds based on Rademacher complexity can be applied to any hypothesis class, regardless of its VC-dimension.\n",
        "\n",
        "Some examples of uniform generalization bounds include:\n",
        "\n",
        "* The generalization bound for uniformly stable learning algorithms\n",
        "* The generalization bound for overparameterized neural networks in kernel regimes\n",
        "\n",
        "Uniform generalization bounds are an important tool for understanding and analyzing the performance of machine learning algorithms. They allow us to make guarantees about the ability of our algorithms to generalize to new data, even when the hypothesis class is complex.\n",
        "\n",
        "Here is a simple analogy to help understand uniform generalization bounds:\n",
        "\n",
        "Imagine that you are trying to train a model to predict whether a given email is spam or not. You have a dataset of labeled emails, and you use this dataset to train a machine learning algorithm.\n",
        "\n",
        "Once the algorithm is trained, you want to be able to use it to predict the spam/ham label of any new email, even if that email is not in the training dataset.\n",
        "\n",
        "A uniform generalization bound tells you that the probability that your algorithm will make a mistake on any new email is less than a certain threshold. This threshold is independent of the specific email that you are trying to predict.\n",
        "\n",
        "In other words, a uniform generalization bound guarantees that your algorithm will generalize well to any new data, even if that data is very different from the training data."
      ],
      "metadata": {
        "id": "WLrjg16KskW_"
      }
    },
    {
      "cell_type": "markdown",
      "source": [
        "#### <font color=\"Blue\">**Computational Complexity**"
      ],
      "metadata": {
        "id": "vLLaN6mPXKth"
      }
    },
    {
      "cell_type": "markdown",
      "source": [
        "##### *Computational Complexity*"
      ],
      "metadata": {
        "id": "efzpvSJocU3I"
      }
    },
    {
      "cell_type": "markdown",
      "source": [
        "> [**Computational complexity theory**](https://en.m.wikipedia.org/wiki/Computational_complexity_theory) = <u>**Is it possible to compute a function efficiently?**</u>\n",
        "\n",
        "* Read: [A Short History of Computational Complexity](https://www.uni-ulm.de/fileadmin/website_uni_ulm/iui.inst.190/Mitarbeiter/toran/beatcs/column80.pdf)\n",
        "\n",
        "* **Definition**: Computational complexity theory asks \"How efficiently can a problem be solved\"? (NP-complete, NP-hard, P problems, etc. on Turing machine). It studies the resources (time, space, etc.) required to solve different computational problems. For **Quantum Computing: understand the ultimate physical limits to computation**\n",
        "\n",
        "* **Origin**: Hartmanis and Stearns showed that computational problems have an inherent complexity, which can be quantified in terms of the number of steps needed on a simple model of a computer, the multi-tape Turing machine. efficient reductions... collapse in equivalent classes, to natural complexity classes. motion of reducability. [Yablonsky](https://en.m.wikipedia.org/wiki/Sergey_Yablonsky) one of first to raise issues of potentially **inherent unavoidability of brute force search for some problems**, precursor of P = NP problem\n",
        "\n",
        "* **Special - Quantum**: [Quantum circuit complexity](https://en.m.wikipedia.org/wiki/Quantum_complexity_theory): subfield of computational complexity theory that deals with complexity classes defined using quantum computers. Studies hardness of computational problems and relationship between complexity classes. Two important: BQP and QMA.\n",
        "\n",
        "* **Ausgangspunkt**: [Quantum many body problem](https://en.m.wikipedia.org/wiki/Many-body_problem): seems exponentially difficult for classical computers to simulate quantum systems ([Source](https://en.m.wikipedia.org/wiki/Quantum_threshold_theorem#Notes)). Quantum computers can simulate many Hamiltonians in [polynomial time with bounded errors](https://en.m.wikipedia.org/wiki/BQP) (BQP): chemical simulations, drug discovery, energy production, [climate modeling](https://en.m.wikipedia.org/wiki/Climate_model) and [FeMoco](https://en.m.wikipedia.org/wiki/FeMoco). [Finally, a Problem That Only Quantum Computers Will Ever Be Able to Solve](https://www.quantamagazine.org/finally-a-problem-that-only-quantum-computers-will-ever-be-able-to-solve-20180621/). **Iterative improvements in classical algorithm are not enough**. Quantum computing: an “easy” problem can be solved on QC in polynomial time is class BQP (Bounded-error Quantum Polynomial time), and a hard problem which can only be verified in polynomial time is class QMA (the playfully named [Quantum Merlin Arthur](https://en.m.wikipedia.org/wiki/QMA)).  Hope in field is that there is overlap between NP and BQP: a hard problem can be transformed into an easy one.\n",
        "\n",
        "* **Limitations**: [\"The Limits of Quantum Computers\"](https://www.scientificamerican.com/article/the-limits-of-quantum-computers/): Quantum computers may provide a massive speedup for problems in the BQP complexity class. Nothing more. They are no more powerful than a Turing machine (in terms of the problems that can be solved). [The_Limits_of_Quantum_Computers](https://www.cs.virginia.edu/~robins/The_Limits_of_Quantum_Computers.pdf). [How Big are Quantum States?](https://www.scottaaronson.com/democritus/lec13.html).\n",
        "\n",
        "\n",
        "* **Computational Problems**: Decision, Sampling, Counting, Verifying, Optimization, Function etc. [Decision Problems](https://en.m.wikipedia.org/wiki/Decision_problem) see also [Search Problem](https://en.m.wikipedia.org/wiki/Search_problem) wie PH oder RP, Sampling Problem wie RP oder Boson Sampling, Proof Verifier Problems wie P, IP oder MIP* = RE, [Counting Problems](https://en.m.wikipedia.org/wiki/Counting_problem_(complexity)), wie Sharp-P oder P#P.\n",
        "\n",
        "* **Further reading:**\n",
        "  * Wiki: [Quantum complexity theory](https://en.m.wikipedia.org/wiki/Quantum_complexity_theory). [Quantum_supremacy: Computational_complexity](https://en.m.wikipedia.org/wiki/Quantum_supremacy#Computational_complexity). [Computational_problem](https://en.m.wikipedia.org/wiki/Computational_problem).\n",
        "  * Five worlds of Hardness: [Which Computational Universe Do We Live In?](https://www.quantamagazine.org/which-computational-universe-do-we-live-in-20220418/)\n",
        "  * [A Short Guide to Hard Problems](https://www.quantamagazine.org/a-short-guide-to-hard-problems-20180716/). [A New Map Traces the Limits of Computation](https://www.quantamagazine.org/edit-distance-reveals-hard-computational-problems-20150929/).\n",
        "  * Diagonalization remains one of key tools in complexity theorists’ arsenal [Alan Turing and the Power of Negative Thinking](https://www.quantamagazine.org/alan-turing-and-the-power-of-negative-thinking-20230905/).\n",
        "  * [Complexity Theory’s 50-Year Journey to the Limits of Knowledge](https://www.quantamagazine.org/complexity-theorys-50-year-journey-to-the-limits-of-knowledge-20230817/)."
      ],
      "metadata": {
        "id": "E-jqmAnSXhmi"
      }
    },
    {
      "cell_type": "markdown",
      "source": [
        "[**Meta-complexity**](https://simons.berkeley.edu/programs/Meta-Complexity2023) (Example: Minimum Circuit Size Problem)\n",
        "\n",
        "* Video: [How Complex Is Complexity? Or What’s a ‘Meta’ for?](https://www.youtube.com/watch?v=7cgcPNUNgxQ) by Eric Allender at Somons Institute\n",
        "\n",
        "* **Meta-complexity**: [Complexity Theory’s 50-Year Journey to the Limits of Knowledge](https://www.quantamagazine.org/complexity-theorys-50-year-journey-to-the-limits-of-knowledge-20230817/). It is concerned with difficulty of computational problems, both directly and indirectly. **How hard is it to prove that problems are hard to solve?**\n",
        "\n",
        "  * **Computational complexity theory**:\tDifficulty of computational problems\n",
        "  * **Meta-complexity theory**:\tDifficulty of determining the difficulty of computational problems\n",
        "\n",
        "* Example: [Minimum Circuit Size Problem](https://en.m.wikipedia.org/wiki/Circuit_complexity) (MCSP - Circuit Complexity), is concerned with complexity of Boolean functions. Bit string $2^n$ is a truth table of a function, and a number s. Does that function has a small circuit (of size at most s)?\n",
        "\n",
        "  * (f,s) : f has a circuit of size ≤ s, where f is represented by a bit string of length $2^n$ (seems intractable, is hard)\n",
        "\n",
        "  * **Complexity question**: Show f is hard\n",
        "\n",
        "  * **Meta-Complexity question**: show that it is hard to show that f is hard\n",
        "\n",
        "* Difference between computational complexity and algorithmic information theory on MCSP:\n",
        "\n",
        "  * In **computational complexity theory**, MCSP asks whether a given Boolean function can be computed by a circuit of a certain size (NP-hard, but not known whether NP-complete) - Is it possible to **compute efficiently** a given Boolean function?\n",
        "\n",
        "  * In **algorithmic information theory**, MCSP asks for Kolmogorov complexity of a given Boolean function (how difficult it is to describe object using a computer program?) - How difficult it is to **describe concisely** a given Boolean function?\n",
        "\n"
      ],
      "metadata": {
        "id": "_h99ix-0Tshq"
      }
    },
    {
      "cell_type": "markdown",
      "source": [
        "**Circuit Complexity**\n",
        "* Quantum circuit complexity is a measure of the minimum number of quantum gates needed to implement a given unitary transformation\n",
        "* circuit complexity is a lower bound on computational capacity.\n",
        "* (run)time complexity of a quantum algorithm depends on a number of factors, **including the circuit complexity of the algorithm**, the architecture of the quantum computer, and the error rate of the quantum computer.\n",
        "* For [quantum circuit complexity](https://en.m.wikipedia.org/wiki/Circuit_complexity) see also:\n",
        "  * [Linear growth of quantum circuit complexity](https://arxiv.org/abs/2106.05305): Consider constructing deeper and deeper circuits for an n-qubit system, by applying random two-qubit gates. At what rate does the circuit complexity increase?\n",
        "  * [Quantum Computation as Geometry](https://arxiv.org/abs/quant-ph/0603161): Determining the quantum circuit complexity of a unitary operation is closely related to the problem of finding minimal length paths in a particular curved geometry.\n",
        "  * [The geometry of quantum computation](https://arxiv.org/abs/quant-ph/0701004)\n",
        "  * [Quantum Computation as Geometry](https://arxiv.org/abs/quant-ph/0603161) (Nielsen geometry)\n",
        "* [Quantum circuit complexity](https://en.m.wikipedia.org/wiki/Circuit_complexity) is a fundamental concept in quantum computation: widespread applications ranging from determining the running time of quantum algorithms to understanding the physics of black holes. By understanding the complexity of quantum circuits, we can develop more efficient quantum algorithms and better understand the capabilities of quantum computers.\n",
        "  * **Circuit complexity is a measure of the difficulty of computing a function using a Boolean circuit.** A Boolean circuit is a network of logic gates that computes a Boolean function, which is a function that takes a Boolean input vector and produces a Boolean output. The size of a circuit is the number of gates it contains, and its depth is the longest path from an input gate to an output gate.\n",
        "  * Quantum circuit complexity is a **measure of the minimum number of quantum gates needed to implement a given unitary transformation**. However, it is important to note that not all gates are created equal. Some gates are more complex than others, and it may take multiple gates to implement a single unitary transformation.\n",
        "  * Measure the complexity of a quantum gate:\n",
        "    * by its depth: The depth of a gate is the longest path from the input to the output of the gate.\n",
        "    * by its size: The size of a gate is the number of qubits it acts on.\n",
        "  * Quantum circuits are a graphical representation of quantum algorithms. They consist of a sequence of quantum gates, which are unitary operations that act on quantum qubits. The output of a quantum circuit is a unitary transformation on the input state. Here are some examples of quantum circuit complexity:\n",
        "  * The quantum Fourier transform can be implemented with a circuit of depth O(log n), where n is the number of qubits. The quantum Fourier transform can be implemented with a circuit of depth O(log n), where n is the number of qubits. However, the time complexity of the quantum Fourier transform depends on the architecture of the quantum computer. For example, if the quantum computer can implement the quantum Fourier transform using a parallel circuit, then the time complexity will be O(log n). However, if the quantum computer can only implement the quantum Fourier transform using a sequential circuit, then the time complexity will be O(n log n).\n",
        "  * Shor's algorithm for factoring integers can be implemented with a circuit of depth O(log n). Shor's algorithm for factoring integers can be implemented with a circuit of depth O(log n). However, the time complexity of Shor's algorithm depends on the error rate of the quantum computer. If the error rate is low enough, then the time complexity of Shor's algorithm will be polynomial in the size of the integer being factored.\n",
        "  * Grover's algorithm for searching unsorted databases can be implemented with a circuit of depth O(sqrt(N)), where N is the size of the database. Grover's algorithm for searching unsorted databases can be implemented with a circuit of depth O(sqrt(N)), where N is the size of the database. However, the time complexity of Grover's algorithm depends on the number of queries that can be made to the database. If the number of queries is limited, then the time complexity of Grover's algorithm will be higher than O(sqrt(N))\n",
        "* Research papers:\n",
        "  * [Complexity and order in approximate quantum error-correcting codes](https://arxiv.org/abs/2310.04710): We establish rigorous connections between quantum circuit complexity and approximate quantum error correction (AQEC) properties, covering both all-to-all and geometric scenarios including lattice systems. Approximate quantum error correction is a mostly unexplored land, of which we know only a few landmarks. Here they give us a map, and show interesting connections to other areas of physics.\n",
        "  * [Linear growth of quantum circuit complexity](https://arxiv.org/abs/2106.05305): Consider constructing deeper and deeper circuits for an n-qubit system, by applying random two-qubit gates. At what rate does the circuit complexity increase?\n",
        "  * [Quantum Computation as Geometry](https://arxiv.org/abs/quant-ph/0603161): Determining the quantum circuit complexity of a unitary operation is closely related to the problem of finding minimal length paths in a particular curved geometry.\n",
        "  * [The geometry of quantum computation](https://arxiv.org/abs/quant-ph/0701004)\n",
        "  * [Quantum Computation as Geometry](https://arxiv.org/abs/quant-ph/0603161) (Nielsen geometry)\n",
        "\n",
        "\n",
        "\n"
      ],
      "metadata": {
        "id": "EKpQ47BNMI_I"
      }
    },
    {
      "cell_type": "markdown",
      "source": [
        "[**Complexity Classes**](https://en.m.wikipedia.org/wiki/Complexity_class)\n",
        "\n",
        "The relationship of BQP to essential classical complexity classes [(Source)](https://en.m.wikipedia.org/wiki/Quantum_complexity_theory):\n",
        "\n",
        "> ${\\mathsf {P\\subseteq BPP\\subseteq BQP\\subseteq PP\\subseteq PSPACE}}$\n",
        "\n",
        "Relationships between fundamental time and space complexity classes [(S1)](https://en.m.wikipedia.org/wiki/PSPACE) and [(S2)](https://en.m.wikipedia.org/wiki/Complexity_class):\n",
        "\n",
        "> ${\\mathsf {NL\\subseteq P\\subseteq NP\\subseteq PH\\subseteq PSPACE\\subseteq EXPTIME\\subseteq EXPSPACE}}$\n",
        "\n",
        "\n",
        "* [P](https://en.m.wikipedia.org/wiki/P_(complexity)): Can be solved by a deterministic classical computer in polynomial time. P $\\subseteq$ BQP (i.e. anything you can do with a classic computer you can do with a quantum computer). We don't know if that is a strict inequality! [Source](https://quantumcomputing.stackexchange.com/questions/16506/can-quantum-computer-solve-np-complete-problems)\n",
        "\n",
        "* [RP](https://en.m.wikipedia.org/wiki/RP_(complexity)) und [ZPP](https://en.m.wikipedia.org/wiki/ZPP_(complexity)). Unsolved problem in computer science: $\\displaystyle {\\mathsf {P}}{\\overset {?}{=}}{\\mathsf {RP}}$. [RP](https://en.m.wikipedia.org/wiki/RP_(complexity)): Sampling Problem. Randomized polynomial time (RP) is the complexity class of problems for which a [probabilistic Turing machine](https://en.m.wikipedia.org/wiki/Probabilistic_Turing_machine) exists with these properties. Class of problems for which a randomized algorithm can give the correct answer in polynomial time, with a probability of at least 1/2 for \"yes\" instances. Ask for samples from probability distributions. [Source](https://en.m.wikipedia.org/wiki/Quantum_supremacy).\n",
        "  * [Boson sampling](https://en.m.wikipedia.org/wiki/Boson_sampling) Boson sampling is believed to be an RP complexity problem (randomized polynomial time - not proven): solve it in polynomial time with a high probability of success. Randomized algorithm is quantum computer that sample from Boson sampling distribution, which exponentially hard to sample from classically, but maybe polynomial for QC. Showing that Boson sampling is RP -> demonstrate quantum supremacy.\n",
        "  * [Sampling the output distribution of random quantum circuits\n",
        "  ](https://en.m.wikipedia.org/wiki/Quantum_supremacy#Sampling_the_output_distribution_of_random_quantum_circuits) (Google experiment)\n",
        "  * [Solving the sampling problem of the Sycamore quantum circuits](https://arxiv.org/abs/2111.03011)\n",
        "  * [Quantum Sampling Problems, Boson Sampling and Quantum Supremacy](https://arxiv.org/abs/1702.03061)\n",
        "  * [Computational advantage of quantum random sampling](https://arxiv.org/abs/2206.04079)\n",
        "  \n",
        "* [BPP](https://de.m.wikipedia.org/wiki/BPP_(Komplexitätsklasse)): Decision problems, that can be solved by a probabilistic classical computer in polynomial time\n",
        "\n",
        "* [BQP](https://en.m.wikipedia.org/wiki/BQP): Decision problems, that can be solved by a quantum computer in polynomial time (with quantum probability).\n",
        "  * BQP are not in [BPP](https://de.m.wikipedia.org/wiki/BPP_(Komplexitätsklasse)): [Factorization](https://de.m.wikipedia.org/wiki/Faktorisierung) with [Shor's algorithm](https://de.m.wikipedia.org/wiki/Shor-Algorithmus). BQP = P? - Open Question. Dequantized algorithms for such problems – high-rank matrix inversion, for example – would imply that classical computers can efficiently simulate quantum computers, i.e., BQP = P, which is **not** currently considered to be likely. [Source](https://arxiv.org/abs/1905.10415)\n",
        "\n",
        "* [PP](https://de.m.wikipedia.org/wiki/Probabilistische_Polynomialzeit) - Decision problems, die in von einer probabilistischen Turingmaschine in Polynomialzeit lösbar ist und die Antwort in mindestens der Hälfte der Fälle richtig ist. [PostBQP](https://en.m.wikipedia.org/wiki/PostBQP) = [PP](https://de.m.wikipedia.org/wiki/Probabilistische_Polynomialzeit).\n",
        "\n",
        "* [PSPACE](https://de.m.wikipedia.org/wiki/PSPACE) - Problems that can be solved using a polynomial amount of memory, and possibly exponential time.\n",
        "\n",
        "* [IP](https://en.m.wikipedia.org/wiki/IP_(complexity)) interactive proof) is the class of problems solvable by an interactive proof system. It is equal to the class PSPACE.\n",
        "\n",
        "* [NP](https://en.m.wikipedia.org/wiki/NP_(complexity)): Solution can be checked by a deterministic classical computer in polynomial time. [List of NP problems](https://en.m.wikipedia.org/wiki/List_of_NP-complete_problems).\n",
        "  * [NP-Hard](https://en.m.wikipedia.org/wiki/NP-hardness): [travelling salesman](https://en.m.wikipedia.org/wiki/Travelling_salesman_problem). [Sign Problem](https://en.m.wikipedia.org/wiki/Numerical_sign_problem), zB [Sign-Problem-Free Fermionic Quantum Monte Carlo](https://arxiv.org/pdf/1805.08219.pdf)\n",
        "    * [PCP theorem](https://en.m.wikipedia.org/wiki/PCP_theorem): states that every decision problem in the NP complexity class has probabilistically checkable proofs (proofs that can be checked by a randomized algorithm) of constant query complexity and logarithmic randomness complexity (uses a logarithmic number of random bits). The PCP theorem is the cornerstone of the theory of computational [hardness of approximation](https://en.m.wikipedia.org/wiki/Hardness_of_approximation), which investigates the inherent difficulty in designing efficient [approximation algorithms](https://en.m.wikipedia.org/wiki/Approximation_algorithm) for various [optimization problems](https://en.m.wikipedia.org/wiki/Computational_problem).\n",
        "  * [NP-Complete](https://en.m.wikipedia.org/wiki/NP-completeness): hardest of problems to which solutions can be verified quickly, like [Halting problem](https://en.m.wikipedia.org/wiki/Halting_problem) or [3SAT](https://en.m.wikipedia.org/wiki/Boolean_satisfiability_problem) (except, one manages to create a reduction of Grovers algorithm on this NP-Complete algorithm). Can quantum computer solve NP-complete problems? - if you solve any NP-complete problem, all other NP problems come as a 'freebie' (not just the NP-complete ones). In that sense, it would be a huge milestone. It is widely believed that quantum computers cannot solve NP-complete problems, but it has never been proven [Source](https://quantumcomputing.stackexchange.com/questions/16506/can-quantum-computer-solve-np-complete-problems)\n",
        "  * [Co-NP](https://de.m.wikipedia.org/wiki/Co-NP): Complement of NP. Problems for which a \"no\" answer can be verified in polynomial time\n",
        "  * [P versus NP](https://en.m.wikipedia.org/wiki/P_versus_NP_problem): Open question, [video1](https://youtu.be/EHp4FPyajKQ), [video2](https://youtu.be/YX40hbAHx3s)\n",
        "  * [BQNP: The quantum analogue of NP](https://medium.com/mit-6-s089-intro-to-quantum-computing/bqnp-the-quantum-analogue-of-np-486ed2469c1d) and [What is the relationship between BQP and NP?](https://www.quora.com/What-is-the-relationship-between-BQP-and-NP-1)\n",
        "  * Kolmogorov suggested, even before the notions of P, NP, and NP-completeness existed, that lower bound efforts might best be focused on sets that are relatively devoid of simple structure. That is, the NP-complete problems are probably too structured to be good candidates for separating P from NP. One should rather focus on the intermediate less-structured sets that somehow are complex enough to prove separations. As a candidate of such a set he proposed to look at the set of what we call nowadays the **resource-bounded Kolmogorov random strings.** His student Levin looked at \"Time-bounded Kolmogorov Complexity\"\n",
        "\n",
        "* [PH](https://en.m.wikipedia.org/wiki/PH_(complexity)) union of all complexity classes in polynomial hierarchy. Generalizations of NP.\n",
        "\n",
        "\n",
        "* [QMA](https://en.m.wikipedia.org/wiki/QMA): Solution can be checked by a quantum computer in polynomial time.\n",
        "  * QMA is the quantum analog of the NP complexity class.\n",
        "  * HeurBQP/qpoly ⊆ HeurQMA/poly (The Learnability of Quantum States, 2004)\n",
        "  * Many interesting classes are contained in QMA, such as P, BQP and NP, all problems in those classes are also in QMA. However, there are problems that are in QMA but not known to be in NP or BQP. A [list of known QMA-complete problems](https://arxiv.org/abs/1212.6312)\n",
        "    * Quantum circuit/channel property verification (V)\n",
        "    * Hamiltonian ground state estimation (H), icl. Quantum k-SAT (S)\n",
        "    * Density matrix consistency (C)\n",
        "  * The **Local Hamiltonian problem** is a complexity class in quantum computing. It is the problem of determining the ground state energy of a local Hamiltonian. It is QMA-complete, which means that there exists a quantum algorithm that can solve the problem with a polynomial number of queries to a quantum oracle, and no classical algorithm can solve the problem with a polynomial number of queries to a classical oracle, unless P=BQP. The Local Hamiltonian problem is a fundamental problem in quantum computing. It is a key problem in the study of quantum algorithms for solving optimization problems.\n",
        "* [RE](https://en.m.wikipedia.org/wiki/RE_(complexity)) recursively enumerable, is the class of decision problems for which a 'yes' answer can be verified by a Turing machine in a finite amount of time. RE-complete problem: Halting problem.\n",
        "* [MIP* = RE ?](https://medium.com/mit-6-s089-intro-to-quantum-computing/mip-re-6e903720c82f), bzw [MIP* = RE (arXiv)](https://arxiv.org/abs/2001.04383) (aus Spektrum der Wissenschaft 7/20): enthält MIP* sämtliche berechenbaren Probleme der Informatik! Dem Beweis zufolge ist MIP identisch mit der riesigen Komplexitätsklasse RE. Sie umfasst alle Entscheidungsprobleme (solche, deren Antwort Ja oder Nein lautet), die ein Computer in endlicher Zeit bejahen kann. Darunter fällt unter anderem die hartnäckigste aller Aufgaben, das berühmte Halteproblem. Dabei geht es darum, zu bestimmen, ob ein Computer bei einer Berechnung jemals anhalten kann – oder für immer weiterrechnet.\n",
        "\n",
        "*Further important complexity classes*\n",
        "\n",
        "* [DQC1](https://en.m.wikipedia.org/wiki/One_Clean_Qubit): Deterministic quantum computation with one clean qubit is the class of decision problems solvable by a one clean qubit machine in polynomial time, upon measuring the first qubit, with an error probability of at most 1/poly(n) for all instances\n",
        "* [Optimization problems](https://en.m.wikipedia.org/wiki/Optimization_problem), see [Complexity Classes for Optimization Problems](https://home.in.tum.de/~kugele/files/JoBSIS.pdf): [PLS](https://en.m.wikipedia.org/wiki/PLS_(complexity)): a local optimal solution can be found in polynomial time, but it might not be the global optimal solution. **NPO** is the optimization equivalent to NP (candidate solution can be checked in polynomial time). [APX](https://en.m.wikipedia.org/wiki/APX) for problems that can be approximated within a constant factor in polynomial time.\n",
        "* [Function problems](https://en.m.wikipedia.org/wiki/Function_problem): [FP](https://en.m.wikipedia.org/wiki/FP_(complexity)): The function problem equivalent of P, where the task is to compute a specific output rather than just deciding yes/no.\n",
        "* [Sharp-P](https://de.m.wikipedia.org/wiki/Sharp-P) How many solutions are there? Sharp P complete problems: #SAT oder Anzahl der perfekten Matchings eines bipartiten Graphen\n",
        "* More: https://complexityzoo.net/Complexity_Zoo\n",
        "\n",
        "\n"
      ],
      "metadata": {
        "id": "B8Sn02WrzXmF"
      }
    },
    {
      "cell_type": "markdown",
      "source": [
        "![sciences](https://raw.githubusercontent.com/deltorobarba/repo/master/sciences_1684.png)\n",
        "\n",
        "![sciences](https://raw.githubusercontent.com/deltorobarba/repo/master/sciences_1655.png)\n",
        "\n",
        "![sciences](https://raw.githubusercontent.com/deltorobarba/repo/master/sciences_1646.png)\n",
        "\n",
        "![sciences](https://raw.githubusercontent.com/deltorobarba/repo/master/sciences_1274.png)\n",
        "\n",
        "![sciences](https://raw.githubusercontent.com/deltorobarba/repo/master/sciences_1646.jpg)\n",
        "\n",
        "![sciences](https://raw.githubusercontent.com/deltorobarba/repo/master/sciences_1647.png)\n",
        "\n",
        "*Source [here](https://www.researchgate.net/figure/Computability-hierarchy-and-computational-complexity-classes_fig5_341817215)*"
      ],
      "metadata": {
        "id": "vQZjqUGyNu2a"
      }
    },
    {
      "cell_type": "markdown",
      "source": [
        "**Computer Efficiency & Spacetime Complexity**\n",
        "\n",
        "*How to calculate Computer Performance?*: [Frontier supercomputer](https://en.m.wikipedia.org/wiki/Frontier_(supercomputer)) is capable of making 1,102,000 [TFLOPs](https://en.m.wikipedia.org/wiki/FLOPS) (1.1 quintillion calculations per second).  [Exascale_computing](https://en.m.wikipedia.org/wiki/Exascale_computing). [Floating-point_arithmetic](https://en.m.wikipedia.org/wiki/Floating-point_arithmetic). [Instructions_per_second](https://en.m.wikipedia.org/wiki/Instructions_per_second). [Gleitkommazahl](https://de.m.wikipedia.org/wiki/Gleitkommazahl) (floating point). [Floating_point_numbers](https://en.wikibooks.org/wiki/A-level_Computing/AQA/Paper_2/Fundamentals_of_data_representation/Floating_point_numbers). [Double-precision_floating-point_format](https://en.m.wikipedia.org/wiki/Double-precision_floating-point_format)\n",
        "\n",
        "![sciences](https://raw.githubusercontent.com/deltorobarba/repo/master/sciences_1273.png)\n",
        "\n",
        "![sciences](https://raw.githubusercontent.com/deltorobarba/repo/master/sciences_1683.jpg)\n",
        "\n",
        "[Researchers Approach New Speed Limit for Seminal Problem](https://www.quantamagazine.org/researchers-approach-new-speed-limit-for-seminal-problem-20240129/): Integer linear programming can help find the answer to a variety of real-world problems. Now researchers have found a much faster way to do it.\n",
        "\n",
        "Source: [Youtube](https://youtu.be/A5QTukT1VS8?si=tpAqnNWsgS9aWAEm), https://wires.onlinelibrary.wiley.com/doi/epdf/10.1002/wcms.1481\n",
        "\n",
        "![sciences](https://raw.githubusercontent.com/deltorobarba/repo/master/sciences_1630.png)\n",
        "\n",
        "* Examples: [Computational complexity of mathematical operations](https://en.m.wikipedia.org/wiki/Computational_complexity_of_mathematical_operations#Matrix_algebra) and [Computational complexity of matrix multiplication](https://en.m.wikipedia.org/wiki/Computational_complexity_of_matrix_multiplication)\n",
        "\n",
        "* **Time complexity vs Space complexity**: [Time Complexity](https://en.m.wikipedia.org/wiki/Time_complexity): Big O notation.\n",
        "  * The time complexity is the [computational complexity](https://en.m.wikipedia.org/wiki/Computational_complexity) that describes the amount of computer time it takes to run an algorithm. Time complexity is commonly estimated by counting the number of elementary operations performed by the algorithm. See also [Time hierarchy theorem](https://en.m.wikipedia.org/wiki/Time_hierarchy_theorem). [Space complexity](https://en.m.wikipedia.org/wiki/Space_complexity) is generally expressed as the amount of memory required by an algorithm on an input of size n. See also [Space hierarchy theorem](https://en.m.wikipedia.org/wiki/Space_hierarchy_theorem).\n",
        "  * [Time complexity](https://en.m.wikipedia.org/wiki/Time_complexity), Space Complexity = Auxiliary Space + Space used for input values, [Space time tradeoff](https://en.m.wikipedia.org/wiki/Space–time_tradeoff), [Garbage collection](https://de.m.wikipedia.org/wiki/Garbage_Collection), [Time and Space Complexity Analysis of Algorithm](https://afteracademy.com/blog/time-and-space-complexity-analysis-of-algorithm), [How to compute Time Complexity or Order of Growth of any program](https://www.rookieslab.com/posts/how-to-compute-time-complexity-order-of-growth-of-any-program)\n",
        "\n",
        "* Time Complexity: The amount of time it takes a learning algorithm to learn a concept. **\"quantum time complexity, defined as the total number of gates used by the algorithm**\". (Source: Survey on the complexity of learning quantum states)\n",
        "  * low sample complexity is a necessary condition for efficient learning, but information-theoretic sufficiency of a small sample is not much help in practice if finding a good hypothesis still takes much time (time complexity of best quantum learner vs best known classical learner)\n",
        "  * \"despite several distribution-specific speedups, quantum examples do not signifi- cantly reduce sample complexity if we require our learner to work for all distributions D. This should be contrasted with the situation when considering the time complexity of learning\"\n",
        "  * \"Exponential sample complexity when data is from quantum sensors. Time complexity is more subtle.\"\n",
        "\n",
        "* **Worst-case vs Average-case complexity**: [Worst-case_complexity](https://en.m.wikipedia.org/wiki/Worst-case_complexity) and [Average-case_complexity](https://en.m.wikipedia.org/wiki/Average-case_complexity)\n",
        "\n",
        "* [Big O notation (Landau)](https://en.m.wikipedia.org/wiki/Big_O_notation): Big (O) worste case / Big Ω (Omega) best case / Big θ (Theta), [Examples of runtime with big O](https://stackoverflow.com/questions/2307283/what-does-olog-n-mean-exactly), [Brilliant: Complexity Theory](https://brilliant.org/wiki/complexity-theory/), [Theory of computation](https://en.m.wikipedia.org/wiki/Theory_of_computation)"
      ],
      "metadata": {
        "id": "m13Q5iLjReWO"
      }
    },
    {
      "cell_type": "markdown",
      "source": [
        "**Beispiele:**\n",
        "\n",
        "Video: [The Complexity of Dynamic Least-Squares Regression](https://www.youtube.com/watch?v=GLE3hjDRbQw) by Shunhua Jiang (Columbia University)\n",
        "\n",
        "Video: [Fast Algorithms for Regression Problems](https://www.youtube.com/watch?v=FqLCImQNpeg)\n",
        "\n",
        "\n",
        "* Does the complexity increase with larger p-norms, or not?*\n",
        "\n",
        "The complexity of linear regression with regularization using different p-norms (such as in Ridge regression for \\( p = 2 \\) or Lasso for \\( p = 1 \\)) does indeed vary, but not necessarily in a direct relationship with the value of \\( p \\).\n",
        "\n",
        "1. **L2 Norm (Ridge Regression - \\( p = 2 \\)):**\n",
        "   - Ridge regression adds a regularization term equal to the square of the magnitude of the coefficients (L2 norm) to the loss function. The computational complexity of ridge regression is similar to ordinary linear regression. The solving process involves matrix operations that are computationally intensive (like inversion), but these operations don't significantly increase in complexity with the addition of the L2 term.\n",
        "\n",
        "2. **L1 Norm (Lasso Regression - \\( p = 1 \\)):**\n",
        "   - Lasso regression uses the absolute value of the coefficients (L1 norm) as the regularization term. The main computational challenge with Lasso is that the absolute value function is not differentiable at zero, which complicates the optimization process. Specialized algorithms like coordinate descent are used, and the complexity can be higher compared to ridge regression, especially for high-dimensional data. However, this increased complexity is more due to the nature of the L1 norm rather than its size.\n",
        "\n",
        "3. **Higher p-norms:**\n",
        "   - In practice, norms higher than L2 are rarely used in linear regression. Theoretically, as \\( p \\) increases beyond 2, the optimization problem can become more challenging due to the increasing non-linearity and non-convexity of the norm. This could potentially lead to higher computational complexity, but such cases are not common in standard linear regression problems.\n",
        "\n",
        "In summary, the increase in computational complexity with different p-norms in linear regression is less about the size of \\( p \\) and more about the mathematical and computational characteristics of the norms themselves. L1 and L2 norms are the most commonly used, with L1 (Lasso) generally posing more computational challenges due to its non-differentiability at zero. Higher p-norms are not standard in linear regression and could potentially introduce more complex optimization challenges.\n",
        "\n",
        "*Why do higher p-norms show increasing non-linearity and non-convexity of the norm?*\n",
        "\n",
        "Higher p-norms exhibit increasing non-linearity and non-convexity due to the mathematical properties of the norms themselves. To understand this, let's first define the p-norm for a vector \\( \\mathbf{x} \\) in \\( \\mathbb{R}^n \\):\n",
        "\n",
        "\\[ \\|\\mathbf{x}\\|_p = \\left( \\sum_{i=1}^{n} |x_i|^p \\right)^{\\frac{1}{p}} \\]\n",
        "\n",
        "As \\( p \\) increases, the behavior of this norm changes:\n",
        "\n",
        "1. **Increasing Non-Linearity:**\n",
        "   - For \\( p < 1 \\), the p-norm is non-convex. As \\( p \\) approaches 1, the function becomes linear in nature (the L1 norm or Manhattan norm). Beyond \\( p = 1 \\), including the commonly used \\( p = 2 \\) (Euclidean norm), the function is convex but exhibits increasing non-linearity as \\( p \\) increases.\n",
        "   - The non-linearity arises because higher powers increasingly magnify larger components of the vector more than smaller ones. For instance, in the case of \\( p = 2 \\), squaring each component treats all components equally in terms of their sign but not in terms of their magnitude. As \\( p \\) increases further, this effect becomes more pronounced, leading to a function that responds very non-linearly to changes in the input vector.\n",
        "\n",
        "2. **Non-Convexity for \\( p > 1 \\):**\n",
        "   - For \\( p > 1 \\), the p-norms are always convex. This convexity is a crucial property for many optimization problems, including those in machine learning, as it ensures that any local minimum is also a global minimum.\n",
        "   - However, as \\( p \\) increases, the shape of the function becomes more \"peaky\" or \"sharp\" around the axes. This can be intuitively understood: for very large \\( p \\), the p-norm is heavily influenced by the largest component of the vector, almost ignoring the smaller components. This behavior can lead to a function that, while still convex, has very steep gradients near the axes, making optimization more challenging.\n",
        "\n",
        "3. **Practical Implications:**\n",
        "   - In optimization problems, such as those in machine learning, these properties have significant implications. Non-linear, sharp functions can lead to optimization challenges, such as difficulty in finding the global minimum due to steep gradients or flat regions.\n",
        "   - Moreover, the computational cost of evaluating higher p-norms can be significant, as it involves raising each component of the vector to a high power and then taking a root, operations that are more computationally intensive than those required for lower p-norms.\n",
        "\n",
        "In summary, the increase in non-linearity and the specific convexity shape of higher p-norms are inherent to their mathematical definition. These properties influence their practical use in fields like machine learning, where lower p-norms (like L1 and L2) are preferred due to their balance of computational feasibility and desirable optimization properties. Higher p-norms, while theoretically interesting, often present practical challenges for optimization.\n",
        "\n",
        "*How can you quantify the computational cost?*\n",
        "\n",
        "Quantifying the computational cost of an algorithm or a computational process involves assessing several factors, such as time complexity, space complexity, and the actual execution time and memory usage in practice. Here's a breakdown of how these are typically quantified:\n",
        "\n",
        "1. **Time Complexity:**\n",
        "   - Time complexity is a theoretical measure of the execution time of an algorithm as a function of the size of the input data. It's usually expressed in Big O notation (like O(n), O(n^2), O(log n)), which describes the upper limit of the growth rate of the runtime.\n",
        "   - This measure helps to understand how the execution time will increase as the input size grows. It's crucial for comparing different algorithms, especially in terms of their scalability.\n",
        "\n",
        "2. **Space Complexity:**\n",
        "   - Space complexity measures the amount of memory an algorithm needs in terms of the size of the input data. Like time complexity, it's also expressed in Big O notation.\n",
        "   - This aspect is important in scenarios where memory is a limiting factor, such as in embedded systems or when dealing with extremely large data sets.\n",
        "\n",
        "3. **Actual Execution Time:**\n",
        "   - The actual execution time is the real-time an algorithm takes to complete. This can be measured by running the algorithm and timing its execution.\n",
        "   - The actual execution time can vary based on several factors, including the hardware used, the efficiency of the implementation, and the specific characteristics of the input data.\n",
        "\n",
        "4. **Actual Memory Usage:**\n",
        "   - This is a practical measurement of the amount of memory used by an algorithm when it runs. It can be measured using profiling tools.\n",
        "   - Actual memory usage can vary from the theoretical space complexity due to factors like the efficiency of the memory allocation in the implementation and overheads imposed by the system or the programming environment.\n",
        "\n",
        "5. **Algorithmic Efficiency:**\n",
        "   - Efficiency takes into account both time and space complexity. An efficient algorithm is one that has both a lower time complexity and a lower space complexity.\n",
        "   - In practice, there's often a trade-off between time and space efficiency (known as the time-space trade-off). Optimizing for one can lead to increased usage of the other.\n",
        "\n",
        "6. **Profiling and Benchmarking:**\n",
        "   - In practice, profiling and benchmarking are used to quantify the computational cost of an algorithm. Profiling involves running the algorithm with specific tools to measure various performance metrics like execution time and memory usage.\n",
        "   - Benchmarking involves comparing these performance metrics under different conditions or against other algorithms to assess relative performance.\n",
        "\n",
        "In summary, quantifying computational cost involves a mix of theoretical analysis (time and space complexity) and practical measurements (actual execution time and memory usage). This assessment helps in understanding the efficiency of an algorithm and its suitability for a particular application, especially when resources are limited or when dealing with large-scale problems.\n",
        "\n",
        "*could you quantify the Time Complexity in advance without running the function?*\n",
        "\n",
        "Yes, you can quantify the time complexity of an algorithm in advance without actually running the function. This is typically done through theoretical analysis based on the algorithm's structure and operations. Here's how you might approach this:\n",
        "\n",
        "1. **Understand the Algorithm's Operations:**\n",
        "   - Analyze each part of the algorithm and identify the basic operations (like comparisons, assignments, arithmetic operations) and how often they are performed relative to the input size.\n",
        "   - Pay special attention to loops and nested loops, as they often play a significant role in determining time complexity.\n",
        "\n",
        "2. **Counting Basic Operations:**\n",
        "   - For each line of code or each operation, estimate how many times it will be executed in terms of the size of the input. For instance, a single loop from 1 to \\( n \\) suggests \\( n \\) iterations, while a nested loop might suggest \\( n^2 \\) iterations.\n",
        "\n",
        "3. **Big O Notation:**\n",
        "   - Express the total number of basic operations in Big O notation. This involves finding the term with the fastest-growing rate and ignoring constants and less significant terms. For example, if the total operations are \\( 5n^2 + 3n + 8 \\), the time complexity is \\( O(n^2) \\).\n",
        "\n",
        "4. **Consider the Worst, Average, and Best Cases:**\n",
        "   - Analyze the time complexity for different scenarios: worst-case (upper bound), average case (expected complexity for a random input), and best case (lower bound). Sometimes, the complexity might be the same for all cases, but often it varies.\n",
        "\n",
        "5. **Comparing Different Parts of the Algorithm:**\n",
        "   - If the algorithm has different components or phases, analyze each part separately and then combine the results. The overall complexity is dominated by the part with the highest complexity.\n",
        "\n",
        "6. **Recursion:**\n",
        "   - For recursive algorithms, establish the recurrence relation describing the algorithm and solve it to find the time complexity.\n",
        "\n",
        "7. **Amortized Analysis:**\n",
        "   - In some cases, especially with algorithms that have occasional expensive operations, an amortized analysis might be more appropriate. This looks at the time complexity over a sequence of operations, providing an average time per operation.\n",
        "\n",
        "8. **Empirical Validation (Optional):**\n",
        "   - While not necessary for theoretical analysis, sometimes running the algorithm with different input sizes and measuring the execution time can validate your theoretical complexity analysis.\n",
        "\n",
        "It's important to note that this analysis provides an upper bound on the growth rate of the execution time and does not give the exact execution time, which can depend on factors like hardware, compiler optimizations, and specifics of the input data.\n",
        "\n",
        "*for linear regression using L2 norm the time complexity is n^2, or not?*\n",
        "\n",
        "The time complexity of linear regression using the L2 norm (Ridge Regression) isn't simply \\( n^2 \\); it depends on various factors including the number of features (denoted as \\( m \\)) and the number of training samples (denoted as \\( n \\)). Let's break it down:\n",
        "\n",
        "1. **Using the Normal Equation:**\n",
        "   - The normal equation for Ridge Regression is \\((X^TX + \\lambda I)^{-1}X^Ty\\), where \\( X \\) is the feature matrix, \\( y \\) is the target vector, \\( \\lambda \\) is the regularization parameter, and \\( I \\) is the identity matrix.\n",
        "   - The computationally intensive step here is the matrix multiplication \\( X^TX \\) and the matrix inversion \\((X^TX + \\lambda I)^{-1}\\).\n",
        "   - The multiplication \\( X^TX \\) has a complexity of \\( O(m^2n) \\), as it involves multiplying an \\( n \\times m \\) matrix with its transpose \\( m \\times n \\).\n",
        "   - Matrix inversion typically has a complexity of \\( O(m^3) \\) using standard algorithms like Gaussian elimination.\n",
        "   - So, the overall complexity would be dominated by the higher of \\( O(m^2n) \\) and \\( O(m^3) \\).\n",
        "\n",
        "2. **Using Gradient Descent:**\n",
        "   - If Ridge Regression is solved using gradient descent, the time complexity per iteration is \\( O(mn) \\), since each update requires computing gradients over all \\( n \\) samples and \\( m \\) features.\n",
        "   - However, the total number of iterations needed to converge can vary widely depending on the learning rate and the specifics of the dataset.\n",
        "\n",
        "In conclusion, the time complexity of linear regression using the L2 norm is not simply \\( n^2 \\); it depends on the method used for solving the regression and the relationship between the number of features \\( m \\) and the number of samples \\( n \\). For the normal equation method, it's generally the higher of \\( O(m^2n) \\) and \\( O(m^3) \\), while for gradient descent, it's \\( O(mn) \\) per iteration."
      ],
      "metadata": {
        "id": "JkiTC1xozlAc"
      }
    },
    {
      "cell_type": "markdown",
      "source": [
        "##### *Algorithmic Complexity*"
      ],
      "metadata": {
        "id": "Gj-d2EYc2e7s"
      }
    },
    {
      "cell_type": "markdown",
      "source": [
        "> [Algorithmic Information (Algorithmic Complexity)](https://en.m.wikipedia.org/wiki/Algorithmic_information_theory) = <u>**How difficult is it to describe a function concisely?**</u>\n",
        "\n",
        "* Rayo's number is the smallest number that cannot be expressed anymore- an example??\n",
        "\n",
        "* One motivation: Boltzmann's famous example of monkeys typing on typewriters will eventually end up writing a book by Shakespear - but chances are vanishing small, much longer than our universe.\n",
        "  * Same is for chance that monkey type first x digits of Pi correct - very small\n",
        "  * But going down to program level: what's the chance of writing a program / function that spits out all numbers of Pi? That is much more likely by monkeys.\n",
        "  * Then you can also ask: what things you can NOT describe with short programs anymore? where you need an instruction that is the same size of it's output (Kolmogorof complexity)? Example: Any real number!\n",
        "\n",
        "* [Mathematical Simplicity May Drive Evolution’s Speed](https://www.quantamagazine.org/computer-science-and-biology-explore-algorithmic-evolution-20181129/): for some outputs, it’s computationally easier to describe how to generate something than to actually generate it. The probability of producing some types of outputs is far greater when randomness operates at the level of the program describing it rather than at the level of the output itself, because that program will be short.\n",
        "\n",
        "![sciences](https://raw.githubusercontent.com/deltorobarba/repo/master/sciences_1679.png)\n",
        "\n",
        "* Algorithmic Information Theory (AIT) (Algorithmic Complexity): minimum amount of information, or minimum size of algorithm that you need to express a problem or function unambigously. AIT is study of relationship between computation and information, and is concerned with [Kolmogorov Complexity](https://en.m.wikipedia.org/wiki/Kolmogorov_complexity) of objects (Algorithmic Complexity or Solomonoff–Kolmogorov–Chaitin complexity)\n",
        "  * Is a measure of complexity of a particular string in terms of all algorithms that generate it.\n",
        "  * Kolmogorov Complexity is **the length of the shortest computer program that can generate the object**.\n",
        "  * Complexity of X is the length of the shortest description d such that if you feed it into the universal Turing machine, it spits out the string X.\n",
        "  * When a string has no short description (means the complexity is about the length of X and I need to feed the entire string into a universal Turing machine), that means the string is random.\n",
        "  * So Kolmogorov complexity is equal to their length = shortest program that can solve a problems is just as long as the input to the problem.\n",
        "* AIT is typically concerned with the complexity of individual objects, such as strings or Turing machines (as opposed to Computational Complexity Theory which looks at entire classes of problems)\n",
        "\n",
        "\n",
        "> <font color=\"Blue\">**Algorithmic Complexity Theory and Algorithmic Information Theory: It‘s useful to talk about complexity of models or structures in terms of minimum amount of information, or minimum size of algorithm that you need to express that unambigously.**</font>\n",
        "\n",
        "* **Example 1: What is simpler: a single integer or the set of all integers?** (from Kolmogorov complexity)\n",
        "  * Answer is counter-intuitive: it’s not a single integer, because the vast majority of all integers are way more complicated than the set of all possible integers.\n",
        "  * Because you can write down a simple algorithm, rule or mathematical expression that unambigously defines the set of all possible integers. But a single integer can require an arbitrarily large amount of information to express.\n",
        "  * So from a Kolmogorov complexity standpoint or algorithmic information complexity standpoint most integers are more complicated than the set of all integers.\n",
        "  * **This is been used as an argument in favor of the multiverse**. As an ontology: what‘s simpler: just our un universe exists, or the space of all possible universes exist? The latter is more plausible [Source](https://youtu.be/DaKR-UiYd6k?si=hZ-qbpiRU4gDxt9E)\n",
        "\n",
        "* **Example 2:  Is the universe predictable and definable by a finite set of symbols (Computational Irreducability)?**\n",
        "  * Assuming universe is computable, is it also predictable (=computationally reducable), or you need to run it?\n",
        "  * [Computational Irreducability](https://en.m.wikipedia.org/wiki/Computational_irreducibility) theory: no model can predict using only initial conditions, exactly what will occur in a given physical system before an experiment is conducted. It is a topic in both computational complexity theory (=problems cannot be solved efficiently by any algorithm) and algorithmic information theory (=how difficult it is to describe the object using a computer program).\n",
        "  * **Wolfram argues that many natural systems are computationally irreducible, which means that they cannot be simulated efficiently by any computer program**. Examples of problems that are thought to be computationally irreducible:\n",
        "    * The halting problem: determining whether a given computer program will halt or run forever. The factoring problem: factoring a large number into its prime factors.\n",
        "    * <font color=\"Blue\">These problems are thought to be computationally irreducible **because their Kolmogorov complexity is equal to their length. In other words, the shortest program that can solve these problems is just as long as the input to the problem**.</font>\n",
        "  * Universe: It seems that **there is no simplification that you can make. you just have to do the computation from beginning to end to work it out how the universe is going to evolve** (we have to explicitely simulate every step, there is no equation that spits out the answer, because it‘s fundamentally irredusable). Examples fluid mechanics: where is every molecule? We have to simulate it, e.g. position of individual molecules, that is completely unknown, would require arbitrary amounts of computational effort to determine. You need to use Coarse grain to make bulk statements: navier stokes or euler equation, Partition functions, Boltzmann equatio, Ergodicity: there is no net movement of particles in any direction. One particle distribution function, chapman-enskog expansion. From [Video 1](https://youtu.be/EIyjaCwbYXQ?si=-rmxgdj7Bpz945Fm) and [Video 2](https://youtu.be/DaKR-UiYd6k?si=pOSreHgxonkg4Wr9).\n",
        "  * Parts of universe seem to be computable and definable with a finite set of symbols, at least based on our current understanding of physics and mathematics. However, the complete computability and definability of the universe remain open questions, subject to ongoing scientific and philosophical inquiry. It is an area where new discoveries and insights can potentially reshape our understanding in fundamental ways.\n",
        "\n",
        "* **Further problems and examples in AIT**\n",
        "\n",
        "  * **Assembly Theory**: [Assembly theory](https://en.m.wikipedia.org/wiki/Assembly_theory) is a hypothesis that characterizes object complexity - molecules produced by biological processes must be more complex than those produced by non-biological processes. [Article](https://www.quantamagazine.org/a-new-theory-for-the-assembly-of-life-in-the-universe-20230504/). It studies complexity of constructing objects from smaller components and is **based on idea that complexity of an object is equal to minimum number of steps required to construct it from a set of primitive components**. (AT is more focused on construction of objects, while AIT is more focused on description of objects)\n",
        "\n",
        "  * **Constructor Theory** (Chiara Marletto and David Deutsch). [Constructor_theory](https://en.m.wikipedia.org/wiki/Constructor_theory). [How to Rewrite the Laws of Physics in the Language of Impossibility](https://www.quantamagazine.org/with-constructor-theory-chiara-marletto-invokes-the-impossible-20210429/). [Physicists Rewrite the Fundamental Law That Leads to Disorder](https://www.quantamagazine.org/physicists-trace-the-rise-in-entropy-to-quantum-information-20220526/). It studies complexity of constructing objects from smaller components and is **based on idea that complexity of an object is equal to minimum number of steps required to construct it from a set of primitive components**. (CT is more focused on construction of objects, while AIT is more focused on the description of objects)\n",
        "\n",
        "  * Quantamagazine: [Mathematical Simplicity May Drive Evolution’s Speed](https://www.quantamagazine.org/computer-science-and-biology-explore-algorithmic-evolution-20181129/)\n",
        "\n",
        "* **Difference to Computational Complexity Theory (CCT):**\n",
        "\n",
        "  * CCT: **Can a problem be solved** in polynomial time? - Complexity of **classes** of computational problems.\n",
        "\n",
        "  * AIT: **How complex** is a given string? Complexity of **individual objects**.\n",
        "\n",
        "  * Algorithmic complexity (Kolmogorov): Length of the shortest program that can generate a given output. How difficult it is to describe an object using a computer program?\n",
        "\n",
        "* **Connections to Computational Complexity Theory (CCT):**\n",
        "\n",
        "  * AIT provides a theoretical foundation for CCT. CCT is study of amount of resources (time and space) required to solve computational problems. CCT is concerned with complexity of classes of problems (P, NP).\n",
        "\n",
        "  * **AIT can prove lower bounds on time and space complexity**: define complexity classes P and NP (with Kolmogorov complexity) or study computational complexity of certain problems (sorting list of numbers). [Minimum Description Length (MDL) principle](https://en.m.wikipedia.org/wiki/Minimum_description_length) is based on AIT and used in ML."
      ],
      "metadata": {
        "id": "yy8Hru9l28pr"
      }
    },
    {
      "cell_type": "markdown",
      "source": [
        "**Problems at intersection between Computability Theory and Algorithmic Information Theory (Algorithmic Complexity)**\n",
        "\n",
        "> <font color=\"blue\">**Three dimensions of complexity of function or problem:**</font>\n",
        "* **Is it computable (solvable, or undecidable)?** (<font color=\"blue\">computability theory</font>)\n",
        "* **Is it computable efficiently (in finite spacetime)?** (<font color=\"blue\">computational complexity theory</font>)\n",
        "* **Is it describable concisely (with finite set of symbols)?** (<font color=\"blue\">algorithmic complexity / information theory</font>)\n",
        "\n",
        "*Special: **Is it predictable = simulatable efficiently** by any computer program? (computationally irreducibility theorem)  (a topic in computational complexity theory=problems cannot be solved efficiently by any algorithm, and algorithmic information theory=how difficult it is to describe the object using a computer program)*\n",
        "\n",
        "**Example: Number Theory and Computability: Difference between (in)finite value and (in)finite instruction within ZFC?**\n",
        "\n",
        "<font color=\"red\">**Computable and definable with finite set of symbols**\n",
        "* Algorithms for Prime Numbers, Fibonacci sequence\n",
        "* Graham's number is the biggest number used constructively (is not transfinite) - it is definable using a finite set of symbols, as evidenced by its representation in Knuth's up-arrow notation.\n",
        "* Tree3. Loaders number. SCG(13) and SSCG(3)\n",
        "\n",
        "<font color=\"red\">**Not Computable but still definable with finite set of symbols**\n",
        "* **Busy Beaver function**: ZFC can define the Busy Beaver function itself, in less than, say, a billion symbols. But ZFC can't pin down the precise value of even BB(7918) = can not determine specific values of the function. Closely related to undecidable Halting problem.\n",
        "* **Rayo's number**: largest number nameable by an expression in first-order set theory with a given finite number of symbols. The number it represents is so vast that it transcends ordinary concepts of computability and representation in mathematics.\n",
        "* **Chaitin's number**: is transfinite and it is not computable, which means that there is no algorithm to compute its digits exactly. Closely related to undecidable Halting problem.\n",
        "* **Transfinite numbers**: are numbers that are greater than any finite number. They represent different \"sizes\" of infinity. The concept was introduced by Georg Cantor. Two most well-known transfinite numbers are ℵ₀ (aleph-null) and ℵ₁ (aleph-one). Transfinite numbers are not computable in the traditional sense because they represent infinite values. Despite their infinite nature, transfinite numbers can be defined using a finite set of symbols. For example, ℵ₀ is defined as the cardinality (size) of the set of natural numbers, and ℵ₁ is defined as the next larger infinite cardinal number.\n",
        "\n",
        "<font color=\"red\">**Not Computable and not definable with finite set of symbols**\n",
        "* **Most real numbers**: Fast alle reelle Zahlen sind nicht berechenbar, [gehorchen nicht einmal einer Rechenvorschrift](https://www.spektrum.de/kolumne/die-meisten-reellen-zahlen-sind-nicht-berechenbar/2133762), there are uncountably many real numbers, but only countably many finite strings of symbols with which to define numbers. This means that almost all real numbers are not definable with a finite set of symbols.\n",
        "* Computing **very large and precise value of the busy beaver function** can be either undefinable by finite set of symbols, or not practically / efficently feasible but still possible with a very very large, finite set of symbols. This isn't cut-clear.\n",
        "\n",
        "![sciences](https://raw.githubusercontent.com/deltorobarba/repo/master/sciences_1631.png)\n",
        "\n",
        "Source: [All the Numbers - Numberphile](https://www.youtube.com/watch?v=5TkIe60y2GI&t=458s). See also: [Large_numbers](https://en.m.wikipedia.org/wiki/Large_numbers), [Names of large numbers](https://en.m.wikipedia.org/wiki/Names_of_large_numbers), [Liste besonderer Zahlen](https://de.m.wikipedia.org/wiki/Liste_besonderer_Zahlen), [Constructible numbers](https://en.m.wikipedia.org/wiki/Constructible_number), [Algebraic numbers](https://en.m.wikipedia.org/wiki/Algebraic_number), [Transcendental numbers](https://en.m.wikipedia.org/wiki/Transcendental_number), [Computable numbers](https://en.m.wikipedia.org/wiki/Computable_number). **Non-Computable numbers**: [Chaitin constant](https://en.m.wikipedia.org/wiki/Chaitin%27s_constant). [Die meisten reellen Zahlen kennen wir nicht](https://www.spektrum.de/kolumne/die-meisten-reellen-zahlen-sind-nicht-berechenbar/2133762) (gehorchen nicht einmal einer Rechenvorschrift). **Special cross-section**: [Normal numbers](https://en.m.wikipedia.org/wiki/Normal_number): [Champernowne’s constant](https://en.m.wikipedia.org/wiki/Champernowne_constant) (whole numbers) - normal and transendental. [Copeland-Erdös-number](https://de.m.wikipedia.org/wiki/Copeland-Erdős-Zahl) (primes). **Empty section: normal and Non-Computable numbers (we have no examples)**: We have no examples. But proofs have shown: this is the greatest amount of numbers: most numbers are normal and most numbers are uncomputable. So this section should be full, but we have no example."
      ],
      "metadata": {
        "id": "6431aTWzeYh3"
      }
    },
    {
      "cell_type": "markdown",
      "source": [
        "##### *Computability Theory*"
      ],
      "metadata": {
        "id": "gNGVQC0OENoM"
      }
    },
    {
      "cell_type": "markdown",
      "source": [
        "> [Computability_theory](https://en.m.wikipedia.org/wiki/Computability_theory) = <u>**Can a function be computed (solved) on a Turing machine?**</u>\n",
        "\n",
        "* What problems can be solved? (Halting, Entscheidungsproblem, etc. with Turing machine, finite automata..)\n",
        "\n",
        "* [An Easy-Sounding Problem Yields Numbers Too Big for Our Universe](https://www.quantamagazine.org/an-easy-sounding-problem-yields-numbers-too-big-for-our-universe-20231204/) - Researchers prove that navigating certain systems of vectors is among the most complex computational problems.\n",
        "\n",
        "* Video: [Extended Church Turing thesis](https://youtu.be/gs2Pv2vHqn8?si=bkcy04UGegfa7_yd)\n",
        "\n",
        "* Computability_theory **studies the theoretical limits of what can be computed by an idealized computing device**, such as a [Turing machine](https://en.m.wikipedia.org/wiki/Turing_machine). [Church Turing Thesis](https://en.m.wikipedia.org/wiki/Church%E2%80%93Turing_thesis): all algorithms may be thought of as Turing machines. apply to all function. you cannot short cut computation: Halting problem.\n",
        "\n",
        "  * **Turing**: functions that can be computed by Turing machine is computable by humans using paper and pencil\n",
        "\n",
        "  * **Gödel**: there are certain statements that cannot be proven or disproven within any formal system (incompleteness theorem). Implications for computability theory: **there are some functions that cannot be computed by any Turing machine (Halting problem, Collatz conjecture, Turing degrees)**\n",
        "\n",
        "* Video: [Church-Turing Thesis Cannot Possibly Be True\n",
        "](https://www.youtube.com/watch?v=egK4xhuWsVY&t=61s):\n",
        "  * The thesis asserts this: If an algorithm A computes a partial function f from natural numbers to natural numbers then f is partially recursive, i.e., the graph of f is recursively enumerable.\n",
        "  * The thesis has been formulated in 1930s. The only algorithms at the time were sequential algorithms. Sequential algorithms were axiomatized in 2000. This axiomatization was used in 2008 to prove the thesis for sequential algorithms, i.e., for the case where A ranges over sequential algorithms.\n",
        "  * These days, in addition to sequential algorithms, there are parallel algorithms, distributed algorithms, probabilistic algorithms, quantum algorithms, learning algorithms, etc.\n",
        "  * The question whether the thesis is true in full generality is actively discussed from 1960s. We argue that, in full generality, the thesis cannot possibly be true.\n",
        "\n",
        "* Computability theory provides the theoretical foundation for computational complexity theory (CCT), and many of the problems studied in CCT are motivated by questions in computability theory.\n",
        "\n",
        "* A computable **number** a real number that can be calculated to any desired precision by finite, terminating algorithm. But: almost no real numbers are computable.\n",
        "* A computable **function** requires a finite number of steps to produce the output. The Busy Beaver function Σ(n) grows faster than any computable function. Hence, it is not computable; only a few values are known.\n",
        "\n",
        "*See [Computability (Berechenbarkeit)](https://en.m.wikipedia.org/wiki/Computability), [Analysis of algorithms](https://en.m.wikipedia.org/wiki/Analysis_of_algorithms), [Model of Computation](https://en.m.wikipedia.org/wiki/Model_of_computation), [Theory of Computation](https://en.m.wikipedia.org/wiki/Theory_of_computation), [Algorithmic Information Theory](https://en.m.wikipedia.org/wiki/Algorithmic_information_theory), [Undecidable problem](https://en.m.wikipedia.org/wiki/Undecidable_problem), [List of undecidable problems](https://en.m.wikipedia.org/wiki/List_of_undecidable_problems), [Limits of Computation](https://en.m.wikipedia.org/wiki/Limits_of_computation), [Pfeilschreibweise](https://de.m.wikipedia.org/wiki/Pfeilschreibweise), [Hyper-Operator](https://de.m.wikipedia.org/wiki/Hyper-Operator), [Potenzturm](https://de.m.wikipedia.org/wiki/Potenzturm), [Long_and_short_scales](https://en.m.wikipedia.org/wiki/Long_and_short_scales)*"
      ],
      "metadata": {
        "id": "ERjGs_IMvI3J"
      }
    },
    {
      "cell_type": "markdown",
      "source": [
        "**Quantum Extended Church Turing thesis (qECTT)**\n",
        "* Quantum Extension: The qECTT proposes that any physically realizable computational device can be efficiently simulated by a quantum Turing machine. **In essence, it posits that quantum computers, though vastly more powerful than classical computers, still operate within limits that can be, in principle, simulated**.\n",
        "* Most researchers think it's valid. If yes, it would forbid \"supertasks\" like solving the halting problem (Quantum computers remain fundamentally powerful but seem unlikely to enable true hypercomputation).\n",
        "* Open Question: However, the door isn't fully closed. Exotic models of quantum mechanics or yet-undiscovered physics could offer surprises, and philosophical debates over the definition of computation itself contribute to the ongoing discussion.\n",
        "\n",
        "* The **quantum extended Church-Turing thesis** (qECTT) states that any physical system that can compute any function computable by a quantum Turing machine can be efficiently simulated by a quantum Turing machine.\n",
        "\n",
        "> **In other words, the qECTT asserts that quantum computers are the most powerful physical computers possible, and that no other physical system can compute any function that a quantum computer cannot efficiently compute.**\n",
        "\n",
        "The qECTT is based on the following two premises:\n",
        "\n",
        "1. Quantum computers are more powerful than classical computers, in the sense that they can efficiently solve certain problems that are intractable for classical computers.\n",
        "  * The first premise is well-established, and has been demonstrated by the development of quantum algorithms that can efficiently solve certain problems that are intractable for classical computers, such as Shor's algorithm for factoring large numbers and Grover's algorithm for searching unsorted databases.\n",
        "2. Any physical system that can compute any function can be efficiently simulated by a quantum Turing machine.\n",
        "  * The second premise is more speculative, but it is supported by the fact that quantum Turing machines are a universal model of computation, meaning that they can simulate any other physical system of computation.\n",
        "\n",
        "> <font color=\"blue\">**The qECTT is still an open question**, but it is a very important one, as it has **implications for the limits of what is computable in the physical world**</font>. If the qECTT is true, then it means that quantum computers are the most powerful physical computers possible, and that there are certain problems that cannot be efficiently solved by any physical computer.\n",
        "\n",
        "* Interesting example and contradiction of the qECTT:\n",
        "\n",
        "  * Suppose that there is a physical system, such as a black hole, that can compute some function that cannot be efficiently computed by a quantum Turing machine. Then, the qECTT predicts that there is a quantum Turing machine that can efficiently simulate the black hole, and thus also compute the function.\n",
        "\n",
        "  * This is a very powerful prediction, and it is still not known whether it is true. However, <font color=\"blue\">**if the qECTT is true, then it would have implications for our understanding of the nature of computation and the limits of what is possible in the universe**</font>.\n",
        "\n",
        "  * This is a contradiction because it implies that there is a quantum Turing machine that can compute any function, which is not possible. The Church-Turing thesis states that there are some functions that cannot be computed by any Turing machine, and the qECTT is an extension of the Church-Turing thesis to quantum computers.\n",
        "\n",
        "  * So, the contradictory example of the qECTT shows that the qECTT itself is not a valid thesis. However, it is still an interesting and important question to ask whether there are any physical systems that can compute functions that cannot be efficiently computed by quantum computers.\n",
        "\n",
        "* ***One possible resolution to the contradiction is to say that the qECTT only applies to physical systems that are consistent with the laws of physics***. If there is a physical system that can compute a function that cannot be efficiently computed by a quantum Turing machine, then it must be a system that violates the laws of physics.\n",
        "\n",
        "* ***Another possible resolution to the contradiction is to say that the qECTT only applies to physical systems that are efficient***. If there is a physical system that can compute a function that cannot be efficiently computed by a quantum Turing machine, then it must be a system that is very inefficient.\n",
        "\n",
        "> Ultimately, the question of whether the qECTT is valid or not is an open one. It is a very important question, as it has implications for the limits of what is computable in the physical world."
      ],
      "metadata": {
        "id": "zltUffjrn2_w"
      }
    },
    {
      "cell_type": "markdown",
      "source": [
        "**Chomsky-Hierarchy and Automata Theory**\n",
        "\n",
        "* [Formal language](https://en.m.wikipedia.org/wiki/Formal_language) consists of words from letters from an alphabet and are well-formed acc. to specific set of rules\n",
        "* Automata theory and [Chomsky hierarchy](https://en.m.wikipedia.org/wiki/Chomsky_hierarchy) are used to **classify the complexity of languages**.\n",
        "* [Automata theory](https://en.m.wikipedia.org/wiki/Automata_theory) is study of abstract machines and automata, and computational problems that can be solved\n",
        "\n",
        "![sciences](https://raw.githubusercontent.com/deltorobarba/repo/master/sciences_1651.png)\n",
        "\n",
        "\n",
        "**Beyond Turing Machines**: [Undecidable function](https://en.m.wikipedia.org/wiki/Undecidable_problem) with [List of undecidable problems](https://en.m.wikipedia.org/wiki/List_of_undecidable_problems)\n",
        "\n",
        "  * Undecidable functions can be used to show that certain languages are not in the Chomsky hierarchy. For example, the language of all strings that encode a Turing machine that halts on its own input is not context-sensitive. This is because if there were a context-sensitive grammar for this language, then we could use it to solve the halting problem by simply constructing a Turing machine from the grammar.\n",
        "\n",
        "  * In general, undecidable functions can be used to show that certain problems are not solvable by any algorithm. This is a powerful tool for understanding the limits of computation.\n",
        "\n",
        "\n",
        "**0. Type:** [Recursively enumerable](https://en.m.wikipedia.org/wiki/Recursively_enumerable_language) grammar = [Turing Machine](https://en.m.wikipedia.org/wiki/Turing_machine)\n",
        "\n",
        "  * Unlimited RAM, Recursively and enumerable are unrestricted, most general grammar and automata and allow general computation, the Turing machines = machines that can remember an unlimited number of states. See also: [Nondeterministic Turing machine](https://en.m.wikipedia.org/wiki/Nondeterministic_Turing_machine) and [Probabilistic_Turing_machine](https://en.m.wikipedia.org/wiki/Probabilistic_Turing_machine). Also: [Quantum Turing Machine (QTM](https://en.m.wikipedia.org/wiki/Quantum_Turing_machine), [quantum circuit](https://en.m.wikipedia.org/wiki/Quantum_circuit) is computationally equivalent. QTM can be related to classical and probabilistic Turing machines with [transition (Stochastic_matrix) matrices](https://en.m.wikipedia.org/wiki/Stochastic_matrix).\n",
        "\n",
        "    *  A quantum Turing machine (QTM) with postselection was defined by Scott Aaronson, who showed that class of polynomial time on such a machine (PostBQP) is equal to classical complexity class PP.\n",
        "    * A way of understanding the Quantum Turing machine (QTM) is that it generalizes the classical Turing machine (TM) in the same way that the quantum finite automaton (QFA) generalizes the deterministic finite automaton (DFA). In essence, the internal states of a classical TM are replaced by pure or mixed states in a Hilbert space; the transition function is replaced by a collection of unitary matrices that map the Hilbert space to itself.\n",
        "\n",
        "  * **Type a**: [Recursively enumerable function](https://en.m.wikipedia.org/wiki/Recursively_enumerable_language): [Busy beaver](https://en.m.wikipedia.org/wiki/Busy_beaver) (does not terminate)for some arguments you put into the function they will stop and give an answer and for others they will go on forever)\n",
        "\n",
        "  * **Type b**: [Recursive](https://en.m.wikipedia.org/wiki/Recursive_language) language and [Recursive functions](https://en.m.wikipedia.org/wiki/General_recursive_function): is [Ackermann function](https://en.m.wikipedia.org/wiki/Ackermann_function) (terminates). Not every total recursive function is a primitive recursive function—the most famous example is the [Ackermannfunktion](https://de.m.wikipedia.org/wiki/Ackermannfunktion): extrem schnell wachsende Funktion, mit deren Hilfe in der theoretischen Informatik Grenzen von Computer- und Berechnungsmodellen aufgezeigt werden können. Die [Sudanfunktion](https://de.wikipedia.org/wiki/Sudanfunktion) ist eine rekursive berechenbare Funktion, die total μ-rekursiv, **jedoch nicht primitiv rekursiv** ist, was sie mit der bekannteren Ackermannfunktion gemeinsam hat.\n",
        "\n",
        "  * **Type c**: [Primitive Recursive function](https://en.m.wikipedia.org/wiki/Primitive_recursive_function), incl. every other program that isn’t recursive, like something going through a Sequence, for loop and nested for loops. 1926 vermutete David Hilbert, dass jede [berechenbare](https://de.m.wikipedia.org/wiki/Berechenbarkeit) Funktion [primitiv-rekursiv](https://de.m.wikipedia.org/wiki/Primitiv-rekursive_Funktion) sei, siehe auch [Berechenbarkeitstheorie](https://de.m.wikipedia.org/wiki/Berechenbarkeitstheorie): **lässt sich jede durch einen Computer berechenbare Funktion aus einigen wenigen, sehr einfachen Regeln zusammensetzen und die Dauer der Berechnung im Voraus abschätzen?**. Ackermann und Sudan haben das widerlegt. Die Sudanfunktion und die Ackermannfunktion waren so die ersten veröffentlichten, nicht primitiv rekursiven Funktionen. ps: [Enumeration algorithm](https://en.m.wikipedia.org/wiki/Enumeration_algorithm). [Recursive function](https://en.m.wikipedia.org/wiki/Recursion_(computer_science)), also [Computable function](https://en.m.wikipedia.org/wiki/Computable_function), calls itself again to repeat code. An [iterative function](https://en.m.wikipedia.org/wiki/Iteration) repeatedly executes set of statements (code) without overhead of function calls and stack memory (simpler, faster).\n",
        "\n",
        "\n",
        "**1. Type:** [Context-sensitive](https://en.m.wikipedia.org/wiki/Context-sensitive_language) grammars =  [Linear bounded automata](https://en.m.wikipedia.org/wiki/Linear_bounded_automaton)\n",
        "\n",
        "  * Limited RAM needed, but you can predict how much RAM (turing machines with predictable and finite amount of RAM). Linear bounded automata can remember a stack of states and a counter. Context-sensitive languages are used to model the set of all strings that are syntactically correct in a programming language.\n",
        "\n",
        "  * On Turing machines the tape has unbounded length (unlimited tape). An LBA can access only a finite portion of the tape by the read/write head. **This makes an LBA a more accurate model of a real-world computer than a Turing machine.** A linear bounded automaton is a [nondeterministic Turing machine](https://en.m.wikipedia.org/wiki/Nondeterministic_Turing_machine)\n",
        "\n",
        "**2. Type:** [Context-free](https://en.m.wikipedia.org/wiki/Context-free_grammar) grammars = [Pushdown Automata](https://en.m.wikipedia.org/wiki/Pushdown_automaton)\n",
        "  \n",
        "  * No RAM needed, for example for parsing. Pushdown automata can recognize context-free languages (e.g. set of all balanced parentheses) because pushdown automata have a stack, which they can use to store information about the input string. This allows them to keep track of the context of the input string, which is necessary for recognizing context-free languages.\n",
        "\n",
        "**3. Type:** [Regular](https://en.m.wikipedia.org/wiki/Regular_language) grammars = [Finite State Machine](https://en.m.wikipedia.org/wiki/Finite-state_machine)\n",
        "\n",
        "  * Finite state automata: machines that can only remember a finite number of states. Regular languages are used to model simple patterns, such as the set of all strings of even length.\n",
        "\n",
        "  * z.B. [Deterministic Finite Automaton](https://en.m.wikipedia.org/wiki/Deterministic_finite_automaton) and [Quantum Finite Automaton](https://en.m.wikipedia.org/wiki/Quantum_finite_automaton). Finite automata: pattern recognition, regular expressions.\n",
        "\n",
        "\n",
        "*Exkurs: Combinational Logic vs Sequential logic (Automata theory): [Sequential logic](https://en.m.wikipedia.org/wiki/Sequential_logic): type of logic circuit whose output depends on present value of its input signals and on sequence of past inputs (history). Sequential logic has state (memory). Sequential logic is used to store the state of the automaton, which is necessary to track the current position of the tape head and the symbols that have been read (more complex, because requires a larger number of memory elements, and the logic to update the state of the automaton can be more complicated). The sequential logic is implemented using flip-flops, which are memory elements that can store a single bit of information. [Combinational Logic](https://en.m.wikipedia.org/wiki/Combinational_logic): output is a function of only the present input. Combinational logic does not have a state (memory). Combinatorial logic is used to determine the next state of the automaton and the output symbol to be written to the tape, based on the current state, the input symbol, and the contents of the tape. Combinational logic is used in computer circuits to perform Boolean algebra on input signals and on stored data. The ALU is constructed using combinational logic, also half adders, full adders, half subtractors, full subtractors, multiplexers, demultiplexers, encoders and decoders, AND, OR, and NOT. The combinational logic is typically much simpler than the sequential logic. This is because the next state of the automaton and the output symbol to be written to the tape can be determined by a relatively small number of input variables.*\n",
        "\n"
      ],
      "metadata": {
        "id": "3cQ2ILoRRcAv"
      }
    },
    {
      "cell_type": "markdown",
      "source": [
        "**Beyond Automata: Computational irreducibility and graphs**\n",
        "\n",
        "https://www.spektrum.de/news/stephen-wolfram-sucht-nach-der-weltformel-der-physik/2203229\n",
        "\n",
        "Die Zoologie der Graphensubstitutionsregeln ist um Klassen schwieriger als die der zellulären Automaten. Vor allem sieht man einer Regel im Allgemeinen nicht an, welche Graphen sie auf die Dauer produzieren wird. Von Ausnahmen abgesehen gibt es keine andere Möglichkeit, das herauszufinden, als die Regel ihre Arbeit machen zu lassen, ein Phänomen, das Wolfram »rechnerische Irreduzibilität« (computational irreducibility) nennt. Das berüchtigte deterministische Chaos (das Verhalten des Systems ist bis in alle Zukunft vorherbestimmt, aber unvorhersagbar) ist die Regel und das, wovon die ganze Physik handelt (Systeme, deren zukünftiges Verhalten man vorhersagen kann), die Ausnahme: einsame Inseln der Reduzibilität im großen Ozean des Chaos."
      ],
      "metadata": {
        "id": "uPH-C3qz4l7k"
      }
    },
    {
      "cell_type": "markdown",
      "source": [
        "**Why are most decision problems uncomputable?**  \n",
        "* [Turing and the Halting problem (computerphile)](https://youtu.be/macM_MtS_w4)\n",
        "* Decision problems answer is binary (chess, tetris, halting problem, negative weight cycle detection)\n",
        "* Decision problems are as hard as optimisation problems\n",
        "* Why are most decision problems uncomputable. Proof with theory from [MIT Lecture 23: Computational Complexity](https://youtu.be/moPtwq_cVH8):\n",
        "    * Define a progam: space of all possible programs ≈ you can think of it as binary strings (reduced). You can also think of numbers represented as binary strings ≈ natural number element N\n",
        "    * Define a Decision problem: function that maps inputs to yes (1) or no (0). Input ≈ is a binary string element of N (natural numbers). It‘s a function from N to 0/1. **Every infinite string of bits represents a decision problem.** Output is infite! **A program is a fintie string of bits.**\n",
        "    * You can write down a table of all answers: **a decision problem is an infite string of bits:** =110001010100010111. A program is a finite string of bits.** So they are different.\n",
        "    * One way to see the difference is to add a decimal point: .110001010100010111 - now this infinite string of bits in the output of a decision problem is a real number between 0 and 1 (written in binary). Any real number can be represented by an infinite string of bits.\n",
        "    * A decision problem is element of R, meanwhile a program is element of N (set of all integers).\n",
        "    * But R >> N. R (uncountably infinite) >> N (countable infinite), <font color=\"red\">**there are way more problems than there are programs to solve them**</font>, almost every problem unsolvable by any program.\n"
      ],
      "metadata": {
        "id": "2lw0UapfQk5A"
      }
    },
    {
      "cell_type": "markdown",
      "source": [
        "**Non-computable numbers**\n",
        "* [Large_numbers](https://en.m.wikipedia.org/wiki/Large_numbers), [Names of large numbers](https://en.m.wikipedia.org/wiki/Names_of_large_numbers), [Liste besonderer Zahlen](https://de.m.wikipedia.org/wiki/Liste_besonderer_Zahlen)\n",
        "\n",
        "![geometry](https://raw.githubusercontent.com/deltorobarba/repo/master/sciences_1631.png)\n",
        "\n",
        "* [Constructible numbers](https://en.m.wikipedia.org/wiki/Constructible_number)\n",
        "* [Algebraic numbers](https://en.m.wikipedia.org/wiki/Algebraic_number)\n",
        "* [Transcendental numbers](https://en.m.wikipedia.org/wiki/Transcendental_number)\n",
        "* [Computable numbers](https://en.m.wikipedia.org/wiki/Computable_number)\n",
        "* **Non-Computable numbers**\n",
        "  * [Chaitin constant](https://en.m.wikipedia.org/wiki/Chaitin%27s_constant)\n",
        "  * [Die meisten reellen Zahlen kennen wir nicht](https://www.spektrum.de/kolumne/die-meisten-reellen-zahlen-sind-nicht-berechenbar/2133762) (gehorchen nicht einmal einer Rechenvorschrift)\n",
        "* Special cross-section: [Normal numbers](https://en.m.wikipedia.org/wiki/Normal_number)\n",
        "  * [Champernowne’s constant](https://en.m.wikipedia.org/wiki/Champernowne_constant) (whole numbers) - normal and transendental\n",
        "  * [Copeland-Erdös-number](https://de.m.wikipedia.org/wiki/Copeland-Erdős-Zahl) (primes)\n",
        "\n",
        "Source: [All the Numbers - Numberphile](https://www.youtube.com/watch?v=5TkIe60y2GI&t=458s)\n",
        "\n",
        "**Empty section: normal and Non-Computable numbers (we have no examples)**: We have no examples. But proofs have shown: this is the greatest amount of numbers: <font color=\"blue\">**most numbers are normal and most numbers are uncomputable**</font>. So this section should be full, but we have no example.\n"
      ],
      "metadata": {
        "id": "1f0R8e-ts52g"
      }
    },
    {
      "cell_type": "markdown",
      "source": [
        "##### *Physical Boundaries of Computation*"
      ],
      "metadata": {
        "id": "hlzi59BP8aqU"
      }
    },
    {
      "cell_type": "markdown",
      "source": [
        "**Physical Boundaries of Computation** ([Limits of Computation](https://en.m.wikipedia.org/wiki/Limits_of_computation))\n",
        "\n",
        "> Video: [Quantum Computing](https://youtu.be/gsxeKg41yMw?si=-B5mx5y0jhQGLUpR)\n",
        "\n",
        "*Limits from **Physics** (thermodynamics, quantum mechanics), from **Computer Science** (Computability theory, Complexity theory, Information science) and from **Mathematics** (number theory). Limits are derived from simple questions:*\n",
        "\n",
        "1. <font color=\"blue\">What is the max limit of information capacity?</font> (per given volume and in the observable universe) - [Beckenstein Bound](https://en.m.wikipedia.org/wiki/Bekenstein_bound) 10$^{43}$ bits per kg\n",
        "2. <font color=\"blue\">What is the min amount of heat per erased bit that is dissipated when information is destroyed?</font> - $10^{-21}$ x 2.9 Joule: One limit is the [Landauer’s principle](https://en.m.wikipedia.org/wiki/Landauer%27s_principle), which states that the minimum energy required to perform a single logical operation is equal to the Boltzmann constant times the temperature of the system. This limit implies that the maximum number of computations that can be performed in a given amount of time is limited by the total energy available.\n",
        "2. <font color=\"blue\">What is the max physical speed limit of computation?</font> -\n",
        "  * [Bremermann's Limit](https://en.m.wikipedia.org/wiki/Bremermann%27s_limit) 10$^{50}$ operations per second (speed of light and Planck length > fundamental limit to how fast information can be processed, even in a perfect computer). Bremermann's Limit states that the maximum computational speed of a self-contained system is limited by the speed of light and the Planck length. This limit implies that there is a fundamental limit to how fast information can be processed, even in a perfect computer. **1.3563925 × 10^50 bits per second per kilogram**\n",
        "  * The [Margolus-Levitin theorem](https://de.m.wikipedia.org/wiki/Margolus-Levitin-Theorem) states that the maximum computational speed per unit of energy is limited by the Planck constant. This limit implies that there is a fundamental limit to how much computation can be performed with a given amount of energy. (Margolus-Levitin-Theorem, the processing rate of all forms of computation (including quantum computation) cannot be higher than about **6 × 10^33 operations per second per joule of energy.** 'Black Hole Computers' from Seth Lloyd: Margolus-Levitin theorem: operations take place in the minimum time allowed. The theorem says that the time it takes to flip a bit, t, depends on the amount of energy you apply, E. The more energy you apply, the shorter the time can be. Mathematically, the rule is t h/4E, where h is Planck's constant.\n",
        "3. <font color=\"blue\">What is the physical limit of computation (max number of operations) of the universe in its entire lifetime?</font> - 10$^{229}$ operations (if all matter in the observable would turn into a black hole computer). Calculated combining Margolus-Levitin theorem and Landauer’s principle.\n",
        "4. <font color=\"blue\">What is the max physical time limit of computation?</font> - [Poincare Recurrence time](https://en.m.wikipedia.org/wiki/Poincaré_recurrence_theorem) (universe resets itself, e.g. before finishing Graham's number)\n",
        "5. <font color=\"blue\">What is the max physical resolution limit of the universe?</font> - 10$^{185}$ Planck volume. Anything bigger than this number cannot be explained in physical terms.\n",
        "6. <font color=\"blue\">Can I find another me of myself in this universe?</font> - No! $10^{{10}^{70}}$ is the number of all possible quantum states a person can occupy (roughly a 1 m$^3$ of space) - the same arrangement of atoms that makes you. If you would walk $10^{{10}^{70}}$ meters, you would start to see repetitions of yourself. But the max number of protons of the observable universe is only $10^{80}$ [Eddington number](https://en.m.wikipedia.org/wiki/Eddington_number) and the max resolution is only 10$^{185}$ (Planck volume).\n",
        "\n",
        "Papers: [Ultimate physical limits to computation (Seth Lloyd, 2000)](https://arxiv.org/abs/quant-ph/9908043), [Computational capacity of the universe (Seth Lloyd, 2001)](https://arxiv.org/abs/quant-ph/0110141), [NP-complete Problems and Physical Reality (Scott Aaronson, 2005)](https://arxiv.org/abs/quant-ph/0502072), [Estimation of the information contained in the visible matter of the universe](https://arxiv.org/abs/2112.04473), [The Cost of computation](https://arxiv.org/abs/1905.05669), [Article: From 1,000,000 to Graham’s Number](https://waitbutwhy.com/2014/11/1000000-grahams-number.html), Video: [The Boundary of Computation](https://www.youtube.com/watch?v=kmAc1nDizu0&list=WL&index=7), Video: [The Limits of Computation](https://www.youtube.com/watch?v=ZDfaXJRtOoM), [Amdahl's law](https://en.m.wikipedia.org/wiki/Amdahl%27s_law) predict theoretical speedup when using multiple processors"
      ],
      "metadata": {
        "id": "c1x-N4GYUfEr"
      }
    },
    {
      "cell_type": "markdown",
      "source": [
        "**Selection of physical limits relevant to computation:**\n",
        "\n",
        "> See also [Orders of magnitude (numbers)](https://en.wikipedia.org/wiki/Orders_of_magnitude_(numbers))\n",
        "\n",
        "* <font color=\"blue\">$10^{-44}$ seconds max speed to write a single symbol - [Planck time](https://de.m.wikipedia.org/wiki/Planck-Zeit). Important to know the limits how to compute large numbers: </font>\n",
        "\n",
        "  * if you can write a single symbol only at this time max, then it would take you more time to write down **Graham's number** than one period within **Poincare's recurrence time** = when the universe would reset itself before you finished writing Graham's number\n",
        "\n",
        "  * to write down the **Googol number** you need $10^{56}$ seconds = $10^{48}$ years - Have we enough time to write that down? - Depends on nature of dark energy. In $10^{48}$ years we have the **era of Black Hole dominance** (all matter disappeared and we live in a supermassive black hole or is all matter is unimaginable far apart) [Video](https://www.youtube.com/watch?v=X3l0fPHZja8)\n",
        "\n",
        "* <font color=\"blue\">$10^{-21}$ x 2.9 Joule: [Landauer’s principle](https://en.m.wikipedia.org/wiki/Landauer%27s_principle). Min amount of heat per erased bit that is dissipated when information is destroyed [Source](https://physicsworld.com/a/wiping-data-will-cost-you-energy). See also [Entropy in thermodynamics and information theory](https://en.m.wikipedia.org/wiki/Entropy_in_thermodynamics_and_information_theory)</font>\n",
        "\n",
        "\n",
        "* **1 bit is in quantum communication complexity the communication complexity of the OR problem, even if the parties share entanglement**. It shows that there are some problems that cannot be solved using less communication than their classical counterparts, even if the parties share entanglement. The Quantum OR lemma was first published in 1999 by David Deutsch and Artur Ekert. It has been used to prove lower bounds on the communication complexity of a variety of other problems, including the AND problem, the XOR problem, and the equality problem. **The Quantum OR lemma is a powerful tool for studying the power of quantum communication. It has helped to shed light on the fundamental limits of what can be achieved with quantum communication.**\n",
        "\n",
        "* $10^{11}$ years (100 billion) other galaxies than Andromeda and Milky way are outside of the visible universe\n",
        "\n",
        "* $10^{12}$ years (1 trillion) the galaxies will be depleted of gas clouds, and thus the formation of new stars will be impossible (all hydrogen in stars cores are exhausted)\n",
        "\n",
        "\n",
        "* $12^{12}$ years (1,2 trillion) all stars in the universe will have exhausted (no more stars). [Source](https://www.youtube.com/watch?v=dsWfGzxjs0w), remaining only white dwarfs, neutron stars and black holes.\n",
        "\n",
        "* $10^{14}$ years: In 100 trillion years (100 x 10^12) the last star will die and the universe is ony dominated by dark matter [Source](https://www.youtube.com/watch?v=4Stzj2_Rlo4). Nothing more interesting will happen for next decillions (10^60), vigintillions (10^120) and googols of years dominated by dark matter. Then you have a visible universe of 36 bn light years diameter and is a black hole inside out. But quantum fluctuations at the event horizon will fill the inside up with new particles.\n",
        "\n",
        "* <font color=\"blue\">$10^{15}$ (1 quadrillion) – all planets are detached from their solar systems\n",
        "\n",
        "* <font color=\"blue\">$10^{16}$ bit is the total amount of information a typical human observer can possibly absorb during his lifetime [arXiv:0910.1589](https://arxiv.org/abs/0910.1589)</font>\n",
        "\n",
        "\n",
        "* <font color=\"blue\">$10^{17}$ (100 quadrillion) – The number of seconds since the Big Bang (important to estimate max limit of computation since beginning of universe)\n",
        "\n",
        "* <font color=\"blue\">$10^{18}$ max operations per second in human brain (and floating point operations, flops in 2020)</font>\n",
        "\n",
        "* $10^{18}$ max operations per second in human brain (and floating point operations, flops in 2020)\n",
        "\n",
        "* $10^{23}$ x 6,022 - Avogadro Zahl. Multipliziert mit mol$^{-1}$ ergibt die [Avogadro Konstante](https://de.m.wikipedia.org/wiki/Avogadro-Konstante) - die Anzahl der Teilchen, die in einem Mol eines Stoffes enthalten sind (602 Trilliarden Teilchen pro Mol). For computation: see [Fredkin gate paper](https://cqi.inf.usi.ch/qic/82_Fredkin.pdf), section 5: An isolated physical system consisting of a substantial amount (say, 1 g) of matter possesses an enormous number of degrees of freedom, or modes, of the order of magnitude of Avogadro's number (..).\n",
        "\n",
        "* <font color=\"blue\">$10^{30}$ years: all remnant of stars will have fallen in the central galactic supermassive black hole\n",
        "\n",
        "* <font color=\"blue\">$10^{30}$ x 3 years: if also Protons decay and all atmic nuclei are decayed. Black hole era of the universe starts. Black holes are the only celestial objects in the entire universe.\n",
        "\n",
        "* <font color=\"blue\">$10^{33}$ x 6 : [Margolus-Levitin-Theorem](https://en.m.wikipedia.org/wiki/Margolus–Levitin_theorem), the processing rate of all forms of computation (including quantum computation) cannot be higher than about 6 × 10^33 operations per second per joule of energy. The maximum computational speed per unit of energy is limited by the Planck constant.\n",
        "\n",
        "* <font color=\"blue\">$10^{43}$ = [Beckenstein bound](https://en.m.wikipedia.org/wiki/Bekenstein_bound): maximal amount of information that can be contained within a given volume. Genauer: Using mass–energy equivalence, the informational limit may be reformulated as follows where M is the mass (in kg), and R is the radius (in meter) of the system ${\\displaystyle H\\leq {\\frac {2\\pi cRM}{\\hbar \\ln 2}}\\approx 2.5769082\\times 10^{43}\\ {\\frac {\\text{bit}}{{\\text{kg}}\\cdot {\\text{m}}}}\\cdot M\\cdot R,}$. You can also consider this as $10^{43}$ Hertz: a computer that operated at these operations per second would use so much energy that it would simply collapse to a black hole - Moore’s law: ultimate limits imposed by quantum gravity (min 55:00 [video](https://www.youtube.com/watch?v=uX5t8EivCaM&t=2492s))</font>\n",
        "  * It implies that the information of a physical system, or the information necessary to perfectly describe that system, must be finite if the region of space and the energy are finite.\n",
        "  * In computer science this implies that non-finite models such as [Turing machines](https://en.m.wikipedia.org/wiki/Turing_machine) are not realizable as finite devices.\n",
        "\n",
        "* <font color=\"blue\">$10^{50}$ bits per second per kilogram x 1.3563925 = [Bremermann limits](https://en.m.wikipedia.org/wiki/Bremermann%27s_limit) - Max rate of data processing by isolatad material system. Physical limit of computation. It is derived from Einstein's mass-energy equivalency and the Heisenberg uncertainty principle, and is c2/h.</font>\n",
        "\n",
        "  * A computer at the size of earth and operating at Bremermann's limits could do $10^{74}$ computations per second. It could break a 128 bit cryptographic key in less than $10^{-36}$ of a second and a 256 bit key in 2 minutes. However for 512 bit key working this Bremermann's computational speed limit would ta e$10^{72}$ years. [Source at min 2:30](https://www.youtube.com/watch?v=ZDfaXJRtOoM). Das Universum wird aber vrs “nur” noch max Trillionen (10^12) oder Quadrillionen (10^15) Jahre existieren.\n",
        "\n",
        "* <font color=\"blue\">$10^{50}$ x 5 operations per second. The \"ultimate laptop\": 1 kg black hole with width = 3 x $10^{27}$ meters it would perform 5 x $10^{50}$ operations /sec, but has only a lifetime = $10^{-22}$ sec (due to Hawking radiation). Source: [Seth Lloyd: Black hole computer](https://www.scientificamerican.com/article/black-hole-computers-2007-04/). It's also the **final limit of computation is at Heisenberg uncertainty** at $10^{50}$ operations per second (flops, not clock speed) [Source](https://www.youtube.com/watch?v=jv2H9fp9dT8) even when accounting for a Black Hole</font>\n",
        "\n",
        "* * <font color=\"blue\">$10^{68}$ years: black hole of the size of the sun will have decayed due to Hawking radiation\n",
        "\n",
        "* $10^{80}$ [Eddington number](https://en.m.wikipedia.org/wiki/Eddington_number): Number of protons in the observable universe. genauer: 1.57 × $10^{79}$\n",
        "\n",
        "* <font color=\"blue\">$10^{80}$ x ∼6: number of bits of information stored in all the matter particles of the observable universe (where each particle in the observable universe contains 1.509 bits of information) [arxiv:0110141](https://arxiv.org/abs/quant-ph/0110141) and [arxiv:2112.04473](https://arxiv.org/abs/2112.04473)</font>\n",
        "\n",
        "* $10^{90}$: Fill the universe with grains of sand (.5mm in diameter)\n",
        "\n",
        "* <font color=\"blue\">$10^{90}$ - max number of bits the universe can have processed [arxiv:0110141](https://arxiv.org/abs/quant-ph/0110141), based on the amount of information the Universe can register and the number of elementary operations that it can have performed over its history</font>\n",
        "\n",
        "* <font color=\"blue\">$10^{90}$ operations per second: if all matter in the observable would turned into a black hole computer it could perform $10^{90}$ operations per second but it has a life time of 2.8 x $10^{139}$ seconds before hawking radiation cause it to evaporate. In that time it could perform 2.8 x $10^{229}$ operations. Source: [Seth Lloyd: Black hole computer](https://www.scientificamerican.com/article/black-hole-computers-2007-04/)</font>\n",
        "\n",
        "\n",
        "* $10^{106}$ - $10^{108}$ years it takes for Black holes to evaporate due to Hawking radiation. Source: [The Crazy Future If Protons Don't Decay](https://www.youtube.com/watch?v=5XuBIyGqE1w). The universe enters the dark era.All physical objects have decayed into subatomic particles. If protons don't decay, look at $10^{1500}$ years.\n",
        "\n",
        "\n",
        "* $10^{100}$: [Googol](https://en.wikipedia.org/wiki/Googol), from American mathematician Edward Kasner in 1938\n",
        "\n",
        "* $10^{113}$  The number of hydrogen atoms it would take to pack the universe full of them.\n",
        "\n",
        "* $10^{116}$ x 1.57: possible ways of arrangements a 6x6x6 rubik's cube can have\n",
        "\n",
        "* <font color=\"blue\">$10^{120}$ - max number of operations the universe can have performed [arxiv:0110141](https://arxiv.org/abs/quant-ph/0110141), based on the amount of information the Universe can register and the number of elementary operations that it can have performed over its history</font>\n",
        "\n",
        "* <font color=\"blue\">$10^{120}$ max number of bits of data that could be computes in the amount of time that has elapsed so far in the universe based on the maximum entropy of the universe, the speed of light and the minimum time taken to move information across the Planck length. Anything that requires more than this amount of data cannot have been computed yet [Source, min 2](https://youtu.be/nJObMJLweCs) - Limit on the computational power of the universe (and why Laplace demon cannot exist)</font>\n",
        "\n",
        "* $10^{122}$ The number of protons you could fit in the universe (incl, non-observable universe??) -> for this I need a source\n",
        "\n",
        "* $10^{183}$ number of Planck length' ($10^{-35}$ meters) cubes in the observable universe\n",
        "\n",
        "* <font color=\"blue\">$10^{185}$ x 4: Without being able to go smaller, we’ve reached the largest number where the physical world can be visualize: take a Planck length (10^(-35) meter) and fill it with universe - largest number where the physical world can be used to visualize it. **Anything bigger than this number cannot be explained in physical terms.**</font>\n",
        "\n",
        "* $10^{200}$ pieces to cut a circle and fill with it a square - from circle to square: [Tarski's circle-squaring problem](https://en.m.wikipedia.org/wiki/Tarski%27s_circle-squaring_problem). Achtung: From square to circle: [Squaring the circle](https://en.m.wikipedia.org/wiki/Squaring_the_circle) has been proven to be impossible.\n",
        "\n",
        "* <font color=\"blue\">$10^{229}$ x 2.8: max number of operations if all matter in the observable would turned into a black hole computer Source: [Seth Lloyd: Black hole computer](https://www.scientificamerican.com/article/black-hole-computers-2007-04/)</font>\n",
        "\n",
        "\n",
        "* $10^{495}$ x 6.8: possible proteins the cells in a body can create from the 375 amino acids (but it just unfolds a small subset of all these combinations). Video: [The Most Complex Language in the World](https://www.youtube.com/watch?v=TYPFenJQciw&list=WL&index=13)\n",
        "\n",
        "\n",
        "* $10^{1500}$ years: In case proton decay is not possible, all the particles will have fused together to form iron-56 isotopes, and thus creating something called 'Iron stars'.\n",
        "\n",
        "* 10$^{272.000}$ number of possible universes in string theory [video](https://youtu.be/k_TEoUF12Yk)\n",
        "\n",
        "* $10^{{10}^{16}}$: Number of universes that a human observer may distinguish = number of different configurations a typical human brain can have [arXiv:0910.1589](https://arxiv.org/abs/0910.1589)\n",
        "\n",
        "* $10^{10^{40}}$ where [Merten‘s Conjecture](https://en.m.wikipedia.org/wiki/Mertens_conjecture) can be disproven\n",
        "\n",
        "* $10^{10^{40}}$ years: all particles will have collapes into black holes (which would evaporate almost instantaneously due to timescale). Now the universe is an absolute void with nothing inside of it. Now, the Universe has reached its final energy state, its maximum entropic value.\n",
        "\n",
        "* $10^{10^{40}}$ years: [Boltzmann brain](https://de.m.wikipedia.org/wiki/Boltzmann-Gehirn), a self-aware entity that appeared due to random quantum fluctuations.\"\n",
        "\n",
        "* <font color=\"blue\">$10^{{10}^{70}}$ - All possible quantum states a person can occupy (roughly a meter ^3 of space). If you would walk $10^{{10}^{70}}$ meters, you would start to see repetitions of yourself.[Source](https://youtu.be/8GEebx72-qs?t=287)</font>\n",
        "\n",
        "* $10^{{10}^{76}}$ years: iron stars will slowly collapse into black holes. Source: [The Crazy Future If Protons Don't Decay](https://www.youtube.com/watch?v=5XuBIyGqE1w)\n",
        "\n",
        "* $10^{{10}^{100}}$ or $10^{Googol}$ - [Googolplex](https://en.m.wikipedia.org/wiki/Googolplex): you cannot write this number in the (observable) universe, since there is not enough space: it has more digits than there are atoms in the observable universe. <font color=\"blue\">**From here start numbers that are incomprehensible. If i walk a googoplex far (the universe is as big as a googolplex meters across), I would see repetitions of myself** (aka same arrangements of atoms like me).</font> if i go further i would see the entire observable universe repeating (size of the universe: $(10^{26})^3$ meters. <font color=\"blue\">**This means there is probably not another me in the universe**.</font> but if you live in a universe that is a googolplex across, then you would by chance run into the same arrangements of atoms that matches you. [numberphile](https://www.youtube.com/watch?v=8GEebx72-qs&t=0s)\n",
        "\n",
        "* $10^{{10}^{{10}^{7}}}$: Number of possible universes, but assume that we are not limited as observers to distinguish more universes. $10^{{10}^{16}}$ is number of universes that a human observer may distinguish [arXiv:0910.1589](https://arxiv.org/abs/0910.1589)\n",
        "\n",
        "* $10^{{10}^{{10}^{34}}}$ bzw. $e^{{e}^{{e}^{79}}}$: untere Schranke der [Skewes Number](https://de.m.wikipedia.org/wiki/Skewes-Zahl)\n",
        "\n",
        "\n",
        "* $10^{{10}^{{10}^{56}}}$ years: random quantum fluctuations and quantum tunneling is predicted to give birth to another universe [Source](https://www.youtube.com/watch?v=dsWfGzxjs0w)\n",
        "\n",
        "* $10^{{10}^{{10}^{76}}}$ years: next checkpoint for a new universe to give birth via a big bang (if protons don't decay), if we are looking at the probability of quantum fluctuations. Source: [The Crazy Future If Protons Don't Decay](https://www.youtube.com/watch?v=5XuBIyGqE1w)\n",
        "\n",
        "* $10^{{10}^{{10}^{100}}}$ - Googolplexian. Number 10 raised to the power of one Googolplex. 10^1000000..... - line is probably trillions of light years long\n",
        "\n",
        "* $10^{{10}^{{10}^{1000}}}$: untere Schranke der [Skewes Number](https://de.m.wikipedia.org/wiki/Skewes-Zahl) unter Nicht-Annahme der Riemann Hypothese. Unter Annahme der Riemann Hypothese: $10^{{10}^{{10}^{961}}}$ bzw. $e^{{e}^{{e}^{7703}}}$\n",
        "\n",
        "* <font color=\"blue\">$10^{{10}^{{10}^{{10}^{{10}^{1.1}}}}}$ **Poincare recurrence time**: Time until a system resets itself (particle of gas go back in the corner, because phase space is finite). you can apply that to the whole universe. Largest finite time ever been calculated by a physicist in a published paper: [arxiv:9411193](https://arxiv.org/abs/hep-th/9411193). He calculated [Poincare recurrence time](https://en.m.wikipedia.org/wiki/Poincar%C3%A9_recurrence_theorem) (for a certain type of universe with a certain cosmological number). [Video](https://www.youtube.com/watch?v=1GCf29FPM4k).</font>\n"
      ],
      "metadata": {
        "id": "6tjmyhKJX2FI"
      }
    },
    {
      "cell_type": "markdown",
      "source": [
        "<font color=\"red\">**Here we cannot simply write down the numbers anymore $\\downarrow \\downarrow$**\n",
        "\n",
        "> See also: Video: [Numbers too big to imagine](https://youtu.be/u1x_FJZX6Vw?si=4bqa_0_nbdd4DquX)\n",
        "\n",
        "**g64 number [Grahams Zahl](https://de.m.wikipedia.org/wiki/Grahams_Zahl)**\n",
        "\n",
        "* **Graham's number is the biggest number used constructively** = used in a mathematical proof, rather than just being a theoretical concept. There is a specific mathematical problem that can be solved by using Graham's number.\n",
        "\n",
        "* $g_{64}$ [Grahams Zahl](https://de.m.wikipedia.org/wiki/Grahams_Zahl) $g_{64} = 3 \\uparrow \\underbrace{\\uparrow \\ldots \\uparrow}_{g_{63}} \\uparrow 3 = 3(G63\\uparrow)3$ = the biggest number used constructively. If you count that number in your head, the total amount of information would turn your head into a black hole. Graham's number is **not** transfinite. But it is an astronomically large number that is defined using a recursive formula. The formula is so large that it cannot be written out in standard mathematical notation.\n",
        "\n",
        "> $3 \\uparrow \\uparrow 3=3 \\uparrow 3 \\uparrow 3 = 3^{3^3}=7,625,597,484,987$\n",
        "\n",
        "\n",
        "> $3 \\uparrow \\uparrow \\uparrow 3=3 \\uparrow \\uparrow 3 \\uparrow \\uparrow 3$ = $3^{3^{3^{(..)^3}}}$ - This means the number 3 is 7,625,597,484,987 (7.6 trillion) times exponentiated!\n",
        "\n",
        "> $g_1 = 3 \\uparrow \\uparrow \\uparrow \\uparrow 3 = 3 \\uparrow \\uparrow \\uparrow 3 \\uparrow \\uparrow \\uparrow 3$\n",
        "\n",
        "> $g_2 = 3 \\uparrow \\underbrace{\\uparrow \\ldots \\uparrow}_{g_1} \\uparrow 3  = 3(G1\\uparrow)3$\n",
        "\n",
        "> $g_3 = 3 \\uparrow \\underbrace{\\uparrow \\ldots \\uparrow}_{g_2} \\uparrow 3 $\n",
        "\n",
        "> ....\n",
        "\n",
        "> $g_{64} = 3 \\uparrow \\underbrace{\\uparrow \\ldots \\uparrow}_{g_{63}} \\uparrow 3 = 3(G63\\uparrow)3$ = [Grahams Zahl](https://de.m.wikipedia.org/wiki/Grahams_Zahl) the biggest number used constructively\n",
        "\n",
        "> Siehe: [Hyperoperation](https://en.m.wikipedia.org/wiki/Hyperoperation) und [Knuth‘s Up Arrow Notation](https://en.m.wikipedia.org/wiki/Knuth%27s_up-arrow_notation)\n",
        "\n",
        "* you can't say how many digits it has. If you imagine Graham's number in your head, then your head would collaps into a black hole. It is estimated that the observable universe is not large enough to contain an ordinary digital representation of Graham's number.\n",
        "\n",
        "* Upper bound: used in combinatorics, graph theory, as an upper bound for coloring graphs that are linked to higher dimensional cubes: for [\"Ramsey number for hypergraphs\"](https://en.m.wikipedia.org/wiki/Ramsey%27s_theorem) (This problem is concerned with the number of edges that need to be added to a hypergraph in order to make it so that any two distinct subsets of the hypergraph have either the same number of edges between them, or the opposite number of edges between them.). Graham's number is the max number for this to be true (and 6 or 11 is the lowest)\n",
        "\n",
        "* https://waitbutwhy.com/2014/11/1000000-grahams-number.html\n",
        "\n",
        "\n",
        "**tree(3)** [Kruskal's tree theorem](https://en.m.wikipedia.org/wiki/Kruskal%27s_tree_theorem)\n",
        "\n",
        "* tree theorems are larger numbers for mathematical proofs than graham's number\n",
        "\n",
        "https://en.m.wikipedia.org/wiki/Kruskal%27s_tree_theorem\n",
        "\n",
        "https://towardsdatascience.com/how-big-is-the-number-tree-3-61b901a29a2c\n",
        "\n",
        "- Inf-embedabble\n",
        "- Ackermann numbers as lower bound\n",
        "- Proof theory: kruskals tree theory\n",
        "    - Well quasi ordering\n",
        "    - Poincare recurrence, universe will reset itself due to entropy (limited number of steps) or proof doesn‘t fit in our universe\n",
        "    - Ordinals, trans-finite arithmetic\n",
        "- Video 1: https://www.youtube.com/watch?v=3P6DWAwwViU\n",
        "- Video 2: https://www.youtube.com/watch?v=IihcNa9YAPk\n",
        "\n",
        "\n",
        "**Loaders number** $D^{(5)}(99)$\n",
        "\n",
        "* It's the fifth iteration of a certain function  D  on the value 99. TREE(3) is indistinguishable from zero compared to Loader's number. Code was limited to 512 characters, otherwise it would get bigger\n",
        "\n",
        "* https://googology.fandom.com/wiki/Loader%27s_number\n",
        "\n",
        "* The interesting point is that  D , the function, is a very fast-growing function with a particularly compact representation, and it’s valuable to compare its growth rate with that of other computable functions.\n",
        "\n",
        "* I’m not sure much is known about the place of  D  in the fast-growing hierarchy. The Googology entry seems to indicate that, for example, finite promise games produce a faster-growing computable function.\n",
        "\n",
        "* **TREE(3) is indistinguishable from zero compared to Loader's number[1]**, which basically takes every bit pattern up to some n and expresses this as a program in the Calculus of Constructions. This system is a bit weaker than being Turing complete, but the programs do always terminate (this makes the number computable compared with, say, the Busy Beaver number which does a similar thing with Turing complete programs).\n",
        "It also has the geek cred of being represented by an obfuscated C program (the unobfuscated verson is also available[2]).\n",
        "[1] http://googology.wikia.com/wiki/Loader%27s_number\n",
        "[2] https://github.com/rcls/busy\n",
        "\n",
        "\n",
        "**SCG(13) and SSCG(3)** [Friedman's SSCG function](https://en.m.wikipedia.org/wiki/Friedman's_SSCG_function)\n",
        "\n",
        "* https://en.m.wikipedia.org/wiki/Friedman%27s_SSCG_function\n",
        "\n",
        "* https://en.m.wikipedia.org/wiki/Friedman's_SSCG_function\n",
        "\n",
        "* SCG(13) and SSCG(3) - [Friedman's SSCG function](https://en.m.wikipedia.org/wiki/Friedman's_SSCG_function). SCG(13) is computable, whereas Rayo's number is uncomputable. Rayo's number >> SCG(13).\n",
        "\n",
        "* The SSCG sequence begins slower than SCG, SSCG(0) = 2, SSCG(1) = 5, but then grows rapidly.\n",
        "\n",
        "* This number is known for being able to surpass TREE(3) and is defined with SSCG. It is praised for being much larger than TREE(TREE(TREE(TREE… (over TREE(3) times …TREE(TREE(TREE(TREE(3)…).\n",
        "\n",
        "* SSCG(3) is much larger than both TREE(3)\n",
        "\n",
        "* SCG(13) is computable, whereas Rayo's number is uncomputable. From here we can already say Rayo's number >> SCG(13). For large numbers beyond g(64), we can only use boundaries to define them, hence the uncertainty.\n",
        "\n",
        "* Adam P. Goucher claims there is no qualitative difference between the asymptotic growth rates of SSCG and SCG. He writes \"It's clear that SCG(n) ≥ SSCG(n), but I can also prove SSCG(4n + 3) ≥ SCG(n).\"\n",
        "\n",
        "\n",
        "* SCG(13) and SSCG(3) - [Friedman's SSCG function](https://en.m.wikipedia.org/wiki/Friedman's_SSCG_function). SCG(13) is computable, whereas Rayo's number is uncomputable. Rayo's number >> SCG(13).\n",
        "\n",
        "\n"
      ],
      "metadata": {
        "id": "bek6CfuxWq1H"
      }
    },
    {
      "cell_type": "markdown",
      "source": [
        "<font color=\"red\">**$\\uparrow \\uparrow$ Here separates the computable from the uncomputable $\\downarrow \\downarrow$**\n",
        "\n",
        "**Busy Beaver - Separating the computable from the uncomputable**\n",
        "\n",
        "* [Busy Beaver](https://en.m.wikipedia.org/wiki/Busy_beaver): endliche, aber im Allgemeinen nicht berechenbare Funktion. The Busy Beaver function Σ(n) grows faster than any computable function. Hence, it is not computable; only a few values are known. some mathematical system loose the ability to prove its values beyond a point. ps: Rayo's number is much bigger than the Beaver - but the Busy Beaver isn't relevant to Rayo. Rayo is fundamentally about truth rather than provability, and so the relevant \"logical obstacle\" is Tarski's undefinability theorem rather than the incomputability of the halting problem\n",
        "\n",
        "* Difference between (in)finite value and (in)finite instruction: ZFC can't pin down the precise value of even BB(7918). However, ZFC can define the Busy Beaver function itself, in less than, say, a billion symbols.\n",
        "\n",
        "* Die [Fleißiger-Biber-Funktion bzw. Radó-Funktion Σ](https://de.m.wikipedia.org/wiki/Flei%C3%9Figer_Biber) ist in der theoretischen Informatik ein Standardbeispiel für eine **endliche, aber im Allgemeinen nicht berechenbare Funktion**\n",
        "\n",
        "* **Open Questions**: Open Questions BB($10^{100}$) > Tree($10^{100}$) ??.\n",
        "\n",
        "* Die Rado-Funktion Σ ist nicht Turingmaschinen-berechenbar. Obwohl es sehr viele nicht-berechenbare Funktionen gibt - sogar mehr als berechenbare -, muss man sich doch Außergewöhnliches einfallen lassen, um eine nicht-berechenbare Funktionen möglichst konkret zu beschreiben. [Source](https://www.inf-schule.de/algorithmen/berechenbarkeit/grenzenderberechenbarkeit/station_fleissigebiber)\n",
        "\n",
        "https://en.m.wikipedia.org/wiki/Busy_beaver\n",
        "\n",
        "* $\\sum(n)$ : The Busy Beaver function\n",
        "  * Consider all n-state Turing machines.\n",
        "  * Run each on a tape of all 0's.\n",
        "  * Of all machines that halted,\n",
        "    * $\\sum(n)$ = max count of 1's\n",
        "\n",
        "* **$\\Sigma(n)$ is not a computable function!** (for all n, but for a specific n it's computable). **The Busy Beaver function Σ(n) grows faster than any computable function. Hence, it is not computable; only a few values are known**\n",
        "\n",
        "* Some mathematical system loose the ability to prove its values beyond a point. A computable function requires a finite number of steps to produce the output. Siehe [Berechenbarkeit](https://de.m.wikipedia.org/wiki/Berechenbarkeit)\n",
        "\n",
        "* this function grows faster than any computable function! For: If f(n) : $\\mathbb{N}$ => $\\mathbb{N}$ for any computable function, then there exists $n_f$ such that: $f(n) < \\Sigma(n)$ for all $n$ ≥ $n_f$\n",
        "\n",
        "* **Means: The busy beaver function beyond some value of $\\mathbb{N}$ will grow faster than $\\mathbb{N}$**\n",
        "\n",
        "* There are true statements like: \"$\\Sigma$(1000) = k\" that cannot be proved in our normal axiomatic systems. Mathematics looses the ability to make claims about these numbers.\n",
        "\n",
        "* the nineteenth busy beaver number is greater than grahams number\n",
        "\n",
        "* [Aaronson: Busy Beaver Updates: Now Even Busier](https://scottaaronson.blog/?p=6673)\n",
        "\n",
        "* Source Video: [The Boundary of Computation](\n",
        "https://www.youtube.com/watch?v=kmAc1nDizu0):\n",
        "\n",
        "![geometry](https://raw.githubusercontent.com/deltorobarba/repo/master/sciences_1627.png)\n",
        "\n",
        "![geometry](https://raw.githubusercontent.com/deltorobarba/repo/master/sciences_1628.png)\n",
        "\n",
        "![geometry](https://raw.githubusercontent.com/deltorobarba/repo/master/sciences_1629.png)\n",
        "\n",
        "\n",
        "**Rayo($10^{100}$)** [Rayo's number](https://en.m.wikipedia.org/wiki/Rayo).\n",
        "\n",
        "* Rayo's number is the smallest number that cannot be expressed anymore. even grahams number would look like a 0 next to rayos number. [Video](https://www.youtube.com/watch?v=X3l0fPHZja8).\n",
        "\n",
        "* Rayo's number is defined as the smallest number that is larger than any number that can be named by an expression in the language of first-order set theory with a googol symbols or less. This means that Rayo's number is much larger than a Gogol.\n",
        "\n",
        "* Compared to Busy beaver: Rayo is way way way way WAY bigger than the Beaver - but the Busy Beaver just isn't relevant to Rayo.) Rayo is fundamentally about truth rather than provability, and so the relevant \"logical obstacle\" is Tarski's undefinability theorem rather than the incomputability of the halting problem [Source](https://math.stackexchange.com/questions/3910468/a-confusion-regarding-rayos-number-and-busy-beaver-function)\n",
        "\n",
        "**Chaitin's constant**\n",
        "\n",
        "* [Chaitin's constant](https://en.m.wikipedia.org/wiki/Chaitin%27s_constant) or halting probability is a real number that, informally speaking, represents the probability that a randomly constructed program will halt.\n",
        "\n",
        "* ***Chaitin's number is transfinite. It is an uncomputable number that measures the randomness of a computer program***. The higher the Chaitin's number, the more random the program is. Chaitin's number is uncomputable (because it is impossible to determine the halting probability of a Turing machine.)\n",
        "\n",
        "* Each halting probability is a normal and transcendental real number that **is not computable**, which means that there is no algorithm to compute its digits. Each halting probability is [Martin-Löf random](https://en.m.wikipedia.org/wiki/Algorithmically_random_sequence), meaning there is not even any algorithm which can reliably guess its digits.\n",
        "\n",
        "**Fish number 7**\n",
        "\n",
        "* Fish number 7 belongs to the family of the fish numbers, which were defined by a Japanese googologist. **Fish numbers were often classified as “above Rayo's number”**, and they're pretty incomprehensible. [More info](https://googology.fandom.com/wiki/Fish_number_7).\n",
        "\n",
        "**Merten‘s Conjecture** $10^{10^{40}}$\n",
        "\n",
        "* [Merten‘s Conjecture](https://en.m.wikipedia.org/wiki/Mertens_conjecture) is disproven: at some point the sum will surpass the square root of the number. [Video](https://youtu.be/uvMGZb0Suyc).\n",
        "* If it had been true, that it would proof the Riemann hypothesis\n",
        "* But if we knew it, we cannot write it down, because **we would need more atoms than exist in the universe to write it down**\n",
        "    * PRIZE FOR SOLVING RIEMANN HYPOTHESIS $ 10€\n",
        "    * STARS IN THE UNIVERSE 10^22\n",
        "    * ATOMS IN THE UNIVERSE 10^80\n",
        "    * MERTENS CONJECTURE FAILS $10^{10^{40}}$\n",
        "* We have no way to describe the first that it happens, but we know it exists\n",
        "\n"
      ],
      "metadata": {
        "id": "DRzsUXULYvpO"
      }
    },
    {
      "cell_type": "markdown",
      "source": [
        "**Infinity $\\infty$ and Transfinite numbers**\n",
        "\n",
        "*überabzählbare und abzählbare Unendlichkeit*\n",
        "\n",
        "* Tatsächlich gibt es nicht nur eine Unendlichkeit, sondern gleich unendlich viele. So unterscheidet man beispielsweise zwischen der Unendlichkeit der natürlichen Zahlen und der reellen Zahlen: Während man natürliche Zahlen wie 1, 2, 3, … lückenlos auflisten kann, ist das mit reellen Zahlen unmöglich. Eine Aufzählung existiert nicht, selbst wenn die Liste unendlich lang ist. Denn zwischen zwei reellen Zahlen findet man immer eine weitere, die dazwischensteckt. Auch wenn man vermuten würde, dass das bei Bruchzahlen ebenso ist, lassen diese sich dennoch wie die natürlichen Zahlen aufzählen, zum Beispiel, indem man sie nach der Größe ihres Nenners ordnet: 1⁄1, 1⁄2, 1⁄3, 2⁄3, 1⁄4, 3⁄4, 1⁄5, 2⁄5, 3⁄5, 4⁄5, … Damit haben wir zwei Kategorien von Unendlichkeiten ausgemacht: abzählbare Unendlichkeit, wie die der natürlichen oder rationalen Zahlen, und überabzählbare Unendlichkeit, wie die der reellen Zahlen. Und auch wenn beides unvorstellbare Größen sind, ist ihr Unterschied erheblich.\n",
        "\n",
        "https://www.spektrum.de/kolumne/masstheorie-eine-wahrscheinlichkeit-von-null-heisst-nicht-unmoeglich/2092452\n",
        "\n",
        "*In mathematics, transfinite numbers are numbers that are greater than all finite numbers. They are often used in set theory and topology.*\n",
        "\n",
        "There are two main types of transfinite numbers: ordinal numbers and cardinal numbers. Ordinal numbers are used to order sets, while cardinal numbers are used to count the number of elements in a set.\n",
        "\n",
        "Some examples of transfinite numbers are:\n",
        "\n",
        "* **$\\omega$** (omega): The smallest transfinite ordinal number. It is the order type of the natural numbers.\n",
        "* **$\\omega^2$** (omega squared): The number of all possible orderings of the natural numbers.\n",
        "* **$\\aleph_0$** (aleph null): The smallest transfinite cardinal number. It is the cardinality of the set of natural numbers.\n",
        "* **$\\aleph_1$** (aleph one): The cardinality of the set of all countable ordinal numbers.\n",
        "* **$\\aleph_2$** (aleph two): The cardinality of the set of all uncountable ordinal numbers.\n",
        "\n",
        "Transfinite numbers can be used to solve problems that are impossible to solve with finite numbers. For example, the problem of determining whether a given set is countable or uncountable can only be solved using transfinite numbers.\n",
        "\n",
        "The study of transfinite numbers is a complex and fascinating area of mathematics. It has applications in many different areas of mathematics, including set theory, topology, and logic.\n",
        "\n",
        "**what is the relationship between transfinite numbers and infinity?**\n",
        "\n",
        "Transfinite numbers are numbers that are greater than all finite numbers. Infinity is a concept that refers to something that is boundless or endless.\n",
        "\n",
        "The relationship between transfinite numbers and infinity is that transfinite numbers are a way of quantifying infinity. In other words, transfinite numbers allow us to talk about different sizes of infinity.\n",
        "\n",
        "For example, the natural numbers (1, 2, 3, ...) are finite numbers. The set of all natural numbers is countable, which means that it can be put into a one-to-one correspondence with the set of all positive integers.\n",
        "\n",
        "The set of all real numbers is uncountable, which means that it cannot be put into a one-to-one correspondence with the set of all positive integers. This means that the set of all real numbers is larger than the set of all natural numbers.\n",
        "\n",
        "Transfinite numbers can be used to quantify the size of the set of all real numbers. The smallest transfinite cardinal number is $\\aleph_0$, which is the cardinality of the set of all natural numbers. The cardinality of the set of all real numbers is $\\aleph_1$, which is larger than $\\aleph_0$.\n",
        "\n",
        "There are many different transfinite numbers, and they can be used to quantify the size of different sets. The study of transfinite numbers is a complex and fascinating area of mathematics.\n",
        "\n",
        "Here are some other ways to think about the relationship between transfinite numbers and infinity:\n",
        "\n",
        "* Transfinite numbers are a way of making infinity more precise.\n",
        "* Transfinite numbers allow us to compare different infinities.\n",
        "* Transfinite numbers can be used to solve problems that are impossible to solve with finite numbers.\n",
        "\n",
        "The study of transfinite numbers is a complex and fascinating area of mathematics. It has applications in many different areas of mathematics, including set theory, topology, and logic.\n",
        "\n",
        "http://peter-ripota.de/mathe/ordinalzahlen-einfach-weiterzaehlen/von-%CF%89-zu-%CE%B50-von-klein-omega-zu-epsilon-null/\n",
        "\n",
        "\n",
        "Infinity is not a number, it's an idea, a concept. Hence you cannot equal something to infinity.\n",
        "\n",
        "Aleph Null\n",
        "\n",
        "https://de.m.wikipedia.org/wiki/Aleph-Funktion\n",
        "\n",
        "https://www.spektrum.de/lexikon/mathematik/amp-aleph-0-aleph-null/443\n",
        "\n",
        "[Counting beyond infinity](https://youtu.be/SrU9YDoXE88)\n",
        "\n",
        "https://www.quantamagazine.org/how-many-numbers-exist-infinity-proof-moves-math-closer-to-an-answer-20210715/\n",
        "\n",
        "* Kontinuumshypothese (Cantor) kann man nicht beweisen oder widerlegen (Gödel). Die Mathematik kann funktionieren, wenn man sowohl davon ausgeht, dass die Kontiuumshypothese gilt, als auch, dass sie nicht gilt.\n",
        "\n",
        "* term of size (how many?) is: **Cardinality**\n",
        "\n",
        "* Rules for comparing cardinalities: injection, subjection, bijection\n",
        "\n",
        "![ggg](https://raw.githubusercontent.com/deltorobarba/repo/master/sciences_319.png)\n",
        "\n",
        "* How does the cardinality of a set A compares to that of its power set (=set of all subsets of A including itself)\n",
        "\n",
        "* The cardinality of the power set of A is strictly greater than the cardinality of its original set A, even when it's infinite\n",
        "\n",
        "* [How Big are All Infinities Combined? (Cantor's Paradox) | Infinite Series](https://www.youtube.com/watch?v=TbeA1rhV0D0&list=WL&index=12&t=86s)\n",
        "\n",
        "**Smallest Sizes of Infinity**\n",
        "\n",
        "* intuition is often misleading in mathematics!\n",
        "\n",
        "* There are infinitely many sizes of infinity\n",
        "\n",
        "* Smallest infinity: natural numbers (counting numbers). Here: even numbers and natural numbers are the same size!\n",
        "\n",
        "  * Natural numbers: $\\aleph$ \"Aleph-naught\" (the least infinity cardinality)\n",
        "\n",
        "* We need to find a way to tell which infinity is bigger without counting them.\n",
        "\n",
        "* You use something called Bijection: if you can pair up two sets, they are the same size\n",
        "\n",
        "\t* even numbers and natural numbers are the same size, because there is a bijection between the two sets! Each natural number is [aired with 2 times itself: 1 with 2, 2 with 4, 4 with 6 etc. Damit sind alles odd numbers out, but the set didn't get smaller\n",
        "\n",
        "![ggg](https://raw.githubusercontent.com/deltorobarba/repo/master/sciences_318.png)\n",
        "\n",
        "\t* the natural numbers are also the same size as the integers: Integers include all natural numbers + all the negative whole numbers. We can pair them up exactly, so they must be the same size.\n",
        "\n",
        "![ggg](https://raw.githubusercontent.com/deltorobarba/repo/master/sciences_317.png)\n",
        "\n",
        "* Above the natural numbers are the real numbers in terms of infinity size. After that the real numbers.\n",
        "\n",
        "\t* an interval on the real number line is also an infinity. And an interval on the real line between 0 and 5 has the same size as an interval between 0 and 10. They are ll as big as the real numbers!!\n",
        "\n",
        "\t* You can show that any interval is the same size as the entire real number line !\n",
        "\n",
        "![ggg](https://raw.githubusercontent.com/deltorobarba/repo/master/sciences_316.png)\n",
        "\n",
        "* Cantor wondered if there is an infinity between the natural and the real numbers?\n",
        "\n",
        "\t* CONTINUUM HYPOTHESIS: there is no size of infinity between the natural numbers and the real numbers\n",
        "\n",
        "\t* Decades later, mathematicians found out that the Continuum hypothesis is independent of the Zermela-Fraenkel set theory with choice (ZFC) - the Continuum hypothesis can not be proved or disproved using the standard rules of mathematics\n",
        "\n",
        "* So in one model of the tower of infinities the real numbers sit directly above the natural numbers\n",
        "\n",
        "* But in other models there are many infinities in between\n",
        "\n",
        "* The rules of maths don't say that one tower is correct and the other wrong.\n",
        "\n",
        "> So it seems that mathematics seems to be surprisingly agnostics with regards to which hierarchy of infinities is correct\n",
        "\n",
        "* How does the cardinality of a set A compares to that of its power set (=set of all subsets of A including itself)\n",
        "\n",
        "* The cardinality of the power set of A is strictly greater than the cardinality of its original set A, even when it's infinite"
      ],
      "metadata": {
        "id": "6AKEytfrRpL2"
      }
    },
    {
      "cell_type": "markdown",
      "source": [
        "**Eine Wahrscheinlichkeit von null heißt nicht unmöglich**\n",
        "\n",
        "*$\\hookrightarrow$ 'Improbable but not impossible'*\n",
        "\n",
        "Wenn man also die Wahrscheinlichkeit berechnet, welche Art von reeller Zahl man antrifft, wenn man zufällig eine zieht, erhält man ein eindeutiges Ergebnis: In 100 Prozent der Fälle ist diese Zahl nicht berechenbar. Das heißt aber nicht, dass man keine andere Zahl ziehen kann – bei unendlichen Ereignismengen bedeutet eine Wahrscheinlichkeit von null nicht unmöglich. Das ist umso erstaunlicher, als dass nicht allzu viele nicht berechenbare Zahlen bekannt sind. [Source](https://www.spektrum.de/kolumne/die-meisten-reellen-zahlen-sind-nicht-berechenbar/2133762)\n",
        "\n",
        "https://www.spektrum.de/kolumne/masstheorie-eine-wahrscheinlichkeit-von-null-heisst-nicht-unmoeglich/2092452\n",
        "\n",
        "Dieses Problem wird auch **Dartscheiben-Paradoxon** genannt. Gelöst wird es durch die Erkenntnis, dass eine Wahrscheinlichkeit von null nicht zwangsläufig bedeutet, dass ein Ereignis niemals eintritt – sondern nur, dass es »fast sicher« nicht eintritt.\n",
        "\n",
        "Woher weiß man nun, ob man es mit einem tatsächlich unmöglichen Ereignis (etwa, eine Acht mit einem W6-Würfel zu würfeln) oder einem fast unmöglichen Ereignis (einen bestimmten Punkt auf der Dartscheibe treffen) zu tun hat? Das hängt von der Anzahl der möglichen Ereignisse ab, dem so genannten Ereignisraum: Ist der Ereignisraum endlich (bei einem Würfel besteht er aus sechs Elementen: den sechs Seiten, auf denen er liegen bleiben kann), dann bedeutet eine Wahrscheinlichkeit von null, dass das betrachtete Ereignis niemals eintreten wird. Betrachtet man hingegen einen unendlich großen Ereignisraum (wie die möglichen Treffpunkte auf einer Dartscheibe), dann bedeutet eine Wahrscheinlichkeit von null nicht zwangsläufig, dass das Ereignis nicht eintritt – sondern nur, dass es sehr unwahrscheinlich ist."
      ],
      "metadata": {
        "id": "_YFS2_Vt1_JB"
      }
    },
    {
      "cell_type": "markdown",
      "source": [
        "##### *Beyond Quantum Computing (Hypercomputation)*"
      ],
      "metadata": {
        "id": "2rAAm4JiTDN3"
      }
    },
    {
      "cell_type": "markdown",
      "source": [
        "**What is Hypercomputation?**\n",
        "* Beyond Turing Machines: Hypercomputation refers to theoretical models of computation that can solve problems that are uncomputable by a standard Turing machine. Examples include machines that can decide the halting problem or compute functions with infinite information content.\n",
        "* Mostly Theoretical: No universally accepted, physically realizable model of hypercomputation exists. They remain predominantly concepts within theoretical computer science.\n",
        "* <font color=\"blue\">**Solving the Halting problem would be an example of hypercomputation, but it would not be covered by the qECTT!**</font>\n",
        "  * **The Halting Problem:**  The Halting problem asks whether it's possible to create a universal algorithm that can definitively determine if any given computer program will eventually stop running or continue indefinitely.  Alan Turing famously proved this problem is undecidable by a standard Turing machine.\n",
        "  * **Why it's Hypercomputation:** <font color=\"blue\">If you could solve the Halting problem, you'd possess a machine (often envisioned as an \"oracle\") capable of doing something no Turing machine (classical or quantum) can achieve</font>. This computational superpower fits most definitions of hypercomputation.\n",
        "  * **qECTT Violation:** Since the qECTT asserts that a quantum computer is no more powerful than a theoretical quantum Turing machine, and a quantum Turing machine still can't solve the Halting problem, this type of  hypercomputation directly clashes with the qECTT.\n",
        "  * **Important Note:** While conceptually clear, hypercomputation is tricky because it's largely defined by what it isn't.  Building a hypercomputer in the real world might be fundamentally impossible.\n",
        "\n",
        "\n",
        "**Forms of [Hypercomputation](https://en.m.wikipedia.org/wiki/Hypercomputation)**\n",
        "\n",
        "* **Hypercomputers and Quantum Gravity Computers**:\n",
        "  * see description in seth lloyds: black hole computers\n",
        "  * [Black holes as tools for quantum computing by advanced extraterrestrial civilizations](https://arxiv.org/abs/2301.09575)\n",
        "  * [Quantum Gravity Computers](https://arxiv.org/abs/quant-ph/0701019)\n",
        "  * [A simple quantum system that describes a black hole](https://arxiv.org/abs/2303.11534)\n",
        "  * [Quantum computers could simulate a black hole in the next decade](https://www.newscientist.com/article/2370695-quantum-computers-could-simulate-a-black-hole-in-the-next-decade/)\n",
        "  * [Black Hole as a model of computation](https://www.sciencedirect.com/science/article/pii/S2211379719304036)\n",
        "\n",
        "* **Infinity Machines**\n",
        "  * **Infinity Machines**: with geometrically squeezed time cycles, such as the ones envisioned by Weyl [7] and others [8-18], are they physically feasible? Motivated by recent proposals to utilize quantum computation for trespassing the Turing barrier [19-22], these accelerating Turing machines have been intensively discussed [23] among other forms of hypercomputation [24-26].\n",
        "\n",
        "* **Quantum Gravity Computers / Black Holes as Computers**\n",
        "  * **Quantum Gravity Computer with CTCs**: no one knows how to combine quantum mechanics with general theory of relativity. Quantum gravity: breakdowns of causality itself, if closed timelike curves CTCs (i.e., [time machines to the past](https://www.pbs.org/wgbh/nova/article/do-time-travelers-tweet/) ) are possible. David Deutsch, John Watrous and Aaronson: “A time machine is definitely the sort of thing that might let us tackle problems too hard even for a quantum computer.”\n",
        "  * With closed timelike curves, then under fairly mild assumptions, one could “force” Nature to solve hard combinatorial problems, just to keep the universe’s history consistent (i.e., to prevent things like the grandfather paradox from arising). Notably, the problems you could solve that way include the NP-complete problems : a class that includes hundreds of problems of practical importance (airline scheduling, chip design, etc.), and that’s believed to scale exponentially in time even for quantum computers.\n",
        "  * According to a 1992 paper (Hogarth, Mark L. (1992). [\"Does general relativity allow an observer to view an eternity in a finite time?\"](https://link.springer.com/article/10.1007/BF00682813)), a computer operating in a [Malament–Hogarth spacetime](https://en.m.wikipedia.org/wiki/Malament%E2%80%93Hogarth_spacetime) or in **orbit around a rotating black hole could theoretically perform non-Turing computations for an observer inside the black hole**.\n",
        "  * Access to a CTC may allow the rapid solution to PSPACE-complete problems, a complexity class which, while Turing-decidable, is generally considered computationally intractable. - [Computability Theory of Closed Timelike Curves](https://www.scottaaronson.com/papers/ctchalt.pdf). There are spacetimes in which the [CTC (closed timelike curves)](https://en.m.wikipedia.org/wiki/Closed_timelike_curve) region can be used for relativistic hypercomputation. [Closed Timelike Curves Make Quantum and Classical Computing Equivalent](https://arxiv.org/abs/0808.2669). While quantum formulations of CTCs have been proposed,[5][6] a strong challenge to them is their ability to freely create entanglement,[7] which quantum theory predicts is impossible. If Deutsch's prescription holds, the existence of these CTCs implies also equivalence of quantum and classical computation (both in PSPACE).[8] If Lloyd's prescription holds, quantum computations would be PP-complete. https://en.m.wikipedia.org/wiki/Closed_timelike_curve.\n",
        "  * **Achtung:** CTCs brauchen exotische Teilchen, um rückwärts in der zeit zu reisen (laut Hawking), und diesr exotischen Teilchen wurden noch nicht gefunden [Source](https://www.quora.com/If-two-black-holes-collide-does-the-matter-around-them-travel-back-in-time) - <font color=\"red\">So CTCs don't seem to exist, and with that no np-hard computation!</font>\n",
        "  * Videos: [Limits of computation](https://youtu.be/ZDfaXJRtOoM) - [Limits of computation](https://youtu.be/gV12PS19YL8) - [Physical limits of computation](https://youtu.be/ZVj93b0pa2o) - [What is the computational power of the universe](https://youtu.be/ROdv1v_YsAw) - [Is the universe a Turing machine?](https://youtu.be/VY6TzB_xH-k) (Lex Fridman: Lee Cronin vs Joscha Bach) - [The universe is not hypercomputational](https://youtu.be/VV_kArap5TM) (min 2). [Computing Limit](https://youtu.be/jv2H9fp9dT8). [Is There Anything Beyond Quantum Computing? ](https://www.pbs.org/wgbh/nova/article/is-there-anything-beyond-quantum-computing/) (Aaronson).\n",
        "\n",
        "* **Omega Machines**\n",
        "  * These are machines that can solve the halting problem, which is a problem that is known to be unsolvable by a Turing machine. (from chaitin's (omega) number):\n",
        "  * omega appears to have two features which are normally consid- ered contradictory: it is one of the most informative mathematical numbers imaginable, yet at the same time this information is so com- pressed that it cannot be deciphered. Thus omega appears to be totally structureless and random.\n",
        "  * In this sense, for omega, total information and total randomness seem to be “two sides of the same coin”. On a more pragmatic level, it seems impossible here to differen- tiate between order and chaos, or between knowledge and chance. **This gives a taste of what can be expected from any “hyper-computation” beyond universal computability** as defined by Turing. Source: [How to Acknowledge Hypercomputation?](https://content.wolfram.com/uploads/sites/13/2019/03/18-1-6.pdf)\n",
        "  * [Non-Turing Computers and Non-Turing Computability](https://www.jstor.org/stable/193018)\n",
        "  * Adamyan, Calude, Pavlov: Transcending the Limits of Turing Computability. Kieu: Computing the Noncomputable. Ord: The Many Forms of Hypercomputation. Davis: The Myth of Hypercomputation. Doria and Costa: Introduction to the Special Issue on Hypercomputation. Davis: Why There Is No Such Discipline as Hypercomputation\n",
        "  * Church–Kalmár–Kreisel–Turing theses theoretical concerning (necessary) limitations of future computers and of deductive sciences, in view of recent results of classical general relativity theory.  https://arxiv.org/abs/gr-qc/0104023\n",
        "\n"
      ],
      "metadata": {
        "id": "hojYWzd_AAMC"
      }
    },
    {
      "cell_type": "markdown",
      "source": [
        "**Motivation: Beyond Limits of Quantum Computers - Scientific Questions**\n",
        "\n",
        "1. **Computational Complexity and Black Holes**: The ultimate computers? AdS/CFT and information paradox? Are Black Holes (Non-)Turing machines (describable and computable)? Are there Unknown laws of quantum gravity?\n",
        "2. **Computational Complexity and Universe**: Is it describable and computable (simulatable), or a non-Turing machine? Can we not simulate all problems (including quantum gravity) on standard QC's? And are there problems that really require computers that are more complex than QC?\n",
        "  * Where is actually the computational limit of (standard) quantum computers?  Do we really need more powerful computers?  What actually means more powerful than quantum computers? - Are there systems that are hard to simulate on standard, qubit-based quantum computers, then those systems themselves could be thought of as more powerful kinds of quantum computers, which solve at least one problem—the problem of simulating themselves —faster than is otherwise possible.\n",
        "  * Benefits of thining about Limits of quantum computing: Minimum eigenvalue gap of my hamiltonian (spectral gap decrease polynomial or exponentially as a function of the number of particles?). Eigenvalue gap can become exponentially small. **Limits of quantum computing have explanatory power: why spectral gaps behave the way they do?** Why they help to protect geometry of spacetime. Scott Aaronson: [Black Holes, Firewalls, and the Limits of Quantum Computers](https://www.youtube.com/watch?v=cstKRACrMQY&t=2446)\n",
        "  * Lloyd also postulates that the Universe can be fully simulated using a quantum computer; however, in the absence of a theory of quantum gravity, such a simulation is not yet possible. \"Particles not only collide, they compute.\" https://en.m.wikipedia.org/wiki/Programming_the_Universe\n",
        "  * **It from Qubit - Everything is computation (The universe as a computer)**\n",
        "    * But to a physicist, all physical systems are computers. Rocks, atom bombs and galaxies may not run Linux, but they, too, register and process information. Every electron, photon and other elementary particle stores bits of data, and every time two such particles interact, those bits are transformed. Physical existence and information content are inextricably linked. As physicist John A. Wheeler of Princeton University says, It from bit.\n",
        "    * What is the universe computing? Instead the universe is computing itself. Powered by Standard Model software, the universe computes quantum fields, chemicals, bacteria, human beings, stars and galaxies. As it computes, it maps out its own spacetime geometry to the ultimate precision allowed by the laws of physics. **Computation is existence.**\n",
        "    * **It from Qubit** from [Simons Collaboration on Quantum Fields, Gravity, and Information](https://web.stanford.edu/~phayden/simons/overview.pdf):\n",
        "      * Does spacetime emerge from entanglement?\n",
        "      * Can quantum computers simulate all physical phenomena?\n",
        "      * Do black holes have interiors? Does the universe exist outside our horizon?\n",
        "3. **Computational Complexity and Consciousness**: Is consciousness reducable to computation?\n",
        "\n"
      ],
      "metadata": {
        "id": "FQOMlaEP1y6u"
      }
    },
    {
      "cell_type": "markdown",
      "source": [
        "**The Case why Turing Machines are powerful enough**\n",
        "\n",
        "*No need for hypercomputers*\n",
        "\n",
        "**Type 1: Power of Standard Quantum Computers**\n",
        "\n",
        "* Refers to non-relativistic quantum mechanics quantum computers. Fun Fact: there is a line of research how to efficiently simulate quantum circuits on classical computers.\n",
        "\n",
        "* **Standard QCs can simulate all of quantum chemistry and atomic physics efficiently**: Could Nature allow more powerful kinds of quantum computers than the “usual” qubit-based kind? - Strong evidence that answer is “no” comes from work by Richard Feynman in the 1980s, and by Seth Lloyd and many others starting in the 1990s. They showed how to take a wide range of realistic quantum systems and simulate them using nothing but qubits. (..) it looks likely that a single device, a quantum computer, would in the future be able to simulate all of quantum chemistry and atomic physics efficiently.\n",
        "\n",
        "* **Standard QCs can simulate Quantum Field Theory efficiently**: Stephen Jordan, Keith Lee, and John Preskill gave the first detailed, efficient simulation of a “realistic” quantum field theory using a standard quantum computer (“adiabatic state preparation”).\n",
        "\n",
        "* **Standard QCs can simulate Quantum Gravity efficiently**: hint that a standard quantum computer could efficiently simulate even quantum-gravitational processes, like the formation and evaporation of black holes. Most notably, the AdS/CFT correspondence (assuming the translation is also computationally efficient, see more below under Black Hole Computing)\n",
        "  * [A simple quantum system that describes a black hole](https://arxiv.org/abs/2303.11534)\n",
        "  * [Quantum computers could simulate a black hole in the next decade](https://www.newscientist.com/article/2370695-quantum-computers-could-simulate-a-black-hole-in-the-next-decade/)\n",
        "\n",
        "**Type 2: Quantum Field Theory Computers**\n",
        "\n",
        "* Includes special relativity (quantum field theory).\n",
        "\n",
        "* Challenge: It’s not clear what we should program our quantum computer to simulate. Also, in most quantum field theories, even a vacuum is a complicated object.\n",
        "\n",
        "* A \"Quantum field theory computer” like from Michael Freedman, Alexei Kitaev, and Zhenghan Wang showed how to simulate a “toy” class of quantum field theories, called **topological quantum field theories** (TQFTs). What kinds of QFT can be simulated on standard QC:\n",
        "\n",
        "  * Simulations of QFT on QC to study chiral symmetry breaking, confinement, and deconfinement phase transition. Bigger QCs: simulate more complex QFTs to understand dark matter and dark energy. Potential to revolutionize our understanding of the fundamental forces of nature, but still in early stage\n",
        "  * **Lattice field theory**: simulate dynamics of field that is discretized onto lattice\n",
        "  * **Schwinger model** (simple QFT to study behavior of electrons in strong electric field, Google used 53-qubit QC in 2022, simulation reproduced known results from analytical calculations and provided new insights into behavior of Schwinger model)\n",
        "  * More QFTs simulatable: **Ising model, XY model, Heisenberg model, U(1) gauge theory, QCD (quantum chromo dynamics)**\n",
        "\n",
        "* But Stephen Jordan, Keith Lee, and John Preskill gave the first detailed, efficient simulation of a “realistic” quantum field theory using a standard quantum computer (“adiabatic state preparation”)\n",
        "\n",
        "**Is Nature actually np-hard? Are there really physical problems we cannot solve on standard QC's efficiently?**\n",
        "  * Penrose: speculated that quantum gravity is literally impossible to simulate using either an ordinary computer or a quantum computer, even with unlimited time and memory at your disposal. Penrose: is the brain a quantum gravitational computer? He wants the brain to be exploiting as yet unknown laws of quantum gravity. Which would be uncomputable.\n",
        "  * No, nature is not np-hard, makes mistakes also in protein folding: Nature can <u>not</u> solve all np problems (like soap bubbles is a myth). Scott aaronson: doing the soap experiment: you need to repeat the trial several times, it does not always find the best solution. it seems to find a local optimum mostly. Prions in protein: local optima! Scott Aaronson: [Black Holes, Firewalls, and the Limits of Quantum Computers](https://www.youtube.com/watch?v=cstKRACrMQY&t=2446). And it cannot scale to large number of nails. **In the case of soap bubbles, nature just seems to apply a really fast approximation which is accurate for small cases but breaks down at larger instances** (due to actual physical properties... i.e. it is physically impossible to build arbitrarily thin rods to dip into soapy water.) Many other NP-problems can be modeled as physical systems in which a lowest-energy-state would correspond to a solution to the combinatorial problem. You can find that \"DNA computing\" solves the clique problem, for instance. [Source](https://groups.google.com/g/comp.theory/c/11lY926-P7M?pli=1)\n",
        "\n"
      ],
      "metadata": {
        "id": "KI9Gpnnj20st"
      }
    },
    {
      "cell_type": "markdown",
      "source": [
        "**Computational Complexity and Consciousness**\n",
        "\n",
        "* Penrose further speculates that human brain is sensitive to quantum gravity effects, and that this gives humans ability to solve problems that are fundamentally unsolvable by computers. However, no other expert in relevant fields agrees with arguments that lead Penrose to this provocative position. [Source from Aaronson](https://www.pbs.org/wgbh/nova/article/is-there-anything-beyond-quantum-computing/)\n",
        "* [Hard problem of consciousness](https://en.m.wikipedia.org/wiki/Hard_problem_of_consciousness) and [Pretty hard problem](https://forum.effectivealtruism.org/posts/Qiiiv9uJWLDptH2w6/the-pretty-hard-problem-of-consciousness)\n",
        "* [p Zombie (Stanford)](https://plato.stanford.edu/entries/zombies/) and [Philosophical_zombie](https://en.m.wikipedia.org/wiki/Philosophical_zombie)\n",
        "* [Integrated information theory](https://en.m.wikipedia.org/wiki/Integrated_information_theory) - Is consciousness reducable to computation?\n",
        "  * Aaaronson: [Why I Am Not An Integrated Information Theorist (or, The Unconscious Expander)](https://scottaaronson.blog/?p=1799)\n",
        "  * Tegmark has also tried to address the problem of the computational complexity behind the calculations. According to Max Tegmark “the integration measure proposed by IIT is computationally infeasible to evaluate for large systems, growing super-exponentially with the system’s information content.”\n",
        "  * As a result, Φ can only be approximated in general. However, different ways of approximating Φ provide radically different results.\n",
        "  * “Which physical states are associated with consciousness, and which are not?” This question is what Scott Aaronson (2014) has dubbed the term “Pretty Hard Problem” [Source](https://forum.effectivealtruism.org/posts/Qiiiv9uJWLDptH2w6/the-pretty-hard-problem-of-consciousness)\n",
        "  * thought experiments such as Mary the super-scientist, color spectrum inversion, or p-zombies, which are meant to draw our attention to the alleged gap between physical explanations and consciousness.\n",
        "  * Source: [Neuroscience Readies for a Showdown Over Consciousness Ideas](https://www.quantamagazine.org/neuroscience-readies-for-a-showdown-over-consciousness-ideas-20190306/)\n",
        "* Consciousness is compression: [Will GPT-5 achieve consciousness? | Joscha Bach and Lex Fridman](https://www.youtube.com/watch?v=YDkvE9cW8rw&t=139s)\n",
        "\n",
        "https://www.heise.de/hintergrund/Anzeichen-von-Bewusstsein-bei-ChatGPT-und-Co-9295425.html\n",
        "\n",
        "https://www.spektrum.de/news/hat-kuenstliche-intelligenz-wie-chatgpt-ein-bewusstsein/2193018\n",
        "\n",
        "Was Bewusstseinstheorien zu künstlicher Intelligenz sagen\n",
        "Das wurde in einer noch nicht begutachteten Arbeit, die Ende August 2023 erschienen ist, getan. 19 führende KI-Forscher und Forscherinnen haben darin anhand von fünf bekannten Bewusstseinstheorien geprüft, ob heutige KI-Systeme (oder Systeme, die man in naher Zukunft herstellen könnte) demnach ein Bewusstsein haben. Dazu haben die Fachleute jeweils »notwendige Bedingungen« aus den Theorien extrahiert, die ein System besitzen müsste, um ein Bewusstsein zu besitzen. Je mehr dieser notwendigen Anforderungen ein System erfülle, so die Argumentation, desto wahrscheinlicher sei es bewusst.\n",
        "\n",
        "* arxiv: [Consciousness in Artificial Intelligence: Insights from the Science of Consciousness](https://arxiv.org/abs/2308.08708)\n",
        "\n",
        "| Theorie des <br> Bewusstseins | Künstliches Bewusstsein, falls: |\n",
        "| :---: | :---: |\n",
        "| Recurrent <br> Processing <br> Theory | Eingabemodule besitzen elnen Rekursionsalgorithmus, der <br> es ermöglicht, strukturierte und integrierte Repräsentationen <br> von sensorischen Signalen erzeugen. |\n",
        "| Global <br> Workspace <br> Theory. | Spezialisierte Module Können parallel arbeiten, und ein <br> globaler Arbeitsraum repräsentiert nur den Input eines der <br> Module, wobei die Informationen im Workspace fưr alle <br> Module verfügbar sind. |\n",
        "| (Computational) <br> Higher Order <br> Theory | Top-down-Module überwachen und unterscheiden <br> zuverlässige Repräsentationen von sensorischen Signalen. |\n",
        "| Attention <br> Schema Theory | enthält ein prädiktives Modell, das die Kontrolle über den <br> aktuellen Zustand der Aufmerksamkeit ermöglicht und <br> diesen repräsentiert |\n",
        "| Predictive <br> Processing <br> Theory | Bewusste Rechenvorgänge tragen zur Sicherung der <br> fortwährenden Existenz des Systems bei. Der kausale Fluss <br> der bewussten Berechnungen entspricht dem kausalen <br> Fluss der physischen Dynamik des Systems. |\n",
        "| Integrated <br> Information <br> Theory | Das System integriert mehr Information als seine <br> Teilsysteme. |\n",
        "\n",
        "*Hyperdimensional computing*\n",
        "\n",
        "https://www.quantamagazine.org/a-new-approach-to-computation-reimagines-artificial-intelligence-20230413/?mc_cid=ad9a93c472&mc_eid=506130a407\n",
        "\n",
        "* Instead, Olshausen and others argue that information in the brain is represented by the activity of numerous neurons. So the perception of a purple Volkswagen is not encoded as a single neuron’s actions, but as those of thousands of neurons. The same set of neurons, firing differently, could represent an entirely different concept (a pink Cadillac, perhaps).\n",
        "\n",
        "* This is the starting point for a radically different approach to computation known as hyperdimensional computing. The key is that each piece of information, such as the notion of a car, or its make, model or color, or all of it together, is represented as a single entity: a hyperdimensional vector.\n",
        "\n",
        "https://en.m.wikipedia.org/wiki/Hyperdimensional_computing\n",
        "\n"
      ],
      "metadata": {
        "id": "NQjv96Zo5uag"
      }
    },
    {
      "cell_type": "markdown",
      "source": [
        "#### <font color=\"Blue\">**Black Hole Information**"
      ],
      "metadata": {
        "id": "2Xmk4oUjXRHh"
      }
    },
    {
      "cell_type": "markdown",
      "source": [
        "quantum chaos"
      ],
      "metadata": {
        "id": "1MOoIWpurMu4"
      }
    },
    {
      "cell_type": "markdown",
      "source": [
        "Does quantum theory imply the entire Universe is preordained?\n",
        "https://www.nature.com/articles/d41586-023-04024-z"
      ],
      "metadata": {
        "id": "sV0gYoKcCQKP"
      }
    },
    {
      "cell_type": "markdown",
      "source": [
        "###### *Complexity of Black Holes*"
      ],
      "metadata": {
        "id": "ql8hl9HHzAOe"
      }
    },
    {
      "cell_type": "markdown",
      "source": [
        "Video: [Peter Shor - Scrambling Time and black holes - Green Family Lecture at IPAM at UCLA](https://www.youtube.com/watch?v=GPz8iCzlMTY)\n",
        "\n",
        "Video: [Virtual Seminar: Shira Chapman \"On the Complexity of Black Holes\"](https://www.youtube.com/watch?v=G_YdsmH6SBE)\n",
        "\n",
        "Video: [Causality and closed time like curves - 1](https://www.youtube.com/watch?v=MzAvr8Zau8Q)\n",
        "\n",
        "Video: [Erik Verlinde \"Emergence of Gravity from Quantum Information: a Progress Report\"](https://youtu.be/rj6-bq55ccQ?si=6BYQNujmWt4nCe9V)"
      ],
      "metadata": {
        "id": "aY1n53q90eXU"
      }
    },
    {
      "cell_type": "markdown",
      "source": [
        "**Quantum Circuit Complexity of Black Holes**\n",
        "\n",
        "* **Why is that interesting?**\n",
        "  * By understanding the quantum circuit complexity of black holes, we can gain insights into the physics of black holes and the nature of quantum gravity.\n",
        "  * Machine learning of circuits: is the ultimate physical limit of computation and data science, and we want to know how far you can push that (good framework of gravitational computer error-correction)\n",
        "  * But: What is the circuit complexity of a black hole? And  What is the computational capacity (complexity) of a black hole?\n",
        "  * Can you solve (quantum or classical) exponential or even undecidable problems in a black hole (efficiently)? Is the black hole a more powerful computer than a quantum computer or not?\n",
        "\n",
        "* Approaches: **One way**: holographic principle. Information in spacetime volume is encoded on boundary -> quantum circuit complexity of black hole can be studied by studying quantum circuit complexity of its boundary. **Another way**: AdS/CFT correspondence -> quantum circuit complexity of black hole in AdS spacetime can be studied by studying the quantum circuit complexity of CFT on boundary of AdS spacetime. **Another way**: Kerr/CFT.\n",
        "\n",
        "* **Background**: Connection between Quantum information and quantum gravity: Hawking 1970s: What happens to quantum information dropped into a black hole? Black holes radiate, photons slowly come out (takes long 10^76 years for black holes of size of the sun, but does it), output is thermal / uncorrelated what came in, so information is gone. That contradicts quantum mechanics.\n",
        "  * **Dilemma:** Stays in black hole forever =› Violates quantum mechanics. Comes out in Hawking radiation =› if there's also a copy inside the black hole, seems to violate the \"No-Cloning Theorem\".\n",
        "  * **Black Hole Complementarity (modern view):** Inside is not a different state than outside, inside is just a \"re-encoding\" of exterior, so no cloning is needed to have (y) in both places. - Jumping into a black hole is just a weird way of measuring the same quantum information that you could have measured if you had stayed outside the black hole.\n",
        "  * **2012: firewall paradox**. (Almheiri et al. 2012): Qubit coming out of black hole cannot be entangled with a qubit inside the blackhole. But Hawking said if you want to see a smooth geometry of spacetime at the event horizon, the qubits need to be entangled. (In QFT spacetime is built up of a huge amount of local entanglement. No entanglement = no smooth spacetime, which means space and time end at the event horizon = the firewall). But this end of spacetime is at the singularity, not at the event horizon already).\n",
        "\n",
        "  * You can simulate gravity possibly on a standard QCs: “Even if a quantum gravity theory seems ‘wild’—even if it involves nonlocality, wormholes, and other exotica—there might be a dual description of the theory that’s more ‘tame,’ and that’s more amenable to simulation by a quantum computer.” If we wanted to simulate quantum gravity phenomena in AdS space, we might be able to do so by first translating to the CFT side, then simulating the CFT on our quantum computer, and finally translating the results back to AdS. The key point here is that, since the CFT doesn’t involve gravity, the difficulties of simulating it on a quantum computer are “merely” the relatively prosaic difficulties of simulating quantum field theory on a quantum computer. - For this to work, **the translation between the AdS and CFT descriptions also needs to be computationally efficient**—and it’s possible that there are situations where it isn’t.\n",
        "  * This means: **nature seems computable** (Penrose disagrees seems): you can build the universe out of NAND gates, see 1:00:00 [Video](https://www.youtube.com/watch?v=nAMjv0NAESM&t=2240s) and **Black holes seems describable** - <font color=\"red\">but to answer the final answer - if universe and black holes describable and computable - we need a theory of quantum gravity, what we don't have!</font>\n",
        "\n",
        "* Paper 1: [Computational Complexity and Black Hole Horizons](https://arxiv.org/abs/1402.5674) and [The Second Law of Quantum Complexity](https://arxiv.org/abs/1701.01107) (Susskind)\n",
        "  * Quantamagazine article: [In New Paradox, Black Holes Appear to Evade Heat Death](https://www.quantamagazine.org/in-new-paradox-black-holes-appear-to-evade-heat-death-20230606) with Video: [Can a New Law of Physics Explain a Black Hole Paradox?](https://www.youtube.com/watch?v=yLOHdW7dLug&list=PLBn8lN0DcvpkjulnKfyCmgO5SWzRxrRFq&index=14)\n",
        "  * Video: [Black Holes and the Quantum-Extended Church-Turing Thesis | Quantum Colloquium (Leonard Susskind)](https://www.youtube.com/live/1CpzigpEJnU?si=C5mB8zppTHXU8XO7)\n",
        "  * Susskind proposed that holographic principle can be used to relate black hole entropy to quantum circuit complexity. Holographic principle states that information contained in volume of spacetime can be encoded on lower-dimensional boundary of that volume. Susskind and his colleagues propose that the black hole entropy is proportional to the quantum circuit complexity of the state that is encoded on the black hole's event horizon.\n",
        "  * Proposal has led to a number of interesting insights into the relationship between black holes and quantum circuit complexity: growth of black hole entropy is consistent with  growth of quantum circuit complexity over time. And relationship between black hole entropy and quantum circuit complexity can be used to derive the laws of thermodynamics for black holes.\n",
        "  * One of the most important aspects of black holes is their entropy. Black hole entropy is a measure of the number of possible microstates that a black hole can be in. Susskind. proposed that black hole entropy is related to complexity of information that is encoded on the black hole's event horizon:\n",
        "    * Black hole entropy is proportional to the area of the black hole's event horizon.\n",
        "    * The area of the black hole's event horizon is proportional to the number of bits of information that can be encoded on the event horizon.\n",
        "    * Therefore, black hole entropy is proportional to the complexity of the information that is encoded on the black hole's event horizon.\n",
        "  * **Susskind's argument suggests that black holes may be able to store and process information in a very efficient way. This could lead to new insights into the nature of information and the laws of physics.**\n",
        "  * **Complexity grows linearly and then stops growing**\n",
        "  - Black hole: from outside in thermal equilibrium, but inside it still grows linearly with time towards the singularity (see penrose diagram) - quantum (circuit) complexity growing? - number of gates, grows until it‘s constant.\n",
        "  - Computational complexity of black holes?\n",
        "  - Two quantum states: how complex to distinguish them? (Metacomplexity / complexiy of complexity)\n",
        "  - Quantum extended chruch turing thesis\n",
        "  - Quantum gravity extneded church turing thesis QGECTT applies to observers outside the black hole. Information inside black hole can be read for someone inside, but cannot be sent outside, which protects the QGECTT (reading from outside would / gaining information which would violate thesis)\n",
        "  - New complexity class: JI/poly (jumping in)\n",
        "  * Different versions of Circuit complexity: with and without ancilla qubits\n",
        "  * Geofffrey Penington: 3SAT solvable by jumping in a black hole?\n",
        "  * Edward Witten: Gravity doesn‘t let us do something, that we can‘t do without gravity.\n",
        "  * Scott Aaronson: Is there some analog for fault tolerance for gravitational or black hole computing?\n",
        "  * **It shouldn‘ let us answer any classical decision problems more efficiently, because:**\n",
        "    * Assuming we can do these things no errors,\n",
        "    * So we make an obviscated circuit that is exponentially long to prepraring some state that has some simply observable thing, but you cannot tell because it ios obviscated\n",
        "    * Then from lenny‘ point of view we ignore the cost of carrying out the instructions of doing that circuit (would take us an exponentially long time, but we assume we get that for free)\n",
        "    * Then we ask how much time does it take us to figure out the problem? by jumping into the black hole we can find the answer immediately. If we are not allowed to jump in, we are still sort of at sqaure one, or it will still take us a long time to do from the outside.\n",
        "    * That is a very different problem from if you could have some efficient obviscated circuit, something that could efficiently be done by jumping in. A classical problem, phrased in classical terms and has an answer in classical terms, a classical decision problem you could solve by jumping in.\n",
        "    * Is that not about asking aboiut the boundaries of this complexity class? Asking whether it actually includes any interesting computations that actually can be done inside the black hole. But we don‘t know.\n",
        "    * Vazirani: Creating this obviscated circuit for this state, and then create it homomorphically so the state can be acted on homorphically by the shockwaves that are coming in. You fall in with this classicla description and then you act on this hidden quantum state and you eventuelly end up answering this question.\n",
        "    * Penington‘s objection: in QFT they think the quantum extended church turing thesis is true (lenny made possible conditions for it). Assuming everything we do in the quantum gravity theory is well described by quantum field theory in a semi-classical background, then it also shouldn‘t be able to break the quantum church turing thesis.\n",
        "    * So we either need to be given as part of the problem - a quantum state that has a non-trivial holographic dual geometry that didn‘t make from scratch (that‘s the case in lenny‘s setup). Or we need to somehow make that semi-classical evolution break down.\n",
        "    * I would say from what we know about quantum gravity to make the latter happen, we either need planck-length curvature or we need exponential complexity (time or number of things involved). It would be very problematic for semi-classical spacetime if we could make it breakdown without either of these conditions being true.\n",
        "    * That‘s why I‘m inclided to say: It shouldn‘ let us answer any classical decision problems more efficiently.\n",
        "    * …\n",
        "    * Sciott: You need some actual phyiscal resource to resolve some porblme beyond what a quantum computer can solve. And the question is simpky: are black holes such a resource ot not?\n",
        "    * Peningoit: my claim (without evidence) is i don’t think that you can make semi-classical gravity break down  without either by planck-lenght curvature oir by exponential times. There shoulndt be anything you do\n",
        "  * **Established: circuit complexity and physics**\n",
        "    * How do you decode information from hawikin radiation about infalling matter\n",
        "    * how does ads/cft dictionary work? (Circuit complexity is the fundamental quantity)\n",
        "    * But depends on input: is iot maximally random (exponential time to solve), or only pseudorandom (solvable in ploynomal time\n",
        "    * Geoffrey Penington: Black hole information: [YouTube · Galileo Galilei Institute (GGI)620+ Aufrufe  ·  vor 1 JahrGeoff Penington: \"Black holes and holographic entanglement entropy - II\" - YouTube](https://m.youtube.com/watch?v=kl6GE10jD9s)\n",
        "  * Computation = spacetime volume, when following Susskind‘s logic as he sees the space to the singularity growing in penrose‘s diagram. But volume cannot be measured, that‘s why he didn‘t use it\n",
        "  * Seth Lloyd: Black Hole Quantum computer (2004): howe many operations can you perform with stuff falling into the black hole?\n",
        "  * Black holes are not different to ordinary rindler space\n",
        "\n",
        "* Paper 2: [Computational pseudorandomness, the wormhole growth paradox, and constraints on the AdS/CFT duality](https://arxiv.org/abs/1910.14646) (Adam Bouland, Bill Fefferman, Umesh Vazirani)\n",
        "  * A fundamental issue in the AdS/CFT correspondence is the wormhole growth paradox. Susskind's conjectured resolution of the paradox was to equate the volume of the wormhole with the circuit complexity of its dual quantum state in the CFT. We study the ramifications of this conjecture from a complexity-theoretic perspective.\n",
        "  \n",
        "* Paper 3: [The Complexity of Quantum States and Transformations: From Quantum Money to Black Holes](https://arxiv.org/abs/1607.05256) (Scott Aaronson)\n",
        "  * [The event horizon’s involved, but the singularity is committed](https://scottaaronson.blog/?p=213) Aaronson on Lenny Susskind's “Black Holes and Holography.”\n",
        "  * **'The favorite measure, at the moment, is known as circuit complexity'** - role of complexity in the black-hole information paradox and the AdS/CFT correspondence (through connections made by Harlow-Hayden, Susskind, and others).\n",
        "\n",
        "* Paper 4: [Black Holes Produce Complexity Fastest](https://physics.aps.org/articles/v9/49)\n",
        "\n",
        "* Paper 5: [Quantum Computational Complexity -- From Quantum Information to Black Holes and Back](https://arxiv.org/abs/2110.14672)\n",
        "  * Quantum computational complexity estimates the difficulty of constructing quantum states from elementary operations, a problem of prime importance for quantum computation.\n",
        "  * Surprisingly, this quantity can also serve to study a completely different physical problem - that of information processing inside black holes.\n",
        "\n",
        "* Paper 6: [Quantum Computation as Gravity](https://arxiv.org/abs/1807.04422) - Optimal quantum computation linked from Gravity.\n",
        "    * Over the years, using holography and Anti-de Sitter/conformal field theories, we have been learning that gravity is intimately related to quantum information.\n",
        "    * The lesson from our findings is that gravity may also teach us how to perform quantum computation in physical systems in the most efficient way.\" [Article](https://phys.org/news/2019-06-optimal-quantum-linked-gravity.html)\n",
        "\n",
        "* Articles:\n",
        "  * [What is complexity in particle physics?](https://www.aei.mpg.de/120719/what-is-complexity-in-particle-physics)\n",
        "  * [nlab: computational complexity and physics](https://ncatlab.org/nlab/show/computational+complexity+and+physics)\n",
        "\n",
        "* Videos:\n",
        "  * [Black Holes and the Quantum-Extended Church-Turing Thesis](https://www.youtube.com/watch?v=1CpzigpEJnU&list=WL&index=4&t=2205s)\n",
        "  * [Black holes and computational complexity](https://www.youtube.com/live/1CpzigpEJnU)\n",
        "  * [Quantum information tools between quantum theory and gravity - Lecture 1 | Flaminia Giacomini](https://www.youtube.com/watch?v=KP09NR3qP8g&list=WL&index=6&t=653s)\n",
        "  * [Quantum Tasks in Holography - Alex May](https://www.youtube.com/watch?v=twa08og43DI)\n",
        "  * [Quantum Black Holes: a Status Report | Steve Giddings](https://www.youtube.com/watch?v=eVjbL1wOMOU)\n",
        "  * [The AdS/CFT Correspondence: a Status Report | Rajesh Gopakumar](https://www.youtube.com/watch?v=UVVfpNR8ISg)\n",
        "  * [Pseudorandomness and the AdS/CFT Correspondence - Adam Bouland](https://www.youtube.com/watch?v=WQ25Srp1zJI)\n",
        "  * [An Introduction to Celestial Holography and the flat space limit of AdS/CFT](https://youtu.be/Wbkj_2KqMoQ)\n"
      ],
      "metadata": {
        "id": "WpyK1qGu3A_6"
      }
    },
    {
      "cell_type": "markdown",
      "source": [
        "Computational Complexity and High Energy Physics\n",
        "* Complexity of AdS,CTF, Firewalls and CTCs\n",
        "* Suppose CTCs exist, how would they change the theory of computation? - Problem: where is the fix point?\n",
        "\n",
        "Video: [Chaos, Black Holes, and Quantum Mechanics - Stephen Shenker, Stanford University](https://www.youtube.com/watch?v=vC0x-QXM8Qg&list=WL&index=5&t=1333s)\n",
        "\n",
        "Video: [Scott Aaronson: Computability Theory of Closed Timelike Curves](https://www.youtube.com/watch?v=fUGjv44_X4Q&list=PLUz_4vZOI0H1XnMEj9uk4Ezp9AUJBVAPE&index=4)\n",
        "\n",
        "Kurt Gödel ist bekannt für seinen bedeutenden Beitrag zur theoretischen Physik in Form der sogenannten „Gödel-Metrik“, welche die Möglichkeit von geschlossenen zeitartigen Kurven (englisch: Closed Timelike Curves, CTCs) in der Allgemeinen Relativitätstheorie aufzeigt. Diese Arbeit leistete er im Rahmen der Feierlichkeiten zu Einsteins 70. Geburtstag im Jahr 1949.\n",
        "\n",
        "Die Gödel-Metrik beschreibt eine Lösung der Feldgleichungen der Allgemeinen Relativitätstheorie, die ein rotierendes Universum darstellt. In einem solchen Universum können geschlossene zeitartige Kurven existieren, was bedeutet, dass ein Pfad durch die Raumzeit theoretisch in seine eigene Vergangenheit zurückkehren könnte. Dies impliziert die Möglichkeit von Zeitreisen innerhalb des theoretischen Rahmens der Allgemeinen Relativitätstheorie.\n",
        "\n",
        "Abstract: In a seminal 1991 paper, David Deutsch proposed a formal model of closed timelike curves (CTCs), or time travel into the past, which used linear algebra to \"resolve the grandfather paradox.\"  In 2008, John Watrous and I showed that, under Deutsch's model, both a classical computer and a quantum computer with access to a polynomial-size CTC could solve exactly the problems in PSPACE.  In this talk, I'll review this result and then give a new extension to the setting of computability theory.  Namely, I'll show that a classical or quantum computer with access to a Deutschian CTC (with no bound on its size) could solve exactly the problems that are Turing-reducible to the halting problem.  Just like in the complexity setting, the most technically interesting part is the upper bound on the power of quantum computers with access to a Deutschian CTC.\n"
      ],
      "metadata": {
        "id": "ZbLeuiw4zEp-"
      }
    },
    {
      "cell_type": "markdown",
      "source": [
        "*Black Holes Surface and Quantum Error Correction: AdS/CFT*\n",
        "\n",
        "* \"Black holes surface behaving like a quantum computer\"\n",
        "* [From black holes to quantum computing - with Marika Taylor](https://www.youtube.com/watch?v=861coSFLOvk&t=193)\n",
        "* [Black Holes and Quantum Error Correction - part 1](https://www.youtube.com/watch?v=uNYVQo9RH4Q)\n",
        "\n",
        "\n",
        "**Emergent Space-Time and Quantum Error Correction**: Recent theoretical work suggests that the space-time geometry itself, especially in the context of black holes, might emerge from a kind of quantum error-correcting code. The idea is that the way information is encoded on a black hole's surface (its event horizon) might be analogous to how information is protected in a quantum error-correcting code. This means that the fabric of space-time itself could be understood as a quantum error-correcting code, which is a radical and exciting concept blending quantum mechanics, general relativity, and quantum computing."
      ],
      "metadata": {
        "id": "VeuipFGXvjfN"
      }
    },
    {
      "cell_type": "markdown",
      "source": [
        "**what is meant by \"Black holes are the fastest scramblers in Nature\"?**\n",
        "\n",
        "The phrase \"Black holes are the fastest scramblers in Nature\" refers to a concept in theoretical physics that describes how black holes process information. In this context, \"scrambling\" refers to the way in which information that enters a black hole gets mixed up or dispersed throughout the black hole's horizon.\n",
        "\n",
        "Here are the key points to understand this concept:\n",
        "\n",
        "1. **Information Theory and Black Holes**: In the realm of physics, especially quantum mechanics and general relativity, information is a fundamental concept. It's often considered in terms of quantum information, which deals with the quantum states of particles.\n",
        "\n",
        "2. **Scrambling in Black Holes**: When information falls into a black hole, it doesn't get destroyed (as per the principle of quantum information conservation). Instead, it gets scrambled. This means the information is spread out across the event horizon of the black hole in a highly mixed state. It's like shuffling a deck of cards so thoroughly that the original order is completely lost.\n",
        "\n",
        "3. **Fastest Scramblers**: The assertion that black holes are the fastest scramblers suggests that they are extremely efficient at this process. This idea comes from the holographic principle in string theory, where the time it takes for information to scramble in a black hole is related to its size. The larger the black hole, the faster it scrambles information.\n",
        "\n",
        "4. **Implications for Quantum Physics and Gravity**: This concept is important in the study of quantum gravity and the information paradox. It suggests a deep connection between gravity (black holes) and quantum mechanics (information theory).\n",
        "\n",
        "5. **Chaos Theory and Black Holes**: The scrambling effect is also associated with chaos theory in physics, where small changes in initial conditions can lead to vastly different outcomes. In a black hole, the scrambling of information is an ultimate form of chaotic behavior.\n",
        "\n",
        "This idea is a topic of ongoing research and debate in theoretical physics, particularly in the context of understanding the fundamental nature of black holes, quantum mechanics, and the fabric of spacetime."
      ],
      "metadata": {
        "id": "cuu9KesIzKj_"
      }
    },
    {
      "cell_type": "markdown",
      "source": [
        "**is it possible to recover the information, that is spread out across the event horizon of the black hole in a highly mixed state?**\n",
        "\n",
        "The question of whether information that has been spread out across the event horizon of a black hole can be recovered is a major topic in theoretical physics, particularly in the context of the black hole information paradox. This paradox arises from the clash between quantum mechanics, which says information cannot be destroyed, and general relativity, which suggests that information falling into a black hole is lost forever.\n",
        "\n",
        "Here are some key points in this discussion:\n",
        "\n",
        "1. **Hawking Radiation and Information Loss**: Stephen Hawking initially proposed that black holes emit radiation (now known as Hawking radiation) and can eventually evaporate completely. This led to the paradox: if the black hole disappears, what happens to the information that fell into it? Hawking initially argued that this information is lost forever, which contradicts the principles of quantum mechanics.\n",
        "\n",
        "2. **Information Scrambling vs. Destruction**: While black holes are believed to scramble information almost beyond recognition, scrambling is not the same as destruction. Theoretical work, particularly in the context of the holographic principle and string theory, suggests that while information is highly scrambled, it is not necessarily destroyed.\n",
        "\n",
        "3. **AdS/CFT Correspondence**: A concept from string theory called the Anti-de Sitter/Conformal Field Theory (AdS/CFT) correspondence provides a framework where the physics inside a black hole (including the fate of information) might be understood in terms of a lower-dimensional boundary, like the event horizon. This has led some physicists to propose that information is somehow encoded on the horizon and could, in principle, be recovered.\n",
        "\n",
        "4. **Black Hole Complementarity**: Another proposed solution is the concept of black hole complementarity, which suggests that information is both reflected at the event horizon and passes through, but no observer can confirm both realities simultaneously. This tries to reconcile the information loss with quantum mechanics without requiring information to actually be duplicated.\n",
        "\n",
        "5. **Firewall Hypothesis**: Some researchers have suggested the existence of a \"firewall\" at the event horizon, which would destroy any information. This hypothesis aims to resolve the paradox but is controversial and contradicts the idea that crossing a black hole's event horizon is uneventful (as predicted by general relativity).\n",
        "\n",
        "6. **Recent Developments**: Recent theoretical developments, including the use of quantum error correction in the context of the holographic principle, suggest that information may indeed be recoverable in principle, although the exact mechanism remains unclear.\n",
        "\n",
        "In summary, while it's theoretically possible that information spread out across a black hole's event horizon might be recoverable, this remains a topic of active research and debate in the fields of quantum mechanics, quantum gravity, and cosmology. The true nature of information processing by black holes continues to be one of the most intriguing puzzles in modern theoretical physics."
      ],
      "metadata": {
        "id": "CJ2pyl5mzOXb"
      }
    },
    {
      "cell_type": "markdown",
      "source": [
        "###### *Articles, Papers and Videos*"
      ],
      "metadata": {
        "id": "-OrLJOuEP4GO"
      }
    },
    {
      "cell_type": "markdown",
      "source": [
        "https://twitter.com/Andercot/status/1741837072632332649"
      ],
      "metadata": {
        "id": "kZLYtY05aMJ-"
      }
    },
    {
      "cell_type": "markdown",
      "source": [
        "**Articles**\n",
        "\n",
        "* Causality doesn't exist? https://www.quantamagazine.org/quantum-mischief-rewrites-the-laws-of-cause-and-effect-20210311/\n",
        "\n",
        "* https://news.berkeley.edu/2019/03/06/can-entangled-qubits-be-used-to-probe-black-holes\n",
        "\n",
        "  * recovering quantum information falling into a black hole is possible if the information is scrambled rapidly inside the black hole.\n",
        "  * The more thoroughly it is mixed throughout the black hole, the more reliably the information can be retrieved via teleportation.\n",
        "  * His group implemented the protocol proposed by Yoshida and Yao and effectively measured an out-of-time-ordered correlation function. Called OTOCs, these peculiar correlation functions are created by comparing two quantum states that differ in the timing of when certain kicks or perturbations are applied.\n",
        "  * can be used in quantum computers to detect more complicated noise. “One possible application for our protocol is related to the benchmarking of quantum computers, where one might be able to use this technique to diagnose more complicated forms of noise and decoherence in quantum processors,” Yao said. “The ability to diagnose how noise affects quantum simulations is key to building better fault-tolerant algorithms and getting accurate answers from current noisy quantum computers.”\n",
        "  * **the fact that we can relate it to cosmology is because we believe the dynamics of quantum information is the same - nderstanding the dynamics of quantum information connects many areas of research within this initiative: quantum circuits and computing, high energy physics, black hole dynamics, condensed matter physics and atomic, molecular and optical physics. The language of quantum information has become pervasive for our understanding of all these different systems.**\n",
        "  * but: OTOCs do not generally discriminate between quantum scrambling and ordinary decoherence. https://www.nature.com/articles/s41586-019-0952-6\n",
        "\n",
        "* https://www.wired.com/story/black-holes-will-destroy-all-quantum-states/\n",
        "\n",
        "* https://www.quantamagazine.org/new-calculations-show-how-to-escape-hawkings-black-hole-paradox-20230802/\n",
        "\n",
        "* https://www.quantamagazine.org/the-most-famous-paradox-in-physics-nears-its-end-20201029/\n",
        "\n",
        "* https://www.quantamagazine.org/black-holes-ring-of-light-could-encrypt-its-inner-secrets-20220908/\n",
        "\n",
        "* https://www.quantamagazine.org/mathematicians-find-an-infinity-of-possible-black-hole-shapes-20230124/\n",
        "\n",
        "* https://www.quantamagazine.org/how-space-and-time-could-be-a-quantum-error-correcting-code-20190103/\n",
        "\n",
        "* https://www.quantamagazine.org/new-codes-could-make-quantum-computing-10-times-more-efficient-20230825/\n",
        "\n",
        "* https://www.quantamagazine.org/a-century-later-new-math-smooths-out-general-relativity-20231130/\n",
        "\n",
        "* https://phys-org.cdn.ampproject.org/c/s/phys.org/news/2023-12-theory-einstein-gravity-quantum-mechanics.amp\n",
        "\n",
        "* https://www.quantamagazine.org/alan-turing-and-the-power-of-negative-thinking-20230905/\n",
        "\n",
        "* https://t3n.de/news/radikale-neue-theorie-quanentmechanik-schwerkraft-1594368/\n",
        "\n",
        "* https://www.quantamagazine.org/mathematicians-prove-symmetry-of-phase-transitions-20210708/\n",
        "\n",
        "* https://www.quantamagazine.org/computer-scientists-inch-closer-to-major-algorithmic-goal-20230623/\n",
        "\n",
        "* https://scottaaronson.blog/?p=7651\n",
        "\n",
        "* https://www.quantamagazine.org/the-quest-to-quantify-quantumness-20231019/\n",
        "\n",
        "* https://www.quantamagazine.org/quantum-computers-struggle-against-classical-algorithms-20180201/\n",
        "\n",
        "* https://www.quantamagazine.org/a-new-map-of-the-universe-painted-with-cosmic-neutrinos-20230629/\n",
        "\n",
        "* https://www.derstandard.de/story/3000000198164/astronom-falcke-schwarze-loecher-sind-wie-ein-wundersamer-raum-voller-suessigkeiten\n"
      ],
      "metadata": {
        "id": "s72DQTORSAEy"
      }
    },
    {
      "cell_type": "markdown",
      "source": [
        "**Youtube Videos**\n",
        "\n",
        "[Geoffrey Penington (UC Berkeley): Black Holes and Quantum Computers](https://www.youtube.com/watch?v=FtpWt4MexMU&list=WL&index=4&t=1560s)\n",
        "\n",
        "[Virtual Seminar: Shira Chapman \"On the Complexity of Black Holes\"](https://www.youtube.com/watch?v=G_YdsmH6SBE&t=1329s)\n",
        "\n",
        "[Peter Shor - Scrambling Time and black holes - Green Family Lecture at IPAM at UCLA](https://www.youtube.com/watch?v=GPz8iCzlMTY&t=5s)\n",
        "\n",
        "[Quantum Complexity Inside Black Holes | Leonard Susskind](https://www.youtube.com/watch?v=FpSriHE1r4E&list=WL&index=6)\n",
        "\n",
        "[The Physics of Black Holes - with Chris Impey](https://www.youtube.com/watch?v=roM1QPr8lNo&list=WL&index=1&t=1542s)\n",
        "\n",
        "[Information scrambling: a path-integral perspective](https://www.youtube.com/watch?v=oA9fMN8aWBQ&list=WL&index=2&t=415s)\n",
        "\n",
        "[Chaos, Black Holes, and Quantum Mechanics - Stephen Shenker, Stanford University](https://www.youtube.com/watch?v=vC0x-QXM8Qg&list=WL&index=3&t=3162s)\n",
        "\n",
        "[Quantum learning for quantum chaos](https://www.youtube.com/watch?v=d1iZ-ov5QOI&list=WL&index=5)\n",
        "\n",
        "[Entanglement and Complexity: Gravity and Quantum Mechanics](https://www.youtube.com/watch?v=9crggox5rbc&list=WL&index=8&t=3073s)\n",
        "\n",
        "[Conservation and scrambling of quantum information](https://www.youtube.com/watch?v=BJ1Teu-ZK8M&list=WL&index=10)\n",
        "\n"
      ],
      "metadata": {
        "id": "5HgnJHpsWbAK"
      }
    },
    {
      "cell_type": "markdown",
      "source": [
        "###### *Research with QML and QKD for Black Holes*"
      ],
      "metadata": {
        "id": "qOXTdQWbu6wm"
      }
    },
    {
      "cell_type": "markdown",
      "source": [
        "**Quantum Key Distribution + Quantum Machine Learning + Black Holes**\n",
        "\n",
        "1. **Simulate dynamics of black holes**\n",
        "  \n",
        "  * **Hawking radiation**: Use QML to develop better simulations of black hole evaporation (Hawking radiation)\n",
        "\n",
        "  * **Black hole states**: Use QML to develop new representations and evolution of black hole states, typically done using a quantum circuit, that are more efficient to simulate than traditional representations (the entanglement of the Hawking radiation particles is thought to be encoded in the complexity of the black hole state. This means that the quantum circuit that represents a black hole state would need to be very complex in order to capture the information that is encoded in the Hawking radiation)\n",
        "\n",
        "2. **Extract information from black holes**\n",
        "\n",
        "  * **Scan Hawking radiation (black hole evaporation)**\n",
        "  \n",
        "    * Use QML to develop new methods for detecting quantum correlations in Hawking radiation (that may contain information about objects that have fallen into)\n",
        "\n",
        "    * Use QML to develop new algorithms for learning symmetries and dynamics of black holes (better understand known ones, and learn new ones) to reduce complexity (Black holes are believed to have many symmetries, but these symmetries are not fully understood).\n",
        "    \n",
        "      * Study the entanglement structure of black hole states: Hawking radiation or electromagnetic radiation\n",
        "      \n",
        "      * Study the dynamics of black holes: gravitational waves or neutrinos\n",
        "\n",
        "  * **Send messages across black hole event horizons (black hole complementarity)**: Develop new methods (protocols) to extract information from entangled states in Hawking radiation that are more robust to interferences with QKD signals (QKD could be used to create and distribute entangled states. Interferences come from high energy particles or gravitational effects on polarization states of entangled photons)\n",
        "\n",
        "> <font color=\"blue\">**Use QML to develop new algorithms for learning symmetries and dynamics of black holes with more robust QKD protocols**\n",
        "\n",
        "Use QML to develop automatic symmetry-learning techniques (find best methods to learn symmetries) that assist in designing more robust QKD protocols against various noise and attack scenarios\n"
      ],
      "metadata": {
        "id": "6pfK42egHjTN"
      }
    },
    {
      "cell_type": "markdown",
      "source": [
        "**Use QML to unscramble information from Black Holes which are quantum encryption devices**\n",
        "\n",
        "https://www.quantamagazine.org/new-calculations-show-how-to-escape-hawkings-black-hole-paradox-20230802/\n",
        "\n",
        "**They treated the black hole as a quantum encryption device — something that takes in legible information (normal matter) and spits out what appears to be scrambled information (the radiation).** In this context, one could imagine carrying out the AMPS experiment by using a **machine to unscramble the information — a machine like a quantum computer**. And with a key result from Aaronson’s doctoral thesis on the limits of quantum computation, they discovered something curious.\n",
        "\n",
        "A black hole pulverizes infalling matter so thoroughly that if an astronaut actually tasked a quantum computer with unscrambling the radiation, the task would take eons. It would take so long that the black hole would be long gone before the progress bar reached even a fraction of 1%. And by then, the astronaut wouldn’t be able to jump in to catch outside information moonlighting on the inside, because the inside wouldn’t exist.\n",
        "\n",
        "\n",
        "\n"
      ],
      "metadata": {
        "id": "QD3z_denetrV"
      }
    },
    {
      "cell_type": "markdown",
      "source": [
        "**Symmetries in Black Holes**\n",
        "\n",
        "*Symmetries can also be used to relate the complexity of black hole states to other quantities of interest, such as the entropy or the information content of the black hole*.\n",
        "\n",
        "* For example, it has been shown that the complexity of a black hole state is equal to the entropy of the black hole up to a logarithmic correction. This suggests that complexity may be a more fundamental measure of a black hole's information content than entropy.\n",
        "\n",
        "* **Conformal symmetry:** By using conformal transformations of the coordinates, it is possible to map a black hole to a state with a simpler circuit description. This can be used to simplify the complexity calculations. This symmetry arises from the fact that black holes are solutions to the Einstein equation, which is conformally invariant. Conformal symmetry implies that the complexity of black hole states should be independent of certain transformations of the coordinates. This can be used to simplify the complexity calculations by fixing the coordinates in a particular way.\n",
        "\n",
        "* **Entanglement structure:** By understanding the entanglement structure of black hole states, it is possible to identify certain operations that can be performed efficiently. This can be used to reduce the computational complexity of certain tasks. Black hole states are highly entangled, and this **entanglement can be exploited to reduce the computational complexity of certain tasks**. For example, it has been shown that the complexity of the state of a black hole that is created by collapsing a massive particle is proportional to the entanglement entropy of the particle.\n",
        "\n",
        "* **Symmetry between black hole formation and evaporation:** There is a symmetry between the complexity of a black hole state that is created by collapsing a massive particle and the complexity of the state that is emitted from the black hole's horizon. This symmetry can be used to relate the complexity of black holes to their entropy and information content."
      ],
      "metadata": {
        "id": "5p98JYDcRzpa"
      }
    },
    {
      "cell_type": "markdown",
      "source": [
        "**Can quantum machine learning be used to quantum computational complexity of black holes?**\n",
        "\n",
        "Quantum machine learning, an emerging field combining quantum computing with machine learning techniques, could potentially be applied to explore complex phenomena such as black holes, particularly in understanding their quantum computational complexity. Here's how this could work:\n",
        "\n",
        "1. **Quantum Computational Complexity of Black Holes:** This concept relates to understanding how complex the quantum states of black holes can be, especially in the context of the information paradox and the nature of the event horizon (as in the firewall hypothesis). Quantum computational complexity in this context refers to the number of quantum operations needed to create a particular state from a simple reference state.\n",
        "\n",
        "2. **Quantum Machine Learning Algorithms:** Quantum machine learning algorithms could potentially model and analyze the quantum states associated with black holes. These algorithms can process and analyze information in ways that are fundamentally different from classical algorithms, possibly offering new insights into the highly complex quantum states of black holes.\n",
        "\n",
        "3. **Simulation and Modeling:** Quantum computers could simulate aspects of black hole physics that are otherwise extremely challenging for classical computers, such as the entanglement structure of Hawking radiation or the dynamics of spacetime near the event horizon.\n",
        "\n",
        "4. **Pattern Recognition and Data Analysis:** Quantum machine learning can excel in identifying patterns in large datasets. If applicable to data obtained from astronomical observations or theoretical simulations related to black holes, it could uncover new insights into their properties and behavior.\n",
        "\n",
        "5. **Exploring Quantum Gravity Theories:** Insights gained from quantum machine learning could potentially contribute to theories of quantum gravity, a field that seeks to reconcile general relativity (which describes black holes) with quantum mechanics.\n",
        "\n",
        "6. **Challenges and Limitations:** It's important to note that practical quantum computing, especially at a scale necessary to tackle such complex problems, is still in its infancy. Furthermore, the theoretical understanding required to directly apply quantum machine learning to black hole computational complexity is highly advanced and speculative.\n",
        "\n",
        "7. **Interdisciplinary Collaboration:** This kind of research would likely require close collaboration between quantum physicists, computer scientists, and astrophysicists, given the highly interdisciplinary nature of the problem.\n",
        "\n",
        "In summary, while theoretically possible, the application of quantum machine learning to understand the quantum computational complexity of black holes is still largely in the realm of speculative and cutting-edge research. As both fields of quantum computing and black hole physics evolve, more practical applications might emerge in the future.\n",
        "\n",
        "****\n",
        "\n",
        "Yes, quantum machine learning (QML) has the potential to be used to calculate the quantum computational complexity of black holes. QML is a new field that combines the principles of quantum mechanics with machine learning. It has the potential to solve problems that are intractable for classical computers.\n",
        "\n",
        "One way that QML could be used to calculate the quantum computational complexity of black holes is to develop algorithms that can learn the structure of black hole states from data. For example, an algorithm could be trained on a dataset of black hole states, and then it could be used to calculate the complexity of new black hole states.\n",
        "\n",
        "Another way that QML could be used to calculate the quantum computational complexity of black holes is to develop algorithms that can efficiently simulate the evolution of black hole states. This could be done by using QML to develop new representations of black hole states that are more efficient to simulate than traditional representations.\n",
        "\n",
        "Researchers are currently exploring a number of different ways to use QML to calculate the quantum computational complexity of black holes. These efforts are still in their early stages, but they have the potential to lead to new insights into the nature of black holes and quantum gravity.\n",
        "\n",
        "Here are some specific examples of how QML could be used to calculate the quantum computational complexity of black holes:\n",
        "\n",
        "* **Train a machine learning model on a dataset of black hole states, and then use the model to calculate the complexity of new black hole states.**\n",
        "\n",
        "* **Develop a new quantum circuit representation for black hole states that can be efficiently simulated by a quantum computer, and then use QML to develop algorithms for simulating these circuits.**\n",
        "\n",
        "* **Use QML to develop new algorithms for estimating the probability of a particular outcome of a quantum computation, and then use these algorithms to estimate the complexity of black hole states.**\n",
        "\n",
        "Research in this area is still in its early stages, but it has the potential to revolutionize our understanding of black holes and quantum gravity. As quantum computers become more powerful, QML is likely to play an increasingly important role in our quest to understand the universe at its most fundamental level."
      ],
      "metadata": {
        "id": "RbqvlS1PvGeM"
      }
    },
    {
      "cell_type": "markdown",
      "source": [
        "###### *Black Holes as (Quantum) Computers*"
      ],
      "metadata": {
        "id": "GwAZXBb_beZP"
      }
    },
    {
      "cell_type": "markdown",
      "source": [
        "Powerful X-rays emitted near these black holes have properties that make them ideal information carriers for quantum computing\n",
        "\n",
        "* If the star that forms it rotates, as most stars do, the black hole will also spin.\n",
        "* Material that gets close to a rotating black hole but does not fall into it will aggregate into a circular structure known as an accretion disk. Powerful forces acting on accretion disks raise their temperature so they emit X-rays, which can act as carriers of quantum information.\n",
        "* The photons that make up the X-rays have two properties: polarisation and orbital angular momentum. Each of these can encode a qubit (quantum bit) of information, the standard information unit in quantum computing. \"Lab-based researchers already use beam splitters and prisms to entangle these properties in X-ray photons and process quantum information,\" says Racorean. \"It now seems that the curvature of spacetime around a black hole will play the same role as this apparatus.\"\n",
        "* Thus far, however, this process is only a prediction. The final proof will come when the properties of X-rays near spinning black holes are observed, which could happen in the next decade.\n",
        "* Two space probes with the same mission will be launched around 2022: the Imaging X-ray Polarimetry Explorer (IXPE) by NASA, and the X-ray Imaging Polarimetry Explorer (XIPE) by the European Space Agency. These will investigate the polarisation of all X-rays found in space, including those emitted close to black holes. \"If we find that the X-ray polarisation changes with distance from the black hole, with those in the central region being least polarised, we will have observed entangled states that can carry quantum information,\" says Racorean.\n",
        "* This topic may seem esoteric, but it could have practical applications. **\"One day, we may even be able to use rotating black holes as quantum computers by sending [X-ray] photons on the right trajectory around these ghostly astronomical bodies,\"** Racorean concludes.\n",
        "* Additionally, scientists believe that simulation of unusual states of matter will be an important early application of quantum computing, and there are few more unusual states of matter than those found in the vicinity of black holes.\n",
        "\n",
        "https://phys.org/news/2017-11-black-holes-spacetime-quantum.amp"
      ],
      "metadata": {
        "id": "7fPBrXRFasEG"
      }
    },
    {
      "cell_type": "markdown",
      "source": [
        "###### *Symmetries (equivariances or invariances) in quantum computational complexity of black holes*"
      ],
      "metadata": {
        "id": "8fYo65BMPmqp"
      }
    },
    {
      "cell_type": "markdown",
      "source": [
        "**In quantum computational complexity of black holes, are there any symmetries (equivariances or invariances) that can be exploited?**\n",
        "\n",
        "Yes, there are several symmetries (equivariances or invariances) that can be exploited in the quantum computational complexity of black holes. These symmetries can be used to simplify the problem of calculating the complexity of black hole states and to gain new insights into the relationship between black holes and quantum information theory.\n",
        "\n",
        "One of the most important symmetries of black holes is their conformal symmetry. This symmetry arises from the fact that black holes are solutions to the Einstein equation, which is conformally invariant. Conformal symmetry implies that the complexity of black hole states should be independent of certain transformations of the coordinates. This can be used to simplify the complexity calculations by fixing the coordinates in a particular way.\n",
        "\n",
        "Another important symmetry of black holes is their entanglement structure. Black hole states are highly entangled, and this entanglement can be exploited to reduce the computational complexity of certain tasks. For example, it has been shown that the complexity of the state of a black hole that is created by collapsing a massive particle is proportional to the entanglement entropy of the particle.\n",
        "\n",
        "Symmetries can also be used to relate the complexity of black hole states to other quantities of interest, such as the entropy or the information content of the black hole. For example, it has been shown that the complexity of a black hole state is equal to the entropy of the black hole up to a logarithmic correction. This suggests that complexity may be a more fundamental measure of a black hole's information content than entropy.\n",
        "\n",
        "The study of symmetries in the quantum computational complexity of black holes is an active area of research. As we learn more about these symmetries, we will be able to gain a better understanding of the relationship between black holes and quantum information theory. This could ultimately lead to new insights into the nature of black holes and quantum gravity.\n",
        "\n",
        "Here are some specific examples of how symmetries can be exploited in the quantum computational complexity of black holes:\n",
        "\n",
        "* **Conformal symmetry:** By using conformal transformations of the coordinates, it is possible to map a black hole to a state with a simpler circuit description. This can be used to simplify the complexity calculations.\n",
        "\n",
        "* **Entanglement structure:** By understanding the entanglement structure of black hole states, it is possible to identify certain operations that can be performed efficiently. This can be used to reduce the computational complexity of certain tasks.\n",
        "\n",
        "* **Symmetry between black hole formation and evaporation:** There is a symmetry between the complexity of a black hole state that is created by collapsing a massive particle and the complexity of the state that is emitted from the black hole's horizon. This symmetry can be used to relate the complexity of black holes to their entropy and information content.\n",
        "\n",
        "Symmetries play a crucial role in understanding the quantum computational complexity of black holes. By exploiting these symmetries, we can gain new insights into the nature of black holes and quantum information theory."
      ],
      "metadata": {
        "id": "cSAnOF4gPxVU"
      }
    },
    {
      "cell_type": "markdown",
      "source": [
        "**Can you represent conformal symmetry in a quantum circuit?**\n",
        "\n",
        "Yes, conformal symmetry can be represented in a quantum circuit using a specific type of gate called a conformal gate. Conformal gates are unitary operators that preserve the conformal group, which is the group of transformations that leave the conformal structure of a spacetime invariant.\n",
        "\n",
        "**Conformal Gates**\n",
        "\n",
        "Conformal gates are typically represented as a combination of two-qubit gates, such as the controlled-Z gate (CZ) and the controlled-Hadamard gate (CH). These gates can be used to implement the conformal group, which consists of dilations, translations, and special conformal transformations.\n",
        "\n",
        "**Dilation**\n",
        "\n",
        "A dilation is a transformation that increases or decreases the size of a system. In quantum mechanics, this corresponds to a scaling of the Hamiltonian. A dilation can be implemented using a CZ gate followed by a Hadamard gate (H), as shown below:\n",
        "\n",
        "```\n",
        "CZ |q0, q1⟩ ⇒ |q0, q0⟩\n",
        "H |q0⟩ ⇒ |+⟩\n",
        "```\n",
        "\n",
        "This circuit transforms the state |q0, q1⟩ into |+, +⟩, which is the maximally mixed state on two qubits. This represents a dilation of the system, as the entropy of the state has increased.\n",
        "\n",
        "**Translation**\n",
        "\n",
        "A translation is a transformation that moves a system to a different location. In quantum mechanics, this corresponds to adding a constant offset to the Hamiltonian. A translation can be implemented using a CZ gate followed by a Pauli X gate (X), as shown below:\n",
        "\n",
        "```\n",
        "CZ |q0, q1⟩ ⇒ |q1, q0⟩\n",
        "X |q1⟩ ⇒ |-⟩\n",
        "```\n",
        "\n",
        "This circuit transforms the state |q0, q1⟩ into |-, -⟩, which is the orthogonal complement of the maximally mixed state. This represents a translation of the system, as the state has moved to a different point on the Bloch sphere.\n",
        "\n",
        "**Special Conformal Transformation**\n",
        "\n",
        "A special conformal transformation is a combination of a translation and a dilation. In quantum mechanics, this corresponds to a squeezing of the system. A special conformal transformation can be implemented using a CZ gate followed by a combination of H and X gates, as shown below:\n",
        "\n",
        "```\n",
        "CZ |q0, q1⟩ ⇒ |q0, q1⟩\n",
        "H |q1⟩ ⇒ |-⟩\n",
        "X |-⟩ ⇒ |+⟩\n",
        "```\n",
        "\n",
        "This circuit effectively transforms the state |q0, q1⟩ back to itself, but it has introduced some non-classical correlations between the qubits. This represents a squeezing of the system, as the state has become more entangled.\n",
        "\n",
        "**Combining Conformal Gates**\n",
        "\n",
        "Conformal gates can be combined to implement more complex conformal transformations. For example, the following circuit implements a combination of a dilation and a special conformal transformation:\n",
        "\n",
        "```\n",
        "CZ |q0, q1⟩ ⇒ |q0, q0⟩\n",
        "H |q0⟩ ⇒ |+⟩\n",
        "X |+⟩ ⇒ |-⟩\n",
        "X |-⟩ ⇒ |+⟩\n",
        "```\n",
        "\n",
        "This circuit transforms the state |q0, q1⟩ into |+, -⟩, which is a partially entangled state. This represents a combination of a dilation and a squeezing of the system.\n",
        "\n",
        "**Conclusion**\n",
        "\n",
        "Conformal gates can be used to represent conformal symmetry in a quantum circuit. These gates can be used to implement the conformal group, which consists of dilations, translations, and special conformal transformations. Conformal gates have applications in various fields, including quantum field theory, quantum gravity, and condensed matter physics."
      ],
      "metadata": {
        "id": "gQT79SohR-JG"
      }
    },
    {
      "cell_type": "markdown",
      "source": [
        "###### *Black Hole Information Paradox*"
      ],
      "metadata": {
        "id": "P4NJL0kOLbfi"
      }
    },
    {
      "cell_type": "markdown",
      "source": [
        "Solution: Quantengravitationskorrekturen\n",
        "\n",
        "https://www.derstandard.de/story/2000145317520/schwarze-loecher-zeigen-ihr-weiches-haar-jetzt-oeffentlich\n",
        "\n",
        "* Noch ist unklar, wie sich die Theorie überprüfen lassen könnte. Angesichts vieler neuer Informationen über Schwarze Löcher, vor allem durch die neuen Gravitationswellenexperimente, scheint eine künftige Überprüfung zumindest nicht ganz aussichtslos.\n",
        "\n",
        "* Calmet selbst regt an, Modelle Schwarzer Löcher im Labor nachzubauen. Der Bereich der \"Quantensimulation\" ist tatsächlich eine der spannendsten Anwendungen moderner Quantentechnologie.\n",
        "\n",
        "* Auch die Simulation von Effekten der Teilchenphysik, wie sie hier nötig wären, [gelang bereits](https://www.derstandard.at/story/2000039596758/innsbrucker-quantencomputer-simuliert-phaenomen-der-teilchenphysik). Es besteht also Hoffnung, dass die Aussage der Forscher, im Gegensatz zu vielen anderen, die den Grenzbereich von Quantenphysik und Relativitätstheorie betreffen, doch experimentell überprüfbar ist. (Reinhard Kleindl, 8.4.2023)\n",
        "\n",
        "> Science: [Quantum gravitational corrections to particle creation by black holes](https://www.sciencedirect.com/science/article/pii/S0370269323001545)"
      ],
      "metadata": {
        "id": "layD8eDpdwkr"
      }
    },
    {
      "cell_type": "markdown",
      "source": [
        "Black hole information paradox: **if black holes radiate a perfect thermal spectrum then, by definition, that radiation has maximum entropy and contains no information about whatever fell into the black hole**. The black holes evaporates and all information that went into is deleted. This breaks rule of conservation of quantum information.\n",
        "\n",
        "What if all the information they eat is trapped forever in the tiny Planck relic? However that would break another rule: the Bekenstein bound (max of information that a region of space can contain)."
      ],
      "metadata": {
        "id": "clcxWo4_eQbt"
      }
    },
    {
      "cell_type": "markdown",
      "source": [
        "![sciences](https://raw.githubusercontent.com/deltorobarba/repo/master/sciences_1481.jpg)"
      ],
      "metadata": {
        "id": "6kL2b_sbTvYM"
      }
    },
    {
      "cell_type": "markdown",
      "source": [
        "* The [black hole information paradox](https://en.m.wikipedia.org/wiki/Black_hole_information_paradox) is a puzzle that appears when the predictions of quantum mechanics and general relativity are combined. The theory of general relativity predicts the existence of black holes that are regions of spacetime from which nothing — not even light — can escape.\n",
        "\n",
        "* In the 1970s, Stephen Hawking applied the rules of quantum mechanics to such systems and found that an isolated black hole would emit a form of radiation called Hawking radiation. Hawking also argued that the detailed form of the radiation would be **independent of the initial state of the black hole and would depend only on its mass, electric charge and angular momentum (=No hair conjecture)**.\n",
        "\n",
        "* The information paradox appears when one considers a process in which a black hole is formed through a physical process and then evaporates away entirely through **= Hawking radiation**.\n",
        "\n",
        "* Hawking's calculation suggests that the final state of radiation would retain information only about the total mass, electric charge and angular momentum of the initial state. Since many different states can have the same mass, charge and angular momentum this suggests that many initial physical states could evolve into the same final state. Therefore, information about the details of the initial state would be permanently lost.\n",
        "\n",
        "* However, this violates a core precept of both classical and quantum physics—that, in principle, the state of a system at one point in time should determine its value at any other time. Specifically, in quantum mechanics the state of the system is encoded by its wave function. The evolution of the wave function is determined by a unitary operator, and unitarity implies that the wave function at any instant of time can be used to determine the wave function either in the past or the future.\n",
        "\n",
        "* It is now generally believed that information is preserved in black-hole evaporation."
      ],
      "metadata": {
        "id": "SjA9CngZDwbN"
      }
    },
    {
      "cell_type": "markdown",
      "source": [
        "**Black hole information paradox**\n",
        "\n",
        "[What Survives Inside A Black Hole?](https://www.youtube.com/watch?v=GscfuQWZFAo)\n",
        "\n",
        "Conservation of quantum information, Gateway to blackhole thermodynamics and holographic principle\n",
        "\n",
        "- Mass, electric charge and angular momentum: only three properties to describe a black hole: no hair conjecture (Jakob bekenstein)\n",
        "- the inside of the black hole is disconnected from the outside, cannot influence. We know only the three above information\n",
        "- These properties are remembered in the curvature of spacetime, in the gravitational field, according to Gauss’s law for gravity (like in electric fields), that’s why we at least have these information about the black hole\n",
        "- Gauss’s law for gravity: THE GrAVITATIONAL FLUX ThROUGh ANY CLOSED SURFACE IS PROPORTIONAL т O tHE ENciOSED MASS. the distribution of the matter is irrelevant (as a point, or along a region)\n",
        "- Since graviational force and electric force are infinite, the mass and charge of any region in space are remembered in the field (see inverse inverse square law)\n",
        "- Same for angular momentum: you get a magnetic field when an electric field changes. Frame dragging changes the shape of the event horizon and the orbit of anything nearby. If material with angular momentum (spinning star, rotating gas) falls in a black hole it will add or subtract from the flow of space above the event horizon. Its angular momentum is remembered in the frame dragging!! (Gravity probe B)\n",
        "- But something seems too get lost: number of particles of different types, like balance between quarks and antiquarks, represented by Baryon number (which is a conserved quantity)"
      ],
      "metadata": {
        "id": "uIBWis-eN7yC"
      }
    },
    {
      "cell_type": "markdown",
      "source": [
        "###### *Closed Timeline Curves (CTC), Retrocausality and Superdeterminism*"
      ],
      "metadata": {
        "id": "Dgy31jigwHId"
      }
    },
    {
      "cell_type": "markdown",
      "source": [
        "https://de.m.wikipedia.org/wiki/Ergosphäre\n",
        "\n",
        "https://www.astro.umd.edu/~richard/ASTRO350/Astro350_2020_class09.pdf\n",
        "\n",
        "https://www.sciencedirect.com/science/article/pii/S0550321320301747"
      ],
      "metadata": {
        "id": "skb7hbj3a-L2"
      }
    },
    {
      "cell_type": "markdown",
      "source": [
        "Physiker simulieren Zeitreisen mit Quantenpartikeln\n",
        "\n",
        "* https://t3n.de/news/physiker-simulieren-zeitreisen-quantenpartikeln-1585445/\n",
        "\n",
        "* [APS - Nonclassical Advantage in Metrology Established via Quantum Simulations of Hypothetical Closed Timelike Curves](https://journals.aps.org/prl/abstract/10.1103/PhysRevLett.131.150202)"
      ],
      "metadata": {
        "id": "4-NUqdJCZu9P"
      }
    },
    {
      "cell_type": "markdown",
      "source": [
        "https://en.m.wikipedia.org/wiki/Closed_timelike_curve\n",
        "\n",
        "https://en.m.wikipedia.org/wiki/Retrocausality\n",
        "\n",
        "https://en.m.wikipedia.org/wiki/Superdeterminism"
      ],
      "metadata": {
        "id": "kn3NToI5wNFp"
      }
    },
    {
      "cell_type": "markdown",
      "source": [
        "###### *Holographic Principle, Ads/CFT and Kerr/CFT correspondence*"
      ],
      "metadata": {
        "id": "DOOx_crf83HT"
      }
    },
    {
      "cell_type": "markdown",
      "source": [
        "SYK model: https://en.m.wikipedia.org/wiki/Sachdev–Ye–Kitaev_model"
      ],
      "metadata": {
        "id": "r1ZxrtXNQBHs"
      }
    },
    {
      "cell_type": "markdown",
      "source": [
        "**Background: Holographic Principle, Ads/CFT and Kerr/CFT correspondence**\n",
        "\n",
        "1. **Holographic Principle**: This is a fundamental idea that suggests that all of the information contained within a given volume of space can be represented by information on the boundary of that space. Think of it as a kind of \"hologram\" where a 2D surface can contain all the information about a 3D volume. This principle was inspired by the behavior of black holes, where the entropy (a measure of information) of a black hole is proportional to its surface area and not its volume.\n",
        "\n",
        "2. **AdS/CFT correspondence**: This is a specific realization of the holographic principle. It's a conjectured relationship between two types of physical theories:\n",
        "    - AdS: Anti-de Sitter space, which is a type of space in gravity theories.\n",
        "    - CFT: Conformal Field Theories, which are quantum field theories defined on the boundary of the AdS space.\n",
        "\n",
        "  * The AdS/CFT correspondence posits that a quantum field theory on the boundary (CFT) is equivalent to a gravity theory in the bulk (AdS). This provides a powerful duality that allows for the study of difficult problems in one theory using the tools of the other. In essence, while the holographic principle is a general idea about the nature of information and space, AdS/CFT is a specific, concrete example that ties together quantum mechanics and gravity.\n",
        "\n",
        "3. **Kerr/CFT Correspondence**\n",
        "  * [Kerr/CFT Correspondence (wiki)](https://en.m.wikipedia.org/wiki/Kerr/CFT_correspondence)\n",
        "  * [The Kerr/CFT Correspondence](https://arxiv.org/abs/0809.4266)"
      ],
      "metadata": {
        "id": "HRuHg-4_81ei"
      }
    },
    {
      "cell_type": "markdown",
      "source": [
        "Überraschende Entdeckung: Gleichartiges Leuchten von schwarzen Löchern stellt Theorien infrage\n",
        "\n",
        "https://t3n.de/news/ueberraschende-entdeckung-schwarze-loecher-geichartiges-leuchten-bisherige-theorie-1594532/\n",
        "\n",
        "https://arxiv.org/abs/2307.13872"
      ],
      "metadata": {
        "id": "2HXUAGyzPAq5"
      }
    },
    {
      "cell_type": "markdown",
      "source": [
        "###### *Landauer-Prinzip vs Nernst-Theorem*"
      ],
      "metadata": {
        "id": "I2xPw5u9vGWI"
      }
    },
    {
      "cell_type": "markdown",
      "source": [
        "Wie man Daten am Quantencomputer zuverlässig löscht\n",
        "\n",
        "Die Frage beim Löschen eines Qubits sei nun, zu welchen Kosten das erfolgt: \"Sind diese endlich, wie es das [Landauer-Prinzip](https://de.m.wikipedia.org/wiki/Landauer-Prinzip) sagt, oder dem [Nernst-Theorem](https://de.m.wikipedia.org/wiki/Dritter_Hauptsatz_der_Thermodynamik) folgend unendlich?\", so Huber. Wie der Quantenphysiker mit seinem Team nun herausfand, ist im Prinzip der unendliche Energieeinsatz nur notwendig, wenn man in endlicher Zeit kühlen bzw. löschen will. Würde man unendlich lang Zeit haben, könnte man auf diesen erforderlichen unendlichen Energieeinsatz verzichten.\n",
        "\n",
        "https://futurezone.at/amp/science/daten-quantencomputer-loeschen-qubit-wien-tu-technische-universitaet-nullpunkt/402414446\n",
        "\n",
        "https://journals.aps.org/prxquantum/abstract/10.1103/PRXQuantum.4.010332"
      ],
      "metadata": {
        "id": "Kp2FOzw0vOQb"
      }
    },
    {
      "cell_type": "markdown",
      "source": [
        "###### *Unruh-Effect (Unruh Radiation and Rindler horizon)*"
      ],
      "metadata": {
        "id": "y4YO0LQ4A4IX"
      }
    },
    {
      "cell_type": "markdown",
      "source": [
        "**Unruh-Effect (Unruh Radiation)**\n",
        "\n",
        "* Je schneller man sich bewegt, desto mehr Teilchen mit erhöhter Temperatur entstehen vor einem bewegenden Beobachter (befindet sich im Wärmebad). Diese Teilchen kann ein ruhender Beobachter nicht sehen.\n",
        "\n",
        "* **Ist ein relativistisches Phänomen: nicht nur Zeit und Distanz hängen vom Beobachter ab, sondern auch die Existenz von Teilchen**\n",
        "\n",
        "* ist rein theoretisch, hat noch nieman beobachtet.\n",
        "\n",
        "* Schwarze Löcher strahlen Teilchen aus. Unruh-Effekt interessant fur komplizierte Phänomene wie Hawking-Strahlung oder expandierendes Universum\n",
        "\n",
        "* **sowohl bei Hawking-Strahlung als auch bei Unruh-Effekt scheinen Teilchen aus dem Nichts zu entstehen, wodurch das Vakuum eine endliche Temperatur erhält**."
      ],
      "metadata": {
        "id": "iC7r8vzaiiO5"
      }
    },
    {
      "cell_type": "markdown",
      "source": [
        "Der [Unruh-Effekt](https://de.m.wikipedia.org/wiki/Unruh-Effekt) ist eine Vorhersage der Quantenfeldtheorie: Ein im Vakuum gleichmäßig beschleunigter Beobachter oder Detektor sieht anstelle des Vakuums ein Gas von Teilchen (Photonen, Elektronen, Positronen, …) mit einer Temperatur T, die proportional zur Beschleunigung ist.\n",
        "\n",
        "* nature of quantum fields seems to change as the observer is accelerating\n",
        "* accelerating cuts of causal access to a region in the universe and **creates a type of event horizon ([Rindler horizon](https://en.m.wikipedia.org/wiki/Rindler_coordinates))**\n",
        "* the presence of horizons distorts the quantum vacuum in a way that can create particles (Hawking radiation) -> Unruh effect\n",
        "* created even horizon behind you can't catch you, but its Unruh radiation can!\n",
        "* accelerating observers find themselves in a warm bath of particles\n",
        "* Unruh-deWitt-detector to detect particles - **the existence of partices is observer-dependent!**\n",
        "* [The Unruh Effect](https://www.youtube.com/watch?v=7cj6oiFDEXc&list=WL&index=11)\n",
        "\n",
        "\n",
        "https://physicsworld.com/a/black-holes-could-reveal-their-quantum-superposition-states-new-calculations-reveal/"
      ],
      "metadata": {
        "id": "k3Jd1qq8fX7M"
      }
    },
    {
      "cell_type": "markdown",
      "source": [
        "###### *No hair conjecture (Jakob Bekenstein)*"
      ],
      "metadata": {
        "id": "aZ3xS4t7CWRV"
      }
    },
    {
      "cell_type": "markdown",
      "source": [
        "* The [no-hair theorem](https://en.m.wikipedia.org/wiki/No-hair_theorem) states that **all stationary black hole solutions** of the Einstein–Maxwell equations of gravitation and electromagnetism in general relativity can be **completely characterized by only three independent externally observable classical parameters: mass, electric charge, and angular momentum**.\n",
        "\n",
        "* Other characteristics (such as geometry and magnetic moment) are uniquely determined by these three parameters, and all other information (for which \"hair\" is a metaphor) about the matter that formed a black hole or is falling into it \"disappears\" behind the black-hole event horizon and **is therefore permanently inaccessible to external observers after the black hole \"settles down\" (by emitting gravitational and electromagnetic waves)**.\n",
        "\n",
        "* Physicist John Archibald Wheeler expressed this idea with the phrase \"black holes have no hair\", which was the origin of the name.\n",
        "\n",
        "\n",
        "Mass, electric charge and angular momentum: only three properties to describe a black hole: no hair conjecture (Jakob bekenstein)\n",
        "the inside of the black hole is disconnected from the outside, cannot influence. We know only the three above information"
      ],
      "metadata": {
        "id": "hf4RmooSCYnq"
      }
    },
    {
      "cell_type": "markdown",
      "source": [
        "###### *Hawking Radiation*"
      ],
      "metadata": {
        "id": "gj5tJ7BnBLC0"
      }
    },
    {
      "cell_type": "markdown",
      "source": [
        "[*Hawking Radiation (Black Hole Radiation)*](https://de.m.wikipedia.org/wiki/Hawking-Strahlung)\n",
        "\n",
        "* Schwarze Löcher verlieren Energie\n",
        "\n",
        "* Schwarze Löcher geringer Masse sind von geringer Ausdehnung, d. h., sie haben einen kleineren Schwarzschildradius.\n",
        "\n",
        "* Die den Ereignishorizont umgebende Raumzeit ist entsprechend stärker gekrümmt. Je größer und damit massereicher ein Schwarzes Loch ist, desto weniger strahlt es also.\n",
        "\n",
        "* Je kleiner ein Schwarzes Loch ist, umso höher ist seine Temperatur und aufgrund stärkerer Hawking-Strahlung verdampft es umso schneller.\n",
        "\n",
        "* [Nature: Quantum simulation of black-hole radiation](https://www.nature.com/articles/d41586-019-01592-x)"
      ],
      "metadata": {
        "id": "sNuPQnPNB0jr"
      }
    },
    {
      "cell_type": "markdown",
      "source": [
        "**Hawking Radiation & Destruction of Information (No hair theorem)**\n",
        "\n",
        "https://en.m.wikipedia.org/wiki/No-hair_theorem\n",
        "\n",
        "Destruction of Information by Hawking radiation\n",
        "\n",
        "https://www.youtube.com/watch?v=9XkHBmE-N34\n",
        "\n",
        "[Warum Quanteninformationen niemals zerstört wird](https://www.youtube.com/watch?v=HF-9Dy6iB_4)\n",
        "\n",
        "**No hair theorem**: black hole shields every information away except mass, electrci charge and angular momentu -> informatoon is still there, just not accessible. but Hawking radiation seems to evaporate all information..\n",
        "\n",
        "\n",
        "Video: [Hawking Radiation](https://www.youtube.com/watch?v=qPKj0YnKANw)\n",
        "\n",
        "[Hawking-Strahlung](https://de.m.wikipedia.org/wiki/Hawking-Strahlung): postulierte Strahlung Schwarzer Löcher\n",
        "\n",
        "![sciences](https://raw.githubusercontent.com/deltorobarba/repo/master/sciences_1264.png)\n",
        "\n",
        "Hawking radiation has wavelengths of the size of the event horizon (the size of the entire black hole). These are the de Broglie wavelenghts of created particles:\n",
        "\n",
        "![sciences](https://raw.githubusercontent.com/deltorobarba/repo/master/sciences_1265.png)\n",
        "\n",
        "**Important**:\n",
        "\n",
        "* large black holes (event horizon several kilometers long) have very long wavelenght of Hawking radiation, just photons - kilometer-long electromagnetic, low energy radio-waves  - they are cold and leak energy very slowly.\n",
        "\n",
        "* the smaller the black hole gets, the shorter the wavelengths and the higher the energy, and the thermal enegry heats up. Evaporation rate increases. It's a runnaway process\n",
        "\n",
        "* the end of probably a Planck relic (tiny black holes in size of planck length) that either create an own inflation with a new universe, or evaporate\n",
        "\n",
        "* Video: [What If (Tiny) Black Holes Are Everywhere?](https://www.youtube.com/watch?v=srVKjWn26AQ&list=WL&index=4)\n",
        "\n",
        "They tell us that there is an enormous uncertainty in the location of these particles. Hawking radiation must appear to come from the global black hole, not from specific points at the event horizon\n",
        "\n",
        "![sciences](https://raw.githubusercontent.com/deltorobarba/repo/master/sciences_1266.png)\n",
        "\n",
        "This radiation is visible only to distant observers, but not if you fall into the black hole (then you see flat vaccum space). Only if you hover fixed distanced above the horizon, then you see partices. This is due to the [Unruh radiation](https://de.m.wikipedia.org/wiki/Unruh-Effekt).\n",
        "\n"
      ],
      "metadata": {
        "id": "jTf6z42jo76R"
      }
    },
    {
      "cell_type": "markdown",
      "source": [
        "![ggg](https://raw.githubusercontent.com/deltorobarba/repo/master/sciences_1342.jpg)"
      ],
      "metadata": {
        "id": "2dj913yMCipe"
      }
    },
    {
      "cell_type": "markdown",
      "source": [
        "###### *Bekenstein-Bound, Bekenstein-Hawking-Entropie, and Holografische Prinzip*"
      ],
      "metadata": {
        "id": "XW6H46KpBVW-"
      }
    },
    {
      "cell_type": "markdown",
      "source": [
        "**Bekenstein bound**\n",
        "\n",
        "https://en.m.wikipedia.org/wiki/Bekenstein_bound\n",
        "\n",
        "Black hole information paradox: if black holes radiate a perfect thermal spectrum then,  by definition, that radiation has maximum entropy and contains no information about whatever fell into the black hole. The black holes evaporates and all information that went into is deleted. This breaks rule of conservation of quantum information.\n",
        "\n",
        "What if all the information they eat is trapped forever in the tiny Planck relic? However that would break another rule: the Bekenstein bound (max of information that a region of space can contain).\n",
        "\n",
        "\n",
        "*According to the Bekenstein bound, the entropy of a black hole is proportional to the number of Planck areas that it would take to cover the black hole's event horizon.*\n",
        "\n",
        "![ggg](https://upload.wikimedia.org/wikipedia/commons/thumb/4/4d/Bekenstein-Hawking_entropy_of_a_black_hole.jpg/640px-Bekenstein-Hawking_entropy_of_a_black_hole.jpg)\n",
        "\n",
        "A way around this has been proposed - what if space inside black holes actually expands to a region larger than the event horizon? What if at the singularity of a black hole a new inflation is triggered. Then there is enough space."
      ],
      "metadata": {
        "id": "fq2o4mluelgv"
      }
    },
    {
      "cell_type": "markdown",
      "source": [
        "**Bekenstein-Hawking-Entropie & Holografische Prinzip**\n",
        "\n",
        "[*Bekenstein-Hawking-Entropie*](https://de.m.wikipedia.org/wiki/Bekenstein-Hawking-Entropie)\n",
        "\n",
        "* Heuristische Überlegungen führten J. D. Bekenstein bereits 1973 zu der Hypothese, dass die Oberfläche des Ereignishorizontes ein Maß für die Entropie eines Schwarzen Loches sein könnte, siehe Bekenstein-Hawking-Entropie.\n",
        "\n",
        "* Die Bekenstein-Hawking-Entropie war eine Motivation für das [Holografische Prinzip](https://de.m.wikipedia.org/wiki/Holografisches_Prinzip).\n"
      ],
      "metadata": {
        "id": "BAJVWziCxtWY"
      }
    },
    {
      "cell_type": "markdown",
      "source": [
        "**The inverse square law**\n",
        "\n",
        "* Gauss's law is a more general form of this. It applies to any shaped surface surrounding any shaped mass charge.\n",
        "\n",
        "![sciences](https://raw.githubusercontent.com/deltorobarba/repo/master/sciences_1269.png)"
      ],
      "metadata": {
        "id": "A2R7_zGXLYl2"
      }
    },
    {
      "cell_type": "markdown",
      "source": [
        "###### *Killing Horizons Decohere Quantum Superpositions: Do Black Holes and the Cosmic Event Horizon create physical reality?*"
      ],
      "metadata": {
        "id": "nMRTXb5a56Aq"
      }
    },
    {
      "cell_type": "markdown",
      "source": [
        "Rindler horizin, kiling horizon\n",
        "\n",
        "Event horizon produce decoherence of quantum states, producing reality?\n",
        "Video: [Strange New Explanation for Why Quantum World Collapses Into Reality](https://www.youtube.com/watch?v=3_hi48l-cj8&list=WL&index=8)\n",
        "\n",
        "https://arxiv.org/abs/2301.00026 Killing Horizons Decohere Quantum Superpositions\n",
        "\n"
      ],
      "metadata": {
        "id": "Top6h_dkRvNg"
      }
    },
    {
      "cell_type": "markdown",
      "source": [
        "Suggestion that horizons from black holes and the expansion of the universe cause the quantum collapse into reality\n",
        "\n",
        "* Ausgangspunkt: two entangled particles, one falls in back hole - according to general relativity they cannot decohere, because no information gets out, but that‘s not what happens according to quantum theory. maybe the edge of a black hole (event horizon) acts like an observer and decoheres the entangled state\n",
        "* Bringing this idea to the next level: The edge of the universe acts like an observer of everything that happens inside of it\n",
        "* Observation means here decoherence and brings things from quantum state into real physical state\n",
        "* Edge of universe is an event horizon (just opposite side to black holes): Rindler horizon (particularly the Killing horizon in this case)\n",
        "\n",
        "Video: https://youtu.be/3_hi48l-cj8\n",
        "\n",
        "Paper: Killing Horizons Decohere Quantum Superpositions  https://arxiv.org/abs/2301.00026"
      ],
      "metadata": {
        "id": "u8oJFM3N53sW"
      }
    },
    {
      "cell_type": "markdown",
      "source": [
        "###### *Quantum Gravity - Quantum Cosmology & Quantum Complexity (Dump)*"
      ],
      "metadata": {
        "id": "AbTRWe0r27UX"
      }
    },
    {
      "cell_type": "markdown",
      "source": [
        "Entanglement: Gravity’s long-distance connection Wormhole links between black holes could broker quantum-general relativity merger\n",
        "\n",
        "https://www.sciencenews.org/article/entanglement-gravitys-long-distance-connection"
      ],
      "metadata": {
        "id": "NGwdlAhRQhog"
      }
    },
    {
      "cell_type": "markdown",
      "source": [
        "https://www.quantamagazine.org/renate-loll-blends-universes-to-unlock-quantum-gravity-20230525/"
      ],
      "metadata": {
        "id": "Cdf_URbpqfmw"
      }
    },
    {
      "cell_type": "markdown",
      "source": [
        "Noncommutative geometry and cosmology\n",
        "\n",
        "there is also a book!\n",
        "\n",
        "http://www.its.caltech.edu/~matilde/CosmoBeijing2013.pdf\n",
        "\n",
        "https://arxiv.org/abs/gr-qc/0305077\n"
      ],
      "metadata": {
        "id": "WczJMFxaGXf7"
      }
    },
    {
      "cell_type": "markdown",
      "source": [
        "**Why Physicists Think Gravity Creates Light**\n",
        "\n",
        "* Gravity into light: oscillations of inflaton field can produce this resonance in any field, including the gravitational fields of the primordial universe. Oscillating graviational fields are better known as gravitational waves.\n",
        "\n",
        "* If the inflation resonance coupled to the creation of gravitational waves in the early universe, this could create gravitational standing waves of incredibly high energy\n",
        "\n",
        "* in places where the refractive index of light is greater than 1 (= meaning that gravitational waves move faster than light waves), this can result in gravitational waves driving oscillations in the electromagnetic field, essentially creating a shock wave that generates spontaneous particles of light - light out of the fabric of spacetime. (Somehow analogous to Cherenkov radiation)\n",
        "\n",
        "* For a particle physics description, rather than a quantum field description: * think of a standing gravitational wave as a collective behavior of two groups of massless gravitons - particles of gravity - traveling in opposite directions. At high enough energies and densities, these can collide and decay into other particles, in this case photons. Just like a pair of high energy photons can collide and decay into an electron positron pair.\n",
        "\n",
        "* the process is very inefficient and probably only occured in early universe. Or (gravitational waves) exist today only in binary black hole systems, but the refractive index isn't usually greater than 1 in these systems, so it's difficult to create these shockwave-like environments.\n",
        "\n",
        "Video: [Why Physicists Think Gravity Creates Light](https://www.youtube.com/watch?v=LtTIE7C7me0)\n",
        "\n",
        "Paper: [Graviton to photon conversion via parametric resonance](https://www.sciencedirect.com/science/article/pii/S2212686423000365)"
      ],
      "metadata": {
        "id": "VPk6KpkSsPwV"
      }
    },
    {
      "cell_type": "markdown",
      "source": [
        "[Group Field Theories for Quantum Gravity](https://youtu.be/aO3sNENdV1k)\n",
        "\n",
        "[Effective Spin Foam for quantum gravity](https://youtu.be/6n1iaT1bw1Y)"
      ],
      "metadata": {
        "id": "s35ijjuCHacG"
      }
    },
    {
      "cell_type": "markdown",
      "source": [
        "**Sensing between particle’s intrinsic quantum spin and Earth’s gravitational field**\n",
        "\n",
        "how does a quantum spin interact with a gravitational field\n",
        "\n",
        "https://physics.aps.org/articles/v16/80\n",
        "\n",
        "A hunt for a spin-gravity interaction has implications for the existence of hypothetical forces of nature and for the origin of the Universe’s matter-antimatter asymmetry.\n",
        "\n",
        "https://mriquestions.com/why-at-larmor-frequency.html\n"
      ],
      "metadata": {
        "id": "ju1r0FkIziC9"
      }
    },
    {
      "cell_type": "markdown",
      "source": [
        "**Concepts**\n",
        "\n",
        "* A theory of the cosmological quantum state is an objective of quantum cosmology (but we've only got one system). A theory of a quantum state is a necessary part of any final theory [Source](https://www.youtube.com/watch?v=xcJ7diTtURc).\n",
        "\n",
        "* Hawking's [no-boundary wave function (NBWF)](https://web.physics.ucsb.edu/~quniverse/nbwf-form.html) is a theory of the quantum state of the universe. Such a state is a necessary part of any final theory along with a theory of quantum dynamics. In principle all predictions depend on both, and predictions of the large scale universe are observationally sensitive to its details. NBWF fluctuations start in their ground state. Essentially the [Bunch-Davies vacuum](https://en.m.wikipedia.org/wiki/Bunch–Davies_vacuum)\n",
        "\n",
        "* [Bunch–Davies vacuum](https://en.m.wikipedia.org/wiki/Bunch–Davies_vacuum): In quantum field theory in curved spacetime, there is a whole class of quantum states over a background de Sitter space which are invariant under all the isometries: the alpha-vacua. Among them there is a particular one whose associated Green functions verify a condition (Hadamard condition) consisting to behave on the light-cone as in flat space. This state is usually called the Bunch–Davies vacuum or Euclidean vacuum\n",
        "\n",
        "* [quantum field theory in curved spacetime (QFTCS)](https://en.m.wikipedia.org/wiki/Quantum_field_theory_in_curved_spacetime)"
      ],
      "metadata": {
        "id": "FolSJUgxM3q9"
      }
    },
    {
      "cell_type": "markdown",
      "source": [
        "https://www.einstein-online.info/en/spotlight/quantum_cosmo_path_integrals/"
      ],
      "metadata": {
        "id": "Nn__-qpARqWJ"
      }
    },
    {
      "cell_type": "markdown",
      "source": [
        "Video: [APS Physics 2015 - Quantum Gravity and Quantum Cosmology](https://www.youtube.com/watch?v=xcJ7diTtURc)\n",
        "\n",
        "* Quantum theory of gravity means a quantum theory of spacetime geometry\n",
        "\n",
        "![sciences](https://raw.githubusercontent.com/deltorobarba/repo/master/sciences_1482.png)\n",
        "\n",
        "![sciences](https://raw.githubusercontent.com/deltorobarba/repo/master/sciences_1483.png)\n",
        "\n",
        "![sciences](https://raw.githubusercontent.com/deltorobarba/repo/master/sciences_1484.png)\n"
      ],
      "metadata": {
        "id": "mhyFfc16LGoe"
      }
    },
    {
      "cell_type": "markdown",
      "source": [
        "Video: [PBS - Quantum Gravity and the Hardest Problem in Physics](https://www.youtube.com/watch?v=YNEBhwimJWs)\n",
        "\n",
        "* Non-renormalizability of general relativity: precise localized particles produce black holes (you need so much energy to localize below one planck length or one planck time, that it produces black holes. the more precise, the larger the black hole gets"
      ],
      "metadata": {
        "id": "NWEVty9lUJCr"
      }
    },
    {
      "cell_type": "markdown",
      "source": [
        "Event: Quantum Gravity and Quantum Cosmology\n",
        "\n",
        "https://meetings.aps.org/Meeting/APR15/Session/W1.2"
      ],
      "metadata": {
        "id": "g43DMitiCBp9"
      }
    },
    {
      "cell_type": "markdown",
      "source": [
        "https://de.m.wikipedia.org/wiki/Quantengravitation"
      ],
      "metadata": {
        "id": "Yq_BfEMg-na6"
      }
    },
    {
      "cell_type": "markdown",
      "source": [
        "https://en.m.wikipedia.org/wiki/Quantum_cosmology"
      ],
      "metadata": {
        "id": "U_d9X5mHN3po"
      }
    },
    {
      "cell_type": "markdown",
      "source": [
        "https://link.springer.com/book/10.1007/978-3-642-33036-0"
      ],
      "metadata": {
        "id": "GQCbRUEx-2uc"
      }
    },
    {
      "cell_type": "markdown",
      "source": [
        "https://hyperspace.uni-frankfurt.de/2020/01/29/phd-position-in-quantum-cosmology-and-quantum-gravity-sheffield-uk/"
      ],
      "metadata": {
        "id": "rfbwN8e0A7am"
      }
    },
    {
      "cell_type": "markdown",
      "source": [
        "Cosmological consequences of Quantum Gravity proposals\n",
        "\n",
        "https://arxiv.org/abs/1804.02262"
      ],
      "metadata": {
        "id": "69rhcTNQA-mq"
      }
    },
    {
      "cell_type": "markdown",
      "source": [
        "The central object of interest in quantum cosmology is the wave function of a closed universe\n",
        "\n",
        "> $\n",
        "\\Psi\\left[h_{i j}(\\mathbf{x}), \\Phi(\\mathbf{x}), B\\right]\n",
        "$\n",
        "\n",
        "https://arxiv.org/pdf/0909.2566v1.pdf"
      ],
      "metadata": {
        "id": "0kb6n6uzO3dH"
      }
    },
    {
      "cell_type": "markdown",
      "source": [
        "https://www.quantamagazine.org/why-gravity-is-not-like-the-other-forces-20200615/"
      ],
      "metadata": {
        "id": "u07V5uko_KhW"
      }
    },
    {
      "cell_type": "markdown",
      "source": [
        "> <font color=\"blue\">***Quantum Cosmology and Quantum Gravitation*** *(AdS/CFT Correspondence)*\n",
        "\n",
        "> <font color=\"blue\">***Theory of Everything*** *(Electroweak + Strong Nuclear Force + Gravitation)*"
      ],
      "metadata": {
        "id": "L2nptK1EqBuK"
      }
    },
    {
      "cell_type": "markdown",
      "source": [
        "https://www.quora.com/What-is-Quantum-Cosmology-Is-it-a-real-area-of-study-What-is-its-current-status"
      ],
      "metadata": {
        "id": "7MTjftEoOvgr"
      }
    },
    {
      "cell_type": "markdown",
      "source": [
        "https://de.m.wikipedia.org/wiki/Weltformel"
      ],
      "metadata": {
        "id": "_T3m-BQeqfRU"
      }
    },
    {
      "cell_type": "markdown",
      "source": [
        "STRONG = 1\n",
        "\n",
        "ELECTROMAGNETIC = 1/137\n",
        "\n",
        "WEAK = 10^-6\n",
        "\n",
        "GRAVITY = 10^-38"
      ],
      "metadata": {
        "id": "rDpZ1cFET_s8"
      }
    },
    {
      "cell_type": "markdown",
      "source": [
        "https://en.wikipedia.org/wiki/AdS/CFT_correspondence\n",
        "\n",
        "\n",
        "\"According to the AdS/CFT correspondence, the geometries of certain spacetimes are fully determined by quantum states that live on their boundaries-indeed, by the von Neumann entropies of portions of those boundary states. This work investigates to what extent the geometries can be reconstructed from the entropies in polynomial time. Bouland, Fefferman, and Vazirani (2019) argued that the AdS/CFT map can be exponentially complex if one wants to reconstruct regions such as the interiors of black holes. Our main result provides a sort of converse: we show that, in the special case of a single 1D boundary, if the input data consists of a list of entropies of contiguous boundary regions, and if the entropies satisfy a single inequality called Strong Subadditivity, then we can construct a graph model for the bulk in linear time. Moreover, the bulk graph is planar, it has O(N?) vertices (the information-theoretic minimum), and it's \"universal,\" with only the edge weights depending on the specific entropies in question. From a combinatorial perspective, our problem boils down to an \"inverse\" of the famous min-cut problem: rather than being given a graph and asked to find a min-cut, here we're given the values of min-cuts separating various sets of vertices, and need to find a weighted undirected graph consistent with those values. Our solution to this problem relies on the notion of a \"bulkless\" graph, which might be of independent interest for AdS/CFT. We also make initial progress on the case of multiple 1D boundaries-where the boundaries could be connected via wormholes- including an upper bound of O (N4) vertices whenever an embeddable bulk graph exists (thus putting the problem into the complexity class\n",
        "NP).\"\n",
        "-Scott Aaronson and Jason Pollack\n",
        "\n",
        "Discrete Bulk Reconstruction, arxiv: 2210.15601v2 [quant-ph] (2022). https://arxiv.org/pdf/2210.15601.pdf"
      ],
      "metadata": {
        "id": "DHHvq0bsJh2f"
      }
    },
    {
      "cell_type": "markdown",
      "source": [
        "[Neil Turok - Some progress towards the Path Integral for Gravity](https://youtu.be/L17Cx-iD8uU)"
      ],
      "metadata": {
        "id": "4VPAPdz4YVeG"
      }
    },
    {
      "cell_type": "markdown",
      "source": [
        "https://de.m.wikipedia.org/wiki/Quantengravitation\n",
        "\n",
        "https://www.spektrum.de/news/quantengravitation-woraus-besteht-die-raumzeit/2007706\n",
        "\n",
        "Quantengravitationstheoretikerin Alejandra Castro von der Universität Amsterdam.\n",
        "\n",
        "*Supersymmetry (String Theory & AdS/CFT correspondence): Electroweak + Strong Nuclear Force + Gravitation ('Theory of Everything')*\n",
        "\n",
        "> **Quantum Field Theory and General Relativity are extremely well tested, but cannot be combined. This is a problem at things like Black Holes and Big Bang.**\n",
        "\n",
        "* Two electrons a centimeter apart would feel a repulsion from their electric charges, but attract each other due to their mutual gravity.\n",
        "\n",
        "* But the **force from the electric charge is $10^{24}$ higher than the attraction they feel from gravity**. That's 24 orders of magnitude bigger.\n",
        "\n",
        "* So any effect of gravity is lost down in the tenth forth decimal place of the electrostatic force. An incredible small effect.\n",
        "\n",
        "* So to test quantum gravity you need places with a huge amount of matter squeezed into very small volumes, which are always very high energy situations, like back holes or the Big Bang.\n",
        "\n",
        "* These are things we cannot create experimentally with our current technology.  To get to these energies we would need a particle accelerator like CERN, but the size of the solar system and with detectors the size of Jupiter. And to create enough energy to test quantum gravity, the experiment would actually end up turning into a black hole.\n",
        "\n",
        "* Currently we study this by using Gravitational Wave Astronomy (for Black Holes) and study the Cosmic Microwave Background (for Big Bang).\n",
        "\n",
        "**Quantum field theory in curved space time**\n",
        "\n",
        "* https://en.m.wikipedia.org/wiki/Physical_cosmology\n",
        "\n",
        "* https://en.m.wikipedia.org/wiki/Quantum_cosmology\n",
        "\n",
        "* https://en.m.wikipedia.org/wiki/Causal_sets\n",
        "\n",
        "* https://en.m.wikipedia.org/wiki/Quantum_gravity\n",
        "\n",
        "* It is conceivable that, in the correct theory of quantum gravity, the infinitely many unknown parameters will reduce to a finite number that can then be measured. One possibility is that normal perturbation theory is not a reliable guide to the renormalizability of the theory, and that there really is a UV fixed point for gravity.\n",
        "\n",
        "* Since this is a question of non-perturbative quantum field theory, finding a reliable answer is difficult, pursued in the asymptotic safety program.\n",
        "\n",
        "* https://en.m.wikipedia.org/wiki/Background_independence\n",
        "\n",
        "* https://en.m.wikipedia.org/wiki/Composite_gravity\n",
        "\n",
        "* https://en.m.wikipedia.org/wiki/Effective_field_theory\n",
        "\n",
        "* https://en.m.wikipedia.org/wiki/Quantum_field_theory_in_curved_spacetime\n",
        "\n",
        "* Video: [Quantum Gravity | The Search For a Theory of Everything](https://www.youtube.com/watch?v=d-86tNCSJsg&t=241s)\n",
        "\n",
        "* Video: [Quantum Gravity: How quantum mechanics ruins Einstein's general relativity](https://www.youtube.com/watch?v=S3Wtat5QNUA)\n",
        "\n",
        "* Video: [Quantum Gravity and the Hardest Problem in Physics | Space Time](https://www.youtube.com/watch?v=YNEBhwimJWs)\n",
        "\n",
        "* Video: [Quantum Gravity / Fermilab](https://www.youtube.com/watch?v=CbPWYjnQIO8)\n",
        "\n",
        "* https://en.m.wikipedia.org/wiki/Supersymmetric_theory_of_stochastic_dynamics\n",
        "\n",
        "* https://en.m.wikipedia.org/wiki/Higher-dimensional_supergravity\n",
        "\n",
        "* https://en.m.wikipedia.org/wiki/Supergravity\n",
        "\n",
        "* https://de.m.wikipedia.org/wiki/Weltformel\n",
        "\n",
        "**Graviton**\n",
        "\n",
        "* [Gravitons](https://de.m.wikipedia.org/wiki/Graviton) are tiny compared to a gravitational wave. Currently too small to be seen by Ligo and Virgo gravitational wave detectors\n",
        "\n",
        "* perhaps it will be impossible because we need to detect changes smaller than a Planck length 1.616255(18)x$10^{-35}$ meters, which is impossible according to quantum mechanics\n",
        "\n",
        "**Supersymmetry**\n",
        "\n",
        "* [Supersymmetry](https://en.m.wikipedia.org/wiki/Supersymmetry) is an integral part of string theory, a possible theory of everything.\n",
        "\n",
        "> Supersymmetrie: Vereinigung der Bosonen mit den Fermionen\n",
        "\n",
        "* Die [Supersymmetrie](https://de.m.wikipedia.org/wiki/Supersymmetrie) ist eine hypothetische Symmetrie der Teilchenphysik, die Bosonen (Teilchen mit ganzzahligem Spin) und Fermionen (diese haben halbzahligen Spin) ineinander umwan. delt und die dadurch das gleiche Energiespektrum haben.\n",
        "\n",
        "* Die Supersymmetrie verbindet ein Teilchen mit seinem Superpart. ner. Die einfachste Realisierung einer Supersymmetrie findet man in eindimensionalen quantenmechanischen Systemen mit Hamilton-Operatoren:\n",
        "\n",
        "> $\n",
        "\\hat{H}_{+}=\\hat{A}^{\\dagger} \\hat{A}, \\quad \\hat{H}_{-}=\\hat{A} \\hat{A}^{\\dagger}\n",
        "$ (Theoretical Physics book, Page 876)\n",
        "\n",
        "* https://en.m.wikipedia.org/wiki/Minimal_Supersymmetric_Standard_Model\n",
        "\n",
        "* The Minimal Supersymmetric Standard Model (MSSM) **is an extension to the Standard Model** that realizes supersymmetry.\n",
        "\n",
        "*  [Supersymmetry](https://en.m.wikipedia.org/wiki/Supersymmetry) is a [spacetime symmetry](https://en.m.wikipedia.org/wiki/Spacetime_symmetries) between two basic classes of particles:\n",
        "* bosons, which have an integer-valued spin and follow Bose–Einstein statistics, and\n",
        "* fermions, which have a half-integer-valued spin and follow Fermi–Dirac statistics.\n",
        "\n",
        "* https://en.m.wikipedia.org/wiki/Supersymmetry_algebra\n",
        "\n",
        "**ADS-CFT Correspondance & Holografisches Prinzip**\n",
        "\n",
        "* https://en.m.wikipedia.org/wiki/AdS/CFT_correspondence\n",
        "\n",
        "**String Theory / M Theory** (incl. Supersymmetry and AdS/CFT correspondence)\n",
        "\n",
        "* https://en.m.wikipedia.org/wiki/String_theory\n",
        "\n",
        "* Im Gegensatz zum Standardmodell der Teilchenphysik sind bei der Stringtheorie die bei fundamentalen Bausteine der Welt keine punktförmigen Teilchen, sondern vibrierende eindimensionale Objekte. Diese werden als „Strings\" bezeichnet. Die Elementarteilchen sin Schwingungsanregungen der Strings.\n",
        "\n",
        "**Loop Quantum Gravity**\n",
        "\n",
        "* https://de.m.wikipedia.org/wiki/Schleifenquantengravitation\n",
        "\n",
        "**Topological quantum field theory**\n",
        "\n",
        "* https://en.m.wikipedia.org/wiki/Topological_quantum_field_theory\n",
        "\n",
        "* Quantum gravity is believed to be background-independent (in some suitable sense), and TQFTs provide examples of background independent quantum field theories. This has prompted ongoing theoretical investigations into this class of models.\n"
      ],
      "metadata": {
        "id": "YgboF2J3nKOl"
      }
    },
    {
      "cell_type": "markdown",
      "source": [
        "###### *Are gravity and spacetime emergent phanomena?*"
      ],
      "metadata": {
        "id": "fP_EL_HY_Xew"
      }
    },
    {
      "cell_type": "markdown",
      "source": [
        "*Are gravity and spacetime emergent phanomena?*\n",
        "\n",
        "* **It from Qubit**: Does spacetime emerge from entanglement? Can quantum computers simulate all physical phenomena? [Simons Collaboration on Quantum Fields, Gravity, and Information](https://web.stanford.edu/~phayden/simons/overview.pdf)\n",
        "* **Does gravity come from quantum information?** Paper: [Gravity from Quantum Information](https://arxiv.org/abs/1001.5445). The Einstein equation describes an information-energy relation during this process, which implies that entropic gravity is related to the quantum entanglement of the vacuum and has a quantum information theoretic origin.\n",
        "* **Can Gravity be emergent?** Video: [Ads/CFT correspondence and holographic Principle](https://www.youtube.com/watch?v=uj6wrT0nSZg): is entanglement on the boundary (since it determines  geometry within) causing gravity in 3d holographic universe? Idea comes from holographic Principle and Ads/CFT correspondence. It suggests that gravity in anti de sitter space might emerge from entanglement structure on its boundary.\n",
        "* **Spacetime is maybe emergent phenomena** (Unitarity 2.0: Isometry): [Physicists Rewrite a Quantum Rule That Clashes With Our Universe](https://www.quantamagazine.org/physicists-rewrite-a-quantum-rule-that-clashes-with-our-universe-20220926/): Isometrie, Amplituhedron und quantenphysik: [amplituhedron](https://de.m.wikipedia.org/wiki/Amplituhedron ) does not explicitly contain any notion of spacetime. Instead, it is a purely mathematical object. This suggests that spacetime may be an emergent phenomenon, arising from the geometry of the amplituhedron.\n",
        "  * There are many different amplituhedra that can be used to describe the scattering of the same particles. This suggests that spacetime may not be a fundamental property of the universe, but rather a way of organizing our observations of the amplituhedron.\n",
        "* Nota bene: AdS/CFT correspondence, which emerged from string theory, posits a “duality” between two extremely different-looking kinds of theories. On one side of the duality is AdS (Anti de Sitter): a theory of quantum gravity for a hypothetical universe that has a negative cosmological constant, effectively causing the whole universe to be surrounded by a reflecting boundary. On the other side is a CFT (Conformal Field Theory): an “ordinary” quantum field theory, without gravity, that lives only on the boundar y of the AdS space. The [AdS/CFT correspondence](https://www.pbs.org/wgbh/nova/article/holograms-black-holes-and-the-nature-of-the-universe/) , for which there’s now overwhelming evidence (though not yet a proof), says that any question about what happens in the AdS space can be translated into an “equivalent” question about the CFT, and vice versa. “Even if a quantum gravity theory seems ‘wild’—even if it involves nonlocality, wormholes, and other exotica—there might be a dual description of the theory that’s more ‘tame,’ and that’s more amenable to simulation by a quantum computer.”\n",
        "\n",
        "*Non-locality in Bell-theorem is proven. Does at least superdeterminism exist?*\n",
        "\n",
        "* Violation Bell ineuqlity experiment in 2015. it closed Locatility loophole and detection loophole - physicao reality of entsnglemenr proven. open: [superdeterminism](https://en.m.wikipedia.org/wiki/Superdeterminism)."
      ],
      "metadata": {
        "id": "hrzdeyoD_Z8J"
      }
    }
  ]
}