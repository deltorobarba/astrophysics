{
  "nbformat": 4,
  "nbformat_minor": 0,
  "metadata": {
    "colab": {
      "provenance": [],
      "collapsed_sections": [
        "86rBYa_u4urx",
        "JgPN5UHup5lH",
        "CBU1tb4vs16v",
        "WikX85R-r4I2",
        "bkXljK6xhBPG",
        "Cqusdv76O-Bx",
        "0MXqdUuKJZ37",
        "PFZKZOdMPBfF",
        "0IdZ1gStv7HP",
        "3cyZhA5TuEuW",
        "l_kkJp3mtIyD",
        "qoluFPb7O8Vv",
        "JC96LcJUvxwY",
        "w4FmSc4QvQsY",
        "ON5x3x5CPe7d",
        "jK7vTB6GIQpe",
        "QaGfSVYXp_gy",
        "Y7EMAgb2PJDH",
        "6Z0vHScrO3Nw",
        "ut_14zjENSyM",
        "QFiC9iq1uchk",
        "KcuadzY1rHe3",
        "hrYb8_OIPhhO",
        "r2-fNN88Cb7S",
        "NxI60357-N2l",
        "J4ZBVKqKqAbk",
        "vOqtFAy5GKtG",
        "OnneO2AhgoGY",
        "uM9V1BBQGHTy",
        "crQgUFkRk-XB",
        "6uUn645o-PmN",
        "EkdQBmsWyXyQ",
        "NpX_msD1vmi-",
        "-bgPYHGr1kCz",
        "EV6x8bY7pvDP",
        "WnAvpRxbPSwU",
        "1Amg0O9YxNcY"
      ],
      "include_colab_link": true
    },
    "kernelspec": {
      "name": "python3",
      "display_name": "Python 3"
    },
    "language_info": {
      "name": "python"
    }
  },
  "cells": [
    {
      "cell_type": "markdown",
      "metadata": {
        "id": "view-in-github",
        "colab_type": "text"
      },
      "source": [
        "<a href=\"https://colab.research.google.com/github/deltorobarba/sciences/blob/master/machinelearning.ipynb\" target=\"_parent\"><img src=\"https://colab.research.google.com/assets/colab-badge.svg\" alt=\"Open In Colab\"/></a>"
      ]
    },
    {
      "cell_type": "markdown",
      "source": [
        "# <font color=\"blue\">**Machine Learning**"
      ],
      "metadata": {
        "id": "xEVSiuftty-3"
      }
    },
    {
      "cell_type": "markdown",
      "source": [
        "![ggg](https://raw.githubusercontent.com/deltorobarba/repo/master/sciences_1000.png)"
      ],
      "metadata": {
        "id": "YiqcrmGetjeG"
      }
    },
    {
      "cell_type": "markdown",
      "source": [
        "Video: [Attention in Transformers](https://youtu.be/eMlx5fFNoYc?si=C7mPpdqouDtZpDN5)"
      ],
      "metadata": {
        "id": "RXwcRdnpNXKj"
      }
    },
    {
      "cell_type": "markdown",
      "source": [
        "Formal Aspects of Language Modeling\n",
        "Ryan Cotterell, Anej Svete, Clara Meister, Tianyu Liu and Li Du\n",
        "Thursday 9th November, 2023"
      ],
      "metadata": {
        "id": "OmZK-lF9zgGl"
      }
    },
    {
      "cell_type": "markdown",
      "source": [
        "##### <font color=\"blue\">*Foundation Model*"
      ],
      "metadata": {
        "id": "86rBYa_u4urx"
      }
    },
    {
      "cell_type": "markdown",
      "source": [
        "A foundation model development cheatsheet, from foundation model developers.\n",
        "\n",
        "The folks over at EleutherAI, in collaboration with MIT, AI2, HuggingFace, Stanford, Princeton, and more, have released the foundation model development cheatsheet, a quick-start guide to familiarize new developers with useful tools and resources for developing new open models.\n",
        "\n",
        "You can use it to easily find, for example, pre-training data sources, tools and frameworks for data preparation, model training, model evaluation, and more.\n",
        "\n",
        "This is a great initiative aligned with EleutherAI's mission to lower barriers to entry of research and development of foundation models.\n",
        "\n",
        "Cheat sheet (interactive): https://fmcheatsheet.org/\n",
        "Github repo: https://lnkd.in/dSDkbY-K\n",
        "Paper: https://lnkd.in/d5DRns4i\n",
        "Blog: https://lnkd.in/dg4drU_3"
      ],
      "metadata": {
        "id": "E433hvia4xsD"
      }
    },
    {
      "cell_type": "markdown",
      "source": [
        "##### <font color=\"blue\">*Finetune LLMs*"
      ],
      "metadata": {
        "id": "JgPN5UHup5lH"
      }
    },
    {
      "cell_type": "markdown",
      "source": [
        "The mixer of Experts(MOE) — Modern architecture for divide and concur learning\n",
        "\n",
        "https://medium.com/@sthanikamsanthosh1994/the-mixer-of-experts-moe-modern-architecture-for-divide-and-concur-learning-dbe10ffa8436"
      ],
      "metadata": {
        "id": "dgUkkXpDvYie"
      }
    },
    {
      "cell_type": "markdown",
      "source": [
        "###### *Overview*"
      ],
      "metadata": {
        "id": "CBU1tb4vs16v"
      }
    },
    {
      "cell_type": "markdown",
      "source": [
        "![sciences](https://raw.githubusercontent.com/deltorobarba/repo/master/sciences_1704.png)"
      ],
      "metadata": {
        "id": "2WTi1ggcqbc2"
      }
    },
    {
      "cell_type": "markdown",
      "source": [
        "*Finetuning LLMs*\n",
        "\n",
        "* Supervised\n",
        "* RLHF\n",
        "* Distillation\n",
        "* deprecated: Parameter-Efficient Fine-Tuning using PEFT: https://arxiv.org/abs/2312.12148\n",
        "* pending (?): Lora and QLora\n",
        "\n",
        "https://www.analyticsvidhya.com/blog/2023/08/fine-tuning-large-language-models/\n",
        "\n",
        "https://www.deeplearning.ai/short-courses/finetuning-large-language-models/"
      ],
      "metadata": {
        "id": "XEjwjS3Lsp2s"
      }
    },
    {
      "cell_type": "markdown",
      "source": [
        "###### <font color=\"orange\">*Parameter efficient Turning (PEFT)*"
      ],
      "metadata": {
        "id": "WikX85R-r4I2"
      }
    },
    {
      "cell_type": "markdown",
      "source": [
        "https://cloud.google.com/vertex-ai/docs/generative-ai/models/tune-text-models-supervised"
      ],
      "metadata": {
        "id": "TqEuagbhr7fP"
      }
    },
    {
      "cell_type": "markdown",
      "source": [
        "* This is a good primer go/parameter-efficient-tuning-primer\n",
        "* what I didn't get very well is why the candidate related int-8 with LoRA tuning\n",
        "* for hosting on CPU\n",
        "* I think the candidate mixed-up things\n",
        "* LoRA tuning is to do fine-tuning efficiently by just changing some of the weights inside the model. The amount of weights to change is decided by its rank, currently in Vertex we only offer rank 1, but this is hidden. OpenAI offers a way larger rank, and it's more powerful\n",
        "* there's QLoRA as well for quantized models.\n",
        "* What actually reduces memory is quantization, and there you can go to int-8 and host it inCPU if the model permits it\n",
        "* In fact, gemini-pro and bison@002 are quantized\n",
        "* obviously as these are bigs the quantization still requires a good amount of TPUs 😀\n"
      ],
      "metadata": {
        "id": "rE0R1YjchIO6"
      }
    },
    {
      "cell_type": "markdown",
      "source": [
        "###### $\\hookrightarrow$ *Prompt Engineering (incl. Chain-of-Thoughts - CoT)*"
      ],
      "metadata": {
        "id": "bkXljK6xhBPG"
      }
    },
    {
      "cell_type": "markdown",
      "source": [
        "https://ploomber.io/blog/prompt-engineering-techniques/"
      ],
      "metadata": {
        "id": "gQtUYa9whALK"
      }
    },
    {
      "cell_type": "markdown",
      "source": [
        "https://arxiv.org/abs/2401.14423 Prompt Design and Engineering: Introduction and Advanced Methods"
      ],
      "metadata": {
        "id": "caVuz9hgGMIL"
      }
    },
    {
      "cell_type": "markdown",
      "source": [
        "Prompt Engineering: Längere \"Chain of Thoughts\" verbessern die Leistung von Sprachmodellen\n",
        "\n",
        "https://the-decoder.de/prompt-engineering-laengere-chain-of-thoughts-verbessern-die-leistung-von-sprachmodellen/"
      ],
      "metadata": {
        "id": "LPk_jDKukQNj"
      }
    },
    {
      "cell_type": "markdown",
      "source": [
        "###### $\\hookrightarrow$ *Low-Rank Adaptation (Lora and qLora)*"
      ],
      "metadata": {
        "id": "Cqusdv76O-Bx"
      }
    },
    {
      "cell_type": "markdown",
      "source": [
        "Just wrote a new article on \"Improving LoRA: Implementing Weight-Decomposed Low-Rank Adaptation (DoRA) from Scratch\": https://magazine.sebastianraschka.com/p/lora-and-dora-from-scratch\n"
      ],
      "metadata": {
        "id": "wBbEKuA9zESS"
      }
    },
    {
      "cell_type": "markdown",
      "source": [
        "qLora and Lora to move from floating to integers in models (can damage a bit performance but still acceptable), but we can use then CPUs to train some of these models instead of only GPUs.\n",
        "\n",
        "can one use qLora and Lora to move from floating to integers in LLM models in order to use CPUs to train LLMs instead of only GPUs.\n",
        "\n",
        "Yes, qLora and Lora are techniques that can potentially enable the use of CPUs for training large language models (LLMs) by moving from floating-point to integer representations. Here's a breakdown of how this works and the considerations involved:\n",
        "\n",
        "**Traditional LLM Training and GPUs**\n",
        "\n",
        "* **Floating-point precision:** LLMs are typically trained using floating-point numbers (e.g., float32) because they offer a wide dynamic range necessary to represent the subtle gradients and relationships between parameters during the learning process.\n",
        "* **GPU advantage:** GPUs are highly optimized for parallel computations involving floating-point numbers. This makes them significantly faster than CPUs for traditional LLM training.\n",
        "\n",
        "**qLora and Lora for CPU Training**\n",
        "\n",
        "* **Quantization:** qLora (quantized Lora) is a method for reducing the precision of LLM parameters. Instead of storing them as full 32-bit floating-point numbers, it's possible to represent them using lower-precision integers (e.g., 8-bit integers). This drastically reduces memory footprint and computational cost.\n",
        "* **Lora:** Lora (Low-Rank Adaptation) is a technique that decomposes weight matrices in LLMs into smaller, more manageable components. This decomposition can then be exploited during quantization for efficiency.\n",
        "* **CPU efficiency:**  By reducing the memory and computational requirements through quantization, it becomes feasible to train, or at least perform inference of, LLMs on CPUs, which are more generally available and cost-effective than GPUs in many scenarios.\n",
        "\n",
        "**Challenges and Considerations**\n",
        "\n",
        "* **Accuracy trade-off:** Quantization generally leads to a slight loss in model accuracy compared to full-precision floating-point representations. The goal is to find the right balance between quantization level and acceptable performance.\n",
        "* **Optimization:** Techniques like qLora and Lora are relatively new, and ongoing research is focused on making them more efficient and minimizing the accuracy loss.\n",
        "* **Deployment:**  If you aim to deploy a quantized LLM on CPUs,  you'll likely need specialized software and hardware support to ensure optimal performance.\n",
        "\n",
        "**In Conclusion**\n",
        "\n",
        "qLora and Lora offer a promising path towards making LLM training and inference more accessible by potentially allowing the use of CPUs. However, it's essential to be aware of the potential accuracy trade-offs and the fact that this field is still under active development.\n",
        "\n",
        "**Let me know if you'd like more details on any specific aspect or have another related question!**\n"
      ],
      "metadata": {
        "id": "1kQP9sfnhvO2"
      }
    },
    {
      "cell_type": "markdown",
      "source": [
        "*Lora*\n",
        "\n",
        "\"𝗟𝗼𝗥𝗔, which stands for Low-Rank Adaptation, is a popular technique to finetune #llms more efficiently. Instead of adjusting all the parameters of a deep neural network, LoRA focuses on updating only a small set of low-rank matrices.\"\n",
        "\n",
        "https://lightning.ai/lightning-ai/studios/code-lora-from-scratch?utm_source=tldrai\n",
        "\n",
        "  * LoRA: Low-Rank Adaptation of Large Language Models\n",
        "  * Edward J. Hu*, Yelong Shen*, Phillip Wallis, Zeyuan Allen-Zhu, Yuanzhi Li, Shean Wang, Lu Wang, Weizhu Chen\n",
        "  * Paper: https://arxiv.org/abs/2106.09685\n",
        "  * Video explainer: https://www.youtube.com/watch?v=DhRoTONcyZE\n",
        "  * https://github.com/microsoft/LoRA"
      ],
      "metadata": {
        "id": "n3TCWKhJZvRc"
      }
    },
    {
      "cell_type": "markdown",
      "source": [
        "###### $\\hookrightarrow$ *Dora*"
      ],
      "metadata": {
        "id": "0MXqdUuKJZ37"
      }
    },
    {
      "cell_type": "markdown",
      "source": [
        "While everyone is talking about Sora, there's a potential successor to LoRA (low-rank adaptation) called DoRA. Here's a closer look at the \"DoRA: Weight-Decomposed Low-Rank Adaptation\" paper: https://arxiv.org/abs/2402.09353\n",
        "LoRA is probably the most widely used parameter-efficient finetuning method for LLMs and vision transformers, and DoRA can be seen as an improvement or extension of LoRA that is built on top of it.\n",
        "\n",
        "A brief LoRA recap: Assuming we have pretrained model weights W, LoRA uses low-rank matrices to approximate weight changes ΔW. I.e., in regular finetuning we have W' = W + ΔW, and in LoRA, we approximate ΔW with BA.\n",
        "\n",
        "Now, the DoRA method first decomposes the pretrained weight matrix into a magnitude vector (m) and a directional matrix (V). Then, it takes the directional matrix V and applies standard LoRA to it, i.e., W' = m (V + ΔV)/norm = m (W + BA)/norm.\n",
        "\n",
        "The motivation for developing this method is based on analyzing and comparing the LoRA and full finetuning learning patterns. They found that LoRA either increases or decreases magnitude and direction updates proportionally but seems to lack the capability of making only subtle directional changes as found in full finetuning. Hence, the researchers propose the decoupling of magnitude and directional components. In other words, their DoRA method aims to apply LoRA only to the directional component (while also allowing the magnitude component to be trained separably.)\n",
        "\n",
        "Note that introducing the magnitude vector m in DoRA adds 0.01% more parameters than standard LoRA. However, across both LLM and vision transformer benchmarks, they found that DoRA even outperforms LoRA if the DoRA rank is halved, i.e., when DoRA only uses half the parameters of regular LoRA.\n",
        "\n",
        "Overall, I am actually quite impressed by the results and need to toy with this method in practice. It should not be too big of a lift to upgrade a LoRA implementation to DoRA."
      ],
      "metadata": {
        "id": "Z4vmfiEHJdKu"
      }
    },
    {
      "cell_type": "markdown",
      "source": [
        "###### $\\hookrightarrow$ (?) *Proxy-tuning*"
      ],
      "metadata": {
        "id": "PFZKZOdMPBfF"
      }
    },
    {
      "cell_type": "markdown",
      "source": [
        "*Proxy-tuning*\n",
        "\n",
        "Proxy-tuning is a way to adapt LLMs without changing the model's weights. This is especially attractive if a given LLM is too resource-intensive to train or if a user doesn't have access to the LLM's weights.\n",
        "Following up on the proxy-tuning paper discussion from last week, I implemented it in code and gave it a try. It actually works!\n",
        "\n",
        "In a nutshell, it works like this:\n",
        "\n",
        "1. Select a base LLM (e.g., an untuned 7B Llama 2 model) smaller and cheaper than the target LLM (e.g., a 10x larger, untuned 70B Llama 2 model).\n",
        "\n",
        "2. Finetune this smaller base LLM to obtain a small finetuned LLM (e.g., instruction-finetune a 7B Llama 2 model to get a finetuned 7B model).\n",
        "\n",
        "3. Compute the output difference between the base model (step 1) and the tuned model (step 2).\n",
        "\n",
        "4. Add this difference in outputs to the target LLM's outputs.\n",
        "\n",
        "5. Normalize the modified outputs from step 4, and then generate the answer.\n",
        "\n",
        "I tried the following query:\n",
        "\n",
        "\"If I have 5 apples and eat 2, but then find 3 more on my way home, how many do I have?\"\n",
        "\n",
        "The proxy-tuned model was indeed able to answer correctly, whereas the base models failed: \"You start with 5 apples and eat 2, so you have 5 - 2 = 3 apples left. Then, you find 3 more apples on your way home, so you have 3 + 3 = 6 apples in total.\"\n",
        "\n",
        "Using the same approach, it was also possible to give Llama 2 13B coding abilities via CodeLlama 7B.\n",
        "\n",
        "More details and code in my write-up and associated code Studio:\n",
        "\n",
        "https://lightning.ai/lightning-ai/studios/improve-llms-with-proxy-tuning?view=public"
      ],
      "metadata": {
        "id": "RJJgo0tk_4aQ"
      }
    },
    {
      "cell_type": "markdown",
      "source": [
        "While proxy-tuning and prompting have connections and some potential overlap, they are not precisely the same approach. Here's a breakdown of the differences and where they might intersect:\n",
        "\n",
        "**Proxy-Tuning**\n",
        "\n",
        "* **Core Focus:** Parameter-efficient fine-tuning of large language models (LLMs). The goal is to adapt a pre-trained LLM to a new task without fully fine-tuning its vast number of parameters.\n",
        "* **Mechanism:** Introduces a small set of learnable \"proxy\" parameters. These might be:\n",
        "    * Additional vectors that learn relationships between input embeddings.\n",
        "    * Small adapter modules placed between layers of the LLM.\n",
        "* **Advantage:** Reduces computational cost and memory footprint of fine-tuning compared to training the entire LLM.\n",
        "\n",
        "**Prompting**\n",
        "\n",
        "* **Core Focus:** Eliciting a desired response or behavior from an LLM by carefully crafting the input text.  Prompts include instructions, examples, or textual structures that guide the model's generation.\n",
        "* **Mechanism:** No internal model parameters are directly modified.  Prompts guide the LLM to use its pre-existing knowledge and abilities to complete the task.\n",
        "* **Advantage:** Highly flexible and can be applied to a wide range of tasks without fine-tuning.\n",
        "\n",
        "**Connections and Overlaps**\n",
        "\n",
        "* **Semantic Tuning:**  Proxy-tuning could be employed with  prompts that have rich semantic representations. This fine-tuning could refine the proxy parameters to better  align with complex queries or instructions provided in the prompts.\n",
        "* **Prompt Design as Lightweight Fine-tuning:** Sometimes,  prompting involves finding prompts that essentially 'trick' the LLM into performing a task it  wasn't explicitly trained for.  This fine-grained task adaptation through crafting prompts can have a similar spirit to proxy-tuning, in the sense that both aim to modify how the LLM behaves without major internal changes.\n",
        "\n",
        "**In Summary**\n",
        "\n",
        "Proxy-tuning and prompting are distinct but complementary techniques. Proxy-tuning focuses on efficient internal parameter modification of LLMs. Prompting focuses on steering model output through clever input design.  There could be interesting potential in the use of these two approaches together."
      ],
      "metadata": {
        "id": "Ej7C082gtwyT"
      }
    },
    {
      "cell_type": "markdown",
      "source": [
        "###### <font color=\"orange\">*Adapter Tuning*"
      ],
      "metadata": {
        "id": "0IdZ1gStv7HP"
      }
    },
    {
      "cell_type": "markdown",
      "source": [
        "https://cloud.google.com/vertex-ai/docs/generative-ai/models/tune-models"
      ],
      "metadata": {
        "id": "1etW7dnRGOp0"
      }
    },
    {
      "cell_type": "markdown",
      "source": [
        "https://services.google.com/fh/files/misc/adaptation_of_foundation_models_whitepaper_google_cloud.pdf"
      ],
      "metadata": {
        "id": "6QyPscgUGCu-"
      }
    },
    {
      "cell_type": "markdown",
      "source": [
        "https://magazine.sebastianraschka.com/p/finetuning-llms-with-adapters"
      ],
      "metadata": {
        "id": "_-8jp5b6FbOJ"
      }
    },
    {
      "cell_type": "markdown",
      "source": [
        "https://arxiv.org/abs/2106.03164 On the Effectiveness of Adapter-based Tuning for Pretrained Language Model Adaptation"
      ],
      "metadata": {
        "id": "i5vNXkQPF0d3"
      }
    },
    {
      "cell_type": "markdown",
      "source": [
        "Here's a breakdown of Adapter Tuning, its advantages, and how it works:\n",
        "\n",
        "**What is Adapter Tuning?**\n",
        "\n",
        "Adapter tuning is a technique used to fine-tune large language models (LLMs) for new tasks more efficiently. Here's the core idea:\n",
        "\n",
        "* **Pre-trained Models:** Large language models have been trained on vast amounts of text data, giving them a deep understanding of language patterns.\n",
        "* **Bottleneck:** Fine-tuning these massive models to a specific task (like question answering or translation) often means updating millions or billions of parameters, which is computationally expensive and time-consuming.\n",
        "* **Adapters to the Rescue:** Adapter tuning introduces compact \"adapter\" modules (small sets of new neural network layers) within the pre-trained model's architecture.  Instead of updating the entire model, only the parameters within these adapters are trained for the new task.\n",
        "\n",
        "**Advantages of Adapter Tuning**\n",
        "\n",
        "* **Efficiency:** Adapter tuning greatly reduces the number of parameters needing updates, making fine-tuning significantly faster and less computationally demanding.\n",
        "* **Preserving Knowledge:** By freezing most of the original model's weights, adapter tuning preserves the language knowledge the model has acquired during pre-training.\n",
        "* **Multi-Task Learning:** A single pre-trained model can have multiple adapters, each trained for a different task. This allows the model to switch between tasks easily without needing to retrain the entire model.\n",
        "\n",
        "**How Adapter Tuning Works**\n",
        "\n",
        "1. **Pre-trained Model:** Start with a large, pre-trained language model.\n",
        "2. **Insert Adapters:** Add small adapter modules (new layers) between existing layers of the pre-trained model.\n",
        "3. **Freeze the Original Model:** Keep the weights of the pre-trained model frozen.\n",
        "4. **Train the Adapters:** Train only the parameters of the newly added adapters on the data for the specific task at hand.\n",
        "\n",
        "**In Summary**\n",
        "\n",
        "Adapter tuning is a clever way to fine-tune large language models. It saves time and computing resources, maintains the model's core knowledge, and facilitates efficient multi-task capabilities.\n",
        "\n",
        "**Let me know if you'd like a more technical explanation or examples of how adapter tuning is used!**\n"
      ],
      "metadata": {
        "id": "dfCkiw8zwImy"
      }
    },
    {
      "cell_type": "markdown",
      "source": [
        "###### *ASPIRE*"
      ],
      "metadata": {
        "id": "3cyZhA5TuEuW"
      }
    },
    {
      "cell_type": "markdown",
      "source": [
        "https://blog.research.google/2024/01/introducing-aspire-for-selective.html"
      ],
      "metadata": {
        "id": "DPpnWeV-uGA7"
      }
    },
    {
      "cell_type": "markdown",
      "source": [
        "Yes! \"Adaptation with Self-Evaluation to Improve Selective Prediction in LLMs\" (ASPIRE) is primarily a framework for finetuning LLMs. Here's why:\n",
        "\n",
        "**Focus of ASPIRE:**\n",
        "\n",
        "* **Selective Prediction:**  ASPIRE aims to teach LLMs to evaluate their own output and decide whether to provide an answer or abstain (\"I don't know\"). This aligns with finetuning goals of improving model behavior rather than directly changing its architecture.\n",
        "* **Self-Evaluation:** The framework trains the LLM on target-task data to learn to assess its own predictions, rather than relying on external retrieval mechanisms.\n",
        "\n",
        "**How ASPIRE Finetunes LLMs:**\n",
        "\n",
        "ASPIRE involves finetuning a pre-trained LLM on a portion of question-answering datasets like CoQA. During finetuning, the model learns to output both an answer and a selection score. The selection score indicates the model's confidence in its answer.  This approach directly modifies the LLM's output behavior, aligning with finetuning.\n",
        "\n",
        "**Difference from RAG:**\n",
        "\n",
        "RAG (Retrieval-Augmented Generation) frameworks enhance LLMs by teaching them to retrieve relevant information from external sources during answer generation.  ASPIRE, in contrast, focuses on internal self-assessment.\n",
        "\n",
        "**ASPIRE vs. RLHF:**\n",
        "\n",
        "While both ASPIRE and RLHF (Reinforcement Learning from Human Feedback) aim to improve the quality and reliability of LLM responses, they differ in approach:\n",
        "\n",
        "* **RLHF:** Uses human feedback to directly reward desirable responses and penalize undesirable ones.\n",
        "* **ASPIRE:** Focuses on the LLM learning to evaluate itself based on data.\n",
        "\n",
        "**In conclusion, ASPIRE falls firmly within the domain of finetuning LLMs by teaching them the crucial skill of selective prediction.**\n"
      ],
      "metadata": {
        "id": "0qZ6IWEiuO_2"
      }
    },
    {
      "cell_type": "markdown",
      "source": [
        "###### <font color=\"orange\">*RHLF*"
      ],
      "metadata": {
        "id": "l_kkJp3mtIyD"
      }
    },
    {
      "cell_type": "markdown",
      "source": [
        "https://cloud.google.com/blog/products/ai-machine-learning/rlhf-on-google-cloud?hl=en\n",
        "\n",
        "https://cloud.google.com/vertex-ai/docs/generative-ai/models/tune-text-models-rlhf"
      ],
      "metadata": {
        "id": "iXpqxCF4lcDE"
      }
    },
    {
      "cell_type": "markdown",
      "source": [
        "**RLHF stands for \"Reinforcement Learning from Human Feedback\"**\n",
        "\n",
        "* is a crucial technique for improving the performance and alignment of these models. It involves a combination of methods that leverage human feedback to refine and guide the learning process of the model.\n",
        "\n",
        "* Here's how RLHF is applied to LLMs:\n",
        "\n",
        "1. **Supervised Fine-Tuning (SFT)**: Initially, the language model is trained on a large dataset of text from the internet. This phase is purely supervised learning, where the model learns to predict the next word in a sequence. However, this dataset might not perfectly represent desirable outputs, as it contains a wide range of materials, including low-quality or harmful content.\n",
        "\n",
        "2. **Reward Modeling**: After the initial training, human reviewers assess the outputs of the model, providing feedback on its responses. This feedback could be in the form of rankings, ratings, or direct corrections. This human feedback is then used to create a reward model. The reward model essentially predicts how a human would rate a given output, serving as a proxy for human judgment.\n",
        "\n",
        "3. **Proximal Policy Optimization (PPO)**: With the reward model in place, the LLM is further trained using reinforcement learning, specifically a method called Proximal Policy Optimization. In this phase, the model learns to generate outputs that are more likely to receive higher ratings from the reward model. This step is crucial for aligning the model's outputs with human values and preferences.\n",
        "\n",
        "4. **Iterative Refinement**: The process can be iterative, with further rounds of human feedback and model refinement. This ongoing interaction helps in continuously improving the quality and relevance of the model's responses, ensuring they align well with ethical guidelines, factual accuracy, and user expectations.\n",
        "\n",
        "Applying RLHF to LLMs is important for several reasons:\n",
        "\n",
        "- **Alignment with Human Values**: It helps ensure that the model's outputs are aligned with human ethical standards and societal norms.\n",
        "- **Reduction of Harmful Outputs**: By training the model with human feedback, it's possible to reduce the likelihood of generating unsafe, biased, or otherwise undesirable content.\n",
        "- **Enhanced Relevance and Utility**: Feedback-driven training can make the model more useful and relevant to users by focusing on generating high-quality, contextually appropriate responses.\n",
        "\n",
        "This approach represents a significant advancement in the development of more responsible and effective AI language models."
      ],
      "metadata": {
        "id": "iXz7p2YntKQ9"
      }
    },
    {
      "cell_type": "markdown",
      "source": [
        "###### *Direct Preference Optimization (DPO)*"
      ],
      "metadata": {
        "id": "qoluFPb7O8Vv"
      }
    },
    {
      "cell_type": "markdown",
      "source": [
        "**Direct Preference Optimization (DPO)**\n",
        "\n",
        "Interesting article from Andrew Ng about a new research paper that proposes DPO (direct preference optimization) over RLHF. A promise is that you won‘t need to deal with a separately represented reward function -- you just need the LLM transformer -- and you can train the LLM directly and more efficiently to optimize the same objective as RLHF. Enjoy the read 🤓🙌\n",
        "\n",
        "https://www.deeplearning.ai/the-batch/issue-231/\n",
        "\n",
        "https://browse.arxiv.org/html/2305.18290v2\n",
        "\n",
        "https://magazine.sebastianraschka.com/p/10-ai-research-papers-2023\n",
        "\n",
        "and here his thoughts more ind details in case you dont want to read the paper: https://magazine.sebastianraschka.com/p/llm-training-rlhf-and-its-alternatives\n",
        "\n",
        "\n",
        "Direct Preference Optimization (DPO) is pretty amazing. Surely, it can't be this straightforward to replace the whole reinforcement learning on human feedback (RLHF) phase?\n",
        "1. Treat a foundational (or instruction tuned) LLM\n",
        "as the reference LLM\n",
        "1.    Generate pairs of outputs to prompts and have humans choose which one they like (human feedback)\n",
        "2.    Add a linear layer to the LLM so that it outputs a scalar value, and tune this new model with a new loss function (compute log-ratio of scalar outputs of the reference LLM and the one being tuned, multiply by a divergence parameter ... -- very cool math insight here, but end-of-the-day this is just a new training loss function called dpo_loss or something that Keras and Pytorch will ship with)\n",
        "3.    Drop the last linear layer, and you have a fine tuned LLM on human feedback\n",
        "Amazing stuff. RLHF was the most dicey part of LLM training and the one that needed the most art vs science. Expect a lot of convergence between LLMs trained on the same data\n",
        "\n",
        "---\n",
        "\n",
        "Direct Preference Optimization (DPO) in the context of machine learning, and specifically for large language models (LLMs) like GPT-3 or GPT-4, is an approach that focuses on optimizing the model's outputs based directly on human preferences. This method is a part of the broader framework of Reinforcement Learning from Human Feedback (RLHF). Here's a closer look at how DPO works and its significance:\n",
        "\n",
        "1. **Collecting Human Preferences**: The first step in DPO involves gathering data on human preferences. This is typically done by presenting human reviewers with pairs of outputs generated by the model in response to the same prompt or query. The reviewers are then asked to indicate which of the two responses they prefer.\n",
        "\n",
        "2. **Training a Preference Model**: The collected preference data is used to train a preference model. This model learns to predict the likelihood of one output being preferred over another by humans. Essentially, it aims to understand and quantify what makes one response more favorable or acceptable than another.\n",
        "\n",
        "3. **Optimizing the Language Model**: Once the preference model is trained, it is used to guide the training of the language model. The language model is optimized to generate outputs that are more likely to align with the preferences indicated by humans. This optimization can be done using various techniques, including reinforcement learning algorithms.\n",
        "\n",
        "4. **Iterative Process**: Like other RLHF techniques, DPO is often iterative. The model's outputs can be continuously evaluated and compared by human reviewers, and the preference model can be updated based on new data. This leads to ongoing improvements in the language model's alignment with human preferences.\n",
        "\n",
        "The significance of DPO lies in its focus on aligning the model's outputs with what humans explicitly prefer. This is particularly important for applications where the quality of an output is subjective and can vary based on context and the specific needs or values of the user.\n",
        "\n",
        "For example, in a conversational AI, different users might have different preferences for the style, tone, and type of responses they find engaging or helpful. DPO allows the model to be tuned to these preferences, potentially leading to more personalized and satisfactory interactions.\n",
        "\n",
        "Overall, Direct Preference Optimization represents a powerful method for increasing the alignment of AI systems with human values, preferences, and expectations, thereby enhancing their usefulness, safety, and acceptance in various applications."
      ],
      "metadata": {
        "id": "5VEtMTUkQz3r"
      }
    },
    {
      "cell_type": "markdown",
      "source": [
        "###### <font color=\"orange\">*Distillation*"
      ],
      "metadata": {
        "id": "JC96LcJUvxwY"
      }
    },
    {
      "cell_type": "markdown",
      "source": [
        "https://cloud.google.com/vertex-ai/docs/generative-ai/models/distill-text-models"
      ],
      "metadata": {
        "id": "d5qpyD1AHvFj"
      }
    },
    {
      "cell_type": "markdown",
      "source": [
        "https://cloud.google.com/vertex-ai/docs/generative-ai/models/tune-models"
      ],
      "metadata": {
        "id": "v6w_qgUoGs4o"
      }
    },
    {
      "cell_type": "markdown",
      "source": [
        "https://cloud.google.com/vertex-ai/docs/generative-ai/models/tune-models#tune-distill"
      ],
      "metadata": {
        "id": "DstE8mSrGp7r"
      }
    },
    {
      "cell_type": "markdown",
      "source": [
        "Tuning and distillation - Distillation is a good option if you have a large model that you want to make smaller without degrading its ability to do what you want. The process of distilling a model creates a new, smaller trained model that costs less to use and has lower latency than the original model"
      ],
      "metadata": {
        "id": "M66NW8rjGlAT"
      }
    },
    {
      "cell_type": "markdown",
      "source": [
        "https://arxiv.org/pdf/1503.02531.pdf Distilling the Knowledge in a Neural Network"
      ],
      "metadata": {
        "id": "zvawWRmev2O1"
      }
    },
    {
      "cell_type": "markdown",
      "source": [
        "https://blog.research.google/2024/02/intervening-on-early-readouts-for.html?m=1"
      ],
      "metadata": {
        "id": "3jWTvDr-v0EX"
      }
    },
    {
      "cell_type": "markdown",
      "source": [
        "###### *Self-instruct*"
      ],
      "metadata": {
        "id": "w4FmSc4QvQsY"
      }
    },
    {
      "cell_type": "markdown",
      "source": [
        "Context - Consider a LLM use-case where we only have access to a handful of HQ few-shot examples that are not sufficient for a full fine-tuning (or even LoRA). Then, is it possible to use an LLM to generate similar examples that can then be used for fine-tuning the model?\n",
        "\n",
        "Concerns\n",
        "1) Model bias - using a model to generate examples and then fine-tuning it based on those sounds like a classic case of introducing bias.\n",
        "\n",
        "2) Role of fine-tuning - If the model is capable of generating the additional examples, then is fine-tuning even necessary? it seems like the model is already able to generalize to the use-case quite well.\n",
        "\n",
        "https://arxiv.org/pdf/2212.10560.pdf\n",
        "\n",
        "\n",
        "\n",
        "---\n",
        "Yes, this approach is quite effective for training.\n",
        "\n",
        "(1).  Yes, you need to ensure you aren't entrenching existing idiosyncrasies.  Typically this is done in one of three ways: (a) Human review+annotation of machine-generated examples or (b) spending more compute time at inference to generate+filter/select only the best examples for the next round of training, and discarding the low-quality generations.\n",
        "\n",
        "(2).  Generally, given enough time and temperature, all models are capable of generating anything (monkies on a typewriter).  The goal of additional training is always and exclusively to improve the quality of the results in a pass@1 fashion.  If you sample from pass@100, use additional compute to rank the results, and select the top 1% of generations for additional training, then you are increasingly biasing the model toward the highest quality results (which is the purpose of training).  It is true the model is already \"able to generalize to the use-case quite well if given enough compute\", but training is all about paying at training time in order to increase the ROI at inference time.\n",
        "\n",
        "---\n",
        "This sounds like go/datasynth. You can start with a few high quality examples and use LLMs to generate a synthetic dataset for fine-tuning. They also provide tools to mitigate bias you mentioned in #1 (e.g. diversity scores, topic visualizations, etc).  \n"
      ],
      "metadata": {
        "id": "Knw1fQeYvUUz"
      }
    },
    {
      "cell_type": "markdown",
      "source": [
        "Self-instruct is a fascinating technique in the realm of large language models (LLMs) that straddles the line between fine-tuning and augmentation. Here's what it entails:\n",
        "\n",
        "**Core Idea**\n",
        "\n",
        "Self-instruct aims to improve an LLM's ability to follow instructions and perform tasks by having it generate its own training data. Essentially, the LLM acts as both teacher and student.\n",
        "\n",
        "**The Process**\n",
        "\n",
        "1. **Task Generation:** The LLM is given a few initial examples of tasks and desired solutions. It then attempts to generate new, similar tasks itself.\n",
        "2. **Solution Generation:** The LLM also tries to provide solutions or completions to the tasks it has created.\n",
        "3. **Filtering:** Human experts or automated quality checks filter out poorly generated tasks and solutions.\n",
        "4. **Instruction Fine-tuning:** The remaining high-quality, self-generated data is used to fine-tune the LLM using instruction-following techniques.\n",
        "\n",
        "**Why It's Both Fine-tuning and Augmentation**\n",
        "\n",
        "* **Fine-tuning:**  Self-instruct directly modifies the LLM's parameters based on the data it generates, just like other fine-tuning processes. This refines its ability to execute instructions.\n",
        "* **Augmentation:** The main difference is that self-instruct augments the existing training process by creating a novel and customized dataset that caters specifically to the desired task format.\n",
        "\n",
        "**Benefits**\n",
        "\n",
        "* **Addresses Dataset Limitations:** Human-written instruction datasets are often limited in scale and diversity. Self-instruct expands these training resources.\n",
        "* **Reduces Expert Effort:** Creating large datasets manually is time-consuming. Self-instruct lessens the burden on human annotators.\n",
        "* **Iterative Improvement:** As the LLM becomes better at following instructions, its self-generated training data also improves, creating a positive feedback loop.\n",
        "\n",
        "**Example**\n",
        "\n",
        "Imagine you want the LLM to summarize articles.\n",
        "\n",
        "* **Initial Input:**  A few articles with provided human-written summaries.\n",
        "* **Self-Instruct:** The LLM generates new articles and creates summaries for them. These are filtered for quality.\n",
        "* **Fine-tuning:**  The LLM is fine-tuned on the self-generated dataset to improve its summarization skills.\n",
        "\n",
        "**Let me know if you'd like to delve into the technical details of self-instruct methods or want to explore practical applications!**\n"
      ],
      "metadata": {
        "id": "uXbRtyYZvWES"
      }
    },
    {
      "cell_type": "markdown",
      "source": [
        "###### *Token*"
      ],
      "metadata": {
        "id": "ON5x3x5CPe7d"
      }
    },
    {
      "cell_type": "markdown",
      "source": [
        "*Token*\n",
        "\n",
        "* basic unit of text representation.\n",
        "* sequences of characters that are treated as individual elements in the LLM's internal representation of the input text.\n",
        "* used to build up more complex language structures, such as words, phrases, and sentences.\n",
        "* Tokenization is the process of breaking down a piece of text into tokens. This can be done using various methods, such as word-level tokenization, character-level tokenization, or subword tokenization. The choice of tokenization method depends on the specific task and the characteristics of the input text.\n",
        "* LLMs use tokens to extract features from the input text and to generate output text. For example, when generating text, the LLM will consider the surrounding tokens to determine the most likely next word or phrase. Tokens also play a role in LLM performance evaluation. Evaluation metrics such as accuracy and F1 score are often calculated based on the similarity between predicted and ground truth tokens.\n",
        "  * Text-to-text translation: When translating a sentence from one language to another, the LLM breaks down the input sentence into tokens and then uses these tokens to generate the corresponding tokens in the target language.\n",
        "  * Text summarization: When summarizing a document, the LLM identifies the most important tokens in the document and then uses these tokens to generate a concise summary.\n",
        "  * Question answering: When answering a question about a text, the LLM extracts the relevant tokens from the text and uses these tokens to identify the answer to the question."
      ],
      "metadata": {
        "id": "C2x7aHgiWuOH"
      }
    },
    {
      "cell_type": "markdown",
      "source": [
        "I get better results with no training. See how, at https://mltblog.com/42l51rJ\n",
        "Eventually, I will add training: user based (self-tuning) rather than based on algorithms. Of course, fully automated and transparent to the user.\n"
      ],
      "metadata": {
        "id": "A0wqPksljzJ_"
      }
    },
    {
      "cell_type": "markdown",
      "source": [
        "###### *SLM (Small Language Model)*"
      ],
      "metadata": {
        "id": "jK7vTB6GIQpe"
      }
    },
    {
      "cell_type": "markdown",
      "source": [
        "https://the-decoder.de/microsoft-prognostiziert-drei-grosse-ki-trends-fuer-2024/\n",
        "\n"
      ],
      "metadata": {
        "id": "5YNYNHmIH-7E"
      }
    },
    {
      "cell_type": "markdown",
      "source": [
        "Microsoft investiert in diesen Bereich, hat bereits die SLMs Phi und Orca vorgestellt und soll seine eigenen Abteilungen auf effizientere KI-Modelle ausgerichtet haben."
      ],
      "metadata": {
        "id": "6iMpdYbDID5b"
      }
    },
    {
      "cell_type": "markdown",
      "source": [
        "https://the-decoder.de/microsofts-mini-llm-phi-2-ist-jetzt-open-source-und-angeblich-besser-als-google-gemini-nano/"
      ],
      "metadata": {
        "id": "KBKBgFLeIJZL"
      }
    },
    {
      "cell_type": "markdown",
      "source": [
        "https://the-decoder.de/microsofts-orca-2-ist-ein-kleines-ki-modell-mit-verbesserter-denkfaehigkeit/"
      ],
      "metadata": {
        "id": "C_vrvQL9IMrx"
      }
    },
    {
      "cell_type": "markdown",
      "source": [
        "https://the-decoder.de/generative-ki-ist-teuer-und-microsoft-will-die-kosten-senken/"
      ],
      "metadata": {
        "id": "EPit7Ws7IPr2"
      }
    },
    {
      "cell_type": "markdown",
      "source": [
        "[How to Build an LLM from Scratch | An Overview](https://www.youtube.com/watch?v=ZLbVdvOoTKM&list=WL&index=8&t=480s)"
      ],
      "metadata": {
        "id": "UdSIcDIUu6uH"
      }
    },
    {
      "cell_type": "markdown",
      "source": [
        "##### <font color=\"blue\">*Augment LLMs*"
      ],
      "metadata": {
        "id": "QaGfSVYXp_gy"
      }
    },
    {
      "cell_type": "markdown",
      "source": [
        "###### <font color=\"orange\">*Grounding*"
      ],
      "metadata": {
        "id": "Y7EMAgb2PJDH"
      }
    },
    {
      "cell_type": "markdown",
      "source": [
        "**Grounding**: Out-of-the-box grounding against structured and unstructured data\n"
      ],
      "metadata": {
        "id": "wK-YLsg4sTJb"
      }
    },
    {
      "cell_type": "markdown",
      "source": [
        "*Grounding*\n",
        "\n",
        "https://cloud.google.com/vertex-ai/docs/generative-ai/grounding/overview\n",
        "\n",
        "Grounding in large language models (LLMs) refers to the process of connecting their responses to real-world entities and concepts. This is crucial for ensuring that LLMs generate accurate, relevant, and meaningful outputs. LLMs are trained on massive datasets of text and code, but this knowledge is often abstract and lacks specific context. Grounding allows LLMs to access and incorporate external information to make their responses more grounded in reality.\n",
        "\n",
        "There are several different approaches to grounding LLMs, but they typically involve some combination of the following techniques:\n",
        "\n",
        "* **Knowledge base access:** LLMs can be connected to knowledge bases, such as Wikidata or Google Search, to access information about real-world entities and concepts. This information can be used to refine and improve their responses.\n",
        "* **Data retrieval:** LLMs can be used to retrieve relevant data from external sources, such as databases or web pages. This data can then be used to ground their responses in real-world context.\n",
        "* **Physical interaction:** In some cases, LLMs can be directly connected to the real world through sensors and actuators. This allows them to interact with their environment and gather information directly.\n",
        "\n",
        "Grounding is an essential part of developing reliable and useful LLMs. By grounding their responses in real-world knowledge, LLMs can be more accurate, relevant, and informative. This makes them more suitable for a wider range of applications, such as question answering, summarization, and natural language generation.\n",
        "\n",
        "Here are some of the benefits of grounding LLMs:\n",
        "\n",
        "* **Improved accuracy:** Grounding can help to reduce the number of factual errors in LLM responses.\n",
        "* **Increased relevance:** Grounding can help to ensure that LLM responses are relevant to the context in which they are generated.\n",
        "* **Enhanced creativity:** Grounding can help LLMs to generate more creative and interesting text formats.\n",
        "* **Expanded capabilities:** Grounding can allow LLMs to perform tasks that require more knowledge of the real world, such as answering questions about physical entities or events.\n",
        "\n",
        "Overall, grounding is a powerful technique for improving the performance and usefulness of large language models. As LLMs continue to develop, grounding is likely to play an even more important role in their development and application."
      ],
      "metadata": {
        "id": "HcdUr67tZ6JW"
      }
    },
    {
      "cell_type": "markdown",
      "source": [
        "###### <font color=\"orange\">*Retrieval-Augmented Generation (RAG)*"
      ],
      "metadata": {
        "id": "6Z0vHScrO3Nw"
      }
    },
    {
      "cell_type": "markdown",
      "source": [
        "https://cloud.google.com/blog/products/ai-machine-learning/rags-powered-by-google-search-technology-part-1?hl=en"
      ],
      "metadata": {
        "id": "Mnmh9oFDYQjU"
      }
    },
    {
      "cell_type": "markdown",
      "source": [
        "**Long tokens vs RAG**\n",
        "\n",
        "https://blog.google/technology/ai/google-gemini-next-generation-model-february-2024\n",
        "\n",
        "https://youtu.be/wa0MT8OwHuk?si=4DeetM9gi9yI1i-T\n",
        "\n",
        "the demo is using a movie. That explains why the 1.5 version landed on the Multimodal part of Studio. Will that context window not apply to the text-only endpoint?\n",
        "\n",
        "Good thing I didn't invest too much time learning about chunking strategies with RAG 😅\n",
        "\n",
        "Apparently Deepmind tested 10M token successfully in research\n",
        "\n",
        "I think chunking will still make sense for RAG use cases, especially if you care about latency or have significantly more than 1M tokens. But it's great to see that there are lots of improvements on the input token limit."
      ],
      "metadata": {
        "id": "wyDsltggM6_J"
      }
    },
    {
      "cell_type": "markdown",
      "source": [
        "![sciences](https://raw.githubusercontent.com/deltorobarba/repo/master/sciences_1710.png)"
      ],
      "metadata": {
        "id": "x6b56-TiMMHA"
      }
    },
    {
      "cell_type": "markdown",
      "source": [
        "https://www.linkedin.com/posts/alexwang2911_genai-llm-technology-activity-7164438306871603200--mgt/?utm_source=share&utm_medium=member_ios"
      ],
      "metadata": {
        "id": "Onb9kYmoIzDP"
      }
    },
    {
      "cell_type": "markdown",
      "source": [
        "https://cloud.google.com/blog/products/ai-machine-learning/rags-powered-by-google-search-technology-part-1?hl=en"
      ],
      "metadata": {
        "id": "mdFXP_TgVQA4"
      }
    },
    {
      "cell_type": "markdown",
      "source": [
        "https://cloud.google.com/blog/products/ai-machine-learning/rags-powered-by-google-search-technology-part-2?hl=en"
      ],
      "metadata": {
        "id": "UkJKK25Xlvbf"
      }
    },
    {
      "cell_type": "markdown",
      "source": [
        "https://cloud.google.com/blog/products/ai-machine-learning/context-aware-code-generation-rag-and-vertex-ai-codey-apis?hl=en"
      ],
      "metadata": {
        "id": "HYCk0zmUl4Ji"
      }
    },
    {
      "cell_type": "markdown",
      "source": [
        "I have a question about chatbot and RAG. Is there any good/easy approach which we can add RAG layer between data source and conversation AI app? The challenge is today we show great demo in Playbooks with cleaned data but in the reality, customers usually have more complicated/messy data source (source data against each others), so the first step of doing data retrieval is critical.  Say customer is ok to use our DFCX/Playbooks but they need to add extra RAG layer. Any experience ?\n"
      ],
      "metadata": {
        "id": "iorG22NB44ra"
      }
    },
    {
      "cell_type": "markdown",
      "source": [
        "**Retrieval Augmented Generation (RAG)**: Fully managed vector database for high-scale, low latency vector search\n",
        "\n",
        "[What is Retrieval-Augmented Generation (RAG)?](https://www.youtube.com/watch?v=T-D1OfcDW1M&list=WL&index=9&t=23s)\n"
      ],
      "metadata": {
        "id": "YTf3gJSGsUsU"
      }
    },
    {
      "cell_type": "markdown",
      "source": [
        "RAG stands for **Retrieval-Augmented Generation** in the context of Large Language Models (LLMs). Here's a breakdown of what it is and why it's important:\n",
        "\n",
        "**How LLMs Typically Work**\n",
        "\n",
        "* Traditional LLMs are trained on massive amounts of text data. They learn to predict the next word in a sequence based on patterns they've seen during training.\n",
        "* This makes them great at generating text, translating languages, etc.\n",
        "* **Limitation:** LLMs can't easily access and incorporate new knowledge or information that wasn't part of their original training data.\n",
        "\n",
        "**How RAG Solves This**\n",
        "\n",
        "RAG combines the power of LLMs with traditional information retrieval systems:\n",
        "\n",
        "1. **Retrieval:** When you ask a question, RAG first searches through a knowledge base (like Wikipedia, internal company documents, news articles, etc.) to find relevant passages of text.\n",
        "2. **Augmentation:** This relevant text is appended to your original question, creating a richer, more informative prompt.\n",
        "3. **Generation:** The LLM uses this combined information (original question + retrieved knowledge) to generate a more comprehensive and accurate answer.\n",
        "\n",
        "**Benefits of RAG**\n",
        "\n",
        "* **Up-to-date Information:** RAG models aren't stuck with the knowledge they were trained on. They can access and integrate fresh information on demand.\n",
        "* **Factual Grounding:** Answers generated by RAG models can be linked back to the knowledge sources they are based on, providing sources or citations.\n",
        "* **Domain-Specific Adaptation:** A RAG model can be customized to work well in specific fields (legal, medical, etc.) by using a knowledge base tailored to that domain.\n",
        "* **Improved Accuracy:** RAG models often significantly outperform traditional LLMs on tasks that require external knowledge\n",
        "\n",
        "**In summary:**  RAG is a technique that allows LLMs to go beyond their internal training data, access external knowledge, and provide more informed, accurate, and trustworthy responses.\n"
      ],
      "metadata": {
        "id": "m0FaHYgS1ygi"
      }
    },
    {
      "cell_type": "markdown",
      "source": [
        "*Prompting and RAG*\n",
        "\n",
        "Prompting and RAG are equivalent to feature engineering (data augmentation to be exact) in the traditional ML paradigm, while finetuning is equivalent to model training. So, all three are needed for the best result.\n",
        "* rag is more like a key point selection based on features. That's more like an attention mechanism rather than feature engineering.\n",
        "* When you do RAG, you use the user's original input to find relevant pieces of external information and add them to the input you send to the model. This is by definition feature engineering.\n"
      ],
      "metadata": {
        "id": "tq-iqkJhyA1t"
      }
    },
    {
      "cell_type": "markdown",
      "source": [
        "**Retrieval-Augmented Generation (RAG)**\n",
        "\n",
        "Retrieval-Augmented Generation (RAG) is a framework for improving the accuracy and reliability of large language models (LLMs) by incorporating external knowledge bases during the generation process. It combines the strengths of two approaches: dense retrieval and sequence-to-sequence modeling.\n",
        "\n",
        "**Dense retrieval** is used to identify relevant documents from a knowledge base that are related to the query or prompt provided to the LLM. This ensures that the LLM has access to the most up-to-date and accurate information before generating its response.\n",
        "\n",
        "**Sequence-to-sequence modeling** is used to generate the final output text, taking into account the retrieved documents and the original query. This allows the LLM to incorporate factual information from the knowledge base into its response while maintaining its natural language fluency and coherence.\n",
        "\n",
        "RAG has been shown to improve the performance of LLMs on a variety of tasks, including question answering, summarization, and translation. It has also been found to be more robust to errors in the knowledge base than traditional LLM approaches.\n",
        "\n",
        "**Benefits of RAG:**\n",
        "\n",
        "* **Improved accuracy:** RAG can help to prevent LLMs from generating incorrect or misleading information by providing them with access to a broader range of information.\n",
        "\n",
        "* **Reduced factual errors:** RAG can reduce the number of factual errors in LLM responses by incorporating information from a knowledge base.\n",
        "\n",
        "* **Improved coherence:** RAG can help to improve the coherence of LLM responses by ensuring that they are consistent with the information in the knowledge base.\n",
        "\n",
        "**Drawbacks of RAG:**\n",
        "\n",
        "* **Increased computational complexity:** RAG is more computationally complex than traditional LLM approaches, as it requires both dense retrieval and sequence-to-sequence modeling.\n",
        "\n",
        "* **Dependency on knowledge base:** RAG is dependent on the quality of the knowledge base that is used. If the knowledge base is inaccurate or incomplete, RAG's performance will suffer.\n",
        "\n",
        "Despite these drawbacks, RAG is a promising approach for improving the accuracy and reliability of LLMs. As knowledge bases continue to improve, RAG is likely to become an even more valuable tool for natural language processing."
      ],
      "metadata": {
        "id": "2L0kvygNz4MO"
      }
    },
    {
      "cell_type": "markdown",
      "source": [
        "###### $\\hookrightarrow$ *LangChain*"
      ],
      "metadata": {
        "id": "ut_14zjENSyM"
      }
    },
    {
      "cell_type": "markdown",
      "source": [
        "https://cloud.google.com/blog/products/databases/build-rag-applications-with-langchain-and-google-cloud"
      ],
      "metadata": {
        "id": "JTmQ6pFyNQqj"
      }
    },
    {
      "cell_type": "markdown",
      "source": [
        "###### $\\hookrightarrow$ *LLamaindex*"
      ],
      "metadata": {
        "id": "QFiC9iq1uchk"
      }
    },
    {
      "cell_type": "markdown",
      "source": [
        "**LLamaindex**\n",
        "\n",
        "Video: [Llamaindex webinar](https://youtu.be/aoLtTIYAafY?si=r2iEJC_bqTsPRlnf)\n",
        "\n",
        "LlamaIndex is a powerful data framework designed to streamline the development of applications powered by Large Language Models (LLMs). Here's a breakdown of what it is and why it's important:\n",
        "\n",
        "**Key Functions**\n",
        "\n",
        "* **Data Ingestion & Management:**\n",
        "    * **Diverse Formats:** Handles structured, semi-structured, and unstructured data sources (documents, PDFs, APIs, SQL databases, etc.).\n",
        "    * **Organization:** Structures data in ways LLMs can easily understand and access.\n",
        "* **Indexing:** Creates efficient indices (like a virtual library) of your data, allowing quick retrieval of relevant information.\n",
        "* **Query Interface:** Provides a user-friendly way to interact with your data using prompts or questions. The responses are augmented with knowledge retrieved from your indexed data.\n",
        "\n",
        "**Why It Matters (Benefits)**\n",
        "\n",
        "* **Retrieval-Augmented Generation (RAG):** LlamaIndex is core to implementing RAG, a method where LLMs first consult an external knowledge base before generating a text response. This leads to more informed, grounded, and less likely to hallucinate answers.\n",
        "* **Custom Applications:** It simplifies building a range of LLM-driven applications:\n",
        "    * Question-answering systems over specific information (company docs, product manuals, etc.).\n",
        "    * Sophisticated chatbots or conversational AI.\n",
        "    * Intelligent tools that interact with your personal data.\n",
        "* **Flexibility:** Offers both high-level APIs for easy use and low-level APIs for finer control.\n",
        "\n",
        "**How it Works (Simplified)**\n",
        "\n",
        "1. **Import & Structure:** You import data into LlamaIndex, where it's organized.\n",
        "2. **Indexing:**  LlamaIndex creates efficient indices to speed up search within your data.\n",
        "3. **Query:** You give the system a question or prompt.\n",
        "4. **Retrieval:** LlamaIndex uses vector search techniques to find relevant bits of information in your data.\n",
        "5. **Augmented Generation:** The LLM takes your question AND the retrieved knowledge to generate a comprehensive response.\n",
        "\n",
        "**In Summary**\n",
        "\n",
        "LlamaIndex offers a powerful framework for harnessing the capabilities of LLMs with your own diverse data. It simplifies the process of building LLM-based applications that rely on external knowledge sources."
      ],
      "metadata": {
        "id": "f-MDnUAvuPmm"
      }
    },
    {
      "cell_type": "markdown",
      "source": [
        "###### <font color=\"orange\">*Extensions*"
      ],
      "metadata": {
        "id": "KcuadzY1rHe3"
      }
    },
    {
      "cell_type": "markdown",
      "source": [
        "**Extensions**: Integrate easily real-time data and real-world actions, e.g. Ingest internal codebases and automatically lookup evolving security threats in real time\n"
      ],
      "metadata": {
        "id": "YPwk16g1rKKm"
      }
    },
    {
      "cell_type": "markdown",
      "source": [
        "###### <font color=\"orange\">*Function Calling*"
      ],
      "metadata": {
        "id": "hrYb8_OIPhhO"
      }
    },
    {
      "cell_type": "markdown",
      "source": [
        "**Function Calling**: enables LLMs to interact with external tools, databases, and APIs or code snippets that perform specific tasks (e.g., weather lookup, math calculations, sending emails) to improve model responses"
      ],
      "metadata": {
        "id": "6h-cCeTcsX-w"
      }
    },
    {
      "cell_type": "markdown",
      "source": [
        "*Function Calling*\n",
        "\n",
        "https://codelabs.developers.google.com/codelabs/gemini-function-calling#0\n"
      ],
      "metadata": {
        "id": "KhkJHDb7j29X"
      }
    },
    {
      "cell_type": "markdown",
      "source": [
        "Here's a breakdown of the differences between function calling and extensions in the context of LLMs:\n",
        "\n",
        "**Function Calling**\n",
        "\n",
        "* **Focus:** Executing specific, well-defined tasks or retrieving information from external sources.\n",
        "* **Nature:** Dynamic and on-demand. Functions are called in response to specific prompts and instructions.\n",
        "* **Scope:** Actions are usually limited to external tools and APIs the LLM is connected to.\n",
        "* **Example:** A function to look up the current temperature in a specific city.\n",
        "\n",
        "**Extensions**\n",
        "\n",
        "* **Focus:** Expanding the core capabilities of the LLM with new features or knowledge domains.\n",
        "* **Nature:** More persistent. Extensions are installed or integrated into the model.\n",
        "* **Scope:** Can fundamentally change how the LLM processes information and generates responses.\n",
        "* **Example:** An extension designed for summarizing scientific papers, allowing the LLM to better understand and answer questions about complex research.\n",
        "\n",
        "**Key Differences Table**\n",
        "\n",
        "| Feature            | Function Calling                                    | Extensions                                                   |\n",
        "|--------------------|-----------------------------------------------------|--------------------------------------------------------------|\n",
        "| Purpose            | Perform external actions, retrieve real-world data  | Expand the LLM's capabilities and knowledge                   |\n",
        "| Nature             | Dynamic, task-specific                              | Persistent, integrated into the LLM                           |\n",
        "| Scope              | Focused on external tools the LLM can access       | Can affect the LLM's internal processing and understanding    |\n",
        "| Implementation     | LLM generates code to call external functions      | Often require installing code or packages within the LLM's environment |\n",
        "\n",
        "**In Summary**\n",
        "\n",
        "* **Function calling** is about letting the LLM interact with the outside world to get things done.\n",
        "* **Extensions** are about making the LLM itself smarter or more capable by adding new skills or knowledge.\n",
        "\n",
        "**Let me know if you'd like more clarification or examples!**\n"
      ],
      "metadata": {
        "id": "cJbYYtJO11zH"
      }
    },
    {
      "cell_type": "markdown",
      "source": [
        "###### *Special: Vector Retrieval / Vector Search*"
      ],
      "metadata": {
        "id": "r2-fNN88Cb7S"
      }
    },
    {
      "cell_type": "markdown",
      "source": [
        "Vector Retrieval / Vector Search both refer to the core process of finding similar items within a large dataset of vectors generated by an LLM. Here's how it works:\n",
        "\n",
        "1. Embedding Generation: The LLM takes a query (e.g., a piece of text or an image) and creates a vector representation of it.\n",
        "2. Vector Database: The LLM has a pre-computed database of vectors representing items like text passages, images, or code snippets.\n",
        "3. Similarity Calculation: The LLM calculates the similarity (often using cosine similarity) between the query vector and all the vectors in the database.\n",
        "4. Retrieval: The vectors with the highest similarity scores (closest distance to the query vector) are retrieved. These returned items are considered the most relevant matches to the original query.\n",
        "\n",
        "Applications - Vector retrieval (a.k.a. vector search) is a powerful tool used across various LLM-based applications:\n",
        "\n",
        "* Semantic Search: Searching for information based on meaning rather than just keywords.\n",
        "* Recommendation Systems: Recommending products, content, etc. based on a user's preferences and similarity between items.\n",
        "* Question Answering: Finding relevant passages in a large corpus of text to answer a question.\n",
        "* Image Search: Searching for images similar to a query image."
      ],
      "metadata": {
        "id": "wbIfqyYxr7at"
      }
    },
    {
      "cell_type": "markdown",
      "source": [
        "Here's a breakdown of ANN and MMR in the context of information retrieval using LLMs:\n",
        "\n",
        "**ANN (Approximate Nearest Neighbor)**\n",
        "\n",
        "* **Purpose:**  ANN algorithms are designed to find items (\"neighbors\") in a dataset that are most similar to a given query, even in very high-dimensional spaces. In LLM retrieval, the query would be the user's input, and the items in the dataset are potential text passages containing relevant information.\n",
        "\n",
        "* **Role in LLM Retrieval:**\n",
        "    * **Efficiency:**  ANN is crucial for LLM-based retrieval because naively comparing a query to every piece of text in a large database would be extremely computationally expensive. ANN makes this process tremendously faster.\n",
        "    * **Understanding Similarity:** ANN focuses on finding passages that are semantically similar to the user's query, even if they don't contain exact keyword matches. This aligns well with LLMs' ability to understand nuanced meaning.\n",
        "\n",
        "* **Types of ANN:** Several ANN algorithms exist (e.g., HNSW, FAISS), each with trade-offs in accuracy, speed, and memory usage.\n",
        "\n",
        "**MMR (Maximal Marginal Relevance)**\n",
        "\n",
        "* **Purpose:** MMR is a ranking algorithm used to ensure diversity and avoid redundancy in search results. In LLM retrieval, it works after ANN has identified potential relevant passages.\n",
        "\n",
        "* **Role in LLM Retrieval:**\n",
        "    * **Diversification of Results:** MMR aims to prevent the top results from all being too similar to each other. Instead, it promotes including passages that, while relevant, also cover different aspects or perspectives related to the query.\n",
        "    * **Improving User Experience:** This diversification helps the LLM provide a more comprehensive and informative set of responses to the user, reducing the likelihood of receiving repetitive information.\n",
        "\n",
        "**How ANN and MMR Work Together**\n",
        "\n",
        "1. **User Query:** The user enters a query or question.\n",
        "2. **ANN Retrieval:** Using the ANN algorithm, a set of potentially relevant passages is efficiently retrieved from a large text corpus.\n",
        "3. **MMR Ranking:** MMR analyzes the retrieved passages and reranks them, prioritizing both relevance to the query and diversity within the results.\n",
        "4. **Return to LLM:** The top-ranked passages may be fed back into the LLM for further processing, allowing the LLM to generate a more informed and helpful response.\n",
        "\n",
        "**Let me know if you'd like more details on the technical aspects of specific ANN algorithms or how MMR calculates diversity!**\n"
      ],
      "metadata": {
        "id": "weryLPVwuvxo"
      }
    },
    {
      "cell_type": "markdown",
      "source": [
        "Your favorite cloud data warehouse now supports vector search and vector indexes, see https://lnkd.in/g3ztYWWy. How cool is that? BigQuery vector search lets you find semantically similar items in a table using by comparing the distance of  vector embeddings. Find similar customers, articles, products, locations. This is super useful for integrating LLMs with your data and validating LLM output. The best thing is that you don't need another product to do it."
      ],
      "metadata": {
        "id": "lVvlo-1MCdjT"
      }
    },
    {
      "cell_type": "markdown",
      "source": [
        " are announcing the Public Preview of BigQuery Vector Search. This functionality, also commonly referred to as approximate nearest-neighbor search, is key to empowering numerous new data and AI use cases such as semantic search, similarity detection, and retrieval-augmented generation (RAG) with a large language model (LLM).\n",
        "\n",
        "Vector search is often performed on high-dimensional numeric vectors, a.k.a. embeddings, which incorporate a semantic representation for an entity and can be generated from numerous sources, including text, image, or video. BigQuery vector search relies on an index to optimize the lookups and distance computations required to identify closely matching embeddings.\n",
        "\n",
        "Our framework supports multiple Vector Index types, with the first implemented type (IVF) combining (a) an optimized [BQML](https://cloud.google.com/bigquery/docs/bqml-introduction) KMeans clustering model with (b) an inverted row locator, which is automatically updated as the underlying table data mutates (similar to [BigSearch](https://cloud.google.com/bigquery/docs/search-index)). It works with BigQuery’s embedding-generation capabilities, notably via LLM-based or pre-trained models. Yet the generic interface allows users to use embeddings generated via other means as well.\n",
        "\n",
        "New optimizations, features, index types, and the GA launch are expected in Q2/Q3 2024.\n",
        "\n",
        "Public Launch Material\n",
        "* Launch blog: https://cloud.google.com/blog/products/data-analytics/introducing-new-vector-search-capabilities-in-bigquery?hl=en\n",
        "* Public documentation: https://cloud.google.com/bigquery/docs/vector-search-intro\n",
        "* Tutorial 1 for using with existing embeddings: https://cloud.google.com/bigquery/docs/vector-search\n",
        "* Tutorial 2 for combining with embedding generation and RAG: https://cloud.google.com/bigquery/docs/vector-index-text-search-tutorial\n",
        "* LangChain integration: https://python.langchain.com/docs/integrations/vectorstores/bigquery_vector_search\n",
        "\n",
        "What does the introduced syntax and usage look like?\n",
        "1. Create Vector Index\n",
        "CREATE OR REPLACE VECTOR INDEX <my_index> ON <my_table>(embedding_col)\n",
        "OPTIONS (distance_type=\"COSINE\", index_type=\"IVF\");\n",
        "2. Vector SearchSELECT <columns> FROM VECTOR_SEARCH (TABLE <my_table>, 'embedding_col', (SELECT embedding_col FROM <test_table> WHERE <>));\n",
        "\n",
        "3. (Optional) Monitor Indexing Progress AnytimeSELECT table_name, index_name, coverage_percentage, unindexed_row_count\n",
        "FROM `<myproject.mydataset>.INFORMATION_SCHEMA.VECTOR_INDEXES` WHERE index_status = 'ACTIVE';\n",
        "4. Example RAG query, combining embedding generation, vector search, and LLM text generation:SELECT ml_generate_text_llm_result AS generated, prompt\n",
        "FROM ML.GENERATE_TEXT(\n",
        "   MODEL `<LLM_text_generation_model>`,\n",
        "   (SELECT CONCAT('Propose some project ideas to improve user password security using the context below: ', STRING_AGG(FORMAT(\"patent title: %s, patent abstract: %s\", base.title, base.abstract), ',\\n')) AS prompt, FROM VECTOR_SEARCH(\n",
        "         TABLE `<patents_my_embeddings_table>`, 'text_embedding',\n",
        "         (SELECT text_embedding, content AS query\n",
        "           FROM ML.GENERATE_TEXT_EMBEDDING(\n",
        "               MODEL `<LLM_embedding_model>`,\n",
        "               (SELECT 'improving password security' AS content))), top_k => 5)\n",
        "   ), STRUCT(0.4 AS temperature, 300 AS max_output_tokens, 0.5 AS top_p, 5 AS top_k, TRUE AS flatten_json_output));\n"
      ],
      "metadata": {
        "id": "LHnqM83Capic"
      }
    },
    {
      "cell_type": "markdown",
      "source": [
        "*Vector Retrieval*\n",
        "\n",
        "https://arxiv.org/abs/2401.09350: Foundations of Vector Retrieval"
      ],
      "metadata": {
        "id": "nRhWlzbKrZ5t"
      }
    },
    {
      "cell_type": "markdown",
      "source": [
        "###### *Special: Knowledge Graph*"
      ],
      "metadata": {
        "id": "NxI60357-N2l"
      }
    },
    {
      "cell_type": "markdown",
      "source": [
        "https://neo4j.com/labs/genai-ecosystem/"
      ],
      "metadata": {
        "id": "-QrtL9Cs-QXh"
      }
    },
    {
      "cell_type": "markdown",
      "source": [
        "##### <font color=\"blue\">*Evaluate LLMs*"
      ],
      "metadata": {
        "id": "J4ZBVKqKqAbk"
      }
    },
    {
      "cell_type": "markdown",
      "source": [
        "*Evaluation*\n",
        "\n",
        "**Automatic Side-by-Side (AutoSxS)**\n",
        "\n",
        "https://cloud.google.com/vertex-ai/docs/generative-ai/models/side-by-side-eval\n",
        "\n",
        "**Metrics-based evaluation**\n",
        "\n",
        "https://cloud.google.com/vertex-ai/docs/generative-ai/models/evaluate-models\n",
        "\n",
        "**Vertex AI Model Evaluation**\n",
        "\n",
        "Vertex AI Model Evaluation provides a comprehensive framework for evaluating LLMs across a wide range of tasks, including natural language understanding (NLU), natural language generation (NLG), and question answering. It allows you to define custom evaluation metrics and compare performance over time.\n",
        "\n"
      ],
      "metadata": {
        "id": "d2RwjKyMVbg2"
      }
    },
    {
      "cell_type": "markdown",
      "source": [
        "##### <font color=\"blue\">*MLOps*"
      ],
      "metadata": {
        "id": "vOqtFAy5GKtG"
      }
    },
    {
      "cell_type": "markdown",
      "source": [
        "Here's for example a reference architecture for an infrastructure to run a retrieval-augmented generation (RAG) application using Vertex AI. Obviously not the only way to do it, but a good way to do it.\n",
        "\n",
        "This architecture includes three components:\n",
        "- Data ingestion subsystem\n",
        "- Serving subsystem\n",
        "- Quality evaluation subsystem\n",
        "\n",
        "https://cloud.google.com/architecture/rag-capable-gen-ai-app-using-vertex-ai?hl=de"
      ],
      "metadata": {
        "id": "m46jcaVOtJMH"
      }
    },
    {
      "cell_type": "markdown",
      "source": [
        "https://cloud.google.com/vertex-ai/docs/general/deployment?hl=de\n",
        "\n",
        "https://blog.ml6.eu/vertex-pipelines-vertex-ai-vs-ai-platform-6c2f799d6e2e?gi=5a1dbe25d735"
      ],
      "metadata": {
        "id": "mdsVo5zvjjd_"
      }
    },
    {
      "cell_type": "markdown",
      "source": [
        "Excited to share that a new tutorial on Ray on Vertex AI is now available! 🔥\n",
        "\n",
        "This tutorial will take you through the process of distributing PyTorch model training using Ray on Vertex AI and deploying it to Vertex AI Endpoint.\n",
        "\n",
        "To learn more, you can find the notebook link on GitHub 👇 . And if you have any ideas for more Ray on Vertex AI content you'd like to see, let me know.\n",
        "\n",
        "Get started with PyTorch on Ray on Vertex AI\n",
        "https://github.com/GoogleCloudPlatform/vertex-ai-samples/blob/main/notebooks/official/ray_on_vertex_ai/get_started_with_pytorch_rov.ipynb"
      ],
      "metadata": {
        "id": "J5QrNO-MIfPy"
      }
    },
    {
      "cell_type": "markdown",
      "source": [
        "https://medium.com/google-cloud/machine-learning-pipeline-development-on-google-cloud-5cba36819058"
      ],
      "metadata": {
        "id": "Fq4EBdvhFC13"
      }
    },
    {
      "cell_type": "markdown",
      "source": [
        "https://cloud.google.com/architecture/mlops-continuous-delivery-and-automation-pipelines-in-machine-learning"
      ],
      "metadata": {
        "id": "8MmOgfMSHSYH"
      }
    },
    {
      "cell_type": "markdown",
      "source": [
        "https://cloud.google.com/vertex-ai/docs/start/introduction-mlops"
      ],
      "metadata": {
        "id": "It97BIplHWWV"
      }
    },
    {
      "cell_type": "markdown",
      "source": [
        "##### <font color=\"blue\">*Programming*"
      ],
      "metadata": {
        "id": "OnneO2AhgoGY"
      }
    },
    {
      "cell_type": "markdown",
      "source": [
        "###### *Distributed Training*"
      ],
      "metadata": {
        "id": "uM9V1BBQGHTy"
      }
    },
    {
      "cell_type": "markdown",
      "source": [
        "https://www.youtube.com/watch?v=NbID_AqdZXM"
      ],
      "metadata": {
        "id": "i4DIXwcbHFVW"
      }
    },
    {
      "cell_type": "markdown",
      "source": [
        "https://www.youtube.com/watch?v=S1tN9a4Proc"
      ],
      "metadata": {
        "id": "ZJ7hEebdHDXV"
      }
    },
    {
      "cell_type": "markdown",
      "source": [
        "https://www.tensorflow.org/guide/distributed_training"
      ],
      "metadata": {
        "id": "tiCklVoxGoFo"
      }
    },
    {
      "cell_type": "markdown",
      "source": [
        "https://www.tensorflow.org/guide/keras/distributed_training"
      ],
      "metadata": {
        "id": "BmRIRKb9G3yA"
      }
    },
    {
      "cell_type": "markdown",
      "source": [
        "https://www.tensorflow.org/tutorials/distribute/keras"
      ],
      "metadata": {
        "id": "VA8BRTjDHArx"
      }
    },
    {
      "cell_type": "markdown",
      "source": [
        "###### *Quantum Libraries*"
      ],
      "metadata": {
        "id": "crQgUFkRk-XB"
      }
    },
    {
      "cell_type": "markdown",
      "source": [
        "**Qualtran**\n",
        "\n",
        "https://github.com/quantumlib/Qualtran/blob/main/qualtran/surface_code/magic_state_factory.py\n",
        "\n",
        "https://github.com/quantumlib/Qualtran/tree/main/qualtran"
      ],
      "metadata": {
        "id": "K-VJ5ea6lArD"
      }
    },
    {
      "cell_type": "markdown",
      "source": [
        "**QuTip**\n",
        "\n",
        "https://qutip.org/qutip-tutorials/#visualizations\n",
        "\n",
        "https://nbviewer.org/urls/qutip.org/qutip-tutorials/tutorials-v4/visualization/bloch_sphere_with_colorbar.ipynb"
      ],
      "metadata": {
        "id": "lCeP13HblFCV"
      }
    },
    {
      "cell_type": "markdown",
      "source": [
        "**QubiC**\n",
        "\n",
        "An open source FPGA-based control and measurement system for superconducting quantum information processors, https://arxiv.org/pdf/2101.00071.pdf"
      ],
      "metadata": {
        "id": "UVy4V3ayu4Hc"
      }
    },
    {
      "cell_type": "markdown",
      "source": [
        "###### *Speichersichere Programmiersprachen*"
      ],
      "metadata": {
        "id": "6uUn645o-PmN"
      }
    },
    {
      "cell_type": "markdown",
      "source": [
        "https://m.winfuture.de/news/141447\n",
        "\n",
        "* Konkret hat das White House Office of the National Cyber Director (ONCD) einen Bericht (PDF) veröffentlicht (via Infoworld), in dem man Entwicklern nahelegt, \"speichersichere Programmiersprachen\" zu verwenden - und dazu zählen C und C++ eben nicht. Laut ONCD können IT-Unternehmen mit der Einführung speichersicherer Programmiersprachen verhindern, \"dass ganze Klassen von Schwachstellen in das digitale Ökosystem eindringen\".\n",
        "\n",
        "* Der Begriff bezieht sich auf Fehler und Schwachstellen bzw. deren Schutz, die den Speicherzugriff betreffen, dazu zählen **Buffer Overflows, Out-of-Bound-Reads und Memory Leaks**. Mit dieser Meinung ist das Weiße Haus auch nicht alleine, da auch Microsoft und Google in Studien festgestellt haben, dass rund 70 Prozent aller Schwachstellen auf das Konto von Speicherproblemen zurückgehen.\n",
        "\n",
        "* [Laut der National Security Agency (NSA)](https://m.winfuture.de/news/132951) werden folgende Programmiersprachen als \"Memory-Safe\" bzw. sicher eingestuft:\n",
        "Rust\n",
        "Go\n",
        "C#\n",
        "Java\n",
        "Swift\n",
        "JavaScript\n",
        "Ruby"
      ],
      "metadata": {
        "id": "xUdNWhEP-ShT"
      }
    },
    {
      "cell_type": "markdown",
      "source": [
        "###### *JAX*"
      ],
      "metadata": {
        "id": "EkdQBmsWyXyQ"
      }
    },
    {
      "cell_type": "markdown",
      "source": [
        "https://jax.readthedocs.io/en/latest/jax-101/index.html"
      ],
      "metadata": {
        "id": "TyH5oxOchjqA"
      }
    },
    {
      "cell_type": "markdown",
      "source": [
        "https://jax.readthedocs.io/en/latest/notebooks/quickstart.html"
      ],
      "metadata": {
        "id": "MNTTlgnLyXBm"
      }
    },
    {
      "cell_type": "markdown",
      "source": [
        "https://jax.readthedocs.io/en/latest/notebooks/Common_Gotchas_in_JAX.html"
      ],
      "metadata": {
        "id": "sKF2rI6NhaHE"
      }
    },
    {
      "cell_type": "markdown",
      "source": [
        "###### *Linux*"
      ],
      "metadata": {
        "id": "NpX_msD1vmi-"
      }
    },
    {
      "cell_type": "markdown",
      "source": [
        "https://www.digitalocean.com/community/tutorials/linux-commands"
      ],
      "metadata": {
        "id": "D1N-de6GwqUr"
      }
    },
    {
      "cell_type": "markdown",
      "source": [
        "* ls - The most frequently used command in Linux to list directories\n",
        "* pwd - Print working directory command in Linux\n",
        "* cd - Linux command to navigate through directories\n",
        "* mkdir - Command used to create directories in Linux\n",
        "* mv - Move or rename files in Linux\n",
        "* cp - Similar usage as mv but for copying files in Linux\n",
        "* rm - Delete files or directories\n",
        "* touch - Create blank/empty files\n",
        "* ln - Create symbolic links (shortcuts) to other files\n",
        "* cat - Display file contents on the terminal\n",
        "* clear - Clear the terminal display\n",
        "* echo - Print any text that follows the command\n",
        "* less - Linux command to display paged outputs in the terminal\n",
        "* man - Access manual pages for all Linux commands\n",
        "* uname - Linux command to get basic information about the OS\n",
        "* whoami - Get the active username\n",
        "* tar - Command to extract and compress files in Linux\n",
        "* grep - Search for a string within an output\n",
        "* head - Return the specified number of lines from the top\n",
        "* ail - Return the specified number of lines from the bottom\n",
        "* diff - Find the difference between two files\n",
        "* cmp - Allows you to check if two files are identical\n",
        "* comm - Combines the functionality of diff and cmp\n",
        "* sort - Linux command to sort the content of a file while outputting\n",
        "* export - Export environment variables in Linux\n",
        "* zip - Zip files in Linux\n",
        "* unzip - Unzip files in Linux\n",
        "* ssh - Secure Shell command in Linux\n",
        "* service - Linux command to start and stop services\n",
        "* ps - Display active processes\n",
        "* kill and killall - Kill active processes by process ID or name\n",
        "* df - Display disk filesystem information\n",
        "* mount - Mount file systems in Linux\n",
        "* chmod - Command to change file permissions\n",
        "* chown - Command for granting ownership of files or folders\n",
        "* ifconfig - Display network interfaces and IP addresses\n",
        "* traceroute - Trace all the network hops to reach the destination\n",
        "* wget - Direct download files from the internet\n",
        "* ufw - Firewall command\n",
        "* iptables - Base firewall for all other firewall utilities to interface with\n",
        "* apt, pacman, yum, rpm - Package managers depending on the distro\n",
        "* sudo - Command to escalate privileges in Linux\n",
        "* cal - View a command-line calendar\n",
        "* alias - Create custom shortcuts for your regularly used commands\n",
        "* dd - Majorly used for creating bootable USB sticks\n",
        "* whereis - Locate the binary, source, and manual pages for a command\n",
        "* whatis - Find what a command is used for\n",
        "* top - View active processes live with their system usage\n",
        "* useradd and usermod - Add new user or change existing users data\n",
        "* passwd - Create or update passwords for existing users"
      ],
      "metadata": {
        "id": "uO0J0iBAwjsG"
      }
    },
    {
      "cell_type": "markdown",
      "source": [
        "###### *Python*"
      ],
      "metadata": {
        "id": "-bgPYHGr1kCz"
      }
    },
    {
      "cell_type": "markdown",
      "source": [
        "**For (Loop)**"
      ],
      "metadata": {
        "id": "bHxVacZSzNRS"
      }
    },
    {
      "cell_type": "code",
      "source": [
        "# Compute n^3\n",
        "\n",
        "example_list = [1,4,9]\n",
        "cube_list = []\n",
        "\n",
        "for value in example_list:\n",
        "    cube_list.append(value**3)\n",
        "\n",
        "print(cube_list)"
      ],
      "metadata": {
        "id": "HEOrl3Il0Y-F",
        "colab": {
          "base_uri": "https://localhost:8080/"
        },
        "outputId": "3068cf41-07be-4f60-968d-ffca9b658a83"
      },
      "execution_count": null,
      "outputs": [
        {
          "output_type": "stream",
          "name": "stdout",
          "text": [
            "[1, 64, 729]\n"
          ]
        }
      ]
    },
    {
      "cell_type": "markdown",
      "source": [
        "**Range**\n",
        "\n",
        "https://www.freecodecamp.org/news/python-for-loop-for-i-in-range-example/"
      ],
      "metadata": {
        "id": "axn8EIN20d2m"
      }
    },
    {
      "cell_type": "code",
      "source": [
        "for i in range(6):\n",
        "  print(i)"
      ],
      "metadata": {
        "colab": {
          "base_uri": "https://localhost:8080/"
        },
        "id": "e9JzPC-Xzf8L",
        "outputId": "dd541f76-1c0c-4c6e-e316-0fe38a849606"
      },
      "execution_count": null,
      "outputs": [
        {
          "output_type": "stream",
          "name": "stdout",
          "text": [
            "0\n",
            "1\n",
            "2\n",
            "3\n",
            "4\n"
          ]
        }
      ]
    },
    {
      "cell_type": "code",
      "source": [
        "for i in range(0,6,2): # Start, Stop, Steps\n",
        "  print(i)"
      ],
      "metadata": {
        "colab": {
          "base_uri": "https://localhost:8080/"
        },
        "id": "T76OMRBtzjHJ",
        "outputId": "5b5fdd74-eb6c-4466-ed24-6bdec39359e9"
      },
      "execution_count": null,
      "outputs": [
        {
          "output_type": "stream",
          "name": "stdout",
          "text": [
            "0\n",
            "2\n",
            "4\n"
          ]
        }
      ]
    },
    {
      "cell_type": "markdown",
      "source": [
        "*Now outsource one value to get generic function:*"
      ],
      "metadata": {
        "id": "y1phzBwszy2c"
      }
    },
    {
      "cell_type": "code",
      "source": [
        "def my_function(x):\n",
        "  for i in range(0,x,2): # Start, Stop, Steps\n",
        "    print(i)\n",
        "\n",
        "x = 10\n",
        "my_function(x)"
      ],
      "metadata": {
        "colab": {
          "base_uri": "https://localhost:8080/"
        },
        "id": "kMM3qKJyOFqF",
        "outputId": "802138dc-c551-4c3d-e85e-483749ee6862"
      },
      "execution_count": null,
      "outputs": [
        {
          "output_type": "stream",
          "name": "stdout",
          "text": [
            "0\n",
            "2\n",
            "4\n",
            "6\n",
            "8\n"
          ]
        }
      ]
    },
    {
      "cell_type": "markdown",
      "source": [
        "**While** (Loop)\n",
        "\n",
        "* while = as long as: *While Loop (simplest loop): is given a condition, and executes the loop until the condition is false. (If the condition is false, it does nothing.)*\n",
        "\n",
        "* https://www.w3schools.com/python/python_while_loops.asp\n"
      ],
      "metadata": {
        "id": "D3C3Frwh0FU0"
      }
    },
    {
      "cell_type": "code",
      "source": [
        "# Berechne den Restwert in der Modulurechnung\n",
        "\n",
        "# Setup Variables\n",
        "modulus = 51 # moduland\n",
        "modulo = 7\n",
        "\n",
        "# Compute Modulus\n",
        "while modulus > modulo:\n",
        "    modulus = modulus - modulo\n",
        "\n",
        "# Show Restwert\n",
        "print(modulus)"
      ],
      "metadata": {
        "colab": {
          "base_uri": "https://localhost:8080/"
        },
        "id": "6vhM4pD40A0K",
        "outputId": "e519a1bd-437f-49d1-f054-60564d4186f0"
      },
      "execution_count": null,
      "outputs": [
        {
          "output_type": "stream",
          "name": "stdout",
          "text": [
            "2\n"
          ]
        }
      ]
    },
    {
      "cell_type": "markdown",
      "source": [
        "**Break**\n",
        "\n",
        "*Break escapes the current loop, and moves on after it. This is mostly used for searching for particular values - iterating until something happens.*"
      ],
      "metadata": {
        "id": "IYhDJ4SI0tBW"
      }
    },
    {
      "cell_type": "code",
      "source": [
        "for i in range(100):\n",
        "  if i==5:\n",
        "    break\n",
        "print(i)"
      ],
      "metadata": {
        "id": "65DXNSnQ0n0G"
      },
      "execution_count": null,
      "outputs": []
    },
    {
      "cell_type": "markdown",
      "source": [
        "**Else** (Rekursion)\n",
        "\n",
        "*It is a better pattern than while loops for high intensity computing because of your easy ability to set an upper limit for loop length. But if the calculation fails, you need a way to determine it: fortunately, for supports an else clause which triggers if and only if the loop exists without hitting a break statement.*"
      ],
      "metadata": {
        "id": "HFsqRuLw053E"
      }
    },
    {
      "cell_type": "code",
      "source": [
        "n = 101\n",
        "\n",
        "for i in range(100):\n",
        "  if i==n:\n",
        "    break\n",
        "else:\n",
        "  print(\"Unable to find\" + str(n))\n",
        "\n",
        "print(i)"
      ],
      "metadata": {
        "id": "PSva2CdA09cL"
      },
      "execution_count": null,
      "outputs": []
    },
    {
      "cell_type": "markdown",
      "source": [
        "**Continue**\n",
        "\n",
        "*Break only breaks out of the closest loop. There is no way to easily break out of a higher loop just using break. Continue works similarly, but instead of escaping the loop, it starts the next iteration immediately. This is great for discarding cases, and is a common task in the algorithm:*"
      ],
      "metadata": {
        "id": "49wpgaI61FV0"
      }
    },
    {
      "cell_type": "code",
      "source": [
        "for i in range(10):\n",
        "  if i==5:\n",
        "    continue\n",
        "  print(i)"
      ],
      "metadata": {
        "id": "L03w27k71Gov",
        "colab": {
          "base_uri": "https://localhost:8080/"
        },
        "outputId": "e7fd5a1f-52be-480a-d4e9-13cf6d27189a"
      },
      "execution_count": null,
      "outputs": [
        {
          "output_type": "stream",
          "name": "stdout",
          "text": [
            "0\n",
            "1\n",
            "2\n",
            "3\n",
            "4\n",
            "6\n",
            "7\n",
            "8\n",
            "9\n"
          ]
        }
      ]
    },
    {
      "cell_type": "code",
      "source": [
        "# != means not equal\n",
        "# i%3 means\n",
        "# Restwerte berechnen in Modulo hiermit: 51%7\n",
        "# \\leq means ≤, so less than or equal to ..\n",
        "\n",
        "for i in range(10):\n",
        "  if i%3 != i%2:\n",
        "    continue\n",
        "  print(i)"
      ],
      "metadata": {
        "id": "od2pk8MN1VGr"
      },
      "execution_count": null,
      "outputs": []
    },
    {
      "cell_type": "markdown",
      "source": [
        "**Print and Return**\n",
        "\n",
        "* Return keeps value\n",
        "\n",
        "* [More about print statement](https://realpython.com/python-print/#printing-in-a-nutshell)"
      ],
      "metadata": {
        "id": "NjmO1Y-0zJyX"
      }
    },
    {
      "cell_type": "markdown",
      "source": [
        "**Flow Control: Conditionals**"
      ],
      "metadata": {
        "id": "tJqcIKCr3Dss"
      }
    },
    {
      "cell_type": "code",
      "source": [
        "x=3\n",
        "if x>10:\n",
        "    print(\"x is big.\")\n",
        "if x<= 10:\n",
        "    print(\"x is small.\")"
      ],
      "metadata": {
        "id": "wGXplj2U3Eh9"
      },
      "execution_count": null,
      "outputs": []
    },
    {
      "cell_type": "code",
      "source": [
        "x=3\n",
        "if x>10:\n",
        "    print(\"x is big.\")\n",
        "elif x>0:\n",
        "    print(\"x is small.\")\n",
        "else:\n",
        "    print(\"x is not positive.\")"
      ],
      "metadata": {
        "id": "TwrTdspJ3IqY"
      },
      "execution_count": null,
      "outputs": []
    },
    {
      "cell_type": "markdown",
      "source": [
        "**Yield**\n",
        "\n",
        "* Generators: like yield: https://www.python-kurs.eu/generatoren.php\n",
        "\n",
        "* there is one reason we must bring them up; you cannot create tuples with a comprehension directly; they instead create a generator.\n",
        "\n",
        "* You can think of generators as single-use lists. This makes them considerably faster, and with a lower memory footprint, in many use cases. We have already talked about a few generators - in Python 3, range is a generator.\n",
        "\n",
        "* These can be used as arguments without the enclosing. For example, you could construct a string containing the integers with:"
      ],
      "metadata": {
        "id": "aOjvMkgg3iWH"
      }
    },
    {
      "cell_type": "code",
      "source": [
        "def fibonacci(n):\n",
        "    \"\"\"Ein Fibonacci-Zahlen-Generator\"\"\"\n",
        "    a, b, counter = 0, 1, 0\n",
        "    while True:\n",
        "        if (counter > n): return\n",
        "        yield a\n",
        "        a, b = b, a + b\n",
        "        counter += 1\n",
        "f = fibonacci(5)\n",
        "for x in f:\n",
        "  print x,\n",
        "print"
      ],
      "metadata": {
        "colab": {
          "base_uri": "https://localhost:8080/",
          "height": 129
        },
        "id": "Sz47xQO936wm",
        "outputId": "21a1c7b8-a0ef-416d-d51c-4c5a910d3614"
      },
      "execution_count": null,
      "outputs": [
        {
          "output_type": "error",
          "ename": "SyntaxError",
          "evalue": "ignored",
          "traceback": [
            "\u001b[0;36m  File \u001b[0;32m\"<ipython-input-18-fb5705716190>\"\u001b[0;36m, line \u001b[0;32m11\u001b[0m\n\u001b[0;31m    print x\u001b[0m\n\u001b[0m          ^\u001b[0m\n\u001b[0;31mSyntaxError\u001b[0m\u001b[0;31m:\u001b[0m Missing parentheses in call to 'print'. Did you mean print(x)?\n"
          ]
        }
      ]
    },
    {
      "cell_type": "code",
      "source": [
        "def firstn(g, n):\n",
        "\tfor i in range(n):\n",
        "\t\tyield g.next()\n",
        "\n",
        "\n",
        "firstn(5, 100)"
      ],
      "metadata": {
        "colab": {
          "base_uri": "https://localhost:8080/"
        },
        "id": "WUCdS4iv5iXL",
        "outputId": "8f79513d-6a67-47cf-8473-516cc3d7c2db"
      },
      "execution_count": null,
      "outputs": [
        {
          "output_type": "execute_result",
          "data": {
            "text/plain": [
              "<generator object firstn at 0x7f162b6846d0>"
            ]
          },
          "metadata": {},
          "execution_count": 30
        }
      ]
    },
    {
      "cell_type": "markdown",
      "source": [
        "https://www.python-kurs.eu/generatoren.php"
      ],
      "metadata": {
        "id": "3-kxvfnn5TZx"
      }
    },
    {
      "cell_type": "markdown",
      "source": [
        "**Enumerate** (Aufzählen)\n",
        "\n",
        "* https://en.m.wikipedia.org/wiki/Enumeration\n",
        "\n",
        "* https://realpython.com/python-enumerate/"
      ],
      "metadata": {
        "id": "oaYQE4Q23jMs"
      }
    },
    {
      "cell_type": "code",
      "source": [
        "values = [\"a\", \"b\", \"c\"]\n",
        "for count, value in enumerate(values):\n",
        "  print(count, value)"
      ],
      "metadata": {
        "colab": {
          "base_uri": "https://localhost:8080/"
        },
        "id": "Z5FfJ9pf4hzk",
        "outputId": "7db098ae-d0c5-4de9-c8dc-822c59db9384"
      },
      "execution_count": null,
      "outputs": [
        {
          "output_type": "stream",
          "name": "stdout",
          "text": [
            "0 a\n",
            "1 b\n",
            "2 c\n"
          ]
        }
      ]
    },
    {
      "cell_type": "markdown",
      "source": [
        "**Miscellaneous**"
      ],
      "metadata": {
        "id": "hkDgUCb546zt"
      }
    },
    {
      "cell_type": "code",
      "source": [
        "a = 10\n",
        "a += 5\n",
        "a"
      ],
      "metadata": {
        "colab": {
          "base_uri": "https://localhost:8080/"
        },
        "id": "rpKfGQeX46UN",
        "outputId": "2298cd82-0f47-4b44-a6cf-afa98c889f66"
      },
      "execution_count": null,
      "outputs": [
        {
          "output_type": "execute_result",
          "data": {
            "text/plain": [
              "5"
            ]
          },
          "metadata": {},
          "execution_count": 25
        }
      ]
    },
    {
      "cell_type": "markdown",
      "source": [
        "**Basic Functions in Maths & Physics I (Def)**"
      ],
      "metadata": {
        "id": "fLMArogly99J"
      }
    },
    {
      "cell_type": "markdown",
      "source": [
        "https://www.w3schools.com/python/python_functions.asp\n",
        "\n",
        "http://www-personal.umich.edu/~mejn/computational-physics/"
      ],
      "metadata": {
        "id": "w_B7I77I6aKN"
      }
    },
    {
      "cell_type": "code",
      "source": [
        "def my_function(x):\n",
        "  return x + 2\n",
        "\n",
        "my_function(4)"
      ],
      "metadata": {
        "colab": {
          "base_uri": "https://localhost:8080/"
        },
        "id": "KdyUIe0tK7O8",
        "outputId": "b4df5afd-c957-4444-ffe2-4cb99a548dfd"
      },
      "execution_count": null,
      "outputs": [
        {
          "output_type": "execute_result",
          "data": {
            "text/plain": [
              "6"
            ]
          },
          "metadata": {},
          "execution_count": 13
        }
      ]
    },
    {
      "cell_type": "code",
      "source": [
        "def my_function(x):\n",
        "  for i in range(1,x):\n",
        "    print(i**2)\n",
        "\n",
        "my_function(10)"
      ],
      "metadata": {
        "colab": {
          "base_uri": "https://localhost:8080/"
        },
        "id": "uUCfTgihCl9v",
        "outputId": "ea876fcd-2cca-4912-c05d-eee817785753"
      },
      "execution_count": null,
      "outputs": [
        {
          "output_type": "stream",
          "name": "stdout",
          "text": [
            "1\n",
            "4\n",
            "9\n",
            "16\n",
            "25\n",
            "36\n",
            "49\n",
            "64\n",
            "81\n"
          ]
        }
      ]
    },
    {
      "cell_type": "code",
      "source": [
        "def isqrt(n):\n",
        "  return int(math.sqrt(n))\n",
        "\n",
        "n = 100\n",
        "isqrt(n)"
      ],
      "metadata": {
        "colab": {
          "base_uri": "https://localhost:8080/"
        },
        "id": "PjS5fc4C2UMM",
        "outputId": "c78c2f48-21f9-43ce-c03d-b6acda0c8392"
      },
      "execution_count": null,
      "outputs": [
        {
          "output_type": "execute_result",
          "data": {
            "text/plain": [
              "10"
            ]
          },
          "metadata": {},
          "execution_count": 15
        }
      ]
    },
    {
      "cell_type": "code",
      "source": [
        "def my_function(n):\n",
        "  if n = (1):\n",
        "    return 1,\n",
        "  else:\n",
        "    return alg2d(n-1) + n\n",
        "\n",
        "alg2d(3)"
      ],
      "metadata": {
        "id": "ZkLNDfQ99hSX"
      },
      "execution_count": null,
      "outputs": []
    },
    {
      "cell_type": "code",
      "source": [
        "def my_function(x):\n",
        "  return 5 * x\n",
        "\n",
        "print(my_function(3))\n",
        "print(my_function(5))\n",
        "print(my_function(9))"
      ],
      "metadata": {
        "colab": {
          "base_uri": "https://localhost:8080/"
        },
        "id": "zgVKnVjc7o4u",
        "outputId": "6b9b66cc-90c4-40b5-eb37-b31084f93ba3"
      },
      "execution_count": null,
      "outputs": [
        {
          "output_type": "stream",
          "name": "stdout",
          "text": [
            "15\n",
            "25\n",
            "45\n"
          ]
        }
      ]
    },
    {
      "cell_type": "code",
      "source": [
        "def selectionsort(seq):\n",
        "  for i in range(len(seq) - 1):\n",
        "    k = i\n",
        "    for j in range(i, len(seq)):\n",
        "      if seq[j] < seq[k]:\n",
        "        k = j\n",
        "    seq[i], seq[k] = seq[k], seq[i]\n",
        "\n",
        "result = selectionsort([1, 3, 5, 2, 4])\n",
        "result"
      ],
      "metadata": {
        "id": "qs_2cqJU8Ifu"
      },
      "execution_count": null,
      "outputs": []
    },
    {
      "cell_type": "code",
      "source": [
        "def function(input):\n",
        "  for i in range(len(input) + 1):\n",
        "\n",
        "function([1, 2, 4])"
      ],
      "metadata": {
        "id": "BCUcl2Yf7vwn"
      },
      "execution_count": null,
      "outputs": []
    },
    {
      "cell_type": "code",
      "source": [
        "# Print out the Fibonacci numbers up to 1000\n",
        "f1,f2 = 1,1\n",
        "while f2<1000:\n",
        "    print(f2)\n",
        "    f1,f2 = f2,f1+f2"
      ],
      "metadata": {
        "colab": {
          "base_uri": "https://localhost:8080/"
        },
        "id": "EqI9EP3s68wt",
        "outputId": "24c3f412-b883-49c1-f4f7-6a77bcd51f36"
      },
      "execution_count": null,
      "outputs": [
        {
          "output_type": "stream",
          "name": "stdout",
          "text": [
            "1\n",
            "2\n",
            "3\n",
            "5\n",
            "8\n",
            "13\n",
            "21\n",
            "34\n",
            "55\n",
            "89\n",
            "144\n",
            "233\n",
            "377\n",
            "610\n",
            "987\n"
          ]
        }
      ]
    },
    {
      "cell_type": "code",
      "source": [
        "# Print out the wavelengths of hydrogen lines\n",
        "R = 1.097e-2\n",
        "for m in range(1,4):\n",
        "    print(\"Series for m =\",m)\n",
        "    for n in range(m+1,m+6):\n",
        "        invlambda = R*(1/m**2-1/n**2)\n",
        "        print(\"  \",1/invlambda,\"nm\")"
      ],
      "metadata": {
        "colab": {
          "base_uri": "https://localhost:8080/"
        },
        "id": "FA7mkKRZ8fcy",
        "outputId": "589eb076-750b-48c0-f174-875a916d72c7"
      },
      "execution_count": null,
      "outputs": [
        {
          "output_type": "stream",
          "name": "stdout",
          "text": [
            "Series for m = 1\n",
            "   121.5436037678517 nm\n",
            "   102.55241567912488 nm\n",
            "   97.23488301428137 nm\n",
            "   94.95594044363415 nm\n",
            "   93.76220862091418 nm\n",
            "Series for m = 2\n",
            "   656.3354603463993 nm\n",
            "   486.1744150714068 nm\n",
            "   434.084299170899 nm\n",
            "   410.2096627164995 nm\n",
            "   397.04243897498225 nm\n",
            "Series for m = 3\n",
            "   1875.2441724182836 nm\n",
            "   1281.9051959890612 nm\n",
            "   1093.8924339106654 nm\n",
            "   1005.013673655424 nm\n",
            "   954.6697605038536 nm\n"
          ]
        }
      ]
    },
    {
      "cell_type": "code",
      "source": [
        "# Calculate the internal energy of a quantum simple harmonic oscillator at temperature T\n",
        "from math import exp\n",
        "\n",
        "terms = 1000\n",
        "beta = 1/100\n",
        "S = 0.0\n",
        "Z = 0.0\n",
        "for n in range(terms):\n",
        "    E = n + 0.5\n",
        "    weight = exp(-beta*E)\n",
        "    S += weight*E\n",
        "    Z += weight\n",
        "\n",
        "print(S/Z)"
      ],
      "metadata": {
        "colab": {
          "base_uri": "https://localhost:8080/"
        },
        "id": "Rr3JAICQ7I80",
        "outputId": "835890b7-3433-4fee-e584-8bd48e8d10ed"
      },
      "execution_count": null,
      "outputs": [
        {
          "output_type": "stream",
          "name": "stdout",
          "text": [
            "99.95543134093475\n"
          ]
        }
      ]
    },
    {
      "cell_type": "code",
      "source": [
        "def find_5():\n",
        "  for i in range(100):\n",
        "    for j in range(20):\n",
        "      if i == 5:\n",
        "        return i\n",
        "  print(\"Couldn't find 5.\")"
      ],
      "metadata": {
        "id": "7p_dm_Bi1iOF"
      },
      "execution_count": null,
      "outputs": []
    },
    {
      "cell_type": "code",
      "source": [
        "def natural_language(message):\n",
        "    print(message)\n",
        "\n",
        "message = \"Hello World\"\n",
        "natural_language(message)"
      ],
      "metadata": {
        "colab": {
          "base_uri": "https://localhost:8080/"
        },
        "id": "oDLQQt7E2IeL",
        "outputId": "1cdaf4c1-bc75-4bbd-e1ff-a68eac58c8f7"
      },
      "execution_count": null,
      "outputs": [
        {
          "output_type": "stream",
          "name": "stdout",
          "text": [
            "Hello World\n"
          ]
        }
      ]
    },
    {
      "cell_type": "markdown",
      "source": [
        "**Basic Functions in Maths & Physics II (Class)**"
      ],
      "metadata": {
        "id": "xEP2z9S719Ep"
      }
    },
    {
      "cell_type": "markdown",
      "source": [
        "[Video: Methoden in Klassen](https://www.youtube.com/watch?v=58IjjwHs_4A)"
      ],
      "metadata": {
        "id": "aBZdbhCcFgF6"
      }
    },
    {
      "cell_type": "code",
      "source": [
        "class Tweet:\n",
        "  def __init__(self):\n",
        "    print('Hi')\n",
        "\n",
        "result = Tweet()"
      ],
      "metadata": {
        "colab": {
          "base_uri": "https://localhost:8080/"
        },
        "id": "Pq8z1hDi18sH",
        "outputId": "a5330983-f9ae-4e1f-9e6d-45e9a5ed0b32"
      },
      "execution_count": null,
      "outputs": [
        {
          "output_type": "stream",
          "name": "stdout",
          "text": [
            "Hi\n"
          ]
        }
      ]
    },
    {
      "cell_type": "code",
      "source": [
        "# Define class and function / self is referring to the instances below\n",
        "class Tweet:\n",
        "  def __init__(self, message):\n",
        "    self.x = message\n",
        "\n",
        "# Define messages (instances)\n",
        "a = Tweet('Hello 42')\n",
        "b = Tweet('Hello 88')\n",
        "\n",
        "# Call messages\n",
        "print('a is ' + a.x)\n",
        "print('b is ' + b.x)"
      ],
      "metadata": {
        "id": "mZqS96oX2gLK"
      },
      "execution_count": null,
      "outputs": []
    },
    {
      "cell_type": "code",
      "source": [
        "# Define class and function\n",
        "class Tweet:\n",
        "  def __init__(self, message):\n",
        "    self.message = message\n",
        "  def print_tweet(self):\n",
        "    print(self.message)\n",
        "\n",
        "# Define messages (objects?)\n",
        "c = Tweet('Hello 100')\n",
        "\n",
        "# Call messages\n",
        "c.print_tweet()"
      ],
      "metadata": {
        "id": "5PpAf4es2hmR"
      },
      "execution_count": null,
      "outputs": []
    },
    {
      "cell_type": "code",
      "source": [
        "class Car():\n",
        "\n",
        "    # init method or constructor\n",
        "    # (these are not functions, because functions have no self and also within class they are called methods)\n",
        "    def __init__(self, model, color):\n",
        "        self.model = model\n",
        "        self.color = color\n",
        "\n",
        "    def show(self):\n",
        "        print(\"Model is\", self.model )\n",
        "        print(\"color is\", self.color )\n",
        "\n",
        "# both objects have different self which\n",
        "# contain their attributes\n",
        "audi = Car(\"audi a4\", \"blue\")\n",
        "ferrari = Car(\"ferrari 488\", \"green\")\n",
        "\n",
        "audi.show()     # same output as car.show(audi)\n",
        "ferrari.show()  # same output as car.show(ferrari)\n",
        "\n",
        "# Behind the scene, in every instance method\n",
        "# call, python sends the instances also with\n",
        "# that method call like car.show(audi)"
      ],
      "metadata": {
        "id": "y0r0UEgi2kB1"
      },
      "execution_count": null,
      "outputs": []
    },
    {
      "cell_type": "markdown",
      "source": [
        "self parameter: https://www.youtube.com/watch?v=CLoK-_qNTnU\n",
        "\n",
        "klassen und objekte: https://www.youtube.com/watch?v=XxCZrT7Z3G4\n",
        "\n",
        "methoden: https://www.youtube.com/watch?v=58IjjwHs_4A"
      ],
      "metadata": {
        "id": "cSeBZR6g2mU1"
      }
    },
    {
      "cell_type": "markdown",
      "source": [
        "**Visualization of Functions**"
      ],
      "metadata": {
        "id": "DSkCPO-97ZAl"
      }
    },
    {
      "cell_type": "markdown",
      "source": [
        "https://scriptverse.academy/tutorials/python-matplotlib-plot-function.html"
      ],
      "metadata": {
        "id": "y1ALPQD18XwC"
      }
    },
    {
      "cell_type": "code",
      "source": [
        "sns.set(rc={'figure.figsize':(10, 6), \"lines.linewidth\": 1.0})\n",
        "\n",
        "# 100 linearly spaced numbers\n",
        "x = np.linspace(0,10,10)\n",
        "\n",
        "# the function\n",
        "y = x**2\n",
        "\n",
        "# setting the axes at the centre\n",
        "fig = plt.figure()\n",
        "ax = fig.add_subplot(1, 1, 1)\n",
        "ax.xaxis.set_ticks_position('bottom')\n",
        "ax.yaxis.set_ticks_position('left')\n",
        "\n",
        "# plot the function\n",
        "#plt.plot(x,y, 'g')\n",
        "plt.plot(x,y, 'b', label='y=sin(x)')\n",
        "\n",
        "# show the plot\n",
        "plt.show()"
      ],
      "metadata": {
        "id": "cbiVzNHZDJmb"
      },
      "execution_count": null,
      "outputs": []
    },
    {
      "cell_type": "code",
      "source": [
        "sns.set(rc={'figure.figsize':(10, 6), \"lines.linewidth\": 1.0})\n",
        "\n",
        "\n",
        "# 100 linearly spaced numbers\n",
        "x = np.linspace(0,1,100)\n",
        "x = np.linspace(-np.pi,np.pi,100)\n",
        "\n",
        "# the function\n",
        "y = x**20\n",
        "y = np.sin(x)\n",
        "\n",
        "# setting the axes at the centre\n",
        "fig = plt.figure()\n",
        "ax = fig.add_subplot(1, 1, 1)\n",
        "ax.xaxis.set_ticks_position('bottom')\n",
        "ax.yaxis.set_ticks_position('left')\n",
        "\n",
        "# plot the function\n",
        "#plt.plot(x,y, 'g')\n",
        "plt.plot(x,y, 'b', label='y=sin(x)')\n",
        "plt.plot(x,2*y, 'c', label='y=2sin(x)')\n",
        "plt.plot(x,3*y, 'r', label='y=3sin(x)')\n",
        "\n",
        "# show the plot\n",
        "plt.show()"
      ],
      "metadata": {
        "colab": {
          "base_uri": "https://localhost:8080/",
          "height": 377
        },
        "id": "8JuGtYMGPwpx",
        "outputId": "abc363b7-cec6-4d43-df48-94aa3acdb440"
      },
      "execution_count": null,
      "outputs": [
        {
          "output_type": "display_data",
          "data": {
            "text/plain": [
              "<Figure size 720x432 with 1 Axes>"
            ],
            "image/png": "[encoded data removed]"
          },
          "metadata": {}
        }
      ]
    },
    {
      "cell_type": "code",
      "source": [
        "# 100 linearly spaced numbers\n",
        "x = np.linspace(-5,5,100)\n",
        "\n",
        "# the function, which is y = x^3 here\n",
        "y = x**2\n",
        "y = np.exp(x)\n",
        "\n",
        "# setting the axes at the centre\n",
        "fig = plt.figure()\n",
        "ax = fig.add_subplot(1, 1, 1)\n",
        "ax.spines['left'].set_position('center')\n",
        "ax.spines['bottom'].set_position('center')\n",
        "ax.spines['right'].set_color('none')\n",
        "ax.spines['top'].set_color('none')\n",
        "ax.xaxis.set_ticks_position('bottom')\n",
        "ax.yaxis.set_ticks_position('left')\n",
        "\n",
        "# plot the function\n",
        "plt.plot(x,y, 'g')\n",
        "\n",
        "# show the plot\n",
        "plt.show()"
      ],
      "metadata": {
        "colab": {
          "base_uri": "https://localhost:8080/",
          "height": 357
        },
        "id": "Rt99Vbv1OmFX",
        "outputId": "7394fe92-6469-4dd6-b58b-b53bd63b0009"
      },
      "execution_count": null,
      "outputs": [
        {
          "output_type": "display_data",
          "data": {
            "text/plain": [
              "<Figure size 720x432 with 1 Axes>"
            ],
            "image/png": "[encoded data removed]"
          },
          "metadata": {}
        }
      ]
    },
    {
      "cell_type": "markdown",
      "source": [],
      "metadata": {
        "id": "vFQCvRyaxKAR"
      }
    },
    {
      "cell_type": "markdown",
      "source": [
        "##### <font color=\"blue\">*Google*"
      ],
      "metadata": {
        "id": "EV6x8bY7pvDP"
      }
    },
    {
      "cell_type": "markdown",
      "source": [
        "Three Decades of Activations: A Comprehensive Survey of 400 Activation Functions for Neural Networks offers the most extensive overview of activation functions to date. It aims to streamline the selection process for researchers and practitioners, reducing redundancy and the unintentional rediscovery of functions.\n",
        "\n",
        "https://arxiv.org/abs/2402.09092\n",
        "\n",
        "\n",
        "Unifying Large Language Models and Knowledge Graphs: A Roadmap\n",
        "\n",
        "https://arxiv.org/abs/2306.08302"
      ],
      "metadata": {
        "id": "JKXH9meQFzR-"
      }
    },
    {
      "cell_type": "markdown",
      "source": [
        "###### *Google Products*"
      ],
      "metadata": {
        "id": "WnAvpRxbPSwU"
      }
    },
    {
      "cell_type": "markdown",
      "source": [
        "Vertex AI! 🎉\n",
        "\n",
        "🔎 You can now query an index from the Vector Search console, making it even easier to validate your retrievals.\n",
        "\n",
        "🌻 New models have been added to the Model Garden, including Stable Diffusion XL LCM, LLaVA 1.5, PyTorch-ZipNeRF, WizardLM, and more.\n",
        "\n",
        "🎥 Multimodal Embeddings video support went GA, giving you the possibility to extend your AI applications.\n",
        "\n",
        "✨ Vertex AI Gemini 1.0 Pro and Gemini 1.0 Pro Vision multimodal language models also went GA!\n",
        "\n",
        "Overview of multimodal models\n",
        "https://cloud.google.com/vertex-ai/docs/generative-ai/multimodal/overview\n",
        "\n",
        "Multimodal video embeddings\n",
        "https://cloud.google.com/vertex-ai/docs/generative-ai/embeddings/get-multimodal-embeddings#vid-img-txt-request\n",
        "\n",
        "Vertex AI Vector search\n",
        "https://cloud.google.com/vertex-ai/docs/vector-search/create-manage-index"
      ],
      "metadata": {
        "id": "J_TrPlyPP6Um"
      }
    },
    {
      "cell_type": "markdown",
      "source": [
        "https://cloud.google.com/vertex-ai/docs/generative-ai/learn/overview\n",
        "\n",
        "https://www.linkedin.com/in/deltorobarba/recent-activity/reactions/\n",
        "\n",
        "![sciences](https://raw.githubusercontent.com/deltorobarba/repo/master/sciences_1699.jpeg)"
      ],
      "metadata": {
        "id": "ImUnO-bDTkNT"
      }
    },
    {
      "cell_type": "markdown",
      "source": [
        "book: Official Google Cloud Certified Professional Machine Learning Engineer Study Guide, https://www.amazon.com/dp/1119944465?ref_=cm_sw_r_mwn_dp_QEQREW6ES28470H5333A&language=en-US"
      ],
      "metadata": {
        "id": "ehkWx65LkI5t"
      }
    },
    {
      "cell_type": "markdown",
      "source": [
        "https://www.linkedin.com/pulse/use-mistral-llms-locally-your-computer-lm-studio-windows-molina-ldmje"
      ],
      "metadata": {
        "id": "tkRhOULDj_Xz"
      }
    },
    {
      "cell_type": "markdown",
      "source": [
        "https://www.linkedin.com/pulse/gemini-look-my-food-give-me-new-ideas-filipe-gracio-phd-tl4be"
      ],
      "metadata": {
        "id": "EiWGjWMykCYn"
      }
    },
    {
      "cell_type": "markdown",
      "source": [
        "*Lumiere*\n",
        "\n",
        "The first generative video goodness of 2024 is in: Lumiere. A text-to-video, image-to-video, and stylized video generation model from Google Research.\n",
        "\n",
        "Lumiere demonstrates state-of-the-art video generation results with a new model design that facilitates a wide range of content creation tasks such as video editing, video in-painting, and stylized generation.\n",
        "\n",
        "While existing video models first synthesize distant keyframes then apply temporal super-resolution to make videos look temporally consistent, Lumiere generates the entire temporal duration of the video at once, through a single pass in the model. This makes the videos look more realistic.\n",
        "\n",
        "Paper: https://lnkd.in/dvcWNCtp\n",
        "Video: https://lnkd.in/deQHkxFj"
      ],
      "metadata": {
        "id": "3fNy3RrnyTa3"
      }
    },
    {
      "cell_type": "markdown",
      "source": [
        "###### *Appendix: Models*"
      ],
      "metadata": {
        "id": "1Amg0O9YxNcY"
      }
    },
    {
      "cell_type": "markdown",
      "source": [
        "*Differentiable Programming and Probabilistic Programming*\n",
        "\n",
        "![ggg](https://raw.githubusercontent.com/deltorobarba/repo/master/sciences_1701.jpg)\n",
        "\n",
        "https://www.lokad.com/blog/2024/1/29/probabilistic-exponential-smoothing-for-explainable-ai-in-supply-chain/"
      ],
      "metadata": {
        "id": "or8sN-Vzjadz"
      }
    }
  ]
}