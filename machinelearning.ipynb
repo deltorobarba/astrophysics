{
  "nbformat": 4,
  "nbformat_minor": 0,
  "metadata": {
    "colab": {
      "name": "machinelearning.ipynb",
      "provenance": [],
      "collapsed_sections": [
        "cLqMif93taZh",
        "RlaD0R2A_Xm_",
        "kz6B04s3mP2D",
        "ax0G1hNGmUkY",
        "ZYvz0EvnehYe",
        "uCXiItcr8fBF",
        "ZRm1s4GT-cJQ",
        "x7Ar2rX9F5J2",
        "tUV1vCn8taZq",
        "2O8rL5i4tQs4",
        "UARWHmcM472k",
        "XNRACA5G9g_Y",
        "lhUKu2aQ8Bx6",
        "bfj2razi0UAN",
        "JxNH2KHKq2gF",
        "dTFHJjm5q5Fw",
        "S1x8Qelgq83l",
        "6oxpPFw5rAZ6",
        "PccRn3pZrDqj",
        "88gAv-OVrGKD",
        "DFZ6oo1rrIkP",
        "WYBDzBo41JWW",
        "-l55VAagtIYb",
        "bf7wHjolPmqC",
        "MJbnpAPLU0pY",
        "JegUy7mCVCyb",
        "NF-4DFGVVGke",
        "T_0RPg2OVUko",
        "DzpfB8_lVXwy",
        "6z5NyXHDVadH",
        "A4AwxjhWVdNt",
        "D5_fFDCPVgL1",
        "TLhqpyLVfcpG",
        "WlXSmY29tIYk",
        "2EL8zZZZWSbe",
        "pMmEW2UDs4qd",
        "5jK34bCZV5L6",
        "gOhC8gWddYz_",
        "CXBpZ1M8zNi5",
        "ZrVKpOHIzWHG",
        "AmqQ5UuaFxPE",
        "MrnqfFqHXRuR",
        "VVJqZBKKTJcX",
        "zy6HK9uZG4NF",
        "MUL3Y97WG7n6",
        "M9V8uoymHN3M",
        "i7utPdOPHfya",
        "-bRPT7j2Hjpr",
        "bB89shlnkga3",
        "qPHAqSSzGRWu",
        "ZtrplweMXpx0",
        "zwF3TGA4HyGe",
        "iAuSM7rYi0nW",
        "gVUgUeHIYPXm",
        "o2zuQpPO6vNn",
        "ceX3klubVpBn",
        "rCZf8vrBmGux",
        "N3jTMrMFRcgH",
        "LxKmU_MLUICH",
        "YfVxKUnwXK8Z",
        "kMkjtUvw8nOE",
        "W3qVwnOZB5Nb",
        "F3YVyW4Y4h9u",
        "VwyJNSuepvyl",
        "vMM3R7pCwCHG",
        "VefQJanNG6a6",
        "5wnEN4OmHG9p",
        "0jCYoWZoHd2X"
      ],
      "include_colab_link": true
    },
    "kernelspec": {
      "display_name": "Python 3",
      "name": "python3"
    }
  },
  "cells": [
    {
      "cell_type": "markdown",
      "metadata": {
        "id": "view-in-github",
        "colab_type": "text"
      },
      "source": [
        "<a href=\"https://colab.research.google.com/github/deltorobarba/machinelearning/blob/master/machinelearning.ipynb\" target=\"_parent\"><img src=\"https://colab.research.google.com/assets/colab-badge.svg\" alt=\"Open In Colab\"/></a>"
      ]
    },
    {
      "cell_type": "markdown",
      "metadata": {
        "id": "HjNmcYpFuFTY"
      },
      "source": [
        "## <font color=\"blue\">**Machine Learning**"
      ]
    },
    {
      "cell_type": "code",
      "source": [
        "!pip install livelossplot --quiet\n",
        "from livelossplot import PlotLossesKerasTF\n",
        "import tensorflow as tf"
      ],
      "metadata": {
        "id": "b1igI_qAtE9c"
      },
      "execution_count": null,
      "outputs": []
    },
    {
      "cell_type": "markdown",
      "metadata": {
        "id": "cLqMif93taZh"
      },
      "source": [
        "#### **Regularization**"
      ]
    },
    {
      "cell_type": "markdown",
      "metadata": {
        "id": "RlaD0R2A_Xm_"
      },
      "source": [
        "###### Overfitting & (Weight) Regularization Techniques"
      ]
    },
    {
      "cell_type": "markdown",
      "metadata": {
        "id": "bCTrl7sMJygS"
      },
      "source": [
        "https://www.machinecurve.com/index.php/2020/01/23/how-to-use-l1-l2-and-elastic-net-regularization-with-keras/#elastic-net-kernel-bias-regularization"
      ]
    },
    {
      "cell_type": "markdown",
      "metadata": {
        "id": "vquRPP9I9PH6"
      },
      "source": [
        "https://towardsdatascience.com/understanding-the-scaling-of-l²-regularization-in-the-context-of-neural-networks-e3d25f8b50db"
      ]
    },
    {
      "cell_type": "markdown",
      "metadata": {
        "id": "P8s0122GKQot"
      },
      "source": [
        "https://medium.com/@savannahar68/getting-started-with-regression-a39aca03b75f"
      ]
    },
    {
      "cell_type": "markdown",
      "metadata": {
        "id": "kofQf1Yi_b6h"
      },
      "source": [
        "**Problem Statement**\n",
        "\n",
        "* A fundamental problem in machine learning is the possibility of overfitting training data and carrying the noise of that data through to the test set, thereby providing inaccurate generalizations. Overfitting is when you have a complicated model that gives worse predictions than a simpler model.\n",
        "* A network with large network weights can be a sign of an unstable network where small changes in the input can lead to large changes in the output. This can be a sign that the network has overfit the training dataset and will likely perform poorly when making predictions on new data. A solution to this problem is to update the learning algorithm to encourage the network to keep the weights small. This is called [weight regularization](https://machinelearningmastery.com/weight-regularization-to-reduce-overfitting-of-deep-learning-models/).\n",
        "* Regularization is a technique for preventing a model from overfitting (e.g. preventing over-fitting by penalizing a model for having large weights)."
      ]
    },
    {
      "cell_type": "markdown",
      "metadata": {
        "id": "DEDOi0Mf_gkA"
      },
      "source": [
        "**Trivial Regularization Approaches**\n",
        "\n",
        "* Add more data\n",
        "* Simpler model (reduce variance by taking into account fewer variables and parameters, thereby removing some of the noise in the training data)\n",
        "* Use ensemble models\n",
        "\n",
        "**Particular Regularization Techniques**\n",
        "* Vectornorm (L1, L2, or Elastic Net)\n",
        "* Dropout\n",
        "* Jitter (add noise)\n",
        "* Batch size\n",
        "* Early stopping (this is not a formal regularization method, but can effectively limit overfitting). "
      ]
    },
    {
      "cell_type": "markdown",
      "metadata": {
        "id": "2_vXArve_o4V"
      },
      "source": [
        "**Overfitting: Variance-Bias-Tradeoff**: [Regularization and Geometry](https://towardsdatascience.com/regularization-and-geometry-c69a2365de19) & [The Bias-Variance Tradeoff\n",
        "](https://towardsdatascience.com/the-bias-variance-tradeoff-8818f41e39e9)"
      ]
    },
    {
      "cell_type": "markdown",
      "metadata": {
        "id": "ttcXa-1n_uOR"
      },
      "source": [
        "**Benefits of regularization from a mathematical optimization point of view**\n",
        "\n",
        "* Machine learning is an optimization problem, where we try to minimize a cost function to find optimal values for our model's parameter. Some machine learning models, like neural networks, have non-convex cost functions. Stationary points in these cost functions are problematic because numerical optimization schemes (like gradient descent) can easily get stuck, leading to poor results.\n",
        "* Regularization can be used as a way of ‚convexifying‘ a non-convex cost function. The L2 regularizer, being an upward-facing convex function, can unflatten flat regions and curve up some stationary points without severely changing the minimum locations (e.g L2 regularized cost no longer has an issue with saddle points, as the region surrounding it has been curved upwards).\n",
        "* Regularization can also help with the optimization of convex machine learning problems, when is not invertible. For example the solution to the L2 regularized version of linear regression is given by is the regularization parameter, which can be set large enough so that becomes invertible."
      ]
    },
    {
      "cell_type": "markdown",
      "metadata": {
        "id": "75X3Z2teJNs-"
      },
      "source": [
        "**Theoretical Foundation** \n",
        "\n",
        "Modify cost function J by adding 'preference' to certain parameter values:\n",
        "\n",
        "$J(\\underline{\\theta})=\\frac{1}{2}\\left(\\underline{y}-\\underline{\\theta} \\underline{X}^{T}\\right) \\cdot\\left(\\underline{y}-\\underline{\\theta} \\underline{X}^{T}\\right)^{T}+\\alpha \\theta \\theta^{T}$\n",
        "\n",
        "New solution (derive the same way) - problem is now well-posed for any degree:\n",
        "\n",
        "$\\underline{\\theta}=\\underline{y} \\underline{X}\\left(\\underline{X}^{T} \\underline{X}+\\alpha I\\right)^{-1}$\n",
        "\n",
        "* Shrinks parameters towards zero\n",
        "* Alpha large: we prefer small theta to small MSE\n",
        "* Regularization term is independent of the data: paying more attention reduces variance."
      ]
    },
    {
      "cell_type": "markdown",
      "metadata": {
        "id": "kz6B04s3mP2D"
      },
      "source": [
        "###### L1 (Vectornorm)"
      ]
    },
    {
      "cell_type": "code",
      "metadata": {
        "id": "Oi4oThAflKTY"
      },
      "source": [
        "lasso = tf.keras.regularizers.l1(l=0.0005)"
      ],
      "execution_count": null,
      "outputs": []
    },
    {
      "cell_type": "markdown",
      "metadata": {
        "id": "69igJRd9Hs4H"
      },
      "source": [
        "Traditional methods like cross-validation, stepwise regression to handle overfitting and perform feature selection work well with a small set of features but vectornorm regularization is a great alternative when dealing with a large set of features."
      ]
    },
    {
      "cell_type": "markdown",
      "metadata": {
        "id": "nlN8ilZEqQj7"
      },
      "source": [
        "<p>\n",
        "$\\sum_{i=1}^{n}\\left|u_{i}\\right|=\\sum_{i=1}^{n}\\left|y_{i}-b_{0}-b_{1} x_{i}\\right|$\n",
        "</p><br>\n",
        "\n",
        "\n",
        "$d_{1} \\equiv d_{\\mathrm{SAD}}:(x, y) \\mapsto\\|x-y\\|_{1}=\\sum_{i=1}^{n}\\left|x_{i}-y_{i}\\right|$\n",
        "\n",
        "* **Synonyms**: Lasso, Manhatten distance, least absolute deviations (LAD method), least absolute errors (LAE)\n",
        "* **Fun Fact**: L1 Regularization is analytical equivalent to Laplacean prior\n",
        "* **Summary**: Sum of the absolute weights. Gives sparse solutions, since it does not take all features. Lasso shrinks the less important feature’s coefficient to zero thus, removing some feature altogether. So, this works well for feature selection in case we have a huge number of features.\n",
        "* **Advantages**: less influenced by outliers (robust). Can shrink some coefficients to zero while lambda increases, performing variable selection. generates sparse feature vectors (Sparse: only very few entries in a matrix or vector is non-zero. L1-norm has property of producing many coefficients with zero values or very small values with few large coefficients). Sparse is sometimes good eg. in high dimensional classification problems. sparsity properties: calculation more computationally efficient.\n",
        "* **Disadvantages**: L1 regularization doesn’t easily work with all forms of training. gives a solution with more large residuals, and a lot of zeros in the solution.\n",
        "* **Use Cases**: \n",
        "  * if only a subset of features are correlated with the label, as in lasso model some coefficient can be shrunken to zero. \n",
        "  * very useful when you want to understand exactly which features are contributing to a decision. \n",
        "  * if you can ignore the ouliers in your dataset or you need them to be there. \n",
        "  * use L1 when constraints on feature extraction: easily avoid computing a lot of computationally expensive features  at the cost of some of the accuracy, since the L1-norm will give us a solution which has the weights for a large set of features set to zero (real-time detection or tracking of an object/face/material using a set of diverse handcrafted features with a large margin classifier like an SVM in a sliding window fashion - you'd probably want feature computation to be as fast as possible in this case).\n",
        "* **Bayesian**: L1 usually corresponds to setting a Laplacean prior: Some of the coefficients will shrink to zero: similar effect would be achieved in Bayesian linear regression using a Laplacian prior (strongly peaked at zero) on each of the beta coefficients.\n",
        "\n"
      ]
    },
    {
      "cell_type": "markdown",
      "metadata": {
        "id": "OHWJgeJqB4gy"
      },
      "source": [
        "**Add L1 (Lasso) Penalty Term to Cost Function**\n",
        "\n",
        "$\\sum_{i=1}^{n}\\left(Y_{i}-\\sum_{j=1}^{p} X_{i j} \\beta_{j}\\right)^{2}+\\lambda \\sum_{j=1}^{p}\\left|\\beta_{j}\\right|$\n",
        "\n",
        "* Lasso Regression (Least Absolute Shrinkage and Selection Operator) adds “absolute value of magnitude” of coefficient as penalty term to the loss function.\n",
        "* If lambda is zero then we will get back OLS whereas very large value will make coefficients zero hence it will under-fit. \n",
        "* Learn more on [Google Course](https://developers.google.com/machine-learning/crash-course/regularization-for-simplicity/lambda): Regularization for Simplicity: Lambda"
      ]
    },
    {
      "cell_type": "markdown",
      "metadata": {
        "id": "ax0G1hNGmUkY"
      },
      "source": [
        "###### L2 (Vectornorm)"
      ]
    },
    {
      "cell_type": "code",
      "metadata": {
        "id": "ub6fkS_QlgEm"
      },
      "source": [
        "ridge = tf.keras.regularizers.l2(l=0.0005)"
      ],
      "execution_count": null,
      "outputs": []
    },
    {
      "cell_type": "markdown",
      "metadata": {
        "id": "nZuDNlbKlWu4"
      },
      "source": [
        "<p>\n",
        "$\\sum_{i=1}^{n} u_{i}^{2}=\\sum_{i=1}^{n}\\left(y_{i}-b_{0}-b_{1} x_{i}\\right)^{2}$\n",
        "</p><br>\n",
        "\n",
        "* **Synonyms**: Weight Decay, Ridge Regression, KQ-Methode, kleinste Quadrate, [Tikhonov regularization](https://en.m.wikipedia.org/wiki/Tikhonov_regularization), Euclidean distance, least squares error (LSE)\n",
        "* **Fun Fact**: L2 Regularization is analytically equivalent to Gaussian prior\n",
        "* **Summary**: Sum of the squared weights. Is the most common type of regularization, also called simply “weight decay,” with values often on a logarithmic scale between 0 and 0.1, such as 0.1, 0.001, 0.0001, etc.\n",
        "* **Advantages**: Shrinks all the coefficient by the same proportions, but eliminates none. Leads to small distributed weights in neural networks. The L2 regularization heavily penalizes \"peaky\" weight vectors and prefers diffuse weight vectors. Empirically performs better than L1. The fit for L2 will be more precise than L1. Works with all forms of training. Smoother: fewer large residual values along with fewer very small residuals as well. L2-norm has analytical solution - allows the L2-norm solutions to be calculated computationally efficiently.\n",
        "* **Disadvantages**: Sensitive to outliers, since L2 wants all errors to be tiny and heavily penalizes anyone who doesn't obey. Computation heavy compared to the L1 norm. Doesn’t give you implicit feature selection.\n",
        "* **Use Cases**: Use ridge if all the features are correlated with the label, as the coefficients are never zero in ridge. \n",
        "* **Bayesian**: L2 similarly corresponds to Gaussian prior. As one moves away from zero, the probability for such a coefficient grows progressively smaller. The square loss penalty can be seen as putting a Gaussian prior on your weights.\n"
      ]
    },
    {
      "cell_type": "markdown",
      "metadata": {
        "id": "ZYzCd1FUBnjV"
      },
      "source": [
        "**Add L2 (Ridge) Penalty Term to Cost Function**\n",
        "\n",
        "$\\sum_{i=1}^{n}\\left(y_{i}-\\sum_{j=1}^{p} x_{i j} \\beta_{j}\\right)^{2}+\\lambda \\sum_{j=1}^{p} \\beta_{j}^{2}$\n",
        "\n",
        "* Ridge regression adds “squared magnitude” of coefficient as penalty term to the loss function.\n",
        "* If lambda is zero then you can imagine we get back OLS. However, if lambda is very large then it will add too much weight and it will lead to under-fitting. Having said that it’s important how lambda is chosen."
      ]
    },
    {
      "cell_type": "markdown",
      "metadata": {
        "id": "ZYvz0EvnehYe"
      },
      "source": [
        "##### **Elastic Net (Vectornorm)**"
      ]
    },
    {
      "cell_type": "code",
      "metadata": {
        "id": "Kzk5Tr-4loTf"
      },
      "source": [
        "elasticnet = tf.keras.regularizers.L1L2(l1=0.0, l2=0.0)"
      ],
      "execution_count": null,
      "outputs": []
    },
    {
      "cell_type": "markdown",
      "metadata": {
        "id": "pQ8UW9XnleoV"
      },
      "source": [
        "* Method that linearly combines the L1 and L2 penalties of the lasso and ridge methods, at the \"only\" cost of introducing another hyperparameter to tune (see Hastie's paper on stanford.edu).\n",
        "* Overcome limitations of L1: in the \"large p, small n\" case (high-dimensional data with few examples), the LASSO selects at most n variables before it saturates. Also if there is a group of highly correlated variables, then the LASSO tends to select one variable from a group and ignore the others.\n",
        "* Solution in elastic net: add quadratic part to penalty (L2). quadratic penalty term makes the loss function strictly convex, and it therefore has a unique minimum.\n",
        "* Naive version of elastic net method finds an estimator in a two-stage procedure : first for each fixed λ2 it finds the ridge regression coefficients, and then does a LASSO type shrinkage. This kind of estimation incurs a double amount of shrinkage, which leads to increased bias and poor predictions. To improve the prediction performance, the authors rescale the coefficients of the naive version of elastic net by multiplying the estimated coefficients by (1+λ2)."
      ]
    },
    {
      "cell_type": "markdown",
      "metadata": {
        "id": "4foOVciWvULS"
      },
      "source": [
        "**Special: Analytical Equivalence**\n",
        "\n",
        "Why is L2 Regularization is analytically equivalent to Gaussian prior?\n",
        "\n",
        "\n",
        "https://stats.stackexchange.com/questions/163388/why-is-the-l2-regularization-equivalent-to-gaussian-prior/163450#163450\n"
      ]
    },
    {
      "cell_type": "markdown",
      "metadata": {
        "id": "uCXiItcr8fBF"
      },
      "source": [
        "##### **Dropout**"
      ]
    },
    {
      "cell_type": "code",
      "metadata": {
        "id": "dkuqSCGXADpz"
      },
      "source": [
        "dropout = 0.3"
      ],
      "execution_count": null,
      "outputs": []
    },
    {
      "cell_type": "markdown",
      "metadata": {
        "id": "O51DzciO8gY4"
      },
      "source": [
        "**What is it and how it works?**\n",
        "\n",
        "* Ziel: Overfitting vermeiden\n",
        "* Dropout forces a neural network to learn more robust features that are useful in conjunction with many different random subsets of the other neurons.\n",
        "* Dropout roughly doubles the number of iterations required to converge. However, training time for each epoch is less. With H hidden units, each of which can be dropped, we have 2^H possible models. In testing phase, the entire network is considered and each activation is reduced by a factor p.\n",
        "At test time the whole network is used (all units) but with scaled down weights. Mathematically this approximates ensemble averaging (using the geometric mean as average). Two papers that explain this much better are:\n",
        "* Hinton et al, [1207.0580] Improving neural networks by preventing co-adaptation of feature detectors, 2012 (probably the original paper on dropout)\n",
        "* Warde-Farley et al, [1312.6197] An empirical analysis of dropout in piecewise linear networks, 2014 (analyzes dropout specially for the case of using ReLU as activation function -arguably the most popular- , and checks the behavior of the geometric mean for ensemble averaging).\n",
        "* Andrew Ng: dropout is nothing more than an adaptive form of L2 regularization and that both methods have similar effects\n",
        "* The dropout will randomly mute some neurons in the neural network and we therefore have a sparse network which hugely decreases the possibility of overfitting. More importantly, the dropout will make the weights spread over the input features instead of focusing on some features. https://hackernoon.com/is-the-braess-paradox-related-to-dropout-in-neural-nets-270ecb97cdeb https://de.m.wikipedia.org/wiki/Dropout_(künstliches_neuronales_Netz)"
      ]
    },
    {
      "cell_type": "markdown",
      "metadata": {
        "id": "k9kfZ8__8lq6"
      },
      "source": [
        "**Is dropout outdated?**\n",
        "\n",
        "Neural Network:  Dropout\n",
        "\n",
        "https://medium.com/@bingobee01/a-review-of-dropout-as-applied-to-rnns-72e79ecd5b7b\n",
        "\n",
        "Don’t Use Dropout in Convolutional Networks\n",
        "https://towardsdatascience.com/dont-use-dropout-in-convolutional-networks-81486c823c16\n",
        "\n",
        "Instead you should insert batch normalization between your convolutions. This will regularize your model, as well as make your model more stable during training.\n",
        "\n",
        "First, dropout is generally less effective at regularizing convolutional layers: The reason? Since convolutional layers have few parameters, they need less regularization to begin with. Furthermore, because of the spatial relationships encoded in feature maps, activations can become highly correlated. This renders dropout ineffective. ([Source](https://www.reddit.com/r/MachineLearning/comments/5l3f1c/d_what_happened_to_dropout/))\n",
        "\n",
        "Second, what dropout is good at regularizing is becoming outdated: Large models like VGG16 included fully connected layers at the end of the network. For models like this, overfitting was combatted by including dropout between fully connected layers. Unfortunately, [recent architectures](https://arxiv.org/pdf/1512.03385.pdf) move away from this fully-connected block. By replacing dense layers with global average pooling, modern convnets have reduced model size while improving performance."
      ]
    },
    {
      "cell_type": "markdown",
      "metadata": {
        "id": "89Zhb5RT8q-i"
      },
      "source": [
        "**Use Dropout along with L1/L2 Regularization?**\n",
        "\n",
        "* You can, but it is still not clear whether using both at the same time acts synergistically or rather makes things more complicated for no net gain.\n",
        "* While ℓ 2 regularization is implemented with a clearly-defined penalty term, dropout requires a random process of “switching off” some units, which cannot be coherently expressed as a penalty term and therefore cannot be analyzed other than experimentally.\n",
        "* they both try to avoid the network’s over-reliance on spurious correlations, which are one of the consequences of overtraining that wreaks havoc with generalization. But more detailed research is necessary to determine whether and when they can “work together” or rather end up “fighting each other”. So far, it seems the results tend to vary in a case-by-case fashion. Using both can increase accuracy: https://www.cs.toronto.edu/~hinton/absps/JMLRdropout.pdf (Hinton paper 2014) "
      ]
    },
    {
      "cell_type": "markdown",
      "metadata": {
        "id": "ZRm1s4GT-cJQ"
      },
      "source": [
        "##### **Batch Normalization & Size**"
      ]
    },
    {
      "cell_type": "markdown",
      "metadata": {
        "id": "7-DF6MeD-fJs"
      },
      "source": [
        "https://towardsdatascience.com/understanding-batch-normalization-for-neural-networks-1cd269786fa6"
      ]
    },
    {
      "cell_type": "markdown",
      "metadata": {
        "id": "SS_IJLDTGrtS"
      },
      "source": [
        "Small batches can oﬀer a regularizing eﬀect (Wilson and Martinez, 2003), perhaps due to the noise they add to the learning process.\n",
        "\n",
        "Using a smaller batch size is like using some regularization to avoid converging to sharp minimizers. The gradients calculated with a small batch size are much more noisy than gradients calculated with large batch size, so it's easier for the model to escape from sharp minimizers, and thus leads to a better generalization. Generalization error is often best for a batch size of 1. Training with such a small batch size might require a small learning rate to maintain stability because of the high variance in the estimate of the gradient. The total runtime can be very high as a result of the need to make more steps, both because of the reduced learning rate and because it takes more steps to observe the entire training set.)"
      ]
    },
    {
      "cell_type": "markdown",
      "metadata": {
        "id": "t9zDEIMy-ira"
      },
      "source": [
        "**Batch Normalization**\n",
        "\n",
        "* Batch normalization is another method to regularize a (convolutional) network.\n",
        "* On top of a regularizing effect, batch normalization also gives your convolutional network a resistance to vanishing gradient during training. This can decrease training time and result in better performance.\n",
        "* Batch Normalization Combats Vanishing Gradient\n",
        "* Batch normalization replaces dropout.\n",
        "* Even if you don’t need to worry about overfitting there are many benefits to implementing batch normalization. Because of this, and its regularizing effect, batch normalization has largely replaced dropout in modern convolutional architectures.\n",
        "* “We presented an algorithm for constructing, training, and performing inference with batch-normalized networks. The resulting networks can be trained with saturating nonlinearities, are more tolerant to increased training rates, and often do not require Dropout for regularization.” -[Ioffe and Svegedy 2015](https://arxiv.org/pdf/1502.03167.pdf)\n",
        "\n"
      ]
    },
    {
      "cell_type": "markdown",
      "metadata": {
        "id": "woBwlhjh-ql4"
      },
      "source": [
        "**Batch Size**\n",
        "\n",
        "Why use batches?\n",
        "To avoid that small datasets increase overfitting to this datasets and worsen overall accuracy. But batch size shouldnt be too big either (computation time, speed of convergence of an algorithm)\n",
        "\n",
        "* Research 1: a low batch size means a very noisy gradient (because computed on a very small subset of the dataset), and a high learning rate means noisy steps.\n",
        "https://towardsdatascience.com/recent-advances-for-a-better-understanding-of-deep-learning-part-i-5ce34d1cc914\n",
        "\n",
        "* Research 2: How do you choose your batch size in deep learning/SGD? - An interesting concept so-called \"generalization gap\": Train longer, generalize better: closing the generalization gap in large batch training of neural networks:\n",
        "https://arxiv.org/abs/1705.08741\n",
        "\n"
      ]
    },
    {
      "cell_type": "markdown",
      "metadata": {
        "id": "nR3bCecV-tdv"
      },
      "source": [
        "**Covariate Shift**\n",
        "\n",
        "pending..."
      ]
    },
    {
      "cell_type": "markdown",
      "metadata": {
        "id": "x7Ar2rX9F5J2"
      },
      "source": [
        "##### **Jitter (Noise)**"
      ]
    },
    {
      "cell_type": "markdown",
      "metadata": {
        "id": "fUObBuJbF8oO"
      },
      "source": [
        "* adding annealed Gaussian noise by decaying the variance works better than using fixed Gaussian noise"
      ]
    },
    {
      "cell_type": "markdown",
      "metadata": {
        "id": "tUV1vCn8taZq"
      },
      "source": [
        "##### **Define Model & Run**"
      ]
    },
    {
      "cell_type": "code",
      "metadata": {
        "id": "IRsFyXXiwXYC"
      },
      "source": [
        "# Kernel Regularizer - Regularizer function applied to the kernel weights matrix.\n",
        "kernel_regularizer = lasso"
      ],
      "execution_count": null,
      "outputs": []
    },
    {
      "cell_type": "code",
      "metadata": {
        "id": "4NrlNShswyvG"
      },
      "source": [
        "# Bias Regularizer - Regularizer function applied to the bias vector\n",
        "bias_regularizer = ridge"
      ],
      "execution_count": null,
      "outputs": []
    },
    {
      "cell_type": "code",
      "metadata": {
        "id": "AFwslg_Bw_9E"
      },
      "source": [
        "# Activity Regularizer - Regularizer function applied to the output of the layer (its \"activation\")\n",
        "activity_regularizer = None"
      ],
      "execution_count": null,
      "outputs": []
    },
    {
      "cell_type": "code",
      "metadata": {
        "id": "CDEv6ZETl129",
        "outputId": "65c64fc8-0092-437f-b488-44fd2a8f263e",
        "colab": {
          "base_uri": "https://localhost:8080/",
          "height": 683
        }
      },
      "source": [
        "# Load & Prepare Model\n",
        "fashion_mnist = tf.keras.datasets.fashion_mnist\n",
        "(x_train, y_train),(x_test, y_test) = fashion_mnist.load_data()\n",
        "x_train, x_test = x_train / 255.0, x_test / 255.0\n",
        "\n",
        "# Define Model\n",
        "model = tf.keras.models.Sequential()\n",
        "model.add(tf.keras.layers.Flatten(input_shape=(28, 28)))\n",
        "model.add(tf.keras.layers.Dense(512, activation='relu', \n",
        "                                kernel_regularizer=kernel_regularizer, \n",
        "                                bias_regularizer=bias_regularizer, \n",
        "                                activity_regularizer=activity_regularizer))\n",
        "model.add(tf.keras.layers.Dropout(dropout))\n",
        "model.add(tf.keras.layers.Dense(10, activation='softmax'))\n",
        "\n",
        "# Compile Model\n",
        "model.compile(optimizer='adam', \n",
        "              loss='sparse_categorical_crossentropy', \n",
        "              metrics=['accuracy'])\n",
        "\n",
        "# Train Model\n",
        "model.fit(x=x_train, \n",
        "          y=y_train, \n",
        "          epochs=5, \n",
        "          validation_data=(x_test, y_test),\n",
        "          callbacks=[PlotLossesKerasTF()],\n",
        "          verbose=1)"
      ],
      "execution_count": null,
      "outputs": [
        {
          "output_type": "display_data",
          "data": {
            "image/png": "[encoded data removed]",
            "text/plain": [
              "<Figure size 864x576 with 2 Axes>"
            ]
          },
          "metadata": {
            "tags": [],
            "needs_background": "light"
          }
        },
        {
          "output_type": "stream",
          "text": [
            "accuracy\n",
            "\ttraining         \t (min:    0.768, max:    0.810, cur:    0.810)\n",
            "\tvalidation       \t (min:    0.749, max:    0.831, cur:    0.831)\n",
            "Loss\n",
            "\ttraining         \t (min:    0.789, max:    1.490, cur:    0.789)\n",
            "\tvalidation       \t (min:    0.721, max:    1.070, cur:    0.721)\n",
            "\b\b\b\b\b\b\b\b\b\b\b\b\b\b\b\b\b\b\b\b\b\b\b\b\b\b\b\b\b\b\b\b\b\b\b\b\b\b\b\b\b\b\b\b\b\b\b\b\b\b\b\b\b\b\b\b\b\b\b\b\b\b\b\b\b\b\b\b\b\b\b\b\b\b\b\b\b\b\b\b\b\b\b\b\b\b\r1875/1875 [==============================] - 11s 6ms/step - loss: 0.7889 - accuracy: 0.8097 - val_loss: 0.7208 - val_accuracy: 0.8306\n"
          ],
          "name": "stdout"
        },
        {
          "output_type": "execute_result",
          "data": {
            "text/plain": [
              "<tensorflow.python.keras.callbacks.History at 0x7fa4de520fd0>"
            ]
          },
          "metadata": {
            "tags": []
          },
          "execution_count": 8
        }
      ]
    },
    {
      "cell_type": "markdown",
      "metadata": {
        "id": "2O8rL5i4tQs4"
      },
      "source": [
        "#### **Optimizer**"
      ]
    },
    {
      "cell_type": "markdown",
      "metadata": {
        "id": "dm__rsUgqfRr"
      },
      "source": [
        "https://algorithmia.com/blog/introduction-to-optimizers"
      ]
    },
    {
      "cell_type": "markdown",
      "metadata": {
        "id": "rpJQYHUeolSG"
      },
      "source": [
        "https://juntang-zhuang.github.io/adabelief/"
      ]
    },
    {
      "cell_type": "markdown",
      "metadata": {
        "id": "UARWHmcM472k"
      },
      "source": [
        "##### **Intro**"
      ]
    },
    {
      "cell_type": "markdown",
      "metadata": {
        "id": "sdUXshnDyLAv"
      },
      "source": [
        "* why optimizer\n",
        "* what is it doing\n",
        "\n",
        "https://medium.com/explorations-in-language-and-learning/a-short-note-on-gradient-descent-optimization-algorithms-335546c5a896\n",
        "\n",
        "\n",
        "An overview of gradient descent optimization algorithms\n",
        "\n",
        "https://arxiv.org/pdf/1609.04747.pdf"
      ]
    },
    {
      "cell_type": "markdown",
      "metadata": {
        "id": "P_dXdznmzvmq"
      },
      "source": [
        "**Which Optimizer to use?**\n",
        "\n",
        "* Wich optimizer should you now use? If your input data is sparse, then you likely achieve the best results using one of the adaptive learning-rate methods. An additional benefit is that you won't need to tune the learning rate but likely achieve the best results with the default value.\n",
        "* In summary, RMSprop is an extension of Adagrad that deals with its radically diminishing learning rates. It is identical to Adadelta, except that Adadelta uses the RMS of parameter updates in the numinator update rule. Adam, finally, adds bias-correction and momentum to RMSprop. Insofar, RMSprop, Adadelta, and Adam are very similar algorithms that do well in similar circumstances. Kingma et al. [15] show that its bias-correction helps Adam slightly outperform RMSprop towards the end of optimization as gradients become sparser. Insofar, Adam might be the best overall choice.\n",
        "* Interestingly, many recent papers use vanilla SGD without momentum and a simple learning rate annealing schedule. As has been shown, SGD usually achieves to find a minimum, but it might take significantly longer than with some of the optimizers, is much more reliant on a robust initialization and annealing schedule, and may get stuck in saddle points rather than local minima. Consequently, if you care about fast convergence and train a deep or complex neural network, you should choose one of the adaptive learning rate methods.\n",
        "\n",
        "**Comparison**\n",
        "\n",
        "* Few days ago, an interesting paper titled The Marginal Value of Adaptive Gradient Methods in Machine Learning (https://arxiv.org/abs/1705.08292) from UC Berkeley came out. In this paper, the authors compare adaptive optimizer (Adam, RMSprop and AdaGrad) with SGD, observing that SGD has better generalization than adaptive optimizers.\n",
        "* “We observe that the solutions found by adaptive methods generalize worse (often significantly worse) than SGD, even when these solutions have better training performance. These results suggest that practitioners should reconsider the use of adaptive methods to train neural networks.”\n",
        "* I was astounded by their finding since I never used SGD before and consider it as an outdated optimizer with slower convergence than Adam or RMSprop. Am I totally wrong from the very beginning?\n",
        "\n",
        "https://medium.com/vitalify-asia/whats-up-with-deep-learning-optimizers-since-adam-5c1d862b9db0\n"
      ]
    },
    {
      "cell_type": "markdown",
      "metadata": {
        "id": "XNRACA5G9g_Y"
      },
      "source": [
        "##### **Learning Rate**"
      ]
    },
    {
      "cell_type": "code",
      "metadata": {
        "id": "KlF_zDPN9k_W"
      },
      "source": [
        "learning_rate = 0.001"
      ],
      "execution_count": null,
      "outputs": []
    },
    {
      "cell_type": "markdown",
      "metadata": {
        "id": "4zYRKPnzjiG9"
      },
      "source": [
        "https://machinelearningmastery.com/understand-the-dynamics-of-learning-rate-on-deep-learning-neural-networks/"
      ]
    },
    {
      "cell_type": "markdown",
      "metadata": {
        "id": "HYHTsDYT9zpS"
      },
      "source": [
        "* being used in optimizers / cost function\n",
        "* Learning rate is an important component of backpropagation in a neural network:\n",
        "* New Value of weight a = Old value a - (learning rate * gradient ∂SSE/∂a) θ=θ−η⋅∇θJ(θ)\n",
        "\n",
        "**Ian Goodfellow answering to \"Why do not use the whole training set to compute the gradient?\" on Quora**\n",
        "\n",
        "* The size of the learning rate is limited mostly by factors like how curved the cost function is. You can think of gradient descent as making a linear approximation to the cost function, then moving downhill along that approximate cost. \n",
        "* If the cost function is highly non-linear (highly curved) then the approximation will not be very good for very far, so only small step sizes are safe. You can read more about this in Chapter 4 of the deep learning textbook, on numerical computation: http://www.deeplearningbook.org/contents/numerical.html\n",
        "* When you put m examples in a minibatch, you need to do O(m) computation and use O(m) memory, but you reduce the amount of uncertainty in the gradient by a factor of only O(sqrt(m)). In other words, there are diminishing marginal returns to putting more examples in the minibatch. You can read more about this in Chapter 8 of the deep learning textbook, on optimization algorithms for deep learning: http://www.deeplearningbook.org/contents/optimization.html\n",
        "* Also, if you think about it, even using the entire training set doesn’t really give you the true gradient. The true gradient would be the expected gradient with the expectation taken over all possible examples, weighted by the data generating distribution. Using the entire training set is just using a very large minibatch size, where the size of your minibatch is limited by the amount you spend on data collection, rather than the amount you spend on computation.\n"
      ]
    },
    {
      "cell_type": "markdown",
      "metadata": {
        "id": "47WxpJKL93zh"
      },
      "source": [
        "**Reasons for using a Learning Rate**\n",
        "\n",
        "* Prevent overreaction which can cause loss increase\n",
        "* Neural networks are often trained by gradient descent on the weights. This means at each iteration we use backpropagation to calculate the derivative of the loss function with respect to each weight and subtract it from that weight. \n",
        "* However, if you actually try that, the weights will change far too much each iteration, which will make them “overcorrect” and the loss will actually increase/diverge. So in practice, people usually multiply each derivative by a small value called the “learning rate” before they subtract it from its corresponding weight.\n",
        "* You can also think of a neural networks loss function as a surface, where each direction you can move in, represents the value of a weight. Gradient descent is like taking leaps in the current direction of the slope, and the learning rate is like the length of the leap you take.\n",
        "* Learning rate decay os alternative to momentum: when replacing gradient descent with SDG, we take smaller, noisier steps towards objective (minimum).\n",
        "* How small should steps be? Much research! Always: beneficial to make steps smaller and smaller; i.e. apply exponential decay to learning rate, others make smaller every time loss reaches a plateau"
      ]
    },
    {
      "cell_type": "markdown",
      "metadata": {
        "id": "OkqdUZqi9-0E"
      },
      "source": [
        "**Challenges**\n",
        "\n",
        "* Which learning rate: If low, training is more reliable, but optimization will take a lot of time because steps towards the minimum of the loss function are tiny. If learning rate is high, then training may not converge or even diverge. Weight changes can be so big that the optimizer overshoots the minimum and makes the loss worse.\n",
        "* A learning rate that is too small leads to painfully slow convergence, while a learning rate that is too large can hinder convergence and cause the loss function to fluctuate around the minimum or even to diverge.\n",
        "* Which Cost function: with SSE cost function the value of θF(Wj)/θWj gets larger and larger as we increase the size of the training dataset\n",
        "* Change learning rate during process? Upwards or downwards?\n",
        "* Learning rate schedules [11] try to adjust the learning rate during training by e.g. annealing, i.e. reducing the learning rate according to a pre-defined schedule or when the change in objective between epochs falls below a threshold. These schedules and thresholds, however, have to be defined in advance and are thus unable to adapt to a dataset's characteristics [10].\n",
        "* Additionally, the same learning rate applies to all parameter updates. If our data is sparse and our features have very different frequencies, we might not want to update all of them to the same extent, but perform a larger update for rarely occurring features.\n",
        "* As full-scale hyperparameter optimization: Selecting a learning rate is a \"meta-problem\" (hyperparameter optimization). The best learning rate depends on the problem at hand, as well as on the architecture of the model being optimized, and even on the state of the model in the current optimization process! There are even software packages devoted to hyperparameter optimization such as spearmint and hyperopt (just a couple of examples, there are many others!)"
      ]
    },
    {
      "cell_type": "markdown",
      "metadata": {
        "id": "wQtelNuz-E7s"
      },
      "source": [
        "**Cosine Annealing**\n",
        "\n",
        "**Adapting learning rate in each iteration downwards (Annealing)**\n",
        "\n",
        "Optimize is the learning rate during training. conventional: decrease over time. There are Multiple ways: step-wise learning rate annealing when the loss stops improving, exponential learning rate decay, cosine annealing, etc. [Source](\n",
        "https://machinelearningmastery.com/using-learning-rate-schedules-deep-learning-models-python-keras/)\n",
        "\n",
        "**Notes on adaptive**\n",
        "* Adapt the value of λ in each iteration. The farther you are from optimal values the faster you should move towards the solution and value of λ should be larger. (The training should start from a relatively large learning rate because, in the beginning, random weights are far from optimal. Then decrease learning rate to allow more fine-grained weight updates.\n",
        "* Check value of error function at the end of each iteration. If error rate reduced since last iteration, increase learning rate by 5%. If error rate increased (=skipped optimal point) reset values of Wj to values of previous iteration and decrease learning rate by 50%. This is called [Bold Driver](http://www.willamette.edu/~gorr/classes/cs449/momrate.html).\n",
        "* One technique that's quite common for selecting learning rates: [Simulated annealing](https://en.wikipedia.org/wiki/Simulated_annealing): start with a large learning rate (0.1 or so) and gradually reduce learning rate as optimization progresses, often by an order of magnitude (0.01, then 0.001, 0.0001, etc.).\n",
        "* Combine with [early stopping](https://en.wikipedia.org/wiki/Early_stopping) to optimize the model with one learning rate as long as progress is being made, then switch to a smaller learning rate once progress appears to slow. The larger learning rates appear to help the model locate regions of general, large-scale optima, while smaller rates help the model focus on one particular local optimum. If the loss does not decrease for several epochs, the learning rate might be too low. The optimization process might also be stuck in a local minimum.\n",
        "* Weight update tracking: Andrej Karpathy proposed to track weight updates to check if the learning rate is well-chosen. If weight update is too high, then learning rate has to be decreased. If weight update is too low, then learning rate has to be increased.\n",
        "\n",
        "**Approach 1: Drop-based learning rate schedule**\n",
        "* Often this method is implemented by dropping the learning rate by half every fixed number of epochs.\n",
        "* For example, we may have an initial learning rate of 0.1 and drop it by 0.5 every 10 epochs. The first 10 epochs of training would use a value of 0.1, in the next 10 epochs a learning rate of 0.05 would be used, and so on\n",
        "\n",
        "**Approach 2: Time-based learning rate schedule**\n",
        "* The learning rate for stochastic gradient descent has been set to a higher value of 0.1. \n",
        "* The model is trained for 50 epochs and the decay argument has been set to 0.002, calculated as 0.1/50. \n",
        "* Additionally, it can be a good idea to use momentum when using an adaptive learning rate. In this case we use a momentum value of 0.8.\n",
        "* Increase the initial learning rate. Because the learning rate will very likely decrease, start with a larger value to decrease from. A larger learning rate will result in a lot larger changes to the weights, at least in the beginning, allowing you to benefit from the fine tuning later.\n",
        "* Use a large momentum. Using a larger momentum value will help the optimization algorithm to continue to make updates in the right direction when your learning rate shrinks to small values.\n",
        "* Experiment with different schedules. It will not be clear which learning rate schedule to use so try a few with different configuration options and see what works best on your problem. Also try schedules that change exponentially and even schedules that respond to the accuracy of your model on the training or test datasets\n",
        "\n",
        "**Approach 3: Adapting learning rate in each iteration upwards**\n",
        "* Leslie N. Smith describes a powerful technique to select a range of learning rates for a neural network in section 3.3 of the 2015 paper [\"Cyclical Learning Rates for Training Neural Networks\"](https://arxiv.org/abs/1506.01186) . \n",
        "* The trick is to train a network starting from a low learning rate and increase the learning rate exponentially for every batch"
      ]
    },
    {
      "cell_type": "markdown",
      "metadata": {
        "id": "bd3YF41m-Mfd"
      },
      "source": [
        "**Batch Size Incrase vs Learning Rate Decay**\n",
        "\n",
        "*Don't Decay the Learning Rate, Increase the Batch Size*\n",
        "\n",
        "* Paper: https://arxiv.org/abs/1711.00489\n",
        "* It is common practice to decay the learning rate. Here we show one can usually obtain the same learning curve on both training and test sets by instead increasing the batch size during training. This procedure is successful for stochastic gradient descent (SGD), SGD with momentum, Nesterov momentum, and Adam. \n",
        "* It reaches equivalent test accuracies after the same number of training epochs, but with fewer parameter updates, leading to greater parallelism and shorter training times. We can further reduce the number of parameter updates by increasing the learning rate ϵ and scaling the batch size B∝ϵ. \n",
        "* Finally, one can increase the momentum coefficient m and scale B∝1/(1−m), although this tends to slightly reduce the test accuracy. Crucially, our techniques allow us to repurpose existing training schedules for large batch training with no hyper-parameter tuning. We train ResNet-50 on ImageNet to 76.1% validation accuracy in under 30 minutes."
      ]
    },
    {
      "cell_type": "markdown",
      "metadata": {
        "id": "lhUKu2aQ8Bx6"
      },
      "source": [
        "##### **Momentum**"
      ]
    },
    {
      "cell_type": "code",
      "metadata": {
        "id": "B1Tyr0Ff8Eb1"
      },
      "source": [
        "momentum = 0.9 # for RMSProp 0.0 / for SGD 0.9"
      ],
      "execution_count": null,
      "outputs": []
    },
    {
      "cell_type": "markdown",
      "metadata": {
        "id": "IzyyEa6R7zex"
      },
      "source": [
        "\n",
        "* [Why Momentum Really Works](https://distill.pub/2017/momentum/)"
      ]
    },
    {
      "cell_type": "markdown",
      "metadata": {
        "id": "bfj2razi0UAN"
      },
      "source": [
        "##### **Stochastic Gradient Descent**"
      ]
    },
    {
      "cell_type": "code",
      "metadata": {
        "id": "fl2-00iD0SLO"
      },
      "source": [
        "optimizer = tf.keras.optimizers.SGD(learning_rate=learning_rate, \n",
        "                                    momentum=momentum, \n",
        "                                    nesterov=False)"
      ],
      "execution_count": null,
      "outputs": []
    },
    {
      "cell_type": "markdown",
      "metadata": {
        "id": "HiYYgAxtyPm1"
      },
      "source": [
        "* [tf.keras](https://www.tensorflow.org/api_docs/python/tf/keras/optimizers/SGD) documentation & Nesterov algorithm based on [this paper](http://jmlr.org/proceedings/papers/v28/sutskever13.pdf)\n",
        "* SGD is a stochastic approximation of the gradient descent optimization and iterative method for minimizing an objective function that is written as a sum of differentiable functions. All other optimizers are called „adaptive“, because they have momentum.\n",
        "* A compromise between computing the true gradient and the gradient at a single example is to compute the gradient against more than one training example (called a \"mini-batch\") at each step. This can perform significantly better than \"true\" stochastic gradient descent described, because the code can make use of vectorization libraries rather than computing each step separately. It may also result in smoother convergence, as the gradient computed at each step uses more training examples.\n",
        "* The convergence of stochastic gradient descent has been analyzed using the theories of convex minimization and of stochastic approximation. Briefly, when the learning rates decrease with an appropriate rate, and subject to relatively mild assumptions, stochastic gradient descent converges almost surely to a global minimum when the objective function is convex or pseudoconvex, and otherwise converges almost surely to a local minimum.[3][4] This is in fact a consequence of the Robbins-Siegmund theorem.\n",
        "* SGD suffers from 2 problems: (i) being hesitant at steep slopes, and (ii) having same learning rate for all parameters.\n",
        "* $\\theta=\\theta-\\eta \\cdot \\nabla_{\\theta} J\\left(\\theta ; x^{(i)} ; y^{(i)}\\right)$\n",
        "* Stochastic gradient descent (SGD) in contrast performs a parameter update for each training example $x^{(i)}$ and label $y^{(i)}$\n",
        "* Batch gradient descent performs redundant computations for large datasets, as it recomputes gradients for similar examples before each parameter update. SGD does away with this redundancy by performing one update at a time. It is therefore usually much faster and can also be used to learn online. \n",
        "* SGD performs frequent updates with a high variance that cause the objective function to fluctuate heavily.\n",
        "\n",
        "**SGD with Momentum**\n",
        "* The update vector consists of another term which has the previous update vector (weighted by γ). This helps it to move faster downhill — like a ball.\n",
        "* The momentum term γ is usually set to 0.9 or a similar value.\n",
        "* $\\begin{aligned}\n",
        "v_{t} &=\\gamma v_{t-1}+\\eta \\nabla_{\\theta} J(\\theta) \\\\\n",
        "\\theta &=\\theta-v_{t}\n",
        "\\end{aligned}$\n",
        "Source: [An overview of gradient descent optimization\n",
        "algorithms](https://arxiv.org/pdf/1609.04747.pdf)\n",
        "\n",
        "**SGD with NAG (Nesterov Accelerated Gradient)**\n",
        "* In Momentum optimizer, the ball may go past the minima due to too much momentum, so we want to have a look-ahead term. \n",
        "* In NAG, we take gradient of future position instead of current position.\n",
        "* $\\begin{aligned}\n",
        "v_{t} &=\\gamma v_{t-1}+\\eta \\nabla_{\\theta} J\\left(\\theta-\\gamma v_{t-1}\\right) \\\\\n",
        "\\theta &=\\theta-v_{t}\n",
        "\\end{aligned}$"
      ]
    },
    {
      "cell_type": "markdown",
      "metadata": {
        "id": "JxNH2KHKq2gF"
      },
      "source": [
        "##### **Adam Optimizer**"
      ]
    },
    {
      "cell_type": "code",
      "metadata": {
        "id": "r2nkJu4w0cic"
      },
      "source": [
        "optimizer = tf.keras.optimizers.Adam(learning_rate=learning_rate, \n",
        "                                     beta_1=0.9, \n",
        "                                     beta_2=0.999, \n",
        "                                     epsilon=1e-07, \n",
        "                                     amsgrad=False)"
      ],
      "execution_count": null,
      "outputs": []
    },
    {
      "cell_type": "markdown",
      "metadata": {
        "id": "rNikbkQWn5ha"
      },
      "source": [
        "* \"Adaptive Moment Estimation\"\n",
        "* Algorithm based on [this paper](https://arxiv.org/abs/1412.6980) & [tf.keras](https://www.tensorflow.org/api_docs/python/tf/keras/optimizers/Adam) documentation\n",
        "* The theory is that Adam already handles learning rate optimization ([Check paper](http://arxiv.org/pdf/1412.6980v8.pdf)) : \"We propose Adam, a method for efficient stochastic optimization that only requires first-order gradients with little memory requirement. The method computes individual adaptive learning rates for different parameters from estimates of first and second moments of the gradients; the name Adam is derived from adaptive moment estimation.\"\n",
        "* Adam optimization is a stochastic gradient descent method that is based on adaptive estimation of first-order and second-order moments. The method is computationally efficient, has little memory requirement, invariant to diagonal rescaling of gradients, and is well suited for problems that are large in terms of data/parameters.\n",
        "* Adam can be looked at as a combination of RMSprop and Stochastic Gradient Descent with momentum. It uses the squared gradients to scale the learning rate like RMSprop and it takes advantage of momentum by using moving average of the gradient instead of gradient itself like SGD with momentum.\n",
        "\n",
        "* $\\theta_{t+1}=\\theta_{t}-\\frac{\\eta}{\\sqrt{\\hat{v}_{t}+\\epsilon}} \\hat{m}_{t}$\n",
        "\n",
        "* Adam combines RMSProp with Momentum. So, in addition to using the decaying average of past squared gradients for parameter-specific learning rate, it uses a decaying average of past gradients in place of the current gradient (similar to Momentum).\n",
        "* The ^ terms are actually bias-corrected averages to ensure that the values are not biased towards 0."
      ]
    },
    {
      "cell_type": "markdown",
      "metadata": {
        "id": "dTFHJjm5q5Fw"
      },
      "source": [
        "##### **Nadam Optimizer**"
      ]
    },
    {
      "cell_type": "code",
      "metadata": {
        "id": "UAJgbbL30krX"
      },
      "source": [
        "optimizer = tf.keras.optimizers.Nadam(learning_rate=learning_rate, \n",
        "                                      beta_1=0.9, \n",
        "                                      beta_2=0.999, \n",
        "                                      epsilon=1e-07)"
      ],
      "execution_count": null,
      "outputs": []
    },
    {
      "cell_type": "markdown",
      "metadata": {
        "id": "kzYP_Nd5m-o0"
      },
      "source": [
        "* \"Nesterov Adaptive Moment Estimation\"\n",
        "* Algorithm based on [this paper](http://cs229.stanford.edu/proj2015/054_report.pdf) & [tf.keras](https://www.tensorflow.org/api_docs/python/tf/keras/optimizers/Nadam) documentation\n",
        "* Nadam is Adam with Nesterov momentum"
      ]
    },
    {
      "cell_type": "markdown",
      "metadata": {
        "id": "S1x8Qelgq83l"
      },
      "source": [
        "##### **RMSprop Optimizer**"
      ]
    },
    {
      "cell_type": "code",
      "metadata": {
        "id": "pVuuLCpY0o7O"
      },
      "source": [
        "optimizer = tf.keras.optimizers.RMSprop(learning_rate=learning_rate, \n",
        "                                        rho=0.9, \n",
        "                                        momentum=momentum, \n",
        "                                        epsilon=1e-07, \n",
        "                                        centered=False)"
      ],
      "execution_count": null,
      "outputs": []
    },
    {
      "cell_type": "markdown",
      "metadata": {
        "id": "fkMe7DNkzPyB"
      },
      "source": [
        "* [tf.keras](https://www.tensorflow.org/api_docs/python/tf/keras/optimizers/RMSprop) documentation\n",
        "* RMSprop is an unpublished optimization algorithm designed for neural networks, first proposed by Geoff Hinton in lecture 6 of the online course “Neural Networks for Machine Learning”\n",
        "* RMSPro: works well in non-stationary settings. RMSProp with momentum is the method most closely related to Adam. Main differences: RMSProp rescales gradient and then applies momentum, Adam first applies momentum (moving average) and then rescales. RMSProp lacks bias correction, often leading to large stepsizes in early stages of run (especially when β2 is close to 1)\n",
        "* maintain a moving (discounted) average of the square of gradients\n",
        "divide gradient by the root of this average\n",
        "* This implementation of RMSprop uses plain momentum, not Nesterov momentum.\n",
        "* The centered version additionally maintains a moving average of the gradients, and uses that average to estimate the variance\n",
        "* $E\\left[g^{2}\\right]_{t}=\\gamma E\\left[g^{2}\\right]_{t-1}+(1-\\gamma) g_{t}^{2}$\n",
        "* In Adagrad, since we keep adding all gradients, gradients become vanishingly small after some time. So in RMSProp, the idea is to add them in a decaying fashion as shown in the formula. \n",
        "* Now replace G_t in the denominator of Adagrad equation by this new term. Due to this, the gradients are no more vanishing."
      ]
    },
    {
      "cell_type": "markdown",
      "metadata": {
        "id": "6oxpPFw5rAZ6"
      },
      "source": [
        "##### **FTRL Optimizer**"
      ]
    },
    {
      "cell_type": "code",
      "metadata": {
        "id": "8nhuO0l90sJ8"
      },
      "source": [
        "optimizer = tf.keras.optimizers.Ftrl(learning_rate=learning_rate, \n",
        "                                     learning_rate_power=-0.5, \n",
        "                                     initial_accumulator_value=0.1, \n",
        "                                     l1_regularization_strength=0.0, \n",
        "                                     l2_regularization_strength=0.0, \n",
        "                                     name='Ftrl', \n",
        "                                     l2_shrinkage_regularization_strength=0.0)"
      ],
      "execution_count": null,
      "outputs": []
    },
    {
      "cell_type": "markdown",
      "metadata": {
        "id": "aDSWv7ZdmWih"
      },
      "source": [
        "* \"Follow The (Proximally) Regularized Leader\"\n",
        "* Algorithm based on [this paper](https://www.eecs.tufts.edu/~dsculley/papers/ad-click-prediction.pdf) and [tf.keras](https://www.tensorflow.org/api_docs/python/tf/keras/optimizers/Ftrl) documentation"
      ]
    },
    {
      "cell_type": "markdown",
      "metadata": {
        "id": "PccRn3pZrDqj"
      },
      "source": [
        "##### **Adadelta Optimizer**"
      ]
    },
    {
      "cell_type": "code",
      "metadata": {
        "id": "ZZpqyQZ-02oq"
      },
      "source": [
        "optimizer = tf.keras.optimizers.Adadelta(learning_rate=learning_rate, \n",
        "                                        rho=0.9, \n",
        "                                        epsilon=1e-07)"
      ],
      "execution_count": null,
      "outputs": []
    },
    {
      "cell_type": "markdown",
      "metadata": {
        "id": "88gAv-OVrGKD"
      },
      "source": [
        "##### **Adagrad Optimizer**"
      ]
    },
    {
      "cell_type": "code",
      "metadata": {
        "id": "q97hoOtn06WL"
      },
      "source": [
        "optimizer = tf.keras.optimizers.Adagrad(learning_rate=learning_rate, \n",
        "                                        initial_accumulator_value=0.1,\n",
        "                                        epsilon=1e-07)"
      ],
      "execution_count": null,
      "outputs": []
    },
    {
      "cell_type": "markdown",
      "metadata": {
        "id": "a-NLcOKhqD8I"
      },
      "source": [
        "* Instead of a common learning rate for all parameters, we want to have separate learning rate for each. So Adagrad keeps sum of squares of parameter-wise gradients and modifies individual learning rates using this. As a result, parameters occuring more often have smaller gradients.\n",
        "* works well with sparse gradients"
      ]
    },
    {
      "cell_type": "markdown",
      "metadata": {
        "id": "DFZ6oo1rrIkP"
      },
      "source": [
        "##### **Adamax Optimizer**"
      ]
    },
    {
      "cell_type": "code",
      "metadata": {
        "id": "Oj0HVDFZ098t"
      },
      "source": [
        "optimizer = tf.keras.optimizers.Adamax(learning_rate=learning_rate, \n",
        "                                     beta_1=0.9, \n",
        "                                     beta_2=0.999, \n",
        "                                     epsilon=1e-07)"
      ],
      "execution_count": null,
      "outputs": []
    },
    {
      "cell_type": "markdown",
      "metadata": {
        "id": "WYBDzBo41JWW"
      },
      "source": [
        "##### **Define Model & Run**"
      ]
    },
    {
      "cell_type": "code",
      "metadata": {
        "id": "WAek2kb1jPyS",
        "colab": {
          "base_uri": "https://localhost:8080/",
          "height": 741
        },
        "outputId": "a5ed9687-b8e5-4a60-b0f8-d625904d19c8"
      },
      "source": [
        "# Load & Prepare Data\n",
        "fashion_mnist = tf.keras.datasets.fashion_mnist\n",
        "(x_train, y_train),(x_test, y_test) = fashion_mnist.load_data()\n",
        "x_train, x_test = x_train / 255.0, x_test / 255.0\n",
        "\n",
        "# Define Model\n",
        "model = tf.keras.models.Sequential()\n",
        "model.add(tf.keras.layers.Flatten(input_shape=(28, 28)))\n",
        "model.add(tf.keras.layers.Dense(512, activation='relu')) \n",
        "model.add(tf.keras.layers.Dropout(0.3))\n",
        "model.add(tf.keras.layers.Dense(10, activation='softmax'))\n",
        "\n",
        "# Compile Model\n",
        "model.compile(optimizer=optimizer, \n",
        "              loss='sparse_categorical_crossentropy', \n",
        "              metrics=['accuracy'])\n",
        "\n",
        "# Train Model\n",
        "model.fit(x=x_train, \n",
        "          y=y_train, \n",
        "          epochs=5, \n",
        "          validation_data=(x_test, y_test),\n",
        "          callbacks=[PlotLossesKerasTF()],\n",
        "          verbose=1)"
      ],
      "execution_count": null,
      "outputs": [
        {
          "output_type": "display_data",
          "data": {
            "image/png": "[encoded data removed]",
            "text/plain": [
              "<Figure size 864x576 with 2 Axes>"
            ]
          },
          "metadata": {
            "tags": [],
            "needs_background": "light"
          }
        },
        {
          "output_type": "stream",
          "text": [
            "accuracy\n",
            "\ttraining         \t (min:    0.815, max:    0.879, cur:    0.879)\n",
            "\tvalidation       \t (min:    0.842, max:    0.870, cur:    0.859)\n",
            "Loss\n",
            "\ttraining         \t (min:    0.331, max:    0.515, cur:    0.331)\n",
            "\tvalidation       \t (min:    0.359, max:    0.429, cur:    0.388)\n",
            "\b\b\b\b\b\b\b\b\b\b\b\b\b\b\b\b\b\b\b\b\b\b\b\b\b\b\b\b\b\b\b\b\b\b\b\b\b\b\b\b\b\b\b\b\b\b\b\b\b\b\b\b\b\b\b\b\b\b\b\b\b\b\b\b\b\b\b\b\b\b\b\b\b\b\b\b\b\b\b\b\b\b\b\b\b\b\r1875/1875 [==============================] - 10s 5ms/step - loss: 0.3309 - accuracy: 0.8789 - val_loss: 0.3884 - val_accuracy: 0.8587\n"
          ],
          "name": "stdout"
        },
        {
          "output_type": "execute_result",
          "data": {
            "text/plain": [
              "<tensorflow.python.keras.callbacks.History at 0x7f970ba31e80>"
            ]
          },
          "metadata": {
            "tags": []
          },
          "execution_count": 5
        }
      ]
    },
    {
      "cell_type": "markdown",
      "metadata": {
        "id": "-l55VAagtIYb"
      },
      "source": [
        "#### **Activation Function**"
      ]
    },
    {
      "cell_type": "markdown",
      "metadata": {
        "id": "im_QloyBPTaJ"
      },
      "source": [
        "https://towardsdatascience.com/activation-functions-in-deep-learning-from-softmax-to-sparsemax-math-proof-50c1eb293456"
      ]
    },
    {
      "cell_type": "markdown",
      "metadata": {
        "id": "bf7wHjolPmqC"
      },
      "source": [
        "##### **Linear**"
      ]
    },
    {
      "cell_type": "code",
      "metadata": {
        "id": "QUp6yMjTPpx2"
      },
      "source": [
        "activation = 'linear'"
      ],
      "execution_count": null,
      "outputs": []
    },
    {
      "cell_type": "markdown",
      "metadata": {
        "id": "MJbnpAPLU0pY"
      },
      "source": [
        "##### **Sigmoid (Logistic Regression)**"
      ]
    },
    {
      "cell_type": "code",
      "metadata": {
        "id": "jU_dl5KjCQpm"
      },
      "source": [
        "activation = tf.keras.activations.sigmoid"
      ],
      "execution_count": null,
      "outputs": []
    },
    {
      "cell_type": "code",
      "metadata": {
        "id": "wVfIAHvKPMX8"
      },
      "source": [
        "activation = 'sigmoid'"
      ],
      "execution_count": null,
      "outputs": []
    },
    {
      "cell_type": "markdown",
      "metadata": {
        "id": "R4kNO9D9ELB_"
      },
      "source": [
        "* $g(z)=\\frac{1}{1+e^{-z}}$\n",
        "\n",
        "<br> \n",
        "**Characteristics**\n",
        "* Logistic regression. Takes a real-valued number as an input and compresses all its outputs to the range of [0,1]. Sigmoid only for binary classification output layer.\n",
        "* Sigmoid activation derived from mean field solution of Boltzmann machine\n",
        "* Softmax function is a more generalized logistic activation function which is used for multiclass classification.\n",
        "\n",
        "**Advantages**\n",
        "* In the logistic function, a small change in the input only causes a small change in the output as opposed to the stepped output. Hence, the output is smoother than the step function output.\n",
        "* Historically popular since they have nice interpretation as a saturating “firing rate” of a neuron.\n",
        "* The function is differentiable.That means, we can find the slope of the sigmoid curve at any two points.\n",
        "* Especially used for models where we have to predict the probability as an output (of a binary problem).\n",
        "* Sigmoid works well for a classifier: approximating a classifier function as combinations of sigmoid is easier than maybe ReLu, for example. Which will lead to faster training process and convergence\n",
        "\n",
        "**Disadvantages**\n",
        "* exp() is a bit compute expensive. Learning time longer. Also other functions have been shown to produce the same performance with less iterations. Additionally: small local gradients can mute the gradient and disallow the forward propagation of a useful signal.\n",
        "* The sigmoid function is monotonic but function’s derivative is not: the tails of the first derivative of a Sigmoid are near zero (covariate shift), which lead to vanishing or exploding gradient. Incorrect weight initialization can lead to saturation, where most neurons of the network then become saturated and almost no learning will take place. Saturated neurons “kill” the gradients (look at x= -10, 0 and 10). Can cause the neural network to get stuck during training. If a strongly-negative input is provided to the logistic sigmoid, it outputs values very near zero. Since neural networks usethe feed-forward activations to calculate parameter gradients, this can result in model parameters that are updated less regularly than we would like, and are thus “stuck” in their current state (this problem can be solved if we normalize the data in advance to be zero-centered as in batch/layer normalization).\n",
        "* Sigmoid outputs are not zero-centered. Neurons in later layers of processing in a neural net would be receiving data that is not zero-centered. If data coming into is always positive, the gradient on the weights 𝑤 will during backpropagation become either all be positive, or all negative. This could introduce undesirable zig-zagging dynamics in the gradient updates for the weights. (However, notice that once these gradients are added up across a batch of data the final update for the weights can have variable signs, somewhat mitigating this issue. Therefore, this is an inconvenience but it has less severe consequences compared to the saturated activation problem.)\n",
        "\n",
        "*Example: there are two parameter w1 and w 2; f the gradients of two dimensions are always of the same sign, it means we can only move roughly in the direction of northeast or southwest in the parameter space. If our goal happens to be in the northeast, we can only move in a zig-zagging fashion to get there, just like parallel parking in a narrow space.*"
      ]
    },
    {
      "cell_type": "code",
      "metadata": {
        "id": "l7UIRXc7EQ2B",
        "colab": {
          "base_uri": "https://localhost:8080/",
          "height": 285
        },
        "outputId": "12ffdd1d-8f14-4968-c822-fa192ce376f9"
      },
      "source": [
        "sns.set(rc={'figure.figsize':(7, 4)})\n",
        "\n",
        "# Increasing weight size or input scale will form function steeper\n",
        "weight_size = 1\n",
        "input_scale_upper = 10\n",
        "input_scale_lower = -10\n",
        "resolution = 100\n",
        "\n",
        "x = np.linspace(input_scale_lower, input_scale_upper, resolution) \n",
        "z = 1/(1 + np.exp(-(weight_size)*x)) \n",
        "  \n",
        "plt.plot(x, z), plt.xlabel(\"x\"), plt.ylabel(\"Sigmoid(X)\") \n",
        "plt.axhline(y=0, color='red', linestyle='--', linewidth=1.0);\n",
        "plt.axvline(x=0, color='red', linestyle='--', linewidth=1.0);\n",
        "plt.show() "
      ],
      "execution_count": null,
      "outputs": [
        {
          "output_type": "display_data",
          "data": {
            "image/png": "[encoded data removed]",
            "text/plain": [
              "<Figure size 504x288 with 1 Axes>"
            ]
          },
          "metadata": {
            "tags": []
          }
        }
      ]
    },
    {
      "cell_type": "markdown",
      "metadata": {
        "id": "JegUy7mCVCyb"
      },
      "source": [
        "##### **tanh (hyperbolic tangent)**"
      ]
    },
    {
      "cell_type": "code",
      "metadata": {
        "id": "iJwSFgUxCMus"
      },
      "source": [
        "activation = tf.keras.activations.tanh"
      ],
      "execution_count": null,
      "outputs": []
    },
    {
      "cell_type": "code",
      "metadata": {
        "id": "sdQ3bsY1Pc-5"
      },
      "source": [
        "activation = 'tanh'"
      ],
      "execution_count": null,
      "outputs": []
    },
    {
      "cell_type": "markdown",
      "metadata": {
        "id": "l94l0iDnDz2j"
      },
      "source": [
        "* $g(z)=\\frac{e^{z}-e^{-z}}{e^{z}+e^{-z}}$\n",
        "* LeCun et al., 1991\n",
        "* The tanh function \"squashes\" values to the range -1 and 1. Output values are, therefore, centered around zero. Can be thought of as a scaled, or shifted, sigmoid, and is almost always preferable to the sigmoid function\n",
        "* Squashes numbers to range [-1,1]\n",
        "* zero centered (nice)\n",
        "* The advantage is that the negative inputs will be mapped strongly negative and the zero inputs will be mapped near zero in the tanh graph.\n",
        "* The function is differentiable.\n",
        "* The function is monotonic while its derivative is not monotonic.\n",
        "* The tanh function is mainly used classification between two classes.\n",
        "* still kills gradients when saturated"
      ]
    },
    {
      "cell_type": "code",
      "metadata": {
        "id": "WUUN_71gD5oR",
        "colab": {
          "base_uri": "https://localhost:8080/",
          "height": 339
        },
        "outputId": "6654c9a8-33ca-472d-f133-a3c46703918b"
      },
      "source": [
        "x = np.linspace(-10, 10, 100) \n",
        "z = (np.tanh(x)) \n",
        "  \n",
        "plt.plot(x, z), plt.xlabel(\"x\"), plt.ylabel(\"tanh\") \n",
        "plt.axhline(y=0, color='red', linestyle='--', linewidth=1.0);\n",
        "plt.axvline(x=0, color='red', linestyle='--', linewidth=1.0);\n",
        "plt.show()"
      ],
      "execution_count": null,
      "outputs": [
        {
          "output_type": "display_data",
          "data": {
            "image/png": "[encoded data removed]",
            "text/plain": [
              "<Figure size 648x360 with 1 Axes>"
            ]
          },
          "metadata": {
            "tags": []
          }
        }
      ]
    },
    {
      "cell_type": "markdown",
      "metadata": {
        "id": "NF-4DFGVVGke"
      },
      "source": [
        "##### **Softmax**"
      ]
    },
    {
      "cell_type": "code",
      "metadata": {
        "id": "ZCZw0RdMCZBo"
      },
      "source": [
        "activation = tf.keras.layers.Softmax(axis=-1)"
      ],
      "execution_count": null,
      "outputs": []
    },
    {
      "cell_type": "code",
      "metadata": {
        "id": "K255SzlpPhCS"
      },
      "source": [
        "activation = 'softmax'"
      ],
      "execution_count": null,
      "outputs": []
    },
    {
      "cell_type": "markdown",
      "metadata": {
        "id": "H7ocOJ2aDpLW"
      },
      "source": [
        "* is an activation function that is not function of a single fold x from the previous layer or layers.\n",
        "* usually used in the last layer\n",
        "* Softmax Regression (synonyms: Multinomial Logistic, Maximum Entropy Classifier, or just Multi-class Logistic Regression) \n",
        "* is a generalization of logistic regression that we can use for multi-class classification (under the assumption that the classes are mutually exclusive). We use the (standard) Logistic Regression model in binary classification tasks. in softmax regression (SMR), we replace the sigmoid logistic function by the so-called€softmax function€φ"
      ]
    },
    {
      "cell_type": "code",
      "metadata": {
        "id": "IB5f2FhkDr1-",
        "colab": {
          "base_uri": "https://localhost:8080/",
          "height": 340
        },
        "outputId": "005762a8-f9c5-4868-ce4c-5dc1dfb2b488"
      },
      "source": [
        "x = np.arange(-5, 5, 0.1)\n",
        "plt.plot(np.exp(x) / np.sum(np.exp(x)))"
      ],
      "execution_count": null,
      "outputs": [
        {
          "output_type": "execute_result",
          "data": {
            "text/plain": [
              "[<matplotlib.lines.Line2D at 0x7f19d47e8400>]"
            ]
          },
          "metadata": {
            "tags": []
          },
          "execution_count": 16
        },
        {
          "output_type": "display_data",
          "data": {
            "image/png": "[encoded data removed]",
            "text/plain": [
              "<Figure size 648x360 with 1 Axes>"
            ]
          },
          "metadata": {
            "tags": []
          }
        }
      ]
    },
    {
      "cell_type": "markdown",
      "metadata": {
        "id": "T_0RPg2OVUko"
      },
      "source": [
        "##### **ReLU (Rectified Linear Unit)**"
      ]
    },
    {
      "cell_type": "code",
      "metadata": {
        "id": "n4bxye7mCTdm"
      },
      "source": [
        "activation = tf.keras.layers.ReLU(max_value=None,\n",
        "                                 negative_slope=0,\n",
        "                                 threshold=0)"
      ],
      "execution_count": null,
      "outputs": []
    },
    {
      "cell_type": "code",
      "metadata": {
        "id": "RJ8cj8nJPRmd"
      },
      "source": [
        "activation = 'relu'"
      ],
      "execution_count": null,
      "outputs": []
    },
    {
      "cell_type": "markdown",
      "metadata": {
        "id": "kFqnnWMTDTnC"
      },
      "source": [
        "* $g(z)=\\max (0, z)$\n",
        "\n",
        "<br>\n",
        "\n",
        "Transformation leads positive values to be 1, and negative values to be zero. Shown to accelerate convergence of gradient descent compared to above functions. Can lead to neuron death, which can be combated using Leaky ReLU modification (see [1]). ReLU is has become the default activation function for hidden layers (see [3])\n",
        "\n",
        "**Characteristics**\n",
        "* Krizhevsky et al., 2012\n",
        "* rectified linear units, faster and more efficient, since fewer neurons are activated (less computationally expensive than tanh and sigmoid because it involves simpler mathematical operations). \n",
        "* No gradient vanishing problem, as Relu’s gradient is constant = 1. Sparsity: since output 0 for negative values of x! When W*x < 0, Relu gives 0, which means sparsity. Less calculation load. This may be least important. \n",
        "* However, ReLu may amplify the signal inside the network more than softmax and sigmoid. \n",
        "* But: dying ReLU problem for values zero and smaller: neurons will never reactivated. Solution: leaky ReLU, noisy ReLU (in RBMs) and ELU (exponential linear units)\n",
        "* ReLU as the activation function for hidden layers and sigmoid for the output layer (these are standards, didn’t experiment much on changing these). Also, I used the standard categorical cross-entropy loss.\n",
        "\n",
        "**Advantages**\n",
        "* Does not saturate (in +region)\n",
        "* Very computationally efficient\n",
        "* Converges much faster than sigmoid/tanh in practice (e.g. 6x)\n",
        "Actually more biologically plausible than sigmoid\n",
        "\n",
        "**Disadvantages**\n",
        "* Not zero-centered output\n",
        "* An annoyance: what is the gradient when x < 0? What happens when x = -10, 0 or 10?\n",
        "* People like to initialize ReLU neurons with slightly positive biases (e.g. 0.01)\n",
        "\n"
      ]
    },
    {
      "cell_type": "code",
      "metadata": {
        "id": "VJn-LujVDaJz",
        "colab": {
          "base_uri": "https://localhost:8080/",
          "height": 339
        },
        "outputId": "e855f520-56a6-4978-f67d-ad640d0e32c3"
      },
      "source": [
        "x = np.linspace(-10, 10, 100) \n",
        "z = (np.maximum(0, x))\n",
        "  \n",
        "plt.plot(x, z), plt.xlabel(\"x\"), plt.ylabel(\"ReLU\") \n",
        "plt.axhline(y=0, color='red', linestyle='--', linewidth=1.0);\n",
        "plt.axvline(x=0, color='red', linestyle='--', linewidth=1.0);\n",
        "plt.show()"
      ],
      "execution_count": null,
      "outputs": [
        {
          "output_type": "display_data",
          "data": {
            "image/png": "[encoded data removed]",
            "text/plain": [
              "<Figure size 648x360 with 1 Axes>"
            ]
          },
          "metadata": {
            "tags": []
          }
        }
      ]
    },
    {
      "cell_type": "markdown",
      "metadata": {
        "id": "DzpfB8_lVXwy"
      },
      "source": [
        "##### **Leaky ReLU**"
      ]
    },
    {
      "cell_type": "markdown",
      "metadata": {
        "id": "vlhvbqgfDKF6"
      },
      "source": [
        "* $\\begin{aligned}\n",
        "g(z) &=\\max (\\epsilon z, z) \\\\\n",
        "& \\text { with } \\epsilon \\ll 1\n",
        "\\end{aligned}$\n",
        "\n",
        "* Mass et al., 2013 and He et al., 2015\n",
        "* Leaky ReLUs allow a small, positive gradient when the unit is not active\n",
        "* Does not saturate\n",
        "* Computationally efficient\n",
        "* Converges much faster than sigmoid/tanh in practice! (e.g. 6x) will not “die”.z = np.arange(-55, 5, 1)\n",
        "plt.plot(np.maximum(0.01 * z, z))"
      ]
    },
    {
      "cell_type": "code",
      "metadata": {
        "id": "lBGoAOFUDN8i"
      },
      "source": [
        "z = np.arange(-55, 5, 1)\n",
        "plt.plot(np.maximum(0.01 * z, z))"
      ],
      "execution_count": null,
      "outputs": []
    },
    {
      "cell_type": "code",
      "metadata": {
        "id": "VDYT0g12CWJR"
      },
      "source": [
        "activation = tf.keras.layers.LeakyReLU(alpha=0.3)"
      ],
      "execution_count": null,
      "outputs": []
    },
    {
      "cell_type": "markdown",
      "metadata": {
        "id": "6z5NyXHDVadH"
      },
      "source": [
        "##### **ELU**"
      ]
    },
    {
      "cell_type": "markdown",
      "metadata": {
        "id": "PXS-DDJfDG9V"
      },
      "source": [
        "* Exponential Linear Units\n",
        "* Clevert et al., 2015\n",
        "* All benefits of ReLU\n",
        "* Closer to zero mean outputs\n",
        "* Negative saturation regime compared with Leaky ReLU adds some robustness to noise \n",
        "* But Computation requires exp()"
      ]
    },
    {
      "cell_type": "markdown",
      "metadata": {
        "id": "A4AwxjhWVdNt"
      },
      "source": [
        "##### **Swish**"
      ]
    },
    {
      "cell_type": "markdown",
      "metadata": {
        "id": "SqjjnsXVC_jF"
      },
      "source": [
        "* Google Brain 2017\n",
        "* Variant of ReLU\n",
        "\n",
        "https://medium.com/@jaiyamsharma/experiments-with-swish-activation-function-on-mnist-dataset-fc89a8c79ff7\n",
        "\n",
        "https://medium.com/@neuralnets/swish-activation-function-by-google-53e1ea86f820\n",
        "\n",
        "https://www.machinecurve.com/index.php/2019/05/30/why-swish-could-perform-better-than-relu/\n",
        "\n"
      ]
    },
    {
      "cell_type": "code",
      "metadata": {
        "id": "oHvFihVSDDHS",
        "outputId": "7be96c94-b362-46b0-e0f3-368365b2f92e",
        "colab": {
          "base_uri": "https://localhost:8080/",
          "height": 303
        }
      },
      "source": [
        "x = np.arange(-10, 10, 0.1)\n",
        "plt.xlabel('x'), plt.ylabel('f(x)')\n",
        "plt.axhline(y=0, color='red', linestyle='--', linewidth=1.0);\n",
        "beta = 1.0\n",
        "# plt.plot(x * (1 / (1 + np.exp(-x))))\n",
        "plt.plot(x * ((1 / (1 + np.exp(-x))) * (beta * x)))"
      ],
      "execution_count": null,
      "outputs": [
        {
          "output_type": "execute_result",
          "data": {
            "text/plain": [
              "[<matplotlib.lines.Line2D at 0x7fddf7354a50>]"
            ]
          },
          "metadata": {
            "tags": []
          },
          "execution_count": 2
        },
        {
          "output_type": "display_data",
          "data": {
            "image/png": "[encoded data removed]",
            "text/plain": [
              "<Figure size 432x288 with 1 Axes>"
            ]
          },
          "metadata": {
            "tags": [],
            "needs_background": "light"
          }
        }
      ]
    },
    {
      "cell_type": "markdown",
      "metadata": {
        "id": "D5_fFDCPVgL1"
      },
      "source": [
        "##### **SeLU**"
      ]
    },
    {
      "cell_type": "markdown",
      "metadata": {
        "id": "otcAxDatC8EY"
      },
      "source": [
        "* scaled exponential linear units\n",
        "* instead of normalizing the output of the activation function — the activation function suggested (SELU — scaled exponential linear units) outputs normalized values. https://towardsdatascience.com/selu-make-fnns-great-again-snn-8d61526802a9\n",
        "* Background: batchnormalization for feedfirward networks: Training Deep Neural Networks is complicated by the fact that the distribution of each layer's inputs changes during training, as the parameters of the previous layers change. This slows down the training by requiring lower learning rates and careful parameter initialization, and makes it notoriously hard to train models with saturating nonlinearities. (https://arxiv.org/abs/1502.03167)\n",
        "* Negative values sometimes: Scaling the function is the mechanism by which the authors accomplish the goal (of self-normalizing properties). As a byproduct, they sometimes output negative values, but there's no hidden meaning in it. It just makes the math work out. \n",
        "* **SELU vs RELU**: https://www.hardikp.com/2017/07/24/SELU-vs-RELU/"
      ]
    },
    {
      "cell_type": "markdown",
      "metadata": {
        "id": "TLhqpyLVfcpG"
      },
      "source": [
        "##### **Custom Activation Function**"
      ]
    },
    {
      "cell_type": "code",
      "metadata": {
        "id": "-4zBuToxDgmw"
      },
      "source": [
        "# Weibull - Cumulative Distribution Function\n",
        "sns.set(rc={'figure.figsize':(4, 4)})\n",
        "x = np.linspace(0, 25, 10000) \n",
        "shape = 5 # k\n",
        "scale = 1 # λ\n",
        "# Simple: z = 1 - (np.exp(-(x/λ)**k))\n",
        "z = scipy.stats.weibull_min.cdf(x, c=shape, scale=scale)\n",
        "\n",
        "plt.title('Weibull Distribution')\n",
        "plt.plot(x, z)\n",
        "plt.show(xlim(0,2))"
      ],
      "execution_count": null,
      "outputs": []
    },
    {
      "cell_type": "code",
      "metadata": {
        "id": "AoqFG0akDh-d"
      },
      "source": [
        "# Rayleigh Distribution\n",
        "sns.set(rc={'figure.figsize':(4, 4)})\n",
        "x = np.linspace(0, 25, 10000) \n",
        "σ = 0.3\n",
        "z = 1 - (np.exp((-x**2)/(2*σ**2)))\n",
        "\n",
        "plt.plot(x, z)\n",
        "# plt.title('Rayleigh Distribution')\n",
        "plt.show(xlim(0,2)) "
      ],
      "execution_count": null,
      "outputs": []
    },
    {
      "cell_type": "code",
      "metadata": {
        "id": "CH68QMWSDkK8"
      },
      "source": [
        "# Distribution fitting against Rayleigh\n",
        "\n",
        "from scipy.stats import norm,rayleigh\n",
        "samp = rayleigh.rvs(loc=5,scale=2,size=150) # samples generation\n",
        "param = rayleigh.fit(samp) # distribution fitting\n",
        "\n",
        "x = linspace(5,13,100)\n",
        "# fitted distribution\n",
        "pdf_fitted = rayleigh.pdf(x,loc=param[0],scale=param[1])\n",
        "# original distribution\n",
        "pdf = rayleigh.pdf(x,loc=5,scale=2)\n",
        "\n",
        "title('Rayleigh distribution')\n",
        "plot(x,pdf_fitted,'r-',x,pdf,'b-')\n",
        "hist(samp,normed=1,alpha=.3)\n",
        "show()"
      ],
      "execution_count": null,
      "outputs": []
    },
    {
      "cell_type": "markdown",
      "metadata": {
        "id": "WlXSmY29tIYk"
      },
      "source": [
        "##### **Define Model & Run**"
      ]
    },
    {
      "cell_type": "code",
      "metadata": {
        "id": "QiY0BfjnWxyt",
        "colab": {
          "base_uri": "https://localhost:8080/",
          "height": 682
        },
        "outputId": "b8c997a7-f60d-433c-9a45-d9cca4c5fca4"
      },
      "source": [
        "# Load & Prepare Model\n",
        "fashion_mnist = tf.keras.datasets.fashion_mnist\n",
        "(x_train, y_train),(x_test, y_test) = fashion_mnist.load_data()\n",
        "x_train, x_test = x_train / 255.0, x_test / 255.0\n",
        "\n",
        "# Define Model\n",
        "model = tf.keras.models.Sequential()\n",
        "model.add(tf.keras.layers.Flatten(input_shape=(28, 28)))\n",
        "model.add(tf.keras.layers.Dense(512, activation=activation)) \n",
        "model.add(tf.keras.layers.Dropout(0.3))\n",
        "model.add(tf.keras.layers.Dense(10, activation='softmax'))\n",
        "\n",
        "# Compile Model\n",
        "model.compile(optimizer='Adam', \n",
        "              loss='sparse_categorical_crossentropy', \n",
        "              metrics=['accuracy'])\n",
        "\n",
        "# Train Model\n",
        "model.fit(x=x_train, \n",
        "          y=y_train, \n",
        "          epochs=5, \n",
        "          validation_data=(x_test, y_test),\n",
        "          callbacks=[PlotLossesKerasTF()],\n",
        "          verbose=1)"
      ],
      "execution_count": null,
      "outputs": [
        {
          "output_type": "display_data",
          "data": {
            "image/png": "[encoded data removed]",
            "text/plain": [
              "<Figure size 864x576 with 2 Axes>"
            ]
          },
          "metadata": {
            "tags": []
          }
        },
        {
          "output_type": "stream",
          "text": [
            "accuracy\n",
            "\ttraining         \t (min:    0.816, max:    0.878, cur:    0.878)\n",
            "\tvalidation       \t (min:    0.832, max:    0.875, cur:    0.875)\n",
            "Loss\n",
            "\ttraining         \t (min:    0.330, max:    0.512, cur:    0.330)\n",
            "\tvalidation       \t (min:    0.342, max:    0.449, cur:    0.342)\n",
            "\b\b\b\b\b\b\b\b\b\b\b\b\b\b\b\b\b\b\b\b\b\b\b\b\b\b\b\b\b\b\b\b\b\b\b\b\b\b\b\b\b\b\b\b\b\b\b\b\b\b\b\b\b\b\b\b\b\b\b\b\b\b\b\b\b\b\b\b\b\b\b\b\b\b\b\b\b\b\b\b\b\b\b\b\b\b\r1875/1875 [==============================] - 10s 5ms/step - loss: 0.3297 - accuracy: 0.8784 - val_loss: 0.3422 - val_accuracy: 0.8753\n"
          ],
          "name": "stdout"
        },
        {
          "output_type": "execute_result",
          "data": {
            "text/plain": [
              "<tensorflow.python.keras.callbacks.History at 0x7f19cdb374e0>"
            ]
          },
          "metadata": {
            "tags": []
          },
          "execution_count": 20
        }
      ]
    },
    {
      "cell_type": "markdown",
      "metadata": {
        "id": "2EL8zZZZWSbe"
      },
      "source": [
        "##### **Deep Dive**"
      ]
    },
    {
      "cell_type": "markdown",
      "metadata": {
        "id": "UqYvBaH5CzyR"
      },
      "source": [
        "* The activation function is the non-linear function that we apply over the output data coming out of a particular layer of neurons before it propagates as the input to the next layer.\n",
        "* Activation functions reside within neurons and transform input values into acceptable and useful range. They can introduce non-linearity to a network.\n",
        "* There are various kinds of activation functions and it has been found, empirically, that some of them works better for large datasets or particular problems than the others. \n",
        "* Neural networks extract hidden pattern from a dataset by observing given examples of known answers. Evidently, it does so by comparing its predictions to the ground truth (labeled images for example) and turning the parameters of the model. The difference between the prediction and the ground truth is called the ‘classification error’.\n",
        "* Parameters of a DL model consists of a set of weights connecting neurons across layers and bias terms which add to those layers. So, the ultimate goal is to set those weights to specific values which reduces the overall classification error. This is a minimization operation, and consequently, an optimization technique is needed.\n",
        "* The overall representation structure of a deep learning model is a highly complex nonlinear function and therefore, the optimizer is responsible for minimizing the error produced by the evaluation of this complex function. Therefore, standard optimization like linear programming does not work for DL models and innovative nonlinear optimization must be used.\n",
        "* These two components – **activation functions** and **nonlinear optimizers** – are at the core of every deep learning architecture. However, there is considerable variety in the specifics of these components.\n",
        "\n"
      ]
    },
    {
      "cell_type": "markdown",
      "metadata": {
        "id": "42XS4rQqEl6M"
      },
      "source": [
        "**Necessary Characteristics of Activation Function**\n",
        "\n",
        "Activation functions must be:\n",
        "\n",
        "1. Non-constant (obvious)\n",
        "2. Bounded\n",
        "3. Monotonically increasing\n",
        "4. Continuous\n",
        "\n",
        "These are the conditions under which the universal approximation theorem holds. The universal approximation theorem proves that, under the above conditions, any continuous function of N-variables defined on a compact subset of R^N can be approximated by a three- layer (input, hidden layer, output) neural network with that activation function.\n",
        "\n",
        "The universal approximation theorem is certainly one of the most rigorous tenets of neural networks.\n",
        "\n",
        "Of course, if the prediction problem at hand does not deal with continuous variables or cannot be approximated by a problem that does, then the above is no longer valid and the choice of activation functions becomes more of a customized problem."
      ]
    },
    {
      "cell_type": "markdown",
      "metadata": {
        "id": "YxM-2W5KEoJR"
      },
      "source": [
        "**Selection Criteria**\n",
        "\n",
        "Activation layers are a type of hyperparameter, and you’ll need to experiment with all of them in order to find which works best for you. You can narrow your search by referring to prior work in the field for your particular problem. For example, it has already been shown that tanh activations work better for image classification while leaky ReLUs work better for temporal sequences such as video."
      ]
    },
    {
      "cell_type": "markdown",
      "metadata": {
        "id": "b_jDw6JnEw9B"
      },
      "source": [
        "Sources: [Stanford.edu](https://stanford.edu/~shervine/teaching/cs-229/cheatsheet-deep-learning) & [Deep Dive into Math Behind Deep Networks](https://towardsdatascience.com/https-medium-com-piotr-skalski92-deep-dive-into-deep-networks-math-17660bc376ba)"
      ]
    },
    {
      "cell_type": "markdown",
      "metadata": {
        "id": "X2zfOaOyWGKk"
      },
      "source": [
        "**Sigmoid Family**"
      ]
    },
    {
      "cell_type": "markdown",
      "metadata": {
        "id": "tMZjfgrwEWaq"
      },
      "source": [
        "Im Allgemeinen ist eine Sigmoidfunktion eine beschränkte und differenzierbare reelle Funktion mit einer durchweg positiven oder durchweg negativen ersten Ableitung und genau einem Wendepunkt.\n",
        "\n",
        "Außer der logistischen Funktion enthält die Menge der Sigmoidfunktionen den Arkustangens, den Tangens hyperbolicus und die Fehlerfunktion, die sämtlich transzendent sind, aber auch einfache algebraische Funktionen. \n",
        "\n",
        "Das Integral jeder stetigen, positiven Funktion mit einem „Berg“ (genauer: mit genau einem lokalen Maximum und keinem lokalen Minimum, z. B. die gaußsche Glockenkurve) ist ebenfalls eine Sigmoidfunktion. Daher sind viele kumulierte Verteilungsfunktionen sigmoidal."
      ]
    },
    {
      "cell_type": "markdown",
      "metadata": {
        "id": "rm6COiIKVRUH"
      },
      "source": [
        "**Rectifier Functions Family**"
      ]
    },
    {
      "cell_type": "markdown",
      "metadata": {
        "id": "RHA4RDyNECpd"
      },
      "source": [
        "* https://en.m.wikipedia.org/wiki/Rectifier_(neural_networks)\n",
        "\n",
        "**Advantages**\n",
        "* Biological plausibility: One-sided, compared to the antisymmetry of tanh.\n",
        "* Sparse activation: For example, in a randomly initialized network, only about 50% of hidden units are activated (having a non-zero output).\n",
        "* Better gradient propagation: Fewer vanishing gradient problems compared to sigmoidal activation functions that saturate in both directions.\n",
        "* Efficient computation: Only comparison, addition and multiplication.\n",
        "* Scale-invariant: \n",
        "\n",
        "\n",
        "**Disadvantages**\n",
        "* Non-differentiable at zero; however, it is differentiable anywhere else, and the value of the derivative at zero can be arbitrarily chosen to be 0 or 1.\n",
        "* Not zero-centered.\n",
        "* Unbounded.\n",
        "* Dying ReLU problem: ReLU neurons can sometimes be pushed into states in which they become inactive for essentially all inputs. In this state, no gradients flow backward through the neuron, and so the neuron becomes stuck in a perpetually inactive state and \"dies\". This is a form of the vanishing gradient problem. In some cases, large numbers of neurons in a network can become stuck in dead states, effectively decreasing the model capacity. This problem typically arises when the learning rate is set too high. It may be mitigated by using leaky ReLUs instead, which assign a small positive slope for x < 0"
      ]
    },
    {
      "cell_type": "markdown",
      "source": [
        "## **Cost (Loss) Functions**"
      ],
      "metadata": {
        "id": "pMmEW2UDs4qd"
      }
    },
    {
      "cell_type": "markdown",
      "metadata": {
        "id": "XJSJwJeG5oLC"
      },
      "source": [
        "https://towardsdatascience.com/9-distance-measures-in-data-science-918109d069fa"
      ]
    },
    {
      "cell_type": "markdown",
      "metadata": {
        "id": "5jK34bCZV5L6"
      },
      "source": [
        "### **Introduction**"
      ]
    },
    {
      "cell_type": "markdown",
      "metadata": {
        "id": "jztI_sZnPm4o"
      },
      "source": [
        "https://allenkunle.me/deriving-ml-cost-functions-part1"
      ]
    },
    {
      "cell_type": "markdown",
      "metadata": {
        "id": "gOhC8gWddYz_"
      },
      "source": [
        "##### **Introduction**"
      ]
    },
    {
      "cell_type": "markdown",
      "metadata": {
        "id": "mhfmrX5NyKmF"
      },
      "source": [
        "**Really good intro by Brandon Rohrer**: https://youtu.be/fr7dfyfB7mI"
      ]
    },
    {
      "cell_type": "markdown",
      "metadata": {
        "id": "SSldNKjE4BZa"
      },
      "source": [
        "Cost, loss, risk or error function\n",
        "\n",
        "Properties of ideal Cost functions:\n",
        "\n",
        "* smooth, \n",
        "* continuous, \n",
        "* symmetric (but i.e. Non-symmetric losses: e.g., for spam classification)\n",
        "* differentials"
      ]
    },
    {
      "cell_type": "markdown",
      "metadata": {
        "id": "BKwGKCZj3mhZ"
      },
      "source": [
        "https://en.m.wikipedia.org/wiki/Loss_function"
      ]
    },
    {
      "cell_type": "markdown",
      "metadata": {
        "id": "CDL3lOvAnyOp"
      },
      "source": [
        "https://stats.stackexchange.com/questions/154879/a-list-of-cost-functions-used-in-neural-networks-alongside-applications"
      ]
    },
    {
      "cell_type": "markdown",
      "metadata": {
        "id": "-L9Rza0hlnNE"
      },
      "source": [
        "$\\min _{W}\\left\\{L(W):=\\frac{1}{m} \\sum_{i=1}^{m} \\ell\\left(W ; x_{i}, y_{i}\\right)+\\lambda r(W)\\right\\}$"
      ]
    },
    {
      "cell_type": "markdown",
      "metadata": {
        "id": "UtSoZCm6A8iN"
      },
      "source": [
        "Complete list of [Loss / Cost Functions in TF](https://www.tensorflow.org/api_docs/python/tf/keras/losses/)"
      ]
    },
    {
      "cell_type": "markdown",
      "metadata": {
        "id": "tOaMQSLdJk2u"
      },
      "source": [
        "https://heartbeat.fritz.ai/5-regression-loss-functions-all-machine-learners-should-know-4fb140e9d4b0\n",
        "\n",
        "https://medium.com/human-in-a-machine-world/mae-and-rmse-which-metric-is-better-e60ac3bde13d\n",
        "\n",
        "https://stackoverflow.com/questions/45648351/what-is-difference-between-loss-function-and-rmse-in-machine-learning\n",
        "\n",
        "https://medium.com/@phuctrt/loss-functions-why-what-where-or-when-189815343d3f\n",
        "\n",
        "https://towardsdatascience.com/what-is-loss-function-1e2605aeb904\n",
        "\n",
        "https://datascience.stackexchange.com/questions/10188/why-do-cost-functions-use-the-square-error\n",
        "\n",
        "https://towardsdatascience.com/coding-deep-learning-for-beginners-linear-regression-part-2-cost-function-49545303d29f\n",
        "\n",
        "https://ml-cheatsheet.readthedocs.io/en/latest/loss_functions.html#kullback-leibler"
      ]
    },
    {
      "cell_type": "markdown",
      "metadata": {
        "id": "jkbfamvD4rHK"
      },
      "source": [
        "https://towardsdatascience.com/https-medium-com-chayankathuria-regression-why-mean-square-error-a8cad2a1c96f"
      ]
    },
    {
      "cell_type": "markdown",
      "metadata": {
        "id": "OQwg5vHW6Nuu"
      },
      "source": [
        "http://www.cs.cornell.edu/courses/cs4780/2015fa/web/lecturenotes/lecturenote10.html"
      ]
    },
    {
      "cell_type": "markdown",
      "metadata": {
        "id": "ZkEHOnK4ZwKY"
      },
      "source": [
        "**Overview: Similarity Learning & Distance Metric Learning**"
      ]
    },
    {
      "cell_type": "markdown",
      "metadata": {
        "id": "Ozfgr776X5mk"
      },
      "source": [
        "* Ähnlichkeitsmaße werden für nominal oder ordinal skalierte Variablen genutzt\n",
        "\n",
        "* Distanzmaße werden für metrisch skalierte Variablen (d. h. für Intervall- und Verhältnisskala) genutzt."
      ]
    },
    {
      "cell_type": "markdown",
      "metadata": {
        "id": "M-LwPZQAWR1B"
      },
      "source": [
        "https://en.m.wikipedia.org/wiki/Similarity_learning"
      ]
    },
    {
      "cell_type": "markdown",
      "metadata": {
        "id": "L23wfOaoYbkL"
      },
      "source": [
        "https://en.m.wikipedia.org/wiki/Distance"
      ]
    },
    {
      "cell_type": "markdown",
      "metadata": {
        "id": "erSCYUrvYFVx"
      },
      "source": [
        "https://cs.gmu.edu/~carlotta/teaching/CS775-s10/readings/LearningMetrics.pdf"
      ]
    },
    {
      "cell_type": "markdown",
      "metadata": {
        "id": "hXUWzO4vWIuI"
      },
      "source": [
        "**Similarity learning** is closely related to distance metric learning. Metric learning is the task of learning a distance function over objects. A metric or distance function has to obey four axioms: non-negativity, identity of indiscernibles, symmetry and subadditivity (or the triangle inequality). **In practice, metric learning algorithms ignore the condition of identity of indiscernibles and learn a pseudo-metric.**\n",
        "\n"
      ]
    },
    {
      "cell_type": "markdown",
      "metadata": {
        "id": "J5hje3wBYWv6"
      },
      "source": [
        "https://en.m.wikipedia.org/wiki/Similarity_learning#Metric_learning"
      ]
    },
    {
      "cell_type": "markdown",
      "metadata": {
        "id": "LIfdyn29WxlU"
      },
      "source": [
        "**Similarity Measure** In statistics and related fields, a similarity measure or similarity function is a real-valued function that quantifies the similarity between two objects.\n",
        "\n",
        "Although no single definition of a similarity measure exists, usually such measures are in some sense the inverse of distance metrics: they take on large values for similar objects and either zero or a negative value for very dissimilar objects.\n",
        "\n",
        "Cosine similarity is a commonly used similarity measure for real-valued vectors, used in (among other fields) information retrieval to score the similarity of documents in the vector space model. In machine learning, common kernel functions such as the RBF kernel can be viewed as similarity functions."
      ]
    },
    {
      "cell_type": "markdown",
      "metadata": {
        "id": "DsjXQNXVW-QJ"
      },
      "source": [
        "https://en.m.wikipedia.org/wiki/Similarity_measure"
      ]
    },
    {
      "cell_type": "markdown",
      "metadata": {
        "id": "LxEGxB4vXmU8"
      },
      "source": [
        "**Distance Metric Learning & Distance Measures**\n",
        "\n",
        "Distanzmaße werden für metrisch skalierte Variablen (d. h. für Intervall- und Verhältnisskala) genutzt.\n",
        "https://cs.gmu.edu/~carlotta/teaching/CS775-s10/readings/LearningMetrics.pdf"
      ]
    },
    {
      "cell_type": "markdown",
      "metadata": {
        "id": "SEoQDJOcIFDN"
      },
      "source": [
        "![xxx](https://raw.githubusercontent.com/deltorobarba/repo/master/cost.jpg)"
      ]
    },
    {
      "cell_type": "markdown",
      "metadata": {
        "id": "h4vAf_NrHqi9"
      },
      "source": [
        "The loss function computes the error for a single training example, while the cost function is the average of the loss functions of the entire training set.\n",
        "\n",
        "\n",
        "Also: objective function, error, cost & loss function. A loss function measures the quality of a particular set of parameters based on how well the induced scores agreed with the ground truth labels in the training data. We saw that there are many ways and versions of this (e.g. Softmax/SVM).\n",
        "gradient of cost function tells each weight how to change to improve overall prediction \n",
        "MLPClassifier trains iteratively since at each time step the partial derivatives of the loss function with respect to the model parameters are computed to update the parameters. \n",
        "\n",
        "We want to find the local minimum of the cost function\n",
        "\n",
        "Quadratic cost (mean squared error MSE): \n",
        "also maximum likelihood, and sum squared error.  \n",
        "Most common. Used in regression.  \n",
        "Mean squared error is appropriate to regression (line/curve fitting) where the goal is to minimize the mean squared error between the training set (points) and the fitted curve. \n"
      ]
    },
    {
      "cell_type": "markdown",
      "metadata": {
        "id": "CXBpZ1M8zNi5"
      },
      "source": [
        "##### **Similarity Learning & Similarity Measures**"
      ]
    },
    {
      "cell_type": "markdown",
      "metadata": {
        "id": "i9rjjHRPe3Lc"
      },
      "source": [
        "*Ähnlichkeitsmaße werden für nominal oder ordinal skalierte Variablen genutzt*"
      ]
    },
    {
      "cell_type": "markdown",
      "metadata": {
        "id": "cxTnwP8u5YD2"
      },
      "source": [
        "**Overview**"
      ]
    },
    {
      "cell_type": "markdown",
      "metadata": {
        "id": "QdhCXyrkgLB0"
      },
      "source": [
        "In der Statistik, insbesondere der Multivariaten Statistik, interessiert man sich für die Messung der Ähnlichkeit zwischen verschiedenen Objekten und definiert dazu Ähnlichkeits- und Distanzmaße. **Es handelt sich dabei nicht um Maße im mathematischen Sinn**, der Begriff bezieht sich ausschließlich auf die Messung einer bestimmten Größe."
      ]
    },
    {
      "cell_type": "markdown",
      "metadata": {
        "id": "Ez_pHYiXgPcu"
      },
      "source": [
        "https://de.m.wikipedia.org/wiki/Ähnlichkeitsanalyse\n",
        "\n",
        "https://de.m.wikipedia.org/wiki/Distanzfunktion"
      ]
    },
    {
      "cell_type": "markdown",
      "metadata": {
        "id": "vu_3BJSrgnoi"
      },
      "source": [
        "https://en.m.wikipedia.org/wiki/Distance_(graph_theory)\n",
        "\n",
        "https://en.m.wikipedia.org/wiki/Distance"
      ]
    },
    {
      "cell_type": "markdown",
      "metadata": {
        "id": "oAf4sna4hQMg"
      },
      "source": [
        "**Jaccard-Koeffizient**"
      ]
    },
    {
      "cell_type": "markdown",
      "metadata": {
        "id": "jYu5h2eLhR-N"
      },
      "source": [
        "https://de.m.wikipedia.org/wiki/Jaccard-Koeffizient"
      ]
    },
    {
      "cell_type": "markdown",
      "metadata": {
        "id": "deNJWcC3hUSX"
      },
      "source": [
        "**Yules Index**"
      ]
    },
    {
      "cell_type": "markdown",
      "metadata": {
        "id": "OGeN7197hXMA"
      },
      "source": [
        "Yules Index ist ein statistischer Messwert, der die Uniformität oder Diversität des Wortschatzes bestimmt. Er wurde vom schottischen Statistiker George Udny Yule entwickelt und misst die Wahrscheinlichkeit, mit der zwei zufällig ausgewählte Wörter eines Textes identisch sind – und zwar weitgehend unabhängig vom Umfang des Textes.Diesen Index hat Herdan aufgegriffen und weiterentwickelt."
      ]
    },
    {
      "cell_type": "markdown",
      "metadata": {
        "id": "k-YLY8Q4hZmk"
      },
      "source": [
        "https://de.m.wikipedia.org/wiki/Yules_Index"
      ]
    },
    {
      "cell_type": "markdown",
      "metadata": {
        "id": "jtmj4FOHq6ht"
      },
      "source": [
        "**Pearson Korrelationskoeffizient**"
      ]
    },
    {
      "cell_type": "markdown",
      "metadata": {
        "id": "5W0A6wTO22MZ"
      },
      "source": [
        "https://de.m.wikipedia.org/wiki/Korrelationskoeffizient"
      ]
    },
    {
      "cell_type": "markdown",
      "metadata": {
        "id": "ZrVKpOHIzWHG"
      },
      "source": [
        "##### **Distance Metric Learning & Distance Measures (& Divergence)**"
      ]
    },
    {
      "cell_type": "markdown",
      "metadata": {
        "id": "Au-5oyMJfCCd"
      },
      "source": [
        "*Distanzmaße werden für metrisch skalierte Variablen (d. h. für Intervall- und Verhältnisskala) genutzt.*"
      ]
    },
    {
      "cell_type": "markdown",
      "metadata": {
        "id": "8UfyDobq5cXp"
      },
      "source": [
        "**Overview**"
      ]
    },
    {
      "cell_type": "markdown",
      "metadata": {
        "id": "AepjAni7x_g9"
      },
      "source": [
        "**Exkurs**: [Distance measures](https://en.m.wikipedia.org/wiki/Distance_measures_(cosmology)) in cosmology are complicated by the [expansion of the universe](https://en.m.wikipedia.org/wiki/Expansion_of_the_universe), and by effects described by the [theory of relativity](https://en.m.wikipedia.org/wiki/Theory_of_relativity) such as [length contraction](https://en.m.wikipedia.org/wiki/Length_contraction) of moving objects."
      ]
    },
    {
      "cell_type": "markdown",
      "metadata": {
        "id": "dfT-0QZZm8VW"
      },
      "source": [
        "**Properties of a Divergence, Distance & Metric**"
      ]
    },
    {
      "cell_type": "markdown",
      "metadata": {
        "id": "7HScpxU3gCkB"
      },
      "source": [
        "1. $d(x, y) \\geq 0 \\quad$ (**non-negativity**)\n",
        "\n",
        "2. $d(x, y)=0$ if and only if $x=y$ (**identity of indiscernibles**. Note that condition 1 and 2 together produce **positive definiteness**)\n",
        "\n",
        "3. $d(x, y)=d(y, x)$ (**symmetry**)\n",
        "\n",
        "4. $d(x, z) \\leq d(x, y)+d(y, z)$ (**subadditivity / triangle inequality**)."
      ]
    },
    {
      "cell_type": "markdown",
      "metadata": {
        "id": "BGoqrlNKgEo8"
      },
      "source": [
        "* **Divergence** fullfills property of positive definiteness (1 + 2)\n",
        "\n",
        "* **Distance** fullfills property of positive definiteness and symmetrie (1 + 2+ 3)\n",
        "\n",
        "* **Metric** fullfills property of positive definiteness, symmetrie and triangle inequality (1 + 2 + 3 + 4)\n",
        "\n",
        "* Metric Space: Together with the set, a metric makes up a metric space.\n",
        "\n",
        "* (*Jede Norm induziert eine Metrik, aber nicht jede Metrik wird durch eine Norm induziert*)"
      ]
    },
    {
      "cell_type": "markdown",
      "metadata": {
        "id": "wuiVX3avwKmS"
      },
      "source": [
        "**Distance function vs. Distance Metric**\n",
        "\n",
        "• Distance Metric:\n",
        "▫ Satisfy non-negativity, symmetry and triangle\n",
        "inequation\n",
        "\n",
        "• Distance Function:\n",
        "▫ May not satisfy one or more requirements for\n",
        "distance metric\n",
        "▫ More general than distance metric"
      ]
    },
    {
      "cell_type": "markdown",
      "metadata": {
        "id": "MLWj7je0wMiG"
      },
      "source": [
        "https://www.cs.utexas.edu/~grauman/courses/spring2008/slides/Learning_distance_functions.pdf"
      ]
    },
    {
      "cell_type": "markdown",
      "metadata": {
        "id": "gD8HZ1Q1giLt"
      },
      "source": [
        "**Divergence & 'Statistical Distance'**"
      ]
    },
    {
      "cell_type": "markdown",
      "metadata": {
        "id": "nqH4VD9zgjtm"
      },
      "source": [
        "In statistics and information geometry, divergence or a contrast function is a function which establishes the **\"distance\" of one probability distribution to the other** on a statistical manifold. In statistics, probability theory, and information theory, **a statistical distance** quantifies the distance between two statistical objects, which can be\n",
        "\n",
        "* two random variables, or \n",
        "* two probability distributions or \n",
        "* two samples, or \n",
        "* the distance can be between an individual sample point and a population or \n",
        "* a wider sample of points.\n",
        "\n",
        "A distance between populations can be interpreted as **measuring the distance between two probability distributions** and hence they are essentially measures of distances between probability measures. \n",
        "\n",
        "* Where statistical distance measures relate to the differences between random variables, these may have statistical dependence, and hence these distances are not directly related to measures of distances between probability measures. \n",
        "\n",
        "* Again, a measure of distance between random variables may **relate to the extent of dependence between them, rather than to their individual values.**\n",
        "\n",
        "**<u>Many statistical distances are not metrics</u>** (and some types are regerred to as divergence), because they lack one or more properties of proper metrics. For example, \n",
        "\n",
        "* [pseudometrics](https://en.m.wikipedia.org/wiki/Pseudometric_space) violate the \"positive definiteness\" (alternatively, \"identity of indescernibles\") property (1 & 2 above); \n",
        "\n",
        "* [quasimetrics](https://en.m.wikipedia.org/wiki/Metric_(mathematics)#Quasimetrics) violate the symmetry property (3); and semimetrics violate the triangle inequality (4). \n",
        "\n",
        "* Statistical distances that satisfy (1) and (2) are referred to as divergences."
      ]
    },
    {
      "cell_type": "markdown",
      "metadata": {
        "id": "6Y2GffaHgpYZ"
      },
      "source": [
        "* In statistics and information geometry, there are many kinds of statistical distances, notably divergences, especially Bregman divergences and f-divergences. These include and generalize many of the notions of \"difference between two probability distributions\", and allow them to be studied geometrically, as statistical manifolds. \n",
        "\n",
        "* The **most elementary** is the **squared Euclidean distance**, which forms the basis of least squares; this is the most basic Bregman divergence (-> is this a metric then ???)\n",
        "\n",
        "* The **most important** in information theory is the relative entropy (**Kullback–Leibler divergence**), which allows one to analogously study maximum likelihood estimation geometrically; this is the most basic f-divergence, and is also a Bregman divergence (and is the only divergence that is both). \n",
        "\n",
        "* Statistical manifolds corresponding to Bregman divergences are flat manifolds in the corresponding geometry, allowing an analog of the Pythagorean theorem (which is traditionally true for squared Euclidean distance) to be used for linear inverse problems in inference by optimization theory.\n",
        "\n",
        "* Other important statistical distances include the Mahalanobis distance, the energy distance, and many others."
      ]
    },
    {
      "cell_type": "markdown",
      "metadata": {
        "id": "F_6VnI9tgsJe"
      },
      "source": [
        "https://en.m.wikipedia.org/wiki/Information_geometry\n",
        "\n",
        "https://en.m.wikipedia.org/wiki/Statistical_distance\n",
        "\n",
        "https://en.m.wikipedia.org/wiki/Divergence_(statistics)"
      ]
    },
    {
      "cell_type": "markdown",
      "metadata": {
        "id": "15ok6ieBgYkv"
      },
      "source": [
        "**Exkurs: Meaning of 'no symmetry' in divergences**"
      ]
    },
    {
      "cell_type": "markdown",
      "metadata": {
        "id": "bFglF2QTgaEc"
      },
      "source": [
        "* The Kullback-Leibler divergence is not symmetric. Roughly speaking, it's because you should think of the two arguments of the KL divergence as different kinds of things: the first argument is empirical data, and the second argument is a model you're comparing the data to. \n",
        "\n",
        "* Take a bunch of independent random variables $X_{1}, \\ldots, X_{n}$ whose possible values lie in a finite set.\n",
        "\n",
        "* Say these variables are identically distributed, with $\\operatorname{Pr}\\left(X_{i}=x\\right)=p_{x}$. Let $F_{n, x}$ be the number of variables whose values are equal to $x$. The list $F_{n}$ is a random variable, often called the \"empirical frequency distribution\" of the $X_{i} .$ What does $F_{n}$ look like when $n$ is very large?\n",
        "\n",
        "* More specifically, let's try to estimate the probabilities of the possible values of $F_{n} .$ since the set of possible values is different for different $n$, take a sequence of frequency distributions $f_{1}, f_{2}, f_{3}, \\ldots$ approaching a fixed frequency distribution $f$. It turns out $^{* *}$ that\n",
        "\n",
        "> $\\lim _{n \\rightarrow \\infty} \\frac{1}{n} \\ln \\operatorname{Pr}\\left(F_{n}=f_{n}\\right)=-\\mathrm{KL}(f, p)$ \n",
        "\n",
        "* In other words, the Kullback-Leibler divergence of $f$ from $p$ lets you estimate the probability of getting an empirical frequency distribution close to $f$ from a large number of independent random variables with distribution $p$.\n"
      ]
    },
    {
      "cell_type": "markdown",
      "metadata": {
        "id": "sEE5LAAygcf-"
      },
      "source": [
        "Excellent article \"Information Theory, Relative Entropy and Statistics,\" by [François Bavaud](https://link.springer.com/chapter/10.1007/978-3-642-00659-3_3)"
      ]
    },
    {
      "cell_type": "markdown",
      "metadata": {
        "id": "1geLcP8Pgut9"
      },
      "source": [
        "List of Distances Types\n",
        "\n",
        "'braycurtis': hdbscan.dist_metrics.BrayCurtisDistance\n",
        "\n",
        "'canberra': hdbscan.dist_metrics.CanberraDistance\n",
        "\n",
        "'chebyshev': hdbscan.dist_metrics.ChebyshevDistance\n",
        "\n",
        "'cityblock': hdbscan.dist_metrics.ManhattanDistance\n",
        "\n",
        "'dice': hdbscan.dist_metrics.DiceDistance\n",
        "\n",
        "'euclidean': hdbscan.dist_metrics.EuclideanDistance\n",
        "\n",
        "'hamming': hdbscan.dist_metrics.HammingDistance\n",
        "\n",
        "'haversine': hdbscan.dist_metrics.HaversineDistance\n",
        "\n",
        "'infinity': hdbscan.dist_metrics.ChebyshevDistance\n",
        "\n",
        "'jaccard': hdbscan.dist_metrics.JaccardDistance\n",
        "\n",
        "'kulsinski': hdbscan.dist_metrics.KulsinskiDistance\n",
        "\n",
        "'l1': hdbscan.dist_metrics.ManhattanDistance\n",
        "\n",
        "'l2': hdbscan.dist_metrics.EuclideanDistance\n",
        "\n",
        "'mahalanobis': hdbscan.dist_metrics.MahalanobisDistance\n",
        "\n",
        "'manhattan': hdbscan.dist_metrics.ManhattanDistance\n",
        "\n",
        "'matching': hdbscan.dist_metrics.MatchingDistance\n",
        "\n",
        "'minkowski': hdbscan.dist_metrics.MinkowskiDistance\n",
        "\n",
        "'p': hdbscan.dist_metrics.MinkowskiDistance\n",
        "\n",
        "'pyfunc': hdbscan.dist_metrics.PyFuncDistance\n",
        "\n",
        "'rogerstanimoto': hdbscan.dist_metrics.RogersTanimotoDistance\n",
        "\n",
        "'russellrao': hdbscan.dist_metrics.RussellRaoDistance\n",
        "\n",
        "'seuclidean': hdbscan.dist_metrics.SEuclideanDistance\n",
        "\n",
        "'sokalmichener': hdbscan.dist_metrics.SokalMichenerDistance\n",
        "\n",
        "'sokalsneath': hdbscan.dist_metrics.SokalSneathDistance\n",
        "\n",
        "'wminkowski': hdbscan.dist_metrics.WMinkowskiDistance\n",
        "\n",
        "https://hdbscan.readthedocs.io/en/latest/basic_hdbscan.html\n",
        "\n",
        "https://reference.wolfram.com/language/guide/DistanceAndSimilarityMeasures.html"
      ]
    },
    {
      "cell_type": "markdown",
      "metadata": {
        "id": "AmqQ5UuaFxPE"
      },
      "source": [
        "### **Regression & Forecasting** (mostly distance-based)"
      ]
    },
    {
      "cell_type": "markdown",
      "metadata": {
        "id": "MrnqfFqHXRuR"
      },
      "source": [
        "##### **Introduction**"
      ]
    },
    {
      "cell_type": "markdown",
      "metadata": {
        "id": "3Tv81yCGpTRK"
      },
      "source": [
        "![xx](https://raw.githubusercontent.com/deltorobarba/repo/master/regression_loss.PNG)"
      ]
    },
    {
      "cell_type": "markdown",
      "metadata": {
        "id": "jqK34fPyXYSR"
      },
      "source": [
        "Loss functions that belong to the category \"distance-based\" are primarily used in regression problems. They utilize the numeric difference between the predicted output and the true target as a proxy variable to quantify the quality of individual predictions.\n",
        "\n"
      ]
    },
    {
      "cell_type": "markdown",
      "metadata": {
        "id": "vO5Zwg69Xagm"
      },
      "source": [
        "http://juliaml.github.io/LossFunctions.jl/stable/losses/distance/"
      ]
    },
    {
      "cell_type": "markdown",
      "metadata": {
        "id": "Ay6hGBmgcGgw"
      },
      "source": [
        "**(Linear) Least Squares**"
      ]
    },
    {
      "cell_type": "markdown",
      "metadata": {
        "id": "zu_NEtLMdK0u"
      },
      "source": [
        "* Least Squares: Deren Parameter werden so bestimmt, dass die Summe der Abweichungsquadrate e der Beobachtungen y von den Werten der Funktion minimiert wird.\n",
        "\n",
        "* Da die Kleinste-Quadrate-Schätzung die Residuenquadratsumme minimiert, ist es dasjenige Schätzverfahren, welches das [Bestimmtheitsmaß](https://de.wikipedia.org/wiki/Bestimmtheitsmaß) maximiert.\n",
        "\n",
        "* Das Bestimmtheitsmaß der Regression, auch empirisches Bestimmtheitsmaß, ist eine dimensionslose Maßzahl die den Anteil der Variabilität in den Messwerten der abhängigen Variablen ausdrückt, der durch das lineare Modell „erklärt“ wird. Mithilfe dieser Definition können die Extremwerte für das Bestimmtheitsmaß aufgezeigt werden. Für das\n",
        "Bestimmtheitsmaß gilt, dass es umso năher am Wert 1 ist, je kleiner die Residuenquadratsumme ist. Es wird maximal gleich 1 wenn $\\sum_{i=1}^{n}\\left(y_{i}-\\hat{y}_{i}\\right)^{2}=0$ ist, also alle Residuen null sind. In diesem Fall ist die Anpassung an die Daten perfekt, was bedeutet, dass für jede Beobachtung $y_{i}=\\hat{y}_{i}$ ist.\n",
        "\n",
        "* [Least Squares](https://en.wikipedia.org/wiki/Least_squares) / [Methode der kleinsten Quadrate](https://de.wikipedia.org/wiki/Methode_der_kleinsten_Quadrate) & [Linear Least Squares](https://en.wikipedia.org/wiki/Linear_least_squares)"
      ]
    },
    {
      "cell_type": "markdown",
      "metadata": {
        "id": "CpN5nnfyc3cD"
      },
      "source": [
        "**Gauss–Markov theorem (BLUE)**"
      ]
    },
    {
      "cell_type": "markdown",
      "metadata": {
        "id": "o91f4dHOc6Nh"
      },
      "source": [
        "*  states that the ordinary least squares (OLS) estimator has the lowest sampling variance within the class of linear unbiased estimators, **if the errors in the linear regression model are uncorrelated, have equal variances and expectation value of zero**.\n",
        "\n",
        "* stellt eine theoretische Rechtfertigung der Methode der kleinsten Quadrate dar\n",
        "\n",
        "* Der Satz besagt, dass in einem linearen Regressionsmodell, in dem die **Störgrößen (error term) einen Erwartungswert von null und eine konstante Varianz haben sowie unkorreliert sind** (Annahmen des klassischen linearen Regressionsmodells), der Kleinste-Quadrate-Schätzer – vorausgesetzt er existiert – ein bester linearer erwartungstreuer Schätzer ist (englisch Best Linear Unbiased Estimator, kurz: BLUE). \n",
        "\n",
        "* Hierbei bedeutet der „beste“, dass er – innerhalb der Klasse der linearen erwartungstreuen Schätzer – die „kleinste“ Kovarianzmatrix aufweist und somit minimalvariant ist. Die Störgrößen müssen nicht notwendigerweise normalverteilt sein. Sie müssen im Fall der verallgemeinerten Kleinste-Quadrate-Schätzung auch nicht unabhängig und identisch verteilt sein.\n",
        "\n",
        "The Gauss-Markov assumptions concern the set of error random variables, $\\varepsilon_{i}:$\n",
        "\n",
        "1. They have mean zero: $\\mathrm{E}\\left[\\varepsilon_{i}\\right]=0$ \n",
        "\n",
        "2. They are homoscedastic, that is all have the same finite variance: $\\operatorname{Var}\\left(\\varepsilon_{i}\\right)=\\sigma^{2}<\\infty$ for all $i$,\n",
        "3. Distinct error terms are uncorrelated: $\\operatorname{Cov}\\left(\\varepsilon_{i}, \\varepsilon_{j}\\right)=0, \\forall i \\neq j$.\n",
        "\n",
        "A linear estimator of $\\beta_{j}$ is a linear combination $\\widehat{\\beta}_{j}=c_{1 j} y_{1}+\\cdots+c_{n j} y_{n}$\n",
        "\n",
        "* The errors do not need to be normal, nor do they need to be independent and identically distributed (only uncorrelated with mean zero and homoscedastic with finite variance). \n",
        "\n",
        "* The requirement that the estimator be unbiased cannot be dropped, since biased estimators exist with lower variance. See, for example, the [James–Stein estimator](https://en.wikipedia.org/wiki/James–Stein_estimator) (which also drops linearity), [ridge regression(Tikhonov_regularization)](https://en.wikipedia.org/wiki/Tikhonov_regularization), or simply any [degenerate estimator](https://en.wikipedia.org/wiki/Degenerate_distribution).\n",
        "\n",
        "* https://en.wikipedia.org/wiki/Gauss–Markov_theorem"
      ]
    },
    {
      "cell_type": "markdown",
      "metadata": {
        "id": "JOS5wYbacIvh"
      },
      "source": [
        "**Ordinary Least Squares (OLS)**"
      ]
    },
    {
      "cell_type": "markdown",
      "metadata": {
        "id": "UpMvpZWbbvZb"
      },
      "source": [
        "* Ordinary least squares is a type of linear least squares method for estimating the unknown parameters in a linear regression model.  \n",
        "\n",
        "* “Ordinary Least Squares” (OLS) method is used to find the best line intercept (b) and the slope (m). [in y = mx + b, m is the slope and b the intercept]\n",
        "\n",
        "\n",
        "> $m=\\frac{\\sum\\left(x_{i}-\\bar{x}\\right)\\left(y_{i}-\\bar{y}\\right)}{\\sum\\left(x_{i}-\\bar{x}\\right)^{2}}$\n",
        "\n",
        "> $b=\\bar{y}-m * \\bar{x}$\n",
        "\n",
        "* In other words → with OLS Linear Regression the goal is to find the line (or hyperplane) that minimizes the vertical offsets. We define the best-fitting line as the line that minimizes the sum of squared errors (SSE) or mean squared error (MSE) between our target variable (y) and our predicted output over all samples i in our dataset of size n.\n",
        "\n",
        "* OLS chooses the parameters of a linear function of a set of explanatory variables by the principle of least squares: minimizing the sum of the squares of the differences between the observed dependent variable (values of the variable being observed) in the given dataset and those predicted by the linear function\n",
        "\n",
        "* The OLS method minimizes the sum of squared residuals, and leads to a [closed-form expression](https://en.wikipedia.org/wiki/Closed-form_expression) for the estimated value of the unknown parameter vector β.\n",
        "\n",
        "* It is important to point out though that OLS method will work for a univariate dataset (ie., single independent variables and single dependent variables). Multivariate dataset contains a single independent variables set and multiple dependent variables sets, requiring a machine learning algorithm called “Gradient Descent”.\n",
        "\n",
        "* [Wiki](https://en.wikipedia.org/wiki/Ordinary_least_squares) & [Medium](https://medium.com/@jorgesleonel/linear-regression-307937441a8b)"
      ]
    },
    {
      "cell_type": "markdown",
      "metadata": {
        "id": "kPkDdIB-cNzm"
      },
      "source": [
        "**Weighted Least Squares (WLS)**"
      ]
    },
    {
      "cell_type": "markdown",
      "metadata": {
        "id": "5Lnnftv7dCZi"
      },
      "source": [
        "* are used when heteroscedasticity is present in the error terms of the model.\n",
        "* https://en.wikipedia.org/wiki/Weighted_least_squares"
      ]
    },
    {
      "cell_type": "markdown",
      "metadata": {
        "id": "hXEOjvoPcTWG"
      },
      "source": [
        "**Generalized Least Squares (GLS)**"
      ]
    },
    {
      "cell_type": "markdown",
      "metadata": {
        "id": "XdLHRcoPc_2m"
      },
      "source": [
        "* is an extension of the OLS method, that **allows efficient estimation of β when either heteroscedasticity, or correlations, or both are present among the error terms of the model**, as long as the form of heteroscedasticity and correlation is known independently of the data. \n",
        "\n",
        "* To handle heteroscedasticity when the error terms are uncorrelated with each other, GLS minimizes a weighted analogue to the sum of squared residuals from OLS regression, where the weight for the ith case is inversely proportional to var(εi). This special case of GLS is called \"weighted least squares\". \n",
        "\n",
        "* https://en.wikipedia.org/wiki/Generalized_least_squares"
      ]
    },
    {
      "cell_type": "markdown",
      "metadata": {
        "id": "VVJqZBKKTJcX"
      },
      "source": [
        "##### **SE, SAE & SSE**"
      ]
    },
    {
      "cell_type": "markdown",
      "metadata": {
        "id": "CSGJLSQ_TbBo"
      },
      "source": [
        "**Sum of Errors (SE)** the difference in the predicted value and the actual value.\n",
        "\n",
        "$\\mathbf{L}=\\Sigma(\\hat{Y}-Y)$\n",
        "\n",
        "Errors terms cancel each other out. \n"
      ]
    },
    {
      "cell_type": "markdown",
      "metadata": {
        "id": "fzYBf5MKTvi-"
      },
      "source": [
        "**Sum of Absolute Errors (SAE)** takes the absolute values of the errors for all iterations.\n",
        "\n",
        "$\\mathbf{L}=\\Sigma (|\\hat{Y}-Y|)$\n",
        "\n",
        "This loss function is not differentiable at 0. "
      ]
    },
    {
      "cell_type": "markdown",
      "metadata": {
        "id": "6jN34GYcUXz9"
      },
      "source": [
        "**Sum of Squared Errors (SSE)** is differentiable at all points and gives non-negative errors. But you could argue that why cannot we go for higher orders like 4th order or so. Then what if we consider to take 4th order loss function, which would look like:\n",
        "\n",
        "$\\mathbf{L}=\\left[\\Sigma(\\hat{Y}-Y)^{2}\\right]$\n",
        "\n",
        "The gradient of the loss function will vanish at minima & maxima. And the error will grow with the sample size."
      ]
    },
    {
      "cell_type": "markdown",
      "metadata": {
        "id": "C1r2VOUPXMmq"
      },
      "source": [
        "![xxx](https://raw.githubusercontent.com/deltorobarba/repo/master/sumoferrors.png)"
      ]
    },
    {
      "cell_type": "markdown",
      "metadata": {
        "id": "-IzwoGPnZRbx"
      },
      "source": [
        "* Minimizing Sum of Squared Errors / SSE ([wiki](https://de.m.wikipedia.org/wiki/Residuenquadratsumme) and [medium](https://medium.com/@dustinstansbury/cutting-your-losses-loss-functions-the-sum-of-squared-errors-loss-4c467d52a511)).  We can think of the SSE loss as the (unscaled) variance of the model errors. \n",
        "* Therefore **minimizing the SEE loss is equivalent to minimizing the variance of the model residuals**. For this reason, the sum of squares loss is often referred to as the Residual Sum of Squares error (RSS) for linear models. We can think of minimizing the SSE loss as maximizing the covariance between the real outputs and those predicted by the model.\n",
        "* Ideal when distribution of residuals in normal: the [Gauss-Markov theorem](https://en.wikipedia.org/wiki/Gauss–Markov_theorem) states that if errors of a linear function are distributed Normally about the mean of the line, then the LSS solution gives the [best unbiased estimator](https://en.wikipedia.org/wiki/Bias_of_an_estimator) for the parameters .\n",
        "* Problem: Because each error is squared, any outliers in the dataset can dominate the parameter estimation process. For this reason, the LSS loss is said to lack robustness. Therefore preprocessing of the the dataset (i.e. removing or thresholding outlier values) may be necessary when using the LSS loss"
      ]
    },
    {
      "cell_type": "markdown",
      "metadata": {
        "id": "zy6HK9uZG4NF"
      },
      "source": [
        "##### **MSE (L2) & RMSE**"
      ]
    },
    {
      "cell_type": "markdown",
      "metadata": {
        "id": "DhwL39dIoAR5"
      },
      "source": [
        "**Squared Euclidean Distance**"
      ]
    },
    {
      "cell_type": "markdown",
      "metadata": {
        "id": "4mHVqq2toEeh"
      },
      "source": [
        "* Squared Euclidean distance is of central importance in estimating parameters of statistical models, where it is used in the method of least squares, a standard approach to regression analysis. \n",
        "\n",
        "* The corresponding loss function is the squared error loss (SEL), and places progressively greater weight on larger errors. The corresponding risk function (expected loss) is mean squared error (MSE).\n",
        "\n",
        "* **Squared Euclidean distance is not a metric**, as it does not satisfy the triangle inequality. However, **it is a more general notion of distance, namely a divergence** (specifically a Bregman divergence), and can be used as a statistical distance. "
      ]
    },
    {
      "cell_type": "markdown",
      "metadata": {
        "id": "kjoet-ldoMGv"
      },
      "source": [
        "https://en.m.wikipedia.org/wiki/Euclidean_distance#Squared_Euclidean_distance"
      ]
    },
    {
      "cell_type": "markdown",
      "metadata": {
        "id": "avYjKTJLgym1"
      },
      "source": [
        "![bb](https://upload.wikimedia.org/wikipedia/commons/thumb/1/13/3d-function-2.svg/566px-3d-function-2.svg.png)"
      ]
    },
    {
      "cell_type": "markdown",
      "metadata": {
        "id": "ZzQChHhag2sJ"
      },
      "source": [
        "*A paraboloid, the graph of squared Euclidean distance from the origin*"
      ]
    },
    {
      "cell_type": "markdown",
      "metadata": {
        "id": "l37ol-1xg6yd"
      },
      "source": [
        "![bb](https://upload.wikimedia.org/wikipedia/commons/thumb/1/12/3d-function-5.svg/566px-3d-function-5.svg.png)"
      ]
    },
    {
      "cell_type": "markdown",
      "metadata": {
        "id": "jbkxPutkg_cF"
      },
      "source": [
        "*A cone, the graph of Euclidean distance from the origin in the plane*"
      ]
    },
    {
      "cell_type": "markdown",
      "metadata": {
        "id": "xH6KPYDJfgjs"
      },
      "source": [
        "**Mean Squared Error**"
      ]
    },
    {
      "cell_type": "code",
      "metadata": {
        "id": "_a9PTm_aGIaH"
      },
      "source": [
        "loss = 'mse'"
      ],
      "execution_count": null,
      "outputs": []
    },
    {
      "cell_type": "markdown",
      "metadata": {
        "id": "roP8IXhWVyqD"
      },
      "source": [
        "$\\mathrm{MSE}={\\frac{1}{n} \\sum_{j=1}^{n}\\left(y_{j}-\\hat{y}_{j}\\right)^{2}}$"
      ]
    },
    {
      "cell_type": "markdown",
      "metadata": {
        "id": "FlQ3pcb3JrHK"
      },
      "source": [
        "* Mean Squared Error (L2 or Quadratic Loss). Error decreases as we increase our sample data as the distribution of our data becomes more and more narrower (referring to normal distribution). The more data we have, the less is the error.\n",
        "* Can range from 0 to ∞ and are indifferent to the direction of errors. It is  negatively-oriented scores, which means lower values are better. It is always non – negative and values close to zero are better. The MSE is the second moment of the error (about the origin) and thus incorporates both the variance of the estimator and its bias.\n",
        "* Problem: Sensitive to outliers and the order of loss is more than that of the data. As my data is of order 1 and the loss function, MSE has an order of 2 (squared). So we cannot directly correlate data with the error. \n",
        "* [Wikipedia](https://de.m.wikipedia.org/wiki/Methode_der_kleinsten_Quadrate)"
      ]
    },
    {
      "cell_type": "code",
      "metadata": {
        "id": "wutQa1GTppX9",
        "colab": {
          "base_uri": "https://localhost:8080/",
          "height": 322
        },
        "outputId": "9815f758-caab-4428-f857-d6548773fc0b"
      },
      "source": [
        "import numpy as np\n",
        "import matplotlib.pyplot as plt\n",
        "import seaborn as sns\n",
        "\n",
        "# MSE loss function\n",
        "def mse_loss(y_pred, y_true):\n",
        "    squared_error = (y_pred - y_true) ** 2\n",
        "    sum_squared_error = np.sum(squared_error)\n",
        "    loss = sum_squared_error / y_true.size\n",
        "    return loss\n",
        "    \n",
        "# Plotting\n",
        "x_vals = np.arange(-20, 20, 0.01)\n",
        "y_vals = np.square(x_vals)\n",
        "\n",
        "sns.set(rc={'figure.figsize':(10, 5), \"lines.linewidth\": 1.0})\n",
        "# plt.plot(x_vals, y_vals, \"blue\")\n",
        "plt.plot(x_vals, y_vals)\n",
        "plt.grid(True, which=\"major\")\n",
        "plt.axhline(y=0, color='red', linestyle='--', linewidth=1.0)\n",
        "plt.axvline(x=0, color='red', linestyle='--', linewidth=1.0)\n",
        "plt.show()"
      ],
      "execution_count": null,
      "outputs": [
        {
          "output_type": "display_data",
          "data": {
            "image/png": "[encoded data removed]",
            "text/plain": [
              "<Figure size 720x360 with 1 Axes>"
            ]
          },
          "metadata": {
            "tags": []
          }
        }
      ]
    },
    {
      "cell_type": "code",
      "metadata": {
        "id": "WRmCUqgTgkLt"
      },
      "source": [
        "def mse(predictions, targets):\n",
        "    # Retrieving number of samples in dataset\n",
        "    samples_num = len(predictions)\n",
        "    \n",
        "    # Summing square differences between predicted and expected values\n",
        "    accumulated_error = 0.0\n",
        "    for prediction, target in zip(predictions, targets):\n",
        "        accumulated_error += (prediction - target)**2\n",
        "        \n",
        "    # Calculating mean and dividing by 2\n",
        "    mae_error = (1.0 / (2*samples_num)) * accumulated_error\n",
        "    \n",
        "    return mae_error"
      ],
      "execution_count": null,
      "outputs": []
    },
    {
      "cell_type": "code",
      "metadata": {
        "id": "6bYdhcdnwE66"
      },
      "source": [
        "def MSE(y_predicted, y):\n",
        "  squared_error = (y_predicted - y) ** 2\n",
        "  sum_squared_error = np.sum(squared_error)\n",
        "  mse = sum_squared_error / y.size\n",
        "  return(mse)"
      ],
      "execution_count": null,
      "outputs": []
    },
    {
      "cell_type": "markdown",
      "metadata": {
        "id": "iztigyeof0qt"
      },
      "source": [
        "**Mean Squared Logarithmic Error (MSLR)**"
      ]
    },
    {
      "cell_type": "code",
      "metadata": {
        "id": "YVndjV5xf5tY"
      },
      "source": [
        ""
      ],
      "execution_count": null,
      "outputs": []
    },
    {
      "cell_type": "markdown",
      "metadata": {
        "id": "a0fMbvjdf57W"
      },
      "source": [
        "* Mean Squared Logarithmic Error\n",
        "* https://www.tensorflow.org/api_docs/python/tf/keras/losses/MeanSquaredLogarithmicError"
      ]
    },
    {
      "cell_type": "markdown",
      "metadata": {
        "id": "Z1FZ-FjIfW1T"
      },
      "source": [
        "**RMSE**"
      ]
    },
    {
      "cell_type": "code",
      "metadata": {
        "id": "3cE7mWb3fYeP"
      },
      "source": [
        "tf.keras.metrics.RootMeanSquaredError(\n",
        "    name='root_mean_squared_error', dtype=None\n",
        ")"
      ],
      "execution_count": null,
      "outputs": []
    },
    {
      "cell_type": "markdown",
      "metadata": {
        "id": "aGKvemXQTxrG"
      },
      "source": [
        "$\\mathrm{RMSE}=\\sqrt{\\frac{1}{n} \\sum_{j=1}^{n}\\left(y_{j}-\\hat{y}_{j}\\right)^{2}}$"
      ]
    },
    {
      "cell_type": "markdown",
      "metadata": {
        "id": "W7DiXtVUfZv3"
      },
      "source": [
        "* Root-Mean-Square Error is the distance, on average, of a data point from the fitted line, measured along a vertical line.\n",
        "* The **RMSE is directly interpretable in terms of measurement units**, and so is a better measure of goodness of fit than a correlation coefficient. One can compare the RMSE to observed variation in measurements of a typical point. The two should be similar for a reasonable fit. Metric can range from 0 to ∞ and are indifferent to the direction of errors. It is  negatively-oriented scores, which means lower values are better.\n",
        "* Since the errors are squared before they are averaged, the RMSE gives a relatively high weight to large errors. This means the RMSE should be more useful when large errors are particularly undesirable\n",
        "* https://www.sciencedirect.com/science/article/pii/S096014811831231X\n",
        "* The **RMSE is more appropriate to represent model performance than the MAE when the error distribution is expected to be Gaussian**.\n",
        "https://www.geosci-model-dev-discuss.net/7/C473/2014/gmdd-7-C473-2014-supplement.pdf\n",
        "* When both metrics are calculated, the MAE tends to be much smaller than the RMSE because the RMSE penalizes large errors while the MAE gives the same weight to all errors.\n",
        "* They summarized that the **RMSE tends to become increasingly larger than the MAE** (but not necessarily in a monotonic fashion) as the distribution of error magnitudes becomes more variable. The RMSE tends to 1 grow larger than the MAE with n2 since its lower limit is fixed at the MAE and its upper 11 limit (n2 · MAE) increases with n2 .\n",
        "* [Wiki](https://en.m.wikipedia.org/wiki/Root-mean-square_deviation) & [Keras](https://www.tensorflow.org/api_docs/python/tf/keras/metrics/RootMeanSquaredError)"
      ]
    },
    {
      "cell_type": "markdown",
      "metadata": {
        "id": "taoM__MVSAbf"
      },
      "source": [
        "**RMSLE**"
      ]
    },
    {
      "cell_type": "code",
      "metadata": {
        "id": "sHCT13-gSDAw"
      },
      "source": [
        ""
      ],
      "execution_count": null,
      "outputs": []
    },
    {
      "cell_type": "markdown",
      "metadata": {
        "id": "cZUhp1-tSJXq"
      },
      "source": [
        "* Abzüge für Fehler nach der relativen Größe statt des absoluten Werts vornehmen. Das ist besonders hilfreich, wenn sowohl die vorhergesagten als auch die tatsächlichen Werte sehr groß werden können. Nicht gültig für eine Zielspalte mit negativen Werten"
      ]
    },
    {
      "cell_type": "markdown",
      "metadata": {
        "id": "TrujRpndSDa7"
      },
      "source": [
        "**RMSPE**"
      ]
    },
    {
      "cell_type": "code",
      "metadata": {
        "id": "27unxIPOSE7D"
      },
      "source": [
        ""
      ],
      "execution_count": null,
      "outputs": []
    },
    {
      "cell_type": "markdown",
      "metadata": {
        "id": "MUL3Y97WG7n6"
      },
      "source": [
        "##### **MAE (L1) & MAPE**"
      ]
    },
    {
      "cell_type": "code",
      "metadata": {
        "id": "wTBTWNouBf4e"
      },
      "source": [
        "loss = 'mae'"
      ],
      "execution_count": null,
      "outputs": []
    },
    {
      "cell_type": "markdown",
      "metadata": {
        "id": "K0l6NTY_T00L"
      },
      "source": [
        "$\\mathrm{MAE}=\\frac{1}{n} \\sum_{j=1}^{n}\\left|y_{j}-\\hat{y}_{j}\\right|$"
      ]
    },
    {
      "cell_type": "code",
      "metadata": {
        "id": "3RPbrLn8qpqc",
        "colab": {
          "base_uri": "https://localhost:8080/",
          "height": 322
        },
        "outputId": "d8db94a2-27f8-440c-fd0e-ab1c52d56883"
      },
      "source": [
        "import numpy as np\n",
        "import matplotlib.pyplot as plt\n",
        "import seaborn as sns\n",
        "\n",
        "# MAE loss function\n",
        "def mae_loss(y_pred, y_true):\n",
        "    abs_error = np.abs(y_pred - y_true)\n",
        "    sum_abs_error = np.sum(abs_error)\n",
        "    loss = sum_abs_error / y_true.size\n",
        "    return loss\n",
        "    \n",
        "# Plotting\n",
        "x_vals = np.arange(-100, 100, 0.01)\n",
        "y_vals = np.abs(x_vals)\n",
        "\n",
        "sns.set(rc={'figure.figsize':(10, 5), \"lines.linewidth\": 1.0})\n",
        "plt.plot(x_vals, y_vals)\n",
        "plt.grid(True, which=\"major\")\n",
        "plt.axhline(y=0, color='red', linestyle='--', linewidth=1.0)\n",
        "plt.axvline(x=0, color='red', linestyle='--', linewidth=1.0)\n",
        "plt.show()"
      ],
      "execution_count": null,
      "outputs": [
        {
          "output_type": "display_data",
          "data": {
            "image/png": "[encoded data removed]",
            "text/plain": [
              "<Figure size 720x360 with 1 Axes>"
            ]
          },
          "metadata": {
            "tags": []
          }
        }
      ]
    },
    {
      "cell_type": "markdown",
      "metadata": {
        "id": "QGmm_005WT6H"
      },
      "source": [
        "*If the absolute value is not taken (the signs of the errors are not removed), the average error becomes the Mean Bias Error (MBE) and is usually intended to measure average model bias. MBE can convey useful information, but should be interpreted cautiously because positive and negative errors will cancel out.*"
      ]
    },
    {
      "cell_type": "markdown",
      "metadata": {
        "id": "dwewFlH5dtSO"
      },
      "source": [
        "* Mean Absolute Error (L1 Loss)\n",
        "* Computes the mean of absolute difference between labels and predictions\n",
        "* measures the average magnitude of the errors in a set of predictions, without considering their direction. It’s the average over the test sample of the absolute differences between prediction and actual observation where all individual differences have equal weight.\n",
        "* On some regression problems, the **distribution of the target variable may be mostly Gaussian, but may have outliers**, e.g. large or small values far from the mean value. The Mean Absolute Error, or MAE, loss is an appropriate loss function in this case as it is more robust to outliers. It is calculated as the average of the absolute difference between the actual and predicted values.\n",
        "* Metric can range from 0 to ∞ and are indifferent to the direction of errors. It is  negatively-oriented scores, which means lower values are better.\n",
        "* Extremwerte als Ausreißer mit geringerem Einfluss auf das Modell ansehen: MAE loss is useful if the training data is corrupted with outliers (i.e. we erroneously receive unrealistically huge negative/positive values in our training environment, but not our testing environment).\n"
      ]
    },
    {
      "cell_type": "code",
      "metadata": {
        "id": "fZlsXjjYguS_"
      },
      "source": [
        "def mae(predictions, targets):\n",
        "    # Retrieving number of samples in dataset\n",
        "    samples_num = len(predictions)\n",
        "    \n",
        "    # Summing absolute differences between predicted and expected values\n",
        "    accumulated_error = 0.0\n",
        "    for prediction, target in zip(predictions, targets):\n",
        "        accumulated_error += np.abs(prediction - target)\n",
        "        \n",
        "    # Calculating mean\n",
        "    mae_error = (1.0 / samples_num) * accumulated_error\n",
        "    \n",
        "    return mae_error"
      ],
      "execution_count": null,
      "outputs": []
    },
    {
      "cell_type": "markdown",
      "metadata": {
        "id": "by0MnQ9bN0LH"
      },
      "source": [
        "**MSE vs MSE**\n",
        "\n",
        "One big problem in using MAE loss (for neural nets especially) is that its gradient is the same throughout, which means the gradient will be large even for small loss values. This isn’t good for learning. To fix this, we can use dynamic learning rate which decreases as we move closer to the minima. MSE behaves nicely in this case and will converge even with a fixed learning rate. The gradient of MSE loss is high for larger loss values and decreases as loss approaches 0, making it more precise at the end of training (see figure below.)"
      ]
    },
    {
      "cell_type": "markdown",
      "metadata": {
        "id": "daG9qEDxOCyo"
      },
      "source": [
        "![xx](https://raw.githubusercontent.com/deltorobarba/machinelearning/master/mae_vs_mse.PNG)"
      ]
    },
    {
      "cell_type": "markdown",
      "metadata": {
        "id": "DNncxKvrUZ3k"
      },
      "source": [
        "**Mean Absolute Percentage Error (MAPE)**"
      ]
    },
    {
      "cell_type": "code",
      "metadata": {
        "id": "C0besM03eqMI"
      },
      "source": [
        "tf.keras.losses.MAPE(\n",
        "    y_true, y_pred\n",
        ")"
      ],
      "execution_count": null,
      "outputs": []
    },
    {
      "cell_type": "markdown",
      "metadata": {
        "id": "nC70VH4ftWSU"
      },
      "source": [
        "$\\mathrm{M}=\\frac{1}{n} \\sum_{t=1}^{n}\\left|\\frac{A_{t}-F_{t}}{A_{t}}\\right|$"
      ]
    },
    {
      "cell_type": "markdown",
      "metadata": {
        "id": "xCaQs6DTevbo"
      },
      "source": [
        "* The mean absolute percentage error (MAPE) is a statistical measure of **how accurate a forecast** system is. \n",
        "\n",
        "* It measures this accuracy as a percentage, and can be calculated as the average absolute percent error for each time period minus actual values divided by actual values. Where At is the actual value and Ft is the forecast value.\n",
        "\n",
        "* The mean absolute percentage error (MAPE) is the most common measure used to forecast error, and works best if there are no extremes to the data (and no zeros).\n",
        "\n",
        "* https://en.m.wikipedia.org/wiki/Mean_absolute_percentage_error"
      ]
    },
    {
      "cell_type": "markdown",
      "metadata": {
        "id": "W8-r2TGwefJj"
      },
      "source": [
        "**Symmetric Mean Absolute Percentage Error (sMAPE)**"
      ]
    },
    {
      "cell_type": "code",
      "metadata": {
        "id": "JfBnOe2TejxO"
      },
      "source": [
        "# Import Keras backend\n",
        "import keras.backend as K\n",
        "\n",
        "# Define SMAPE loss function\n",
        "def customLoss(true,predicted):\n",
        "    epsilon = 0.1\n",
        "    summ = K.maximum(K.abs(true) + K.abs(predicted) + epsilon, 0.5 + epsilon)\n",
        "    smape = K.abs(predicted - true) / summ * 2.0\n",
        "    return smape\n",
        "\n",
        "# https://medium.com/@mlguy/adding-custom-loss-and-optimizer-in-keras-e255764e1b7d"
      ],
      "execution_count": null,
      "outputs": []
    },
    {
      "cell_type": "markdown",
      "metadata": {
        "id": "sxNt8Ap4wuYc"
      },
      "source": [
        "There are 3 different definitions of sMAPE. 2 of them are below:"
      ]
    },
    {
      "cell_type": "markdown",
      "metadata": {
        "id": "phIyFqeIufVm"
      },
      "source": [
        "$\\operatorname{SMAPE}=\\frac{100 \\%}{n} \\sum_{t=1}^{n} \\frac{\\left|F_{t}-A_{t}\\right|}{\\left(\\left|A_{t}\\right|+\\left|F_{t}\\right|\\right) / 2}$"
      ]
    },
    {
      "cell_type": "markdown",
      "metadata": {
        "id": "trnmeQ--ezQl"
      },
      "source": [
        "* Symmetric mean absolute percentage error (SMAPE or sMAPE) is an accuracy measure based on percentage (or relative) errors. \n",
        "\n",
        "* At is the actual value and Ft is the forecast value\n",
        "\n",
        "* The absolute difference between At and Ft is divided by half the sum of absolute values of the actual value At and the forecast value Ft. The value of this calculation is summed for every fitted point t and divided again by the number of fitted points n.\n",
        "\n",
        "* Armstrong's original definition is as follows:\n",
        "\n",
        "$\\mathrm{SMAPE (old)}=\\frac{1}{n} \\sum_{t=1}^{n} \\frac{\\left|F_{t}-A_{t}\\right|}{\\left(A_{t}+F_{t}\\right) / 2}$\n",
        "\n",
        "* The problem is that it can be negative (if ${\\displaystyle A_{t}+F_{t}<0}$) or even undefined (if ${\\displaystyle A_{t}+F_{t}=0}$). Therefore the currently accepted version of SMAPE assumes the absolute values in the denominator.\n",
        "\n",
        "* In contrast to the mean absolute percentage error, SMAPE has both a lower bound and an upper bound. Indeed, the formula above provides a result between 0% and 200%. However a percentage error between 0% and 100% is much easier to interpret. That is the reason why the formula below is often used in practice (i.e. no factor 0.5 in denominator)\n",
        "\n",
        "* One supposed problem with SMAPE is that it is not symmetric since over- and under-forecasts are not treated equally. This is illustrated by the following example by applying the second SMAPE formula:\n",
        "\n",
        "  * Over-forecasting: At = 100 and Ft = 110 give SMAPE = 4.76%\n",
        "\n",
        "  * Under-forecasting: At = 100 and Ft = 90 give SMAPE = 5.26%.\n",
        "\n",
        "* [Wiki](https://en.m.wikipedia.org/wiki/Symmetric_mean_absolute_percentage_error) & [Wiki2](https://wiki2.org/en/Symmetric_mean_absolute_percentage_error) & [other](https://www.brightworkresearch.com/the-problem-with-using-smape-for-forecast-error-measurement/)"
      ]
    },
    {
      "cell_type": "markdown",
      "metadata": {
        "id": "29IIXN87yRoG"
      },
      "source": [
        "**Mean absolute scaled error (MASE)**"
      ]
    },
    {
      "cell_type": "code",
      "metadata": {
        "id": "7O8_TzRzyWQy"
      },
      "source": [
        ""
      ],
      "execution_count": null,
      "outputs": []
    },
    {
      "cell_type": "markdown",
      "metadata": {
        "id": "imOQ42osyYZk"
      },
      "source": [
        "* mean absolute scaled error (MASE) is a measure of the accuracy of forecasts.\n",
        "\n",
        "*  It is the mean absolute error of the forecast values, divided by the mean absolute error of the in-sample one-step naive forecast. It was proposed in 2005.\n",
        "\n",
        "* The mean absolute scaled error has the following desirable propertie: [Wiki](https://en.wikipedia.org/wiki/Mean_absolute_scaled_error)"
      ]
    },
    {
      "cell_type": "markdown",
      "metadata": {
        "id": "M9V8uoymHN3M"
      },
      "source": [
        "##### **Huber**"
      ]
    },
    {
      "cell_type": "code",
      "metadata": {
        "id": "78swAUdn5ftf"
      },
      "source": [
        "loss = tf.keras.losses.Huber(delta=10.0, name='huber_loss')"
      ],
      "execution_count": null,
      "outputs": []
    },
    {
      "cell_type": "markdown",
      "metadata": {
        "id": "OhS0rF_24E-C"
      },
      "source": [
        "TLDR: will better find a minimum than L1, but less exposed to outliers than L2. However one has to tune the hyperparameter delta. The larger (3+), the more it is L2, the smaller (1), the more it is L1."
      ]
    },
    {
      "cell_type": "markdown",
      "metadata": {
        "id": "rGqUQWVHzd2E"
      },
      "source": [
        "![huber](https://raw.githubusercontent.com/deltorobarba/machinelearning/master/huberloss.jpg)"
      ]
    },
    {
      "cell_type": "markdown",
      "metadata": {
        "id": "6yXcWmMUzv8G"
      },
      "source": [
        "* For target = 0, the loss increases when the error increases. However, the speed with which it increases depends on this 𝛿 value. In fact, Grover (2019) writes about this as follows: Huber loss approaches MAE when 𝛿 ~ 0 and MSE when 𝛿 ~ ∞ (large numbers.)\n"
      ]
    },
    {
      "cell_type": "markdown",
      "metadata": {
        "id": "NonIaG1MOoo6"
      },
      "source": [
        "![xx](https://upload.wikimedia.org/wikipedia/commons/thumb/c/cc/Huber_loss.svg/320px-Huber_loss.svg.png)\n",
        "\n",
        "*Huber loss (green, \n",
        "δ\n",
        "=\n",
        "1) and squared error loss (blue) as a function of \n",
        "y\n",
        "−\n",
        "f\n",
        "(\n",
        "x\n",
        ")*"
      ]
    },
    {
      "cell_type": "markdown",
      "metadata": {
        "id": "dbvRBSBjQLJC"
      },
      "source": [
        "$L_{\\delta}(y, f(x))=\\left\\{\\begin{array}{ll}\n",
        "\\frac{1}{2}(y-f(x))^{2} & \\text { for }|y-f(x)| \\leq \\delta \\\\\n",
        "\\delta|y-f(x)|-\\frac{1}{2} \\delta^{2} & \\text { otherwise }\n",
        "\\end{array}\\right.$"
      ]
    },
    {
      "cell_type": "markdown",
      "metadata": {
        "id": "HLnk6D7kz6MR"
      },
      "source": [
        "When you compare this statement with the benefits and disbenefits of both the MAE and the MSE, you’ll gain some insights about how to adapt this delta parameter:\n",
        "\n",
        "* **If your dataset contains large outliers**, it’s likely that your model will not be able to predict them correctly at once. In fact, it might take quite some time for it to recognize these, if it can do so at all. This results in large errors between predicted values and actual targets, because they’re outliers. Since MSE squares errors, large outliers will distort your loss value significantly. If outliers are present, you likely don’t want to use MSE. Huber loss will still be useful, but you’ll have to use small values for 𝛿.\n",
        "\n",
        "* If it does not contain many outliers, it’s likely that it will generate quite accurate predictions from the start – or at least, from some epochs after starting the training process. In this case, you may observe that the errors are very small overall. Then, one can argue, it may be worthwhile to let the largest small errors contribute more significantly to the error than the smaller ones. In this case, MSE is actually useful; hence, with Huber loss, you’ll likely want to use quite large values for 𝛿.\n",
        "\n",
        "* If you don’t know, you can always start somewhere in between – for example, in the plot above, 𝛿 = 1 represented MAE quite accurately, while 𝛿 = 3 tends to go towards MSE already. What if you used 𝛿 = 1.5 instead? You may benefit from both worlds.\n",
        "\n",
        "https://www.machinecurve.com/index.php/2019/10/12/using-huber-loss-in-keras/"
      ]
    },
    {
      "cell_type": "markdown",
      "metadata": {
        "id": "iU6KtzGg34eN"
      },
      "source": [
        "The biggest problem with using MAE to train neural networks is the constant large gradient, which may cause the minimum point to be missed when the gradient descent is about to end. For MSE, the gradient will decrease as the loss decreases, making the result more accurate.\n",
        "\n",
        "In this case, Huber loss is very useful. It will fall near the minimum value due to the decreasing gradient. It is more robust to outliers than MSE. Therefore, Huber loss combines the advantages of MSE and MAE. However, the problem with Huber loss is that we may need to constantly adjust the hyperparameters\n",
        "\n",
        "https://www.programmersought.com/article/86974383768/"
      ]
    },
    {
      "cell_type": "code",
      "metadata": {
        "id": "J3_rXmIerEhD",
        "colab": {
          "base_uri": "https://localhost:8080/",
          "height": 323
        },
        "outputId": "b7a3251b-c5e8-47b2-cc92-aec522600bc6"
      },
      "source": [
        "import matplotlib.pyplot as plt\n",
        "import numpy as np\n",
        "import seaborn as sns\n",
        "\n",
        "# Huber loss function\n",
        "def huber_loss(y_pred, y, delta=1.0):\n",
        "    huber_mse = 0.5*(y-y_pred)**2\n",
        "    huber_mae = delta * (np.abs(y - y_pred) - 0.5 * delta)\n",
        "    return np.where(np.abs(y - y_pred) <= delta, huber_mse, huber_mae)\n",
        "    \n",
        "# Plotting\n",
        "x_vals = np.arange(-65, 65, 0.01)\n",
        "\n",
        "# Hyperparameter\n",
        "delta = 1.5\n",
        "\n",
        "# Formula\n",
        "huber_mse = 0.5*np.square(x_vals)\n",
        "huber_mae = delta * (np.abs(x_vals) - 0.5 * delta)\n",
        "y_vals = np.where(np.abs(x_vals) <= delta, huber_mse, huber_mae)\n",
        "\n",
        "sns.set(rc={'figure.figsize':(10, 5), \"lines.linewidth\": 1.0})\n",
        "plt.plot(x_vals, y_vals)\n",
        "plt.axhline(y=0, color='red', linestyle='--', linewidth=1.0)\n",
        "plt.axvline(x=0, color='red', linestyle='--', linewidth=1.0)\n",
        "plt.grid(True, which=\"major\")\n",
        "plt.show()\n",
        "\n",
        "# https://towardsdatascience.com/understanding-the-3-most-common-loss-functions-for-machine-learning-regression-23e0ef3e14d3"
      ],
      "execution_count": null,
      "outputs": [
        {
          "output_type": "display_data",
          "data": {
            "image/png": "[encoded data removed]",
            "text/plain": [
              "<Figure size 720x360 with 1 Axes>"
            ]
          },
          "metadata": {
            "tags": []
          }
        }
      ]
    },
    {
      "cell_type": "markdown",
      "metadata": {
        "id": "2u-W2FmUOZAC"
      },
      "source": [
        "* Huber Loss (Smooth Mean Absolute Error)\n",
        "\n",
        "* The Huber loss **combines the best properties of MSE and MAE** (Mean Absolute Error). It is quadratic for smaller errors and is linear otherwise (and similarly for its gradient). It is identified by its delta parameter.\n",
        "\n",
        "* It's **less sensitive to outliers** in data than the squared error loss. It’s **also differentiable at 0**. It’s basically absolute error, which becomes quadratic when error is small.  How small that error has to be to make it quadratic depends on a hyperparameter 𝛿. \n",
        "\n",
        "* Once differentiable.\n",
        "\n",
        "* **Huber loss approaches MSE when 𝛿 ~ 0 and MAE when 𝛿 ~ ∞**\n",
        "\n",
        "* The choice of delta is critical because it determines what you’re willing to consider as an outlier. Residuals larger than delta are minimized with L1 (which is less sensitive to large outliers), while residuals smaller than delta are minimized “appropriately” with L2.\n",
        "\n",
        "* One big problem with using MAE for training of neural nets is its constantly large gradient, which can lead to missing minima at the end of training using gradient descent. For MSE, gradient decreases as the loss gets close to its minima, making it more precise.\n",
        "Huber loss can be really helpful in such cases, as it curves around the minima which decreases the gradient. And it’s more robust to outliers than MSE. Therefore, **it combines good properties from both MSE and MAE**. \n",
        "\n",
        "* However, the problem with Huber loss is that we might need to train hyperparameter delta which is an iterative process.\n",
        "\n",
        "* [Wiki](https://en.m.wikipedia.org/wiki/Huber_loss) * [TensorFlow](https://www.tensorflow.org/api_docs/python/tf/keras/losses/Huber)"
      ]
    },
    {
      "cell_type": "markdown",
      "metadata": {
        "id": "i7utPdOPHfya"
      },
      "source": [
        "##### **Log-Cosh**"
      ]
    },
    {
      "cell_type": "markdown",
      "metadata": {
        "id": "-duKUH6p4kD-"
      },
      "source": [
        "TLDR: Similar to MAE, will not be affected by outliers. Log-Cosh has all the points of Huber loss, and no need to set hyperparameters. Compared with Huber, Log-Cosh derivation is more complicated, requires more computation, and is not used much in deep learning. \n"
      ]
    },
    {
      "cell_type": "code",
      "metadata": {
        "id": "4txMn1YnHjXc"
      },
      "source": [
        "loss = tf.keras.losses.LogCosh()"
      ],
      "execution_count": null,
      "outputs": []
    },
    {
      "cell_type": "markdown",
      "metadata": {
        "id": "kUYfXn-xLED_"
      },
      "source": [
        "* Log-cosh is another function used in regression tasks that’s smoother than L2 (is smoothed towards large errors (presumably caused by outliers) so that the final error score isn’t impacted thoroughly.)\n",
        "* Log-cosh is the logarithm of the hyperbolic cosine of the prediction error. “Log-cosh is the logarithm of the hyperbolic cosine of the prediction error.” (Grover, 2019). Oops, that’s not intuitive but nevertheless quite important – this is the maths behind Logcosh loss:\n",
        "\n",
        "> $\\log \\cosh (t)=\\sum_{p \\in P} \\log (\\cosh (p-t))$\n",
        "\n",
        "* Similar to Huber Loss, but twice differentiable everywhere\n",
        "* [Wiki Hyperbolic Functions](https://en.m.wikipedia.org/wiki/Hyperbolic_functions), [TF Class](https://www.tensorflow.org/api_docs/python/tf/keras/losses/LogCosh), [Machinecurve](https://www.machinecurve.com/index.php/2019/10/23/how-to-use-logcosh-with-keras/)"
      ]
    },
    {
      "cell_type": "markdown",
      "metadata": {
        "id": "LCIfX2d12UxJ"
      },
      "source": [
        "![logcosh](https://raw.githubusercontent.com/deltorobarba/machinelearning/master/logcosh.jpeg)"
      ]
    },
    {
      "cell_type": "markdown",
      "metadata": {
        "id": "Nl2bx-Q843c_"
      },
      "source": [
        "However, Log-Cosh is second-order differentiable everywhere, which is still very useful in some machine learning models. For example, XGBoost uses Newton's method to find the best advantage. Newton's method requires solving the second derivative (Hessian). Therefore, for machine learning frameworks such as XGBoost, the second order of the loss function is differentiable. But the Log-cosh loss is not perfect, and there are still some problems. For example, if the error is large, the first step and Hessian will become fixed, which leads to the lack of split points in XGBoost.\n",
        "\n",
        "https://www.programmersought.com/article/86974383768/"
      ]
    },
    {
      "cell_type": "markdown",
      "metadata": {
        "id": "-bRPT7j2Hjpr"
      },
      "source": [
        "##### **Quantile**"
      ]
    },
    {
      "cell_type": "markdown",
      "metadata": {
        "id": "qgCQiqB46fK5"
      },
      "source": [
        "TLDR: for Heteroskedastizität, i.e. for risk management when variance changes. Quantile Loss, you can set different quantiles to control the proportion of overestimation and underestimation in loss."
      ]
    },
    {
      "cell_type": "code",
      "metadata": {
        "id": "7gNvk2yzHko8"
      },
      "source": [
        "loss = tfa.losses.PinballLoss(tau=.1)"
      ],
      "execution_count": null,
      "outputs": []
    },
    {
      "cell_type": "markdown",
      "metadata": {
        "id": "klWHgHHm4_R4"
      },
      "source": [
        "The usual regression algorithm is to fit the expected or median training data, and the quantile loss function can be used to fit different quantiles of training data by giving different quantiles. As shown below\n",
        "\n"
      ]
    },
    {
      "cell_type": "markdown",
      "metadata": {
        "id": "iabSraKQ5LY6"
      },
      "source": [
        "![sdd](https://raw.githubusercontent.com/deltorobarba/machinelearning/master/quantileloss.jpg)"
      ]
    },
    {
      "cell_type": "markdown",
      "metadata": {
        "id": "v1iavs6u5Q84"
      },
      "source": [
        "Set different quantiles to fit different straight lines.\n",
        "\n"
      ]
    },
    {
      "cell_type": "markdown",
      "metadata": {
        "id": "7WY_2hBO58EU"
      },
      "source": [
        "This function is a piecewise functio., γ is the quantile coefficient. y is the true value, f(x) is the predicted value. According to the size of the predicted value and the true value, there are two cases to consider. \n",
        "\n",
        "y>f(x) For overestimation, the predicted value is greater than the true value; \n",
        "\n",
        "y<f(x) to underestimate, the predicted value is smaller than the real value.\n",
        "\n",
        "Use different pass coefficients to control the weight of overestimation and underestimation in the entire loss value."
      ]
    },
    {
      "cell_type": "markdown",
      "metadata": {
        "id": "Ql_nd2Cr5yud"
      },
      "source": [
        "Especially when γ=0.5 When the quantile loss degenerates into the mean absolute error MAE, **MAE can also be regarded as a special case of quantile loss-median loss**. The picture below is taken with different median points [0.25,0.5,0.7] Obtaining different quantile loss function curves can also be seen as MAE at 0.5."
      ]
    },
    {
      "cell_type": "markdown",
      "metadata": {
        "id": "9FZwvyGy5q51"
      },
      "source": [
        "![fgfgf](https://raw.githubusercontent.com/deltorobarba/machinelearning/master/quantileloss2.jpg)"
      ]
    },
    {
      "cell_type": "markdown",
      "metadata": {
        "id": "A23UY_EtKCYA"
      },
      "source": [
        "![xx](https://upload.wikimedia.org/wikipedia/commons/thumb/b/b7/Pinball_Loss_Function.svg/320px-Pinball_Loss_Function.svg.png)\n",
        "\n",
        "*Pinball-Verlustfunktion mit \n",
        "τ\n",
        "=0,9. Für \n",
        "ε\n",
        "<\n",
        "0 beträgt der Fehler \n",
        "−\n",
        "0\n",
        ",\n",
        "1\n",
        "ε, für \n",
        "ε\n",
        "≥\n",
        "0 beträgt er \n",
        "0\n",
        ",\n",
        "9\n",
        "ε.*"
      ]
    },
    {
      "cell_type": "markdown",
      "metadata": {
        "id": "V61VVogsIIED"
      },
      "source": [
        "* Quantile Loss (Pinball Loss)\n",
        "* estimates conditional “quantile” of a response variable given certain values of predictor variables\n",
        "* is an extension of MAE (**when quantile is 50th percentile, it’s MAE**)\n",
        "* Im Gegensatz zur Kleinste-Quadrate-Schätzung, die den Erwartungswert der Zielgröße schätzt, ist die Quantilsregression dazu geeignet, ihre Quantile zu schätzen.\n",
        "* Fitting models for many percentiles, you can estimate the entire conditional distribution. Often, the answers to important questions are found by modeling percentiles in the tails of the distribution. For that reason **quantile regression provides critical insights in financial risk management & fraud detection**. \n",
        "* [Wikipedia](https://de.m.wikipedia.org/wiki/Quantilsregression), [TF Class](https://www.tensorflow.org/addons/api_docs/python/tfa/losses/PinballLoss) & [TF Function](https://www.tensorflow.org/addons/api_docs/python/tfa/losses/pinball_loss)"
      ]
    },
    {
      "cell_type": "markdown",
      "metadata": {
        "id": "Q1zREy6LgiWc"
      },
      "source": [
        "https://www.evergreeninnovations.co/blog-quantile-loss-function-for-machine-learning/"
      ]
    },
    {
      "cell_type": "markdown",
      "metadata": {
        "id": "IT0gbfKEf9MY"
      },
      "source": [
        "* project where predictions were subject to high uncertainty. The client required for their decision to be driven by both the predicted machine learning output and a measure of the potential prediction error. The quantile regression loss function solves this and similar problems by replacing a single value prediction by prediction intervals.\n",
        "\n",
        "* The quantile regression loss function is applied to predict quantiles. A quantile is the value below which a fraction of observations in a group falls. For example, a prediction for quantile 0.9 should over-predict 90% of the times.\n",
        "\n",
        "* For q equal to 0.5, under-prediction and over-prediction will be penalized by the same factor, and the median is obtained. The larger the value of q, the more over-predictions are penalized compared to under-predictions. For q equal to 0.75, over-predictions will be penalized by a factor of 0.75, and under-predictions by a factor of 0.25. The model will then try to avoid over-predictions approximately three times as hard as under-predictions, and the 0.75 quantile will be obtained."
      ]
    },
    {
      "cell_type": "markdown",
      "metadata": {
        "id": "bB89shlnkga3"
      },
      "source": [
        "##### **Poisson Loss**"
      ]
    },
    {
      "cell_type": "code",
      "metadata": {
        "id": "2IDu5bC_kiIb"
      },
      "source": [
        "tf.keras.losses.poisson(\n",
        "    y_true, y_pred\n",
        ")"
      ],
      "execution_count": null,
      "outputs": []
    },
    {
      "cell_type": "markdown",
      "metadata": {
        "id": "B5cdiNmhxV5l"
      },
      "source": [
        "https://towardsdatascience.com/the-poisson-distribution-103abfddc312"
      ]
    },
    {
      "cell_type": "markdown",
      "metadata": {
        "id": "hhGj5O9-qbci"
      },
      "source": [
        "https://towardsdatascience.com/the-poisson-distribution-and-poisson-process-explained-4e2cb17d459"
      ]
    },
    {
      "cell_type": "markdown",
      "metadata": {
        "id": "Ci4FK976jCoT"
      },
      "source": [
        "https://peltarion.com/knowledge-center/documentation/modeling-view/build-an-ai-model/loss-functions/poisson"
      ]
    },
    {
      "cell_type": "markdown",
      "metadata": {
        "id": "NXCzt1erjaOS"
      },
      "source": [
        "https://openacttexts.github.io/Loss-Data-Analytics/C-RiskClass.html"
      ]
    },
    {
      "cell_type": "markdown",
      "metadata": {
        "id": "qPHAqSSzGRWu"
      },
      "source": [
        "### **Classification** (mostly entropy-/ divergence-based or margin-based)"
      ]
    },
    {
      "cell_type": "markdown",
      "metadata": {
        "id": "ZtrplweMXpx0"
      },
      "source": [
        "##### **Introduction**"
      ]
    },
    {
      "cell_type": "markdown",
      "metadata": {
        "id": "6lLdD3qajuJd"
      },
      "source": [
        "https://en.wikipedia.org/wiki/Loss_functions_for_classification"
      ]
    },
    {
      "cell_type": "markdown",
      "metadata": {
        "id": "qRN26mFZhiS-"
      },
      "source": [
        "https://www.machinecurve.com/index.php/2019/10/04/about-loss-and-loss-functions/#loss-functions-for-classification"
      ]
    },
    {
      "cell_type": "markdown",
      "metadata": {
        "id": "cLQNVZmphglM"
      },
      "source": [
        "https://arxiv.org/pdf/1702.05659.pdf"
      ]
    },
    {
      "cell_type": "markdown",
      "metadata": {
        "id": "-jSsGU3piR_I"
      },
      "source": [
        "http://cs229.stanford.edu/extra-notes/loss-functions.pdf"
      ]
    },
    {
      "cell_type": "markdown",
      "metadata": {
        "id": "zwF3TGA4HyGe"
      },
      "source": [
        "##### **Cross-Entropy-based**"
      ]
    },
    {
      "cell_type": "markdown",
      "metadata": {
        "id": "37P_46NIZDH1"
      },
      "source": [
        "**Cross Entropy**"
      ]
    },
    {
      "cell_type": "markdown",
      "metadata": {
        "id": "7JJVQSAzHzfe"
      },
      "source": [
        "* the cross entropy between two probability distributions p and q **over the same underlying set of events** measures the average number of bits needed to identify an event drawn from the set if a coding scheme used for the set is optimized for an estimated probability distribution q, rather than the true distribution p."
      ]
    },
    {
      "cell_type": "markdown",
      "metadata": {
        "id": "JEHec9phH1hb"
      },
      "source": [
        "https://en.m.wikipedia.org/wiki/Cross_entropy\n",
        "\n",
        "https://en.m.wikipedia.org/wiki/Cross-entropy_method"
      ]
    },
    {
      "cell_type": "markdown",
      "metadata": {
        "id": "28ekAmVTH5lJ"
      },
      "source": [
        "Conditional Entropy the conditional entropy (or equivocation)\n",
        "quantifies the amount of information needed to describe the outcome of a random variable $Y$ given that the value of another\n",
        "random variable $X$ is known. Here, information is measured in shannons, nats, or hartleys. The entropy of $Y$ conditioned on $X$ is written as $\\mathrm{H}(Y \\mid X)$"
      ]
    },
    {
      "cell_type": "markdown",
      "metadata": {
        "id": "n1gLjoOpH7Tb"
      },
      "source": [
        "https://en.m.wikipedia.org/wiki/Conditional_entropy"
      ]
    },
    {
      "cell_type": "markdown",
      "metadata": {
        "id": "29AcuGJjH9yd"
      },
      "source": [
        "Joint Entropy: In information theory, joint entropy is a measure of the uncertainty associated with a set of variables."
      ]
    },
    {
      "cell_type": "markdown",
      "metadata": {
        "id": "Ai0GeirSIDkx"
      },
      "source": [
        "https://en.m.wikipedia.org/wiki/Joint_entropy"
      ]
    },
    {
      "cell_type": "markdown",
      "metadata": {
        "id": "jieM-rKQjf_L"
      },
      "source": [
        "**Binary Cross-Entropy**"
      ]
    },
    {
      "cell_type": "markdown",
      "metadata": {
        "id": "H-On4dPTgUuR"
      },
      "source": [
        "https://en.m.wikipedia.org/wiki/Cross_entropy#Cross-entropy_loss_function_and_logistic_regression"
      ]
    },
    {
      "cell_type": "markdown",
      "metadata": {
        "id": "41gq-BjVfuem"
      },
      "source": [
        "https://towardsdatascience.com/log-loss-function-math-explained-5b83cd8d9c83"
      ]
    },
    {
      "cell_type": "code",
      "metadata": {
        "id": "6G6KVcH-ji6L"
      },
      "source": [
        ""
      ],
      "execution_count": null,
      "outputs": []
    },
    {
      "cell_type": "markdown",
      "metadata": {
        "id": "z7lTRcsl1uNt"
      },
      "source": [
        "$-(y \\log (p)+(1-y) \\log (1-p))$"
      ]
    },
    {
      "cell_type": "markdown",
      "metadata": {
        "id": "TYYl1AFf0_rv"
      },
      "source": [
        "* Cross-Entropy or Log-Loss (Logistic Loss/ negative log-likelihood) \n",
        "\n",
        "* It measures the performance of a classification model whose output is a probability value between 0 and 1. Cross-entropy loss increases as the predicted probability diverges from the actual label. \n",
        "\n",
        "* So predicting a probability of .012 when the actual observation label is 1 would be bad and result in a high loss value.  A perfect model would have a log loss of 0.\n",
        "\n",
        "* Cross-entropy and log loss are slightly different depending on context, but in machine learning when calculating error rates between 0 and 1 they resolve to the same thing. "
      ]
    },
    {
      "cell_type": "markdown",
      "metadata": {
        "id": "zeUnraN74y0_"
      },
      "source": [
        "* Cross-entropy is the default loss function to use for binary classification problems.\n",
        "\n",
        "* It is intended for use with binary classification where the target values are in the set {0, 1}.\n",
        "\n",
        "* Mathematically, it is the preferred loss function under the inference framework of maximum likelihood. It is the loss function to be evaluated first and only changed if you have a good reason.\n",
        "\n",
        "* Cross-entropy will calculate a score that summarizes the average difference between the actual and predicted probability distributions for predicting class 1. The score is minimized and a perfect cross-entropy value is 0.\n",
        "\n",
        "* The function requires that the output layer is configured with a single node and a ‘sigmoid‘ activation in order to predict the probability for class 1."
      ]
    },
    {
      "cell_type": "markdown",
      "metadata": {
        "id": "h9_FrV4ZjMIx"
      },
      "source": [
        "**Sparse Categorical Cross-Entropy (Multiclass)**"
      ]
    },
    {
      "cell_type": "code",
      "metadata": {
        "id": "Deqvu9M1BZ4n"
      },
      "source": [
        "loss = tf.keras.losses.SparseCategoricalCrossentropy(from_logits=True)"
      ],
      "execution_count": null,
      "outputs": []
    },
    {
      "cell_type": "code",
      "metadata": {
        "id": "b2Ionbd8BCSM"
      },
      "source": [
        "loss = 'sparse_categorical_crossentropy'"
      ],
      "execution_count": null,
      "outputs": []
    },
    {
      "cell_type": "markdown",
      "metadata": {
        "id": "4nwGwb-f6d_t"
      },
      "source": [
        "* Cross-entropy is the default loss function to use for multi-class classification problems.\n",
        "\n",
        "* In this case, it is intended for use with multi-class classification where the target values are in the set {0, 1, 3, …, n}, where each class is assigned a unique integer value.\n",
        "\n",
        "* Mathematically, it is the preferred loss function under the inference framework of maximum likelihood. It is the loss function to be evaluated first and only changed if you have a good reason.\n",
        "\n",
        "* Cross-entropy will calculate a score that summarizes the average difference between the actual and predicted probability distributions for all classes in the problem. The score is minimized and a perfect cross-entropy value is 0.\n",
        "\n",
        "* A possible cause of frustration when using cross-entropy with classification problems with a large number of labels is the one hot encoding process.\n",
        "\n",
        "* For example, predicting words in a vocabulary may have tens or hundreds of thousands of categories, one for each label. This can mean that the target element of each training example may require a one hot encoded vector with tens or hundreds of thousands of zero values, requiring significant memory.\n",
        "\n",
        "* Sparse cross-entropy addresses this by performing the same cross-entropy calculation of error, without requiring that the target variable be one hot encoded prior to training.\n",
        "\n"
      ]
    },
    {
      "cell_type": "markdown",
      "metadata": {
        "id": "iAuSM7rYi0nW"
      },
      "source": [
        "##### **Divergence-based**"
      ]
    },
    {
      "cell_type": "markdown",
      "metadata": {
        "id": "sQBmBQ-tb6de"
      },
      "source": [
        "**Kullback-Leibler Divergence (Multiclass)**"
      ]
    },
    {
      "cell_type": "code",
      "metadata": {
        "id": "Ks4_vx_wFci9"
      },
      "source": [
        "loss = tf.keras.losses.KLDivergence(name='kl_divergence')"
      ],
      "execution_count": null,
      "outputs": []
    },
    {
      "cell_type": "markdown",
      "metadata": {
        "id": "GuF2ySph674M"
      },
      "source": [
        "https://en.m.wikipedia.org/wiki/Kullback–Leibler_divergence"
      ]
    },
    {
      "cell_type": "markdown",
      "metadata": {
        "id": "srlCKVTyVtB-"
      },
      "source": [
        "* Kullback Leibler Divergence, or KL Divergence for short, is a measure of how one probability distribution differs from a baseline distribution. \n",
        "\n",
        "* A KL divergence loss of 0 suggests the distributions are identical. In practice, the behavior of KL Divergence is very similar to cross-entropy. It calculates how much information is lost (in terms of bits) if the predicted probability distribution is used to approximate the desired target probability distribution. \n",
        "\n",
        "* As such, the KL divergence loss function is more commonly used when using models that learn to **approximate a more complex function than simply multi-class classification**, such as in the case of an autoencoder used for learning a dense feature representation under a model that must reconstruct the original input. In this case, KL divergence loss would be preferred. \n",
        "\n",
        "* Nevertheless, it can be used for **multi-class classification, in which case it is functionally equivalent to multi-class cross-entropy**."
      ]
    },
    {
      "cell_type": "markdown",
      "metadata": {
        "id": "4dPKg9bY61dp"
      },
      "source": [
        "* Kullback Leibler Divergence, or KL Divergence for short, is a measure of how one probability distribution differs from a baseline distribution.\n",
        "\n",
        "* A KL divergence loss of 0 suggests the distributions are identical. In practice, the behavior of KL Divergence is very similar to cross-entropy. It calculates how much information is lost (in terms of bits) if the predicted probability distribution is used to approximate the desired target probability distribution.\n",
        "\n",
        "* As such, the KL divergence loss function is more commonly used when using models that learn to approximate a more complex function than simply multi-class classification, such as in the case of an autoencoder used for learning a dense feature representation under a model that must reconstruct the original input. In this case, KL divergence loss would be preferred. Nevertheless, it can be used for multi-class classification, in which case it is functionally equivalent to multi-class cross-entropy.\n",
        "\n",
        "* [TF doc](https://www.tensorflow.org/api_docs/python/tf/keras/losses/KLDivergence)"
      ]
    },
    {
      "cell_type": "markdown",
      "metadata": {
        "id": "8OWsTyvziEce"
      },
      "source": [
        "The only divergence that is both an f-divergence and a Bregman divergence is the Kullback–Leibler divergence\n",
        "\n",
        "https://en.m.wikipedia.org/wiki/Kullback–Leibler_divergence"
      ]
    },
    {
      "cell_type": "markdown",
      "metadata": {
        "id": "sYkeCV6pdHEI"
      },
      "source": [
        "Use for example as **loss function in variational autoencoder**\n",
        "\n",
        "https://www.kaggle.com/debanga/statistical-distances\n",
        "\n",
        "https://towardsdatascience.com/intuitively-understanding-variational-autoencoders-1bfe67eb5daf"
      ]
    },
    {
      "cell_type": "markdown",
      "metadata": {
        "id": "InmmPaXEHSoz"
      },
      "source": [
        "* the Kullback–Leibler divergence (also called relative entropy) is a measure of how one probability distribution is different from a second, reference probability distribution.\n",
        "\n",
        "* Applications include characterizing the relative (Shannon) entropy in information systems, randomness in continuous time-series, and information gain when comparing statistical models of inference. \n",
        "\n",
        "* In contrast to variation of information, **it is a distribution-wise asymmetric measure** and thus **does not qualify as a statistical metric of spread** - it also does not satisfy the triangle inequality.\n",
        "\n",
        "* In the simple case, a Kullback–Leibler divergence of 0 indicates that the two distributions in question are identical. In simplified terms, it is a measure of surprise, with diverse applications such as applied statistics, fluid mechanics, neuroscience and machine learning."
      ]
    },
    {
      "cell_type": "markdown",
      "metadata": {
        "id": "TSRliOMMiHC-"
      },
      "source": [
        "**Jensen–Shannon divergence**"
      ]
    },
    {
      "cell_type": "markdown",
      "metadata": {
        "id": "aj-KEamza3xD"
      },
      "source": [
        "* It is based on the Kullback–Leibler divergence, with some notable (and useful) differences, including that it is symmetric and it always has a finite value. The square root of the Jensen–Shannon divergence is a metric often referred to as Jensen-Shannon distance\n",
        "* use in GAN's for example (Goodfellow, Ian J.; Pouget-Abadie, Jean; Mirza, Mehdi; Xu, Bing; Warde-Farley, David; Ozair, Sherjil; Courville, Aaron; Bengio, Yoshua (2014). Generative Adversarial Networks. NIPS. arXiv:1406.2661. Bibcode:2014arXiv1406.2661G)\n",
        "* https://en.m.wikipedia.org/wiki/Generative_adversarial_network\n",
        "* https://en.m.wikipedia.org/wiki/Jensen%E2%80%93Shannon_divergence"
      ]
    },
    {
      "cell_type": "markdown",
      "metadata": {
        "id": "BmZFI8hdhy1u"
      },
      "source": [
        "**f-Divergence**"
      ]
    },
    {
      "cell_type": "markdown",
      "metadata": {
        "id": "tvHKWuyic7Fn"
      },
      "source": [
        "* Probabilistic models are often trained by maxi- mum likelihood, which corresponds to minimiz- ing a specific f-divergence between the model and data distribution. \n",
        "\n",
        "* In light of recent suc- cesses in training Generative Adversarial Networks, alternative non-likelihood training crite- ria have been proposed.\n",
        "\n",
        "https://arxiv.org/pdf/1907.11891.pdf"
      ]
    },
    {
      "cell_type": "markdown",
      "metadata": {
        "id": "gHB9e-5seJRf"
      },
      "source": [
        "https://arxiv.org/pdf/1905.12888.pdf"
      ]
    },
    {
      "cell_type": "markdown",
      "metadata": {
        "id": "9smhem9wh0x8"
      },
      "source": [
        "https://en.m.wikipedia.org/wiki/F-divergence\n",
        "\n",
        "The Hellinger distance is a type of f-divergence\n",
        "\n",
        "https://en.m.wikipedia.org/wiki/Hellinger_distance\n",
        "\n",
        "https://www.mis.mpg.de/fileadmin/pdf/geoasp_2008_petz.pdf"
      ]
    },
    {
      "cell_type": "markdown",
      "metadata": {
        "id": "rYLc2b-qsm8N"
      },
      "source": [
        "**Hellinger Distance**"
      ]
    },
    {
      "cell_type": "markdown",
      "metadata": {
        "id": "KEGZl1OtyhBy"
      },
      "source": [
        "*  the Hellinger distance (closely related to, although different from, the Bhattacharyya distance) is used to **quantify the similarity between two probability distributions**. \n",
        "\n",
        "* **It is a type of f-divergence.**\n",
        "\n",
        "* (?) ist vielleicht sogar eine metric weil es triangle inequality erfüllt."
      ]
    },
    {
      "cell_type": "markdown",
      "metadata": {
        "id": "owVHpnpSywyW"
      },
      "source": [
        "https://en.m.wikipedia.org/wiki/Hellinger_distance"
      ]
    },
    {
      "cell_type": "markdown",
      "metadata": {
        "id": "-59nC3Yih3Gm"
      },
      "source": [
        "**Bregman Divergence**"
      ]
    },
    {
      "cell_type": "markdown",
      "metadata": {
        "id": "KbZKOiCwf6Jw"
      },
      "source": [
        "In machine learning, Bregman divergences are used to calculate the bi-tempered logistic loss, performing better than the softmax function with noisy datasets"
      ]
    },
    {
      "cell_type": "markdown",
      "metadata": {
        "id": "IXaFiel6h7Fl"
      },
      "source": [
        "https://en.m.wikipedia.org/wiki/Bregman_divergence"
      ]
    },
    {
      "cell_type": "markdown",
      "metadata": {
        "id": "bnDfoUM_h5VG"
      },
      "source": [
        "The squared Euclidean divergence is a Bregman divergence (corresponding to the function x<sup>2</sup>, but not an f-divergence"
      ]
    },
    {
      "cell_type": "markdown",
      "metadata": {
        "id": "3eD4Qwu7eOOm"
      },
      "source": [
        "COST-SENSITIVE CLASSIFICATION BASED ON\n",
        "BREGMAN DIVERGENCES: https://core.ac.uk/download/pdf/29402554.pdf"
      ]
    },
    {
      "cell_type": "markdown",
      "metadata": {
        "id": "Vvhq-zZ2h9Ae"
      },
      "source": [
        "https://en.m.wikipedia.org/wiki/Euclidean_distance#Squared_Euclidean_distance"
      ]
    },
    {
      "cell_type": "markdown",
      "metadata": {
        "id": "tvctBykzhmbB"
      },
      "source": [
        "**Mahalanobis distance**"
      ]
    },
    {
      "cell_type": "markdown",
      "metadata": {
        "id": "B-TZ_CmyyVV-"
      },
      "source": [
        "* The Mahalanobis distance is a measure of the distance between a point P and a distribution D\n",
        "\n",
        "* If each of these axes is re-scaled to have unit variance, then the Mahalanobis distance corresponds to standard Euclidean distance in the transformed space. The Mahalanobis distance is thus unitless and scale-invariant, and takes into account the correlations of the data set.\n",
        "\n",
        "* In statistics, the covariance matrix of the data is sometimes used to define a distance metric called Mahalanobis distance.\n",
        "\n",
        "* Bregman divergence: **the Mahalanobis distance is an example of a Bregman divergence**\n",
        "\n",
        "* **Bhattacharyya distance related, for measuring similarity between data sets (and not between a point and a data set** - Mahalanobis distance is a particular case of the Bhattacharyya distance when the standard deviations of the two classes are the same.)"
      ]
    },
    {
      "cell_type": "markdown",
      "metadata": {
        "id": "guFweB6AhoJs"
      },
      "source": [
        "https://en.m.wikipedia.org/wiki/Mahalanobis_distance"
      ]
    },
    {
      "cell_type": "markdown",
      "metadata": {
        "id": "fYZzNeN0mJJ2"
      },
      "source": [
        "* Mahalanobis distance is an effective multivariate distance metric that measures the distance between a point and a distribution. \n",
        "\n",
        "* It is an extremely useful metric having, excellent applications **in multivariate anomaly detection, classification on highly imbalanced datasets and one-class classification**. "
      ]
    },
    {
      "cell_type": "markdown",
      "metadata": {
        "id": "cCC_7jqmo0rN"
      },
      "source": [
        "![alternativer Text](https://raw.githubusercontent.com/deltorobarba/machinelearning/master/mahalanobis.jpg)"
      ]
    },
    {
      "cell_type": "markdown",
      "metadata": {
        "id": "KAydAR1XqBN_"
      },
      "source": [
        "* If the dimensions (columns in your dataset) are correlated to one another, which is typically the case in real-world datasets, the Euclidean distance between a point and the center of the points (distribution) can give little or misleading information about how close a point really is to the cluster.\n",
        "\n",
        "* The two points above are equally distant (Euclidean) from the center. But only one of them (blue) is actually more close to the cluster, even though, technically the Euclidean distance between the two points are equal.\n",
        "\n",
        "* This is because, Euclidean distance is a distance between two points only. It does not consider how the rest of the points in the dataset vary. So, it cannot be used to really judge how close a point actually is to a distribution of points.\n",
        "\n",
        "* **What we need here is a more robust distance metric that is an accurate representation of how distant a point is from a distribution.**"
      ]
    },
    {
      "cell_type": "markdown",
      "metadata": {
        "id": "pdi3fJK7pK-O"
      },
      "source": [
        "So computationally, how is Mahalanobis distance different from Euclidean distance?\n",
        "\n",
        "1. It transforms the columns into uncorrelated variables\n",
        "2. Scale the columns to make their variance equal to 1\n",
        "3. Finally, it calculates the Euclidean distance."
      ]
    },
    {
      "cell_type": "markdown",
      "metadata": {
        "id": "Dzlk1JzZmQRz"
      },
      "source": [
        "https://www.machinelearningplus.com/statistics/mahalanobis-distance/"
      ]
    },
    {
      "cell_type": "markdown",
      "metadata": {
        "id": "40Jv2Z1mmUFw"
      },
      "source": [
        "The Mahalanobis distance has the following properties:\n",
        "\n",
        "* It accounts for the fact that the variances in each direction are different.\n",
        "\n",
        "* It accounts for the covariance between variables.\n",
        "\n",
        "* It reduces to the familiar Euclidean distance for uncorrelated variables with unit variance."
      ]
    },
    {
      "cell_type": "markdown",
      "metadata": {
        "id": "d0Hwd5cNpl_c"
      },
      "source": [
        "Distance in standard units\n",
        "\n",
        "In statistics, we sometimes measure \"nearness\" or \"farness\" in terms of the scale of the data. **Often \"scale\" means \"standard deviation.\"** For univariate data, we say that an observation that is one standard deviation from the mean is closer to the mean than an observation that is three standard deviations away. (You can also specify the distance between two observations by specifying how many standard deviations apart they are.)\n",
        "\n",
        "**For many distributions, such as the normal distribution, this choice of scale also makes a statement about probability**. Specifically, it is more likely to observe an observation that is about one standard deviation from the mean than it is to observe one that is several standard deviations away. Why? Because the probability density function is higher near the mean and nearly zero as you move many standard deviations away.\n",
        "\n",
        "**For normally distributed data, you can specify the distance from the mean by computing the so-called z-score**. For a value x, the z-score of x is the quantity z = (x-μ)/σ, where μ is the population mean and σ is the population standard deviation. This is a dimensionless quantity that you can interpret as the number of standard deviations that x is from the mean.\n",
        "\n"
      ]
    },
    {
      "cell_type": "markdown",
      "metadata": {
        "id": "BIjjqmwLmY0F"
      },
      "source": [
        "https://blogs.sas.com/content/iml/2012/02/15/what-is-mahalanobis-distance.html"
      ]
    },
    {
      "cell_type": "markdown",
      "metadata": {
        "id": "ZT8FPvZ3hi1N"
      },
      "source": [
        "**Bhattacharyya distance**"
      ]
    },
    {
      "cell_type": "markdown",
      "metadata": {
        "id": "Y1YoJ42mx-xb"
      },
      "source": [
        "* In statistics, the Bhattacharyya distance measures the similarity of two probability distributions. It is closely related to the Bhattacharyya coefficient which is a measure of the amount of overlap between two statistical samples or populations. \n",
        "\n",
        "* The coefficient can be used to determine the relative closeness of the two samples being considered. It is used to measure the separability of classes in classification and it is considered to be more reliable than the Mahalanobis distance, as the ***Mahalanobis distance is a particular case of the Bhattacharyya distance** when the standard deviations of the two classes are the same. \n",
        "\n",
        "* Consequently, when two classes have similar means but different standard deviations, the Mahalanobis distance would tend to zero, whereas the Bhattacharyya distance grows depending on the difference between the standard deviations.\n",
        "\n",
        "* under certain conditions does not obey the triangle inequality"
      ]
    },
    {
      "cell_type": "markdown",
      "metadata": {
        "id": "6AVM3T1Dhkld"
      },
      "source": [
        "https://en.m.wikipedia.org/wiki/Bhattacharyya_distance"
      ]
    },
    {
      "cell_type": "markdown",
      "metadata": {
        "id": "gVUgUeHIYPXm"
      },
      "source": [
        "##### **Margin-based**"
      ]
    },
    {
      "cell_type": "markdown",
      "metadata": {
        "id": "lwTvtFI9YWAE"
      },
      "source": [
        "Margin-based loss functions are particularly useful for binary classification. In contrast to the distance-based losses, these do not care about the difference between true target and prediction. Instead they penalize predictions based on how well they agree with the sign of the target."
      ]
    },
    {
      "cell_type": "markdown",
      "metadata": {
        "id": "j0eYJwywYX4z"
      },
      "source": [
        "http://juliaml.github.io/LossFunctions.jl/stable/losses/margin/"
      ]
    },
    {
      "cell_type": "markdown",
      "metadata": {
        "id": "d7Fs8xDgjqGa"
      },
      "source": [
        "**Exponential Loss**"
      ]
    },
    {
      "cell_type": "code",
      "metadata": {
        "id": "ZbZJydo4jr_v"
      },
      "source": [
        ""
      ],
      "execution_count": null,
      "outputs": []
    },
    {
      "cell_type": "markdown",
      "metadata": {
        "id": "1KMGvau7juCt"
      },
      "source": [
        "**Hinge Loss**"
      ]
    },
    {
      "cell_type": "code",
      "metadata": {
        "id": "1oYZzEwfjwRc",
        "colab": {
          "base_uri": "https://localhost:8080/",
          "height": 164
        },
        "outputId": "e4110e4c-e80f-45aa-eb11-e87735aeb223"
      },
      "source": [
        "tf.keras.losses.hinge(y_true, y_pred)"
      ],
      "execution_count": null,
      "outputs": [
        {
          "output_type": "error",
          "ename": "NameError",
          "evalue": "ignored",
          "traceback": [
            "\u001b[0;31m---------------------------------------------------------------------------\u001b[0m",
            "\u001b[0;31mNameError\u001b[0m                                 Traceback (most recent call last)",
            "\u001b[0;32m<ipython-input-21-b1fbf841e29e>\u001b[0m in \u001b[0;36m<module>\u001b[0;34m()\u001b[0m\n\u001b[0;32m----> 1\u001b[0;31m \u001b[0mtf\u001b[0m\u001b[0;34m.\u001b[0m\u001b[0mkeras\u001b[0m\u001b[0;34m.\u001b[0m\u001b[0mlosses\u001b[0m\u001b[0;34m.\u001b[0m\u001b[0mhinge\u001b[0m\u001b[0;34m(\u001b[0m\u001b[0my_true\u001b[0m\u001b[0;34m,\u001b[0m \u001b[0my_pred\u001b[0m\u001b[0;34m)\u001b[0m\u001b[0;34m\u001b[0m\u001b[0;34m\u001b[0m\u001b[0m\n\u001b[0m",
            "\u001b[0;31mNameError\u001b[0m: name 'y_true' is not defined"
          ]
        }
      ]
    },
    {
      "cell_type": "markdown",
      "metadata": {
        "id": "iVtO_rWx8Bj_"
      },
      "source": [
        "[TF](https://www.tensorflow.org/api_docs/python/tf/keras/losses/hinge)"
      ]
    },
    {
      "cell_type": "markdown",
      "metadata": {
        "id": "63gn-fNY5OQd"
      },
      "source": [
        "**Squared Hinge Loss**"
      ]
    },
    {
      "cell_type": "code",
      "metadata": {
        "id": "tESv9TFj5QpZ"
      },
      "source": [
        ""
      ],
      "execution_count": null,
      "outputs": []
    },
    {
      "cell_type": "markdown",
      "metadata": {
        "id": "Cx3yMKCj5YYI"
      },
      "source": [
        "* The hinge loss function has many extensions, often the subject of investigation with SVM models.\n",
        "\n",
        "* A popular extension is called the squared hinge loss that simply calculates the square of the score hinge loss. It has the effect of smoothing the surface of the error function and making it numerically easier to work with.\n",
        "\n",
        "* If using a hinge loss does result in better performance on a given binary classification problem, is likely that a squared hinge loss may be appropriate.\n",
        "\n",
        "* As with using the hinge loss function, the target variable must be modified to have values in the set {-1, 1}."
      ]
    },
    {
      "cell_type": "markdown",
      "metadata": {
        "id": "xDjzTk8x3Nxb"
      },
      "source": [
        "[Wiki](https://en.m.wikipedia.org/wiki/Loss_functions_for_classification)"
      ]
    },
    {
      "cell_type": "markdown",
      "metadata": {
        "id": "9gTrY2o6kbEm"
      },
      "source": [
        "**Square Loss (also margin-based??)**"
      ]
    },
    {
      "cell_type": "markdown",
      "metadata": {
        "id": "b3Ce2C-1kj4N"
      },
      "source": [
        "* While more commonly used in regression, the square loss function can be re-written as a function  and utilized for classification."
      ]
    },
    {
      "cell_type": "markdown",
      "metadata": {
        "id": "Zn6BwbJdkf54"
      },
      "source": [
        "https://en.wikipedia.org/wiki/Loss_functions_for_classification#Square_loss"
      ]
    },
    {
      "cell_type": "markdown",
      "metadata": {
        "id": "o2zuQpPO6vNn"
      },
      "source": [
        "### **Metric (Similarity) Learning**\n"
      ]
    },
    {
      "cell_type": "markdown",
      "metadata": {
        "id": "m_CxPV95xgfR"
      },
      "source": [
        "If you'd like some theory with your contrastive losses, the first author of SimCLR and SimCLR v2 Ting Chen and Lala Li (both at Google Brain) have an interesting new paper.\n",
        "\n",
        "https://arxiv.org/pdf/2011.07876.pdf\n",
        "\n",
        "\n",
        "\n",
        "From the abstract:\n",
        "\n",
        "\"Contrastive loss and its variants have become very popular recently for learning visual representations without supervision. In this work, we first generalize the standard contrastive loss based on cross entropy to a broader family of losses that share an abstract form of L_alignment + λL_distribution, where hidden representations are encouraged to (1) be aligned under some transformations/augmentations, and (2) match a prior distribution of high entropy. We show that various instantiations of the generalized loss perform similarly under the presence of a multi-layer non-linear projection head, and the temperature scaling (τ) widely used in the standard contrastive loss is (within a range) inversely related to the weighting (λ) between the two loss terms. We then study an intriguing phenomenon of feature suppression among competing features shared across augmented views, such as \"color distribution\" vs \"object class\". .\"\n",
        "\n",
        "Arxiv: https://lnkd.in/gs4rqGC\n",
        "Code: https://lnkd.in/gyH3iVN"
      ]
    },
    {
      "cell_type": "markdown",
      "metadata": {
        "id": "ceX3klubVpBn"
      },
      "source": [
        "##### **Similarity Learning vs Regression & Classification**"
      ]
    },
    {
      "cell_type": "markdown",
      "metadata": {
        "id": "48QuuE2UVrrO"
      },
      "source": [
        "Similarity learning is an area of supervised machine learning in artificial intelligence. It is closely related to regression and classification, but the goal is to learn a similarity function that measures how similar or related two objects are. It has applications in ranking, in recommendation systems, visual identity tracking, face verification, and speaker verification."
      ]
    },
    {
      "cell_type": "markdown",
      "metadata": {
        "id": "Jv_gjC1HVtlk"
      },
      "source": [
        "https://en.m.wikipedia.org/wiki/Similarity_learning"
      ]
    },
    {
      "cell_type": "markdown",
      "metadata": {
        "id": "k-lWqu51M0MO"
      },
      "source": [
        "**Classification vs Metric Learning**"
      ]
    },
    {
      "cell_type": "markdown",
      "metadata": {
        "id": "vTEXXuH_NCJf"
      },
      "source": [
        "* **Classification is a “Closed-set” task**. can't add new labels without complete retraining.  The model here is trying to learn separable features in this case — i.e. features, that would allow to assign a label from a predefined set to a given image. The model is trying to find a hyperplane, a rule that separates given classes in space.\n",
        "\n",
        "* **Metric Learning** is a “Open-set” task. This one means that we do indeed have some predefined set of labels for training, but the model can be applied to any unseen data and it should generalize. In this case the model is trying to solve a metric-learning problem: to learn some sort of similarity metric, and for that it needs to extract discriminative features — features that can be used to distinguish between different people on any two (or more) images. The model is trying not to separate images with a hyperplane, but rather reorganize the input space, pull the similar images together in some form of a cluster while pushing dissimilar images away. \n",
        "\n",
        "* This is somewhat reminiscent of clustering problem in Unsupervised Learning — and indeed you can use a model trained on a metric-learning task to create a distance matrix for new data, and than run algorithms like DBSCAN on it to, e.g., cluster images of people’s faces, where each cluster would correspond to a new person."
      ]
    },
    {
      "cell_type": "markdown",
      "metadata": {
        "id": "pC_Q8HIXlT2V"
      },
      "source": [
        "https://medium.com/@maksym.bekuzarov/losses-explained-contrastive-loss-f8f57fe32246"
      ]
    },
    {
      "cell_type": "markdown",
      "metadata": {
        "id": "rCZf8vrBmGux"
      },
      "source": [
        "##### **Ranking, Contrastive & Triplet Loss**"
      ]
    },
    {
      "cell_type": "markdown",
      "metadata": {
        "id": "YRYzIeHwXR45"
      },
      "source": [
        "**Ranking & Learning to Rank**"
      ]
    },
    {
      "cell_type": "markdown",
      "metadata": {
        "id": "BJiItIotXUp0"
      },
      "source": [
        "Ranking.. (triplet loss mit similarity learning wird im ranking verwendet, weil es ordinal ist im ggs zu distance learning..)"
      ]
    },
    {
      "cell_type": "markdown",
      "metadata": {
        "id": "h-r_KVeIXXKk"
      },
      "source": [
        "https://en.m.wikipedia.org/wiki/Ranking_(information_retrieval)\n",
        "\n",
        "https://en.m.wikipedia.org/wiki/Learning_to_rank\n",
        "\n",
        "https://en.m.wikipedia.org/wiki/Ranking\n",
        "\n",
        "https://en.m.wikipedia.org/wiki/Information_retrieval"
      ]
    },
    {
      "cell_type": "markdown",
      "metadata": {
        "id": "_y7Wj16jWj6C"
      },
      "source": [
        "**Contrastive Loss**"
      ]
    },
    {
      "cell_type": "markdown",
      "metadata": {
        "id": "nuSkp4jpN8iT"
      },
      "source": [
        "* Contrastive loss was first introduced in 2005 by Yann Le Cunn et al. in this paper and its original application was in Dimensionality Reduction. Now, if you recall, the general goal of a Dimensionality reduction algorithm can be formulated like this:\n",
        "\n",
        "> Given a sample (a data point) — a D-dimensional vector, transform this sample into a d-dimensional vector, where d ≪ D, while preserving as much information as possible."
      ]
    },
    {
      "cell_type": "markdown",
      "metadata": {
        "id": "AcC6lbUMPXwy"
      },
      "source": [
        "* The difference is that Cross-entropy loss is a classification loss which operates on class probabilities produced by the network independently for each sample, and Contrastive loss is a metric learning loss, which operates on the data points produced by network and their positions relative to each other. \n",
        "\n",
        "* This is also part of the reason a **cross-entropy loss is not usually used for metric learning tasks** like Face Verification — it doesn’t impose any constraints on the distribution on the model’s inner representation of the given data — i.e. the model can learn any features regardless of whether similar data points would be located closely to each other or not after the transformation."
      ]
    },
    {
      "cell_type": "markdown",
      "metadata": {
        "id": "4EKxhx0vPgn-"
      },
      "source": [
        "* for each class/group of similar points (in case of Face Recognition task it would be all the photos of the same person) the **maximum intra-class distance is smaller than the minimum inter-class distance.** \n",
        "* It operates on pairs of embeddings received from the model and on the ground-truth similarity flag — a Boolean label, specifying whether these two samples are “similar” or “dissimilar”. So the input must be not one, but 2 images.\n",
        "* It penalizes “similar” samples for being far from each other in terms of Euclidean distance (although other distance metrics could be used).\n",
        "* “Dissimilar” samples are penalized by being to close to each other, but in a somewhat different way — Contrastive Loss introduces the concept of “margin” — a minimal distance that dissimilar points need to keep. So it penalizes dissimilar samples for beings closer than the given margin."
      ]
    },
    {
      "cell_type": "markdown",
      "metadata": {
        "id": "vDA3ZuNqWh16"
      },
      "source": [
        "**Triplet Loss**"
      ]
    },
    {
      "cell_type": "markdown",
      "metadata": {
        "id": "5hU6TokIWgm2"
      },
      "source": [
        "Triplet Loss (a loss function for machine learning algorithms) is often used for learning similarity for the purpose of learning embeddings, like word embeddings and even thought vectors, and metric learning.\n",
        "https://en.m.wikipedia.org/wiki/Triplet_loss"
      ]
    },
    {
      "cell_type": "markdown",
      "metadata": {
        "id": "VoLTTPqSSmeZ"
      },
      "source": [
        "**Terms**"
      ]
    },
    {
      "cell_type": "markdown",
      "metadata": {
        "id": "h90FJ46fSlgQ"
      },
      "source": [
        "Ranking Losses are essentialy the ones explained above, and are used in many different aplications with the same formulation or minor variations. However, different names are used for them, which can be confusing. Here I explain why those names are used.\n",
        "\n",
        "* Ranking loss: This name comes from the information retrieval field, where we want to train models to rank items in an specific order.\n",
        "* Margin Loss: This name comes from the fact that these losses use a margin to compare samples representations distances.\n",
        "* Contrastive Loss: Contrastive refers to the fact that these losses are computed contrasting two or more data points representations. This name is often used for * Pairwise Ranking Loss, but I’ve never seen using it in a setup with triplets.\n",
        "* Triplet Loss: Often used as loss name when triplet training pairs are employed.\n",
        "* Hinge loss: Also known as max-margin objective. It’s used for training SVMs for classification. It has a similar formulation in the sense that it optimizes until a margin. That’s why this name is sometimes used for Ranking Losses."
      ]
    },
    {
      "cell_type": "markdown",
      "metadata": {
        "id": "1OynXAgWS3PJ"
      },
      "source": [
        "**Pairwise Ranking Loss**"
      ]
    },
    {
      "cell_type": "markdown",
      "metadata": {
        "id": "eo7ymLUtS5N8"
      },
      "source": [
        "dd"
      ]
    },
    {
      "cell_type": "markdown",
      "metadata": {
        "id": "LF-hJBn3S7Ox"
      },
      "source": [
        "**Triplet Ranking Loss**"
      ]
    },
    {
      "cell_type": "markdown",
      "metadata": {
        "id": "KLY6Gz-IS-E0"
      },
      "source": [
        "ddd"
      ]
    },
    {
      "cell_type": "markdown",
      "metadata": {
        "id": "5AXn5dd9uVrH"
      },
      "source": [
        "https://gombru.github.io/2019/04/03/ranking_loss/"
      ]
    },
    {
      "cell_type": "markdown",
      "metadata": {
        "id": "N3jTMrMFRcgH"
      },
      "source": [
        "##### **Architectures: Siamese Nets or Triplet Nets**"
      ]
    },
    {
      "cell_type": "markdown",
      "metadata": {
        "id": "SJXjlJ_NTHte"
      },
      "source": [
        "Siamese and triplet nets are training setups where Pairwise Ranking Loss and Triplet Ranking Loss are used. But those losses can be also used in other setups. "
      ]
    },
    {
      "cell_type": "markdown",
      "metadata": {
        "id": "60dIC1URTml5"
      },
      "source": [
        "**Siamese Nets**"
      ]
    },
    {
      "cell_type": "markdown",
      "metadata": {
        "id": "Sy98MKUKTkO4"
      },
      "source": [
        "Are built by two identical CNNs with shared weights (both CNNs have the same weights). Each one of these nets processes an image and produces a representation. Those representations are compared and a distance between them is computed. Then, a Pairwise Ranking Loss is used to train the network, such that the distance between representations produced by similar images is small, and the distance between representations of dis-similar images is big."
      ]
    },
    {
      "cell_type": "markdown",
      "metadata": {
        "id": "OQlkcsi6TsO3"
      },
      "source": [
        "**Triplet Nets**"
      ]
    },
    {
      "cell_type": "markdown",
      "metadata": {
        "id": "qMpc0YQCTuod"
      },
      "source": [
        "The idea is similar to a siamese net, but a triplet net has three branches (three CNNs with shared weights). The model is trained by simultaneously giving a positive and a negative image to the corresponding anchor image, and using a Triplet Ranking Loss. That lets the net learn better which images are similar and different to the anchor image."
      ]
    },
    {
      "cell_type": "markdown",
      "metadata": {
        "id": "zCZVN7B_TL1i"
      },
      "source": [
        "**Example: Ranking Loss for Multi-Modal Retrieval**"
      ]
    },
    {
      "cell_type": "markdown",
      "metadata": {
        "id": "vTURi0iPTrre"
      },
      "source": [
        ""
      ]
    },
    {
      "cell_type": "markdown",
      "metadata": {
        "id": "LxKmU_MLUICH"
      },
      "source": [
        "##### **Loss Functions**"
      ]
    },
    {
      "cell_type": "markdown",
      "metadata": {
        "id": "Cicxm5OuUKbo"
      },
      "source": [
        "[PyTorch] CosineEmbeddingLoss. It’s a Pairwise Ranking Loss that uses cosine distance as the distance metric. Inputs are the features of the pair elements, the label indicating if it’s a positive or a negative pair, and the margin."
      ]
    },
    {
      "cell_type": "markdown",
      "metadata": {
        "id": "IhywPFnNUMy1"
      },
      "source": [
        "[PyTorch] MarginRankingLoss. Similar to the former, but uses euclidian distance."
      ]
    },
    {
      "cell_type": "markdown",
      "metadata": {
        "id": "rWICWkZXUOp8"
      },
      "source": [
        "[PyTorch] TripletMarginLoss. A Triplet Ranking Loss using euclidian distance."
      ]
    },
    {
      "cell_type": "markdown",
      "metadata": {
        "id": "dGofcArVURUB"
      },
      "source": [
        "[TensorFlow] contrastive_loss. Pairwise Ranking Loss."
      ]
    },
    {
      "cell_type": "markdown",
      "metadata": {
        "id": "wxXiIet9UTaN"
      },
      "source": [
        "[TensorFlow] triplet_semihard_loss. Triplet loss with semi-hard negative mining."
      ]
    },
    {
      "cell_type": "markdown",
      "metadata": {
        "id": "YfVxKUnwXK8Z"
      },
      "source": [
        "### **Define Model & Run (Next chapters: Additional Notes to be integrated)**"
      ]
    },
    {
      "cell_type": "code",
      "metadata": {
        "id": "pKomy6Y9c18A",
        "colab": {
          "base_uri": "https://localhost:8080/",
          "height": 683
        },
        "outputId": "d66a05bc-91df-4627-996a-bd27b03007c4"
      },
      "source": [
        "# Load & Prepare Data\n",
        "fashion_mnist = tf.keras.datasets.fashion_mnist\n",
        "(x_train, y_train),(x_test, y_test) = fashion_mnist.load_data()\n",
        "x_train, x_test = x_train / 255.0, x_test / 255.0\n",
        "\n",
        "# Define Model\n",
        "model = tf.keras.models.Sequential()\n",
        "model.add(tf.keras.layers.Flatten(input_shape=(28, 28)))\n",
        "model.add(tf.keras.layers.Dense(512, activation='relu')) \n",
        "model.add(tf.keras.layers.Dropout(0.3))\n",
        "model.add(tf.keras.layers.Dense(10, activation='softmax'))\n",
        "\n",
        "# Compile Model\n",
        "model.compile(optimizer='adam', \n",
        "              loss=loss, \n",
        "              metrics=['accuracy'])\n",
        "\n",
        "# Train Model\n",
        "model.fit(x=x_train, \n",
        "          y=y_train, \n",
        "          epochs=5, \n",
        "          validation_data=(x_test, y_test),\n",
        "          callbacks=[PlotLossesKerasTF()],\n",
        "          verbose=1)"
      ],
      "execution_count": null,
      "outputs": [
        {
          "output_type": "display_data",
          "data": {
            "image/png": "[encoded data removed]",
            "text/plain": [
              "<Figure size 864x576 with 2 Axes>"
            ]
          },
          "metadata": {
            "tags": [],
            "needs_background": "light"
          }
        },
        {
          "output_type": "stream",
          "text": [
            "accuracy\n",
            "\ttraining         \t (min:    0.700, max:    0.846, cur:    0.846)\n",
            "\tvalidation       \t (min:    0.724, max:    0.841, cur:    0.839)\n",
            "Loss\n",
            "\ttraining         \t (min:    1.615, max:    1.763, cur:    1.615)\n",
            "\tvalidation       \t (min:    1.619, max:    1.736, cur:    1.623)\n",
            "\b\b\b\b\b\b\b\b\b\b\b\b\b\b\b\b\b\b\b\b\b\b\b\b\b\b\b\b\b\b\b\b\b\b\b\b\b\b\b\b\b\b\b\b\b\b\b\b\b\b\b\b\b\b\b\b\b\b\b\b\b\b\b\b\b\b\b\b\b\b\b\b\b\b\b\b\b\b\b\b\b\b\b\b\b\b\r1875/1875 [==============================] - 8s 4ms/step - loss: 1.6150 - accuracy: 0.8457 - val_loss: 1.6226 - val_accuracy: 0.8389\n"
          ],
          "name": "stdout"
        },
        {
          "output_type": "execute_result",
          "data": {
            "text/plain": [
              "<tensorflow.python.keras.callbacks.History at 0x7fefdc3a1e80>"
            ]
          },
          "metadata": {
            "tags": []
          },
          "execution_count": 3
        }
      ]
    },
    {
      "cell_type": "markdown",
      "metadata": {
        "id": "kMkjtUvw8nOE"
      },
      "source": [
        "### **Cost (Loss) Function**"
      ]
    },
    {
      "cell_type": "markdown",
      "metadata": {
        "id": "DabFDgCa9SAr"
      },
      "source": [
        "* The function we want to minimize or maximize is called the objective function or criterion. When we are minimizing it, we may also call it the cost function, loss function, or error function.\n",
        "\n",
        "* In most cases, our parametric model defines a distribution […] and we simply use the principle of maximum likelihood. This means we use the cross-entropy between the training data and the model’s predictions as the cost function.\n",
        "\n",
        "* It is important, therefore, that the function faithfully represent our design goals. If we choose a poor error function and obtain unsatisfactory results, the fault is ours for badly specifying the goal of the search."
      ]
    },
    {
      "cell_type": "markdown",
      "metadata": {
        "id": "HBgVckIO8r8i"
      },
      "source": [
        "**Maximum Likelihood Estimation**\n",
        "\n",
        "* Maximum likelihood seeks to find the optimum values for the parameters by maximizing a likelihood function derived from the training data.\n",
        "\n",
        "* Given input, the model is trying to make predictions that **match the data distribution of the target variable**. Under maximum likelihood, a loss function estimates how closely the distribution of predictions made by a model matches the distribution of target variables in the training data.\n",
        "\n",
        "* One way to interpret maximum likelihood estimation is to view it as **minimizing the dissimilarity** between the empirical distribution […] defined by the training set and the model distribution, with the degree of dissimilarity between the two measured by the KL divergence. […] **Minimizing this KL divergence corresponds exactly to minimizing the cross-entropy between the distributions**.\n",
        "\n",
        "* Under appropriate conditions, the maximum likelihood estimator has the **property of consistency** […], meaning that as the number of training examples approaches infinity, the maximum likelihood estimate of a parameter converges to the true value of the parameter.\n",
        "\n",
        "* Under the framework maximum likelihood, the error between two probability distributions is measured using cross-entropy. Under maximum likelihood estimation, we would seek a set of model weights that minimize the difference between the model’s predicted probability distribution given the dataset and the distribution of probabilities in the training dataset. This is called the cross-entropy.\n",
        "\n",
        "When using the framework of maximum likelihood estimation, we will implement a cross-entropy loss function, which often in practice means:\n",
        "* a **cross-entropy** loss function for classification problems and \n",
        "* a **mean squared error** loss function for regression problems.\n"
      ]
    },
    {
      "cell_type": "markdown",
      "metadata": {
        "id": "K4L_PXfl_RMh"
      },
      "source": [
        "* Under the framework of maximum likelihood estimation and assuming a **Gaussian distribution for the target variable**, mean squared error can be considered the cross-entropy between the distribution of the model predictions and the distribution of the target variable.\n",
        "\n",
        "* Many authors use the term “cross-entropy” to identify specifically the negative log-likelihood of a Bernoulli or softmax distribution, but that is a misnomer. \n",
        "\n",
        "* Any loss consisting of a negative log-likelihood is a cross-entropy between the empirical distribution defined by the training set and the probability distribution defined by model. \n",
        "\n",
        "* For example, **mean squared error is the cross-entropy between the empirical distribution and a Gaussian model**"
      ]
    },
    {
      "cell_type": "markdown",
      "metadata": {
        "id": "XXMZQeKBBagQ"
      },
      "source": [
        "https://machinelearningmastery.com/cross-entropy-for-machine-learning/"
      ]
    },
    {
      "cell_type": "markdown",
      "metadata": {
        "id": "W3qVwnOZB5Nb"
      },
      "source": [
        "### **Cross-Entropy & Information Theory**"
      ]
    },
    {
      "cell_type": "markdown",
      "metadata": {
        "id": "XrvSwlkmCA4B"
      },
      "source": [
        "* Cross-entropy is a measure of the difference between two probability distributions for a given random variable or set of events.\n",
        "\n",
        "* You might recall that information quantifies the number of bits required to encode and transmit an event. Lower probability events have more information, higher probability events have less information.\n",
        "\n",
        "* Entropy is the number of bits required to transmit a randomly selected event from a probability distribution. A skewed distribution has a low entropy, whereas a distribution where events have equal probability has a larger entropy.\n",
        "\n",
        "* In information theory, we like to describe the “surprise” of an event. Low probability events are more surprising therefore have a larger amount of information. Whereas probability distributions where the events are equally likely are more surprising and have larger entropy.\n",
        "\n",
        "* Skewed Probability Distribution (unsurprising): Low entropy.\n",
        "\n",
        "* Balanced Probability Distribution (surprising): High entropy.\n",
        "\n",
        "* Entropy can be calculated for a random variable with a set of x in X discrete states discrete states and their probability P(x) as follows:\n",
        "\n",
        "```\n",
        "H(X) = – sum x in X P(x) * log(P(x))\n",
        "```\n",
        "Cross-entropy builds upon the idea of entropy from information theory and calculates the number of bits required to represent or transmit an average event from one distribution compared to another distribution.\n"
      ]
    },
    {
      "cell_type": "markdown",
      "metadata": {
        "id": "qsUbtbv7DUv3"
      },
      "source": [
        "* The intuition for this definition comes if we consider a target or underlying probability distribution P and an approximation of the target distribution Q, then the cross-entropy of Q from P is the number of additional bits to represent an event using Q instead of P.\n",
        "\n",
        "* The cross-entropy between two probability distributions, such as Q from P, can be stated formally as:\n",
        "\n",
        "H(P, Q)\n",
        "\n",
        "* Where H() is the cross-entropy function, P may be the target distribution and Q is the approximation of the target distribution.\n",
        "\n",
        "* Cross-entropy can be calculated using the probabilities of the events from P and Q, as follows:\n",
        "\n",
        "\n",
        "\n",
        "```\n",
        "H(P, Q) = – sum x in X P(x) * log(Q(x))\n",
        "```\n",
        "\n",
        "* Where P(x) is the probability of the event x in P, Q(x) is the probability of event x in Q and log is the base-2 logarithm, meaning that the results are in bits. If the base-e or natural logarithm is used instead, the result will have the units called nats.\n",
        "\n",
        "* This calculation is for discrete probability distributions, although a similar calculation can be used for continuous probability distributions using the integral across the events instead of the sum.\n",
        "\n",
        "* The result will be a positive number measured in bits and will be equal to the entropy of the distribution if the two probability distributions are identical."
      ]
    },
    {
      "cell_type": "markdown",
      "metadata": {
        "id": "lktzMCgwCdyE"
      },
      "source": [
        "https://machinelearningmastery.com/what-is-information-entropy/"
      ]
    },
    {
      "cell_type": "markdown",
      "metadata": {
        "id": "rSfg74f5CMAg"
      },
      "source": [
        "**Cross-Entropy vs KL Divergence vs Logloss**"
      ]
    },
    {
      "cell_type": "markdown",
      "metadata": {
        "id": "TmqSldRPBk9Z"
      },
      "source": [
        "* Cross-entropy is a measure from the field of information theory, building upon entropy and generally calculating the difference between two probability distributions. It is closely related to but is different from **KL divergence** that calculates the relative entropy between two probability distributions, whereas cross-entropy can be thought to calculate the total entropy between the distributions.\n",
        "\n",
        "* Cross-entropy is also related to and often confused with **logistic loss, called log loss**. Although the two measures are derived from a different source, when used as loss functions for classification models, both measures calculate the same quantity and can be used interchangeably.\n",
        "\n"
      ]
    },
    {
      "cell_type": "markdown",
      "metadata": {
        "id": "F3YVyW4Y4h9u"
      },
      "source": [
        "### **Metric (Similarity) Learning**"
      ]
    },
    {
      "cell_type": "markdown",
      "metadata": {
        "id": "_YuJ76Kg4l3M"
      },
      "source": [
        "* Triplet loss is probably the most popular loss function of metric learning. "
      ]
    },
    {
      "cell_type": "markdown",
      "metadata": {
        "id": "IXAO6AZJla9V"
      },
      "source": [
        "https://en.m.wikipedia.org/wiki/Similarity_learning"
      ]
    },
    {
      "cell_type": "markdown",
      "metadata": {
        "id": "Szk8f_884n6e"
      },
      "source": [
        "https://towardsdatascience.com/metric-learning-loss-functions-5b67b3da99a5"
      ]
    },
    {
      "cell_type": "markdown",
      "metadata": {
        "id": "VwyJNSuepvyl"
      },
      "source": [
        "### **Distance & Divergence**"
      ]
    },
    {
      "cell_type": "markdown",
      "metadata": {
        "id": "fDaFyrlkAN03"
      },
      "source": [
        "**Conditions**\n",
        "\n",
        "1. d(x, y) ≥ 0     (non-negativity)\n",
        "2. d(x, y) = 0   if and only if   x = y     (identity of indiscernibles. Note that condition 1 and 2 together produce positive definiteness)\n",
        "3. d(x, y) = d(y, x)     (symmetry)\n",
        "4. d(x, z) ≤ d(x, y) + d(y, z)     (subadditivity / triangle inequality)."
      ]
    },
    {
      "cell_type": "markdown",
      "metadata": {
        "id": "HCFr4OMNuoir"
      },
      "source": [
        "**Distances**"
      ]
    },
    {
      "cell_type": "markdown",
      "metadata": {
        "id": "WeQsGsly_w8h"
      },
      "source": [
        "For continuous data:\n",
        "\n",
        "* Euclidean Distance\n",
        "* Manhattan Distance\n",
        "* Canberra Distance\n",
        "* Bray Curtis Distance\n",
        "* Cosine Distance\n",
        "* Correlation Distance"
      ]
    },
    {
      "cell_type": "markdown",
      "metadata": {
        "id": "yiPqyo5E8Uzq"
      },
      "source": [
        "**Divergences**"
      ]
    },
    {
      "cell_type": "markdown",
      "metadata": {
        "id": "BYq6ACsE8s7N"
      },
      "source": [
        "* is a (contrast) function which establishes the \"distance\" of one probability distribution to the other on a statistical manifold. \n",
        "* divergence is a weaker notion than that of the distance, in particular the divergence need not be symmetric (that is, in general the divergence from p to q is not equal to the divergence from q to p), and need not satisfy the triangle inequality.\n",
        "* The two most important divergences are the relative entropy (Kullback–Leibler divergence, KL divergence) and the squared Euclidean distance.\n",
        "* Minimizing these two divergences is the main way that linear inverse problem are solved, via the principle of maximum entropy and least squares, notably in logistic regression and linear regression.\n",
        "* The two most important classes of divergences are the f-divergences and Bregman divergences; however, other types of divergence functions are also encountered in the literature. The only divergence that is both an f-divergence and a Bregman divergence is the Kullback–Leibler divergence; the squared Euclidean divergence is a Bregman divergence (corresponding to the function x<sup>2</sup>), but not an f-divergence."
      ]
    },
    {
      "cell_type": "markdown",
      "metadata": {
        "id": "vMM3R7pCwCHG"
      },
      "source": [
        "### **Find the similarity between two probability distributions**"
      ]
    },
    {
      "cell_type": "markdown",
      "metadata": {
        "id": "eozx-uGEwh_9"
      },
      "source": [
        "Using Jensen Shannon Divergence to build a tool to find the distance between probability distributions using Python.\n",
        "\n",
        "I was on a mission to find a good measure of difference between two probability distributions. After doing a lot of research online, taking feedback from my colleagues, and validating various methods, I found one that does a really good job.\n",
        "\n",
        "My problem statement could be solved by calculating the statistical distance between the two probability distributions. To do this, I found out that Jensen Shannon Distance can be used.\n",
        "\n",
        "Jensen-Shannon Divergence (JSD)is a metric derived from another measure of statistical distance called the Kullback-Leiber Divergence(KLD). The reason why I couldn’t use the KLD is that it’s an asymmetrical function. Since there might have been a lot of distance calculations required, it posed a risk.\n",
        "\n",
        "JSD, on the other hand, is a symmetrical function and the square root of JSD gives the Jensen-Shannon Distance. A measure that we can use to find the similarity between the two probability distributions. 0 indicates that the two distributions are the same, and 1 would indicate that they are nowhere similar.\n",
        "\n",
        "Where P & Q are the two probability distribution, M = (P+Q)/2, and D(P ||M) is the KLD between P and M. Similarly D(Q||M) is the KLD between Q and M.\n",
        "Implementation in Python\n",
        "Now that we know the formula, it’s time to implement it. First of all, we need to calculate M and also, the KLD between P&M and Q&M.\n",
        "Scipy is a phenomenal Python Library for scientific computing and it has lots of statistical measures in-built. It turns out that the entropy measure in scipy is implemented using the KLD. Just what we want.\n",
        "\n",
        "(I found it to be quite simple to implement it with python and I got really good results when I tested it with a few distributions.)\n"
      ]
    },
    {
      "cell_type": "code",
      "metadata": {
        "id": "ik7Uutxrz9iN",
        "colab": {
          "base_uri": "https://localhost:8080/",
          "height": 53
        },
        "outputId": "f87e74ca-7d4a-4099-af0f-eb57554c2f84"
      },
      "source": [
        " # Create test data\n",
        "p = np.random.rayleigh(3,3)\n",
        "q = np.random.weibull(3,3)\n",
        "p, q"
      ],
      "execution_count": null,
      "outputs": [
        {
          "output_type": "execute_result",
          "data": {
            "text/plain": [
              "(array([3.84848271, 4.18906706, 5.61567569]),\n",
              " array([1.036487  , 0.9192782 , 0.63485667]))"
            ]
          },
          "metadata": {
            "tags": []
          },
          "execution_count": 47
        }
      ]
    },
    {
      "cell_type": "code",
      "metadata": {
        "id": "zufnQaip3Xgs",
        "colab": {
          "base_uri": "https://localhost:8080/",
          "height": 35
        },
        "outputId": "9295beb0-3a93-4a6c-a200-880837d402ed"
      },
      "source": [
        "# https://docs.scipy.org/doc/scipy/reference/generated/scipy.stats.entropy.html\n",
        "# Calculate the entropy of a distribution for given probability values\n",
        "entropy([p, q], base=None)"
      ],
      "execution_count": null,
      "outputs": [
        {
          "output_type": "execute_result",
          "data": {
            "text/plain": [
              "array([0.51682914, 0.471327  , 0.32851553])"
            ]
          },
          "metadata": {
            "tags": []
          },
          "execution_count": 50
        }
      ]
    },
    {
      "cell_type": "code",
      "metadata": {
        "id": "TfittfZK1uDS",
        "colab": {
          "base_uri": "https://localhost:8080/",
          "height": 35
        },
        "outputId": "45ca97b1-13b6-4dd6-b911-8a99baee6e15"
      },
      "source": [
        " m = (p + q) / 2\n",
        "\n",
        "    # compute Jensen Shannon Divergence\n",
        "divergence = (scipy.stats.entropy(p, m))\n",
        "\n",
        "divergence"
      ],
      "execution_count": null,
      "outputs": [
        {
          "output_type": "execute_result",
          "data": {
            "text/plain": [
              "array([inf, inf, inf])"
            ]
          },
          "metadata": {
            "tags": []
          },
          "execution_count": 40
        }
      ]
    },
    {
      "cell_type": "code",
      "metadata": {
        "id": "snhT2RwTwKq5"
      },
      "source": [
        "# Create function to compute distance\n",
        "from scipy.stats import entropy\n",
        "def jensen_shannon_distance(p, q):\n",
        "    \"\"\"\n",
        "    method to compute the Jenson-Shannon Distance \n",
        "    between two probability distributions\n",
        "    \"\"\"\n",
        "\n",
        "    # convert the vectors into numpy arrays in case that they aren't\n",
        "    # p = np.array(p)\n",
        "    # q = np.array(q)\n",
        "\n",
        "    # calculate m\n",
        "    m = (p + q) / 2\n",
        "\n",
        "    # compute Jensen Shannon Divergence\n",
        "    divergence = (scipy.stats.entropy(p, m) + scipy.stats.entropy(q, m)) / 2\n",
        "\n",
        "    # compute the Jensen Shannon Distance\n",
        "    distance = np.sqrt(divergence)\n",
        "\n",
        "    return distance"
      ],
      "execution_count": null,
      "outputs": []
    },
    {
      "cell_type": "code",
      "metadata": {
        "id": "TKOLXS2P0gum",
        "colab": {
          "base_uri": "https://localhost:8080/",
          "height": 35
        },
        "outputId": "a6fcaa25-2fec-4f17-bdb4-adc976bfd30e"
      },
      "source": [
        "print(jensen_shannon_distance(eins,zwei))"
      ],
      "execution_count": null,
      "outputs": [
        {
          "output_type": "stream",
          "text": [
            "[inf inf inf]\n"
          ],
          "name": "stdout"
        }
      ]
    },
    {
      "cell_type": "markdown",
      "metadata": {
        "id": "6R84pGVrPDRV"
      },
      "source": [
        "https://en.wikipedia.org/wiki/Gromov%E2%80%93Hausdorff_convergence"
      ]
    },
    {
      "cell_type": "markdown",
      "metadata": {
        "id": "VefQJanNG6a6"
      },
      "source": [
        "### **Information Entropy**"
      ]
    },
    {
      "cell_type": "markdown",
      "metadata": {
        "id": "NfmBr0auIUJC"
      },
      "source": [
        "https://www.kaggle.com/debanga/statistical-distances"
      ]
    },
    {
      "cell_type": "markdown",
      "metadata": {
        "id": "X-i-EOMX2yTa"
      },
      "source": [
        "https://www.inovex.de/blog/the-mystery-of-entropy-how-to-measure-unpredictability-in-machine-learning/"
      ]
    },
    {
      "cell_type": "markdown",
      "metadata": {
        "id": "XvYF3jYCGiRj"
      },
      "source": [
        "https://franknielsen.github.io\n",
        "\n",
        "\n",
        "http://yosinski.com/mlss12/MLSS-2012-Amari-Information-Geometry/\n",
        "\n",
        "\n",
        "https://www.frontiersin.org/articles/10.3389/fevo.2019.00447/full\n",
        "\n",
        "\n",
        "https://numerics.mathdotnet.com/Distance.html\n",
        "\n",
        "\n",
        "https://research.wmz.ninja/articles/2018/03/a-brief-list-of-statistical-divergences.html\n",
        "\n",
        "\n",
        "https://link.springer.com/article/10.1007/s00362-018-01082-8?shared-article-renderer\n",
        "\n",
        "\n",
        "https://gmarti.gitlab.io//qfin/2020/07/01/mutual-information-is-copula-entropy.html"
      ]
    },
    {
      "cell_type": "markdown",
      "metadata": {
        "id": "CE6jnCm3G85l"
      },
      "source": [
        "https://en.m.wikipedia.org/wiki/Entropy_(information_theory)\n",
        "\n",
        "https://en.m.wikipedia.org/wiki/Information_theory"
      ]
    },
    {
      "cell_type": "markdown",
      "metadata": {
        "id": "5wnEN4OmHG9p"
      },
      "source": [
        "### **Information Distance**"
      ]
    },
    {
      "cell_type": "markdown",
      "metadata": {
        "id": "RZDkuqffHJnr"
      },
      "source": [
        "##### **Information Gain**"
      ]
    },
    {
      "cell_type": "markdown",
      "metadata": {
        "id": "LJkhaidZHLSG"
      },
      "source": [
        "**Mutual Information**"
      ]
    },
    {
      "cell_type": "markdown",
      "metadata": {
        "id": "UrBFWqRyHM1K"
      },
      "source": [
        "* Mutual Information is also known as information gain.\n",
        "\n",
        "* In probability theory and information theory, the mutual information (MI) of two random variables is a measure of the mutual dependence between the two variables. \n",
        "\n",
        "* More specifically, it quantifies the \"amount of information\" (in units such as shannons, commonly called bits) obtained about one random variable through observing the other random variable. \n",
        "\n",
        "* The concept of mutual information is intricately linked to that of entropy of a random variable, a fundamental notion in information theory that quantifies the expected \"amount of information\" held in a random variable.\n",
        "\n",
        "* Not limited to real-valued random variables and linear dependence like the correlation coefficient, MI is more general and determines how different the joint distribution of the pair (X, Y) is to the product of the marginal distributions of X and Y. MI is the expected value of the pointwise mutual information (PMI)."
      ]
    },
    {
      "cell_type": "markdown",
      "metadata": {
        "id": "fPscRlapHOtm"
      },
      "source": [
        "https://en.m.wikipedia.org/wiki/Mutual_information"
      ]
    },
    {
      "cell_type": "markdown",
      "metadata": {
        "id": "7zvq7jNZHXsF"
      },
      "source": [
        "#### **Variation of information**"
      ]
    },
    {
      "cell_type": "markdown",
      "metadata": {
        "id": "L8l6m_UAHZBA"
      },
      "source": [
        "* In probability theory and information theory, the variation of information or shared information distance is a measure of the distance between two clusterings (partitions of elements). \n",
        "\n",
        "* It is closely related to mutual information; indeed, it is a simple linear expression involving the mutual information. \n",
        "\n",
        "* Unlike the mutual information, however, **the variation of information is a true metric**, in that it obeys the triangle inequality."
      ]
    },
    {
      "cell_type": "markdown",
      "metadata": {
        "id": "gMcAMeUGHa5V"
      },
      "source": [
        "https://en.m.wikipedia.org/wiki/Variation_of_information"
      ]
    },
    {
      "cell_type": "markdown",
      "metadata": {
        "id": "0jCYoWZoHd2X"
      },
      "source": [
        "### **Quantities of information**"
      ]
    },
    {
      "cell_type": "markdown",
      "metadata": {
        "id": "BGtNC3UHHf5P"
      },
      "source": [
        "https://en.m.wikipedia.org/wiki/Quantities_of_information"
      ]
    },
    {
      "cell_type": "markdown",
      "metadata": {
        "id": "9dfYtm7HHhpn"
      },
      "source": [
        "#### **Information Content (Self Information)**"
      ]
    },
    {
      "cell_type": "markdown",
      "metadata": {
        "id": "T2iCcCMmHjEv"
      },
      "source": [
        "* In information theory, the information content, self-information, surprisal, or Shannon information is a basic quantity derived from the probability of a particular event occurring from a random variable. It can be thought of as an alternative way of expressing probability, much like odds or log-odds, but which has particular mathematical advantages in the setting of information theory.\n",
        "\n",
        "* The Shannon information can be interpreted as quantifying the level of \"surprise\" of a particular outcome. As it is such a basic quantity, it also appears in several other settings, such as the length of a message needed to transmit the event given an optimal source coding of the random variable.\n",
        "\n",
        "* The **Shannon information is closely related to information (theoretic) entropy**, which is the expected value of the self-information of a random variable, quantifying how surprising the random variable is \"on average.\" This is the average amount of self-information an observer would expect to gain about a random variable when measuring it.\n",
        "\n",
        "* The information content can be expressed in various units of information, of which the most common is the \"bit\" (sometimes also called the \"shannon\"), as explained below."
      ]
    },
    {
      "cell_type": "markdown",
      "metadata": {
        "id": "2tM6tWbNHk9P"
      },
      "source": [
        "https://en.m.wikipedia.org/wiki/Information_content"
      ]
    }
  ]
}