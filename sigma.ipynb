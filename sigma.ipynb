{
  "nbformat": 4,
  "nbformat_minor": 0,
  "metadata": {
    "colab": {
      "name": "sigma.ipynb",
      "provenance": [],
      "collapsed_sections": [],
      "include_colab_link": true
    },
    "kernelspec": {
      "name": "python3",
      "display_name": "Python 3"
    }
  },
  "cells": [
    {
      "cell_type": "markdown",
      "metadata": {
        "id": "view-in-github",
        "colab_type": "text"
      },
      "source": [
        "<a href=\"https://colab.research.google.com/github/deltorobarba/machinelearning/blob/master/sigma.ipynb\" target=\"_parent\"><img src=\"https://colab.research.google.com/assets/colab-badge.svg\" alt=\"Open In Colab\"/></a>"
      ]
    },
    {
      "cell_type": "markdown",
      "metadata": {
        "id": "2Aoj2PpxvDQV",
        "colab_type": "text"
      },
      "source": [
        "# **σ-algebra**"
      ]
    },
    {
      "cell_type": "code",
      "metadata": {
        "id": "1U5_6xH7tAQq",
        "colab_type": "code",
        "colab": {}
      },
      "source": [
        "import numpy as np\n",
        "import pandas as pd\n",
        "import seaborn as sns\n",
        "import matplotlib.pyplot as plt"
      ],
      "execution_count": null,
      "outputs": []
    },
    {
      "cell_type": "markdown",
      "metadata": {
        "id": "c-4S2tBmKtqG",
        "colab_type": "text"
      },
      "source": [
        "**Pain Point**\n",
        "\n",
        "* How to define a messbare Menge?\n",
        "\n",
        "* Wenn wir eine Menge aus den reellen Zahlen haben und mochten eine Teilbereich [a bis b] messen, dann brauchen wir einen allgemeinen Massbegriff unabhangig von der konkreten Menge. Hier kommt Masstheorie und Sigma-Algebra."
      ]
    },
    {
      "cell_type": "markdown",
      "metadata": {
        "id": "1xqZZnlioqhm",
        "colab_type": "text"
      },
      "source": [
        "**Definition**"
      ]
    },
    {
      "cell_type": "markdown",
      "metadata": {
        "id": "QsEXjLwvkYeO",
        "colab_type": "text"
      },
      "source": [
        "* A σ-algebra defines the set of events that can be measured, which in a probability context is equivalent to events that can be discriminated, or \"questions that can be answered at time t\".\n",
        "\n",
        "* Wenn wir eine Sigma Algebra A gegeben haben, dann heisst jede Teilmenge in diesem Mengensystem (jedes Element aus dieser Sigma Algebra A) eine messbare Teilmenge (=die Mengen die wir messen wollen).\n",
        "\n",
        "* **<u>Die Elemente der Sigma Algebra sind die messbaren Teilmengen von unserer Grundmenge X</u>** (Und messbar ist der wesentliche Begriff). Das ist zB die Menge an vergangenen Trading-Events am Finanzmarkt bis zum Zeitpunkt t.\n",
        "\n",
        "* Sigma Algebra ist ein **Mengensystem von einer Teilmenge einer gegebenen Grundmenge** = der Raum, **den wir beschreiben wollen** (mit drei Eigenschaften). Die Menge einer Sigma-Algebra nennt man „**messbare Teilmengen**“."
      ]
    },
    {
      "cell_type": "markdown",
      "metadata": {
        "id": "Nt7a2CmJo7hl",
        "colab_type": "text"
      },
      "source": [
        "**Eigenschaften**"
      ]
    },
    {
      "cell_type": "markdown",
      "metadata": {
        "id": "KC_-eGg2Dfai",
        "colab_type": "text"
      },
      "source": [
        "**A $\\subseteq$ P(X) (=Potenzmenge) heisst Sigma Algebra, wenn gilt** (Die Mengen, die in dieser Sigma Algebra liegen, das sind jene, die folgende drei Eigenschaften erfüllen, und sind die, die wir messen wollen (=diesen Mengen wollen wir ein Mass zuordnen). Potenzmenge selbst soll eine Sigma Algebra sein. Sollten gewissen Eigenschaften der Potenzmenge fordern). **<u>A collection of subsets</u> A is called a σ-algebra on a set X if the following properties are met:**\n",
        "\n",
        "1. **A contains X (the set itself)**: $\\quad \\phi, X \\in A$ (Leere Menge (sollte Länge oder Volumen Null haben) und ganze Grundmenge selbst haben wir im Mengensystem / sollen messbar sein. Das ist was Sigma Algebra sagt.)\n",
        "\n",
        "2. **If A contains a subset S, then A also contains the complement of S**: $A \\in A \\Rightarrow A^{c}:=X \\backslash A \\in A$ (Irgendein Element in der Algebra: dann sollte auch dessen Komplement im Mengensystem enthalten sein.) Hiermit ist auch Regel 1 eingeschlossen!\n",
        "\n",
        "3. **Consider a countable collection of subsets. If each subset is included in A, then A must also contain their reunion.**: $A_{i} \\in A$ fur i $\\in N \\Rightarrow \\bigcup_{i=1}^{\\infty} A_{i} \\in A$ ((Letzter Punkt macht das Sigma aus): Abzählbarkeit, abzählbare Summe (A i‘s aus unseren Mengensystem A): wir haben endlich viele bzw. abzählbar viele, dann können wir die Vereinigung bilden / abziehbare Vereinigung. Die abzählbare Vereinigung soll wieder in der Sigma Algebra liegen = Wenn wir Längen haben, dann sollten wir die auch addieren können, auch wenn sich die Addition bis unendlich streckt! (blick auf messbarkeit))"
      ]
    },
    {
      "cell_type": "markdown",
      "metadata": {
        "id": "Acf3wB40oUX2",
        "colab_type": "text"
      },
      "source": [
        "Having defined such a σ-algebra A, we call **the elements of σ-algebra A measurable sets** and the couple (X, A) a measurable space. An arbitrary set X can be a member of a multitude of σ-algebras. We denote the set of all σ-algebras that contain X with M(X). The **intersection of all those σ-algebras is called the σ-algebra generated by X**.\n",
        "\n",
        "**A σ-algebra (also σ-field) on a set X is a collection Σ of subsets of X that includes X itself, is closed under complement, and is closed under countable unions**. The definition implies that it also includes the empty subset and that it is closed under countable intersections. The pair (X, Σ) is called a measurable space or Borel space. A σ-algebra is a type of algebra of sets. An algebra of sets needs only to be closed under the union or intersection of finitely many subsets, which is a weaker condition."
      ]
    },
    {
      "cell_type": "markdown",
      "metadata": {
        "id": "fanUy5PDuSxk",
        "colab_type": "text"
      },
      "source": [
        "**Borel‘sche Sigma-Algebra**\n",
        "\n",
        "* T ist ein topologischer Raum (oder ein metrischer Raum im engeren Sinn.) und X eine Menge darin. „Offene Mengen“.\n",
        "\n",
        "* Die Borel’sche Sigma Algebra auf topologischen Raum X ist jene kleinste Sigma Algebra, die von den offenen Mengen erzeugt wird. \n",
        "\n",
        "* B(X) := (T)"
      ]
    },
    {
      "cell_type": "markdown",
      "metadata": {
        "id": "jAyvsbpk6md6",
        "colab_type": "text"
      },
      "source": [
        "**Measurable function**\n",
        "\n",
        "* **A set is measurable when it’s included in a σ-algebra.**\n",
        "\n",
        "* We can also extend the “measurable” attribute to functions. Here’s how:\n",
        "\n",
        "* Let’s consider (X, A) and (Y, B) two measurable spaces. A function f from A to B is called measurable if every set from B comes from applying f to a set from A. Formally, we say that for any element S of B, the pre-image of S under the function f is in A.\n"
      ]
    },
    {
      "cell_type": "markdown",
      "metadata": {
        "id": "ydW85odCvr5M",
        "colab_type": "text"
      },
      "source": [
        "**Filtrations**"
      ]
    },
    {
      "cell_type": "markdown",
      "metadata": {
        "id": "RrKTnVYavnLv",
        "colab_type": "text"
      },
      "source": [
        "* In a multiperiod market, information about the market scenario is revealed in stages. \n",
        "\n",
        "* Some events may be completely determined by the end of the first trading period, others by the end of the second, and others not until the termination of all trading. \n",
        "\n",
        "* This suggests the following classification of events: for each t ≤ T ,\n",
        "\n",
        "(1) Ft = {all events determined in the first t trading periods}.\n",
        "\n",
        "* The finite sequence (Ft)0≤t≤T is a filtration of the space Ω of market scenarios. \n",
        "\n",
        "* In general, a filtration of a set Ω (not necessarily finite) is defined to be a collection Ft, indexed by a time parameter t (time may be either discrete or continuous), such that\n",
        "\n",
        "(a) each Ft is a σ−algebra of subsets (events) of Ω; and \n",
        "\n",
        "(b) if s<t then Fs ⊆Ft."
      ]
    },
    {
      "cell_type": "markdown",
      "metadata": {
        "id": "OQTQrfr6vBbe",
        "colab_type": "text"
      },
      "source": [
        "**Adapted Process (i.e. in Finance)**"
      ]
    },
    {
      "cell_type": "markdown",
      "metadata": {
        "id": "9azt1mA4u-7j",
        "colab_type": "text"
      },
      "source": [
        "* The share prices of assets in a multiperiod market depend on market scenarios, but evolve in such a way that their values at any time t, being observable at time t, do not depend on the unobservable post-t futures of the scenarios. \n",
        "\n",
        "* Thus, the price process St of a traded asset is **adapted to the natural filtration** (Ft)0≤t≤T defined by (1). \n",
        "\n",
        "* In general, a sequence Xt of random variables is said to be **adapted to a filtration** (Ft)0≤t≤T if, for each t, the random variable Xt is **Ft−measurable**, that is, if all events of the form {ω : Xt(ω) ∈ B}, where **B is a Borel** subset of the real numbers R, are members of the σ−algebra Ft."
      ]
    },
    {
      "cell_type": "markdown",
      "metadata": {
        "id": "BwUUH2X6wVG0",
        "colab_type": "text"
      },
      "source": [
        "**Martingales**"
      ]
    },
    {
      "cell_type": "markdown",
      "metadata": {
        "id": "sehh6I2mwWwe",
        "colab_type": "text"
      },
      "source": [
        "Let (Ω,F,P) be a probability space and (Ft)0≤t≤T or (Ft)0≤t<∞ a filtration by sub- σ−algebras of F. An adapted sequence Xt of integrable random variables is defined to be a\n",
        "\n",
        "* martingale if E(Xt+1|Ft) = Xt ∀t (=for all t).\n",
        "* submartingale if E(Xt+1|Ft) ≥ Xt ∀t.\n",
        "* supermartingale if E(Xt+1|Ft) ≤ Xt ∀t."
      ]
    },
    {
      "cell_type": "markdown",
      "metadata": {
        "id": "IUNBwbRMdmkM",
        "colab_type": "text"
      },
      "source": [
        "**Application**"
      ]
    },
    {
      "cell_type": "markdown",
      "metadata": {
        "id": "CENy9nHrdtXd",
        "colab_type": "text"
      },
      "source": [
        "* The main use of σ-algebras is in the definition of measures; specifically, the collection of those subsets for which a given measure is defined is necessarily a σ-algebra. \n",
        "\n",
        "* This concept is important in mathematical analysis as the **foundation for Lebesgue integration**, and in probability theory, where it is **interpreted as the collection of events which can be assigned probabilities**. \n",
        "\n",
        "* Also, in probability, σ-algebras are pivotal in the definition of conditional expectation.\n",
        "\n",
        "* In statistics, (sub) σ-algebras are needed for the formal mathematical definition of a sufficient statistic, particularly when the statistic is a function or a random process and the notion of conditional density is not applicable.\n"
      ]
    },
    {
      "cell_type": "markdown",
      "metadata": {
        "id": "vX-wXFIoeJSW",
        "colab_type": "text"
      },
      "source": [
        "**Example**"
      ]
    },
    {
      "cell_type": "markdown",
      "metadata": {
        "id": "CfrQqKIQnZtT",
        "colab_type": "text"
      },
      "source": [
        "1. **Minimum**: Sigma Algebra A enthält leere Menge und Grundmenge selbst (kleinste Sigma Algebra die möglich ist): A = {𝜙,X}\n",
        "2. **Maximum**: Sigma Algebra enthält die Potenzmenge (beinhaltet alle Teilmengen von X): A = P(X)\n"
      ]
    },
    {
      "cell_type": "markdown",
      "metadata": {
        "id": "cePEVTIHeLTN",
        "colab_type": "text"
      },
      "source": [
        "* If {A1, A2, A3, …} is a countable partition of X then the **collection of all unions of sets in the partition** (including the empty set) is a σ-algebra.\n",
        "\n",
        "* A more useful example is the set of subsets of the real line formed by starting with all open intervals and adding in all countable unions, countable intersections, and relative complements and continuing this process (by transfinite iteration through all countable ordinals) until the relevant closure properties are achieved - the σ-algebra produced by this process is known as the Borel algebra on the real line, and can also be conceived as the smallest (i.e. \"coarsest\") σ-algebra containing all the open sets, or equivalently containing all the closed sets. It is foundational to measure theory, and therefore modern probability theory, and a related construction known as the Borel hierarchy is of relevance to descriptive set theory."
      ]
    },
    {
      "cell_type": "markdown",
      "metadata": {
        "id": "rrDn8T6K7Bob",
        "colab_type": "text"
      },
      "source": [
        "https://medium.com/towards-artificial-intelligence/what-is-measure-theory-67c281f8a094"
      ]
    }
  ]
}