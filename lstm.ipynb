{
  "nbformat": 4,
  "nbformat_minor": 5,
  "metadata": {
    "environment": {
      "name": "tf2-gpu.2-3.m65",
      "type": "gcloud",
      "uri": "gcr.io/deeplearning-platform-release/tf2-gpu.2-3:m65"
    },
    "kernelspec": {
      "display_name": "Python 3",
      "language": "python",
      "name": "python3"
    },
    "language_info": {
      "codemirror_mode": {
        "name": "ipython",
        "version": 3
      },
      "file_extension": ".py",
      "mimetype": "text/x-python",
      "name": "python",
      "nbconvert_exporter": "python",
      "pygments_lexer": "ipython3",
      "version": "3.7.10"
    },
    "colab": {
      "name": "lstm.ipynb",
      "provenance": [],
      "collapsed_sections": [
        "protected-criterion",
        "right-keyboard",
        "mighty-italic",
        "scientific-joint",
        "exact-immigration",
        "occupational-myanmar",
        "surface-happening"
      ],
      "include_colab_link": true
    }
  },
  "cells": [
    {
      "cell_type": "markdown",
      "metadata": {
        "id": "view-in-github",
        "colab_type": "text"
      },
      "source": [
        "<a href=\"https://colab.research.google.com/github/deltorobarba/machinelearning/blob/master/lstm.ipynb\" target=\"_parent\"><img src=\"https://colab.research.google.com/assets/colab-badge.svg\" alt=\"Open In Colab\"/></a>"
      ]
    },
    {
      "cell_type": "markdown",
      "metadata": {
        "id": "first-twist"
      },
      "source": [
        "# **Insolvenzverfahren**"
      ],
      "id": "first-twist"
    },
    {
      "cell_type": "code",
      "metadata": {
        "colab": {
          "base_uri": "https://localhost:8080/"
        },
        "id": "cardiac-conversion",
        "outputId": "bfc76992-73a2-4298-bfeb-5ff6408c7651"
      },
      "source": [
        "import numpy as np\n",
        "import pandas as pd\n",
        "import seaborn as sns\n",
        "import matplotlib.pyplot as plt\n",
        "from sklearn.preprocessing import MinMaxScaler\n",
        "import tensorflow as tf\n",
        "\n",
        "from tensorflow import keras\n",
        "from tensorflow.keras import layers\n",
        "from keras.models import Sequential\n",
        "from keras.layers import LSTM, Dense\n",
        "\n",
        "print('Tensorflow version %s' % tf.__version__)\n",
        "\n",
        "!pip install --quiet ipython-autotime pandas_gbq\n",
        "%load_ext autotime"
      ],
      "id": "cardiac-conversion",
      "execution_count": null,
      "outputs": [
        {
          "output_type": "stream",
          "text": [
            "Tensorflow version 2.4.1\n",
            "time: 6.75 ms (started: 2021-05-12 19:38:58 +00:00)\n"
          ],
          "name": "stdout"
        }
      ]
    },
    {
      "cell_type": "markdown",
      "metadata": {
        "id": "superb-abraham"
      },
      "source": [
        "## **Load Data**"
      ],
      "id": "superb-abraham"
    },
    {
      "cell_type": "code",
      "metadata": {
        "colab": {
          "base_uri": "https://localhost:8080/",
          "height": 496
        },
        "id": "ideuB7R3E9sS",
        "outputId": "532dae55-579c-4fa1-da75-a59091eb3aa1"
      },
      "source": [
        "url = 'https://raw.githubusercontent.com/deltorobarba/repo/master/sh_unmelt_bq_raw.csv'\n",
        "sh_unmelt_bq_raw = pd.read_csv(url)\n",
        "sh_unmelt_bq_raw = sh_unmelt_bq_raw.sort_values('datum')\n",
        "sh_unmelt_bq_raw.head()"
      ],
      "id": "ideuB7R3E9sS",
      "execution_count": null,
      "outputs": [
        {
          "output_type": "execute_result",
          "data": {
            "text/html": [
              "<div>\n",
              "<style scoped>\n",
              "    .dataframe tbody tr th:only-of-type {\n",
              "        vertical-align: middle;\n",
              "    }\n",
              "\n",
              "    .dataframe tbody tr th {\n",
              "        vertical-align: top;\n",
              "    }\n",
              "\n",
              "    .dataframe thead th {\n",
              "        text-align: right;\n",
              "    }\n",
              "</style>\n",
              "<table border=\"1\" class=\"dataframe\">\n",
              "  <thead>\n",
              "    <tr style=\"text-align: right;\">\n",
              "      <th></th>\n",
              "      <th>datum</th>\n",
              "      <th>Baugewerbe</th>\n",
              "      <th>Bergbau</th>\n",
              "      <th>Dienstleistungen</th>\n",
              "      <th>Energieversorgung</th>\n",
              "      <th>Erziehung</th>\n",
              "      <th>Finanzleistungen</th>\n",
              "      <th>Gastgewerbe</th>\n",
              "      <th>IT</th>\n",
              "      <th>Manufaktur</th>\n",
              "      <th>Sonstiges</th>\n",
              "      <th>Sozialwesen</th>\n",
              "      <th>Verkehr</th>\n",
              "      <th>Wohnungswesen</th>\n",
              "    </tr>\n",
              "  </thead>\n",
              "  <tbody>\n",
              "    <tr>\n",
              "      <th>139</th>\n",
              "      <td>2008-01-01 00:00:00 UTC</td>\n",
              "      <td>15</td>\n",
              "      <td>0</td>\n",
              "      <td>6</td>\n",
              "      <td>1</td>\n",
              "      <td>1</td>\n",
              "      <td>3</td>\n",
              "      <td>8</td>\n",
              "      <td>1</td>\n",
              "      <td>9</td>\n",
              "      <td>5</td>\n",
              "      <td>3</td>\n",
              "      <td>4</td>\n",
              "      <td>0</td>\n",
              "    </tr>\n",
              "    <tr>\n",
              "      <th>23</th>\n",
              "      <td>2008-02-01 00:00:00 UTC</td>\n",
              "      <td>11</td>\n",
              "      <td>0</td>\n",
              "      <td>4</td>\n",
              "      <td>0</td>\n",
              "      <td>0</td>\n",
              "      <td>1</td>\n",
              "      <td>3</td>\n",
              "      <td>1</td>\n",
              "      <td>4</td>\n",
              "      <td>4</td>\n",
              "      <td>6</td>\n",
              "      <td>7</td>\n",
              "      <td>2</td>\n",
              "    </tr>\n",
              "    <tr>\n",
              "      <th>125</th>\n",
              "      <td>2008-03-01 00:00:00 UTC</td>\n",
              "      <td>11</td>\n",
              "      <td>0</td>\n",
              "      <td>4</td>\n",
              "      <td>1</td>\n",
              "      <td>1</td>\n",
              "      <td>1</td>\n",
              "      <td>6</td>\n",
              "      <td>5</td>\n",
              "      <td>3</td>\n",
              "      <td>3</td>\n",
              "      <td>3</td>\n",
              "      <td>6</td>\n",
              "      <td>1</td>\n",
              "    </tr>\n",
              "    <tr>\n",
              "      <th>66</th>\n",
              "      <td>2008-04-01 00:00:00 UTC</td>\n",
              "      <td>22</td>\n",
              "      <td>0</td>\n",
              "      <td>1</td>\n",
              "      <td>0</td>\n",
              "      <td>0</td>\n",
              "      <td>7</td>\n",
              "      <td>5</td>\n",
              "      <td>0</td>\n",
              "      <td>5</td>\n",
              "      <td>2</td>\n",
              "      <td>2</td>\n",
              "      <td>7</td>\n",
              "      <td>1</td>\n",
              "    </tr>\n",
              "    <tr>\n",
              "      <th>67</th>\n",
              "      <td>2008-05-01 00:00:00 UTC</td>\n",
              "      <td>22</td>\n",
              "      <td>0</td>\n",
              "      <td>3</td>\n",
              "      <td>0</td>\n",
              "      <td>0</td>\n",
              "      <td>0</td>\n",
              "      <td>2</td>\n",
              "      <td>2</td>\n",
              "      <td>1</td>\n",
              "      <td>2</td>\n",
              "      <td>2</td>\n",
              "      <td>7</td>\n",
              "      <td>2</td>\n",
              "    </tr>\n",
              "  </tbody>\n",
              "</table>\n",
              "</div>"
            ],
            "text/plain": [
              "                       datum  Baugewerbe  ...  Verkehr  Wohnungswesen\n",
              "139  2008-01-01 00:00:00 UTC          15  ...        4              0\n",
              "23   2008-02-01 00:00:00 UTC          11  ...        7              2\n",
              "125  2008-03-01 00:00:00 UTC          11  ...        6              1\n",
              "66   2008-04-01 00:00:00 UTC          22  ...        7              1\n",
              "67   2008-05-01 00:00:00 UTC          22  ...        7              2\n",
              "\n",
              "[5 rows x 14 columns]"
            ]
          },
          "metadata": {
            "tags": []
          },
          "execution_count": 6
        },
        {
          "output_type": "stream",
          "text": [
            "time: 83.6 ms (started: 2021-05-12 19:41:08 +00:00)\n"
          ],
          "name": "stdout"
        }
      ]
    },
    {
      "cell_type": "code",
      "metadata": {
        "colab": {
          "base_uri": "https://localhost:8080/",
          "height": 436
        },
        "id": "nuclear-ministry",
        "outputId": "e88714e7-56a3-4138-faa2-b47f3f4160e0"
      },
      "source": [
        "dataset = sh_unmelt_bq_raw.copy()\n",
        "dataset = dataset.drop(columns=['Bergbau', 'Dienstleistungen', 'Energieversorgung',\n",
        "                                'Erziehung', 'Finanzleistungen', 'Gastgewerbe',\n",
        "                                'IT', 'Manufaktur', 'Sonstiges',\n",
        "                                'Sozialwesen', 'Verkehr', 'Wohnungswesen'])\n",
        "dataset"
      ],
      "id": "nuclear-ministry",
      "execution_count": null,
      "outputs": [
        {
          "output_type": "execute_result",
          "data": {
            "text/html": [
              "<div>\n",
              "<style scoped>\n",
              "    .dataframe tbody tr th:only-of-type {\n",
              "        vertical-align: middle;\n",
              "    }\n",
              "\n",
              "    .dataframe tbody tr th {\n",
              "        vertical-align: top;\n",
              "    }\n",
              "\n",
              "    .dataframe thead th {\n",
              "        text-align: right;\n",
              "    }\n",
              "</style>\n",
              "<table border=\"1\" class=\"dataframe\">\n",
              "  <thead>\n",
              "    <tr style=\"text-align: right;\">\n",
              "      <th></th>\n",
              "      <th>datum</th>\n",
              "      <th>Baugewerbe</th>\n",
              "    </tr>\n",
              "  </thead>\n",
              "  <tbody>\n",
              "    <tr>\n",
              "      <th>139</th>\n",
              "      <td>2008-01-01 00:00:00 UTC</td>\n",
              "      <td>15</td>\n",
              "    </tr>\n",
              "    <tr>\n",
              "      <th>23</th>\n",
              "      <td>2008-02-01 00:00:00 UTC</td>\n",
              "      <td>11</td>\n",
              "    </tr>\n",
              "    <tr>\n",
              "      <th>125</th>\n",
              "      <td>2008-03-01 00:00:00 UTC</td>\n",
              "      <td>11</td>\n",
              "    </tr>\n",
              "    <tr>\n",
              "      <th>66</th>\n",
              "      <td>2008-04-01 00:00:00 UTC</td>\n",
              "      <td>22</td>\n",
              "    </tr>\n",
              "    <tr>\n",
              "      <th>67</th>\n",
              "      <td>2008-05-01 00:00:00 UTC</td>\n",
              "      <td>22</td>\n",
              "    </tr>\n",
              "    <tr>\n",
              "      <th>...</th>\n",
              "      <td>...</td>\n",
              "      <td>...</td>\n",
              "    </tr>\n",
              "    <tr>\n",
              "      <th>31</th>\n",
              "      <td>2020-04-01 00:00:00 UTC</td>\n",
              "      <td>11</td>\n",
              "    </tr>\n",
              "    <tr>\n",
              "      <th>37</th>\n",
              "      <td>2020-05-01 00:00:00 UTC</td>\n",
              "      <td>12</td>\n",
              "    </tr>\n",
              "    <tr>\n",
              "      <th>3</th>\n",
              "      <td>2020-06-01 00:00:00 UTC</td>\n",
              "      <td>5</td>\n",
              "    </tr>\n",
              "    <tr>\n",
              "      <th>7</th>\n",
              "      <td>2020-07-01 00:00:00 UTC</td>\n",
              "      <td>6</td>\n",
              "    </tr>\n",
              "    <tr>\n",
              "      <th>4</th>\n",
              "      <td>2020-08-01 00:00:00 UTC</td>\n",
              "      <td>5</td>\n",
              "    </tr>\n",
              "  </tbody>\n",
              "</table>\n",
              "<p>152 rows × 2 columns</p>\n",
              "</div>"
            ],
            "text/plain": [
              "                       datum  Baugewerbe\n",
              "139  2008-01-01 00:00:00 UTC          15\n",
              "23   2008-02-01 00:00:00 UTC          11\n",
              "125  2008-03-01 00:00:00 UTC          11\n",
              "66   2008-04-01 00:00:00 UTC          22\n",
              "67   2008-05-01 00:00:00 UTC          22\n",
              "..                       ...         ...\n",
              "31   2020-04-01 00:00:00 UTC          11\n",
              "37   2020-05-01 00:00:00 UTC          12\n",
              "3    2020-06-01 00:00:00 UTC           5\n",
              "7    2020-07-01 00:00:00 UTC           6\n",
              "4    2020-08-01 00:00:00 UTC           5\n",
              "\n",
              "[152 rows x 2 columns]"
            ]
          },
          "metadata": {
            "tags": []
          },
          "execution_count": 7
        },
        {
          "output_type": "stream",
          "text": [
            "time: 21.8 ms (started: 2021-05-12 19:41:17 +00:00)\n"
          ],
          "name": "stdout"
        }
      ]
    },
    {
      "cell_type": "markdown",
      "metadata": {
        "id": "german-hometown"
      },
      "source": [
        "#### **Set input data**"
      ],
      "id": "german-hometown"
    },
    {
      "cell_type": "code",
      "metadata": {
        "colab": {
          "base_uri": "https://localhost:8080/"
        },
        "id": "willing-yahoo",
        "outputId": "66600f7c-e192-45cc-bb3b-0033bdf96899"
      },
      "source": [
        "# Set data\n",
        "data = dataset.copy()\n",
        "\n",
        "# Set seed for reproducibility\n",
        "tf.random.set_seed(7)"
      ],
      "id": "willing-yahoo",
      "execution_count": null,
      "outputs": [
        {
          "output_type": "stream",
          "text": [
            "time: 1.66 ms (started: 2021-05-12 19:41:33 +00:00)\n"
          ],
          "name": "stdout"
        }
      ]
    },
    {
      "cell_type": "markdown",
      "metadata": {
        "id": "marked-hormone"
      },
      "source": [
        "#### **Normalize input data**"
      ],
      "id": "marked-hormone"
    },
    {
      "cell_type": "code",
      "metadata": {
        "colab": {
          "base_uri": "https://localhost:8080/",
          "height": 341
        },
        "id": "attempted-arnold",
        "outputId": "0931b9c4-3946-4b86-8871-7528db5cf67b"
      },
      "source": [
        "scaler = MinMaxScaler(feature_range=(0,1))\n",
        "data = scaler.fit_transform(data)"
      ],
      "id": "attempted-arnold",
      "execution_count": null,
      "outputs": [
        {
          "output_type": "error",
          "ename": "ValueError",
          "evalue": "ignored",
          "traceback": [
            "\u001b[0;31m---------------------------------------------------------------------------\u001b[0m",
            "\u001b[0;31mValueError\u001b[0m                                Traceback (most recent call last)",
            "\u001b[0;32m<ipython-input-9-9eaf346150df>\u001b[0m in \u001b[0;36m<module>\u001b[0;34m()\u001b[0m\n\u001b[1;32m      1\u001b[0m \u001b[0mscaler\u001b[0m \u001b[0;34m=\u001b[0m \u001b[0mMinMaxScaler\u001b[0m\u001b[0;34m(\u001b[0m\u001b[0mfeature_range\u001b[0m\u001b[0;34m=\u001b[0m\u001b[0;34m(\u001b[0m\u001b[0;36m0\u001b[0m\u001b[0;34m,\u001b[0m\u001b[0;36m1\u001b[0m\u001b[0;34m)\u001b[0m\u001b[0;34m)\u001b[0m\u001b[0;34m\u001b[0m\u001b[0;34m\u001b[0m\u001b[0m\n\u001b[0;32m----> 2\u001b[0;31m \u001b[0mdata\u001b[0m \u001b[0;34m=\u001b[0m \u001b[0mscaler\u001b[0m\u001b[0;34m.\u001b[0m\u001b[0mfit_transform\u001b[0m\u001b[0;34m(\u001b[0m\u001b[0mdata\u001b[0m\u001b[0;34m)\u001b[0m\u001b[0;34m\u001b[0m\u001b[0;34m\u001b[0m\u001b[0m\n\u001b[0m",
            "\u001b[0;32m/usr/local/lib/python3.7/dist-packages/sklearn/base.py\u001b[0m in \u001b[0;36mfit_transform\u001b[0;34m(self, X, y, **fit_params)\u001b[0m\n\u001b[1;32m    569\u001b[0m         \u001b[0;32mif\u001b[0m \u001b[0my\u001b[0m \u001b[0;32mis\u001b[0m \u001b[0;32mNone\u001b[0m\u001b[0;34m:\u001b[0m\u001b[0;34m\u001b[0m\u001b[0;34m\u001b[0m\u001b[0m\n\u001b[1;32m    570\u001b[0m             \u001b[0;31m# fit method of arity 1 (unsupervised transformation)\u001b[0m\u001b[0;34m\u001b[0m\u001b[0;34m\u001b[0m\u001b[0;34m\u001b[0m\u001b[0m\n\u001b[0;32m--> 571\u001b[0;31m             \u001b[0;32mreturn\u001b[0m \u001b[0mself\u001b[0m\u001b[0;34m.\u001b[0m\u001b[0mfit\u001b[0m\u001b[0;34m(\u001b[0m\u001b[0mX\u001b[0m\u001b[0;34m,\u001b[0m \u001b[0;34m**\u001b[0m\u001b[0mfit_params\u001b[0m\u001b[0;34m)\u001b[0m\u001b[0;34m.\u001b[0m\u001b[0mtransform\u001b[0m\u001b[0;34m(\u001b[0m\u001b[0mX\u001b[0m\u001b[0;34m)\u001b[0m\u001b[0;34m\u001b[0m\u001b[0;34m\u001b[0m\u001b[0m\n\u001b[0m\u001b[1;32m    572\u001b[0m         \u001b[0;32melse\u001b[0m\u001b[0;34m:\u001b[0m\u001b[0;34m\u001b[0m\u001b[0;34m\u001b[0m\u001b[0m\n\u001b[1;32m    573\u001b[0m             \u001b[0;31m# fit method of arity 2 (supervised transformation)\u001b[0m\u001b[0;34m\u001b[0m\u001b[0;34m\u001b[0m\u001b[0;34m\u001b[0m\u001b[0m\n",
            "\u001b[0;32m/usr/local/lib/python3.7/dist-packages/sklearn/preprocessing/_data.py\u001b[0m in \u001b[0;36mfit\u001b[0;34m(self, X, y)\u001b[0m\n\u001b[1;32m    337\u001b[0m         \u001b[0;31m# Reset internal state before fitting\u001b[0m\u001b[0;34m\u001b[0m\u001b[0;34m\u001b[0m\u001b[0;34m\u001b[0m\u001b[0m\n\u001b[1;32m    338\u001b[0m         \u001b[0mself\u001b[0m\u001b[0;34m.\u001b[0m\u001b[0m_reset\u001b[0m\u001b[0;34m(\u001b[0m\u001b[0;34m)\u001b[0m\u001b[0;34m\u001b[0m\u001b[0;34m\u001b[0m\u001b[0m\n\u001b[0;32m--> 339\u001b[0;31m         \u001b[0;32mreturn\u001b[0m \u001b[0mself\u001b[0m\u001b[0;34m.\u001b[0m\u001b[0mpartial_fit\u001b[0m\u001b[0;34m(\u001b[0m\u001b[0mX\u001b[0m\u001b[0;34m,\u001b[0m \u001b[0my\u001b[0m\u001b[0;34m)\u001b[0m\u001b[0;34m\u001b[0m\u001b[0;34m\u001b[0m\u001b[0m\n\u001b[0m\u001b[1;32m    340\u001b[0m \u001b[0;34m\u001b[0m\u001b[0m\n\u001b[1;32m    341\u001b[0m     \u001b[0;32mdef\u001b[0m \u001b[0mpartial_fit\u001b[0m\u001b[0;34m(\u001b[0m\u001b[0mself\u001b[0m\u001b[0;34m,\u001b[0m \u001b[0mX\u001b[0m\u001b[0;34m,\u001b[0m \u001b[0my\u001b[0m\u001b[0;34m=\u001b[0m\u001b[0;32mNone\u001b[0m\u001b[0;34m)\u001b[0m\u001b[0;34m:\u001b[0m\u001b[0;34m\u001b[0m\u001b[0;34m\u001b[0m\u001b[0m\n",
            "\u001b[0;32m/usr/local/lib/python3.7/dist-packages/sklearn/preprocessing/_data.py\u001b[0m in \u001b[0;36mpartial_fit\u001b[0;34m(self, X, y)\u001b[0m\n\u001b[1;32m    371\u001b[0m         X = check_array(X,\n\u001b[1;32m    372\u001b[0m                         \u001b[0mestimator\u001b[0m\u001b[0;34m=\u001b[0m\u001b[0mself\u001b[0m\u001b[0;34m,\u001b[0m \u001b[0mdtype\u001b[0m\u001b[0;34m=\u001b[0m\u001b[0mFLOAT_DTYPES\u001b[0m\u001b[0;34m,\u001b[0m\u001b[0;34m\u001b[0m\u001b[0;34m\u001b[0m\u001b[0m\n\u001b[0;32m--> 373\u001b[0;31m                         force_all_finite=\"allow-nan\")\n\u001b[0m\u001b[1;32m    374\u001b[0m \u001b[0;34m\u001b[0m\u001b[0m\n\u001b[1;32m    375\u001b[0m         \u001b[0mdata_min\u001b[0m \u001b[0;34m=\u001b[0m \u001b[0mnp\u001b[0m\u001b[0;34m.\u001b[0m\u001b[0mnanmin\u001b[0m\u001b[0;34m(\u001b[0m\u001b[0mX\u001b[0m\u001b[0;34m,\u001b[0m \u001b[0maxis\u001b[0m\u001b[0;34m=\u001b[0m\u001b[0;36m0\u001b[0m\u001b[0;34m)\u001b[0m\u001b[0;34m\u001b[0m\u001b[0;34m\u001b[0m\u001b[0m\n",
            "\u001b[0;32m/usr/local/lib/python3.7/dist-packages/sklearn/utils/validation.py\u001b[0m in \u001b[0;36mcheck_array\u001b[0;34m(array, accept_sparse, accept_large_sparse, dtype, order, copy, force_all_finite, ensure_2d, allow_nd, ensure_min_samples, ensure_min_features, warn_on_dtype, estimator)\u001b[0m\n\u001b[1;32m    529\u001b[0m                     \u001b[0marray\u001b[0m \u001b[0;34m=\u001b[0m \u001b[0marray\u001b[0m\u001b[0;34m.\u001b[0m\u001b[0mastype\u001b[0m\u001b[0;34m(\u001b[0m\u001b[0mdtype\u001b[0m\u001b[0;34m,\u001b[0m \u001b[0mcasting\u001b[0m\u001b[0;34m=\u001b[0m\u001b[0;34m\"unsafe\"\u001b[0m\u001b[0;34m,\u001b[0m \u001b[0mcopy\u001b[0m\u001b[0;34m=\u001b[0m\u001b[0;32mFalse\u001b[0m\u001b[0;34m)\u001b[0m\u001b[0;34m\u001b[0m\u001b[0;34m\u001b[0m\u001b[0m\n\u001b[1;32m    530\u001b[0m                 \u001b[0;32melse\u001b[0m\u001b[0;34m:\u001b[0m\u001b[0;34m\u001b[0m\u001b[0;34m\u001b[0m\u001b[0m\n\u001b[0;32m--> 531\u001b[0;31m                     \u001b[0marray\u001b[0m \u001b[0;34m=\u001b[0m \u001b[0mnp\u001b[0m\u001b[0;34m.\u001b[0m\u001b[0masarray\u001b[0m\u001b[0;34m(\u001b[0m\u001b[0marray\u001b[0m\u001b[0;34m,\u001b[0m \u001b[0morder\u001b[0m\u001b[0;34m=\u001b[0m\u001b[0morder\u001b[0m\u001b[0;34m,\u001b[0m \u001b[0mdtype\u001b[0m\u001b[0;34m=\u001b[0m\u001b[0mdtype\u001b[0m\u001b[0;34m)\u001b[0m\u001b[0;34m\u001b[0m\u001b[0;34m\u001b[0m\u001b[0m\n\u001b[0m\u001b[1;32m    532\u001b[0m             \u001b[0;32mexcept\u001b[0m \u001b[0mComplexWarning\u001b[0m\u001b[0;34m:\u001b[0m\u001b[0;34m\u001b[0m\u001b[0;34m\u001b[0m\u001b[0m\n\u001b[1;32m    533\u001b[0m                 raise ValueError(\"Complex data not supported\\n\"\n",
            "\u001b[0;32m/usr/local/lib/python3.7/dist-packages/numpy/core/_asarray.py\u001b[0m in \u001b[0;36masarray\u001b[0;34m(a, dtype, order)\u001b[0m\n\u001b[1;32m     81\u001b[0m \u001b[0;34m\u001b[0m\u001b[0m\n\u001b[1;32m     82\u001b[0m     \"\"\"\n\u001b[0;32m---> 83\u001b[0;31m     \u001b[0;32mreturn\u001b[0m \u001b[0marray\u001b[0m\u001b[0;34m(\u001b[0m\u001b[0ma\u001b[0m\u001b[0;34m,\u001b[0m \u001b[0mdtype\u001b[0m\u001b[0;34m,\u001b[0m \u001b[0mcopy\u001b[0m\u001b[0;34m=\u001b[0m\u001b[0;32mFalse\u001b[0m\u001b[0;34m,\u001b[0m \u001b[0morder\u001b[0m\u001b[0;34m=\u001b[0m\u001b[0morder\u001b[0m\u001b[0;34m)\u001b[0m\u001b[0;34m\u001b[0m\u001b[0;34m\u001b[0m\u001b[0m\n\u001b[0m\u001b[1;32m     84\u001b[0m \u001b[0;34m\u001b[0m\u001b[0m\n\u001b[1;32m     85\u001b[0m \u001b[0;34m\u001b[0m\u001b[0m\n",
            "\u001b[0;32m/usr/local/lib/python3.7/dist-packages/pandas/core/generic.py\u001b[0m in \u001b[0;36m__array__\u001b[0;34m(self, dtype)\u001b[0m\n\u001b[1;32m   1779\u001b[0m \u001b[0;34m\u001b[0m\u001b[0m\n\u001b[1;32m   1780\u001b[0m     \u001b[0;32mdef\u001b[0m \u001b[0m__array__\u001b[0m\u001b[0;34m(\u001b[0m\u001b[0mself\u001b[0m\u001b[0;34m,\u001b[0m \u001b[0mdtype\u001b[0m\u001b[0;34m=\u001b[0m\u001b[0;32mNone\u001b[0m\u001b[0;34m)\u001b[0m \u001b[0;34m->\u001b[0m \u001b[0mnp\u001b[0m\u001b[0;34m.\u001b[0m\u001b[0mndarray\u001b[0m\u001b[0;34m:\u001b[0m\u001b[0;34m\u001b[0m\u001b[0;34m\u001b[0m\u001b[0m\n\u001b[0;32m-> 1781\u001b[0;31m         \u001b[0;32mreturn\u001b[0m \u001b[0mnp\u001b[0m\u001b[0;34m.\u001b[0m\u001b[0masarray\u001b[0m\u001b[0;34m(\u001b[0m\u001b[0mself\u001b[0m\u001b[0;34m.\u001b[0m\u001b[0m_values\u001b[0m\u001b[0;34m,\u001b[0m \u001b[0mdtype\u001b[0m\u001b[0;34m=\u001b[0m\u001b[0mdtype\u001b[0m\u001b[0;34m)\u001b[0m\u001b[0;34m\u001b[0m\u001b[0;34m\u001b[0m\u001b[0m\n\u001b[0m\u001b[1;32m   1782\u001b[0m \u001b[0;34m\u001b[0m\u001b[0m\n\u001b[1;32m   1783\u001b[0m     \u001b[0;32mdef\u001b[0m \u001b[0m__array_wrap__\u001b[0m\u001b[0;34m(\u001b[0m\u001b[0mself\u001b[0m\u001b[0;34m,\u001b[0m \u001b[0mresult\u001b[0m\u001b[0;34m,\u001b[0m \u001b[0mcontext\u001b[0m\u001b[0;34m=\u001b[0m\u001b[0;32mNone\u001b[0m\u001b[0;34m)\u001b[0m\u001b[0;34m:\u001b[0m\u001b[0;34m\u001b[0m\u001b[0;34m\u001b[0m\u001b[0m\n",
            "\u001b[0;32m/usr/local/lib/python3.7/dist-packages/numpy/core/_asarray.py\u001b[0m in \u001b[0;36masarray\u001b[0;34m(a, dtype, order)\u001b[0m\n\u001b[1;32m     81\u001b[0m \u001b[0;34m\u001b[0m\u001b[0m\n\u001b[1;32m     82\u001b[0m     \"\"\"\n\u001b[0;32m---> 83\u001b[0;31m     \u001b[0;32mreturn\u001b[0m \u001b[0marray\u001b[0m\u001b[0;34m(\u001b[0m\u001b[0ma\u001b[0m\u001b[0;34m,\u001b[0m \u001b[0mdtype\u001b[0m\u001b[0;34m,\u001b[0m \u001b[0mcopy\u001b[0m\u001b[0;34m=\u001b[0m\u001b[0;32mFalse\u001b[0m\u001b[0;34m,\u001b[0m \u001b[0morder\u001b[0m\u001b[0;34m=\u001b[0m\u001b[0morder\u001b[0m\u001b[0;34m)\u001b[0m\u001b[0;34m\u001b[0m\u001b[0;34m\u001b[0m\u001b[0m\n\u001b[0m\u001b[1;32m     84\u001b[0m \u001b[0;34m\u001b[0m\u001b[0m\n\u001b[1;32m     85\u001b[0m \u001b[0;34m\u001b[0m\u001b[0m\n",
            "\u001b[0;31mValueError\u001b[0m: could not convert string to float: '2008-01-01 00:00:00 UTC'"
          ]
        },
        {
          "output_type": "stream",
          "text": [
            "time: 300 ms (started: 2021-05-12 19:41:35 +00:00)\n"
          ],
          "name": "stdout"
        }
      ]
    },
    {
      "cell_type": "code",
      "metadata": {
        "id": "excellent-blowing",
        "outputId": "3a94cb77-8cb0-4432-ac19-c874aa0c6845"
      },
      "source": [
        "print(dataset.shape)\n",
        "# print(dataset.dtype)"
      ],
      "id": "excellent-blowing",
      "execution_count": null,
      "outputs": [
        {
          "output_type": "stream",
          "text": [
            "(152, 1)\n",
            "time: 1.65 ms (started: 2021-05-12 13:20:52 +00:00)\n"
          ],
          "name": "stdout"
        }
      ]
    },
    {
      "cell_type": "code",
      "metadata": {
        "id": "lesser-correlation",
        "outputId": "10d29994-f9a2-4700-eeb6-fd33983639cc"
      },
      "source": [
        "# Display dataset\n",
        "data [0:10] # Display first 10 values"
      ],
      "id": "lesser-correlation",
      "execution_count": null,
      "outputs": [
        {
          "output_type": "execute_result",
          "data": {
            "text/plain": [
              "array([[0.6 ],\n",
              "       [0.44],\n",
              "       [0.44],\n",
              "       [0.88],\n",
              "       [0.88],\n",
              "       [0.52],\n",
              "       [0.6 ],\n",
              "       [0.52],\n",
              "       [0.48],\n",
              "       [0.52]])"
            ]
          },
          "metadata": {
            "tags": []
          },
          "execution_count": 341
        },
        {
          "output_type": "stream",
          "text": [
            "time: 2.72 ms (started: 2021-05-12 13:20:52 +00:00)\n"
          ],
          "name": "stdout"
        }
      ]
    },
    {
      "cell_type": "markdown",
      "metadata": {
        "id": "fantastic-occasions"
      },
      "source": [
        "#### **Train & Test Split**"
      ],
      "id": "fantastic-occasions"
    },
    {
      "cell_type": "code",
      "metadata": {
        "id": "romantic-particle",
        "outputId": "280e5ee7-18aa-4a0c-aa81-5d83922fd79f"
      },
      "source": [
        "# Train & Test Split in % of complete dataset\n",
        "split = 0.8\n",
        "train_size = int(len(data) * split)\n",
        "test_size = len(dataset) - train_size\n",
        "train, test = data[0:train_size,:], data[train_size:len(dataset),:]"
      ],
      "id": "romantic-particle",
      "execution_count": null,
      "outputs": [
        {
          "output_type": "stream",
          "text": [
            "time: 701 µs (started: 2021-05-12 13:20:52 +00:00)\n"
          ],
          "name": "stdout"
        }
      ]
    },
    {
      "cell_type": "code",
      "metadata": {
        "id": "numerical-walnut",
        "outputId": "ae9c6906-4dd9-42e3-fc1a-72f8643b22b5"
      },
      "source": [
        "train [0:10] # Display first 10 values"
      ],
      "id": "numerical-walnut",
      "execution_count": null,
      "outputs": [
        {
          "output_type": "execute_result",
          "data": {
            "text/plain": [
              "array([[0.6 ],\n",
              "       [0.44],\n",
              "       [0.44],\n",
              "       [0.88],\n",
              "       [0.88],\n",
              "       [0.52],\n",
              "       [0.6 ],\n",
              "       [0.52],\n",
              "       [0.48],\n",
              "       [0.52]])"
            ]
          },
          "metadata": {
            "tags": []
          },
          "execution_count": 343
        },
        {
          "output_type": "stream",
          "text": [
            "time: 2.96 ms (started: 2021-05-12 13:20:52 +00:00)\n"
          ],
          "name": "stdout"
        }
      ]
    },
    {
      "cell_type": "code",
      "metadata": {
        "id": "static-badge",
        "outputId": "14ec91c8-4f0d-4ed3-cb68-b7a88c366c86"
      },
      "source": [
        "test [0:10] # Display first 10 values"
      ],
      "id": "static-badge",
      "execution_count": null,
      "outputs": [
        {
          "output_type": "execute_result",
          "data": {
            "text/plain": [
              "array([[0.52],\n",
              "       [0.24],\n",
              "       [0.44],\n",
              "       [0.32],\n",
              "       [0.6 ],\n",
              "       [0.2 ],\n",
              "       [0.6 ],\n",
              "       [0.32],\n",
              "       [0.28],\n",
              "       [0.48]])"
            ]
          },
          "metadata": {
            "tags": []
          },
          "execution_count": 344
        },
        {
          "output_type": "stream",
          "text": [
            "time: 2.21 ms (started: 2021-05-12 13:20:52 +00:00)\n"
          ],
          "name": "stdout"
        }
      ]
    },
    {
      "cell_type": "markdown",
      "metadata": {
        "id": "applied-parallel"
      },
      "source": [
        "Now train & test data have been separated. \n",
        "\n",
        "We need to divide by feature input (X) and prediction variable (Y).\n",
        "\n",
        "For both train and test dataset"
      ],
      "id": "applied-parallel"
    },
    {
      "cell_type": "markdown",
      "metadata": {
        "id": "protected-criterion"
      },
      "source": [
        "#### **Window & Reshape**"
      ],
      "id": "protected-criterion"
    },
    {
      "cell_type": "code",
      "metadata": {
        "id": "compliant-robert",
        "outputId": "e8d89c13-fcb8-44ea-dc67-99676fb466e1"
      },
      "source": [
        "window = 3 # Use (t), (t-1) and (t-2) as input variables X\n",
        "features = 1 # we have only one time series"
      ],
      "id": "compliant-robert",
      "execution_count": null,
      "outputs": [
        {
          "output_type": "stream",
          "text": [
            "time: 442 µs (started: 2021-05-12 13:20:53 +00:00)\n"
          ],
          "name": "stdout"
        }
      ]
    },
    {
      "cell_type": "code",
      "metadata": {
        "id": "limited-airport",
        "outputId": "06578e27-a46b-4384-f232-5a6cae7a8699"
      },
      "source": [
        "# Convert an array of values into a dataset matrix\n",
        "def create_dataset(data, window=window):\n",
        "    dataX, dataY = [], []\n",
        "    for i in range(len(data)-window-1):\n",
        "        a = data[i:(i+window), 0]\n",
        "        dataX.append(a)\n",
        "        dataY.append(data[i + window, 0])\n",
        "    return np.array(dataX), np.array(dataY)\n",
        "\n",
        "# X is input data = value (at t, and t-1, t-2, depending on window size)\n",
        "# Y is target data = value at t+1\n",
        "# Each is additionally divided into train and test set"
      ],
      "id": "limited-airport",
      "execution_count": null,
      "outputs": [
        {
          "output_type": "stream",
          "text": [
            "time: 831 µs (started: 2021-05-12 13:20:53 +00:00)\n"
          ],
          "name": "stdout"
        }
      ]
    },
    {
      "cell_type": "code",
      "metadata": {
        "id": "numerical-invention",
        "outputId": "abe94e27-2009-4a80-fcfb-c2ba4778ea5b"
      },
      "source": [
        "# Reshape into X=t and Y=t+1 and get as arrays\n",
        "trainX, trainY = create_dataset(train, window)\n",
        "testX, testY = create_dataset(test, window)"
      ],
      "id": "numerical-invention",
      "execution_count": null,
      "outputs": [
        {
          "output_type": "stream",
          "text": [
            "time: 844 µs (started: 2021-05-12 13:20:53 +00:00)\n"
          ],
          "name": "stdout"
        }
      ]
    },
    {
      "cell_type": "code",
      "metadata": {
        "id": "allied-pavilion",
        "outputId": "efb208ca-d4e5-4ed6-d8a0-6a01c0821ab1"
      },
      "source": [
        "print(trainX.shape)"
      ],
      "id": "allied-pavilion",
      "execution_count": null,
      "outputs": [
        {
          "output_type": "stream",
          "text": [
            "(117, 3)\n",
            "time: 588 µs (started: 2021-05-12 13:20:53 +00:00)\n"
          ],
          "name": "stdout"
        }
      ]
    },
    {
      "cell_type": "code",
      "metadata": {
        "id": "endless-chile",
        "outputId": "fc69ea93-cc14-4988-f2e2-c59943dc9913"
      },
      "source": [
        "print(trainY.shape)"
      ],
      "id": "endless-chile",
      "execution_count": null,
      "outputs": [
        {
          "output_type": "stream",
          "text": [
            "(117,)\n",
            "time: 1.15 ms (started: 2021-05-12 13:20:54 +00:00)\n"
          ],
          "name": "stdout"
        }
      ]
    },
    {
      "cell_type": "code",
      "metadata": {
        "id": "separated-bankruptcy",
        "outputId": "4feae112-0220-436a-9307-3d287eca870c"
      },
      "source": [
        "# X input has 3 (= window size) values at each step\n",
        "trainX [0:10] # Display first 10 values"
      ],
      "id": "separated-bankruptcy",
      "execution_count": null,
      "outputs": [
        {
          "output_type": "execute_result",
          "data": {
            "text/plain": [
              "array([[0.6 , 0.44, 0.44],\n",
              "       [0.44, 0.44, 0.88],\n",
              "       [0.44, 0.88, 0.88],\n",
              "       [0.88, 0.88, 0.52],\n",
              "       [0.88, 0.52, 0.6 ],\n",
              "       [0.52, 0.6 , 0.52],\n",
              "       [0.6 , 0.52, 0.48],\n",
              "       [0.52, 0.48, 0.52],\n",
              "       [0.48, 0.52, 0.84],\n",
              "       [0.52, 0.84, 0.52]])"
            ]
          },
          "metadata": {
            "tags": []
          },
          "execution_count": 350
        },
        {
          "output_type": "stream",
          "text": [
            "time: 2.93 ms (started: 2021-05-12 13:20:54 +00:00)\n"
          ],
          "name": "stdout"
        }
      ]
    },
    {
      "cell_type": "code",
      "metadata": {
        "id": "colored-organization",
        "outputId": "b6b161e1-08ac-41e6-ad92-0bed1de58682"
      },
      "source": [
        "# Y output has here only one value (t+1) at each step\n",
        "trainY"
      ],
      "id": "colored-organization",
      "execution_count": null,
      "outputs": [
        {
          "output_type": "execute_result",
          "data": {
            "text/plain": [
              "array([0.88, 0.88, 0.52, 0.6 , 0.52, 0.48, 0.52, 0.84, 0.52, 0.64, 0.96,\n",
              "       0.6 , 0.6 , 0.72, 0.64, 0.52, 0.6 , 0.6 , 0.2 , 0.64, 0.44, 0.32,\n",
              "       0.52, 0.84, 0.64, 0.72, 0.48, 0.56, 1.  , 0.48, 0.6 , 0.48, 0.56,\n",
              "       0.44, 0.52, 0.44, 0.64, 0.64, 0.92, 0.6 , 0.44, 0.44, 0.4 , 0.68,\n",
              "       0.48, 0.68, 0.6 , 0.48, 0.64, 0.68, 0.48, 0.48, 0.4 , 0.64, 0.32,\n",
              "       0.36, 0.76, 0.36, 0.28, 0.44, 0.44, 0.72, 0.24, 0.36, 0.6 , 0.36,\n",
              "       0.52, 0.76, 0.64, 0.6 , 0.44, 0.36, 0.4 , 0.4 , 0.32, 0.32, 0.48,\n",
              "       0.32, 0.16, 0.36, 0.44, 0.52, 0.  , 0.6 , 0.24, 0.24, 0.56, 0.48,\n",
              "       0.56, 0.52, 0.4 , 0.52, 0.48, 0.24, 0.24, 0.44, 0.28, 0.56, 0.64,\n",
              "       0.52, 0.44, 0.52, 0.4 , 0.68, 0.24, 0.52, 0.32, 0.52, 0.76, 0.36,\n",
              "       0.6 , 0.6 , 0.36, 0.48, 0.48, 0.56, 0.28])"
            ]
          },
          "metadata": {
            "tags": []
          },
          "execution_count": 351
        },
        {
          "output_type": "stream",
          "text": [
            "time: 4.31 ms (started: 2021-05-12 13:20:54 +00:00)\n"
          ],
          "name": "stdout"
        }
      ]
    },
    {
      "cell_type": "code",
      "metadata": {
        "id": "blank-sheep",
        "outputId": "2dc97d6a-abb3-4baa-fc72-6cc9d8bdd20b"
      },
      "source": [
        "trainX.shape[0]"
      ],
      "id": "blank-sheep",
      "execution_count": null,
      "outputs": [
        {
          "output_type": "execute_result",
          "data": {
            "text/plain": [
              "117"
            ]
          },
          "metadata": {
            "tags": []
          },
          "execution_count": 352
        },
        {
          "output_type": "stream",
          "text": [
            "time: 1.91 ms (started: 2021-05-12 13:20:54 +00:00)\n"
          ],
          "name": "stdout"
        }
      ]
    },
    {
      "cell_type": "code",
      "metadata": {
        "id": "polished-ballet",
        "outputId": "cc739e1e-471f-4c76-ebe9-3dae0eff6d91"
      },
      "source": [
        "trainX.shape[1]"
      ],
      "id": "polished-ballet",
      "execution_count": null,
      "outputs": [
        {
          "output_type": "execute_result",
          "data": {
            "text/plain": [
              "3"
            ]
          },
          "metadata": {
            "tags": []
          },
          "execution_count": 353
        },
        {
          "output_type": "stream",
          "text": [
            "time: 2.38 ms (started: 2021-05-12 13:20:54 +00:00)\n"
          ],
          "name": "stdout"
        }
      ]
    },
    {
      "cell_type": "markdown",
      "metadata": {
        "id": "right-keyboard"
      },
      "source": [
        "#### **Reshape Data Format for LSTM**"
      ],
      "id": "right-keyboard"
    },
    {
      "cell_type": "code",
      "metadata": {
        "id": "changing-hardware",
        "outputId": "0996611b-0be2-4395-e55b-5034d4693454"
      },
      "source": [
        "# Reshape Data Format for LSTM (simple model)\n",
        "\n",
        "# Data is in shape **[samples, features]**. LSTM expects **[samples, time steps, features]**\n",
        "# Reminder 2D array: shape (n,m), n [0] = rows (time steps), m [1] = column(s)\n",
        "# Shape: First Block: t, t+1, t+2. Second: t+1, t+2, t+3. Third: t+2, t+3, t+4.\n",
        "# Approach 1: Use past observations as separate input features =(trainX.shape[0], features, trainX.shape[1])\n",
        "\n",
        "trainX = np.reshape(trainX, (trainX.shape[0], features, trainX.shape[1]))\n",
        "testX = np.reshape(testX, (testX.shape[0], features, testX.shape[1]))"
      ],
      "id": "changing-hardware",
      "execution_count": null,
      "outputs": [
        {
          "output_type": "stream",
          "text": [
            "time: 912 µs (started: 2021-05-12 13:20:55 +00:00)\n"
          ],
          "name": "stdout"
        }
      ]
    },
    {
      "cell_type": "code",
      "metadata": {
        "id": "atmospheric-camel",
        "outputId": "dad32825-f82e-4ff2-b2ff-7246b2d0e856"
      },
      "source": [
        "# Approach 2: Use past observations as time steps of the one input feature\n",
        "\n",
        "# trainX = tf.reshape(trainX, (trainX.shape[0], trainX.shape[1], features))\n",
        "# testX = tf.reshape(testX, (testX.shape[0], testX.shape[1], features))\n",
        "# trainX"
      ],
      "id": "atmospheric-camel",
      "execution_count": null,
      "outputs": [
        {
          "output_type": "stream",
          "text": [
            "time: 290 µs (started: 2021-05-12 13:20:55 +00:00)\n"
          ],
          "name": "stdout"
        }
      ]
    },
    {
      "cell_type": "code",
      "metadata": {
        "id": "unlikely-brunswick",
        "outputId": "92fc8a9c-ba29-4664-a9cd-cbce8d639d2c"
      },
      "source": [
        "print(trainX.shape)"
      ],
      "id": "unlikely-brunswick",
      "execution_count": null,
      "outputs": [
        {
          "output_type": "stream",
          "text": [
            "(117, 1, 3)\n",
            "time: 445 µs (started: 2021-05-12 13:20:55 +00:00)\n"
          ],
          "name": "stdout"
        }
      ]
    },
    {
      "cell_type": "code",
      "metadata": {
        "id": "precious-jesus",
        "outputId": "5a6abef4-d126-4ba8-97f5-b2fbb3cde165"
      },
      "source": [
        "trainX [0:10] # Display first 10 values"
      ],
      "id": "precious-jesus",
      "execution_count": null,
      "outputs": [
        {
          "output_type": "execute_result",
          "data": {
            "text/plain": [
              "array([[[0.6 , 0.44, 0.44]],\n",
              "\n",
              "       [[0.44, 0.44, 0.88]],\n",
              "\n",
              "       [[0.44, 0.88, 0.88]],\n",
              "\n",
              "       [[0.88, 0.88, 0.52]],\n",
              "\n",
              "       [[0.88, 0.52, 0.6 ]],\n",
              "\n",
              "       [[0.52, 0.6 , 0.52]],\n",
              "\n",
              "       [[0.6 , 0.52, 0.48]],\n",
              "\n",
              "       [[0.52, 0.48, 0.52]],\n",
              "\n",
              "       [[0.48, 0.52, 0.84]],\n",
              "\n",
              "       [[0.52, 0.84, 0.52]]])"
            ]
          },
          "metadata": {
            "tags": []
          },
          "execution_count": 357
        },
        {
          "output_type": "stream",
          "text": [
            "time: 2.76 ms (started: 2021-05-12 13:20:55 +00:00)\n"
          ],
          "name": "stdout"
        }
      ]
    },
    {
      "cell_type": "code",
      "metadata": {
        "id": "equal-intervention",
        "outputId": "e84229d0-e9e3-4bf2-d3a1-a72a12ec31e9"
      },
      "source": [
        "print(testX.shape)"
      ],
      "id": "equal-intervention",
      "execution_count": null,
      "outputs": [
        {
          "output_type": "stream",
          "text": [
            "(27, 1, 3)\n",
            "time: 647 µs (started: 2021-05-12 13:20:55 +00:00)\n"
          ],
          "name": "stdout"
        }
      ]
    },
    {
      "cell_type": "code",
      "metadata": {
        "id": "enabling-lease",
        "outputId": "5f46e464-7b7a-4b7b-edef-4cb7ad0f6011"
      },
      "source": [
        "# Set Hyperparameter\n",
        "optimizer = tf.keras.optimizers.Adam(0.0001)\n",
        "loss = 'mean_squared_error'\n",
        "activation = 'relu'\n",
        "epochs = 10\n",
        "verbose = 1\n",
        "units = 10 # internal LSTM units\n",
        "repeat = 1"
      ],
      "id": "enabling-lease",
      "execution_count": null,
      "outputs": [
        {
          "output_type": "stream",
          "text": [
            "time: 678 µs (started: 2021-05-12 13:20:56 +00:00)\n"
          ],
          "name": "stdout"
        }
      ]
    },
    {
      "cell_type": "code",
      "metadata": {
        "id": "virgin-license",
        "outputId": "9ef97208-fe67-4626-cbad-4988bd34511f"
      },
      "source": [
        "model = keras.Sequential(name=\"my_sequential\")\n",
        "\n",
        "# https://www.tensorflow.org/api_docs/python/tf/keras/layers/LSTM\n",
        "\n",
        "# Add a LSTM layer with internal units.\n",
        "model.add(layers.LSTM(units, input_shape=(1, window), activation=activation, name=\"layer1\"))\n",
        "\n",
        "# Add a Dense layer with 10 units.\n",
        "model.add(layers.Dense(1, name=\"layer2\"))\n",
        "\n",
        "# Call model on a test input\n",
        "trainY = model(trainX)"
      ],
      "id": "virgin-license",
      "execution_count": null,
      "outputs": [
        {
          "output_type": "stream",
          "text": [
            "time: 76.8 ms (started: 2021-05-12 13:20:56 +00:00)\n"
          ],
          "name": "stdout"
        }
      ]
    },
    {
      "cell_type": "code",
      "metadata": {
        "id": "silver-pledge",
        "outputId": "f4471076-3540-4e3a-947f-87321dcfa581"
      },
      "source": [
        "model.summary()"
      ],
      "id": "silver-pledge",
      "execution_count": null,
      "outputs": [
        {
          "output_type": "stream",
          "text": [
            "Model: \"my_sequential\"\n",
            "_________________________________________________________________\n",
            "Layer (type)                 Output Shape              Param #   \n",
            "=================================================================\n",
            "layer1 (LSTM)                (None, 10)                560       \n",
            "_________________________________________________________________\n",
            "layer2 (Dense)               (None, 1)                 11        \n",
            "=================================================================\n",
            "Total params: 571\n",
            "Trainable params: 571\n",
            "Non-trainable params: 0\n",
            "_________________________________________________________________\n",
            "time: 2.11 ms (started: 2021-05-12 13:20:56 +00:00)\n"
          ],
          "name": "stdout"
        }
      ]
    },
    {
      "cell_type": "code",
      "metadata": {
        "id": "burning-simple",
        "outputId": "1193818d-ec1c-4876-e4ef-3b9f31f57c9b"
      },
      "source": [
        "trainY.shape"
      ],
      "id": "burning-simple",
      "execution_count": null,
      "outputs": [
        {
          "output_type": "execute_result",
          "data": {
            "text/plain": [
              "TensorShape([117, 1])"
            ]
          },
          "metadata": {
            "tags": []
          },
          "execution_count": 362
        },
        {
          "output_type": "stream",
          "text": [
            "time: 2.27 ms (started: 2021-05-12 13:21:00 +00:00)\n"
          ],
          "name": "stdout"
        }
      ]
    },
    {
      "cell_type": "code",
      "metadata": {
        "id": "breeding-injection",
        "outputId": "15bcd40e-7449-46dd-cdaa-e559dd3080c2"
      },
      "source": [
        "# model.weights"
      ],
      "id": "breeding-injection",
      "execution_count": null,
      "outputs": [
        {
          "output_type": "stream",
          "text": [
            "time: 337 µs (started: 2021-05-12 13:21:00 +00:00)\n"
          ],
          "name": "stdout"
        }
      ]
    },
    {
      "cell_type": "code",
      "metadata": {
        "id": "naked-journalism",
        "outputId": "6dfc5241-0bd4-485b-8875-ceab8f3c49b4"
      },
      "source": [
        "print(\"Number of weights after calling the model:\", len(model.weights))"
      ],
      "id": "naked-journalism",
      "execution_count": null,
      "outputs": [
        {
          "output_type": "stream",
          "text": [
            "Number of weights after calling the model: 5\n",
            "time: 874 µs (started: 2021-05-12 13:21:00 +00:00)\n"
          ],
          "name": "stdout"
        }
      ]
    },
    {
      "cell_type": "code",
      "metadata": {
        "id": "invisible-canon",
        "outputId": "1922012f-0dc9-4318-e44b-c07877a71112"
      },
      "source": [
        "model.compile(loss=loss, \n",
        "              optimizer=optimizer, \n",
        "              metrics=['accuracy'])"
      ],
      "id": "invisible-canon",
      "execution_count": null,
      "outputs": [
        {
          "output_type": "stream",
          "text": [
            "time: 8.44 ms (started: 2021-05-12 13:21:03 +00:00)\n"
          ],
          "name": "stdout"
        }
      ]
    },
    {
      "cell_type": "code",
      "metadata": {
        "id": "changing-pennsylvania",
        "outputId": "e743aaaf-86e2-4cc0-aa7a-ca0c28f30e3d"
      },
      "source": [
        "# Prepare visualisation - Plot Losses Keras TF (simple)\n",
        "!pip install livelossplot --quiet\n",
        "from livelossplot import PlotLossesKerasTF\n",
        "\n",
        "# Select visualization method\n",
        "callbacks = [PlotLossesKerasTF()]"
      ],
      "id": "changing-pennsylvania",
      "execution_count": null,
      "outputs": [
        {
          "output_type": "stream",
          "text": [
            "time: 2.08 s (started: 2021-05-12 13:21:04 +00:00)\n"
          ],
          "name": "stdout"
        }
      ]
    },
    {
      "cell_type": "code",
      "metadata": {
        "id": "original-navigator",
        "outputId": "ba5eecc6-c996-478b-a636-ee27286275d2"
      },
      "source": [
        "# Train model\n",
        "model.fit(trainX,\n",
        "          trainY, \n",
        "          epochs=epochs, \n",
        "          verbose=verbose, \n",
        "          shuffle=False, \n",
        "          callbacks=callbacks)"
      ],
      "id": "original-navigator",
      "execution_count": null,
      "outputs": [
        {
          "output_type": "display_data",
          "data": {
            "image/png": "[encoded data removed]",
            "text/plain": [
              "<Figure size 864x576 with 2 Axes>"
            ]
          },
          "metadata": {
            "tags": []
          }
        },
        {
          "output_type": "stream",
          "text": [
            "accuracy\n",
            "\taccuracy         \t (min:    0.000, max:    0.000, cur:    0.000)\n",
            "Loss\n",
            "\tloss             \t (min:    0.000, max:    0.000, cur:    0.000)\n",
            "4/4 [==============================] - 1s 133ms/step - loss: 1.0139e-10 - accuracy: 0.0000e+00\n"
          ],
          "name": "stdout"
        },
        {
          "output_type": "execute_result",
          "data": {
            "text/plain": [
              "<tensorflow.python.keras.callbacks.History at 0x7f48e87c1290>"
            ]
          },
          "metadata": {
            "tags": []
          },
          "execution_count": 367
        },
        {
          "output_type": "stream",
          "text": [
            "time: 8.06 s (started: 2021-05-12 13:21:06 +00:00)\n"
          ],
          "name": "stdout"
        }
      ]
    },
    {
      "cell_type": "markdown",
      "metadata": {
        "id": "mighty-italic"
      },
      "source": [
        "#### **Make Predictions**"
      ],
      "id": "mighty-italic"
    },
    {
      "cell_type": "code",
      "metadata": {
        "id": "universal-surface",
        "outputId": "c9540cef-47c4-4eae-ffbd-4d9e5c2ecded"
      },
      "source": [
        "trainPredict = model.predict(trainX, batch_size=batch_size)\n",
        "model.reset_states()\n",
        "testPredict = model.predict(testX, batch_size=batch_size)"
      ],
      "id": "universal-surface",
      "execution_count": null,
      "outputs": [
        {
          "output_type": "stream",
          "text": [
            "time: 567 ms (started: 2021-05-12 13:21:21 +00:00)\n"
          ],
          "name": "stdout"
        }
      ]
    },
    {
      "cell_type": "markdown",
      "metadata": {
        "id": "scientific-joint"
      },
      "source": [
        "#### **Predictions (Train & Test)**"
      ],
      "id": "scientific-joint"
    },
    {
      "cell_type": "markdown",
      "metadata": {
        "id": "varied-gross"
      },
      "source": [
        "**Test Predict**"
      ],
      "id": "varied-gross"
    },
    {
      "cell_type": "code",
      "metadata": {
        "id": "medieval-accident",
        "outputId": "4d427466-19bc-4f54-8e5f-e902a57c860e"
      },
      "source": [
        "testPredict [0:10]"
      ],
      "id": "medieval-accident",
      "execution_count": null,
      "outputs": [
        {
          "output_type": "execute_result",
          "data": {
            "text/plain": [
              "array([[0.01991221],\n",
              "       [0.00783165],\n",
              "       [0.01825965],\n",
              "       [0.0110531 ],\n",
              "       [0.01812537],\n",
              "       [0.00492398],\n",
              "       [0.02196703],\n",
              "       [0.01381726],\n",
              "       [0.00926913],\n",
              "       [0.01684139]], dtype=float32)"
            ]
          },
          "metadata": {
            "tags": []
          },
          "execution_count": 369
        },
        {
          "output_type": "stream",
          "text": [
            "time: 3.12 ms (started: 2021-05-12 13:21:24 +00:00)\n"
          ],
          "name": "stdout"
        }
      ]
    },
    {
      "cell_type": "code",
      "metadata": {
        "id": "above-burns",
        "outputId": "ec96c3ea-dbfa-42d0-ef91-5b0b81aab7af"
      },
      "source": [
        "testPredict = scaler.inverse_transform(testPredict)\n",
        "testPredict [0:10]"
      ],
      "id": "above-burns",
      "execution_count": null,
      "outputs": [
        {
          "output_type": "execute_result",
          "data": {
            "text/plain": [
              "array([[0.49780533],\n",
              "       [0.19579117],\n",
              "       [0.45649117],\n",
              "       [0.27632746],\n",
              "       [0.45313415],\n",
              "       [0.12309944],\n",
              "       [0.5491758 ],\n",
              "       [0.34543154],\n",
              "       [0.23172821],\n",
              "       [0.42103487]], dtype=float32)"
            ]
          },
          "metadata": {
            "tags": []
          },
          "execution_count": 370
        },
        {
          "output_type": "stream",
          "text": [
            "time: 2.99 ms (started: 2021-05-12 13:21:26 +00:00)\n"
          ],
          "name": "stdout"
        }
      ]
    },
    {
      "cell_type": "markdown",
      "metadata": {
        "id": "convinced-experience"
      },
      "source": [
        "**Train Predict**"
      ],
      "id": "convinced-experience"
    },
    {
      "cell_type": "code",
      "metadata": {
        "id": "superior-aquatic",
        "outputId": "c5c57b95-638b-43e9-ac0c-4d80201f7d3f"
      },
      "source": [
        "trainPredict [0:10]"
      ],
      "id": "superior-aquatic",
      "execution_count": null,
      "outputs": [
        {
          "output_type": "execute_result",
          "data": {
            "text/plain": [
              "array([[0.02494091],\n",
              "       [0.01862988],\n",
              "       [0.0186746 ],\n",
              "       [0.03473179],\n",
              "       [0.03734374],\n",
              "       [0.02000537],\n",
              "       [0.02427826],\n",
              "       [0.02099016],\n",
              "       [0.02061545],\n",
              "       [0.01885881]], dtype=float32)"
            ]
          },
          "metadata": {
            "tags": []
          },
          "execution_count": 371
        },
        {
          "output_type": "stream",
          "text": [
            "time: 2.67 ms (started: 2021-05-12 13:21:32 +00:00)\n"
          ],
          "name": "stdout"
        }
      ]
    },
    {
      "cell_type": "code",
      "metadata": {
        "id": "accredited-parts",
        "outputId": "95c6dc1a-29cf-4ee9-a86b-4d98be67f818"
      },
      "source": [
        "trainPredict = scaler.inverse_transform(trainPredict)\n",
        "trainPredict [0:10]"
      ],
      "id": "accredited-parts",
      "execution_count": null,
      "outputs": [
        {
          "output_type": "execute_result",
          "data": {
            "text/plain": [
              "array([[0.6235228 ],\n",
              "       [0.46574688],\n",
              "       [0.46686506],\n",
              "       [0.86829466],\n",
              "       [0.93359363],\n",
              "       [0.5001343 ],\n",
              "       [0.60695654],\n",
              "       [0.52475405],\n",
              "       [0.5153863 ],\n",
              "       [0.47147012]], dtype=float32)"
            ]
          },
          "metadata": {
            "tags": []
          },
          "execution_count": 372
        },
        {
          "output_type": "stream",
          "text": [
            "time: 3.7 ms (started: 2021-05-12 13:21:34 +00:00)\n"
          ],
          "name": "stdout"
        }
      ]
    },
    {
      "cell_type": "markdown",
      "metadata": {
        "id": "exact-immigration"
      },
      "source": [
        "#### **Actual (Train & Test)**"
      ],
      "id": "exact-immigration"
    },
    {
      "cell_type": "markdown",
      "metadata": {
        "id": "designed-narrow"
      },
      "source": [
        "**Test Actual**"
      ],
      "id": "designed-narrow"
    },
    {
      "cell_type": "code",
      "metadata": {
        "id": "apparent-evanescence",
        "outputId": "6c8a0afc-03a3-4030-b01f-f9a753140b21"
      },
      "source": [
        "testY [0:10]"
      ],
      "id": "apparent-evanescence",
      "execution_count": null,
      "outputs": [
        {
          "output_type": "execute_result",
          "data": {
            "text/plain": [
              "array([0.32, 0.6 , 0.2 , 0.6 , 0.32, 0.28, 0.48, 0.2 , 0.48, 0.28])"
            ]
          },
          "metadata": {
            "tags": []
          },
          "execution_count": 373
        },
        {
          "output_type": "stream",
          "text": [
            "time: 3.24 ms (started: 2021-05-12 13:21:38 +00:00)\n"
          ],
          "name": "stdout"
        }
      ]
    },
    {
      "cell_type": "code",
      "metadata": {
        "id": "sexual-edmonton",
        "outputId": "db7b3b57-2b4b-49c0-a09f-f7c50364b16d"
      },
      "source": [
        "testY = scaler.inverse_transform([testY])\n",
        "testY [0:10]"
      ],
      "id": "sexual-edmonton",
      "execution_count": null,
      "outputs": [
        {
          "output_type": "execute_result",
          "data": {
            "text/plain": [
              "array([[ 8., 15.,  5., 15.,  8.,  7., 12.,  5., 12.,  7.,  9., 13., 10.,\n",
              "         8.,  7.,  6.,  7.,  9., 10., 11.,  8.,  6.,  4., 11., 12.,  5.,\n",
              "         6.]])"
            ]
          },
          "metadata": {
            "tags": []
          },
          "execution_count": 374
        },
        {
          "output_type": "stream",
          "text": [
            "time: 2.39 ms (started: 2021-05-12 13:21:38 +00:00)\n"
          ],
          "name": "stdout"
        }
      ]
    },
    {
      "cell_type": "markdown",
      "metadata": {
        "id": "accessible-wings"
      },
      "source": [
        "**Train Actual**"
      ],
      "id": "accessible-wings"
    },
    {
      "cell_type": "code",
      "metadata": {
        "id": "adjustable-boating",
        "outputId": "49f29cae-4e85-4314-afe5-002498e74104"
      },
      "source": [
        "trainY [0:10]"
      ],
      "id": "adjustable-boating",
      "execution_count": null,
      "outputs": [
        {
          "output_type": "execute_result",
          "data": {
            "text/plain": [
              "<tf.Tensor: shape=(10, 1), dtype=float32, numpy=\n",
              "array([[0.02494378],\n",
              "       [0.01863045],\n",
              "       [0.01867562],\n",
              "       [0.03473447],\n",
              "       [0.03734652],\n",
              "       [0.02000794],\n",
              "       [0.02428099],\n",
              "       [0.02099269],\n",
              "       [0.02061593],\n",
              "       [0.01886141]], dtype=float32)>"
            ]
          },
          "metadata": {
            "tags": []
          },
          "execution_count": 375
        },
        {
          "output_type": "stream",
          "text": [
            "time: 3.05 ms (started: 2021-05-12 13:21:39 +00:00)\n"
          ],
          "name": "stdout"
        }
      ]
    },
    {
      "cell_type": "code",
      "metadata": {
        "id": "challenging-carnival",
        "outputId": "9b80d566-055c-4fc7-a511-a8e8ca8a41e2"
      },
      "source": [
        "# Convert / Create a numpy ndarray from a tensor\n",
        "trainY = tf.make_tensor_proto(trainY)  # convert `tensor a` to a proto tensor\n",
        "trainY = tf.make_ndarray(trainY)\n",
        "trainY [0:10]"
      ],
      "id": "challenging-carnival",
      "execution_count": null,
      "outputs": [
        {
          "output_type": "execute_result",
          "data": {
            "text/plain": [
              "array([[0.02494378],\n",
              "       [0.01863045],\n",
              "       [0.01867562],\n",
              "       [0.03473447],\n",
              "       [0.03734652],\n",
              "       [0.02000794],\n",
              "       [0.02428099],\n",
              "       [0.02099269],\n",
              "       [0.02061593],\n",
              "       [0.01886141]], dtype=float32)"
            ]
          },
          "metadata": {
            "tags": []
          },
          "execution_count": 376
        },
        {
          "output_type": "stream",
          "text": [
            "time: 2.97 ms (started: 2021-05-12 13:21:39 +00:00)\n"
          ],
          "name": "stdout"
        }
      ]
    },
    {
      "cell_type": "code",
      "metadata": {
        "id": "mathematical-species",
        "outputId": "a69ae71f-3a2b-413f-80f9-2b44ebae2f64"
      },
      "source": [
        "trainY.shape"
      ],
      "id": "mathematical-species",
      "execution_count": null,
      "outputs": [
        {
          "output_type": "execute_result",
          "data": {
            "text/plain": [
              "(117, 1)"
            ]
          },
          "metadata": {
            "tags": []
          },
          "execution_count": 377
        },
        {
          "output_type": "stream",
          "text": [
            "time: 2.23 ms (started: 2021-05-12 13:21:39 +00:00)\n"
          ],
          "name": "stdout"
        }
      ]
    },
    {
      "cell_type": "code",
      "metadata": {
        "id": "ordinary-defendant",
        "outputId": "b5b920a5-14b4-402c-c2ac-161d99fb6f29"
      },
      "source": [
        "#trainY = scaler.inverse_transform([trainY])\n",
        "#trainY [0:10]"
      ],
      "id": "ordinary-defendant",
      "execution_count": null,
      "outputs": [
        {
          "output_type": "stream",
          "text": [
            "time: 286 µs (started: 2021-05-12 13:21:39 +00:00)\n"
          ],
          "name": "stdout"
        }
      ]
    },
    {
      "cell_type": "markdown",
      "metadata": {
        "id": "occupational-myanmar"
      },
      "source": [
        "#### **Residuals**"
      ],
      "id": "occupational-myanmar"
    },
    {
      "cell_type": "code",
      "metadata": {
        "id": "infrared-bouquet",
        "outputId": "b5b73e25-1bdf-4c42-944c-915dd74d0719"
      },
      "source": [
        "# Get residuals\n",
        "residuals = (testY[0] - testPredict[:,0])\n",
        "res = pd.DataFrame(data=residuals, columns=['residuals'])\n",
        "res.head()"
      ],
      "id": "infrared-bouquet",
      "execution_count": null,
      "outputs": [
        {
          "output_type": "execute_result",
          "data": {
            "text/html": [
              "<div>\n",
              "<style scoped>\n",
              "    .dataframe tbody tr th:only-of-type {\n",
              "        vertical-align: middle;\n",
              "    }\n",
              "\n",
              "    .dataframe tbody tr th {\n",
              "        vertical-align: top;\n",
              "    }\n",
              "\n",
              "    .dataframe thead th {\n",
              "        text-align: right;\n",
              "    }\n",
              "</style>\n",
              "<table border=\"1\" class=\"dataframe\">\n",
              "  <thead>\n",
              "    <tr style=\"text-align: right;\">\n",
              "      <th></th>\n",
              "      <th>residuals</th>\n",
              "    </tr>\n",
              "  </thead>\n",
              "  <tbody>\n",
              "    <tr>\n",
              "      <th>0</th>\n",
              "      <td>7.502195</td>\n",
              "    </tr>\n",
              "    <tr>\n",
              "      <th>1</th>\n",
              "      <td>14.804209</td>\n",
              "    </tr>\n",
              "    <tr>\n",
              "      <th>2</th>\n",
              "      <td>4.543509</td>\n",
              "    </tr>\n",
              "    <tr>\n",
              "      <th>3</th>\n",
              "      <td>14.723673</td>\n",
              "    </tr>\n",
              "    <tr>\n",
              "      <th>4</th>\n",
              "      <td>7.546866</td>\n",
              "    </tr>\n",
              "  </tbody>\n",
              "</table>\n",
              "</div>"
            ],
            "text/plain": [
              "   residuals\n",
              "0   7.502195\n",
              "1  14.804209\n",
              "2   4.543509\n",
              "3  14.723673\n",
              "4   7.546866"
            ]
          },
          "metadata": {
            "tags": []
          },
          "execution_count": 379
        },
        {
          "output_type": "stream",
          "text": [
            "time: 6.48 ms (started: 2021-05-12 13:21:40 +00:00)\n"
          ],
          "name": "stdout"
        }
      ]
    },
    {
      "cell_type": "code",
      "metadata": {
        "id": "adequate-sheep",
        "outputId": "996e25e1-00b2-4b5b-a7d3-cdc75bdd9731"
      },
      "source": [
        "# Plot Residuals\n",
        "sns.set(rc={'figure.figsize':(15, 8)})\n",
        "res.plot(title='Residuals')"
      ],
      "id": "adequate-sheep",
      "execution_count": null,
      "outputs": [
        {
          "output_type": "execute_result",
          "data": {
            "text/plain": [
              "<AxesSubplot:title={'center':'Residuals'}>"
            ]
          },
          "metadata": {
            "tags": []
          },
          "execution_count": 380
        },
        {
          "output_type": "display_data",
          "data": {
            "image/png": "[encoded data removed]",
            "text/plain": [
              "<Figure size 1080x576 with 1 Axes>"
            ]
          },
          "metadata": {
            "tags": []
          }
        },
        {
          "output_type": "stream",
          "text": [
            "time: 195 ms (started: 2021-05-12 13:21:41 +00:00)\n"
          ],
          "name": "stdout"
        }
      ]
    },
    {
      "cell_type": "markdown",
      "metadata": {
        "id": "surface-happening"
      },
      "source": [
        "#### **Calculate RMSE & Plot**"
      ],
      "id": "surface-happening"
    },
    {
      "cell_type": "code",
      "metadata": {
        "id": "nonprofit-sunglasses"
      },
      "source": [
        "# Calculate RMSE\n",
        "import math\n",
        "from sklearn.metrics import mean_squared_error\n",
        "\n",
        "trainScore = math.sqrt(mean_squared_error(trainY[0], trainPredict[:,0]))\n",
        "print('Train Score: %.2f RMSE' % (trainScore))\n",
        "testScore = math.sqrt(mean_squared_error(testY[0], testPredict[:,0]))\n",
        "print('Test Score: %.2f RMSE' % (testScore))"
      ],
      "id": "nonprofit-sunglasses",
      "execution_count": null,
      "outputs": []
    },
    {
      "cell_type": "code",
      "metadata": {
        "id": "prostate-harvard",
        "outputId": "2988b061-bce0-4458-fe10-9d35da50c70a"
      },
      "source": [
        "# Plot results\n",
        "\n",
        "# shift train predictions for plotting\n",
        "trainPredictPlot = np.empty_like(dataset)\n",
        "trainPredictPlot[:, :] = np.nan\n",
        "trainPredictPlot[window:len(trainPredict)+window, :] = trainPredict\n",
        "\n",
        "# shift test predictions for plotting\n",
        "testPredictPlot = np.empty_like(dataset)\n",
        "testPredictPlot[:, :] = np.nan\n",
        "testPredictPlot[len(trainPredict)+(window*2)+1:len(dataset)-1, :] = testPredict\n",
        "\n",
        "# plot baseline and predictions\n",
        "sns.set(rc={'figure.figsize':(11, 5)})\n",
        "#plt.plot(scaler.inverse_transform(dataset))\n",
        "plt.plot(data)\n",
        "plt.plot(trainPredictPlot)\n",
        "plt.plot(testPredictPlot)\n",
        "plt.show()"
      ],
      "id": "prostate-harvard",
      "execution_count": null,
      "outputs": [
        {
          "output_type": "display_data",
          "data": {
            "image/png": "[encoded data removed]",
            "text/plain": [
              "<Figure size 792x360 with 1 Axes>"
            ]
          },
          "metadata": {
            "tags": []
          }
        },
        {
          "output_type": "stream",
          "text": [
            "time: 178 ms (started: 2021-05-12 13:21:45 +00:00)\n"
          ],
          "name": "stdout"
        }
      ]
    },
    {
      "cell_type": "code",
      "metadata": {
        "id": "vocational-pavilion"
      },
      "source": [
        ""
      ],
      "id": "vocational-pavilion",
      "execution_count": null,
      "outputs": []
    }
  ]
}