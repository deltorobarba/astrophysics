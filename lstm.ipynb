{
  "nbformat": 4,
  "nbformat_minor": 5,
  "metadata": {
    "environment": {
      "name": "tf2-gpu.2-3.m65",
      "type": "gcloud",
      "uri": "gcr.io/deeplearning-platform-release/tf2-gpu.2-3:m65"
    },
    "kernelspec": {
      "display_name": "Python 3",
      "language": "python",
      "name": "python3"
    },
    "language_info": {
      "codemirror_mode": {
        "name": "ipython",
        "version": 3
      },
      "file_extension": ".py",
      "mimetype": "text/x-python",
      "name": "python",
      "nbconvert_exporter": "python",
      "pygments_lexer": "ipython3",
      "version": "3.7.10"
    },
    "colab": {
      "name": "lstm.ipynb",
      "provenance": [],
      "collapsed_sections": [
        "superb-abraham",
        "german-hometown",
        "marked-hormone",
        "fantastic-occasions",
        "protected-criterion",
        "right-keyboard",
        "mighty-italic",
        "scientific-joint",
        "exact-immigration",
        "occupational-myanmar"
      ],
      "include_colab_link": true
    }
  },
  "cells": [
    {
      "cell_type": "markdown",
      "metadata": {
        "id": "view-in-github",
        "colab_type": "text"
      },
      "source": [
        "<a href=\"https://colab.research.google.com/github/deltorobarba/machinelearning/blob/master/lstm.ipynb\" target=\"_parent\"><img src=\"https://colab.research.google.com/assets/colab-badge.svg\" alt=\"Open In Colab\"/></a>"
      ]
    },
    {
      "cell_type": "markdown",
      "metadata": {
        "id": "first-twist"
      },
      "source": [
        "# **LSTM Time Series Forecasting**"
      ],
      "id": "first-twist"
    },
    {
      "cell_type": "code",
      "metadata": {
        "colab": {
          "base_uri": "https://localhost:8080/"
        },
        "id": "cardiac-conversion",
        "outputId": "cf0f7f3a-1064-4ec3-e67f-9516df19c3fe"
      },
      "source": [
        "import numpy as np\n",
        "import pandas as pd\n",
        "import seaborn as sns\n",
        "import matplotlib.pyplot as plt\n",
        "from sklearn.preprocessing import MinMaxScaler\n",
        "import math\n",
        "from sklearn.metrics import mean_squared_error\n",
        "import tensorflow as tf\n",
        "\n",
        "from tensorflow import keras\n",
        "from tensorflow.keras import layers\n",
        "from keras.models import Sequential\n",
        "from keras.layers import LSTM, Dense\n",
        "\n",
        "print('Tensorflow version %s' % tf.__version__)\n",
        "\n",
        "!pip install --quiet ipython-autotime pandas_gbq\n",
        "%load_ext autotime"
      ],
      "id": "cardiac-conversion",
      "execution_count": 1,
      "outputs": [
        {
          "output_type": "stream",
          "text": [
            "Tensorflow version 2.4.1\n",
            "time: 2.95 ms (started: 2021-05-13 14:00:18 +00:00)\n"
          ],
          "name": "stdout"
        }
      ]
    },
    {
      "cell_type": "markdown",
      "metadata": {
        "id": "superb-abraham"
      },
      "source": [
        "#### **Load Data**"
      ],
      "id": "superb-abraham"
    },
    {
      "cell_type": "markdown",
      "metadata": {
        "id": "K-uWiif4TOnj"
      },
      "source": [
        "**Sunspot Dataset**"
      ],
      "id": "K-uWiif4TOnj"
    },
    {
      "cell_type": "code",
      "metadata": {
        "colab": {
          "base_uri": "https://localhost:8080/",
          "height": 358
        },
        "id": "olGxzFAzTVcW",
        "outputId": "cb02adc3-86fd-486c-ada1-6b6c8576098c"
      },
      "source": [
        "# https://www.kaggle.com/robervalt/sunspots\n",
        "# https://www.kaggle.com/leeminwoo/keras-bidirectonal-lstm\n",
        "url = 'https://raw.githubusercontent.com/deltorobarba/repo/master/sunspots.csv.xls'\n",
        "data = pd.read_csv(url)\n",
        "data = data[['Date', 'Monthly Mean Total Sunspot Number']].rename(columns={\"Date\": \"date\", \"Monthly Mean Total Sunspot Number\": \"sunspots\"}).set_index('date')\n",
        "data.index = pd.to_datetime(data.index, utc=False)\n",
        "dataset = data.copy()\n",
        "dataset.head()"
      ],
      "id": "olGxzFAzTVcW",
      "execution_count": 2,
      "outputs": [
        {
          "output_type": "execute_result",
          "data": {
            "text/html": [
              "<div>\n",
              "<style scoped>\n",
              "    .dataframe tbody tr th:only-of-type {\n",
              "        vertical-align: middle;\n",
              "    }\n",
              "\n",
              "    .dataframe tbody tr th {\n",
              "        vertical-align: top;\n",
              "    }\n",
              "\n",
              "    .dataframe thead th {\n",
              "        text-align: right;\n",
              "    }\n",
              "</style>\n",
              "<table border=\"1\" class=\"dataframe\">\n",
              "  <thead>\n",
              "    <tr style=\"text-align: right;\">\n",
              "      <th></th>\n",
              "      <th>sunspots</th>\n",
              "    </tr>\n",
              "    <tr>\n",
              "      <th>date</th>\n",
              "      <th></th>\n",
              "    </tr>\n",
              "  </thead>\n",
              "  <tbody>\n",
              "    <tr>\n",
              "      <th>1749-01-31</th>\n",
              "      <td>96.7</td>\n",
              "    </tr>\n",
              "    <tr>\n",
              "      <th>1749-02-28</th>\n",
              "      <td>104.3</td>\n",
              "    </tr>\n",
              "    <tr>\n",
              "      <th>1749-03-31</th>\n",
              "      <td>116.7</td>\n",
              "    </tr>\n",
              "    <tr>\n",
              "      <th>1749-04-30</th>\n",
              "      <td>92.8</td>\n",
              "    </tr>\n",
              "    <tr>\n",
              "      <th>1749-05-31</th>\n",
              "      <td>141.7</td>\n",
              "    </tr>\n",
              "  </tbody>\n",
              "</table>\n",
              "</div>"
            ],
            "text/plain": [
              "            sunspots\n",
              "date                \n",
              "1749-01-31      96.7\n",
              "1749-02-28     104.3\n",
              "1749-03-31     116.7\n",
              "1749-04-30      92.8\n",
              "1749-05-31     141.7"
            ]
          },
          "metadata": {
            "tags": []
          },
          "execution_count": 2
        },
        {
          "output_type": "stream",
          "text": [
            "time: 93.7 ms (started: 2021-05-13 14:00:18 +00:00)\n"
          ],
          "name": "stdout"
        }
      ]
    },
    {
      "cell_type": "markdown",
      "metadata": {
        "id": "2h6rl09rTL26"
      },
      "source": [
        "**Google Stock Data**"
      ],
      "id": "2h6rl09rTL26"
    },
    {
      "cell_type": "code",
      "metadata": {
        "colab": {
          "base_uri": "https://localhost:8080/"
        },
        "id": "QF1j1iRkNPqO",
        "outputId": "0d4d46d2-d7d2-4e48-8612-e0c3cf39a5bd"
      },
      "source": [
        "# url = 'https://raw.githubusercontent.com/deltorobarba/repo/master/google.csv'\n",
        "# data = pd.read_csv(url)\n",
        "# series = data[['Date', 'Close']].rename(columns={\"Date\": \"date\", \"Close\": \"values\"}).set_index('date')\n",
        "# series.index = pd.to_datetime(series.index, utc=False)\n",
        "# series.head()\n",
        "# dataset = series.copy()\n",
        "# dataset.head()"
      ],
      "id": "QF1j1iRkNPqO",
      "execution_count": 3,
      "outputs": [
        {
          "output_type": "stream",
          "text": [
            "time: 1.85 ms (started: 2021-05-13 14:00:18 +00:00)\n"
          ],
          "name": "stdout"
        }
      ]
    },
    {
      "cell_type": "markdown",
      "metadata": {
        "id": "EeENmezNTRWv"
      },
      "source": [
        "**Insolvenzverfahren**"
      ],
      "id": "EeENmezNTRWv"
    },
    {
      "cell_type": "code",
      "metadata": {
        "colab": {
          "base_uri": "https://localhost:8080/"
        },
        "id": "ideuB7R3E9sS",
        "outputId": "d0d19ab4-cf40-4861-906a-d5619148da0d"
      },
      "source": [
        "# url = 'https://raw.githubusercontent.com/deltorobarba/repo/master/sh_unmelt_bq_raw.csv'\n",
        "# sh_unmelt_bq_raw = pd.read_csv(url)\n",
        "# sh_unmelt_bq_raw = sh_unmelt_bq_raw.sort_values('datum')\n",
        "# dataset = sh_unmelt_bq_raw.copy()\n",
        "# dataset = dataset.drop(columns=['Bergbau', 'Dienstleistungen', 'Energieversorgung','Erziehung', 'Finanzleistungen', 'Gastgewerbe','IT', 'Manufaktur', 'Sonstiges','Sozialwesen', 'Verkehr', 'Wohnungswesen'])\n",
        "# dataset = dataset.set_index('datum')\n",
        "# dataset.index = pd.to_datetime(dataset.index, utc=False)\n",
        "# dataset.head()"
      ],
      "id": "ideuB7R3E9sS",
      "execution_count": 4,
      "outputs": [
        {
          "output_type": "stream",
          "text": [
            "time: 2.13 ms (started: 2021-05-13 14:00:18 +00:00)\n"
          ],
          "name": "stdout"
        }
      ]
    },
    {
      "cell_type": "markdown",
      "metadata": {
        "id": "german-hometown"
      },
      "source": [
        "#### **Set input data**"
      ],
      "id": "german-hometown"
    },
    {
      "cell_type": "code",
      "metadata": {
        "colab": {
          "base_uri": "https://localhost:8080/"
        },
        "id": "willing-yahoo",
        "outputId": "cfa79a12-316b-4a68-e464-a2d326e935dc"
      },
      "source": [
        "# Set data\n",
        "data = dataset.copy()\n",
        "\n",
        "# Set seed for reproducibility\n",
        "tf.random.set_seed(7)"
      ],
      "id": "willing-yahoo",
      "execution_count": 5,
      "outputs": [
        {
          "output_type": "stream",
          "text": [
            "time: 2.72 ms (started: 2021-05-13 14:00:18 +00:00)\n"
          ],
          "name": "stdout"
        }
      ]
    },
    {
      "cell_type": "markdown",
      "metadata": {
        "id": "marked-hormone"
      },
      "source": [
        "#### **Normalize input data**"
      ],
      "id": "marked-hormone"
    },
    {
      "cell_type": "code",
      "metadata": {
        "colab": {
          "base_uri": "https://localhost:8080/"
        },
        "id": "attempted-arnold",
        "outputId": "d0435b96-d763-44dc-ea1e-3d186e3d7615"
      },
      "source": [
        "scaler = MinMaxScaler(feature_range=(0,1))\n",
        "data = scaler.fit_transform(data)"
      ],
      "id": "attempted-arnold",
      "execution_count": 6,
      "outputs": [
        {
          "output_type": "stream",
          "text": [
            "time: 4.42 ms (started: 2021-05-13 14:00:18 +00:00)\n"
          ],
          "name": "stdout"
        }
      ]
    },
    {
      "cell_type": "code",
      "metadata": {
        "id": "excellent-blowing",
        "colab": {
          "base_uri": "https://localhost:8080/"
        },
        "outputId": "3666436e-4c6f-4c47-b648-63c898787fa5"
      },
      "source": [
        "print(dataset.shape)\n",
        "# print(dataset.dtype)"
      ],
      "id": "excellent-blowing",
      "execution_count": 7,
      "outputs": [
        {
          "output_type": "stream",
          "text": [
            "(3265, 1)\n",
            "time: 2.38 ms (started: 2021-05-13 14:00:18 +00:00)\n"
          ],
          "name": "stdout"
        }
      ]
    },
    {
      "cell_type": "code",
      "metadata": {
        "id": "lesser-correlation",
        "colab": {
          "base_uri": "https://localhost:8080/"
        },
        "outputId": "17507b16-1e11-4eb0-9b8f-666496a85cd5"
      },
      "source": [
        "# Display dataset\n",
        "data [0:10] # Display first 10 values"
      ],
      "id": "lesser-correlation",
      "execution_count": 8,
      "outputs": [
        {
          "output_type": "execute_result",
          "data": {
            "text/plain": [
              "array([[0.24284279],\n",
              "       [0.26192868],\n",
              "       [0.29306881],\n",
              "       [0.23304872],\n",
              "       [0.35585133],\n",
              "       [0.34957308],\n",
              "       [0.39678553],\n",
              "       [0.27749874],\n",
              "       [0.31767956],\n",
              "       [0.31592165]])"
            ]
          },
          "metadata": {
            "tags": []
          },
          "execution_count": 8
        },
        {
          "output_type": "stream",
          "text": [
            "time: 4.89 ms (started: 2021-05-13 14:00:18 +00:00)\n"
          ],
          "name": "stdout"
        }
      ]
    },
    {
      "cell_type": "markdown",
      "metadata": {
        "id": "fantastic-occasions"
      },
      "source": [
        "#### **Train & Test Split**"
      ],
      "id": "fantastic-occasions"
    },
    {
      "cell_type": "code",
      "metadata": {
        "id": "romantic-particle",
        "colab": {
          "base_uri": "https://localhost:8080/"
        },
        "outputId": "2cc71047-5e40-4d36-ebfa-4a6a7c29d453"
      },
      "source": [
        "# Train & Test Split in % of complete dataset\n",
        "split = 0.9\n",
        "train_size = int(len(data) * split)\n",
        "test_size = len(dataset) - train_size\n",
        "train, test = data[0:train_size,:], data[train_size:len(dataset),:]"
      ],
      "id": "romantic-particle",
      "execution_count": 9,
      "outputs": [
        {
          "output_type": "stream",
          "text": [
            "time: 3.38 ms (started: 2021-05-13 14:00:18 +00:00)\n"
          ],
          "name": "stdout"
        }
      ]
    },
    {
      "cell_type": "code",
      "metadata": {
        "id": "numerical-walnut",
        "colab": {
          "base_uri": "https://localhost:8080/"
        },
        "outputId": "4f7f09ab-0047-417c-b013-edf13b930b67"
      },
      "source": [
        "train [0:10] # Display first 10 values"
      ],
      "id": "numerical-walnut",
      "execution_count": 10,
      "outputs": [
        {
          "output_type": "execute_result",
          "data": {
            "text/plain": [
              "array([[0.24284279],\n",
              "       [0.26192868],\n",
              "       [0.29306881],\n",
              "       [0.23304872],\n",
              "       [0.35585133],\n",
              "       [0.34957308],\n",
              "       [0.39678553],\n",
              "       [0.27749874],\n",
              "       [0.31767956],\n",
              "       [0.31592165]])"
            ]
          },
          "metadata": {
            "tags": []
          },
          "execution_count": 10
        },
        {
          "output_type": "stream",
          "text": [
            "time: 5.21 ms (started: 2021-05-13 14:00:18 +00:00)\n"
          ],
          "name": "stdout"
        }
      ]
    },
    {
      "cell_type": "code",
      "metadata": {
        "id": "static-badge",
        "colab": {
          "base_uri": "https://localhost:8080/"
        },
        "outputId": "921be5b8-8404-4a92-d365-591d6ff57fe7"
      },
      "source": [
        "test [0:10] # Display first 10 values"
      ],
      "id": "static-badge",
      "execution_count": 11,
      "outputs": [
        {
          "output_type": "execute_result",
          "data": {
            "text/plain": [
              "array([[0.1210447 ],\n",
              "       [0.17177298],\n",
              "       [0.21320944],\n",
              "       [0.13787042],\n",
              "       [0.11928679],\n",
              "       [0.06880964],\n",
              "       [0.07483677],\n",
              "       [0.09969864],\n",
              "       [0.12707182],\n",
              "       [0.08613762]])"
            ]
          },
          "metadata": {
            "tags": []
          },
          "execution_count": 11
        },
        {
          "output_type": "stream",
          "text": [
            "time: 5.06 ms (started: 2021-05-13 14:00:18 +00:00)\n"
          ],
          "name": "stdout"
        }
      ]
    },
    {
      "cell_type": "markdown",
      "metadata": {
        "id": "applied-parallel"
      },
      "source": [
        "Now train & test data have been separated. \n",
        "\n",
        "We need to divide by feature input (X) and prediction variable (Y).\n",
        "\n",
        "For both train and test dataset"
      ],
      "id": "applied-parallel"
    },
    {
      "cell_type": "markdown",
      "metadata": {
        "id": "protected-criterion"
      },
      "source": [
        "#### **Window & Reshape**"
      ],
      "id": "protected-criterion"
    },
    {
      "cell_type": "code",
      "metadata": {
        "id": "compliant-robert",
        "colab": {
          "base_uri": "https://localhost:8080/"
        },
        "outputId": "293a0a4a-2d51-474b-b230-f1519af8b105"
      },
      "source": [
        "window = 30 # Use (t), (t-1) and (t-2) as input variables X\n",
        "features = 1 # we have only one time series"
      ],
      "id": "compliant-robert",
      "execution_count": 12,
      "outputs": [
        {
          "output_type": "stream",
          "text": [
            "time: 1.78 ms (started: 2021-05-13 14:00:19 +00:00)\n"
          ],
          "name": "stdout"
        }
      ]
    },
    {
      "cell_type": "code",
      "metadata": {
        "id": "limited-airport",
        "colab": {
          "base_uri": "https://localhost:8080/"
        },
        "outputId": "05b65e51-6312-434a-9ee1-e8105d3d3e28"
      },
      "source": [
        "# Convert an array of values into a dataset matrix\n",
        "def create_dataset(data, window=window):\n",
        "    dataX, dataY = [], []\n",
        "    for i in range(len(data)-window-1):\n",
        "        a = data[i:(i+window), 0]\n",
        "        dataX.append(a)\n",
        "        dataY.append(data[i + window, 0])\n",
        "    return np.array(dataX), np.array(dataY)\n",
        "\n",
        "# X is input data = value (at t, and t-1, t-2, depending on window size)\n",
        "# Y is target data = value at t+1\n",
        "# Each is additionally divided into train and test set"
      ],
      "id": "limited-airport",
      "execution_count": 13,
      "outputs": [
        {
          "output_type": "stream",
          "text": [
            "time: 8.22 ms (started: 2021-05-13 14:00:19 +00:00)\n"
          ],
          "name": "stdout"
        }
      ]
    },
    {
      "cell_type": "code",
      "metadata": {
        "id": "numerical-invention",
        "colab": {
          "base_uri": "https://localhost:8080/"
        },
        "outputId": "debcc084-9cef-4f97-e9e1-871e52920a29"
      },
      "source": [
        "# Reshape into X=t and Y=t+1 and get as arrays\n",
        "trainX, trainY = create_dataset(train, window)\n",
        "testX, testY = create_dataset(test, window)"
      ],
      "id": "numerical-invention",
      "execution_count": 14,
      "outputs": [
        {
          "output_type": "stream",
          "text": [
            "time: 10.5 ms (started: 2021-05-13 14:00:19 +00:00)\n"
          ],
          "name": "stdout"
        }
      ]
    },
    {
      "cell_type": "code",
      "metadata": {
        "id": "allied-pavilion",
        "colab": {
          "base_uri": "https://localhost:8080/"
        },
        "outputId": "90e9f9a1-5cff-463b-ba14-255e29b3d22c"
      },
      "source": [
        "print(trainX.shape)"
      ],
      "id": "allied-pavilion",
      "execution_count": 15,
      "outputs": [
        {
          "output_type": "stream",
          "text": [
            "(2907, 30)\n",
            "time: 2.9 ms (started: 2021-05-13 14:00:19 +00:00)\n"
          ],
          "name": "stdout"
        }
      ]
    },
    {
      "cell_type": "code",
      "metadata": {
        "id": "endless-chile",
        "colab": {
          "base_uri": "https://localhost:8080/"
        },
        "outputId": "29e2c8ce-e9ef-4afa-ebc0-535a024c1e7b"
      },
      "source": [
        "print(trainY.shape)"
      ],
      "id": "endless-chile",
      "execution_count": 16,
      "outputs": [
        {
          "output_type": "stream",
          "text": [
            "(2907,)\n",
            "time: 6.29 ms (started: 2021-05-13 14:00:19 +00:00)\n"
          ],
          "name": "stdout"
        }
      ]
    },
    {
      "cell_type": "code",
      "metadata": {
        "id": "separated-bankruptcy",
        "colab": {
          "base_uri": "https://localhost:8080/"
        },
        "outputId": "d343ba00-2497-40e2-8b89-73bd89ab1330"
      },
      "source": [
        "# X input has 3 (= window size) values at each step\n",
        "trainX [0:10] # Display first 10 values"
      ],
      "id": "separated-bankruptcy",
      "execution_count": 17,
      "outputs": [
        {
          "output_type": "execute_result",
          "data": {
            "text/plain": [
              "array([[0.24284279, 0.26192868, 0.29306881, 0.23304872, 0.35585133,\n",
              "        0.34957308, 0.39678553, 0.27749874, 0.31767956, 0.31592165,\n",
              "        0.66373682, 0.35660472, 0.30688096, 0.31767956, 0.37343044,\n",
              "        0.36966349, 0.37669513, 0.41863385, 0.35735811, 0.43119036,\n",
              "        0.38171773, 0.27498744, 0.26494224, 0.31567052, 0.29306881,\n",
              "        0.18206931, 0.18960321, 0.23606228, 0.25414365, 0.21220492],\n",
              "       [0.26192868, 0.29306881, 0.23304872, 0.35585133, 0.34957308,\n",
              "        0.39678553, 0.27749874, 0.31767956, 0.31592165, 0.66373682,\n",
              "        0.35660472, 0.30688096, 0.31767956, 0.37343044, 0.36966349,\n",
              "        0.37669513, 0.41863385, 0.35735811, 0.43119036, 0.38171773,\n",
              "        0.27498744, 0.26494224, 0.31567052, 0.29306881, 0.18206931,\n",
              "        0.18960321, 0.23606228, 0.25414365, 0.21220492, 0.27749874],\n",
              "       [0.29306881, 0.23304872, 0.35585133, 0.34957308, 0.39678553,\n",
              "        0.27749874, 0.31767956, 0.31592165, 0.66373682, 0.35660472,\n",
              "        0.30688096, 0.31767956, 0.37343044, 0.36966349, 0.37669513,\n",
              "        0.41863385, 0.35735811, 0.43119036, 0.38171773, 0.27498744,\n",
              "        0.26494224, 0.31567052, 0.29306881, 0.18206931, 0.18960321,\n",
              "        0.23606228, 0.25414365, 0.21220492, 0.27749874, 0.2503767 ],\n",
              "       [0.23304872, 0.35585133, 0.34957308, 0.39678553, 0.27749874,\n",
              "        0.31767956, 0.31592165, 0.66373682, 0.35660472, 0.30688096,\n",
              "        0.31767956, 0.37343044, 0.36966349, 0.37669513, 0.41863385,\n",
              "        0.35735811, 0.43119036, 0.38171773, 0.27498744, 0.26494224,\n",
              "        0.31567052, 0.29306881, 0.18206931, 0.18960321, 0.23606228,\n",
              "        0.25414365, 0.21220492, 0.27749874, 0.2503767 , 0.09844299],\n",
              "       [0.35585133, 0.34957308, 0.39678553, 0.27749874, 0.31767956,\n",
              "        0.31592165, 0.66373682, 0.35660472, 0.30688096, 0.31767956,\n",
              "        0.37343044, 0.36966349, 0.37669513, 0.41863385, 0.35735811,\n",
              "        0.43119036, 0.38171773, 0.27498744, 0.26494224, 0.31567052,\n",
              "        0.29306881, 0.18206931, 0.18960321, 0.23606228, 0.25414365,\n",
              "        0.21220492, 0.27749874, 0.2503767 , 0.09844299, 0.09718734],\n",
              "       [0.34957308, 0.39678553, 0.27749874, 0.31767956, 0.31592165,\n",
              "        0.66373682, 0.35660472, 0.30688096, 0.31767956, 0.37343044,\n",
              "        0.36966349, 0.37669513, 0.41863385, 0.35735811, 0.43119036,\n",
              "        0.38171773, 0.27498744, 0.26494224, 0.31567052, 0.29306881,\n",
              "        0.18206931, 0.18960321, 0.23606228, 0.25414365, 0.21220492,\n",
              "        0.27749874, 0.2503767 , 0.09844299, 0.09718734, 0.11928679],\n",
              "       [0.39678553, 0.27749874, 0.31767956, 0.31592165, 0.66373682,\n",
              "        0.35660472, 0.30688096, 0.31767956, 0.37343044, 0.36966349,\n",
              "        0.37669513, 0.41863385, 0.35735811, 0.43119036, 0.38171773,\n",
              "        0.27498744, 0.26494224, 0.31567052, 0.29306881, 0.18206931,\n",
              "        0.18960321, 0.23606228, 0.25414365, 0.21220492, 0.27749874,\n",
              "        0.2503767 , 0.09844299, 0.09718734, 0.11928679, 0.18407835],\n",
              "       [0.27749874, 0.31767956, 0.31592165, 0.66373682, 0.35660472,\n",
              "        0.30688096, 0.31767956, 0.37343044, 0.36966349, 0.37669513,\n",
              "        0.41863385, 0.35735811, 0.43119036, 0.38171773, 0.27498744,\n",
              "        0.26494224, 0.31567052, 0.29306881, 0.18206931, 0.18960321,\n",
              "        0.23606228, 0.25414365, 0.21220492, 0.27749874, 0.2503767 ,\n",
              "        0.09844299, 0.09718734, 0.11928679, 0.18407835, 0.14640884],\n",
              "       [0.31767956, 0.31592165, 0.66373682, 0.35660472, 0.30688096,\n",
              "        0.31767956, 0.37343044, 0.36966349, 0.37669513, 0.41863385,\n",
              "        0.35735811, 0.43119036, 0.38171773, 0.27498744, 0.26494224,\n",
              "        0.31567052, 0.29306881, 0.18206931, 0.18960321, 0.23606228,\n",
              "        0.25414365, 0.21220492, 0.27749874, 0.2503767 , 0.09844299,\n",
              "        0.09718734, 0.11928679, 0.18407835, 0.14640884, 0.20919136],\n",
              "       [0.31592165, 0.66373682, 0.35660472, 0.30688096, 0.31767956,\n",
              "        0.37343044, 0.36966349, 0.37669513, 0.41863385, 0.35735811,\n",
              "        0.43119036, 0.38171773, 0.27498744, 0.26494224, 0.31567052,\n",
              "        0.29306881, 0.18206931, 0.18960321, 0.23606228, 0.25414365,\n",
              "        0.21220492, 0.27749874, 0.2503767 , 0.09844299, 0.09718734,\n",
              "        0.11928679, 0.18407835, 0.14640884, 0.20919136, 0.29708689]])"
            ]
          },
          "metadata": {
            "tags": []
          },
          "execution_count": 17
        },
        {
          "output_type": "stream",
          "text": [
            "time: 11.5 ms (started: 2021-05-13 14:00:19 +00:00)\n"
          ],
          "name": "stdout"
        }
      ]
    },
    {
      "cell_type": "code",
      "metadata": {
        "id": "colored-organization",
        "colab": {
          "base_uri": "https://localhost:8080/"
        },
        "outputId": "0735f000-fb85-4953-9503-f374b4b2df2a"
      },
      "source": [
        "# Y output has here only one value (t+1) at each step\n",
        "trainY"
      ],
      "id": "colored-organization",
      "execution_count": 18,
      "outputs": [
        {
          "output_type": "execute_result",
          "data": {
            "text/plain": [
              "array([0.27749874, 0.2503767 , 0.09844299, ..., 0.20190859, 0.1569563 ,\n",
              "       0.07835259])"
            ]
          },
          "metadata": {
            "tags": []
          },
          "execution_count": 18
        },
        {
          "output_type": "stream",
          "text": [
            "time: 5.18 ms (started: 2021-05-13 14:00:19 +00:00)\n"
          ],
          "name": "stdout"
        }
      ]
    },
    {
      "cell_type": "code",
      "metadata": {
        "id": "blank-sheep",
        "colab": {
          "base_uri": "https://localhost:8080/"
        },
        "outputId": "0a5000a9-ca38-4484-8590-921aeefe1b02"
      },
      "source": [
        "trainX.shape[0]"
      ],
      "id": "blank-sheep",
      "execution_count": 19,
      "outputs": [
        {
          "output_type": "execute_result",
          "data": {
            "text/plain": [
              "2907"
            ]
          },
          "metadata": {
            "tags": []
          },
          "execution_count": 19
        },
        {
          "output_type": "stream",
          "text": [
            "time: 5.15 ms (started: 2021-05-13 14:00:19 +00:00)\n"
          ],
          "name": "stdout"
        }
      ]
    },
    {
      "cell_type": "code",
      "metadata": {
        "id": "polished-ballet",
        "colab": {
          "base_uri": "https://localhost:8080/"
        },
        "outputId": "5d80fe73-9b1f-40bf-b843-051dbb9f27da"
      },
      "source": [
        "trainX.shape[1]"
      ],
      "id": "polished-ballet",
      "execution_count": 20,
      "outputs": [
        {
          "output_type": "execute_result",
          "data": {
            "text/plain": [
              "30"
            ]
          },
          "metadata": {
            "tags": []
          },
          "execution_count": 20
        },
        {
          "output_type": "stream",
          "text": [
            "time: 4.33 ms (started: 2021-05-13 14:00:19 +00:00)\n"
          ],
          "name": "stdout"
        }
      ]
    },
    {
      "cell_type": "markdown",
      "metadata": {
        "id": "right-keyboard"
      },
      "source": [
        "#### **Reshape Data Format for LSTM**"
      ],
      "id": "right-keyboard"
    },
    {
      "cell_type": "code",
      "metadata": {
        "id": "changing-hardware",
        "colab": {
          "base_uri": "https://localhost:8080/"
        },
        "outputId": "c1a3877b-12ef-4a0a-809b-2d738618fbd2"
      },
      "source": [
        "# Reshape Data Format for LSTM (simple model)\n",
        "\n",
        "# Data is in shape **[samples, features]**. LSTM expects **[samples, time steps, features]**\n",
        "# Reminder 2D array: shape (n,m), n [0] = rows (time steps), m [1] = column(s)\n",
        "# Shape: First Block: t, t+1, t+2. Second: t+1, t+2, t+3. Third: t+2, t+3, t+4.\n",
        "# Approach 1: Use past observations as separate input features =(trainX.shape[0], features, trainX.shape[1])\n",
        "\n",
        "# trainX = np.reshape(trainX, (trainX.shape[0], features, trainX.shape[1]))\n",
        "# testX = np.reshape(testX, (testX.shape[0], features, testX.shape[1]))"
      ],
      "id": "changing-hardware",
      "execution_count": 21,
      "outputs": [
        {
          "output_type": "stream",
          "text": [
            "time: 2.81 ms (started: 2021-05-13 14:00:19 +00:00)\n"
          ],
          "name": "stdout"
        }
      ]
    },
    {
      "cell_type": "code",
      "metadata": {
        "id": "atmospheric-camel",
        "colab": {
          "base_uri": "https://localhost:8080/"
        },
        "outputId": "315b2045-f734-49ad-c000-6d107652cf46"
      },
      "source": [
        "# Approach 2: Use past observations as time steps of the one input feature\n",
        "\n",
        "trainX = tf.reshape(trainX, (trainX.shape[0], trainX.shape[1], features))\n",
        "testX = tf.reshape(testX, (testX.shape[0], testX.shape[1], features))\n",
        "trainX"
      ],
      "id": "atmospheric-camel",
      "execution_count": 22,
      "outputs": [
        {
          "output_type": "execute_result",
          "data": {
            "text/plain": [
              "<tf.Tensor: shape=(2907, 30, 1), dtype=float64, numpy=\n",
              "array([[[0.24284279],\n",
              "        [0.26192868],\n",
              "        [0.29306881],\n",
              "        ...,\n",
              "        [0.23606228],\n",
              "        [0.25414365],\n",
              "        [0.21220492]],\n",
              "\n",
              "       [[0.26192868],\n",
              "        [0.29306881],\n",
              "        [0.23304872],\n",
              "        ...,\n",
              "        [0.25414365],\n",
              "        [0.21220492],\n",
              "        [0.27749874]],\n",
              "\n",
              "       [[0.29306881],\n",
              "        [0.23304872],\n",
              "        [0.35585133],\n",
              "        ...,\n",
              "        [0.21220492],\n",
              "        [0.27749874],\n",
              "        [0.2503767 ]],\n",
              "\n",
              "       ...,\n",
              "\n",
              "       [[0.49045706],\n",
              "        [0.6034656 ],\n",
              "        [0.49472627],\n",
              "        ...,\n",
              "        [0.2370668 ],\n",
              "        [0.19789051],\n",
              "        [0.17478654]],\n",
              "\n",
              "       [[0.6034656 ],\n",
              "        [0.49472627],\n",
              "        [0.49623305],\n",
              "        ...,\n",
              "        [0.19789051],\n",
              "        [0.17478654],\n",
              "        [0.20190859]],\n",
              "\n",
              "       [[0.49472627],\n",
              "        [0.49623305],\n",
              "        [0.41913611],\n",
              "        ...,\n",
              "        [0.17478654],\n",
              "        [0.20190859],\n",
              "        [0.1569563 ]]])>"
            ]
          },
          "metadata": {
            "tags": []
          },
          "execution_count": 22
        },
        {
          "output_type": "stream",
          "text": [
            "time: 41.2 ms (started: 2021-05-13 14:00:19 +00:00)\n"
          ],
          "name": "stdout"
        }
      ]
    },
    {
      "cell_type": "code",
      "metadata": {
        "id": "unlikely-brunswick",
        "colab": {
          "base_uri": "https://localhost:8080/"
        },
        "outputId": "331124ae-4098-493c-86e9-96264bc1b919"
      },
      "source": [
        "print(trainX.shape)"
      ],
      "id": "unlikely-brunswick",
      "execution_count": 23,
      "outputs": [
        {
          "output_type": "stream",
          "text": [
            "(2907, 30, 1)\n",
            "time: 2.53 ms (started: 2021-05-13 14:00:19 +00:00)\n"
          ],
          "name": "stdout"
        }
      ]
    },
    {
      "cell_type": "code",
      "metadata": {
        "id": "precious-jesus",
        "colab": {
          "base_uri": "https://localhost:8080/"
        },
        "outputId": "ee84afc5-0b9a-43da-96f6-d4c4bcb649fc"
      },
      "source": [
        "trainX [0:10] # Display first 10 values"
      ],
      "id": "precious-jesus",
      "execution_count": 24,
      "outputs": [
        {
          "output_type": "execute_result",
          "data": {
            "text/plain": [
              "<tf.Tensor: shape=(10, 30, 1), dtype=float64, numpy=\n",
              "array([[[0.24284279],\n",
              "        [0.26192868],\n",
              "        [0.29306881],\n",
              "        [0.23304872],\n",
              "        [0.35585133],\n",
              "        [0.34957308],\n",
              "        [0.39678553],\n",
              "        [0.27749874],\n",
              "        [0.31767956],\n",
              "        [0.31592165],\n",
              "        [0.66373682],\n",
              "        [0.35660472],\n",
              "        [0.30688096],\n",
              "        [0.31767956],\n",
              "        [0.37343044],\n",
              "        [0.36966349],\n",
              "        [0.37669513],\n",
              "        [0.41863385],\n",
              "        [0.35735811],\n",
              "        [0.43119036],\n",
              "        [0.38171773],\n",
              "        [0.27498744],\n",
              "        [0.26494224],\n",
              "        [0.31567052],\n",
              "        [0.29306881],\n",
              "        [0.18206931],\n",
              "        [0.18960321],\n",
              "        [0.23606228],\n",
              "        [0.25414365],\n",
              "        [0.21220492]],\n",
              "\n",
              "       [[0.26192868],\n",
              "        [0.29306881],\n",
              "        [0.23304872],\n",
              "        [0.35585133],\n",
              "        [0.34957308],\n",
              "        [0.39678553],\n",
              "        [0.27749874],\n",
              "        [0.31767956],\n",
              "        [0.31592165],\n",
              "        [0.66373682],\n",
              "        [0.35660472],\n",
              "        [0.30688096],\n",
              "        [0.31767956],\n",
              "        [0.37343044],\n",
              "        [0.36966349],\n",
              "        [0.37669513],\n",
              "        [0.41863385],\n",
              "        [0.35735811],\n",
              "        [0.43119036],\n",
              "        [0.38171773],\n",
              "        [0.27498744],\n",
              "        [0.26494224],\n",
              "        [0.31567052],\n",
              "        [0.29306881],\n",
              "        [0.18206931],\n",
              "        [0.18960321],\n",
              "        [0.23606228],\n",
              "        [0.25414365],\n",
              "        [0.21220492],\n",
              "        [0.27749874]],\n",
              "\n",
              "       [[0.29306881],\n",
              "        [0.23304872],\n",
              "        [0.35585133],\n",
              "        [0.34957308],\n",
              "        [0.39678553],\n",
              "        [0.27749874],\n",
              "        [0.31767956],\n",
              "        [0.31592165],\n",
              "        [0.66373682],\n",
              "        [0.35660472],\n",
              "        [0.30688096],\n",
              "        [0.31767956],\n",
              "        [0.37343044],\n",
              "        [0.36966349],\n",
              "        [0.37669513],\n",
              "        [0.41863385],\n",
              "        [0.35735811],\n",
              "        [0.43119036],\n",
              "        [0.38171773],\n",
              "        [0.27498744],\n",
              "        [0.26494224],\n",
              "        [0.31567052],\n",
              "        [0.29306881],\n",
              "        [0.18206931],\n",
              "        [0.18960321],\n",
              "        [0.23606228],\n",
              "        [0.25414365],\n",
              "        [0.21220492],\n",
              "        [0.27749874],\n",
              "        [0.2503767 ]],\n",
              "\n",
              "       [[0.23304872],\n",
              "        [0.35585133],\n",
              "        [0.34957308],\n",
              "        [0.39678553],\n",
              "        [0.27749874],\n",
              "        [0.31767956],\n",
              "        [0.31592165],\n",
              "        [0.66373682],\n",
              "        [0.35660472],\n",
              "        [0.30688096],\n",
              "        [0.31767956],\n",
              "        [0.37343044],\n",
              "        [0.36966349],\n",
              "        [0.37669513],\n",
              "        [0.41863385],\n",
              "        [0.35735811],\n",
              "        [0.43119036],\n",
              "        [0.38171773],\n",
              "        [0.27498744],\n",
              "        [0.26494224],\n",
              "        [0.31567052],\n",
              "        [0.29306881],\n",
              "        [0.18206931],\n",
              "        [0.18960321],\n",
              "        [0.23606228],\n",
              "        [0.25414365],\n",
              "        [0.21220492],\n",
              "        [0.27749874],\n",
              "        [0.2503767 ],\n",
              "        [0.09844299]],\n",
              "\n",
              "       [[0.35585133],\n",
              "        [0.34957308],\n",
              "        [0.39678553],\n",
              "        [0.27749874],\n",
              "        [0.31767956],\n",
              "        [0.31592165],\n",
              "        [0.66373682],\n",
              "        [0.35660472],\n",
              "        [0.30688096],\n",
              "        [0.31767956],\n",
              "        [0.37343044],\n",
              "        [0.36966349],\n",
              "        [0.37669513],\n",
              "        [0.41863385],\n",
              "        [0.35735811],\n",
              "        [0.43119036],\n",
              "        [0.38171773],\n",
              "        [0.27498744],\n",
              "        [0.26494224],\n",
              "        [0.31567052],\n",
              "        [0.29306881],\n",
              "        [0.18206931],\n",
              "        [0.18960321],\n",
              "        [0.23606228],\n",
              "        [0.25414365],\n",
              "        [0.21220492],\n",
              "        [0.27749874],\n",
              "        [0.2503767 ],\n",
              "        [0.09844299],\n",
              "        [0.09718734]],\n",
              "\n",
              "       [[0.34957308],\n",
              "        [0.39678553],\n",
              "        [0.27749874],\n",
              "        [0.31767956],\n",
              "        [0.31592165],\n",
              "        [0.66373682],\n",
              "        [0.35660472],\n",
              "        [0.30688096],\n",
              "        [0.31767956],\n",
              "        [0.37343044],\n",
              "        [0.36966349],\n",
              "        [0.37669513],\n",
              "        [0.41863385],\n",
              "        [0.35735811],\n",
              "        [0.43119036],\n",
              "        [0.38171773],\n",
              "        [0.27498744],\n",
              "        [0.26494224],\n",
              "        [0.31567052],\n",
              "        [0.29306881],\n",
              "        [0.18206931],\n",
              "        [0.18960321],\n",
              "        [0.23606228],\n",
              "        [0.25414365],\n",
              "        [0.21220492],\n",
              "        [0.27749874],\n",
              "        [0.2503767 ],\n",
              "        [0.09844299],\n",
              "        [0.09718734],\n",
              "        [0.11928679]],\n",
              "\n",
              "       [[0.39678553],\n",
              "        [0.27749874],\n",
              "        [0.31767956],\n",
              "        [0.31592165],\n",
              "        [0.66373682],\n",
              "        [0.35660472],\n",
              "        [0.30688096],\n",
              "        [0.31767956],\n",
              "        [0.37343044],\n",
              "        [0.36966349],\n",
              "        [0.37669513],\n",
              "        [0.41863385],\n",
              "        [0.35735811],\n",
              "        [0.43119036],\n",
              "        [0.38171773],\n",
              "        [0.27498744],\n",
              "        [0.26494224],\n",
              "        [0.31567052],\n",
              "        [0.29306881],\n",
              "        [0.18206931],\n",
              "        [0.18960321],\n",
              "        [0.23606228],\n",
              "        [0.25414365],\n",
              "        [0.21220492],\n",
              "        [0.27749874],\n",
              "        [0.2503767 ],\n",
              "        [0.09844299],\n",
              "        [0.09718734],\n",
              "        [0.11928679],\n",
              "        [0.18407835]],\n",
              "\n",
              "       [[0.27749874],\n",
              "        [0.31767956],\n",
              "        [0.31592165],\n",
              "        [0.66373682],\n",
              "        [0.35660472],\n",
              "        [0.30688096],\n",
              "        [0.31767956],\n",
              "        [0.37343044],\n",
              "        [0.36966349],\n",
              "        [0.37669513],\n",
              "        [0.41863385],\n",
              "        [0.35735811],\n",
              "        [0.43119036],\n",
              "        [0.38171773],\n",
              "        [0.27498744],\n",
              "        [0.26494224],\n",
              "        [0.31567052],\n",
              "        [0.29306881],\n",
              "        [0.18206931],\n",
              "        [0.18960321],\n",
              "        [0.23606228],\n",
              "        [0.25414365],\n",
              "        [0.21220492],\n",
              "        [0.27749874],\n",
              "        [0.2503767 ],\n",
              "        [0.09844299],\n",
              "        [0.09718734],\n",
              "        [0.11928679],\n",
              "        [0.18407835],\n",
              "        [0.14640884]],\n",
              "\n",
              "       [[0.31767956],\n",
              "        [0.31592165],\n",
              "        [0.66373682],\n",
              "        [0.35660472],\n",
              "        [0.30688096],\n",
              "        [0.31767956],\n",
              "        [0.37343044],\n",
              "        [0.36966349],\n",
              "        [0.37669513],\n",
              "        [0.41863385],\n",
              "        [0.35735811],\n",
              "        [0.43119036],\n",
              "        [0.38171773],\n",
              "        [0.27498744],\n",
              "        [0.26494224],\n",
              "        [0.31567052],\n",
              "        [0.29306881],\n",
              "        [0.18206931],\n",
              "        [0.18960321],\n",
              "        [0.23606228],\n",
              "        [0.25414365],\n",
              "        [0.21220492],\n",
              "        [0.27749874],\n",
              "        [0.2503767 ],\n",
              "        [0.09844299],\n",
              "        [0.09718734],\n",
              "        [0.11928679],\n",
              "        [0.18407835],\n",
              "        [0.14640884],\n",
              "        [0.20919136]],\n",
              "\n",
              "       [[0.31592165],\n",
              "        [0.66373682],\n",
              "        [0.35660472],\n",
              "        [0.30688096],\n",
              "        [0.31767956],\n",
              "        [0.37343044],\n",
              "        [0.36966349],\n",
              "        [0.37669513],\n",
              "        [0.41863385],\n",
              "        [0.35735811],\n",
              "        [0.43119036],\n",
              "        [0.38171773],\n",
              "        [0.27498744],\n",
              "        [0.26494224],\n",
              "        [0.31567052],\n",
              "        [0.29306881],\n",
              "        [0.18206931],\n",
              "        [0.18960321],\n",
              "        [0.23606228],\n",
              "        [0.25414365],\n",
              "        [0.21220492],\n",
              "        [0.27749874],\n",
              "        [0.2503767 ],\n",
              "        [0.09844299],\n",
              "        [0.09718734],\n",
              "        [0.11928679],\n",
              "        [0.18407835],\n",
              "        [0.14640884],\n",
              "        [0.20919136],\n",
              "        [0.29708689]]])>"
            ]
          },
          "metadata": {
            "tags": []
          },
          "execution_count": 24
        },
        {
          "output_type": "stream",
          "text": [
            "time: 15.3 ms (started: 2021-05-13 14:00:19 +00:00)\n"
          ],
          "name": "stdout"
        }
      ]
    },
    {
      "cell_type": "code",
      "metadata": {
        "id": "equal-intervention",
        "colab": {
          "base_uri": "https://localhost:8080/"
        },
        "outputId": "5ce74815-945f-4b58-baaf-ba36cb34f24a"
      },
      "source": [
        "print(testX.shape)"
      ],
      "id": "equal-intervention",
      "execution_count": 25,
      "outputs": [
        {
          "output_type": "stream",
          "text": [
            "(296, 30, 1)\n",
            "time: 2.58 ms (started: 2021-05-13 14:00:19 +00:00)\n"
          ],
          "name": "stdout"
        }
      ]
    },
    {
      "cell_type": "markdown",
      "metadata": {
        "id": "bddK1FOuJWue"
      },
      "source": [
        "#### **Model Training**"
      ],
      "id": "bddK1FOuJWue"
    },
    {
      "cell_type": "code",
      "metadata": {
        "id": "enabling-lease",
        "colab": {
          "base_uri": "https://localhost:8080/"
        },
        "outputId": "db555e2d-e391-4e59-bbfb-e53318e2cdb7"
      },
      "source": [
        "# Set Hyperparameter\n",
        "optimizer = tf.keras.optimizers.Adam(0.0001)\n",
        "loss = tf.keras.losses.LogCosh() # or 'huber' or 'mean_squared_error'\n",
        "activation = 'relu'\n",
        "dropout = 0.02\n",
        "epochs = 15\n",
        "verbose = 1\n",
        "units = 1 # LSTM output units\n",
        "repeat = 1\n",
        "batch_size = 1"
      ],
      "id": "enabling-lease",
      "execution_count": 26,
      "outputs": [
        {
          "output_type": "stream",
          "text": [
            "time: 7.23 ms (started: 2021-05-13 14:00:19 +00:00)\n"
          ],
          "name": "stdout"
        }
      ]
    },
    {
      "cell_type": "code",
      "metadata": {
        "id": "virgin-license",
        "colab": {
          "base_uri": "https://localhost:8080/"
        },
        "outputId": "d9b193c1-5f24-45d4-c153-a642caae7f1d"
      },
      "source": [
        "model = keras.Sequential(name=\"my_sequential\")\n",
        "\n",
        "# https://www.tensorflow.org/api_docs/python/tf/keras/layers/LSTM\n",
        "\n",
        "# Add a LSTM layer with internal units.\n",
        "model.add(layers.LSTM(units, \n",
        "                      input_shape=(window, features),\n",
        "                      dropout = dropout,\n",
        "                      return_sequences=False, \n",
        "                      activation=activation, \n",
        "                      name=\"layer1\"))\n",
        "\n",
        "# Add a Dense layer with 1 unit (das aktivieren, falls LSTM output units > 1)\n",
        "# model.add(layers.Dense(1, activation = 'linear', name=\"layer2\"))\n",
        "\n",
        "# Call model on a test input\n",
        "trainY = model(trainX)"
      ],
      "id": "virgin-license",
      "execution_count": 27,
      "outputs": [
        {
          "output_type": "stream",
          "text": [
            "time: 269 ms (started: 2021-05-13 14:00:19 +00:00)\n"
          ],
          "name": "stdout"
        }
      ]
    },
    {
      "cell_type": "code",
      "metadata": {
        "id": "silver-pledge",
        "colab": {
          "base_uri": "https://localhost:8080/"
        },
        "outputId": "d104467f-1463-4fa7-ff9a-eda82cb1be79"
      },
      "source": [
        "model.summary()"
      ],
      "id": "silver-pledge",
      "execution_count": 28,
      "outputs": [
        {
          "output_type": "stream",
          "text": [
            "Model: \"my_sequential\"\n",
            "_________________________________________________________________\n",
            "Layer (type)                 Output Shape              Param #   \n",
            "=================================================================\n",
            "layer1 (LSTM)                (None, 1)                 12        \n",
            "=================================================================\n",
            "Total params: 12\n",
            "Trainable params: 12\n",
            "Non-trainable params: 0\n",
            "_________________________________________________________________\n",
            "time: 6.81 ms (started: 2021-05-13 14:00:19 +00:00)\n"
          ],
          "name": "stdout"
        }
      ]
    },
    {
      "cell_type": "code",
      "metadata": {
        "id": "burning-simple",
        "colab": {
          "base_uri": "https://localhost:8080/"
        },
        "outputId": "bcd5f780-7dbf-4549-a7f7-19f73cbd9f4f"
      },
      "source": [
        "trainY.shape"
      ],
      "id": "burning-simple",
      "execution_count": 29,
      "outputs": [
        {
          "output_type": "execute_result",
          "data": {
            "text/plain": [
              "TensorShape([2907, 1])"
            ]
          },
          "metadata": {
            "tags": []
          },
          "execution_count": 29
        },
        {
          "output_type": "stream",
          "text": [
            "time: 3.21 ms (started: 2021-05-13 14:00:19 +00:00)\n"
          ],
          "name": "stdout"
        }
      ]
    },
    {
      "cell_type": "code",
      "metadata": {
        "id": "breeding-injection",
        "colab": {
          "base_uri": "https://localhost:8080/"
        },
        "outputId": "b6100d0d-c8d0-4af2-eff1-f1984527d009"
      },
      "source": [
        "# model.weights"
      ],
      "id": "breeding-injection",
      "execution_count": 30,
      "outputs": [
        {
          "output_type": "stream",
          "text": [
            "time: 1.08 ms (started: 2021-05-13 14:00:19 +00:00)\n"
          ],
          "name": "stdout"
        }
      ]
    },
    {
      "cell_type": "code",
      "metadata": {
        "id": "naked-journalism",
        "colab": {
          "base_uri": "https://localhost:8080/"
        },
        "outputId": "7314b053-b3a6-4dbd-f043-b62da830b9d9"
      },
      "source": [
        "# print(\"Number of weights after calling the model:\", len(model.weights))"
      ],
      "id": "naked-journalism",
      "execution_count": 31,
      "outputs": [
        {
          "output_type": "stream",
          "text": [
            "time: 929 µs (started: 2021-05-13 14:00:19 +00:00)\n"
          ],
          "name": "stdout"
        }
      ]
    },
    {
      "cell_type": "code",
      "metadata": {
        "id": "invisible-canon",
        "colab": {
          "base_uri": "https://localhost:8080/"
        },
        "outputId": "6e1ae777-de4f-4d82-b384-699f7e1b3dec"
      },
      "source": [
        "model.compile(loss=loss, \n",
        "              optimizer=optimizer, \n",
        "              metrics=['mse'])"
      ],
      "id": "invisible-canon",
      "execution_count": 32,
      "outputs": [
        {
          "output_type": "stream",
          "text": [
            "time: 23.4 ms (started: 2021-05-13 14:00:19 +00:00)\n"
          ],
          "name": "stdout"
        }
      ]
    },
    {
      "cell_type": "code",
      "metadata": {
        "id": "changing-pennsylvania",
        "colab": {
          "base_uri": "https://localhost:8080/"
        },
        "outputId": "c9e400c0-5aad-4049-fdce-ed879948d8d9"
      },
      "source": [
        "# Prepare visualisation - Plot Losses Keras TF (simple)\n",
        "!pip install livelossplot --quiet\n",
        "from livelossplot import PlotLossesKerasTF\n",
        "\n",
        "# Select visualization method\n",
        "callbacks = [PlotLossesKerasTF()]"
      ],
      "id": "changing-pennsylvania",
      "execution_count": 33,
      "outputs": [
        {
          "output_type": "stream",
          "text": [
            "time: 2.96 s (started: 2021-05-13 14:00:19 +00:00)\n"
          ],
          "name": "stdout"
        }
      ]
    },
    {
      "cell_type": "code",
      "metadata": {
        "id": "original-navigator",
        "colab": {
          "base_uri": "https://localhost:8080/",
          "height": 620
        },
        "outputId": "683c61c4-b145-46ca-8620-6c57f83bea1f"
      },
      "source": [
        "# Train model\n",
        "model.fit(trainX,\n",
        "          trainY, \n",
        "          epochs=epochs, \n",
        "          verbose=verbose, \n",
        "          shuffle=False, \n",
        "          callbacks=callbacks)"
      ],
      "id": "original-navigator",
      "execution_count": 34,
      "outputs": [
        {
          "output_type": "display_data",
          "data": {
            "image/png": "[encoded data removed]",
            "text/plain": [
              "<Figure size 864x576 with 2 Axes>"
            ]
          },
          "metadata": {
            "tags": [],
            "needs_background": "light"
          }
        },
        {
          "output_type": "stream",
          "text": [
            "Loss\n",
            "\tloss             \t (min:    0.000, max:    0.000, cur:    0.000)\n",
            "Mean Squared Error\n",
            "\tmse              \t (min:    0.000, max:    0.000, cur:    0.000)\n"
          ],
          "name": "stdout"
        },
        {
          "output_type": "execute_result",
          "data": {
            "text/plain": [
              "<tensorflow.python.keras.callbacks.History at 0x7fa0270fbcd0>"
            ]
          },
          "metadata": {
            "tags": []
          },
          "execution_count": 34
        },
        {
          "output_type": "stream",
          "text": [
            "time: 1min 49s (started: 2021-05-13 14:00:22 +00:00)\n"
          ],
          "name": "stdout"
        }
      ]
    },
    {
      "cell_type": "markdown",
      "metadata": {
        "id": "mighty-italic"
      },
      "source": [
        "#### **Make Predictions**"
      ],
      "id": "mighty-italic"
    },
    {
      "cell_type": "code",
      "metadata": {
        "id": "universal-surface",
        "colab": {
          "base_uri": "https://localhost:8080/"
        },
        "outputId": "ffdc23cc-9fe3-41b2-e2cd-7dd70e8b9092"
      },
      "source": [
        "trainPredict = model.predict(trainX)\n",
        "model.reset_states()\n",
        "testPredict = model.predict(testX)"
      ],
      "id": "universal-surface",
      "execution_count": 35,
      "outputs": [
        {
          "output_type": "stream",
          "text": [
            "time: 471 ms (started: 2021-05-13 14:02:12 +00:00)\n"
          ],
          "name": "stdout"
        }
      ]
    },
    {
      "cell_type": "markdown",
      "metadata": {
        "id": "scientific-joint"
      },
      "source": [
        "#### **Predictions (Train & Test)**"
      ],
      "id": "scientific-joint"
    },
    {
      "cell_type": "markdown",
      "metadata": {
        "id": "varied-gross"
      },
      "source": [
        "**Test Predict**"
      ],
      "id": "varied-gross"
    },
    {
      "cell_type": "code",
      "metadata": {
        "id": "medieval-accident",
        "colab": {
          "base_uri": "https://localhost:8080/"
        },
        "outputId": "6bf45927-1096-4ea9-d92a-00389077565a"
      },
      "source": [
        "testPredict [0:10]"
      ],
      "id": "medieval-accident",
      "execution_count": 36,
      "outputs": [
        {
          "output_type": "execute_result",
          "data": {
            "text/plain": [
              "array([[0.02011217],\n",
              "       [0.01797174],\n",
              "       [0.02088983],\n",
              "       [0.0207491 ],\n",
              "       [0.02442836],\n",
              "       [0.01902099],\n",
              "       [0.01420214],\n",
              "       [0.02240003],\n",
              "       [0.02304174],\n",
              "       [0.02006119]], dtype=float32)"
            ]
          },
          "metadata": {
            "tags": []
          },
          "execution_count": 36
        },
        {
          "output_type": "stream",
          "text": [
            "time: 8.33 ms (started: 2021-05-13 14:02:12 +00:00)\n"
          ],
          "name": "stdout"
        }
      ]
    },
    {
      "cell_type": "code",
      "metadata": {
        "id": "above-burns",
        "colab": {
          "base_uri": "https://localhost:8080/"
        },
        "outputId": "20094652-0432-4cc5-cc92-71623afc8121"
      },
      "source": [
        "testPredict = scaler.inverse_transform(testPredict)\n",
        "testPredict [0:10]"
      ],
      "id": "above-burns",
      "execution_count": 37,
      "outputs": [
        {
          "output_type": "execute_result",
          "data": {
            "text/plain": [
              "array([[8.008667 ],\n",
              "       [7.1563473],\n",
              "       [8.318329 ],\n",
              "       [8.26229  ],\n",
              "       [9.727373 ],\n",
              "       [7.5741568],\n",
              "       [5.6552916],\n",
              "       [8.919692 ],\n",
              "       [9.1752205],\n",
              "       [7.988367 ]], dtype=float32)"
            ]
          },
          "metadata": {
            "tags": []
          },
          "execution_count": 37
        },
        {
          "output_type": "stream",
          "text": [
            "time: 6.12 ms (started: 2021-05-13 14:02:12 +00:00)\n"
          ],
          "name": "stdout"
        }
      ]
    },
    {
      "cell_type": "markdown",
      "metadata": {
        "id": "convinced-experience"
      },
      "source": [
        "**Train Predict**"
      ],
      "id": "convinced-experience"
    },
    {
      "cell_type": "code",
      "metadata": {
        "id": "superior-aquatic",
        "colab": {
          "base_uri": "https://localhost:8080/"
        },
        "outputId": "741ad85f-8ce6-4e3c-893e-b56b393e4e20"
      },
      "source": [
        "trainPredict [0:10]"
      ],
      "id": "superior-aquatic",
      "execution_count": 38,
      "outputs": [
        {
          "output_type": "execute_result",
          "data": {
            "text/plain": [
              "array([[0.13136576],\n",
              "       [0.1348214 ],\n",
              "       [0.1373658 ],\n",
              "       [0.12100115],\n",
              "       [0.10170856],\n",
              "       [0.09192733],\n",
              "       [0.09544891],\n",
              "       [0.09462059],\n",
              "       [0.10144081],\n",
              "       [0.11920251]], dtype=float32)"
            ]
          },
          "metadata": {
            "tags": []
          },
          "execution_count": 38
        },
        {
          "output_type": "stream",
          "text": [
            "time: 7.19 ms (started: 2021-05-13 14:02:12 +00:00)\n"
          ],
          "name": "stdout"
        }
      ]
    },
    {
      "cell_type": "code",
      "metadata": {
        "id": "accredited-parts",
        "colab": {
          "base_uri": "https://localhost:8080/"
        },
        "outputId": "453efef4-6845-4928-c020-bc529a62dc50"
      },
      "source": [
        "trainPredict = scaler.inverse_transform(trainPredict)\n",
        "trainPredict [0:10]"
      ],
      "id": "accredited-parts",
      "execution_count": 39,
      "outputs": [
        {
          "output_type": "execute_result",
          "data": {
            "text/plain": [
              "array([[52.309845],\n",
              "       [53.685883],\n",
              "       [54.699062],\n",
              "       [48.182655],\n",
              "       [40.50035 ],\n",
              "       [36.60546 ],\n",
              "       [38.007755],\n",
              "       [37.677917],\n",
              "       [40.39373 ],\n",
              "       [47.46644 ]], dtype=float32)"
            ]
          },
          "metadata": {
            "tags": []
          },
          "execution_count": 39
        },
        {
          "output_type": "stream",
          "text": [
            "time: 11.6 ms (started: 2021-05-13 14:02:12 +00:00)\n"
          ],
          "name": "stdout"
        }
      ]
    },
    {
      "cell_type": "markdown",
      "metadata": {
        "id": "exact-immigration"
      },
      "source": [
        "#### **Actual (Train & Test)**"
      ],
      "id": "exact-immigration"
    },
    {
      "cell_type": "markdown",
      "metadata": {
        "id": "designed-narrow"
      },
      "source": [
        "**Test Actual**"
      ],
      "id": "designed-narrow"
    },
    {
      "cell_type": "code",
      "metadata": {
        "id": "apparent-evanescence",
        "colab": {
          "base_uri": "https://localhost:8080/"
        },
        "outputId": "bdd6aa78-cdf2-4316-9abe-4819b6ea1a5e"
      },
      "source": [
        "testY [0:10]"
      ],
      "id": "apparent-evanescence",
      "execution_count": 40,
      "outputs": [
        {
          "output_type": "execute_result",
          "data": {
            "text/plain": [
              "array([0.01908589, 0.04143646, 0.02963335, 0.04947263, 0.0075339 ,\n",
              "       0.00175791, 0.06253139, 0.03515821, 0.01858363, 0.02762431])"
            ]
          },
          "metadata": {
            "tags": []
          },
          "execution_count": 40
        },
        {
          "output_type": "stream",
          "text": [
            "time: 8.24 ms (started: 2021-05-13 14:02:12 +00:00)\n"
          ],
          "name": "stdout"
        }
      ]
    },
    {
      "cell_type": "code",
      "metadata": {
        "id": "sexual-edmonton",
        "colab": {
          "base_uri": "https://localhost:8080/"
        },
        "outputId": "47ea2de4-2d10-4603-f68c-45437746410d"
      },
      "source": [
        "testY = scaler.inverse_transform([testY])\n",
        "testY [0:10]"
      ],
      "id": "sexual-edmonton",
      "execution_count": 41,
      "outputs": [
        {
          "output_type": "execute_result",
          "data": {
            "text/plain": [
              "array([[7.600e+00, 1.650e+01, 1.180e+01, 1.970e+01, 3.000e+00, 7.000e-01,\n",
              "        2.490e+01, 1.400e+01, 7.400e+00, 1.100e+01, 1.210e+01, 2.300e+01,\n",
              "        2.540e+01, 2.080e+01, 1.290e+01, 3.570e+01, 5.970e+01, 3.280e+01,\n",
              "        5.040e+01, 5.550e+01, 4.450e+01, 5.020e+01, 8.200e+01, 7.060e+01,\n",
              "        7.400e+01, 9.050e+01, 9.670e+01, 1.211e+02, 1.320e+02, 7.850e+01,\n",
              "        9.730e+01, 1.192e+02, 8.600e+01, 9.800e+01, 1.035e+02, 9.360e+01,\n",
              "        1.496e+02, 2.072e+02, 1.735e+02, 1.423e+02, 1.063e+02, 1.687e+02,\n",
              "        1.883e+02, 1.168e+02, 1.331e+02, 1.657e+02, 2.177e+02, 1.915e+02,\n",
              "        1.659e+02, 1.880e+02, 2.443e+02, 1.805e+02, 1.560e+02, 1.416e+02,\n",
              "        1.581e+02, 1.433e+02, 1.426e+02, 1.215e+02, 1.658e+02, 1.617e+02,\n",
              "        1.421e+02, 2.029e+02, 1.230e+02, 1.615e+02, 2.382e+02, 1.941e+02,\n",
              "        1.766e+02, 2.134e+02, 1.846e+02, 1.702e+02, 1.471e+02, 1.869e+02,\n",
              "        1.875e+02, 1.288e+02, 1.610e+02, 1.756e+02, 1.879e+02, 1.512e+02,\n",
              "        1.472e+02, 1.353e+02, 1.335e+02, 7.570e+01, 1.007e+02, 9.790e+01,\n",
              "        8.680e+01, 1.187e+02, 1.283e+02, 1.154e+02, 7.850e+01, 9.780e+01,\n",
              "        8.290e+01, 7.220e+01, 6.060e+01, 7.460e+01, 7.480e+01, 5.920e+01,\n",
              "        7.280e+01, 6.650e+01, 8.380e+01, 6.970e+01, 4.880e+01, 7.420e+01,\n",
              "        7.010e+01, 2.890e+01, 4.810e+01, 4.350e+01, 3.960e+01, 3.870e+01,\n",
              "        6.190e+01, 5.680e+01, 6.240e+01, 6.050e+01, 3.720e+01, 1.320e+01,\n",
              "        2.750e+01, 5.930e+01, 2.090e+01, 5.700e+00, 1.730e+01, 5.030e+01,\n",
              "        3.720e+01, 2.450e+01, 2.220e+01, 2.080e+01, 2.370e+01, 1.490e+01,\n",
              "        3.570e+01, 2.230e+01, 2.930e+01, 1.840e+01, 7.200e+00, 5.400e+00,\n",
              "        1.950e+01, 2.130e+01, 1.510e+01, 9.800e+00, 4.000e+00, 1.500e+00,\n",
              "        2.800e+00, 1.730e+01, 4.100e+00, 2.900e+00, 1.550e+01, 3.600e+00,\n",
              "        4.600e+00, 5.200e+00, 6.000e-01, 3.000e-01, 1.200e+00, 4.200e+00,\n",
              "        6.600e+00, 1.000e+00, 1.300e+00, 1.200e+00, 6.000e-01, 1.200e+00,\n",
              "        2.900e+00, 6.300e+00, 5.500e+00, 0.000e+00, 7.100e+00, 7.700e+00,\n",
              "        6.900e+00, 1.630e+01, 1.950e+01, 2.850e+01, 2.400e+01, 1.040e+01,\n",
              "        1.390e+01, 1.880e+01, 2.520e+01, 2.960e+01, 3.640e+01, 3.360e+01,\n",
              "        3.440e+01, 2.450e+01, 2.730e+01, 4.830e+01, 7.860e+01, 7.610e+01,\n",
              "        5.820e+01, 5.610e+01, 6.450e+01, 6.580e+01, 1.201e+02, 1.257e+02,\n",
              "        1.391e+02, 1.093e+02, 9.440e+01, 4.780e+01, 8.660e+01, 8.590e+01,\n",
              "        9.650e+01, 9.200e+01, 1.001e+02, 9.480e+01, 9.370e+01, 7.650e+01,\n",
              "        8.760e+01, 5.680e+01, 9.610e+01, 6.090e+01, 7.830e+01, 1.073e+02,\n",
              "        1.202e+02, 7.670e+01, 8.620e+01, 9.180e+01, 5.450e+01, 1.144e+02,\n",
              "        1.139e+02, 1.242e+02, 1.170e+02, 1.461e+02, 1.287e+02, 1.125e+02,\n",
              "        1.125e+02, 1.029e+02, 1.002e+02, 1.069e+02, 1.300e+02, 9.000e+01,\n",
              "        1.036e+02, 1.129e+02, 9.300e+01, 6.670e+01, 5.450e+01, 7.530e+01,\n",
              "        8.880e+01, 6.650e+01, 6.580e+01, 6.440e+01, 7.860e+01, 6.360e+01,\n",
              "        6.220e+01, 5.800e+01, 5.700e+01, 5.640e+01, 5.410e+01, 3.790e+01,\n",
              "        5.150e+01, 2.050e+01, 3.240e+01, 5.020e+01, 4.460e+01, 3.340e+01,\n",
              "        2.140e+01, 1.850e+01, 2.610e+01, 2.640e+01, 1.770e+01, 3.230e+01,\n",
              "        1.890e+01, 1.920e+01, 1.780e+01, 3.260e+01, 4.370e+01, 1.320e+01,\n",
              "        5.700e+00, 8.200e+00, 6.800e+00, 1.070e+01, 2.500e+00, 8.900e+00,\n",
              "        1.310e+01, 1.560e+01, 1.600e+00, 8.700e+00, 3.300e+00, 4.900e+00,\n",
              "        4.900e+00, 3.100e+00, 7.700e+00, 8.000e-01, 9.400e+00, 9.100e+00,\n",
              "        9.900e+00, 1.200e+00, 9.000e-01, 5.000e-01, 1.100e+00, 4.000e-01,\n",
              "        5.000e-01, 1.500e+00, 6.200e+00, 2.000e-01, 1.500e+00, 5.200e+00,\n",
              "        2.000e-01, 5.800e+00, 6.100e+00, 7.500e+00, 6.000e-01, 1.440e+01,\n",
              "        3.400e+01, 2.180e+01]])"
            ]
          },
          "metadata": {
            "tags": []
          },
          "execution_count": 41
        },
        {
          "output_type": "stream",
          "text": [
            "time: 13.7 ms (started: 2021-05-13 14:02:12 +00:00)\n"
          ],
          "name": "stdout"
        }
      ]
    },
    {
      "cell_type": "markdown",
      "metadata": {
        "id": "accessible-wings"
      },
      "source": [
        "**Train Actual**"
      ],
      "id": "accessible-wings"
    },
    {
      "cell_type": "code",
      "metadata": {
        "id": "adjustable-boating",
        "colab": {
          "base_uri": "https://localhost:8080/"
        },
        "outputId": "0e9a4609-dfe8-472a-da7b-f396d737e932"
      },
      "source": [
        "trainY [0:10]"
      ],
      "id": "adjustable-boating",
      "execution_count": 42,
      "outputs": [
        {
          "output_type": "execute_result",
          "data": {
            "text/plain": [
              "<tf.Tensor: shape=(10, 1), dtype=float32, numpy=\n",
              "array([[0.13177486],\n",
              "       [0.13528933],\n",
              "       [0.13781205],\n",
              "       [0.12129004],\n",
              "       [0.10203832],\n",
              "       [0.09229296],\n",
              "       [0.09582809],\n",
              "       [0.09500281],\n",
              "       [0.10183208],\n",
              "       [0.11957234]], dtype=float32)>"
            ]
          },
          "metadata": {
            "tags": []
          },
          "execution_count": 42
        },
        {
          "output_type": "stream",
          "text": [
            "time: 7.26 ms (started: 2021-05-13 14:02:12 +00:00)\n"
          ],
          "name": "stdout"
        }
      ]
    },
    {
      "cell_type": "code",
      "metadata": {
        "id": "challenging-carnival",
        "colab": {
          "base_uri": "https://localhost:8080/"
        },
        "outputId": "8cdebe0c-f6ea-4b49-a21d-888faf2a3003"
      },
      "source": [
        "# Convert / Create a numpy ndarray from a tensor\n",
        "trainY = tf.make_tensor_proto(trainY)  # convert `tensor a` to a proto tensor\n",
        "trainY = tf.make_ndarray(trainY)\n",
        "trainY [0:10]"
      ],
      "id": "challenging-carnival",
      "execution_count": 43,
      "outputs": [
        {
          "output_type": "execute_result",
          "data": {
            "text/plain": [
              "array([[0.13177486],\n",
              "       [0.13528933],\n",
              "       [0.13781205],\n",
              "       [0.12129004],\n",
              "       [0.10203832],\n",
              "       [0.09229296],\n",
              "       [0.09582809],\n",
              "       [0.09500281],\n",
              "       [0.10183208],\n",
              "       [0.11957234]], dtype=float32)"
            ]
          },
          "metadata": {
            "tags": []
          },
          "execution_count": 43
        },
        {
          "output_type": "stream",
          "text": [
            "time: 12 ms (started: 2021-05-13 14:02:13 +00:00)\n"
          ],
          "name": "stdout"
        }
      ]
    },
    {
      "cell_type": "code",
      "metadata": {
        "id": "mathematical-species",
        "colab": {
          "base_uri": "https://localhost:8080/"
        },
        "outputId": "aa029146-2da6-4864-d9fc-0d9a5c728865"
      },
      "source": [
        "trainY.shape"
      ],
      "id": "mathematical-species",
      "execution_count": 44,
      "outputs": [
        {
          "output_type": "execute_result",
          "data": {
            "text/plain": [
              "(2907, 1)"
            ]
          },
          "metadata": {
            "tags": []
          },
          "execution_count": 44
        },
        {
          "output_type": "stream",
          "text": [
            "time: 6.21 ms (started: 2021-05-13 14:02:13 +00:00)\n"
          ],
          "name": "stdout"
        }
      ]
    },
    {
      "cell_type": "code",
      "metadata": {
        "id": "ordinary-defendant",
        "colab": {
          "base_uri": "https://localhost:8080/"
        },
        "outputId": "42b18960-d2b6-42cb-f509-1c1ce1caf803"
      },
      "source": [
        "# trainY = scaler.inverse_transform([trainY])\n",
        "trainY [0:10]"
      ],
      "id": "ordinary-defendant",
      "execution_count": 45,
      "outputs": [
        {
          "output_type": "execute_result",
          "data": {
            "text/plain": [
              "array([[0.13177486],\n",
              "       [0.13528933],\n",
              "       [0.13781205],\n",
              "       [0.12129004],\n",
              "       [0.10203832],\n",
              "       [0.09229296],\n",
              "       [0.09582809],\n",
              "       [0.09500281],\n",
              "       [0.10183208],\n",
              "       [0.11957234]], dtype=float32)"
            ]
          },
          "metadata": {
            "tags": []
          },
          "execution_count": 45
        },
        {
          "output_type": "stream",
          "text": [
            "time: 6.89 ms (started: 2021-05-13 14:02:13 +00:00)\n"
          ],
          "name": "stdout"
        }
      ]
    },
    {
      "cell_type": "markdown",
      "metadata": {
        "id": "occupational-myanmar"
      },
      "source": [
        "#### **Residuals**"
      ],
      "id": "occupational-myanmar"
    },
    {
      "cell_type": "code",
      "metadata": {
        "id": "infrared-bouquet",
        "colab": {
          "base_uri": "https://localhost:8080/",
          "height": 242
        },
        "outputId": "e89ddb54-f1ae-479b-9dc3-70466e20e767"
      },
      "source": [
        "# Get residuals\n",
        "residuals = (testY[0] - testPredict[:,0])\n",
        "res = pd.DataFrame(data=residuals, columns=['residuals'])\n",
        "res.head()"
      ],
      "id": "infrared-bouquet",
      "execution_count": 46,
      "outputs": [
        {
          "output_type": "execute_result",
          "data": {
            "text/html": [
              "<div>\n",
              "<style scoped>\n",
              "    .dataframe tbody tr th:only-of-type {\n",
              "        vertical-align: middle;\n",
              "    }\n",
              "\n",
              "    .dataframe tbody tr th {\n",
              "        vertical-align: top;\n",
              "    }\n",
              "\n",
              "    .dataframe thead th {\n",
              "        text-align: right;\n",
              "    }\n",
              "</style>\n",
              "<table border=\"1\" class=\"dataframe\">\n",
              "  <thead>\n",
              "    <tr style=\"text-align: right;\">\n",
              "      <th></th>\n",
              "      <th>residuals</th>\n",
              "    </tr>\n",
              "  </thead>\n",
              "  <tbody>\n",
              "    <tr>\n",
              "      <th>0</th>\n",
              "      <td>-0.408667</td>\n",
              "    </tr>\n",
              "    <tr>\n",
              "      <th>1</th>\n",
              "      <td>9.343653</td>\n",
              "    </tr>\n",
              "    <tr>\n",
              "      <th>2</th>\n",
              "      <td>3.481671</td>\n",
              "    </tr>\n",
              "    <tr>\n",
              "      <th>3</th>\n",
              "      <td>11.437710</td>\n",
              "    </tr>\n",
              "    <tr>\n",
              "      <th>4</th>\n",
              "      <td>-6.727373</td>\n",
              "    </tr>\n",
              "  </tbody>\n",
              "</table>\n",
              "</div>"
            ],
            "text/plain": [
              "   residuals\n",
              "0  -0.408667\n",
              "1   9.343653\n",
              "2   3.481671\n",
              "3  11.437710\n",
              "4  -6.727373"
            ]
          },
          "metadata": {
            "tags": []
          },
          "execution_count": 46
        },
        {
          "output_type": "stream",
          "text": [
            "time: 19.1 ms (started: 2021-05-13 14:02:13 +00:00)\n"
          ],
          "name": "stdout"
        }
      ]
    },
    {
      "cell_type": "code",
      "metadata": {
        "id": "adequate-sheep",
        "colab": {
          "base_uri": "https://localhost:8080/",
          "height": 90
        },
        "outputId": "7562c1cd-c724-4732-b790-af406f624182"
      },
      "source": [
        "# Plot Residuals\n",
        "sns.set(rc={'figure.figsize':(15, 8)})\n",
        "res.plot(title='Residuals')"
      ],
      "id": "adequate-sheep",
      "execution_count": 47,
      "outputs": [
        {
          "output_type": "execute_result",
          "data": {
            "text/plain": [
              "<matplotlib.axes._subplots.AxesSubplot at 0x7fa01b2ca950>"
            ]
          },
          "metadata": {
            "tags": []
          },
          "execution_count": 47
        },
        {
          "output_type": "display_data",
          "data": {
            "image/png": "[encoded data removed]",
            "text/plain": [
              "<Figure size 1080x576 with 1 Axes>"
            ]
          },
          "metadata": {
            "tags": []
          }
        },
        {
          "output_type": "stream",
          "text": [
            "time: 463 ms (started: 2021-05-13 14:02:13 +00:00)\n"
          ],
          "name": "stdout"
        }
      ]
    },
    {
      "cell_type": "markdown",
      "metadata": {
        "id": "surface-happening"
      },
      "source": [
        "#### **Calculate RMSE & Plot**"
      ],
      "id": "surface-happening"
    },
    {
      "cell_type": "code",
      "metadata": {
        "colab": {
          "base_uri": "https://localhost:8080/"
        },
        "id": "n_TYoqSNdTJ8",
        "outputId": "ea35047f-95e6-4460-8e48-7271a8ea241f"
      },
      "source": [
        "# Inverse original data\n",
        "data = scaler.inverse_transform(data)\n",
        "data"
      ],
      "id": "n_TYoqSNdTJ8",
      "execution_count": 48,
      "outputs": [
        {
          "output_type": "execute_result",
          "data": {
            "text/plain": [
              "array([[ 96.7],\n",
              "       [104.3],\n",
              "       [116.7],\n",
              "       ...,\n",
              "       [ 34. ],\n",
              "       [ 21.8],\n",
              "       [ 10.4]])"
            ]
          },
          "metadata": {
            "tags": []
          },
          "execution_count": 48
        },
        {
          "output_type": "stream",
          "text": [
            "time: 4.49 ms (started: 2021-05-13 14:02:13 +00:00)\n"
          ],
          "name": "stdout"
        }
      ]
    },
    {
      "cell_type": "code",
      "metadata": {
        "id": "prostate-harvard",
        "colab": {
          "base_uri": "https://localhost:8080/",
          "height": 340
        },
        "outputId": "d32ed6d2-84d3-4020-d92b-c87d26c1ae7f"
      },
      "source": [
        "# Plot results\n",
        "\n",
        "# shift train predictions for plotting\n",
        "trainPredictPlot = np.empty_like(dataset)\n",
        "trainPredictPlot[:, :] = np.nan\n",
        "trainPredictPlot[window:len(trainPredict)+window, :] = trainPredict\n",
        "\n",
        "# shift test predictions for plotting\n",
        "testPredictPlot = np.empty_like(dataset)\n",
        "testPredictPlot[:, :] = np.nan\n",
        "testPredictPlot[len(trainPredict)+(window*2)+1:len(dataset)-1, :] = testPredict\n",
        "\n",
        "# plot baseline and predictions\n",
        "sns.set(rc={'figure.figsize':(11, 5)})\n",
        "#plt.plot(scaler.inverse_transform(dataset))\n",
        "plt.plot(data)\n",
        "plt.plot(trainPredictPlot)\n",
        "plt.plot(testPredictPlot)\n",
        "plt.show()"
      ],
      "id": "prostate-harvard",
      "execution_count": 49,
      "outputs": [
        {
          "output_type": "display_data",
          "data": {
            "image/png": "[encoded data removed]",
            "text/plain": [
              "<Figure size 792x360 with 1 Axes>"
            ]
          },
          "metadata": {
            "tags": []
          }
        },
        {
          "output_type": "stream",
          "text": [
            "time: 377 ms (started: 2021-05-13 14:02:13 +00:00)\n"
          ],
          "name": "stdout"
        }
      ]
    },
    {
      "cell_type": "code",
      "metadata": {
        "colab": {
          "base_uri": "https://localhost:8080/"
        },
        "id": "dsfjjVQ6c3jh",
        "outputId": "47f6ffcc-4bcd-4fac-fb0f-bbcfa803a7c0"
      },
      "source": [
        "testScore = math.sqrt(mean_squared_error(testY[0], testPredict[:,0]))\n",
        "print('Test Score: %.2f RMSE' % (testScore))"
      ],
      "id": "dsfjjVQ6c3jh",
      "execution_count": 50,
      "outputs": [
        {
          "output_type": "stream",
          "text": [
            "Test Score: 45.25 RMSE\n",
            "time: 3.23 ms (started: 2021-05-13 14:02:13 +00:00)\n"
          ],
          "name": "stdout"
        }
      ]
    },
    {
      "cell_type": "code",
      "metadata": {
        "colab": {
          "base_uri": "https://localhost:8080/"
        },
        "id": "Idsbc79AdDnN",
        "outputId": "34dc0fdf-7972-44d6-a487-a54105ec3e06"
      },
      "source": [
        "# trainScore = math.sqrt(mean_squared_error(trainY[0], trainPredict[:,0]))\n",
        "# print('Train Score: %.2f RMSE' % (trainScore))"
      ],
      "id": "Idsbc79AdDnN",
      "execution_count": 51,
      "outputs": [
        {
          "output_type": "stream",
          "text": [
            "time: 1.11 ms (started: 2021-05-13 14:02:13 +00:00)\n"
          ],
          "name": "stdout"
        }
      ]
    }
  ]
}