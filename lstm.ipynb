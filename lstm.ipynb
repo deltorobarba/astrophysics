{
  "nbformat": 4,
  "nbformat_minor": 0,
  "metadata": {
    "colab": {
      "name": "lstm.ipynb",
      "provenance": [],
      "collapsed_sections": [],
      "include_colab_link": true
    },
    "kernelspec": {
      "name": "python3",
      "display_name": "Python 3"
    }
  },
  "cells": [
    {
      "cell_type": "markdown",
      "metadata": {
        "id": "view-in-github",
        "colab_type": "text"
      },
      "source": [
        "<a href=\"https://colab.research.google.com/github/deltorobarba/machinelearning/blob/master/lstm.ipynb\" target=\"_parent\"><img src=\"https://colab.research.google.com/assets/colab-badge.svg\" alt=\"Open In Colab\"/></a>"
      ]
    },
    {
      "cell_type": "markdown",
      "metadata": {
        "id": "9n0-469qA0YV",
        "colab_type": "text"
      },
      "source": [
        "# **Time Series Forecasting**"
      ]
    },
    {
      "cell_type": "code",
      "metadata": {
        "id": "Y_QF3gCJByQ_",
        "colab_type": "code",
        "outputId": "d6e81d07-c962-4fa9-a255-e349098d76ee",
        "colab": {
          "base_uri": "https://localhost:8080/",
          "height": 35
        }
      },
      "source": [
        "from __future__ import absolute_import, division, print_function, unicode_literals\n",
        "import pandas as pd\n",
        "import seaborn as sns\n",
        "import matplotlib.pyplot as plt\n",
        "import numpy as np\n",
        "import math\n",
        "from keras.models import Sequential\n",
        "from keras.layers import Dense\n",
        "from keras.layers import LSTM\n",
        "from sklearn.preprocessing import MinMaxScaler\n",
        "from sklearn.metrics import mean_squared_error\n",
        "import collections\n",
        "import tensorflow as tf\n",
        "from tensorflow.keras import layers\n",
        "print(tf.__version__)"
      ],
      "execution_count": 0,
      "outputs": [
        {
          "output_type": "stream",
          "text": [
            "2.2.0-rc4\n"
          ],
          "name": "stdout"
        }
      ]
    },
    {
      "cell_type": "markdown",
      "metadata": {
        "id": "tRoHBNu9sEIc",
        "colab_type": "text"
      },
      "source": [
        "https://machinelearningmastery.com/time-series-prediction-lstm-recurrent-neural-networks-python-keras/"
      ]
    },
    {
      "cell_type": "markdown",
      "metadata": {
        "id": "1MRwIM3ZQ7ux",
        "colab_type": "text"
      },
      "source": [
        "# **Data Exploration**"
      ]
    },
    {
      "cell_type": "code",
      "metadata": {
        "id": "okB3TphCRDtt",
        "colab_type": "code",
        "outputId": "01cfc8cc-8932-4ba5-c9ce-13cae8494459",
        "colab": {
          "base_uri": "https://localhost:8080/",
          "height": 204
        }
      },
      "source": [
        "url = 'https://raw.githubusercontent.com/deltorobarba/repo/master/google.csv'\n",
        "data = pd.read_csv(url)\n",
        "data.head()"
      ],
      "execution_count": 0,
      "outputs": [
        {
          "output_type": "execute_result",
          "data": {
            "text/html": [
              "<div>\n",
              "<style scoped>\n",
              "    .dataframe tbody tr th:only-of-type {\n",
              "        vertical-align: middle;\n",
              "    }\n",
              "\n",
              "    .dataframe tbody tr th {\n",
              "        vertical-align: top;\n",
              "    }\n",
              "\n",
              "    .dataframe thead th {\n",
              "        text-align: right;\n",
              "    }\n",
              "</style>\n",
              "<table border=\"1\" class=\"dataframe\">\n",
              "  <thead>\n",
              "    <tr style=\"text-align: right;\">\n",
              "      <th></th>\n",
              "      <th>Date</th>\n",
              "      <th>Open</th>\n",
              "      <th>High</th>\n",
              "      <th>Low</th>\n",
              "      <th>Close</th>\n",
              "      <th>Adj Close</th>\n",
              "      <th>Volume</th>\n",
              "    </tr>\n",
              "  </thead>\n",
              "  <tbody>\n",
              "    <tr>\n",
              "      <th>0</th>\n",
              "      <td>2010-02-01</td>\n",
              "      <td>266.301849</td>\n",
              "      <td>266.904572</td>\n",
              "      <td>264.159851</td>\n",
              "      <td>265.514771</td>\n",
              "      <td>265.514771</td>\n",
              "      <td>4518400</td>\n",
              "    </tr>\n",
              "    <tr>\n",
              "      <th>1</th>\n",
              "      <td>2010-02-02</td>\n",
              "      <td>266.481171</td>\n",
              "      <td>266.481171</td>\n",
              "      <td>262.819885</td>\n",
              "      <td>264.568329</td>\n",
              "      <td>264.568329</td>\n",
              "      <td>8223000</td>\n",
              "    </tr>\n",
              "    <tr>\n",
              "      <th>2</th>\n",
              "      <td>2010-02-03</td>\n",
              "      <td>263.347900</td>\n",
              "      <td>270.037842</td>\n",
              "      <td>263.128723</td>\n",
              "      <td>269.400208</td>\n",
              "      <td>269.400208</td>\n",
              "      <td>6020500</td>\n",
              "    </tr>\n",
              "    <tr>\n",
              "      <th>3</th>\n",
              "      <td>2010-02-04</td>\n",
              "      <td>267.497345</td>\n",
              "      <td>267.995483</td>\n",
              "      <td>261.798706</td>\n",
              "      <td>262.406433</td>\n",
              "      <td>262.406433</td>\n",
              "      <td>6780600</td>\n",
              "    </tr>\n",
              "    <tr>\n",
              "      <th>4</th>\n",
              "      <td>2010-02-05</td>\n",
              "      <td>263.213409</td>\n",
              "      <td>265.753876</td>\n",
              "      <td>260.254517</td>\n",
              "      <td>264.653015</td>\n",
              "      <td>264.653015</td>\n",
              "      <td>6335600</td>\n",
              "    </tr>\n",
              "  </tbody>\n",
              "</table>\n",
              "</div>"
            ],
            "text/plain": [
              "         Date        Open        High  ...       Close   Adj Close   Volume\n",
              "0  2010-02-01  266.301849  266.904572  ...  265.514771  265.514771  4518400\n",
              "1  2010-02-02  266.481171  266.481171  ...  264.568329  264.568329  8223000\n",
              "2  2010-02-03  263.347900  270.037842  ...  269.400208  269.400208  6020500\n",
              "3  2010-02-04  267.497345  267.995483  ...  262.406433  262.406433  6780600\n",
              "4  2010-02-05  263.213409  265.753876  ...  264.653015  264.653015  6335600\n",
              "\n",
              "[5 rows x 7 columns]"
            ]
          },
          "metadata": {
            "tags": []
          },
          "execution_count": 95
        }
      ]
    },
    {
      "cell_type": "code",
      "metadata": {
        "id": "G9u2p5mCRHQc",
        "colab_type": "code",
        "outputId": "5ad8f949-96e1-4512-b254-696fd498ee59",
        "colab": {
          "base_uri": "https://localhost:8080/",
          "height": 235
        }
      },
      "source": [
        "series = data[['Date', 'Close']].rename(columns={\"Date\": \"date\", \"Close\": \"price\"}).set_index('date')\n",
        "series.index = pd.to_datetime(series.index, utc=False)\n",
        "series.head()"
      ],
      "execution_count": 0,
      "outputs": [
        {
          "output_type": "execute_result",
          "data": {
            "text/html": [
              "<div>\n",
              "<style scoped>\n",
              "    .dataframe tbody tr th:only-of-type {\n",
              "        vertical-align: middle;\n",
              "    }\n",
              "\n",
              "    .dataframe tbody tr th {\n",
              "        vertical-align: top;\n",
              "    }\n",
              "\n",
              "    .dataframe thead th {\n",
              "        text-align: right;\n",
              "    }\n",
              "</style>\n",
              "<table border=\"1\" class=\"dataframe\">\n",
              "  <thead>\n",
              "    <tr style=\"text-align: right;\">\n",
              "      <th></th>\n",
              "      <th>price</th>\n",
              "    </tr>\n",
              "    <tr>\n",
              "      <th>date</th>\n",
              "      <th></th>\n",
              "    </tr>\n",
              "  </thead>\n",
              "  <tbody>\n",
              "    <tr>\n",
              "      <th>2010-02-01</th>\n",
              "      <td>265.514771</td>\n",
              "    </tr>\n",
              "    <tr>\n",
              "      <th>2010-02-02</th>\n",
              "      <td>264.568329</td>\n",
              "    </tr>\n",
              "    <tr>\n",
              "      <th>2010-02-03</th>\n",
              "      <td>269.400208</td>\n",
              "    </tr>\n",
              "    <tr>\n",
              "      <th>2010-02-04</th>\n",
              "      <td>262.406433</td>\n",
              "    </tr>\n",
              "    <tr>\n",
              "      <th>2010-02-05</th>\n",
              "      <td>264.653015</td>\n",
              "    </tr>\n",
              "  </tbody>\n",
              "</table>\n",
              "</div>"
            ],
            "text/plain": [
              "                 price\n",
              "date                  \n",
              "2010-02-01  265.514771\n",
              "2010-02-02  264.568329\n",
              "2010-02-03  269.400208\n",
              "2010-02-04  262.406433\n",
              "2010-02-05  264.653015"
            ]
          },
          "metadata": {
            "tags": []
          },
          "execution_count": 96
        }
      ]
    },
    {
      "cell_type": "code",
      "metadata": {
        "id": "TqajC14ARMBn",
        "colab_type": "code",
        "outputId": "e41ed889-0f78-4950-f42c-a47ae6863fb1",
        "colab": {
          "base_uri": "https://localhost:8080/",
          "height": 310
        }
      },
      "source": [
        "sns.set(rc={'figure.figsize':(10, 4), \"lines.linewidth\": 1.0})\n",
        "series.price.plot(title='Google Stock Market - Daily Price')"
      ],
      "execution_count": 0,
      "outputs": [
        {
          "output_type": "execute_result",
          "data": {
            "text/plain": [
              "<matplotlib.axes._subplots.AxesSubplot at 0x7fac9aa06390>"
            ]
          },
          "metadata": {
            "tags": []
          },
          "execution_count": 163
        },
        {
          "output_type": "display_data",
          "data": {
            "image/png": "[encoded data removed]",
            "text/plain": [
              "<Figure size 720x288 with 1 Axes>"
            ]
          },
          "metadata": {
            "tags": []
          }
        }
      ]
    },
    {
      "cell_type": "code",
      "metadata": {
        "id": "2-PHP0b9dhlZ",
        "colab_type": "code",
        "outputId": "634d8dfe-5e6c-479c-b2c2-0b5322988fed",
        "colab": {
          "base_uri": "https://localhost:8080/",
          "height": 235
        }
      },
      "source": [
        "differenced = series.copy()\n",
        "# differenced = differenced.drop(columns=['price])\n",
        "differenced['price'] = ((series.price) - ((series.price).shift(1)))\n",
        "# differenced['past'] = ((series.past) - ((series.past).shift(1)))\n",
        "differenced = differenced.dropna()\n",
        "differenced.head()"
      ],
      "execution_count": 0,
      "outputs": [
        {
          "output_type": "execute_result",
          "data": {
            "text/html": [
              "<div>\n",
              "<style scoped>\n",
              "    .dataframe tbody tr th:only-of-type {\n",
              "        vertical-align: middle;\n",
              "    }\n",
              "\n",
              "    .dataframe tbody tr th {\n",
              "        vertical-align: top;\n",
              "    }\n",
              "\n",
              "    .dataframe thead th {\n",
              "        text-align: right;\n",
              "    }\n",
              "</style>\n",
              "<table border=\"1\" class=\"dataframe\">\n",
              "  <thead>\n",
              "    <tr style=\"text-align: right;\">\n",
              "      <th></th>\n",
              "      <th>price</th>\n",
              "    </tr>\n",
              "    <tr>\n",
              "      <th>date</th>\n",
              "      <th></th>\n",
              "    </tr>\n",
              "  </thead>\n",
              "  <tbody>\n",
              "    <tr>\n",
              "      <th>2010-02-02</th>\n",
              "      <td>-0.946442</td>\n",
              "    </tr>\n",
              "    <tr>\n",
              "      <th>2010-02-03</th>\n",
              "      <td>4.831879</td>\n",
              "    </tr>\n",
              "    <tr>\n",
              "      <th>2010-02-04</th>\n",
              "      <td>-6.993775</td>\n",
              "    </tr>\n",
              "    <tr>\n",
              "      <th>2010-02-05</th>\n",
              "      <td>2.246582</td>\n",
              "    </tr>\n",
              "    <tr>\n",
              "      <th>2010-02-08</th>\n",
              "      <td>1.085938</td>\n",
              "    </tr>\n",
              "  </tbody>\n",
              "</table>\n",
              "</div>"
            ],
            "text/plain": [
              "               price\n",
              "date                \n",
              "2010-02-02 -0.946442\n",
              "2010-02-03  4.831879\n",
              "2010-02-04 -6.993775\n",
              "2010-02-05  2.246582\n",
              "2010-02-08  1.085938"
            ]
          },
          "metadata": {
            "tags": []
          },
          "execution_count": 63
        }
      ]
    },
    {
      "cell_type": "markdown",
      "metadata": {
        "id": "UgkXCHH0yhKP",
        "colab_type": "text"
      },
      "source": [
        "# **Univariate Time Series Forecasting**"
      ]
    },
    {
      "cell_type": "markdown",
      "metadata": {
        "id": "dQ93tsSekuVt",
        "colab_type": "text"
      },
      "source": [
        "## **Data Preparation**"
      ]
    },
    {
      "cell_type": "markdown",
      "metadata": {
        "id": "HrLZYEZ66Y9f",
        "colab_type": "text"
      },
      "source": [
        "**Set Seed & Preprocessing Hyperparameter**"
      ]
    },
    {
      "cell_type": "code",
      "metadata": {
        "id": "ceeRu1a86VUu",
        "colab_type": "code",
        "colab": {}
      },
      "source": [
        "seed = 7\n",
        "tf.random.set_seed(seed)"
      ],
      "execution_count": 0,
      "outputs": []
    },
    {
      "cell_type": "code",
      "metadata": {
        "id": "0PiSf0wM6dxr",
        "colab_type": "code",
        "colab": {}
      },
      "source": [
        "window = 2\n",
        "features = 1"
      ],
      "execution_count": 0,
      "outputs": []
    },
    {
      "cell_type": "markdown",
      "metadata": {
        "id": "vA1BdytDRsgt",
        "colab_type": "text"
      },
      "source": [
        "**Original Way**"
      ]
    },
    {
      "cell_type": "code",
      "metadata": {
        "id": "eeFaQFGqRkYz",
        "colab_type": "code",
        "colab": {}
      },
      "source": [
        "# Load Data & Extract Numpy Array for Model Training\n",
        "dataframe = series.copy()\n",
        "dataframe = dataframe.rename(columns={\"price\": \"values\"})\n",
        "\n",
        "dataframe.sort_values('date', inplace=True, ascending=True)\n",
        "dataframe = dataframe.reset_index(drop=True)\n",
        "\n",
        "dataset_orig = dataframe\n",
        "dataset_orig = dataset_orig.astype('float32')\n",
        "dataset_orig"
      ],
      "execution_count": 0,
      "outputs": []
    },
    {
      "cell_type": "code",
      "metadata": {
        "id": "pg0JWKR3rjZO",
        "colab_type": "code",
        "colab": {}
      },
      "source": [
        "# Data Normalization (LSTMs are sensitive to scale of input data)\n",
        "dataset = dataset_orig.copy()\n",
        "scaler = MinMaxScaler(feature_range=(0, 1))\n",
        "dataset = scaler.fit_transform(dataset)"
      ],
      "execution_count": 0,
      "outputs": []
    },
    {
      "cell_type": "code",
      "metadata": {
        "id": "18YAjsNfig1p",
        "colab_type": "code",
        "colab": {}
      },
      "source": [
        "# Train / Test Split\n",
        "train_size = int(len(dataset) * 0.67)\n",
        "test_size = len(dataset) - train_size\n",
        "train, test = dataset[0:train_size,:], dataset[train_size:len(dataset),:]"
      ],
      "execution_count": 0,
      "outputs": []
    },
    {
      "cell_type": "code",
      "metadata": {
        "id": "RA1nle0ASSaX",
        "colab_type": "code",
        "colab": {}
      },
      "source": [
        "# Convert an array of values into a dataset matrix\n",
        "def create_dataset(dataset, window=window):\n",
        "\tdataX, dataY = [], []\n",
        "\tfor i in range(len(dataset)-window-1):\n",
        "\t\ta = dataset[i:(i+window), 0]\n",
        "\t\tdataX.append(a)\n",
        "\t\tdataY.append(dataset[i + window, 0])\n",
        "\treturn np.array(dataX), np.array(dataY)"
      ],
      "execution_count": 0,
      "outputs": []
    },
    {
      "cell_type": "code",
      "metadata": {
        "id": "JC-BKjDASdcj",
        "colab_type": "code",
        "colab": {}
      },
      "source": [
        "# Window Method\n",
        "trainX, trainY = create_dataset(train, window)\n",
        "testX, testY = create_dataset(test, window)"
      ],
      "execution_count": 0,
      "outputs": []
    },
    {
      "cell_type": "code",
      "metadata": {
        "id": "QG2Y7LSNSjAF",
        "colab_type": "code",
        "colab": {}
      },
      "source": [
        "# Reshape data for LSTM\n",
        "trainX = tf.reshape(trainX, (trainX.shape[0], trainX.shape[1], 1))\n",
        "testX = tf.reshape(testX, (testX.shape[0], testX.shape[1], 1))\n",
        "trainX"
      ],
      "execution_count": 0,
      "outputs": []
    },
    {
      "cell_type": "markdown",
      "metadata": {
        "id": "0qpbDDdzSsCg",
        "colab_type": "text"
      },
      "source": [
        "## **New Data Prep**"
      ]
    },
    {
      "cell_type": "markdown",
      "metadata": {
        "id": "60LD3FtRSEnF",
        "colab_type": "text"
      },
      "source": [
        "**Load Data & Extract Numpy Array for Model Training**"
      ]
    },
    {
      "cell_type": "code",
      "metadata": {
        "id": "ZNjWjqL6rDQE",
        "colab_type": "code",
        "outputId": "f0168a8a-6874-4319-c8db-74542dd2e8b6",
        "colab": {
          "base_uri": "https://localhost:8080/",
          "height": 419
        }
      },
      "source": [
        "dataframe = series.copy()\n",
        "dataframe = dataframe.rename(columns={\"price\": \"values\"})\n",
        "\n",
        "dataframe.sort_values('date', inplace=True, ascending=True)\n",
        "dataframe = dataframe.reset_index(drop=False)\n",
        "\n",
        "dataset_orig = dataframe\n",
        "dataset_orig"
      ],
      "execution_count": 0,
      "outputs": [
        {
          "output_type": "execute_result",
          "data": {
            "text/html": [
              "<div>\n",
              "<style scoped>\n",
              "    .dataframe tbody tr th:only-of-type {\n",
              "        vertical-align: middle;\n",
              "    }\n",
              "\n",
              "    .dataframe tbody tr th {\n",
              "        vertical-align: top;\n",
              "    }\n",
              "\n",
              "    .dataframe thead th {\n",
              "        text-align: right;\n",
              "    }\n",
              "</style>\n",
              "<table border=\"1\" class=\"dataframe\">\n",
              "  <thead>\n",
              "    <tr style=\"text-align: right;\">\n",
              "      <th></th>\n",
              "      <th>date</th>\n",
              "      <th>values</th>\n",
              "    </tr>\n",
              "  </thead>\n",
              "  <tbody>\n",
              "    <tr>\n",
              "      <th>0</th>\n",
              "      <td>2010-02-01</td>\n",
              "      <td>265.514771</td>\n",
              "    </tr>\n",
              "    <tr>\n",
              "      <th>1</th>\n",
              "      <td>2010-02-02</td>\n",
              "      <td>264.568329</td>\n",
              "    </tr>\n",
              "    <tr>\n",
              "      <th>2</th>\n",
              "      <td>2010-02-03</td>\n",
              "      <td>269.400208</td>\n",
              "    </tr>\n",
              "    <tr>\n",
              "      <th>3</th>\n",
              "      <td>2010-02-04</td>\n",
              "      <td>262.406433</td>\n",
              "    </tr>\n",
              "    <tr>\n",
              "      <th>4</th>\n",
              "      <td>2010-02-05</td>\n",
              "      <td>264.653015</td>\n",
              "    </tr>\n",
              "    <tr>\n",
              "      <th>...</th>\n",
              "      <td>...</td>\n",
              "      <td>...</td>\n",
              "    </tr>\n",
              "    <tr>\n",
              "      <th>2511</th>\n",
              "      <td>2020-01-23</td>\n",
              "      <td>1486.650024</td>\n",
              "    </tr>\n",
              "    <tr>\n",
              "      <th>2512</th>\n",
              "      <td>2020-01-24</td>\n",
              "      <td>1466.709961</td>\n",
              "    </tr>\n",
              "    <tr>\n",
              "      <th>2513</th>\n",
              "      <td>2020-01-27</td>\n",
              "      <td>1433.900024</td>\n",
              "    </tr>\n",
              "    <tr>\n",
              "      <th>2514</th>\n",
              "      <td>2020-01-28</td>\n",
              "      <td>1452.560059</td>\n",
              "    </tr>\n",
              "    <tr>\n",
              "      <th>2515</th>\n",
              "      <td>2020-01-29</td>\n",
              "      <td>1458.630005</td>\n",
              "    </tr>\n",
              "  </tbody>\n",
              "</table>\n",
              "<p>2516 rows × 2 columns</p>\n",
              "</div>"
            ],
            "text/plain": [
              "           date       values\n",
              "0    2010-02-01   265.514771\n",
              "1    2010-02-02   264.568329\n",
              "2    2010-02-03   269.400208\n",
              "3    2010-02-04   262.406433\n",
              "4    2010-02-05   264.653015\n",
              "...         ...          ...\n",
              "2511 2020-01-23  1486.650024\n",
              "2512 2020-01-24  1466.709961\n",
              "2513 2020-01-27  1433.900024\n",
              "2514 2020-01-28  1452.560059\n",
              "2515 2020-01-29  1458.630005\n",
              "\n",
              "[2516 rows x 2 columns]"
            ]
          },
          "metadata": {
            "tags": []
          },
          "execution_count": 99
        }
      ]
    },
    {
      "cell_type": "markdown",
      "metadata": {
        "id": "VWsrAA3uR91c",
        "colab_type": "text"
      },
      "source": [
        "**Train & Test Data Split**"
      ]
    },
    {
      "cell_type": "code",
      "metadata": {
        "id": "LDLSTWUZFsE3",
        "colab_type": "code",
        "outputId": "a9d4ff30-ff23-40c4-b534-e990081a39ec",
        "colab": {
          "base_uri": "https://localhost:8080/",
          "height": 35
        }
      },
      "source": [
        "# Select here the train / test split value\n",
        "split = 0.7\n",
        "\n",
        "# Find index row for this split\n",
        "row = int(len(df) * split)\n",
        "\n",
        "# Find corresponding date value from index row\n",
        "timedelta = df.loc[row, 'date']\n",
        "timedelta"
      ],
      "execution_count": 0,
      "outputs": [
        {
          "output_type": "execute_result",
          "data": {
            "text/plain": [
              "Timestamp('2017-01-30 00:00:00')"
            ]
          },
          "metadata": {
            "tags": []
          },
          "execution_count": 100
        }
      ]
    },
    {
      "cell_type": "code",
      "metadata": {
        "id": "Eo7w-xq5wud-",
        "colab_type": "code",
        "outputId": "55814341-97a1-4177-8c71-b9958b1f443c",
        "colab": {
          "base_uri": "https://localhost:8080/",
          "height": 53
        }
      },
      "source": [
        "# Split into training, validation and test datasets.\n",
        "# Since it's timeseries we should do it by date.\n",
        "\n",
        "df = dataset_orig.copy()\n",
        "\n",
        "train = df[df['date'] <= timedelta]\n",
        "test = df[df['date'] > timedelta]\n",
        "\n",
        "print('Train dates: {} to {}'.format(train['date'].min(), train['date'].max()))\n",
        "print('Test dates: {} to {}'.format(test['date'].min(), test['date'].max()))"
      ],
      "execution_count": 0,
      "outputs": [
        {
          "output_type": "stream",
          "text": [
            "Train dates: 2010-02-01 00:00:00 to 2017-01-30 00:00:00\n",
            "Test dates: 2017-01-31 00:00:00 to 2020-01-29 00:00:00\n"
          ],
          "name": "stdout"
        }
      ]
    },
    {
      "cell_type": "code",
      "metadata": {
        "id": "DDmYXEr1TBQ8",
        "colab_type": "code",
        "outputId": "6954d585-dfbb-47c4-a166-134a2c614ea6",
        "colab": {
          "base_uri": "https://localhost:8080/",
          "height": 419
        }
      },
      "source": [
        "test"
      ],
      "execution_count": 0,
      "outputs": [
        {
          "output_type": "execute_result",
          "data": {
            "text/html": [
              "<div>\n",
              "<style scoped>\n",
              "    .dataframe tbody tr th:only-of-type {\n",
              "        vertical-align: middle;\n",
              "    }\n",
              "\n",
              "    .dataframe tbody tr th {\n",
              "        vertical-align: top;\n",
              "    }\n",
              "\n",
              "    .dataframe thead th {\n",
              "        text-align: right;\n",
              "    }\n",
              "</style>\n",
              "<table border=\"1\" class=\"dataframe\">\n",
              "  <thead>\n",
              "    <tr style=\"text-align: right;\">\n",
              "      <th></th>\n",
              "      <th>date</th>\n",
              "      <th>values</th>\n",
              "    </tr>\n",
              "  </thead>\n",
              "  <tbody>\n",
              "    <tr>\n",
              "      <th>1762</th>\n",
              "      <td>2017-01-31</td>\n",
              "      <td>796.789978</td>\n",
              "    </tr>\n",
              "    <tr>\n",
              "      <th>1763</th>\n",
              "      <td>2017-02-01</td>\n",
              "      <td>795.695007</td>\n",
              "    </tr>\n",
              "    <tr>\n",
              "      <th>1764</th>\n",
              "      <td>2017-02-02</td>\n",
              "      <td>798.530029</td>\n",
              "    </tr>\n",
              "    <tr>\n",
              "      <th>1765</th>\n",
              "      <td>2017-02-03</td>\n",
              "      <td>801.489990</td>\n",
              "    </tr>\n",
              "    <tr>\n",
              "      <th>1766</th>\n",
              "      <td>2017-02-06</td>\n",
              "      <td>801.340027</td>\n",
              "    </tr>\n",
              "    <tr>\n",
              "      <th>...</th>\n",
              "      <td>...</td>\n",
              "      <td>...</td>\n",
              "    </tr>\n",
              "    <tr>\n",
              "      <th>2511</th>\n",
              "      <td>2020-01-23</td>\n",
              "      <td>1486.650024</td>\n",
              "    </tr>\n",
              "    <tr>\n",
              "      <th>2512</th>\n",
              "      <td>2020-01-24</td>\n",
              "      <td>1466.709961</td>\n",
              "    </tr>\n",
              "    <tr>\n",
              "      <th>2513</th>\n",
              "      <td>2020-01-27</td>\n",
              "      <td>1433.900024</td>\n",
              "    </tr>\n",
              "    <tr>\n",
              "      <th>2514</th>\n",
              "      <td>2020-01-28</td>\n",
              "      <td>1452.560059</td>\n",
              "    </tr>\n",
              "    <tr>\n",
              "      <th>2515</th>\n",
              "      <td>2020-01-29</td>\n",
              "      <td>1458.630005</td>\n",
              "    </tr>\n",
              "  </tbody>\n",
              "</table>\n",
              "<p>754 rows × 2 columns</p>\n",
              "</div>"
            ],
            "text/plain": [
              "           date       values\n",
              "1762 2017-01-31   796.789978\n",
              "1763 2017-02-01   795.695007\n",
              "1764 2017-02-02   798.530029\n",
              "1765 2017-02-03   801.489990\n",
              "1766 2017-02-06   801.340027\n",
              "...         ...          ...\n",
              "2511 2020-01-23  1486.650024\n",
              "2512 2020-01-24  1466.709961\n",
              "2513 2020-01-27  1433.900024\n",
              "2514 2020-01-28  1452.560059\n",
              "2515 2020-01-29  1458.630005\n",
              "\n",
              "[754 rows x 2 columns]"
            ]
          },
          "metadata": {
            "tags": []
          },
          "execution_count": 106
        }
      ]
    },
    {
      "cell_type": "markdown",
      "metadata": {
        "id": "xj5PbWZKL1hv",
        "colab_type": "text"
      },
      "source": [
        "**Convert an array of values into a dataset matrix**"
      ]
    },
    {
      "cell_type": "markdown",
      "metadata": {
        "id": "brLmHYTWw5e0",
        "colab_type": "text"
      },
      "source": [
        "Now we can define a function to create a new dataset, as described above. The function takes two arguments: the dataset, which is a NumPy array that we want to convert into a dataset, and the window, which is the number of previous time steps to use as input variables to predict the next time period — in this case defaulted to 1. This default will create a dataset where X is the number of passengers at a given time (t) and Y is the number of passengers at the next time (t + 1).\n"
      ]
    },
    {
      "cell_type": "code",
      "metadata": {
        "id": "Z9W9JfpeLPop",
        "colab_type": "code",
        "colab": {}
      },
      "source": [
        "def create_dataset(dataset, window=window):\n",
        "\tdataX, dataY = [], []\n",
        "\tfor i in range(len(dataset)-window-1):\n",
        "\t\ta = dataset[i:(i+window), 0]\n",
        "\t\tdataX.append(a)\n",
        "\t\tdataY.append(dataset[i + window, 0])\n",
        "\treturn np.array(dataX), np.array(dataY)"
      ],
      "execution_count": 0,
      "outputs": []
    },
    {
      "cell_type": "markdown",
      "metadata": {
        "id": "Y5cvh3-rvOPy",
        "colab_type": "text"
      },
      "source": [
        "**Window Method**"
      ]
    },
    {
      "cell_type": "code",
      "metadata": {
        "id": "ecXRSF6ILcSO",
        "colab_type": "code",
        "colab": {}
      },
      "source": [
        "trainX, trainY = create_dataset(train, window)\n",
        "testX, testY = create_dataset(test, window)"
      ],
      "execution_count": 0,
      "outputs": []
    },
    {
      "cell_type": "markdown",
      "metadata": {
        "id": "iVrtKtw0i5Or",
        "colab_type": "text"
      },
      "source": [
        "* We can also phrase the problem so that multiple, recent time steps can be used to make the prediction for the next time step. This is called a window, and the size of the window is a parameter that can be tuned for each problem.\n",
        "* For example, given the current time (t) we want to predict the value at the next time in the sequence (t+1), we can use the current time (t), as well as the two prior times (t-1 and t-2) as input variables.\n",
        "* When phrased as a regression problem, the input variables are t-2, t-1, t and the output variable is t+1.\n",
        "* The create_dataset() function we created in the previous section allows us to create this formulation of the time series problem by increasing the look_back argument from 1 to 3."
      ]
    },
    {
      "cell_type": "markdown",
      "metadata": {
        "id": "xwkC651JntHE",
        "colab_type": "text"
      },
      "source": [
        "## **First Model**"
      ]
    },
    {
      "cell_type": "markdown",
      "metadata": {
        "id": "PwlXJ_lxl8QX",
        "colab_type": "text"
      },
      "source": [
        "**Reshape Data Format for LSTM**"
      ]
    },
    {
      "cell_type": "markdown",
      "metadata": {
        "id": "rrzpqbRUwZcb",
        "colab_type": "text"
      },
      "source": [
        "* Data is in form: [samples, features]. LSTM expects **shape = [samples, time steps, features]** \n",
        "* Reshape into X=t and Y=t+1 to prepare the train and test datasets for modeling.\n",
        "* Use past observations as time steps of the one input feature, & feature dimension = 1\n",
        "* Remember tf.shape returns the shape of the ndarray as a tuple. For a 2D array, the shape would be (n,m) where n is the number of rows (here: time steps / windows) and m is the number of columns in the array (here: time series)"
      ]
    },
    {
      "cell_type": "code",
      "metadata": {
        "id": "cInjBF1wRLtd",
        "colab_type": "code",
        "colab": {}
      },
      "source": [
        "trainX = tf.reshape(trainX, (trainX.shape[0], trainX.shape[1], 1))\n",
        "testX = tf.reshape(testX, (testX.shape[0], testX.shape[1], 1))"
      ],
      "execution_count": 0,
      "outputs": []
    },
    {
      "cell_type": "code",
      "metadata": {
        "id": "5Juz6TmTxWU9",
        "colab_type": "code",
        "colab": {}
      },
      "source": [
        "trainX = tf.reshape(trainX, (trainX.shape[0], trainX.shape[1], 1))\n",
        "testX = tf.reshape(testX, (testX.shape[0], testX.shape[1], 1))"
      ],
      "execution_count": 0,
      "outputs": []
    },
    {
      "cell_type": "code",
      "metadata": {
        "id": "BkUI-Updv38e",
        "colab_type": "code",
        "outputId": "f6795b1d-411f-4775-fdf8-065a2155c00e",
        "colab": {
          "base_uri": "https://localhost:8080/",
          "height": 269
        }
      },
      "source": [
        "trainX"
      ],
      "execution_count": 0,
      "outputs": [
        {
          "output_type": "execute_result",
          "data": {
            "text/plain": [
              "<tf.Tensor: shape=(1683, 1, 1), dtype=float32, numpy=\n",
              "array([[[0.03804384]],\n",
              "\n",
              "       [[0.03729828]],\n",
              "\n",
              "       [[0.04110461]],\n",
              "\n",
              "       ...,\n",
              "\n",
              "       [[0.4374716 ]],\n",
              "\n",
              "       [[0.4405202 ]],\n",
              "\n",
              "       [[0.44055167]]], dtype=float32)>"
            ]
          },
          "metadata": {
            "tags": []
          },
          "execution_count": 187
        }
      ]
    },
    {
      "cell_type": "markdown",
      "metadata": {
        "id": "p6jHVBdVTt97",
        "colab_type": "text"
      },
      "source": [
        "**Set Hyperparameter**"
      ]
    },
    {
      "cell_type": "code",
      "metadata": {
        "id": "TSzPgFIuldKw",
        "colab_type": "code",
        "colab": {}
      },
      "source": [
        "optimizer = tf.keras.optimizers.Adam(0.0001)\n",
        "loss = 'mean_squared_error'\n",
        "activation = 'tanh'\n",
        "recurrent_activation= 'sigmoid'\n",
        "epochs = 10\n",
        "repeat = 2\n",
        "batch_size = 1\n",
        "verbose = 1\n",
        "units = 4\n",
        "dropout = 0.02\n",
        "recurrent_dropout = 0.02"
      ],
      "execution_count": 0,
      "outputs": []
    },
    {
      "cell_type": "markdown",
      "metadata": {
        "id": "gg0FzLLdNAAd",
        "colab_type": "text"
      },
      "source": [
        "**Create Model** \n",
        "\n",
        "Stacked LSTM with Memory Between Batches"
      ]
    },
    {
      "cell_type": "code",
      "metadata": {
        "id": "CbEkfsQFLyL1",
        "colab_type": "code",
        "colab": {}
      },
      "source": [
        "model = tf.keras.Sequential()\n",
        "model.add(layers.LSTM(units, \n",
        "               batch_input_shape=(batch_size, window, 1), \n",
        "               activation=activation,\n",
        "               recurrent_activation=recurrent_activation,\n",
        "               dropout=dropout,\n",
        "               recurrent_dropout=recurrent_dropout,\n",
        "               unroll=True,\n",
        "               stateful=True, \n",
        "               return_sequences=True))\n",
        "model.add(layers.LSTM(units, \n",
        "               batch_input_shape=(batch_size, window, 1),\n",
        "               activation=activation,\n",
        "               recurrent_activation=recurrent_activation,\n",
        "               dropout=dropout,\n",
        "               recurrent_dropout=recurrent_dropout,\n",
        "               unroll=True,\n",
        "               stateful=True))\n",
        "model.add(layers.Dense(1))"
      ],
      "execution_count": 0,
      "outputs": []
    },
    {
      "cell_type": "markdown",
      "metadata": {
        "id": "1jRmIfcCNHow",
        "colab_type": "text"
      },
      "source": [
        "**Display Model Topology**"
      ]
    },
    {
      "cell_type": "code",
      "metadata": {
        "id": "MnkOOqDFNGqZ",
        "colab_type": "code",
        "outputId": "42d4c511-bc35-4eb7-f93c-882706180109",
        "colab": {
          "base_uri": "https://localhost:8080/",
          "height": 289
        }
      },
      "source": [
        "model.summary()"
      ],
      "execution_count": 0,
      "outputs": [
        {
          "output_type": "stream",
          "text": [
            "Model: \"sequential_15\"\n",
            "_________________________________________________________________\n",
            "Layer (type)                 Output Shape              Param #   \n",
            "=================================================================\n",
            "lstm_30 (LSTM)               (1, 2, 4)                 96        \n",
            "_________________________________________________________________\n",
            "lstm_31 (LSTM)               (1, 4)                    144       \n",
            "_________________________________________________________________\n",
            "dense_15 (Dense)             (1, 1)                    5         \n",
            "=================================================================\n",
            "Total params: 245\n",
            "Trainable params: 245\n",
            "Non-trainable params: 0\n",
            "_________________________________________________________________\n"
          ],
          "name": "stdout"
        }
      ]
    },
    {
      "cell_type": "markdown",
      "metadata": {
        "id": "oSjEypxvNMNQ",
        "colab_type": "text"
      },
      "source": [
        "**Compile Model**"
      ]
    },
    {
      "cell_type": "code",
      "metadata": {
        "id": "PL-w1PCqNRuA",
        "colab_type": "code",
        "colab": {}
      },
      "source": [
        "model.compile(optimizer=optimizer, \n",
        "              loss=loss, \n",
        "              metrics=['accuracy'])"
      ],
      "execution_count": 0,
      "outputs": []
    },
    {
      "cell_type": "markdown",
      "metadata": {
        "id": "QgUuXw0VNXmi",
        "colab_type": "text"
      },
      "source": [
        "**Train Model**"
      ]
    },
    {
      "cell_type": "code",
      "metadata": {
        "id": "q6TozGj0NUVT",
        "colab_type": "code",
        "outputId": "0769165f-0bb8-4194-868b-0bd491ace5c1",
        "colab": {
          "base_uri": "https://localhost:8080/",
          "height": 757
        }
      },
      "source": [
        "for i in range(repeat):\n",
        "\tmodel.fit(trainX, trainY, epochs=epochs, batch_size=batch_size, verbose=verbose, shuffle=False)\n",
        "\tmodel.reset_states()"
      ],
      "execution_count": 0,
      "outputs": [
        {
          "output_type": "stream",
          "text": [
            "Epoch 1/10\n",
            "1682/1682 [==============================] - 3s 2ms/step - loss: 0.0673 - accuracy: 5.9453e-04\n",
            "Epoch 2/10\n",
            "1682/1682 [==============================] - 2s 1ms/step - loss: 0.0424 - accuracy: 5.9453e-04\n",
            "Epoch 3/10\n",
            "1682/1682 [==============================] - 3s 2ms/step - loss: 0.0334 - accuracy: 5.9453e-04\n",
            "Epoch 4/10\n",
            "1682/1682 [==============================] - 3s 2ms/step - loss: 0.0299 - accuracy: 5.9453e-04\n",
            "Epoch 5/10\n",
            "1682/1682 [==============================] - 3s 1ms/step - loss: 0.0287 - accuracy: 5.9453e-04\n",
            "Epoch 6/10\n",
            "1682/1682 [==============================] - 3s 1ms/step - loss: 0.0283 - accuracy: 5.9453e-04\n",
            "Epoch 7/10\n",
            "1682/1682 [==============================] - 3s 1ms/step - loss: 0.0282 - accuracy: 5.9453e-04\n",
            "Epoch 8/10\n",
            "1682/1682 [==============================] - 3s 1ms/step - loss: 0.0279 - accuracy: 5.9453e-04\n",
            "Epoch 9/10\n",
            "1682/1682 [==============================] - 3s 1ms/step - loss: 0.0280 - accuracy: 5.9453e-04\n",
            "Epoch 10/10\n",
            "1682/1682 [==============================] - 3s 1ms/step - loss: 0.0277 - accuracy: 5.9453e-04\n",
            "Epoch 1/10\n",
            "1682/1682 [==============================] - 3s 1ms/step - loss: 0.0277 - accuracy: 5.9453e-04\n",
            "Epoch 2/10\n",
            "1682/1682 [==============================] - 3s 2ms/step - loss: 0.0275 - accuracy: 5.9453e-04\n",
            "Epoch 3/10\n",
            "1682/1682 [==============================] - 3s 2ms/step - loss: 0.0272 - accuracy: 5.9453e-04\n",
            "Epoch 4/10\n",
            "1682/1682 [==============================] - 3s 2ms/step - loss: 0.0273 - accuracy: 5.9453e-04\n",
            "Epoch 5/10\n",
            "1682/1682 [==============================] - 3s 2ms/step - loss: 0.0269 - accuracy: 5.9453e-04\n",
            "Epoch 6/10\n",
            "1682/1682 [==============================] - 3s 2ms/step - loss: 0.0266 - accuracy: 5.9453e-04\n",
            "Epoch 7/10\n",
            "1682/1682 [==============================] - 3s 2ms/step - loss: 0.0265 - accuracy: 5.9453e-04\n",
            "Epoch 8/10\n",
            "1682/1682 [==============================] - 3s 2ms/step - loss: 0.0265 - accuracy: 5.9453e-04\n",
            "Epoch 9/10\n",
            "1682/1682 [==============================] - 3s 1ms/step - loss: 0.0262 - accuracy: 5.9453e-04\n",
            "Epoch 10/10\n",
            "1682/1682 [==============================] - 3s 1ms/step - loss: 0.0262 - accuracy: 5.9453e-04\n"
          ],
          "name": "stdout"
        }
      ]
    },
    {
      "cell_type": "markdown",
      "metadata": {
        "id": "I9N39Qo5oxp_",
        "colab_type": "text"
      },
      "source": [
        "## **Second Model**"
      ]
    },
    {
      "cell_type": "markdown",
      "metadata": {
        "id": "QFdyyuLC7jAT",
        "colab_type": "text"
      },
      "source": [
        "**Reshape Data Format for LSTM**"
      ]
    },
    {
      "cell_type": "markdown",
      "metadata": {
        "id": "mqDC_MoC6wgq",
        "colab_type": "text"
      },
      "source": [
        "* Data is in form: [samples, features]. LSTM expects shape = [samples, time steps, features]\n",
        "* Reshape into X=t and Y=t+1 to prepare the train and test datasets for modeling.\n",
        "* Notice the different shape in comparison to the previous example\n",
        "* Here we use past observations as input features (=3) and only one time step"
      ]
    },
    {
      "cell_type": "code",
      "metadata": {
        "id": "2LAimkGREcFJ",
        "colab_type": "code",
        "colab": {}
      },
      "source": [
        "trainX = np.reshape(trainX, (trainX.shape[0], 1, trainX.shape[1]))\n",
        "testX = np.reshape(testX, (testX.shape[0], 1, testX.shape[1]))"
      ],
      "execution_count": 0,
      "outputs": []
    },
    {
      "cell_type": "code",
      "metadata": {
        "id": "eIQQ2ukv6DYv",
        "colab_type": "code",
        "outputId": "5331e0dc-9704-4102-cc5d-8a3df3fd1038",
        "colab": {
          "base_uri": "https://localhost:8080/",
          "height": 251
        }
      },
      "source": [
        "trainX"
      ],
      "execution_count": 0,
      "outputs": [
        {
          "output_type": "execute_result",
          "data": {
            "text/plain": [
              "array([[[0.03804384, 0.03729828]],\n",
              "\n",
              "       [[0.03729828, 0.04110461]],\n",
              "\n",
              "       [[0.04110461, 0.03559524]],\n",
              "\n",
              "       ...,\n",
              "\n",
              "       [[0.44119766, 0.4374716 ]],\n",
              "\n",
              "       [[0.4374716 , 0.4405202 ]],\n",
              "\n",
              "       [[0.4405202 , 0.44055167]]], dtype=float32)"
            ]
          },
          "metadata": {
            "tags": []
          },
          "execution_count": 286
        }
      ]
    },
    {
      "cell_type": "markdown",
      "metadata": {
        "id": "bEjzPla37qQJ",
        "colab_type": "text"
      },
      "source": [
        "**Create an run model**"
      ]
    },
    {
      "cell_type": "markdown",
      "metadata": {
        "id": "pejLbFiG7uLO",
        "colab_type": "text"
      },
      "source": [
        "* Notice that here we have a much simpler LSTM for regression\n",
        "* There is no memory between batches and no stateful"
      ]
    },
    {
      "cell_type": "code",
      "metadata": {
        "id": "EYf0ojo8nTnN",
        "colab_type": "code",
        "outputId": "704dec99-0e16-41b4-87aa-9b53dbe118ec",
        "colab": {
          "base_uri": "https://localhost:8080/",
          "height": 215
        }
      },
      "source": [
        "# Model create and train\n",
        "model = Sequential()\n",
        "model.add(LSTM(4, input_shape=(1, window)))\n",
        "model.add(Dense(1))\n",
        "model.compile(loss='mean_squared_error', optimizer='adam')\n",
        "model.fit(trainX, trainY, epochs=5, batch_size=1, verbose=2)"
      ],
      "execution_count": 0,
      "outputs": [
        {
          "output_type": "stream",
          "text": [
            "Epoch 1/5\n",
            " - 2s - loss: 0.0020\n",
            "Epoch 2/5\n",
            " - 2s - loss: 4.4511e-05\n",
            "Epoch 3/5\n",
            " - 2s - loss: 4.6520e-05\n",
            "Epoch 4/5\n",
            " - 2s - loss: 4.7572e-05\n",
            "Epoch 5/5\n",
            " - 2s - loss: 4.9131e-05\n"
          ],
          "name": "stdout"
        },
        {
          "output_type": "execute_result",
          "data": {
            "text/plain": [
              "<keras.callbacks.callbacks.History at 0x7fac96ff1c88>"
            ]
          },
          "metadata": {
            "tags": []
          },
          "execution_count": 287
        }
      ]
    },
    {
      "cell_type": "markdown",
      "metadata": {
        "id": "IXJvUtNEMdmS",
        "colab_type": "text"
      },
      "source": [
        "## **Predictions**"
      ]
    },
    {
      "cell_type": "markdown",
      "metadata": {
        "id": "1BTTit0UM0NV",
        "colab_type": "text"
      },
      "source": [
        "**Make Predictions**"
      ]
    },
    {
      "cell_type": "code",
      "metadata": {
        "id": "kX90RY_7MsXa",
        "colab_type": "code",
        "colab": {}
      },
      "source": [
        "trainPredict = model.predict(trainX, batch_size=batch_size)\n",
        "model.reset_states()\n",
        "testPredict = model.predict(testX, batch_size=batch_size)"
      ],
      "execution_count": 0,
      "outputs": []
    },
    {
      "cell_type": "markdown",
      "metadata": {
        "id": "sAhg9NvjO9zF",
        "colab_type": "text"
      },
      "source": [
        "**Invert predictions**"
      ]
    },
    {
      "cell_type": "code",
      "metadata": {
        "id": "xAlRdk9oPBl_",
        "colab_type": "code",
        "colab": {}
      },
      "source": [
        "trainPredict = scaler.inverse_transform(trainPredict)\n",
        "trainY = scaler.inverse_transform([trainY])\n",
        "testPredict = scaler.inverse_transform(testPredict)\n",
        "testY = scaler.inverse_transform([testY])"
      ],
      "execution_count": 0,
      "outputs": []
    },
    {
      "cell_type": "markdown",
      "metadata": {
        "id": "nKyVB52gMyKg",
        "colab_type": "text"
      },
      "source": [
        "**Calculate RMSE**"
      ]
    },
    {
      "cell_type": "code",
      "metadata": {
        "id": "GG9MrQ89MvCR",
        "colab_type": "code",
        "outputId": "eb2c0655-244d-406a-cbdf-587af9de4354",
        "colab": {
          "base_uri": "https://localhost:8080/",
          "height": 53
        }
      },
      "source": [
        "trainScore = math.sqrt(mean_squared_error(trainY[0], trainPredict[:,0]))\n",
        "print('Train Score: %.2f RMSE' % (trainScore))\n",
        "testScore = math.sqrt(mean_squared_error(testY[0], testPredict[:,0]))\n",
        "print('Test Score: %.2f RMSE' % (testScore))"
      ],
      "execution_count": 0,
      "outputs": [
        {
          "output_type": "stream",
          "text": [
            "Train Score: 206.68 RMSE\n",
            "Test Score: 729.06 RMSE\n"
          ],
          "name": "stdout"
        }
      ]
    },
    {
      "cell_type": "markdown",
      "metadata": {
        "id": "dS0R7qCiM5TU",
        "colab_type": "text"
      },
      "source": [
        "**Plot results**"
      ]
    },
    {
      "cell_type": "code",
      "metadata": {
        "id": "E44nHJyiL9a7",
        "colab_type": "code",
        "outputId": "e1a79c91-6bad-4c1c-cf0b-0151743904a9",
        "colab": {
          "base_uri": "https://localhost:8080/",
          "height": 153
        }
      },
      "source": [
        "# shift train predictions for plotting\n",
        "trainPredictPlot = np.empty_like(dataset)\n",
        "trainPredictPlot[:, :] = np.nan\n",
        "trainPredictPlot[window:len(trainPredict)+window, :] = trainPredict\n",
        "\n",
        "# shift test predictions for plotting\n",
        "testPredictPlot = np.empty_like(dataset)\n",
        "testPredictPlot[:, :] = np.nan\n",
        "testPredictPlot[len(trainPredict)+(window*2)+1:len(dataset)-1, :] = testPredict\n",
        "\n",
        "# plot baseline and predictions\n",
        "sns.set(rc={'figure.figsize':(11, 5)})\n",
        "plt.plot(scaler.inverse_transform(dataset))\n",
        "plt.plot(trainPredictPlot)\n",
        "plt.plot(testPredictPlot)\n",
        "plt.show()"
      ],
      "execution_count": 0,
      "outputs": [
        {
          "output_type": "display_data",
          "data": {
            "image/png": "[encoded data removed]",
            "text/plain": [
              "<Figure size 792x360 with 1 Axes>"
            ]
          },
          "metadata": {
            "tags": []
          }
        }
      ]
    },
    {
      "cell_type": "markdown",
      "metadata": {
        "id": "PEJEZOOHR-wK",
        "colab_type": "text"
      },
      "source": [
        "## **Residual Analysis**"
      ]
    },
    {
      "cell_type": "markdown",
      "metadata": {
        "id": "bgjqKPTrMoOW",
        "colab_type": "text"
      },
      "source": [
        "**Get residuals**"
      ]
    },
    {
      "cell_type": "code",
      "metadata": {
        "id": "S-m_XngDMonk",
        "colab_type": "code",
        "outputId": "842a2a9a-d071-48cb-c44b-48f51f2d7be9",
        "colab": {
          "base_uri": "https://localhost:8080/",
          "height": 204
        }
      },
      "source": [
        "residuals = (testY[0] - testPredict[:,0])\n",
        "res = pd.DataFrame(data=residuals, columns=['residuals'])\n",
        "res.head()"
      ],
      "execution_count": 0,
      "outputs": [
        {
          "output_type": "execute_result",
          "data": {
            "text/html": [
              "<div>\n",
              "<style scoped>\n",
              "    .dataframe tbody tr th:only-of-type {\n",
              "        vertical-align: middle;\n",
              "    }\n",
              "\n",
              "    .dataframe tbody tr th {\n",
              "        vertical-align: top;\n",
              "    }\n",
              "\n",
              "    .dataframe thead th {\n",
              "        text-align: right;\n",
              "    }\n",
              "</style>\n",
              "<table border=\"1\" class=\"dataframe\">\n",
              "  <thead>\n",
              "    <tr style=\"text-align: right;\">\n",
              "      <th></th>\n",
              "      <th>residuals</th>\n",
              "    </tr>\n",
              "  </thead>\n",
              "  <tbody>\n",
              "    <tr>\n",
              "      <th>0</th>\n",
              "      <td>490.891716</td>\n",
              "    </tr>\n",
              "    <tr>\n",
              "      <th>1</th>\n",
              "      <td>414.984560</td>\n",
              "    </tr>\n",
              "    <tr>\n",
              "      <th>2</th>\n",
              "      <td>320.106395</td>\n",
              "    </tr>\n",
              "    <tr>\n",
              "      <th>3</th>\n",
              "      <td>239.539874</td>\n",
              "    </tr>\n",
              "    <tr>\n",
              "      <th>4</th>\n",
              "      <td>173.101376</td>\n",
              "    </tr>\n",
              "  </tbody>\n",
              "</table>\n",
              "</div>"
            ],
            "text/plain": [
              "    residuals\n",
              "0  490.891716\n",
              "1  414.984560\n",
              "2  320.106395\n",
              "3  239.539874\n",
              "4  173.101376"
            ]
          },
          "metadata": {
            "tags": []
          },
          "execution_count": 246
        }
      ]
    },
    {
      "cell_type": "code",
      "metadata": {
        "id": "sIzqApBZQDIl",
        "colab_type": "code",
        "outputId": "65b34812-dbb4-4a5a-fccb-e60594ecfd66",
        "colab": {
          "base_uri": "https://localhost:8080/",
          "height": 297
        }
      },
      "source": [
        "res.describe()"
      ],
      "execution_count": 0,
      "outputs": [
        {
          "output_type": "execute_result",
          "data": {
            "text/html": [
              "<div>\n",
              "<style scoped>\n",
              "    .dataframe tbody tr th:only-of-type {\n",
              "        vertical-align: middle;\n",
              "    }\n",
              "\n",
              "    .dataframe tbody tr th {\n",
              "        vertical-align: top;\n",
              "    }\n",
              "\n",
              "    .dataframe thead th {\n",
              "        text-align: right;\n",
              "    }\n",
              "</style>\n",
              "<table border=\"1\" class=\"dataframe\">\n",
              "  <thead>\n",
              "    <tr style=\"text-align: right;\">\n",
              "      <th></th>\n",
              "      <th>residuals</th>\n",
              "    </tr>\n",
              "  </thead>\n",
              "  <tbody>\n",
              "    <tr>\n",
              "      <th>count</th>\n",
              "      <td>829.000000</td>\n",
              "    </tr>\n",
              "    <tr>\n",
              "      <th>mean</th>\n",
              "      <td>171.876566</td>\n",
              "    </tr>\n",
              "    <tr>\n",
              "      <th>std</th>\n",
              "      <td>104.278422</td>\n",
              "    </tr>\n",
              "    <tr>\n",
              "      <th>min</th>\n",
              "      <td>-36.740211</td>\n",
              "    </tr>\n",
              "    <tr>\n",
              "      <th>25%</th>\n",
              "      <td>91.977105</td>\n",
              "    </tr>\n",
              "    <tr>\n",
              "      <th>50%</th>\n",
              "      <td>173.101376</td>\n",
              "    </tr>\n",
              "    <tr>\n",
              "      <th>75%</th>\n",
              "      <td>240.324171</td>\n",
              "    </tr>\n",
              "    <tr>\n",
              "      <th>max</th>\n",
              "      <td>490.891716</td>\n",
              "    </tr>\n",
              "  </tbody>\n",
              "</table>\n",
              "</div>"
            ],
            "text/plain": [
              "        residuals\n",
              "count  829.000000\n",
              "mean   171.876566\n",
              "std    104.278422\n",
              "min    -36.740211\n",
              "25%     91.977105\n",
              "50%    173.101376\n",
              "75%    240.324171\n",
              "max    490.891716"
            ]
          },
          "metadata": {
            "tags": []
          },
          "execution_count": 247
        }
      ]
    },
    {
      "cell_type": "code",
      "metadata": {
        "id": "eg0kWBM2lwL5",
        "colab_type": "code",
        "outputId": "190cfa02-986c-438d-f66a-d63cce22abbd",
        "colab": {
          "base_uri": "https://localhost:8080/",
          "height": 297
        }
      },
      "source": [
        "# Visualize Series\n",
        "sns.set(rc={'figure.figsize':(13, 4), \"lines.linewidth\": 1.0})\n",
        "res.plot(title='Residuals')"
      ],
      "execution_count": 0,
      "outputs": [
        {
          "output_type": "execute_result",
          "data": {
            "text/plain": [
              "<matplotlib.axes._subplots.AxesSubplot at 0x7fac9aef6048>"
            ]
          },
          "metadata": {
            "tags": []
          },
          "execution_count": 248
        },
        {
          "output_type": "display_data",
          "data": {
            "image/png": "[encoded data removed]",
            "text/plain": [
              "<Figure size 936x288 with 1 Axes>"
            ]
          },
          "metadata": {
            "tags": []
          }
        }
      ]
    },
    {
      "cell_type": "markdown",
      "metadata": {
        "id": "y1md9Iqxl4aU",
        "colab_type": "text"
      },
      "source": [
        "Residuals have:\n",
        "* not zero mean\n",
        "* clearly a trend (upwards)"
      ]
    }
  ]
}