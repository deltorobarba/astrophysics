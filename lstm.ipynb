{
  "nbformat": 4,
  "nbformat_minor": 0,
  "metadata": {
    "colab": {
      "name": "lstm.ipynb",
      "provenance": [],
      "collapsed_sections": [],
      "include_colab_link": true
    },
    "kernelspec": {
      "name": "python3",
      "display_name": "Python 3"
    }
  },
  "cells": [
    {
      "cell_type": "markdown",
      "metadata": {
        "id": "view-in-github",
        "colab_type": "text"
      },
      "source": [
        "<a href=\"https://colab.research.google.com/github/deltorobarba/machinelearning/blob/master/lstm.ipynb\" target=\"_parent\"><img src=\"https://colab.research.google.com/assets/colab-badge.svg\" alt=\"Open In Colab\"/></a>"
      ]
    },
    {
      "cell_type": "markdown",
      "metadata": {
        "id": "9n0-469qA0YV",
        "colab_type": "text"
      },
      "source": [
        "# **Time Series Forecasting**"
      ]
    },
    {
      "cell_type": "code",
      "metadata": {
        "id": "Y_QF3gCJByQ_",
        "colab_type": "code",
        "outputId": "d8f164b6-408e-4c57-b08c-1990353e1430",
        "colab": {
          "base_uri": "https://localhost:8080/",
          "height": 109
        }
      },
      "source": [
        "from __future__ import absolute_import, division, print_function, unicode_literals\n",
        "import pandas as pd\n",
        "import seaborn as sns\n",
        "import matplotlib.pyplot as plt\n",
        "import numpy as np\n",
        "import math\n",
        "import scipy\n",
        "import statsmodels.api as sm\n",
        "import statsmodels\n",
        "from statsmodels.graphics.tsaplots import plot_pacf\n",
        "from pandas.plotting import lag_plot\n",
        "from scipy import stats\n",
        "from keras.models import Sequential\n",
        "from keras.layers import Dense\n",
        "from keras.layers import LSTM\n",
        "from sklearn.preprocessing import MinMaxScaler\n",
        "from sklearn.metrics import mean_squared_error\n",
        "import collections\n",
        "import tensorflow as tf\n",
        "from tensorflow.keras import layers\n",
        "print(tf.__version__)"
      ],
      "execution_count": 1,
      "outputs": [
        {
          "output_type": "stream",
          "text": [
            "/usr/local/lib/python3.6/dist-packages/statsmodels/tools/_testing.py:19: FutureWarning: pandas.util.testing is deprecated. Use the functions in the public API at pandas.testing instead.\n",
            "  import pandas.util.testing as tm\n",
            "Using TensorFlow backend.\n"
          ],
          "name": "stderr"
        },
        {
          "output_type": "stream",
          "text": [
            "2.2.0-rc4\n"
          ],
          "name": "stdout"
        }
      ]
    },
    {
      "cell_type": "markdown",
      "metadata": {
        "id": "1MRwIM3ZQ7ux",
        "colab_type": "text"
      },
      "source": [
        "# **Exploration**"
      ]
    },
    {
      "cell_type": "code",
      "metadata": {
        "id": "okB3TphCRDtt",
        "colab_type": "code",
        "outputId": "e2d1f1f5-da9e-4d91-fccb-cf1508ad8938",
        "colab": {
          "base_uri": "https://localhost:8080/",
          "height": 326
        }
      },
      "source": [
        "url = 'https://raw.githubusercontent.com/deltorobarba/repo/master/google.csv'\n",
        "data = pd.read_csv(url)\n",
        "data.head()"
      ],
      "execution_count": 2,
      "outputs": [
        {
          "output_type": "execute_result",
          "data": {
            "text/html": [
              "<div>\n",
              "<style scoped>\n",
              "    .dataframe tbody tr th:only-of-type {\n",
              "        vertical-align: middle;\n",
              "    }\n",
              "\n",
              "    .dataframe tbody tr th {\n",
              "        vertical-align: top;\n",
              "    }\n",
              "\n",
              "    .dataframe thead th {\n",
              "        text-align: right;\n",
              "    }\n",
              "</style>\n",
              "<table border=\"1\" class=\"dataframe\">\n",
              "  <thead>\n",
              "    <tr style=\"text-align: right;\">\n",
              "      <th></th>\n",
              "      <th>Date</th>\n",
              "      <th>Open</th>\n",
              "      <th>High</th>\n",
              "      <th>Low</th>\n",
              "      <th>Close</th>\n",
              "      <th>Adj Close</th>\n",
              "      <th>Volume</th>\n",
              "    </tr>\n",
              "  </thead>\n",
              "  <tbody>\n",
              "    <tr>\n",
              "      <th>0</th>\n",
              "      <td>2010-02-01</td>\n",
              "      <td>266.301849</td>\n",
              "      <td>266.904572</td>\n",
              "      <td>264.159851</td>\n",
              "      <td>265.514771</td>\n",
              "      <td>265.514771</td>\n",
              "      <td>4518400</td>\n",
              "    </tr>\n",
              "    <tr>\n",
              "      <th>1</th>\n",
              "      <td>2010-02-02</td>\n",
              "      <td>266.481171</td>\n",
              "      <td>266.481171</td>\n",
              "      <td>262.819885</td>\n",
              "      <td>264.568329</td>\n",
              "      <td>264.568329</td>\n",
              "      <td>8223000</td>\n",
              "    </tr>\n",
              "    <tr>\n",
              "      <th>2</th>\n",
              "      <td>2010-02-03</td>\n",
              "      <td>263.347900</td>\n",
              "      <td>270.037842</td>\n",
              "      <td>263.128723</td>\n",
              "      <td>269.400208</td>\n",
              "      <td>269.400208</td>\n",
              "      <td>6020500</td>\n",
              "    </tr>\n",
              "    <tr>\n",
              "      <th>3</th>\n",
              "      <td>2010-02-04</td>\n",
              "      <td>267.497345</td>\n",
              "      <td>267.995483</td>\n",
              "      <td>261.798706</td>\n",
              "      <td>262.406433</td>\n",
              "      <td>262.406433</td>\n",
              "      <td>6780600</td>\n",
              "    </tr>\n",
              "    <tr>\n",
              "      <th>4</th>\n",
              "      <td>2010-02-05</td>\n",
              "      <td>263.213409</td>\n",
              "      <td>265.753876</td>\n",
              "      <td>260.254517</td>\n",
              "      <td>264.653015</td>\n",
              "      <td>264.653015</td>\n",
              "      <td>6335600</td>\n",
              "    </tr>\n",
              "  </tbody>\n",
              "</table>\n",
              "</div>"
            ],
            "text/plain": [
              "         Date        Open        High  ...       Close   Adj Close   Volume\n",
              "0  2010-02-01  266.301849  266.904572  ...  265.514771  265.514771  4518400\n",
              "1  2010-02-02  266.481171  266.481171  ...  264.568329  264.568329  8223000\n",
              "2  2010-02-03  263.347900  270.037842  ...  269.400208  269.400208  6020500\n",
              "3  2010-02-04  267.497345  267.995483  ...  262.406433  262.406433  6780600\n",
              "4  2010-02-05  263.213409  265.753876  ...  264.653015  264.653015  6335600\n",
              "\n",
              "[5 rows x 7 columns]"
            ]
          },
          "metadata": {
            "tags": []
          },
          "execution_count": 2
        }
      ]
    },
    {
      "cell_type": "code",
      "metadata": {
        "id": "G9u2p5mCRHQc",
        "colab_type": "code",
        "outputId": "f303ff83-2d0c-4cdd-d2f4-fee45719f470",
        "colab": {
          "base_uri": "https://localhost:8080/",
          "height": 235
        }
      },
      "source": [
        "series = data[['Date', 'Close']].rename(columns={\"Date\": \"date\", \"Close\": \"values\"}).set_index('date')\n",
        "series.index = pd.to_datetime(series.index, utc=False)\n",
        "series.head()"
      ],
      "execution_count": 3,
      "outputs": [
        {
          "output_type": "execute_result",
          "data": {
            "text/html": [
              "<div>\n",
              "<style scoped>\n",
              "    .dataframe tbody tr th:only-of-type {\n",
              "        vertical-align: middle;\n",
              "    }\n",
              "\n",
              "    .dataframe tbody tr th {\n",
              "        vertical-align: top;\n",
              "    }\n",
              "\n",
              "    .dataframe thead th {\n",
              "        text-align: right;\n",
              "    }\n",
              "</style>\n",
              "<table border=\"1\" class=\"dataframe\">\n",
              "  <thead>\n",
              "    <tr style=\"text-align: right;\">\n",
              "      <th></th>\n",
              "      <th>values</th>\n",
              "    </tr>\n",
              "    <tr>\n",
              "      <th>date</th>\n",
              "      <th></th>\n",
              "    </tr>\n",
              "  </thead>\n",
              "  <tbody>\n",
              "    <tr>\n",
              "      <th>2010-02-01</th>\n",
              "      <td>265.514771</td>\n",
              "    </tr>\n",
              "    <tr>\n",
              "      <th>2010-02-02</th>\n",
              "      <td>264.568329</td>\n",
              "    </tr>\n",
              "    <tr>\n",
              "      <th>2010-02-03</th>\n",
              "      <td>269.400208</td>\n",
              "    </tr>\n",
              "    <tr>\n",
              "      <th>2010-02-04</th>\n",
              "      <td>262.406433</td>\n",
              "    </tr>\n",
              "    <tr>\n",
              "      <th>2010-02-05</th>\n",
              "      <td>264.653015</td>\n",
              "    </tr>\n",
              "  </tbody>\n",
              "</table>\n",
              "</div>"
            ],
            "text/plain": [
              "                values\n",
              "date                  \n",
              "2010-02-01  265.514771\n",
              "2010-02-02  264.568329\n",
              "2010-02-03  269.400208\n",
              "2010-02-04  262.406433\n",
              "2010-02-05  264.653015"
            ]
          },
          "metadata": {
            "tags": []
          },
          "execution_count": 3
        }
      ]
    },
    {
      "cell_type": "code",
      "metadata": {
        "id": "TqajC14ARMBn",
        "colab_type": "code",
        "outputId": "a7b632d6-8bba-4d68-a184-71dcc5d39916",
        "colab": {
          "base_uri": "https://localhost:8080/",
          "height": 189
        }
      },
      "source": [
        "sns.set(rc={'figure.figsize':(10, 4), \"lines.linewidth\": 1.0})\n",
        "series.plot(title='Google Stock Market - Daily Price')"
      ],
      "execution_count": 4,
      "outputs": [
        {
          "output_type": "execute_result",
          "data": {
            "text/plain": [
              "<matplotlib.axes._subplots.AxesSubplot at 0x7f2033c3a828>"
            ]
          },
          "metadata": {
            "tags": []
          },
          "execution_count": 4
        },
        {
          "output_type": "display_data",
          "data": {
            "image/png": "[encoded data removed]",
            "text/plain": [
              "<Figure size 720x288 with 1 Axes>"
            ]
          },
          "metadata": {
            "tags": []
          }
        }
      ]
    },
    {
      "cell_type": "markdown",
      "metadata": {
        "id": "dQ93tsSekuVt",
        "colab_type": "text"
      },
      "source": [
        "# **Preparation**"
      ]
    },
    {
      "cell_type": "code",
      "metadata": {
        "id": "ceeRu1a86VUu",
        "colab_type": "code",
        "colab": {}
      },
      "source": [
        "# Set seed for reproducibility\n",
        "tf.random.set_seed(7)"
      ],
      "execution_count": 0,
      "outputs": []
    },
    {
      "cell_type": "markdown",
      "metadata": {
        "id": "zts6_qIQC-4B",
        "colab_type": "text"
      },
      "source": [
        "**Data Normalization**"
      ]
    },
    {
      "cell_type": "code",
      "metadata": {
        "id": "pg0JWKR3rjZO",
        "colab_type": "code",
        "outputId": "9f14bc75-62ac-497d-b92b-b4e681bcf3d5",
        "colab": {
          "base_uri": "https://localhost:8080/",
          "height": 143
        }
      },
      "source": [
        "# LSTMs are sensitive to scale of input data\n",
        "dataset = series.copy()\n",
        "scaler = MinMaxScaler(feature_range=(-1, 1))\n",
        "dataset = scaler.fit_transform(dataset)\n",
        "dataset"
      ],
      "execution_count": 87,
      "outputs": [
        {
          "output_type": "execute_result",
          "data": {
            "text/plain": [
              "array([[-0.92391232],\n",
              "       [-0.92540345],\n",
              "       [-0.91779077],\n",
              "       ...,\n",
              "       [ 0.91689178],\n",
              "       [ 0.94629088],\n",
              "       [ 0.95585415]])"
            ]
          },
          "metadata": {
            "tags": []
          },
          "execution_count": 87
        }
      ]
    },
    {
      "cell_type": "markdown",
      "metadata": {
        "id": "SiQX78WQDCKJ",
        "colab_type": "text"
      },
      "source": [
        "**Train & Test Split**"
      ]
    },
    {
      "cell_type": "code",
      "metadata": {
        "id": "18YAjsNfig1p",
        "colab_type": "code",
        "outputId": "fbda311b-82ee-469e-e0d0-3dc1d97881c1",
        "colab": {
          "base_uri": "https://localhost:8080/",
          "height": 107
        }
      },
      "source": [
        "# in % of complete dataset\n",
        "split = 0.8\n",
        "train_size = int(len(dataset) * split)\n",
        "test_size = len(dataset) - train_size\n",
        "train, test = dataset[0:train_size,:], dataset[train_size:len(dataset),:]\n",
        "train [0:5] # Show first few values in train data array"
      ],
      "execution_count": 88,
      "outputs": [
        {
          "output_type": "execute_result",
          "data": {
            "text/plain": [
              "array([[-0.92391232],\n",
              "       [-0.92540345],\n",
              "       [-0.91779077],\n",
              "       [-0.92880954],\n",
              "       [-0.92527003]])"
            ]
          },
          "metadata": {
            "tags": []
          },
          "execution_count": 88
        }
      ]
    },
    {
      "cell_type": "markdown",
      "metadata": {
        "id": "9AuwdDONDFYr",
        "colab_type": "text"
      },
      "source": [
        "**Create Sliding Windows (X input & Y output)**"
      ]
    },
    {
      "cell_type": "markdown",
      "metadata": {
        "id": "ZW7OQqFNDM0t",
        "colab_type": "text"
      },
      "source": [
        "* Window is the number of previous time steps to use as input variables to predict the next time period\n",
        "* Given the current time (t) we want to predict the value at the next time in the sequence (t+1), \n",
        "* Phrased as a regression: input variables are t-2, t-1, t and the output variable is t+1"
      ]
    },
    {
      "cell_type": "code",
      "metadata": {
        "id": "RA1nle0ASSaX",
        "colab_type": "code",
        "colab": {}
      },
      "source": [
        "window = 3 # Use (t), (t-1) and (t-2) as input variables X\n",
        "features = 1 # Use only one time series (Google stock data)\n",
        "\n",
        "# Convert an array of values into a dataset matrix\n",
        "def create_dataset(dataset, window=window):\n",
        "\tdataX, dataY = [], []\n",
        "\tfor i in range(len(dataset)-window-1):\n",
        "\t\ta = dataset[i:(i+window), 0]\n",
        "\t\tdataX.append(a)\n",
        "\t\tdataY.append(dataset[i + window, 0])\n",
        "\treturn np.array(dataX), np.array(dataY)\n",
        "\n",
        "# X is input data = value (at t, and t-1, t-2, depending on window size)\n",
        "# Y is target data = value at t+1\n",
        "# Each is additionally divided into train and test set\n",
        "\n",
        "# Reshape into X=t and Y=t+1 and get as arrays\n",
        "trainX, trainY = create_dataset(train, window)\n",
        "testX, testY = create_dataset(test, window)"
      ],
      "execution_count": 0,
      "outputs": []
    },
    {
      "cell_type": "code",
      "metadata": {
        "id": "pUdIuAzYAGOP",
        "colab_type": "code",
        "outputId": "a09e6986-8ae1-4be8-8ab5-8b30321fa48b",
        "colab": {
          "base_uri": "https://localhost:8080/",
          "height": 163
        }
      },
      "source": [
        "# X input has 3 (= window size) values at each step\n",
        "trainX"
      ],
      "execution_count": 61,
      "outputs": [
        {
          "output_type": "execute_result",
          "data": {
            "text/plain": [
              "array([[-0.92391232, -0.92540345, -0.91779077],\n",
              "       [-0.92540345, -0.91779077, -0.92880954],\n",
              "       [-0.91779077, -0.92880954, -0.92527003],\n",
              "       ...,\n",
              "       [ 0.43776308,  0.44992598,  0.47875792],\n",
              "       [ 0.44992598,  0.47875792,  0.50106702],\n",
              "       [ 0.47875792,  0.50106702,  0.49203937]])"
            ]
          },
          "metadata": {
            "tags": []
          },
          "execution_count": 61
        }
      ]
    },
    {
      "cell_type": "code",
      "metadata": {
        "id": "ZSUI2WJo5mQH",
        "colab_type": "code",
        "outputId": "e09709fc-b7bd-4e61-aeed-e5bae14e27cb",
        "colab": {
          "base_uri": "https://localhost:8080/",
          "height": 73
        }
      },
      "source": [
        "# Y output has here only one value (t+1) at each step\n",
        "trainY"
      ],
      "execution_count": 10,
      "outputs": [
        {
          "output_type": "execute_result",
          "data": {
            "text/plain": [
              "array([-0.92880954, -0.92527003, -0.92355912, ...,  0.50106702,\n",
              "        0.49203937,  0.50169726])"
            ]
          },
          "metadata": {
            "tags": []
          },
          "execution_count": 10
        }
      ]
    },
    {
      "cell_type": "markdown",
      "metadata": {
        "id": "q6Ps0OqVDcvK",
        "colab_type": "text"
      },
      "source": [
        "**Reshape Data for LSTM**"
      ]
    },
    {
      "cell_type": "markdown",
      "metadata": {
        "id": "ICcaY5-MDiBI",
        "colab_type": "text"
      },
      "source": [
        "* Data is in shape **[samples, features]**. LSTM expects **[samples, time steps, features]**\n",
        "* Reminder 2D array: shape (n,m), n [0] = rows (time steps), m [1] = column(s)\n",
        "* Shape: First Block: t, t+1, t+2. Second: t+1, t+2, t+3. Third: t+2, t+3, t+4.\n",
        "* Approach 1: Use past observations as separate input features =(trainX.shape[0], features, trainX.shape[1])\n",
        "* Approach 2: Use past observations as time steps of the one input feature **(we do here!)**"
      ]
    },
    {
      "cell_type": "code",
      "metadata": {
        "id": "QG2Y7LSNSjAF",
        "colab_type": "code",
        "outputId": "e0364d2a-c5a5-4bc6-e973-d0eb0d266517",
        "colab": {
          "base_uri": "https://localhost:8080/",
          "height": 505
        }
      },
      "source": [
        "trainX = tf.reshape(trainX, (trainX.shape[0], trainX.shape[1], features))\n",
        "testX = tf.reshape(testX, (testX.shape[0], testX.shape[1], features))\n",
        "trainX"
      ],
      "execution_count": 90,
      "outputs": [
        {
          "output_type": "execute_result",
          "data": {
            "text/plain": [
              "<tf.Tensor: shape=(2008, 3, 1), dtype=float64, numpy=\n",
              "array([[[-0.92391232],\n",
              "        [-0.92540345],\n",
              "        [-0.91779077]],\n",
              "\n",
              "       [[-0.92540345],\n",
              "        [-0.91779077],\n",
              "        [-0.92880954]],\n",
              "\n",
              "       [[-0.91779077],\n",
              "        [-0.92880954],\n",
              "        [-0.92527003]],\n",
              "\n",
              "       ...,\n",
              "\n",
              "       [[ 0.43776308],\n",
              "        [ 0.44992598],\n",
              "        [ 0.47875792]],\n",
              "\n",
              "       [[ 0.44992598],\n",
              "        [ 0.47875792],\n",
              "        [ 0.50106702]],\n",
              "\n",
              "       [[ 0.47875792],\n",
              "        [ 0.50106702],\n",
              "        [ 0.49203937]]])>"
            ]
          },
          "metadata": {
            "tags": []
          },
          "execution_count": 90
        }
      ]
    },
    {
      "cell_type": "markdown",
      "metadata": {
        "id": "xwkC651JntHE",
        "colab_type": "text"
      },
      "source": [
        "# **Model**"
      ]
    },
    {
      "cell_type": "markdown",
      "metadata": {
        "id": "p6jHVBdVTt97",
        "colab_type": "text"
      },
      "source": [
        "**Set Hyperparameter**"
      ]
    },
    {
      "cell_type": "code",
      "metadata": {
        "id": "TSzPgFIuldKw",
        "colab_type": "code",
        "colab": {}
      },
      "source": [
        "optimizer = tf.keras.optimizers.Adam(0.0001)\n",
        "loss = 'mean_squared_error'\n",
        "activation = 'tanh'\n",
        "recurrent_activation= 'sigmoid'\n",
        "epochs = 8\n",
        "repeat = 2\n",
        "batch_size = 4\n",
        "verbose = 1\n",
        "units = 16\n",
        "dropout = 0.02\n",
        "recurrent_dropout = 0.02"
      ],
      "execution_count": 0,
      "outputs": []
    },
    {
      "cell_type": "markdown",
      "metadata": {
        "id": "gg0FzLLdNAAd",
        "colab_type": "text"
      },
      "source": [
        "**Create Model** "
      ]
    },
    {
      "cell_type": "code",
      "metadata": {
        "id": "CbEkfsQFLyL1",
        "colab_type": "code",
        "colab": {}
      },
      "source": [
        "# Deep Stacked LSTM with Memory Between Batches\n",
        "model = tf.keras.Sequential()\n",
        "model.add(layers.LSTM(units, \n",
        "               batch_input_shape=(batch_size, window, 1), \n",
        "               activation=activation,\n",
        "               recurrent_activation=recurrent_activation,\n",
        "               dropout=dropout,\n",
        "               recurrent_dropout=recurrent_dropout,\n",
        "               unroll=True,\n",
        "               stateful=True, \n",
        "               return_sequences=True))\n",
        "model.add(layers.LSTM(units, \n",
        "               batch_input_shape=(batch_size, window, 1), \n",
        "               activation=activation,\n",
        "               recurrent_activation=recurrent_activation,\n",
        "               dropout=dropout,\n",
        "               recurrent_dropout=recurrent_dropout,\n",
        "               unroll=True,\n",
        "               stateful=True, \n",
        "               return_sequences=True))\n",
        "model.add(layers.LSTM(units, \n",
        "               batch_input_shape=(batch_size, window, 1),\n",
        "               activation=activation,\n",
        "               recurrent_activation=recurrent_activation,\n",
        "               dropout=dropout,\n",
        "               recurrent_dropout=recurrent_dropout,\n",
        "               unroll=True,\n",
        "               stateful=True))\n",
        "model.add(layers.Dense(1))"
      ],
      "execution_count": 0,
      "outputs": []
    },
    {
      "cell_type": "markdown",
      "metadata": {
        "id": "1jRmIfcCNHow",
        "colab_type": "text"
      },
      "source": [
        "**Display Model Topology**"
      ]
    },
    {
      "cell_type": "code",
      "metadata": {
        "id": "MnkOOqDFNGqZ",
        "colab_type": "code",
        "outputId": "22bcc2d0-c187-41b7-8d2f-f620abee1eed",
        "colab": {
          "base_uri": "https://localhost:8080/",
          "height": 325
        }
      },
      "source": [
        "model.summary()"
      ],
      "execution_count": 93,
      "outputs": [
        {
          "output_type": "stream",
          "text": [
            "Model: \"sequential_6\"\n",
            "_________________________________________________________________\n",
            "Layer (type)                 Output Shape              Param #   \n",
            "=================================================================\n",
            "lstm_18 (LSTM)               (4, 3, 16)                1152      \n",
            "_________________________________________________________________\n",
            "lstm_19 (LSTM)               (4, 3, 16)                2112      \n",
            "_________________________________________________________________\n",
            "lstm_20 (LSTM)               (4, 16)                   2112      \n",
            "_________________________________________________________________\n",
            "dense_6 (Dense)              (4, 1)                    17        \n",
            "=================================================================\n",
            "Total params: 5,393\n",
            "Trainable params: 5,393\n",
            "Non-trainable params: 0\n",
            "_________________________________________________________________\n"
          ],
          "name": "stdout"
        }
      ]
    },
    {
      "cell_type": "markdown",
      "metadata": {
        "id": "oSjEypxvNMNQ",
        "colab_type": "text"
      },
      "source": [
        "**Compile Model**"
      ]
    },
    {
      "cell_type": "code",
      "metadata": {
        "id": "PL-w1PCqNRuA",
        "colab_type": "code",
        "colab": {}
      },
      "source": [
        "model.compile(optimizer=optimizer, \n",
        "              loss=loss, \n",
        "              metrics=['accuracy'])"
      ],
      "execution_count": 0,
      "outputs": []
    },
    {
      "cell_type": "markdown",
      "metadata": {
        "id": "QgUuXw0VNXmi",
        "colab_type": "text"
      },
      "source": [
        "**Train Model**"
      ]
    },
    {
      "cell_type": "code",
      "metadata": {
        "id": "q6TozGj0NUVT",
        "colab_type": "code",
        "outputId": "dd878e0a-7769-4cd6-f7c8-f31e7d41c932",
        "colab": {
          "base_uri": "https://localhost:8080/",
          "height": 613
        }
      },
      "source": [
        "for i in range(repeat):\n",
        "\tmodel.fit(trainX, trainY, epochs=epochs, batch_size=batch_size, verbose=verbose, shuffle=False)\n",
        "\tmodel.reset_states()"
      ],
      "execution_count": 95,
      "outputs": [
        {
          "output_type": "stream",
          "text": [
            "Epoch 1/8\n",
            "502/502 [==============================] - 2s 3ms/step - loss: 0.0871 - accuracy: 0.0000e+00\n",
            "Epoch 2/8\n",
            "502/502 [==============================] - 2s 3ms/step - loss: 0.0151 - accuracy: 0.0000e+00\n",
            "Epoch 3/8\n",
            "502/502 [==============================] - 2s 3ms/step - loss: 0.0128 - accuracy: 0.0000e+00\n",
            "Epoch 4/8\n",
            "502/502 [==============================] - 2s 3ms/step - loss: 0.0116 - accuracy: 0.0000e+00\n",
            "Epoch 5/8\n",
            "502/502 [==============================] - 2s 3ms/step - loss: 0.0118 - accuracy: 0.0000e+00\n",
            "Epoch 6/8\n",
            "502/502 [==============================] - 2s 3ms/step - loss: 0.0113 - accuracy: 0.0000e+00\n",
            "Epoch 7/8\n",
            "502/502 [==============================] - 2s 3ms/step - loss: 0.0112 - accuracy: 0.0000e+00\n",
            "Epoch 8/8\n",
            "502/502 [==============================] - 2s 3ms/step - loss: 0.0106 - accuracy: 0.0000e+00\n",
            "Epoch 1/8\n",
            "502/502 [==============================] - 2s 3ms/step - loss: 0.0070 - accuracy: 0.0000e+00\n",
            "Epoch 2/8\n",
            "502/502 [==============================] - 2s 3ms/step - loss: 0.0101 - accuracy: 0.0000e+00\n",
            "Epoch 3/8\n",
            "502/502 [==============================] - 2s 3ms/step - loss: 0.0107 - accuracy: 0.0000e+00\n",
            "Epoch 4/8\n",
            "502/502 [==============================] - 2s 3ms/step - loss: 0.0095 - accuracy: 0.0000e+00\n",
            "Epoch 5/8\n",
            "502/502 [==============================] - 2s 3ms/step - loss: 0.0087 - accuracy: 0.0000e+00\n",
            "Epoch 6/8\n",
            "502/502 [==============================] - 2s 3ms/step - loss: 0.0088 - accuracy: 0.0000e+00\n",
            "Epoch 7/8\n",
            "502/502 [==============================] - 2s 3ms/step - loss: 0.0080 - accuracy: 0.0000e+00\n",
            "Epoch 8/8\n",
            "502/502 [==============================] - 2s 3ms/step - loss: 0.0075 - accuracy: 0.0000e+00\n"
          ],
          "name": "stdout"
        }
      ]
    },
    {
      "cell_type": "code",
      "metadata": {
        "id": "EYf0ojo8nTnN",
        "colab_type": "code",
        "colab": {}
      },
      "source": [
        "# Second (simpler) Model\n",
        "# Use past observations as input features (=3) and only one time step\n",
        "\n",
        "# Reshape Data Format for LSTM\n",
        "# trainX = np.reshape(trainX, (trainX.shape[0], 1, trainX.shape[1]))\n",
        "# testX = np.reshape(testX, (testX.shape[0], 1, testX.shape[1]))\n",
        "\n",
        "# Model create and train\n",
        "# model = Sequential()\n",
        "# model.add(LSTM(4, input_shape=(1, window)))\n",
        "# model.add(Dense(1))\n",
        "# model.compile(loss='mean_squared_error', optimizer='adam')\n",
        "# model.fit(trainX, trainY, epochs=5, batch_size=1, verbose=2)"
      ],
      "execution_count": 0,
      "outputs": []
    },
    {
      "cell_type": "markdown",
      "metadata": {
        "id": "IXJvUtNEMdmS",
        "colab_type": "text"
      },
      "source": [
        "# **Predictions**"
      ]
    },
    {
      "cell_type": "markdown",
      "metadata": {
        "id": "1BTTit0UM0NV",
        "colab_type": "text"
      },
      "source": [
        "**Make Predictions**"
      ]
    },
    {
      "cell_type": "code",
      "metadata": {
        "id": "kX90RY_7MsXa",
        "colab_type": "code",
        "colab": {}
      },
      "source": [
        "trainPredict = model.predict(trainX, batch_size=batch_size)\n",
        "model.reset_states()\n",
        "testPredict = model.predict(testX, batch_size=batch_size)"
      ],
      "execution_count": 0,
      "outputs": []
    },
    {
      "cell_type": "markdown",
      "metadata": {
        "id": "sAhg9NvjO9zF",
        "colab_type": "text"
      },
      "source": [
        "**Invert predictions**"
      ]
    },
    {
      "cell_type": "code",
      "metadata": {
        "id": "xAlRdk9oPBl_",
        "colab_type": "code",
        "colab": {}
      },
      "source": [
        "trainPredict = scaler.inverse_transform(trainPredict)\n",
        "trainY = scaler.inverse_transform([trainY])\n",
        "testPredict = scaler.inverse_transform(testPredict)\n",
        "testY = scaler.inverse_transform([testY])"
      ],
      "execution_count": 0,
      "outputs": []
    },
    {
      "cell_type": "markdown",
      "metadata": {
        "id": "nKyVB52gMyKg",
        "colab_type": "text"
      },
      "source": [
        "**Calculate RMSE**"
      ]
    },
    {
      "cell_type": "code",
      "metadata": {
        "id": "GG9MrQ89MvCR",
        "colab_type": "code",
        "outputId": "71f8c509-4a25-4e9d-9012-cb7a91a55d90",
        "colab": {
          "base_uri": "https://localhost:8080/",
          "height": 53
        }
      },
      "source": [
        "trainScore = math.sqrt(mean_squared_error(trainY[0], trainPredict[:,0]))\n",
        "print('Train Score: %.2f RMSE' % (trainScore))\n",
        "testScore = math.sqrt(mean_squared_error(testY[0], testPredict[:,0]))\n",
        "print('Test Score: %.2f RMSE' % (testScore))"
      ],
      "execution_count": 98,
      "outputs": [
        {
          "output_type": "stream",
          "text": [
            "Train Score: 89.73 RMSE\n",
            "Test Score: 104.48 RMSE\n"
          ],
          "name": "stdout"
        }
      ]
    },
    {
      "cell_type": "markdown",
      "metadata": {
        "id": "dS0R7qCiM5TU",
        "colab_type": "text"
      },
      "source": [
        "**Plot results**"
      ]
    },
    {
      "cell_type": "code",
      "metadata": {
        "id": "E44nHJyiL9a7",
        "colab_type": "code",
        "outputId": "eaef9a8e-6226-4ed1-e9ee-086bd7ad7993",
        "colab": {
          "base_uri": "https://localhost:8080/",
          "height": 153
        }
      },
      "source": [
        "# shift train predictions for plotting\n",
        "trainPredictPlot = np.empty_like(dataset)\n",
        "trainPredictPlot[:, :] = np.nan\n",
        "trainPredictPlot[window:len(trainPredict)+window, :] = trainPredict\n",
        "\n",
        "# shift test predictions for plotting\n",
        "testPredictPlot = np.empty_like(dataset)\n",
        "testPredictPlot[:, :] = np.nan\n",
        "testPredictPlot[len(trainPredict)+(window*2)+1:len(dataset)-1, :] = testPredict\n",
        "\n",
        "# plot baseline and predictions\n",
        "sns.set(rc={'figure.figsize':(11, 5)})\n",
        "plt.plot(scaler.inverse_transform(dataset))\n",
        "plt.plot(trainPredictPlot)\n",
        "plt.plot(testPredictPlot)\n",
        "plt.show()"
      ],
      "execution_count": 99,
      "outputs": [
        {
          "output_type": "display_data",
          "data": {
            "image/png": "[encoded data removed]",
            "text/plain": [
              "<Figure size 792x360 with 1 Axes>"
            ]
          },
          "metadata": {
            "tags": []
          }
        }
      ]
    },
    {
      "cell_type": "markdown",
      "metadata": {
        "id": "IuQogmY0Admt",
        "colab_type": "text"
      },
      "source": [
        "Model got pretty good on adapting to both test and train data. But keep in mind the model only predicts next day, and may not be able to learn structural market changes etc. This is just a demo for learning model building, not applicable to real world at this configuration."
      ]
    },
    {
      "cell_type": "markdown",
      "metadata": {
        "id": "PEJEZOOHR-wK",
        "colab_type": "text"
      },
      "source": [
        "# **Residuals**"
      ]
    },
    {
      "cell_type": "markdown",
      "metadata": {
        "id": "9Kk9ij5x7CyR",
        "colab_type": "text"
      },
      "source": [
        "Residuals are useful in checking whether a model has adequately captured the information in the data. In a good model the residuals are stationary, which can be broken down into following requirements:\n",
        "\n",
        "**Essential (necessary) properties:**\n",
        "\n",
        "1. The residuals are uncorrelated. If there are correlations between residuals, then there is information left in the residuals which should be used in computing forecasts.\n",
        "2. The residuals have zero mean. If the residuals have a mean other than zero, then the forecasts are biased.\n",
        "\n",
        "**Additional useful (but not necessary) properties:**\n",
        "\n",
        "3. The residuals have constant variance.\n",
        "4. The residuals are normally distributed.\n"
      ]
    },
    {
      "cell_type": "markdown",
      "metadata": {
        "id": "bgjqKPTrMoOW",
        "colab_type": "text"
      },
      "source": [
        "**Get residuals**"
      ]
    },
    {
      "cell_type": "code",
      "metadata": {
        "id": "S-m_XngDMonk",
        "colab_type": "code",
        "outputId": "a2ade13c-a7ec-4864-f345-751e576f8800",
        "colab": {
          "base_uri": "https://localhost:8080/",
          "height": 204
        }
      },
      "source": [
        "residuals = (testY[0] - testPredict[:,0])\n",
        "res = pd.DataFrame(data=residuals, columns=['residuals'])\n",
        "res.head()"
      ],
      "execution_count": 100,
      "outputs": [
        {
          "output_type": "execute_result",
          "data": {
            "text/html": [
              "<div>\n",
              "<style scoped>\n",
              "    .dataframe tbody tr th:only-of-type {\n",
              "        vertical-align: middle;\n",
              "    }\n",
              "\n",
              "    .dataframe tbody tr th {\n",
              "        vertical-align: top;\n",
              "    }\n",
              "\n",
              "    .dataframe thead th {\n",
              "        text-align: right;\n",
              "    }\n",
              "</style>\n",
              "<table border=\"1\" class=\"dataframe\">\n",
              "  <thead>\n",
              "    <tr style=\"text-align: right;\">\n",
              "      <th></th>\n",
              "      <th>residuals</th>\n",
              "    </tr>\n",
              "  </thead>\n",
              "  <tbody>\n",
              "    <tr>\n",
              "      <th>0</th>\n",
              "      <td>291.675781</td>\n",
              "    </tr>\n",
              "    <tr>\n",
              "      <th>1</th>\n",
              "      <td>236.394958</td>\n",
              "    </tr>\n",
              "    <tr>\n",
              "      <th>2</th>\n",
              "      <td>180.818421</td>\n",
              "    </tr>\n",
              "    <tr>\n",
              "      <th>3</th>\n",
              "      <td>208.663697</td>\n",
              "    </tr>\n",
              "    <tr>\n",
              "      <th>4</th>\n",
              "      <td>93.473999</td>\n",
              "    </tr>\n",
              "  </tbody>\n",
              "</table>\n",
              "</div>"
            ],
            "text/plain": [
              "    residuals\n",
              "0  291.675781\n",
              "1  236.394958\n",
              "2  180.818421\n",
              "3  208.663697\n",
              "4   93.473999"
            ]
          },
          "metadata": {
            "tags": []
          },
          "execution_count": 100
        }
      ]
    },
    {
      "cell_type": "code",
      "metadata": {
        "id": "eg0kWBM2lwL5",
        "colab_type": "code",
        "outputId": "3b22e78c-98bf-4e5b-9944-e567ff4c2861",
        "colab": {
          "base_uri": "https://localhost:8080/",
          "height": 158
        }
      },
      "source": [
        "# Visualize Series\n",
        "sns.set(rc={'figure.figsize':(13, 4), \"lines.linewidth\": 1.0})\n",
        "res.plot(title='Residuals')"
      ],
      "execution_count": 101,
      "outputs": [
        {
          "output_type": "execute_result",
          "data": {
            "text/plain": [
              "<matplotlib.axes._subplots.AxesSubplot at 0x7f202ad9dc88>"
            ]
          },
          "metadata": {
            "tags": []
          },
          "execution_count": 101
        },
        {
          "output_type": "display_data",
          "data": {
            "image/png": "[encoded data removed]",
            "text/plain": [
              "<Figure size 936x288 with 1 Axes>"
            ]
          },
          "metadata": {
            "tags": []
          }
        }
      ]
    },
    {
      "cell_type": "code",
      "metadata": {
        "id": "sIzqApBZQDIl",
        "colab_type": "code",
        "outputId": "454c6dc1-92fa-43be-a828-93828e0ea1e6",
        "colab": {
          "base_uri": "https://localhost:8080/",
          "height": 297
        }
      },
      "source": [
        "res.describe()"
      ],
      "execution_count": 102,
      "outputs": [
        {
          "output_type": "execute_result",
          "data": {
            "text/html": [
              "<div>\n",
              "<style scoped>\n",
              "    .dataframe tbody tr th:only-of-type {\n",
              "        vertical-align: middle;\n",
              "    }\n",
              "\n",
              "    .dataframe tbody tr th {\n",
              "        vertical-align: top;\n",
              "    }\n",
              "\n",
              "    .dataframe thead th {\n",
              "        text-align: right;\n",
              "    }\n",
              "</style>\n",
              "<table border=\"1\" class=\"dataframe\">\n",
              "  <thead>\n",
              "    <tr style=\"text-align: right;\">\n",
              "      <th></th>\n",
              "      <th>residuals</th>\n",
              "    </tr>\n",
              "  </thead>\n",
              "  <tbody>\n",
              "    <tr>\n",
              "      <th>count</th>\n",
              "      <td>500.000000</td>\n",
              "    </tr>\n",
              "    <tr>\n",
              "      <th>mean</th>\n",
              "      <td>78.268281</td>\n",
              "    </tr>\n",
              "    <tr>\n",
              "      <th>std</th>\n",
              "      <td>69.281620</td>\n",
              "    </tr>\n",
              "    <tr>\n",
              "      <th>min</th>\n",
              "      <td>-67.117309</td>\n",
              "    </tr>\n",
              "    <tr>\n",
              "      <th>25%</th>\n",
              "      <td>32.555725</td>\n",
              "    </tr>\n",
              "    <tr>\n",
              "      <th>50%</th>\n",
              "      <td>67.858216</td>\n",
              "    </tr>\n",
              "    <tr>\n",
              "      <th>75%</th>\n",
              "      <td>111.039124</td>\n",
              "    </tr>\n",
              "    <tr>\n",
              "      <th>max</th>\n",
              "      <td>320.476196</td>\n",
              "    </tr>\n",
              "  </tbody>\n",
              "</table>\n",
              "</div>"
            ],
            "text/plain": [
              "        residuals\n",
              "count  500.000000\n",
              "mean    78.268281\n",
              "std     69.281620\n",
              "min    -67.117309\n",
              "25%     32.555725\n",
              "50%     67.858216\n",
              "75%    111.039124\n",
              "max    320.476196"
            ]
          },
          "metadata": {
            "tags": []
          },
          "execution_count": 102
        }
      ]
    },
    {
      "cell_type": "markdown",
      "metadata": {
        "id": "S2L3uVgQ9v1Q",
        "colab_type": "text"
      },
      "source": [
        "**Are residuals autocorrelated?**"
      ]
    },
    {
      "cell_type": "code",
      "metadata": {
        "id": "YCZ6nRzb-ypX",
        "colab_type": "code",
        "outputId": "d582cde4-5fc6-4ca8-dad2-633aceae02e4",
        "colab": {
          "base_uri": "https://localhost:8080/",
          "height": 35
        }
      },
      "source": [
        "# Durban-Watson Statistic. Value 2: no serial correlation. 0: positive correlation. 4: negative correlation\n",
        "statsmodels.stats.stattools.durbin_watson(res.residuals, axis=0)"
      ],
      "execution_count": 25,
      "outputs": [
        {
          "output_type": "execute_result",
          "data": {
            "text/plain": [
              "0.03140923941634127"
            ]
          },
          "metadata": {
            "tags": []
          },
          "execution_count": 25
        }
      ]
    },
    {
      "cell_type": "code",
      "metadata": {
        "id": "erbKVsM191z0",
        "colab_type": "code",
        "outputId": "78ec56a9-485a-45ea-e342-f6fbb6895dbc",
        "colab": {
          "base_uri": "https://localhost:8080/",
          "height": 119
        }
      },
      "source": [
        "sns.set(rc={'figure.figsize':(13, 4)})\n",
        "sm.graphics.tsa.plot_acf(res.residuals.squeeze(), lags=15)\n",
        "plt.title('Residuals - Autocorrelation')\n",
        "plt.show()"
      ],
      "execution_count": 26,
      "outputs": [
        {
          "output_type": "display_data",
          "data": {
            "image/png": "[encoded data removed]",
            "text/plain": [
              "<Figure size 936x288 with 1 Axes>"
            ]
          },
          "metadata": {
            "tags": []
          }
        }
      ]
    },
    {
      "cell_type": "code",
      "metadata": {
        "id": "EPwOuW56-BwM",
        "colab_type": "code",
        "outputId": "21b69428-1031-4c16-e1a0-a858405d3059",
        "colab": {
          "base_uri": "https://localhost:8080/",
          "height": 120
        }
      },
      "source": [
        "plot_pacf(res.residuals)\n",
        "plt.title('Residuals - Partial Autocorrelation Lag Plot')\n",
        "plt.show()"
      ],
      "execution_count": 27,
      "outputs": [
        {
          "output_type": "display_data",
          "data": {
            "image/png": "[encoded data removed]",
            "text/plain": [
              "<Figure size 936x288 with 1 Axes>"
            ]
          },
          "metadata": {
            "tags": []
          }
        }
      ]
    },
    {
      "cell_type": "code",
      "metadata": {
        "id": "u5OFevuO-Qyq",
        "colab_type": "code",
        "outputId": "85fef79f-ce06-49de-fa30-f33086605770",
        "colab": {
          "base_uri": "https://localhost:8080/",
          "height": 161
        }
      },
      "source": [
        "lag_plot(res.residuals)\n",
        "plt.title('Residuals - Autocorrelation Lag Plot')\n",
        "plt.show()"
      ],
      "execution_count": 28,
      "outputs": [
        {
          "output_type": "stream",
          "text": [
            "'c' argument looks like a single numeric RGB or RGBA sequence, which should be avoided as value-mapping will have precedence in case its length matches with 'x' & 'y'.  Please use a 2-D array with a single row if you really want to specify the same RGB or RGBA value for all points.\n"
          ],
          "name": "stderr"
        },
        {
          "output_type": "display_data",
          "data": {
            "image/png": "[encoded data removed]",
            "text/plain": [
              "<Figure size 936x288 with 1 Axes>"
            ]
          },
          "metadata": {
            "tags": []
          }
        }
      ]
    },
    {
      "cell_type": "markdown",
      "metadata": {
        "id": "ecH5HdMT-eCC",
        "colab_type": "text"
      },
      "source": [
        "Yes, there is a strong autocorrelation at lag 1. This is typical for financial time series, as they are similar to Markov processes."
      ]
    },
    {
      "cell_type": "markdown",
      "metadata": {
        "id": "AQb0DyVM8XQ6",
        "colab_type": "text"
      },
      "source": [
        "**Is the mean zero?**"
      ]
    },
    {
      "cell_type": "code",
      "metadata": {
        "id": "rafFHdEO73U2",
        "colab_type": "code",
        "outputId": "37174d42-6718-45fd-a28c-38b9256d07fc",
        "colab": {
          "base_uri": "https://localhost:8080/",
          "height": 35
        }
      },
      "source": [
        "# Mean (must be nearly zero)\n",
        "res.residuals.mean()"
      ],
      "execution_count": 29,
      "outputs": [
        {
          "output_type": "execute_result",
          "data": {
            "text/plain": [
              "73.19660499116414"
            ]
          },
          "metadata": {
            "tags": []
          },
          "execution_count": 29
        }
      ]
    },
    {
      "cell_type": "code",
      "metadata": {
        "id": "1PiBoI-Z8uMM",
        "colab_type": "code",
        "outputId": "f02cdf1a-904e-49b9-8602-ae49c88ce30e",
        "colab": {
          "base_uri": "https://localhost:8080/",
          "height": 168
        }
      },
      "source": [
        "sns.boxplot(res.residuals).set_title('Residuals - Boxplot')"
      ],
      "execution_count": 30,
      "outputs": [
        {
          "output_type": "execute_result",
          "data": {
            "text/plain": [
              "Text(0.5, 1.0, 'Residuals - Boxplot')"
            ]
          },
          "metadata": {
            "tags": []
          },
          "execution_count": 30
        },
        {
          "output_type": "display_data",
          "data": {
            "image/png": "[encoded data removed]",
            "text/plain": [
              "<Figure size 936x288 with 1 Axes>"
            ]
          },
          "metadata": {
            "tags": []
          }
        }
      ]
    },
    {
      "cell_type": "markdown",
      "metadata": {
        "id": "qvP-Z5sH8yiT",
        "colab_type": "text"
      },
      "source": [
        "No, residuals don't have the mean at zero."
      ]
    },
    {
      "cell_type": "markdown",
      "metadata": {
        "id": "7_7_grDT8azy",
        "colab_type": "text"
      },
      "source": [
        "**Are residuals normally distributed?**"
      ]
    },
    {
      "cell_type": "code",
      "metadata": {
        "id": "2HfqaSJx7753",
        "colab_type": "code",
        "outputId": "db82b4a0-7bef-4965-c05f-e8779716caf6",
        "colab": {
          "base_uri": "https://localhost:8080/",
          "height": 55
        }
      },
      "source": [
        "# Distribution (H0: sample normal distributed)\n",
        "scipy.stats.normaltest(res.residuals)"
      ],
      "execution_count": 104,
      "outputs": [
        {
          "output_type": "execute_result",
          "data": {
            "text/plain": [
              "NormaltestResult(statistic=66.07407947133014, pvalue=4.489478999366322e-15)"
            ]
          },
          "metadata": {
            "tags": []
          },
          "execution_count": 104
        }
      ]
    },
    {
      "cell_type": "code",
      "metadata": {
        "id": "znGsbpmF8i4a",
        "colab_type": "code",
        "outputId": "14008ae8-9fa0-4d26-f52d-b77fd2d407ec",
        "colab": {
          "base_uri": "https://localhost:8080/",
          "height": 125
        }
      },
      "source": [
        "sns.set(rc={'figure.figsize':(13, 4)})\n",
        "sns.distplot((res.residuals), hist=True, rug=True).set_title('Residuals - Distribution Plot (incl. KDE & Rug Plot)')\n",
        "plt.show()"
      ],
      "execution_count": 103,
      "outputs": [
        {
          "output_type": "display_data",
          "data": {
            "image/png": "[encoded data removed]",
            "text/plain": [
              "<Figure size 936x288 with 1 Axes>"
            ]
          },
          "metadata": {
            "tags": []
          }
        }
      ]
    },
    {
      "cell_type": "code",
      "metadata": {
        "id": "P4df2IH-88rj",
        "colab_type": "code",
        "outputId": "5a7e5c77-3d40-4006-f252-6408d0ebaf84",
        "colab": {
          "base_uri": "https://localhost:8080/",
          "height": 123
        }
      },
      "source": [
        "stats.probplot(res.residuals, dist=\"norm\", plot=plt)\n",
        "plt.title('Residuals - QQ Plot - Normal Distribution')\n",
        "plt.show()"
      ],
      "execution_count": 105,
      "outputs": [
        {
          "output_type": "display_data",
          "data": {
            "image/png": "[encoded data removed]",
            "text/plain": [
              "<Figure size 936x288 with 1 Axes>"
            ]
          },
          "metadata": {
            "tags": []
          }
        }
      ]
    },
    {
      "cell_type": "markdown",
      "metadata": {
        "id": "4YfuWd9h83m1",
        "colab_type": "text"
      },
      "source": [
        "No, residuals are not normally distributed. Though it seems normally distributed without the outliers."
      ]
    },
    {
      "cell_type": "markdown",
      "metadata": {
        "id": "5nk2DNP8_j-9",
        "colab_type": "text"
      },
      "source": [
        "**Is the variance constant? (Stationarity)**"
      ]
    },
    {
      "cell_type": "code",
      "metadata": {
        "id": "sFjHS2H5_pWs",
        "colab_type": "code",
        "outputId": "2653c600-e5c0-4464-baad-bf76a948b10a",
        "colab": {
          "base_uri": "https://localhost:8080/",
          "height": 161
        }
      },
      "source": [
        "# Augmented Dickey Fuller. H0: There is a unit root for the series (non stationary)\n",
        "statsmodels.tsa.stattools.adfuller(res.residuals, maxlag=None, regression='ctt', autolag='AIC', store=False, regresults=False)\n"
      ],
      "execution_count": 106,
      "outputs": [
        {
          "output_type": "execute_result",
          "data": {
            "text/plain": [
              "(-5.67496933233821,\n",
              " 5.8180026178018604e-05,\n",
              " 0,\n",
              " 499,\n",
              " {'1%': -4.394499384993899,\n",
              "  '10%': -3.56061563621329,\n",
              "  '5%': -3.844276182553822},\n",
              " 4159.653923677941)"
            ]
          },
          "metadata": {
            "tags": []
          },
          "execution_count": 106
        }
      ]
    },
    {
      "cell_type": "markdown",
      "metadata": {
        "id": "c1V7Pya1_z_I",
        "colab_type": "text"
      },
      "source": [
        "P-value is < 0.05. reject H0. Series is stationary."
      ]
    }
  ]
}