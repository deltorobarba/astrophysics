{
  "nbformat": 4,
  "nbformat_minor": 5,
  "metadata": {
    "environment": {
      "name": "tf2-gpu.2-3.m65",
      "type": "gcloud",
      "uri": "gcr.io/deeplearning-platform-release/tf2-gpu.2-3:m65"
    },
    "kernelspec": {
      "display_name": "Python 3",
      "language": "python",
      "name": "python3"
    },
    "language_info": {
      "codemirror_mode": {
        "name": "ipython",
        "version": 3
      },
      "file_extension": ".py",
      "mimetype": "text/x-python",
      "name": "python",
      "nbconvert_exporter": "python",
      "pygments_lexer": "ipython3",
      "version": "3.7.10"
    },
    "colab": {
      "name": "lstm.ipynb",
      "provenance": [],
      "collapsed_sections": [],
      "include_colab_link": true
    }
  },
  "cells": [
    {
      "cell_type": "markdown",
      "metadata": {
        "id": "view-in-github",
        "colab_type": "text"
      },
      "source": [
        "<a href=\"https://colab.research.google.com/github/deltorobarba/machinelearning/blob/master/lstm.ipynb\" target=\"_parent\"><img src=\"https://colab.research.google.com/assets/colab-badge.svg\" alt=\"Open In Colab\"/></a>"
      ]
    },
    {
      "cell_type": "markdown",
      "metadata": {
        "id": "first-twist"
      },
      "source": [
        "# **LSTM Time Series Forecasting**"
      ],
      "id": "first-twist"
    },
    {
      "cell_type": "code",
      "metadata": {
        "colab": {
          "base_uri": "https://localhost:8080/"
        },
        "id": "cardiac-conversion",
        "outputId": "ca88660b-a421-4119-f246-4576c036733e"
      },
      "source": [
        "import numpy as np\n",
        "import pandas as pd\n",
        "import seaborn as sns\n",
        "import matplotlib.pyplot as plt\n",
        "from sklearn.preprocessing import MinMaxScaler\n",
        "import math\n",
        "from sklearn.metrics import mean_squared_error\n",
        "import tensorflow as tf\n",
        "\n",
        "from tensorflow import keras\n",
        "from tensorflow.keras import layers\n",
        "from keras.models import Sequential\n",
        "from keras.layers import LSTM, Dense\n",
        "\n",
        "print('Tensorflow version %s' % tf.__version__)\n",
        "\n",
        "!pip install --quiet ipython-autotime pandas_gbq\n",
        "%load_ext autotime"
      ],
      "id": "cardiac-conversion",
      "execution_count": 1,
      "outputs": [
        {
          "output_type": "stream",
          "text": [
            "Tensorflow version 2.4.1\n",
            "time: 2.68 ms (started: 2021-05-13 07:03:02 +00:00)\n"
          ],
          "name": "stdout"
        }
      ]
    },
    {
      "cell_type": "markdown",
      "metadata": {
        "id": "superb-abraham"
      },
      "source": [
        "## **Load Data**"
      ],
      "id": "superb-abraham"
    },
    {
      "cell_type": "code",
      "metadata": {
        "colab": {
          "base_uri": "https://localhost:8080/"
        },
        "id": "QF1j1iRkNPqO",
        "outputId": "39492b51-2eb1-47c7-cdd7-9796590127d8"
      },
      "source": [
        "url = 'https://raw.githubusercontent.com/deltorobarba/repo/master/google.csv'\n",
        "data = pd.read_csv(url)\n",
        "series = data[['Date', 'Close']].rename(columns={\"Date\": \"date\", \"Close\": \"values\"}).set_index('date')\n",
        "series.index = pd.to_datetime(series.index, utc=False)\n",
        "series.head()\n",
        "dataset = series.copy()"
      ],
      "id": "QF1j1iRkNPqO",
      "execution_count": 2,
      "outputs": [
        {
          "output_type": "stream",
          "text": [
            "time: 249 ms (started: 2021-05-13 07:03:02 +00:00)\n"
          ],
          "name": "stdout"
        }
      ]
    },
    {
      "cell_type": "code",
      "metadata": {
        "colab": {
          "base_uri": "https://localhost:8080/"
        },
        "id": "ideuB7R3E9sS",
        "outputId": "cddec926-711d-41f0-ac62-9377b7df48a6"
      },
      "source": [
        "# url = 'https://raw.githubusercontent.com/deltorobarba/repo/master/sh_unmelt_bq_raw.csv'\n",
        "# sh_unmelt_bq_raw = pd.read_csv(url)\n",
        "# sh_unmelt_bq_raw = sh_unmelt_bq_raw.sort_values('datum')\n",
        "# sh_unmelt_bq_raw.head()"
      ],
      "id": "ideuB7R3E9sS",
      "execution_count": 3,
      "outputs": [
        {
          "output_type": "stream",
          "text": [
            "time: 987 µs (started: 2021-05-13 07:03:02 +00:00)\n"
          ],
          "name": "stdout"
        }
      ]
    },
    {
      "cell_type": "code",
      "metadata": {
        "colab": {
          "base_uri": "https://localhost:8080/"
        },
        "id": "nuclear-ministry",
        "outputId": "3262ad66-c1f7-4fc0-8e75-d9f9fe179c71"
      },
      "source": [
        "# dataset = sh_unmelt_bq_raw.copy()\n",
        "# dataset = dataset.drop(columns=['Bergbau', 'Dienstleistungen', 'Energieversorgung','Erziehung', 'Finanzleistungen', 'Gastgewerbe','IT', 'Manufaktur', 'Sonstiges','Sozialwesen', 'Verkehr', 'Wohnungswesen'])\n",
        "# dataset"
      ],
      "id": "nuclear-ministry",
      "execution_count": 4,
      "outputs": [
        {
          "output_type": "stream",
          "text": [
            "time: 1.24 ms (started: 2021-05-13 07:03:02 +00:00)\n"
          ],
          "name": "stdout"
        }
      ]
    },
    {
      "cell_type": "code",
      "metadata": {
        "colab": {
          "base_uri": "https://localhost:8080/"
        },
        "id": "afnF2GWcId7v",
        "outputId": "ae654498-41dc-42db-da39-0a90ca7ef113"
      },
      "source": [
        "# dataset = dataset.set_index('datum')\n",
        "# dataset.index = pd.to_datetime(dataset.index, utc=False)\n",
        "# dataset"
      ],
      "id": "afnF2GWcId7v",
      "execution_count": 5,
      "outputs": [
        {
          "output_type": "stream",
          "text": [
            "time: 1.21 ms (started: 2021-05-13 07:03:02 +00:00)\n"
          ],
          "name": "stdout"
        }
      ]
    },
    {
      "cell_type": "markdown",
      "metadata": {
        "id": "german-hometown"
      },
      "source": [
        "#### **Set input data**"
      ],
      "id": "german-hometown"
    },
    {
      "cell_type": "code",
      "metadata": {
        "colab": {
          "base_uri": "https://localhost:8080/"
        },
        "id": "willing-yahoo",
        "outputId": "a74b4561-cd53-4005-b274-0dcd59737f94"
      },
      "source": [
        "# Set data\n",
        "data = dataset.copy()\n",
        "\n",
        "# Set seed for reproducibility\n",
        "tf.random.set_seed(7)"
      ],
      "id": "willing-yahoo",
      "execution_count": 6,
      "outputs": [
        {
          "output_type": "stream",
          "text": [
            "time: 2.36 ms (started: 2021-05-13 07:03:02 +00:00)\n"
          ],
          "name": "stdout"
        }
      ]
    },
    {
      "cell_type": "markdown",
      "metadata": {
        "id": "marked-hormone"
      },
      "source": [
        "#### **Normalize input data**"
      ],
      "id": "marked-hormone"
    },
    {
      "cell_type": "code",
      "metadata": {
        "colab": {
          "base_uri": "https://localhost:8080/"
        },
        "id": "attempted-arnold",
        "outputId": "7ccdd93e-9b86-44f9-c2d3-934440343ddb"
      },
      "source": [
        "scaler = MinMaxScaler(feature_range=(0,1))\n",
        "data = scaler.fit_transform(data)"
      ],
      "id": "attempted-arnold",
      "execution_count": 7,
      "outputs": [
        {
          "output_type": "stream",
          "text": [
            "time: 4.34 ms (started: 2021-05-13 07:03:02 +00:00)\n"
          ],
          "name": "stdout"
        }
      ]
    },
    {
      "cell_type": "code",
      "metadata": {
        "id": "excellent-blowing",
        "colab": {
          "base_uri": "https://localhost:8080/"
        },
        "outputId": "fcca02aa-a2ed-4b14-e819-b1d905d3a9af"
      },
      "source": [
        "print(dataset.shape)\n",
        "# print(dataset.dtype)"
      ],
      "id": "excellent-blowing",
      "execution_count": 8,
      "outputs": [
        {
          "output_type": "stream",
          "text": [
            "(2516, 1)\n",
            "time: 2.14 ms (started: 2021-05-13 07:03:02 +00:00)\n"
          ],
          "name": "stdout"
        }
      ]
    },
    {
      "cell_type": "code",
      "metadata": {
        "id": "lesser-correlation",
        "colab": {
          "base_uri": "https://localhost:8080/"
        },
        "outputId": "02abcfe8-4913-4135-8996-263e5d31e88a"
      },
      "source": [
        "# Display dataset\n",
        "data [0:10] # Display first 10 values"
      ],
      "id": "lesser-correlation",
      "execution_count": 9,
      "outputs": [
        {
          "output_type": "execute_result",
          "data": {
            "text/plain": [
              "array([[0.03804384],\n",
              "       [0.03729827],\n",
              "       [0.04110461],\n",
              "       [0.03559523],\n",
              "       [0.03736499],\n",
              "       [0.03822044],\n",
              "       [0.03938589],\n",
              "       [0.03860499],\n",
              "       [0.0393702 ],\n",
              "       [0.0380831 ]])"
            ]
          },
          "metadata": {
            "tags": []
          },
          "execution_count": 9
        },
        {
          "output_type": "stream",
          "text": [
            "time: 23.1 ms (started: 2021-05-13 07:03:02 +00:00)\n"
          ],
          "name": "stdout"
        }
      ]
    },
    {
      "cell_type": "markdown",
      "metadata": {
        "id": "fantastic-occasions"
      },
      "source": [
        "#### **Train & Test Split**"
      ],
      "id": "fantastic-occasions"
    },
    {
      "cell_type": "code",
      "metadata": {
        "id": "romantic-particle",
        "colab": {
          "base_uri": "https://localhost:8080/"
        },
        "outputId": "d304f185-2675-4e03-8a21-b9ee0ebff715"
      },
      "source": [
        "# Train & Test Split in % of complete dataset\n",
        "split = 0.8\n",
        "train_size = int(len(data) * split)\n",
        "test_size = len(dataset) - train_size\n",
        "train, test = data[0:train_size,:], data[train_size:len(dataset),:]"
      ],
      "id": "romantic-particle",
      "execution_count": 10,
      "outputs": [
        {
          "output_type": "stream",
          "text": [
            "time: 4.59 ms (started: 2021-05-13 07:03:02 +00:00)\n"
          ],
          "name": "stdout"
        }
      ]
    },
    {
      "cell_type": "code",
      "metadata": {
        "id": "numerical-walnut",
        "colab": {
          "base_uri": "https://localhost:8080/"
        },
        "outputId": "9731f342-933a-42e5-db03-11f3a7f14d4e"
      },
      "source": [
        "train [0:10] # Display first 10 values"
      ],
      "id": "numerical-walnut",
      "execution_count": 11,
      "outputs": [
        {
          "output_type": "execute_result",
          "data": {
            "text/plain": [
              "array([[0.03804384],\n",
              "       [0.03729827],\n",
              "       [0.04110461],\n",
              "       [0.03559523],\n",
              "       [0.03736499],\n",
              "       [0.03822044],\n",
              "       [0.03938589],\n",
              "       [0.03860499],\n",
              "       [0.0393702 ],\n",
              "       [0.0380831 ]])"
            ]
          },
          "metadata": {
            "tags": []
          },
          "execution_count": 11
        },
        {
          "output_type": "stream",
          "text": [
            "time: 7.44 ms (started: 2021-05-13 07:03:02 +00:00)\n"
          ],
          "name": "stdout"
        }
      ]
    },
    {
      "cell_type": "code",
      "metadata": {
        "id": "static-badge",
        "colab": {
          "base_uri": "https://localhost:8080/"
        },
        "outputId": "de39af25-b9ae-483b-c45c-b6bf28445375"
      },
      "source": [
        "test [0:10] # Display first 10 values"
      ],
      "id": "static-badge",
      "execution_count": 12,
      "outputs": [
        {
          "output_type": "execute_result",
          "data": {
            "text/plain": [
              "array([[0.75495281],\n",
              "       [0.74558638],\n",
              "       [0.75050985],\n",
              "       [0.74874529],\n",
              "       [0.70478858],\n",
              "       [0.66059551],\n",
              "       [0.68013179],\n",
              "       [0.65490784],\n",
              "       [0.61783611],\n",
              "       [0.64640014]])"
            ]
          },
          "metadata": {
            "tags": []
          },
          "execution_count": 12
        },
        {
          "output_type": "stream",
          "text": [
            "time: 9.74 ms (started: 2021-05-13 07:03:02 +00:00)\n"
          ],
          "name": "stdout"
        }
      ]
    },
    {
      "cell_type": "markdown",
      "metadata": {
        "id": "applied-parallel"
      },
      "source": [
        "Now train & test data have been separated. \n",
        "\n",
        "We need to divide by feature input (X) and prediction variable (Y).\n",
        "\n",
        "For both train and test dataset"
      ],
      "id": "applied-parallel"
    },
    {
      "cell_type": "markdown",
      "metadata": {
        "id": "protected-criterion"
      },
      "source": [
        "#### **Window & Reshape**"
      ],
      "id": "protected-criterion"
    },
    {
      "cell_type": "code",
      "metadata": {
        "id": "compliant-robert",
        "colab": {
          "base_uri": "https://localhost:8080/"
        },
        "outputId": "9db017ae-cfb5-4f7b-a616-02f5727bb6cb"
      },
      "source": [
        "window = 15 # Use (t), (t-1) and (t-2) as input variables X\n",
        "features = 1 # we have only one time series"
      ],
      "id": "compliant-robert",
      "execution_count": 13,
      "outputs": [
        {
          "output_type": "stream",
          "text": [
            "time: 2.37 ms (started: 2021-05-13 07:03:02 +00:00)\n"
          ],
          "name": "stdout"
        }
      ]
    },
    {
      "cell_type": "code",
      "metadata": {
        "id": "limited-airport",
        "colab": {
          "base_uri": "https://localhost:8080/"
        },
        "outputId": "83a33974-7905-44b7-d2b0-57a0b2e8320d"
      },
      "source": [
        "# Convert an array of values into a dataset matrix\n",
        "def create_dataset(data, window=window):\n",
        "    dataX, dataY = [], []\n",
        "    for i in range(len(data)-window-1):\n",
        "        a = data[i:(i+window), 0]\n",
        "        dataX.append(a)\n",
        "        dataY.append(data[i + window, 0])\n",
        "    return np.array(dataX), np.array(dataY)\n",
        "\n",
        "# X is input data = value (at t, and t-1, t-2, depending on window size)\n",
        "# Y is target data = value at t+1\n",
        "# Each is additionally divided into train and test set"
      ],
      "id": "limited-airport",
      "execution_count": 14,
      "outputs": [
        {
          "output_type": "stream",
          "text": [
            "time: 10.4 ms (started: 2021-05-13 07:03:02 +00:00)\n"
          ],
          "name": "stdout"
        }
      ]
    },
    {
      "cell_type": "code",
      "metadata": {
        "id": "numerical-invention",
        "colab": {
          "base_uri": "https://localhost:8080/"
        },
        "outputId": "5874629a-b82f-4ca0-eddf-a45f361a5a6c"
      },
      "source": [
        "# Reshape into X=t and Y=t+1 and get as arrays\n",
        "trainX, trainY = create_dataset(train, window)\n",
        "testX, testY = create_dataset(test, window)"
      ],
      "id": "numerical-invention",
      "execution_count": 15,
      "outputs": [
        {
          "output_type": "stream",
          "text": [
            "time: 8.8 ms (started: 2021-05-13 07:03:02 +00:00)\n"
          ],
          "name": "stdout"
        }
      ]
    },
    {
      "cell_type": "code",
      "metadata": {
        "id": "allied-pavilion",
        "colab": {
          "base_uri": "https://localhost:8080/"
        },
        "outputId": "baab358e-0ab8-4141-e92b-ac792e6f19cb"
      },
      "source": [
        "print(trainX.shape)"
      ],
      "id": "allied-pavilion",
      "execution_count": 16,
      "outputs": [
        {
          "output_type": "stream",
          "text": [
            "(1996, 15)\n",
            "time: 3.08 ms (started: 2021-05-13 07:03:02 +00:00)\n"
          ],
          "name": "stdout"
        }
      ]
    },
    {
      "cell_type": "code",
      "metadata": {
        "id": "endless-chile",
        "colab": {
          "base_uri": "https://localhost:8080/"
        },
        "outputId": "56150bbf-b57f-457c-8b4a-779bae73c6b4"
      },
      "source": [
        "print(trainY.shape)"
      ],
      "id": "endless-chile",
      "execution_count": 17,
      "outputs": [
        {
          "output_type": "stream",
          "text": [
            "(1996,)\n",
            "time: 4.95 ms (started: 2021-05-13 07:03:02 +00:00)\n"
          ],
          "name": "stdout"
        }
      ]
    },
    {
      "cell_type": "code",
      "metadata": {
        "id": "separated-bankruptcy",
        "colab": {
          "base_uri": "https://localhost:8080/"
        },
        "outputId": "21699b81-d1f9-4ab2-fced-2bf5c3333f3e"
      },
      "source": [
        "# X input has 3 (= window size) values at each step\n",
        "trainX [0:10] # Display first 10 values"
      ],
      "id": "separated-bankruptcy",
      "execution_count": 18,
      "outputs": [
        {
          "output_type": "execute_result",
          "data": {
            "text/plain": [
              "array([[0.03804384, 0.03729827, 0.04110461, 0.03559523, 0.03736499,\n",
              "        0.03822044, 0.03938589, 0.03860499, 0.0393702 , 0.0380831 ,\n",
              "        0.04129297, 0.04008045, 0.0420464 , 0.04108108, 0.0418816 ],\n",
              "       [0.03729827, 0.04110461, 0.03559523, 0.03736499, 0.03822044,\n",
              "        0.03938589, 0.03860499, 0.0393702 , 0.0380831 , 0.04129297,\n",
              "        0.04008045, 0.0420464 , 0.04108108, 0.0418816 , 0.03884828],\n",
              "       [0.04110461, 0.03559523, 0.03736499, 0.03822044, 0.03938589,\n",
              "        0.03860499, 0.0393702 , 0.0380831 , 0.04129297, 0.04008045,\n",
              "        0.0420464 , 0.04108108, 0.0418816 , 0.03884828, 0.03743562],\n",
              "       [0.03559523, 0.03736499, 0.03822044, 0.03938589, 0.03860499,\n",
              "        0.0393702 , 0.0380831 , 0.04129297, 0.04008045, 0.0420464 ,\n",
              "        0.04108108, 0.0418816 , 0.03884828, 0.03743562, 0.03545789],\n",
              "       [0.03736499, 0.03822044, 0.03938589, 0.03860499, 0.0393702 ,\n",
              "        0.0380831 , 0.04129297, 0.04008045, 0.0420464 , 0.04108108,\n",
              "        0.0418816 , 0.03884828, 0.03743562, 0.03545789, 0.03560309],\n",
              "       [0.03822044, 0.03938589, 0.03860499, 0.0393702 , 0.0380831 ,\n",
              "        0.04129297, 0.04008045, 0.0420464 , 0.04108108, 0.0418816 ,\n",
              "        0.03884828, 0.03743562, 0.03545789, 0.03560309, 0.03791436],\n",
              "       [0.03938589, 0.03860499, 0.0393702 , 0.0380831 , 0.04129297,\n",
              "        0.04008045, 0.0420464 , 0.04108108, 0.0418816 , 0.03884828,\n",
              "        0.03743562, 0.03545789, 0.03560309, 0.03791436, 0.0411988 ],\n",
              "       [0.03860499, 0.0393702 , 0.0380831 , 0.04129297, 0.04008045,\n",
              "        0.0420464 , 0.04108108, 0.0418816 , 0.03884828, 0.03743562,\n",
              "        0.03545789, 0.03560309, 0.03791436, 0.0411988 , 0.04287045],\n",
              "       [0.0393702 , 0.0380831 , 0.04129297, 0.04008045, 0.0420464 ,\n",
              "        0.04108108, 0.0418816 , 0.03884828, 0.03743562, 0.03545789,\n",
              "        0.03560309, 0.03791436, 0.0411988 , 0.04287045, 0.04650808],\n",
              "       [0.0380831 , 0.04129297, 0.04008045, 0.0420464 , 0.04108108,\n",
              "        0.0418816 , 0.03884828, 0.03743562, 0.03545789, 0.03560309,\n",
              "        0.03791436, 0.0411988 , 0.04287045, 0.04650808, 0.05028302]])"
            ]
          },
          "metadata": {
            "tags": []
          },
          "execution_count": 18
        },
        {
          "output_type": "stream",
          "text": [
            "time: 7.81 ms (started: 2021-05-13 07:03:02 +00:00)\n"
          ],
          "name": "stdout"
        }
      ]
    },
    {
      "cell_type": "code",
      "metadata": {
        "id": "colored-organization",
        "colab": {
          "base_uri": "https://localhost:8080/"
        },
        "outputId": "19492bdd-37f6-479c-a654-a8b420360164"
      },
      "source": [
        "# Y output has here only one value (t+1) at each step\n",
        "trainY"
      ],
      "id": "colored-organization",
      "execution_count": 19,
      "outputs": [
        {
          "output_type": "execute_result",
          "data": {
            "text/plain": [
              "array([0.03884828, 0.03743562, 0.03545789, ..., 0.75053351, 0.74601968,\n",
              "       0.75084863])"
            ]
          },
          "metadata": {
            "tags": []
          },
          "execution_count": 19
        },
        {
          "output_type": "stream",
          "text": [
            "time: 4.49 ms (started: 2021-05-13 07:03:02 +00:00)\n"
          ],
          "name": "stdout"
        }
      ]
    },
    {
      "cell_type": "code",
      "metadata": {
        "id": "blank-sheep",
        "colab": {
          "base_uri": "https://localhost:8080/"
        },
        "outputId": "5a7f060b-fcd1-4943-dee2-3dc72ad5cd8b"
      },
      "source": [
        "trainX.shape[0]"
      ],
      "id": "blank-sheep",
      "execution_count": 20,
      "outputs": [
        {
          "output_type": "execute_result",
          "data": {
            "text/plain": [
              "1996"
            ]
          },
          "metadata": {
            "tags": []
          },
          "execution_count": 20
        },
        {
          "output_type": "stream",
          "text": [
            "time: 4.5 ms (started: 2021-05-13 07:03:02 +00:00)\n"
          ],
          "name": "stdout"
        }
      ]
    },
    {
      "cell_type": "code",
      "metadata": {
        "id": "polished-ballet",
        "colab": {
          "base_uri": "https://localhost:8080/"
        },
        "outputId": "424d8f2d-df19-4c04-b026-0e81ce37d8c3"
      },
      "source": [
        "trainX.shape[1]"
      ],
      "id": "polished-ballet",
      "execution_count": 21,
      "outputs": [
        {
          "output_type": "execute_result",
          "data": {
            "text/plain": [
              "15"
            ]
          },
          "metadata": {
            "tags": []
          },
          "execution_count": 21
        },
        {
          "output_type": "stream",
          "text": [
            "time: 4.8 ms (started: 2021-05-13 07:03:02 +00:00)\n"
          ],
          "name": "stdout"
        }
      ]
    },
    {
      "cell_type": "markdown",
      "metadata": {
        "id": "right-keyboard"
      },
      "source": [
        "#### **Reshape Data Format for LSTM**"
      ],
      "id": "right-keyboard"
    },
    {
      "cell_type": "code",
      "metadata": {
        "id": "changing-hardware",
        "colab": {
          "base_uri": "https://localhost:8080/"
        },
        "outputId": "217d3fa3-45b1-4cc2-971e-063da8a47528"
      },
      "source": [
        "# Reshape Data Format for LSTM (simple model)\n",
        "\n",
        "# Data is in shape **[samples, features]**. LSTM expects **[samples, time steps, features]**\n",
        "# Reminder 2D array: shape (n,m), n [0] = rows (time steps), m [1] = column(s)\n",
        "# Shape: First Block: t, t+1, t+2. Second: t+1, t+2, t+3. Third: t+2, t+3, t+4.\n",
        "# Approach 1: Use past observations as separate input features =(trainX.shape[0], features, trainX.shape[1])\n",
        "\n",
        "# trainX = np.reshape(trainX, (trainX.shape[0], features, trainX.shape[1]))\n",
        "# testX = np.reshape(testX, (testX.shape[0], features, testX.shape[1]))"
      ],
      "id": "changing-hardware",
      "execution_count": 22,
      "outputs": [
        {
          "output_type": "stream",
          "text": [
            "time: 2.38 ms (started: 2021-05-13 07:03:02 +00:00)\n"
          ],
          "name": "stdout"
        }
      ]
    },
    {
      "cell_type": "code",
      "metadata": {
        "id": "atmospheric-camel",
        "colab": {
          "base_uri": "https://localhost:8080/"
        },
        "outputId": "2117fa71-5d4d-4d7e-9efe-7a17a181a5f2"
      },
      "source": [
        "# Approach 2: Use past observations as time steps of the one input feature\n",
        "\n",
        "trainX = tf.reshape(trainX, (trainX.shape[0], trainX.shape[1], features))\n",
        "testX = tf.reshape(testX, (testX.shape[0], testX.shape[1], features))\n",
        "trainX"
      ],
      "id": "atmospheric-camel",
      "execution_count": 23,
      "outputs": [
        {
          "output_type": "execute_result",
          "data": {
            "text/plain": [
              "<tf.Tensor: shape=(1996, 15, 1), dtype=float64, numpy=\n",
              "array([[[0.03804384],\n",
              "        [0.03729827],\n",
              "        [0.04110461],\n",
              "        ...,\n",
              "        [0.0420464 ],\n",
              "        [0.04108108],\n",
              "        [0.0418816 ]],\n",
              "\n",
              "       [[0.03729827],\n",
              "        [0.04110461],\n",
              "        [0.03559523],\n",
              "        ...,\n",
              "        [0.04108108],\n",
              "        [0.0418816 ],\n",
              "        [0.03884828]],\n",
              "\n",
              "       [[0.04110461],\n",
              "        [0.03559523],\n",
              "        [0.03736499],\n",
              "        ...,\n",
              "        [0.0418816 ],\n",
              "        [0.03884828],\n",
              "        [0.03743562]],\n",
              "\n",
              "       ...,\n",
              "\n",
              "       [[0.65319059],\n",
              "        [0.66784282],\n",
              "        [0.68161278],\n",
              "        ...,\n",
              "        [0.71888154],\n",
              "        [0.72496299],\n",
              "        [0.73937896]],\n",
              "\n",
              "       [[0.66784282],\n",
              "        [0.68161278],\n",
              "        [0.68470081],\n",
              "        ...,\n",
              "        [0.72496299],\n",
              "        [0.73937896],\n",
              "        [0.75053351]],\n",
              "\n",
              "       [[0.68161278],\n",
              "        [0.68470081],\n",
              "        [0.69717095],\n",
              "        ...,\n",
              "        [0.73937896],\n",
              "        [0.75053351],\n",
              "        [0.74601968]]])>"
            ]
          },
          "metadata": {
            "tags": []
          },
          "execution_count": 23
        },
        {
          "output_type": "stream",
          "text": [
            "time: 45.3 ms (started: 2021-05-13 07:03:02 +00:00)\n"
          ],
          "name": "stdout"
        }
      ]
    },
    {
      "cell_type": "code",
      "metadata": {
        "id": "unlikely-brunswick",
        "colab": {
          "base_uri": "https://localhost:8080/"
        },
        "outputId": "4ab16231-3c92-45a7-a783-dd82865438d4"
      },
      "source": [
        "print(trainX.shape)"
      ],
      "id": "unlikely-brunswick",
      "execution_count": 24,
      "outputs": [
        {
          "output_type": "stream",
          "text": [
            "(1996, 15, 1)\n",
            "time: 2.92 ms (started: 2021-05-13 07:03:03 +00:00)\n"
          ],
          "name": "stdout"
        }
      ]
    },
    {
      "cell_type": "code",
      "metadata": {
        "id": "precious-jesus",
        "colab": {
          "base_uri": "https://localhost:8080/"
        },
        "outputId": "2dbc81ae-e2ca-4761-fe5c-2fe120eaa556"
      },
      "source": [
        "trainX [0:10] # Display first 10 values"
      ],
      "id": "precious-jesus",
      "execution_count": 25,
      "outputs": [
        {
          "output_type": "execute_result",
          "data": {
            "text/plain": [
              "<tf.Tensor: shape=(10, 15, 1), dtype=float64, numpy=\n",
              "array([[[0.03804384],\n",
              "        [0.03729827],\n",
              "        [0.04110461],\n",
              "        [0.03559523],\n",
              "        [0.03736499],\n",
              "        [0.03822044],\n",
              "        [0.03938589],\n",
              "        [0.03860499],\n",
              "        [0.0393702 ],\n",
              "        [0.0380831 ],\n",
              "        [0.04129297],\n",
              "        [0.04008045],\n",
              "        [0.0420464 ],\n",
              "        [0.04108108],\n",
              "        [0.0418816 ]],\n",
              "\n",
              "       [[0.03729827],\n",
              "        [0.04110461],\n",
              "        [0.03559523],\n",
              "        [0.03736499],\n",
              "        [0.03822044],\n",
              "        [0.03938589],\n",
              "        [0.03860499],\n",
              "        [0.0393702 ],\n",
              "        [0.0380831 ],\n",
              "        [0.04129297],\n",
              "        [0.04008045],\n",
              "        [0.0420464 ],\n",
              "        [0.04108108],\n",
              "        [0.0418816 ],\n",
              "        [0.03884828]],\n",
              "\n",
              "       [[0.04110461],\n",
              "        [0.03559523],\n",
              "        [0.03736499],\n",
              "        [0.03822044],\n",
              "        [0.03938589],\n",
              "        [0.03860499],\n",
              "        [0.0393702 ],\n",
              "        [0.0380831 ],\n",
              "        [0.04129297],\n",
              "        [0.04008045],\n",
              "        [0.0420464 ],\n",
              "        [0.04108108],\n",
              "        [0.0418816 ],\n",
              "        [0.03884828],\n",
              "        [0.03743562]],\n",
              "\n",
              "       [[0.03559523],\n",
              "        [0.03736499],\n",
              "        [0.03822044],\n",
              "        [0.03938589],\n",
              "        [0.03860499],\n",
              "        [0.0393702 ],\n",
              "        [0.0380831 ],\n",
              "        [0.04129297],\n",
              "        [0.04008045],\n",
              "        [0.0420464 ],\n",
              "        [0.04108108],\n",
              "        [0.0418816 ],\n",
              "        [0.03884828],\n",
              "        [0.03743562],\n",
              "        [0.03545789]],\n",
              "\n",
              "       [[0.03736499],\n",
              "        [0.03822044],\n",
              "        [0.03938589],\n",
              "        [0.03860499],\n",
              "        [0.0393702 ],\n",
              "        [0.0380831 ],\n",
              "        [0.04129297],\n",
              "        [0.04008045],\n",
              "        [0.0420464 ],\n",
              "        [0.04108108],\n",
              "        [0.0418816 ],\n",
              "        [0.03884828],\n",
              "        [0.03743562],\n",
              "        [0.03545789],\n",
              "        [0.03560309]],\n",
              "\n",
              "       [[0.03822044],\n",
              "        [0.03938589],\n",
              "        [0.03860499],\n",
              "        [0.0393702 ],\n",
              "        [0.0380831 ],\n",
              "        [0.04129297],\n",
              "        [0.04008045],\n",
              "        [0.0420464 ],\n",
              "        [0.04108108],\n",
              "        [0.0418816 ],\n",
              "        [0.03884828],\n",
              "        [0.03743562],\n",
              "        [0.03545789],\n",
              "        [0.03560309],\n",
              "        [0.03791436]],\n",
              "\n",
              "       [[0.03938589],\n",
              "        [0.03860499],\n",
              "        [0.0393702 ],\n",
              "        [0.0380831 ],\n",
              "        [0.04129297],\n",
              "        [0.04008045],\n",
              "        [0.0420464 ],\n",
              "        [0.04108108],\n",
              "        [0.0418816 ],\n",
              "        [0.03884828],\n",
              "        [0.03743562],\n",
              "        [0.03545789],\n",
              "        [0.03560309],\n",
              "        [0.03791436],\n",
              "        [0.0411988 ]],\n",
              "\n",
              "       [[0.03860499],\n",
              "        [0.0393702 ],\n",
              "        [0.0380831 ],\n",
              "        [0.04129297],\n",
              "        [0.04008045],\n",
              "        [0.0420464 ],\n",
              "        [0.04108108],\n",
              "        [0.0418816 ],\n",
              "        [0.03884828],\n",
              "        [0.03743562],\n",
              "        [0.03545789],\n",
              "        [0.03560309],\n",
              "        [0.03791436],\n",
              "        [0.0411988 ],\n",
              "        [0.04287045]],\n",
              "\n",
              "       [[0.0393702 ],\n",
              "        [0.0380831 ],\n",
              "        [0.04129297],\n",
              "        [0.04008045],\n",
              "        [0.0420464 ],\n",
              "        [0.04108108],\n",
              "        [0.0418816 ],\n",
              "        [0.03884828],\n",
              "        [0.03743562],\n",
              "        [0.03545789],\n",
              "        [0.03560309],\n",
              "        [0.03791436],\n",
              "        [0.0411988 ],\n",
              "        [0.04287045],\n",
              "        [0.04650808]],\n",
              "\n",
              "       [[0.0380831 ],\n",
              "        [0.04129297],\n",
              "        [0.04008045],\n",
              "        [0.0420464 ],\n",
              "        [0.04108108],\n",
              "        [0.0418816 ],\n",
              "        [0.03884828],\n",
              "        [0.03743562],\n",
              "        [0.03545789],\n",
              "        [0.03560309],\n",
              "        [0.03791436],\n",
              "        [0.0411988 ],\n",
              "        [0.04287045],\n",
              "        [0.04650808],\n",
              "        [0.05028302]]])>"
            ]
          },
          "metadata": {
            "tags": []
          },
          "execution_count": 25
        },
        {
          "output_type": "stream",
          "text": [
            "time: 10.1 ms (started: 2021-05-13 07:03:03 +00:00)\n"
          ],
          "name": "stdout"
        }
      ]
    },
    {
      "cell_type": "code",
      "metadata": {
        "id": "equal-intervention",
        "colab": {
          "base_uri": "https://localhost:8080/"
        },
        "outputId": "d2966b08-8ea4-4673-8200-82e087b83940"
      },
      "source": [
        "print(testX.shape)"
      ],
      "id": "equal-intervention",
      "execution_count": 26,
      "outputs": [
        {
          "output_type": "stream",
          "text": [
            "(488, 15, 1)\n",
            "time: 2.37 ms (started: 2021-05-13 07:03:03 +00:00)\n"
          ],
          "name": "stdout"
        }
      ]
    },
    {
      "cell_type": "markdown",
      "metadata": {
        "id": "bddK1FOuJWue"
      },
      "source": [
        "#### **Model Training**"
      ],
      "id": "bddK1FOuJWue"
    },
    {
      "cell_type": "code",
      "metadata": {
        "id": "enabling-lease",
        "colab": {
          "base_uri": "https://localhost:8080/"
        },
        "outputId": "9f8dfb6e-4529-4548-bc20-23dfd83283c3"
      },
      "source": [
        "# Set Hyperparameter\n",
        "optimizer = tf.keras.optimizers.Adam(0.0001)\n",
        "loss = 'mean_squared_error'\n",
        "activation = 'relu'\n",
        "epochs = 20\n",
        "verbose = 1\n",
        "units = 1 # internal LSTM units\n",
        "repeat = 1\n",
        "batch_size = None"
      ],
      "id": "enabling-lease",
      "execution_count": 27,
      "outputs": [
        {
          "output_type": "stream",
          "text": [
            "time: 6.59 ms (started: 2021-05-13 07:03:03 +00:00)\n"
          ],
          "name": "stdout"
        }
      ]
    },
    {
      "cell_type": "code",
      "metadata": {
        "id": "virgin-license",
        "colab": {
          "base_uri": "https://localhost:8080/"
        },
        "outputId": "b926326e-2bdf-472a-d04e-32914601b3bc"
      },
      "source": [
        "model = keras.Sequential(name=\"my_sequential\")\n",
        "\n",
        "# https://www.tensorflow.org/api_docs/python/tf/keras/layers/LSTM\n",
        "\n",
        "# Add a LSTM layer with internal units.\n",
        "model.add(layers.LSTM(units, input_shape=(window, features), return_sequences=False, activation=activation, name=\"layer1\"))\n",
        "\n",
        "# Add a Dense layer with 1 unit\n",
        "# model.add(layers.Dense(1, name=\"layer2\"))\n",
        "\n",
        "# Call model on a test input\n",
        "trainY = model(trainX)"
      ],
      "id": "virgin-license",
      "execution_count": 28,
      "outputs": [
        {
          "output_type": "stream",
          "text": [
            "time: 188 ms (started: 2021-05-13 07:03:03 +00:00)\n"
          ],
          "name": "stdout"
        }
      ]
    },
    {
      "cell_type": "code",
      "metadata": {
        "id": "silver-pledge",
        "colab": {
          "base_uri": "https://localhost:8080/"
        },
        "outputId": "bb60823b-8b6d-40a3-edf0-0900542e7ede"
      },
      "source": [
        "model.summary()"
      ],
      "id": "silver-pledge",
      "execution_count": 29,
      "outputs": [
        {
          "output_type": "stream",
          "text": [
            "Model: \"my_sequential\"\n",
            "_________________________________________________________________\n",
            "Layer (type)                 Output Shape              Param #   \n",
            "=================================================================\n",
            "layer1 (LSTM)                (None, 1)                 12        \n",
            "_________________________________________________________________\n",
            "layer2 (Dense)               (None, 1)                 2         \n",
            "=================================================================\n",
            "Total params: 14\n",
            "Trainable params: 14\n",
            "Non-trainable params: 0\n",
            "_________________________________________________________________\n",
            "time: 3.14 ms (started: 2021-05-13 07:03:03 +00:00)\n"
          ],
          "name": "stdout"
        }
      ]
    },
    {
      "cell_type": "code",
      "metadata": {
        "id": "burning-simple",
        "colab": {
          "base_uri": "https://localhost:8080/"
        },
        "outputId": "a6584021-c0bb-44d1-f0a1-499d942326fe"
      },
      "source": [
        "trainY.shape"
      ],
      "id": "burning-simple",
      "execution_count": 30,
      "outputs": [
        {
          "output_type": "execute_result",
          "data": {
            "text/plain": [
              "TensorShape([1996, 1])"
            ]
          },
          "metadata": {
            "tags": []
          },
          "execution_count": 30
        },
        {
          "output_type": "stream",
          "text": [
            "time: 4.76 ms (started: 2021-05-13 07:03:03 +00:00)\n"
          ],
          "name": "stdout"
        }
      ]
    },
    {
      "cell_type": "code",
      "metadata": {
        "id": "breeding-injection",
        "colab": {
          "base_uri": "https://localhost:8080/"
        },
        "outputId": "ce533185-b7ca-4e52-b4bf-9ae143c83c8d"
      },
      "source": [
        "# model.weights"
      ],
      "id": "breeding-injection",
      "execution_count": 31,
      "outputs": [
        {
          "output_type": "stream",
          "text": [
            "time: 934 µs (started: 2021-05-13 07:03:03 +00:00)\n"
          ],
          "name": "stdout"
        }
      ]
    },
    {
      "cell_type": "code",
      "metadata": {
        "id": "naked-journalism",
        "colab": {
          "base_uri": "https://localhost:8080/"
        },
        "outputId": "608da602-38a2-4836-8f6e-ac2afabd7890"
      },
      "source": [
        "# print(\"Number of weights after calling the model:\", len(model.weights))"
      ],
      "id": "naked-journalism",
      "execution_count": 32,
      "outputs": [
        {
          "output_type": "stream",
          "text": [
            "time: 1.58 ms (started: 2021-05-13 07:03:03 +00:00)\n"
          ],
          "name": "stdout"
        }
      ]
    },
    {
      "cell_type": "code",
      "metadata": {
        "id": "invisible-canon",
        "colab": {
          "base_uri": "https://localhost:8080/"
        },
        "outputId": "54dbebce-5603-4af0-ad5e-a7e71bf7576c"
      },
      "source": [
        "model.compile(loss=loss, \n",
        "              optimizer=optimizer, \n",
        "              metrics=['accuracy'])"
      ],
      "id": "invisible-canon",
      "execution_count": 33,
      "outputs": [
        {
          "output_type": "stream",
          "text": [
            "time: 33.7 ms (started: 2021-05-13 07:03:03 +00:00)\n"
          ],
          "name": "stdout"
        }
      ]
    },
    {
      "cell_type": "code",
      "metadata": {
        "id": "changing-pennsylvania",
        "colab": {
          "base_uri": "https://localhost:8080/"
        },
        "outputId": "8abcce60-9fc4-4d49-d114-2066eec8282b"
      },
      "source": [
        "# Prepare visualisation - Plot Losses Keras TF (simple)\n",
        "!pip install livelossplot --quiet\n",
        "from livelossplot import PlotLossesKerasTF\n",
        "\n",
        "# Select visualization method\n",
        "callbacks = [PlotLossesKerasTF()]"
      ],
      "id": "changing-pennsylvania",
      "execution_count": 34,
      "outputs": [
        {
          "output_type": "stream",
          "text": [
            "time: 3.05 s (started: 2021-05-13 07:03:03 +00:00)\n"
          ],
          "name": "stdout"
        }
      ]
    },
    {
      "cell_type": "code",
      "metadata": {
        "id": "original-navigator",
        "colab": {
          "base_uri": "https://localhost:8080/",
          "height": 620
        },
        "outputId": "8af80c91-e207-4fe9-ce92-87b8930b9bee"
      },
      "source": [
        "# Train model\n",
        "model.fit(trainX,\n",
        "          trainY, \n",
        "          epochs=epochs, \n",
        "          verbose=verbose, \n",
        "          shuffle=False, \n",
        "          callbacks=callbacks)"
      ],
      "id": "original-navigator",
      "execution_count": 35,
      "outputs": [
        {
          "output_type": "display_data",
          "data": {
            "image/png": "[encoded data removed]",
            "text/plain": [
              "<Figure size 864x576 with 2 Axes>"
            ]
          },
          "metadata": {
            "tags": [],
            "needs_background": "light"
          }
        },
        {
          "output_type": "stream",
          "text": [
            "accuracy\n",
            "\taccuracy         \t (min:    0.000, max:    0.000, cur:    0.000)\n",
            "Loss\n",
            "\tloss             \t (min:    0.000, max:    0.000, cur:    0.000)\n"
          ],
          "name": "stdout"
        },
        {
          "output_type": "execute_result",
          "data": {
            "text/plain": [
              "<tensorflow.python.keras.callbacks.History at 0x7f6a26de0b90>"
            ]
          },
          "metadata": {
            "tags": []
          },
          "execution_count": 35
        },
        {
          "output_type": "stream",
          "text": [
            "time: 17.4 s (started: 2021-05-13 07:03:06 +00:00)\n"
          ],
          "name": "stdout"
        }
      ]
    },
    {
      "cell_type": "markdown",
      "metadata": {
        "id": "mighty-italic"
      },
      "source": [
        "#### **Make Predictions**"
      ],
      "id": "mighty-italic"
    },
    {
      "cell_type": "code",
      "metadata": {
        "id": "universal-surface",
        "colab": {
          "base_uri": "https://localhost:8080/"
        },
        "outputId": "13df7025-d55b-4ca6-faf2-aeb4643bb0ca"
      },
      "source": [
        "trainPredict = model.predict(trainX)\n",
        "model.reset_states()\n",
        "testPredict = model.predict(testX)"
      ],
      "id": "universal-surface",
      "execution_count": 36,
      "outputs": [
        {
          "output_type": "stream",
          "text": [
            "time: 360 ms (started: 2021-05-13 07:03:23 +00:00)\n"
          ],
          "name": "stdout"
        }
      ]
    },
    {
      "cell_type": "markdown",
      "metadata": {
        "id": "scientific-joint"
      },
      "source": [
        "#### **Predictions (Train & Test)**"
      ],
      "id": "scientific-joint"
    },
    {
      "cell_type": "markdown",
      "metadata": {
        "id": "varied-gross"
      },
      "source": [
        "**Test Predict**"
      ],
      "id": "varied-gross"
    },
    {
      "cell_type": "code",
      "metadata": {
        "id": "medieval-accident",
        "colab": {
          "base_uri": "https://localhost:8080/"
        },
        "outputId": "9f9312f0-6dfb-404b-93e9-f6bb9cf199c5"
      },
      "source": [
        "testPredict [0:10]"
      ],
      "id": "medieval-accident",
      "execution_count": 37,
      "outputs": [
        {
          "output_type": "execute_result",
          "data": {
            "text/plain": [
              "array([[-0.22120234],\n",
              "       [-0.22234732],\n",
              "       [-0.22332942],\n",
              "       [-0.22456348],\n",
              "       [-0.22442627],\n",
              "       [-0.22549218],\n",
              "       [-0.22781086],\n",
              "       [-0.22735196],\n",
              "       [-0.22692727],\n",
              "       [-0.22390339]], dtype=float32)"
            ]
          },
          "metadata": {
            "tags": []
          },
          "execution_count": 37
        },
        {
          "output_type": "stream",
          "text": [
            "time: 4.92 ms (started: 2021-05-13 07:03:24 +00:00)\n"
          ],
          "name": "stdout"
        }
      ]
    },
    {
      "cell_type": "code",
      "metadata": {
        "id": "above-burns",
        "colab": {
          "base_uri": "https://localhost:8080/"
        },
        "outputId": "45d61eb0-dd2f-40ba-ff41-a74dc2bc7850"
      },
      "source": [
        "testPredict = scaler.inverse_transform(testPredict)\n",
        "testPredict [0:10]"
      ],
      "id": "above-burns",
      "execution_count": 38,
      "outputs": [
        {
          "output_type": "execute_result",
          "data": {
            "text/plain": [
              "array([[-63.579906],\n",
              "       [-65.03337 ],\n",
              "       [-66.28008 ],\n",
              "       [-67.846634],\n",
              "       [-67.672455],\n",
              "       [-69.02555 ],\n",
              "       [-71.96895 ],\n",
              "       [-71.38641 ],\n",
              "       [-70.84729 ],\n",
              "       [-67.00869 ]], dtype=float32)"
            ]
          },
          "metadata": {
            "tags": []
          },
          "execution_count": 38
        },
        {
          "output_type": "stream",
          "text": [
            "time: 5.86 ms (started: 2021-05-13 07:03:24 +00:00)\n"
          ],
          "name": "stdout"
        }
      ]
    },
    {
      "cell_type": "markdown",
      "metadata": {
        "id": "convinced-experience"
      },
      "source": [
        "**Train Predict**"
      ],
      "id": "convinced-experience"
    },
    {
      "cell_type": "code",
      "metadata": {
        "id": "superior-aquatic",
        "colab": {
          "base_uri": "https://localhost:8080/"
        },
        "outputId": "cfa8c04a-0198-44c2-bf3e-e195c3bd3860"
      },
      "source": [
        "trainPredict [0:10]"
      ],
      "id": "superior-aquatic",
      "execution_count": 39,
      "outputs": [
        {
          "output_type": "execute_result",
          "data": {
            "text/plain": [
              "array([[-0.02393798],\n",
              "       [-0.02360448],\n",
              "       [-0.02311775],\n",
              "       [-0.02244103],\n",
              "       [-0.0219822 ],\n",
              "       [-0.02204184],\n",
              "       [-0.02263877],\n",
              "       [-0.02335093],\n",
              "       [-0.02445221],\n",
              "       [-0.02585679]], dtype=float32)"
            ]
          },
          "metadata": {
            "tags": []
          },
          "execution_count": 39
        },
        {
          "output_type": "stream",
          "text": [
            "time: 5.13 ms (started: 2021-05-13 07:03:24 +00:00)\n"
          ],
          "name": "stdout"
        }
      ]
    },
    {
      "cell_type": "code",
      "metadata": {
        "id": "accredited-parts",
        "colab": {
          "base_uri": "https://localhost:8080/"
        },
        "outputId": "ff2d0a8c-6d48-458e-ecc2-f0f461ba301f"
      },
      "source": [
        "trainPredict = scaler.inverse_transform(trainPredict)\n",
        "trainPredict [0:10]"
      ],
      "id": "accredited-parts",
      "execution_count": 40,
      "outputs": [
        {
          "output_type": "execute_result",
          "data": {
            "text/plain": [
              "array([[186.83324],\n",
              "       [187.25659],\n",
              "       [187.87447],\n",
              "       [188.7335 ],\n",
              "       [189.31596],\n",
              "       [189.24025],\n",
              "       [188.48248],\n",
              "       [187.57848],\n",
              "       [186.18047],\n",
              "       [184.39745]], dtype=float32)"
            ]
          },
          "metadata": {
            "tags": []
          },
          "execution_count": 40
        },
        {
          "output_type": "stream",
          "text": [
            "time: 6.61 ms (started: 2021-05-13 07:03:24 +00:00)\n"
          ],
          "name": "stdout"
        }
      ]
    },
    {
      "cell_type": "markdown",
      "metadata": {
        "id": "exact-immigration"
      },
      "source": [
        "#### **Actual (Train & Test)**"
      ],
      "id": "exact-immigration"
    },
    {
      "cell_type": "markdown",
      "metadata": {
        "id": "designed-narrow"
      },
      "source": [
        "**Test Actual**"
      ],
      "id": "designed-narrow"
    },
    {
      "cell_type": "code",
      "metadata": {
        "id": "apparent-evanescence",
        "colab": {
          "base_uri": "https://localhost:8080/"
        },
        "outputId": "b83c01a0-35ab-44c2-ccf5-3797c71e11d8"
      },
      "source": [
        "testY [0:10]"
      ],
      "id": "apparent-evanescence",
      "execution_count": 41,
      "outputs": [
        {
          "output_type": "execute_result",
          "data": {
            "text/plain": [
              "array([0.69735212, 0.70434739, 0.70063709, 0.71651827, 0.72987858,\n",
              "       0.70982235, 0.69914034, 0.67140349, 0.67880842, 0.68826937])"
            ]
          },
          "metadata": {
            "tags": []
          },
          "execution_count": 41
        },
        {
          "output_type": "stream",
          "text": [
            "time: 5.05 ms (started: 2021-05-13 07:03:24 +00:00)\n"
          ],
          "name": "stdout"
        }
      ]
    },
    {
      "cell_type": "code",
      "metadata": {
        "id": "sexual-edmonton",
        "colab": {
          "base_uri": "https://localhost:8080/"
        },
        "outputId": "731bec61-4c77-4550-c567-906de42ec97f"
      },
      "source": [
        "testY = scaler.inverse_transform([testY])\n",
        "testY [0:10]"
      ],
      "id": "sexual-edmonton",
      "execution_count": 42,
      "outputs": [
        {
          "output_type": "execute_result",
          "data": {
            "text/plain": [
              "array([[1102.459961, 1111.339966, 1106.630005, 1126.790039, 1143.75    ,\n",
              "        1118.290039, 1104.72998 , 1069.52002 , 1078.920044, 1090.930054,\n",
              "        1095.060059, 1109.640015, 1126.      , 1160.040039, 1164.5     ,\n",
              "        1138.170044, 1149.48999 , 1149.579956, 1135.72998 , 1099.819946,\n",
              "        1097.709961, 1090.880005, 1049.079956, 1021.570007, 1053.209961,\n",
              "        1005.099976, 1004.559998, 1031.790039, 1006.469971, 1013.409973,\n",
              "        1025.140015, 1027.810059, 1007.039978, 1015.450012, 1031.640015,\n",
              "        1019.969971, 1032.51001 , 1029.27002 , 1037.97998 , 1074.160034,\n",
              "        1072.079956, 1087.699951, 1072.959961, 1067.449951, 1019.97998 ,\n",
              "        1021.179993, 1040.040039, 1030.050049, 1017.330017, 1037.310059,\n",
              "        1024.380005, 1023.719971, 1048.209961, 1054.790039, 1053.910034,\n",
              "        1082.76001 , 1097.569946, 1098.26001 , 1100.199951, 1079.22998 ,\n",
              "        1081.77002 , 1078.589966, 1066.359985, 1079.579956, 1069.72998 ,\n",
              "        1079.689941, 1079.23999 , 1075.660034, 1060.319946, 1067.800049,\n",
              "        1084.98999 , 1119.5     , 1139.290039, 1139.660034, 1136.880005,\n",
              "        1123.859985, 1120.869995, 1129.98999 , 1139.319946, 1134.790039,\n",
              "        1152.119995, 1152.26001 , 1173.459961, 1168.060059, 1169.839966,\n",
              "        1157.660034, 1155.47998 , 1124.810059, 1118.459961, 1103.97998 ,\n",
              "        1114.219971, 1115.650024, 1127.459961, 1102.890015, 1124.27002 ,\n",
              "        1140.170044, 1154.050049, 1152.839966, 1153.900024, 1183.47998 ,\n",
              "        1188.819946, 1183.859985, 1198.800049, 1195.880005, 1186.959961,\n",
              "        1184.910034, 1205.5     , 1248.079956, 1263.699951, 1268.329956,\n",
              "        1238.5     , 1219.73999 , 1217.26001 , 1220.01001 , 1226.150024,\n",
              "        1223.709961, 1224.77002 , 1242.219971, 1245.609985, 1249.099976,\n",
              "        1237.609985, 1235.01001 , 1242.099976, 1214.380005, 1206.48999 ,\n",
              "        1200.959961, 1207.77002 , 1201.619995, 1207.329956, 1205.380005,\n",
              "        1220.650024, 1241.819946, 1231.150024, 1249.300049, 1239.119995,\n",
              "        1218.189941, 1197.      , 1186.47998 , 1171.439941, 1164.829956,\n",
              "        1164.640015, 1177.359985, 1162.819946, 1175.329956, 1172.530029,\n",
              "        1156.050049, 1161.219971, 1171.089966, 1186.869995, 1166.089966,\n",
              "        1173.369995, 1184.650024, 1180.48999 , 1194.640015, 1193.469971,\n",
              "        1195.310059, 1200.109985, 1202.949951, 1168.189941, 1157.349976,\n",
              "        1148.969971, 1138.819946, 1081.219971, 1079.319946, 1110.079956,\n",
              "        1092.25    , 1121.280029, 1115.689941, 1087.969971, 1096.459961,\n",
              "        1101.160034, 1103.689941, 1050.709961, 1095.569946, 1071.469971,\n",
              "        1020.080017, 1036.209961, 1076.77002 , 1070.      , 1057.790039,\n",
              "        1040.089966, 1055.810059, 1093.390015, 1082.400024, 1066.150024,\n",
              "        1038.630005, 1036.050049, 1043.660034, 1064.709961, 1061.48999 ,\n",
              "        1020.      , 1025.76001 , 1037.609985, 1023.880005, 1048.619995,\n",
              "        1044.410034, 1086.22998 , 1088.300049, 1094.430054, 1106.430054,\n",
              "        1050.819946, 1068.72998 , 1036.579956, 1039.550049, 1051.75    ,\n",
              "        1063.680054, 1061.900024, 1042.099976, 1016.530029, 1028.709961,\n",
              "        1023.01001 , 1009.409973,  979.539978,  976.219971, 1039.459961,\n",
              "        1043.880005, 1037.079956, 1035.609985, 1045.849976, 1016.059998,\n",
              "        1070.709961, 1068.390015, 1076.280029, 1074.660034, 1070.329956,\n",
              "        1057.189941, 1044.689941, 1077.150024, 1080.969971, 1089.900024,\n",
              "        1098.26001 , 1070.52002 , 1075.569946, 1073.900024, 1090.98999 ,\n",
              "        1070.079956, 1060.619995, 1089.060059, 1116.369995, 1110.75    ,\n",
              "        1132.800049, 1145.98999 , 1115.22998 , 1098.709961, 1095.060059,\n",
              "        1095.01001 , 1121.369995, 1120.160034, 1121.670044, 1113.650024,\n",
              "        1118.560059, 1113.800049, 1096.969971, 1110.369995, 1109.400024,\n",
              "        1115.130005, 1116.050049, 1119.920044, 1140.98999 , 1147.800049,\n",
              "        1162.030029, 1157.859985, 1143.300049, 1142.319946, 1175.76001 ,\n",
              "        1193.199951, 1193.319946, 1185.550049, 1184.459961, 1184.26001 ,\n",
              "        1198.849976, 1223.969971, 1231.540039, 1205.5     , 1193.      ,\n",
              "        1184.619995, 1173.02002 , 1168.48999 , 1173.310059, 1194.430054,\n",
              "        1200.48999 , 1205.920044, 1215.      , 1207.150024, 1203.839966,\n",
              "        1197.25    , 1202.160034, 1204.619995, 1217.869995, 1221.099976,\n",
              "        1227.130005, 1236.339966, 1236.369995, 1248.839966, 1264.550049,\n",
              "        1256.      , 1263.449951, 1272.180054, 1287.579956, 1188.47998 ,\n",
              "        1168.079956, 1162.609985, 1185.400024, 1189.390015, 1174.099976,\n",
              "        1166.27002 , 1162.380005, 1164.27002 , 1132.030029, 1120.439941,\n",
              "        1164.209961, 1178.97998 , 1162.300049, 1138.849976, 1149.630005,\n",
              "        1151.420044, 1140.77002 , 1133.469971, 1134.150024, 1116.459961,\n",
              "        1117.949951, 1103.630005, 1036.22998 , 1053.050049, 1042.219971,\n",
              "        1044.339966, 1066.040039, 1080.380005, 1078.719971, 1077.030029,\n",
              "        1088.77002 , 1085.349976, 1092.5     , 1103.599976, 1102.329956,\n",
              "        1111.420044, 1121.880005, 1115.52002 , 1086.349976, 1079.800049,\n",
              "        1076.01001 , 1080.910034, 1097.949951, 1111.25    , 1121.579956,\n",
              "        1131.589966, 1116.349976, 1124.829956, 1140.47998 , 1144.209961,\n",
              "        1144.900024, 1150.339966, 1153.579956, 1146.349976, 1146.329956,\n",
              "        1130.099976, 1138.069946, 1146.209961, 1137.810059, 1132.119995,\n",
              "        1250.410034, 1239.410034, 1225.140015, 1216.680054, 1209.01001 ,\n",
              "        1193.98999 , 1152.319946, 1169.949951, 1173.98999 , 1204.800049,\n",
              "        1188.01001 , 1174.709961, 1197.27002 , 1164.290039, 1167.26001 ,\n",
              "        1177.599976, 1198.449951, 1182.689941, 1191.25    , 1189.530029,\n",
              "        1151.290039, 1168.890015, 1167.839966, 1171.02002 , 1192.849976,\n",
              "        1188.099976, 1168.390015, 1181.410034, 1211.380005, 1204.930054,\n",
              "        1204.410034, 1206.      , 1220.170044, 1234.25    , 1239.560059,\n",
              "        1231.300049, 1229.150024, 1232.410034, 1238.709961, 1229.930054,\n",
              "        1234.030029, 1218.76001 , 1246.52002 , 1241.390015, 1225.089966,\n",
              "        1219.      , 1205.099976, 1176.630005, 1187.829956, 1209.      ,\n",
              "        1207.680054, 1189.130005, 1202.310059, 1208.670044, 1215.449951,\n",
              "        1217.140015, 1243.01001 , 1243.640015, 1253.069946, 1245.48999 ,\n",
              "        1246.150024, 1242.800049, 1259.130005, 1260.98999 , 1265.130005,\n",
              "        1290.      , 1262.619995, 1261.290039, 1260.109985, 1273.73999 ,\n",
              "        1291.369995, 1292.030029, 1291.800049, 1308.859985, 1311.369995,\n",
              "        1299.189941, 1298.800049, 1298.      , 1311.459961, 1334.869995,\n",
              "        1320.699951, 1315.459961, 1303.050049, 1301.349976, 1295.339966,\n",
              "        1306.689941, 1313.550049, 1312.98999 , 1304.959961, 1289.920044,\n",
              "        1295.280029, 1320.540039, 1328.130005, 1340.619995, 1343.560059,\n",
              "        1344.660034, 1345.02002 , 1350.27002 , 1347.829956, 1361.170044,\n",
              "        1355.119995, 1352.619995, 1356.040039, 1349.589966, 1348.839966,\n",
              "        1343.560059, 1360.400024, 1351.890015, 1336.140015, 1337.02002 ,\n",
              "        1367.369995, 1360.660034, 1394.209961, 1393.339966, 1404.319946,\n",
              "        1419.829956, 1429.72998 , 1439.22998 , 1430.880005, 1439.199951,\n",
              "        1451.699951, 1480.390015, 1484.400024, 1485.949951, 1486.650024,\n",
              "        1466.709961, 1433.900024, 1452.560059]])"
            ]
          },
          "metadata": {
            "tags": []
          },
          "execution_count": 42
        },
        {
          "output_type": "stream",
          "text": [
            "time: 15.9 ms (started: 2021-05-13 07:03:24 +00:00)\n"
          ],
          "name": "stdout"
        }
      ]
    },
    {
      "cell_type": "markdown",
      "metadata": {
        "id": "accessible-wings"
      },
      "source": [
        "**Train Actual**"
      ],
      "id": "accessible-wings"
    },
    {
      "cell_type": "code",
      "metadata": {
        "id": "adjustable-boating",
        "colab": {
          "base_uri": "https://localhost:8080/"
        },
        "outputId": "7dc197b9-7787-4eb1-9375-130a2df7ed1e"
      },
      "source": [
        "trainY [0:10]"
      ],
      "id": "adjustable-boating",
      "execution_count": 43,
      "outputs": [
        {
          "output_type": "execute_result",
          "data": {
            "text/plain": [
              "<tf.Tensor: shape=(10, 1), dtype=float32, numpy=\n",
              "array([[-0.02393798],\n",
              "       [-0.02360448],\n",
              "       [-0.02311775],\n",
              "       [-0.02244103],\n",
              "       [-0.0219822 ],\n",
              "       [-0.02204184],\n",
              "       [-0.02263877],\n",
              "       [-0.02335093],\n",
              "       [-0.02445221],\n",
              "       [-0.02585679]], dtype=float32)>"
            ]
          },
          "metadata": {
            "tags": []
          },
          "execution_count": 43
        },
        {
          "output_type": "stream",
          "text": [
            "time: 6.45 ms (started: 2021-05-13 07:03:24 +00:00)\n"
          ],
          "name": "stdout"
        }
      ]
    },
    {
      "cell_type": "code",
      "metadata": {
        "id": "challenging-carnival",
        "colab": {
          "base_uri": "https://localhost:8080/"
        },
        "outputId": "21babb71-2532-4609-8a7e-ee045d31ca5a"
      },
      "source": [
        "# Convert / Create a numpy ndarray from a tensor\n",
        "trainY = tf.make_tensor_proto(trainY)  # convert `tensor a` to a proto tensor\n",
        "trainY = tf.make_ndarray(trainY)\n",
        "trainY [0:10]"
      ],
      "id": "challenging-carnival",
      "execution_count": 44,
      "outputs": [
        {
          "output_type": "execute_result",
          "data": {
            "text/plain": [
              "array([[-0.02393798],\n",
              "       [-0.02360448],\n",
              "       [-0.02311775],\n",
              "       [-0.02244103],\n",
              "       [-0.0219822 ],\n",
              "       [-0.02204184],\n",
              "       [-0.02263877],\n",
              "       [-0.02335093],\n",
              "       [-0.02445221],\n",
              "       [-0.02585679]], dtype=float32)"
            ]
          },
          "metadata": {
            "tags": []
          },
          "execution_count": 44
        },
        {
          "output_type": "stream",
          "text": [
            "time: 6.97 ms (started: 2021-05-13 07:03:24 +00:00)\n"
          ],
          "name": "stdout"
        }
      ]
    },
    {
      "cell_type": "code",
      "metadata": {
        "id": "mathematical-species",
        "colab": {
          "base_uri": "https://localhost:8080/"
        },
        "outputId": "0a7f8285-7b21-4528-d8af-03b2755d695e"
      },
      "source": [
        "trainY.shape"
      ],
      "id": "mathematical-species",
      "execution_count": 45,
      "outputs": [
        {
          "output_type": "execute_result",
          "data": {
            "text/plain": [
              "(1996, 1)"
            ]
          },
          "metadata": {
            "tags": []
          },
          "execution_count": 45
        },
        {
          "output_type": "stream",
          "text": [
            "time: 4.58 ms (started: 2021-05-13 07:03:24 +00:00)\n"
          ],
          "name": "stdout"
        }
      ]
    },
    {
      "cell_type": "code",
      "metadata": {
        "id": "ordinary-defendant",
        "colab": {
          "base_uri": "https://localhost:8080/"
        },
        "outputId": "753aa4a0-3c35-4c34-90bd-c5cefb825b23"
      },
      "source": [
        "# trainY = scaler.inverse_transform([trainY])\n",
        "trainY [0:10]"
      ],
      "id": "ordinary-defendant",
      "execution_count": 46,
      "outputs": [
        {
          "output_type": "execute_result",
          "data": {
            "text/plain": [
              "array([[-0.02393798],\n",
              "       [-0.02360448],\n",
              "       [-0.02311775],\n",
              "       [-0.02244103],\n",
              "       [-0.0219822 ],\n",
              "       [-0.02204184],\n",
              "       [-0.02263877],\n",
              "       [-0.02335093],\n",
              "       [-0.02445221],\n",
              "       [-0.02585679]], dtype=float32)"
            ]
          },
          "metadata": {
            "tags": []
          },
          "execution_count": 46
        },
        {
          "output_type": "stream",
          "text": [
            "time: 5.18 ms (started: 2021-05-13 07:03:24 +00:00)\n"
          ],
          "name": "stdout"
        }
      ]
    },
    {
      "cell_type": "markdown",
      "metadata": {
        "id": "occupational-myanmar"
      },
      "source": [
        "#### **Residuals**"
      ],
      "id": "occupational-myanmar"
    },
    {
      "cell_type": "code",
      "metadata": {
        "id": "infrared-bouquet",
        "colab": {
          "base_uri": "https://localhost:8080/",
          "height": 222
        },
        "outputId": "1b0be804-6cc7-45ec-bf41-e468d8aa8cc5"
      },
      "source": [
        "# Get residuals\n",
        "residuals = (testY[0] - testPredict[:,0])\n",
        "res = pd.DataFrame(data=residuals, columns=['residuals'])\n",
        "res.head()"
      ],
      "id": "infrared-bouquet",
      "execution_count": 47,
      "outputs": [
        {
          "output_type": "execute_result",
          "data": {
            "text/html": [
              "<div>\n",
              "<style scoped>\n",
              "    .dataframe tbody tr th:only-of-type {\n",
              "        vertical-align: middle;\n",
              "    }\n",
              "\n",
              "    .dataframe tbody tr th {\n",
              "        vertical-align: top;\n",
              "    }\n",
              "\n",
              "    .dataframe thead th {\n",
              "        text-align: right;\n",
              "    }\n",
              "</style>\n",
              "<table border=\"1\" class=\"dataframe\">\n",
              "  <thead>\n",
              "    <tr style=\"text-align: right;\">\n",
              "      <th></th>\n",
              "      <th>residuals</th>\n",
              "    </tr>\n",
              "  </thead>\n",
              "  <tbody>\n",
              "    <tr>\n",
              "      <th>0</th>\n",
              "      <td>1166.039867</td>\n",
              "    </tr>\n",
              "    <tr>\n",
              "      <th>1</th>\n",
              "      <td>1176.373337</td>\n",
              "    </tr>\n",
              "    <tr>\n",
              "      <th>2</th>\n",
              "      <td>1172.910088</td>\n",
              "    </tr>\n",
              "    <tr>\n",
              "      <th>3</th>\n",
              "      <td>1194.636673</td>\n",
              "    </tr>\n",
              "    <tr>\n",
              "      <th>4</th>\n",
              "      <td>1211.422455</td>\n",
              "    </tr>\n",
              "  </tbody>\n",
              "</table>\n",
              "</div>"
            ],
            "text/plain": [
              "     residuals\n",
              "0  1166.039867\n",
              "1  1176.373337\n",
              "2  1172.910088\n",
              "3  1194.636673\n",
              "4  1211.422455"
            ]
          },
          "metadata": {
            "tags": []
          },
          "execution_count": 47
        },
        {
          "output_type": "stream",
          "text": [
            "time: 21.5 ms (started: 2021-05-13 07:03:24 +00:00)\n"
          ],
          "name": "stdout"
        }
      ]
    },
    {
      "cell_type": "code",
      "metadata": {
        "id": "adequate-sheep",
        "colab": {
          "base_uri": "https://localhost:8080/",
          "height": 457
        },
        "outputId": "1ffec78b-b194-4efe-d58b-effb2eb4f2c0"
      },
      "source": [
        "# Plot Residuals\n",
        "sns.set(rc={'figure.figsize':(15, 8)})\n",
        "res.plot(title='Residuals')"
      ],
      "id": "adequate-sheep",
      "execution_count": 48,
      "outputs": [
        {
          "output_type": "execute_result",
          "data": {
            "text/plain": [
              "<matplotlib.axes._subplots.AxesSubplot at 0x7f6a1a9ecad0>"
            ]
          },
          "metadata": {
            "tags": []
          },
          "execution_count": 48
        },
        {
          "output_type": "display_data",
          "data": {
            "image/png": "[encoded data removed]",
            "text/plain": [
              "<Figure size 1080x576 with 1 Axes>"
            ]
          },
          "metadata": {
            "tags": []
          }
        },
        {
          "output_type": "stream",
          "text": [
            "time: 437 ms (started: 2021-05-13 07:03:24 +00:00)\n"
          ],
          "name": "stdout"
        }
      ]
    },
    {
      "cell_type": "markdown",
      "metadata": {
        "id": "surface-happening"
      },
      "source": [
        "#### **Calculate RMSE & Plot**"
      ],
      "id": "surface-happening"
    },
    {
      "cell_type": "code",
      "metadata": {
        "colab": {
          "base_uri": "https://localhost:8080/"
        },
        "id": "n_TYoqSNdTJ8",
        "outputId": "15c1a349-5ea9-4329-a0a0-79195fc9fd9d"
      },
      "source": [
        "# Inverse original data\n",
        "data = scaler.inverse_transform(data)\n",
        "data"
      ],
      "id": "n_TYoqSNdTJ8",
      "execution_count": 49,
      "outputs": [
        {
          "output_type": "execute_result",
          "data": {
            "text/plain": [
              "array([[ 265.514771],\n",
              "       [ 264.568329],\n",
              "       [ 269.400208],\n",
              "       ...,\n",
              "       [1433.900024],\n",
              "       [1452.560059],\n",
              "       [1458.630005]])"
            ]
          },
          "metadata": {
            "tags": []
          },
          "execution_count": 49
        },
        {
          "output_type": "stream",
          "text": [
            "time: 12.1 ms (started: 2021-05-13 07:03:24 +00:00)\n"
          ],
          "name": "stdout"
        }
      ]
    },
    {
      "cell_type": "code",
      "metadata": {
        "id": "prostate-harvard",
        "colab": {
          "base_uri": "https://localhost:8080/",
          "height": 340
        },
        "outputId": "46349106-9351-44b1-c758-a921d508bd7c"
      },
      "source": [
        "# Plot results\n",
        "\n",
        "# shift train predictions for plotting\n",
        "trainPredictPlot = np.empty_like(dataset)\n",
        "trainPredictPlot[:, :] = np.nan\n",
        "trainPredictPlot[window:len(trainPredict)+window, :] = trainPredict\n",
        "\n",
        "# shift test predictions for plotting\n",
        "testPredictPlot = np.empty_like(dataset)\n",
        "testPredictPlot[:, :] = np.nan\n",
        "testPredictPlot[len(trainPredict)+(window*2)+1:len(dataset)-1, :] = testPredict\n",
        "\n",
        "# plot baseline and predictions\n",
        "sns.set(rc={'figure.figsize':(11, 5)})\n",
        "#plt.plot(scaler.inverse_transform(dataset))\n",
        "plt.plot(data)\n",
        "plt.plot(trainPredictPlot)\n",
        "plt.plot(testPredictPlot)\n",
        "plt.show()"
      ],
      "id": "prostate-harvard",
      "execution_count": 50,
      "outputs": [
        {
          "output_type": "display_data",
          "data": {
            "image/png": "[encoded data removed]",
            "text/plain": [
              "<Figure size 792x360 with 1 Axes>"
            ]
          },
          "metadata": {
            "tags": []
          }
        },
        {
          "output_type": "stream",
          "text": [
            "time: 344 ms (started: 2021-05-13 07:03:24 +00:00)\n"
          ],
          "name": "stdout"
        }
      ]
    },
    {
      "cell_type": "code",
      "metadata": {
        "colab": {
          "base_uri": "https://localhost:8080/"
        },
        "id": "dsfjjVQ6c3jh",
        "outputId": "fe497ebf-16da-4ca8-f55c-4db45e160c0e"
      },
      "source": [
        "testScore = math.sqrt(mean_squared_error(testY[0], testPredict[:,0]))\n",
        "print('Test Score: %.2f RMSE' % (testScore))"
      ],
      "id": "dsfjjVQ6c3jh",
      "execution_count": 51,
      "outputs": [
        {
          "output_type": "stream",
          "text": [
            "Test Score: 1243.45 RMSE\n",
            "time: 2.41 ms (started: 2021-05-13 07:03:25 +00:00)\n"
          ],
          "name": "stdout"
        }
      ]
    },
    {
      "cell_type": "code",
      "metadata": {
        "colab": {
          "base_uri": "https://localhost:8080/"
        },
        "id": "Idsbc79AdDnN",
        "outputId": "43ec5ba9-de22-4d53-9340-4d6179e9ea4f"
      },
      "source": [
        "# trainScore = math.sqrt(mean_squared_error(trainY[0], trainPredict[:,0]))\n",
        "# print('Train Score: %.2f RMSE' % (trainScore))"
      ],
      "id": "Idsbc79AdDnN",
      "execution_count": 52,
      "outputs": [
        {
          "output_type": "stream",
          "text": [
            "time: 1.21 ms (started: 2021-05-13 07:03:25 +00:00)\n"
          ],
          "name": "stdout"
        }
      ]
    }
  ]
}