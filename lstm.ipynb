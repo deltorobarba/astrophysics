{
  "nbformat": 4,
  "nbformat_minor": 0,
  "metadata": {
    "colab": {
      "name": "lstm.ipynb",
      "provenance": [],
      "collapsed_sections": [],
      "include_colab_link": true
    },
    "kernelspec": {
      "name": "python3",
      "display_name": "Python 3"
    }
  },
  "cells": [
    {
      "cell_type": "markdown",
      "metadata": {
        "id": "view-in-github",
        "colab_type": "text"
      },
      "source": [
        "<a href=\"https://colab.research.google.com/github/deltorobarba/machinelearning/blob/master/lstm.ipynb\" target=\"_parent\"><img src=\"https://colab.research.google.com/assets/colab-badge.svg\" alt=\"Open In Colab\"/></a>"
      ]
    },
    {
      "cell_type": "markdown",
      "metadata": {
        "id": "9n0-469qA0YV",
        "colab_type": "text"
      },
      "source": [
        "# **Time Series Forecasting**"
      ]
    },
    {
      "cell_type": "code",
      "metadata": {
        "id": "buRM_j-6Glxi",
        "colab_type": "code",
        "colab": {
          "base_uri": "https://localhost:8080/",
          "height": 35
        },
        "outputId": "4b8bcbfe-7cc9-4523-a366-164241ec4a97"
      },
      "source": [
        "import numpy as np\n",
        "import pandas as pd\n",
        "import seaborn as sns\n",
        "import matplotlib.pyplot as plt\n",
        "import tensorflow as tf\n",
        "print('Tensorflow version %s' % tf.__version__)"
      ],
      "execution_count": 13,
      "outputs": [
        {
          "output_type": "stream",
          "text": [
            "Tensorflow version 2.2.0\n"
          ],
          "name": "stdout"
        }
      ]
    },
    {
      "cell_type": "markdown",
      "metadata": {
        "id": "1MRwIM3ZQ7ux",
        "colab_type": "text"
      },
      "source": [
        "# **Exploration**"
      ]
    },
    {
      "cell_type": "markdown",
      "metadata": {
        "id": "uZUdRlDrhA3D",
        "colab_type": "text"
      },
      "source": [
        "**Data Import and Preprocessing**"
      ]
    },
    {
      "cell_type": "code",
      "metadata": {
        "id": "okB3TphCRDtt",
        "colab_type": "code",
        "outputId": "1be6d1ed-dc52-4aaf-c79c-59b0ef365f4a",
        "colab": {
          "base_uri": "https://localhost:8080/",
          "height": 204
        }
      },
      "source": [
        "url = 'https://raw.githubusercontent.com/deltorobarba/repo/master/google.csv'\n",
        "data = pd.read_csv(url)\n",
        "data.head()"
      ],
      "execution_count": 2,
      "outputs": [
        {
          "output_type": "execute_result",
          "data": {
            "text/html": [
              "<div>\n",
              "<style scoped>\n",
              "    .dataframe tbody tr th:only-of-type {\n",
              "        vertical-align: middle;\n",
              "    }\n",
              "\n",
              "    .dataframe tbody tr th {\n",
              "        vertical-align: top;\n",
              "    }\n",
              "\n",
              "    .dataframe thead th {\n",
              "        text-align: right;\n",
              "    }\n",
              "</style>\n",
              "<table border=\"1\" class=\"dataframe\">\n",
              "  <thead>\n",
              "    <tr style=\"text-align: right;\">\n",
              "      <th></th>\n",
              "      <th>Date</th>\n",
              "      <th>Open</th>\n",
              "      <th>High</th>\n",
              "      <th>Low</th>\n",
              "      <th>Close</th>\n",
              "      <th>Adj Close</th>\n",
              "      <th>Volume</th>\n",
              "    </tr>\n",
              "  </thead>\n",
              "  <tbody>\n",
              "    <tr>\n",
              "      <th>0</th>\n",
              "      <td>2010-02-01</td>\n",
              "      <td>266.301849</td>\n",
              "      <td>266.904572</td>\n",
              "      <td>264.159851</td>\n",
              "      <td>265.514771</td>\n",
              "      <td>265.514771</td>\n",
              "      <td>4518400</td>\n",
              "    </tr>\n",
              "    <tr>\n",
              "      <th>1</th>\n",
              "      <td>2010-02-02</td>\n",
              "      <td>266.481171</td>\n",
              "      <td>266.481171</td>\n",
              "      <td>262.819885</td>\n",
              "      <td>264.568329</td>\n",
              "      <td>264.568329</td>\n",
              "      <td>8223000</td>\n",
              "    </tr>\n",
              "    <tr>\n",
              "      <th>2</th>\n",
              "      <td>2010-02-03</td>\n",
              "      <td>263.347900</td>\n",
              "      <td>270.037842</td>\n",
              "      <td>263.128723</td>\n",
              "      <td>269.400208</td>\n",
              "      <td>269.400208</td>\n",
              "      <td>6020500</td>\n",
              "    </tr>\n",
              "    <tr>\n",
              "      <th>3</th>\n",
              "      <td>2010-02-04</td>\n",
              "      <td>267.497345</td>\n",
              "      <td>267.995483</td>\n",
              "      <td>261.798706</td>\n",
              "      <td>262.406433</td>\n",
              "      <td>262.406433</td>\n",
              "      <td>6780600</td>\n",
              "    </tr>\n",
              "    <tr>\n",
              "      <th>4</th>\n",
              "      <td>2010-02-05</td>\n",
              "      <td>263.213409</td>\n",
              "      <td>265.753876</td>\n",
              "      <td>260.254517</td>\n",
              "      <td>264.653015</td>\n",
              "      <td>264.653015</td>\n",
              "      <td>6335600</td>\n",
              "    </tr>\n",
              "  </tbody>\n",
              "</table>\n",
              "</div>"
            ],
            "text/plain": [
              "         Date        Open        High  ...       Close   Adj Close   Volume\n",
              "0  2010-02-01  266.301849  266.904572  ...  265.514771  265.514771  4518400\n",
              "1  2010-02-02  266.481171  266.481171  ...  264.568329  264.568329  8223000\n",
              "2  2010-02-03  263.347900  270.037842  ...  269.400208  269.400208  6020500\n",
              "3  2010-02-04  267.497345  267.995483  ...  262.406433  262.406433  6780600\n",
              "4  2010-02-05  263.213409  265.753876  ...  264.653015  264.653015  6335600\n",
              "\n",
              "[5 rows x 7 columns]"
            ]
          },
          "metadata": {
            "tags": []
          },
          "execution_count": 2
        }
      ]
    },
    {
      "cell_type": "code",
      "metadata": {
        "id": "G9u2p5mCRHQc",
        "colab_type": "code",
        "outputId": "323d55a4-355a-461e-f827-1281a56c8d6f",
        "colab": {
          "base_uri": "https://localhost:8080/",
          "height": 235
        }
      },
      "source": [
        "series = data[['Date', 'Close']].rename(columns={\"Date\": \"date\", \"Close\": \"values\"}).set_index('date')\n",
        "series.index = pd.to_datetime(series.index, utc=False)\n",
        "series.head()"
      ],
      "execution_count": 3,
      "outputs": [
        {
          "output_type": "execute_result",
          "data": {
            "text/html": [
              "<div>\n",
              "<style scoped>\n",
              "    .dataframe tbody tr th:only-of-type {\n",
              "        vertical-align: middle;\n",
              "    }\n",
              "\n",
              "    .dataframe tbody tr th {\n",
              "        vertical-align: top;\n",
              "    }\n",
              "\n",
              "    .dataframe thead th {\n",
              "        text-align: right;\n",
              "    }\n",
              "</style>\n",
              "<table border=\"1\" class=\"dataframe\">\n",
              "  <thead>\n",
              "    <tr style=\"text-align: right;\">\n",
              "      <th></th>\n",
              "      <th>values</th>\n",
              "    </tr>\n",
              "    <tr>\n",
              "      <th>date</th>\n",
              "      <th></th>\n",
              "    </tr>\n",
              "  </thead>\n",
              "  <tbody>\n",
              "    <tr>\n",
              "      <th>2010-02-01</th>\n",
              "      <td>265.514771</td>\n",
              "    </tr>\n",
              "    <tr>\n",
              "      <th>2010-02-02</th>\n",
              "      <td>264.568329</td>\n",
              "    </tr>\n",
              "    <tr>\n",
              "      <th>2010-02-03</th>\n",
              "      <td>269.400208</td>\n",
              "    </tr>\n",
              "    <tr>\n",
              "      <th>2010-02-04</th>\n",
              "      <td>262.406433</td>\n",
              "    </tr>\n",
              "    <tr>\n",
              "      <th>2010-02-05</th>\n",
              "      <td>264.653015</td>\n",
              "    </tr>\n",
              "  </tbody>\n",
              "</table>\n",
              "</div>"
            ],
            "text/plain": [
              "                values\n",
              "date                  \n",
              "2010-02-01  265.514771\n",
              "2010-02-02  264.568329\n",
              "2010-02-03  269.400208\n",
              "2010-02-04  262.406433\n",
              "2010-02-05  264.653015"
            ]
          },
          "metadata": {
            "tags": []
          },
          "execution_count": 3
        }
      ]
    },
    {
      "cell_type": "code",
      "metadata": {
        "id": "TqajC14ARMBn",
        "colab_type": "code",
        "outputId": "aff3918a-6511-4ab9-8ed1-fb3bfebd12f6",
        "colab": {
          "base_uri": "https://localhost:8080/",
          "height": 415
        }
      },
      "source": [
        "sns.set(rc={'figure.figsize':(12, 5), \"lines.linewidth\": 1.0})\n",
        "series.plot(title='Google Stock Market - Daily Price')"
      ],
      "execution_count": 4,
      "outputs": [
        {
          "output_type": "stream",
          "text": [
            "/usr/local/lib/python3.6/dist-packages/statsmodels/tools/_testing.py:19: FutureWarning: pandas.util.testing is deprecated. Use the functions in the public API at pandas.testing instead.\n",
            "  import pandas.util.testing as tm\n"
          ],
          "name": "stderr"
        },
        {
          "output_type": "execute_result",
          "data": {
            "text/plain": [
              "<matplotlib.axes._subplots.AxesSubplot at 0x7f808f761b00>"
            ]
          },
          "metadata": {
            "tags": []
          },
          "execution_count": 4
        },
        {
          "output_type": "display_data",
          "data": {
            "image/png": "[encoded data removed]",
            "text/plain": [
              "<Figure size 864x360 with 1 Axes>"
            ]
          },
          "metadata": {
            "tags": []
          }
        }
      ]
    },
    {
      "cell_type": "code",
      "metadata": {
        "id": "8XsYVpU0j4n9",
        "colab_type": "code",
        "outputId": "9959aca8-7800-4afd-8157-944d58b6432a",
        "colab": {
          "base_uri": "https://localhost:8080/",
          "height": 263
        }
      },
      "source": [
        "# Trend and Seasonality Test\n",
        "seasonal_plots = series.copy()\n",
        "seasonal_plots.reset_index(inplace=True)\n",
        "\n",
        "# Prepare data\n",
        "seasonal_plots['year'] = [d.year for d in seasonal_plots.date]\n",
        "seasonal_plots['month'] = [d.strftime('%b') for d in seasonal_plots.date]\n",
        "years = seasonal_plots['year'].unique()\n",
        "\n",
        "# Draw Plot\n",
        "fig, axes = plt.subplots(1, 2, figsize=(15,5), dpi= 80)\n",
        "sns.boxplot(x='year', y='values', data=seasonal_plots, ax=axes[0])\n",
        "sns.boxplot(x='month', y='values', data=seasonal_plots.loc[~seasonal_plots.year.isin([1991, 2008]), :])\n",
        "\n",
        "# Set Title\n",
        "axes[0].set_title('Year-wise Box Plot\\n(The Trend)', fontsize=12); \n",
        "axes[1].set_title('Month-wise Box Plot\\n(The Seasonality)', fontsize=12)\n",
        "plt.show()"
      ],
      "execution_count": 5,
      "outputs": [
        {
          "output_type": "error",
          "ename": "NameError",
          "evalue": "ignored",
          "traceback": [
            "\u001b[0;31m---------------------------------------------------------------------------\u001b[0m",
            "\u001b[0;31mNameError\u001b[0m                                 Traceback (most recent call last)",
            "\u001b[0;32m<ipython-input-5-58580ad9faba>\u001b[0m in \u001b[0;36m<module>\u001b[0;34m()\u001b[0m\n\u001b[1;32m      9\u001b[0m \u001b[0;34m\u001b[0m\u001b[0m\n\u001b[1;32m     10\u001b[0m \u001b[0;31m# Draw Plot\u001b[0m\u001b[0;34m\u001b[0m\u001b[0;34m\u001b[0m\u001b[0;34m\u001b[0m\u001b[0m\n\u001b[0;32m---> 11\u001b[0;31m \u001b[0mfig\u001b[0m\u001b[0;34m,\u001b[0m \u001b[0maxes\u001b[0m \u001b[0;34m=\u001b[0m \u001b[0mplt\u001b[0m\u001b[0;34m.\u001b[0m\u001b[0msubplots\u001b[0m\u001b[0;34m(\u001b[0m\u001b[0;36m1\u001b[0m\u001b[0;34m,\u001b[0m \u001b[0;36m2\u001b[0m\u001b[0;34m,\u001b[0m \u001b[0mfigsize\u001b[0m\u001b[0;34m=\u001b[0m\u001b[0;34m(\u001b[0m\u001b[0;36m15\u001b[0m\u001b[0;34m,\u001b[0m\u001b[0;36m5\u001b[0m\u001b[0;34m)\u001b[0m\u001b[0;34m,\u001b[0m \u001b[0mdpi\u001b[0m\u001b[0;34m=\u001b[0m \u001b[0;36m80\u001b[0m\u001b[0;34m)\u001b[0m\u001b[0;34m\u001b[0m\u001b[0;34m\u001b[0m\u001b[0m\n\u001b[0m\u001b[1;32m     12\u001b[0m \u001b[0msns\u001b[0m\u001b[0;34m.\u001b[0m\u001b[0mboxplot\u001b[0m\u001b[0;34m(\u001b[0m\u001b[0mx\u001b[0m\u001b[0;34m=\u001b[0m\u001b[0;34m'year'\u001b[0m\u001b[0;34m,\u001b[0m \u001b[0my\u001b[0m\u001b[0;34m=\u001b[0m\u001b[0;34m'values'\u001b[0m\u001b[0;34m,\u001b[0m \u001b[0mdata\u001b[0m\u001b[0;34m=\u001b[0m\u001b[0mseasonal_plots\u001b[0m\u001b[0;34m,\u001b[0m \u001b[0max\u001b[0m\u001b[0;34m=\u001b[0m\u001b[0maxes\u001b[0m\u001b[0;34m[\u001b[0m\u001b[0;36m0\u001b[0m\u001b[0;34m]\u001b[0m\u001b[0;34m)\u001b[0m\u001b[0;34m\u001b[0m\u001b[0;34m\u001b[0m\u001b[0m\n\u001b[1;32m     13\u001b[0m \u001b[0msns\u001b[0m\u001b[0;34m.\u001b[0m\u001b[0mboxplot\u001b[0m\u001b[0;34m(\u001b[0m\u001b[0mx\u001b[0m\u001b[0;34m=\u001b[0m\u001b[0;34m'month'\u001b[0m\u001b[0;34m,\u001b[0m \u001b[0my\u001b[0m\u001b[0;34m=\u001b[0m\u001b[0;34m'values'\u001b[0m\u001b[0;34m,\u001b[0m \u001b[0mdata\u001b[0m\u001b[0;34m=\u001b[0m\u001b[0mseasonal_plots\u001b[0m\u001b[0;34m.\u001b[0m\u001b[0mloc\u001b[0m\u001b[0;34m[\u001b[0m\u001b[0;34m~\u001b[0m\u001b[0mseasonal_plots\u001b[0m\u001b[0;34m.\u001b[0m\u001b[0myear\u001b[0m\u001b[0;34m.\u001b[0m\u001b[0misin\u001b[0m\u001b[0;34m(\u001b[0m\u001b[0;34m[\u001b[0m\u001b[0;36m1991\u001b[0m\u001b[0;34m,\u001b[0m \u001b[0;36m2008\u001b[0m\u001b[0;34m]\u001b[0m\u001b[0;34m)\u001b[0m\u001b[0;34m,\u001b[0m \u001b[0;34m:\u001b[0m\u001b[0;34m]\u001b[0m\u001b[0;34m)\u001b[0m\u001b[0;34m\u001b[0m\u001b[0;34m\u001b[0m\u001b[0m\n",
            "\u001b[0;31mNameError\u001b[0m: name 'plt' is not defined"
          ]
        }
      ]
    },
    {
      "cell_type": "markdown",
      "metadata": {
        "id": "dQ93tsSekuVt",
        "colab_type": "text"
      },
      "source": [
        "# **Preparation**"
      ]
    },
    {
      "cell_type": "code",
      "metadata": {
        "id": "ceeRu1a86VUu",
        "colab_type": "code",
        "colab": {}
      },
      "source": [
        "# Set seed for reproducibility\n",
        "tf.random.set_seed(7)"
      ],
      "execution_count": 0,
      "outputs": []
    },
    {
      "cell_type": "markdown",
      "metadata": {
        "id": "zts6_qIQC-4B",
        "colab_type": "text"
      },
      "source": [
        "**Data Normalization**"
      ]
    },
    {
      "cell_type": "markdown",
      "metadata": {
        "id": "Vq9Mw066Ij2Q",
        "colab_type": "text"
      },
      "source": [
        "Normalization (feature rescaling): data values between 0 and 1. Normalization is used when distribution of data is unknown or not Gaussian, and the algorithm does not make assumptions about data distribution (k-nearest neighbors or neural nets). Different formula. One way:\n",
        "\n",
        "$x_{n e w}=\\frac{x-x_{m i n}}{x_{m a x}-x_{m i n}}$\n",
        "\n",
        "Standardization (z-score or t-score): transforms data to have a mean of zero and a standard deviation of 1. z-score is number of standard deviations from mean (e.g. score of 2 is 2 std above mean). Standardization assumes Gaussian distribution (not strictly true, but more effective). and the algorithm assumes Gaussian distribution (linear regression, logistic regression, linear discriminant analysis).\n",
        "\n",
        "$z_{i}=\\frac{x_{i}-\\bar{x}}{s}$"
      ]
    },
    {
      "cell_type": "code",
      "metadata": {
        "id": "pg0JWKR3rjZO",
        "colab_type": "code",
        "outputId": "070b8c91-e7bb-4b90-e484-16c910505ab7",
        "colab": {
          "base_uri": "https://localhost:8080/",
          "height": 143
        }
      },
      "source": [
        "# LSTMs are sensitive to scale of input data\n",
        "from sklearn.preprocessing import MinMaxScaler\n",
        "dataset = series.copy()\n",
        "scaler = MinMaxScaler(feature_range=(0,1))\n",
        "dataset = scaler.fit_transform(dataset)\n",
        "dataset"
      ],
      "execution_count": 8,
      "outputs": [
        {
          "output_type": "execute_result",
          "data": {
            "text/plain": [
              "array([[0.03804384],\n",
              "       [0.03729827],\n",
              "       [0.04110461],\n",
              "       ...,\n",
              "       [0.95844589],\n",
              "       [0.97314544],\n",
              "       [0.97792707]])"
            ]
          },
          "metadata": {
            "tags": []
          },
          "execution_count": 8
        }
      ]
    },
    {
      "cell_type": "markdown",
      "metadata": {
        "id": "SiQX78WQDCKJ",
        "colab_type": "text"
      },
      "source": [
        "**Train & Test Split**"
      ]
    },
    {
      "cell_type": "code",
      "metadata": {
        "id": "18YAjsNfig1p",
        "colab_type": "code",
        "outputId": "c131f48d-f695-4937-8e74-a2809c6d6787",
        "colab": {
          "base_uri": "https://localhost:8080/",
          "height": 107
        }
      },
      "source": [
        "# in % of complete dataset\n",
        "split = 0.8\n",
        "train_size = int(len(dataset) * split)\n",
        "test_size = len(dataset) - train_size\n",
        "train, test = dataset[0:train_size,:], dataset[train_size:len(dataset),:]\n",
        "train [0:5] # Show first few values in train data array"
      ],
      "execution_count": 9,
      "outputs": [
        {
          "output_type": "execute_result",
          "data": {
            "text/plain": [
              "array([[0.03804384],\n",
              "       [0.03729827],\n",
              "       [0.04110461],\n",
              "       [0.03559523],\n",
              "       [0.03736499]])"
            ]
          },
          "metadata": {
            "tags": []
          },
          "execution_count": 9
        }
      ]
    },
    {
      "cell_type": "markdown",
      "metadata": {
        "id": "9AuwdDONDFYr",
        "colab_type": "text"
      },
      "source": [
        "**Create Sliding Windows (X input & Y output)**"
      ]
    },
    {
      "cell_type": "markdown",
      "metadata": {
        "id": "ZW7OQqFNDM0t",
        "colab_type": "text"
      },
      "source": [
        "* Window is the number of previous time steps to use as input variables to predict the next time period\n",
        "* Given the current time (t) we want to predict the value at the next time in the sequence (t+1), \n",
        "* Phrased as a regression: input variables are t-2, t-1, t and the output variable is t+1"
      ]
    },
    {
      "cell_type": "code",
      "metadata": {
        "id": "RA1nle0ASSaX",
        "colab_type": "code",
        "colab": {}
      },
      "source": [
        "window = 3 # Use (t), (t-1) and (t-2) as input variables X\n",
        "features = 1 # Use only one time series (Google stock data)\n",
        "\n",
        "# Convert an array of values into a dataset matrix\n",
        "def create_dataset(dataset, window=window):\n",
        "\tdataX, dataY = [], []\n",
        "\tfor i in range(len(dataset)-window-1):\n",
        "\t\ta = dataset[i:(i+window), 0]\n",
        "\t\tdataX.append(a)\n",
        "\t\tdataY.append(dataset[i + window, 0])\n",
        "\treturn np.array(dataX), np.array(dataY)\n",
        "\n",
        "# X is input data = value (at t, and t-1, t-2, depending on window size)\n",
        "# Y is target data = value at t+1\n",
        "# Each is additionally divided into train and test set\n",
        "\n",
        "# Reshape into X=t and Y=t+1 and get as arrays\n",
        "trainX, trainY = create_dataset(train, window)\n",
        "testX, testY = create_dataset(test, window)"
      ],
      "execution_count": 0,
      "outputs": []
    },
    {
      "cell_type": "code",
      "metadata": {
        "id": "pUdIuAzYAGOP",
        "colab_type": "code",
        "outputId": "70292ef3-72ff-4a28-9052-06b8b428c570",
        "colab": {
          "base_uri": "https://localhost:8080/",
          "height": 143
        }
      },
      "source": [
        "# X input has 3 (= window size) values at each step\n",
        "trainX"
      ],
      "execution_count": 11,
      "outputs": [
        {
          "output_type": "execute_result",
          "data": {
            "text/plain": [
              "array([[0.03804384, 0.03729827, 0.04110461],\n",
              "       [0.03729827, 0.04110461, 0.03559523],\n",
              "       [0.04110461, 0.03559523, 0.03736499],\n",
              "       ...,\n",
              "       [0.71888154, 0.72496299, 0.73937896],\n",
              "       [0.72496299, 0.73937896, 0.75053351],\n",
              "       [0.73937896, 0.75053351, 0.74601968]])"
            ]
          },
          "metadata": {
            "tags": []
          },
          "execution_count": 11
        }
      ]
    },
    {
      "cell_type": "code",
      "metadata": {
        "id": "ZSUI2WJo5mQH",
        "colab_type": "code",
        "outputId": "2f281f48-9e9f-4956-ce51-48acdffe4751",
        "colab": {
          "base_uri": "https://localhost:8080/",
          "height": 53
        }
      },
      "source": [
        "# Y output has here only one value (t+1) at each step\n",
        "trainY"
      ],
      "execution_count": 12,
      "outputs": [
        {
          "output_type": "execute_result",
          "data": {
            "text/plain": [
              "array([0.03559523, 0.03736499, 0.03822044, ..., 0.75053351, 0.74601968,\n",
              "       0.75084863])"
            ]
          },
          "metadata": {
            "tags": []
          },
          "execution_count": 12
        }
      ]
    },
    {
      "cell_type": "markdown",
      "metadata": {
        "id": "fqeJUh7Rme7d",
        "colab_type": "text"
      },
      "source": [
        "Notice how the shape differs: there are 3 values at each step for the input (since we look back 3 steps), but only one value at eahc step for the output, since do not have a multistep forecasting here."
      ]
    },
    {
      "cell_type": "markdown",
      "metadata": {
        "id": "q6Ps0OqVDcvK",
        "colab_type": "text"
      },
      "source": [
        "**Reshape Data for LSTM**"
      ]
    },
    {
      "cell_type": "markdown",
      "metadata": {
        "id": "ICcaY5-MDiBI",
        "colab_type": "text"
      },
      "source": [
        "* Data is in shape **[samples, features]**. LSTM expects **[samples, time steps, features]**\n",
        "* Reminder 2D array: shape (n,m), n [0] = rows (time steps), m [1] = column(s)\n",
        "* Shape: First Block: t, t+1, t+2. Second: t+1, t+2, t+3. Third: t+2, t+3, t+4.\n",
        "* Approach 1: Use past observations as separate input features =(trainX.shape[0], features, trainX.shape[1])\n",
        "* Approach 2: Use past observations as time steps of the one input feature **(we do here!)**"
      ]
    },
    {
      "cell_type": "code",
      "metadata": {
        "id": "QG2Y7LSNSjAF",
        "colab_type": "code",
        "outputId": "f975e615-aa03-45b3-e369-f1ac6d915d59",
        "colab": {
          "base_uri": "https://localhost:8080/",
          "height": 485
        }
      },
      "source": [
        "trainX = tf.reshape(trainX, (trainX.shape[0], trainX.shape[1], features))\n",
        "testX = tf.reshape(testX, (testX.shape[0], testX.shape[1], features))\n",
        "trainX"
      ],
      "execution_count": 13,
      "outputs": [
        {
          "output_type": "execute_result",
          "data": {
            "text/plain": [
              "<tf.Tensor: shape=(2008, 3, 1), dtype=float64, numpy=\n",
              "array([[[0.03804384],\n",
              "        [0.03729827],\n",
              "        [0.04110461]],\n",
              "\n",
              "       [[0.03729827],\n",
              "        [0.04110461],\n",
              "        [0.03559523]],\n",
              "\n",
              "       [[0.04110461],\n",
              "        [0.03559523],\n",
              "        [0.03736499]],\n",
              "\n",
              "       ...,\n",
              "\n",
              "       [[0.71888154],\n",
              "        [0.72496299],\n",
              "        [0.73937896]],\n",
              "\n",
              "       [[0.72496299],\n",
              "        [0.73937896],\n",
              "        [0.75053351]],\n",
              "\n",
              "       [[0.73937896],\n",
              "        [0.75053351],\n",
              "        [0.74601968]]])>"
            ]
          },
          "metadata": {
            "tags": []
          },
          "execution_count": 13
        }
      ]
    },
    {
      "cell_type": "markdown",
      "metadata": {
        "id": "xwkC651JntHE",
        "colab_type": "text"
      },
      "source": [
        "# **Model**"
      ]
    },
    {
      "cell_type": "markdown",
      "metadata": {
        "id": "p6jHVBdVTt97",
        "colab_type": "text"
      },
      "source": [
        "**Set Hyperparameter**"
      ]
    },
    {
      "cell_type": "code",
      "metadata": {
        "id": "TSzPgFIuldKw",
        "colab_type": "code",
        "colab": {}
      },
      "source": [
        "optimizer = tf.keras.optimizers.Adam(0.0001)\n",
        "loss = 'mean_squared_error'\n",
        "activation = 'tanh'\n",
        "recurrent_activation= 'sigmoid'\n",
        "epochs = 8\n",
        "repeat = 2\n",
        "batch_size = 4\n",
        "verbose = 1\n",
        "units = 16\n",
        "dropout = 0.02\n",
        "recurrent_dropout = 0.02"
      ],
      "execution_count": 0,
      "outputs": []
    },
    {
      "cell_type": "markdown",
      "metadata": {
        "id": "gg0FzLLdNAAd",
        "colab_type": "text"
      },
      "source": [
        "**Create Model** "
      ]
    },
    {
      "cell_type": "code",
      "metadata": {
        "id": "CbEkfsQFLyL1",
        "colab_type": "code",
        "colab": {}
      },
      "source": [
        "# Deep Stacked LSTM with Memory Between Batches\n",
        "\n",
        "from tensorflow.keras import layers\n",
        "\n",
        "model = tf.keras.Sequential()\n",
        "model.add(layers.LSTM(units, \n",
        "               batch_input_shape=(batch_size, window, 1), \n",
        "               activation=activation,\n",
        "               recurrent_activation=recurrent_activation,\n",
        "               dropout=dropout,\n",
        "               recurrent_dropout=recurrent_dropout,\n",
        "               unroll=True,\n",
        "               stateful=True, \n",
        "               return_sequences=True))\n",
        "model.add(layers.LSTM(units, \n",
        "               batch_input_shape=(batch_size, window, 1), \n",
        "               activation=activation,\n",
        "               recurrent_activation=recurrent_activation,\n",
        "               dropout=dropout,\n",
        "               recurrent_dropout=recurrent_dropout,\n",
        "               unroll=True,\n",
        "               stateful=True, \n",
        "               return_sequences=True))\n",
        "model.add(layers.LSTM(units, \n",
        "               batch_input_shape=(batch_size, window, 1),\n",
        "               activation=activation,\n",
        "               recurrent_activation=recurrent_activation,\n",
        "               dropout=dropout,\n",
        "               recurrent_dropout=recurrent_dropout,\n",
        "               unroll=True,\n",
        "               stateful=True))\n",
        "model.add(layers.Dense(1))"
      ],
      "execution_count": 0,
      "outputs": []
    },
    {
      "cell_type": "markdown",
      "metadata": {
        "id": "1jRmIfcCNHow",
        "colab_type": "text"
      },
      "source": [
        "**Display Model Topology**"
      ]
    },
    {
      "cell_type": "code",
      "metadata": {
        "id": "MnkOOqDFNGqZ",
        "colab_type": "code",
        "outputId": "ee6de852-31ed-4123-ac3e-2c2a8f744b44",
        "colab": {
          "base_uri": "https://localhost:8080/",
          "height": 305
        }
      },
      "source": [
        "model.summary()"
      ],
      "execution_count": 17,
      "outputs": [
        {
          "output_type": "stream",
          "text": [
            "Model: \"sequential_1\"\n",
            "_________________________________________________________________\n",
            "Layer (type)                 Output Shape              Param #   \n",
            "=================================================================\n",
            "lstm (LSTM)                  (4, 3, 16)                1152      \n",
            "_________________________________________________________________\n",
            "lstm_1 (LSTM)                (4, 3, 16)                2112      \n",
            "_________________________________________________________________\n",
            "lstm_2 (LSTM)                (4, 16)                   2112      \n",
            "_________________________________________________________________\n",
            "dense (Dense)                (4, 1)                    17        \n",
            "=================================================================\n",
            "Total params: 5,393\n",
            "Trainable params: 5,393\n",
            "Non-trainable params: 0\n",
            "_________________________________________________________________\n"
          ],
          "name": "stdout"
        }
      ]
    },
    {
      "cell_type": "markdown",
      "metadata": {
        "id": "oSjEypxvNMNQ",
        "colab_type": "text"
      },
      "source": [
        "**Compile Model**"
      ]
    },
    {
      "cell_type": "code",
      "metadata": {
        "id": "PL-w1PCqNRuA",
        "colab_type": "code",
        "colab": {}
      },
      "source": [
        "model.compile(optimizer=optimizer, \n",
        "              loss=loss, \n",
        "              metrics=['accuracy'])"
      ],
      "execution_count": 0,
      "outputs": []
    },
    {
      "cell_type": "markdown",
      "metadata": {
        "id": "58djitUDnS78",
        "colab_type": "text"
      },
      "source": [
        "**Prepare Visualization**"
      ]
    },
    {
      "cell_type": "code",
      "metadata": {
        "id": "O43KR8JHF8r0",
        "colab_type": "code",
        "colab": {}
      },
      "source": [
        "# Plot Losses Keras TF (simple)\n",
        "!pip install livelossplot --quiet\n",
        "from livelossplot import PlotLossesKerasTF\n",
        "\n",
        "#  TensorBoard (advanced)\n",
        "%load_ext tensorboard\n",
        "!rm -rf ./logs/\n",
        "logdir = \"logs/\"\n",
        "tensorboard_callback = tf.keras.callbacks.TensorBoard(log_dir=logdir, histogram_freq=1)\n",
        "\n",
        "# Select visualization method\n",
        "callbacks = [PlotLossesKerasTF()] # [tensorboard_callback]"
      ],
      "execution_count": 0,
      "outputs": []
    },
    {
      "cell_type": "markdown",
      "metadata": {
        "id": "QgUuXw0VNXmi",
        "colab_type": "text"
      },
      "source": [
        "**Train Model**"
      ]
    },
    {
      "cell_type": "code",
      "metadata": {
        "id": "q6TozGj0NUVT",
        "colab_type": "code",
        "outputId": "1fdb0621-58d1-4a8c-8c7a-46bb7508d033",
        "colab": {
          "base_uri": "https://localhost:8080/",
          "height": 401
        }
      },
      "source": [
        "for i in range(repeat):\n",
        "\tmodel.fit(trainX, trainY, \n",
        "\t          epochs=epochs, \n",
        "\t\t\t\t\t  batch_size=batch_size, \n",
        "\t\t\t\t\t\tverbose=verbose, \n",
        "\t\t\t\t\t\tshuffle=False, \n",
        "            callbacks=callbacks)\n",
        "\tmodel.reset_states()"
      ],
      "execution_count": 22,
      "outputs": [
        {
          "output_type": "display_data",
          "data": {
            "image/png": "[encoded data removed]",
            "text/plain": [
              "<Figure size 864x576 with 2 Axes>"
            ]
          },
          "metadata": {
            "tags": []
          }
        },
        {
          "output_type": "stream",
          "text": [
            "accuracy\n",
            "\taccuracy         \t (min:    0.000, max:    0.000, cur:    0.000)\n",
            "Loss\n",
            "\tloss             \t (min:    0.001, max:    0.008, cur:    0.002)\n",
            "\b\b\b\b\b\b\b\b\b\b\b\b\b\b\b\b\b\b\b\b\b\b\b\b\b\b\b\b\b\b\b\b\b\b\b\b\b\b\b\b\b\b\b\b\b\b\b\b\b\b\b\b\b\b\b\b\b\b\b\b\b\b\b\b\b\b\b\b\b\b\b\b\b\b\b\b\b\b\b\b\b\b\b\b\b\b\b\b\r502/502 [==============================] - 2s 5ms/step - loss: 0.0019 - accuracy: 4.9801e-04\n"
          ],
          "name": "stdout"
        }
      ]
    },
    {
      "cell_type": "markdown",
      "metadata": {
        "id": "ELv-0ACQnrIk",
        "colab_type": "text"
      },
      "source": [
        "**Results in TensorBoard**"
      ]
    },
    {
      "cell_type": "code",
      "metadata": {
        "id": "NeeWBFEknuFz",
        "colab_type": "code",
        "colab": {}
      },
      "source": [
        "# %tensorboard --logdir logs/"
      ],
      "execution_count": 0,
      "outputs": []
    },
    {
      "cell_type": "markdown",
      "metadata": {
        "id": "CdrfxNEDGWjB",
        "colab_type": "text"
      },
      "source": [
        "**Simpler LSTM model (alternative)**"
      ]
    },
    {
      "cell_type": "code",
      "metadata": {
        "id": "EYf0ojo8nTnN",
        "colab_type": "code",
        "colab": {}
      },
      "source": [
        "# Second (simpler) Model\n",
        "# Use past observations as input features (=3) and only one time step\n",
        "\n",
        "# Reshape Data Format for LSTM\n",
        "# trainX = np.reshape(trainX, (trainX.shape[0], 1, trainX.shape[1]))\n",
        "# testX = np.reshape(testX, (testX.shape[0], 1, testX.shape[1]))\n",
        "\n",
        "# Model create and train\n",
        "# model = Sequential()\n",
        "# model.add(LSTM(4, input_shape=(1, window)))\n",
        "# model.add(Dense(1))\n",
        "# model.compile(loss='mean_squared_error', optimizer='adam')\n",
        "# model.fit(trainX, trainY, epochs=5, batch_size=1, verbose=2)"
      ],
      "execution_count": 0,
      "outputs": []
    },
    {
      "cell_type": "markdown",
      "metadata": {
        "id": "IXJvUtNEMdmS",
        "colab_type": "text"
      },
      "source": [
        "# **Predictions**"
      ]
    },
    {
      "cell_type": "markdown",
      "metadata": {
        "id": "1BTTit0UM0NV",
        "colab_type": "text"
      },
      "source": [
        "**Make Predictions**"
      ]
    },
    {
      "cell_type": "code",
      "metadata": {
        "id": "kX90RY_7MsXa",
        "colab_type": "code",
        "colab": {}
      },
      "source": [
        "trainPredict = model.predict(trainX, batch_size=batch_size)\n",
        "model.reset_states()\n",
        "testPredict = model.predict(testX, batch_size=batch_size)"
      ],
      "execution_count": 0,
      "outputs": []
    },
    {
      "cell_type": "markdown",
      "metadata": {
        "id": "sAhg9NvjO9zF",
        "colab_type": "text"
      },
      "source": [
        "**Invert predictions**"
      ]
    },
    {
      "cell_type": "code",
      "metadata": {
        "id": "xAlRdk9oPBl_",
        "colab_type": "code",
        "colab": {}
      },
      "source": [
        "trainPredict = scaler.inverse_transform(trainPredict)\n",
        "trainY = scaler.inverse_transform([trainY])\n",
        "testPredict = scaler.inverse_transform(testPredict)\n",
        "testY = scaler.inverse_transform([testY])"
      ],
      "execution_count": 0,
      "outputs": []
    },
    {
      "cell_type": "markdown",
      "metadata": {
        "id": "nKyVB52gMyKg",
        "colab_type": "text"
      },
      "source": [
        "**Calculate RMSE**"
      ]
    },
    {
      "cell_type": "code",
      "metadata": {
        "id": "GG9MrQ89MvCR",
        "colab_type": "code",
        "outputId": "173f7efe-4181-4064-8391-04e80f8eae5c",
        "colab": {
          "base_uri": "https://localhost:8080/",
          "height": 53
        }
      },
      "source": [
        "import math\n",
        "from sklearn.metrics import mean_squared_error\n",
        "\n",
        "trainScore = math.sqrt(mean_squared_error(trainY[0], trainPredict[:,0]))\n",
        "print('Train Score: %.2f RMSE' % (trainScore))\n",
        "testScore = math.sqrt(mean_squared_error(testY[0], testPredict[:,0]))\n",
        "print('Test Score: %.2f RMSE' % (testScore))"
      ],
      "execution_count": 27,
      "outputs": [
        {
          "output_type": "stream",
          "text": [
            "Train Score: 97.60 RMSE\n",
            "Test Score: 100.06 RMSE\n"
          ],
          "name": "stdout"
        }
      ]
    },
    {
      "cell_type": "markdown",
      "metadata": {
        "id": "dS0R7qCiM5TU",
        "colab_type": "text"
      },
      "source": [
        "**Plot results**"
      ]
    },
    {
      "cell_type": "code",
      "metadata": {
        "id": "E44nHJyiL9a7",
        "colab_type": "code",
        "outputId": "c34cfd9a-cc89-4f46-f1df-e36c63e2d935",
        "colab": {
          "base_uri": "https://localhost:8080/",
          "height": 322
        }
      },
      "source": [
        "# shift train predictions for plotting\n",
        "trainPredictPlot = np.empty_like(dataset)\n",
        "trainPredictPlot[:, :] = np.nan\n",
        "trainPredictPlot[window:len(trainPredict)+window, :] = trainPredict\n",
        "\n",
        "# shift test predictions for plotting\n",
        "testPredictPlot = np.empty_like(dataset)\n",
        "testPredictPlot[:, :] = np.nan\n",
        "testPredictPlot[len(trainPredict)+(window*2)+1:len(dataset)-1, :] = testPredict\n",
        "\n",
        "# plot baseline and predictions\n",
        "sns.set(rc={'figure.figsize':(11, 5)})\n",
        "plt.plot(scaler.inverse_transform(dataset))\n",
        "plt.plot(trainPredictPlot)\n",
        "plt.plot(testPredictPlot)\n",
        "plt.show()"
      ],
      "execution_count": 28,
      "outputs": [
        {
          "output_type": "display_data",
          "data": {
            "image/png": "[encoded data removed]",
            "text/plain": [
              "<Figure size 792x360 with 1 Axes>"
            ]
          },
          "metadata": {
            "tags": []
          }
        }
      ]
    },
    {
      "cell_type": "markdown",
      "metadata": {
        "id": "PEJEZOOHR-wK",
        "colab_type": "text"
      },
      "source": [
        "# **Residuals**"
      ]
    },
    {
      "cell_type": "markdown",
      "metadata": {
        "id": "9Kk9ij5x7CyR",
        "colab_type": "text"
      },
      "source": [
        "Residuals are useful in checking whether a model has adequately captured the information in the data. Residuals analysis is very important for reviewing and finetuning classic time series models, but becomes increasingly relevant also for more advanced machine learning models. \n",
        "\n",
        "Ideally, the residuals are only whote noise processes with no more information left. In a good model the residuals are stationary, which can be broken down into following requirements:\n",
        "\n",
        "**Essential (necessary) properties:**\n",
        "\n",
        "1. The residuals are uncorrelated. If there are correlations between residuals, then there is information left in the residuals which should be used in computing forecasts.\n",
        "2. The residuals have zero mean. If the residuals have a mean other than zero, then the forecasts are biased.\n",
        "\n",
        "**Additional useful (but not necessary) properties:**\n",
        "\n",
        "3. The residuals have constant variance.\n",
        "4. The residuals are normally distributed.\n"
      ]
    },
    {
      "cell_type": "markdown",
      "metadata": {
        "id": "bgjqKPTrMoOW",
        "colab_type": "text"
      },
      "source": [
        "**Get residuals**"
      ]
    },
    {
      "cell_type": "code",
      "metadata": {
        "id": "S-m_XngDMonk",
        "colab_type": "code",
        "outputId": "bec73cb4-c794-4d19-936c-efad843585ff",
        "colab": {
          "base_uri": "https://localhost:8080/",
          "height": 204
        }
      },
      "source": [
        "residuals = (testY[0] - testPredict[:,0])\n",
        "res = pd.DataFrame(data=residuals, columns=['residuals'])\n",
        "res.head()"
      ],
      "execution_count": 29,
      "outputs": [
        {
          "output_type": "execute_result",
          "data": {
            "text/html": [
              "<div>\n",
              "<style scoped>\n",
              "    .dataframe tbody tr th:only-of-type {\n",
              "        vertical-align: middle;\n",
              "    }\n",
              "\n",
              "    .dataframe tbody tr th {\n",
              "        vertical-align: top;\n",
              "    }\n",
              "\n",
              "    .dataframe thead th {\n",
              "        text-align: right;\n",
              "    }\n",
              "</style>\n",
              "<table border=\"1\" class=\"dataframe\">\n",
              "  <thead>\n",
              "    <tr style=\"text-align: right;\">\n",
              "      <th></th>\n",
              "      <th>residuals</th>\n",
              "    </tr>\n",
              "  </thead>\n",
              "  <tbody>\n",
              "    <tr>\n",
              "      <th>0</th>\n",
              "      <td>746.998627</td>\n",
              "    </tr>\n",
              "    <tr>\n",
              "      <th>1</th>\n",
              "      <td>691.858551</td>\n",
              "    </tr>\n",
              "    <tr>\n",
              "      <th>2</th>\n",
              "      <td>636.796082</td>\n",
              "    </tr>\n",
              "    <tr>\n",
              "      <th>3</th>\n",
              "      <td>666.284180</td>\n",
              "    </tr>\n",
              "    <tr>\n",
              "      <th>4</th>\n",
              "      <td>316.480652</td>\n",
              "    </tr>\n",
              "  </tbody>\n",
              "</table>\n",
              "</div>"
            ],
            "text/plain": [
              "    residuals\n",
              "0  746.998627\n",
              "1  691.858551\n",
              "2  636.796082\n",
              "3  666.284180\n",
              "4  316.480652"
            ]
          },
          "metadata": {
            "tags": []
          },
          "execution_count": 29
        }
      ]
    },
    {
      "cell_type": "code",
      "metadata": {
        "id": "eg0kWBM2lwL5",
        "colab_type": "code",
        "outputId": "f86e7def-beec-405f-e739-5bf26e38c5b3",
        "colab": {
          "base_uri": "https://localhost:8080/",
          "height": 297
        }
      },
      "source": [
        "# Visualize Series\n",
        "sns.set(rc={'figure.figsize':(13, 4), \"lines.linewidth\": 1.0})\n",
        "res.plot(title='Residuals')"
      ],
      "execution_count": 30,
      "outputs": [
        {
          "output_type": "execute_result",
          "data": {
            "text/plain": [
              "<matplotlib.axes._subplots.AxesSubplot at 0x7f613dbd3c50>"
            ]
          },
          "metadata": {
            "tags": []
          },
          "execution_count": 30
        },
        {
          "output_type": "display_data",
          "data": {
            "image/png": "[encoded data removed]",
            "text/plain": [
              "<Figure size 936x288 with 1 Axes>"
            ]
          },
          "metadata": {
            "tags": []
          }
        }
      ]
    },
    {
      "cell_type": "markdown",
      "metadata": {
        "id": "W-x-xhq5n4u3",
        "colab_type": "text"
      },
      "source": [
        "Most of thre time it looks mean-reverting, which is desirable. Just at the end it seems to have a trend upwards, which means there is still information left in the residuals. "
      ]
    },
    {
      "cell_type": "code",
      "metadata": {
        "id": "sIzqApBZQDIl",
        "colab_type": "code",
        "outputId": "f310f301-5427-44ed-f5e4-e20e99dd41c5",
        "colab": {
          "base_uri": "https://localhost:8080/",
          "height": 297
        }
      },
      "source": [
        "res.describe()"
      ],
      "execution_count": 31,
      "outputs": [
        {
          "output_type": "execute_result",
          "data": {
            "text/html": [
              "<div>\n",
              "<style scoped>\n",
              "    .dataframe tbody tr th:only-of-type {\n",
              "        vertical-align: middle;\n",
              "    }\n",
              "\n",
              "    .dataframe tbody tr th {\n",
              "        vertical-align: top;\n",
              "    }\n",
              "\n",
              "    .dataframe thead th {\n",
              "        text-align: right;\n",
              "    }\n",
              "</style>\n",
              "<table border=\"1\" class=\"dataframe\">\n",
              "  <thead>\n",
              "    <tr style=\"text-align: right;\">\n",
              "      <th></th>\n",
              "      <th>residuals</th>\n",
              "    </tr>\n",
              "  </thead>\n",
              "  <tbody>\n",
              "    <tr>\n",
              "      <th>count</th>\n",
              "      <td>500.000000</td>\n",
              "    </tr>\n",
              "    <tr>\n",
              "      <th>mean</th>\n",
              "      <td>49.326931</td>\n",
              "    </tr>\n",
              "    <tr>\n",
              "      <th>std</th>\n",
              "      <td>87.148387</td>\n",
              "    </tr>\n",
              "    <tr>\n",
              "      <th>min</th>\n",
              "      <td>-117.079773</td>\n",
              "    </tr>\n",
              "    <tr>\n",
              "      <th>25%</th>\n",
              "      <td>2.386963</td>\n",
              "    </tr>\n",
              "    <tr>\n",
              "      <th>50%</th>\n",
              "      <td>37.559753</td>\n",
              "    </tr>\n",
              "    <tr>\n",
              "      <th>75%</th>\n",
              "      <td>78.505036</td>\n",
              "    </tr>\n",
              "    <tr>\n",
              "      <th>max</th>\n",
              "      <td>746.998627</td>\n",
              "    </tr>\n",
              "  </tbody>\n",
              "</table>\n",
              "</div>"
            ],
            "text/plain": [
              "        residuals\n",
              "count  500.000000\n",
              "mean    49.326931\n",
              "std     87.148387\n",
              "min   -117.079773\n",
              "25%      2.386963\n",
              "50%     37.559753\n",
              "75%     78.505036\n",
              "max    746.998627"
            ]
          },
          "metadata": {
            "tags": []
          },
          "execution_count": 31
        }
      ]
    },
    {
      "cell_type": "markdown",
      "metadata": {
        "id": "S2L3uVgQ9v1Q",
        "colab_type": "text"
      },
      "source": [
        "**Are residuals autocorrelated?**"
      ]
    },
    {
      "cell_type": "code",
      "metadata": {
        "id": "YCZ6nRzb-ypX",
        "colab_type": "code",
        "outputId": "0da30baf-cfa6-46cf-db03-e6b6374bb7cb",
        "colab": {
          "base_uri": "https://localhost:8080/",
          "height": 35
        }
      },
      "source": [
        "# Durban-Watson Statistic. Value 2: no serial correlation. 0: positive correlation. 4: negative correlation\n",
        "import statsmodels\n",
        "statsmodels.stats.stattools.durbin_watson(res.residuals, axis=0)"
      ],
      "execution_count": 33,
      "outputs": [
        {
          "output_type": "execute_result",
          "data": {
            "text/plain": [
              "0.07815821905825777"
            ]
          },
          "metadata": {
            "tags": []
          },
          "execution_count": 33
        }
      ]
    },
    {
      "cell_type": "markdown",
      "metadata": {
        "id": "whaVHRbnoJA2",
        "colab_type": "text"
      },
      "source": [
        "Positive autocorrelation still existent."
      ]
    },
    {
      "cell_type": "code",
      "metadata": {
        "id": "erbKVsM191z0",
        "colab_type": "code",
        "outputId": "accbf05c-e78e-4ba0-a495-2e8500d21a66",
        "colab": {
          "base_uri": "https://localhost:8080/",
          "height": 277
        }
      },
      "source": [
        "from statsmodels.graphics.tsaplots import plot_acf\n",
        "sns.set(rc={'figure.figsize':(13, 4)})\n",
        "sm.graphics.tsa.plot_acf(res.residuals.squeeze(), lags=15)\n",
        "plt.title('Residuals - Autocorrelation')\n",
        "plt.show()"
      ],
      "execution_count": 37,
      "outputs": [
        {
          "output_type": "display_data",
          "data": {
            "image/png": "[encoded data removed]",
            "text/plain": [
              "<Figure size 936x288 with 1 Axes>"
            ]
          },
          "metadata": {
            "tags": []
          }
        }
      ]
    },
    {
      "cell_type": "code",
      "metadata": {
        "id": "EPwOuW56-BwM",
        "colab_type": "code",
        "outputId": "5c380160-3988-42f5-92dd-e087b58d76d1",
        "colab": {
          "base_uri": "https://localhost:8080/",
          "height": 280
        }
      },
      "source": [
        "from statsmodels.graphics.tsaplots import plot_pacf\n",
        "plot_pacf(res.residuals)\n",
        "plt.title('Residuals - Partial Autocorrelation Lag Plot')\n",
        "plt.show()"
      ],
      "execution_count": 36,
      "outputs": [
        {
          "output_type": "display_data",
          "data": {
            "image/png": "[encoded data removed]",
            "text/plain": [
              "<Figure size 936x288 with 1 Axes>"
            ]
          },
          "metadata": {
            "tags": []
          }
        }
      ]
    },
    {
      "cell_type": "code",
      "metadata": {
        "id": "u5OFevuO-Qyq",
        "colab_type": "code",
        "outputId": "18367f9a-4fd6-4870-8638-a6c204c56cc9",
        "colab": {
          "base_uri": "https://localhost:8080/",
          "height": 325
        }
      },
      "source": [
        "from pandas.plotting import lag_plot\n",
        "lag_plot(res.residuals)\n",
        "plt.title('Residuals - Autocorrelation Lag Plot')\n",
        "plt.show()"
      ],
      "execution_count": 35,
      "outputs": [
        {
          "output_type": "stream",
          "text": [
            "'c' argument looks like a single numeric RGB or RGBA sequence, which should be avoided as value-mapping will have precedence in case its length matches with 'x' & 'y'.  Please use a 2-D array with a single row if you really want to specify the same RGB or RGBA value for all points.\n"
          ],
          "name": "stderr"
        },
        {
          "output_type": "display_data",
          "data": {
            "image/png": "[encoded data removed]",
            "text/plain": [
              "<Figure size 936x288 with 1 Axes>"
            ]
          },
          "metadata": {
            "tags": []
          }
        }
      ]
    },
    {
      "cell_type": "markdown",
      "metadata": {
        "id": "ecH5HdMT-eCC",
        "colab_type": "text"
      },
      "source": [
        "Yes, there is a strong autocorrelation still at lag 1. "
      ]
    },
    {
      "cell_type": "markdown",
      "metadata": {
        "id": "AQb0DyVM8XQ6",
        "colab_type": "text"
      },
      "source": [
        "**Is the mean zero?**"
      ]
    },
    {
      "cell_type": "code",
      "metadata": {
        "id": "rafFHdEO73U2",
        "colab_type": "code",
        "outputId": "53240b38-2ab1-468f-e847-1768c0822f86",
        "colab": {
          "base_uri": "https://localhost:8080/",
          "height": 35
        }
      },
      "source": [
        "# Mean (must be nearly zero)\n",
        "res.residuals.mean()"
      ],
      "execution_count": 38,
      "outputs": [
        {
          "output_type": "execute_result",
          "data": {
            "text/plain": [
              "49.326930552687564"
            ]
          },
          "metadata": {
            "tags": []
          },
          "execution_count": 38
        }
      ]
    },
    {
      "cell_type": "code",
      "metadata": {
        "id": "1PiBoI-Z8uMM",
        "colab_type": "code",
        "outputId": "16faa6cf-ae28-4f0f-b742-54ef731cb834",
        "colab": {
          "base_uri": "https://localhost:8080/",
          "height": 319
        }
      },
      "source": [
        "sns.boxplot(res.residuals).set_title('Residuals - Boxplot')"
      ],
      "execution_count": 39,
      "outputs": [
        {
          "output_type": "execute_result",
          "data": {
            "text/plain": [
              "Text(0.5, 1.0, 'Residuals - Boxplot')"
            ]
          },
          "metadata": {
            "tags": []
          },
          "execution_count": 39
        },
        {
          "output_type": "display_data",
          "data": {
            "image/png": "[encoded data removed]",
            "text/plain": [
              "<Figure size 936x288 with 1 Axes>"
            ]
          },
          "metadata": {
            "tags": []
          }
        }
      ]
    },
    {
      "cell_type": "markdown",
      "metadata": {
        "id": "qvP-Z5sH8yiT",
        "colab_type": "text"
      },
      "source": [
        "No, residuals don't have the mean at zero."
      ]
    },
    {
      "cell_type": "markdown",
      "metadata": {
        "id": "7_7_grDT8azy",
        "colab_type": "text"
      },
      "source": [
        "**Are residuals normally distributed?**"
      ]
    },
    {
      "cell_type": "code",
      "metadata": {
        "id": "2HfqaSJx7753",
        "colab_type": "code",
        "outputId": "425a37cd-9500-4c66-e704-731c0fb634a8",
        "colab": {
          "base_uri": "https://localhost:8080/",
          "height": 35
        }
      },
      "source": [
        "# Distribution (H0: sample normal distributed)\n",
        "from scipy import stats\n",
        "scipy.stats.normaltest(res.residuals)"
      ],
      "execution_count": 46,
      "outputs": [
        {
          "output_type": "execute_result",
          "data": {
            "text/plain": [
              "NormaltestResult(statistic=416.1504827646835, pvalue=4.305968485251572e-91)"
            ]
          },
          "metadata": {
            "tags": []
          },
          "execution_count": 46
        }
      ]
    },
    {
      "cell_type": "code",
      "metadata": {
        "id": "znGsbpmF8i4a",
        "colab_type": "code",
        "outputId": "5023aaf2-4b50-428c-bfb6-f174c9132f21",
        "colab": {
          "base_uri": "https://localhost:8080/",
          "height": 292
        }
      },
      "source": [
        "sns.set(rc={'figure.figsize':(13, 4)})\n",
        "sns.distplot((res.residuals), hist=True, rug=True).set_title('Residuals - Distribution Plot (incl. KDE & Rug Plot)')\n",
        "plt.show()"
      ],
      "execution_count": 42,
      "outputs": [
        {
          "output_type": "display_data",
          "data": {
            "image/png": "[encoded data removed]",
            "text/plain": [
              "<Figure size 936x288 with 1 Axes>"
            ]
          },
          "metadata": {
            "tags": []
          }
        }
      ]
    },
    {
      "cell_type": "code",
      "metadata": {
        "id": "P4df2IH-88rj",
        "colab_type": "code",
        "outputId": "94af9acf-d82f-4e48-b100-5474cff0a5a0",
        "colab": {
          "base_uri": "https://localhost:8080/",
          "height": 287
        }
      },
      "source": [
        "from scipy import stats\n",
        "stats.probplot(res.residuals, dist=\"norm\", plot=plt)\n",
        "plt.title('Residuals - QQ Plot - Normal Distribution')\n",
        "plt.show()"
      ],
      "execution_count": 45,
      "outputs": [
        {
          "output_type": "display_data",
          "data": {
            "image/png": "[encoded data removed]",
            "text/plain": [
              "<Figure size 936x288 with 1 Axes>"
            ]
          },
          "metadata": {
            "tags": []
          }
        }
      ]
    },
    {
      "cell_type": "markdown",
      "metadata": {
        "id": "4YfuWd9h83m1",
        "colab_type": "text"
      },
      "source": [
        "No, residuals are not normally distributed. Though it seems very well normally distributed without the positive outliers."
      ]
    },
    {
      "cell_type": "markdown",
      "metadata": {
        "id": "5nk2DNP8_j-9",
        "colab_type": "text"
      },
      "source": [
        "**Is the variance constant? (Stationarity)**"
      ]
    },
    {
      "cell_type": "code",
      "metadata": {
        "id": "sFjHS2H5_pWs",
        "colab_type": "code",
        "outputId": "fb744195-5a9e-436a-f7d1-823a9a068a61",
        "colab": {
          "base_uri": "https://localhost:8080/",
          "height": 161
        }
      },
      "source": [
        "# Augmented Dickey Fuller. H0: There is a unit root for the series (non stationary)\n",
        "from statsmodels.tsa.stattools import adfuller\n",
        "statsmodels.tsa.stattools.adfuller(res.residuals, maxlag=None, regression='ctt', autolag='AIC', store=False, regresults=False)"
      ],
      "execution_count": 43,
      "outputs": [
        {
          "output_type": "execute_result",
          "data": {
            "text/plain": [
              "(-9.549318094260897,\n",
              " 5.466458141129881e-14,\n",
              " 0,\n",
              " 499,\n",
              " {'1%': -4.394499384993899,\n",
              "  '10%': -3.56061563621329,\n",
              "  '5%': -3.844276182553822},\n",
              " 4164.90635005074)"
            ]
          },
          "metadata": {
            "tags": []
          },
          "execution_count": 43
        }
      ]
    },
    {
      "cell_type": "markdown",
      "metadata": {
        "id": "c1V7Pya1_z_I",
        "colab_type": "text"
      },
      "source": [
        "P-value is < 0.05. reject H0. Series seems mostly stationary."
      ]
    }
  ]
}