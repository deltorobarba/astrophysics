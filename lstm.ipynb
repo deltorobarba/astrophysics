{
  "nbformat": 4,
  "nbformat_minor": 5,
  "metadata": {
    "environment": {
      "name": "tf2-gpu.2-3.m65",
      "type": "gcloud",
      "uri": "gcr.io/deeplearning-platform-release/tf2-gpu.2-3:m65"
    },
    "kernelspec": {
      "display_name": "Python 3",
      "language": "python",
      "name": "python3"
    },
    "language_info": {
      "codemirror_mode": {
        "name": "ipython",
        "version": 3
      },
      "file_extension": ".py",
      "mimetype": "text/x-python",
      "name": "python",
      "nbconvert_exporter": "python",
      "pygments_lexer": "ipython3",
      "version": "3.7.10"
    },
    "colab": {
      "name": "lstm.ipynb",
      "provenance": [],
      "collapsed_sections": [],
      "include_colab_link": true
    }
  },
  "cells": [
    {
      "cell_type": "markdown",
      "metadata": {
        "id": "view-in-github",
        "colab_type": "text"
      },
      "source": [
        "<a href=\"https://colab.research.google.com/github/deltorobarba/machinelearning/blob/master/lstm.ipynb\" target=\"_parent\"><img src=\"https://colab.research.google.com/assets/colab-badge.svg\" alt=\"Open In Colab\"/></a>"
      ]
    },
    {
      "cell_type": "markdown",
      "metadata": {
        "id": "first-twist"
      },
      "source": [
        "# **LSTM Time Series Forecasting**"
      ],
      "id": "first-twist"
    },
    {
      "cell_type": "code",
      "metadata": {
        "colab": {
          "base_uri": "https://localhost:8080/"
        },
        "id": "cardiac-conversion",
        "outputId": "92c10e65-d84f-42dc-b205-42c818eb37fa"
      },
      "source": [
        "import numpy as np\n",
        "import pandas as pd\n",
        "import seaborn as sns\n",
        "import matplotlib.pyplot as plt\n",
        "from sklearn.preprocessing import MinMaxScaler\n",
        "import math\n",
        "from sklearn.metrics import mean_squared_error\n",
        "import tensorflow as tf\n",
        "\n",
        "from tensorflow import keras\n",
        "from tensorflow.keras import layers\n",
        "from keras.models import Sequential\n",
        "from keras.layers import LSTM, Dense\n",
        "\n",
        "print('Tensorflow version %s' % tf.__version__)\n",
        "\n",
        "!pip install --quiet ipython-autotime pandas_gbq\n",
        "%load_ext autotime"
      ],
      "id": "cardiac-conversion",
      "execution_count": 260,
      "outputs": [
        {
          "output_type": "stream",
          "text": [
            "Tensorflow version 2.4.1\n",
            "The autotime extension is already loaded. To reload it, use:\n",
            "  %reload_ext autotime\n",
            "time: 3.06 s (started: 2021-05-13 06:46:48 +00:00)\n"
          ],
          "name": "stdout"
        }
      ]
    },
    {
      "cell_type": "markdown",
      "metadata": {
        "id": "superb-abraham"
      },
      "source": [
        "## **Load Data**"
      ],
      "id": "superb-abraham"
    },
    {
      "cell_type": "code",
      "metadata": {
        "colab": {
          "base_uri": "https://localhost:8080/"
        },
        "id": "QF1j1iRkNPqO",
        "outputId": "ee8cec6e-d851-4bea-b426-e2a3d7860f03"
      },
      "source": [
        "url = 'https://raw.githubusercontent.com/deltorobarba/repo/master/google.csv'\n",
        "data = pd.read_csv(url)\n",
        "series = data[['Date', 'Close']].rename(columns={\"Date\": \"date\", \"Close\": \"values\"}).set_index('date')\n",
        "series.index = pd.to_datetime(series.index, utc=False)\n",
        "series.head()\n",
        "dataset = series.copy()"
      ],
      "id": "QF1j1iRkNPqO",
      "execution_count": 261,
      "outputs": [
        {
          "output_type": "stream",
          "text": [
            "time: 128 ms (started: 2021-05-13 06:46:51 +00:00)\n"
          ],
          "name": "stdout"
        }
      ]
    },
    {
      "cell_type": "code",
      "metadata": {
        "colab": {
          "base_uri": "https://localhost:8080/"
        },
        "id": "ideuB7R3E9sS",
        "outputId": "b19536cb-537f-4919-bbca-f4615e508e7e"
      },
      "source": [
        "# url = 'https://raw.githubusercontent.com/deltorobarba/repo/master/sh_unmelt_bq_raw.csv'\n",
        "# sh_unmelt_bq_raw = pd.read_csv(url)\n",
        "# sh_unmelt_bq_raw = sh_unmelt_bq_raw.sort_values('datum')\n",
        "# sh_unmelt_bq_raw.head()"
      ],
      "id": "ideuB7R3E9sS",
      "execution_count": 262,
      "outputs": [
        {
          "output_type": "stream",
          "text": [
            "time: 1.55 ms (started: 2021-05-13 06:46:51 +00:00)\n"
          ],
          "name": "stdout"
        }
      ]
    },
    {
      "cell_type": "code",
      "metadata": {
        "colab": {
          "base_uri": "https://localhost:8080/"
        },
        "id": "nuclear-ministry",
        "outputId": "843d3d06-63d9-4327-f3d3-20ba1db2279a"
      },
      "source": [
        "# dataset = sh_unmelt_bq_raw.copy()\n",
        "# dataset = dataset.drop(columns=['Bergbau', 'Dienstleistungen', 'Energieversorgung','Erziehung', 'Finanzleistungen', 'Gastgewerbe','IT', 'Manufaktur', 'Sonstiges','Sozialwesen', 'Verkehr', 'Wohnungswesen'])\n",
        "# dataset"
      ],
      "id": "nuclear-ministry",
      "execution_count": 263,
      "outputs": [
        {
          "output_type": "stream",
          "text": [
            "time: 1.66 ms (started: 2021-05-13 06:46:51 +00:00)\n"
          ],
          "name": "stdout"
        }
      ]
    },
    {
      "cell_type": "code",
      "metadata": {
        "colab": {
          "base_uri": "https://localhost:8080/"
        },
        "id": "afnF2GWcId7v",
        "outputId": "00bfa173-bbd8-4343-d005-60cd4114e475"
      },
      "source": [
        "# dataset = dataset.set_index('datum')\n",
        "# dataset.index = pd.to_datetime(dataset.index, utc=False)\n",
        "# dataset"
      ],
      "id": "afnF2GWcId7v",
      "execution_count": 264,
      "outputs": [
        {
          "output_type": "stream",
          "text": [
            "time: 1.58 ms (started: 2021-05-13 06:46:51 +00:00)\n"
          ],
          "name": "stdout"
        }
      ]
    },
    {
      "cell_type": "markdown",
      "metadata": {
        "id": "german-hometown"
      },
      "source": [
        "#### **Set input data**"
      ],
      "id": "german-hometown"
    },
    {
      "cell_type": "code",
      "metadata": {
        "colab": {
          "base_uri": "https://localhost:8080/"
        },
        "id": "willing-yahoo",
        "outputId": "d89d3749-d596-4fec-9d2d-15683697a9e0"
      },
      "source": [
        "# Set data\n",
        "data = dataset.copy()\n",
        "\n",
        "# Set seed for reproducibility\n",
        "tf.random.set_seed(7)"
      ],
      "id": "willing-yahoo",
      "execution_count": 265,
      "outputs": [
        {
          "output_type": "stream",
          "text": [
            "time: 20.3 ms (started: 2021-05-13 06:46:51 +00:00)\n"
          ],
          "name": "stdout"
        }
      ]
    },
    {
      "cell_type": "markdown",
      "metadata": {
        "id": "marked-hormone"
      },
      "source": [
        "#### **Normalize input data**"
      ],
      "id": "marked-hormone"
    },
    {
      "cell_type": "code",
      "metadata": {
        "colab": {
          "base_uri": "https://localhost:8080/"
        },
        "id": "attempted-arnold",
        "outputId": "6d06cb51-8f4e-4bc4-feb7-d31bf5d71ba7"
      },
      "source": [
        "scaler = MinMaxScaler(feature_range=(0,1))\n",
        "data = scaler.fit_transform(data)"
      ],
      "id": "attempted-arnold",
      "execution_count": 266,
      "outputs": [
        {
          "output_type": "stream",
          "text": [
            "time: 5.42 ms (started: 2021-05-13 06:46:51 +00:00)\n"
          ],
          "name": "stdout"
        }
      ]
    },
    {
      "cell_type": "code",
      "metadata": {
        "id": "excellent-blowing",
        "colab": {
          "base_uri": "https://localhost:8080/"
        },
        "outputId": "9f9bfb01-130d-4e12-c5b5-737ad1bee326"
      },
      "source": [
        "print(dataset.shape)\n",
        "# print(dataset.dtype)"
      ],
      "id": "excellent-blowing",
      "execution_count": 267,
      "outputs": [
        {
          "output_type": "stream",
          "text": [
            "(2516, 1)\n",
            "time: 2.4 ms (started: 2021-05-13 06:46:51 +00:00)\n"
          ],
          "name": "stdout"
        }
      ]
    },
    {
      "cell_type": "code",
      "metadata": {
        "id": "lesser-correlation",
        "colab": {
          "base_uri": "https://localhost:8080/"
        },
        "outputId": "857d7891-a3f1-4026-d847-5eba51b359fc"
      },
      "source": [
        "# Display dataset\n",
        "data [0:10] # Display first 10 values"
      ],
      "id": "lesser-correlation",
      "execution_count": 268,
      "outputs": [
        {
          "output_type": "execute_result",
          "data": {
            "text/plain": [
              "array([[0.03804384],\n",
              "       [0.03729827],\n",
              "       [0.04110461],\n",
              "       [0.03559523],\n",
              "       [0.03736499],\n",
              "       [0.03822044],\n",
              "       [0.03938589],\n",
              "       [0.03860499],\n",
              "       [0.0393702 ],\n",
              "       [0.0380831 ]])"
            ]
          },
          "metadata": {
            "tags": []
          },
          "execution_count": 268
        },
        {
          "output_type": "stream",
          "text": [
            "time: 5.59 ms (started: 2021-05-13 06:46:51 +00:00)\n"
          ],
          "name": "stdout"
        }
      ]
    },
    {
      "cell_type": "markdown",
      "metadata": {
        "id": "fantastic-occasions"
      },
      "source": [
        "#### **Train & Test Split**"
      ],
      "id": "fantastic-occasions"
    },
    {
      "cell_type": "code",
      "metadata": {
        "id": "romantic-particle",
        "colab": {
          "base_uri": "https://localhost:8080/"
        },
        "outputId": "686af35c-69da-478d-c59f-9c57ee4a5bd4"
      },
      "source": [
        "# Train & Test Split in % of complete dataset\n",
        "split = 0.8\n",
        "train_size = int(len(data) * split)\n",
        "test_size = len(dataset) - train_size\n",
        "train, test = data[0:train_size,:], data[train_size:len(dataset),:]"
      ],
      "id": "romantic-particle",
      "execution_count": 269,
      "outputs": [
        {
          "output_type": "stream",
          "text": [
            "time: 3.47 ms (started: 2021-05-13 06:46:51 +00:00)\n"
          ],
          "name": "stdout"
        }
      ]
    },
    {
      "cell_type": "code",
      "metadata": {
        "id": "numerical-walnut",
        "colab": {
          "base_uri": "https://localhost:8080/"
        },
        "outputId": "05ce243d-c149-4dca-b3f9-11fb90c38370"
      },
      "source": [
        "train [0:10] # Display first 10 values"
      ],
      "id": "numerical-walnut",
      "execution_count": 270,
      "outputs": [
        {
          "output_type": "execute_result",
          "data": {
            "text/plain": [
              "array([[0.03804384],\n",
              "       [0.03729827],\n",
              "       [0.04110461],\n",
              "       [0.03559523],\n",
              "       [0.03736499],\n",
              "       [0.03822044],\n",
              "       [0.03938589],\n",
              "       [0.03860499],\n",
              "       [0.0393702 ],\n",
              "       [0.0380831 ]])"
            ]
          },
          "metadata": {
            "tags": []
          },
          "execution_count": 270
        },
        {
          "output_type": "stream",
          "text": [
            "time: 4.96 ms (started: 2021-05-13 06:46:51 +00:00)\n"
          ],
          "name": "stdout"
        }
      ]
    },
    {
      "cell_type": "code",
      "metadata": {
        "id": "static-badge",
        "colab": {
          "base_uri": "https://localhost:8080/"
        },
        "outputId": "fea22c63-4a07-45ea-a264-373fe05e6e07"
      },
      "source": [
        "test [0:10] # Display first 10 values"
      ],
      "id": "static-badge",
      "execution_count": 271,
      "outputs": [
        {
          "output_type": "execute_result",
          "data": {
            "text/plain": [
              "array([[0.75495281],\n",
              "       [0.74558638],\n",
              "       [0.75050985],\n",
              "       [0.74874529],\n",
              "       [0.70478858],\n",
              "       [0.66059551],\n",
              "       [0.68013179],\n",
              "       [0.65490784],\n",
              "       [0.61783611],\n",
              "       [0.64640014]])"
            ]
          },
          "metadata": {
            "tags": []
          },
          "execution_count": 271
        },
        {
          "output_type": "stream",
          "text": [
            "time: 7.8 ms (started: 2021-05-13 06:46:51 +00:00)\n"
          ],
          "name": "stdout"
        }
      ]
    },
    {
      "cell_type": "markdown",
      "metadata": {
        "id": "applied-parallel"
      },
      "source": [
        "Now train & test data have been separated. \n",
        "\n",
        "We need to divide by feature input (X) and prediction variable (Y).\n",
        "\n",
        "For both train and test dataset"
      ],
      "id": "applied-parallel"
    },
    {
      "cell_type": "markdown",
      "metadata": {
        "id": "protected-criterion"
      },
      "source": [
        "#### **Window & Reshape**"
      ],
      "id": "protected-criterion"
    },
    {
      "cell_type": "code",
      "metadata": {
        "id": "compliant-robert",
        "colab": {
          "base_uri": "https://localhost:8080/"
        },
        "outputId": "d375e019-6eab-4bba-c293-21c5eb6b736c"
      },
      "source": [
        "window = 3 # Use (t), (t-1) and (t-2) as input variables X\n",
        "features = 1 # we have only one time series"
      ],
      "id": "compliant-robert",
      "execution_count": 272,
      "outputs": [
        {
          "output_type": "stream",
          "text": [
            "time: 2.83 ms (started: 2021-05-13 06:46:51 +00:00)\n"
          ],
          "name": "stdout"
        }
      ]
    },
    {
      "cell_type": "code",
      "metadata": {
        "id": "limited-airport",
        "colab": {
          "base_uri": "https://localhost:8080/"
        },
        "outputId": "8c9adbf7-bf01-47a9-b84e-7a6be99bb5d7"
      },
      "source": [
        "# Convert an array of values into a dataset matrix\n",
        "def create_dataset(data, window=window):\n",
        "    dataX, dataY = [], []\n",
        "    for i in range(len(data)-window-1):\n",
        "        a = data[i:(i+window), 0]\n",
        "        dataX.append(a)\n",
        "        dataY.append(data[i + window, 0])\n",
        "    return np.array(dataX), np.array(dataY)\n",
        "\n",
        "# X is input data = value (at t, and t-1, t-2, depending on window size)\n",
        "# Y is target data = value at t+1\n",
        "# Each is additionally divided into train and test set"
      ],
      "id": "limited-airport",
      "execution_count": 273,
      "outputs": [
        {
          "output_type": "stream",
          "text": [
            "time: 12.2 ms (started: 2021-05-13 06:46:51 +00:00)\n"
          ],
          "name": "stdout"
        }
      ]
    },
    {
      "cell_type": "code",
      "metadata": {
        "id": "numerical-invention",
        "colab": {
          "base_uri": "https://localhost:8080/"
        },
        "outputId": "158957d4-a855-4af3-b02a-f886da27b63d"
      },
      "source": [
        "# Reshape into X=t and Y=t+1 and get as arrays\n",
        "trainX, trainY = create_dataset(train, window)\n",
        "testX, testY = create_dataset(test, window)"
      ],
      "id": "numerical-invention",
      "execution_count": 274,
      "outputs": [
        {
          "output_type": "stream",
          "text": [
            "time: 12.6 ms (started: 2021-05-13 06:46:51 +00:00)\n"
          ],
          "name": "stdout"
        }
      ]
    },
    {
      "cell_type": "code",
      "metadata": {
        "id": "allied-pavilion",
        "colab": {
          "base_uri": "https://localhost:8080/"
        },
        "outputId": "799c08fc-6e8b-48be-ad7d-bbca11bf66f8"
      },
      "source": [
        "print(trainX.shape)"
      ],
      "id": "allied-pavilion",
      "execution_count": 275,
      "outputs": [
        {
          "output_type": "stream",
          "text": [
            "(2008, 3)\n",
            "time: 6.58 ms (started: 2021-05-13 06:46:51 +00:00)\n"
          ],
          "name": "stdout"
        }
      ]
    },
    {
      "cell_type": "code",
      "metadata": {
        "id": "endless-chile",
        "colab": {
          "base_uri": "https://localhost:8080/"
        },
        "outputId": "317b819f-0003-42b3-d2ad-4f6af4dd4046"
      },
      "source": [
        "print(trainY.shape)"
      ],
      "id": "endless-chile",
      "execution_count": 276,
      "outputs": [
        {
          "output_type": "stream",
          "text": [
            "(2008,)\n",
            "time: 2.65 ms (started: 2021-05-13 06:46:51 +00:00)\n"
          ],
          "name": "stdout"
        }
      ]
    },
    {
      "cell_type": "code",
      "metadata": {
        "id": "separated-bankruptcy",
        "colab": {
          "base_uri": "https://localhost:8080/"
        },
        "outputId": "01a79040-9ba2-4ebd-860d-909cc53f71a0"
      },
      "source": [
        "# X input has 3 (= window size) values at each step\n",
        "trainX [0:10] # Display first 10 values"
      ],
      "id": "separated-bankruptcy",
      "execution_count": 277,
      "outputs": [
        {
          "output_type": "execute_result",
          "data": {
            "text/plain": [
              "array([[0.03804384, 0.03729827, 0.04110461],\n",
              "       [0.03729827, 0.04110461, 0.03559523],\n",
              "       [0.04110461, 0.03559523, 0.03736499],\n",
              "       [0.03559523, 0.03736499, 0.03822044],\n",
              "       [0.03736499, 0.03822044, 0.03938589],\n",
              "       [0.03822044, 0.03938589, 0.03860499],\n",
              "       [0.03938589, 0.03860499, 0.0393702 ],\n",
              "       [0.03860499, 0.0393702 , 0.0380831 ],\n",
              "       [0.0393702 , 0.0380831 , 0.04129297],\n",
              "       [0.0380831 , 0.04129297, 0.04008045]])"
            ]
          },
          "metadata": {
            "tags": []
          },
          "execution_count": 277
        },
        {
          "output_type": "stream",
          "text": [
            "time: 7.56 ms (started: 2021-05-13 06:46:51 +00:00)\n"
          ],
          "name": "stdout"
        }
      ]
    },
    {
      "cell_type": "code",
      "metadata": {
        "id": "colored-organization",
        "colab": {
          "base_uri": "https://localhost:8080/"
        },
        "outputId": "c66fdedd-73bc-4256-e3ee-3125f2a43fe1"
      },
      "source": [
        "# Y output has here only one value (t+1) at each step\n",
        "trainY"
      ],
      "id": "colored-organization",
      "execution_count": 278,
      "outputs": [
        {
          "output_type": "execute_result",
          "data": {
            "text/plain": [
              "array([0.03559523, 0.03736499, 0.03822044, ..., 0.75053351, 0.74601968,\n",
              "       0.75084863])"
            ]
          },
          "metadata": {
            "tags": []
          },
          "execution_count": 278
        },
        {
          "output_type": "stream",
          "text": [
            "time: 6.55 ms (started: 2021-05-13 06:46:51 +00:00)\n"
          ],
          "name": "stdout"
        }
      ]
    },
    {
      "cell_type": "code",
      "metadata": {
        "id": "blank-sheep",
        "colab": {
          "base_uri": "https://localhost:8080/"
        },
        "outputId": "08181954-a2ad-48d2-faf9-46b76994c41f"
      },
      "source": [
        "trainX.shape[0]"
      ],
      "id": "blank-sheep",
      "execution_count": 279,
      "outputs": [
        {
          "output_type": "execute_result",
          "data": {
            "text/plain": [
              "2008"
            ]
          },
          "metadata": {
            "tags": []
          },
          "execution_count": 279
        },
        {
          "output_type": "stream",
          "text": [
            "time: 6.82 ms (started: 2021-05-13 06:46:51 +00:00)\n"
          ],
          "name": "stdout"
        }
      ]
    },
    {
      "cell_type": "code",
      "metadata": {
        "id": "polished-ballet",
        "colab": {
          "base_uri": "https://localhost:8080/"
        },
        "outputId": "be7b1a65-d8be-42e7-9b7b-d70bdc4d8a6a"
      },
      "source": [
        "trainX.shape[1]"
      ],
      "id": "polished-ballet",
      "execution_count": 280,
      "outputs": [
        {
          "output_type": "execute_result",
          "data": {
            "text/plain": [
              "3"
            ]
          },
          "metadata": {
            "tags": []
          },
          "execution_count": 280
        },
        {
          "output_type": "stream",
          "text": [
            "time: 5.56 ms (started: 2021-05-13 06:46:51 +00:00)\n"
          ],
          "name": "stdout"
        }
      ]
    },
    {
      "cell_type": "markdown",
      "metadata": {
        "id": "right-keyboard"
      },
      "source": [
        "#### **Reshape Data Format for LSTM**"
      ],
      "id": "right-keyboard"
    },
    {
      "cell_type": "code",
      "metadata": {
        "id": "changing-hardware",
        "colab": {
          "base_uri": "https://localhost:8080/"
        },
        "outputId": "0072ce2a-e1ec-4b30-e2d1-9cce1e71df5b"
      },
      "source": [
        "# Reshape Data Format for LSTM (simple model)\n",
        "\n",
        "# Data is in shape **[samples, features]**. LSTM expects **[samples, time steps, features]**\n",
        "# Reminder 2D array: shape (n,m), n [0] = rows (time steps), m [1] = column(s)\n",
        "# Shape: First Block: t, t+1, t+2. Second: t+1, t+2, t+3. Third: t+2, t+3, t+4.\n",
        "# Approach 1: Use past observations as separate input features =(trainX.shape[0], features, trainX.shape[1])\n",
        "\n",
        "# trainX = np.reshape(trainX, (trainX.shape[0], features, trainX.shape[1]))\n",
        "# testX = np.reshape(testX, (testX.shape[0], features, testX.shape[1]))"
      ],
      "id": "changing-hardware",
      "execution_count": 281,
      "outputs": [
        {
          "output_type": "stream",
          "text": [
            "time: 3.94 ms (started: 2021-05-13 06:46:51 +00:00)\n"
          ],
          "name": "stdout"
        }
      ]
    },
    {
      "cell_type": "code",
      "metadata": {
        "id": "atmospheric-camel",
        "colab": {
          "base_uri": "https://localhost:8080/"
        },
        "outputId": "d6f8dc6b-86ed-4b66-e7bd-4c0076536db1"
      },
      "source": [
        "# Approach 2: Use past observations as time steps of the one input feature\n",
        "\n",
        "trainX = tf.reshape(trainX, (trainX.shape[0], trainX.shape[1], features))\n",
        "testX = tf.reshape(testX, (testX.shape[0], testX.shape[1], features))\n",
        "trainX"
      ],
      "id": "atmospheric-camel",
      "execution_count": 282,
      "outputs": [
        {
          "output_type": "execute_result",
          "data": {
            "text/plain": [
              "<tf.Tensor: shape=(2008, 3, 1), dtype=float64, numpy=\n",
              "array([[[0.03804384],\n",
              "        [0.03729827],\n",
              "        [0.04110461]],\n",
              "\n",
              "       [[0.03729827],\n",
              "        [0.04110461],\n",
              "        [0.03559523]],\n",
              "\n",
              "       [[0.04110461],\n",
              "        [0.03559523],\n",
              "        [0.03736499]],\n",
              "\n",
              "       ...,\n",
              "\n",
              "       [[0.71888154],\n",
              "        [0.72496299],\n",
              "        [0.73937896]],\n",
              "\n",
              "       [[0.72496299],\n",
              "        [0.73937896],\n",
              "        [0.75053351]],\n",
              "\n",
              "       [[0.73937896],\n",
              "        [0.75053351],\n",
              "        [0.74601968]]])>"
            ]
          },
          "metadata": {
            "tags": []
          },
          "execution_count": 282
        },
        {
          "output_type": "stream",
          "text": [
            "time: 11.9 ms (started: 2021-05-13 06:46:51 +00:00)\n"
          ],
          "name": "stdout"
        }
      ]
    },
    {
      "cell_type": "code",
      "metadata": {
        "id": "unlikely-brunswick",
        "colab": {
          "base_uri": "https://localhost:8080/"
        },
        "outputId": "ff56eac9-7c65-4d7d-cdbf-1feb6f30042d"
      },
      "source": [
        "print(trainX.shape)"
      ],
      "id": "unlikely-brunswick",
      "execution_count": 283,
      "outputs": [
        {
          "output_type": "stream",
          "text": [
            "(2008, 3, 1)\n",
            "time: 7.93 ms (started: 2021-05-13 06:46:51 +00:00)\n"
          ],
          "name": "stdout"
        }
      ]
    },
    {
      "cell_type": "code",
      "metadata": {
        "id": "precious-jesus",
        "colab": {
          "base_uri": "https://localhost:8080/"
        },
        "outputId": "0c5f49f5-d786-4180-8a9a-571be29202e2"
      },
      "source": [
        "trainX [0:10] # Display first 10 values"
      ],
      "id": "precious-jesus",
      "execution_count": 284,
      "outputs": [
        {
          "output_type": "execute_result",
          "data": {
            "text/plain": [
              "<tf.Tensor: shape=(10, 3, 1), dtype=float64, numpy=\n",
              "array([[[0.03804384],\n",
              "        [0.03729827],\n",
              "        [0.04110461]],\n",
              "\n",
              "       [[0.03729827],\n",
              "        [0.04110461],\n",
              "        [0.03559523]],\n",
              "\n",
              "       [[0.04110461],\n",
              "        [0.03559523],\n",
              "        [0.03736499]],\n",
              "\n",
              "       [[0.03559523],\n",
              "        [0.03736499],\n",
              "        [0.03822044]],\n",
              "\n",
              "       [[0.03736499],\n",
              "        [0.03822044],\n",
              "        [0.03938589]],\n",
              "\n",
              "       [[0.03822044],\n",
              "        [0.03938589],\n",
              "        [0.03860499]],\n",
              "\n",
              "       [[0.03938589],\n",
              "        [0.03860499],\n",
              "        [0.0393702 ]],\n",
              "\n",
              "       [[0.03860499],\n",
              "        [0.0393702 ],\n",
              "        [0.0380831 ]],\n",
              "\n",
              "       [[0.0393702 ],\n",
              "        [0.0380831 ],\n",
              "        [0.04129297]],\n",
              "\n",
              "       [[0.0380831 ],\n",
              "        [0.04129297],\n",
              "        [0.04008045]]])>"
            ]
          },
          "metadata": {
            "tags": []
          },
          "execution_count": 284
        },
        {
          "output_type": "stream",
          "text": [
            "time: 7.42 ms (started: 2021-05-13 06:46:51 +00:00)\n"
          ],
          "name": "stdout"
        }
      ]
    },
    {
      "cell_type": "code",
      "metadata": {
        "id": "equal-intervention",
        "colab": {
          "base_uri": "https://localhost:8080/"
        },
        "outputId": "a1deef27-b9f4-4196-a7a7-c69592eac852"
      },
      "source": [
        "print(testX.shape)"
      ],
      "id": "equal-intervention",
      "execution_count": 285,
      "outputs": [
        {
          "output_type": "stream",
          "text": [
            "(500, 3, 1)\n",
            "time: 2.27 ms (started: 2021-05-13 06:46:51 +00:00)\n"
          ],
          "name": "stdout"
        }
      ]
    },
    {
      "cell_type": "markdown",
      "metadata": {
        "id": "bddK1FOuJWue"
      },
      "source": [
        "#### **Model Training**"
      ],
      "id": "bddK1FOuJWue"
    },
    {
      "cell_type": "code",
      "metadata": {
        "id": "enabling-lease",
        "colab": {
          "base_uri": "https://localhost:8080/"
        },
        "outputId": "de0e02dc-07da-49eb-c14e-b61498d268d5"
      },
      "source": [
        "# Set Hyperparameter\n",
        "optimizer = tf.keras.optimizers.Adam(0.0001)\n",
        "loss = 'mean_squared_error'\n",
        "activation = 'relu'\n",
        "epochs = 20\n",
        "verbose = 1\n",
        "units = 30 # internal LSTM units\n",
        "repeat = 1\n",
        "batch_size = None"
      ],
      "id": "enabling-lease",
      "execution_count": 286,
      "outputs": [
        {
          "output_type": "stream",
          "text": [
            "time: 6.01 ms (started: 2021-05-13 06:46:51 +00:00)\n"
          ],
          "name": "stdout"
        }
      ]
    },
    {
      "cell_type": "code",
      "metadata": {
        "id": "virgin-license",
        "colab": {
          "base_uri": "https://localhost:8080/"
        },
        "outputId": "f8f3860d-53e6-479b-b724-7ddc6c03fe5f"
      },
      "source": [
        "model = keras.Sequential(name=\"my_sequential\")\n",
        "\n",
        "# https://www.tensorflow.org/api_docs/python/tf/keras/layers/LSTM\n",
        "\n",
        "# Add a LSTM layer with internal units.\n",
        "model.add(layers.LSTM(units, input_shape=(window, features), return_sequences=False, activation=activation, name=\"layer1\"))\n",
        "\n",
        "# Add a Dense layer with 10 units.\n",
        "model.add(layers.Dense(1, name=\"layer2\"))\n",
        "\n",
        "# Call model on a test input\n",
        "trainY = model(trainX)"
      ],
      "id": "virgin-license",
      "execution_count": 287,
      "outputs": [
        {
          "output_type": "stream",
          "text": [
            "time: 143 ms (started: 2021-05-13 06:46:52 +00:00)\n"
          ],
          "name": "stdout"
        }
      ]
    },
    {
      "cell_type": "code",
      "metadata": {
        "id": "silver-pledge",
        "colab": {
          "base_uri": "https://localhost:8080/"
        },
        "outputId": "b8dfcf72-20a6-42c0-97b9-429fb24c0acb"
      },
      "source": [
        "model.summary()"
      ],
      "id": "silver-pledge",
      "execution_count": 288,
      "outputs": [
        {
          "output_type": "stream",
          "text": [
            "Model: \"my_sequential\"\n",
            "_________________________________________________________________\n",
            "Layer (type)                 Output Shape              Param #   \n",
            "=================================================================\n",
            "layer1 (LSTM)                (None, 30)                3840      \n",
            "_________________________________________________________________\n",
            "layer2 (Dense)               (None, 1)                 31        \n",
            "=================================================================\n",
            "Total params: 3,871\n",
            "Trainable params: 3,871\n",
            "Non-trainable params: 0\n",
            "_________________________________________________________________\n",
            "time: 8.07 ms (started: 2021-05-13 06:46:52 +00:00)\n"
          ],
          "name": "stdout"
        }
      ]
    },
    {
      "cell_type": "code",
      "metadata": {
        "id": "burning-simple",
        "colab": {
          "base_uri": "https://localhost:8080/"
        },
        "outputId": "69c4f5c2-85c2-49c3-a12e-f23938463344"
      },
      "source": [
        "trainY.shape"
      ],
      "id": "burning-simple",
      "execution_count": 289,
      "outputs": [
        {
          "output_type": "execute_result",
          "data": {
            "text/plain": [
              "TensorShape([2008, 1])"
            ]
          },
          "metadata": {
            "tags": []
          },
          "execution_count": 289
        },
        {
          "output_type": "stream",
          "text": [
            "time: 4.92 ms (started: 2021-05-13 06:46:52 +00:00)\n"
          ],
          "name": "stdout"
        }
      ]
    },
    {
      "cell_type": "code",
      "metadata": {
        "id": "breeding-injection",
        "colab": {
          "base_uri": "https://localhost:8080/"
        },
        "outputId": "5c19c2cf-ca04-46da-fe08-e4434bab98da"
      },
      "source": [
        "# model.weights"
      ],
      "id": "breeding-injection",
      "execution_count": 290,
      "outputs": [
        {
          "output_type": "stream",
          "text": [
            "time: 935 µs (started: 2021-05-13 06:46:52 +00:00)\n"
          ],
          "name": "stdout"
        }
      ]
    },
    {
      "cell_type": "code",
      "metadata": {
        "id": "naked-journalism",
        "colab": {
          "base_uri": "https://localhost:8080/"
        },
        "outputId": "13b1ccd9-1aec-4759-f396-2dcfe79424c7"
      },
      "source": [
        "# print(\"Number of weights after calling the model:\", len(model.weights))"
      ],
      "id": "naked-journalism",
      "execution_count": 291,
      "outputs": [
        {
          "output_type": "stream",
          "text": [
            "time: 930 µs (started: 2021-05-13 06:46:52 +00:00)\n"
          ],
          "name": "stdout"
        }
      ]
    },
    {
      "cell_type": "code",
      "metadata": {
        "id": "invisible-canon",
        "colab": {
          "base_uri": "https://localhost:8080/"
        },
        "outputId": "1a44e850-866f-4324-b4aa-e4f604822ac2"
      },
      "source": [
        "model.compile(loss=loss, \n",
        "              optimizer=optimizer, \n",
        "              metrics=['accuracy'])"
      ],
      "id": "invisible-canon",
      "execution_count": 292,
      "outputs": [
        {
          "output_type": "stream",
          "text": [
            "time: 15.8 ms (started: 2021-05-13 06:46:52 +00:00)\n"
          ],
          "name": "stdout"
        }
      ]
    },
    {
      "cell_type": "code",
      "metadata": {
        "id": "changing-pennsylvania",
        "colab": {
          "base_uri": "https://localhost:8080/"
        },
        "outputId": "dbb958fa-cbb0-46b7-e8d7-55f058cb9031"
      },
      "source": [
        "# Prepare visualisation - Plot Losses Keras TF (simple)\n",
        "!pip install livelossplot --quiet\n",
        "from livelossplot import PlotLossesKerasTF\n",
        "\n",
        "# Select visualization method\n",
        "callbacks = [PlotLossesKerasTF()]"
      ],
      "id": "changing-pennsylvania",
      "execution_count": 293,
      "outputs": [
        {
          "output_type": "stream",
          "text": [
            "time: 3.05 s (started: 2021-05-13 06:46:52 +00:00)\n"
          ],
          "name": "stdout"
        }
      ]
    },
    {
      "cell_type": "code",
      "metadata": {
        "id": "original-navigator",
        "colab": {
          "base_uri": "https://localhost:8080/",
          "height": 618
        },
        "outputId": "3574d44d-aa09-48ea-b6f1-a471dc7a74cd"
      },
      "source": [
        "# Train model\n",
        "model.fit(trainX,\n",
        "          trainY, \n",
        "          epochs=epochs, \n",
        "          verbose=verbose, \n",
        "          shuffle=False, \n",
        "          callbacks=callbacks)"
      ],
      "id": "original-navigator",
      "execution_count": 294,
      "outputs": [
        {
          "output_type": "display_data",
          "data": {
            "image/png": "[encoded data removed]",
            "text/plain": [
              "<Figure size 864x576 with 2 Axes>"
            ]
          },
          "metadata": {
            "tags": []
          }
        },
        {
          "output_type": "stream",
          "text": [
            "accuracy\n",
            "\taccuracy         \t (min:    0.000, max:    0.000, cur:    0.000)\n",
            "Loss\n",
            "\tloss             \t (min:    0.000, max:    0.000, cur:    0.000)\n"
          ],
          "name": "stdout"
        },
        {
          "output_type": "execute_result",
          "data": {
            "text/plain": [
              "<tensorflow.python.keras.callbacks.History at 0x7f8f37ead090>"
            ]
          },
          "metadata": {
            "tags": []
          },
          "execution_count": 294
        },
        {
          "output_type": "stream",
          "text": [
            "time: 21 s (started: 2021-05-13 06:46:55 +00:00)\n"
          ],
          "name": "stdout"
        }
      ]
    },
    {
      "cell_type": "markdown",
      "metadata": {
        "id": "mighty-italic"
      },
      "source": [
        "#### **Make Predictions**"
      ],
      "id": "mighty-italic"
    },
    {
      "cell_type": "code",
      "metadata": {
        "id": "universal-surface",
        "colab": {
          "base_uri": "https://localhost:8080/"
        },
        "outputId": "ff7f00ee-b37c-4c32-ad7d-c07b46260126"
      },
      "source": [
        "trainPredict = model.predict(trainX)\n",
        "model.reset_states()\n",
        "testPredict = model.predict(testX)"
      ],
      "id": "universal-surface",
      "execution_count": 295,
      "outputs": [
        {
          "output_type": "stream",
          "text": [
            "time: 312 ms (started: 2021-05-13 06:47:16 +00:00)\n"
          ],
          "name": "stdout"
        }
      ]
    },
    {
      "cell_type": "markdown",
      "metadata": {
        "id": "scientific-joint"
      },
      "source": [
        "#### **Predictions (Train & Test)**"
      ],
      "id": "scientific-joint"
    },
    {
      "cell_type": "markdown",
      "metadata": {
        "id": "varied-gross"
      },
      "source": [
        "**Test Predict**"
      ],
      "id": "varied-gross"
    },
    {
      "cell_type": "code",
      "metadata": {
        "id": "medieval-accident",
        "colab": {
          "base_uri": "https://localhost:8080/"
        },
        "outputId": "75be5b49-7327-46cf-ac41-52c24c730113"
      },
      "source": [
        "testPredict [0:10]"
      ],
      "id": "medieval-accident",
      "execution_count": 296,
      "outputs": [
        {
          "output_type": "execute_result",
          "data": {
            "text/plain": [
              "array([[-0.00153987],\n",
              "       [-0.00155111],\n",
              "       [-0.00118033],\n",
              "       [-0.0008502 ],\n",
              "       [-0.00115757],\n",
              "       [-0.0010871 ],\n",
              "       [-0.00075318],\n",
              "       [-0.00106864],\n",
              "       [-0.00125436],\n",
              "       [-0.00116293]], dtype=float32)"
            ]
          },
          "metadata": {
            "tags": []
          },
          "execution_count": 296
        },
        {
          "output_type": "stream",
          "text": [
            "time: 4.84 ms (started: 2021-05-13 06:47:16 +00:00)\n"
          ],
          "name": "stdout"
        }
      ]
    },
    {
      "cell_type": "code",
      "metadata": {
        "id": "above-burns",
        "colab": {
          "base_uri": "https://localhost:8080/"
        },
        "outputId": "0e366a72-98e9-4f51-9ab3-9c42ca81d21c"
      },
      "source": [
        "testPredict = scaler.inverse_transform(testPredict)\n",
        "testPredict [0:10]"
      ],
      "id": "above-burns",
      "execution_count": 297,
      "outputs": [
        {
          "output_type": "execute_result",
          "data": {
            "text/plain": [
              "array([[215.26605],\n",
              "       [215.2518 ],\n",
              "       [215.72246],\n",
              "       [216.14154],\n",
              "       [215.75134],\n",
              "       [215.8408 ],\n",
              "       [216.26471],\n",
              "       [215.86426],\n",
              "       [215.6285 ],\n",
              "       [215.74455]], dtype=float32)"
            ]
          },
          "metadata": {
            "tags": []
          },
          "execution_count": 297
        },
        {
          "output_type": "stream",
          "text": [
            "time: 6.29 ms (started: 2021-05-13 06:47:16 +00:00)\n"
          ],
          "name": "stdout"
        }
      ]
    },
    {
      "cell_type": "markdown",
      "metadata": {
        "id": "convinced-experience"
      },
      "source": [
        "**Train Predict**"
      ],
      "id": "convinced-experience"
    },
    {
      "cell_type": "code",
      "metadata": {
        "id": "superior-aquatic",
        "colab": {
          "base_uri": "https://localhost:8080/"
        },
        "outputId": "069d01c6-0270-4a35-a4e9-01488c44005a"
      },
      "source": [
        "trainPredict [0:10]"
      ],
      "id": "superior-aquatic",
      "execution_count": 298,
      "outputs": [
        {
          "output_type": "execute_result",
          "data": {
            "text/plain": [
              "array([[5.0805738e-07],\n",
              "       [2.9565163e-05],\n",
              "       [2.8593542e-05],\n",
              "       [5.0170793e-06],\n",
              "       [7.4523059e-06],\n",
              "       [1.6197546e-05],\n",
              "       [1.6015896e-05],\n",
              "       [2.0244282e-05],\n",
              "       [5.8621749e-06],\n",
              "       [1.0989643e-05]], dtype=float32)"
            ]
          },
          "metadata": {
            "tags": []
          },
          "execution_count": 298
        },
        {
          "output_type": "stream",
          "text": [
            "time: 4.95 ms (started: 2021-05-13 06:47:16 +00:00)\n"
          ],
          "name": "stdout"
        }
      ]
    },
    {
      "cell_type": "code",
      "metadata": {
        "id": "accredited-parts",
        "colab": {
          "base_uri": "https://localhost:8080/"
        },
        "outputId": "79cb7672-15c8-4ef1-e8bb-df292b12de99"
      },
      "source": [
        "trainPredict = scaler.inverse_transform(trainPredict)\n",
        "trainPredict [0:10]"
      ],
      "id": "accredited-parts",
      "execution_count": 299,
      "outputs": [
        {
          "output_type": "execute_result",
          "data": {
            "text/plain": [
              "array([[217.22145],\n",
              "       [217.25835],\n",
              "       [217.25711],\n",
              "       [217.22717],\n",
              "       [217.23027],\n",
              "       [217.24138],\n",
              "       [217.24115],\n",
              "       [217.2465 ],\n",
              "       [217.22826],\n",
              "       [217.23476]], dtype=float32)"
            ]
          },
          "metadata": {
            "tags": []
          },
          "execution_count": 299
        },
        {
          "output_type": "stream",
          "text": [
            "time: 6.06 ms (started: 2021-05-13 06:47:16 +00:00)\n"
          ],
          "name": "stdout"
        }
      ]
    },
    {
      "cell_type": "markdown",
      "metadata": {
        "id": "exact-immigration"
      },
      "source": [
        "#### **Actual (Train & Test)**"
      ],
      "id": "exact-immigration"
    },
    {
      "cell_type": "markdown",
      "metadata": {
        "id": "designed-narrow"
      },
      "source": [
        "**Test Actual**"
      ],
      "id": "designed-narrow"
    },
    {
      "cell_type": "code",
      "metadata": {
        "id": "apparent-evanescence",
        "colab": {
          "base_uri": "https://localhost:8080/"
        },
        "outputId": "c66bc15f-a6b1-4c6f-9549-874ceb0c06ee"
      },
      "source": [
        "testY [0:10]"
      ],
      "id": "apparent-evanescence",
      "execution_count": 300,
      "outputs": [
        {
          "output_type": "execute_result",
          "data": {
            "text/plain": [
              "array([0.74874529, 0.70478858, 0.66059551, 0.68013179, 0.65490784,\n",
              "       0.61783611, 0.64640014, 0.65755469, 0.65768076, 0.67154524])"
            ]
          },
          "metadata": {
            "tags": []
          },
          "execution_count": 300
        },
        {
          "output_type": "stream",
          "text": [
            "time: 4.46 ms (started: 2021-05-13 06:47:16 +00:00)\n"
          ],
          "name": "stdout"
        }
      ]
    },
    {
      "cell_type": "code",
      "metadata": {
        "id": "sexual-edmonton",
        "colab": {
          "base_uri": "https://localhost:8080/"
        },
        "outputId": "e3d2655f-5023-42a4-a39c-c2633b9bb3cb"
      },
      "source": [
        "testY = scaler.inverse_transform([testY])\n",
        "testY [0:10]"
      ],
      "id": "sexual-edmonton",
      "execution_count": 301,
      "outputs": [
        {
          "output_type": "execute_result",
          "data": {
            "text/plain": [
              "array([[1167.699951, 1111.900024, 1055.800049, 1080.599976, 1048.579956,\n",
              "        1001.52002 , 1037.780029, 1051.939941, 1052.099976, 1069.699951,\n",
              "        1089.52002 , 1094.800049, 1102.459961, 1111.339966, 1106.630005,\n",
              "        1126.790039, 1143.75    , 1118.290039, 1104.72998 , 1069.52002 ,\n",
              "        1078.920044, 1090.930054, 1095.060059, 1109.640015, 1126.      ,\n",
              "        1160.040039, 1164.5     , 1138.170044, 1149.48999 , 1149.579956,\n",
              "        1135.72998 , 1099.819946, 1097.709961, 1090.880005, 1049.079956,\n",
              "        1021.570007, 1053.209961, 1005.099976, 1004.559998, 1031.790039,\n",
              "        1006.469971, 1013.409973, 1025.140015, 1027.810059, 1007.039978,\n",
              "        1015.450012, 1031.640015, 1019.969971, 1032.51001 , 1029.27002 ,\n",
              "        1037.97998 , 1074.160034, 1072.079956, 1087.699951, 1072.959961,\n",
              "        1067.449951, 1019.97998 , 1021.179993, 1040.040039, 1030.050049,\n",
              "        1017.330017, 1037.310059, 1024.380005, 1023.719971, 1048.209961,\n",
              "        1054.790039, 1053.910034, 1082.76001 , 1097.569946, 1098.26001 ,\n",
              "        1100.199951, 1079.22998 , 1081.77002 , 1078.589966, 1066.359985,\n",
              "        1079.579956, 1069.72998 , 1079.689941, 1079.23999 , 1075.660034,\n",
              "        1060.319946, 1067.800049, 1084.98999 , 1119.5     , 1139.290039,\n",
              "        1139.660034, 1136.880005, 1123.859985, 1120.869995, 1129.98999 ,\n",
              "        1139.319946, 1134.790039, 1152.119995, 1152.26001 , 1173.459961,\n",
              "        1168.060059, 1169.839966, 1157.660034, 1155.47998 , 1124.810059,\n",
              "        1118.459961, 1103.97998 , 1114.219971, 1115.650024, 1127.459961,\n",
              "        1102.890015, 1124.27002 , 1140.170044, 1154.050049, 1152.839966,\n",
              "        1153.900024, 1183.47998 , 1188.819946, 1183.859985, 1198.800049,\n",
              "        1195.880005, 1186.959961, 1184.910034, 1205.5     , 1248.079956,\n",
              "        1263.699951, 1268.329956, 1238.5     , 1219.73999 , 1217.26001 ,\n",
              "        1220.01001 , 1226.150024, 1223.709961, 1224.77002 , 1242.219971,\n",
              "        1245.609985, 1249.099976, 1237.609985, 1235.01001 , 1242.099976,\n",
              "        1214.380005, 1206.48999 , 1200.959961, 1207.77002 , 1201.619995,\n",
              "        1207.329956, 1205.380005, 1220.650024, 1241.819946, 1231.150024,\n",
              "        1249.300049, 1239.119995, 1218.189941, 1197.      , 1186.47998 ,\n",
              "        1171.439941, 1164.829956, 1164.640015, 1177.359985, 1162.819946,\n",
              "        1175.329956, 1172.530029, 1156.050049, 1161.219971, 1171.089966,\n",
              "        1186.869995, 1166.089966, 1173.369995, 1184.650024, 1180.48999 ,\n",
              "        1194.640015, 1193.469971, 1195.310059, 1200.109985, 1202.949951,\n",
              "        1168.189941, 1157.349976, 1148.969971, 1138.819946, 1081.219971,\n",
              "        1079.319946, 1110.079956, 1092.25    , 1121.280029, 1115.689941,\n",
              "        1087.969971, 1096.459961, 1101.160034, 1103.689941, 1050.709961,\n",
              "        1095.569946, 1071.469971, 1020.080017, 1036.209961, 1076.77002 ,\n",
              "        1070.      , 1057.790039, 1040.089966, 1055.810059, 1093.390015,\n",
              "        1082.400024, 1066.150024, 1038.630005, 1036.050049, 1043.660034,\n",
              "        1064.709961, 1061.48999 , 1020.      , 1025.76001 , 1037.609985,\n",
              "        1023.880005, 1048.619995, 1044.410034, 1086.22998 , 1088.300049,\n",
              "        1094.430054, 1106.430054, 1050.819946, 1068.72998 , 1036.579956,\n",
              "        1039.550049, 1051.75    , 1063.680054, 1061.900024, 1042.099976,\n",
              "        1016.530029, 1028.709961, 1023.01001 , 1009.409973,  979.539978,\n",
              "         976.219971, 1039.459961, 1043.880005, 1037.079956, 1035.609985,\n",
              "        1045.849976, 1016.059998, 1070.709961, 1068.390015, 1076.280029,\n",
              "        1074.660034, 1070.329956, 1057.189941, 1044.689941, 1077.150024,\n",
              "        1080.969971, 1089.900024, 1098.26001 , 1070.52002 , 1075.569946,\n",
              "        1073.900024, 1090.98999 , 1070.079956, 1060.619995, 1089.060059,\n",
              "        1116.369995, 1110.75    , 1132.800049, 1145.98999 , 1115.22998 ,\n",
              "        1098.709961, 1095.060059, 1095.01001 , 1121.369995, 1120.160034,\n",
              "        1121.670044, 1113.650024, 1118.560059, 1113.800049, 1096.969971,\n",
              "        1110.369995, 1109.400024, 1115.130005, 1116.050049, 1119.920044,\n",
              "        1140.98999 , 1147.800049, 1162.030029, 1157.859985, 1143.300049,\n",
              "        1142.319946, 1175.76001 , 1193.199951, 1193.319946, 1185.550049,\n",
              "        1184.459961, 1184.26001 , 1198.849976, 1223.969971, 1231.540039,\n",
              "        1205.5     , 1193.      , 1184.619995, 1173.02002 , 1168.48999 ,\n",
              "        1173.310059, 1194.430054, 1200.48999 , 1205.920044, 1215.      ,\n",
              "        1207.150024, 1203.839966, 1197.25    , 1202.160034, 1204.619995,\n",
              "        1217.869995, 1221.099976, 1227.130005, 1236.339966, 1236.369995,\n",
              "        1248.839966, 1264.550049, 1256.      , 1263.449951, 1272.180054,\n",
              "        1287.579956, 1188.47998 , 1168.079956, 1162.609985, 1185.400024,\n",
              "        1189.390015, 1174.099976, 1166.27002 , 1162.380005, 1164.27002 ,\n",
              "        1132.030029, 1120.439941, 1164.209961, 1178.97998 , 1162.300049,\n",
              "        1138.849976, 1149.630005, 1151.420044, 1140.77002 , 1133.469971,\n",
              "        1134.150024, 1116.459961, 1117.949951, 1103.630005, 1036.22998 ,\n",
              "        1053.050049, 1042.219971, 1044.339966, 1066.040039, 1080.380005,\n",
              "        1078.719971, 1077.030029, 1088.77002 , 1085.349976, 1092.5     ,\n",
              "        1103.599976, 1102.329956, 1111.420044, 1121.880005, 1115.52002 ,\n",
              "        1086.349976, 1079.800049, 1076.01001 , 1080.910034, 1097.949951,\n",
              "        1111.25    , 1121.579956, 1131.589966, 1116.349976, 1124.829956,\n",
              "        1140.47998 , 1144.209961, 1144.900024, 1150.339966, 1153.579956,\n",
              "        1146.349976, 1146.329956, 1130.099976, 1138.069946, 1146.209961,\n",
              "        1137.810059, 1132.119995, 1250.410034, 1239.410034, 1225.140015,\n",
              "        1216.680054, 1209.01001 , 1193.98999 , 1152.319946, 1169.949951,\n",
              "        1173.98999 , 1204.800049, 1188.01001 , 1174.709961, 1197.27002 ,\n",
              "        1164.290039, 1167.26001 , 1177.599976, 1198.449951, 1182.689941,\n",
              "        1191.25    , 1189.530029, 1151.290039, 1168.890015, 1167.839966,\n",
              "        1171.02002 , 1192.849976, 1188.099976, 1168.390015, 1181.410034,\n",
              "        1211.380005, 1204.930054, 1204.410034, 1206.      , 1220.170044,\n",
              "        1234.25    , 1239.560059, 1231.300049, 1229.150024, 1232.410034,\n",
              "        1238.709961, 1229.930054, 1234.030029, 1218.76001 , 1246.52002 ,\n",
              "        1241.390015, 1225.089966, 1219.      , 1205.099976, 1176.630005,\n",
              "        1187.829956, 1209.      , 1207.680054, 1189.130005, 1202.310059,\n",
              "        1208.670044, 1215.449951, 1217.140015, 1243.01001 , 1243.640015,\n",
              "        1253.069946, 1245.48999 , 1246.150024, 1242.800049, 1259.130005,\n",
              "        1260.98999 , 1265.130005, 1290.      , 1262.619995, 1261.290039,\n",
              "        1260.109985, 1273.73999 , 1291.369995, 1292.030029, 1291.800049,\n",
              "        1308.859985, 1311.369995, 1299.189941, 1298.800049, 1298.      ,\n",
              "        1311.459961, 1334.869995, 1320.699951, 1315.459961, 1303.050049,\n",
              "        1301.349976, 1295.339966, 1306.689941, 1313.550049, 1312.98999 ,\n",
              "        1304.959961, 1289.920044, 1295.280029, 1320.540039, 1328.130005,\n",
              "        1340.619995, 1343.560059, 1344.660034, 1345.02002 , 1350.27002 ,\n",
              "        1347.829956, 1361.170044, 1355.119995, 1352.619995, 1356.040039,\n",
              "        1349.589966, 1348.839966, 1343.560059, 1360.400024, 1351.890015,\n",
              "        1336.140015, 1337.02002 , 1367.369995, 1360.660034, 1394.209961,\n",
              "        1393.339966, 1404.319946, 1419.829956, 1429.72998 , 1439.22998 ,\n",
              "        1430.880005, 1439.199951, 1451.699951, 1480.390015, 1484.400024,\n",
              "        1485.949951, 1486.650024, 1466.709961, 1433.900024, 1452.560059]])"
            ]
          },
          "metadata": {
            "tags": []
          },
          "execution_count": 301
        },
        {
          "output_type": "stream",
          "text": [
            "time: 14.1 ms (started: 2021-05-13 06:47:16 +00:00)\n"
          ],
          "name": "stdout"
        }
      ]
    },
    {
      "cell_type": "markdown",
      "metadata": {
        "id": "accessible-wings"
      },
      "source": [
        "**Train Actual**"
      ],
      "id": "accessible-wings"
    },
    {
      "cell_type": "code",
      "metadata": {
        "id": "adjustable-boating",
        "colab": {
          "base_uri": "https://localhost:8080/"
        },
        "outputId": "baa5f095-b33e-4eb8-a574-dcae6151278b"
      },
      "source": [
        "trainY [0:10]"
      ],
      "id": "adjustable-boating",
      "execution_count": 302,
      "outputs": [
        {
          "output_type": "execute_result",
          "data": {
            "text/plain": [
              "<tf.Tensor: shape=(10, 1), dtype=float32, numpy=\n",
              "array([[3.4005689e-06],\n",
              "       [3.2599441e-05],\n",
              "       [3.1624873e-05],\n",
              "       [7.9651027e-06],\n",
              "       [1.0384052e-05],\n",
              "       [1.9158173e-05],\n",
              "       [1.8968487e-05],\n",
              "       [2.3223887e-05],\n",
              "       [8.7606186e-06],\n",
              "       [1.3904767e-05]], dtype=float32)>"
            ]
          },
          "metadata": {
            "tags": []
          },
          "execution_count": 302
        },
        {
          "output_type": "stream",
          "text": [
            "time: 6.16 ms (started: 2021-05-13 06:47:16 +00:00)\n"
          ],
          "name": "stdout"
        }
      ]
    },
    {
      "cell_type": "code",
      "metadata": {
        "id": "challenging-carnival",
        "colab": {
          "base_uri": "https://localhost:8080/"
        },
        "outputId": "47d2cc1f-b141-445f-842c-3811499ed7e6"
      },
      "source": [
        "# Convert / Create a numpy ndarray from a tensor\n",
        "trainY = tf.make_tensor_proto(trainY)  # convert `tensor a` to a proto tensor\n",
        "trainY = tf.make_ndarray(trainY)\n",
        "trainY [0:10]"
      ],
      "id": "challenging-carnival",
      "execution_count": 303,
      "outputs": [
        {
          "output_type": "execute_result",
          "data": {
            "text/plain": [
              "array([[3.4005689e-06],\n",
              "       [3.2599441e-05],\n",
              "       [3.1624873e-05],\n",
              "       [7.9651027e-06],\n",
              "       [1.0384052e-05],\n",
              "       [1.9158173e-05],\n",
              "       [1.8968487e-05],\n",
              "       [2.3223887e-05],\n",
              "       [8.7606186e-06],\n",
              "       [1.3904767e-05]], dtype=float32)"
            ]
          },
          "metadata": {
            "tags": []
          },
          "execution_count": 303
        },
        {
          "output_type": "stream",
          "text": [
            "time: 6.91 ms (started: 2021-05-13 06:47:16 +00:00)\n"
          ],
          "name": "stdout"
        }
      ]
    },
    {
      "cell_type": "code",
      "metadata": {
        "id": "mathematical-species",
        "colab": {
          "base_uri": "https://localhost:8080/"
        },
        "outputId": "4bd42df0-afcf-4392-a2ce-6dd40b94538d"
      },
      "source": [
        "trainY.shape"
      ],
      "id": "mathematical-species",
      "execution_count": 304,
      "outputs": [
        {
          "output_type": "execute_result",
          "data": {
            "text/plain": [
              "(2008, 1)"
            ]
          },
          "metadata": {
            "tags": []
          },
          "execution_count": 304
        },
        {
          "output_type": "stream",
          "text": [
            "time: 3.72 ms (started: 2021-05-13 06:47:16 +00:00)\n"
          ],
          "name": "stdout"
        }
      ]
    },
    {
      "cell_type": "code",
      "metadata": {
        "id": "ordinary-defendant",
        "colab": {
          "base_uri": "https://localhost:8080/"
        },
        "outputId": "bb5af955-0df5-49cf-f5b7-7b4771e403a1"
      },
      "source": [
        "# trainY = scaler.inverse_transform([trainY])\n",
        "trainY [0:10]"
      ],
      "id": "ordinary-defendant",
      "execution_count": 305,
      "outputs": [
        {
          "output_type": "execute_result",
          "data": {
            "text/plain": [
              "array([[3.4005689e-06],\n",
              "       [3.2599441e-05],\n",
              "       [3.1624873e-05],\n",
              "       [7.9651027e-06],\n",
              "       [1.0384052e-05],\n",
              "       [1.9158173e-05],\n",
              "       [1.8968487e-05],\n",
              "       [2.3223887e-05],\n",
              "       [8.7606186e-06],\n",
              "       [1.3904767e-05]], dtype=float32)"
            ]
          },
          "metadata": {
            "tags": []
          },
          "execution_count": 305
        },
        {
          "output_type": "stream",
          "text": [
            "time: 4.83 ms (started: 2021-05-13 06:47:16 +00:00)\n"
          ],
          "name": "stdout"
        }
      ]
    },
    {
      "cell_type": "markdown",
      "metadata": {
        "id": "occupational-myanmar"
      },
      "source": [
        "#### **Residuals**"
      ],
      "id": "occupational-myanmar"
    },
    {
      "cell_type": "code",
      "metadata": {
        "id": "infrared-bouquet",
        "colab": {
          "base_uri": "https://localhost:8080/",
          "height": 222
        },
        "outputId": "7e1b2e56-b6d2-4fff-9796-c457ff067a3a"
      },
      "source": [
        "# Get residuals\n",
        "residuals = (testY[0] - testPredict[:,0])\n",
        "res = pd.DataFrame(data=residuals, columns=['residuals'])\n",
        "res.head()"
      ],
      "id": "infrared-bouquet",
      "execution_count": 306,
      "outputs": [
        {
          "output_type": "execute_result",
          "data": {
            "text/html": [
              "<div>\n",
              "<style scoped>\n",
              "    .dataframe tbody tr th:only-of-type {\n",
              "        vertical-align: middle;\n",
              "    }\n",
              "\n",
              "    .dataframe tbody tr th {\n",
              "        vertical-align: top;\n",
              "    }\n",
              "\n",
              "    .dataframe thead th {\n",
              "        text-align: right;\n",
              "    }\n",
              "</style>\n",
              "<table border=\"1\" class=\"dataframe\">\n",
              "  <thead>\n",
              "    <tr style=\"text-align: right;\">\n",
              "      <th></th>\n",
              "      <th>residuals</th>\n",
              "    </tr>\n",
              "  </thead>\n",
              "  <tbody>\n",
              "    <tr>\n",
              "      <th>0</th>\n",
              "      <td>952.433899</td>\n",
              "    </tr>\n",
              "    <tr>\n",
              "      <th>1</th>\n",
              "      <td>896.648223</td>\n",
              "    </tr>\n",
              "    <tr>\n",
              "      <th>2</th>\n",
              "      <td>840.077591</td>\n",
              "    </tr>\n",
              "    <tr>\n",
              "      <th>3</th>\n",
              "      <td>864.458435</td>\n",
              "    </tr>\n",
              "    <tr>\n",
              "      <th>4</th>\n",
              "      <td>832.828613</td>\n",
              "    </tr>\n",
              "  </tbody>\n",
              "</table>\n",
              "</div>"
            ],
            "text/plain": [
              "    residuals\n",
              "0  952.433899\n",
              "1  896.648223\n",
              "2  840.077591\n",
              "3  864.458435\n",
              "4  832.828613"
            ]
          },
          "metadata": {
            "tags": []
          },
          "execution_count": 306
        },
        {
          "output_type": "stream",
          "text": [
            "time: 23 ms (started: 2021-05-13 06:47:16 +00:00)\n"
          ],
          "name": "stdout"
        }
      ]
    },
    {
      "cell_type": "code",
      "metadata": {
        "id": "adequate-sheep",
        "colab": {
          "base_uri": "https://localhost:8080/",
          "height": 457
        },
        "outputId": "8c75efdd-5083-49b0-a57e-0bc919b4dbba"
      },
      "source": [
        "# Plot Residuals\n",
        "sns.set(rc={'figure.figsize':(15, 8)})\n",
        "res.plot(title='Residuals')"
      ],
      "id": "adequate-sheep",
      "execution_count": 307,
      "outputs": [
        {
          "output_type": "execute_result",
          "data": {
            "text/plain": [
              "<matplotlib.axes._subplots.AxesSubplot at 0x7f8f33848350>"
            ]
          },
          "metadata": {
            "tags": []
          },
          "execution_count": 307
        },
        {
          "output_type": "display_data",
          "data": {
            "image/png": "[encoded data removed]",
            "text/plain": [
              "<Figure size 1080x576 with 1 Axes>"
            ]
          },
          "metadata": {
            "tags": []
          }
        },
        {
          "output_type": "stream",
          "text": [
            "time: 480 ms (started: 2021-05-13 06:47:16 +00:00)\n"
          ],
          "name": "stdout"
        }
      ]
    },
    {
      "cell_type": "markdown",
      "metadata": {
        "id": "surface-happening"
      },
      "source": [
        "#### **Calculate RMSE & Plot**"
      ],
      "id": "surface-happening"
    },
    {
      "cell_type": "code",
      "metadata": {
        "colab": {
          "base_uri": "https://localhost:8080/"
        },
        "id": "n_TYoqSNdTJ8",
        "outputId": "1bc9ad12-2234-4c6e-841a-b0ce0f8fc296"
      },
      "source": [
        "# Inverse original data\n",
        "data = scaler.inverse_transform(data)\n",
        "data"
      ],
      "id": "n_TYoqSNdTJ8",
      "execution_count": 308,
      "outputs": [
        {
          "output_type": "execute_result",
          "data": {
            "text/plain": [
              "array([[ 265.514771],\n",
              "       [ 264.568329],\n",
              "       [ 269.400208],\n",
              "       ...,\n",
              "       [1433.900024],\n",
              "       [1452.560059],\n",
              "       [1458.630005]])"
            ]
          },
          "metadata": {
            "tags": []
          },
          "execution_count": 308
        },
        {
          "output_type": "stream",
          "text": [
            "time: 4.56 ms (started: 2021-05-13 06:47:17 +00:00)\n"
          ],
          "name": "stdout"
        }
      ]
    },
    {
      "cell_type": "code",
      "metadata": {
        "id": "prostate-harvard",
        "colab": {
          "base_uri": "https://localhost:8080/",
          "height": 340
        },
        "outputId": "b9964a9a-5e5d-4212-db3b-4ca2b3a6d57c"
      },
      "source": [
        "# Plot results\n",
        "\n",
        "# shift train predictions for plotting\n",
        "trainPredictPlot = np.empty_like(dataset)\n",
        "trainPredictPlot[:, :] = np.nan\n",
        "trainPredictPlot[window:len(trainPredict)+window, :] = trainPredict\n",
        "\n",
        "# shift test predictions for plotting\n",
        "testPredictPlot = np.empty_like(dataset)\n",
        "testPredictPlot[:, :] = np.nan\n",
        "testPredictPlot[len(trainPredict)+(window*2)+1:len(dataset)-1, :] = testPredict\n",
        "\n",
        "# plot baseline and predictions\n",
        "sns.set(rc={'figure.figsize':(11, 5)})\n",
        "#plt.plot(scaler.inverse_transform(dataset))\n",
        "plt.plot(data)\n",
        "plt.plot(trainPredictPlot)\n",
        "plt.plot(testPredictPlot)\n",
        "plt.show()"
      ],
      "id": "prostate-harvard",
      "execution_count": 312,
      "outputs": [
        {
          "output_type": "display_data",
          "data": {
            "image/png": "[encoded data removed]",
            "text/plain": [
              "<Figure size 792x360 with 1 Axes>"
            ]
          },
          "metadata": {
            "tags": []
          }
        },
        {
          "output_type": "stream",
          "text": [
            "time: 307 ms (started: 2021-05-13 06:47:33 +00:00)\n"
          ],
          "name": "stdout"
        }
      ]
    },
    {
      "cell_type": "code",
      "metadata": {
        "colab": {
          "base_uri": "https://localhost:8080/"
        },
        "id": "dsfjjVQ6c3jh",
        "outputId": "a17e29ae-77ed-4adf-aa10-15650240d4a0"
      },
      "source": [
        "testScore = math.sqrt(mean_squared_error(testY[0], testPredict[:,0]))\n",
        "print('Test Score: %.2f RMSE' % (testScore))"
      ],
      "id": "dsfjjVQ6c3jh",
      "execution_count": 310,
      "outputs": [
        {
          "output_type": "stream",
          "text": [
            "Test Score: 951.90 RMSE\n",
            "time: 4.7 ms (started: 2021-05-13 06:47:17 +00:00)\n"
          ],
          "name": "stdout"
        }
      ]
    },
    {
      "cell_type": "code",
      "metadata": {
        "colab": {
          "base_uri": "https://localhost:8080/"
        },
        "id": "Idsbc79AdDnN",
        "outputId": "dcd96239-f93f-4ee4-cb56-898d0a792bf3"
      },
      "source": [
        "# trainScore = math.sqrt(mean_squared_error(trainY[0], trainPredict[:,0]))\n",
        "# print('Train Score: %.2f RMSE' % (trainScore))"
      ],
      "id": "Idsbc79AdDnN",
      "execution_count": 311,
      "outputs": [
        {
          "output_type": "stream",
          "text": [
            "time: 1.54 ms (started: 2021-05-13 06:47:17 +00:00)\n"
          ],
          "name": "stdout"
        }
      ]
    }
  ]
}