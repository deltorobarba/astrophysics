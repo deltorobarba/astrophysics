{
  "nbformat": 4,
  "nbformat_minor": 0,
  "metadata": {
    "colab": {
      "name": "numerik.ipynb",
      "provenance": [],
      "collapsed_sections": [
        "eH2BF11w1EFA"
      ],
      "toc_visible": true,
      "include_colab_link": true
    },
    "kernelspec": {
      "name": "python3",
      "display_name": "Python 3"
    }
  },
  "cells": [
    {
      "cell_type": "markdown",
      "metadata": {
        "id": "view-in-github",
        "colab_type": "text"
      },
      "source": [
        "<a href=\"https://colab.research.google.com/github/deltorobarba/machinelearning/blob/master/numerik.ipynb\" target=\"_parent\"><img src=\"https://colab.research.google.com/assets/colab-badge.svg\" alt=\"Open In Colab\"/></a>"
      ]
    },
    {
      "cell_type": "markdown",
      "metadata": {
        "id": "HjNmcYpFuFTY"
      },
      "source": [
        "# **Numerical Analysis**"
      ]
    },
    {
      "cell_type": "code",
      "metadata": {
        "id": "RYViK39mt7Nj",
        "colab": {
          "base_uri": "https://localhost:8080/",
          "height": 35
        },
        "outputId": "0168c965-db78-461b-ba19-50df85a9e604"
      },
      "source": [
        "import numpy as np\n",
        "import pandas as pd\n",
        "import seaborn as sns\n",
        "import matplotlib.pyplot as plt"
      ],
      "execution_count": null,
      "outputs": [
        {
          "output_type": "stream",
          "text": [
            "2.2.0\n"
          ],
          "name": "stdout"
        }
      ]
    },
    {
      "cell_type": "markdown",
      "metadata": {
        "id": "B7WATitX0-3R"
      },
      "source": [
        "## **Numerische Mathematik**"
      ]
    },
    {
      "cell_type": "markdown",
      "metadata": {
        "id": "3nCr98-hm27D"
      },
      "source": [
        "* [numerische Mathematik](https://de.m.wikipedia.org/wiki/Numerische_Mathematik), auch Numerik, beschäftigt sich mit der Konstruktion und Analyse von Algorithmen für kontinuierliche mathematische Probleme.\n",
        "\n",
        "  * jede Menge, welche die Mächtigkeit der reellen Zahlen hat, ist ein [Kontinuum](https://de.m.wikipedia.org/wiki/Kontinuum_(Mathematik))\n",
        "\n",
        "* Hauptanwendung ist dabei die näherungsweise Berechnung von Lösungen durch Approximationsalgorithmen mit Hilfe von Computern"
      ]
    },
    {
      "cell_type": "markdown",
      "metadata": {
        "id": "uwDeAVIFoZ95"
      },
      "source": [
        "**Approximation**"
      ]
    },
    {
      "cell_type": "markdown",
      "metadata": {
        "id": "JEsIYTEHr6gU"
      },
      "source": [
        "* Von besonderem Interesse ist die **Näherung von Funktionen**, beispielsweise für Näherungslösungen nicht exakt lösbarer Differentialgleichungen. Die häufigste Form ist die Approximation mit Polynomen, da diese einfach ableitbar, integrierbar und berechenbar sind. \n",
        "\n",
        "* Hier beruht das am weitesten verbreitete Verfahren auf der **Taylorreihenentwicklung**. Von großer praktischer Bedeutung ist auch die **Fourieranalyse**, bei der periodische Funktionen in unendlichen Reihen von Sinus- und Kosinusfunktionen entwickelt werden."
      ]
    },
    {
      "cell_type": "markdown",
      "metadata": {
        "id": "p7GYQv5locTo"
      },
      "source": [
        "https://de.m.wikipedia.org/wiki/Approximation"
      ]
    },
    {
      "cell_type": "markdown",
      "metadata": {
        "id": "6BDmeaqEqp_X"
      },
      "source": [
        "https://de.m.wikipedia.org/wiki/Gleitkommazahl"
      ]
    },
    {
      "cell_type": "markdown",
      "metadata": {
        "id": "6mcKqgkorOeA"
      },
      "source": [
        "https://de.m.wikipedia.org/wiki/NP-Vollständigkeit"
      ]
    },
    {
      "cell_type": "markdown",
      "metadata": {
        "id": "SVZ9QMZ0svA7"
      },
      "source": [
        "https://de.m.wikipedia.org/wiki/Landau-Symbole"
      ]
    },
    {
      "cell_type": "markdown",
      "metadata": {
        "id": "P9r-DD3G05uP"
      },
      "source": [
        "## **Interpolation (Approximation)**"
      ]
    },
    {
      "cell_type": "markdown",
      "metadata": {
        "id": "TrdXR7Ge082w"
      },
      "source": [
        "* bei der [Interpolation](https://de.m.wikipedia.org/wiki/Interpolation_(Mathematik)) soll zu gegebenen diskreten Daten (z. B. Messwerten) eine stetige Funktion (= Interpolante oder Interpolierende) gefunden werden, die diese Daten abbildet. Man sagt dann, die Funktion interpoliert die Daten.\n",
        "\n",
        "* Die Interpolation ist eine Art der Approximation: Die betrachtete Funktion wird durch die Interpolationsfunktion in den Stützstellen exakt wiedergegeben und in den restlichen Punkten immerhin näherungsweise\n",
        "\n",
        "* Da Polynome mit zunehmendem Grad immer instabiler werden, d. h. stark zwischen den Interpolationspunkten schwingen, werden in der Praxis Polynome mit einem Grad größer als 5 kaum eingesetzt. Stattdessen **interpoliert man einen großen Datensatz stückweise**."
      ]
    },
    {
      "cell_type": "markdown",
      "metadata": {
        "id": "viIowDimuj57"
      },
      "source": [
        "**Gaußprozess-Regression (Kriging)**"
      ]
    },
    {
      "cell_type": "markdown",
      "metadata": {
        "id": "-VFcNx_HunB6"
      },
      "source": [
        "https://de.m.wikipedia.org/wiki/Kriging"
      ]
    },
    {
      "cell_type": "markdown",
      "metadata": {
        "id": "ySw1i9g-urdf"
      },
      "source": [
        "https://de.m.wikipedia.org/wiki/Gauß-Prozess#Gaußprozess-Regression"
      ]
    },
    {
      "cell_type": "markdown",
      "metadata": {
        "id": "nKH3bOsT1u2T"
      },
      "source": [
        "https://medium.com/criteo-engineering/hyper-parameter-optimization-algorithms-2fe447525903"
      ]
    },
    {
      "cell_type": "markdown",
      "metadata": {
        "id": "eH2BF11w1EFA"
      },
      "source": [
        "## **Ausgleichungsrechnung (Curve Fitting)**"
      ]
    },
    {
      "cell_type": "markdown",
      "metadata": {
        "id": "H2v4gYzC1G8R"
      },
      "source": [
        "https://de.m.wikipedia.org/wiki/Ausgleichungsrechnung"
      ]
    }
  ]
}