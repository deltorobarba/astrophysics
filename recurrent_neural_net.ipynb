{
  "nbformat": 4,
  "nbformat_minor": 0,
  "metadata": {
    "kernelspec": {
      "display_name": "Python 3",
      "language": "python",
      "name": "python3"
    },
    "language_info": {
      "codemirror_mode": {
        "name": "ipython",
        "version": 3
      },
      "file_extension": ".py",
      "mimetype": "text/x-python",
      "name": "python",
      "nbconvert_exporter": "python",
      "pygments_lexer": "ipython3",
      "version": "3.7.0"
    },
    "colab": {
      "name": "recurrent_neural_net.ipynb",
      "provenance": [],
      "collapsed_sections": [
        "VGTCpbpZEhDs",
        "-DHAhq8UEhD6",
        "GbdJwrzZEhED",
        "_S6ogk75EhEJ"
      ],
      "include_colab_link": true
    }
  },
  "cells": [
    {
      "cell_type": "markdown",
      "metadata": {
        "id": "view-in-github",
        "colab_type": "text"
      },
      "source": [
        "<a href=\"https://colab.research.google.com/github/deltorobarba/machinelearning/blob/master/recurrent_neural_net.ipynb\" target=\"_parent\"><img src=\"https://colab.research.google.com/assets/colab-badge.svg\" alt=\"Open In Colab\"/></a>"
      ]
    },
    {
      "cell_type": "markdown",
      "metadata": {
        "id": "kRypFCvLEhDW",
        "colab_type": "text"
      },
      "source": [
        "# Time Series - Monthly Milk Production"
      ]
    },
    {
      "cell_type": "markdown",
      "metadata": {
        "id": "bwDQIEGKEhDY",
        "colab_type": "text"
      },
      "source": [
        "\n",
        "**Monthly milk production: pounds per cow. Jan 62 - Dec 75**"
      ]
    },
    {
      "cell_type": "markdown",
      "metadata": {
        "id": "euqB8UQJEhDZ",
        "colab_type": "text"
      },
      "source": [
        "** Import numpy pandas and matplotlib **"
      ]
    },
    {
      "cell_type": "code",
      "metadata": {
        "id": "jQhLC8ADEhDZ",
        "colab_type": "code",
        "colab": {}
      },
      "source": [
        "import numpy as np\n",
        "import pandas as pd\n",
        "\n",
        "import matplotlib.pyplot as plt\n",
        "%matplotlib inline"
      ],
      "execution_count": 0,
      "outputs": []
    },
    {
      "cell_type": "markdown",
      "metadata": {
        "id": "SScjt_-HEhDc",
        "colab_type": "text"
      },
      "source": [
        "** Use pandas to read the csv of the monthly-milk-production.csv file and set index_col='Month' **"
      ]
    },
    {
      "cell_type": "code",
      "metadata": {
        "id": "vKqwLHMxEnjM",
        "colab_type": "code",
        "colab": {}
      },
      "source": [
        "url = 'https://raw.githubusercontent.com/deltorobarba/repo/master/monthly-milk-production.csv'\n",
        "milk = pd.read_csv(url,index_col='Month')"
      ],
      "execution_count": 0,
      "outputs": []
    },
    {
      "cell_type": "markdown",
      "metadata": {
        "id": "vWhdB_q_EhDe",
        "colab_type": "text"
      },
      "source": [
        "** Check out the head of the dataframe**"
      ]
    },
    {
      "cell_type": "code",
      "metadata": {
        "id": "GK-6vkwcEhDf",
        "colab_type": "code",
        "outputId": "55a128f9-532e-45c0-ee2d-bf558d5211de",
        "colab": {
          "base_uri": "https://localhost:8080/",
          "height": 235
        }
      },
      "source": [
        "milk.head()"
      ],
      "execution_count": 0,
      "outputs": [
        {
          "output_type": "execute_result",
          "data": {
            "text/html": [
              "<div>\n",
              "<style scoped>\n",
              "    .dataframe tbody tr th:only-of-type {\n",
              "        vertical-align: middle;\n",
              "    }\n",
              "\n",
              "    .dataframe tbody tr th {\n",
              "        vertical-align: top;\n",
              "    }\n",
              "\n",
              "    .dataframe thead th {\n",
              "        text-align: right;\n",
              "    }\n",
              "</style>\n",
              "<table border=\"1\" class=\"dataframe\">\n",
              "  <thead>\n",
              "    <tr style=\"text-align: right;\">\n",
              "      <th></th>\n",
              "      <th>Milk Production</th>\n",
              "    </tr>\n",
              "    <tr>\n",
              "      <th>Month</th>\n",
              "      <th></th>\n",
              "    </tr>\n",
              "  </thead>\n",
              "  <tbody>\n",
              "    <tr>\n",
              "      <th>1962-01-01 01:00:00</th>\n",
              "      <td>589.0</td>\n",
              "    </tr>\n",
              "    <tr>\n",
              "      <th>1962-02-01 01:00:00</th>\n",
              "      <td>561.0</td>\n",
              "    </tr>\n",
              "    <tr>\n",
              "      <th>1962-03-01 01:00:00</th>\n",
              "      <td>640.0</td>\n",
              "    </tr>\n",
              "    <tr>\n",
              "      <th>1962-04-01 01:00:00</th>\n",
              "      <td>656.0</td>\n",
              "    </tr>\n",
              "    <tr>\n",
              "      <th>1962-05-01 01:00:00</th>\n",
              "      <td>727.0</td>\n",
              "    </tr>\n",
              "  </tbody>\n",
              "</table>\n",
              "</div>"
            ],
            "text/plain": [
              "                     Milk Production\n",
              "Month                               \n",
              "1962-01-01 01:00:00            589.0\n",
              "1962-02-01 01:00:00            561.0\n",
              "1962-03-01 01:00:00            640.0\n",
              "1962-04-01 01:00:00            656.0\n",
              "1962-05-01 01:00:00            727.0"
            ]
          },
          "metadata": {
            "tags": []
          },
          "execution_count": 7
        }
      ]
    },
    {
      "cell_type": "markdown",
      "metadata": {
        "id": "XsaSGLkMEhDh",
        "colab_type": "text"
      },
      "source": [
        "** Make the index a time series by using: **\n",
        "\n",
        "    milk.index = pd.to_datetime(milk.index)"
      ]
    },
    {
      "cell_type": "code",
      "metadata": {
        "id": "1QwIHMudEhDi",
        "colab_type": "code",
        "colab": {}
      },
      "source": [
        "milk.index = pd.to_datetime(milk.index)"
      ],
      "execution_count": 0,
      "outputs": []
    },
    {
      "cell_type": "markdown",
      "metadata": {
        "id": "jVn0hyU7EhDk",
        "colab_type": "text"
      },
      "source": [
        "** Plot out the time series data. **"
      ]
    },
    {
      "cell_type": "code",
      "metadata": {
        "id": "I5rtuzDaEhDk",
        "colab_type": "code",
        "outputId": "96adfb2a-aadf-4e18-b010-aa0639066c99",
        "colab": {
          "base_uri": "https://localhost:8080/",
          "height": 286
        }
      },
      "source": [
        "milk.plot()"
      ],
      "execution_count": 0,
      "outputs": [
        {
          "output_type": "execute_result",
          "data": {
            "text/plain": [
              "<matplotlib.axes._subplots.AxesSubplot at 0x7fed6c4816d8>"
            ]
          },
          "metadata": {
            "tags": []
          },
          "execution_count": 9
        },
        {
          "output_type": "display_data",
          "data": {
            "image/png": "[encoded data removed]",
            "text/plain": [
              "<Figure size 432x288 with 1 Axes>"
            ]
          },
          "metadata": {
            "tags": []
          }
        }
      ]
    },
    {
      "cell_type": "markdown",
      "metadata": {
        "id": "mCoIsxxbEhDm",
        "colab_type": "text"
      },
      "source": [
        "___"
      ]
    },
    {
      "cell_type": "markdown",
      "metadata": {
        "id": "XJFoL9YhEhDn",
        "colab_type": "text"
      },
      "source": [
        "### Train Test Split\n",
        "\n",
        "** Let's attempt to predict a year's worth of data. (12 months or 12 steps into the future) **\n",
        "\n",
        "** Create a test train split using indexing (hint: use .head() or tail() or .iloc[]). We don't want a random train test split, we want to specify that the test set is the last 3 months of data is the test set, with everything before it is the training. **"
      ]
    },
    {
      "cell_type": "code",
      "metadata": {
        "id": "JAESpD1aEhDn",
        "colab_type": "code",
        "outputId": "ab77cc6a-08b1-463d-f986-ed01c0ce4b47",
        "colab": {}
      },
      "source": [
        "milk.info()"
      ],
      "execution_count": 0,
      "outputs": [
        {
          "output_type": "stream",
          "text": [
            "<class 'pandas.core.frame.DataFrame'>\n",
            "DatetimeIndex: 168 entries, 1962-01-01 01:00:00 to 1975-12-01 01:00:00\n",
            "Data columns (total 1 columns):\n",
            "Milk Production    168 non-null float64\n",
            "dtypes: float64(1)\n",
            "memory usage: 2.6 KB\n"
          ],
          "name": "stdout"
        }
      ]
    },
    {
      "cell_type": "code",
      "metadata": {
        "id": "fk15Zl7ZEhDp",
        "colab_type": "code",
        "colab": {}
      },
      "source": [
        "train_set = milk.head(156)"
      ],
      "execution_count": 0,
      "outputs": []
    },
    {
      "cell_type": "code",
      "metadata": {
        "id": "fFjmxF56EhDq",
        "colab_type": "code",
        "colab": {}
      },
      "source": [
        "test_set = milk.tail(12)"
      ],
      "execution_count": 0,
      "outputs": []
    },
    {
      "cell_type": "markdown",
      "metadata": {
        "id": "VGTCpbpZEhDs",
        "colab_type": "text"
      },
      "source": [
        "### Scale the Data\n",
        "\n",
        "** Use sklearn.preprocessing to scale the data using the MinMaxScaler. Remember to only fit_transform on the training data, then transform the test data. You shouldn't fit on the test data as well, otherwise you are assuming you would know about future behavior!**"
      ]
    },
    {
      "cell_type": "code",
      "metadata": {
        "collapsed": true,
        "id": "7e_K_W1pEhDs",
        "colab_type": "code",
        "colab": {}
      },
      "source": [
        "from sklearn.preprocessing import MinMaxScaler"
      ],
      "execution_count": 0,
      "outputs": []
    },
    {
      "cell_type": "code",
      "metadata": {
        "collapsed": true,
        "id": "OdW8qXJfEhDu",
        "colab_type": "code",
        "colab": {}
      },
      "source": [
        "scaler = MinMaxScaler()"
      ],
      "execution_count": 0,
      "outputs": []
    },
    {
      "cell_type": "code",
      "metadata": {
        "collapsed": true,
        "id": "kZdtSosnEhDw",
        "colab_type": "code",
        "colab": {}
      },
      "source": [
        "train_scaled = scaler.fit_transform(train_set)"
      ],
      "execution_count": 0,
      "outputs": []
    },
    {
      "cell_type": "code",
      "metadata": {
        "collapsed": true,
        "id": "rgYQU-mWEhDx",
        "colab_type": "code",
        "colab": {}
      },
      "source": [
        "test_scaled = scaler.transform(test_set)"
      ],
      "execution_count": 0,
      "outputs": []
    },
    {
      "cell_type": "markdown",
      "metadata": {
        "id": "udI-dYZhEhDz",
        "colab_type": "text"
      },
      "source": [
        "## Batch Function\n",
        "\n",
        "** We'll need a function that can feed batches of the training data. We'll need to do several things that are listed out as steps in the comments of the function. Remember to reference the previous batch method from the lecture for hints. Try to fill out the function template below, this is a pretty hard step, so feel free to reference the solutions! **"
      ]
    },
    {
      "cell_type": "code",
      "metadata": {
        "id": "QMZdARdeEhDz",
        "colab_type": "code",
        "colab": {}
      },
      "source": [
        "def next_batch(training_data,batch_size,steps):\n",
        "    \"\"\"\n",
        "    INPUT: Data, Batch Size, Time Steps per batch\n",
        "    OUTPUT: A tuple of y time series results. y[:,:-1] and y[:,1:]\n",
        "    \"\"\"\n",
        "    \n",
        "    # STEP 1: Use np.random.randint to set a random starting point index for the batch.\n",
        "    # Remember that each batch needs have the same number of steps in it.\n",
        "    # This means you should limit the starting point to len(data)-steps\n",
        "    \n",
        "    # STEP 2: Now that you have a starting index you'll need to index the data from\n",
        "    # the random start to random start + steps. Then reshape this data to be (1,steps)\n",
        "    \n",
        "    # STEP 3: Return the batches. You'll have two batches to return y[:,:-1] and y[:,1:]\n",
        "    # You'll need to reshape these into tensors for the RNN. Depending on your indexing it\n",
        "    # will be either .reshape(-1,steps-1,1) or .reshape(-1,steps,1)"
      ],
      "execution_count": 0,
      "outputs": []
    },
    {
      "cell_type": "code",
      "metadata": {
        "id": "tjzWdQJKEhD1",
        "colab_type": "code",
        "colab": {}
      },
      "source": [
        "def next_batch(training_data,batch_size,steps):\n",
        "    \n",
        "    \n",
        "    # Grab a random starting point for each batch\n",
        "    rand_start = np.random.randint(0,len(training_data)-steps) \n",
        "\n",
        "    # Create Y data for time series in the batches\n",
        "    y_batch = np.array(training_data[rand_start:rand_start+steps+1]).reshape(1,steps+1)\n",
        "\n",
        "    return y_batch[:, :-1].reshape(-1, steps, 1), y_batch[:, 1:].reshape(-1, steps, 1) "
      ],
      "execution_count": 0,
      "outputs": []
    },
    {
      "cell_type": "markdown",
      "metadata": {
        "id": "1tpz8ePvEhD3",
        "colab_type": "text"
      },
      "source": [
        "## Setting Up The RNN Model"
      ]
    },
    {
      "cell_type": "markdown",
      "metadata": {
        "id": "RIyum0gtEhD4",
        "colab_type": "text"
      },
      "source": [
        "** Import TensorFlow **"
      ]
    },
    {
      "cell_type": "code",
      "metadata": {
        "id": "7AhQ4r4GEhD4",
        "colab_type": "code",
        "colab": {}
      },
      "source": [
        "import tensorflow as tf"
      ],
      "execution_count": 0,
      "outputs": []
    },
    {
      "cell_type": "markdown",
      "metadata": {
        "id": "-DHAhq8UEhD6",
        "colab_type": "text"
      },
      "source": [
        "### The Constants\n",
        "\n",
        "** Define the constants in a single cell. You'll need the following (in parenthesis are the values I used in my solution, but you can play with some of these): **\n",
        "* Number of Inputs (1)\n",
        "* Number of Time Steps (12)\n",
        "* Number of Neurons per Layer (100)\n",
        "* Number of Outputs (1)\n",
        "* Learning Rate (0.003)\n",
        "* Number of Iterations for Training (4000)\n",
        "* Batch Size (1)"
      ]
    },
    {
      "cell_type": "code",
      "metadata": {
        "collapsed": true,
        "id": "jpvcQhHoEhD7",
        "colab_type": "code",
        "colab": {}
      },
      "source": [
        "# Just one feature, the time series\n",
        "num_inputs = 1\n",
        "# Num of steps in each batch\n",
        "num_time_steps = 12\n",
        "# 100 neuron layer, play with this\n",
        "num_neurons = 100\n",
        "# Just one output, predicted time series\n",
        "num_outputs = 1\n",
        "\n",
        "## You can also try increasing iterations, but decreasing learning rate\n",
        "# learning rate you can play with this\n",
        "learning_rate = 0.03 \n",
        "# how many iterations to go through (training steps), you can play with this\n",
        "num_train_iterations = 4000\n",
        "# Size of the batch of data\n",
        "batch_size = 1"
      ],
      "execution_count": 0,
      "outputs": []
    },
    {
      "cell_type": "markdown",
      "metadata": {
        "id": "TB3X0HLSEhD9",
        "colab_type": "text"
      },
      "source": [
        "** Create Placeholders for X and y. (You can change the variable names if you want). The shape for these placeholders should be [None,num_time_steps-1,num_inputs] and [None, num_time_steps-1, num_outputs] The reason we use num_time_steps-1 is because each of these will be one step shorter than the original time steps size, because we are training the RNN network to predict one point into the future based on the input sequence.**  "
      ]
    },
    {
      "cell_type": "code",
      "metadata": {
        "collapsed": true,
        "id": "GJD4DLwsEhD-",
        "colab_type": "code",
        "colab": {}
      },
      "source": [
        "X = tf.placeholder(tf.float32, [None, num_time_steps, num_inputs])\n",
        "y = tf.placeholder(tf.float32, [None, num_time_steps, num_outputs])"
      ],
      "execution_count": 0,
      "outputs": []
    },
    {
      "cell_type": "markdown",
      "metadata": {
        "id": "WK4w_aqREhD_",
        "colab_type": "text"
      },
      "source": [
        "** Now create the RNN Layer, you have complete freedom over this, use tf.contrib.rnn and choose anything you want, OutputProjectionWrappers, BasicRNNCells, BasicLSTMCells, MultiRNNCell, GRUCell etc... Keep in mind not every combination will work well! (If in doubt, the solutions used an Outputprojection Wrapper around a basic LSTM cell with relu activation.**"
      ]
    },
    {
      "cell_type": "code",
      "metadata": {
        "collapsed": true,
        "id": "UChWwkslEhEA",
        "colab_type": "code",
        "colab": {}
      },
      "source": [
        "# Also play around with GRUCell\n",
        "cell = tf.contrib.rnn.OutputProjectionWrapper(\n",
        "    tf.contrib.rnn.BasicLSTMCell(num_units=num_neurons, activation=tf.nn.relu),\n",
        "    output_size=num_outputs) "
      ],
      "execution_count": 0,
      "outputs": []
    },
    {
      "cell_type": "markdown",
      "metadata": {
        "id": "o6S_Tz-9EhEB",
        "colab_type": "text"
      },
      "source": [
        "** Now pass in the cells variable into tf.nn.dynamic_rnn, along with your first placeholder (X)**"
      ]
    },
    {
      "cell_type": "code",
      "metadata": {
        "collapsed": true,
        "id": "MaiqQ_7GEhEC",
        "colab_type": "code",
        "colab": {}
      },
      "source": [
        "outputs, states = tf.nn.dynamic_rnn(cell, X, dtype=tf.float32)"
      ],
      "execution_count": 0,
      "outputs": []
    },
    {
      "cell_type": "markdown",
      "metadata": {
        "id": "GbdJwrzZEhED",
        "colab_type": "text"
      },
      "source": [
        "### Loss Function and Optimizer\n",
        "\n",
        "** Create a Mean Squared Error Loss Function and use it to minimize an AdamOptimizer, remember to pass in your learning rate. **"
      ]
    },
    {
      "cell_type": "code",
      "metadata": {
        "collapsed": true,
        "id": "xECEs6noEhEE",
        "colab_type": "code",
        "colab": {}
      },
      "source": [
        "loss = tf.reduce_mean(tf.square(outputs - y)) # MSE\n",
        "optimizer = tf.train.AdamOptimizer(learning_rate=learning_rate)\n",
        "train = optimizer.minimize(loss)"
      ],
      "execution_count": 0,
      "outputs": []
    },
    {
      "cell_type": "markdown",
      "metadata": {
        "id": "ywztBzi_EhEF",
        "colab_type": "text"
      },
      "source": [
        "** Initialize the global variables **"
      ]
    },
    {
      "cell_type": "code",
      "metadata": {
        "collapsed": true,
        "id": "tGldkmoEEhEG",
        "colab_type": "code",
        "colab": {}
      },
      "source": [
        "init = tf.global_variables_initializer()"
      ],
      "execution_count": 0,
      "outputs": []
    },
    {
      "cell_type": "markdown",
      "metadata": {
        "id": "m7dgyznkEhEH",
        "colab_type": "text"
      },
      "source": [
        "** Create an instance of tf.train.Saver() **"
      ]
    },
    {
      "cell_type": "code",
      "metadata": {
        "collapsed": true,
        "id": "qGgFXUxaEhEI",
        "colab_type": "code",
        "colab": {}
      },
      "source": [
        "saver = tf.train.Saver()"
      ],
      "execution_count": 0,
      "outputs": []
    },
    {
      "cell_type": "markdown",
      "metadata": {
        "id": "_S6ogk75EhEJ",
        "colab_type": "text"
      },
      "source": [
        "### Session\n",
        "\n",
        "** Run a tf.Session that trains on the batches created by your next_batch function. Also add an a loss evaluation for every 100 training iterations. Remember to save your model after you are done training. **"
      ]
    },
    {
      "cell_type": "code",
      "metadata": {
        "collapsed": true,
        "id": "RfGkNOVSEhEK",
        "colab_type": "code",
        "colab": {}
      },
      "source": [
        "gpu_options = tf.GPUOptions(per_process_gpu_memory_fraction=0.9)"
      ],
      "execution_count": 0,
      "outputs": []
    },
    {
      "cell_type": "code",
      "metadata": {
        "id": "VoNhTyjcEhEL",
        "colab_type": "code",
        "outputId": "a6704326-88da-4eee-837a-fbb3a594186a",
        "colab": {}
      },
      "source": [
        "with tf.Session(config=tf.ConfigProto(gpu_options=gpu_options)) as sess:\n",
        "    sess.run(init)\n",
        "    \n",
        "    for iteration in range(num_train_iterations):\n",
        "        \n",
        "        X_batch, y_batch = next_batch(train_scaled,batch_size,num_time_steps)\n",
        "        sess.run(train, feed_dict={X: X_batch, y: y_batch})\n",
        "        \n",
        "        if iteration % 100 == 0:\n",
        "            \n",
        "            mse = loss.eval(feed_dict={X: X_batch, y: y_batch})\n",
        "            print(iteration, \"\\tMSE:\", mse)\n",
        "    \n",
        "    # Save Model for Later\n",
        "    saver.save(sess, \"./ex_time_series_model\")"
      ],
      "execution_count": 0,
      "outputs": [
        {
          "output_type": "stream",
          "text": [
            "0 \tMSE: 0.0628359\n",
            "100 \tMSE: 0.00854151\n",
            "200 \tMSE: 0.00699567\n",
            "300 \tMSE: 0.0156167\n",
            "400 \tMSE: 0.00777238\n",
            "500 \tMSE: 0.00864684\n",
            "600 \tMSE: 0.0159645\n",
            "700 \tMSE: 0.00656524\n",
            "800 \tMSE: 0.0076439\n",
            "900 \tMSE: 0.006401\n",
            "1000 \tMSE: 0.00369383\n",
            "1100 \tMSE: 0.00988994\n",
            "1200 \tMSE: 0.00803645\n",
            "1300 \tMSE: 0.00575964\n",
            "1400 \tMSE: 0.0151093\n",
            "1500 \tMSE: 0.00752775\n",
            "1600 \tMSE: 0.00542804\n",
            "1700 \tMSE: 0.00162975\n",
            "1800 \tMSE: 0.00230503\n",
            "1900 \tMSE: 0.00416592\n",
            "2000 \tMSE: 0.00369024\n",
            "2100 \tMSE: 0.00397327\n",
            "2200 \tMSE: 0.00235241\n",
            "2300 \tMSE: 0.00472639\n",
            "2400 \tMSE: 0.00418429\n",
            "2500 \tMSE: 0.00693244\n",
            "2600 \tMSE: 0.00375631\n",
            "2700 \tMSE: 0.00236074\n",
            "2800 \tMSE: 0.00268888\n",
            "2900 \tMSE: 0.00708326\n",
            "3000 \tMSE: 0.00418036\n",
            "3100 \tMSE: 0.00486205\n",
            "3200 \tMSE: 0.00659863\n",
            "3300 \tMSE: 0.00621194\n",
            "3400 \tMSE: 0.00150676\n",
            "3500 \tMSE: 0.0050875\n",
            "3600 \tMSE: 0.00395521\n",
            "3700 \tMSE: 0.00200348\n",
            "3800 \tMSE: 0.00386259\n",
            "3900 \tMSE: 0.00360108\n"
          ],
          "name": "stdout"
        }
      ]
    },
    {
      "cell_type": "markdown",
      "metadata": {
        "id": "-37NVaQ-EhEO",
        "colab_type": "text"
      },
      "source": [
        "______"
      ]
    },
    {
      "cell_type": "markdown",
      "metadata": {
        "id": "SMJBlifzEhEO",
        "colab_type": "text"
      },
      "source": [
        "## Predicting Future (Test Data)"
      ]
    },
    {
      "cell_type": "markdown",
      "metadata": {
        "id": "hpAQI679EhEP",
        "colab_type": "text"
      },
      "source": [
        "** Show the test_set (the last 12 months of your original complete data set) **"
      ]
    },
    {
      "cell_type": "code",
      "metadata": {
        "id": "pO9qmREMEhEP",
        "colab_type": "code",
        "outputId": "73110291-1a5b-46cf-875d-c955d06e4228",
        "colab": {}
      },
      "source": [
        "test_set"
      ],
      "execution_count": 0,
      "outputs": [
        {
          "output_type": "execute_result",
          "data": {
            "text/html": [
              "<div>\n",
              "<style>\n",
              "    .dataframe thead tr:only-child th {\n",
              "        text-align: right;\n",
              "    }\n",
              "\n",
              "    .dataframe thead th {\n",
              "        text-align: left;\n",
              "    }\n",
              "\n",
              "    .dataframe tbody tr th {\n",
              "        vertical-align: top;\n",
              "    }\n",
              "</style>\n",
              "<table border=\"1\" class=\"dataframe\">\n",
              "  <thead>\n",
              "    <tr style=\"text-align: right;\">\n",
              "      <th></th>\n",
              "      <th>Milk Production</th>\n",
              "      <th>Generated</th>\n",
              "    </tr>\n",
              "    <tr>\n",
              "      <th>Month</th>\n",
              "      <th></th>\n",
              "      <th></th>\n",
              "    </tr>\n",
              "  </thead>\n",
              "  <tbody>\n",
              "    <tr>\n",
              "      <th>1975-01-01 01:00:00</th>\n",
              "      <td>834.0</td>\n",
              "      <td>803.552185</td>\n",
              "    </tr>\n",
              "    <tr>\n",
              "      <th>1975-02-01 01:00:00</th>\n",
              "      <td>782.0</td>\n",
              "      <td>853.711670</td>\n",
              "    </tr>\n",
              "    <tr>\n",
              "      <th>1975-03-01 01:00:00</th>\n",
              "      <td>892.0</td>\n",
              "      <td>873.503967</td>\n",
              "    </tr>\n",
              "    <tr>\n",
              "      <th>1975-04-01 01:00:00</th>\n",
              "      <td>903.0</td>\n",
              "      <td>953.084412</td>\n",
              "    </tr>\n",
              "    <tr>\n",
              "      <th>1975-05-01 01:00:00</th>\n",
              "      <td>966.0</td>\n",
              "      <td>1034.545898</td>\n",
              "    </tr>\n",
              "    <tr>\n",
              "      <th>1975-06-01 01:00:00</th>\n",
              "      <td>937.0</td>\n",
              "      <td>1044.826782</td>\n",
              "    </tr>\n",
              "    <tr>\n",
              "      <th>1975-07-01 01:00:00</th>\n",
              "      <td>896.0</td>\n",
              "      <td>1005.353882</td>\n",
              "    </tr>\n",
              "    <tr>\n",
              "      <th>1975-08-01 01:00:00</th>\n",
              "      <td>858.0</td>\n",
              "      <td>961.916016</td>\n",
              "    </tr>\n",
              "    <tr>\n",
              "      <th>1975-09-01 01:00:00</th>\n",
              "      <td>817.0</td>\n",
              "      <td>938.022827</td>\n",
              "    </tr>\n",
              "    <tr>\n",
              "      <th>1975-10-01 01:00:00</th>\n",
              "      <td>827.0</td>\n",
              "      <td>928.015747</td>\n",
              "    </tr>\n",
              "    <tr>\n",
              "      <th>1975-11-01 01:00:00</th>\n",
              "      <td>797.0</td>\n",
              "      <td>919.876160</td>\n",
              "    </tr>\n",
              "    <tr>\n",
              "      <th>1975-12-01 01:00:00</th>\n",
              "      <td>843.0</td>\n",
              "      <td>924.461182</td>\n",
              "    </tr>\n",
              "  </tbody>\n",
              "</table>\n",
              "</div>"
            ],
            "text/plain": [
              "                     Milk Production    Generated\n",
              "Month                                            \n",
              "1975-01-01 01:00:00            834.0   803.552185\n",
              "1975-02-01 01:00:00            782.0   853.711670\n",
              "1975-03-01 01:00:00            892.0   873.503967\n",
              "1975-04-01 01:00:00            903.0   953.084412\n",
              "1975-05-01 01:00:00            966.0  1034.545898\n",
              "1975-06-01 01:00:00            937.0  1044.826782\n",
              "1975-07-01 01:00:00            896.0  1005.353882\n",
              "1975-08-01 01:00:00            858.0   961.916016\n",
              "1975-09-01 01:00:00            817.0   938.022827\n",
              "1975-10-01 01:00:00            827.0   928.015747\n",
              "1975-11-01 01:00:00            797.0   919.876160\n",
              "1975-12-01 01:00:00            843.0   924.461182"
            ]
          },
          "metadata": {
            "tags": []
          },
          "execution_count": 34
        }
      ]
    },
    {
      "cell_type": "markdown",
      "metadata": {
        "id": "uhrqO8C7EhER",
        "colab_type": "text"
      },
      "source": [
        "** Now we want to attempt to predict these 12 months of data, using only the training data we had. To do this we will feed in a seed training_instance of the last 12 months of the training_set of data to predict 12 months into the future. Then we will be able to compare our generated 12 months to our actual true historical values from the test set! **"
      ]
    },
    {
      "cell_type": "markdown",
      "metadata": {
        "id": "DEOiEyTgEhES",
        "colab_type": "text"
      },
      "source": [
        "# Generative Session\n",
        "\n",
        "NOTE: Recall that our model is really only trained to predict 1 time step ahead, asking it to generate 12 steps is a big ask, and technically not what it was trained to do! Think of this more as generating new values based off some previous pattern, rather than trying to directly predict the future. You would need to go back to the original model and train the model to predict 12 time steps ahead to really get a higher accuracy on the test data. (Which has its limits due to the smaller size of our data set)\n",
        "\n",
        "** Fill out the session code below to generate 12 months of data based off the last 12 months of data from the training set. The hardest part about this is adjusting the arrays with their shapes and sizes. Reference the lecture for hints.**"
      ]
    },
    {
      "cell_type": "code",
      "metadata": {
        "id": "F9yq-BUPEhES",
        "colab_type": "code",
        "outputId": "e8b59ce8-338b-49f5-d7ba-ceb50dfdd018",
        "colab": {}
      },
      "source": [
        "with tf.Session() as sess:\n",
        "    \n",
        "    # Use your Saver instance to restore your saved rnn time series model\n",
        "    saver.restore(sess, \"./ex_time_series_model\")\n",
        "\n",
        "    # Create a numpy array for your genreative seed from the last 12 months of the \n",
        "    # training set data. Hint: Just use tail(12) and then pass it to an np.array\n",
        "    train_seed = list(train_scaled[-12:])\n",
        "    \n",
        "    ## Now create a for loop that \n",
        "    for iteration in range(12):\n",
        "        X_batch = np.array(train_seed[-num_time_steps:]).reshape(1, num_time_steps, 1)\n",
        "        y_pred = sess.run(outputs, feed_dict={X: X_batch})\n",
        "        train_seed.append(y_pred[0, -1, 0])"
      ],
      "execution_count": 0,
      "outputs": [
        {
          "output_type": "stream",
          "text": [
            "INFO:tensorflow:Restoring parameters from ./ex_time_series_model\n"
          ],
          "name": "stdout"
        }
      ]
    },
    {
      "cell_type": "markdown",
      "metadata": {
        "id": "x9PJ-ewMEhET",
        "colab_type": "text"
      },
      "source": [
        "** Show the result of the predictions. **"
      ]
    },
    {
      "cell_type": "code",
      "metadata": {
        "id": "aWscpn3EEhEU",
        "colab_type": "code",
        "outputId": "d03e929b-18c5-4530-b31e-fd9bb8325d70",
        "colab": {}
      },
      "source": [
        "train_seed"
      ],
      "execution_count": 0,
      "outputs": [
        {
          "output_type": "execute_result",
          "data": {
            "text/plain": [
              "[array([ 0.66105769]),\n",
              " array([ 0.54086538]),\n",
              " array([ 0.80769231]),\n",
              " array([ 0.83894231]),\n",
              " array([ 1.]),\n",
              " array([ 0.94711538]),\n",
              " array([ 0.85336538]),\n",
              " array([ 0.75480769]),\n",
              " array([ 0.62980769]),\n",
              " array([ 0.62259615]),\n",
              " array([ 0.52884615]),\n",
              " array([ 0.625]),\n",
              " 0.65501654,\n",
              " 0.60958958,\n",
              " 0.82095361,\n",
              " 0.82965684,\n",
              " 0.97597635,\n",
              " 0.91560352,\n",
              " 0.85447896,\n",
              " 0.78555191,\n",
              " 0.69337928,\n",
              " 0.70481831,\n",
              " 0.64406919,\n",
              " 0.71613598]"
            ]
          },
          "metadata": {
            "tags": []
          },
          "execution_count": 45
        }
      ]
    },
    {
      "cell_type": "markdown",
      "metadata": {
        "id": "grv9To86EhEW",
        "colab_type": "text"
      },
      "source": [
        "** Grab the portion of the results that are the generated values and apply inverse_transform on them to turn them back into milk production value units (lbs per cow). Also reshape the results to be (12,1) so we can easily add them to the test_set dataframe.**"
      ]
    },
    {
      "cell_type": "code",
      "metadata": {
        "id": "w2L556nrEhEW",
        "colab_type": "code",
        "colab": {}
      },
      "source": [
        "results = scaler.inverse_transform(np.array(train_seed[12:]).reshape(12,1))"
      ],
      "execution_count": 0,
      "outputs": []
    },
    {
      "cell_type": "markdown",
      "metadata": {
        "id": "L_4cngu2EhEY",
        "colab_type": "text"
      },
      "source": [
        "** Create a new column on the test_set called \"Generated\" and set it equal to the generated results. You may get a warning about this, feel free to ignore it.**"
      ]
    },
    {
      "cell_type": "code",
      "metadata": {
        "id": "z9-VD2f9EhEY",
        "colab_type": "code",
        "outputId": "45008c9e-4cd3-410b-b10a-ca3920b33848",
        "colab": {}
      },
      "source": [
        "test_set['Generated'] = results"
      ],
      "execution_count": 0,
      "outputs": [
        {
          "output_type": "stream",
          "text": [
            "C:\\Users\\Marcial\\Anaconda3\\envs\\tf_1_3\\lib\\site-packages\\ipykernel_launcher.py:1: SettingWithCopyWarning: \n",
            "A value is trying to be set on a copy of a slice from a DataFrame.\n",
            "Try using .loc[row_indexer,col_indexer] = value instead\n",
            "\n",
            "See the caveats in the documentation: http://pandas.pydata.org/pandas-docs/stable/indexing.html#indexing-view-versus-copy\n",
            "  \"\"\"Entry point for launching an IPython kernel.\n"
          ],
          "name": "stderr"
        }
      ]
    },
    {
      "cell_type": "markdown",
      "metadata": {
        "id": "7t4xWwjXEhEa",
        "colab_type": "text"
      },
      "source": [
        "** View the test_set dataframe. **"
      ]
    },
    {
      "cell_type": "code",
      "metadata": {
        "id": "mjwv_f80EhEa",
        "colab_type": "code",
        "outputId": "ff624130-a9a4-4623-c944-11a513af271b",
        "colab": {}
      },
      "source": [
        "test_set"
      ],
      "execution_count": 0,
      "outputs": [
        {
          "output_type": "execute_result",
          "data": {
            "text/html": [
              "<div>\n",
              "<style>\n",
              "    .dataframe thead tr:only-child th {\n",
              "        text-align: right;\n",
              "    }\n",
              "\n",
              "    .dataframe thead th {\n",
              "        text-align: left;\n",
              "    }\n",
              "\n",
              "    .dataframe tbody tr th {\n",
              "        vertical-align: top;\n",
              "    }\n",
              "</style>\n",
              "<table border=\"1\" class=\"dataframe\">\n",
              "  <thead>\n",
              "    <tr style=\"text-align: right;\">\n",
              "      <th></th>\n",
              "      <th>Milk Production</th>\n",
              "      <th>Generated</th>\n",
              "    </tr>\n",
              "    <tr>\n",
              "      <th>Month</th>\n",
              "      <th></th>\n",
              "      <th></th>\n",
              "    </tr>\n",
              "  </thead>\n",
              "  <tbody>\n",
              "    <tr>\n",
              "      <th>1975-01-01 01:00:00</th>\n",
              "      <td>834.0</td>\n",
              "      <td>825.486877</td>\n",
              "    </tr>\n",
              "    <tr>\n",
              "      <th>1975-02-01 01:00:00</th>\n",
              "      <td>782.0</td>\n",
              "      <td>806.589233</td>\n",
              "    </tr>\n",
              "    <tr>\n",
              "      <th>1975-03-01 01:00:00</th>\n",
              "      <td>892.0</td>\n",
              "      <td>894.516663</td>\n",
              "    </tr>\n",
              "    <tr>\n",
              "      <th>1975-04-01 01:00:00</th>\n",
              "      <td>903.0</td>\n",
              "      <td>898.137207</td>\n",
              "    </tr>\n",
              "    <tr>\n",
              "      <th>1975-05-01 01:00:00</th>\n",
              "      <td>966.0</td>\n",
              "      <td>959.006165</td>\n",
              "    </tr>\n",
              "    <tr>\n",
              "      <th>1975-06-01 01:00:00</th>\n",
              "      <td>937.0</td>\n",
              "      <td>933.891113</td>\n",
              "    </tr>\n",
              "    <tr>\n",
              "      <th>1975-07-01 01:00:00</th>\n",
              "      <td>896.0</td>\n",
              "      <td>908.463257</td>\n",
              "    </tr>\n",
              "    <tr>\n",
              "      <th>1975-08-01 01:00:00</th>\n",
              "      <td>858.0</td>\n",
              "      <td>879.789612</td>\n",
              "    </tr>\n",
              "    <tr>\n",
              "      <th>1975-09-01 01:00:00</th>\n",
              "      <td>817.0</td>\n",
              "      <td>841.445801</td>\n",
              "    </tr>\n",
              "    <tr>\n",
              "      <th>1975-10-01 01:00:00</th>\n",
              "      <td>827.0</td>\n",
              "      <td>846.204346</td>\n",
              "    </tr>\n",
              "    <tr>\n",
              "      <th>1975-11-01 01:00:00</th>\n",
              "      <td>797.0</td>\n",
              "      <td>820.932739</td>\n",
              "    </tr>\n",
              "    <tr>\n",
              "      <th>1975-12-01 01:00:00</th>\n",
              "      <td>843.0</td>\n",
              "      <td>850.912537</td>\n",
              "    </tr>\n",
              "  </tbody>\n",
              "</table>\n",
              "</div>"
            ],
            "text/plain": [
              "                     Milk Production   Generated\n",
              "Month                                           \n",
              "1975-01-01 01:00:00            834.0  825.486877\n",
              "1975-02-01 01:00:00            782.0  806.589233\n",
              "1975-03-01 01:00:00            892.0  894.516663\n",
              "1975-04-01 01:00:00            903.0  898.137207\n",
              "1975-05-01 01:00:00            966.0  959.006165\n",
              "1975-06-01 01:00:00            937.0  933.891113\n",
              "1975-07-01 01:00:00            896.0  908.463257\n",
              "1975-08-01 01:00:00            858.0  879.789612\n",
              "1975-09-01 01:00:00            817.0  841.445801\n",
              "1975-10-01 01:00:00            827.0  846.204346\n",
              "1975-11-01 01:00:00            797.0  820.932739\n",
              "1975-12-01 01:00:00            843.0  850.912537"
            ]
          },
          "metadata": {
            "tags": []
          },
          "execution_count": 51
        }
      ]
    },
    {
      "cell_type": "markdown",
      "metadata": {
        "id": "ezFiUf0DEhEc",
        "colab_type": "text"
      },
      "source": [
        "** Plot out the two columns for comparison. **"
      ]
    },
    {
      "cell_type": "code",
      "metadata": {
        "id": "M-evsuwOEhEc",
        "colab_type": "code",
        "outputId": "b6c19113-8797-4af7-a0ae-b0f57b808594",
        "colab": {}
      },
      "source": [
        "test_set.plot()"
      ],
      "execution_count": 0,
      "outputs": [
        {
          "output_type": "execute_result",
          "data": {
            "text/plain": [
              "<matplotlib.axes._subplots.AxesSubplot at 0x1377c5ddc18>"
            ]
          },
          "metadata": {
            "tags": []
          },
          "execution_count": 39
        },
        {
          "output_type": "display_data",
          "data": {
            "image/png": "[encoded data removed]",
            "text/plain": [
              "<matplotlib.figure.Figure at 0x13506b453c8>"
            ]
          },
          "metadata": {
            "tags": []
          }
        }
      ]
    }
  ]
}