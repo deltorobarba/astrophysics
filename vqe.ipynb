{
  "nbformat": 4,
  "nbformat_minor": 0,
  "metadata": {
    "colab": {
      "name": "vqe.ipynb",
      "provenance": [],
      "collapsed_sections": [
        "DuqBj0b2Igpf",
        "HTF-4382uo5n",
        "dToaU4Glugq8"
      ],
      "include_colab_link": true
    },
    "kernelspec": {
      "name": "python3",
      "display_name": "Python 3"
    }
  },
  "cells": [
    {
      "cell_type": "markdown",
      "metadata": {
        "id": "view-in-github",
        "colab_type": "text"
      },
      "source": [
        "<a href=\"https://colab.research.google.com/github/deltorobarba/machinelearning/blob/master/vqe.ipynb\" target=\"_parent\"><img src=\"https://colab.research.google.com/assets/colab-badge.svg\" alt=\"Open In Colab\"/></a>"
      ]
    },
    {
      "cell_type": "markdown",
      "metadata": {
        "id": "uYQVihuXzx6u"
      },
      "source": [
        "# **Variational Quantum Eigensolver (VQE)**"
      ]
    },
    {
      "cell_type": "code",
      "metadata": {
        "id": "jObfS0OgRhq6"
      },
      "source": [
        "!pip install cirq --quiet\n",
        "import cirq\n",
        "import sympy\n",
        "from cirq.contrib.svg import SVGCircuit\n",
        "import numpy as np\n",
        "import pandas as pd\n",
        "import seaborn as sns\n",
        "import matplotlib.pyplot as plt # %matplotlib inline\n",
        "print(cirq.__version__)"
      ],
      "execution_count": null,
      "outputs": []
    },
    {
      "cell_type": "markdown",
      "metadata": {
        "id": "_vEB311no4HD"
      },
      "source": [
        "https://medium.com/mit-6-s089-intro-to-quantum-computing/quantum-molecule-simulation-using-vqe-d34b9c651e3d"
      ]
    },
    {
      "cell_type": "markdown",
      "metadata": {
        "id": "dToaU4Glugq8"
      },
      "source": [
        "###### <font color=\"blue\">**Approach and Subroutines**"
      ]
    },
    {
      "cell_type": "markdown",
      "metadata": {
        "id": "RPc-sWLFPAl8"
      },
      "source": [
        "**Main Subroutines in HHL:**\n",
        "\n",
        "* Hamiltonian simulation\n",
        "* Phase estimation (newer: linear combination of unitaries)\n",
        "* (Variable-time) amplitude amplification"
      ]
    }
  ]
}