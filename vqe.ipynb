{
  "nbformat": 4,
  "nbformat_minor": 0,
  "metadata": {
    "colab": {
      "name": "vqe.ipynb",
      "provenance": [],
      "collapsed_sections": [
        "oCoXqAAHoQ0S"
      ],
      "include_colab_link": true
    },
    "kernelspec": {
      "name": "python3",
      "display_name": "Python 3"
    }
  },
  "cells": [
    {
      "cell_type": "markdown",
      "metadata": {
        "id": "view-in-github",
        "colab_type": "text"
      },
      "source": [
        "<a href=\"https://colab.research.google.com/github/deltorobarba/machinelearning/blob/master/vqe.ipynb\" target=\"_parent\"><img src=\"https://colab.research.google.com/assets/colab-badge.svg\" alt=\"Open In Colab\"/></a>"
      ]
    },
    {
      "cell_type": "markdown",
      "metadata": {
        "id": "uYQVihuXzx6u"
      },
      "source": [
        "# **Variational Quantum Eigensolver (VQE)**"
      ]
    },
    {
      "cell_type": "code",
      "metadata": {
        "id": "jObfS0OgRhq6"
      },
      "source": [
        "!pip install cirq --quiet\n",
        "import cirq\n",
        "import sympy\n",
        "from cirq.contrib.svg import SVGCircuit\n",
        "import numpy as np\n",
        "import pandas as pd\n",
        "import seaborn as sns\n",
        "import matplotlib.pyplot as plt # %matplotlib inline\n",
        "print(cirq.__version__)"
      ],
      "execution_count": null,
      "outputs": []
    },
    {
      "cell_type": "markdown",
      "metadata": {
        "id": "dToaU4Glugq8"
      },
      "source": [
        "#### <font color=\"blue\">**Quantum Molecule Simulation using VQE: Mathematics**"
      ]
    },
    {
      "cell_type": "markdown",
      "metadata": {
        "id": "0JB_bEi_jQO4"
      },
      "source": [
        "> Model different molecules and how they interact together\n",
        "\n",
        "* **Objective**: create new, more effective medicines along with researching how medications might react with diseases such as cancer.\n",
        "\n",
        "* **Challenge**: effectively make the calculations needed for the chemical reactions that occur. \n",
        "\n",
        "  * One such calculation is **calculating the ground state energy of different small molecules**.\n",
        "\n",
        "  * Running this calculation on a classical computer can take exponential time to get an exact numerical answer.\n",
        "\n",
        "\n",
        "* *Exkurs: The [ground state energy](https://en.wikipedia.org/wiki/Excited_state) is the lowest possible energy state that a molecule can be in. This is important because it gives more information about the electron configuration of the molecule.*\n",
        "\n",
        "![gg](https://upload.wikimedia.org/wikipedia/commons/thumb/a/a8/Energy_levels.svg/306px-Energy_levels.svg.png)\n"
      ]
    },
    {
      "cell_type": "markdown",
      "metadata": {
        "id": "LiqkS33cksH0"
      },
      "source": [
        "**From chemistry and physics we know that the Schrodinger equation tells us that if $H$ is the Hamiltonian of a system, $H|ψ⟩ = E_g|ψ⟩$ where the minimum eigenvalue $E_g$ that solves this equation corresponds to the ground state energy of the molecule**.\n",
        "\n",
        "* To find this energy, we want to **find the exact minimum eigenvalue** that corresponds to that Hermitian matrix. \n",
        "\n",
        "* However that **would require a perfectly working quantum computer using the QPE (Quantum Phase Estimation Algorithm)**, which is not possible as of right now.\n",
        "\n",
        "* Rather, we can use the [variational principle](https://en.wikipedia.org/wiki/Variational_principle) to find a close, if not exact solution.\n",
        "\n",
        "\n",
        "\n",
        "\n"
      ]
    },
    {
      "cell_type": "markdown",
      "metadata": {
        "id": "27hAQiw0pl5c"
      },
      "source": [
        "This principle relies on the fact that a Hermitian is equal to its own conjugate transpose (ie 𝐻=𝐻†), \n",
        "\n",
        "* and since any eigenvalue of H must be real, all eigenvalues of 𝐻 have the property of 𝜆𝑖=𝜆∗. \n",
        "\n",
        "* We can rewrite the Hermitian as follows, where 𝜆 is the eigenvalue associated with the eigenvector |𝜓_i⟩\n",
        "\n",
        "> $H=\\sum_{i=1}^{N} \\lambda_{i}\\left|\\psi_{i}\\right\\rangle\\left\\langle\\psi_{i}\\right|$\n",
        "\n",
        "* which we can then use to define the expectation of this Hermitian as\n",
        "\n",
        "> $\\langle H\\rangle_{\\psi} \\equiv\\langle\\psi|H| \\psi\\rangle$\n",
        "\n",
        "* And finally we can substitute in for $H$ and get the following\n",
        "\n",
        "> $\\begin{aligned}\\langle H\\rangle_{\\psi}=\\langle\\psi|H| \\psi\\rangle &=\\left\\langle\\psi\\left|\\left(\\sum_{i=1}^{N} \\lambda_{i}\\left|\\psi_{i}\\right\\rangle\\left\\langle\\psi_{i}\\right|\\right)\\right| \\psi\\right\\rangle \\\\ &=\\sum_{i=1}^{N} \\lambda_{i}\\left\\langle\\psi \\mid \\psi_{i}\\right\\rangle\\left\\langle\\psi_{i} \\mid \\psi\\right\\rangle \\\\ &=\\sum_{i=1}^{N} \\lambda_{i}\\left|\\left\\langle\\psi_{i} \\mid \\psi\\right\\rangle\\right|^{2} \\end{aligned}$\n",
        "\n",
        "* which demonstrates that **any state can be described using a sum of the eigenvalues of the Hermitian as weights**. \n",
        "\n",
        "* One final property of the Hermitian is what truly allows the variational principle to work is that the eigenvalues of it have to be real, non-negative numbers, such that\n",
        "\n",
        "> $\\lambda_{\\min } \\leq\\langle H\\rangle_{\\psi}=\\langle\\psi|H| \\psi\\rangle$\n",
        "\n",
        "* And this equation is what gives power to the Variational Quantum Eigensolver. \n",
        "\n",
        "> **Since the minimum eigenvalue can never be smaller than the expectation value that we are looking for, then by minimizing our expectation, we will get really close to the minimum eigenvalue**."
      ]
    },
    {
      "cell_type": "markdown",
      "metadata": {
        "id": "xuegbFg8qqCU"
      },
      "source": [
        "#### <font color=\"blue\">**Quantum Molecule Simulation using VQE: Algorithm**"
      ]
    },
    {
      "cell_type": "markdown",
      "metadata": {
        "id": "_vEB311no4HD"
      },
      "source": [
        "https://medium.com/mit-6-s089-intro-to-quantum-computing/quantum-molecule-simulation-using-vqe-d34b9c651e3d"
      ]
    },
    {
      "cell_type": "markdown",
      "metadata": {
        "id": "oCoXqAAHoQ0S"
      },
      "source": [
        "#### <font color=\"blue\">**Variational method (quantum mechanics)**"
      ]
    },
    {
      "cell_type": "markdown",
      "metadata": {
        "id": "3UZvYf8qo901"
      },
      "source": [
        "https://en.m.wikipedia.org/wiki/Many-body_problem"
      ]
    },
    {
      "cell_type": "markdown",
      "metadata": {
        "id": "jIbVYnnHoVWl"
      },
      "source": [
        "In science and especially in mathematical studies, a [variational principle](https://en.m.wikipedia.org/wiki/Variational_principle) is one that enables a problem to be solved using calculus of variations, which concerns finding functions that optimize the values of quantities that depend on those functions."
      ]
    },
    {
      "cell_type": "markdown",
      "metadata": {
        "id": "l9es1qLwnZDC"
      },
      "source": [
        "In [quantum mechanics, the variational method](https://en.m.wikipedia.org/wiki/Variational_method_(quantum_mechanics)) is one way of finding approximations to the lowest energy eigenstate or ground state, and some excited states. This allows calculating approximate wavefunctions such as molecular orbitals. The basis for this method is the variational principle.\n",
        "\n",
        "  * The method consists of choosing a \"trial wavefunction\" depending on one or more parameters, and finding the values of these parameters for which the expectation value of the energy is the lowest possible. \n",
        "  \n",
        "  * The wavefunction obtained by fixing the parameters to such values is then an approximation to the ground state wavefunction, and the expectation value of the energy in that state is an upper bound to the ground state energy. **The [Hartree–Fock method](https://en.m.wikipedia.org/wiki/Hartree%E2%80%93Fock_method), [Density matrix renormalization group](https://en.m.wikipedia.org/wiki/Density_matrix_renormalization_group), and [Ritz method](https://en.m.wikipedia.org/wiki/Ritz_method) apply the variational method**.\n",
        "\n",
        "  * This principle relies on the fact that a Hermitian is equal to its own conjugate transpose (ie 𝐻=𝐻†), and since any eigenvalue of H must be real, all eigenvalues of 𝐻 have the property of 𝜆𝑖=𝜆∗."
      ]
    },
    {
      "cell_type": "markdown",
      "metadata": {
        "id": "DZXwDgUNomvb"
      },
      "source": [
        "**Hartree–Fock Method**"
      ]
    },
    {
      "cell_type": "markdown",
      "metadata": {
        "id": "kXs2GzbGodhy"
      },
      "source": [
        "https://en.m.wikipedia.org/wiki/Hartree%E2%80%93Fock_method"
      ]
    },
    {
      "cell_type": "markdown",
      "metadata": {
        "id": "N9Zt4jVuofVx"
      },
      "source": [
        "https://en.m.wikipedia.org/wiki/Slater_determinant"
      ]
    },
    {
      "cell_type": "markdown",
      "metadata": {
        "id": "CGMJz0AEoixA"
      },
      "source": [
        "https://en.m.wikipedia.org/wiki/Permanent_(mathematics)"
      ]
    },
    {
      "cell_type": "markdown",
      "metadata": {
        "id": "dxEPFgLpozcx"
      },
      "source": [
        "**Density matrix renormalization group**"
      ]
    },
    {
      "cell_type": "markdown",
      "metadata": {
        "id": "_R0cCqUco08T"
      },
      "source": [
        "https://en.m.wikipedia.org/wiki/Density_matrix_renormalization_group"
      ]
    },
    {
      "cell_type": "markdown",
      "metadata": {
        "id": "i6XevCo6oqZb"
      },
      "source": [
        "**Ritz Method**"
      ]
    },
    {
      "cell_type": "markdown",
      "metadata": {
        "id": "iRJzZmE1ouKD"
      },
      "source": [
        "https://en.m.wikipedia.org/wiki/Ritz_method"
      ]
    },
    {
      "cell_type": "markdown",
      "metadata": {
        "id": "tWQd156Uortc"
      },
      "source": [
        "https://en.m.wikipedia.org/wiki/Rayleigh%E2%80%93Ritz_method"
      ]
    }
  ]
}