{
  "nbformat": 4,
  "nbformat_minor": 0,
  "metadata": {
    "colab": {
      "name": "vqe.ipynb",
      "provenance": [],
      "collapsed_sections": [
        "oCoXqAAHoQ0S",
        "uwad0OnHJwo_",
        "LmM9RdpaTuOI",
        "DZXwDgUNomvb",
        "dxEPFgLpozcx",
        "i6XevCo6oqZb",
        "3Yw-iOvk4WNj",
        "jZsI8tEJE71Z",
        "rKgoHa655aMo",
        "tyVjijNZ6z6d",
        "dToaU4Glugq8",
        "xuegbFg8qqCU",
        "HGsztEvz3BlY"
      ],
      "include_colab_link": true
    },
    "kernelspec": {
      "name": "python3",
      "display_name": "Python 3"
    }
  },
  "cells": [
    {
      "cell_type": "markdown",
      "metadata": {
        "id": "view-in-github",
        "colab_type": "text"
      },
      "source": [
        "<a href=\"https://colab.research.google.com/github/deltorobarba/machinelearning/blob/master/vqe.ipynb\" target=\"_parent\"><img src=\"https://colab.research.google.com/assets/colab-badge.svg\" alt=\"Open In Colab\"/></a>"
      ]
    },
    {
      "cell_type": "markdown",
      "metadata": {
        "id": "uYQVihuXzx6u"
      },
      "source": [
        "# **Variational Quantum Eigensolver (VQE) for Quantum Molecule Simulation**"
      ]
    },
    {
      "cell_type": "code",
      "metadata": {
        "id": "jObfS0OgRhq6"
      },
      "source": [
        "!pip install cirq --quiet\n",
        "import cirq\n",
        "import sympy\n",
        "from cirq.contrib.svg import SVGCircuit\n",
        "import numpy as np\n",
        "import pandas as pd\n",
        "import seaborn as sns\n",
        "import matplotlib.pyplot as plt # %matplotlib inline\n",
        "print(cirq.__version__)"
      ],
      "execution_count": null,
      "outputs": []
    },
    {
      "cell_type": "markdown",
      "metadata": {
        "id": "lIso4Kx4a1ib"
      },
      "source": [
        "https://arxiv.org/abs/2012.09265"
      ]
    },
    {
      "cell_type": "markdown",
      "metadata": {
        "id": "Bs3OuOkNZsJ6"
      },
      "source": [
        "https://pennylane.ai/qml/demos/tutorial_quantum_natural_gradient.html"
      ]
    },
    {
      "cell_type": "markdown",
      "metadata": {
        "id": "uwFvJMygZt3U"
      },
      "source": [
        "https://pennylane.ai/qml/glossary/variational_circuit.html#glossary-variational-circuit"
      ]
    },
    {
      "cell_type": "markdown",
      "metadata": {
        "id": "6bAp8yN2ZvxP"
      },
      "source": [
        "https://pennylane.ai/qml/glossary/parameter_shift.html"
      ]
    },
    {
      "cell_type": "markdown",
      "metadata": {
        "id": "2WftQLDoZ2gL"
      },
      "source": [
        "https://de.wikipedia.org/wiki/Downhill-Simplex-Verfahren"
      ]
    },
    {
      "cell_type": "markdown",
      "metadata": {
        "id": "oCoXqAAHoQ0S"
      },
      "source": [
        "#### <font color=\"blue\">**Variational Methods for approaching the ground state energy of a system**"
      ]
    },
    {
      "cell_type": "markdown",
      "metadata": {
        "id": "uwad0OnHJwo_"
      },
      "source": [
        "###### **Variational Principle**"
      ]
    },
    {
      "cell_type": "markdown",
      "metadata": {
        "id": "3UZvYf8qo901"
      },
      "source": [
        "https://en.m.wikipedia.org/wiki/Many-body_problem"
      ]
    },
    {
      "cell_type": "markdown",
      "metadata": {
        "id": "jIbVYnnHoVWl"
      },
      "source": [
        "In science and especially in mathematical studies, a [variational principle](https://en.m.wikipedia.org/wiki/Variational_principle) is one that enables a problem to be solved using calculus of variations, which concerns finding functions that optimize the values of quantities that depend on those functions."
      ]
    },
    {
      "cell_type": "markdown",
      "metadata": {
        "id": "l9es1qLwnZDC"
      },
      "source": [
        "In [quantum mechanics, the variational method](https://en.m.wikipedia.org/wiki/Variational_method_(quantum_mechanics)) is one way of finding approximations to the lowest energy eigenstate or ground state, and some excited states. This allows calculating approximate wavefunctions such as molecular orbitals. The basis for this method is the variational principle.\n",
        "\n",
        "  * The method consists of choosing a \"trial wavefunction\" depending on one or more parameters, and finding the values of these parameters for which the expectation value of the energy is the lowest possible. \n",
        "  \n",
        "  * The wavefunction obtained by fixing the parameters to such values is then an approximation to the ground state wavefunction, and the expectation value of the energy in that state is an upper bound to the ground state energy. **The [Hartree–Fock method](https://en.m.wikipedia.org/wiki/Hartree%E2%80%93Fock_method), [Density matrix renormalization group](https://en.m.wikipedia.org/wiki/Density_matrix_renormalization_group), and [Ritz method](https://en.m.wikipedia.org/wiki/Ritz_method) apply the variational method**.\n",
        "\n",
        "  * This principle relies on the fact that a Hermitian is equal to its own conjugate transpose (ie 𝐻=𝐻†), and since any eigenvalue of H must be real, all eigenvalues of 𝐻 have the property of 𝜆𝑖=𝜆∗."
      ]
    },
    {
      "cell_type": "markdown",
      "metadata": {
        "id": "LmM9RdpaTuOI"
      },
      "source": [
        "###### **Mean-field theory**"
      ]
    },
    {
      "cell_type": "markdown",
      "metadata": {
        "id": "CSb7xj1fTynB"
      },
      "source": [
        "* In physics and probability theory, [mean-field theory](https://en.m.wikipedia.org/wiki/Mean-field_theory) (aka MFT or rarely self-consistent field theory) studies the behavior of high-dimensional random (stochastic) models by studying a simpler model that approximates the original by averaging over degrees of freedom (the number of values in the final calculation of a statistic that are free to vary). Such models consider many individual components that interact with each other. \n",
        "\n",
        "* In MFT, the effect of all the other individuals on any given individual is approximated by a single averaged effect, **thus reducing a [many-body problem](https://en.m.wikipedia.org/wiki/Many-body_problem) to a [one-body problem (two body)](https://en.m.wikipedia.org/wiki/Two-body_problem)**."
      ]
    },
    {
      "cell_type": "markdown",
      "metadata": {
        "id": "DZXwDgUNomvb"
      },
      "source": [
        "###### **Hartree–Fock Method**"
      ]
    },
    {
      "cell_type": "markdown",
      "metadata": {
        "id": "lIWh-V_zTPfr"
      },
      "source": [
        "* In computational physics and chemistry, the [Hartree–Fock (HF) method](https://en.m.wikipedia.org/wiki/Hartree%E2%80%93Fock_method) is a method of approximation for the determination of the wave function and the energy of a [quantum many-body system](https://en.m.wikipedia.org/wiki/Many-body_problem) <u>**in a stationary state**</u>.\n",
        "\n",
        "* The Hartree–Fock method often assumes that the exact N-body wave function of the system can be approximated by a single [Slater determinant](https://en.m.wikipedia.org/wiki/Slater_determinant) (in the case where the particles are fermions) or by a single [permanent](https://en.m.wikipedia.org/wiki/Permanent_(mathematics)) (in the case of bosons) of N [spin-orbitals](https://en.m.wikipedia.org/wiki/Atomic_orbital). \n",
        "\n",
        "* By invoking the [variational method](https://en.m.wikipedia.org/wiki/Calculus_of_variations), one can derive a set of N-coupled equations for the N spin orbitals. A solution of these equations yields the Hartree–Fock wave function and energy of the system.\n",
        "\n",
        "\n",
        "\n"
      ]
    },
    {
      "cell_type": "markdown",
      "metadata": {
        "id": "kXs2GzbGodhy"
      },
      "source": [
        "https://en.m.wikipedia.org/wiki/Hartree%E2%80%93Fock_method"
      ]
    },
    {
      "cell_type": "markdown",
      "metadata": {
        "id": "N9Zt4jVuofVx"
      },
      "source": [
        "https://en.m.wikipedia.org/wiki/Slater_determinant"
      ]
    },
    {
      "cell_type": "markdown",
      "metadata": {
        "id": "CGMJz0AEoixA"
      },
      "source": [
        "https://en.m.wikipedia.org/wiki/Permanent_(mathematics)"
      ]
    },
    {
      "cell_type": "markdown",
      "metadata": {
        "id": "uissAMmBrNuY"
      },
      "source": [
        "https://quantumai.google/cirq/experiments/hfvqe"
      ]
    },
    {
      "cell_type": "markdown",
      "metadata": {
        "id": "dxEPFgLpozcx"
      },
      "source": [
        "###### **Density matrix renormalization group**"
      ]
    },
    {
      "cell_type": "markdown",
      "metadata": {
        "id": "_R0cCqUco08T"
      },
      "source": [
        "https://en.m.wikipedia.org/wiki/Density_matrix_renormalization_group"
      ]
    },
    {
      "cell_type": "markdown",
      "metadata": {
        "id": "i6XevCo6oqZb"
      },
      "source": [
        "###### **Ritz Method**"
      ]
    },
    {
      "cell_type": "markdown",
      "metadata": {
        "id": "IZUxYddIJX3p"
      },
      "source": [
        "https://www.youtube.com/watch?v=w4ijyrdLbNA"
      ]
    },
    {
      "cell_type": "markdown",
      "metadata": {
        "id": "iRJzZmE1ouKD"
      },
      "source": [
        "https://en.m.wikipedia.org/wiki/Ritz_method"
      ]
    },
    {
      "cell_type": "markdown",
      "metadata": {
        "id": "tWQd156Uortc"
      },
      "source": [
        "https://en.m.wikipedia.org/wiki/Rayleigh%E2%80%93Ritz_method"
      ]
    },
    {
      "cell_type": "markdown",
      "metadata": {
        "id": "3Yw-iOvk4WNj"
      },
      "source": [
        "#### <font color=\"blue\">**Variational Quantum Algorithms**"
      ]
    },
    {
      "cell_type": "markdown",
      "metadata": {
        "id": "mchK5ds1ZyZ0"
      },
      "source": [
        "https://arxiv.org/abs/2012.09265"
      ]
    },
    {
      "cell_type": "markdown",
      "metadata": {
        "id": "jZsI8tEJE71Z"
      },
      "source": [
        "###### <font color=\"blue\">**Variational Quantum Algorithms**"
      ]
    },
    {
      "cell_type": "markdown",
      "metadata": {
        "id": "4Y91QHCl4SbN"
      },
      "source": [
        "![ggg](https://raw.githubusercontent.com/deltorobarba/repo/master/quantum_187.png)"
      ]
    },
    {
      "cell_type": "markdown",
      "metadata": {
        "id": "I2CYVzIK4kZ4"
      },
      "source": [
        "Source: [Variational Quantum Algorithms](https://www.youtube.com/watch?v=YtepXvx5zdI)"
      ]
    },
    {
      "cell_type": "markdown",
      "metadata": {
        "id": "rKgoHa655aMo"
      },
      "source": [
        "###### <font color=\"blue\">**Ansatz**"
      ]
    },
    {
      "cell_type": "markdown",
      "metadata": {
        "id": "6mymJlxS5ksj"
      },
      "source": [
        "> In the context of variational circuits, an ansatz usually describes a subroutine consisting of a sequence of gates applied to specific wires. Similar to the architecture of a neural network, this only defines the base structure, while the types of gates and/or their free parameters can be optimized by the variational procedure. \n",
        "\n",
        "One can distinguish three different base structures, namely \n",
        "\n",
        "* a layered gate ansatz, \n",
        "\n",
        "* an alternating operator ansatz, and \n",
        "\n",
        "* a tensor network ansatz."
      ]
    },
    {
      "cell_type": "markdown",
      "metadata": {
        "id": "bD06mqeD6X6q"
      },
      "source": [
        "The ansatz can come from:\n",
        "- Some basis in physics, chemistry, or quantum information theory (e.g., VQE)\n",
        "- The structure of the problem (e.g., QAOA)\n",
        "- Intuition borrowed from machine learning\n",
        "- No place at all (use your imagination!)\n",
        "\n",
        "The choice of ansatz affects the model/function that can be learned (more layers often better)"
      ]
    },
    {
      "cell_type": "markdown",
      "metadata": {
        "id": "pbmcwRVf5pYs"
      },
      "source": [
        "https://pennylane.ai/qml/glossary/circuit_ansatz.html\n",
        "\n",
        "https://medium.com/arnaldo-gunzi-quantum/what-is-ansatz-31e682b0518b"
      ]
    },
    {
      "cell_type": "markdown",
      "metadata": {
        "id": "Kpjg59I95eC1"
      },
      "source": [
        "![ggg](https://raw.githubusercontent.com/deltorobarba/repo/master/quantum_188.png)"
      ]
    },
    {
      "cell_type": "markdown",
      "metadata": {
        "id": "tviO07jk55fa"
      },
      "source": [
        "https://en.m.wikipedia.org/wiki/Ansatz"
      ]
    },
    {
      "cell_type": "markdown",
      "metadata": {
        "id": "RrXigHIY580L"
      },
      "source": [
        "https://de.m.wikipedia.org/wiki/Ansatz_(Mathematik)"
      ]
    },
    {
      "cell_type": "markdown",
      "metadata": {
        "id": "tyVjijNZ6z6d"
      },
      "source": [
        "###### <font color=\"blue\">**Embedd Classical Data into a Quantum Variational Circuit**"
      ]
    },
    {
      "cell_type": "markdown",
      "metadata": {
        "id": "yTVi4fzN7Imi"
      },
      "source": [
        "![ggg](https://raw.githubusercontent.com/deltorobarba/repo/master/quantum_189.png)"
      ]
    },
    {
      "cell_type": "markdown",
      "metadata": {
        "id": "etzb2UbG71sG"
      },
      "source": [
        "> **The easiest way for a parameter to enter a circuit is through a rotation of a single qubit, in proportion to the value of a single datapoint, so a single scalar value:**"
      ]
    },
    {
      "cell_type": "markdown",
      "metadata": {
        "id": "Orvytb0Y7Ycl"
      },
      "source": [
        "![ggg](https://raw.githubusercontent.com/deltorobarba/repo/master/quantum_190.png)"
      ]
    },
    {
      "cell_type": "markdown",
      "metadata": {
        "id": "KeImLV0H8Nhx"
      },
      "source": [
        "> **You can also use a sequence of rotations to embedd data (reuploding).** And maybe there is free parameters in between as well. Can make a more complex function available than if you upload only once in a single rotation."
      ]
    },
    {
      "cell_type": "markdown",
      "metadata": {
        "id": "-_p7ffou87Gk"
      },
      "source": [
        "> **Learnable embeddings**: The other idea is to actually have a trainable embedding layer. Not to worry about training the unitary of the circuit, but worry about training the embedding and then use standard quantum information metrics to classify the data."
      ]
    },
    {
      "cell_type": "markdown",
      "metadata": {
        "id": "kua5H4gE8FUc"
      },
      "source": [
        "![ggg](https://raw.githubusercontent.com/deltorobarba/repo/master/quantum_191.png)"
      ]
    },
    {
      "cell_type": "markdown",
      "metadata": {
        "id": "CtZBdM2s9PDV"
      },
      "source": [
        "###### <font color=\"blue\">**Optimizer**"
      ]
    },
    {
      "cell_type": "markdown",
      "metadata": {
        "id": "bZYQ6s4l9yCM"
      },
      "source": [
        "> When we're using variational circuits, if you can compute the gradients the parameter shift rule, then that opens up every possible flavor of gradient descent. Like standard gradient descent, but in deep learning also all sorts of gradient descent optimizers. Most common: momentum and Adam."
      ]
    },
    {
      "cell_type": "markdown",
      "metadata": {
        "id": "f0nB-YEG9Ltt"
      },
      "source": [
        "![ggg](https://raw.githubusercontent.com/deltorobarba/repo/master/quantum_192.png)"
      ]
    },
    {
      "cell_type": "markdown",
      "metadata": {
        "id": "rYqxrIGc90vE"
      },
      "source": [
        "<font color=\"blue\">**But there are also quantum-aware optimizers!**"
      ]
    },
    {
      "cell_type": "markdown",
      "metadata": {
        "id": "QuKopxf3-wYa"
      },
      "source": [
        "**Rotosolve**: don't use gradient descent, but sinusoid structure. You eventually end up in a global minima via a sequence of individual jumps to local minima."
      ]
    },
    {
      "cell_type": "markdown",
      "metadata": {
        "id": "-wELAvvAYaCp"
      },
      "source": [
        "[**Quantum Natural Optimizer**](https://pennylane.ai/qml/demos/tutorial_quantum_natural_gradient.html): Internet geometry of quantum circuits and quantum physical system is not Euclidean like the world around us, like this rectilinear structure. It's more sinusoidal structure. We should take this into account. "
      ]
    },
    {
      "cell_type": "markdown",
      "metadata": {
        "id": "KUW0xEZE-DKE"
      },
      "source": [
        "![ggg](https://raw.githubusercontent.com/deltorobarba/repo/master/quantum_193.png)"
      ]
    },
    {
      "cell_type": "markdown",
      "metadata": {
        "id": "EsCQoAwa_dCk"
      },
      "source": [
        "<font color=\"blue\">**Barren Plateau**"
      ]
    },
    {
      "cell_type": "markdown",
      "metadata": {
        "id": "RsYaUoUB_fTp"
      },
      "source": [
        "* There are parts of the optimization landscape where the gradient is zero, and around it also zero, like in classical deep learning. everything flat in every direction where you go.\n",
        "\n",
        "* Barren Plateau can come from number of different effects: choice from circuit ansatz, choice of parametrization (parameter values), or from cost function\n",
        "\n",
        "* several proposals to overcome this"
      ]
    },
    {
      "cell_type": "markdown",
      "metadata": {
        "id": "LCtDJttj_aka"
      },
      "source": [
        "![ggg](https://raw.githubusercontent.com/deltorobarba/repo/master/quantum_194.png)"
      ]
    },
    {
      "cell_type": "markdown",
      "metadata": {
        "id": "dToaU4Glugq8"
      },
      "source": [
        "#### <font color=\"blue\">**VQE: Mathematics**"
      ]
    },
    {
      "cell_type": "markdown",
      "metadata": {
        "id": "0JB_bEi_jQO4"
      },
      "source": [
        "> Model different molecules and how they interact together\n",
        "\n",
        "* **Objective**: create new, more effective medicines along with researching how medications might react with diseases such as cancer.\n",
        "\n",
        "* **Challenge**: effectively make the calculations needed for the chemical reactions that occur. \n",
        "\n",
        "  * One such calculation is **calculating the ground state energy of different small molecules**.\n",
        "\n",
        "  * Running this calculation on a classical computer can take exponential time to get an exact numerical answer.\n",
        "\n",
        "\n",
        "* *Exkurs: The [ground state energy](https://en.wikipedia.org/wiki/Excited_state) is the lowest possible energy state that a molecule can be in. This is important because it gives more information about the electron configuration of the molecule.*\n",
        "\n",
        "![gg](https://upload.wikimedia.org/wikipedia/commons/thumb/a/a8/Energy_levels.svg/306px-Energy_levels.svg.png)\n"
      ]
    },
    {
      "cell_type": "markdown",
      "metadata": {
        "id": "LiqkS33cksH0"
      },
      "source": [
        "**From chemistry and physics we know that the Schrodinger equation tells us that if $H$ is the Hamiltonian of a system, $H|ψ⟩ = E_g|ψ⟩$ where the minimum eigenvalue $E_g$ that solves this equation corresponds to the ground state energy of the molecule**.\n",
        "\n",
        "* To find this energy, we want to **find the exact minimum eigenvalue** that corresponds to that Hermitian matrix. \n",
        "\n",
        "* However that **would require a perfectly working quantum computer using the QPE (Quantum Phase Estimation Algorithm)**, which is not possible as of right now.\n",
        "\n",
        "* Rather, we can use the [variational principle](https://en.wikipedia.org/wiki/Variational_principle) to find a close, if not exact solution.\n",
        "\n",
        "\n",
        "\n",
        "\n"
      ]
    },
    {
      "cell_type": "markdown",
      "metadata": {
        "id": "27hAQiw0pl5c"
      },
      "source": [
        "This principle relies on the fact that a Hermitian is equal to its own conjugate transpose (ie 𝐻=𝐻†), \n",
        "\n",
        "* and since any eigenvalue of H must be real, all eigenvalues of 𝐻 have the property of 𝜆𝑖=𝜆∗. \n",
        "\n",
        "* We can rewrite the Hermitian as follows, where 𝜆 is the eigenvalue associated with the eigenvector |𝜓_i⟩\n",
        "\n",
        "> $H=\\sum_{i=1}^{N} \\lambda_{i}\\left|\\psi_{i}\\right\\rangle\\left\\langle\\psi_{i}\\right|$\n",
        "\n",
        "* which we can then use to define the expectation of this Hermitian as\n",
        "\n",
        "> $\\langle H\\rangle_{\\psi} \\equiv\\langle\\psi|H| \\psi\\rangle$\n",
        "\n",
        "* And finally we can substitute in for $H$ and get the following\n",
        "\n",
        "> $\\begin{aligned}\\langle H\\rangle_{\\psi}=\\langle\\psi|H| \\psi\\rangle &=\\left\\langle\\psi\\left|\\left(\\sum_{i=1}^{N} \\lambda_{i}\\left|\\psi_{i}\\right\\rangle\\left\\langle\\psi_{i}\\right|\\right)\\right| \\psi\\right\\rangle \\\\ &=\\sum_{i=1}^{N} \\lambda_{i}\\left\\langle\\psi \\mid \\psi_{i}\\right\\rangle\\left\\langle\\psi_{i} \\mid \\psi\\right\\rangle \\\\ &=\\sum_{i=1}^{N} \\lambda_{i}\\left|\\left\\langle\\psi_{i} \\mid \\psi\\right\\rangle\\right|^{2} \\end{aligned}$\n",
        "\n",
        "* which demonstrates that **any state can be described using a sum of the eigenvalues of the Hermitian as weights**. \n",
        "\n",
        "* One final property of the Hermitian is what truly allows the variational principle to work is that the eigenvalues of it have to be real, non-negative numbers, such that\n",
        "\n",
        "> $\\lambda_{\\min } \\leq\\langle H\\rangle_{\\psi}=\\langle\\psi|H| \\psi\\rangle$\n",
        "\n",
        "* And this equation is what gives power to the Variational Quantum Eigensolver. \n",
        "\n",
        "> **Since the minimum eigenvalue can never be smaller than the expectation value that we are looking for, then by minimizing our expectation, we will get really close to the minimum eigenvalue**."
      ]
    },
    {
      "cell_type": "markdown",
      "metadata": {
        "id": "_vEB311no4HD"
      },
      "source": [
        "https://medium.com/mit-6-s089-intro-to-quantum-computing/quantum-molecule-simulation-using-vqe-d34b9c651e3d"
      ]
    },
    {
      "cell_type": "markdown",
      "metadata": {
        "id": "xuegbFg8qqCU"
      },
      "source": [
        "#### <font color=\"blue\">**VQE: Algorithm**"
      ]
    },
    {
      "cell_type": "markdown",
      "metadata": {
        "id": "JQNT6fAsrO0r"
      },
      "source": [
        "This algorithm is a **hybrid machine learning quantum computer algorithm**, where we run part of it on a quantum computer, and then finish off the minimization classically (since a solely quantum algorithm provides no speedups)."
      ]
    },
    {
      "cell_type": "markdown",
      "metadata": {
        "id": "_yL7QqWarSsW"
      },
      "source": [
        "**Step 1: We encode the molecular Hamiltonian onto the qubits**\n",
        "\n",
        "* the variational form typically uses the U3 gate (QASM?), where we can describe it with the following matrix:\n",
        "\n",
        "> $U 3(\\theta, \\phi, \\lambda)=\\left(\\begin{array}{cc}\\cos \\left(\\frac{\\theta}{2}\\right) & -e^{i \\lambda} \\sin \\left(\\frac{\\theta}{2}\\right) \\\\ e^{i \\phi} \\sin \\left(\\frac{\\theta}{2}\\right) & e^{i \\lambda+i \\phi} \\cos \\left(\\frac{\\theta}{2}\\right)\\end{array}\\right)$\n",
        "\n",
        "* We can then construct a quantum circuit that encodes the information that we want, but it is important that this circuit (and these gates as a whole) allow for any universal state to be entered and returned, which can result in more complex circuits.\n",
        "\n",
        "* The end result of this encoding allows us to make calculations with the qubits, but now the qubits are mimicking the electron orbital interactions and so it almost as if we are making the computations we need with the molecule itself.\n",
        "\n"
      ]
    },
    {
      "cell_type": "markdown",
      "metadata": {
        "id": "I8S6PMkovUxH"
      },
      "source": [
        "![ggg](https://raw.githubusercontent.com/deltorobarba/repo/master/quantum_181.png)"
      ]
    },
    {
      "cell_type": "markdown",
      "metadata": {
        "id": "swsm2b2ztk9r"
      },
      "source": [
        "**Step 2: Create the ansatz**\n",
        "\n",
        "* An ansatz, in simplest terms, is a really good mathematical guess that can cover many possible states. \n",
        "\n",
        "* For our purposes, the thing that we will be guessing will be what the electron configuration is for the specific molecule at a given interatomic distance between each atom and thus the ansatz can be described as our trial wavefunction. \n",
        "\n",
        "* We also require that the ansatz be shallow due to the nature of programs on quantum computers needing to run quickly or else they’ll be more prone to errors.\n",
        "\n",
        "> In the context of variational circuits, an ansatz usually describes a subroutine consisting of a sequence of gates applied to specific wires. Similar to the architecture of a neural network, this only defines the base structure, while the types of gates and/or their free parameters can be optimized by the variational procedure. **One can distinguish three different base structures, namely a layered gate ansatz, an alternating operator ansatz, and a tensor network ansatz.**\n",
        "\n",
        "https://pennylane.ai/qml/glossary/circuit_ansatz.html\n",
        "\n",
        "https://medium.com/arnaldo-gunzi-quantum/what-is-ansatz-31e682b0518b\n"
      ]
    },
    {
      "cell_type": "markdown",
      "metadata": {
        "id": "HCaKqCT-vEGe"
      },
      "source": [
        "![ggg](https://raw.githubusercontent.com/deltorobarba/repo/master/quantum_183.png)"
      ]
    },
    {
      "cell_type": "markdown",
      "metadata": {
        "id": "ROfDmrTwuknz"
      },
      "source": [
        "**Step 3: Calculate our trial state energy**\n",
        "\n",
        "* use the information that we have to calculate the ground state energy level of our ansatz. \n",
        "\n",
        "* The calculation uses the information given by the Hamiltonian for a given inter-atomic distance, and the energy for that particular electron configuration."
      ]
    },
    {
      "cell_type": "markdown",
      "metadata": {
        "id": "MHVkMC1My38d"
      },
      "source": [
        "**Step 4: The Classical Side**"
      ]
    },
    {
      "cell_type": "markdown",
      "metadata": {
        "id": "yX67IiQJvfM3"
      },
      "source": [
        "> Task a: Measure and optimize our parameter\n",
        "\n",
        "* The first step here is to measure our qubits such that we get the information that we wanted from the quantum steps. \n",
        "\n",
        "* We then use machine learning algorithms to optimize our parameters such that our cost function, which represents the ground state energy, is minimized.\n",
        "\n",
        "* In terms of the optimization, the [Simultaneous Perturbation Stochastic Approximation optimizer (SPSA)](https://en.m.wikipedia.org/wiki/Simultaneous_perturbation_stochastic_approximation) is typically used due to how noisy the objective function can be. One thing that we had considered using during our experimentation with the VQE algorithm was gradient descent. \n",
        "\n",
        "* We noticed that our original code was just an iteration over the possible values that the inter-atomic distance could take and we thought that gradient descent might be able to speed this process up by just choosing a good start value. \n",
        "\n",
        "* However, what we found was that this strategy was prone to getting stuck in local optimum and through the reading of the Qiskit textbook and other research papers, we found that it is in fact a costly optimization in terms of the number of circuit evaluations performed.\n",
        "\n",
        "* So then we questioned how does SPSA work and why does it not have the same pitfalls as gradient descent? They both share the similarity that both optimizes approximate the gradient of our cost function, however, SPSA “does so by concurrently perturbing all of the parameters in a random fashion, in contrast to gradient descent where each parameter is perturbed independently” as discussed in the Qiskit textbook tutorial.\n",
        "\n"
      ]
    },
    {
      "cell_type": "markdown",
      "metadata": {
        "id": "eUGLzvpNy2LQ"
      },
      "source": [
        "> Task b: Iterate using the resulting parameters\n",
        "\n",
        "* The second step of the classical side of this algorithm is that we then take the optimized parameters that we got and feed them into the quantum part again, giving us a new set of parameters that should improve the ansatz. \n",
        "\n",
        "* This step is iterative because we continually run through out optimizer until we are able to converge onto the lowest energy state for that bond length. \n",
        "\n",
        "* We then continue to iterate over the different inter-atomic distances until we find the bond length associated with the molecule’s lowest energy state.\n"
      ]
    },
    {
      "cell_type": "markdown",
      "metadata": {
        "id": "ij6uyKbEzCQz"
      },
      "source": [
        "*Results of VQE on RbH where Hartree-Fock is the expected and VQE is what we got from running the algorithm:*\n",
        "\n",
        "![ggg](https://raw.githubusercontent.com/deltorobarba/repo/master/quantum_184.png)"
      ]
    },
    {
      "cell_type": "markdown",
      "metadata": {
        "id": "a1wmnPpx24He"
      },
      "source": [
        "![ggg](https://raw.githubusercontent.com/deltorobarba/repo/master/quantum_185.png)"
      ]
    },
    {
      "cell_type": "markdown",
      "metadata": {
        "id": "PrQOSeWn3Owt"
      },
      "source": [
        "Source: [Variational Quantum Algorithms](https://www.youtube.com/watch?v=YtepXvx5zdI)"
      ]
    },
    {
      "cell_type": "markdown",
      "metadata": {
        "id": "HGsztEvz3BlY"
      },
      "source": [
        "#### <font color=\"blue\">**QAOA (Quantum Approximate Optimization Algorithm)**"
      ]
    },
    {
      "cell_type": "markdown",
      "metadata": {
        "id": "4vSAIR_g3JdX"
      },
      "source": [
        "https://qiskit.org/textbook/ch-applications/qaoa.html"
      ]
    },
    {
      "cell_type": "markdown",
      "metadata": {
        "id": "-xfofKFn3LzE"
      },
      "source": [
        "https://en.wikipedia.org/wiki/Quantum_optimization_algorithms"
      ]
    },
    {
      "cell_type": "markdown",
      "metadata": {
        "id": "n85uDMl23mUh"
      },
      "source": [
        "* the cost function is something that is encoding an optimization problem. you might have an (discrete) optimization problem with many clauses that have to be satisfied and you have to encode this into an Ising type model, a spin chain type model, which then can be converted into observables which can be measured on a quantum circuit"
      ]
    },
    {
      "cell_type": "markdown",
      "metadata": {
        "id": "_cOUcljX2_At"
      },
      "source": [
        "![ggg](https://raw.githubusercontent.com/deltorobarba/repo/master/quantum_186.png)"
      ]
    },
    {
      "cell_type": "markdown",
      "metadata": {
        "id": "mPcjYwbm3S4h"
      },
      "source": [
        "Source: [Variational Quantum Algorithms](https://www.youtube.com/watch?v=YtepXvx5zdI)"
      ]
    }
  ]
}