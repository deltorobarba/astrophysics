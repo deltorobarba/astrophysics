{
  "nbformat": 4,
  "nbformat_minor": 0,
  "metadata": {
    "colab": {
      "name": "differential.ipynb",
      "provenance": [],
      "collapsed_sections": [
        "QmfX-CNmOZGr",
        "ftKE9QkO55-i",
        "zgH-0xLyEbqM",
        "lWaTQAuEG2m6",
        "gdkIExFtEh8W",
        "rw9GQgLL-qm-",
        "zN-mlxJyUxVU",
        "qKrBEYITQwic",
        "THi5Mx3uQyx0",
        "xfdBIY5Y-eNj"
      ],
      "include_colab_link": true
    },
    "kernelspec": {
      "name": "python3",
      "display_name": "Python 3"
    }
  },
  "cells": [
    {
      "cell_type": "markdown",
      "metadata": {
        "id": "view-in-github",
        "colab_type": "text"
      },
      "source": [
        "<a href=\"https://colab.research.google.com/github/deltorobarba/machinelearning/blob/master/differential.ipynb\" target=\"_parent\"><img src=\"https://colab.research.google.com/assets/colab-badge.svg\" alt=\"Open In Colab\"/></a>"
      ]
    },
    {
      "cell_type": "markdown",
      "metadata": {
        "id": "HjNmcYpFuFTY"
      },
      "source": [
        "# **(Partial) Differential Equations**"
      ]
    },
    {
      "cell_type": "code",
      "metadata": {
        "id": "RYViK39mt7Nj"
      },
      "source": [
        "import numpy as np\n",
        "import pandas as pd\n",
        "import seaborn as sns\n",
        "import matplotlib.pyplot as plt"
      ],
      "execution_count": null,
      "outputs": []
    },
    {
      "cell_type": "markdown",
      "metadata": {
        "id": "ED1yBASxixcf"
      },
      "source": [
        "![analysis](https://upload.wikimedia.org/wikipedia/commons/c/c5/3d-function-9.svg)"
      ]
    },
    {
      "cell_type": "markdown",
      "metadata": {
        "id": "7YxWFwf0HLzk"
      },
      "source": [
        "https://www.quantamagazine.org/new-neural-networks-solve-hardest-equations-faster-than-ever-20210419/"
      ]
    },
    {
      "cell_type": "markdown",
      "metadata": {
        "id": "QmfX-CNmOZGr"
      },
      "source": [
        "#### **Differenzialrechnung (Ableitungen)**"
      ]
    },
    {
      "cell_type": "markdown",
      "metadata": {
        "id": "hvmNoUK4JpdS"
      },
      "source": [
        "Die Ableitung ist zunächst nur für einen Punkt $\\left(x_{0} \\mid f\\left(x_{0}\\right)\\right)$ auf dem Graphen einer Funktion $f(x)$ bzw. für eine Stelle $x_{0}$ definiert. Sie ist gegeben durch:\n",
        "\n",
        "> $\\lim _{x \\rightarrow x_{0}} \\frac{f(x)-f\\left(x_{0}\\right)}{x-x_{0}}$ oder alternativ $\\lim _{h \\rightarrow 0} \\frac{f\\left(x_{0}+h\\right)-f\\left(x_{0}\\right)}{h}$\n",
        "\n",
        "Anschaulich erhält man durch den [Differenzenquotienten](https://de.serlo.org/mathe/1669/differenzenquotient) die Steigung der Sekante an den Funktionsgraphen von dem Punkt x\n",
        "0\n",
        " und einem anderen Punkt. Die Idee bei beiden Defintionen ist, dass man die Tangente durch Sekanten annähert, indem man den x-Wert des zweiten Punktes immer näher an x\n",
        "0\n",
        " wählt. "
      ]
    },
    {
      "cell_type": "markdown",
      "metadata": {
        "id": "MpnWK1cmKK5d"
      },
      "source": [
        "![ff](https://raw.githubusercontent.com/deltorobarba/repo/master/ableitung.png)\n",
        "\n",
        "*Drittes Bild mit A = B: Die Steigung dieser Tangente ist gleich der Ableitung an der Stelle x0*\n",
        "\n"
      ]
    },
    {
      "cell_type": "markdown",
      "metadata": {
        "id": "f3yAwA1_BLFb"
      },
      "source": [
        "Jede differenzierbare Funktion ist stetig, die Umkehrung gilt jedoch nicht."
      ]
    },
    {
      "cell_type": "markdown",
      "metadata": {
        "id": "M9NhdqqJ_y0C"
      },
      "source": [
        "**Alternative Notationen**"
      ]
    },
    {
      "cell_type": "markdown",
      "metadata": {
        "id": "J1fJyenfAvRg"
      },
      "source": [
        "$f^{\\prime}(x)=\\frac{\\mathrm{d} f}{\\mathrm{~d} x}(x)=\\frac{\\mathrm{d} f(x)}{\\mathrm{d} x}=\\frac{\\mathrm{d}}{\\mathrm{d} x} f(x)$"
      ]
    },
    {
      "cell_type": "markdown",
      "metadata": {
        "id": "SFPb9KMIJBF2"
      },
      "source": [
        "https://de.serlo.org/mathe/1795/ableitung"
      ]
    },
    {
      "cell_type": "markdown",
      "metadata": {
        "id": "FbKE76s03IIu"
      },
      "source": [
        "**Differentenquotient vs Differentalquotient**"
      ]
    },
    {
      "cell_type": "markdown",
      "metadata": {
        "id": "Qzrgbw2f8qHA"
      },
      "source": [
        "> Der **Differentenquotient** $\\lim _{h \\rightarrow 0} \\frac{f\\left(x_{0}+h\\right)-f\\left(x_{0}\\right)}{h}$ gibt die Steigung durch 2 Punkte an. Mit lim fur h gegen Null im Differentenquotienten ergibt es den **Differentialquotient** f<sup>'</sup> (x<sub>0</sub>) (erste Ableitung, das ist die Steigung an einer Stelle)."
      ]
    },
    {
      "cell_type": "markdown",
      "metadata": {
        "id": "SWoPgtWy97m0"
      },
      "source": [
        "> Notation mit dem [Differentialoperator](https://www.youtube.com/watch?v=LjeFmpkoUxQ&list=PLLTAHuUj-zHhJSdV8hqWaydgOWjF-fYK0&index=3): $\\frac{\\mathrm{d}}{\\mathrm{~d} x}$ sieht folgendermassen aus: $f^{\\prime}\\left(x\\right)$ = $\\frac{\\mathrm{d}}{\\mathrm{~d} x}\\left(f(x)\\right)$"
      ]
    },
    {
      "cell_type": "markdown",
      "metadata": {
        "id": "UnbYnGzHJG7k"
      },
      "source": [
        "**Mehrfache Ableitungen**\n",
        "\n",
        "* Erste Ableitung gibt die Steigung einer Funktion\n",
        "* Zweite Ableitung: Wann ist die Steigung konstant?\n",
        "* Zum Beispiel ist die erste Ableitung des Orts x(t) nach der Zeit t die Momentangeschwindigkeit, die zweite Ableitung die Beschleunigung."
      ]
    },
    {
      "cell_type": "markdown",
      "metadata": {
        "id": "E0Ql0LAXOfS3"
      },
      "source": [
        "**Von der Ableitung zur Ableitungsfunktion (Die Ableitung als Funktion mit dem Differenzenquotient)**"
      ]
    },
    {
      "cell_type": "markdown",
      "metadata": {
        "id": "EcgNny9VAdc6"
      },
      "source": [
        "Von der Ableitung an einem bestimmten Punkt ist es nur ein kleiner Schritt zur Ableitung auf dem ganzen Definitionsbereich. Denn alle \"normalen\" Funktionen (die in der Schule behandelt werden) besitzen für alle $x \\in D$ den gleichen Differenzenquotienten in Abhängigkeit von $x$. In dem Fall kann man die Ableitungen mit Hilfe der Ableitungsregeln bestimmen.\n",
        "\n",
        "Beispiel mit $f(x)=x^{2}$\n",
        "\n",
        "Wir berechnen die Ableitung der Funktkon $f(x)=x^{2}$ und benutzen die Definition $\\lim _{x \\rightarrow x_{0}} \\frac{f(x)-f\\left(x_{0}\\right)}{x-x_{0}} .$ Mit Hilfe der [dritten binomischen Formel](https://de.wikipedia.org/wiki/Binomische_Formeln) bekommen wir für die Ableitung $\\lim _{x \\rightarrow x_{0}} \\frac{x^{2}-x_{0}^{2}}{x-x_{0}}=\\lim _{x \\rightarrow x_{0}} \\frac{\\left(x+x_{0}\\right)\\left(x-x_{0}\\right)}{x-x_{0}}=\\lim _{x \\rightarrow x_{0}}\\left(x+x_{0}\\right)=2 x_{0} .$ Das\n",
        "heißt, dass egal an welchem Punkt $x_{0}$ wir die Ableitung ausrechnen, wir bekommen immer $2 x_{0}$"
      ]
    },
    {
      "cell_type": "markdown",
      "metadata": {
        "id": "VM6pwdZqLhmI"
      },
      "source": [
        "* **Eine Ableitungsfunktion (kurz: Ableitung) ist eine Funktion, die jeder Stelle x0 den Wert ihres Differentialquotienten zuordnet.**\n",
        "\n",
        "* Die Ableitungsfunktion zu einer gegebenen Funktion f ist – vereinfacht ausgedrückt – die Tangentensteigungsfunktion. Das bedeutet: An jeder Stelle x hat die Steigung der Tangente an den Graphen von f einen bestimmten Wert, welcher der Ableitung der Funktion entspricht. Nun kannst du quasi mit einem Lineal den Graphen von f \"abfahren\". Das Lineal soll dabei immer tangential an den Graphen anliegen. Wenn du dann die Steigung des Lineals Punkt für Punkt in ein Diagramm überträgst, erhältst du ein Bild der Ableitungsfunktion. Dabei musst du die Funktionsgleichung selbst nicht kennen, sondern nur den Graphen."
      ]
    },
    {
      "cell_type": "markdown",
      "metadata": {
        "id": "uEtmL-kkCloc"
      },
      "source": [
        "**Definition: Differenzierbarkeit**"
      ]
    },
    {
      "cell_type": "markdown",
      "metadata": {
        "id": "RKcxkknbBh4n"
      },
      "source": [
        "Eine Funktion $f: U \\rightarrow \\mathbb{R},$ die ein **offenes Intervall** $U$ in die reellen Zahlen abbildet, heißt differenzierbar an der Stelle $x_{0} \\in U$, falls der Grenzwert\n",
        "\n",
        "> $\n",
        "\\lim _{x \\rightarrow x_{0}} \\frac{f(x)-f\\left(x_{0}\\right)}{x-x_{0}}=\\lim _{h \\rightarrow 0} \\frac{f\\left(x_{0}+h\\right)-f\\left(x_{0}\\right)}{h} \\quad\\left(\\text { mit } h=x-x_{0}\\right)\n",
        "$\n",
        "\n",
        "existiert. Dieser Grenzwert heißt Differentialquotient oder Ableitung von $f$ nach $x$ an der Stelle $x_{0}$ und wird notiert als\n",
        "\n",
        "> $f^{\\prime}\\left(x_{0}\\right)$ oder $\\left.\\frac{\\mathrm{d} f(x)}{\\mathrm{d} x}\\right|_{x=x_{0}}$ oder $\\frac{\\mathrm{d} f}{\\mathrm{~d} x}\\left(x_{0}\\right)$ oder $\\frac{\\mathrm{d}}{\\mathrm{d} x} f\\left(x_{0}\\right)$"
      ]
    },
    {
      "cell_type": "markdown",
      "metadata": {
        "id": "Z9M3ftNNCcuy"
      },
      "source": [
        "**Eine weitere Definition ist**: Es gibt eine an der Stelle $x_{0}$ stetige Funktion $r$ mit $r\\left(x_{0}\\right)=0$ und eine Konstante $L$, sodass für alle $x$ gilt\n",
        "\n",
        "> $\n",
        "f(x)=f\\left(x_{0}\\right)+L\\left(x-x_{0}\\right)+r(x)\\left(x-x_{0}\\right)\n",
        "$\n",
        "\n",
        "Die Bedingungen $r\\left(x_{0}\\right)=0$ und dass $r$ an der Stelle $x_{0}$ stetig ist, bedeuten gerade, dass das \" Restglied\" $r(x)$ für $x$ gegen $x_{0}$ gegen 0 konvergiert."
      ]
    },
    {
      "cell_type": "markdown",
      "metadata": {
        "id": "gjmZZyPHuUbW"
      },
      "source": [
        "**Partielle Ableitung**"
      ]
    },
    {
      "cell_type": "markdown",
      "metadata": {
        "id": "sjdC7eHEw1be"
      },
      "source": [
        "Die ersten partiellen Ableitungen lassen sich in einem Vektor anordnen, dem Gradienten von\n",
        "$f:$\n",
        "\n",
        "> $\n",
        "\\operatorname{grad} f=\\nabla f:=\\left(\\frac{\\partial f}{\\partial x_{1}}, \\ldots, \\frac{\\partial f}{\\partial x_{n}}\\right)^{T}\n",
        "$\n",
        "\n",
        "Hierbei ist $\\nabla$ der Nabla-Operator."
      ]
    },
    {
      "cell_type": "markdown",
      "metadata": {
        "id": "HGSYWhoquWuT"
      },
      "source": [
        "https://de.wikipedia.org/wiki/Partielle_Ableitung"
      ]
    },
    {
      "cell_type": "markdown",
      "metadata": {
        "id": "x-VLzJWGxwbO"
      },
      "source": [
        "Die [**Jacobi-Matrix**](https://de.wikipedia.org/wiki/Jacobi-Matrix) (auch Funktionalmatrix, Ableitungsmatrix oder Jacobische genannt) einer differenzierbaren Funktion $f: \\mathbb{R}^{n} \\rightarrow \\mathbb{R}^{m}$ ist die $m \\times n$ -Matrix **sämtlicher erster\n",
        "partieller Ableitungen**. Im Falle der totalen Differenzierbarkeit bildet sie die Matrix-Darstellung der als lineare Abbildung aufgefassten ersten Ableitung der Funktion $f$ bezüglich der Standardbasen des $\\mathbb{R}^{n}$ und des $\\mathbb{R}^{m}$"
      ]
    },
    {
      "cell_type": "markdown",
      "metadata": {
        "id": "YHfl85L544d0"
      },
      "source": [
        "Für $a\\in U$ die Jacobi-Matrix ist im Punkt a definiert durch:"
      ]
    },
    {
      "cell_type": "markdown",
      "metadata": {
        "id": "Dr-6LNw44o18"
      },
      "source": [
        "> $J_{f}(a):=\\left(\\frac{\\partial f_{i}}{\\partial x_{j}}(a)\\right)_{i=1, \\ldots, m ; j=1, \\ldots, n}=\\left(\\begin{array}{cccc}\n",
        "\\frac{\\partial f_{1}}{\\partial x_{1}}(a) & \\frac{\\partial f_{1}}{\\partial x_{2}}(a) & \\cdots & \\frac{\\partial f_{1}}{\\partial x_{n}}(a) \\\\\n",
        "\\vdots & \\vdots & \\ddots & \\vdots \\\\\n",
        "\\frac{\\partial f_{m}}{\\partial x_{1}}(a) & \\frac{\\partial f_{m}}{\\partial x_{2}}(a) & \\cdots & \\frac{\\partial f_{m}}{\\partial x_{n}}(a)\n",
        "\\end{array}\\right)$"
      ]
    },
    {
      "cell_type": "markdown",
      "metadata": {
        "id": "EpVRFDNexCy7"
      },
      "source": [
        "Die **zweiten partiellen Ableitungen** lassen sich in einer Matrix anordnen, der [Hesse-Matrix](https://de.wikipedia.org/wiki/Hesse-Matrix)\n",
        "\n",
        "> $\n",
        "\\mathrm{H}_{f}=\\left(\\frac{\\partial^{2} f}{\\partial x_{i} \\partial x_{j}}\\right)=\\left(\\begin{array}{ccc}\n",
        "\\frac{\\partial^{2} f}{\\partial x_{1} \\partial x_{1}} & \\cdots & \\frac{\\partial^{2} f}{\\partial x_{1} \\partial x_{n}} \\\\\n",
        "\\vdots & \\ddots & \\vdots \\\\\n",
        "\\frac{\\partial^{2} f}{\\partial x_{n} \\partial x_{1}} & \\cdots & \\frac{\\partial^{2} f}{\\partial x_{n} \\partial x_{n}}\n",
        "\\end{array}\\right)\n",
        "$"
      ]
    },
    {
      "cell_type": "markdown",
      "metadata": {
        "id": "l6HivJbCeGfs"
      },
      "source": [
        "**Schwache Ableitung & schwache Lösung**"
      ]
    },
    {
      "cell_type": "markdown",
      "metadata": {
        "id": "v4I7IyMVeJte"
      },
      "source": [
        "* Eine [schwache Ableitung](https://de.wikipedia.org/wiki/Schwache_Ableitung) bzw. [weak derivative](https://en.wikipedia.org/wiki/Weak_derivative) ist in der Funktionalanalysis, einem Teilgebiet der Mathematik, eine Erweiterung des Begriffs der gewöhnlichen (klassischen) Ableitung. \n",
        "\n",
        "* Er ermöglicht es, Funktionen eine Ableitung zuzuordnen, die nicht (stark bzw. im klassischen Sinne) differenzierbar sind.\n",
        "\n",
        "* Schwache Ableitungen spielen eine große Rolle in der Theorie der partiellen Differentialgleichungen. **Räume schwach differenzierbarer Funktionen sind die Sobolev-Räume**. \n",
        "\n",
        "* Ein noch allgemeinerer Begriff der Ableitung ist die Distributionenableitung.\n",
        "\n",
        "* In mathematics, a weak derivative is a generalization of the concept of the derivative of a function (strong derivative) **for functions not assumed differentiable, but only integrable**, i.e., to lie in the $L^{p}$ space $L^{1}([a, b])$. See distributions for a more general definition."
      ]
    },
    {
      "cell_type": "markdown",
      "metadata": {
        "id": "0LrC4fHuJcow"
      },
      "source": [
        "**This concept gives rise to the definition of [weak solutions](https://en.wikipedia.org/wiki/Weak_solution) in Sobolev spaces, which are useful for problems of differential equations and in functional analysis.**"
      ]
    },
    {
      "cell_type": "markdown",
      "metadata": {
        "id": "r3mxaFV-_z_K"
      },
      "source": [
        "Betrachtet man eine auf einem offenen Intervall $I=] a, b[$ differenzierbare Funktion $f$ und\n",
        "eine Testfunktion $\\varphi$ (das heißt, $\\varphi$ ist beliebig oft differenzierbar und besitzt einen kompakten Träger), dann gilt\n",
        "\n",
        ">$\n",
        "\\int_{I} f^{\\prime}(t) \\varphi(t) \\mathrm{d} t=-\\int_{I} f(t) \\varphi^{\\prime}(t) \\mathrm{d} t\n",
        "$\n",
        "\n",
        "Hierbei wurde die partielle Integration verwendet, wobei die Randterme wegfallen $(\\varphi(a)=$ $0, \\varphi(b)=0)$\n",
        "Ist $f$ eine $L^{2}$ -Funktion, dann kann, selbst wenn $f$ nicht differenzierbar ist (genauer: keinen differenzierbaren Vertreter in der Äquivalenzklasse besitzt), eine Funktion $g \\in L^{2}(a, b)$ existieren, die die Gleichung\n",
        "\n",
        "> $\n",
        "\\int_{I} g(t) \\varphi(t) \\mathrm{d} t=-\\int_{I} f(t) \\varphi^{\\prime}(t) \\mathrm{d} t\n",
        "$\n",
        "\n",
        "für jede Testfunktion $\\varphi$ erfüllt. Eine solche Funktion $g$ heißt schwache Ableitung von $f$. Man schreibt wie bei der starken Ableitung $f^{\\prime}:=g$."
      ]
    },
    {
      "cell_type": "markdown",
      "metadata": {
        "id": "JQ9f_6E__b-a"
      },
      "source": [
        "* Ferner **stimmen bei jeder stark differenzierbaren Funktion starke und schwache Ableitung überein**, so dass man von einer Verallgemeinerung des Ableitungsbegriffs sprechen kann. \n",
        "\n",
        "* Im Gegensatz zur starken Ableitung ist die **schwache Ableitung aber nicht punktweise, sondern nur für die ganze Funktion definiert.**\n",
        "\n",
        "* Es ist zu beachten, dass sich die schwache Differenzierbarkeit immer auf die gesamte Funktion bezieht und nicht (wie die gewöhnliche Ableitung) punktweise definiert ist. **Punktweise muss eine Ableitung nicht einmal existieren**. Es lässt sich allerdings zeigen, dass hinreichend oft vorhandene, schwache Differenzierbarkeit auch wieder Differenzierbarkeit im üblichen Sinne (starke oder gewöhnliche Differenzierbarkeit) nach sich zieht. \n",
        "\n",
        "* **D.h. es gibt Einbettungen eines Sobolew-Raums mit $n$ schwachen Ableitungen in Räume $k$ -fach differenzierbarer Funktionen $C^{k}$ mit $n>k \\geq 0$.**\n",
        "\n",
        "* Man kann statt $f, f^{\\prime} \\in L^{2}$ auch allgemeiner $f, f^{\\prime} \\in L^{p}$ für $1 \\leq p \\leq \\infty$ fordern. **Die Teilmenge der Funktionen aus $L^{p}$ in der $n \\geq 1$ schwache Ableitungen existieren ist ein sogenannter Sobolew-Raum.**\n",
        "\n"
      ]
    },
    {
      "cell_type": "markdown",
      "metadata": {
        "id": "dnQyQdvBIVBt"
      },
      "source": [
        "**Examples**: "
      ]
    },
    {
      "cell_type": "markdown",
      "metadata": {
        "id": "_JzbucSUHcx1"
      },
      "source": [
        "The **absolute value function** u : [−1, 1] → [0, 1], u(t) = |t|, which is not differentiable at t = 0, has a weak derivative v known as the [**sign function**](https://de.wikipedia.org/wiki/Vorzeichenfunktion) given by\n",
        "\n",
        "![gg](https://mathepedia.de/img/Abs_x.png)\n",
        "\n",
        "*Signumfunktion als schwache Ableitung der Betragsfunktions*"
      ]
    },
    {
      "cell_type": "markdown",
      "metadata": {
        "id": "lonnjf2vIO3N"
      },
      "source": [
        "The **characteristic function** of the rational numbers $1_{\\mathbb{Q}}$  is nowhere differentiable yet has a weak derivative."
      ]
    },
    {
      "cell_type": "markdown",
      "metadata": {
        "id": "wl-sETcUIL-z"
      },
      "source": [
        "The **Cantor function** c does not have a weak derivative, despite being differentiable almost everywhere. "
      ]
    },
    {
      "cell_type": "markdown",
      "metadata": {
        "id": "phajjQs3MCzs"
      },
      "source": [
        "**Schwache Lösung**"
      ]
    },
    {
      "cell_type": "markdown",
      "metadata": {
        "id": "f9NJ-LSwMvyw"
      },
      "source": [
        "* Avoiding the language of distributions, one starts with a differential equation and rewrites it in such a way that **no derivatives of the solution of the equation show up** (the new form is called the weak formulation, and the solutions to it are called weak solutions). \n",
        "\n",
        "* The weak formulation allows one to **find solutions to a differential equation which are not differentiable**.\n",
        "\n",
        "* Weak solutions are important because a great many differential equations encountered in modelling real-world phenomena do not admit of sufficiently smooth solutions, and the only way of solving such equations is using the weak formulation. \n",
        "\n",
        "* Even in situations where an equation does have differentiable solutions, it is often convenient to first prove the existence of weak solutions and only later show that those solutions are in fact smooth enough.\n",
        "\n",
        "The general idea which follows from this example is that, when solving a differential equation in $u,$ **one can rewrite it using a test function $\\varphi,$ such that whatever derivatives in $u$ show up in the equation, they are \"transferred\" via integration by parts to $\\varphi$,** resulting in an equation without derivatives of $u$. This new equation generalizes the original equation to include solutions which are not necessarily differentiable.\n"
      ]
    },
    {
      "cell_type": "markdown",
      "metadata": {
        "id": "EH9kxcz_MFEe"
      },
      "source": [
        "https://de.wikipedia.org/wiki/Schwache_Lösung"
      ]
    },
    {
      "cell_type": "markdown",
      "metadata": {
        "id": "I0Shd3mlMMe6"
      },
      "source": [
        "https://en.wikipedia.org/wiki/Weak_solution"
      ]
    },
    {
      "cell_type": "markdown",
      "metadata": {
        "id": "ftKE9QkO55-i"
      },
      "source": [
        "#### **Differentialgleichungen**"
      ]
    },
    {
      "cell_type": "markdown",
      "metadata": {
        "id": "Tv-U56lOF-D-"
      },
      "source": [
        "**Differentiationsklasse**"
      ]
    },
    {
      "cell_type": "markdown",
      "metadata": {
        "id": "kMVNVx-U0aex"
      },
      "source": [
        "https://de.wikipedia.org/wiki/Differentiationsklasse"
      ]
    },
    {
      "cell_type": "markdown",
      "metadata": {
        "id": "Mbhn1WaF55-i"
      },
      "source": [
        "**Differential Equations**\n",
        "\n",
        "* **easier to describe change than absolute amounts** \n",
        "\n",
        "  * Like for population growth: how they increase is more interesting than what particular value they have at a certain point in time\n",
        "  * Veränderungen sind leichter zu beschreiben als absolute Beträge (wie für die Bevölkerung: wie sie zunehmen als welchen bestimmten Wert sie zu einem bestimmten Zeitpunkt haben)\n",
        "\n",
        "* Newton physics: most often described in terms of force, and force determines acceleration, which is a statement about change\n",
        "\n",
        "* **Ordinary Differential Equations**: one input, often time t. \n",
        "\n",
        "> $\\ddot{\\theta}(t)=-\\mu \\dot{\\theta}(t)-\\frac{g}{L} \\sin (\\theta(t))$\n",
        "\n",
        "* **Partial Differential Equations**: multiple inputs, a whole continuum of values changing with time, like temperature at every point in a solid body, or velocity of a fluid at every point in space\n",
        "\n",
        "> $\\frac{\\partial T}{\\partial t}(x, y, t)=\\frac{\\partial^{2} T}{\\partial x^{2}}(x, y, t)+\\frac{\\partial^{2} T}{\\partial y^{2}}(x, y, t)$\n"
      ]
    },
    {
      "cell_type": "markdown",
      "metadata": {
        "id": "pGSI851Z55-i"
      },
      "source": [
        "Differentil Equations: https://youtube.com/playlist?list=PLZHQObOWTQDNPOjrT6KVlfJuKtYTftqH6"
      ]
    },
    {
      "cell_type": "markdown",
      "metadata": {
        "id": "Z7TQ1RqU55-j"
      },
      "source": [
        "* Eine Differentialgleichung ist eine mathematische **Gleichung für eine gesuchte Funktion** von einer oder mehreren Variablen, **in der auch Ableitungen dieser Funktion vorkommen**. Differentialgleichungen sind also Gleichungen, in denen \n",
        "  * **Ableitungen** einer \n",
        "  * **unbekannten Funktion** auftauchen.\n",
        "\n",
        "* Differentialgleichungen werden überall dort verwendet, wo die Änderung einer Größe von der gleichen Größe selbst abhängt. Diese Funktion nutzt man zur Modellierung physikalischer Vorgänge wie Wachstum, Bewegung oder Kräfte. Beispiele:\n",
        "\n",
        "  * Die Funktion f beschreibt den Ort, dann beschreibt die f´ die Änderung des Ortes und das ist nichts anderes, als die Geschwindigkeit. \n",
        "\n",
        "  * Die Funktion f beschreibt die Größe eine Bevölkerung, dann beschreibt f´deren Änderung und das ist nichts anderes als das Bevölkerungswachstum\n",
        "\n",
        "  * Allgemein beschreibt die Funktion f eine Größe und f´die Änderungsrate dieser Größe.\n",
        "\n",
        "* Die **Lösung einer Differentialgleichung** kann im Allgemeinen nicht durch die Gleichung selbst eindeutig bestimmt werden, sondern **benötigt zusätzlich noch weitere Anfangs- oder Randwerte zu exakten Bestimmung**. \n",
        "\n",
        "* Daher ist es nicht möglich, eine allgemein gültige Lösungsmethodik anzugeben. Nur für gewöhnliche, integrable Differentialgleichungen existiert ein allgemeines Lösungsverfahren.\n",
        "Folgende Lösungsverfahren sind möglich:\n",
        "\n",
        "  * Für gewöhnliche Differentialgleichungen benutzt man die **Umkehrung des Differenzierens**, in dem man die Stammfunktion aufsucht und so die Differentialgleichung integriert. **Die Lösungsfunktion ist dann einfach die Stammfunktion der Differentialgleichung**. Beispiel: f´(x) = 4, dann ist die Stammfunktion F(x) = 4x + C und somit die Lösung der Differentialgleichung.\n",
        "\n",
        "  * Partielle Differentialgleichungen werden in erster Linie durch Trennung der Variablen und spätere Integration gelöst. Zum Beispiel durch (n-fache) Integration fur f(x) = x<sup>2</sup> bestimmt man das unbestimmte Integral $y=\\int f(x) \\mathrm{d} x+C$ (Siehe [hier](https://www.lern-online.net/mathematik/analysis/differentialrechnung/differentialgleichung/differentialgleichung-1-ordnung-loesen/) und [hier](https://www.youtube.com/watch?v=wUwxsEbEwHA)).\n",
        "\n",
        "  * **Aber Achtung: ein mathematisches Modell (stetig, differenzierbar) kann die Realität oft nur unzureichend widerspiegeln. Beispiel ist die Zinseszinsrechnung. Oder bei Computern: Ein kontinuierlicher Vorgang wird diskret modelliert, z. B. bei der Simulation von Bewegungen am Computer, da der Computer nur in diskreten Schritten rechnen kann.** ([Source](https://www.spektrum.de/spektrum/projekt2/gaes3.htm))\n",
        "\n",
        "* **Beispiel: Bewegungsgleichung**\n",
        "\n",
        "  * **Gegeben** sind die Beschleunigung = zweifache Ableitung\n",
        "\n",
        "  * **Gesucht** (unbekannte Funktion): Gesucht ist eine Gleichung x(t), die den Ort angibt, an dem sich der fallende Stein zu einer bestimmten Zeit befindet.\n",
        "\n",
        "  * **Lösung**: Integration, und zwar zweifach - Umkehrung der zweifachen Differentiation (hierbei in Gestalt einer Differentialgleichung zweiter Ordnung)\n",
        "  \n",
        "  * Hierbei kann man aus einer gegebenen Beschleunigung auf die Ortsfunktion eines Körpers zurückzuschließen, also wo befindet sich ein fallendes Objekt zum Zeitpunkt t? Man kennt nur Masse und Beschleunigung. Die mathematische Schwierigkeit dieses Problems rührt daher, dass Ort, Geschwindigkeit und Beschleunigung Vektoren sind, die im Allgemeinen nicht in die gleiche Richtung zeigen, und dass die Kraft von der Zeit t und vom Ort ${\\vec {s}}$ abhängen kann.\n",
        "\n",
        "* Siehe auch [weitere Beispiele einfacher Differentialgleichungen aus der Natur](https://www.spektrum.de/spektrum/projekt2/gaes3.htm):\n",
        "\n",
        "  * Radioaktiver Zerfall\n",
        "\n",
        "  * Zinsrechnung\n",
        "\n",
        "* Bei Differentialgleichungen bekommt man dann als Loesung auch eine Funktion und keine Zahl: **Die Lösung einer Differentialgleichung ist immer eine Funktion (oder im Falle eines Systems von Differentialgleichungen mehrere Funktionen). Es ist jedoch nicht jede Differentialgleichung lösbar.** [Source](https://mathepedia.de/Gewoehnliche_Differentialgleichungen.html)\n",
        "\n",
        "* In den Differentialgleichungen werden Funktionen nicht mit f(x), sondern mit y(x) bezeichnet\n",
        "\n",
        "* Da viele Modelle mehrdimensional sind, sind bei der Formulierung häufig die partiellen Ableitungen sehr wichtig, mit denen sich **partielle Differentialgleichungen** formulieren lassen. Mathematisch kompakt werden diese mittels **Differentialoperatoren** beschrieben und analysiert."
      ]
    },
    {
      "cell_type": "markdown",
      "metadata": {
        "id": "FqpXz9l155-j"
      },
      "source": [
        "https://www.lernort-mint.de/mathematik/ableitung/differentialgleichungen-verwendung/"
      ]
    },
    {
      "cell_type": "markdown",
      "metadata": {
        "id": "Zr37w1yB55-j"
      },
      "source": [
        "https://www.th-nuernberg.de/fileadmin/fakultaeten/amp/Stry/kapitel10.pdf"
      ]
    },
    {
      "cell_type": "markdown",
      "metadata": {
        "id": "6CEIzzEr55-j"
      },
      "source": [
        "https://avhschule.de/differentialgleichungen/"
      ]
    },
    {
      "cell_type": "markdown",
      "metadata": {
        "id": "nbgmntwx55-j"
      },
      "source": [
        "https://de.wikipedia.org/wiki/Differentialrechnung"
      ]
    },
    {
      "cell_type": "markdown",
      "metadata": {
        "id": "zgH-0xLyEbqM"
      },
      "source": [
        "#### **Gewöhnliche Differentialgleichungen** "
      ]
    },
    {
      "cell_type": "markdown",
      "metadata": {
        "id": "StDkAyg_Rg-k"
      },
      "source": [
        "* Eine gewöhnliche Differentialgleichung ist eine Differentialgleichung, bei der zu einer gesuchten Funktion **nur Ableitungen nach genau einer Variablen** auftreten.\n",
        "\n",
        "* Viele physikalische, chemische und biologische Vorgänge in der Natur lassen sich mit solchen Gleichungen mathematisch beschreiben, z. B. der radioaktive Zerfall, Bewegungsvorgänge von Körpern, viele Arten von Schwingungsvorgängen oder das Wachstumsverhalten von Tier-Populationen. In naturwissenschaftlichen Modellen werden gewöhnliche Differentialgleichungen daher häufig eingesetzt, um solche Vorgänge zu analysieren, zu simulieren oder um Vorhersagen abgeben zu können.\n",
        "\n",
        "* **In vielen Fällen kann die Differentialgleichung nicht analytisch gelöst werden**. Man ist daher auf numerische Verfahren angewiesen. \n",
        "\n",
        "* Gewöhnliche Differentialgleichungen beliebiger Ordnung **lassen sich immer auf ein System von gewöhnlichen Differentialgleichungen erster Ordnung zurückführen**. "
      ]
    },
    {
      "cell_type": "markdown",
      "metadata": {
        "id": "xFjY-OhzQpqf"
      },
      "source": [
        "https://de.wikipedia.org/wiki/Gewöhnliche_Differentialgleichung"
      ]
    },
    {
      "cell_type": "markdown",
      "metadata": {
        "id": "TcDCp0rIXcNu"
      },
      "source": [
        "Eine (gewöhnliche) Differentialgleichung erster Ordnung hat die Form \n",
        "\n",
        "> $y^{\\prime}=f(x, y)$ (explizite Form) \n",
        "\n",
        "> $F\\left(x, y, y^{\\prime}\\right)=0$ (implizite Form)\n",
        "\n",
        "(Achtung: y steht hierbei fur eine ganze Funktion, nicht nur einen y-Wert!)\n",
        "\n",
        "Der einfachste Typ einer solchen Differentialgleichung hat die Gestalt:\n",
        "\n",
        "> $\n",
        "y^{\\prime}=f(x)\n",
        "$\n",
        "\n",
        "hängt also nur von $x$ und nicht von $y$ ab. Diese Differentialgleichung kann durch Integrieren gelöst werden. Die allgemeine Lösung ergibt sich dann mit $y=\\int f(x) \\mathrm{d} x+C$. [Source](https://mathepedia.de/DGL_Erster_Ordnung.html)\n",
        "\n",
        "Ist die Differentialgleichung nach der **höchsten Ableitung aufgelöst**, so nennt man die gewöhnliche Differentialgleichung **explizit**, d. h., es gilt:\n",
        "\n",
        "> $y^{(n)}(x)=f\\left(x, y(x), y^{\\prime}(x), \\ldots, y^{(n-1)}(x)\\right)$ bzw.\n",
        "\n",
        "> $y^{(n)}=f\\left(x, y, y^{\\prime}, \\ldots, y^{(n-1)}\\right)$\n",
        "\n",
        "Funktionsgraphen werden in der Regel durch eine Gleichung y=f(x) beschrieben und sind deswegen explizit dargestellte Kurven\n",
        "\n",
        "In den Anwendungen sind explizite gewöhnliche Differentialgleichungen mathematisch einfacher zu verarbeiten. Die höchste vorkommende Ableitungsordnung n wird Ordnung der Differentialgleichung genannt. ([Source](https://de.m.wikipedia.org/wiki/Gewöhnliche_Differentialgleichung))\n",
        "\n",
        "Eine **explizite** gewöhnliche Differentialgleichung 1. Ordnung hat die Gestalt: \n",
        "\n",
        "> $y^{\\prime}(x)=f(x, y(x))$"
      ]
    },
    {
      "cell_type": "markdown",
      "metadata": {
        "id": "qRobucScQj3W"
      },
      "source": [
        "**Implizite gewöhnliche Differentialgleichung**\n",
        "\n",
        "Eine gewöhnliche Differentialgleichung für die gesuchte Funktion $y(x)$ heisst **implizit**, wenn sie in der Form ist:\n",
        "\n",
        "> $F\\left(x, y(x), y^{\\prime}(x), \\ldots, y^{(n)}(x)\\right)=0$\n",
        "\n",
        "* Die implizite Differentiation (auch implizite Ableitung) ist eine Möglichkeit, **eine Funktion, die nicht explizit durch einen Term, sondern nur implizit durch eine Gleichung gegeben ist** (auch implizite Kurve), mit Hilfe der mehrdimensionalen Differentialrechnung abzuleiten. \n",
        "* Sie kann oft auch benutzt werden, um die Ableitung von Funktionen, die zwar explizit gegeben sind, **in dieser Form aber schwierig abzuleiten sind**, zu bestimmen.\n",
        "* Eine implizite Kurve ist in der Mathematik eine Kurve in der euklidischen Ebene, die durch eine Gleichung der Form F(x, y) = 0\n",
        "* Eine implizite Kurve ist also die Gesamtheit der Nullstellen einer Funktion von zwei Variablen. \n",
        "* Implizit bedeutet, dass die Gleichung der Kurve nicht nach x oder y aufgelöst ist.\n",
        "* Siehe auch: [Implizite_Kurve](https://de.wikipedia.org/wiki/Implizite_Kurve) und [Implizite Differentiation](https://de.wikipedia.org/wiki/Implizite_Differentiation)"
      ]
    },
    {
      "cell_type": "markdown",
      "metadata": {
        "id": "kWsfKUCnQmp4"
      },
      "source": [
        "**Explizite gewöhnliche Differentialgleichung**\n",
        "\n",
        "Funktionsgraphen werden in der Regel durch eine Gleichung y=f(x) beschrieben und sind deswegen explizit dargestellte Kurven\n",
        "\n",
        "\n",
        "Ist die Differentialgleichung nach der **höchsten Ableitung aufgelöst**, so nennt man die gewöhnliche Differentialgleichung **explizit**, d. h., es gilt:\n",
        "\n",
        "> $y^{(n)}(x)=f\\left(x, y(x), y^{\\prime}(x), \\ldots, y^{(n-1)}(x)\\right)$ bzw.\n",
        "\n",
        "> $y^{(n)}=f\\left(x, y, y^{\\prime}, \\ldots, y^{(n-1)}\\right)$\n",
        "\n",
        "\n",
        "In den Anwendungen sind explizite gewöhnliche Differentialgleichungen mathematisch einfacher zu verarbeiten. Die höchste vorkommende Ableitungsordnung n wird Ordnung der Differentialgleichung genannt. \n",
        "\n",
        "Eine **explizite** gewöhnliche Differentialgleichung 1. Ordnung hat die Gestalt: \n",
        "\n",
        "> $y^{\\prime}(x)=f(x, y(x))$\n",
        "\n",
        "Extrempunkte: erste Ableitung ist Null."
      ]
    },
    {
      "cell_type": "markdown",
      "metadata": {
        "id": "-65YEbd0SwBp"
      },
      "source": [
        "**Implizit vs explizit**\n",
        "\n",
        "* Eine Funktion kann in Form 𝑦=𝑓(𝑥) dargestellt werden. Das bedeutet, dass diese Funktion nach der Variablen 𝑦 aufgelöst ist. Man spricht in diesem Fall von einer expliziten Darstellung.\n",
        "\n",
        "* Da bei dieser Darstellungsform jedem 𝑥-Wert nur ein 𝑦-Wert zugeordnet wird, können einfache und häufig notwendige Kurven wie Ellipsen oder Kreislinien nicht geschlossen dargestellt werden (zu jedem 𝑥-Wert existieren mehrere 𝑦-Werte), d.h. es wird zur Darstellung mehr als eine Funktion benötigt. Damit für die Darstellung von Ellipsen oder Kreisen nicht mehrere Funktionen aufgestellt werden müssen, kann man diese auch in impliziter Form angeben.\n",
        "\n",
        "* Implizite Darstellung: Bei der impliziten Darstellungsform ist die Funktion nicht nach einer der beiden Variablen aufgelöst. Die Funktion wird als Menge aller Nullstellen von 𝐹 angegeben und hat die Form:\n",
        "\n",
        "> $𝐹 (𝑥,𝑦)=0$\n",
        "\n",
        "* Mit Hilfe der impliziten Darstellung können auch Ellipsen und Kreise dargelegt werden. Anwendungsbeispiele: Um einen Kreis abzubilden, bedarf es bei der expliziten Darstellung zwei Funktionen. \n",
        "\n",
        "https://www.ingenieurkurse.de/hoehere-mathematik-analysis-gewoehnliche-differentialgleichungen/darstellungsarten-ebener-kurven/implizite-und-explizite-darstellung.html"
      ]
    },
    {
      "cell_type": "markdown",
      "metadata": {
        "id": "IZlQP87eROED"
      },
      "source": [
        "**Kurvenschar (Funktionsschar)**"
      ]
    },
    {
      "cell_type": "markdown",
      "metadata": {
        "id": "vC2FVkDNRRdO"
      },
      "source": [
        "* Die Lösungsmenge einer gewöhnlichen Differentialgleichung ist im allgemeinen eine Funktionenschar.\n",
        "\n",
        "* Die Lösungsmenge einer gewöhnlichen Differentialgleichung ist im allgemeinen eine Funktionenschar. Sucht man eine spezielle Lösung (Funktion) so reicht die Vorgabe der Differentialgleichung nicht aus.(man braucht nfngs- und randbedingung?)\n",
        "\n",
        "* Eine [Kurvenschar](https://de.wikipedia.org/wiki/Kurvenschar), auch [Funktionenschar](https://mathepedia.de/Kurvenscharen.html), Funktionsschar oder Parameterfunktion, ist eine Menge verschiedener Kurven, deren **Abbildungsvorschriften sich in mindestens einem Parameter unterscheiden**. Sonderfälle sind das Büschel, eine einparametrige Schar, und das Bündel, eine Schar mit einem allen Funktionen gemeinsamen Punkt.\n",
        "\n",
        "![cc](https://upload.wikimedia.org/wikipedia/commons/thumb/2/22/Kurvenschar_parabel.svg/360px-Kurvenschar_parabel.svg.png)\n",
        "\n",
        "*Parabelschar $f_{a}(x)=a x^{2}$. Bündel in (0,0) und Büschel in $a$*\n"
      ]
    },
    {
      "cell_type": "markdown",
      "metadata": {
        "id": "CCqE_cd7U5Vw"
      },
      "source": [
        "**Beispiel fur gewohnliche Differentialgleichungen (linear und nichtlinear)**"
      ]
    },
    {
      "cell_type": "markdown",
      "metadata": {
        "id": "PH40tE-BU-x-"
      },
      "source": [
        "https://de.wikipedia.org/wiki/Lotka-Volterra-Gleichungen"
      ]
    },
    {
      "cell_type": "markdown",
      "metadata": {
        "id": "_V_2fb9vVJCf"
      },
      "source": [
        "https://de.wikipedia.org/wiki/Hodgkin-Huxley-Modell"
      ]
    },
    {
      "cell_type": "markdown",
      "metadata": {
        "id": "lWaTQAuEG2m6"
      },
      "source": [
        "#### **Autonome Differentialgleichung**"
      ]
    },
    {
      "cell_type": "markdown",
      "metadata": {
        "id": "KKVNzeFUG6BO"
      },
      "source": [
        "Die zeitliche Entwicklung eines Punktes im Phasenraum wird durch Differentialgleichungen beschrieben und durch Trajektorien (Bahnkurven, Orbit) im Phasenraum dargestellt. Dies sind **Differentialgleichungen erster Ordnung in der Zeit** und durch einen Anfangspunkt eindeutig festgelegt. Ist die Differentialgleichung zeitunabhängig, sind dies **autonome Differentialgleichungen**.\n",
        "\n",
        "Als [autonome Differentialgleichung](https://de.wikipedia.org/wiki/Autonome_Differentialgleichung) oder autonomes System bezeichnet man einen Typ von gewöhnlichen Differentialgleichungen, **der nicht explizit von der unabhängigen Variable abhängt**.\n",
        "\n",
        "Zum Beispiel ist die Differentialgleichung für den [harmonischen Oszillator](https://de.wikipedia.org/wiki/Harmonischer_Oszillator) autonom:\n",
        "\n",
        ">$\n",
        "y^{\\prime \\prime}(x)+\\lambda \\cdot y(x)=0\n",
        "$\n",
        "\n",
        "Die Mathieusche Differentialgleichung dagegen nicht:\n",
        "\n",
        ">$\n",
        "y^{\\prime \\prime}(x)+[\\lambda+\\gamma \\cos (x)] \\cdot y(x)=0\n",
        "$\n",
        "\n",
        "da sie explizit von der unabhängigen Variable $x$ abhängt (ein Parameter wird „von außen“ periodisch verändert). \n",
        "\n",
        "Die unabhängige Variable steht in den Anwendungen häufig für die Zeit."
      ]
    },
    {
      "cell_type": "markdown",
      "metadata": {
        "id": "CL9Ic_94UozH"
      },
      "source": [
        "**Siehe auch dynamical systems:**"
      ]
    },
    {
      "cell_type": "markdown",
      "metadata": {
        "id": "RUeuF6cJxKwE"
      },
      "source": [
        "\n",
        "> $\\dot{x}=$ rate of change of $x$ as time changes\n",
        "\n",
        "> $\\dot{y}=$ rate of change of $y$ as time changes\n",
        "\n",
        "They depend on t:\n",
        "\n",
        "$\\frac{d x}{d t}=$ rate of change of $x$ as time changes $\\frac{d y}{d t}=$ rate of change of $y$ as time changes\n",
        "\n",
        "but the differential equation that describe x dot and y dot don’t actually involve time t:\n",
        "\n",
        "> $\\dot{x}=-y-0.1 x$\n",
        "\n",
        "> $\\dot{y}=x-0.4 y$\n",
        "\n",
        "This makes them autonomous. Each combination of x and y to only corresponds to one combination of x dot and y dot.\n",
        "\n",
        "You can represent it in a dynamical system called the phase space. Each point in space is a unique state of the system. And has its own rate of change shown as a vector. "
      ]
    },
    {
      "cell_type": "markdown",
      "metadata": {
        "id": "gdkIExFtEh8W"
      },
      "source": [
        "#### **Partielle Differentialgleichung**"
      ]
    },
    {
      "cell_type": "markdown",
      "metadata": {
        "id": "MhCrLrMK7Jmg"
      },
      "source": [
        "\n",
        "https://en.m.wikipedia.org/wiki/Elliptic_partial_differential_equation\n",
        "\n",
        "https://en.m.wikipedia.org/wiki/Partial_differential_equation\n",
        "\n",
        "https://en.m.wikipedia.org/wiki/Elliptic_operator\n",
        "\n"
      ]
    },
    {
      "cell_type": "markdown",
      "metadata": {
        "id": "LwhDu5akcQCx"
      },
      "source": [
        "* Partielle Differenzen werden angegeben mit $\\partial$\n",
        "\n",
        "* Erlauterung in [Youtube](https://www.youtube.com/watch?v=ly4S0oi3Yz8)\n",
        "\n",
        "* Ω als Teilmenge von $R$<sup>n</sup> ist als Gebiet offen und zusammenhängend\n",
        "\n",
        "* Offene Mengen sind wichtig fur die Bildung einer Ableitung (weil man ja keinen rand mochte, sondern an jedem Punkt der Menge differenzieren, einen Differenzenquotienten bilden). Man braucht genügend Punkte in der Umgebung - man kann eine Kugel um jeden Punkt legen, der komplett in der Menge Ω liegt (siehe auch Definition von offen in einem metrischen Raum). Offenheitsbedingungen verwenden, um Grenzwerte zu definieren, u.a. von diesen Differenzenquotienten\n",
        "\n",
        "* Zusammenhängend: wählen wir 2 Punkte aus der Menge, finden wir immer einen direkten Weg zwischen ihnen (man kann eine stetige Abbildung vom Intervall Punkt 1 zu Punkt 2 bilden (muss keine Gerade sein).\n",
        "\n",
        "**Eine partielle Differentialgleichung in Ω ist eine Bedingung in der Form:**\n",
        "\n",
        "> $F\\left(x, u, \\left(\\partial^{\\alpha} u\\right)_{1 \\leqslant|\\alpha| \\leq m}\\right)=0$\n",
        "\n",
        "> $(x \\in \\Omega, u: \\Omega \\rightarrow \\mathbb{R}, \\quad \\alpha \\quad$ Multindex $)$\n",
        "\n",
        "**Eine klassische Losung der partiellen Differentialgleichung (PDE) ist:**\n",
        "\n",
        "> $u: \\Omega \\rightarrow \\mathbb{R} \\quad, \\quad u \\in C^{m}(\\Omega)$ mit\n",
        "\n",
        "> $\\forall_{x \\in \\Omega} \\quad F\\left(x, u(x), \\quad\\left(\\partial^{\\alpha} u(x)\\right)_{1 \\leq |\\alpha| \\leq m}\\right)$\n",
        "\n",
        "**Partielle Differentialgleichungen werden in erster Linie durch Trennung der Variablen und spätere Integration gelöst.**\n",
        "\n",
        "Die Zahl m heisst die Ordnung der PDE, wenn sie minimal gewahlt ist."
      ]
    },
    {
      "cell_type": "markdown",
      "metadata": {
        "id": "5LgbB0zJkTri"
      },
      "source": [
        "https://www.youtube.com/watch?v=vBxifpKoVwc&t=25s"
      ]
    },
    {
      "cell_type": "markdown",
      "metadata": {
        "id": "wW0-eczlexDp"
      },
      "source": [
        "**Lineare PDE auf Ω (Gebiet)**"
      ]
    },
    {
      "cell_type": "markdown",
      "metadata": {
        "id": "snEgLyDrKZDK"
      },
      "source": [
        "Sobolevräume sind ein grundlegendes Werkzeug bei der Behandlung von PDG (rein und angewandt)."
      ]
    },
    {
      "cell_type": "markdown",
      "metadata": {
        "id": "BInJzezlpcTk"
      },
      "source": [
        "See also **Variational Formulations** - wichtig fur partielle Differentialgleichungen"
      ]
    },
    {
      "cell_type": "markdown",
      "metadata": {
        "id": "B7dGv8cd5PAq"
      },
      "source": [
        "https://de.wikipedia.org/wiki/Partielle_Differentialgleichung"
      ]
    },
    {
      "cell_type": "markdown",
      "metadata": {
        "id": "xPzLkIswFifn"
      },
      "source": [
        "**// Gleichungen**"
      ]
    },
    {
      "cell_type": "markdown",
      "metadata": {
        "id": "j8bIXZBFPx0r"
      },
      "source": [
        "**Euler-Gleichungen** (siehe auch unter Variationsanalyse)"
      ]
    },
    {
      "cell_type": "markdown",
      "metadata": {
        "id": "_N6Tf-eKPI3y"
      },
      "source": [
        "* Euler-Gleichungen (Strömungsmechanik)\n",
        "\n",
        "* bildet dann ein System von **nichtlinearen partiellen** Differentialgleichungen **erster Ordnung**\n",
        "\n",
        "* Wird die Viskosität vernachlässigt ($\\eta =\\lambda =0$), so erhält man die Euler-Gleichungen (hier für den kompressiblen Fall)\n",
        "\n",
        "> $\\rho \\frac{\\partial \\vec{v}}{\\partial t}+\\rho(\\vec{v} \\cdot \\nabla) \\vec{v}=-\\nabla p+\\vec{f}$\n",
        "\n",
        "https://de.wikipedia.org/wiki/Euler-Gleichungen_(Strömungsmechanik)"
      ]
    },
    {
      "cell_type": "markdown",
      "metadata": {
        "id": "HgKFeXcDPwAv"
      },
      "source": [
        "**Navier-Stokes-Gleichungen**"
      ]
    },
    {
      "cell_type": "markdown",
      "metadata": {
        "id": "v4wALvauPTCj"
      },
      "source": [
        "* Die Gleichungen sind eine **Erweiterung der Euler-Gleichungen** der Strömungsmechanik **um Viskosität beschreibende Terme** (Die Navier-Stokes-Gleichungen beinhalten die Euler-Gleichungen als den Sonderfall, in dem die innere Reibung (Viskosität) und die Wärmeleitung des Fluids vernachlässigt werden.)\n",
        "\n",
        "* bildet dann ein System von **nichtlinearen partiellen** Differentialgleichungen **zweiter Ordnung**\n",
        "\n",
        "* Die Navier-Stokes-Gleichungen bilden das Verhalten von Wasser, Luft und Ölen ab und werden daher in diskretisierter Form bei der Entwicklung von Fahrzeugen wie Autos und Flugzeugen angewendet. \n",
        "\n",
        "* Dies geschieht in Näherungsform, da keine exakten analytischen Lösungen für diese komplizierten Anwendungsfälle bekannt sind.\n",
        "\n",
        "> $\\rho \\overrightarrow{\\vec{v}}=\\rho\\left(\\frac{\\partial \\vec{v}}{\\partial t}+(\\vec{v} \\cdot \\nabla) \\vec{v}\\right)=-\\nabla p+\\mu \\Delta \\vec{v}+(\\lambda+\\mu) \\nabla(\\nabla \\cdot \\vec{v})+\\vec{f}$\n",
        "\n",
        "https://de.wikipedia.org/wiki/Navier-Stokes-Gleichungen\n",
        "\n",
        "https://de.wikipedia.org/wiki/Numerische_Strömungsmechanik"
      ]
    },
    {
      "cell_type": "markdown",
      "metadata": {
        "id": "uYr5dvnlGOPC"
      },
      "source": [
        "**Exkurs: Fluiddynamik**"
      ]
    },
    {
      "cell_type": "markdown",
      "metadata": {
        "id": "NNoa9aLYGQUu"
      },
      "source": [
        "https://de.wikipedia.org/wiki/Fluiddynamik"
      ]
    },
    {
      "cell_type": "markdown",
      "metadata": {
        "id": "2OK_z8u7FxgT"
      },
      "source": [
        "**Stokes-Gleichungen**"
      ]
    },
    {
      "cell_type": "markdown",
      "metadata": {
        "id": "aw6StMBYFzY_"
      },
      "source": [
        "https://de.wikipedia.org/wiki/Navier-Stokes-Gleichungen#Stokes-Gleichung"
      ]
    },
    {
      "cell_type": "markdown",
      "metadata": {
        "id": "6QSq6KA1Fqdh"
      },
      "source": [
        "**Potentialgleichungen**"
      ]
    },
    {
      "cell_type": "markdown",
      "metadata": {
        "id": "BjCTnnjIFsJU"
      },
      "source": [
        "https://de.wikipedia.org/wiki/Potentialströmung"
      ]
    },
    {
      "cell_type": "markdown",
      "metadata": {
        "id": "5swSZlsF7oGD"
      },
      "source": [
        "**Black–Scholes-Model**"
      ]
    },
    {
      "cell_type": "markdown",
      "metadata": {
        "id": "OTIv3qZf7rQE"
      },
      "source": [
        "https://de.wikipedia.org/wiki/Black-Scholes-Modell"
      ]
    },
    {
      "cell_type": "markdown",
      "metadata": {
        "id": "9fm1w6KjFQpT"
      },
      "source": [
        "**// Loesungsverfahren**"
      ]
    },
    {
      "cell_type": "markdown",
      "metadata": {
        "id": "FBOaLmn9FZd0"
      },
      "source": [
        "https://de.wikipedia.org/wiki/Finite-Elemente-Methode"
      ]
    },
    {
      "cell_type": "markdown",
      "metadata": {
        "id": "dwGNSrciFVKW"
      },
      "source": [
        "https://de.wikipedia.org/wiki/Spektralmethode"
      ]
    },
    {
      "cell_type": "markdown",
      "metadata": {
        "id": "HLu350gHFXtS"
      },
      "source": [
        "https://de.wikipedia.org/wiki/Liste_numerischer_Verfahren"
      ]
    },
    {
      "cell_type": "markdown",
      "metadata": {
        "id": "S0BvtcWdDkA6"
      },
      "source": [
        "**Charakteristische Gleichung & Methode der Charakteristiken**"
      ]
    },
    {
      "cell_type": "markdown",
      "metadata": {
        "id": "u7fW5fPlDiOl"
      },
      "source": [
        "https://de.wikipedia.org/wiki/Charakteristische_Gleichung"
      ]
    },
    {
      "cell_type": "markdown",
      "metadata": {
        "id": "XWOUvVgEEGAb"
      },
      "source": [
        "**Methode der Charakteristiken**"
      ]
    },
    {
      "cell_type": "markdown",
      "metadata": {
        "id": "3Wx8fLLOESk1"
      },
      "source": [
        "* Die Methode der Charakteristiken ist eine Methode zur Lösung partieller\n",
        "Differentialgleichungen (PDGL/PDE), die typischerweise erster Ordnung und\n",
        "quasilinear sind, also Gleichungen vom Typ\n",
        "\n",
        "> $\n",
        "P(x, t, u) \\frac{\\partial u}{\\partial t}+Q(x, t, u) \\frac{\\partial u}{\\partial x}=R(x, t, u)\n",
        "$\n",
        "\n",
        "* für eine Funktion $u(x, t)$ mit der Anfangsbedingung $u(x, 0)=f(x)$. (Dabei heißt eine Gleichung quasilinear, falls sie in der höchsten Ableitung linear ist).\n",
        "\n",
        "* Die grundlegende Idee besteht darin, **die PDE durch eine geeignete Koordinatentransformation auf ein System gewöhnlicher Differentialgleichungen auf bestimmten Hyperflächen, sogenannten Charakteristiken, zurückzuführen.**\n",
        "\n",
        "* Die PDE kann dann als Anfangswertproblem in dem neuen System mit Anfangswerten auf den die Charakteristik schneidenden Hyperflächen gelöst werden. Störungen breiten sich längs der Charakteristiken aus.\n",
        "\n",
        "* Charakteristiken spielen eine Rolle in der qualitativen Diskussion der Lösung bestimmter PDE und in der Frage, wann Anfangswertprobleme für diese PDE korrekt gestellt sind.\n"
      ]
    },
    {
      "cell_type": "markdown",
      "metadata": {
        "id": "FOOie2DlDnLw"
      },
      "source": [
        "https://en.wikipedia.org/wiki/Method_of_characteristics"
      ]
    },
    {
      "cell_type": "markdown",
      "metadata": {
        "id": "rw9GQgLL-qm-"
      },
      "source": [
        "#### **Stochastische Differentialgleichungen**"
      ]
    },
    {
      "cell_type": "markdown",
      "metadata": {
        "id": "_IJLEoSs-mKd"
      },
      "source": [
        "Eine [stochastischen Differentialgleichung](https://de.wikipedia.org/wiki/Stochastische_Differentialgleichung) ist eine Verallgemeinerung des Begriffs der gewöhnlichen Differentialgleichung auf stochastische Prozesse. Stochastische Differentialgleichungen werden in zahlreichen Anwendungen eingesetzt, **um zeitabhängige Vorgänge zu modellieren**, die neben deterministischen Einflüssen zusätzlich **stochastischen Störfaktoren (Rauschen)** ausgesetzt sind."
      ]
    },
    {
      "cell_type": "markdown",
      "metadata": {
        "id": "zN-mlxJyUxVU"
      },
      "source": [
        "#### **Anfangs- & Randwertproblem**"
      ]
    },
    {
      "cell_type": "markdown",
      "metadata": {
        "id": "xbR-3EnGQ33f"
      },
      "source": [
        "Beispielsweise werden alle schwingenden Pendel durch eine Differentialgleichung beschrieben (siehe: Pendelgleichung), und der generelle Bewegungsablauf folgt immer dem gleichen Prinzip. Der konkrete Bewegungsablauf ist jedoch durch die Rand- oder Anfangsbedingung(en) (wann wurde das Pendel angestoßen, und wie weit) bestimmt. Die Lösbarkeit von Anfangswertproblemen bei gewöhnlichen Differentialgleichungen 1. Ordnung wird durch den Satz von Picard-Lindelöf beschrieben.\n",
        "\n",
        "https://mathepedia.de/Gewoehnliche_Differentialgleichungen.html"
      ]
    },
    {
      "cell_type": "markdown",
      "metadata": {
        "id": "qKrBEYITQwic"
      },
      "source": [
        "###### **Anfangswertprobleme (Cauchy-Problem)**"
      ]
    },
    {
      "cell_type": "markdown",
      "metadata": {
        "id": "9Gn21EXNnps9"
      },
      "source": [
        "\n",
        "\n",
        "Wer zu einer Differentialgleichung eine **Anfangsbedingung** hinzufügt, stellt damit ein **Anfangswertproblem**. Eine besonders spannende Frage lautet dabei, wie eine Anfangsbedingung zu einer gegebenen Differentialgleichung beschaffen sein muss, damit das entstehende Anfangswertproblem **genau eine eindeutig bestimmte Lösung zulässt**."
      ]
    },
    {
      "cell_type": "markdown",
      "metadata": {
        "id": "__z4QH_EiQZw"
      },
      "source": [
        "Der freie Fall (etwa eines Apfels vom Baum) wird beschrieben durch die Bewegungsgleichung\n",
        "\n",
        ">$\n",
        "\\begin{aligned}\n",
        "y^{\\prime \\prime}(t) &=-g \\\\\n",
        "\\Rightarrow y^{\\prime}(t) &=-g \\cdot t+v_{0}\n",
        "\\end{aligned}$\n",
        "\n",
        "mit der Konstanten $g \\approx 9,81 \\mathrm{~m} / \\mathrm{s}^{2}$ (Erdbeschleunigung).\n",
        "Die Lösungsmenge dieser Differentialgleichung besteht zunächst aus allen Funktionen der Form\n",
        "\n",
        ">$\n",
        "\\Rightarrow y(t)=-\\frac{1}{2} g t^{2}+v_{0} \\cdot t+y_{0}\n",
        "$\n",
        "\n",
        "mit beliebigen Integrationskonstanten $y_{0}$ und $v_{0}$.\n",
        "Eine mögliche Anfangsbedingung sagt z. B. aus, dass der Apfel zu Beginn der Bewegung an einem\n",
        "Ast in drei Metern Höhe hängt:\n",
        "\n",
        ">$\n",
        "y(0)=y_{0}=3 \\mathrm{~m}\n",
        "$\n",
        "\n",
        "und sich in Ruhe befindet:\n",
        "\n",
        ">$\n",
        "y^{\\prime}(0)=v_{0}=0 \\mathrm{~m} / \\mathrm{s}\n",
        "$\n",
        "\n",
        "Diese Anfangsbedingung zeichnet nun in der Lösungsmenge der Differentialgleichung die eine Funktion\n",
        "\n",
        ">$\n",
        "\\Rightarrow y(t)=3 \\mathrm{~m}-\\frac{1}{2} g t^{2}\n",
        "$\n",
        "\n",
        "als die eindeutig bestimmte Lösung des Anfangswertproblems aus (Loesung dann zB uber das [Runge-Kutta-Verfahren](https://de.wikipedia.org/wiki/Runge-Kutta-Verfahren) - Einschrittverfahren zur näherungsweisen Lösung von Anfangswertproblemen in der numerischen Mathematik)."
      ]
    },
    {
      "cell_type": "markdown",
      "metadata": {
        "id": "Lk442LLDjL8y"
      },
      "source": [
        "https://de.wikipedia.org/wiki/Anfangsbedingung"
      ]
    },
    {
      "cell_type": "markdown",
      "metadata": {
        "id": "9ZR3H5KyQ8YZ"
      },
      "source": [
        "* Das Gegenstück zum Randwertproblem ist das [Anfangswertproblem](https://mathepedia.de/Anfangswertprobleme.html) auch [hier](https://de.wikipedia.org/wiki/Anfangswertproblem), bei dem die Lösung für einen beliebigen Punkt im Definitionsbereich vorgegeben wird.\n",
        "\n",
        "* Als Anfangswertproblem bezeichnet eine **wichtige Klasse von Differentialgleichungen**. Die Lösung eines Anfangswertproblems ist die Lösung der Differentialgleichung unter zusätzlicher Berücksichtigung eines vorgegebenen Anfangswertes.\n",
        "\n",
        "* **Die Lösungsmenge einer gewöhnlichen Differentialgleichung ist im allgemeinen eine Funktionenschar**. Sucht man eine spezielle Lösung (Funktion) so reicht die Vorgabe der Differentialgleichung nicht aus.\n",
        "\n",
        "* Sind neben der Differentialgleichung $F\\left(x, y, y^{\\prime}, \\ldots, y^{(n)}\\right.$) außerdem noch Anfangsbedingungen der Form $\n",
        "y\\left(x_{0}\\right)=c_{0}, y^{\\prime}\\left(x_{0}\\right)=c_{1}, \\ldots, y^{(n)}\\left(x_{0}\\right)=c_{n}$ gegeben, so spricht man von einem Anfangswertproblem.\n",
        "\n",
        "* Beispiel: Allgemeine Lösung der Differentialgleichung $y^{\\prime}=y$ ist $y=C \\mathrm{e}^{x}$. Mit der Anfangsbedingung $y(0)=2$ erhalten wir die Gleichung $2=C \\cdot 1$ und finden $y=2 \\cdot \\mathrm{e}^{x}$ als Lösung des Anfangswertproblems.\n",
        "\n",
        "* Verallgemeinert man das Cauchy-Problem auf mehrere Veränderliche, etwa n Veränderliche $x_{1},\\dotsc ,x_{n}$, so erhält man partielle Differentialgleichungen. "
      ]
    },
    {
      "cell_type": "markdown",
      "metadata": {
        "id": "cPxOFEGHU6-f"
      },
      "source": [
        "Ein Anfangswertproblem **erster Ordnung** ist ein Gleichungssystem, das aus einer gewöhnlichen Differentialgleichung erster Ordnung\n",
        "\n",
        "> $\n",
        "y^{\\prime}(t)=f(t, y(t))\n",
        "$\n",
        "\n",
        "und einer zusätzlichen Anfangsbedingung\n",
        "\n",
        "> $\n",
        "y\\left(t_{0}\\right)=y_{0}\n",
        "$\n",
        "\n",
        "besteht, mit\n",
        "- dem Anfangswert $y_{0}$ und\n",
        "- einem Zeitpunkt $t_{0} \\in \\mathbb{R}$.\n",
        "\n",
        "Eine konkrete Funktion $y$ ist eine Lösung des Anfangswertproblems. wenn sie beide Gleichungen erfüllt. Gesucht ist also eine Funktion $y$, die die **Bedingungen der Differentialgleichung und des Anfangswertes** erfüllt.\n",
        "\n",
        "Ist die Funktion $f$ stetig, so ist dies nach dem Hauptsatz der Integralrechnung genau\n",
        "dann der Fall, wenn\n",
        "\n",
        "> $\n",
        "y(t)=y_{0}+\\int_{t_{0}}^{t} f(s, y(s)) d s\n",
        "$\n",
        "\n",
        "für alle $t$ im Definitionsintervall gilt."
      ]
    },
    {
      "cell_type": "markdown",
      "metadata": {
        "id": "THi5Mx3uQyx0"
      },
      "source": [
        "###### **Randwertproblem (Boundary value)**"
      ]
    },
    {
      "cell_type": "markdown",
      "metadata": {
        "id": "KfUxHFgakA7f"
      },
      "source": [
        "Bei partiellen Differentialgleichungen, wenn also die gesuchte Funktion nicht nur von einer, sondern von mehreren Variablen abhängt, werden oftmals [Randbedingungen](https://de.wikipedia.org/wiki/Randbedingung) an Stelle von Anfangsbedingungen verwendet. Manchmal wird dann der Spezialfall einer Randbedingung, deren Definitionsbereich eine Hyperebene im vollen Definitionsbereich der Differentialgleichung bildet, Anfangsbedingung genannt.\n",
        "\n",
        "In der Betriebswirtschaftslehre und der Volkswirtschaftslehre entsprechen die Randbedingungen den kurzfristig oder gar nicht durch den Entscheidungsträger beeinflussbaren Datenparametern wie beispielsweise die Umweltzustände der Witterung oder der Gesetze.\n",
        "\n"
      ]
    },
    {
      "cell_type": "markdown",
      "metadata": {
        "id": "qkV16ad4XIXS"
      },
      "source": [
        "Sei die gegebene Differentialgleichung $y^{\\prime \\prime}(x)=-y(x)$. Die Lösungsmenge dieser Gleichung ist $a \\sin (x)+b \\cos (x)$.\n",
        "\n",
        "* Gesucht ist die Lösung mit $y(0)=1$ und $y(\\pi / 2)=0 \\Rightarrow$ Die Lösung ist $y=\\cos (x)$.\n",
        "\n",
        "* Periodische Randbedingung: Gesuchtłist die Lösung mit $y(0)=0$ und $y(\\pi)=0 \\Rightarrow$ Es gibt unendlich viele Lösungen der Form $a \\sin (x)$ mit beliebigem $a$.\n",
        "\n",
        "* Gesucht ist die Lösung mit $y(0)=0$ und $y(2 \\pi)=1 \\Rightarrow$ Es gibt keine Lösung."
      ]
    },
    {
      "cell_type": "markdown",
      "metadata": {
        "id": "SwkYHmmJXfrc"
      },
      "source": [
        "Arten von Randbedingungen (Es gibt unterschiedliche Möglichkeiten, auf dem Rand des betrachteten Gebietes Werte vorzuschreiben):\n",
        "\n",
        "* Werte der Lösung vorschreiben; im Fall einer auf dem Intervall $[a, b]$ definierten gewöhnlichen Differentialgleichung schreibt man also $y(a)$ und $y(b)$ vor und spricht\n",
        "dann von [**Dirichlet-Randbedingungen**](https://de.wikipedia.org/wiki/Dirichlet-Randbedingung). \n",
        "\n",
        "* Bedingungen an die Ableitungen stellen, also $y^{\\prime}(a)$ und $y^{\\prime}(b)$ vorgeben, dann spricht man [**von Neumann-Randbedingungen**](https://de.wikipedia.org/wiki/Neumann-Randbedingung) (bei gewöhnlichen Differentialgleichungen, wie oben ausgeführt, von Anfangsbedingungen). \n",
        "\n",
        "* Ein Spezialfall sind [**periodische Randbedingungen**](https://de.wikipedia.org/wiki/Periodische_Randbedingung), hier muss (im Beispiel einer auf dem Intervall $[a, b]$ betrachteten gewöhnlichen Differentialgleichung) gelten: $y(a)=y(b)$ bzw. $y^{\\prime}(a)=y^{\\prime}(b)$."
      ]
    },
    {
      "cell_type": "markdown",
      "metadata": {
        "id": "aZjLhnrC37pt"
      },
      "source": [
        "[Randwertprobleme](https://de.m.wikipedia.org/wiki/Randwertproblem) nennt man eine **wichtige Klasse von Problemstellungen**, bei denen zu einer vorgegebenen [Differentialgleichung](https://de.m.wikipedia.org/wiki/Differentialgleichung) Lösungen gesucht werden, die auf dem **Rand des Definitionsbereiches** vorgegebene Funktionswerte (Randbedingungen) annehmen sollen. \n",
        "\n",
        "* Im Falle einer gewöhnlichen Differentialgleichung ist der Definitionsbereich der Funktion ein abgeschlossenes Intervall.\n",
        "\n",
        "* Siehe auch: https://de.wikipedia.org/wiki/Dirichlet-Randbedingung\n",
        "\n",
        "* Beim **Dirichlet-Problem** werden Funktionswerte auf dem Rand vorgegeben. Anstatt Funktionswerten werden beim **Neumann-Problem** Ableitungswerte vorgeschrieben. Die **schiefe Randbedingung** stellt eine Kombination der beiden vorangehenden Probleme dar. Hierbei soll die gesuchte Funktion auf dem Rand gleich ihrer Normalenableitung auf dem Rand sein.\n",
        "\n",
        "* Werden hier statt zwei Werten nur an einem Randpunkt des Intervalles – meistens a – Werte für u und zusätzlich für Ableitungen von u vorgegeben, so spricht man von einem Anfangswertproblem und nennt die vorgegebenen Werte seine Anfangsbedingungen.\n",
        "\n",
        "* Partielle Differentialgleichungen betrachtet man meistens auf Sobolew-Räumen. In diesen Räumen werden Funktionen, die bis auf Nullmengen übereinstimmen, als gleich angesehen. Da der Rand eines Gebietes üblicherweise eine Nullmenge ist, ist der Begriff der Randbedingung problematisch. Lösungen für dieses Problem sind sobolewsche Einbettungssätze oder – allgemeiner – Spuroperatoren.\n",
        "\n",
        "* Randwertaufgaben haben nicht immer eine Lösung (siehe Beispiel unten), im Falle ihrer Existenz ist die Lösung nicht in allen Fällen eindeutig. Die Berechnung einer Näherungslösung für eine Randwertaufgabe mit Mitteln der numerischen Mathematik ist oft aufwendig und läuft meist auf die Lösung sehr großer Gleichungssysteme hinaus."
      ]
    },
    {
      "cell_type": "markdown",
      "metadata": {
        "id": "xfdBIY5Y-eNj"
      },
      "source": [
        "#### **Wetter- & Klimavorhersage**"
      ]
    },
    {
      "cell_type": "markdown",
      "metadata": {
        "id": "xnhq7rjuEW9l"
      },
      "source": [
        "**Meteorology**"
      ]
    },
    {
      "cell_type": "markdown",
      "metadata": {
        "id": "7xIi2fJ8EYkj"
      },
      "source": [
        "https://en.wikipedia.org/wiki/Meteorology"
      ]
    },
    {
      "cell_type": "markdown",
      "metadata": {
        "id": "iIFhaPuaEx8S"
      },
      "source": [
        "https://www.grund-wissen.de/diplomarbeit/physik-der-atmoshpaere.html"
      ]
    },
    {
      "cell_type": "markdown",
      "metadata": {
        "id": "S59bbwoy_I_P"
      },
      "source": [
        "**Wettervorhersage**"
      ]
    },
    {
      "cell_type": "markdown",
      "metadata": {
        "id": "bxNFb2DDE0-R"
      },
      "source": [
        "https://lu-glidz.blogspot.com/2016/10/meteomodelle-besser-verstehen.html"
      ]
    },
    {
      "cell_type": "markdown",
      "metadata": {
        "id": "LvNjDi05_Ezj"
      },
      "source": [
        "* Als physikalisches Ereignis lässt sich das Wetter durch entsprechende Naturgesetze beschreiben. Die grundlegende Idee einer Wetterprognose ist es, aus einem bereits vergangenen und dem aktuellen Zustand der Atmosphäre, unter Anwendung der bekannten physikalischen Regeln, einen Zustand in der Zukunft abzuleiten.\n",
        "\n",
        "* Die mathematischen Konstrukte, welche diese physikalischen Regeln beschreiben, sind allerdings sogenannte nichtlineare Gleichungen. Das bedeutet, dass bereits kleine Änderungen im Ausgangszustand zu relativ großen Veränderungen am Ergebnis der Rechnung führen können (siehe auch: Schmetterlingseffekt).\n",
        "\n",
        "* Es wird im Wesentlichen zwischen einer manuellen oder [synoptischen Wettervorhersage](https://de.wikipedia.org/wiki/Synoptische_Meteorologie) und einer numerischen Wettervorhersage unterschieden, wobei heute immer noch eine Kombination beider Verfahren zur Anwendung kommt. Dies hängt damit zusammen, dass auch aktuelle numerische Prognosemodelle unzureichende Ergebnisse liefern. Um die lokale Klimatologie von Wetterstationen zu berücksichtigen, werden heutzutage den numerischen Berechnungen noch statistische Verfahren nachgeschaltet, wie z. B. die MOS-Verfahren Model Output Statistics.\n",
        "\n",
        "* Die Daten über den aktuellen Zustand der Atmosphäre kommen von einem Netz von Bodenmessstationen, die **Windgeschwindigkeit, Temperatur, Luftdruck und Luftfeuchtigkeit sowie Niederschlagsmengen** messen. Zusätzlich werden auch Daten von Radiosonden, Wettersatelliten, Verkehrsflugzeugen und Wetterschiffen verwendet. **Problematisch ist dabei die unregelmäßige Verteilung dieser Beobachtungen und Messungen, sowie die Tatsache**, dass in geringer entwickelten Ländern und über den Ozeanen relativ wenige Messstationen vorhanden sind.\n"
      ]
    },
    {
      "cell_type": "markdown",
      "metadata": {
        "id": "MOdwOPOjAH6S"
      },
      "source": [
        "**Verlässlichkeit der Wetterprognosen**"
      ]
    },
    {
      "cell_type": "markdown",
      "metadata": {
        "id": "yGf9ntpxAEw-"
      },
      "source": [
        "\n",
        "* Heute ist eine Prognose für die kommende Woche ungefähr so zuverlässig, wie sie es vor dreißig Jahren für den nächsten Tag war. Die 24-Stunden-Vorhersage erreicht eine Eintreffgenauigkeit von gut 90 %. Die Treffsicherheit für die kommenden 3 Tage beträgt etwas mehr als 75 %. 2008 war eine Sieben-Tage-Vorhersage besser als die Zwei-Tage-Vorhersage zu Beginn des Computerzeitalters 1968.\n",
        "\n",
        "* Die Zuverlässigkeit schwankt jedoch sehr stark in Abhängigkeit von der Wetterlage. So ist es bei einer stabilen Winterhochdrucklage manchmal problemlos möglich eine Woche mit 90 % Sicherheit zu prognostizieren. Dagegen liegt die Prognosegüte bei einer instabilen Gewitterlage im Sommer oft deutlich unter 70 % für 24 Stunden. Ebenfalls muss man bei der Prognosegüte zwischen Temperatur und Niederschlag unterscheiden. Temperaturen können deutlich genauer als Niederschlag prognostiziert werden.\n",
        "\n",
        "* Mit einer Trefferquote von über 90 Prozent sagt der Deutsche Wetterdienst heute die Temperatur des folgenden Tages voraus, vor 30 Jahren betrug dieser Wert nur gut 70 Prozent; bei der Windgeschwindigkeit sind die Angaben in über 95 Prozent korrekt, bei der Niederschlagsmenge in über 80 Prozent der Fälle.\n",
        "\n",
        "* Siehe auch [History of numerical weather prediction](https://en.wikipedia.org/wiki/History_of_numerical_weather_prediction)"
      ]
    },
    {
      "cell_type": "markdown",
      "metadata": {
        "id": "fuosisT4AhDJ"
      },
      "source": [
        "**Die Theorie der Meteorologie ist zwar durch die [Gasgesetze](https://de.wikipedia.org/wiki/Gasgesetze), die [Thermodynamik](https://de.wikipedia.org/wiki/Thermodynamik) und die [Strömungslehre](https://de.wikipedia.org/wiki/Strömungsmechanik), hier insbesondere der [Fluiddynamik](https://de.wikipedia.org/wiki/Fluiddynamik) und der [Numerischen Strömungsmechanik](https://de.wikipedia.org/wiki/Numerische_Strömungsmechanik), weitgehend geklärt, kann aber durch kleinräumige Effekte von bis zu Kilometer-Dimensionen nicht alle Luftbewegungen mit ausreichender Genauigkeit berechnen.**"
      ]
    },
    {
      "cell_type": "markdown",
      "metadata": {
        "id": "AIb0pAG9ek50"
      },
      "source": [
        "**Numerical Weather Prediction**"
      ]
    },
    {
      "cell_type": "markdown",
      "metadata": {
        "id": "Ju4PQ0SY7ITy"
      },
      "source": [
        "* Numerische Wettervorhersagen (engl. numerical weather predictions, NWPs) sind **rechnergestützte** [Wettervorhersagen](https://de.wikipedia.org/wiki/Wettervorhersage). \n",
        "\n",
        "* Aus dem Zustand der Atmosphäre zu einem gegebenen Anfangszeitpunkt wird durch numerische Lösung der relevanten Gleichungen der Zustand zu späteren Zeiten berechnet: im trockenadiabatischen Fall: \n",
        "  * [Navier-Stokes-Gleichungen](https://de.wikipedia.org/wiki/Navier-Stokes-Gleichungen), \n",
        "  * [thermische Zustandsgleichung idealer Gase](https://de.wikipedia.org/wiki/Thermische_Zustandsgleichung_idealer_Gase), \n",
        "  * [Erster Hauptsatz der Thermodynamik](https://de.wikipedia.org/wiki/Erster_Hauptsatz_der_Thermodynamik), \n",
        "  * [Kontinuitätsgleichung](https://de.wikipedia.org/wiki/Kontinuitätsgleichung),\n",
        "\n",
        "* Und im feuchtdiabatischen Fall weitere Kontinuitätsgleichungen sowie [Strahlungsübertragungsgleichungen](https://de.wikipedia.org/wiki/Strahlungstransport). \n",
        "\n",
        "* Diese Berechnungen umfassen teilweise einen Prognosezeitraum von mehr als 14 Tagen und sind die Basis aller heutigen Wettervorhersagen. Im operationellen Betrieb werden sie zumeist durch statistische Verfahren (s. [Model Output Statistics](https://de.wikipedia.org/wiki/Model_Output_Statistics)) nachbereitet.\n",
        "\n",
        "* In einem solchen numerischen Vorhersagemodell wird das Rechengebiet mit Gitterzellen und/oder durch eine spektrale Darstellung diskretisiert, so dass die relevanten physikalischen Größen im dreidimensionalen Raum und als Funktionen der Zeit dargestellt werden können wie vor allem \n",
        "  * Temperatur, \n",
        "  * Luftdruck, \n",
        "  * Dichte, \n",
        "  * Windrichtung und \n",
        "  * Windgeschwindigkeit.\n",
        "\n",
        "* Die physikalischen Beziehungen, die den Zustand der Atmosphäre und seine Veränderung beschreiben, werden als System partieller Differentialgleichungen modelliert. Dieses [dynamische System](https://de.wikipedia.org/wiki/Dynamisches_System) wird mit Verfahren der Numerik, welche als Computerprogramme implementiert sind, näherungsweise gelöst.\n",
        "\n",
        "* Siehe [Modelle](https://de.wikipedia.org/wiki/Numerische_Wettervorhersage#Modelle)\n"
      ]
    },
    {
      "cell_type": "markdown",
      "metadata": {
        "id": "UWQ8yIxG_uj0"
      },
      "source": [
        "**Meteorologische Grundgleichungen**"
      ]
    },
    {
      "cell_type": "markdown",
      "metadata": {
        "id": "GpvbwXa__sUE"
      },
      "source": [
        "Im Wesentlichen spielen fünf Kenngrößen für die Beschreibung von großräumigen Luftströmungen eine zentrale Rolle: **Die Windgeschwindigkeit, der Luftdruck, die Lufttemperatur, sowie die Luftdichte und ihr Wassergehalt**. Die Gleichungen, welche die genannten Kenngrößen miteinander in Relation bringen, werden meteorologische Grundgleichungen genannt. Bezogen auf eine Volumeneinheit lauten sie wie folgt:"
      ]
    },
    {
      "cell_type": "markdown",
      "metadata": {
        "id": "Vv2YrSvFAAp4"
      },
      "source": [
        "> **Ideale Gasgleichung**: $p=\\rho \\cdot R \\cdot T$\n",
        "\n",
        "Sie stellt eine Vereinfachung der [Van-der-Waals-Gleichung](https://de.wikipedia.org/wiki/Van-der-Waals-Gleichung) dar (eine [Zustandsgleichung](https://de.wikipedia.org/wiki/Zustandsgleichung) für Gase), und beschreibt den linearen Zusammenhang zwischen Druck $p$, Dichte $\\rho$ und Temperatur $T$. $R$ steht für die ideale Gaskonstante. Für eine trockene atmosphärische Zusammensetzung liefert die Gleichung gute Ergebnisse bei geringem Rechenaufwand. Wasserdampf wird gesondert behandelt."
      ]
    },
    {
      "cell_type": "markdown",
      "metadata": {
        "id": "8P80piEcAsPt"
      },
      "source": [
        "> **Kontinuitätsgleichung**: $\\frac{\\mathrm{d} \\rho}{\\mathrm{d} t}=-\\rho \\cdot \\vec{\\nabla} \\cdot \\vec{v}$\n",
        "\n",
        "Die Gleichung impliziert die Massenerhaltung. Der Nettofluss $\\vec{\\nabla} \\cdot \\vec{v}$ (Divergenz durch ein Volumenelement) muss gleich der zeitlichen Dichteänderung sein."
      ]
    },
    {
      "cell_type": "markdown",
      "metadata": {
        "id": "xvg-6N7VA_NY"
      },
      "source": [
        "> **Wasserdampf-Bilanzgleichung**: $\\frac{\\mathrm{d} \\rho_{\\mathrm{w}}}{\\mathrm{d} t}=-\\rho_{\\mathrm{w}} \\cdot \\vec{\\nabla} \\cdot \\vec{v}+\\dot{W}$\n",
        "\n",
        "Die Gleichung liefert die Kontinuitätsgleichung für den Wasserdampf. Sie unterscheidet sich von der Kontinuitätsgleichung insofern, dass es zu Feuchteänderungen durch Phasenübergänge (Niederschlag, Verdunstung) kommen kann."
      ]
    },
    {
      "cell_type": "markdown",
      "metadata": {
        "id": "qoi8O1-0BQfJ"
      },
      "source": [
        "> **Erster Hauptsatz der Thermodynamik**: $\\frac{\\mathrm{d} T}{\\mathrm{~d} t}=\\frac{1}{\\rho \\cdot c_{\\mathrm{p}}} \\cdot \\frac{\\mathrm{d} p}{\\mathrm{~d} t}+\\frac{\\dot{Q}}{c_{\\mathrm{p}}}$\n",
        "\n",
        "Die Gleichung beschreibt den Energieerhaltungssatz der Thermodynamik: Bei konstantem Volumen resultieren Temperaturänderungen entweder aus Druckänderungen oder aus einem Wärmestrom $\\dot{Q}$ (Wärmezufuhr bzw. abfluss). $c_{\\mathrm{p}}$ steht für die spezifische Wärmekapazität eines Gases bei konstantem Druck."
      ]
    },
    {
      "cell_type": "markdown",
      "metadata": {
        "id": "0s63ZfJQB6hr"
      },
      "source": [
        "> **Navier-Stokes-Gleichung**: $\\rho \\cdot \\frac{\\mathrm{d} \\vec{v}}{\\mathrm{~d} t}=-\\vec{\\nabla} p+\\rho \\cdot \\vec{g}_{\\mathrm{s}}-2 \\cdot \\rho \\cdot \\vec{\\Omega} \\times \\vec{v}+\\vec{\\nabla} \\cdot \\vec{P}_{\\mathrm{R}}$\n",
        "\n",
        "Die Gleichung entspricht dem 2 . Newtonschen Axiom $\\vec{F}=\\frac{\\mathrm{d}(m \\cdot \\vec{v})}{\\mathrm{d} t}$ bezogen auf ein festes Volumen: Die Änderung des Geschwindigkeitsvektors $\\vec{v}$, multipliziert mit seiner Dichte, ist gleich der Summe der resultierenden Kräfte (Druckgradient, Schwerebeschleunigung, sowie Einfluss von Coriolis-Kraft und Reibung)."
      ]
    },
    {
      "cell_type": "markdown",
      "metadata": {
        "id": "xFk-LY-MCM_t"
      },
      "source": [
        "Den einzelnen Gleichungen kommen in der Praxis verschiedene Aufgaben zu. Die Navier-Stokes-Gleichung soll Auskunft über die zeitliche Entwicklung von horizontalen wie vertikalen Luftströmungen ergeben. Dazu sind Kenntnisse der Anfangs- und Randbedingungen nötig, die sich aus Modellannahmen, der Diagnose-Gleichung (1) und den übrigen Prognose-Gleichungen (2) bis (4) ergeben."
      ]
    },
    {
      "cell_type": "markdown",
      "metadata": {
        "id": "Ku1eQjvuC5zi"
      },
      "source": [
        "Die Eulersche Gleichung: Zunächst soll die die Atmosphäre als ein ideales Fluid **ohne Reibung $(\\eta=0)$** betrachtet werden. Somit vereinfacht sich die Navier-Stokes-Gleichung zur sogenannten Eulerschen Gleichung:\n",
        "\n",
        "> **Eulersche Gleichung**: $\\rho \\cdot \\frac{\\mathrm{d} \\vec{v}}{\\mathrm{~d} t}=-\\vec{\\nabla} p+\\rho \\cdot \\vec{g}_{s}-2 \\cdot \\rho \\cdot \\vec{\\Omega} \\times \\vec{v}$\n",
        "\n",
        "Die Gleichung wird verständlicher, wenn man sich einige Spezialfälle ansieht. Rest: https://www.grund-wissen.de/diplomarbeit/physik-der-atmoshpaere.html"
      ]
    },
    {
      "cell_type": "markdown",
      "metadata": {
        "id": "zj7kxOcmCw4S"
      },
      "source": [
        "**Methods used**"
      ]
    },
    {
      "cell_type": "markdown",
      "metadata": {
        "id": "j6YjfT8pClpi"
      },
      "source": [
        "* The equations used are nonlinear partial differential equations which are impossible to solve exactly through analytical methods, with the exception of a few idealized cases.\n",
        "\n",
        "* Extremely small errors in temperature, winds, or other initial inputs given to numerical models **will amplify and double every five days.**\n",
        "\n",
        "* Therefore, numerical methods obtain approximate solutions. Different models use different solution methods: some global models and almost all regional models use [finite difference methods](https://en.wikipedia.org/wiki/Finite_difference_method) for all three spatial dimensions, while other global models and a few regional models use [spectral methods](https://en.wikipedia.org/wiki/Spectral_method) for the horizontal dimensions and finite-difference methods in the vertical.\n",
        "\n",
        "* https://en.wikipedia.org/wiki/Flow-following,_finite-volume_Icosahedral_Model\n",
        "\n",
        "* https://en.wikipedia.org/wiki/Ensemble_forecasting\n",
        "\n",
        "* https://en.wikipedia.org/wiki/Model_output_statistics\n",
        "\n",
        "* See also Air quality models, Tropical cyclone models and Ocean models under https://en.wikipedia.org/wiki/History_of_numerical_weather_prediction"
      ]
    },
    {
      "cell_type": "markdown",
      "metadata": {
        "id": "S7cGhgvsCO3A"
      },
      "source": [
        "*Models use systems of differential equations based on the laws of physics, fluid motion, and chemistry, and use a coordinate system which divides the planet into a 3D grid. Winds, heat transfer, radiation, relative humidity, and surface hydrology are calculated within each grid and evaluate interactions with neighboring points.*\n",
        "\n",
        "![jj](https://upload.wikimedia.org/wikipedia/commons/b/b1/Global_Climate_Model.png)"
      ]
    },
    {
      "cell_type": "markdown",
      "metadata": {
        "id": "ZSINydf3-2L6"
      },
      "source": [
        "**Abgrenzung zur Klimamodellierung**"
      ]
    },
    {
      "cell_type": "markdown",
      "metadata": {
        "id": "lk9TwoCG85HM"
      },
      "source": [
        "* https://en.wikipedia.org/wiki/Climate_model\n",
        "\n",
        "* [Klimamodelle](https://de.wikipedia.org/wiki/Klimamodell) haben prinzipiell denselben Aufbau wie Wettervorhersagemodelle (Diskretisierung auf einem Gitter bzw. im Spektralraum, numerische Lösung derselben physikalischen Gleichungen, Parametrisierungen). Es gibt ebenfalls Global- und Ausschnittsmodelle. \n",
        "\n",
        "* **Zeitraum**: Allerdings ist die Vorhersagezielsetzung (mittlerer Zustand der Atmosphäre über Jahreszeiten bis Jahrtausenden (Klima) versus möglichst exakter Zustand der Atmosphäre in den nächsten Stunden bis Tagen (Wetter)). \n",
        "\n",
        "* **Anfangs- vs. Randwertproblem**: In der Wettervorhersage kommt der Kenntnis des Ausgangszustands (**Anfangswertproblem**) mittels [Datenassimilation](https://de.wikipedia.org/wiki/Datenassimilation) bzw. [Data assimilation](https://en.wikipedia.org/wiki/Data_assimilation) eine bedeutende Rolle zu. Die Details einer individuellen Wettersituation verschwinden dagegen durch die zeitliche Mittelung in Klimamodellen. Diese benötigen hingegen eine möglichst genaue Kenntnis und Zukunftsprojektion der Änderung der äußeren Antriebe (**Randwertproblem**) wie Schwankungen in der Solarstrahlung, der Meerestemperatur (deshalb häufige Kopplung mit einem Ozeanmodell) oder der atmosphärischen Zusammensetzung (Aerosole, Treibhausgasemissionen aus natürlichen und künstlichen Quellen), der Bodenbeschaffenheit (Änderung der Vegetation durch Landwirtschaft mit Auswirkungen auf die Strahlung und den Wasserkreislauf) etc."
      ]
    },
    {
      "cell_type": "markdown",
      "metadata": {
        "id": "hQDmV23uEpYw"
      },
      "source": [
        "**weather and environmental monitoring stations**"
      ]
    },
    {
      "cell_type": "markdown",
      "metadata": {
        "id": "qLu4-Mb1EroU"
      },
      "source": [
        "https://en.wikipedia.org/wiki/Mesonet"
      ]
    },
    {
      "cell_type": "markdown",
      "metadata": {
        "id": "_AZw0LJ4EMfT"
      },
      "source": [
        "**Quantitative Precipitation Forecast**"
      ]
    },
    {
      "cell_type": "markdown",
      "metadata": {
        "id": "lZnH8OpvZDWB"
      },
      "source": [
        "*Long-term mean precipitation by month*\n",
        "\n",
        "![ff](https://upload.wikimedia.org/wikipedia/commons/b/b7/Precipitation_longterm_mean.gif)"
      ]
    },
    {
      "cell_type": "markdown",
      "metadata": {
        "id": "C680hiVDEPVl"
      },
      "source": [
        "* [Precipitation](https://en.wikipedia.org/wiki/Precipitation) is any product of the condensation of atmospheric water vapor that falls under gravitational pull from clouds\n",
        "\n",
        "* The [quantitative precipitation forecast](https://en.wikipedia.org/wiki/Quantitative_precipitation_forecast) (abbreviated QPF) is the expected amount of melted precipitation accumulated over a specified time period over a specified area.\n",
        "\n",
        "* Algorithms exist to forecast rainfall based on short term [radar trends](https://en.wikipedia.org/wiki/Weather_radar), within a matter of hours. Radar imagery forecasting techniques show higher skill than model forecasts within 6 to 7 hours of the time of the radar image.\n",
        "\n",
        "* **Exkurs**: Als [Peplosphäre](https://de.wikipedia.org/wiki/Peplosphäre) bzw. [Planetary boundary layer](https://en.wikipedia.org/wiki/Planetary_boundary_layer), planetare Grenzschicht oder atmosphärische Grenzschicht (englisch atmospheric boundary layer) wird der untere Teil der Erdatmosphäre bezeichnet, der an die Erdoberfläche grenzt und insbesondere durch Bodenreibung und Erwärmung turbulenzverursachend im Zeitbereich von Stunden beeinflusst wird. Typischerweise sind dies die untersten 1,5 bis 2 Kilometer in Höhe, abhängig von Wind- und Temperaturverhältnissen. **In dieser Grenzschicht der Atmosphäre liegt der primäre Motor des Wettergeschehens.**"
      ]
    },
    {
      "cell_type": "markdown",
      "metadata": {
        "id": "UyfEDcaKWJKi"
      },
      "source": [
        "Ensemble Forecasting\n",
        "\n",
        "* The detail that can be given into a forecast decreases with time as these errors increase. There becomes a point when the errors are so large that the forecast has no correlation with the actual state of the atmosphere. Looking at a single forecast model gives no indication of how likely that forecast is to be correct.\n",
        "\n",
        "* The uncertainty in the forecast can then be assessed by the range of different forecasts produced. \n",
        "\n",
        "* Ensemble forecasts are increasingly being used for operational weather forecasting (for example at European Centre for Medium-Range Weather Forecasts (ECMWF), National Centers for Environmental Prediction (NCEP), and the Canadian forecasting center)."
      ]
    },
    {
      "cell_type": "markdown",
      "metadata": {
        "id": "z44G4EIaWlCf"
      },
      "source": [
        "Forecasting Verification\n",
        "\n",
        "* Rainfall forecasts can be verified a number of ways. Rain gauge observations can be gridded into areal averages, which are then compared to the grids for the forecast models. Weather radar estimates can be used outright, or corrected for rain gauge observations.\n",
        "\n",
        "* Several statistical scores can be based on the observed and forecast fields. \n",
        "\n",
        "* One, known as a bias, compares the size of the forecast field to the observed field, with the goal of a score of 1. \n",
        "\n",
        "* The threat score involves the intersection of the forecast and observed sets, with a maximum possible verification score of 1. The probability of detection, or POD, is found by dividing the overlap between the forecast and observed fields by the size of the observed field: the goal here is a score of 1. \n",
        "\n",
        "* The critical success index, or CSI, divides the overlap between the forecast and observed fields by the combined size of the forecast and observed fields: the goal here is a score of 1. \n",
        "\n",
        "* The false alarm rate, or FAR, divides the area of the forecast which does not overlap the observed field by the size of the forecasted area. The goal value in this measure is zero."
      ]
    },
    {
      "cell_type": "markdown",
      "metadata": {
        "id": "gYmWELL8q5kN"
      },
      "source": [
        "https://en.m.wikipedia.org/wiki/Probability_of_precipitation"
      ]
    },
    {
      "cell_type": "markdown",
      "metadata": {
        "id": "zdKs_sMTANeK"
      },
      "source": [
        "https://en.wikipedia.org/wiki/Burgers%27_equation"
      ]
    }
  ]
}