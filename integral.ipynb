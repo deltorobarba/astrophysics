{
  "nbformat": 4,
  "nbformat_minor": 0,
  "metadata": {
    "colab": {
      "name": "integral.ipynb",
      "provenance": [],
      "collapsed_sections": [
        "9CK7lhFotFU6",
        "AkGlQfd1yMiD",
        "5cGTdIiSj7T2",
        "0TTjGoOihEYB",
        "Ov6v_nkqxnBn"
      ],
      "include_colab_link": true
    },
    "kernelspec": {
      "name": "python3",
      "display_name": "Python 3"
    }
  },
  "cells": [
    {
      "cell_type": "markdown",
      "metadata": {
        "id": "view-in-github",
        "colab_type": "text"
      },
      "source": [
        "<a href=\"https://colab.research.google.com/github/deltorobarba/machinelearning/blob/master/integral.ipynb\" target=\"_parent\"><img src=\"https://colab.research.google.com/assets/colab-badge.svg\" alt=\"Open In Colab\"/></a>"
      ]
    },
    {
      "cell_type": "markdown",
      "metadata": {
        "id": "HjNmcYpFuFTY"
      },
      "source": [
        "# **Integral Transformations (Fourier, Laplace, Wavelets)**"
      ]
    },
    {
      "cell_type": "code",
      "metadata": {
        "id": "RYViK39mt7Nj"
      },
      "source": [
        "import numpy as np\n",
        "import pandas as pd\n",
        "import seaborn as sns\n",
        "import matplotlib.pyplot as plt"
      ],
      "execution_count": null,
      "outputs": []
    },
    {
      "cell_type": "markdown",
      "metadata": {
        "id": "ED1yBASxixcf"
      },
      "source": [
        "![analysis](https://upload.wikimedia.org/wikipedia/commons/2/20/2FrequenzenPuls.png)"
      ]
    },
    {
      "cell_type": "markdown",
      "metadata": {
        "id": "9CK7lhFotFU6"
      },
      "source": [
        "##### **Uncertainty Principle**"
      ]
    },
    {
      "cell_type": "markdown",
      "metadata": {
        "id": "ii4i3jgAc_VT"
      },
      "source": [
        "https://jeremykun.com/2013/12/30/the-two-dimensional-fourier-transform-and-digital-watermarking/"
      ]
    },
    {
      "cell_type": "markdown",
      "metadata": {
        "id": "68omXsiyr8wB"
      },
      "source": [
        "Einige Integraloperatoren nennt man traditionell eher [Integraltransformationen](https://de.wikipedia.org/wiki/Integraloperator#Integraltransformationen). Sie spielen zum Beispiel in der Signalverarbeitung eine wesentliche Rolle und dienen der besseren Handhabe und Analyse des Informationsgehaltes eines Signals x.\n",
        "\n",
        "  * [Fourier-Transformation](https://de.m.wikipedia.org/wiki/Fourier-Transformation)\n",
        "\n",
        "  * [Laplace-Transformation](https://de.m.wikipedia.org/wiki/Laplace-Transformation)"
      ]
    },
    {
      "cell_type": "markdown",
      "metadata": {
        "id": "a1O3GLIzydbX"
      },
      "source": [
        "Exkurs: siehe [Liste von Transformationen in der Mathematik](https://de.wikipedia.org/wiki/Liste_von_Transformationen_in_der_Mathematik)"
      ]
    },
    {
      "cell_type": "markdown",
      "metadata": {
        "id": "CVio9HDr8sQL"
      },
      "source": [
        "**Integraltransformationen**"
      ]
    },
    {
      "cell_type": "markdown",
      "metadata": {
        "id": "9GbLrP_B1TV7"
      },
      "source": [
        "https://www.youtube.com/watch?v=MBnnXbOM5S4"
      ]
    },
    {
      "cell_type": "markdown",
      "metadata": {
        "id": "Zq2O_fzItHn5"
      },
      "source": [
        "![cc](https://raw.githubusercontent.com/deltorobarba/repo/master/fourier_01.PNG)"
      ]
    },
    {
      "cell_type": "markdown",
      "metadata": {
        "id": "sMbY7VJbtL7P"
      },
      "source": [
        "![cc](https://raw.githubusercontent.com/deltorobarba/repo/master/fourier_02.png)"
      ]
    },
    {
      "cell_type": "markdown",
      "metadata": {
        "id": "zIjxp_eItPpd"
      },
      "source": [
        "* short signal correlate with a wide range of frequencies, and only wide signals correlate with a short range of frequencies (denser probability)\n",
        "\n",
        "* Fourier transform gives a way to view any signal not only in terms of intensity at each point in time, but instead in terms of strengths of various frequencies within it.\n",
        "\n",
        "* Fourier transform: follow the center of mass of the wound-up graph within frequency F, the position of that center of mass encodes the strengths of that frequency in the original signal\n",
        "\n",
        "* the distance between that center of mass and origin captures the strengths of that frequency and the angle of that center of mass (the horizontal / sine-values at y-axes / imaginary numbers) corresponds to the phase of the given frequency.\n",
        "\n",
        "https://blogs.arubanetworks.com/industries/frequency-cycle-wavelength-amplitude-and-phase/"
      ]
    },
    {
      "cell_type": "markdown",
      "metadata": {
        "id": "k7PjHTH-unrj"
      },
      "source": [
        "![cc](https://raw.githubusercontent.com/deltorobarba/repo/master/fourier_04.png)"
      ]
    },
    {
      "cell_type": "markdown",
      "metadata": {
        "id": "aN6vBU4HupqB"
      },
      "source": [
        "* this graph above says that the dominant frequency of this signal is at 5 beats per second.\n",
        "\n",
        "* equally importantly (the graph below) the fact that it's a little spread out around that five is an indication that pure sine waves near 5 beats per second also correlate pretty well with the signal - that is key for the uncertainty principle !!"
      ]
    },
    {
      "cell_type": "markdown",
      "metadata": {
        "id": "oCo8rXxoukot"
      },
      "source": [
        "![cc](https://raw.githubusercontent.com/deltorobarba/repo/master/fourier_03.png)"
      ]
    },
    {
      "cell_type": "markdown",
      "metadata": {
        "id": "PGuAdWQiwmai"
      },
      "source": [
        "* So what happens of we change the length of the signal? The Fourier transform gets sharper / more confident with a sharp drop-off in the magnitude as the frequency shifts away from the 5 beats per second. \n",
        "\n",
        "* a signal concentrated in time must have a spread out Fourier transform meaning it correlates with a wide range of frequencies"
      ]
    },
    {
      "cell_type": "markdown",
      "metadata": {
        "id": "hyhjIsHOwo4z"
      },
      "source": [
        "![cc](https://raw.githubusercontent.com/deltorobarba/repo/master/fourier_05.png)"
      ]
    },
    {
      "cell_type": "markdown",
      "metadata": {
        "id": "UDGSvVS7wpvk"
      },
      "source": [
        "![cc](https://raw.githubusercontent.com/deltorobarba/repo/master/fourier_06.png)"
      ]
    },
    {
      "cell_type": "markdown",
      "metadata": {
        "id": "r5tmZImQx9sE"
      },
      "source": [
        "* For a long period of time, the area under the 5 beats per second is smaller and sharper, because it is more sure about the result of 5 beats per second given many examples.\n",
        "\n",
        "* If on the other hand the signal was localized to a short period of time, the frequency plot corresponds to a much broader peak around the five beats per second"
      ]
    },
    {
      "cell_type": "markdown",
      "metadata": {
        "id": "My8esM3NxNGK"
      },
      "source": [
        "![cc](https://raw.githubusercontent.com/deltorobarba/repo/master/fourier_07.png)"
      ]
    },
    {
      "cell_type": "markdown",
      "metadata": {
        "id": "IYiMzf7mxOJC"
      },
      "source": [
        "![cc](https://raw.githubusercontent.com/deltorobarba/repo/master/fourier_08.png)"
      ]
    },
    {
      "cell_type": "markdown",
      "metadata": {
        "id": "AkGlQfd1yMiD"
      },
      "source": [
        "##### **Fourier Transform**"
      ]
    },
    {
      "cell_type": "markdown",
      "metadata": {
        "id": "1qH-oTUz1Eq4"
      },
      "source": [
        "Fourier transform: thinking of a wave function in time to a wave function over space. Tells us how much various pure frequencies corresponds with the wave in time. "
      ]
    },
    {
      "cell_type": "markdown",
      "metadata": {
        "id": "48e7bXmM1GPG"
      },
      "source": [
        "![cc](https://raw.githubusercontent.com/deltorobarba/repo/master/fourier_09.png)"
      ]
    },
    {
      "cell_type": "markdown",
      "metadata": {
        "id": "jQEjmTC41Iw_"
      },
      "source": [
        "![cc](https://raw.githubusercontent.com/deltorobarba/repo/master/fourier_10.png)"
      ]
    },
    {
      "cell_type": "markdown",
      "metadata": {
        "id": "NF31Jo3g5Bib"
      },
      "source": [
        "> **Fourier** $\\quad X(\\omega)=\\int_{-\\infty}^{\\infty} x(t) e^{-i \\omega t} d t$"
      ]
    },
    {
      "cell_type": "markdown",
      "metadata": {
        "id": "FVZQtqFt4a3P"
      },
      "source": [
        "- Transform signal intensity (y) on time (x) via a circle to detect the center of mass and display in a new coordinate system to show intensity (y) on frequencies (x) with center of mass. \n",
        "- Circle: complex plane, where center of mass has real (y = cosine) and imaginary part (x = sine)\n",
        "- $e^-2 * \\pi * f * t$ (Euler!)\n",
        "    - Minus sign is for clockwise rotation\n",
        "    - Rotate at a rate of one circle per second\n",
        "    - 2 $pie$ describes the full length of its circumsphere\n",
        "    - t is time past\n",
        "    - f is frequency, if it’s 1/10, then the vector makes one full turn every 10 seconds.\n",
        "- Technically: compute the integral \n",
        "- Frequency function is a complex function!\n",
        "https://www.youtube.com/watch?v=spUNpyF58BY \n",
        "- Cosine: reals, sine: complex, but ignored in Fourier (?)  (with area under curve)\n",
        "https://www.youtube.com/watch?v=3gjJDuCAEQQ&t=267s \n",
        "https://de.wikipedia.org/wiki/Frequenzspektrum#Frequenzspektrum_eines_Zeitsignals\n"
      ]
    },
    {
      "cell_type": "markdown",
      "metadata": {
        "id": "6jwn-XLJRW54"
      },
      "source": [
        "In some texts, for a function $f$ on the input range [0,1] , its Fourier series is presented like this:\n",
        "\n",
        "> $\n",
        "f(t)=\\frac{a_{0}}{2}+\\sum_{n=1}^{\\infty}\\left(a_{n} \\cos (n \\cdot 2 \\pi t)+b_{n} \\sin (n \\cdot 2 \\pi t)\\right)\n",
        "$\n",
        "\n",
        "where\n",
        "\n",
        "> $\n",
        "\\begin{aligned}\n",
        "a_{n} &=2 \\int_{0}^{1} f(t) \\cos (n \\cdot 2 \\pi t) d t \\\\\n",
        "b_{n} &=2 \\int_{0}^{1} f(t) \\sin (n \\cdot 2 \\pi t) d t\n",
        "\\end{aligned}\n",
        "$"
      ]
    },
    {
      "cell_type": "markdown",
      "metadata": {
        "id": "bHxkRX5L1ffl"
      },
      "source": [
        "sin ist hier der Integralkern? [siehe hier](https://de.wikipedia.org/wiki/Integraloperator#Integraltransformationen)"
      ]
    },
    {
      "cell_type": "markdown",
      "metadata": {
        "id": "ZrHBjl-kiHAw"
      },
      "source": [
        "[**Fourier-Transformation**](https://de.m.wikipedia.org/wiki/Fourier-Transformation)\n"
      ]
    },
    {
      "cell_type": "markdown",
      "metadata": {
        "id": "uMhGjW8sij-8"
      },
      "source": [
        "![cc](https://raw.githubusercontent.com/deltorobarba/repo/master/fourier_11a.png)"
      ]
    },
    {
      "cell_type": "markdown",
      "metadata": {
        "id": "-Givb-ijikyY"
      },
      "source": [
        "![cc](https://raw.githubusercontent.com/deltorobarba/repo/master/fourier_12a.png)"
      ]
    },
    {
      "cell_type": "markdown",
      "metadata": {
        "id": "zM8K0fsOilll"
      },
      "source": [
        "![cc](https://raw.githubusercontent.com/deltorobarba/repo/master/fourier_13a.png)"
      ]
    },
    {
      "cell_type": "markdown",
      "metadata": {
        "id": "qJjZWIPJimeU"
      },
      "source": [
        "![cc](https://raw.githubusercontent.com/deltorobarba/repo/master/fourier_14a.png)"
      ]
    },
    {
      "cell_type": "markdown",
      "metadata": {
        "id": "lR0iiHD1inZ0"
      },
      "source": [
        "![cc](https://raw.githubusercontent.com/deltorobarba/repo/master/fourier_15a.png)"
      ]
    },
    {
      "cell_type": "markdown",
      "metadata": {
        "id": "0T9BuHXAjCZb"
      },
      "source": [
        "https://www.youtube.com/watch?v=spUNpyF58BY"
      ]
    },
    {
      "cell_type": "markdown",
      "metadata": {
        "id": "g5ICsEoyJMnT"
      },
      "source": [
        "* is a coordinate transform to make something similar\n",
        "* used for representing data and image compression\n",
        "* approximate solutions for partial differential equations\n",
        "* Fourier used it in heat equation\n",
        "* Fourier transform is a coordinate transform to diagonalize the laplacian operator in heat equation. \n",
        "\n",
        "> The laplacian operator has eigenvalues and eigenfunctions like linear operators, **and the eigenfunctions are sines & cosines with a particular frequency** determined by the boundary conditions and the geometry of this object (i.e. a hot plate), and **corresponding eigenvalues are the spatial frequencies**\n",
        "\n",
        "> **Just like x and y axis form basis for vector spaces, sine and cosine form an orthogonal basis for the function space** (of possible functions)\n",
        "\n",
        "* Make heat equation simpler by transforming it into an eigenvector eigenvalue coordinate system \n",
        "* SVD (singular value decomposition) is like a data driven extension of FFT\n",
        "* **approximate a function by a sum of sines and cosines of increasing high frequencies**. Like in heat equation: Sine gives you position, and it's first derivative (steigung der funktion sinus) its cosine and the second derivative is -sin. \n",
        "\n",
        "* **scales down exponentially (very important!)** ([Video Source](https://www.youtube.com/watch?v=ToIXSwZ1pJU)\n",
        "\n",
        "![pp](https://raw.githubusercontent.com/deltorobarba/repo/master/heatequation.png)\n",
        "\n",
        "* **Fast Fourier Transform** is a newer, but very important approach\n",
        "\n",
        "* Fourier transform laid foundation for function spaces, like Hilbert space (pivotal for understanding quantum mechanics)\n"
      ]
    },
    {
      "cell_type": "markdown",
      "metadata": {
        "id": "HA9H0DWwbHTs"
      },
      "source": [
        "https://www.youtube.com/watch?v=spUNpyF58BY"
      ]
    },
    {
      "cell_type": "markdown",
      "metadata": {
        "id": "acZQX8_eJCkI"
      },
      "source": [
        "* Fourier series are linear, means a + b = sum of both\n",
        "\n",
        "* high frequencies decay faster than low frequencies, leaving them longer stay\n",
        "\n",
        "* Infinite sum of rational numbers is an irrational number (like heading towards pie / 4), the infinite sum of wavy continuous functions can equal a discontinuous flat function (like a step function)\n",
        "\n",
        "**Complexity of decomposition as a sum of many rotations entirely captured in this expression:**\n",
        "\n",
        "> $c_{n}=\\int_{0}^{1} e^{-2 \\pi i n t} f(t) d t$\n",
        "\n",
        "**It treats the path like a complex function, and for a certain range of values for n, it computes the integral to find each coefficient c_n You do that via numerical integration.**\n",
        "\n",
        "After computing the values (number fo coefficients) each one determines the initial angle and mangnitude for the little vectors and then you set them all rotating, adding them all tip to tail. The path drawn out by the final tip is some approximation of the original path. As the number of vectors used approaches infinity, it gets more and more accurate. "
      ]
    },
    {
      "cell_type": "markdown",
      "metadata": {
        "id": "2gCZHW1rQxce"
      },
      "source": [
        "> **$c_{n}=\\int_{0}^{1} \\operatorname{step}(t) e^{-n \\cdot 2 \\pi i t} d t=\\int_{0}^{0.5} 1 \\cdot e^{-n \\cdot 2 \\pi i t} d t+\\int_{0.5}^{1}-1 \\cdot e^{-n \\cdot 2 \\pi i t} d t$**\n",
        "\n",
        "**Challenge 1**: Show that $c_{n}=\\frac{2}{n \\pi i}$ for odd $n$ and 0 otherwise\n",
        "\n",
        "**Challenge 2**: Using $\\sin (x)=\\left(e^{i x}-e^{-i x}\\right) / 2 i$, show that\n",
        "\n",
        "$\n",
        "\\operatorname{step}(t)=\\sum_{n=-\\infty}^{\\infty} c_{n} e^{n \\cdot 2 \\pi i t}=\\sum_{n=1,3,5, \\ldots} \\frac{4}{n \\pi} \\sin (n \\cdot 2 \\pi t)\n",
        "$\n",
        "\n",
        "**Challenge 3**: How can you turn this drawing into an expansion with cosines? (Hint: Draw the sine waves over [0.25, 0.75])"
      ]
    },
    {
      "cell_type": "markdown",
      "metadata": {
        "id": "7SNzEh7GIpZd"
      },
      "source": [
        "https://www.youtube.com/watch?v=r6sGWTCMz2k"
      ]
    },
    {
      "cell_type": "markdown",
      "metadata": {
        "id": "Sx5HONkGJTAY"
      },
      "source": [
        "https://www.youtube.com/watch?v=jNC0jxb0OxE&list=PLMrJAkhIeNNT_Xh3Oy0Y4LTj0Oxo8GqsC"
      ]
    },
    {
      "cell_type": "markdown",
      "metadata": {
        "id": "5cGTdIiSj7T2"
      },
      "source": [
        "##### **Laplace Transform**"
      ]
    },
    {
      "cell_type": "markdown",
      "metadata": {
        "id": "RdzChTAr_hrx"
      },
      "source": [
        "https://www.youtube.com/watch?v=n2y7n6jw5d0"
      ]
    },
    {
      "cell_type": "markdown",
      "metadata": {
        "id": "bVBdixfsApic"
      },
      "source": [
        "Difference Fourier (left) & Laplace (right):"
      ]
    },
    {
      "cell_type": "markdown",
      "metadata": {
        "id": "sdDSJdpPAzMK"
      },
      "source": [
        "![cc](https://raw.githubusercontent.com/deltorobarba/repo/master/laplace_04.png)"
      ]
    },
    {
      "cell_type": "markdown",
      "metadata": {
        "id": "G-S4KCYYBIfv"
      },
      "source": [
        "Fourier (right - here it is including the negative numbers side) and Laplace (left):"
      ]
    },
    {
      "cell_type": "markdown",
      "metadata": {
        "id": "7jR3oMqSBLUl"
      },
      "source": [
        "![cc](https://raw.githubusercontent.com/deltorobarba/repo/master/laplace_05.png)"
      ]
    },
    {
      "cell_type": "markdown",
      "metadata": {
        "id": "sqZ8jJzTBlsP"
      },
      "source": [
        "If Alpha is swept through the plane, we get the entire Laplace transform plot"
      ]
    },
    {
      "cell_type": "markdown",
      "metadata": {
        "id": "OeAsqzfRBtB0"
      },
      "source": [
        "![cc](https://raw.githubusercontent.com/deltorobarba/repo/master/laplace_06.png)"
      ]
    },
    {
      "cell_type": "markdown",
      "metadata": {
        "id": "Ts9_HIf3CM5x"
      },
      "source": [
        "Using a third dimension for the magnitudes, it looks like following. This is a Laplace Transform of the original function e<sup>-t</sup>sin*t"
      ]
    },
    {
      "cell_type": "markdown",
      "metadata": {
        "id": "cYcTz1fvCLYj"
      },
      "source": [
        "![cc](https://raw.githubusercontent.com/deltorobarba/repo/master/laplace_07.png)"
      ]
    },
    {
      "cell_type": "markdown",
      "metadata": {
        "id": "vI4elKKKCxEt"
      },
      "source": [
        "Here the original function on left and the Fourier transform as blue slice for a given alpha within the Laplace transform:"
      ]
    },
    {
      "cell_type": "markdown",
      "metadata": {
        "id": "ESrhF_dRCv_E"
      },
      "source": [
        "![cc](https://raw.githubusercontent.com/deltorobarba/repo/master/laplace_08.png)"
      ]
    },
    {
      "cell_type": "markdown",
      "metadata": {
        "id": "0GKh4Zt_DU9t"
      },
      "source": [
        "Alpha equals the zero = the exponential in the Laplace function is just 1, and line yields the Fourier transform of the original function:"
      ]
    },
    {
      "cell_type": "markdown",
      "metadata": {
        "id": "SiSldrXtDk03"
      },
      "source": [
        "![cc](https://raw.githubusercontent.com/deltorobarba/repo/master/laplace_09.png)"
      ]
    },
    {
      "cell_type": "markdown",
      "metadata": {
        "id": "MQ-YQmewDwMH"
      },
      "source": [
        "Here you can see how the Fourier transform is a slice of the Laplace Transform:"
      ]
    },
    {
      "cell_type": "markdown",
      "metadata": {
        "id": "93XFVrktEPRg"
      },
      "source": [
        "![cc](https://raw.githubusercontent.com/deltorobarba/repo/master/laplace_10.png)"
      ]
    },
    {
      "cell_type": "markdown",
      "metadata": {
        "id": "Wk7tYHfYGqvO"
      },
      "source": [
        "If we add all alpha beyond zero, we get the other slices. At the Fourier transform visualization on the right side with the blue slicer within the Laplace visualization. We see how the original function on the left side approaches a sinusoidal curve. Please consider only half of the Fourier slice to see just one large peak instead of two, as used above in Fourier transforms. "
      ]
    },
    {
      "cell_type": "markdown",
      "metadata": {
        "id": "YxgCy5pCG1jy"
      },
      "source": [
        "![cc](https://raw.githubusercontent.com/deltorobarba/repo/master/laplace_11.png)\n",
        "\n"
      ]
    },
    {
      "cell_type": "markdown",
      "metadata": {
        "id": "zDK4yOHIHLyJ"
      },
      "source": [
        "..and reaching a sinusoidal function with the Fourier visualization with infinite spikes (know as [**the poles**](https://de.wikipedia.org/wiki/Polstelle)) of the frequency on the right side:"
      ]
    },
    {
      "cell_type": "markdown",
      "metadata": {
        "id": "VervDhEzHKkP"
      },
      "source": [
        "![cc](https://raw.githubusercontent.com/deltorobarba/repo/master/laplace_12.png)"
      ]
    },
    {
      "cell_type": "markdown",
      "metadata": {
        "id": "AKd5VLq_H945"
      },
      "source": [
        "Visualization of Laplace transform of above function on 2D (without z as third dimension to show height of peaks):"
      ]
    },
    {
      "cell_type": "markdown",
      "metadata": {
        "id": "Oq30FI5WH85n"
      },
      "source": [
        "![cc](https://raw.githubusercontent.com/deltorobarba/repo/master/laplace_13.png)"
      ]
    },
    {
      "cell_type": "markdown",
      "metadata": {
        "id": "XSYPZ7FbDXLX"
      },
      "source": [
        "**Components of Laplace Transform**::"
      ]
    },
    {
      "cell_type": "markdown",
      "metadata": {
        "id": "-JqE7oEBALZV"
      },
      "source": [
        "Sinosoidal component:"
      ]
    },
    {
      "cell_type": "markdown",
      "metadata": {
        "id": "_xF5ZBgK_v6h"
      },
      "source": [
        "![cc](https://raw.githubusercontent.com/deltorobarba/repo/master/laplace_01.png)"
      ]
    },
    {
      "cell_type": "markdown",
      "metadata": {
        "id": "e8jPhrTDAIyQ"
      },
      "source": [
        "Exponential component:"
      ]
    },
    {
      "cell_type": "markdown",
      "metadata": {
        "id": "PzPgSN9g_qIZ"
      },
      "source": [
        "![cc](https://raw.githubusercontent.com/deltorobarba/repo/master/laplace_02.png)"
      ]
    },
    {
      "cell_type": "markdown",
      "metadata": {
        "id": "nMlhvRKeANFw"
      },
      "source": [
        "Combination of both:"
      ]
    },
    {
      "cell_type": "markdown",
      "metadata": {
        "id": "foOftWk3_q7s"
      },
      "source": [
        "![cc](https://raw.githubusercontent.com/deltorobarba/repo/master/laplace_03.png)"
      ]
    },
    {
      "cell_type": "markdown",
      "metadata": {
        "id": "rZDZvdqaj9pt"
      },
      "source": [
        "* shows which sinosoidal AND exponential frequencies are in a signal\n",
        "\n",
        "* a generalized Fourier transform! Fourier transform is just a slice of the Laplace transform\n",
        "\n",
        "* Fourier: input complex, output real. Laplace: Input complex, output complex (??)"
      ]
    },
    {
      "cell_type": "markdown",
      "metadata": {
        "id": "ImhmFbOnmaUS"
      },
      "source": [
        "**Fourier** $\\quad X(\\omega)=\\int_{-\\infty}^{\\infty} x(t) e^{-i \\omega t} d t$\n",
        "\n",
        "**Laplace** $\\quad X(s)=\\int_{0}^{\\infty} x(t) e^{-s t} d t$ \n",
        "\n",
        "with s = ${\\alpha + i \\omega}$"
      ]
    },
    {
      "cell_type": "markdown",
      "metadata": {
        "id": "1gNvynrixNsM"
      },
      "source": [
        "* Use Cases of Laplace transform: PDE to ODE, ODE to algebraic equation, control theory\n",
        "\n",
        "* Following functions cannot be applied Fourier transform: e^lambda t or Heaviside function (because they don’t decay to zero (on y) on both sides to infinity (x)"
      ]
    },
    {
      "cell_type": "markdown",
      "metadata": {
        "id": "ByG6QUb25LL-"
      },
      "source": [
        "Laplace intro:\n",
        "\n",
        "https://www.youtube.com/watch?v=n2y7n6jw5d0&t=848s\n",
        "\n",
        "https://youtu.be/ZGPtPkTft8g?t=356\n",
        "\n",
        "https://www.youtube.com/watch?v=7UvtU75NXTg&list=LL&index=1&t=419s"
      ]
    },
    {
      "cell_type": "markdown",
      "metadata": {
        "id": "pVxJ02zzlNwy"
      },
      "source": [
        "https://www.youtube.com/watch?v=n2y7n6jw5d0"
      ]
    },
    {
      "cell_type": "markdown",
      "metadata": {
        "id": "0TTjGoOihEYB"
      },
      "source": [
        "##### **Z-Transformation**"
      ]
    },
    {
      "cell_type": "markdown",
      "metadata": {
        "id": "mvXAWPfWhHvj"
      },
      "source": [
        "https://de.m.wikipedia.org/wiki/Z-Transformation"
      ]
    },
    {
      "cell_type": "markdown",
      "metadata": {
        "id": "Ov6v_nkqxnBn"
      },
      "source": [
        "##### **Wavelets**"
      ]
    },
    {
      "cell_type": "markdown",
      "metadata": {
        "id": "3Z5kqTCLxos4"
      },
      "source": [
        "https://math.stackexchange.com/questions/279980/difference-between-fourier-transform-and-wavelets"
      ]
    }
  ]
}